{
 "cells": [
  {
   "cell_type": "markdown",
   "id": "efa084bb",
   "metadata": {},
   "source": [
    "# Integro Differential Equations\n",
    "Looking at Schaum, Jerono (2019), we can use the provided PDE for modeling the growth population. This results in the following Equation: \n",
    "$$\n",
    "\\frac{\\partial n(m,t)}{\\partial t} = \n",
    "- \\frac{\\partial}{\\partial m} \\left[ r_g(m, S) \\, n(m, t) \\right] \n",
    "- \\Gamma(m, S) \\, n(m, t) \n",
    "+ 2 \\int_m^{m_{\\text{max}}} \\Gamma(m', S) \\, p(m' \\to m) \\, n(m', t) \\, dm' \n",
    "- D \\, n(m, t)\n",
    "$$\n",
    "$$\n",
    "\\dot{S}(t) = - \\int_0^{m^+} r_{g}(m, S) \\, n(m, t) \\, dm\n",
    "$$\n",
    "Note that when solving numerically, i do not use the chain rule for the derivative with regards to $m$ (even though i probably should...). Simply because it is easier to implement numerically and i enforce the assumption that the growth rate is independent of the cell mass. This assumption might not be accurate, however it simplifies the equation and apparently reduces the computational effort.\n",
    "Therefore we make the approximation : \n",
    "$$\n",
    "\\frac{\\partial}{\\partial m} \\left[ r_g \\, n \\right] \n",
    "\\approx \\frac{(r_g \\, n)_i - (r_g \\, n)_{i-1}}{\\Delta m}\n",
    "$$ \n",
    "\n",
    "Since $n=f(m,t)$ this numerically, we have to discretize the System over the mass-Domain with regards to $$\\Delta m=m_{i}-m_{i-1}$$ and then solve it for small time increments $\\Delta t$. Basically creating a System of ODEs for each incremental Distribution $n_{i}$\n",
    "\n",
    "Now to make this look more \"mathematical\" i introduce :\n",
    "$$\n",
    "\\begin{aligned}\n",
    "& \\Delta m = m_i - m_{i-1}  ,  i  \\epsilon [0,M] \\\\\n",
    "& n_i(t) \\approx n(m_i, t) \\\\\n",
    "& r_{g,i}(S) = r_g(m_i, S) \\\\\n",
    "& \\Gamma_i(S) = \\Gamma(m_i, S) \\\\\n",
    "& p_{k \\to i} \\approx p(m_k \\to m_i)\n",
    "\\end{aligned}\n",
    "$$\n"
   ]
  }
 ],
 "metadata": {
  "language_info": {
   "name": "python"
  }
 },
 "nbformat": 4,
 "nbformat_minor": 5
}
