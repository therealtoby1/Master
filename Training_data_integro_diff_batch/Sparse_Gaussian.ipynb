{
 "cells": [
  {
   "cell_type": "markdown",
   "id": "7a92c320",
   "metadata": {},
   "source": [
    "# Sparse Gaussian Processes\n",
    "While the Gaussian Process is a powerful tool used in Databased modeling, it struggles with large Datasets, as the prediction step requires inverting the Matrix K(x,x), which is $O(n^{3})$. So for cases like the PDE equation that im dealing with, this straightforward approach is no longer feasible. \n",
    "What can be done instead is using so called \"pseudo-inputs\", that are fewer in number than the original Datasets . These inputs are also part of the optimization and they do not necessariliy have to align with the measured datapoints. This [Paper](https://papers.nips.cc/paper_files/paper/2005/hash/4491777b1aa8b5b32c2e8666dbe1a495-Abstract.html) covers the theoretical background. "
   ]
  },
  {
   "cell_type": "code",
   "execution_count": 3,
   "id": "6a31e651",
   "metadata": {},
   "outputs": [],
   "source": [
    "#imports\n",
    "import numpy as np\n",
    "from scipy.integrate import solve_ivp\n",
    "import matplotlib.pyplot as plt\n",
    "import math\n",
    "from functools import partial\n",
    "import pickle\n",
    "import torch\n",
    "import gpytorch\n",
    "import torch.nn as nn\n",
    "from Training_helper import *\n",
    "import pandas as pd\n",
    "%load_ext autoreload\n",
    "%autoreload 2"
   ]
  },
  {
   "cell_type": "markdown",
   "id": "322f0bfb",
   "metadata": {},
   "source": [
    "# Data import"
   ]
  },
  {
   "cell_type": "code",
   "execution_count": 4,
   "id": "6b9596fb",
   "metadata": {},
   "outputs": [],
   "source": [
    "with open(\"Dataset_training_integro_diff_Batch.pkl\", \"rb\") as f:\n",
    "    Dataset = pickle.load(f)\n",
    "\n",
    "\n",
    "first = next(iter(Dataset.values()))\n",
    "M, T = first[\"n\"].shape\n",
    "dim=M+1  # +1 for S\n",
    "t_span=(0,0.1*T)\n",
    "t_eval= torch.linspace(*t_span,T)\n",
    "m=torch.linspace(0,2e-10,M, dtype=torch.float32)\n",
    "delta_m=(m[1]-m[0]).item()\n",
    "m_max=m[-1]\n",
    "\n",
    "n_max = max(torch.tensor(entry[\"n\"], dtype=torch.float32).max() for entry in Dataset.values())\n",
    "S_max = 5   #max possible substrate\n",
    "\n",
    "X_all, Y_all = [], []\n",
    "\n",
    "for entry in Dataset.values():\n",
    "    n = torch.tensor(entry[\"n\"], dtype=torch.float32)  # (M, T)\n",
    "    s = torch.tensor(entry[\"S\"], dtype=torch.float32)  # (T,)\n",
    "\n",
    "    n_norm = n / n_max#torch.log1p(n) / log_n_max                # log scaling\n",
    "    s_norm = s / S_max         \n",
    "\n",
    "    # X_t = [n(t), s(t)]\n",
    "    X = torch.cat([n_norm[:, :-1], s_norm[:-1].unsqueeze(0)], dim=0).T   # shape (T-1, M+1)\n",
    "    # Y_t = [n(t+1), s(t+1)]\n",
    "    Y = torch.cat([n_norm[:, 1:],  s_norm[1:].unsqueeze(0)], dim=0).T    # shape (T-1, M+1)\n",
    "\n",
    "    X_all.append(X)\n",
    "    Y_all.append(Y)\n",
    "\n",
    "# final stacked tensors\n",
    "X_train = torch.cat(X_all, dim=0)  # shape: (total_samples, M+1)\n",
    "Y_train = torch.cat(Y_all, dim=0)  # shape: (total_samples, M+1)\n",
    "\n",
    "\n",
    "#validation set containing 1 dataset used for plotting\n",
    "with open(\"Dataset_validation_integro_diff_Batch_for_plots.pkl\", \"rb\") as f:\n",
    "    Dataset_validation = pickle.load(f)\n",
    "\n",
    "n0 = torch.tensor(Dataset_validation[0][\"n\"][:, 0], dtype=torch.float32)   # (M,)\n",
    "S0 = torch.tensor(Dataset_validation[0][\"initial_substrate\"], dtype=torch.float32)\n",
    "\n",
    "#validation set containing 147 datasets used for error estimation over a broad range of parameters\n",
    "with open(\"Dataset_validation_integro_diff_Batch.pkl\",\"rb\") as f:\n",
    "    Dataset_error_est=pickle.load(f)\n"
   ]
  },
  {
   "cell_type": "markdown",
   "id": "62961ccd",
   "metadata": {},
   "source": [
    "# Building the Multitask GP"
   ]
  },
  {
   "cell_type": "code",
   "execution_count": 6,
   "id": "7c1eaa1f",
   "metadata": {},
   "outputs": [
    {
     "name": "stdout",
     "output_type": "stream",
     "text": [
      "torch.Size([12, 128, 101])\n"
     ]
    }
   ],
   "source": [
    "X = X_train.float()\n",
    "Y = Y_train.float()\n",
    "\n",
    "N, D = X.shape\n",
    "num_tasks = Y.shape[1]\n",
    "\n",
    "# --- Likelihood for multitask regression\n",
    "likelihood = gpytorch.likelihoods.MultitaskGaussianLikelihood(num_tasks=num_tasks)\n",
    "\n",
    "class SparseLMCMultitaskGP(gpytorch.models.ApproximateGP):\n",
    "    def __init__(self, inducing_points, num_tasks: int, num_latents: int = 3):\n",
    "        \"\"\"\n",
    "        inducing_points: (num_latents, M, D)\n",
    "        \"\"\"\n",
    "        # Variational distribution & strategy over inducing points (batched by num_latents)\n",
    "        variational_distribution = gpytorch.variational.CholeskyVariationalDistribution(\n",
    "            inducing_points.size(-2),  # M\n",
    "            batch_shape=torch.Size([inducing_points.size(0)])  # = num_latents\n",
    "        )\n",
    "        base_variational_strategy = gpytorch.variational.VariationalStrategy(\n",
    "            self,\n",
    "            inducing_points,                      # (num_latents, M, D)\n",
    "            variational_distribution,\n",
    "            learn_inducing_locations=True,\n",
    "        )\n",
    "\n",
    "        # Wrap with LMC to mix latents -> tasks\n",
    "        lmc_strategy = gpytorch.variational.LMCVariationalStrategy(\n",
    "            base_variational_strategy,\n",
    "            num_tasks=num_tasks,\n",
    "            num_latents=inducing_points.size(0),  # = num_latents\n",
    "            latent_dim=-1,                        # latents live in the leading batch dim\n",
    "        )\n",
    "        super().__init__(lmc_strategy)\n",
    "\n",
    "        # Mean & kernel must also be batched by num_latents\n",
    "        batch_shape = torch.Size([inducing_points.size(0)])   # = [num_latents]\n",
    "        self.mean_module = gpytorch.means.ConstantMean(batch_shape=batch_shape)\n",
    "        self.covar_module = gpytorch.kernels.ScaleKernel(\n",
    "            gpytorch.kernels.RBFKernel(ard_num_dims=D, batch_shape=batch_shape),\n",
    "            batch_shape=batch_shape\n",
    "        )\n",
    "\n",
    "    def forward(self, x):\n",
    "        # mean_x, covar_x each have batch_shape = [num_latents]\n",
    "        mean_x = self.mean_module(x)\n",
    "        covar_x = self.covar_module(x)\n",
    "        return gpytorch.distributions.MultivariateNormal(mean_x, covar_x)\n",
    "\n",
    "# ----- Inducing points: (num_latents, M, D)\n",
    "num_latents = 12                 # increase if tasks are complex/heterogeneous\n",
    "M = 128                         # inducing points per latent\n",
    "perm = torch.randperm(N)[:M]\n",
    "Z_one = X[perm]                 # (M, D)\n",
    "inducing_points = Z_one.unsqueeze(0).repeat(num_latents, 1, 1)  # (num_latents, M, D)\n",
    "\n",
    "model = SparseLMCMultitaskGP(inducing_points, num_tasks=num_tasks, num_latents=num_latents)\n",
    "print(inducing_points.shape)"
   ]
  },
  {
   "cell_type": "code",
   "execution_count": null,
   "id": "fe0d3fc4",
   "metadata": {},
   "outputs": [],
   "source": [
    "\n",
    "# ----- Training\n",
    "model.train()\n",
    "likelihood.train()\n",
    "\n",
    "# ELBO needs the number of data points, not numel\n",
    "mll = gpytorch.mlls.VariationalELBO(likelihood, model, num_data=N)\n",
    "\n",
    "# optionally use natural gradients for the variational params (often helps)\n",
    "from gpytorch.optim import NGD\n",
    "variational_optimizer = NGD(model.variational_parameters(), num_data=N, lr=0.1)\n",
    "hyper_optimizer = torch.optim.Adam([\n",
    "    {'params': model.hyperparameters()},\n",
    "    {'params': likelihood.parameters()}\n",
    "], lr=0.01)\n",
    "\n",
    "optimizer = torch.optim.Adam([\n",
    "    {'params': model.parameters()},\n",
    "    {'params': likelihood.parameters()}\n",
    "], lr=0.01)\n",
    "\n",
    "training_iter = 1000\n",
    "for i in range(training_iter):\n",
    "    optimizer.zero_grad()\n",
    "    output = model(X)             # MultitaskMultivariateNormal with event_shape (N, num_tasks)\n",
    "    loss = -mll(output, Y)        # Y shape (N, num_tasks)\n",
    "    loss.backward()\n",
    "    if (i + 1) % 25 == 0:\n",
    "        print(f\"Iter {i+1:03d}/{training_iter}  ELBO: {-loss.item():.3f}\")\n",
    "    optimizer.step()\n",
    "\n",
    "# # ----- Prediction (on X itself or X_test)\n",
    "# model.eval()\n",
    "# likelihood.eval()\n",
    "# with torch.no_grad():\n",
    "#     pred = likelihood(model(X))        # MultitaskMultivariateNormal\n",
    "#     mean = pred.mean                   # (N, num_tasks)\n",
    "#     lower, upper = pred.confidence_region()  # each (N, num_tasks)\n",
    "\n",
    "# print(\"mean[0,:5] =\", mean[0, :5])\n",
    "\n"
   ]
  },
  {
   "cell_type": "code",
   "execution_count": 29,
   "id": "a3d1bd37",
   "metadata": {},
   "outputs": [
    {
     "data": {
      "image/png": "[encoded data removed]",
      "text/plain": [
       "<Figure size 640x480 with 1 Axes>"
      ]
     },
     "metadata": {},
     "output_type": "display_data"
    },
    {
     "data": {
      "application/vnd.plotly.v1+json": {
       "config": {
        "plotlyServerURL": "https://plot.ly"
       },
       "data": [
        {
         "line": {
          "cmax": 743052139482090300000,
          "cmin": -14341760292361339000,
          "color": {
           "bdata": "AAAAAKFG9FqXS4tbLATvWxvDNlw1T4NcMHm1XLcw9FwCHCFdO2lRXXN1hl0F76pdhm3XXbm3Bl4AVSdeqIZOXgBkfV6Ikppew5G7Xodt4l42+gdfjoIiX4xGQV9ww2Rf3b2GX8b6nV9XXLhfFSbWX8WZ91/weg5g5zkjYAwjOmAsS1Ngn8FuYJ9HhmCuWpZga5anYJbyuWDlYc1gsdHhYMgp92AqpgZh8AoSYcOuHWGgeilhK1U1YQAjQWEPx0xhDiNYYfEXY2F6hm1hxU93YfAqgGEyPoRhhNSHYRbiimGwXI1h5juPYUx5kGGaEJFhwv+QYQBHkGHT6I5h9emMYTtRimFvJ4dhI3eDYdyYfmFjaXVhnHxrYbfwYGG05FVh1XdKYQbJPmFg9jJhoxwnYdNWG2HZvQ9hOWgEYbvT8mDkp91go2nJYAswtmCpDKRgwguTYJo0g2DIE2lgUxROYJ1gNWAh6B5gFpUKYPCa8F/3589fANKyX8wWmV+pcoJfjENdX7vCOl9M4RxfNCMDXw==",
           "dtype": "f4"
          },
          "colorbar": {
           "title": {
            "text": "n(m, t)"
           }
          },
          "colorscale": [
           [
            0,
            "#440154"
           ],
           [
            0.1111111111111111,
            "#482878"
           ],
           [
            0.2222222222222222,
            "#3e4989"
           ],
           [
            0.3333333333333333,
            "#31688e"
           ],
           [
            0.4444444444444444,
            "#26828e"
           ],
           [
            0.5555555555555556,
            "#1f9e89"
           ],
           [
            0.6666666666666666,
            "#35b779"
           ],
           [
            0.7777777777777778,
            "#6ece58"
           ],
           [
            0.8888888888888888,
            "#b5de2b"
           ],
           [
            1,
            "#fde725"
           ]
          ],
          "showscale": true,
          "width": 4
         },
         "mode": "lines",
         "showlegend": false,
         "type": "scatter3d",
         "x": {
          "bdata": "AAAAALooDiy6KI4sFz3VLLooDi3osjEtFz1VLUbHeC26KI4t0e2fLeiysS0AeMMtFz3VLS4C5y1Gx/gtLkYFLrooDi5GCxcu0e0fLl3QKC7osjEudJU6LgB4Qy6LWkwuFz1VLqMfXi4uAmcuuuRvLkbHeC7p1IAuLkaFLnS3iS66KI4uAJqSLkYLly6LfJsu0e2fLhdfpC5d0Kguo0GtLuiysS4uJLYudJW6LroGvy4AeMMuRunHLotazC7Ry9AuFz3VLl2u2S6hH94u55DiLi0C5y5zc+suuOTvLv5V9C5Ex/guijj9LujUAC+LDQMvLkYFL9B+By90twkvFvALL7ooDi9cYRAv/5kSL6LSFC9FCxcv6EMZL4p8Gy8utR0v0O0fL3QmIi8WXyQvuZcmL1zQKC//CCsvokEtL0V6Ly/osjEvi+szLy4kNi/QXDgvdJU6LxbOPC+5Bj8vXD9BL/93Qy+isEUvRelHL+ghSi+LWkwvLpNOL9DLUC9zBFMvFj1VL7l1Vy9crlkv/+ZbLw==",
          "dtype": "f4"
         },
         "y": {
          "bdata": "AAAAAAAAAAAAAAAAAAAAAAAAAAAAAAAAAAAAAAAAAAAAAAAAAAAAAAAAAAAAAAAAAAAAAAAAAAAAAAAAAAAAAAAAAAAAAAAAAAAAAAAAAAAAAAAAAAAAAAAAAAAAAAAAAAAAAAAAAAAAAAAAAAAAAAAAAAAAAAAAAAAAAAAAAAAAAAAAAAAAAAAAAAAAAAAAAAAAAAAAAAAAAAAAAAAAAAAAAAAAAAAAAAAAAAAAAAAAAAAAAAAAAAAAAAAAAAAAAAAAAAAAAAAAAAAAAAAAAAAAAAAAAAAAAAAAAAAAAAAAAAAAAAAAAAAAAAAAAAAAAAAAAAAAAAAAAAAAAAAAAAAAAAAAAAAAAAAAAAAAAAAAAAAAAAAAAAAAAAAAAAAAAAAAAAAAAAAAAAAAAAAAAAAAAAAAAAAAAAAAAAAAAAAAAAAAAAAAAAAAAAAAAAAAAAAAAAAAAAAAAAAAAAAAAAAAAAAAAAAAAAAAAAAAAAAAAAAAAAAAAAAAAAAAAAAAAAAAAAAAAAAAAAAAAAAAAA==",
          "dtype": "f4"
         },
         "z": {
          "bdata": "AAAAAKFG9FqXS4tbLATvWxvDNlw1T4NcMHm1XLcw9FwCHCFdO2lRXXN1hl0F76pdhm3XXbm3Bl4AVSdeqIZOXgBkfV6Ikppew5G7Xodt4l42+gdfjoIiX4xGQV9ww2Rf3b2GX8b6nV9XXLhfFSbWX8WZ91/weg5g5zkjYAwjOmAsS1Ngn8FuYJ9HhmCuWpZga5anYJbyuWDlYc1gsdHhYMgp92AqpgZh8AoSYcOuHWGgeilhK1U1YQAjQWEPx0xhDiNYYfEXY2F6hm1hxU93YfAqgGEyPoRhhNSHYRbiimGwXI1h5juPYUx5kGGaEJFhwv+QYQBHkGHT6I5h9emMYTtRimFvJ4dhI3eDYdyYfmFjaXVhnHxrYbfwYGG05FVh1XdKYQbJPmFg9jJhoxwnYdNWG2HZvQ9hOWgEYbvT8mDkp91go2nJYAswtmCpDKRgwguTYJo0g2DIE2lgUxROYJ1gNWAh6B5gFpUKYPCa8F/3589fANKyX8wWmV+pcoJfjENdX7vCOl9M4RxfNCMDXw==",
          "dtype": "f4"
         }
        },
        {
         "line": {
          "cmax": 743052139482090300000,
          "cmin": -14341760292361339000,
          "color": {
           "bdata": "2IJtXGWda914w7ve+/zB3vVrzt7E9dXeCIj+3oKgAd+eGg7fqsbJ3jX5nN66Q3xdW81xXok+E1/s8WRfftauXxbF4l8Wgg5gFv4vYL6qTGCR22tgNoiGYEjBmmAJQadgKbW2YPhPvWC/ntNgL2rhYEEV8GDl6fpgqScDYepiCGGN3Axhg2MOYSu9FWE6NBlhbq8dYVo9ImG79yZhfv4qYfnuLmG8TzRh1tg4YfGCPGEzz0NhhDNJYSSZT2HogFVhB2xdYTh6ZGFQT2lha6FwYdnDdmFOEX1hHB2CYa6qhGEpeIdh++WIYYbmiWGPEothUbaLYcQDi2GRvYlhATOJYe+whmH2pYVhnFGCYXUnfWFgEnZhFNJuYYzEZWEOj1xhzClRYe7xR2G2HD5hjek1YR2qKmF76x5hckIVYZHBC2H/FANhEcfyYKYv32D2Ks1gwU+7YNTWqWBZ3ZtgLESMYFR4dWDBHmFgOfFYYM93KmCLGg9gZbr0X3Jj0l+VUaJfeGBaX22FyF75Av9e0wBdXg==",
           "dtype": "f4"
          },
          "colorscale": [
           [
            0,
            "#440154"
           ],
           [
            0.1111111111111111,
            "#482878"
           ],
           [
            0.2222222222222222,
            "#3e4989"
           ],
           [
            0.3333333333333333,
            "#31688e"
           ],
           [
            0.4444444444444444,
            "#26828e"
           ],
           [
            0.5555555555555556,
            "#1f9e89"
           ],
           [
            0.6666666666666666,
            "#35b779"
           ],
           [
            0.7777777777777778,
            "#6ece58"
           ],
           [
            0.8888888888888888,
            "#b5de2b"
           ],
           [
            1,
            "#fde725"
           ]
          ],
          "showscale": false,
          "width": 4
         },
         "mode": "lines",
         "showlegend": false,
         "type": "scatter3d",
         "x": {
          "bdata": "AAAAALooDiy6KI4sFz3VLLooDi3osjEtFz1VLUbHeC26KI4t0e2fLeiysS0AeMMtFz3VLS4C5y1Gx/gtLkYFLrooDi5GCxcu0e0fLl3QKC7osjEudJU6LgB4Qy6LWkwuFz1VLqMfXi4uAmcuuuRvLkbHeC7p1IAuLkaFLnS3iS66KI4uAJqSLkYLly6LfJsu0e2fLhdfpC5d0Kguo0GtLuiysS4uJLYudJW6LroGvy4AeMMuRunHLotazC7Ry9AuFz3VLl2u2S6hH94u55DiLi0C5y5zc+suuOTvLv5V9C5Ex/guijj9LujUAC+LDQMvLkYFL9B+By90twkvFvALL7ooDi9cYRAv/5kSL6LSFC9FCxcv6EMZL4p8Gy8utR0v0O0fL3QmIi8WXyQvuZcmL1zQKC//CCsvokEtL0V6Ly/osjEvi+szLy4kNi/QXDgvdJU6LxbOPC+5Bj8vXD9BL/93Qy+isEUvRelHL+ghSi+LWkwvLpNOL9DLUC9zBFMvFj1VL7l1Vy9crlkv/+ZbLw==",
          "dtype": "f4"
         },
         "y": {
          "bdata": "Yt5OPmLeTj5i3k4+Yt5OPmLeTj5i3k4+Yt5OPmLeTj5i3k4+Yt5OPmLeTj5i3k4+Yt5OPmLeTj5i3k4+Yt5OPmLeTj5i3k4+Yt5OPmLeTj5i3k4+Yt5OPmLeTj5i3k4+Yt5OPmLeTj5i3k4+Yt5OPmLeTj5i3k4+Yt5OPmLeTj5i3k4+Yt5OPmLeTj5i3k4+Yt5OPmLeTj5i3k4+Yt5OPmLeTj5i3k4+Yt5OPmLeTj5i3k4+Yt5OPmLeTj5i3k4+Yt5OPmLeTj5i3k4+Yt5OPmLeTj5i3k4+Yt5OPmLeTj5i3k4+Yt5OPmLeTj5i3k4+Yt5OPmLeTj5i3k4+Yt5OPmLeTj5i3k4+Yt5OPmLeTj5i3k4+Yt5OPmLeTj5i3k4+Yt5OPmLeTj5i3k4+Yt5OPmLeTj5i3k4+Yt5OPmLeTj5i3k4+Yt5OPmLeTj5i3k4+Yt5OPmLeTj5i3k4+Yt5OPmLeTj5i3k4+Yt5OPmLeTj5i3k4+Yt5OPmLeTj5i3k4+Yt5OPmLeTj5i3k4+Yt5OPg==",
          "dtype": "f4"
         },
         "z": {
          "bdata": "2IJtXGWda914w7ve+/zB3vVrzt7E9dXeCIj+3oKgAd+eGg7fqsbJ3jX5nN66Q3xdW81xXok+E1/s8WRfftauXxbF4l8Wgg5gFv4vYL6qTGCR22tgNoiGYEjBmmAJQadgKbW2YPhPvWC/ntNgL2rhYEEV8GDl6fpgqScDYepiCGGN3Axhg2MOYSu9FWE6NBlhbq8dYVo9ImG79yZhfv4qYfnuLmG8TzRh1tg4YfGCPGEzz0NhhDNJYSSZT2HogFVhB2xdYTh6ZGFQT2lha6FwYdnDdmFOEX1hHB2CYa6qhGEpeIdh++WIYYbmiWGPEothUbaLYcQDi2GRvYlhATOJYe+whmH2pYVhnFGCYXUnfWFgEnZhFNJuYYzEZWEOj1xhzClRYe7xR2G2HD5hjek1YR2qKmF76x5hckIVYZHBC2H/FANhEcfyYKYv32D2Ks1gwU+7YNTWqWBZ3ZtgLESMYFR4dWDBHmFgOfFYYM93KmCLGg9gZbr0X3Jj0l+VUaJfeGBaX22FyF75Av9e0wBdXg==",
          "dtype": "f4"
         }
        },
        {
         "line": {
          "cmax": 743052139482090300000,
          "cmin": -14341760292361339000,
          "color": {
           "bdata": "VlwsXYfFcd0js47eHgp+3iTDXN7OtPHdNogG3lieidzG7Z/b1GufXjHjCV/sKodfU52xX8l18V8kYxdgKmBBYOzNZ2DtKYhgBrWcYDUss2ACFMlgRlXfYMUU+2AAlQZhf2IRYQyFHWF0JyZhg8YvYZc5OmGuo0FhAJ1JYTZ/UGFFbVZhTgFaYcReYGGJo2NhS2pnYW2kamG9pG1hED9wYbo7cGGGZ3JhXvJyYa9HcmG2wnRhzm52YbUqeGH7ZXlh3AN9Yfkrf2EM2H9hzjOBYcxugmFHnoNhHoSFYXiVhmEIPYhh86qIYV7JiGHQZolh3KSJYSRLiGEe+odhpzaHYQr4hGHlaIRhmoWBYT/qe2FixXZhNixxYTo0aWGtWmFhutVYYT0IUGGb50ZhHxFAYSQhOWGd3ythoewiYYnzGWG4iBFhcNIIYXtV/mAQ1+xgWzTaYBwDyGAC77hgLAqqYBMnlWD86Ihgc9mBYCHLU2BfMTVgj08dYNinB2DI489fKZKaX3DtvV4nzCZf0FCNXg==",
           "dtype": "f4"
          },
          "colorscale": [
           [
            0,
            "#440154"
           ],
           [
            0.1111111111111111,
            "#482878"
           ],
           [
            0.2222222222222222,
            "#3e4989"
           ],
           [
            0.3333333333333333,
            "#31688e"
           ],
           [
            0.4444444444444444,
            "#26828e"
           ],
           [
            0.5555555555555556,
            "#1f9e89"
           ],
           [
            0.6666666666666666,
            "#35b779"
           ],
           [
            0.7777777777777778,
            "#6ece58"
           ],
           [
            0.8888888888888888,
            "#b5de2b"
           ],
           [
            1,
            "#fde725"
           ]
          ],
          "showscale": false,
          "width": 4
         },
         "mode": "lines",
         "showlegend": false,
         "type": "scatter3d",
         "x": {
          "bdata": "AAAAALooDiy6KI4sFz3VLLooDi3osjEtFz1VLUbHeC26KI4t0e2fLeiysS0AeMMtFz3VLS4C5y1Gx/gtLkYFLrooDi5GCxcu0e0fLl3QKC7osjEudJU6LgB4Qy6LWkwuFz1VLqMfXi4uAmcuuuRvLkbHeC7p1IAuLkaFLnS3iS66KI4uAJqSLkYLly6LfJsu0e2fLhdfpC5d0Kguo0GtLuiysS4uJLYudJW6LroGvy4AeMMuRunHLotazC7Ry9AuFz3VLl2u2S6hH94u55DiLi0C5y5zc+suuOTvLv5V9C5Ex/guijj9LujUAC+LDQMvLkYFL9B+By90twkvFvALL7ooDi9cYRAv/5kSL6LSFC9FCxcv6EMZL4p8Gy8utR0v0O0fL3QmIi8WXyQvuZcmL1zQKC//CCsvokEtL0V6Ly/osjEvi+szLy4kNi/QXDgvdJU6LxbOPC+5Bj8vXD9BL/93Qy+isEUvRelHL+ghSi+LWkwvLpNOL9DLUC9zBFMvFj1VL7l1Vy9crlkv/+ZbLw==",
          "dtype": "f4"
         },
         "y": {
          "bdata": "Yt7OPmLezj5i3s4+Yt7OPmLezj5i3s4+Yt7OPmLezj5i3s4+Yt7OPmLezj5i3s4+Yt7OPmLezj5i3s4+Yt7OPmLezj5i3s4+Yt7OPmLezj5i3s4+Yt7OPmLezj5i3s4+Yt7OPmLezj5i3s4+Yt7OPmLezj5i3s4+Yt7OPmLezj5i3s4+Yt7OPmLezj5i3s4+Yt7OPmLezj5i3s4+Yt7OPmLezj5i3s4+Yt7OPmLezj5i3s4+Yt7OPmLezj5i3s4+Yt7OPmLezj5i3s4+Yt7OPmLezj5i3s4+Yt7OPmLezj5i3s4+Yt7OPmLezj5i3s4+Yt7OPmLezj5i3s4+Yt7OPmLezj5i3s4+Yt7OPmLezj5i3s4+Yt7OPmLezj5i3s4+Yt7OPmLezj5i3s4+Yt7OPmLezj5i3s4+Yt7OPmLezj5i3s4+Yt7OPmLezj5i3s4+Yt7OPmLezj5i3s4+Yt7OPmLezj5i3s4+Yt7OPmLezj5i3s4+Yt7OPmLezj5i3s4+Yt7OPmLezj5i3s4+Yt7OPg==",
          "dtype": "f4"
         },
         "z": {
          "bdata": "VlwsXYfFcd0js47eHgp+3iTDXN7OtPHdNogG3lieidzG7Z/b1GufXjHjCV/sKodfU52xX8l18V8kYxdgKmBBYOzNZ2DtKYhgBrWcYDUss2ACFMlgRlXfYMUU+2AAlQZhf2IRYQyFHWF0JyZhg8YvYZc5OmGuo0FhAJ1JYTZ/UGFFbVZhTgFaYcReYGGJo2NhS2pnYW2kamG9pG1hED9wYbo7cGGGZ3JhXvJyYa9HcmG2wnRhzm52YbUqeGH7ZXlh3AN9Yfkrf2EM2H9hzjOBYcxugmFHnoNhHoSFYXiVhmEIPYhh86qIYV7JiGHQZolh3KSJYSRLiGEe+odhpzaHYQr4hGHlaIRhmoWBYT/qe2FixXZhNixxYTo0aWGtWmFhutVYYT0IUGGb50ZhHxFAYSQhOWGd3ythoewiYYnzGWG4iBFhcNIIYXtV/mAQ1+xgWzTaYBwDyGAC77hgLAqqYBMnlWD86Ihgc9mBYCHLU2BfMTVgj08dYNinB2DI489fKZKaX3DtvV4nzCZf0FCNXg==",
          "dtype": "f4"
         }
        },
        {
         "line": {
          "cmax": 743052139482090300000,
          "cmin": -14341760292361339000,
          "color": {
           "bdata": "1emLXT+odt0suT/eLMwE3uppI91bNxReYCpJXvxh1F5mMPReRSJwX3hPp19suPlfLiocYHgPRWBBZ25gc6mQYLOmqWAFO8NgWOLbYKTK+GAsJwph7dgXYVstKGHnMTRhIZVBYWt2UmGHmlth6oBnYQc1dGFHwX1h8diDYQAliGGC4IthXJ2OYX/dkWGe7ZNhDOiVYcB1l2FbvJhhpsSZYY4hmWFMcZlh5MCYYb2Rl2EMSZdhjvGWYbNMlmFiZpVh14WVYZ2qlGH3ipNhPNqSYZ9rkmFwwpFhvceRYXwykWGcFZFhnDWQYccIj2HiY45hlH6NYQAwi2ESi4phUN2IYQQ/hmFJF4VhXjCCYW8JfWFmMHhhWt1yYdVXa2HYFGRh1s9cYQDCVGEDJkxh8SNGYWrHQGF7QTRhREMsYau/I2HCwRthHPYTYdHPCmFsYQJhIGHyYCzs32CSUdBgmmnBYCQ0q2A1UZ1gU7qTYKS7d2BVWFdghU89YPIQI2DPn/hf6jzEX1wUB1/atkpfaCumXg==",
           "dtype": "f4"
          },
          "colorscale": [
           [
            0,
            "#440154"
           ],
           [
            0.1111111111111111,
            "#482878"
           ],
           [
            0.2222222222222222,
            "#3e4989"
           ],
           [
            0.3333333333333333,
            "#31688e"
           ],
           [
            0.4444444444444444,
            "#26828e"
           ],
           [
            0.5555555555555556,
            "#1f9e89"
           ],
           [
            0.6666666666666666,
            "#35b779"
           ],
           [
            0.7777777777777778,
            "#6ece58"
           ],
           [
            0.8888888888888888,
            "#b5de2b"
           ],
           [
            1,
            "#fde725"
           ]
          ],
          "showscale": false,
          "width": 4
         },
         "mode": "lines",
         "showlegend": false,
         "type": "scatter3d",
         "x": {
          "bdata": "AAAAALooDiy6KI4sFz3VLLooDi3osjEtFz1VLUbHeC26KI4t0e2fLeiysS0AeMMtFz3VLS4C5y1Gx/gtLkYFLrooDi5GCxcu0e0fLl3QKC7osjEudJU6LgB4Qy6LWkwuFz1VLqMfXi4uAmcuuuRvLkbHeC7p1IAuLkaFLnS3iS66KI4uAJqSLkYLly6LfJsu0e2fLhdfpC5d0Kguo0GtLuiysS4uJLYudJW6LroGvy4AeMMuRunHLotazC7Ry9AuFz3VLl2u2S6hH94u55DiLi0C5y5zc+suuOTvLv5V9C5Ex/guijj9LujUAC+LDQMvLkYFL9B+By90twkvFvALL7ooDi9cYRAv/5kSL6LSFC9FCxcv6EMZL4p8Gy8utR0v0O0fL3QmIi8WXyQvuZcmL1zQKC//CCsvokEtL0V6Ly/osjEvi+szLy4kNi/QXDgvdJU6LxbOPC+5Bj8vXD9BL/93Qy+isEUvRelHL+ghSi+LWkwvLpNOL9DLUC9zBFMvFj1VL7l1Vy9crlkv/+ZbLw==",
          "dtype": "f4"
         },
         "y": {
          "bdata": "yiYbP8omGz/KJhs/yiYbP8omGz/KJhs/yiYbP8omGz/KJhs/yiYbP8omGz/KJhs/yiYbP8omGz/KJhs/yiYbP8omGz/KJhs/yiYbP8omGz/KJhs/yiYbP8omGz/KJhs/yiYbP8omGz/KJhs/yiYbP8omGz/KJhs/yiYbP8omGz/KJhs/yiYbP8omGz/KJhs/yiYbP8omGz/KJhs/yiYbP8omGz/KJhs/yiYbP8omGz/KJhs/yiYbP8omGz/KJhs/yiYbP8omGz/KJhs/yiYbP8omGz/KJhs/yiYbP8omGz/KJhs/yiYbP8omGz/KJhs/yiYbP8omGz/KJhs/yiYbP8omGz/KJhs/yiYbP8omGz/KJhs/yiYbP8omGz/KJhs/yiYbP8omGz/KJhs/yiYbP8omGz/KJhs/yiYbP8omGz/KJhs/yiYbP8omGz/KJhs/yiYbP8omGz/KJhs/yiYbP8omGz/KJhs/yiYbP8omGz/KJhs/yiYbP8omGz/KJhs/yiYbP8omGz/KJhs/yiYbPw==",
          "dtype": "f4"
         },
         "z": {
          "bdata": "1emLXT+odt0suT/eLMwE3uppI91bNxReYCpJXvxh1F5mMPReRSJwX3hPp19suPlfLiocYHgPRWBBZ25gc6mQYLOmqWAFO8NgWOLbYKTK+GAsJwph7dgXYVstKGHnMTRhIZVBYWt2UmGHmlth6oBnYQc1dGFHwX1h8diDYQAliGGC4IthXJ2OYX/dkWGe7ZNhDOiVYcB1l2FbvJhhpsSZYY4hmWFMcZlh5MCYYb2Rl2EMSZdhjvGWYbNMlmFiZpVh14WVYZ2qlGH3ipNhPNqSYZ9rkmFwwpFhvceRYXwykWGcFZFhnDWQYccIj2HiY45hlH6NYQAwi2ESi4phUN2IYQQ/hmFJF4VhXjCCYW8JfWFmMHhhWt1yYdVXa2HYFGRh1s9cYQDCVGEDJkxh8SNGYWrHQGF7QTRhREMsYau/I2HCwRthHPYTYdHPCmFsYQJhIGHyYCzs32CSUdBgmmnBYCQ0q2A1UZ1gU7qTYKS7d2BVWFdghU89YPIQI2DPn/hf6jzEX1wUB1/atkpfaCumXg==",
          "dtype": "f4"
         }
        },
        {
         "line": {
          "cmax": 743052139482090300000,
          "cmin": -14341760292361339000,
          "color": {
           "bdata": "D8i5XdiPgN0FQ+ndYAYR3XRR2l03JbVe0hbtXvo2Q18KzFxf5Km5X8Cl+V8xtSxgW1JVYMXpgmBPYJxgd1O5YGVY12D0nvVgiB4JYWUXGmFHPyph3So6YU8aTGGT6FphNWpqYc8CfWGlXoRhlUKLYWRnkmEpOphhpwieYW8ko2ENnadhtTKrYazPrmH9hrFh6s+zYZ2atWFAALdhqQe4YT59t2HXgbdhEH62YXsntWG/+bNhOviyYaRosWE7lK9h43euYfdBrGGLL6phUAGoYU1ApmE6HaRhmm6iYQpnoGGWjJ5h2mecYWT4mWFd55dhjK6VYUNEkmF815Bh4wCOYZi8imHza4hhmkCFYZpIgWES8Hxhoux2YRVAb2EZ3mdhFJZgYW0qWWFhl1BhxslKYfIkRWGYMDpht+YyYUKMKmE6xCJh+48bYdfmEmHPqAph7bYBYYjM8GD43eBgioHRYH81u2CKAaxguzOgYKk5iWCkcnFgVixWYBn0N2DwjAtgV/XkX1BcP19oYGdfBSu2Xg==",
           "dtype": "f4"
          },
          "colorscale": [
           [
            0,
            "#440154"
           ],
           [
            0.1111111111111111,
            "#482878"
           ],
           [
            0.2222222222222222,
            "#3e4989"
           ],
           [
            0.3333333333333333,
            "#31688e"
           ],
           [
            0.4444444444444444,
            "#26828e"
           ],
           [
            0.5555555555555556,
            "#1f9e89"
           ],
           [
            0.6666666666666666,
            "#35b779"
           ],
           [
            0.7777777777777778,
            "#6ece58"
           ],
           [
            0.8888888888888888,
            "#b5de2b"
           ],
           [
            1,
            "#fde725"
           ]
          ],
          "showscale": false,
          "width": 4
         },
         "mode": "lines",
         "showlegend": false,
         "type": "scatter3d",
         "x": {
          "bdata": "AAAAALooDiy6KI4sFz3VLLooDi3osjEtFz1VLUbHeC26KI4t0e2fLeiysS0AeMMtFz3VLS4C5y1Gx/gtLkYFLrooDi5GCxcu0e0fLl3QKC7osjEudJU6LgB4Qy6LWkwuFz1VLqMfXi4uAmcuuuRvLkbHeC7p1IAuLkaFLnS3iS66KI4uAJqSLkYLly6LfJsu0e2fLhdfpC5d0Kguo0GtLuiysS4uJLYudJW6LroGvy4AeMMuRunHLotazC7Ry9AuFz3VLl2u2S6hH94u55DiLi0C5y5zc+suuOTvLv5V9C5Ex/guijj9LujUAC+LDQMvLkYFL9B+By90twkvFvALL7ooDi9cYRAv/5kSL6LSFC9FCxcv6EMZL4p8Gy8utR0v0O0fL3QmIi8WXyQvuZcmL1zQKC//CCsvokEtL0V6Ly/osjEvi+szLy4kNi/QXDgvdJU6LxbOPC+5Bj8vXD9BL/93Qy+isEUvRelHL+ghSi+LWkwvLpNOL9DLUC9zBFMvFj1VL7l1Vy9crlkv/+ZbLw==",
          "dtype": "f4"
         },
         "y": {
          "bdata": "Yt5OP2LeTj9i3k4/Yt5OP2LeTj9i3k4/Yt5OP2LeTj9i3k4/Yt5OP2LeTj9i3k4/Yt5OP2LeTj9i3k4/Yt5OP2LeTj9i3k4/Yt5OP2LeTj9i3k4/Yt5OP2LeTj9i3k4/Yt5OP2LeTj9i3k4/Yt5OP2LeTj9i3k4/Yt5OP2LeTj9i3k4/Yt5OP2LeTj9i3k4/Yt5OP2LeTj9i3k4/Yt5OP2LeTj9i3k4/Yt5OP2LeTj9i3k4/Yt5OP2LeTj9i3k4/Yt5OP2LeTj9i3k4/Yt5OP2LeTj9i3k4/Yt5OP2LeTj9i3k4/Yt5OP2LeTj9i3k4/Yt5OP2LeTj9i3k4/Yt5OP2LeTj9i3k4/Yt5OP2LeTj9i3k4/Yt5OP2LeTj9i3k4/Yt5OP2LeTj9i3k4/Yt5OP2LeTj9i3k4/Yt5OP2LeTj9i3k4/Yt5OP2LeTj9i3k4/Yt5OP2LeTj9i3k4/Yt5OP2LeTj9i3k4/Yt5OP2LeTj9i3k4/Yt5OP2LeTj9i3k4/Yt5OP2LeTj9i3k4/Yt5OPw==",
          "dtype": "f4"
         },
         "z": {
          "bdata": "D8i5XdiPgN0FQ+ndYAYR3XRR2l03JbVe0hbtXvo2Q18KzFxf5Km5X8Cl+V8xtSxgW1JVYMXpgmBPYJxgd1O5YGVY12D0nvVgiB4JYWUXGmFHPyph3So6YU8aTGGT6FphNWpqYc8CfWGlXoRhlUKLYWRnkmEpOphhpwieYW8ko2ENnadhtTKrYazPrmH9hrFh6s+zYZ2atWFAALdhqQe4YT59t2HXgbdhEH62YXsntWG/+bNhOviyYaRosWE7lK9h43euYfdBrGGLL6phUAGoYU1ApmE6HaRhmm6iYQpnoGGWjJ5h2mecYWT4mWFd55dhjK6VYUNEkmF815Bh4wCOYZi8imHza4hhmkCFYZpIgWES8Hxhoux2YRVAb2EZ3mdhFJZgYW0qWWFhl1BhxslKYfIkRWGYMDpht+YyYUKMKmE6xCJh+48bYdfmEmHPqAph7bYBYYjM8GD43eBgioHRYH81u2CKAaxguzOgYKk5iWCkcnFgVixWYBn0N2DwjAtgV/XkX1BcP19oYGdfBSu2Xg==",
          "dtype": "f4"
         }
        },
        {
         "line": {
          "cmax": 743052139482090300000,
          "cmin": -14341760292361339000,
          "color": {
           "bdata": "kbHdXbQtit3VII3db/4EXebKX16U2QFfSKkpX6bFgl9wtJJfvy/rX+2hHGDMr1Fg8QuBYDNXnGAVfrlgODLZYI07+2D/pw5h0qYeYRCDMWG9k0Nh+kJVYYdUaGGLXHlhl0KFYe6qjmECHZZhR8GdYf9wpWFIOKxhIbyyYeyRuGEuub1hIhzCYfsrxmG0kclhvUfMYR1wzmHeJdBh8lDRYdQ80WH/OdFhF0vQYaARz2H/es1hjjHMYT8kymG+ycdh6trFYbLVwmFnJcBhN+28YTwyumGaArdh/PSzYQPRsGEdma1hDFeqYTvdpmFeg6NhdhegYW6Lm2FVV5lh6myVYWt8kWHa6I1hS1uKYfgBhmGckoJhuP19YcbNdWE33W1hPPFlYafQXmEe11VhHb9PYRwOSWF9gj9hq3Q4YeL8L2F3DChhaw8hYXWoGGFdahBhKJAHYawu/GCZ0+tg58bbYPrcxWDKgLVgmXSnYK8YkmABm4FgFjlnYL/rRWBhTxVg9Nz7X8S8dl+MU3xfaMS+Xg==",
           "dtype": "f4"
          },
          "colorscale": [
           [
            0,
            "#440154"
           ],
           [
            0.1111111111111111,
            "#482878"
           ],
           [
            0.2222222222222222,
            "#3e4989"
           ],
           [
            0.3333333333333333,
            "#31688e"
           ],
           [
            0.4444444444444444,
            "#26828e"
           ],
           [
            0.5555555555555556,
            "#1f9e89"
           ],
           [
            0.6666666666666666,
            "#35b779"
           ],
           [
            0.7777777777777778,
            "#6ece58"
           ],
           [
            0.8888888888888888,
            "#b5de2b"
           ],
           [
            1,
            "#fde725"
           ]
          ],
          "showscale": false,
          "width": 4
         },
         "mode": "lines",
         "showlegend": false,
         "type": "scatter3d",
         "x": {
          "bdata": "AAAAALooDiy6KI4sFz3VLLooDi3osjEtFz1VLUbHeC26KI4t0e2fLeiysS0AeMMtFz3VLS4C5y1Gx/gtLkYFLrooDi5GCxcu0e0fLl3QKC7osjEudJU6LgB4Qy6LWkwuFz1VLqMfXi4uAmcuuuRvLkbHeC7p1IAuLkaFLnS3iS66KI4uAJqSLkYLly6LfJsu0e2fLhdfpC5d0Kguo0GtLuiysS4uJLYudJW6LroGvy4AeMMuRunHLotazC7Ry9AuFz3VLl2u2S6hH94u55DiLi0C5y5zc+suuOTvLv5V9C5Ex/guijj9LujUAC+LDQMvLkYFL9B+By90twkvFvALL7ooDi9cYRAv/5kSL6LSFC9FCxcv6EMZL4p8Gy8utR0v0O0fL3QmIi8WXyQvuZcmL1zQKC//CCsvokEtL0V6Ly/osjEvi+szLy4kNi/QXDgvdJU6LxbOPC+5Bj8vXD9BL/93Qy+isEUvRelHL+ghSi+LWkwvLpNOL9DLUC9zBFMvFj1VL7l1Vy9crlkv/+ZbLw==",
          "dtype": "f4"
         },
         "y": {
          "bdata": "/UqBP/1KgT/9SoE//UqBP/1KgT/9SoE//UqBP/1KgT/9SoE//UqBP/1KgT/9SoE//UqBP/1KgT/9SoE//UqBP/1KgT/9SoE//UqBP/1KgT/9SoE//UqBP/1KgT/9SoE//UqBP/1KgT/9SoE//UqBP/1KgT/9SoE//UqBP/1KgT/9SoE//UqBP/1KgT/9SoE//UqBP/1KgT/9SoE//UqBP/1KgT/9SoE//UqBP/1KgT/9SoE//UqBP/1KgT/9SoE//UqBP/1KgT/9SoE//UqBP/1KgT/9SoE//UqBP/1KgT/9SoE//UqBP/1KgT/9SoE//UqBP/1KgT/9SoE//UqBP/1KgT/9SoE//UqBP/1KgT/9SoE//UqBP/1KgT/9SoE//UqBP/1KgT/9SoE//UqBP/1KgT/9SoE//UqBP/1KgT/9SoE//UqBP/1KgT/9SoE//UqBP/1KgT/9SoE//UqBP/1KgT/9SoE//UqBP/1KgT/9SoE//UqBP/1KgT/9SoE//UqBP/1KgT/9SoE//UqBPw==",
          "dtype": "f4"
         },
         "z": {
          "bdata": "kbHdXbQtit3VII3db/4EXebKX16U2QFfSKkpX6bFgl9wtJJfvy/rX+2hHGDMr1Fg8QuBYDNXnGAVfrlgODLZYI07+2D/pw5h0qYeYRCDMWG9k0Nh+kJVYYdUaGGLXHlhl0KFYe6qjmECHZZhR8GdYf9wpWFIOKxhIbyyYeyRuGEuub1hIhzCYfsrxmG0kclhvUfMYR1wzmHeJdBh8lDRYdQ80WH/OdFhF0vQYaARz2H/es1hjjHMYT8kymG+ycdh6trFYbLVwmFnJcBhN+28YTwyumGaArdh/PSzYQPRsGEdma1hDFeqYTvdpmFeg6NhdhegYW6Lm2FVV5lh6myVYWt8kWHa6I1hS1uKYfgBhmGckoJhuP19YcbNdWE33W1hPPFlYafQXmEe11VhHb9PYRwOSWF9gj9hq3Q4YeL8L2F3DChhaw8hYXWoGGFdahBhKJAHYawu/GCZ0+tg58bbYPrcxWDKgLVgmXSnYK8YkmABm4FgFjlnYL/rRWBhTxVg9Nz7X8S8dl+MU3xfaMS+Xg==",
          "dtype": "f4"
         }
        },
        {
         "line": {
          "cmax": 743052139482090300000,
          "cmin": -14341760292361339000,
          "color": {
           "bdata": "yjT4XQq7md1y2lndK2GXXaBZll59OhtflGhLX8m6mF/oJKpfP0YGYATTMmBUhmtg2/KQYHiIrmAlNc5g1xLwYFmOCmHWCh1hdl4uYTWaQmHwGlZh3B1pYWMafWFW2odhiQ+RYcBtmmEYNKNhzW+rYSuDs2EsGLthODTCYa2oyGHIas5hYpHTYUUL2GEbCtxh7TnfYYHH4WEl4uNhf0LlYSHD5WEn3OVhxzvlYeIq5GFahOJhnTLhYbPx3mFrVtxhd+vZYYCE1mEgadNhNYfPYbYdzGFAQMhhFDLEYT9FwGGeI7xhX/W3YaSvs2EzT69hVu6qYfBZpWGHf6Jh1LidYQ8umWEagpRhXYOQYQbBi2FAqodhx3aDYUwPfmFPXXVhQqZsYVJsZWHOzlthMCVVYQ1uTWH7skRhXHk9YfrDNGHNZixh22UlYTcHHWESqxRh1rwLYUwPAmGjPPNgtH3iYP8EzWABoLtgnVirYBn1l2BbkYdgeJdyYCv/TmDIORtgSrUFYF2Ekl+Sn4VfJHLCXg==",
           "dtype": "f4"
          },
          "colorscale": [
           [
            0,
            "#440154"
           ],
           [
            0.1111111111111111,
            "#482878"
           ],
           [
            0.2222222222222222,
            "#3e4989"
           ],
           [
            0.3333333333333333,
            "#31688e"
           ],
           [
            0.4444444444444444,
            "#26828e"
           ],
           [
            0.5555555555555556,
            "#1f9e89"
           ],
           [
            0.6666666666666666,
            "#35b779"
           ],
           [
            0.7777777777777778,
            "#6ece58"
           ],
           [
            0.8888888888888888,
            "#b5de2b"
           ],
           [
            1,
            "#fde725"
           ]
          ],
          "showscale": false,
          "width": 4
         },
         "mode": "lines",
         "showlegend": false,
         "type": "scatter3d",
         "x": {
          "bdata": "AAAAALooDiy6KI4sFz3VLLooDi3osjEtFz1VLUbHeC26KI4t0e2fLeiysS0AeMMtFz3VLS4C5y1Gx/gtLkYFLrooDi5GCxcu0e0fLl3QKC7osjEudJU6LgB4Qy6LWkwuFz1VLqMfXi4uAmcuuuRvLkbHeC7p1IAuLkaFLnS3iS66KI4uAJqSLkYLly6LfJsu0e2fLhdfpC5d0Kguo0GtLuiysS4uJLYudJW6LroGvy4AeMMuRunHLotazC7Ry9AuFz3VLl2u2S6hH94u55DiLi0C5y5zc+suuOTvLv5V9C5Ex/guijj9LujUAC+LDQMvLkYFL9B+By90twkvFvALL7ooDi9cYRAv/5kSL6LSFC9FCxcv6EMZL4p8Gy8utR0v0O0fL3QmIi8WXyQvuZcmL1zQKC//CCsvokEtL0V6Ly/osjEvi+szLy4kNi/QXDgvdJU6LxbOPC+5Bj8vXD9BL/93Qy+isEUvRelHL+ghSi+LWkwvLpNOL9DLUC9zBFMvFj1VL7l1Vy9crlkv/+ZbLw==",
          "dtype": "f4"
         },
         "y": {
          "bdata": "yiabP8ommz/KJps/yiabP8ommz/KJps/yiabP8ommz/KJps/yiabP8ommz/KJps/yiabP8ommz/KJps/yiabP8ommz/KJps/yiabP8ommz/KJps/yiabP8ommz/KJps/yiabP8ommz/KJps/yiabP8ommz/KJps/yiabP8ommz/KJps/yiabP8ommz/KJps/yiabP8ommz/KJps/yiabP8ommz/KJps/yiabP8ommz/KJps/yiabP8ommz/KJps/yiabP8ommz/KJps/yiabP8ommz/KJps/yiabP8ommz/KJps/yiabP8ommz/KJps/yiabP8ommz/KJps/yiabP8ommz/KJps/yiabP8ommz/KJps/yiabP8ommz/KJps/yiabP8ommz/KJps/yiabP8ommz/KJps/yiabP8ommz/KJps/yiabP8ommz/KJps/yiabP8ommz/KJps/yiabP8ommz/KJps/yiabP8ommz/KJps/yiabP8ommz/KJps/yiabP8ommz/KJps/yiabPw==",
          "dtype": "f4"
         },
         "z": {
          "bdata": "yjT4XQq7md1y2lndK2GXXaBZll59OhtflGhLX8m6mF/oJKpfP0YGYATTMmBUhmtg2/KQYHiIrmAlNc5g1xLwYFmOCmHWCh1hdl4uYTWaQmHwGlZh3B1pYWMafWFW2odhiQ+RYcBtmmEYNKNhzW+rYSuDs2EsGLthODTCYa2oyGHIas5hYpHTYUUL2GEbCtxh7TnfYYHH4WEl4uNhf0LlYSHD5WEn3OVhxzvlYeIq5GFahOJhnTLhYbPx3mFrVtxhd+vZYYCE1mEgadNhNYfPYbYdzGFAQMhhFDLEYT9FwGGeI7xhX/W3YaSvs2EzT69hVu6qYfBZpWGHf6Jh1LidYQ8umWEagpRhXYOQYQbBi2FAqodhx3aDYUwPfmFPXXVhQqZsYVJsZWHOzlthMCVVYQ1uTWH7skRhXHk9YfrDNGHNZixh22UlYTcHHWESqxRh1rwLYUwPAmGjPPNgtH3iYP8EzWABoLtgnVirYBn1l2BbkYdgeJdyYCv/TmDIORtgSrUFYF2Ekl+Sn4VfJHLCXg==",
          "dtype": "f4"
         }
        },
        {
         "line": {
          "cmax": 743052139482090300000,
          "cmin": -14341760292361339000,
          "color": {
           "bdata": "H4QFXgkZrt0kk3LdatO9XSTAq16PqyhfmOtdX7n5pF+xh7ZfdecPYPiBQGBJfntgSwubYLM+umBafttgpf3+YL4TE2HzmyZhpO84YW4kTmFOrmJh0Kl2YfW4hWERiY9hiTeZYeiuomH+U6xhvAa1YcpovWFkoMVh0TrNYUwy1GEzedphHlTgYU0k5WH0nulht0ftYQU28GG4t/JhX1T0YZtk9WGCqvVhPG/1YfeA9GG9//JhBcjxYWyB72FF0exhZSjqYYKm5mEeQeNhfPzeYQIf22Fl2NZh3RzSYf2ozWFO+8hhuxPEYUs2v2F1E7phdvu0YWCNrmF2KqthNcClYZqxoGHHLZthrriWYR+NkWGP3oxhSBWIYfhJg2HNFn1hkKtzYZYIbGG7uGFh8mVaYf0BUmHwfklhPN5BYWLpOGFQBjBhQ+0oYVB0IGFA8hdhbdoOYQj6BGHCivhgrz3nYIkf0mAs2b9g8YutYEIXnGASyYtgMnl6YCsuVWCZ9B5gOR0LYOj8o1/r8opfQELDXg==",
           "dtype": "f4"
          },
          "colorscale": [
           [
            0,
            "#440154"
           ],
           [
            0.1111111111111111,
            "#482878"
           ],
           [
            0.2222222222222222,
            "#3e4989"
           ],
           [
            0.3333333333333333,
            "#31688e"
           ],
           [
            0.4444444444444444,
            "#26828e"
           ],
           [
            0.5555555555555556,
            "#1f9e89"
           ],
           [
            0.6666666666666666,
            "#35b779"
           ],
           [
            0.7777777777777778,
            "#6ece58"
           ],
           [
            0.8888888888888888,
            "#b5de2b"
           ],
           [
            1,
            "#fde725"
           ]
          ],
          "showscale": false,
          "width": 4
         },
         "mode": "lines",
         "showlegend": false,
         "type": "scatter3d",
         "x": {
          "bdata": "AAAAALooDiy6KI4sFz3VLLooDi3osjEtFz1VLUbHeC26KI4t0e2fLeiysS0AeMMtFz3VLS4C5y1Gx/gtLkYFLrooDi5GCxcu0e0fLl3QKC7osjEudJU6LgB4Qy6LWkwuFz1VLqMfXi4uAmcuuuRvLkbHeC7p1IAuLkaFLnS3iS66KI4uAJqSLkYLly6LfJsu0e2fLhdfpC5d0Kguo0GtLuiysS4uJLYudJW6LroGvy4AeMMuRunHLotazC7Ry9AuFz3VLl2u2S6hH94u55DiLi0C5y5zc+suuOTvLv5V9C5Ex/guijj9LujUAC+LDQMvLkYFL9B+By90twkvFvALL7ooDi9cYRAv/5kSL6LSFC9FCxcv6EMZL4p8Gy8utR0v0O0fL3QmIi8WXyQvuZcmL1zQKC//CCsvokEtL0V6Ly/osjEvi+szLy4kNi/QXDgvdJU6LxbOPC+5Bj8vXD9BL/93Qy+isEUvRelHL+ghSi+LWkwvLpNOL9DLUC9zBFMvFj1VL7l1Vy9crlkv/+ZbLw==",
          "dtype": "f4"
         },
         "y": {
          "bdata": "lgK1P5YCtT+WArU/lgK1P5YCtT+WArU/lgK1P5YCtT+WArU/lgK1P5YCtT+WArU/lgK1P5YCtT+WArU/lgK1P5YCtT+WArU/lgK1P5YCtT+WArU/lgK1P5YCtT+WArU/lgK1P5YCtT+WArU/lgK1P5YCtT+WArU/lgK1P5YCtT+WArU/lgK1P5YCtT+WArU/lgK1P5YCtT+WArU/lgK1P5YCtT+WArU/lgK1P5YCtT+WArU/lgK1P5YCtT+WArU/lgK1P5YCtT+WArU/lgK1P5YCtT+WArU/lgK1P5YCtT+WArU/lgK1P5YCtT+WArU/lgK1P5YCtT+WArU/lgK1P5YCtT+WArU/lgK1P5YCtT+WArU/lgK1P5YCtT+WArU/lgK1P5YCtT+WArU/lgK1P5YCtT+WArU/lgK1P5YCtT+WArU/lgK1P5YCtT+WArU/lgK1P5YCtT+WArU/lgK1P5YCtT+WArU/lgK1P5YCtT+WArU/lgK1P5YCtT+WArU/lgK1P5YCtT+WArU/lgK1Pw==",
          "dtype": "f4"
         },
         "z": {
          "bdata": "H4QFXgkZrt0kk3LdatO9XSTAq16PqyhfmOtdX7n5pF+xh7ZfdecPYPiBQGBJfntgSwubYLM+umBafttgpf3+YL4TE2HzmyZhpO84YW4kTmFOrmJh0Kl2YfW4hWERiY9hiTeZYeiuomH+U6xhvAa1YcpovWFkoMVh0TrNYUwy1GEzedphHlTgYU0k5WH0nulht0ftYQU28GG4t/JhX1T0YZtk9WGCqvVhPG/1YfeA9GG9//JhBcjxYWyB72FF0exhZSjqYYKm5mEeQeNhfPzeYQIf22Fl2NZh3RzSYf2ozWFO+8hhuxPEYUs2v2F1E7phdvu0YWCNrmF2KqthNcClYZqxoGHHLZthrriWYR+NkWGP3oxhSBWIYfhJg2HNFn1hkKtzYZYIbGG7uGFh8mVaYf0BUmHwfklhPN5BYWLpOGFQBjBhQ+0oYVB0IGFA8hdhbdoOYQj6BGHCivhgrz3nYIkf0mAs2b9g8YutYEIXnGASyYtgMnl6YCsuVWCZ9B5gOR0LYOj8o1/r8opfQELDXg==",
          "dtype": "f4"
         }
        },
        {
         "line": {
          "cmax": 743052139482090300000,
          "cmin": -14341760292361339000,
          "color": {
           "bdata": "aQAMXhWqxN3QiZ7dFCbCXdrvs16NJS1fLtdkX1DYqV+ZpLpfUiQUYPaMR2DH34Fg2I2gYBDPwGA88uJgQMwDYfYWGGHMVixhz2E/YXxBVWEjgmphVy9/YQ1SimE/c5RhJHyeYdI4qGEYUbJhUGG7YWYGxGF8ucxh3bvUYcMd3GEw1OJhf07pYSti7mHaPvNhe1f3Ydqd+mGCf/1hClv/YXFzAGKMsABiEcYAYmNdAGKed/9hhGn+Yck2/GHRi/lhI832YdZW82H3v+9huEfrYeQg52GKneJhy3PdYTyn2GE2q9NhxTjOYQfryGFMPsNhI6G9YfuLtmHVt7JhjtasYR9Zp2HZOKFhblGcYRbClmGck5FhhUiMYZ0lh2FXCIJhkxp6YcbhcWFv7WZhN/heYVdEVmEpkE1hUXVFYZJMPGEM6jJhQ7orYVUaI2G4dxphYDQRYSgsB2H6e/xgctLqYIny1WC9+MJgGQCvYIw0n2BQ8Y5gsB2AYP6sWWBPhSFg/gAPYJQxsF8pwY5fPpLCXg==",
           "dtype": "f4"
          },
          "colorscale": [
           [
            0,
            "#440154"
           ],
           [
            0.1111111111111111,
            "#482878"
           ],
           [
            0.2222222222222222,
            "#3e4989"
           ],
           [
            0.3333333333333333,
            "#31688e"
           ],
           [
            0.4444444444444444,
            "#26828e"
           ],
           [
            0.5555555555555556,
            "#1f9e89"
           ],
           [
            0.6666666666666666,
            "#35b779"
           ],
           [
            0.7777777777777778,
            "#6ece58"
           ],
           [
            0.8888888888888888,
            "#b5de2b"
           ],
           [
            1,
            "#fde725"
           ]
          ],
          "showscale": false,
          "width": 4
         },
         "mode": "lines",
         "showlegend": false,
         "type": "scatter3d",
         "x": {
          "bdata": "AAAAALooDiy6KI4sFz3VLLooDi3osjEtFz1VLUbHeC26KI4t0e2fLeiysS0AeMMtFz3VLS4C5y1Gx/gtLkYFLrooDi5GCxcu0e0fLl3QKC7osjEudJU6LgB4Qy6LWkwuFz1VLqMfXi4uAmcuuuRvLkbHeC7p1IAuLkaFLnS3iS66KI4uAJqSLkYLly6LfJsu0e2fLhdfpC5d0Kguo0GtLuiysS4uJLYudJW6LroGvy4AeMMuRunHLotazC7Ry9AuFz3VLl2u2S6hH94u55DiLi0C5y5zc+suuOTvLv5V9C5Ex/guijj9LujUAC+LDQMvLkYFL9B+By90twkvFvALL7ooDi9cYRAv/5kSL6LSFC9FCxcv6EMZL4p8Gy8utR0v0O0fL3QmIi8WXyQvuZcmL1zQKC//CCsvokEtL0V6Ly/osjEvi+szLy4kNi/QXDgvdJU6LxbOPC+5Bj8vXD9BL/93Qy+isEUvRelHL+ghSi+LWkwvLpNOL9DLUC9zBFMvFj1VL7l1Vy9crlkv/+ZbLw==",
          "dtype": "f4"
         },
         "y": {
          "bdata": "Yt7OP2Lezj9i3s4/Yt7OP2Lezj9i3s4/Yt7OP2Lezj9i3s4/Yt7OP2Lezj9i3s4/Yt7OP2Lezj9i3s4/Yt7OP2Lezj9i3s4/Yt7OP2Lezj9i3s4/Yt7OP2Lezj9i3s4/Yt7OP2Lezj9i3s4/Yt7OP2Lezj9i3s4/Yt7OP2Lezj9i3s4/Yt7OP2Lezj9i3s4/Yt7OP2Lezj9i3s4/Yt7OP2Lezj9i3s4/Yt7OP2Lezj9i3s4/Yt7OP2Lezj9i3s4/Yt7OP2Lezj9i3s4/Yt7OP2Lezj9i3s4/Yt7OP2Lezj9i3s4/Yt7OP2Lezj9i3s4/Yt7OP2Lezj9i3s4/Yt7OP2Lezj9i3s4/Yt7OP2Lezj9i3s4/Yt7OP2Lezj9i3s4/Yt7OP2Lezj9i3s4/Yt7OP2Lezj9i3s4/Yt7OP2Lezj9i3s4/Yt7OP2Lezj9i3s4/Yt7OP2Lezj9i3s4/Yt7OP2Lezj9i3s4/Yt7OP2Lezj9i3s4/Yt7OP2Lezj9i3s4/Yt7OP2Lezj9i3s4/Yt7OPw==",
          "dtype": "f4"
         },
         "z": {
          "bdata": "aQAMXhWqxN3QiZ7dFCbCXdrvs16NJS1fLtdkX1DYqV+ZpLpfUiQUYPaMR2DH34Fg2I2gYBDPwGA88uJgQMwDYfYWGGHMVixhz2E/YXxBVWEjgmphVy9/YQ1SimE/c5RhJHyeYdI4qGEYUbJhUGG7YWYGxGF8ucxh3bvUYcMd3GEw1OJhf07pYSti7mHaPvNhe1f3Ydqd+mGCf/1hClv/YXFzAGKMsABiEcYAYmNdAGKed/9hhGn+Yck2/GHRi/lhI832YdZW82H3v+9huEfrYeQg52GKneJhy3PdYTyn2GE2q9NhxTjOYQfryGFMPsNhI6G9YfuLtmHVt7JhjtasYR9Zp2HZOKFhblGcYRbClmGck5FhhUiMYZ0lh2FXCIJhkxp6YcbhcWFv7WZhN/heYVdEVmEpkE1hUXVFYZJMPGEM6jJhQ7orYVUaI2G4dxphYDQRYSgsB2H6e/xgctLqYIny1WC9+MJgGQCvYIw0n2BQ8Y5gsB2AYP6sWWBPhSFg/gAPYJQxsF8pwY5fPpLCXg==",
          "dtype": "f4"
         }
        },
        {
         "line": {
          "cmax": 743052139482090300000,
          "cmin": -14341760292361339000,
          "color": {
           "bdata": "bVsQXp8b2917tc3dcXuwXRsSs15Unitff+pjX4iyqV93Pblfka0UYK3lSWBxRoNgi8iiYBSow2BGN+ZgVc8FYYSLGmEDQi9hkslCYRkaWWHr0m5hLv6BYcj9jGHiT5dhQpuhYeK0q2H2+LVhiVK/YV4yyGG+QdFhNpnZYU5R4WGWZOhh8mbvYbSw9GFc3PlhU1j+YeX2AGKqkgJioKADYuqYBGKZ8QRi7zUFYtbaBGLsWwRinuwDYpjjAmLWlwFieTkAYiMa/WEGZflhytX0YTqD8GET3uthT3HmYa9q4WEbRNxhpmzWYQ7L0GG/vcph0L/EYcktvWFy/Lhhv8KyYX7orGFAWKZhUwmhYRAfm2E4iJVhG9GPYZ1fimF674RhO4N/YXundmFmJ2thFqViYT3iWWHSxlBhrTdIYevoPmEpHDVhH94tYQ0YJWHnXhxh/PcSYU/VCGFVd/9gV5/tYJLm2GDzZcVgYSewYEWpoWAcaJFgaFGCYJAhXWDxdiNgRuURYHw0uF+YeZFf2znBXg==",
           "dtype": "f4"
          },
          "colorscale": [
           [
            0,
            "#440154"
           ],
           [
            0.1111111111111111,
            "#482878"
           ],
           [
            0.2222222222222222,
            "#3e4989"
           ],
           [
            0.3333333333333333,
            "#31688e"
           ],
           [
            0.4444444444444444,
            "#26828e"
           ],
           [
            0.5555555555555556,
            "#1f9e89"
           ],
           [
            0.6666666666666666,
            "#35b779"
           ],
           [
            0.7777777777777778,
            "#6ece58"
           ],
           [
            0.8888888888888888,
            "#b5de2b"
           ],
           [
            1,
            "#fde725"
           ]
          ],
          "showscale": false,
          "width": 4
         },
         "mode": "lines",
         "showlegend": false,
         "type": "scatter3d",
         "x": {
          "bdata": "AAAAALooDiy6KI4sFz3VLLooDi3osjEtFz1VLUbHeC26KI4t0e2fLeiysS0AeMMtFz3VLS4C5y1Gx/gtLkYFLrooDi5GCxcu0e0fLl3QKC7osjEudJU6LgB4Qy6LWkwuFz1VLqMfXi4uAmcuuuRvLkbHeC7p1IAuLkaFLnS3iS66KI4uAJqSLkYLly6LfJsu0e2fLhdfpC5d0Kguo0GtLuiysS4uJLYudJW6LroGvy4AeMMuRunHLotazC7Ry9AuFz3VLl2u2S6hH94u55DiLi0C5y5zc+suuOTvLv5V9C5Ex/guijj9LujUAC+LDQMvLkYFL9B+By90twkvFvALL7ooDi9cYRAv/5kSL6LSFC9FCxcv6EMZL4p8Gy8utR0v0O0fL3QmIi8WXyQvuZcmL1zQKC//CCsvokEtL0V6Ly/osjEvi+szLy4kNi/QXDgvdJU6LxbOPC+5Bj8vXD9BL/93Qy+isEUvRelHL+ghSi+LWkwvLpNOL9DLUC9zBFMvFj1VL7l1Vy9crlkv/+ZbLw==",
          "dtype": "f4"
         },
         "y": {
          "bdata": "LrroPy666D8uuug/LrroPy666D8uuug/LrroPy666D8uuug/LrroPy666D8uuug/LrroPy666D8uuug/LrroPy666D8uuug/LrroPy666D8uuug/LrroPy666D8uuug/LrroPy666D8uuug/LrroPy666D8uuug/LrroPy666D8uuug/LrroPy666D8uuug/LrroPy666D8uuug/LrroPy666D8uuug/LrroPy666D8uuug/LrroPy666D8uuug/LrroPy666D8uuug/LrroPy666D8uuug/LrroPy666D8uuug/LrroPy666D8uuug/LrroPy666D8uuug/LrroPy666D8uuug/LrroPy666D8uuug/LrroPy666D8uuug/LrroPy666D8uuug/LrroPy666D8uuug/LrroPy666D8uuug/LrroPy666D8uuug/LrroPy666D8uuug/LrroPy666D8uuug/LrroPy666D8uuug/LrroPy666D8uuug/LrroPy666D8uuug/LrroPw==",
          "dtype": "f4"
         },
         "z": {
          "bdata": "bVsQXp8b2917tc3dcXuwXRsSs15Unitff+pjX4iyqV93Pblfka0UYK3lSWBxRoNgi8iiYBSow2BGN+ZgVc8FYYSLGmEDQi9hkslCYRkaWWHr0m5hLv6BYcj9jGHiT5dhQpuhYeK0q2H2+LVhiVK/YV4yyGG+QdFhNpnZYU5R4WGWZOhh8mbvYbSw9GFc3PlhU1j+YeX2AGKqkgJioKADYuqYBGKZ8QRi7zUFYtbaBGLsWwRinuwDYpjjAmLWlwFieTkAYiMa/WEGZflhytX0YTqD8GET3uthT3HmYa9q4WEbRNxhpmzWYQ7L0GG/vcph0L/EYcktvWFy/Lhhv8KyYX7orGFAWKZhUwmhYRAfm2E4iJVhG9GPYZ1fimF674RhO4N/YXundmFmJ2thFqViYT3iWWHSxlBhrTdIYevoPmEpHDVhH94tYQ0YJWHnXhxh/PcSYU/VCGFVd/9gV5/tYJLm2GDzZcVgYSewYEWpoWAcaJFgaFGCYJAhXWDxdiNgRuURYHw0uF+YeZFf2znBXg==",
          "dtype": "f4"
         }
        },
        {
         "line": {
          "cmax": 743052139482090300000,
          "cmin": -14341760292361339000,
          "color": {
           "bdata": "oDoTXp4k8N3jWP7dyC6SXe+XrF61ciZfBC5eX7Zxpl+PgrRfKuUSYEEvSWAS6IJgi9qiYNAIxGBLtuZgakkGYaxGG2EERTBh3RxEYUW1WmGluXBhZhyDYdlQjmFxwJhhVTyjYSq0rWEnALhhqZPBYSanymEJ/NNhhZncYRuY5GEH+ethBm3zYc/k+GFuUv5hhZIBYs6AA2KlQgViW3EGYuSRB2JxBghi5nMIYrwmCGLNyQdiAXMHYhR9BmKBPgViqecDYoFNAmIZawBiUUD8Yb3V92GlHvNhR4rtYRVd6GEPH+Nhvf7cYWod12Fby9BhkoXKYYqUwmE3GL5hrZm3YTtxsWGbjqph0eWkYY2qnmHgvphhHK+SYdr4jGE/QodhnO6BYcBlemHWcm5hWHxlYVjNXGH3OFNhBkZKYaXcQGGLvTZhe3kvYdGTJmHWzR1hi00UYfMbCmH74wBhCeTvYBZC22C/X8dgKTexYOGto2CVaJNgWxWEYKbuX2CAFSVg/SEUYE45vV9Jc5Nfare/Xg==",
           "dtype": "f4"
          },
          "colorscale": [
           [
            0,
            "#440154"
           ],
           [
            0.1111111111111111,
            "#482878"
           ],
           [
            0.2222222222222222,
            "#3e4989"
           ],
           [
            0.3333333333333333,
            "#31688e"
           ],
           [
            0.4444444444444444,
            "#26828e"
           ],
           [
            0.5555555555555556,
            "#1f9e89"
           ],
           [
            0.6666666666666666,
            "#35b779"
           ],
           [
            0.7777777777777778,
            "#6ece58"
           ],
           [
            0.8888888888888888,
            "#b5de2b"
           ],
           [
            1,
            "#fde725"
           ]
          ],
          "showscale": false,
          "width": 4
         },
         "mode": "lines",
         "showlegend": false,
         "type": "scatter3d",
         "x": {
          "bdata": "AAAAALooDiy6KI4sFz3VLLooDi3osjEtFz1VLUbHeC26KI4t0e2fLeiysS0AeMMtFz3VLS4C5y1Gx/gtLkYFLrooDi5GCxcu0e0fLl3QKC7osjEudJU6LgB4Qy6LWkwuFz1VLqMfXi4uAmcuuuRvLkbHeC7p1IAuLkaFLnS3iS66KI4uAJqSLkYLly6LfJsu0e2fLhdfpC5d0Kguo0GtLuiysS4uJLYudJW6LroGvy4AeMMuRunHLotazC7Ry9AuFz3VLl2u2S6hH94u55DiLi0C5y5zc+suuOTvLv5V9C5Ex/guijj9LujUAC+LDQMvLkYFL9B+By90twkvFvALL7ooDi9cYRAv/5kSL6LSFC9FCxcv6EMZL4p8Gy8utR0v0O0fL3QmIi8WXyQvuZcmL1zQKC//CCsvokEtL0V6Ly/osjEvi+szLy4kNi/QXDgvdJU6LxbOPC+5Bj8vXD9BL/93Qy+isEUvRelHL+ghSi+LWkwvLpNOL9DLUC9zBFMvFj1VL7l1Vy9crlkv/+ZbLw==",
          "dtype": "f4"
         },
         "y": {
          "bdata": "/UoBQP1KAUD9SgFA/UoBQP1KAUD9SgFA/UoBQP1KAUD9SgFA/UoBQP1KAUD9SgFA/UoBQP1KAUD9SgFA/UoBQP1KAUD9SgFA/UoBQP1KAUD9SgFA/UoBQP1KAUD9SgFA/UoBQP1KAUD9SgFA/UoBQP1KAUD9SgFA/UoBQP1KAUD9SgFA/UoBQP1KAUD9SgFA/UoBQP1KAUD9SgFA/UoBQP1KAUD9SgFA/UoBQP1KAUD9SgFA/UoBQP1KAUD9SgFA/UoBQP1KAUD9SgFA/UoBQP1KAUD9SgFA/UoBQP1KAUD9SgFA/UoBQP1KAUD9SgFA/UoBQP1KAUD9SgFA/UoBQP1KAUD9SgFA/UoBQP1KAUD9SgFA/UoBQP1KAUD9SgFA/UoBQP1KAUD9SgFA/UoBQP1KAUD9SgFA/UoBQP1KAUD9SgFA/UoBQP1KAUD9SgFA/UoBQP1KAUD9SgFA/UoBQP1KAUD9SgFA/UoBQP1KAUD9SgFA/UoBQP1KAUD9SgFA/UoBQP1KAUD9SgFA/UoBQA==",
          "dtype": "f4"
         },
         "z": {
          "bdata": "oDoTXp4k8N3jWP7dyC6SXe+XrF61ciZfBC5eX7Zxpl+PgrRfKuUSYEEvSWAS6IJgi9qiYNAIxGBLtuZgakkGYaxGG2EERTBh3RxEYUW1WmGluXBhZhyDYdlQjmFxwJhhVTyjYSq0rWEnALhhqZPBYSanymEJ/NNhhZncYRuY5GEH+ethBm3zYc/k+GFuUv5hhZIBYs6AA2KlQgViW3EGYuSRB2JxBghi5nMIYrwmCGLNyQdiAXMHYhR9BmKBPgViqecDYoFNAmIZawBiUUD8Yb3V92GlHvNhR4rtYRVd6GEPH+Nhvf7cYWod12Fby9BhkoXKYYqUwmE3GL5hrZm3YTtxsWGbjqph0eWkYY2qnmHgvphhHK+SYdr4jGE/QodhnO6BYcBlemHWcm5hWHxlYVjNXGH3OFNhBkZKYaXcQGGLvTZhe3kvYdGTJmHWzR1hi00UYfMbCmH74wBhCeTvYBZC22C/X8dgKTexYOGto2CVaJNgWxWEYKbuX2CAFSVg/SEUYE45vV9Jc5Nfare/Xg==",
          "dtype": "f4"
         }
        },
        {
         "line": {
          "cmax": 743052139482090300000,
          "cmin": -14341760292361339000,
          "color": {
           "bdata": "fh0VXviqAd6tWhbeEA9bXTz4ol40TB9fxchVX/hzoV8+/K1fR8sPYP2jRmCQfIFgiJ6hYHvnwmDXg+VgQ9EFYcbvGmHHFjBhJyBEYYnlWmHyF3FhaGmDYVLFjmFcR5lhGeejYTeyrmEV+bhhRrvCYXD8y2EVh9VhF1/eYYGY5mFEO+5hwA32Yfau+2HZqgBi2TkDYlBIBWIELAdiqnsIYly8CWJmTApif90KYuGeCmKDYQpi+yIKYuVACWLLEAhiy8QGYqs9BWKZWANiuQ4BYn+n/WGR5/hhOTzzYa707WH4qOhhdFPiYVxA3GGNu9VhiT7PYfQBx2FqSsJhTZO7YRgotWGuBa5hTRCoYUiNoWGkW5thsAKVYXUQj2EdHolh0qyDYTVWfWHyBHFhv7BnYRckX2HQF1VhEtNLYdRWQmHH+TdhYbUwYWm3J2HY6x5hxloVYWciC2Ek1gFh2dLxYCw83WBnE8lgUkmyYBdrpWAMHZVgxJOFYLdVYmBejCZgqPQVYG5AwF9K8pRf5k2+Xg==",
           "dtype": "f4"
          },
          "colorscale": [
           [
            0,
            "#440154"
           ],
           [
            0.1111111111111111,
            "#482878"
           ],
           [
            0.2222222222222222,
            "#3e4989"
           ],
           [
            0.3333333333333333,
            "#31688e"
           ],
           [
            0.4444444444444444,
            "#26828e"
           ],
           [
            0.5555555555555556,
            "#1f9e89"
           ],
           [
            0.6666666666666666,
            "#35b779"
           ],
           [
            0.7777777777777778,
            "#6ece58"
           ],
           [
            0.8888888888888888,
            "#b5de2b"
           ],
           [
            1,
            "#fde725"
           ]
          ],
          "showscale": false,
          "width": 4
         },
         "mode": "lines",
         "showlegend": false,
         "type": "scatter3d",
         "x": {
          "bdata": "AAAAALooDiy6KI4sFz3VLLooDi3osjEtFz1VLUbHeC26KI4t0e2fLeiysS0AeMMtFz3VLS4C5y1Gx/gtLkYFLrooDi5GCxcu0e0fLl3QKC7osjEudJU6LgB4Qy6LWkwuFz1VLqMfXi4uAmcuuuRvLkbHeC7p1IAuLkaFLnS3iS66KI4uAJqSLkYLly6LfJsu0e2fLhdfpC5d0Kguo0GtLuiysS4uJLYudJW6LroGvy4AeMMuRunHLotazC7Ry9AuFz3VLl2u2S6hH94u55DiLi0C5y5zc+suuOTvLv5V9C5Ex/guijj9LujUAC+LDQMvLkYFL9B+By90twkvFvALL7ooDi9cYRAv/5kSL6LSFC9FCxcv6EMZL4p8Gy8utR0v0O0fL3QmIi8WXyQvuZcmL1zQKC//CCsvokEtL0V6Ly/osjEvi+szLy4kNi/QXDgvdJU6LxbOPC+5Bj8vXD9BL/93Qy+isEUvRelHL+ghSi+LWkwvLpNOL9DLUC9zBFMvFj1VL7l1Vy9crlkv/+ZbLw==",
          "dtype": "f4"
         },
         "y": {
          "bdata": "4zgOQOM4DkDjOA5A4zgOQOM4DkDjOA5A4zgOQOM4DkDjOA5A4zgOQOM4DkDjOA5A4zgOQOM4DkDjOA5A4zgOQOM4DkDjOA5A4zgOQOM4DkDjOA5A4zgOQOM4DkDjOA5A4zgOQOM4DkDjOA5A4zgOQOM4DkDjOA5A4zgOQOM4DkDjOA5A4zgOQOM4DkDjOA5A4zgOQOM4DkDjOA5A4zgOQOM4DkDjOA5A4zgOQOM4DkDjOA5A4zgOQOM4DkDjOA5A4zgOQOM4DkDjOA5A4zgOQOM4DkDjOA5A4zgOQOM4DkDjOA5A4zgOQOM4DkDjOA5A4zgOQOM4DkDjOA5A4zgOQOM4DkDjOA5A4zgOQOM4DkDjOA5A4zgOQOM4DkDjOA5A4zgOQOM4DkDjOA5A4zgOQOM4DkDjOA5A4zgOQOM4DkDjOA5A4zgOQOM4DkDjOA5A4zgOQOM4DkDjOA5A4zgOQOM4DkDjOA5A4zgOQOM4DkDjOA5A4zgOQOM4DkDjOA5A4zgOQOM4DkDjOA5A4zgOQA==",
          "dtype": "f4"
         },
         "z": {
          "bdata": "fh0VXviqAd6tWhbeEA9bXTz4ol40TB9fxchVX/hzoV8+/K1fR8sPYP2jRmCQfIFgiJ6hYHvnwmDXg+VgQ9EFYcbvGmHHFjBhJyBEYYnlWmHyF3FhaGmDYVLFjmFcR5lhGeejYTeyrmEV+bhhRrvCYXD8y2EVh9VhF1/eYYGY5mFEO+5hwA32Yfau+2HZqgBi2TkDYlBIBWIELAdiqnsIYly8CWJmTApif90KYuGeCmKDYQpi+yIKYuVACWLLEAhiy8QGYqs9BWKZWANiuQ4BYn+n/WGR5/hhOTzzYa707WH4qOhhdFPiYVxA3GGNu9VhiT7PYfQBx2FqSsJhTZO7YRgotWGuBa5hTRCoYUiNoWGkW5thsAKVYXUQj2EdHolh0qyDYTVWfWHyBHFhv7BnYRckX2HQF1VhEtNLYdRWQmHH+TdhYbUwYWm3J2HY6x5hxloVYWciC2Ek1gFh2dLxYCw83WBnE8lgUkmyYBdrpWAMHZVgxJOFYLdVYmBejCZgqPQVYG5AwF9K8pRf5k2+Xg==",
          "dtype": "f4"
         }
        },
        {
         "line": {
          "cmax": 743052139482090300000,
          "cmin": -14341760292361339000,
          "color": {
           "bdata": "/WAWXnVdCt5swyvet+IMXanVl17zQRdfmyZMX+mim18lq6ZftAwMYK4fQ2BRCH9gwq6fYLXzwGDMZONgmdMEYUQAGmHoPC9hK2RDYX9GWmEFlXBhqT2DYWC3jmETRplhQQGkYX4Rr2G/UblhxTrDYcukzGGsWtZhxWTfYX3Q52EvrO9hA873YaSV/WGUtwFikWcEYkuTBmJPlQhijQUKYjNgC2LHCgxiy7oMYvWKDGI8agxiKkMMYo10C2L5UgpiMhMJYqWeB2JRugViqHMDYus2AWI8qv1hqPH3YVqX8mHlQu1hdMXmYUWK4GE53tlhEzXTYSm5ymFq08Vhkuu+YWNGuGHK77BhMLmqYTf2o2GPiZ1hGvOWYQjMkGFwpophZByFYS+6f2HDGXNhl3lpYQsTYWHzllZhjg9NYRaFQ2E1+ThhibcxYRKnKGF32h9hZz4WYRoEDGE1qgJhY5LzYP/93mAKocpgEGmzYP79pmB8o5ZgO+mGYDeCZGC+8ydgg4cXYNUFwl8HKJZfdBu9Xg==",
           "dtype": "f4"
          },
          "colorscale": [
           [
            0,
            "#440154"
           ],
           [
            0.1111111111111111,
            "#482878"
           ],
           [
            0.2222222222222222,
            "#3e4989"
           ],
           [
            0.3333333333333333,
            "#31688e"
           ],
           [
            0.4444444444444444,
            "#26828e"
           ],
           [
            0.5555555555555556,
            "#1f9e89"
           ],
           [
            0.6666666666666666,
            "#35b779"
           ],
           [
            0.7777777777777778,
            "#6ece58"
           ],
           [
            0.8888888888888888,
            "#b5de2b"
           ],
           [
            1,
            "#fde725"
           ]
          ],
          "showscale": false,
          "width": 4
         },
         "mode": "lines",
         "showlegend": false,
         "type": "scatter3d",
         "x": {
          "bdata": "AAAAALooDiy6KI4sFz3VLLooDi3osjEtFz1VLUbHeC26KI4t0e2fLeiysS0AeMMtFz3VLS4C5y1Gx/gtLkYFLrooDi5GCxcu0e0fLl3QKC7osjEudJU6LgB4Qy6LWkwuFz1VLqMfXi4uAmcuuuRvLkbHeC7p1IAuLkaFLnS3iS66KI4uAJqSLkYLly6LfJsu0e2fLhdfpC5d0Kguo0GtLuiysS4uJLYudJW6LroGvy4AeMMuRunHLotazC7Ry9AuFz3VLl2u2S6hH94u55DiLi0C5y5zc+suuOTvLv5V9C5Ex/guijj9LujUAC+LDQMvLkYFL9B+By90twkvFvALL7ooDi9cYRAv/5kSL6LSFC9FCxcv6EMZL4p8Gy8utR0v0O0fL3QmIi8WXyQvuZcmL1zQKC//CCsvokEtL0V6Ly/osjEvi+szLy4kNi/QXDgvdJU6LxbOPC+5Bj8vXD9BL/93Qy+isEUvRelHL+ghSi+LWkwvLpNOL9DLUC9zBFMvFj1VL7l1Vy9crlkv/+ZbLw==",
          "dtype": "f4"
         },
         "y": {
          "bdata": "yiYbQMomG0DKJhtAyiYbQMomG0DKJhtAyiYbQMomG0DKJhtAyiYbQMomG0DKJhtAyiYbQMomG0DKJhtAyiYbQMomG0DKJhtAyiYbQMomG0DKJhtAyiYbQMomG0DKJhtAyiYbQMomG0DKJhtAyiYbQMomG0DKJhtAyiYbQMomG0DKJhtAyiYbQMomG0DKJhtAyiYbQMomG0DKJhtAyiYbQMomG0DKJhtAyiYbQMomG0DKJhtAyiYbQMomG0DKJhtAyiYbQMomG0DKJhtAyiYbQMomG0DKJhtAyiYbQMomG0DKJhtAyiYbQMomG0DKJhtAyiYbQMomG0DKJhtAyiYbQMomG0DKJhtAyiYbQMomG0DKJhtAyiYbQMomG0DKJhtAyiYbQMomG0DKJhtAyiYbQMomG0DKJhtAyiYbQMomG0DKJhtAyiYbQMomG0DKJhtAyiYbQMomG0DKJhtAyiYbQMomG0DKJhtAyiYbQMomG0DKJhtAyiYbQMomG0DKJhtAyiYbQMomG0DKJhtAyiYbQA==",
          "dtype": "f4"
         },
         "z": {
          "bdata": "/WAWXnVdCt5swyvet+IMXanVl17zQRdfmyZMX+mim18lq6ZftAwMYK4fQ2BRCH9gwq6fYLXzwGDMZONgmdMEYUQAGmHoPC9hK2RDYX9GWmEFlXBhqT2DYWC3jmETRplhQQGkYX4Rr2G/UblhxTrDYcukzGGsWtZhxWTfYX3Q52EvrO9hA873YaSV/WGUtwFikWcEYkuTBmJPlQhijQUKYjNgC2LHCgxiy7oMYvWKDGI8agxiKkMMYo10C2L5UgpiMhMJYqWeB2JRugViqHMDYus2AWI8qv1hqPH3YVqX8mHlQu1hdMXmYUWK4GE53tlhEzXTYSm5ymFq08Vhkuu+YWNGuGHK77BhMLmqYTf2o2GPiZ1hGvOWYQjMkGFwpophZByFYS+6f2HDGXNhl3lpYQsTYWHzllZhjg9NYRaFQ2E1+ThhibcxYRKnKGF32h9hZz4WYRoEDGE1qgJhY5LzYP/93mAKocpgEGmzYP79pmB8o5ZgO+mGYDeCZGC+8ydgg4cXYNUFwl8HKJZfdBu9Xg==",
          "dtype": "f4"
         }
        },
        {
         "line": {
          "cmax": 743052139482090300000,
          "cmin": -14341760292361339000,
          "color": {
           "bdata": "rEUXXuhAEt5xSz/eysp6XB4/jF5kBw9fLDJCX6uWlV+pM59frBoIYLs2P2CTqXpgVHOdYOOkvmA23+Bg1poDYZPLGGGIEy5hYU1CYUJEWWEopW9h0taCYR9ojmHFAJlhP9KjYU4br2F2V7lh/2HDYTnxzGFfy9ZhZgHgYSuZ6GEJp/BhsAz5YSX4/mG7fwJi0EwFYi2TB2JrsAliREALYhKwDGLFcw1irj4OYk0dDmJEFg5iawUOYj1JDWJ+NQxiIAILYhefCWJ4vQdi53oFYqs+A2Ju3ABirvj7YVuQ9mGzNfFhP5nqYcA85GEOcd1hVKPWYSrwzWFS5shhOtPBYen6umHMd7NhFgmtYZgMpmENbZ9h0KGYYZJLkmE5+YthlVmGYQLkgGEw43RhGgRrYd/CYmEO4FdhUSFOYQyLRGGR2jlhwpwyYZB9KWEosiBhUA4XYUrUDGGYcANhnzz1YPqi4GAXHcxgOJm0YEV5qGAPD5hgZyeIYIGOZmAnVylgNfUYYKoHw19INZdfwym8Xg==",
           "dtype": "f4"
          },
          "colorscale": [
           [
            0,
            "#440154"
           ],
           [
            0.1111111111111111,
            "#482878"
           ],
           [
            0.2222222222222222,
            "#3e4989"
           ],
           [
            0.3333333333333333,
            "#31688e"
           ],
           [
            0.4444444444444444,
            "#26828e"
           ],
           [
            0.5555555555555556,
            "#1f9e89"
           ],
           [
            0.6666666666666666,
            "#35b779"
           ],
           [
            0.7777777777777778,
            "#6ece58"
           ],
           [
            0.8888888888888888,
            "#b5de2b"
           ],
           [
            1,
            "#fde725"
           ]
          ],
          "showscale": false,
          "width": 4
         },
         "mode": "lines",
         "showlegend": false,
         "type": "scatter3d",
         "x": {
          "bdata": "AAAAALooDiy6KI4sFz3VLLooDi3osjEtFz1VLUbHeC26KI4t0e2fLeiysS0AeMMtFz3VLS4C5y1Gx/gtLkYFLrooDi5GCxcu0e0fLl3QKC7osjEudJU6LgB4Qy6LWkwuFz1VLqMfXi4uAmcuuuRvLkbHeC7p1IAuLkaFLnS3iS66KI4uAJqSLkYLly6LfJsu0e2fLhdfpC5d0Kguo0GtLuiysS4uJLYudJW6LroGvy4AeMMuRunHLotazC7Ry9AuFz3VLl2u2S6hH94u55DiLi0C5y5zc+suuOTvLv5V9C5Ex/guijj9LujUAC+LDQMvLkYFL9B+By90twkvFvALL7ooDi9cYRAv/5kSL6LSFC9FCxcv6EMZL4p8Gy8utR0v0O0fL3QmIi8WXyQvuZcmL1zQKC//CCsvokEtL0V6Ly/osjEvi+szLy4kNi/QXDgvdJU6LxbOPC+5Bj8vXD9BL/93Qy+isEUvRelHL+ghSi+LWkwvLpNOL9DLUC9zBFMvFj1VL7l1Vy9crlkv/+ZbLw==",
          "dtype": "f4"
         },
         "y": {
          "bdata": "sBQoQLAUKECwFChAsBQoQLAUKECwFChAsBQoQLAUKECwFChAsBQoQLAUKECwFChAsBQoQLAUKECwFChAsBQoQLAUKECwFChAsBQoQLAUKECwFChAsBQoQLAUKECwFChAsBQoQLAUKECwFChAsBQoQLAUKECwFChAsBQoQLAUKECwFChAsBQoQLAUKECwFChAsBQoQLAUKECwFChAsBQoQLAUKECwFChAsBQoQLAUKECwFChAsBQoQLAUKECwFChAsBQoQLAUKECwFChAsBQoQLAUKECwFChAsBQoQLAUKECwFChAsBQoQLAUKECwFChAsBQoQLAUKECwFChAsBQoQLAUKECwFChAsBQoQLAUKECwFChAsBQoQLAUKECwFChAsBQoQLAUKECwFChAsBQoQLAUKECwFChAsBQoQLAUKECwFChAsBQoQLAUKECwFChAsBQoQLAUKECwFChAsBQoQLAUKECwFChAsBQoQLAUKECwFChAsBQoQLAUKECwFChAsBQoQLAUKECwFChAsBQoQA==",
          "dtype": "f4"
         },
         "z": {
          "bdata": "rEUXXuhAEt5xSz/eysp6XB4/jF5kBw9fLDJCX6uWlV+pM59frBoIYLs2P2CTqXpgVHOdYOOkvmA23+Bg1poDYZPLGGGIEy5hYU1CYUJEWWEopW9h0taCYR9ojmHFAJlhP9KjYU4br2F2V7lh/2HDYTnxzGFfy9ZhZgHgYSuZ6GEJp/BhsAz5YSX4/mG7fwJi0EwFYi2TB2JrsAliREALYhKwDGLFcw1irj4OYk0dDmJEFg5iawUOYj1JDWJ+NQxiIAILYhefCWJ4vQdi53oFYqs+A2Ju3ABirvj7YVuQ9mGzNfFhP5nqYcA85GEOcd1hVKPWYSrwzWFS5shhOtPBYen6umHMd7NhFgmtYZgMpmENbZ9h0KGYYZJLkmE5+YthlVmGYQLkgGEw43RhGgRrYd/CYmEO4FdhUSFOYQyLRGGR2jlhwpwyYZB9KWEosiBhUA4XYUrUDGGYcANhnzz1YPqi4GAXHcxgOJm0YEV5qGAPD5hgZyeIYIGOZmAnVylgNfUYYKoHw19INZdfwym8Xg==",
          "dtype": "f4"
         }
        },
        {
         "line": {
          "cmax": 743052139482090300000,
          "cmin": -14341760292361339000,
          "color": {
           "bdata": "MvYXXohsGd5e91DewElH2+zigF5GDwdf4YE4Xy6xj1+g/pdfJT4EYIZKO2DaTHZgQTCbYEpJvGDvSt5g3FcCYZmIF2Fg1yxhKx5BYV8mWGFTlW5hsF2CYekCjmGtpJhhdomjYXcCr2GMPblhDmbDYbsXzWFmEddhx27gYdUt6WGVaPFhUQn6YfgKAGJdIwNiPAoGYsRoCGJxngpiXEwMYn3NDWKBqA5izIoPYgR3D2LBhg9ijooPYlXfDmJJ2A1iybAMYtFdC2LnfwliiEEHYgEHBWIApQJiUYX/Ye4R+mFlsvRhAf3tYRCE52HuneBhDrHZYW7M0GFMpsthJmzEYTpmvWEcvLVhjhyvYdrrp2G6H6FhZiaaYY2lk2F5K41hp3iHYZ3SgWGug3ZhBm9sYSNRZGFpD1lhSCFPYS+ARWGrsTphpHczYb5LKmEkgiFh09cXYX6eDWHWMgRhZuD2YL064mBTks1gY9e1YBDnqWBsaplg4VeJYGCIaGBMuipgLU0aYKSUw1/LLZhfWXi7Xg==",
           "dtype": "f4"
          },
          "colorscale": [
           [
            0,
            "#440154"
           ],
           [
            0.1111111111111111,
            "#482878"
           ],
           [
            0.2222222222222222,
            "#3e4989"
           ],
           [
            0.3333333333333333,
            "#31688e"
           ],
           [
            0.4444444444444444,
            "#26828e"
           ],
           [
            0.5555555555555556,
            "#1f9e89"
           ],
           [
            0.6666666666666666,
            "#35b779"
           ],
           [
            0.7777777777777778,
            "#6ece58"
           ],
           [
            0.8888888888888888,
            "#b5de2b"
           ],
           [
            1,
            "#fde725"
           ]
          ],
          "showscale": false,
          "width": 4
         },
         "mode": "lines",
         "showlegend": false,
         "type": "scatter3d",
         "x": {
          "bdata": "AAAAALooDiy6KI4sFz3VLLooDi3osjEtFz1VLUbHeC26KI4t0e2fLeiysS0AeMMtFz3VLS4C5y1Gx/gtLkYFLrooDi5GCxcu0e0fLl3QKC7osjEudJU6LgB4Qy6LWkwuFz1VLqMfXi4uAmcuuuRvLkbHeC7p1IAuLkaFLnS3iS66KI4uAJqSLkYLly6LfJsu0e2fLhdfpC5d0Kguo0GtLuiysS4uJLYudJW6LroGvy4AeMMuRunHLotazC7Ry9AuFz3VLl2u2S6hH94u55DiLi0C5y5zc+suuOTvLv5V9C5Ex/guijj9LujUAC+LDQMvLkYFL9B+By90twkvFvALL7ooDi9cYRAv/5kSL6LSFC9FCxcv6EMZL4p8Gy8utR0v0O0fL3QmIi8WXyQvuZcmL1zQKC//CCsvokEtL0V6Ly/osjEvi+szLy4kNi/QXDgvdJU6LxbOPC+5Bj8vXD9BL/93Qy+isEUvRelHL+ghSi+LWkwvLpNOL9DLUC9zBFMvFj1VL7l1Vy9crlkv/+ZbLw==",
          "dtype": "f4"
         },
         "y": {
          "bdata": "lgI1QJYCNUCWAjVAlgI1QJYCNUCWAjVAlgI1QJYCNUCWAjVAlgI1QJYCNUCWAjVAlgI1QJYCNUCWAjVAlgI1QJYCNUCWAjVAlgI1QJYCNUCWAjVAlgI1QJYCNUCWAjVAlgI1QJYCNUCWAjVAlgI1QJYCNUCWAjVAlgI1QJYCNUCWAjVAlgI1QJYCNUCWAjVAlgI1QJYCNUCWAjVAlgI1QJYCNUCWAjVAlgI1QJYCNUCWAjVAlgI1QJYCNUCWAjVAlgI1QJYCNUCWAjVAlgI1QJYCNUCWAjVAlgI1QJYCNUCWAjVAlgI1QJYCNUCWAjVAlgI1QJYCNUCWAjVAlgI1QJYCNUCWAjVAlgI1QJYCNUCWAjVAlgI1QJYCNUCWAjVAlgI1QJYCNUCWAjVAlgI1QJYCNUCWAjVAlgI1QJYCNUCWAjVAlgI1QJYCNUCWAjVAlgI1QJYCNUCWAjVAlgI1QJYCNUCWAjVAlgI1QJYCNUCWAjVAlgI1QJYCNUCWAjVAlgI1QJYCNUCWAjVAlgI1QA==",
          "dtype": "f4"
         },
         "z": {
          "bdata": "MvYXXohsGd5e91DewElH2+zigF5GDwdf4YE4Xy6xj1+g/pdfJT4EYIZKO2DaTHZgQTCbYEpJvGDvSt5g3FcCYZmIF2Fg1yxhKx5BYV8mWGFTlW5hsF2CYekCjmGtpJhhdomjYXcCr2GMPblhDmbDYbsXzWFmEddhx27gYdUt6WGVaPFhUQn6YfgKAGJdIwNiPAoGYsRoCGJxngpiXEwMYn3NDWKBqA5izIoPYgR3D2LBhg9ijooPYlXfDmJJ2A1iybAMYtFdC2LnfwliiEEHYgEHBWIApQJiUYX/Ye4R+mFlsvRhAf3tYRCE52HuneBhDrHZYW7M0GFMpsthJmzEYTpmvWEcvLVhjhyvYdrrp2G6H6FhZiaaYY2lk2F5K41hp3iHYZ3SgWGug3ZhBm9sYSNRZGFpD1lhSCFPYS+ARWGrsTphpHczYb5LKmEkgiFh09cXYX6eDWHWMgRhZuD2YL064mBTks1gY9e1YBDnqWBsaplg4VeJYGCIaGBMuipgLU0aYKSUw1/LLZhfWXi7Xg==",
          "dtype": "f4"
         }
        },
        {
         "line": {
          "cmax": 743052139482090300000,
          "cmin": -14341760292361339000,
          "color": {
           "bdata": "tI0YXr/wH9703GDeDUSl3AZhbF5BRf9eN3UvX84wil88TpFfP6UAYMmYN2DYOHJgchCZYFcSumA339tgdikBYeNZFmGirithOgBAYcwZV2HnlW1h1euBYUGjjWEbTphhoUSjYdnnrmEyJLlhMGjDYSQ6zWH9T9dhKdHgYbOz6WHtFvJh+ev6YXCLAGKXtgNiV7QGYqYoCWIjdAtiIj4NYmfNDmKgvQ9iKLQQYqWsEGJU0BBiAecQYv1KEGI9Tw9inzIOYg/uDGIXFAtijtkIYjuhBmKkPwRi2VsBYhs7/WF+1/dhUQ3xYZh76mHNfuNh5nbcYSJl02EEKc5hVsvGYYucv2G/z7dhQwWxYfqkqWF0saJha4+bYdXnlGEeSo5hIoaIYWi0gmEfEHhh1MxtYTTQZWH7NVphEh5QYVByRmG/iTthsVI0Yf8aK2HZUiJhDaIYYcRoDmGx9QRhyIT4YOnM42BNBc9gMR+3YPtLq2CmuppgG3+KYNp1amDlHCxgaZcbYJ7Zw1+rHJlftAK7Xg==",
           "dtype": "f4"
          },
          "colorscale": [
           [
            0,
            "#440154"
           ],
           [
            0.1111111111111111,
            "#482878"
           ],
           [
            0.2222222222222222,
            "#3e4989"
           ],
           [
            0.3333333333333333,
            "#31688e"
           ],
           [
            0.4444444444444444,
            "#26828e"
           ],
           [
            0.5555555555555556,
            "#1f9e89"
           ],
           [
            0.6666666666666666,
            "#35b779"
           ],
           [
            0.7777777777777778,
            "#6ece58"
           ],
           [
            0.8888888888888888,
            "#b5de2b"
           ],
           [
            1,
            "#fde725"
           ]
          ],
          "showscale": false,
          "width": 4
         },
         "mode": "lines",
         "showlegend": false,
         "type": "scatter3d",
         "x": {
          "bdata": "AAAAALooDiy6KI4sFz3VLLooDi3osjEtFz1VLUbHeC26KI4t0e2fLeiysS0AeMMtFz3VLS4C5y1Gx/gtLkYFLrooDi5GCxcu0e0fLl3QKC7osjEudJU6LgB4Qy6LWkwuFz1VLqMfXi4uAmcuuuRvLkbHeC7p1IAuLkaFLnS3iS66KI4uAJqSLkYLly6LfJsu0e2fLhdfpC5d0Kguo0GtLuiysS4uJLYudJW6LroGvy4AeMMuRunHLotazC7Ry9AuFz3VLl2u2S6hH94u55DiLi0C5y5zc+suuOTvLv5V9C5Ex/guijj9LujUAC+LDQMvLkYFL9B+By90twkvFvALL7ooDi9cYRAv/5kSL6LSFC9FCxcv6EMZL4p8Gy8utR0v0O0fL3QmIi8WXyQvuZcmL1zQKC//CCsvokEtL0V6Ly/osjEvi+szLy4kNi/QXDgvdJU6LxbOPC+5Bj8vXD9BL/93Qy+isEUvRelHL+ghSi+LWkwvLpNOL9DLUC9zBFMvFj1VL7l1Vy9crlkv/+ZbLw==",
          "dtype": "f4"
         },
         "y": {
          "bdata": "fPBBQHzwQUB88EFAfPBBQHzwQUB88EFAfPBBQHzwQUB88EFAfPBBQHzwQUB88EFAfPBBQHzwQUB88EFAfPBBQHzwQUB88EFAfPBBQHzwQUB88EFAfPBBQHzwQUB88EFAfPBBQHzwQUB88EFAfPBBQHzwQUB88EFAfPBBQHzwQUB88EFAfPBBQHzwQUB88EFAfPBBQHzwQUB88EFAfPBBQHzwQUB88EFAfPBBQHzwQUB88EFAfPBBQHzwQUB88EFAfPBBQHzwQUB88EFAfPBBQHzwQUB88EFAfPBBQHzwQUB88EFAfPBBQHzwQUB88EFAfPBBQHzwQUB88EFAfPBBQHzwQUB88EFAfPBBQHzwQUB88EFAfPBBQHzwQUB88EFAfPBBQHzwQUB88EFAfPBBQHzwQUB88EFAfPBBQHzwQUB88EFAfPBBQHzwQUB88EFAfPBBQHzwQUB88EFAfPBBQHzwQUB88EFAfPBBQHzwQUB88EFAfPBBQHzwQUB88EFAfPBBQHzwQUB88EFAfPBBQA==",
          "dtype": "f4"
         },
         "z": {
          "bdata": "tI0YXr/wH9703GDeDUSl3AZhbF5BRf9eN3UvX84wil88TpFfP6UAYMmYN2DYOHJgchCZYFcSumA339tgdikBYeNZFmGirithOgBAYcwZV2HnlW1h1euBYUGjjWEbTphhoUSjYdnnrmEyJLlhMGjDYSQ6zWH9T9dhKdHgYbOz6WHtFvJh+ev6YXCLAGKXtgNiV7QGYqYoCWIjdAtiIj4NYmfNDmKgvQ9iKLQQYqWsEGJU0BBiAecQYv1KEGI9Tw9inzIOYg/uDGIXFAtijtkIYjuhBmKkPwRi2VsBYhs7/WF+1/dhUQ3xYZh76mHNfuNh5nbcYSJl02EEKc5hVsvGYYucv2G/z7dhQwWxYfqkqWF0saJha4+bYdXnlGEeSo5hIoaIYWi0gmEfEHhh1MxtYTTQZWH7NVphEh5QYVByRmG/iTthsVI0Yf8aK2HZUiJhDaIYYcRoDmGx9QRhyIT4YOnM42BNBc9gMR+3YPtLq2CmuppgG3+KYNp1amDlHCxgaZcbYJ7Zw1+rHJlftAK7Xg==",
          "dtype": "f4"
         }
        },
        {
         "line": {
          "cmax": 743052139482090300000,
          "cmin": -14341760292361339000,
          "color": {
           "bdata": "7RwZXnXVJd6eA2/esZAS3YfeWF7p3fFexEcnXzU8hV9lS4tfkNj6X3lINGCPmG5g+y2XYOMduGDIvdlgDyIAYQ5UFWEHsCphkgw/YSY5VmFYw2xhWZCBYTBZjWG5DZhhOxWjYWDfrmFCHrlh7nvDYV5szWHYm9dh1T3hYZpA6mGFyPJhVMz7YTgJAWI5RQRiO1cHYvreCWLIPQxifyEOYjO8D2JYvxBiNccRYmzKEWJM/xFiziYSYhiYEWIWphBiEZMPYhhbDmLahAxigk0KYmcXCGIitgViO9ECYuUOAGJqtvphh9rzYeQy7WFiIuZhvwLfYePH1WFxetBhcfzIYf2owWFUvblh48yyYTtBq2HOKqRho+ScYcwZlmH8W49hxIiJYU2Pg2Fck3lhtiZvYWVJZ2FOXFthpx5RYQ9oR2H/Zzxh1zI1YX7vK2HSJyNh828ZYXQ1D2HLugVhNSv6YOVb5WCudtBg3mu4YCmprGBoAZxghJ6LYEtYbGCKfC1gbdccYIr3w19dB5pfWcO6Xg==",
           "dtype": "f4"
          },
          "colorscale": [
           [
            0,
            "#440154"
           ],
           [
            0.1111111111111111,
            "#482878"
           ],
           [
            0.2222222222222222,
            "#3e4989"
           ],
           [
            0.3333333333333333,
            "#31688e"
           ],
           [
            0.4444444444444444,
            "#26828e"
           ],
           [
            0.5555555555555556,
            "#1f9e89"
           ],
           [
            0.6666666666666666,
            "#35b779"
           ],
           [
            0.7777777777777778,
            "#6ece58"
           ],
           [
            0.8888888888888888,
            "#b5de2b"
           ],
           [
            1,
            "#fde725"
           ]
          ],
          "showscale": false,
          "width": 4
         },
         "mode": "lines",
         "showlegend": false,
         "type": "scatter3d",
         "x": {
          "bdata": "AAAAALooDiy6KI4sFz3VLLooDi3osjEtFz1VLUbHeC26KI4t0e2fLeiysS0AeMMtFz3VLS4C5y1Gx/gtLkYFLrooDi5GCxcu0e0fLl3QKC7osjEudJU6LgB4Qy6LWkwuFz1VLqMfXi4uAmcuuuRvLkbHeC7p1IAuLkaFLnS3iS66KI4uAJqSLkYLly6LfJsu0e2fLhdfpC5d0Kguo0GtLuiysS4uJLYudJW6LroGvy4AeMMuRunHLotazC7Ry9AuFz3VLl2u2S6hH94u55DiLi0C5y5zc+suuOTvLv5V9C5Ex/guijj9LujUAC+LDQMvLkYFL9B+By90twkvFvALL7ooDi9cYRAv/5kSL6LSFC9FCxcv6EMZL4p8Gy8utR0v0O0fL3QmIi8WXyQvuZcmL1zQKC//CCsvokEtL0V6Ly/osjEvi+szLy4kNi/QXDgvdJU6LxbOPC+5Bj8vXD9BL/93Qy+isEUvRelHL+ghSi+LWkwvLpNOL9DLUC9zBFMvFj1VL7l1Vy9crlkv/+ZbLw==",
          "dtype": "f4"
         },
         "y": {
          "bdata": "Yt5OQGLeTkBi3k5AYt5OQGLeTkBi3k5AYt5OQGLeTkBi3k5AYt5OQGLeTkBi3k5AYt5OQGLeTkBi3k5AYt5OQGLeTkBi3k5AYt5OQGLeTkBi3k5AYt5OQGLeTkBi3k5AYt5OQGLeTkBi3k5AYt5OQGLeTkBi3k5AYt5OQGLeTkBi3k5AYt5OQGLeTkBi3k5AYt5OQGLeTkBi3k5AYt5OQGLeTkBi3k5AYt5OQGLeTkBi3k5AYt5OQGLeTkBi3k5AYt5OQGLeTkBi3k5AYt5OQGLeTkBi3k5AYt5OQGLeTkBi3k5AYt5OQGLeTkBi3k5AYt5OQGLeTkBi3k5AYt5OQGLeTkBi3k5AYt5OQGLeTkBi3k5AYt5OQGLeTkBi3k5AYt5OQGLeTkBi3k5AYt5OQGLeTkBi3k5AYt5OQGLeTkBi3k5AYt5OQGLeTkBi3k5AYt5OQGLeTkBi3k5AYt5OQGLeTkBi3k5AYt5OQGLeTkBi3k5AYt5OQGLeTkBi3k5AYt5OQGLeTkBi3k5AYt5OQA==",
          "dtype": "f4"
         },
         "z": {
          "bdata": "7RwZXnXVJd6eA2/esZAS3YfeWF7p3fFexEcnXzU8hV9lS4tfkNj6X3lINGCPmG5g+y2XYOMduGDIvdlgDyIAYQ5UFWEHsCphkgw/YSY5VmFYw2xhWZCBYTBZjWG5DZhhOxWjYWDfrmFCHrlh7nvDYV5szWHYm9dh1T3hYZpA6mGFyPJhVMz7YTgJAWI5RQRiO1cHYvreCWLIPQxifyEOYjO8D2JYvxBiNccRYmzKEWJM/xFiziYSYhiYEWIWphBiEZMPYhhbDmLahAxigk0KYmcXCGIitgViO9ECYuUOAGJqtvphh9rzYeQy7WFiIuZhvwLfYePH1WFxetBhcfzIYf2owWFUvblh48yyYTtBq2HOKqRho+ScYcwZlmH8W49hxIiJYU2Pg2Fck3lhtiZvYWVJZ2FOXFthpx5RYQ9oR2H/Zzxh1zI1YX7vK2HSJyNh828ZYXQ1D2HLugVhNSv6YOVb5WCudtBg3mu4YCmprGBoAZxghJ6LYEtYbGCKfC1gbdccYIr3w19dB5pfWcO6Xg==",
          "dtype": "f4"
         }
        },
        {
         "line": {
          "cmax": 743052139482090300000,
          "cmin": -14341760292361339000,
          "color": {
           "bdata": "PK0ZXtMfK97sbnvexIJL3QeRR17oG+ZeTRsgXwrpgF+1DIZfukX1XxBvMWB4g2tgG5eVYBR8tmCq+Ndg9Zb+YA+CFGGY5ylhW1A+YWeSVWGfLGxhF1OBYSEtjWEn7JdhVgSjYW7zrmGANblhZqvDYba4zWG5/9dh67/hYQvg6mEuifNhBrf8YZaKAWKj1QRidvkHYl+SCmIRAg1iA/0OYr2gEGJutBFi6MoSYjDXEmKOGhNiy1ATYmbNEmJ/4xFindgQYlSrD2JS2A1iXaMLYjVvCWL2DQdi+ycEYvBhAWLPWP1hi232YU2y72GBkOhh3VvhYZr712GloNJhVQXLYRaRw2H4ibth/He0Ye3ErGGsj6VhdSmeYak+l2HvY5BhZoOKYahlhGGcEXth7n9wYTPAaGFlhVxhPCVSYX1jSGGkTT1hORk2YQ3KLGGgASRhykEaYZYEEGHNgQZhTtL7YAvn5mDg5NFgmLi5YMH9rWBkPp1gyrWMYIEubmBB1i5gKA4eYNr+w1/175pforS6Xg==",
           "dtype": "f4"
          },
          "colorscale": [
           [
            0,
            "#440154"
           ],
           [
            0.1111111111111111,
            "#482878"
           ],
           [
            0.2222222222222222,
            "#3e4989"
           ],
           [
            0.3333333333333333,
            "#31688e"
           ],
           [
            0.4444444444444444,
            "#26828e"
           ],
           [
            0.5555555555555556,
            "#1f9e89"
           ],
           [
            0.6666666666666666,
            "#35b779"
           ],
           [
            0.7777777777777778,
            "#6ece58"
           ],
           [
            0.8888888888888888,
            "#b5de2b"
           ],
           [
            1,
            "#fde725"
           ]
          ],
          "showscale": false,
          "width": 4
         },
         "mode": "lines",
         "showlegend": false,
         "type": "scatter3d",
         "x": {
          "bdata": "AAAAALooDiy6KI4sFz3VLLooDi3osjEtFz1VLUbHeC26KI4t0e2fLeiysS0AeMMtFz3VLS4C5y1Gx/gtLkYFLrooDi5GCxcu0e0fLl3QKC7osjEudJU6LgB4Qy6LWkwuFz1VLqMfXi4uAmcuuuRvLkbHeC7p1IAuLkaFLnS3iS66KI4uAJqSLkYLly6LfJsu0e2fLhdfpC5d0Kguo0GtLuiysS4uJLYudJW6LroGvy4AeMMuRunHLotazC7Ry9AuFz3VLl2u2S6hH94u55DiLi0C5y5zc+suuOTvLv5V9C5Ex/guijj9LujUAC+LDQMvLkYFL9B+By90twkvFvALL7ooDi9cYRAv/5kSL6LSFC9FCxcv6EMZL4p8Gy8utR0v0O0fL3QmIi8WXyQvuZcmL1zQKC//CCsvokEtL0V6Ly/osjEvi+szLy4kNi/QXDgvdJU6LxbOPC+5Bj8vXD9BL/93Qy+isEUvRelHL+ghSi+LWkwvLpNOL9DLUC9zBFMvFj1VL7l1Vy9crlkv/+ZbLw==",
          "dtype": "f4"
         },
         "y": {
          "bdata": "SMxbQEjMW0BIzFtASMxbQEjMW0BIzFtASMxbQEjMW0BIzFtASMxbQEjMW0BIzFtASMxbQEjMW0BIzFtASMxbQEjMW0BIzFtASMxbQEjMW0BIzFtASMxbQEjMW0BIzFtASMxbQEjMW0BIzFtASMxbQEjMW0BIzFtASMxbQEjMW0BIzFtASMxbQEjMW0BIzFtASMxbQEjMW0BIzFtASMxbQEjMW0BIzFtASMxbQEjMW0BIzFtASMxbQEjMW0BIzFtASMxbQEjMW0BIzFtASMxbQEjMW0BIzFtASMxbQEjMW0BIzFtASMxbQEjMW0BIzFtASMxbQEjMW0BIzFtASMxbQEjMW0BIzFtASMxbQEjMW0BIzFtASMxbQEjMW0BIzFtASMxbQEjMW0BIzFtASMxbQEjMW0BIzFtASMxbQEjMW0BIzFtASMxbQEjMW0BIzFtASMxbQEjMW0BIzFtASMxbQEjMW0BIzFtASMxbQEjMW0BIzFtASMxbQEjMW0BIzFtASMxbQEjMW0BIzFtASMxbQA==",
          "dtype": "f4"
         },
         "z": {
          "bdata": "PK0ZXtMfK97sbnvexIJL3QeRR17oG+ZeTRsgXwrpgF+1DIZfukX1XxBvMWB4g2tgG5eVYBR8tmCq+Ndg9Zb+YA+CFGGY5ylhW1A+YWeSVWGfLGxhF1OBYSEtjWEn7JdhVgSjYW7zrmGANblhZqvDYba4zWG5/9dh67/hYQvg6mEuifNhBrf8YZaKAWKj1QRidvkHYl+SCmIRAg1iA/0OYr2gEGJutBFi6MoSYjDXEmKOGhNiy1ATYmbNEmJ/4xFindgQYlSrD2JS2A1iXaMLYjVvCWL2DQdi+ycEYvBhAWLPWP1hi232YU2y72GBkOhh3VvhYZr712GloNJhVQXLYRaRw2H4ibth/He0Ye3ErGGsj6VhdSmeYak+l2HvY5BhZoOKYahlhGGcEXth7n9wYTPAaGFlhVxhPCVSYX1jSGGkTT1hORk2YQ3KLGGgASRhykEaYZYEEGHNgQZhTtL7YAvn5mDg5NFgmLi5YMH9rWBkPp1gyrWMYIEubmBB1i5gKA4eYNr+w1/175pforS6Xg==",
          "dtype": "f4"
         }
        },
        {
         "line": {
          "cmax": 743052139482090300000,
          "cmin": -14341760292361339000,
          "color": {
           "bdata": "a0MaXk/SL96BE4PegB593YegOF6wFdxe7v4ZX6qBel+hm4FfQp/wXwkWL2B+A2lg81GUYNQztWCll9Zgf1P9YGLoE2FCWilh9tA9YTQrVWG912thKzeBYXQijWHL7JdhgBWjYZUor2HObblhnvrDYUMjzmH4f9hh+FviYceW62HtXfRhhrH9YVASAmKoagViBJ4IYuVFC2IwxA1ivdMPYl5+EWI9oBJiysITYnbWE2K7JRRij2gUYnzuE2ITCxNi0wYSYkfiEGLbEQ9iZd4MYsKrCmIZSghi7WIFYliZAmLGw/9hAMv4YSb+8WEazeph14XjYb8D2mFdntRhjejMYSlXxWG8N71hMQi2YZgxrmFN4aZhzF6fYTBXmGGQYpFhjHaLYdI3hWE9i3xhXthxYYk0amEQsV1hRTFTYQdkSWGvOT5h5QQ3YaapLWEs3yRhchYbYQjVEGF8SQdhI3f9YFhs6GBuTdNgOgG7YCRIr2B1cJ5g78ONYFj2b2AfJzBgHTsfYC35w1+x1ptfHtG6Xg==",
           "dtype": "f4"
          },
          "colorscale": [
           [
            0,
            "#440154"
           ],
           [
            0.1111111111111111,
            "#482878"
           ],
           [
            0.2222222222222222,
            "#3e4989"
           ],
           [
            0.3333333333333333,
            "#31688e"
           ],
           [
            0.4444444444444444,
            "#26828e"
           ],
           [
            0.5555555555555556,
            "#1f9e89"
           ],
           [
            0.6666666666666666,
            "#35b779"
           ],
           [
            0.7777777777777778,
            "#6ece58"
           ],
           [
            0.8888888888888888,
            "#b5de2b"
           ],
           [
            1,
            "#fde725"
           ]
          ],
          "showscale": false,
          "width": 4
         },
         "mode": "lines",
         "showlegend": false,
         "type": "scatter3d",
         "x": {
          "bdata": "AAAAALooDiy6KI4sFz3VLLooDi3osjEtFz1VLUbHeC26KI4t0e2fLeiysS0AeMMtFz3VLS4C5y1Gx/gtLkYFLrooDi5GCxcu0e0fLl3QKC7osjEudJU6LgB4Qy6LWkwuFz1VLqMfXi4uAmcuuuRvLkbHeC7p1IAuLkaFLnS3iS66KI4uAJqSLkYLly6LfJsu0e2fLhdfpC5d0Kguo0GtLuiysS4uJLYudJW6LroGvy4AeMMuRunHLotazC7Ry9AuFz3VLl2u2S6hH94u55DiLi0C5y5zc+suuOTvLv5V9C5Ex/guijj9LujUAC+LDQMvLkYFL9B+By90twkvFvALL7ooDi9cYRAv/5kSL6LSFC9FCxcv6EMZL4p8Gy8utR0v0O0fL3QmIi8WXyQvuZcmL1zQKC//CCsvokEtL0V6Ly/osjEvi+szLy4kNi/QXDgvdJU6LxbOPC+5Bj8vXD9BL/93Qy+isEUvRelHL+ghSi+LWkwvLpNOL9DLUC9zBFMvFj1VL7l1Vy9crlkv/+ZbLw==",
          "dtype": "f4"
         },
         "y": {
          "bdata": "LrpoQC66aEAuumhALrpoQC66aEAuumhALrpoQC66aEAuumhALrpoQC66aEAuumhALrpoQC66aEAuumhALrpoQC66aEAuumhALrpoQC66aEAuumhALrpoQC66aEAuumhALrpoQC66aEAuumhALrpoQC66aEAuumhALrpoQC66aEAuumhALrpoQC66aEAuumhALrpoQC66aEAuumhALrpoQC66aEAuumhALrpoQC66aEAuumhALrpoQC66aEAuumhALrpoQC66aEAuumhALrpoQC66aEAuumhALrpoQC66aEAuumhALrpoQC66aEAuumhALrpoQC66aEAuumhALrpoQC66aEAuumhALrpoQC66aEAuumhALrpoQC66aEAuumhALrpoQC66aEAuumhALrpoQC66aEAuumhALrpoQC66aEAuumhALrpoQC66aEAuumhALrpoQC66aEAuumhALrpoQC66aEAuumhALrpoQC66aEAuumhALrpoQC66aEAuumhALrpoQC66aEAuumhALrpoQA==",
          "dtype": "f4"
         },
         "z": {
          "bdata": "a0MaXk/SL96BE4PegB593YegOF6wFdxe7v4ZX6qBel+hm4FfQp/wXwkWL2B+A2lg81GUYNQztWCll9Zgf1P9YGLoE2FCWilh9tA9YTQrVWG912thKzeBYXQijWHL7JdhgBWjYZUor2HObblhnvrDYUMjzmH4f9hh+FviYceW62HtXfRhhrH9YVASAmKoagViBJ4IYuVFC2IwxA1ivdMPYl5+EWI9oBJiysITYnbWE2K7JRRij2gUYnzuE2ITCxNi0wYSYkfiEGLbEQ9iZd4MYsKrCmIZSghi7WIFYliZAmLGw/9hAMv4YSb+8WEazeph14XjYb8D2mFdntRhjejMYSlXxWG8N71hMQi2YZgxrmFN4aZhzF6fYTBXmGGQYpFhjHaLYdI3hWE9i3xhXthxYYk0amEQsV1hRTFTYQdkSWGvOT5h5QQ3YaapLWEs3yRhchYbYQjVEGF8SQdhI3f9YFhs6GBuTdNgOgG7YCRIr2B1cJ5g78ONYFj2b2AfJzBgHTsfYC35w1+x1ptfHtG6Xg==",
          "dtype": "f4"
         }
        },
        {
         "line": {
          "cmax": 743052139482090300000,
          "cmin": -14341760292361339000,
          "color": {
           "bdata": "YOEaXr7xM95un4fesauT3SUWLF7DzNNeRPQUX7eIdF/s73tftOXsX+M+LWBHGWdgE1+TYLBFtGBEm9VgCHr8YDKHE2E1CClhro49YasDVWHDxGthmTyBYT45jWGhD5hhwEijYR1/r2E2x7lhsGnEYR+szmHbHNlhYBLjYV9l7GF7R/Vh67z+YfmgAmL5BAZivkUJYnv6C2IwhQ5iu6YQYmtWEmIrhBNibLAUYuDJFGKZIhVi6m8VYj79FGK/HhRiph8TYvQBEmJhMxBihwAOYt7OC2JWbAlivYMGYri2A2I6/QBir/X6YfgY9GFo2uxhpILlYSPi22HddNZhQqfOYSf8xmFfx75h9n23YY2Hr2HFH6hhdoSgYR1jmWF3V5JhtGGMYScFhmHd/n1hTS5zYZmka2Gp3V5h3UBUYeFnSmElKj9h9PM3YWyMLmGoviVhNOwbYSClEWEzEAhhMBb/YCnp6WCurdRgHEK8YHeGsGAylp9goMeOYEWtcWBnbDFgM10gYKDuw1++upxfaxO7Xg==",
           "dtype": "f4"
          },
          "colorscale": [
           [
            0,
            "#440154"
           ],
           [
            0.1111111111111111,
            "#482878"
           ],
           [
            0.2222222222222222,
            "#3e4989"
           ],
           [
            0.3333333333333333,
            "#31688e"
           ],
           [
            0.4444444444444444,
            "#26828e"
           ],
           [
            0.5555555555555556,
            "#1f9e89"
           ],
           [
            0.6666666666666666,
            "#35b779"
           ],
           [
            0.7777777777777778,
            "#6ece58"
           ],
           [
            0.8888888888888888,
            "#b5de2b"
           ],
           [
            1,
            "#fde725"
           ]
          ],
          "showscale": false,
          "width": 4
         },
         "mode": "lines",
         "showlegend": false,
         "type": "scatter3d",
         "x": {
          "bdata": "AAAAALooDiy6KI4sFz3VLLooDi3osjEtFz1VLUbHeC26KI4t0e2fLeiysS0AeMMtFz3VLS4C5y1Gx/gtLkYFLrooDi5GCxcu0e0fLl3QKC7osjEudJU6LgB4Qy6LWkwuFz1VLqMfXi4uAmcuuuRvLkbHeC7p1IAuLkaFLnS3iS66KI4uAJqSLkYLly6LfJsu0e2fLhdfpC5d0Kguo0GtLuiysS4uJLYudJW6LroGvy4AeMMuRunHLotazC7Ry9AuFz3VLl2u2S6hH94u55DiLi0C5y5zc+suuOTvLv5V9C5Ex/guijj9LujUAC+LDQMvLkYFL9B+By90twkvFvALL7ooDi9cYRAv/5kSL6LSFC9FCxcv6EMZL4p8Gy8utR0v0O0fL3QmIi8WXyQvuZcmL1zQKC//CCsvokEtL0V6Ly/osjEvi+szLy4kNi/QXDgvdJU6LxbOPC+5Bj8vXD9BL/93Qy+isEUvRelHL+ghSi+LWkwvLpNOL9DLUC9zBFMvFj1VL7l1Vy9crlkv/+ZbLw==",
          "dtype": "f4"
         },
         "y": {
          "bdata": "FKh1QBSodUAUqHVAFKh1QBSodUAUqHVAFKh1QBSodUAUqHVAFKh1QBSodUAUqHVAFKh1QBSodUAUqHVAFKh1QBSodUAUqHVAFKh1QBSodUAUqHVAFKh1QBSodUAUqHVAFKh1QBSodUAUqHVAFKh1QBSodUAUqHVAFKh1QBSodUAUqHVAFKh1QBSodUAUqHVAFKh1QBSodUAUqHVAFKh1QBSodUAUqHVAFKh1QBSodUAUqHVAFKh1QBSodUAUqHVAFKh1QBSodUAUqHVAFKh1QBSodUAUqHVAFKh1QBSodUAUqHVAFKh1QBSodUAUqHVAFKh1QBSodUAUqHVAFKh1QBSodUAUqHVAFKh1QBSodUAUqHVAFKh1QBSodUAUqHVAFKh1QBSodUAUqHVAFKh1QBSodUAUqHVAFKh1QBSodUAUqHVAFKh1QBSodUAUqHVAFKh1QBSodUAUqHVAFKh1QBSodUAUqHVAFKh1QBSodUAUqHVAFKh1QBSodUAUqHVAFKh1QBSodUAUqHVAFKh1QA==",
          "dtype": "f4"
         },
         "z": {
          "bdata": "YOEaXr7xM95un4fesauT3SUWLF7DzNNeRPQUX7eIdF/s73tftOXsX+M+LWBHGWdgE1+TYLBFtGBEm9VgCHr8YDKHE2E1CClhro49YasDVWHDxGthmTyBYT45jWGhD5hhwEijYR1/r2E2x7lhsGnEYR+szmHbHNlhYBLjYV9l7GF7R/Vh67z+YfmgAmL5BAZivkUJYnv6C2IwhQ5iu6YQYmtWEmIrhBNibLAUYuDJFGKZIhVi6m8VYj79FGK/HhRiph8TYvQBEmJhMxBihwAOYt7OC2JWbAlivYMGYri2A2I6/QBir/X6YfgY9GFo2uxhpILlYSPi22HddNZhQqfOYSf8xmFfx75h9n23YY2Hr2HFH6hhdoSgYR1jmWF3V5JhtGGMYScFhmHd/n1hTS5zYZmka2Gp3V5h3UBUYeFnSmElKj9h9PM3YWyMLmGoviVhNOwbYSClEWEzEAhhMBb/YCnp6WCurdRgHEK8YHeGsGAylp9goMeOYEWtcWBnbDFgM10gYKDuw1++upxfaxO7Xg==",
          "dtype": "f4"
         }
        },
        {
         "line": {
          "cmax": 743052139482090300000,
          "cmin": -14341760292361339000,
          "color": {
           "bdata": "+IYbXjSEN94kYoveajCl3friIV7IMc1eRfIQXzDbb18FNHZfFRDqX3zlK2DKvmVgNruSYNyts2A3/9RgjwX8YLpbE2Fv7ihhgoY9YVAYVWHu72theGGBYV5vjWGAUphh4ZujYbf0r2FnP7phWPbEYftQz2Et1NlhA+HjYdJJ7WEFRPZhrtf/YeI1A2L2owZiJ/AJYs6vDGLhRA9i5XURYvkoE2JsYBRiPJQVYvqxFWLkERZir2cWYpb6FWKNHxViJiQUYocLE2IVPhFi/woPYsLZDGLhdQpimYsHYjC7BGJ7/wFikO/8YY4E9mEQuu5hsVPnYSuY3WH9JNhhNkLQYZSAyGE5OcBhYdm4YbzGsGHASqlh5ZmhYcJhmmHKQZNhAUSNYYvMhmFDan9hJX90YdINbWGrCGBhUFFVYYBsS2FuHEBh9uM4YflvL2HGnSZh6sAcYelyEmEO1Ahh5lUAYZpa62DGAtZgHXi9YMq2sWAPrqBge7+PYLlQc2CcozJgMXMhYIflw1+bmp1f4nW7Xg==",
           "dtype": "f4"
          },
          "colorscale": [
           [
            0,
            "#440154"
           ],
           [
            0.1111111111111111,
            "#482878"
           ],
           [
            0.2222222222222222,
            "#3e4989"
           ],
           [
            0.3333333333333333,
            "#31688e"
           ],
           [
            0.4444444444444444,
            "#26828e"
           ],
           [
            0.5555555555555556,
            "#1f9e89"
           ],
           [
            0.6666666666666666,
            "#35b779"
           ],
           [
            0.7777777777777778,
            "#6ece58"
           ],
           [
            0.8888888888888888,
            "#b5de2b"
           ],
           [
            1,
            "#fde725"
           ]
          ],
          "showscale": false,
          "width": 4
         },
         "mode": "lines",
         "showlegend": false,
         "type": "scatter3d",
         "x": {
          "bdata": "AAAAALooDiy6KI4sFz3VLLooDi3osjEtFz1VLUbHeC26KI4t0e2fLeiysS0AeMMtFz3VLS4C5y1Gx/gtLkYFLrooDi5GCxcu0e0fLl3QKC7osjEudJU6LgB4Qy6LWkwuFz1VLqMfXi4uAmcuuuRvLkbHeC7p1IAuLkaFLnS3iS66KI4uAJqSLkYLly6LfJsu0e2fLhdfpC5d0Kguo0GtLuiysS4uJLYudJW6LroGvy4AeMMuRunHLotazC7Ry9AuFz3VLl2u2S6hH94u55DiLi0C5y5zc+suuOTvLv5V9C5Ex/guijj9LujUAC+LDQMvLkYFL9B+By90twkvFvALL7ooDi9cYRAv/5kSL6LSFC9FCxcv6EMZL4p8Gy8utR0v0O0fL3QmIi8WXyQvuZcmL1zQKC//CCsvokEtL0V6Ly/osjEvi+szLy4kNi/QXDgvdJU6LxbOPC+5Bj8vXD9BL/93Qy+isEUvRelHL+ghSi+LWkwvLpNOL9DLUC9zBFMvFj1VL7l1Vy9crlkv/+ZbLw==",
          "dtype": "f4"
         },
         "y": {
          "bdata": "/UqBQP1KgUD9SoFA/UqBQP1KgUD9SoFA/UqBQP1KgUD9SoFA/UqBQP1KgUD9SoFA/UqBQP1KgUD9SoFA/UqBQP1KgUD9SoFA/UqBQP1KgUD9SoFA/UqBQP1KgUD9SoFA/UqBQP1KgUD9SoFA/UqBQP1KgUD9SoFA/UqBQP1KgUD9SoFA/UqBQP1KgUD9SoFA/UqBQP1KgUD9SoFA/UqBQP1KgUD9SoFA/UqBQP1KgUD9SoFA/UqBQP1KgUD9SoFA/UqBQP1KgUD9SoFA/UqBQP1KgUD9SoFA/UqBQP1KgUD9SoFA/UqBQP1KgUD9SoFA/UqBQP1KgUD9SoFA/UqBQP1KgUD9SoFA/UqBQP1KgUD9SoFA/UqBQP1KgUD9SoFA/UqBQP1KgUD9SoFA/UqBQP1KgUD9SoFA/UqBQP1KgUD9SoFA/UqBQP1KgUD9SoFA/UqBQP1KgUD9SoFA/UqBQP1KgUD9SoFA/UqBQP1KgUD9SoFA/UqBQP1KgUD9SoFA/UqBQP1KgUD9SoFA/UqBQA==",
          "dtype": "f4"
         },
         "z": {
          "bdata": "+IYbXjSEN94kYoveajCl3friIV7IMc1eRfIQXzDbb18FNHZfFRDqX3zlK2DKvmVgNruSYNyts2A3/9RgjwX8YLpbE2Fv7ihhgoY9YVAYVWHu72theGGBYV5vjWGAUphh4ZujYbf0r2FnP7phWPbEYftQz2Et1NlhA+HjYdJJ7WEFRPZhrtf/YeI1A2L2owZiJ/AJYs6vDGLhRA9i5XURYvkoE2JsYBRiPJQVYvqxFWLkERZir2cWYpb6FWKNHxViJiQUYocLE2IVPhFi/woPYsLZDGLhdQpimYsHYjC7BGJ7/wFikO/8YY4E9mEQuu5hsVPnYSuY3WH9JNhhNkLQYZSAyGE5OcBhYdm4YbzGsGHASqlh5ZmhYcJhmmHKQZNhAUSNYYvMhmFDan9hJX90YdINbWGrCGBhUFFVYYBsS2FuHEBh9uM4YflvL2HGnSZh6sAcYelyEmEO1Ahh5lUAYZpa62DGAtZgHXi9YMq2sWAPrqBge7+PYLlQc2CcozJgMXMhYIflw1+bmp1f4nW7Xg==",
          "dtype": "f4"
         }
        },
        {
         "line": {
          "cmax": 743052139482090300000,
          "cmin": -14341760292361339000,
          "color": {
           "bdata": "CjMcXqyPOt6rbI7eeEuz3ULoGV75K8he1OkNX2dlbF+B63Ff7g/oX4EBK2Ap6mRgyGCSYAlms2BXvNRgG+77YJhhE2E2CClhXrM9YaZjVWF4U2xhpqKBYbPBjWEDsphhaQukYd2FsGHC0rph55zFYSMO0GFNotphU8TkYbFA7mFEUPdhVH8AYp/PA2JWRgdiIJwKYtxkDWJuAhBihEASYpP1E2K2NBViIW4WYsuOFmLa8xZiQVAXYhXnFmIvDhZiKRUVYvr/E2L0MhJi2v4PYn/NDWLTZwtimHsIYtWnBWLE6QJipLr+YcPC92G4bfBhevroYRcn32G0r9lhMbrRYQzlyWGpjcFhihq6YRnvsWHuYaphkJ6iYXRSm2G5IJRhYhyOYfOMh2GTZYBhhch1YZBtbmGNL2FhCGBWYWFvTGH3DUFhbdI5YfdRMGFReidhiZIdYYU8E2FSkwlhQBoBYQ6+7GA/Stdg1aC+YHTXsmCutqFgPqqQYGnedGC7yjNghHsiYHnew1/DdJ5fF/O7Xg==",
           "dtype": "f4"
          },
          "colorscale": [
           [
            0,
            "#440154"
           ],
           [
            0.1111111111111111,
            "#482878"
           ],
           [
            0.2222222222222222,
            "#3e4989"
           ],
           [
            0.3333333333333333,
            "#31688e"
           ],
           [
            0.4444444444444444,
            "#26828e"
           ],
           [
            0.5555555555555556,
            "#1f9e89"
           ],
           [
            0.6666666666666666,
            "#35b779"
           ],
           [
            0.7777777777777778,
            "#6ece58"
           ],
           [
            0.8888888888888888,
            "#b5de2b"
           ],
           [
            1,
            "#fde725"
           ]
          ],
          "showscale": false,
          "width": 4
         },
         "mode": "lines",
         "showlegend": false,
         "type": "scatter3d",
         "x": {
          "bdata": "AAAAALooDiy6KI4sFz3VLLooDi3osjEtFz1VLUbHeC26KI4t0e2fLeiysS0AeMMtFz3VLS4C5y1Gx/gtLkYFLrooDi5GCxcu0e0fLl3QKC7osjEudJU6LgB4Qy6LWkwuFz1VLqMfXi4uAmcuuuRvLkbHeC7p1IAuLkaFLnS3iS66KI4uAJqSLkYLly6LfJsu0e2fLhdfpC5d0Kguo0GtLuiysS4uJLYudJW6LroGvy4AeMMuRunHLotazC7Ry9AuFz3VLl2u2S6hH94u55DiLi0C5y5zc+suuOTvLv5V9C5Ex/guijj9LujUAC+LDQMvLkYFL9B+By90twkvFvALL7ooDi9cYRAv/5kSL6LSFC9FCxcv6EMZL4p8Gy8utR0v0O0fL3QmIi8WXyQvuZcmL1zQKC//CCsvokEtL0V6Ly/osjEvi+szLy4kNi/QXDgvdJU6LxbOPC+5Bj8vXD9BL/93Qy+isEUvRelHL+ghSi+LWkwvLpNOL9DLUC9zBFMvFj1VL7l1Vy9crlkv/+ZbLw==",
          "dtype": "f4"
         },
         "y": {
          "bdata": "8MGHQPDBh0DwwYdA8MGHQPDBh0DwwYdA8MGHQPDBh0DwwYdA8MGHQPDBh0DwwYdA8MGHQPDBh0DwwYdA8MGHQPDBh0DwwYdA8MGHQPDBh0DwwYdA8MGHQPDBh0DwwYdA8MGHQPDBh0DwwYdA8MGHQPDBh0DwwYdA8MGHQPDBh0DwwYdA8MGHQPDBh0DwwYdA8MGHQPDBh0DwwYdA8MGHQPDBh0DwwYdA8MGHQPDBh0DwwYdA8MGHQPDBh0DwwYdA8MGHQPDBh0DwwYdA8MGHQPDBh0DwwYdA8MGHQPDBh0DwwYdA8MGHQPDBh0DwwYdA8MGHQPDBh0DwwYdA8MGHQPDBh0DwwYdA8MGHQPDBh0DwwYdA8MGHQPDBh0DwwYdA8MGHQPDBh0DwwYdA8MGHQPDBh0DwwYdA8MGHQPDBh0DwwYdA8MGHQPDBh0DwwYdA8MGHQPDBh0DwwYdA8MGHQPDBh0DwwYdA8MGHQPDBh0DwwYdA8MGHQPDBh0DwwYdA8MGHQPDBh0DwwYdA8MGHQA==",
          "dtype": "f4"
         },
         "z": {
          "bdata": "CjMcXqyPOt6rbI7eeEuz3ULoGV75K8he1OkNX2dlbF+B63Ff7g/oX4EBK2Ap6mRgyGCSYAlms2BXvNRgG+77YJhhE2E2CClhXrM9YaZjVWF4U2xhpqKBYbPBjWEDsphhaQukYd2FsGHC0rph55zFYSMO0GFNotphU8TkYbFA7mFEUPdhVH8AYp/PA2JWRgdiIJwKYtxkDWJuAhBihEASYpP1E2K2NBViIW4WYsuOFmLa8xZiQVAXYhXnFmIvDhZiKRUVYvr/E2L0MhJi2v4PYn/NDWLTZwtimHsIYtWnBWLE6QJipLr+YcPC92G4bfBhevroYRcn32G0r9lhMbrRYQzlyWGpjcFhihq6YRnvsWHuYaphkJ6iYXRSm2G5IJRhYhyOYfOMh2GTZYBhhch1YZBtbmGNL2FhCGBWYWFvTGH3DUFhbdI5YfdRMGFReidhiZIdYYU8E2FSkwlhQBoBYQ6+7GA/Stdg1aC+YHTXsmCutqFgPqqQYGnedGC7yjNghHsiYHnew1/DdJ5fF/O7Xg==",
          "dtype": "f4"
         }
        },
        {
         "line": {
          "cmax": 743052139482090300000,
          "cmin": -14341760292361339000,
          "color": {
           "bdata": "puMcXmYdPd5Oy5DeM0G+3Rz4E162l8ReM8ULXy8Lal/49G5fQdHmX9iHKmAGjmRgVUiSYNNls2A1ydRgUin8YCqTE2F7Tylh7Q4+YdfeVWEN6GxhZfyBYUssjmEdKplhKJOkYRcusWHvfLthB1nGYT3f0GHvgtthHLjlYepF72FMaPhhHRcBYnRsBGJ96gdiNkgLYl8YDmK6vBBiqQUTYn27FGKCABZizD0XYjRgF2KUyBdi5CkYYirDF2I66xZiZvMVYivgFGL6EhNiLt0QYjerDmJgQwxi81QJYt19BmJMvQNioywAYttV+WF+9/Fh9njqYa+Q4GF/FtthgRDTYZ8qy2F5xcJh/kG7YfUAs2FhZathQJKjYcQ0nGGr85RhGuqOYW5FiGHDD4FhHQh3YWvBb2HjT2Jhf2pXYRRuTWFQ/EFhDL06YTAwMWE+UihhM18eYUkAFGF3TAphzdYBYWkR7mA1gthgcrq/YEfns2Asr6JgFYeRYNBUdmCH4DRgRHUjYL3bw1/GR59f0IW8Xg==",
           "dtype": "f4"
          },
          "colorscale": [
           [
            0,
            "#440154"
           ],
           [
            0.1111111111111111,
            "#482878"
           ],
           [
            0.2222222222222222,
            "#3e4989"
           ],
           [
            0.3333333333333333,
            "#31688e"
           ],
           [
            0.4444444444444444,
            "#26828e"
           ],
           [
            0.5555555555555556,
            "#1f9e89"
           ],
           [
            0.6666666666666666,
            "#35b779"
           ],
           [
            0.7777777777777778,
            "#6ece58"
           ],
           [
            0.8888888888888888,
            "#b5de2b"
           ],
           [
            1,
            "#fde725"
           ]
          ],
          "showscale": false,
          "width": 4
         },
         "mode": "lines",
         "showlegend": false,
         "type": "scatter3d",
         "x": {
          "bdata": "AAAAALooDiy6KI4sFz3VLLooDi3osjEtFz1VLUbHeC26KI4t0e2fLeiysS0AeMMtFz3VLS4C5y1Gx/gtLkYFLrooDi5GCxcu0e0fLl3QKC7osjEudJU6LgB4Qy6LWkwuFz1VLqMfXi4uAmcuuuRvLkbHeC7p1IAuLkaFLnS3iS66KI4uAJqSLkYLly6LfJsu0e2fLhdfpC5d0Kguo0GtLuiysS4uJLYudJW6LroGvy4AeMMuRunHLotazC7Ry9AuFz3VLl2u2S6hH94u55DiLi0C5y5zc+suuOTvLv5V9C5Ex/guijj9LujUAC+LDQMvLkYFL9B+By90twkvFvALL7ooDi9cYRAv/5kSL6LSFC9FCxcv6EMZL4p8Gy8utR0v0O0fL3QmIi8WXyQvuZcmL1zQKC//CCsvokEtL0V6Ly/osjEvi+szLy4kNi/QXDgvdJU6LxbOPC+5Bj8vXD9BL/93Qy+isEUvRelHL+ghSi+LWkwvLpNOL9DLUC9zBFMvFj1VL7l1Vy9crlkv/+ZbLw==",
          "dtype": "f4"
         },
         "y": {
          "bdata": "4ziOQOM4jkDjOI5A4ziOQOM4jkDjOI5A4ziOQOM4jkDjOI5A4ziOQOM4jkDjOI5A4ziOQOM4jkDjOI5A4ziOQOM4jkDjOI5A4ziOQOM4jkDjOI5A4ziOQOM4jkDjOI5A4ziOQOM4jkDjOI5A4ziOQOM4jkDjOI5A4ziOQOM4jkDjOI5A4ziOQOM4jkDjOI5A4ziOQOM4jkDjOI5A4ziOQOM4jkDjOI5A4ziOQOM4jkDjOI5A4ziOQOM4jkDjOI5A4ziOQOM4jkDjOI5A4ziOQOM4jkDjOI5A4ziOQOM4jkDjOI5A4ziOQOM4jkDjOI5A4ziOQOM4jkDjOI5A4ziOQOM4jkDjOI5A4ziOQOM4jkDjOI5A4ziOQOM4jkDjOI5A4ziOQOM4jkDjOI5A4ziOQOM4jkDjOI5A4ziOQOM4jkDjOI5A4ziOQOM4jkDjOI5A4ziOQOM4jkDjOI5A4ziOQOM4jkDjOI5A4ziOQOM4jkDjOI5A4ziOQOM4jkDjOI5A4ziOQOM4jkDjOI5A4ziOQA==",
          "dtype": "f4"
         },
         "z": {
          "bdata": "puMcXmYdPd5Oy5DeM0G+3Rz4E162l8ReM8ULXy8Lal/49G5fQdHmX9iHKmAGjmRgVUiSYNNls2A1ydRgUin8YCqTE2F7Tylh7Q4+YdfeVWEN6GxhZfyBYUssjmEdKplhKJOkYRcusWHvfLthB1nGYT3f0GHvgtthHLjlYepF72FMaPhhHRcBYnRsBGJ96gdiNkgLYl8YDmK6vBBiqQUTYn27FGKCABZizD0XYjRgF2KUyBdi5CkYYirDF2I66xZiZvMVYivgFGL6EhNiLt0QYjerDmJgQwxi81QJYt19BmJMvQNioywAYttV+WF+9/Fh9njqYa+Q4GF/FtthgRDTYZ8qy2F5xcJh/kG7YfUAs2FhZathQJKjYcQ0nGGr85RhGuqOYW5FiGHDD4FhHQh3YWvBb2HjT2Jhf2pXYRRuTWFQ/EFhDL06YTAwMWE+UihhM18eYUkAFGF3TAphzdYBYWkR7mA1gthgcrq/YEfns2Asr6JgFYeRYNBUdmCH4DRgRHUjYL3bw1/GR59f0IW8Xg==",
          "dtype": "f4"
         }
        },
        {
         "line": {
          "cmax": 743052139482090300000,
          "cmin": -14341760292361339000,
          "color": {
           "bdata": "05YdXm02P95EkZLeLF3G3ZnfD17cTsJe2WwKX4iuaF+2LG1fjz7mX25sKmAZnGRgz2mSYD6ks2CtG9VgN6z8YHHqE2HRvSlhaJI+YamCVmEYpm1htGqCYRCrjmGCtplhvC6lYQ7psWFhObxhMCbHYca/0WGUcdxh+7fmYTpV8GERiPlhRrEBYpkKBWLBjghi6PILYgHJDmKkchFiaMQTYvp5FWJFwxZi6wIYYgwmGGImkBhi4fQYYlKPGGJXtxdisb8WYiOtFWI53xNiLKcRYip0D2LTCQ1iBBkKYqo+B2J5ewRiE+cAYl/A+mHbWfNha9HrYQzX4WEwW9xhzEbUYalSzGHl4cNho1C8YfT8s2FzVaxhDnWkYZsInWFMupVht6yPYVf1iGHqsoFhMjx4YdYHcWG3Z2Nhlm5YYYhmTmFm5UJh3KE7Yb0IMmHKIylhTiUfYcy8FGE2/gphbYoCYfFS72AMqdlgscPAYF7ltGDVlqNgUFWSYKqyd2DQ4zVgdV8kYGXaw183EqBfryi9Xg==",
           "dtype": "f4"
          },
          "colorscale": [
           [
            0,
            "#440154"
           ],
           [
            0.1111111111111111,
            "#482878"
           ],
           [
            0.2222222222222222,
            "#3e4989"
           ],
           [
            0.3333333333333333,
            "#31688e"
           ],
           [
            0.4444444444444444,
            "#26828e"
           ],
           [
            0.5555555555555556,
            "#1f9e89"
           ],
           [
            0.6666666666666666,
            "#35b779"
           ],
           [
            0.7777777777777778,
            "#6ece58"
           ],
           [
            0.8888888888888888,
            "#b5de2b"
           ],
           [
            1,
            "#fde725"
           ]
          ],
          "showscale": false,
          "width": 4
         },
         "mode": "lines",
         "showlegend": false,
         "type": "scatter3d",
         "x": {
          "bdata": "AAAAALooDiy6KI4sFz3VLLooDi3osjEtFz1VLUbHeC26KI4t0e2fLeiysS0AeMMtFz3VLS4C5y1Gx/gtLkYFLrooDi5GCxcu0e0fLl3QKC7osjEudJU6LgB4Qy6LWkwuFz1VLqMfXi4uAmcuuuRvLkbHeC7p1IAuLkaFLnS3iS66KI4uAJqSLkYLly6LfJsu0e2fLhdfpC5d0Kguo0GtLuiysS4uJLYudJW6LroGvy4AeMMuRunHLotazC7Ry9AuFz3VLl2u2S6hH94u55DiLi0C5y5zc+suuOTvLv5V9C5Ex/guijj9LujUAC+LDQMvLkYFL9B+By90twkvFvALL7ooDi9cYRAv/5kSL6LSFC9FCxcv6EMZL4p8Gy8utR0v0O0fL3QmIi8WXyQvuZcmL1zQKC//CCsvokEtL0V6Ly/osjEvi+szLy4kNi/QXDgvdJU6LxbOPC+5Bj8vXD9BL/93Qy+isEUvRelHL+ghSi+LWkwvLpNOL9DLUC9zBFMvFj1VL7l1Vy9crlkv/+ZbLw==",
          "dtype": "f4"
         },
         "y": {
          "bdata": "1q+UQNavlEDWr5RA1q+UQNavlEDWr5RA1q+UQNavlEDWr5RA1q+UQNavlEDWr5RA1q+UQNavlEDWr5RA1q+UQNavlEDWr5RA1q+UQNavlEDWr5RA1q+UQNavlEDWr5RA1q+UQNavlEDWr5RA1q+UQNavlEDWr5RA1q+UQNavlEDWr5RA1q+UQNavlEDWr5RA1q+UQNavlEDWr5RA1q+UQNavlEDWr5RA1q+UQNavlEDWr5RA1q+UQNavlEDWr5RA1q+UQNavlEDWr5RA1q+UQNavlEDWr5RA1q+UQNavlEDWr5RA1q+UQNavlEDWr5RA1q+UQNavlEDWr5RA1q+UQNavlEDWr5RA1q+UQNavlEDWr5RA1q+UQNavlEDWr5RA1q+UQNavlEDWr5RA1q+UQNavlEDWr5RA1q+UQNavlEDWr5RA1q+UQNavlEDWr5RA1q+UQNavlEDWr5RA1q+UQNavlEDWr5RA1q+UQNavlEDWr5RA1q+UQNavlEDWr5RA1q+UQNavlEDWr5RA1q+UQA==",
          "dtype": "f4"
         },
         "z": {
          "bdata": "05YdXm02P95EkZLeLF3G3ZnfD17cTsJe2WwKX4iuaF+2LG1fjz7mX25sKmAZnGRgz2mSYD6ks2CtG9VgN6z8YHHqE2HRvSlhaJI+YamCVmEYpm1htGqCYRCrjmGCtplhvC6lYQ7psWFhObxhMCbHYca/0WGUcdxh+7fmYTpV8GERiPlhRrEBYpkKBWLBjghi6PILYgHJDmKkchFiaMQTYvp5FWJFwxZi6wIYYgwmGGImkBhi4fQYYlKPGGJXtxdisb8WYiOtFWI53xNiLKcRYip0D2LTCQ1iBBkKYqo+B2J5ewRiE+cAYl/A+mHbWfNha9HrYQzX4WEwW9xhzEbUYalSzGHl4cNho1C8YfT8s2FzVaxhDnWkYZsInWFMupVht6yPYVf1iGHqsoFhMjx4YdYHcWG3Z2Nhlm5YYYhmTmFm5UJh3KE7Yb0IMmHKIylhTiUfYcy8FGE2/gphbYoCYfFS72AMqdlgscPAYF7ltGDVlqNgUFWSYKqyd2DQ4zVgdV8kYGXaw183EqBfryi9Xg==",
          "dtype": "f4"
         }
        },
        {
         "line": {
          "cmax": 743052139482090300000,
          "cmin": -14341760292361339000,
          "color": {
           "bdata": "W0oeXmHlQN5KzZPeLO/L3SJpDV5BKcFeKcgJX9wvaF9jbWxfsUHmX6CiKmCyBWVg/rySYBsYtGB1qdVgk2v9YFZhFGG2TCphAjc/YctHV2HmhW5hmemCYd05j2HpUpphxNmlYQ+ysmGbA71h2v/HYTur0mHdad1hpb/nYXxq8WGRq/ph7UsCYlOoBWKEMQlixZoMYnx1D2IQIxJi13sUYlowFmKBfBdiQ70YYkLgGGK+Shlik7EZYhZMGWI7cxhi53oXYudnFmLamBRiGV4SYrApEGKbvA1iRMkKYrjrB2LQJQViGo4BYjwF/GGRl/RheQbtYZX84mHzf91hDF/VYfBezWFb5MRhqke9YRLktGHQMq1hX0elYSfOnWGWdJZh8GOQYUGciWF/ToJhZGN5YRc/cmFgdWRhgGpZYfFWT2Fhx0NhDH88YerZMmFd7SlhX+MfYcRwFWFcpwthDzQDYQyB8GBhvdpgJLvBYPHQtWAJbaRgWhSTYNL2eGC/0zZgOzklYMndw1/Y0qBf3da9Xg==",
           "dtype": "f4"
          },
          "colorscale": [
           [
            0,
            "#440154"
           ],
           [
            0.1111111111111111,
            "#482878"
           ],
           [
            0.2222222222222222,
            "#3e4989"
           ],
           [
            0.3333333333333333,
            "#31688e"
           ],
           [
            0.4444444444444444,
            "#26828e"
           ],
           [
            0.5555555555555556,
            "#1f9e89"
           ],
           [
            0.6666666666666666,
            "#35b779"
           ],
           [
            0.7777777777777778,
            "#6ece58"
           ],
           [
            0.8888888888888888,
            "#b5de2b"
           ],
           [
            1,
            "#fde725"
           ]
          ],
          "showscale": false,
          "width": 4
         },
         "mode": "lines",
         "showlegend": false,
         "type": "scatter3d",
         "x": {
          "bdata": "AAAAALooDiy6KI4sFz3VLLooDi3osjEtFz1VLUbHeC26KI4t0e2fLeiysS0AeMMtFz3VLS4C5y1Gx/gtLkYFLrooDi5GCxcu0e0fLl3QKC7osjEudJU6LgB4Qy6LWkwuFz1VLqMfXi4uAmcuuuRvLkbHeC7p1IAuLkaFLnS3iS66KI4uAJqSLkYLly6LfJsu0e2fLhdfpC5d0Kguo0GtLuiysS4uJLYudJW6LroGvy4AeMMuRunHLotazC7Ry9AuFz3VLl2u2S6hH94u55DiLi0C5y5zc+suuOTvLv5V9C5Ex/guijj9LujUAC+LDQMvLkYFL9B+By90twkvFvALL7ooDi9cYRAv/5kSL6LSFC9FCxcv6EMZL4p8Gy8utR0v0O0fL3QmIi8WXyQvuZcmL1zQKC//CCsvokEtL0V6Ly/osjEvi+szLy4kNi/QXDgvdJU6LxbOPC+5Bj8vXD9BL/93Qy+isEUvRelHL+ghSi+LWkwvLpNOL9DLUC9zBFMvFj1VL7l1Vy9crlkv/+ZbLw==",
          "dtype": "f4"
         },
         "y": {
          "bdata": "yiabQMomm0DKJptAyiabQMomm0DKJptAyiabQMomm0DKJptAyiabQMomm0DKJptAyiabQMomm0DKJptAyiabQMomm0DKJptAyiabQMomm0DKJptAyiabQMomm0DKJptAyiabQMomm0DKJptAyiabQMomm0DKJptAyiabQMomm0DKJptAyiabQMomm0DKJptAyiabQMomm0DKJptAyiabQMomm0DKJptAyiabQMomm0DKJptAyiabQMomm0DKJptAyiabQMomm0DKJptAyiabQMomm0DKJptAyiabQMomm0DKJptAyiabQMomm0DKJptAyiabQMomm0DKJptAyiabQMomm0DKJptAyiabQMomm0DKJptAyiabQMomm0DKJptAyiabQMomm0DKJptAyiabQMomm0DKJptAyiabQMomm0DKJptAyiabQMomm0DKJptAyiabQMomm0DKJptAyiabQMomm0DKJptAyiabQMomm0DKJptAyiabQMomm0DKJptAyiabQMomm0DKJptAyiabQA==",
          "dtype": "f4"
         },
         "z": {
          "bdata": "W0oeXmHlQN5KzZPeLO/L3SJpDV5BKcFeKcgJX9wvaF9jbWxfsUHmX6CiKmCyBWVg/rySYBsYtGB1qdVgk2v9YFZhFGG2TCphAjc/YctHV2HmhW5hmemCYd05j2HpUpphxNmlYQ+ysmGbA71h2v/HYTur0mHdad1hpb/nYXxq8WGRq/ph7UsCYlOoBWKEMQlixZoMYnx1D2IQIxJi13sUYlowFmKBfBdiQ70YYkLgGGK+Shlik7EZYhZMGWI7cxhi53oXYudnFmLamBRiGV4SYrApEGKbvA1iRMkKYrjrB2LQJQViGo4BYjwF/GGRl/RheQbtYZX84mHzf91hDF/VYfBezWFb5MRhqke9YRLktGHQMq1hX0elYSfOnWGWdJZh8GOQYUGciWF/ToJhZGN5YRc/cmFgdWRhgGpZYfFWT2Fhx0NhDH88YerZMmFd7SlhX+MfYcRwFWFcpwthDzQDYQyB8GBhvdpgJLvBYPHQtWAJbaRgWhSTYNL2eGC/0zZgOzklYMndw1/Y0qBf3da9Xg==",
          "dtype": "f4"
         }
        },
        {
         "line": {
          "cmax": 743052139482090300000,
          "cmin": -14341760292361339000,
          "color": {
           "bdata": "W/weXiQ3Qt5SlZTeKkzP3TRcDF6K/cBej70JX91uaF/VkGxf+cPmX64dK2ALvGVgmDmTYES4tGAgaNZgiFz+YPvxFGHq9SphM/Y/YVwnWGEzgG9hYnWDYezUj2Fm+5phQ5CmYb2Es2GI171hAeLIYZ2d02HUZ95hTMvoYQSC8mFcz/thd+UCYh9EBmJk0QlilD4NYsIcEGIizRJiVSsVYhjeFmLtKxhisWwZYtqOGWKZ+BlicWAaYh76GWKxHxli9iUYYqgRF2IaQRViTAMTYjnNEGI8XQ5iQGcLYpuGCGL0vQViVSMCYn8n/WGSs/VhABvuYckD5GEsh95he1vWYWlRzmGizsVhlSi+YXy3tWFf/q1h0gmmYcaFnmGuIpdhyg+RYes5imEf4oJhrnx6YW5mc2Gbd2VhxFxaYQA+UGHgoERhXlM9YX+iM2HzrSphd5ggYWobFmFGRwxhR9MDYTSb8WDHvttgqqDCYBWqtmAEMqVgSMSTYHchemBfsDdgsgImYAPlw1/niKFf6ou+Xg==",
           "dtype": "f4"
          },
          "colorscale": [
           [
            0,
            "#440154"
           ],
           [
            0.1111111111111111,
            "#482878"
           ],
           [
            0.2222222222222222,
            "#3e4989"
           ],
           [
            0.3333333333333333,
            "#31688e"
           ],
           [
            0.4444444444444444,
            "#26828e"
           ],
           [
            0.5555555555555556,
            "#1f9e89"
           ],
           [
            0.6666666666666666,
            "#35b779"
           ],
           [
            0.7777777777777778,
            "#6ece58"
           ],
           [
            0.8888888888888888,
            "#b5de2b"
           ],
           [
            1,
            "#fde725"
           ]
          ],
          "showscale": false,
          "width": 4
         },
         "mode": "lines",
         "showlegend": false,
         "type": "scatter3d",
         "x": {
          "bdata": "AAAAALooDiy6KI4sFz3VLLooDi3osjEtFz1VLUbHeC26KI4t0e2fLeiysS0AeMMtFz3VLS4C5y1Gx/gtLkYFLrooDi5GCxcu0e0fLl3QKC7osjEudJU6LgB4Qy6LWkwuFz1VLqMfXi4uAmcuuuRvLkbHeC7p1IAuLkaFLnS3iS66KI4uAJqSLkYLly6LfJsu0e2fLhdfpC5d0Kguo0GtLuiysS4uJLYudJW6LroGvy4AeMMuRunHLotazC7Ry9AuFz3VLl2u2S6hH94u55DiLi0C5y5zc+suuOTvLv5V9C5Ex/guijj9LujUAC+LDQMvLkYFL9B+By90twkvFvALL7ooDi9cYRAv/5kSL6LSFC9FCxcv6EMZL4p8Gy8utR0v0O0fL3QmIi8WXyQvuZcmL1zQKC//CCsvokEtL0V6Ly/osjEvi+szLy4kNi/QXDgvdJU6LxbOPC+5Bj8vXD9BL/93Qy+isEUvRelHL+ghSi+LWkwvLpNOL9DLUC9zBFMvFj1VL7l1Vy9crlkv/+ZbLw==",
          "dtype": "f4"
         },
         "y": {
          "bdata": "vZ2hQL2doUC9naFAvZ2hQL2doUC9naFAvZ2hQL2doUC9naFAvZ2hQL2doUC9naFAvZ2hQL2doUC9naFAvZ2hQL2doUC9naFAvZ2hQL2doUC9naFAvZ2hQL2doUC9naFAvZ2hQL2doUC9naFAvZ2hQL2doUC9naFAvZ2hQL2doUC9naFAvZ2hQL2doUC9naFAvZ2hQL2doUC9naFAvZ2hQL2doUC9naFAvZ2hQL2doUC9naFAvZ2hQL2doUC9naFAvZ2hQL2doUC9naFAvZ2hQL2doUC9naFAvZ2hQL2doUC9naFAvZ2hQL2doUC9naFAvZ2hQL2doUC9naFAvZ2hQL2doUC9naFAvZ2hQL2doUC9naFAvZ2hQL2doUC9naFAvZ2hQL2doUC9naFAvZ2hQL2doUC9naFAvZ2hQL2doUC9naFAvZ2hQL2doUC9naFAvZ2hQL2doUC9naFAvZ2hQL2doUC9naFAvZ2hQL2doUC9naFAvZ2hQL2doUC9naFAvZ2hQL2doUC9naFAvZ2hQA==",
          "dtype": "f4"
         },
         "z": {
          "bdata": "W/weXiQ3Qt5SlZTeKkzP3TRcDF6K/cBej70JX91uaF/VkGxf+cPmX64dK2ALvGVgmDmTYES4tGAgaNZgiFz+YPvxFGHq9SphM/Y/YVwnWGEzgG9hYnWDYezUj2Fm+5phQ5CmYb2Es2GI171hAeLIYZ2d02HUZ95hTMvoYQSC8mFcz/thd+UCYh9EBmJk0QlilD4NYsIcEGIizRJiVSsVYhjeFmLtKxhisWwZYtqOGWKZ+BlicWAaYh76GWKxHxli9iUYYqgRF2IaQRViTAMTYjnNEGI8XQ5iQGcLYpuGCGL0vQViVSMCYn8n/WGSs/VhABvuYckD5GEsh95he1vWYWlRzmGizsVhlSi+YXy3tWFf/q1h0gmmYcaFnmGuIpdhyg+RYes5imEf4oJhrnx6YW5mc2Gbd2VhxFxaYQA+UGHgoERhXlM9YX+iM2HzrSphd5ggYWobFmFGRwxhR9MDYTSb8WDHvttgqqDCYBWqtmAEMqVgSMSTYHchemBfsDdgsgImYAPlw1/niKFf6ou+Xg==",
          "dtype": "f4"
         }
        },
        {
         "line": {
          "cmax": 743052139482090300000,
          "cmin": -14341760292361339000,
          "color": {
           "bdata": "JasfXlU0Q94y+pTezMPQ3XiDDF6epMFe8TQKX/1MaV/Qcm1fCbDnX8zRK2AvsWZg2NeTYB58tWAsTtdgsXT/YMOWFWF4sythy8lAYcEaWWEYjnBhdgqEYZh4kGEwrJthYk6nYXVdtGFCsb5hx8jJYSaT1GHEZ99hU9fpYWCY82Eu8PxhYHwDYpzcBmIebQpiO90NYua9EGIUcBNiTtIVYtKCF2JU0RhiPhEaYgAyGmIemhpiCwIbYimaGmKivRli9sEYYpurF2JK2RViNJgTYj1gEWI87Q5ilfQLYvMQCWKNRQZiXKgCYlEq/mHysPZh5xHvYYDv5GFcc99hbz7XYRwsz2GYosZh9PS+YXx4tmEmua5hK72mYf8vn2HixJdhZbCRYT7OimGWbYNhZId7YSp9dGFnbWZhM0RbYXsaUWGhcEVhoh0+YVlhNGFyZCthrEMhYfu7FmFD3QxhgmcEYa2g8mCorNxgBHTDYK5wt2Cz5aVgCGWUYF8ye2BqeThgZ7smYM7tw1+UM6JfckO/Xg==",
           "dtype": "f4"
          },
          "colorscale": [
           [
            0,
            "#440154"
           ],
           [
            0.1111111111111111,
            "#482878"
           ],
           [
            0.2222222222222222,
            "#3e4989"
           ],
           [
            0.3333333333333333,
            "#31688e"
           ],
           [
            0.4444444444444444,
            "#26828e"
           ],
           [
            0.5555555555555556,
            "#1f9e89"
           ],
           [
            0.6666666666666666,
            "#35b779"
           ],
           [
            0.7777777777777778,
            "#6ece58"
           ],
           [
            0.8888888888888888,
            "#b5de2b"
           ],
           [
            1,
            "#fde725"
           ]
          ],
          "showscale": false,
          "width": 4
         },
         "mode": "lines",
         "showlegend": false,
         "type": "scatter3d",
         "x": {
          "bdata": "AAAAALooDiy6KI4sFz3VLLooDi3osjEtFz1VLUbHeC26KI4t0e2fLeiysS0AeMMtFz3VLS4C5y1Gx/gtLkYFLrooDi5GCxcu0e0fLl3QKC7osjEudJU6LgB4Qy6LWkwuFz1VLqMfXi4uAmcuuuRvLkbHeC7p1IAuLkaFLnS3iS66KI4uAJqSLkYLly6LfJsu0e2fLhdfpC5d0Kguo0GtLuiysS4uJLYudJW6LroGvy4AeMMuRunHLotazC7Ry9AuFz3VLl2u2S6hH94u55DiLi0C5y5zc+suuOTvLv5V9C5Ex/guijj9LujUAC+LDQMvLkYFL9B+By90twkvFvALL7ooDi9cYRAv/5kSL6LSFC9FCxcv6EMZL4p8Gy8utR0v0O0fL3QmIi8WXyQvuZcmL1zQKC//CCsvokEtL0V6Ly/osjEvi+szLy4kNi/QXDgvdJU6LxbOPC+5Bj8vXD9BL/93Qy+isEUvRelHL+ghSi+LWkwvLpNOL9DLUC9zBFMvFj1VL7l1Vy9crlkv/+ZbLw==",
          "dtype": "f4"
         },
         "y": {
          "bdata": "sBSoQLAUqECwFKhAsBSoQLAUqECwFKhAsBSoQLAUqECwFKhAsBSoQLAUqECwFKhAsBSoQLAUqECwFKhAsBSoQLAUqECwFKhAsBSoQLAUqECwFKhAsBSoQLAUqECwFKhAsBSoQLAUqECwFKhAsBSoQLAUqECwFKhAsBSoQLAUqECwFKhAsBSoQLAUqECwFKhAsBSoQLAUqECwFKhAsBSoQLAUqECwFKhAsBSoQLAUqECwFKhAsBSoQLAUqECwFKhAsBSoQLAUqECwFKhAsBSoQLAUqECwFKhAsBSoQLAUqECwFKhAsBSoQLAUqECwFKhAsBSoQLAUqECwFKhAsBSoQLAUqECwFKhAsBSoQLAUqECwFKhAsBSoQLAUqECwFKhAsBSoQLAUqECwFKhAsBSoQLAUqECwFKhAsBSoQLAUqECwFKhAsBSoQLAUqECwFKhAsBSoQLAUqECwFKhAsBSoQLAUqECwFKhAsBSoQLAUqECwFKhAsBSoQLAUqECwFKhAsBSoQLAUqECwFKhAsBSoQA==",
          "dtype": "f4"
         },
         "z": {
          "bdata": "JasfXlU0Q94y+pTezMPQ3XiDDF6epMFe8TQKX/1MaV/Qcm1fCbDnX8zRK2AvsWZg2NeTYB58tWAsTtdgsXT/YMOWFWF4sythy8lAYcEaWWEYjnBhdgqEYZh4kGEwrJthYk6nYXVdtGFCsb5hx8jJYSaT1GHEZ99hU9fpYWCY82Eu8PxhYHwDYpzcBmIebQpiO90NYua9EGIUcBNiTtIVYtKCF2JU0RhiPhEaYgAyGmIemhpiCwIbYimaGmKivRli9sEYYpurF2JK2RViNJgTYj1gEWI87Q5ilfQLYvMQCWKNRQZiXKgCYlEq/mHysPZh5xHvYYDv5GFcc99hbz7XYRwsz2GYosZh9PS+YXx4tmEmua5hK72mYf8vn2HixJdhZbCRYT7OimGWbYNhZId7YSp9dGFnbWZhM0RbYXsaUWGhcEVhoh0+YVlhNGFyZCthrEMhYfu7FmFD3QxhgmcEYa2g8mCorNxgBHTDYK5wt2Cz5aVgCGWUYF8ye2BqeThgZ7smYM7tw1+UM6JfckO/Xg==",
          "dtype": "f4"
         }
        },
        {
         "line": {
          "cmax": 743052139482090300000,
          "cmin": -14341760292361339000,
          "color": {
           "bdata": "J1UgXkjpQ97MCZXey6PQ3SqrDV52+cJegRcLX12tal9s8W5f5PHoX4SzLGA92GdgkpCUYMFbtmCgUthgWFUAYaNKFmEKgCxhLaxBYSgcWmF/qXFhwKWEYbYhkWEKYpxh0xCoYcM4tWF9jb9h6LDKYaeI1WGVZuBhxODqYcCq9GFmC/5hfQ8EYrVwB2K7Awti6XUOYjhYEWJiCxRieHAWYlkeGGK1bBliFKsaYgLKGmLILxtiCpcbYggtG2IBThpi8k8ZYgI3GGK8YhZiPR4UYj7kEWIwbg9i23IMYmGMCWJBvgZi0h4DYtgQ/2HDkvdhJ+7vYVTC5WEgR+BhTwrYYULxz2E1Ysdhga6/YYsot2FaZK9hXmKnYY3Nn2G3W5hhKUaSYWNZi2Hj8INhRYN8YS+DdWE+VmdhGSBcYbHrUWHiNUZhJd0+YcUVNWFPECxhcuQhYQ1SF2H5aA1ho/AEYWWR82D4ht1g/jTEYAcluGB2iKZg3vaUYPApfGA1LzlgpWMnYB74w19y0qJfHPq/Xg==",
           "dtype": "f4"
          },
          "colorscale": [
           [
            0,
            "#440154"
           ],
           [
            0.1111111111111111,
            "#482878"
           ],
           [
            0.2222222222222222,
            "#3e4989"
           ],
           [
            0.3333333333333333,
            "#31688e"
           ],
           [
            0.4444444444444444,
            "#26828e"
           ],
           [
            0.5555555555555556,
            "#1f9e89"
           ],
           [
            0.6666666666666666,
            "#35b779"
           ],
           [
            0.7777777777777778,
            "#6ece58"
           ],
           [
            0.8888888888888888,
            "#b5de2b"
           ],
           [
            1,
            "#fde725"
           ]
          ],
          "showscale": false,
          "width": 4
         },
         "mode": "lines",
         "showlegend": false,
         "type": "scatter3d",
         "x": {
          "bdata": "AAAAALooDiy6KI4sFz3VLLooDi3osjEtFz1VLUbHeC26KI4t0e2fLeiysS0AeMMtFz3VLS4C5y1Gx/gtLkYFLrooDi5GCxcu0e0fLl3QKC7osjEudJU6LgB4Qy6LWkwuFz1VLqMfXi4uAmcuuuRvLkbHeC7p1IAuLkaFLnS3iS66KI4uAJqSLkYLly6LfJsu0e2fLhdfpC5d0Kguo0GtLuiysS4uJLYudJW6LroGvy4AeMMuRunHLotazC7Ry9AuFz3VLl2u2S6hH94u55DiLi0C5y5zc+suuOTvLv5V9C5Ex/guijj9LujUAC+LDQMvLkYFL9B+By90twkvFvALL7ooDi9cYRAv/5kSL6LSFC9FCxcv6EMZL4p8Gy8utR0v0O0fL3QmIi8WXyQvuZcmL1zQKC//CCsvokEtL0V6Ly/osjEvi+szLy4kNi/QXDgvdJU6LxbOPC+5Bj8vXD9BL/93Qy+isEUvRelHL+ghSi+LWkwvLpNOL9DLUC9zBFMvFj1VL7l1Vy9crlkv/+ZbLw==",
          "dtype": "f4"
         },
         "y": {
          "bdata": "o4uuQKOLrkCji65Ao4uuQKOLrkCji65Ao4uuQKOLrkCji65Ao4uuQKOLrkCji65Ao4uuQKOLrkCji65Ao4uuQKOLrkCji65Ao4uuQKOLrkCji65Ao4uuQKOLrkCji65Ao4uuQKOLrkCji65Ao4uuQKOLrkCji65Ao4uuQKOLrkCji65Ao4uuQKOLrkCji65Ao4uuQKOLrkCji65Ao4uuQKOLrkCji65Ao4uuQKOLrkCji65Ao4uuQKOLrkCji65Ao4uuQKOLrkCji65Ao4uuQKOLrkCji65Ao4uuQKOLrkCji65Ao4uuQKOLrkCji65Ao4uuQKOLrkCji65Ao4uuQKOLrkCji65Ao4uuQKOLrkCji65Ao4uuQKOLrkCji65Ao4uuQKOLrkCji65Ao4uuQKOLrkCji65Ao4uuQKOLrkCji65Ao4uuQKOLrkCji65Ao4uuQKOLrkCji65Ao4uuQKOLrkCji65Ao4uuQKOLrkCji65Ao4uuQKOLrkCji65Ao4uuQKOLrkCji65Ao4uuQA==",
          "dtype": "f4"
         },
         "z": {
          "bdata": "J1UgXkjpQ97MCZXey6PQ3SqrDV52+cJegRcLX12tal9s8W5f5PHoX4SzLGA92GdgkpCUYMFbtmCgUthgWFUAYaNKFmEKgCxhLaxBYSgcWmF/qXFhwKWEYbYhkWEKYpxh0xCoYcM4tWF9jb9h6LDKYaeI1WGVZuBhxODqYcCq9GFmC/5hfQ8EYrVwB2K7Awti6XUOYjhYEWJiCxRieHAWYlkeGGK1bBliFKsaYgLKGmLILxtiCpcbYggtG2IBThpi8k8ZYgI3GGK8YhZiPR4UYj7kEWIwbg9i23IMYmGMCWJBvgZi0h4DYtgQ/2HDkvdhJ+7vYVTC5WEgR+BhTwrYYULxz2E1Ysdhga6/YYsot2FaZK9hXmKnYY3Nn2G3W5hhKUaSYWNZi2Hj8INhRYN8YS+DdWE+VmdhGSBcYbHrUWHiNUZhJd0+YcUVNWFPECxhcuQhYQ1SF2H5aA1ho/AEYWWR82D4ht1g/jTEYAcluGB2iKZg3vaUYPApfGA1LzlgpWMnYB74w19y0qJfHPq/Xg==",
          "dtype": "f4"
         }
        },
        {
         "line": {
          "cmax": 743052139482090300000,
          "cmin": -14341760292361339000,
          "color": {
           "bdata": "TfkgXjpfRN4f1ZTexDHP3X2lD17W2sRevlAMX1B2bF8f7nBfwHfqX9+4LWDKJWlgdF2VYEBQt2DAbdlgLfsAYUAJF2EDVy1hkZhCYZcmW2E/zXJhlESFYZ3NkWExGp1h09SoYeYTtmFzacBhtJfLYX971mG5YeFhN+XrYdy29WHuHv9h2Z0EYpL/B2J7lAtiAQgPYkHrEWK3nhRiqwUXYqSwGGIw/hlieDobYkJXG2ImuhtiKSAcYpuzG2LK0RpiDtEZYhy1GGLF3hZix5YUYq1aEmKU4Q9inOMMYmz6CWKlKQdiQYgDYhXe/2HoW/hhgrLwYdF+5mHgBOFhU8HYYdSi0GFFD8hhylbAYfHIt2ELAbBhQfqnYQ5foGGa55hhW9GSYXPbi2H+a4RhEXB9YV54dmGcMWhhx+9cYfuwUmHr70ZhQJE/YS2/NWEQsSxhanoiYV7dF2FB6g1hrG4FYX9t9GD2Td5gGeTEYK/HuGDnGqdgR3qVYPMIfWBW0jlgzPsnYIEBxF9TZaNfxKzAXg==",
           "dtype": "f4"
          },
          "colorscale": [
           [
            0,
            "#440154"
           ],
           [
            0.1111111111111111,
            "#482878"
           ],
           [
            0.2222222222222222,
            "#3e4989"
           ],
           [
            0.3333333333333333,
            "#31688e"
           ],
           [
            0.4444444444444444,
            "#26828e"
           ],
           [
            0.5555555555555556,
            "#1f9e89"
           ],
           [
            0.6666666666666666,
            "#35b779"
           ],
           [
            0.7777777777777778,
            "#6ece58"
           ],
           [
            0.8888888888888888,
            "#b5de2b"
           ],
           [
            1,
            "#fde725"
           ]
          ],
          "showscale": false,
          "width": 4
         },
         "mode": "lines",
         "showlegend": false,
         "type": "scatter3d",
         "x": {
          "bdata": "AAAAALooDiy6KI4sFz3VLLooDi3osjEtFz1VLUbHeC26KI4t0e2fLeiysS0AeMMtFz3VLS4C5y1Gx/gtLkYFLrooDi5GCxcu0e0fLl3QKC7osjEudJU6LgB4Qy6LWkwuFz1VLqMfXi4uAmcuuuRvLkbHeC7p1IAuLkaFLnS3iS66KI4uAJqSLkYLly6LfJsu0e2fLhdfpC5d0Kguo0GtLuiysS4uJLYudJW6LroGvy4AeMMuRunHLotazC7Ry9AuFz3VLl2u2S6hH94u55DiLi0C5y5zc+suuOTvLv5V9C5Ex/guijj9LujUAC+LDQMvLkYFL9B+By90twkvFvALL7ooDi9cYRAv/5kSL6LSFC9FCxcv6EMZL4p8Gy8utR0v0O0fL3QmIi8WXyQvuZcmL1zQKC//CCsvokEtL0V6Ly/osjEvi+szLy4kNi/QXDgvdJU6LxbOPC+5Bj8vXD9BL/93Qy+isEUvRelHL+ghSi+LWkwvLpNOL9DLUC9zBFMvFj1VL7l1Vy9crlkv/+ZbLw==",
          "dtype": "f4"
         },
         "y": {
          "bdata": "lgK1QJYCtUCWArVAlgK1QJYCtUCWArVAlgK1QJYCtUCWArVAlgK1QJYCtUCWArVAlgK1QJYCtUCWArVAlgK1QJYCtUCWArVAlgK1QJYCtUCWArVAlgK1QJYCtUCWArVAlgK1QJYCtUCWArVAlgK1QJYCtUCWArVAlgK1QJYCtUCWArVAlgK1QJYCtUCWArVAlgK1QJYCtUCWArVAlgK1QJYCtUCWArVAlgK1QJYCtUCWArVAlgK1QJYCtUCWArVAlgK1QJYCtUCWArVAlgK1QJYCtUCWArVAlgK1QJYCtUCWArVAlgK1QJYCtUCWArVAlgK1QJYCtUCWArVAlgK1QJYCtUCWArVAlgK1QJYCtUCWArVAlgK1QJYCtUCWArVAlgK1QJYCtUCWArVAlgK1QJYCtUCWArVAlgK1QJYCtUCWArVAlgK1QJYCtUCWArVAlgK1QJYCtUCWArVAlgK1QJYCtUCWArVAlgK1QJYCtUCWArVAlgK1QJYCtUCWArVAlgK1QJYCtUCWArVAlgK1QA==",
          "dtype": "f4"
         },
         "z": {
          "bdata": "TfkgXjpfRN4f1ZTexDHP3X2lD17W2sRevlAMX1B2bF8f7nBfwHfqX9+4LWDKJWlgdF2VYEBQt2DAbdlgLfsAYUAJF2EDVy1hkZhCYZcmW2E/zXJhlESFYZ3NkWExGp1h09SoYeYTtmFzacBhtJfLYX971mG5YeFhN+XrYdy29WHuHv9h2Z0EYpL/B2J7lAtiAQgPYkHrEWK3nhRiqwUXYqSwGGIw/hlieDobYkJXG2ImuhtiKSAcYpuzG2LK0RpiDtEZYhy1GGLF3hZix5YUYq1aEmKU4Q9inOMMYmz6CWKlKQdiQYgDYhXe/2HoW/hhgrLwYdF+5mHgBOFhU8HYYdSi0GFFD8hhylbAYfHIt2ELAbBhQfqnYQ5foGGa55hhW9GSYXPbi2H+a4RhEXB9YV54dmGcMWhhx+9cYfuwUmHr70ZhQJE/YS2/NWEQsSxhanoiYV7dF2FB6g1hrG4FYX9t9GD2Td5gGeTEYK/HuGDnGqdgR3qVYPMIfWBW0jlgzPsnYIEBxF9TZaNfxKzAXg==",
          "dtype": "f4"
         }
        },
        {
         "line": {
          "cmax": 743052139482090300000,
          "cmin": -14341760292361339000,
          "color": {
           "bdata": "zpYhXtyfRN4Ua5Teua7M3VhHEl7YKcdeh80NX+WPbl9yTHNfAzHsX/bYLmBEj2pgmziWYCZTuGBgmNpgDqgBYYjOF2EfNC5hnIpDYWc1XGF79HNhieSFYdd5kmEh0p1h4pepYWbstmGqQsFhwnrMYWRp12H4VuJhl+LsYca69mGBFABisCYFYoaICGLIHgxiDJMPYqp2EmLhKRVi25EXYsE5GWL7hRpixr8bYjDaG2LUORxiHJ4cYrkuHGLuSRtiSkYaYhknGWKZThdiIgMVYuDEEmLJSBBiP0gNYoRcCmIriQdiE+YDYmNKAGIWD/lhm2HxYX0n52HhruFhr2XZYc1C0WGpq8hhc+/AYRhbuGFpkLBhz4WoYU/loGEraZlhilKTYbhUjGEe34Rh801+YRddd2F6/2hhA7NdYTNqU2GMnkdh3TlAYXRdNmGnRi1hkwUjYQleGGE5YQ5h0OEFYaY19WBLAt9gHoLFYIVZuWDXnadg7e+VYJzQfWCOYzpgh4QoYGULxF9H7KNfClnBXg==",
           "dtype": "f4"
          },
          "colorscale": [
           [
            0,
            "#440154"
           ],
           [
            0.1111111111111111,
            "#482878"
           ],
           [
            0.2222222222222222,
            "#3e4989"
           ],
           [
            0.3333333333333333,
            "#31688e"
           ],
           [
            0.4444444444444444,
            "#26828e"
           ],
           [
            0.5555555555555556,
            "#1f9e89"
           ],
           [
            0.6666666666666666,
            "#35b779"
           ],
           [
            0.7777777777777778,
            "#6ece58"
           ],
           [
            0.8888888888888888,
            "#b5de2b"
           ],
           [
            1,
            "#fde725"
           ]
          ],
          "showscale": false,
          "width": 4
         },
         "mode": "lines",
         "showlegend": false,
         "type": "scatter3d",
         "x": {
          "bdata": "AAAAALooDiy6KI4sFz3VLLooDi3osjEtFz1VLUbHeC26KI4t0e2fLeiysS0AeMMtFz3VLS4C5y1Gx/gtLkYFLrooDi5GCxcu0e0fLl3QKC7osjEudJU6LgB4Qy6LWkwuFz1VLqMfXi4uAmcuuuRvLkbHeC7p1IAuLkaFLnS3iS66KI4uAJqSLkYLly6LfJsu0e2fLhdfpC5d0Kguo0GtLuiysS4uJLYudJW6LroGvy4AeMMuRunHLotazC7Ry9AuFz3VLl2u2S6hH94u55DiLi0C5y5zc+suuOTvLv5V9C5Ex/guijj9LujUAC+LDQMvLkYFL9B+By90twkvFvALL7ooDi9cYRAv/5kSL6LSFC9FCxcv6EMZL4p8Gy8utR0v0O0fL3QmIi8WXyQvuZcmL1zQKC//CCsvokEtL0V6Ly/osjEvi+szLy4kNi/QXDgvdJU6LxbOPC+5Bj8vXD9BL/93Qy+isEUvRelHL+ghSi+LWkwvLpNOL9DLUC9zBFMvFj1VL7l1Vy9crlkv/+ZbLw==",
          "dtype": "f4"
         },
         "y": {
          "bdata": "iXm7QIl5u0CJebtAiXm7QIl5u0CJebtAiXm7QIl5u0CJebtAiXm7QIl5u0CJebtAiXm7QIl5u0CJebtAiXm7QIl5u0CJebtAiXm7QIl5u0CJebtAiXm7QIl5u0CJebtAiXm7QIl5u0CJebtAiXm7QIl5u0CJebtAiXm7QIl5u0CJebtAiXm7QIl5u0CJebtAiXm7QIl5u0CJebtAiXm7QIl5u0CJebtAiXm7QIl5u0CJebtAiXm7QIl5u0CJebtAiXm7QIl5u0CJebtAiXm7QIl5u0CJebtAiXm7QIl5u0CJebtAiXm7QIl5u0CJebtAiXm7QIl5u0CJebtAiXm7QIl5u0CJebtAiXm7QIl5u0CJebtAiXm7QIl5u0CJebtAiXm7QIl5u0CJebtAiXm7QIl5u0CJebtAiXm7QIl5u0CJebtAiXm7QIl5u0CJebtAiXm7QIl5u0CJebtAiXm7QIl5u0CJebtAiXm7QIl5u0CJebtAiXm7QIl5u0CJebtAiXm7QIl5u0CJebtAiXm7QA==",
          "dtype": "f4"
         },
         "z": {
          "bdata": "zpYhXtyfRN4Ua5Teua7M3VhHEl7YKcdeh80NX+WPbl9yTHNfAzHsX/bYLmBEj2pgmziWYCZTuGBgmNpgDqgBYYjOF2EfNC5hnIpDYWc1XGF79HNhieSFYdd5kmEh0p1h4pepYWbstmGqQsFhwnrMYWRp12H4VuJhl+LsYca69mGBFABisCYFYoaICGLIHgxiDJMPYqp2EmLhKRVi25EXYsE5GWL7hRpixr8bYjDaG2LUORxiHJ4cYrkuHGLuSRtiSkYaYhknGWKZThdiIgMVYuDEEmLJSBBiP0gNYoRcCmIriQdiE+YDYmNKAGIWD/lhm2HxYX0n52HhruFhr2XZYc1C0WGpq8hhc+/AYRhbuGFpkLBhz4WoYU/loGEraZlhilKTYbhUjGEe34Rh801+YRddd2F6/2hhA7NdYTNqU2GMnkdh3TlAYXRdNmGnRi1hkwUjYQleGGE5YQ5h0OEFYaY19WBLAt9gHoLFYIVZuWDXnadg7e+VYJzQfWCOYzpgh4QoYGULxF9H7KNfClnBXg==",
          "dtype": "f4"
         }
        },
        {
         "line": {
          "cmax": 743052139482090300000,
          "cmin": -14341760292361339000,
          "color": {
           "bdata": "zCwiXjK1RN7W0pPeD1bJ3VlpFV5Iy8leGn0PXwHlcF+f83VfUA/uXy4LMGCMC2xgCB2XYAFfuWBLzNtgzFgCYR2XGGHSEy9hhn5EYd9EXWFrG3VhqIOGYXMkk2Hfh55h/leqYUXAt2FCF8JhOVjNYYtQ2GGsRONhUdftYQ+192EvlABigqkFYh0LCWJKogxizBYQYlD6EmLXrBViLhUYYue5GWJpBBticTscYllTHGJ2rxxitREdYkafHGJmtxtiwbAaYhyOGWJ3sxdikWQVYiokE2ItpRBiJqINYgi0CmI43gdipTkEYsubAGLbrvlh4f3xYWS+52FiR+JhXfnZYQjT0WH0OMlh8XnBYTrguGGJE7Fh7gWpYQZhoWH24JlhK8qTYYvFjGFtSoVhJR1/YakxeGHdv2lhwGleYTUXVGGUQUhhzdZAYX3wNmEW0S1h8YUjYSbUGGEJzg5hgkoGYYnq9WCqpN9gbw/GYGPbuWAgEqhgmliWYBqCfmAC5DpgrP4oYLoTxF+RZ6RfaP3BXg==",
           "dtype": "f4"
          },
          "colorscale": [
           [
            0,
            "#440154"
           ],
           [
            0.1111111111111111,
            "#482878"
           ],
           [
            0.2222222222222222,
            "#3e4989"
           ],
           [
            0.3333333333333333,
            "#31688e"
           ],
           [
            0.4444444444444444,
            "#26828e"
           ],
           [
            0.5555555555555556,
            "#1f9e89"
           ],
           [
            0.6666666666666666,
            "#35b779"
           ],
           [
            0.7777777777777778,
            "#6ece58"
           ],
           [
            0.8888888888888888,
            "#b5de2b"
           ],
           [
            1,
            "#fde725"
           ]
          ],
          "showscale": false,
          "width": 4
         },
         "mode": "lines",
         "showlegend": false,
         "type": "scatter3d",
         "x": {
          "bdata": "AAAAALooDiy6KI4sFz3VLLooDi3osjEtFz1VLUbHeC26KI4t0e2fLeiysS0AeMMtFz3VLS4C5y1Gx/gtLkYFLrooDi5GCxcu0e0fLl3QKC7osjEudJU6LgB4Qy6LWkwuFz1VLqMfXi4uAmcuuuRvLkbHeC7p1IAuLkaFLnS3iS66KI4uAJqSLkYLly6LfJsu0e2fLhdfpC5d0Kguo0GtLuiysS4uJLYudJW6LroGvy4AeMMuRunHLotazC7Ry9AuFz3VLl2u2S6hH94u55DiLi0C5y5zc+suuOTvLv5V9C5Ex/guijj9LujUAC+LDQMvLkYFL9B+By90twkvFvALL7ooDi9cYRAv/5kSL6LSFC9FCxcv6EMZL4p8Gy8utR0v0O0fL3QmIi8WXyQvuZcmL1zQKC//CCsvokEtL0V6Ly/osjEvi+szLy4kNi/QXDgvdJU6LxbOPC+5Bj8vXD9BL/93Qy+isEUvRelHL+ghSi+LWkwvLpNOL9DLUC9zBFMvFj1VL7l1Vy9crlkv/+ZbLw==",
          "dtype": "f4"
         },
         "y": {
          "bdata": "fPDBQHzwwUB88MFAfPDBQHzwwUB88MFAfPDBQHzwwUB88MFAfPDBQHzwwUB88MFAfPDBQHzwwUB88MFAfPDBQHzwwUB88MFAfPDBQHzwwUB88MFAfPDBQHzwwUB88MFAfPDBQHzwwUB88MFAfPDBQHzwwUB88MFAfPDBQHzwwUB88MFAfPDBQHzwwUB88MFAfPDBQHzwwUB88MFAfPDBQHzwwUB88MFAfPDBQHzwwUB88MFAfPDBQHzwwUB88MFAfPDBQHzwwUB88MFAfPDBQHzwwUB88MFAfPDBQHzwwUB88MFAfPDBQHzwwUB88MFAfPDBQHzwwUB88MFAfPDBQHzwwUB88MFAfPDBQHzwwUB88MFAfPDBQHzwwUB88MFAfPDBQHzwwUB88MFAfPDBQHzwwUB88MFAfPDBQHzwwUB88MFAfPDBQHzwwUB88MFAfPDBQHzwwUB88MFAfPDBQHzwwUB88MFAfPDBQHzwwUB88MFAfPDBQHzwwUB88MFAfPDBQHzwwUB88MFAfPDBQA==",
          "dtype": "f4"
         },
         "z": {
          "bdata": "zCwiXjK1RN7W0pPeD1bJ3VlpFV5Iy8leGn0PXwHlcF+f83VfUA/uXy4LMGCMC2xgCB2XYAFfuWBLzNtgzFgCYR2XGGHSEy9hhn5EYd9EXWFrG3VhqIOGYXMkk2Hfh55h/leqYUXAt2FCF8JhOVjNYYtQ2GGsRONhUdftYQ+192EvlABigqkFYh0LCWJKogxizBYQYlD6EmLXrBViLhUYYue5GWJpBBticTscYllTHGJ2rxxitREdYkafHGJmtxtiwbAaYhyOGWJ3sxdikWQVYiokE2ItpRBiJqINYgi0CmI43gdipTkEYsubAGLbrvlh4f3xYWS+52FiR+JhXfnZYQjT0WH0OMlh8XnBYTrguGGJE7Fh7gWpYQZhoWH24JlhK8qTYYvFjGFtSoVhJR1/YakxeGHdv2lhwGleYTUXVGGUQUhhzdZAYX3wNmEW0S1h8YUjYSbUGGEJzg5hgkoGYYnq9WCqpN9gbw/GYGPbuWAgEqhgmliWYBqCfmAC5DpgrP4oYLoTxF+RZ6RfaP3BXg==",
          "dtype": "f4"
         }
        },
        {
         "line": {
          "cmax": 743052139482090300000,
          "cmin": -14341760292361339000,
          "color": {
           "bdata": "HrsiXgemRN52HpPei1jF3eLrGF5ZqMxeP1ERXypkc1+hznhfiQbwXzdJMWD/km1gfwaYYDtvumBiBN1gwQoDYSxgGWEv8y9hWnFFYdpRXmHKPnZhUSCHYeLLk2HMOZ9hkROrYe+NuGGn5cJhpC7OYaMv2WGGKeRhR8LuYbGk+GESDgFi7iUGYhGHCWLIHg1iI5MQYi92E2KwJxZi248YYl0xGmLeeRti860cYjnDHGKxGx1ip3sdYhAGHWIUGxxiYBEbYjjrGWJoDhhiMbwVYqx5E2Lm9xBigfINYioCC2IHKghiJ4QEYmnkAGJ5PfphhYnyYaVF6GFH0OJhOH7aYS1V0mHSuMlhrvfBYZlZuWF5i7FhiXupYffSoWGhT5phxDiUYUMujWE7roVhHN5/YcH2eGEKc2phFBRfYTK4VGEm2UhhR2hBYXd4N2GaUC5hzPsjYRNAGWERMQ9hGakGYS2N9mAKNuBgZo3GYFdOumDFeKhgG7WWYOwef2CiVDtgBWspYDcaxF+L16RfA5jCXg==",
           "dtype": "f4"
          },
          "colorscale": [
           [
            0,
            "#440154"
           ],
           [
            0.1111111111111111,
            "#482878"
           ],
           [
            0.2222222222222222,
            "#3e4989"
           ],
           [
            0.3333333333333333,
            "#31688e"
           ],
           [
            0.4444444444444444,
            "#26828e"
           ],
           [
            0.5555555555555556,
            "#1f9e89"
           ],
           [
            0.6666666666666666,
            "#35b779"
           ],
           [
            0.7777777777777778,
            "#6ece58"
           ],
           [
            0.8888888888888888,
            "#b5de2b"
           ],
           [
            1,
            "#fde725"
           ]
          ],
          "showscale": false,
          "width": 4
         },
         "mode": "lines",
         "showlegend": false,
         "type": "scatter3d",
         "x": {
          "bdata": "AAAAALooDiy6KI4sFz3VLLooDi3osjEtFz1VLUbHeC26KI4t0e2fLeiysS0AeMMtFz3VLS4C5y1Gx/gtLkYFLrooDi5GCxcu0e0fLl3QKC7osjEudJU6LgB4Qy6LWkwuFz1VLqMfXi4uAmcuuuRvLkbHeC7p1IAuLkaFLnS3iS66KI4uAJqSLkYLly6LfJsu0e2fLhdfpC5d0Kguo0GtLuiysS4uJLYudJW6LroGvy4AeMMuRunHLotazC7Ry9AuFz3VLl2u2S6hH94u55DiLi0C5y5zc+suuOTvLv5V9C5Ex/guijj9LujUAC+LDQMvLkYFL9B+By90twkvFvALL7ooDi9cYRAv/5kSL6LSFC9FCxcv6EMZL4p8Gy8utR0v0O0fL3QmIi8WXyQvuZcmL1zQKC//CCsvokEtL0V6Ly/osjEvi+szLy4kNi/QXDgvdJU6LxbOPC+5Bj8vXD9BL/93Qy+isEUvRelHL+ghSi+LWkwvLpNOL9DLUC9zBFMvFj1VL7l1Vy9crlkv/+ZbLw==",
          "dtype": "f4"
         },
         "y": {
          "bdata": "cGfIQHBnyEBwZ8hAcGfIQHBnyEBwZ8hAcGfIQHBnyEBwZ8hAcGfIQHBnyEBwZ8hAcGfIQHBnyEBwZ8hAcGfIQHBnyEBwZ8hAcGfIQHBnyEBwZ8hAcGfIQHBnyEBwZ8hAcGfIQHBnyEBwZ8hAcGfIQHBnyEBwZ8hAcGfIQHBnyEBwZ8hAcGfIQHBnyEBwZ8hAcGfIQHBnyEBwZ8hAcGfIQHBnyEBwZ8hAcGfIQHBnyEBwZ8hAcGfIQHBnyEBwZ8hAcGfIQHBnyEBwZ8hAcGfIQHBnyEBwZ8hAcGfIQHBnyEBwZ8hAcGfIQHBnyEBwZ8hAcGfIQHBnyEBwZ8hAcGfIQHBnyEBwZ8hAcGfIQHBnyEBwZ8hAcGfIQHBnyEBwZ8hAcGfIQHBnyEBwZ8hAcGfIQHBnyEBwZ8hAcGfIQHBnyEBwZ8hAcGfIQHBnyEBwZ8hAcGfIQHBnyEBwZ8hAcGfIQHBnyEBwZ8hAcGfIQHBnyEBwZ8hAcGfIQHBnyEBwZ8hAcGfIQHBnyEBwZ8hAcGfIQA==",
          "dtype": "f4"
         },
         "z": {
          "bdata": "HrsiXgemRN52HpPei1jF3eLrGF5ZqMxeP1ERXypkc1+hznhfiQbwXzdJMWD/km1gfwaYYDtvumBiBN1gwQoDYSxgGWEv8y9hWnFFYdpRXmHKPnZhUSCHYeLLk2HMOZ9hkROrYe+NuGGn5cJhpC7OYaMv2WGGKeRhR8LuYbGk+GESDgFi7iUGYhGHCWLIHg1iI5MQYi92E2KwJxZi248YYl0xGmLeeRti860cYjnDHGKxGx1ip3sdYhAGHWIUGxxiYBEbYjjrGWJoDhhiMbwVYqx5E2Lm9xBigfINYioCC2IHKghiJ4QEYmnkAGJ5PfphhYnyYaVF6GFH0OJhOH7aYS1V0mHSuMlhrvfBYZlZuWF5i7FhiXupYffSoWGhT5phxDiUYUMujWE7roVhHN5/YcH2eGEKc2phFBRfYTK4VGEm2UhhR2hBYXd4N2GaUC5hzPsjYRNAGWERMQ9hGakGYS2N9mAKNuBgZo3GYFdOumDFeKhgG7WWYOwef2CiVDtgBWspYDcaxF+L16RfA5jCXg==",
          "dtype": "f4"
         }
        },
        {
         "line": {
          "cmax": 743052139482090300000,
          "cmin": -14341760292361339000,
          "color": {
           "bdata": "Y0EjXjB5RN4QUZLe1OLA3U2xHF6krM9eaD0TX579dV/Nyntf+QvyXxuNMmAGH29gZfGYYOJ/u2BRPN5gqrsDYVMnGmG0zzBhgWBGYb9ZX2HuW3dhMbmHYcRulGGQ5p9hRMmrYWlUuWGjrMNh1vzOYZkF2mGLBOVhi6LvYeaI+WHYgQFiwJsGYjT8CWIolA1iDggRYlnqE2KUmhZiLgIZYnigGmLI5htizhcdYncqHWI0fx1iv9wdYvpjHWLldRxiI2kbYnk/GmKPYBhiIAsWYpHGE2IhQhFifjoOYhVIC2K7bQhiv8YEYlYlAWIZvfphmQbzYSS/6GF0S+Nh+PXaYdDK0mGoLMph+mnCYUvIuWE3+bFheeepYdg7omG/tZph856UYU2PjWHWCoZhrEiAYS6teWFjGWthSrJfYWdNVWF0ZUlhku5BYar1N2GHxS5hgmckYTCiGWG8ig9hP/4GYZYe92B0t+Bg1vzGYHGzumDC0qhgVQaXYH+of2CdtjtglcopYAUcxF+zPKVfSyjDXg==",
           "dtype": "f4"
          },
          "colorscale": [
           [
            0,
            "#440154"
           ],
           [
            0.1111111111111111,
            "#482878"
           ],
           [
            0.2222222222222222,
            "#3e4989"
           ],
           [
            0.3333333333333333,
            "#31688e"
           ],
           [
            0.4444444444444444,
            "#26828e"
           ],
           [
            0.5555555555555556,
            "#1f9e89"
           ],
           [
            0.6666666666666666,
            "#35b779"
           ],
           [
            0.7777777777777778,
            "#6ece58"
           ],
           [
            0.8888888888888888,
            "#b5de2b"
           ],
           [
            1,
            "#fde725"
           ]
          ],
          "showscale": false,
          "width": 4
         },
         "mode": "lines",
         "showlegend": false,
         "type": "scatter3d",
         "x": {
          "bdata": "AAAAALooDiy6KI4sFz3VLLooDi3osjEtFz1VLUbHeC26KI4t0e2fLeiysS0AeMMtFz3VLS4C5y1Gx/gtLkYFLrooDi5GCxcu0e0fLl3QKC7osjEudJU6LgB4Qy6LWkwuFz1VLqMfXi4uAmcuuuRvLkbHeC7p1IAuLkaFLnS3iS66KI4uAJqSLkYLly6LfJsu0e2fLhdfpC5d0Kguo0GtLuiysS4uJLYudJW6LroGvy4AeMMuRunHLotazC7Ry9AuFz3VLl2u2S6hH94u55DiLi0C5y5zc+suuOTvLv5V9C5Ex/guijj9LujUAC+LDQMvLkYFL9B+By90twkvFvALL7ooDi9cYRAv/5kSL6LSFC9FCxcv6EMZL4p8Gy8utR0v0O0fL3QmIi8WXyQvuZcmL1zQKC//CCsvokEtL0V6Ly/osjEvi+szLy4kNi/QXDgvdJU6LxbOPC+5Bj8vXD9BL/93Qy+isEUvRelHL+ghSi+LWkwvLpNOL9DLUC9zBFMvFj1VL7l1Vy9crlkv/+ZbLw==",
          "dtype": "f4"
         },
         "y": {
          "bdata": "Yt7OQGLezkBi3s5AYt7OQGLezkBi3s5AYt7OQGLezkBi3s5AYt7OQGLezkBi3s5AYt7OQGLezkBi3s5AYt7OQGLezkBi3s5AYt7OQGLezkBi3s5AYt7OQGLezkBi3s5AYt7OQGLezkBi3s5AYt7OQGLezkBi3s5AYt7OQGLezkBi3s5AYt7OQGLezkBi3s5AYt7OQGLezkBi3s5AYt7OQGLezkBi3s5AYt7OQGLezkBi3s5AYt7OQGLezkBi3s5AYt7OQGLezkBi3s5AYt7OQGLezkBi3s5AYt7OQGLezkBi3s5AYt7OQGLezkBi3s5AYt7OQGLezkBi3s5AYt7OQGLezkBi3s5AYt7OQGLezkBi3s5AYt7OQGLezkBi3s5AYt7OQGLezkBi3s5AYt7OQGLezkBi3s5AYt7OQGLezkBi3s5AYt7OQGLezkBi3s5AYt7OQGLezkBi3s5AYt7OQGLezkBi3s5AYt7OQGLezkBi3s5AYt7OQGLezkBi3s5AYt7OQGLezkBi3s5AYt7OQA==",
          "dtype": "f4"
         },
         "z": {
          "bdata": "Y0EjXjB5RN4QUZLe1OLA3U2xHF6krM9eaD0TX579dV/Nyntf+QvyXxuNMmAGH29gZfGYYOJ/u2BRPN5gqrsDYVMnGmG0zzBhgWBGYb9ZX2HuW3dhMbmHYcRulGGQ5p9hRMmrYWlUuWGjrMNh1vzOYZkF2mGLBOVhi6LvYeaI+WHYgQFiwJsGYjT8CWIolA1iDggRYlnqE2KUmhZiLgIZYnigGmLI5htizhcdYncqHWI0fx1iv9wdYvpjHWLldRxiI2kbYnk/GmKPYBhiIAsWYpHGE2IhQhFifjoOYhVIC2K7bQhiv8YEYlYlAWIZvfphmQbzYSS/6GF0S+Nh+PXaYdDK0mGoLMph+mnCYUvIuWE3+bFheeepYdg7omG/tZph856UYU2PjWHWCoZhrEiAYS6teWFjGWthSrJfYWdNVWF0ZUlhku5BYar1N2GHxS5hgmckYTCiGWG8ig9hP/4GYZYe92B0t+Bg1vzGYHGzumDC0qhgVQaXYH+of2CdtjtglcopYAUcxF+zPKVfSyjDXg==",
          "dtype": "f4"
         }
        },
        {
         "line": {
          "cmax": 743052139482090300000,
          "cmin": -14341760292361339000,
          "color": {
           "bdata": "s78jXqU0RN6DdJHejBi83dGiIF7Mx9JedzcVX9ukeF9B2X5fNxf0X13SM2BcqnBg4dqZYOKNvGDCcN9gxGkEYbzqGmGDpzFhHkpHYZlaYGHRcHhhU02IYSkMlWE/jaBhOnisYYsSumFja8RhFcLPYcjR2mEo1eVhrXfwYU5h+mFd7wFi4QoHYoRqCmJ3Ag5irHURYv9WFGLFBRdieGwZYpkHG2KeSxxijHkdYpuJHWKm2h1ipzUeYry5HWKcyBxi27gbYruLGmLIqhhiTFIWYsQLFGLPhBFiDnsOYr6GC2JPqghiWwIFYnxfAWJ4L/thznbzYYos6WFhuuNhDmLbYUU102G4lcph79HCYVMtumGlXbJhfkqqYVCcomHiE5thL/2UYQXpjWGZYIZhr5uAYVdVemFXs2thu0RgYTzXVWHp5klhI2pCYYZoOGFXMC9hlskkYRT7GWGe2w9hdkoHYRGg92AlKuFgJ1/HYOoLu2BKIalgUU2XYFAQgGBLCzxgcB4qYFMdxF/Bl6Vf4a3DXg==",
           "dtype": "f4"
          },
          "colorscale": [
           [
            0,
            "#440154"
           ],
           [
            0.1111111111111111,
            "#482878"
           ],
           [
            0.2222222222222222,
            "#3e4989"
           ],
           [
            0.3333333333333333,
            "#31688e"
           ],
           [
            0.4444444444444444,
            "#26828e"
           ],
           [
            0.5555555555555556,
            "#1f9e89"
           ],
           [
            0.6666666666666666,
            "#35b779"
           ],
           [
            0.7777777777777778,
            "#6ece58"
           ],
           [
            0.8888888888888888,
            "#b5de2b"
           ],
           [
            1,
            "#fde725"
           ]
          ],
          "showscale": false,
          "width": 4
         },
         "mode": "lines",
         "showlegend": false,
         "type": "scatter3d",
         "x": {
          "bdata": "AAAAALooDiy6KI4sFz3VLLooDi3osjEtFz1VLUbHeC26KI4t0e2fLeiysS0AeMMtFz3VLS4C5y1Gx/gtLkYFLrooDi5GCxcu0e0fLl3QKC7osjEudJU6LgB4Qy6LWkwuFz1VLqMfXi4uAmcuuuRvLkbHeC7p1IAuLkaFLnS3iS66KI4uAJqSLkYLly6LfJsu0e2fLhdfpC5d0Kguo0GtLuiysS4uJLYudJW6LroGvy4AeMMuRunHLotazC7Ry9AuFz3VLl2u2S6hH94u55DiLi0C5y5zc+suuOTvLv5V9C5Ex/guijj9LujUAC+LDQMvLkYFL9B+By90twkvFvALL7ooDi9cYRAv/5kSL6LSFC9FCxcv6EMZL4p8Gy8utR0v0O0fL3QmIi8WXyQvuZcmL1zQKC//CCsvokEtL0V6Ly/osjEvi+szLy4kNi/QXDgvdJU6LxbOPC+5Bj8vXD9BL/93Qy+isEUvRelHL+ghSi+LWkwvLpNOL9DLUC9zBFMvFj1VL7l1Vy9crlkv/+ZbLw==",
          "dtype": "f4"
         },
         "y": {
          "bdata": "VlXVQFZV1UBWVdVAVlXVQFZV1UBWVdVAVlXVQFZV1UBWVdVAVlXVQFZV1UBWVdVAVlXVQFZV1UBWVdVAVlXVQFZV1UBWVdVAVlXVQFZV1UBWVdVAVlXVQFZV1UBWVdVAVlXVQFZV1UBWVdVAVlXVQFZV1UBWVdVAVlXVQFZV1UBWVdVAVlXVQFZV1UBWVdVAVlXVQFZV1UBWVdVAVlXVQFZV1UBWVdVAVlXVQFZV1UBWVdVAVlXVQFZV1UBWVdVAVlXVQFZV1UBWVdVAVlXVQFZV1UBWVdVAVlXVQFZV1UBWVdVAVlXVQFZV1UBWVdVAVlXVQFZV1UBWVdVAVlXVQFZV1UBWVdVAVlXVQFZV1UBWVdVAVlXVQFZV1UBWVdVAVlXVQFZV1UBWVdVAVlXVQFZV1UBWVdVAVlXVQFZV1UBWVdVAVlXVQFZV1UBWVdVAVlXVQFZV1UBWVdVAVlXVQFZV1UBWVdVAVlXVQFZV1UBWVdVAVlXVQFZV1UBWVdVAVlXVQFZV1UBWVdVAVlXVQA==",
          "dtype": "f4"
         },
         "z": {
          "bdata": "s78jXqU0RN6DdJHejBi83dGiIF7Mx9JedzcVX9ukeF9B2X5fNxf0X13SM2BcqnBg4dqZYOKNvGDCcN9gxGkEYbzqGmGDpzFhHkpHYZlaYGHRcHhhU02IYSkMlWE/jaBhOnisYYsSumFja8RhFcLPYcjR2mEo1eVhrXfwYU5h+mFd7wFi4QoHYoRqCmJ3Ag5irHURYv9WFGLFBRdieGwZYpkHG2KeSxxijHkdYpuJHWKm2h1ipzUeYry5HWKcyBxi27gbYruLGmLIqhhiTFIWYsQLFGLPhBFiDnsOYr6GC2JPqghiWwIFYnxfAWJ4L/thznbzYYos6WFhuuNhDmLbYUU102G4lcph79HCYVMtumGlXbJhfkqqYVCcomHiE5thL/2UYQXpjWGZYIZhr5uAYVdVemFXs2thu0RgYTzXVWHp5klhI2pCYYZoOGFXMC9hlskkYRT7GWGe2w9hdkoHYRGg92AlKuFgJ1/HYOoLu2BKIalgUU2XYFAQgGBLCzxgcB4qYFMdxF/Bl6Vf4a3DXg==",
          "dtype": "f4"
         }
        },
        {
         "line": {
          "cmax": 743052139482090300000,
          "cmin": -14341760292361339000,
          "color": {
           "bdata": "7jUkXnrfQ94PjZDephy33YapJF646tVeADYXX0pOe18Y9oBfYCD2X1IUNWA0MHJgU8CaYHOWvWBznuBgghMFYcWoG2HoeDJhZSxIYbxSYWHge3lh4duIYU+jlWEOLaFhqx+tYenHumFGIcVh0X3QYamT22HtmuZhVUHxYakt+2GVVgJiXXMHYhDSCmLQaQ5iI9wRYle8FGKKaRdiHs8ZYi1nG2LSqBxisdMdYi/hHWKVLh5iEIceYgwIHmL/Ex1iUQEcYtLQGmLu7Rhii5IWYiVKFGLUwBFiGLUOYgW/C2Kj4Ahi2TcFYrSTAWI8lvthu9vzYSCP6WGOHuRhzMPbYcaV02Ef9cphnDDDYZWJumGUubJhWaWqYQb1omGZapthA1SVYeQ7jmHXr4Zha+iAYT7wemFxQWxh3stgYSNWVmHmXUphVNtCYXjROGGNkS9hfSIlYTpLGmE0JBBhfY4HYbcS+GAuj+Fg8bTHYNFYu2BNZalg6YqXYF1EgGDbUzxgn2cqYJ8bxF9A6aVfdSjEXg==",
           "dtype": "f4"
          },
          "colorscale": [
           [
            0,
            "#440154"
           ],
           [
            0.1111111111111111,
            "#482878"
           ],
           [
            0.2222222222222222,
            "#3e4989"
           ],
           [
            0.3333333333333333,
            "#31688e"
           ],
           [
            0.4444444444444444,
            "#26828e"
           ],
           [
            0.5555555555555556,
            "#1f9e89"
           ],
           [
            0.6666666666666666,
            "#35b779"
           ],
           [
            0.7777777777777778,
            "#6ece58"
           ],
           [
            0.8888888888888888,
            "#b5de2b"
           ],
           [
            1,
            "#fde725"
           ]
          ],
          "showscale": false,
          "width": 4
         },
         "mode": "lines",
         "showlegend": false,
         "type": "scatter3d",
         "x": {
          "bdata": "AAAAALooDiy6KI4sFz3VLLooDi3osjEtFz1VLUbHeC26KI4t0e2fLeiysS0AeMMtFz3VLS4C5y1Gx/gtLkYFLrooDi5GCxcu0e0fLl3QKC7osjEudJU6LgB4Qy6LWkwuFz1VLqMfXi4uAmcuuuRvLkbHeC7p1IAuLkaFLnS3iS66KI4uAJqSLkYLly6LfJsu0e2fLhdfpC5d0Kguo0GtLuiysS4uJLYudJW6LroGvy4AeMMuRunHLotazC7Ry9AuFz3VLl2u2S6hH94u55DiLi0C5y5zc+suuOTvLv5V9C5Ex/guijj9LujUAC+LDQMvLkYFL9B+By90twkvFvALL7ooDi9cYRAv/5kSL6LSFC9FCxcv6EMZL4p8Gy8utR0v0O0fL3QmIi8WXyQvuZcmL1zQKC//CCsvokEtL0V6Ly/osjEvi+szLy4kNi/QXDgvdJU6LxbOPC+5Bj8vXD9BL/93Qy+isEUvRelHL+ghSi+LWkwvLpNOL9DLUC9zBFMvFj1VL7l1Vy9crlkv/+ZbLw==",
          "dtype": "f4"
         },
         "y": {
          "bdata": "SMzbQEjM20BIzNtASMzbQEjM20BIzNtASMzbQEjM20BIzNtASMzbQEjM20BIzNtASMzbQEjM20BIzNtASMzbQEjM20BIzNtASMzbQEjM20BIzNtASMzbQEjM20BIzNtASMzbQEjM20BIzNtASMzbQEjM20BIzNtASMzbQEjM20BIzNtASMzbQEjM20BIzNtASMzbQEjM20BIzNtASMzbQEjM20BIzNtASMzbQEjM20BIzNtASMzbQEjM20BIzNtASMzbQEjM20BIzNtASMzbQEjM20BIzNtASMzbQEjM20BIzNtASMzbQEjM20BIzNtASMzbQEjM20BIzNtASMzbQEjM20BIzNtASMzbQEjM20BIzNtASMzbQEjM20BIzNtASMzbQEjM20BIzNtASMzbQEjM20BIzNtASMzbQEjM20BIzNtASMzbQEjM20BIzNtASMzbQEjM20BIzNtASMzbQEjM20BIzNtASMzbQEjM20BIzNtASMzbQEjM20BIzNtASMzbQEjM20BIzNtASMzbQA==",
          "dtype": "f4"
         },
         "z": {
          "bdata": "7jUkXnrfQ94PjZDephy33YapJF646tVeADYXX0pOe18Y9oBfYCD2X1IUNWA0MHJgU8CaYHOWvWBznuBgghMFYcWoG2HoeDJhZSxIYbxSYWHge3lh4duIYU+jlWEOLaFhqx+tYenHumFGIcVh0X3QYamT22HtmuZhVUHxYakt+2GVVgJiXXMHYhDSCmLQaQ5iI9wRYle8FGKKaRdiHs8ZYi1nG2LSqBxisdMdYi/hHWKVLh5iEIceYgwIHmL/Ex1iUQEcYtLQGmLu7Rhii5IWYiVKFGLUwBFiGLUOYgW/C2Kj4Ahi2TcFYrSTAWI8lvthu9vzYSCP6WGOHuRhzMPbYcaV02Ef9cphnDDDYZWJumGUubJhWaWqYQb1omGZapthA1SVYeQ7jmHXr4Zha+iAYT7wemFxQWxh3stgYSNWVmHmXUphVNtCYXjROGGNkS9hfSIlYTpLGmE0JBBhfY4HYbcS+GAuj+Fg8bTHYNFYu2BNZalg6YqXYF1EgGDbUzxgn2cqYJ8bxF9A6aVfdSjEXg==",
          "dtype": "f4"
         }
        },
        {
         "line": {
          "cmax": 743052139482090300000,
          "cmin": -14341760292361339000,
          "color": {
           "bdata": "fKQkXs96Q949oo/exwWy3eC2KF76CtlemzIZXxHyfV8VfYJfPiL4X41QNmBurXNgC6CbYL2XvmCnw+Fg27cFYV1gHGHUQjNhVwZJYQ1BYmHle3phUGSJYaszlmGDxaFhKb+tYRp0u2HyzcVhvC/RYRNL3GHBVedheP/xYQvu+2GQtwJiS9UHYgIzC2Jryg5ivzsSYrkaFWJBxhdiiCoaYqa/G2Lq/hxixCYeYs8xHmKpex5imtEeYpZPHmK3WB1iPEMcYn0PG2K+KhlipswWYniCFGLx9hFiXukOYqvxC2J4EQli+WcFYrLCAWLQ8vthtzb0YWvo6WEqeeRhZRzcYW/t02H6S8th9YbDYf7dumHUDbNhw/iqYaBGo2F3upth96OVYVWIjmEE+YZhRC+BYYp+e2FdxGxhV0hhYbvKVmEIy0ph3EJDYSMxOWG46S9h4HIlYUiTGmErZRBh1MoHYdd3+GDK5+Fg7//HYEebu2Dfn6lgDMCXYDVxgGB3kTxg9qYqYJsXxF/7MaZfIpjEXg==",
           "dtype": "f4"
          },
          "colorscale": [
           [
            0,
            "#440154"
           ],
           [
            0.1111111111111111,
            "#482878"
           ],
           [
            0.2222222222222222,
            "#3e4989"
           ],
           [
            0.3333333333333333,
            "#31688e"
           ],
           [
            0.4444444444444444,
            "#26828e"
           ],
           [
            0.5555555555555556,
            "#1f9e89"
           ],
           [
            0.6666666666666666,
            "#35b779"
           ],
           [
            0.7777777777777778,
            "#6ece58"
           ],
           [
            0.8888888888888888,
            "#b5de2b"
           ],
           [
            1,
            "#fde725"
           ]
          ],
          "showscale": false,
          "width": 4
         },
         "mode": "lines",
         "showlegend": false,
         "type": "scatter3d",
         "x": {
          "bdata": "AAAAALooDiy6KI4sFz3VLLooDi3osjEtFz1VLUbHeC26KI4t0e2fLeiysS0AeMMtFz3VLS4C5y1Gx/gtLkYFLrooDi5GCxcu0e0fLl3QKC7osjEudJU6LgB4Qy6LWkwuFz1VLqMfXi4uAmcuuuRvLkbHeC7p1IAuLkaFLnS3iS66KI4uAJqSLkYLly6LfJsu0e2fLhdfpC5d0Kguo0GtLuiysS4uJLYudJW6LroGvy4AeMMuRunHLotazC7Ry9AuFz3VLl2u2S6hH94u55DiLi0C5y5zc+suuOTvLv5V9C5Ex/guijj9LujUAC+LDQMvLkYFL9B+By90twkvFvALL7ooDi9cYRAv/5kSL6LSFC9FCxcv6EMZL4p8Gy8utR0v0O0fL3QmIi8WXyQvuZcmL1zQKC//CCsvokEtL0V6Ly/osjEvi+szLy4kNi/QXDgvdJU6LxbOPC+5Bj8vXD9BL/93Qy+isEUvRelHL+ghSi+LWkwvLpNOL9DLUC9zBFMvFj1VL7l1Vy9crlkv/+ZbLw==",
          "dtype": "f4"
         },
         "y": {
          "bdata": "PEPiQDxD4kA8Q+JAPEPiQDxD4kA8Q+JAPEPiQDxD4kA8Q+JAPEPiQDxD4kA8Q+JAPEPiQDxD4kA8Q+JAPEPiQDxD4kA8Q+JAPEPiQDxD4kA8Q+JAPEPiQDxD4kA8Q+JAPEPiQDxD4kA8Q+JAPEPiQDxD4kA8Q+JAPEPiQDxD4kA8Q+JAPEPiQDxD4kA8Q+JAPEPiQDxD4kA8Q+JAPEPiQDxD4kA8Q+JAPEPiQDxD4kA8Q+JAPEPiQDxD4kA8Q+JAPEPiQDxD4kA8Q+JAPEPiQDxD4kA8Q+JAPEPiQDxD4kA8Q+JAPEPiQDxD4kA8Q+JAPEPiQDxD4kA8Q+JAPEPiQDxD4kA8Q+JAPEPiQDxD4kA8Q+JAPEPiQDxD4kA8Q+JAPEPiQDxD4kA8Q+JAPEPiQDxD4kA8Q+JAPEPiQDxD4kA8Q+JAPEPiQDxD4kA8Q+JAPEPiQDxD4kA8Q+JAPEPiQDxD4kA8Q+JAPEPiQDxD4kA8Q+JAPEPiQDxD4kA8Q+JAPEPiQDxD4kA8Q+JAPEPiQA==",
          "dtype": "f4"
         },
         "z": {
          "bdata": "fKQkXs96Q949oo/exwWy3eC2KF76CtlemzIZXxHyfV8VfYJfPiL4X41QNmBurXNgC6CbYL2XvmCnw+Fg27cFYV1gHGHUQjNhVwZJYQ1BYmHle3phUGSJYaszlmGDxaFhKb+tYRp0u2HyzcVhvC/RYRNL3GHBVedheP/xYQvu+2GQtwJiS9UHYgIzC2Jryg5ivzsSYrkaFWJBxhdiiCoaYqa/G2Lq/hxixCYeYs8xHmKpex5imtEeYpZPHmK3WB1iPEMcYn0PG2K+KhlipswWYniCFGLx9hFiXukOYqvxC2J4EQli+WcFYrLCAWLQ8vthtzb0YWvo6WEqeeRhZRzcYW/t02H6S8th9YbDYf7dumHUDbNhw/iqYaBGo2F3upth96OVYVWIjmEE+YZhRC+BYYp+e2FdxGxhV0hhYbvKVmEIy0ph3EJDYSMxOWG46S9h4HIlYUiTGmErZRBh1MoHYdd3+GDK5+Fg7//HYEebu2Dfn6lgDMCXYDVxgGB3kTxg9qYqYJsXxF/7MaZfIpjEXg==",
          "dtype": "f4"
         }
        },
        {
         "line": {
          "cmax": 743052139482090300000,
          "cmin": -14341760292361339000,
          "color": {
           "bdata": "ZgslXmUOQ96mt47e5uus3Ui7LF7uHtxeOicbX25EgF8h/YNf1Rf6X+WDN2AYH3VgcXicYCSQv2A83uJg9FUGYasQHWFqBDRh+NZJYc8kY2E7cHthTOaJYQa9lmFZVqJhdlauYQAXvGFDccZhv9fRYfv33GGhBehhK7LyYZCi/GFsEgNi3jAIYomNC2J9JA9iu5QSYmpyFWJFHBhiJ38aYmwRHGJZTh1iSXMeYvF7HmJjwh5i4RUfYvyQHmJulx1iS38cYnNIG2L0YRliUAEXYne1FGLgJxJimRgPYmkfDGKIPQliaJMFYiPtAWJ2RvxhA4n0YTY56mFiy+Rh3WzcYTI91GEbm8thytXDYTQru2EJW7NhUEWrYZyRo2HxA5xhg+2VYcPOjmFrPIdhh3CBYUsBfGG0PG1hp7phYYo1V2HMLkthNqFDYQ6IOWGHOTBhTbslYdjTGmESnxBhWAAIYbfQ+GAwNeJgu0DIYG/Uu2AI0qlgpe2XYKCXgGBjxTxgrt0qYD0PxF+bcqZfP/3EXg==",
           "dtype": "f4"
          },
          "colorscale": [
           [
            0,
            "#440154"
           ],
           [
            0.1111111111111111,
            "#482878"
           ],
           [
            0.2222222222222222,
            "#3e4989"
           ],
           [
            0.3333333333333333,
            "#31688e"
           ],
           [
            0.4444444444444444,
            "#26828e"
           ],
           [
            0.5555555555555556,
            "#1f9e89"
           ],
           [
            0.6666666666666666,
            "#35b779"
           ],
           [
            0.7777777777777778,
            "#6ece58"
           ],
           [
            0.8888888888888888,
            "#b5de2b"
           ],
           [
            1,
            "#fde725"
           ]
          ],
          "showscale": false,
          "width": 4
         },
         "mode": "lines",
         "showlegend": false,
         "type": "scatter3d",
         "x": {
          "bdata": "AAAAALooDiy6KI4sFz3VLLooDi3osjEtFz1VLUbHeC26KI4t0e2fLeiysS0AeMMtFz3VLS4C5y1Gx/gtLkYFLrooDi5GCxcu0e0fLl3QKC7osjEudJU6LgB4Qy6LWkwuFz1VLqMfXi4uAmcuuuRvLkbHeC7p1IAuLkaFLnS3iS66KI4uAJqSLkYLly6LfJsu0e2fLhdfpC5d0Kguo0GtLuiysS4uJLYudJW6LroGvy4AeMMuRunHLotazC7Ry9AuFz3VLl2u2S6hH94u55DiLi0C5y5zc+suuOTvLv5V9C5Ex/guijj9LujUAC+LDQMvLkYFL9B+By90twkvFvALL7ooDi9cYRAv/5kSL6LSFC9FCxcv6EMZL4p8Gy8utR0v0O0fL3QmIi8WXyQvuZcmL1zQKC//CCsvokEtL0V6Ly/osjEvi+szLy4kNi/QXDgvdJU6LxbOPC+5Bj8vXD9BL/93Qy+isEUvRelHL+ghSi+LWkwvLpNOL9DLUC9zBFMvFj1VL7l1Vy9crlkv/+ZbLw==",
          "dtype": "f4"
         },
         "y": {
          "bdata": "LrroQC666EAuuuhALrroQC666EAuuuhALrroQC666EAuuuhALrroQC666EAuuuhALrroQC666EAuuuhALrroQC666EAuuuhALrroQC666EAuuuhALrroQC666EAuuuhALrroQC666EAuuuhALrroQC666EAuuuhALrroQC666EAuuuhALrroQC666EAuuuhALrroQC666EAuuuhALrroQC666EAuuuhALrroQC666EAuuuhALrroQC666EAuuuhALrroQC666EAuuuhALrroQC666EAuuuhALrroQC666EAuuuhALrroQC666EAuuuhALrroQC666EAuuuhALrroQC666EAuuuhALrroQC666EAuuuhALrroQC666EAuuuhALrroQC666EAuuuhALrroQC666EAuuuhALrroQC666EAuuuhALrroQC666EAuuuhALrroQC666EAuuuhALrroQC666EAuuuhALrroQC666EAuuuhALrroQC666EAuuuhALrroQC666EAuuuhALrroQA==",
          "dtype": "f4"
         },
         "z": {
          "bdata": "ZgslXmUOQ96mt47e5uus3Ui7LF7uHtxeOicbX25EgF8h/YNf1Rf6X+WDN2AYH3VgcXicYCSQv2A83uJg9FUGYasQHWFqBDRh+NZJYc8kY2E7cHthTOaJYQa9lmFZVqJhdlauYQAXvGFDccZhv9fRYfv33GGhBehhK7LyYZCi/GFsEgNi3jAIYomNC2J9JA9iu5QSYmpyFWJFHBhiJ38aYmwRHGJZTh1iSXMeYvF7HmJjwh5i4RUfYvyQHmJulx1iS38cYnNIG2L0YRliUAEXYne1FGLgJxJimRgPYmkfDGKIPQliaJMFYiPtAWJ2RvxhA4n0YTY56mFiy+Rh3WzcYTI91GEbm8thytXDYTQru2EJW7NhUEWrYZyRo2HxA5xhg+2VYcPOjmFrPIdhh3CBYUsBfGG0PG1hp7phYYo1V2HMLkthNqFDYQ6IOWGHOTBhTbslYdjTGmESnxBhWAAIYbfQ+GAwNeJgu0DIYG/Uu2AI0qlgpe2XYKCXgGBjxTxgrt0qYD0PxF+bcqZfP/3EXg==",
          "dtype": "f4"
         }
        },
        {
         "line": {
          "cmax": 743052139482090300000,
          "cmin": -14341760292361339000,
          "color": {
           "bdata": "IGslXiWbQt5XzY3edN6n3XytMF6sH99ekQ8dX6iGgV8rc4Vf3v37X/asOGBMg3ZgkUidYJR+wGBR7eNgPe0GYRm5HWEXvTRh2J1KYW/9Y2FWWHxhpmGKYRk/l2Fo36Jhe+WuYYSwvGE4C8dh83XSYYqa3WHGquhhv1nzYZ5L/WFjZwNiWYYIYvThC2JdeA9ieOcSYtbDFWL+axhibs0aYv9cHGKilx1iwLkeYinAHmJXAx9ib1QfYs/MHmK20B1iCLYcYj18G2IglBliGjEXYrPjFGIxVBJiVUMPYsdIDGJWZQlirLoFYogTAmIukvxhktP0YaqC6mEYFuVhGLbcYeaF1GFS48th5B3EYfNxu2HfobNhoourYZXWo2GVR5xhNzGWYaQPj2GHeodhn6yBYSt5fGFHq21hlCNiYVqXV2H7iUthL/dDYQDXOWGqgTBhivwlYakNG2Go0hBhqy8IYa4e+WCeeOJgwnjIYGUFvGDU/KlgpBSYYGi4gGDm8DxgygwrYFwGxF//q6Zfu1jFXg==",
           "dtype": "f4"
          },
          "colorscale": [
           [
            0,
            "#440154"
           ],
           [
            0.1111111111111111,
            "#482878"
           ],
           [
            0.2222222222222222,
            "#3e4989"
           ],
           [
            0.3333333333333333,
            "#31688e"
           ],
           [
            0.4444444444444444,
            "#26828e"
           ],
           [
            0.5555555555555556,
            "#1f9e89"
           ],
           [
            0.6666666666666666,
            "#35b779"
           ],
           [
            0.7777777777777778,
            "#6ece58"
           ],
           [
            0.8888888888888888,
            "#b5de2b"
           ],
           [
            1,
            "#fde725"
           ]
          ],
          "showscale": false,
          "width": 4
         },
         "mode": "lines",
         "showlegend": false,
         "type": "scatter3d",
         "x": {
          "bdata": "AAAAALooDiy6KI4sFz3VLLooDi3osjEtFz1VLUbHeC26KI4t0e2fLeiysS0AeMMtFz3VLS4C5y1Gx/gtLkYFLrooDi5GCxcu0e0fLl3QKC7osjEudJU6LgB4Qy6LWkwuFz1VLqMfXi4uAmcuuuRvLkbHeC7p1IAuLkaFLnS3iS66KI4uAJqSLkYLly6LfJsu0e2fLhdfpC5d0Kguo0GtLuiysS4uJLYudJW6LroGvy4AeMMuRunHLotazC7Ry9AuFz3VLl2u2S6hH94u55DiLi0C5y5zc+suuOTvLv5V9C5Ex/guijj9LujUAC+LDQMvLkYFL9B+By90twkvFvALL7ooDi9cYRAv/5kSL6LSFC9FCxcv6EMZL4p8Gy8utR0v0O0fL3QmIi8WXyQvuZcmL1zQKC//CCsvokEtL0V6Ly/osjEvi+szLy4kNi/QXDgvdJU6LxbOPC+5Bj8vXD9BL/93Qy+isEUvRelHL+ghSi+LWkwvLpNOL9DLUC9zBFMvFj1VL7l1Vy9crlkv/+ZbLw==",
          "dtype": "f4"
         },
         "y": {
          "bdata": "IjHvQCIx70AiMe9AIjHvQCIx70AiMe9AIjHvQCIx70AiMe9AIjHvQCIx70AiMe9AIjHvQCIx70AiMe9AIjHvQCIx70AiMe9AIjHvQCIx70AiMe9AIjHvQCIx70AiMe9AIjHvQCIx70AiMe9AIjHvQCIx70AiMe9AIjHvQCIx70AiMe9AIjHvQCIx70AiMe9AIjHvQCIx70AiMe9AIjHvQCIx70AiMe9AIjHvQCIx70AiMe9AIjHvQCIx70AiMe9AIjHvQCIx70AiMe9AIjHvQCIx70AiMe9AIjHvQCIx70AiMe9AIjHvQCIx70AiMe9AIjHvQCIx70AiMe9AIjHvQCIx70AiMe9AIjHvQCIx70AiMe9AIjHvQCIx70AiMe9AIjHvQCIx70AiMe9AIjHvQCIx70AiMe9AIjHvQCIx70AiMe9AIjHvQCIx70AiMe9AIjHvQCIx70AiMe9AIjHvQCIx70AiMe9AIjHvQCIx70AiMe9AIjHvQCIx70AiMe9AIjHvQCIx70AiMe9AIjHvQA==",
          "dtype": "f4"
         },
         "z": {
          "bdata": "IGslXiWbQt5XzY3edN6n3XytMF6sH99ekQ8dX6iGgV8rc4Vf3v37X/asOGBMg3ZgkUidYJR+wGBR7eNgPe0GYRm5HWEXvTRh2J1KYW/9Y2FWWHxhpmGKYRk/l2Fo36Jhe+WuYYSwvGE4C8dh83XSYYqa3WHGquhhv1nzYZ5L/WFjZwNiWYYIYvThC2JdeA9ieOcSYtbDFWL+axhibs0aYv9cHGKilx1iwLkeYinAHmJXAx9ib1QfYs/MHmK20B1iCLYcYj18G2IglBliGjEXYrPjFGIxVBJiVUMPYsdIDGJWZQlirLoFYogTAmIukvxhktP0YaqC6mEYFuVhGLbcYeaF1GFS48th5B3EYfNxu2HfobNhoourYZXWo2GVR5xhNzGWYaQPj2GHeodhn6yBYSt5fGFHq21hlCNiYVqXV2H7iUthL/dDYQDXOWGqgTBhivwlYakNG2Go0hBhqy8IYa4e+WCeeOJgwnjIYGUFvGDU/KlgpBSYYGi4gGDm8DxgygwrYFwGxF//q6Zfu1jFXg==",
          "dtype": "f4"
         }
        },
        {
         "line": {
          "cmax": 743052139482090300000,
          "cmin": -14341760292361339000,
          "color": {
           "bdata": "CsQlXrUlQt5C7IzeSOqi3WaFNF73B+JeRugeX+e9gl/G3IZfrdH9X2DKOWB82HdgkQ+eYDxiwWDT7+RgRn0HYTxZHmF1bDVhlFpLYZvKZGHiM31hNdaKYdy5l2GgYKNhJmyvYZtAvWHVm8dhWwrTYdcy3mFXRelhXvbzYXDp/WGZtgNi6tUIYnUwDGJBxg9iNTQTYkIPFmK8tRhisRUbYrOiHGIg2x1ikvoeYtL+HmLzPh9iuo0fYoIDH2IFBR5i7+ccYmqrG2LAwRliiFwXYqoNFWJnfBJiFGoPYkduDGJoiQliRN4FYlg2AmLo1vxhRRf1YYLF6mEGWuVh0/jcYULI1GFUJcxh21/EYcuyu2Hb4rNhL8yrYfgVpGHIhZxhcG+WYUVLj2Gks4dh1eOBYfrmfGGcEG5hkYNiYbHwV2EO3UthTkVEYXMeOmGqwjBhDjcmYTRBG2FiABFhQVkIYahi+WD5suJgvqjIYP0uvGD+IKpgoTWYYB3UgGCzFD1gCzUrYJz9w1+h3qZfhKrFXg==",
           "dtype": "f4"
          },
          "colorscale": [
           [
            0,
            "#440154"
           ],
           [
            0.1111111111111111,
            "#482878"
           ],
           [
            0.2222222222222222,
            "#3e4989"
           ],
           [
            0.3333333333333333,
            "#31688e"
           ],
           [
            0.4444444444444444,
            "#26828e"
           ],
           [
            0.5555555555555556,
            "#1f9e89"
           ],
           [
            0.6666666666666666,
            "#35b779"
           ],
           [
            0.7777777777777778,
            "#6ece58"
           ],
           [
            0.8888888888888888,
            "#b5de2b"
           ],
           [
            1,
            "#fde725"
           ]
          ],
          "showscale": false,
          "width": 4
         },
         "mode": "lines",
         "showlegend": false,
         "type": "scatter3d",
         "x": {
          "bdata": "AAAAALooDiy6KI4sFz3VLLooDi3osjEtFz1VLUbHeC26KI4t0e2fLeiysS0AeMMtFz3VLS4C5y1Gx/gtLkYFLrooDi5GCxcu0e0fLl3QKC7osjEudJU6LgB4Qy6LWkwuFz1VLqMfXi4uAmcuuuRvLkbHeC7p1IAuLkaFLnS3iS66KI4uAJqSLkYLly6LfJsu0e2fLhdfpC5d0Kguo0GtLuiysS4uJLYudJW6LroGvy4AeMMuRunHLotazC7Ry9AuFz3VLl2u2S6hH94u55DiLi0C5y5zc+suuOTvLv5V9C5Ex/guijj9LujUAC+LDQMvLkYFL9B+By90twkvFvALL7ooDi9cYRAv/5kSL6LSFC9FCxcv6EMZL4p8Gy8utR0v0O0fL3QmIi8WXyQvuZcmL1zQKC//CCsvokEtL0V6Ly/osjEvi+szLy4kNi/QXDgvdJU6LxbOPC+5Bj8vXD9BL/93Qy+isEUvRelHL+ghSi+LWkwvLpNOL9DLUC9zBFMvFj1VL7l1Vy9crlkv/+ZbLw==",
          "dtype": "f4"
         },
         "y": {
          "bdata": "Faj1QBWo9UAVqPVAFaj1QBWo9UAVqPVAFaj1QBWo9UAVqPVAFaj1QBWo9UAVqPVAFaj1QBWo9UAVqPVAFaj1QBWo9UAVqPVAFaj1QBWo9UAVqPVAFaj1QBWo9UAVqPVAFaj1QBWo9UAVqPVAFaj1QBWo9UAVqPVAFaj1QBWo9UAVqPVAFaj1QBWo9UAVqPVAFaj1QBWo9UAVqPVAFaj1QBWo9UAVqPVAFaj1QBWo9UAVqPVAFaj1QBWo9UAVqPVAFaj1QBWo9UAVqPVAFaj1QBWo9UAVqPVAFaj1QBWo9UAVqPVAFaj1QBWo9UAVqPVAFaj1QBWo9UAVqPVAFaj1QBWo9UAVqPVAFaj1QBWo9UAVqPVAFaj1QBWo9UAVqPVAFaj1QBWo9UAVqPVAFaj1QBWo9UAVqPVAFaj1QBWo9UAVqPVAFaj1QBWo9UAVqPVAFaj1QBWo9UAVqPVAFaj1QBWo9UAVqPVAFaj1QBWo9UAVqPVAFaj1QBWo9UAVqPVAFaj1QBWo9UAVqPVAFaj1QA==",
          "dtype": "f4"
         },
         "z": {
          "bdata": "CsQlXrUlQt5C7IzeSOqi3WaFNF73B+JeRugeX+e9gl/G3IZfrdH9X2DKOWB82HdgkQ+eYDxiwWDT7+RgRn0HYTxZHmF1bDVhlFpLYZvKZGHiM31hNdaKYdy5l2GgYKNhJmyvYZtAvWHVm8dhWwrTYdcy3mFXRelhXvbzYXDp/WGZtgNi6tUIYnUwDGJBxg9iNTQTYkIPFmK8tRhisRUbYrOiHGIg2x1ikvoeYtL+HmLzPh9iuo0fYoIDH2IFBR5i7+ccYmqrG2LAwRliiFwXYqoNFWJnfBJiFGoPYkduDGJoiQliRN4FYlg2AmLo1vxhRRf1YYLF6mEGWuVh0/jcYULI1GFUJcxh21/EYcuyu2Hb4rNhL8yrYfgVpGHIhZxhcG+WYUVLj2Gks4dh1eOBYfrmfGGcEG5hkYNiYbHwV2EO3UthTkVEYXMeOmGqwjBhDjcmYTRBG2FiABFhQVkIYahi+WD5suJgvqjIYP0uvGD+IKpgoTWYYB3UgGCzFD1gCzUrYJz9w1+h3qZfhKrFXg==",
          "dtype": "f4"
         }
        },
        {
         "line": {
          "cmax": 743052139482090300000,
          "cmin": -14341760292361339000,
          "color": {
           "bdata": "XBYmXt2sQd6/EYzeIh2e3XE5OF6p0uReSK4gXyzog1+hN4hf4ZD/X3LaOmByHXlg1MyeYH06wmBK5eVgyAUIYdPwHmFNEjZh2gxMYTiMZWHpAn5h8EOLYWEtmGES2qNhm+qvYe/HvWFcI8hhSZXTYUHB3mG61elhiIj0YY98/mFYAARi4B8JYmJ5DGKNDhBiW3sTYhVVFmLy+RhiaVgbYgbjHGJVGR5iOjYfYnU4H2KrdR9iRcIfYp01H2LkNB5imRUdYnbWG2Jd6xliG4QXYuYzFWL9oBJiU40PYmOQDGIzqglipP4FYglWAmJ7Ff1h/FT1YYwC62EhmOVh0DXdYfkE1WHLYcxhVJzEYVXuu2GQHrRhjgesYUlQpGEEv5xhoqiWYTOCj2Ev6IdhoBaCYalLfWGAbW5hjdtiYUJCWGG7KExhOIxEYSBfOmE7/TBhkGsmYTFvG2H0KBFh6H0IYfid+WB55eJgANLIYEJSvGCBP6pgkFGYYHzrgGAlMj1gKlcrYITuw19sC6dfuPPFXg==",
           "dtype": "f4"
          },
          "colorscale": [
           [
            0,
            "#440154"
           ],
           [
            0.1111111111111111,
            "#482878"
           ],
           [
            0.2222222222222222,
            "#3e4989"
           ],
           [
            0.3333333333333333,
            "#31688e"
           ],
           [
            0.4444444444444444,
            "#26828e"
           ],
           [
            0.5555555555555556,
            "#1f9e89"
           ],
           [
            0.6666666666666666,
            "#35b779"
           ],
           [
            0.7777777777777778,
            "#6ece58"
           ],
           [
            0.8888888888888888,
            "#b5de2b"
           ],
           [
            1,
            "#fde725"
           ]
          ],
          "showscale": false,
          "width": 4
         },
         "mode": "lines",
         "showlegend": false,
         "type": "scatter3d",
         "x": {
          "bdata": "AAAAALooDiy6KI4sFz3VLLooDi3osjEtFz1VLUbHeC26KI4t0e2fLeiysS0AeMMtFz3VLS4C5y1Gx/gtLkYFLrooDi5GCxcu0e0fLl3QKC7osjEudJU6LgB4Qy6LWkwuFz1VLqMfXi4uAmcuuuRvLkbHeC7p1IAuLkaFLnS3iS66KI4uAJqSLkYLly6LfJsu0e2fLhdfpC5d0Kguo0GtLuiysS4uJLYudJW6LroGvy4AeMMuRunHLotazC7Ry9AuFz3VLl2u2S6hH94u55DiLi0C5y5zc+suuOTvLv5V9C5Ex/guijj9LujUAC+LDQMvLkYFL9B+By90twkvFvALL7ooDi9cYRAv/5kSL6LSFC9FCxcv6EMZL4p8Gy8utR0v0O0fL3QmIi8WXyQvuZcmL1zQKC//CCsvokEtL0V6Ly/osjEvi+szLy4kNi/QXDgvdJU6LxbOPC+5Bj8vXD9BL/93Qy+isEUvRelHL+ghSi+LWkwvLpNOL9DLUC9zBFMvFj1VL7l1Vy9crlkv/+ZbLw==",
          "dtype": "f4"
         },
         "y": {
          "bdata": "CB/8QAgf/EAIH/xACB/8QAgf/EAIH/xACB/8QAgf/EAIH/xACB/8QAgf/EAIH/xACB/8QAgf/EAIH/xACB/8QAgf/EAIH/xACB/8QAgf/EAIH/xACB/8QAgf/EAIH/xACB/8QAgf/EAIH/xACB/8QAgf/EAIH/xACB/8QAgf/EAIH/xACB/8QAgf/EAIH/xACB/8QAgf/EAIH/xACB/8QAgf/EAIH/xACB/8QAgf/EAIH/xACB/8QAgf/EAIH/xACB/8QAgf/EAIH/xACB/8QAgf/EAIH/xACB/8QAgf/EAIH/xACB/8QAgf/EAIH/xACB/8QAgf/EAIH/xACB/8QAgf/EAIH/xACB/8QAgf/EAIH/xACB/8QAgf/EAIH/xACB/8QAgf/EAIH/xACB/8QAgf/EAIH/xACB/8QAgf/EAIH/xACB/8QAgf/EAIH/xACB/8QAgf/EAIH/xACB/8QAgf/EAIH/xACB/8QAgf/EAIH/xACB/8QAgf/EAIH/xACB/8QAgf/EAIH/xACB/8QA==",
          "dtype": "f4"
         },
         "z": {
          "bdata": "XBYmXt2sQd6/EYzeIh2e3XE5OF6p0uReSK4gXyzog1+hN4hf4ZD/X3LaOmByHXlg1MyeYH06wmBK5eVgyAUIYdPwHmFNEjZh2gxMYTiMZWHpAn5h8EOLYWEtmGES2qNhm+qvYe/HvWFcI8hhSZXTYUHB3mG61elhiIj0YY98/mFYAARi4B8JYmJ5DGKNDhBiW3sTYhVVFmLy+RhiaVgbYgbjHGJVGR5iOjYfYnU4H2KrdR9iRcIfYp01H2LkNB5imRUdYnbWG2Jd6xliG4QXYuYzFWL9oBJiU40PYmOQDGIzqglipP4FYglWAmJ7Ff1h/FT1YYwC62EhmOVh0DXdYfkE1WHLYcxhVJzEYVXuu2GQHrRhjgesYUlQpGEEv5xhoqiWYTOCj2Ev6IdhoBaCYalLfWGAbW5hjdtiYUJCWGG7KExhOIxEYSBfOmE7/TBhkGsmYTFvG2H0KBFh6H0IYfid+WB55eJgANLIYEJSvGCBP6pgkFGYYHzrgGAlMj1gKlcrYITuw19sC6dfuPPFXg==",
          "dtype": "f4"
         }
        },
        {
         "line": {
          "cmax": 743052139482090300000,
          "cmin": -14341760292361339000,
          "color": {
           "bdata": "fGImXrI2Qd5mP4veOXyZ3Z3HO17NfedeRmAiX8kEhV/ygolfW50AYCfdO2DXUXpgPICfYD8Hw2BlzeZgxoYIYe1/H2G0rjZh47RMYXlCZmGUxX5hE6uLYcuZmGH6S6RhGGGwYVRGvmEYoshhFhfUYSVG32FUXOphoBD1YWkF/2HjRARiimQJYgO9DGKHURBiL70TYqOVFmLsOBli95UbYkweHWKXUh5iF20fYmhtH2Lnpx9icfIfYoNjH2KyYB5iTD8dYsT9G2JXERpiNKgXYr5WFWJUwhJicK0PYnevDGIOyAliJBwGYupyAmKMTv1hSY31YUM662Hc0OVhoG3dYZY81WExmcxhz9PEYf0kvGFpVbRhHz6sYeaFpGGn85xhPt2WYaW0j2FxGIhhOEWCYd2nfWGGwm5h4ytjYZ2MWGGPbUxhi8xEYY2ZOmHuMTFhlZomYRqYG2HRTBFhJZ4IYYfR+WD+EONg9fTIYP5vvGAMWapg/miYYA7/gGD7ST1gQXQrYMzfw1/RMqdf9TTGXg==",
           "dtype": "f4"
          },
          "colorscale": [
           [
            0,
            "#440154"
           ],
           [
            0.1111111111111111,
            "#482878"
           ],
           [
            0.2222222222222222,
            "#3e4989"
           ],
           [
            0.3333333333333333,
            "#31688e"
           ],
           [
            0.4444444444444444,
            "#26828e"
           ],
           [
            0.5555555555555556,
            "#1f9e89"
           ],
           [
            0.6666666666666666,
            "#35b779"
           ],
           [
            0.7777777777777778,
            "#6ece58"
           ],
           [
            0.8888888888888888,
            "#b5de2b"
           ],
           [
            1,
            "#fde725"
           ]
          ],
          "showscale": false,
          "width": 4
         },
         "mode": "lines",
         "showlegend": false,
         "type": "scatter3d",
         "x": {
          "bdata": "AAAAALooDiy6KI4sFz3VLLooDi3osjEtFz1VLUbHeC26KI4t0e2fLeiysS0AeMMtFz3VLS4C5y1Gx/gtLkYFLrooDi5GCxcu0e0fLl3QKC7osjEudJU6LgB4Qy6LWkwuFz1VLqMfXi4uAmcuuuRvLkbHeC7p1IAuLkaFLnS3iS66KI4uAJqSLkYLly6LfJsu0e2fLhdfpC5d0Kguo0GtLuiysS4uJLYudJW6LroGvy4AeMMuRunHLotazC7Ry9AuFz3VLl2u2S6hH94u55DiLi0C5y5zc+suuOTvLv5V9C5Ex/guijj9LujUAC+LDQMvLkYFL9B+By90twkvFvALL7ooDi9cYRAv/5kSL6LSFC9FCxcv6EMZL4p8Gy8utR0v0O0fL3QmIi8WXyQvuZcmL1zQKC//CCsvokEtL0V6Ly/osjEvi+szLy4kNi/QXDgvdJU6LxbOPC+5Bj8vXD9BL/93Qy+isEUvRelHL+ghSi+LWkwvLpNOL9DLUC9zBFMvFj1VL7l1Vy9crlkv/+ZbLw==",
          "dtype": "f4"
         },
         "y": {
          "bdata": "/koBQf5KAUH+SgFB/koBQf5KAUH+SgFB/koBQf5KAUH+SgFB/koBQf5KAUH+SgFB/koBQf5KAUH+SgFB/koBQf5KAUH+SgFB/koBQf5KAUH+SgFB/koBQf5KAUH+SgFB/koBQf5KAUH+SgFB/koBQf5KAUH+SgFB/koBQf5KAUH+SgFB/koBQf5KAUH+SgFB/koBQf5KAUH+SgFB/koBQf5KAUH+SgFB/koBQf5KAUH+SgFB/koBQf5KAUH+SgFB/koBQf5KAUH+SgFB/koBQf5KAUH+SgFB/koBQf5KAUH+SgFB/koBQf5KAUH+SgFB/koBQf5KAUH+SgFB/koBQf5KAUH+SgFB/koBQf5KAUH+SgFB/koBQf5KAUH+SgFB/koBQf5KAUH+SgFB/koBQf5KAUH+SgFB/koBQf5KAUH+SgFB/koBQf5KAUH+SgFB/koBQf5KAUH+SgFB/koBQf5KAUH+SgFB/koBQf5KAUH+SgFB/koBQf5KAUH+SgFB/koBQf5KAUH+SgFB/koBQQ==",
          "dtype": "f4"
         },
         "z": {
          "bdata": "fGImXrI2Qd5mP4veOXyZ3Z3HO17NfedeRmAiX8kEhV/ygolfW50AYCfdO2DXUXpgPICfYD8Hw2BlzeZgxoYIYe1/H2G0rjZh47RMYXlCZmGUxX5hE6uLYcuZmGH6S6RhGGGwYVRGvmEYoshhFhfUYSVG32FUXOphoBD1YWkF/2HjRARiimQJYgO9DGKHURBiL70TYqOVFmLsOBli95UbYkweHWKXUh5iF20fYmhtH2Lnpx9icfIfYoNjH2KyYB5iTD8dYsT9G2JXERpiNKgXYr5WFWJUwhJicK0PYnevDGIOyAliJBwGYupyAmKMTv1hSY31YUM662Hc0OVhoG3dYZY81WExmcxhz9PEYf0kvGFpVbRhHz6sYeaFpGGn85xhPt2WYaW0j2FxGIhhOEWCYd2nfWGGwm5h4ytjYZ2MWGGPbUxhi8xEYY2ZOmHuMTFhlZomYRqYG2HRTBFhJZ4IYYfR+WD+EONg9fTIYP5vvGAMWapg/miYYA7/gGD7ST1gQXQrYMzfw1/RMqdf9TTGXg==",
          "dtype": "f4"
         }
        },
        {
         "line": {
          "cmax": 743052139482090300000,
          "cmin": -14341760292361339000,
          "color": {
           "bdata": "7qgmXmTBQN5hd4re9A6V3QsrP16cBupejfwjX8UShl9pvYpf+WYBYOrRPGAZdXtgfymgYEHIw2A0qOdgJwAJYXcGIGGiQTdhsFJNYWTtZmECfH9howuMYTv/mGF5tqRhz8+wYUu8vmFPGMlhEJDUYeXB32GV2ephKo/1YY2E/2F/hARiL6QJYqz7DGKLjxBiFvoTYk7RFmIXcxlitc4bYvFUHWJUhx5ilJ8fYh+eH2IU1h9iqB4gYpqNH2LXiB5ihGUdYrwhHGITNBpiNMkXYph2FWLM4BJix8oPYtrLDGJU4wliGTcGYlGNAmLAgv1hzcD1YWZt62HQBOZhxaDdYZJv1WEHzMxhugbFYThXvGHRh7RhQnCsYTO3pGEMJJ1hhA2XYf/ij2HERIhh+W+CYRX8fWFLEG9hUHVjYWLQWGEkrExh3QZFYV/OOmFVYTFhu8QmYZC8G2GabBFhaboIYWL++WCINuNg5BLJYAqJvGBybqpgtXyYYHAPgWAsXT1g04wrYLrQw1+jVadfCG/GXg==",
           "dtype": "f4"
          },
          "colorscale": [
           [
            0,
            "#440154"
           ],
           [
            0.1111111111111111,
            "#482878"
           ],
           [
            0.2222222222222222,
            "#3e4989"
           ],
           [
            0.3333333333333333,
            "#31688e"
           ],
           [
            0.4444444444444444,
            "#26828e"
           ],
           [
            0.5555555555555556,
            "#1f9e89"
           ],
           [
            0.6666666666666666,
            "#35b779"
           ],
           [
            0.7777777777777778,
            "#6ece58"
           ],
           [
            0.8888888888888888,
            "#b5de2b"
           ],
           [
            1,
            "#fde725"
           ]
          ],
          "showscale": false,
          "width": 4
         },
         "mode": "lines",
         "showlegend": false,
         "type": "scatter3d",
         "x": {
          "bdata": "AAAAALooDiy6KI4sFz3VLLooDi3osjEtFz1VLUbHeC26KI4t0e2fLeiysS0AeMMtFz3VLS4C5y1Gx/gtLkYFLrooDi5GCxcu0e0fLl3QKC7osjEudJU6LgB4Qy6LWkwuFz1VLqMfXi4uAmcuuuRvLkbHeC7p1IAuLkaFLnS3iS66KI4uAJqSLkYLly6LfJsu0e2fLhdfpC5d0Kguo0GtLuiysS4uJLYudJW6LroGvy4AeMMuRunHLotazC7Ry9AuFz3VLl2u2S6hH94u55DiLi0C5y5zc+suuOTvLv5V9C5Ex/guijj9LujUAC+LDQMvLkYFL9B+By90twkvFvALL7ooDi9cYRAv/5kSL6LSFC9FCxcv6EMZL4p8Gy8utR0v0O0fL3QmIi8WXyQvuZcmL1zQKC//CCsvokEtL0V6Ly/osjEvi+szLy4kNi/QXDgvdJU6LxbOPC+5Bj8vXD9BL/93Qy+isEUvRelHL+ghSi+LWkwvLpNOL9DLUC9zBFMvFj1VL7l1Vy9crlkv/+ZbLw==",
          "dtype": "f4"
         },
         "y": {
          "bdata": "d4YEQXeGBEF3hgRBd4YEQXeGBEF3hgRBd4YEQXeGBEF3hgRBd4YEQXeGBEF3hgRBd4YEQXeGBEF3hgRBd4YEQXeGBEF3hgRBd4YEQXeGBEF3hgRBd4YEQXeGBEF3hgRBd4YEQXeGBEF3hgRBd4YEQXeGBEF3hgRBd4YEQXeGBEF3hgRBd4YEQXeGBEF3hgRBd4YEQXeGBEF3hgRBd4YEQXeGBEF3hgRBd4YEQXeGBEF3hgRBd4YEQXeGBEF3hgRBd4YEQXeGBEF3hgRBd4YEQXeGBEF3hgRBd4YEQXeGBEF3hgRBd4YEQXeGBEF3hgRBd4YEQXeGBEF3hgRBd4YEQXeGBEF3hgRBd4YEQXeGBEF3hgRBd4YEQXeGBEF3hgRBd4YEQXeGBEF3hgRBd4YEQXeGBEF3hgRBd4YEQXeGBEF3hgRBd4YEQXeGBEF3hgRBd4YEQXeGBEF3hgRBd4YEQXeGBEF3hgRBd4YEQXeGBEF3hgRBd4YEQXeGBEF3hgRBd4YEQXeGBEF3hgRBd4YEQQ==",
          "dtype": "f4"
         },
         "z": {
          "bdata": "7qgmXmTBQN5hd4re9A6V3QsrP16cBupejfwjX8UShl9pvYpf+WYBYOrRPGAZdXtgfymgYEHIw2A0qOdgJwAJYXcGIGGiQTdhsFJNYWTtZmECfH9howuMYTv/mGF5tqRhz8+wYUu8vmFPGMlhEJDUYeXB32GV2ephKo/1YY2E/2F/hARiL6QJYqz7DGKLjxBiFvoTYk7RFmIXcxlitc4bYvFUHWJUhx5ilJ8fYh+eH2IU1h9iqB4gYpqNH2LXiB5ihGUdYrwhHGITNBpiNMkXYph2FWLM4BJix8oPYtrLDGJU4wliGTcGYlGNAmLAgv1hzcD1YWZt62HQBOZhxaDdYZJv1WEHzMxhugbFYThXvGHRh7RhQnCsYTO3pGEMJJ1hhA2XYf/ij2HERIhh+W+CYRX8fWFLEG9hUHVjYWLQWGEkrExh3QZFYV/OOmFVYTFhu8QmYZC8G2GabBFhaboIYWL++WCINuNg5BLJYAqJvGBybqpgtXyYYHAPgWAsXT1g04wrYLrQw1+jVadfCG/GXg==",
          "dtype": "f4"
         }
        },
        {
         "line": {
          "cmax": 743052139482090300000,
          "cmin": -14341760292361339000,
          "color": {
           "bdata": "AOomXntOQN7vuIneddeQ3chiQl7+bOxeCIMlXyESh18P54tfaCUCYOi4PWCSh3xg3sigYM99xGDvdehgJnIJYbiEIGFvyzdhnOZNYXKNZ2FdE4Bh8WWMYQFemWHrGaVhHDexYVkqv2F3hslhtgDVYRA14GELTuthuQT2YZX6/2GBvwRiKd8JYrc1DWLuyBBiZjIUYnAIF2LLqBliDwMcYk6HHWLptx5iCM4fYvDKH2KBACBiQEcgYji0H2KorR5iiYgdYqZCHGLcUxpiZucXYriTFWKl/BJim+UPYs7lDGI//Alivk8GYnmlAmKFsv1h/u/1YVqc62F7NOZht8/dYWee1WHG+sxhjzXFYW+FvGE1trRhaZ6sYZLkpGGRUJ1h7jmXYZgNkGF7bYhhNZeCYUNJfmFtV29hWbhjYRsOWWH95ExhtztFYQr+OmHqizFhbOomYffcG2GqiBFhMNMIYT0l+mCzVuNgRyzJYOqdvGAlgKpgEY2YYP4cgWBBbD1gcaErYOm+w182dKdfaaLGXg==",
           "dtype": "f4"
          },
          "colorscale": [
           [
            0,
            "#440154"
           ],
           [
            0.1111111111111111,
            "#482878"
           ],
           [
            0.2222222222222222,
            "#3e4989"
           ],
           [
            0.3333333333333333,
            "#31688e"
           ],
           [
            0.4444444444444444,
            "#26828e"
           ],
           [
            0.5555555555555556,
            "#1f9e89"
           ],
           [
            0.6666666666666666,
            "#35b779"
           ],
           [
            0.7777777777777778,
            "#6ece58"
           ],
           [
            0.8888888888888888,
            "#b5de2b"
           ],
           [
            1,
            "#fde725"
           ]
          ],
          "showscale": false,
          "width": 4
         },
         "mode": "lines",
         "showlegend": false,
         "type": "scatter3d",
         "x": {
          "bdata": "AAAAALooDiy6KI4sFz3VLLooDi3osjEtFz1VLUbHeC26KI4t0e2fLeiysS0AeMMtFz3VLS4C5y1Gx/gtLkYFLrooDi5GCxcu0e0fLl3QKC7osjEudJU6LgB4Qy6LWkwuFz1VLqMfXi4uAmcuuuRvLkbHeC7p1IAuLkaFLnS3iS66KI4uAJqSLkYLly6LfJsu0e2fLhdfpC5d0Kguo0GtLuiysS4uJLYudJW6LroGvy4AeMMuRunHLotazC7Ry9AuFz3VLl2u2S6hH94u55DiLi0C5y5zc+suuOTvLv5V9C5Ex/guijj9LujUAC+LDQMvLkYFL9B+By90twkvFvALL7ooDi9cYRAv/5kSL6LSFC9FCxcv6EMZL4p8Gy8utR0v0O0fL3QmIi8WXyQvuZcmL1zQKC//CCsvokEtL0V6Ly/osjEvi+szLy4kNi/QXDgvdJU6LxbOPC+5Bj8vXD9BL/93Qy+isEUvRelHL+ghSi+LWkwvLpNOL9DLUC9zBFMvFj1VL7l1Vy9crlkv/+ZbLw==",
          "dtype": "f4"
         },
         "y": {
          "bdata": "8MEHQfDBB0HwwQdB8MEHQfDBB0HwwQdB8MEHQfDBB0HwwQdB8MEHQfDBB0HwwQdB8MEHQfDBB0HwwQdB8MEHQfDBB0HwwQdB8MEHQfDBB0HwwQdB8MEHQfDBB0HwwQdB8MEHQfDBB0HwwQdB8MEHQfDBB0HwwQdB8MEHQfDBB0HwwQdB8MEHQfDBB0HwwQdB8MEHQfDBB0HwwQdB8MEHQfDBB0HwwQdB8MEHQfDBB0HwwQdB8MEHQfDBB0HwwQdB8MEHQfDBB0HwwQdB8MEHQfDBB0HwwQdB8MEHQfDBB0HwwQdB8MEHQfDBB0HwwQdB8MEHQfDBB0HwwQdB8MEHQfDBB0HwwQdB8MEHQfDBB0HwwQdB8MEHQfDBB0HwwQdB8MEHQfDBB0HwwQdB8MEHQfDBB0HwwQdB8MEHQfDBB0HwwQdB8MEHQfDBB0HwwQdB8MEHQfDBB0HwwQdB8MEHQfDBB0HwwQdB8MEHQfDBB0HwwQdB8MEHQfDBB0HwwQdB8MEHQfDBB0HwwQdB8MEHQQ==",
          "dtype": "f4"
         },
         "z": {
          "bdata": "AOomXntOQN7vuIneddeQ3chiQl7+bOxeCIMlXyESh18P54tfaCUCYOi4PWCSh3xg3sigYM99xGDvdehgJnIJYbiEIGFvyzdhnOZNYXKNZ2FdE4Bh8WWMYQFemWHrGaVhHDexYVkqv2F3hslhtgDVYRA14GELTuthuQT2YZX6/2GBvwRiKd8JYrc1DWLuyBBiZjIUYnAIF2LLqBliDwMcYk6HHWLptx5iCM4fYvDKH2KBACBiQEcgYji0H2KorR5iiYgdYqZCHGLcUxpiZucXYriTFWKl/BJim+UPYs7lDGI//Alivk8GYnmlAmKFsv1h/u/1YVqc62F7NOZht8/dYWee1WHG+sxhjzXFYW+FvGE1trRhaZ6sYZLkpGGRUJ1h7jmXYZgNkGF7bYhhNZeCYUNJfmFtV29hWbhjYRsOWWH95ExhtztFYQr+OmHqizFhbOomYffcG2GqiBFhMNMIYT0l+mCzVuNgRyzJYOqdvGAlgKpgEY2YYP4cgWBBbD1gcaErYOm+w182dKdfaaLGXg==",
          "dtype": "f4"
         }
        },
        {
         "line": {
          "cmax": 743052139482090300000,
          "cmin": -14341760292361339000,
          "color": {
           "bdata": "+SUnXgnhP94EBYnelNeM3bZuRV63sO5ej/MmX9gCiF/M/4xfrdgCYDCSPmBmiX1geV6hYBsoxWCyNulg7twJYeP6IGFRTDhh73BOYfQiaGEIY4BhNbqMYVS2mWGSdqVhTpexYVyQv2Hd7MlhWmnVYfCf4GEVuuthsXH2YfUzAGIh9gRithUKYltrDWLw/RBiYmYUYk07F2JL2hliSzMcYq61HWKd5B5ixvgfYiT0H2KCJyBijGwgYq3XH2Jyzx5ioqgdYtdgHGIEcRpiFAMYYm+uFWIvFhNiM/4PYpz9DGIaEwpiW2YGYqO7AmJe3v1hTxv2YWvH62FAYOZh3PrdYXLJ1WG5Jc1hpWDFYfavvGHk4LRh3MisYVIOpWGIeZ1hxGKXYbw0kGHgkohhMruCYdSPfmGFmG9hmPVjYWRGWWG7GE1hrmtFYSUpO2FFsjFhOgwnYdb5G2GBoRFh+OgIYQBH+mBccuNgrkHJYF6vvGDOjqpgrZqYYDQogWAMeD1g8bIrYIivw18sj6dfMdDGXg==",
           "dtype": "f4"
          },
          "colorscale": [
           [
            0,
            "#440154"
           ],
           [
            0.1111111111111111,
            "#482878"
           ],
           [
            0.2222222222222222,
            "#3e4989"
           ],
           [
            0.3333333333333333,
            "#31688e"
           ],
           [
            0.4444444444444444,
            "#26828e"
           ],
           [
            0.5555555555555556,
            "#1f9e89"
           ],
           [
            0.6666666666666666,
            "#35b779"
           ],
           [
            0.7777777777777778,
            "#6ece58"
           ],
           [
            0.8888888888888888,
            "#b5de2b"
           ],
           [
            1,
            "#fde725"
           ]
          ],
          "showscale": false,
          "width": 4
         },
         "mode": "lines",
         "showlegend": false,
         "type": "scatter3d",
         "x": {
          "bdata": "AAAAALooDiy6KI4sFz3VLLooDi3osjEtFz1VLUbHeC26KI4t0e2fLeiysS0AeMMtFz3VLS4C5y1Gx/gtLkYFLrooDi5GCxcu0e0fLl3QKC7osjEudJU6LgB4Qy6LWkwuFz1VLqMfXi4uAmcuuuRvLkbHeC7p1IAuLkaFLnS3iS66KI4uAJqSLkYLly6LfJsu0e2fLhdfpC5d0Kguo0GtLuiysS4uJLYudJW6LroGvy4AeMMuRunHLotazC7Ry9AuFz3VLl2u2S6hH94u55DiLi0C5y5zc+suuOTvLv5V9C5Ex/guijj9LujUAC+LDQMvLkYFL9B+By90twkvFvALL7ooDi9cYRAv/5kSL6LSFC9FCxcv6EMZL4p8Gy8utR0v0O0fL3QmIi8WXyQvuZcmL1zQKC//CCsvokEtL0V6Ly/osjEvi+szLy4kNi/QXDgvdJU6LxbOPC+5Bj8vXD9BL/93Qy+isEUvRelHL+ghSi+LWkwvLpNOL9DLUC9zBFMvFj1VL7l1Vy9crlkv/+ZbLw==",
          "dtype": "f4"
         },
         "y": {
          "bdata": "av0KQWr9CkFq/QpBav0KQWr9CkFq/QpBav0KQWr9CkFq/QpBav0KQWr9CkFq/QpBav0KQWr9CkFq/QpBav0KQWr9CkFq/QpBav0KQWr9CkFq/QpBav0KQWr9CkFq/QpBav0KQWr9CkFq/QpBav0KQWr9CkFq/QpBav0KQWr9CkFq/QpBav0KQWr9CkFq/QpBav0KQWr9CkFq/QpBav0KQWr9CkFq/QpBav0KQWr9CkFq/QpBav0KQWr9CkFq/QpBav0KQWr9CkFq/QpBav0KQWr9CkFq/QpBav0KQWr9CkFq/QpBav0KQWr9CkFq/QpBav0KQWr9CkFq/QpBav0KQWr9CkFq/QpBav0KQWr9CkFq/QpBav0KQWr9CkFq/QpBav0KQWr9CkFq/QpBav0KQWr9CkFq/QpBav0KQWr9CkFq/QpBav0KQWr9CkFq/QpBav0KQWr9CkFq/QpBav0KQWr9CkFq/QpBav0KQWr9CkFq/QpBav0KQWr9CkFq/QpBav0KQWr9CkFq/QpBav0KQQ==",
          "dtype": "f4"
         },
         "z": {
          "bdata": "+SUnXgnhP94EBYnelNeM3bZuRV63sO5ej/MmX9gCiF/M/4xfrdgCYDCSPmBmiX1geV6hYBsoxWCyNulg7twJYeP6IGFRTDhh73BOYfQiaGEIY4BhNbqMYVS2mWGSdqVhTpexYVyQv2Hd7MlhWmnVYfCf4GEVuuthsXH2YfUzAGIh9gRithUKYltrDWLw/RBiYmYUYk07F2JL2hliSzMcYq61HWKd5B5ixvgfYiT0H2KCJyBijGwgYq3XH2Jyzx5ioqgdYtdgHGIEcRpiFAMYYm+uFWIvFhNiM/4PYpz9DGIaEwpiW2YGYqO7AmJe3v1hTxv2YWvH62FAYOZh3PrdYXLJ1WG5Jc1hpWDFYfavvGHk4LRh3MisYVIOpWGIeZ1hxGKXYbw0kGHgkohhMruCYdSPfmGFmG9hmPVjYWRGWWG7GE1hrmtFYSUpO2FFsjFhOgwnYdb5G2GBoRFh+OgIYQBH+mBccuNgrkHJYF6vvGDOjqpgrZqYYDQogWAMeD1g8bIrYIivw18sj6dfMdDGXg==",
          "dtype": "f4"
         }
        },
        {
         "line": {
          "cmax": 743052139482090300000,
          "cmin": -14341760292361339000,
          "color": {
           "bdata": "ZF0nXgN4P97uXYjeNRKJ3aFMSF4r0fBeuU0oX9HkiF9rB45fxoADYNddP2DJen5gbuqhYF7HxWDn6ulgrkAKYTlpIWGZxDhh+fFOYVSuaGFErYBhrAiNYZQImmHEzKVhv/CxYVTvv2H5S8phgsrVYRsD4WFCHuxhsNb2YZZmAGKvKAViLEgKYvScDWLpLhFiYpYUYjtqF2LzBxpiul8cYmbgHWLCDR9iGCAgYgQaIGJcSyBizI4gYjn4H2J07h5iGsYdYop8HGK8ixpidhwYYunGFWKaLRNiwRQQYnETDWIUKApiHXsGYvzPAmKlBv5hIUP2YRbv62F8iOZhjiLeYRHx1WFOTc1hT4jFYSLXvGExCLVh8++sYb80pWE4n51hT4iXYbBYkGEztYhhM9yCYYXQfmEH1G9hdy1kYah5WWG3R01hIZdFYRBQO2G+1DFheyonYYMTHGF2txFhD/wIYT1k+mAIiuNgwFPJYNG9vGDRmqpg3KWYYGIxgWDqgD1gfsErYHyew1/WpqdfUfjGXg==",
           "dtype": "f4"
          },
          "colorscale": [
           [
            0,
            "#440154"
           ],
           [
            0.1111111111111111,
            "#482878"
           ],
           [
            0.2222222222222222,
            "#3e4989"
           ],
           [
            0.3333333333333333,
            "#31688e"
           ],
           [
            0.4444444444444444,
            "#26828e"
           ],
           [
            0.5555555555555556,
            "#1f9e89"
           ],
           [
            0.6666666666666666,
            "#35b779"
           ],
           [
            0.7777777777777778,
            "#6ece58"
           ],
           [
            0.8888888888888888,
            "#b5de2b"
           ],
           [
            1,
            "#fde725"
           ]
          ],
          "showscale": false,
          "width": 4
         },
         "mode": "lines",
         "showlegend": false,
         "type": "scatter3d",
         "x": {
          "bdata": "AAAAALooDiy6KI4sFz3VLLooDi3osjEtFz1VLUbHeC26KI4t0e2fLeiysS0AeMMtFz3VLS4C5y1Gx/gtLkYFLrooDi5GCxcu0e0fLl3QKC7osjEudJU6LgB4Qy6LWkwuFz1VLqMfXi4uAmcuuuRvLkbHeC7p1IAuLkaFLnS3iS66KI4uAJqSLkYLly6LfJsu0e2fLhdfpC5d0Kguo0GtLuiysS4uJLYudJW6LroGvy4AeMMuRunHLotazC7Ry9AuFz3VLl2u2S6hH94u55DiLi0C5y5zc+suuOTvLv5V9C5Ex/guijj9LujUAC+LDQMvLkYFL9B+By90twkvFvALL7ooDi9cYRAv/5kSL6LSFC9FCxcv6EMZL4p8Gy8utR0v0O0fL3QmIi8WXyQvuZcmL1zQKC//CCsvokEtL0V6Ly/osjEvi+szLy4kNi/QXDgvdJU6LxbOPC+5Bj8vXD9BL/93Qy+isEUvRelHL+ghSi+LWkwvLpNOL9DLUC9zBFMvFj1VL7l1Vy9crlkv/+ZbLw==",
          "dtype": "f4"
         },
         "y": {
          "bdata": "5DgOQeQ4DkHkOA5B5DgOQeQ4DkHkOA5B5DgOQeQ4DkHkOA5B5DgOQeQ4DkHkOA5B5DgOQeQ4DkHkOA5B5DgOQeQ4DkHkOA5B5DgOQeQ4DkHkOA5B5DgOQeQ4DkHkOA5B5DgOQeQ4DkHkOA5B5DgOQeQ4DkHkOA5B5DgOQeQ4DkHkOA5B5DgOQeQ4DkHkOA5B5DgOQeQ4DkHkOA5B5DgOQeQ4DkHkOA5B5DgOQeQ4DkHkOA5B5DgOQeQ4DkHkOA5B5DgOQeQ4DkHkOA5B5DgOQeQ4DkHkOA5B5DgOQeQ4DkHkOA5B5DgOQeQ4DkHkOA5B5DgOQeQ4DkHkOA5B5DgOQeQ4DkHkOA5B5DgOQeQ4DkHkOA5B5DgOQeQ4DkHkOA5B5DgOQeQ4DkHkOA5B5DgOQeQ4DkHkOA5B5DgOQeQ4DkHkOA5B5DgOQeQ4DkHkOA5B5DgOQeQ4DkHkOA5B5DgOQeQ4DkHkOA5B5DgOQeQ4DkHkOA5B5DgOQeQ4DkHkOA5B5DgOQeQ4DkHkOA5B5DgOQQ==",
          "dtype": "f4"
         },
         "z": {
          "bdata": "ZF0nXgN4P97uXYjeNRKJ3aFMSF4r0fBeuU0oX9HkiF9rB45fxoADYNddP2DJen5gbuqhYF7HxWDn6ulgrkAKYTlpIWGZxDhh+fFOYVSuaGFErYBhrAiNYZQImmHEzKVhv/CxYVTvv2H5S8phgsrVYRsD4WFCHuxhsNb2YZZmAGKvKAViLEgKYvScDWLpLhFiYpYUYjtqF2LzBxpiul8cYmbgHWLCDR9iGCAgYgQaIGJcSyBizI4gYjn4H2J07h5iGsYdYop8HGK8ixpidhwYYunGFWKaLRNiwRQQYnETDWIUKApiHXsGYvzPAmKlBv5hIUP2YRbv62F8iOZhjiLeYRHx1WFOTc1hT4jFYSLXvGExCLVh8++sYb80pWE4n51hT4iXYbBYkGEztYhhM9yCYYXQfmEH1G9hdy1kYah5WWG3R01hIZdFYRBQO2G+1DFheyonYYMTHGF2txFhD/wIYT1k+mAIiuNgwFPJYNG9vGDRmqpg3KWYYGIxgWDqgD1gfsErYHyew1/WpqdfUfjGXg==",
          "dtype": "f4"
         }
        },
        {
         "line": {
          "cmax": 743052139482090300000,
          "cmin": -14341760292361339000,
          "color": {
           "bdata": "ZpAnXpsSP96evYfe0ISF3ZT+Sl7Sz/JejJIpX5e4iV+o/o5fNx4EYIQcQGCNXH9gSm2iYCRcxmBSk+pgwp0KYR3QIWG4NDlhPmpPYR0waWFa8oBhrFGNYf9UmmHfHKZh0UOyYWNHwGE2pMphmSTWYQNf4WENe+xhKzT3YW2VAGJuVwViyHYKYsPKDWIiXBFirsIUYoeVF2IHMhpiqogcYr8HHmKoMx9iR0QgYuc8IGJZbCBiS64gYiYWIGL1Ch9iK+EdYvWVHGJIpBpiyDMYYmjdFWIdQxNifSkQYoInDWJTOwpiMY4GYrXiAmK1K/5hxGf2YbAT7GGNreZhH0feYZUV1mHAcc1h3azFYUD7vGFsLLVh9ROtYSZYpWHuwZ1h2KqXYcR5kGHE1IhhgvqCYZsLf2GCCnBhl2BkYWOoWWF/ck1hk75FYUhzO2HK8zFhokUnYWoqHGHryhFhzgwJYZx9+mBTnuNg/GLJYMDJvGCkpKpgFa+YYOI4gWCKhz1go80rYImOw1/Cu6dfNBzHXg==",
           "dtype": "f4"
          },
          "colorscale": [
           [
            0,
            "#440154"
           ],
           [
            0.1111111111111111,
            "#482878"
           ],
           [
            0.2222222222222222,
            "#3e4989"
           ],
           [
            0.3333333333333333,
            "#31688e"
           ],
           [
            0.4444444444444444,
            "#26828e"
           ],
           [
            0.5555555555555556,
            "#1f9e89"
           ],
           [
            0.6666666666666666,
            "#35b779"
           ],
           [
            0.7777777777777778,
            "#6ece58"
           ],
           [
            0.8888888888888888,
            "#b5de2b"
           ],
           [
            1,
            "#fde725"
           ]
          ],
          "showscale": false,
          "width": 4
         },
         "mode": "lines",
         "showlegend": false,
         "type": "scatter3d",
         "x": {
          "bdata": "AAAAALooDiy6KI4sFz3VLLooDi3osjEtFz1VLUbHeC26KI4t0e2fLeiysS0AeMMtFz3VLS4C5y1Gx/gtLkYFLrooDi5GCxcu0e0fLl3QKC7osjEudJU6LgB4Qy6LWkwuFz1VLqMfXi4uAmcuuuRvLkbHeC7p1IAuLkaFLnS3iS66KI4uAJqSLkYLly6LfJsu0e2fLhdfpC5d0Kguo0GtLuiysS4uJLYudJW6LroGvy4AeMMuRunHLotazC7Ry9AuFz3VLl2u2S6hH94u55DiLi0C5y5zc+suuOTvLv5V9C5Ex/guijj9LujUAC+LDQMvLkYFL9B+By90twkvFvALL7ooDi9cYRAv/5kSL6LSFC9FCxcv6EMZL4p8Gy8utR0v0O0fL3QmIi8WXyQvuZcmL1zQKC//CCsvokEtL0V6Ly/osjEvi+szLy4kNi/QXDgvdJU6LxbOPC+5Bj8vXD9BL/93Qy+isEUvRelHL+ghSi+LWkwvLpNOL9DLUC9zBFMvFj1VL7l1Vy9crlkv/+ZbLw==",
          "dtype": "f4"
         },
         "y": {
          "bdata": "XXQRQV10EUFddBFBXXQRQV10EUFddBFBXXQRQV10EUFddBFBXXQRQV10EUFddBFBXXQRQV10EUFddBFBXXQRQV10EUFddBFBXXQRQV10EUFddBFBXXQRQV10EUFddBFBXXQRQV10EUFddBFBXXQRQV10EUFddBFBXXQRQV10EUFddBFBXXQRQV10EUFddBFBXXQRQV10EUFddBFBXXQRQV10EUFddBFBXXQRQV10EUFddBFBXXQRQV10EUFddBFBXXQRQV10EUFddBFBXXQRQV10EUFddBFBXXQRQV10EUFddBFBXXQRQV10EUFddBFBXXQRQV10EUFddBFBXXQRQV10EUFddBFBXXQRQV10EUFddBFBXXQRQV10EUFddBFBXXQRQV10EUFddBFBXXQRQV10EUFddBFBXXQRQV10EUFddBFBXXQRQV10EUFddBFBXXQRQV10EUFddBFBXXQRQV10EUFddBFBXXQRQV10EUFddBFBXXQRQV10EUFddBFBXXQRQV10EUFddBFBXXQRQQ==",
          "dtype": "f4"
         },
         "z": {
          "bdata": "ZpAnXpsSP96evYfe0ISF3ZT+Sl7Sz/JejJIpX5e4iV+o/o5fNx4EYIQcQGCNXH9gSm2iYCRcxmBSk+pgwp0KYR3QIWG4NDlhPmpPYR0waWFa8oBhrFGNYf9UmmHfHKZh0UOyYWNHwGE2pMphmSTWYQNf4WENe+xhKzT3YW2VAGJuVwViyHYKYsPKDWIiXBFirsIUYoeVF2IHMhpiqogcYr8HHmKoMx9iR0QgYuc8IGJZbCBiS64gYiYWIGL1Ch9iK+EdYvWVHGJIpBpiyDMYYmjdFWIdQxNifSkQYoInDWJTOwpiMY4GYrXiAmK1K/5hxGf2YbAT7GGNreZhH0feYZUV1mHAcc1h3azFYUD7vGFsLLVh9ROtYSZYpWHuwZ1h2KqXYcR5kGHE1IhhgvqCYZsLf2GCCnBhl2BkYWOoWWF/ck1hk75FYUhzO2HK8zFhokUnYWoqHGHryhFhzgwJYZx9+mBTnuNg/GLJYMDJvGCkpKpgFa+YYOI4gWCKhz1go80rYImOw1/Cu6dfNBzHXg==",
          "dtype": "f4"
         }
        },
        {
         "line": {
          "cmax": 743052139482090300000,
          "cmin": -14341760292361339000,
          "color": {
           "bdata": "Z78nXvmyPt7DKofePzCC3dKETV5hrfReWsIqX5J+il/U5Y9fQrEEYILOQGCSF4BgQ+eiYMjmxmARMOtgbfQKYeIvImEGnTlhGNpPYcCoaWGKMoFhdpWNYfmbmmExZ6Zh3JCyYfSYwGH39cphAnjWYRO04WHh0Oxhmor3YbjAAGKaggVi0aEKYgn1DWLVhRFig+sUYm29F2LNWBpiYa4cYvgrHmKGVh9ikmUgYvdcIGKtiiBiPssgYqgxIGInJR9iDPodYlitHGLZuhpiOUkYYhfyFWLnVhNijzwQYvk5DWITTQpixJ8GYvHzAmLaTf5hhYn2YVg17GGyz+Zh0mjeYTQ31mFXk81hh87FYX0cvWHBTbVhGDWtYbV4pWHT4Z1hjsqXYRyYkGGz8YhhRRaDYcpBf2FGPHBhLo9kYe/SWWFPmU1hT+JFYRCTO2G2DzJh710nYco+HGEb3BFhiRsJYZKT+mCor+Ng3G/JYJHTvGCXrKpglbaYYPU+gWAyjD1gwtcrYJl8w18fzqdfmzvHXg==",
           "dtype": "f4"
          },
          "colorscale": [
           [
            0,
            "#440154"
           ],
           [
            0.1111111111111111,
            "#482878"
           ],
           [
            0.2222222222222222,
            "#3e4989"
           ],
           [
            0.3333333333333333,
            "#31688e"
           ],
           [
            0.4444444444444444,
            "#26828e"
           ],
           [
            0.5555555555555556,
            "#1f9e89"
           ],
           [
            0.6666666666666666,
            "#35b779"
           ],
           [
            0.7777777777777778,
            "#6ece58"
           ],
           [
            0.8888888888888888,
            "#b5de2b"
           ],
           [
            1,
            "#fde725"
           ]
          ],
          "showscale": false,
          "width": 4
         },
         "mode": "lines",
         "showlegend": false,
         "type": "scatter3d",
         "x": {
          "bdata": "AAAAALooDiy6KI4sFz3VLLooDi3osjEtFz1VLUbHeC26KI4t0e2fLeiysS0AeMMtFz3VLS4C5y1Gx/gtLkYFLrooDi5GCxcu0e0fLl3QKC7osjEudJU6LgB4Qy6LWkwuFz1VLqMfXi4uAmcuuuRvLkbHeC7p1IAuLkaFLnS3iS66KI4uAJqSLkYLly6LfJsu0e2fLhdfpC5d0Kguo0GtLuiysS4uJLYudJW6LroGvy4AeMMuRunHLotazC7Ry9AuFz3VLl2u2S6hH94u55DiLi0C5y5zc+suuOTvLv5V9C5Ex/guijj9LujUAC+LDQMvLkYFL9B+By90twkvFvALL7ooDi9cYRAv/5kSL6LSFC9FCxcv6EMZL4p8Gy8utR0v0O0fL3QmIi8WXyQvuZcmL1zQKC//CCsvokEtL0V6Ly/osjEvi+szLy4kNi/QXDgvdJU6LxbOPC+5Bj8vXD9BL/93Qy+isEUvRelHL+ghSi+LWkwvLpNOL9DLUC9zBFMvFj1VL7l1Vy9crlkv/+ZbLw==",
          "dtype": "f4"
         },
         "y": {
          "bdata": "168UQdevFEHXrxRB168UQdevFEHXrxRB168UQdevFEHXrxRB168UQdevFEHXrxRB168UQdevFEHXrxRB168UQdevFEHXrxRB168UQdevFEHXrxRB168UQdevFEHXrxRB168UQdevFEHXrxRB168UQdevFEHXrxRB168UQdevFEHXrxRB168UQdevFEHXrxRB168UQdevFEHXrxRB168UQdevFEHXrxRB168UQdevFEHXrxRB168UQdevFEHXrxRB168UQdevFEHXrxRB168UQdevFEHXrxRB168UQdevFEHXrxRB168UQdevFEHXrxRB168UQdevFEHXrxRB168UQdevFEHXrxRB168UQdevFEHXrxRB168UQdevFEHXrxRB168UQdevFEHXrxRB168UQdevFEHXrxRB168UQdevFEHXrxRB168UQdevFEHXrxRB168UQdevFEHXrxRB168UQdevFEHXrxRB168UQdevFEHXrxRB168UQdevFEHXrxRB168UQdevFEHXrxRB168UQQ==",
          "dtype": "f4"
         },
         "z": {
          "bdata": "Z78nXvmyPt7DKofePzCC3dKETV5hrfReWsIqX5J+il/U5Y9fQrEEYILOQGCSF4BgQ+eiYMjmxmARMOtgbfQKYeIvImEGnTlhGNpPYcCoaWGKMoFhdpWNYfmbmmExZ6Zh3JCyYfSYwGH39cphAnjWYRO04WHh0Oxhmor3YbjAAGKaggVi0aEKYgn1DWLVhRFig+sUYm29F2LNWBpiYa4cYvgrHmKGVh9ikmUgYvdcIGKtiiBiPssgYqgxIGInJR9iDPodYlitHGLZuhpiOUkYYhfyFWLnVhNijzwQYvk5DWITTQpixJ8GYvHzAmLaTf5hhYn2YVg17GGyz+Zh0mjeYTQ31mFXk81hh87FYX0cvWHBTbVhGDWtYbV4pWHT4Z1hjsqXYRyYkGGz8YhhRRaDYcpBf2FGPHBhLo9kYe/SWWFPmU1hT+JFYRCTO2G2DzJh710nYco+HGEb3BFhiRsJYZKT+mCor+Ng3G/JYJHTvGCXrKpglbaYYPU+gWAyjD1gwtcrYJl8w18fzqdfmzvHXg==",
          "dtype": "f4"
         }
        },
        {
         "line": {
          "cmax": 743052139482090300000,
          "cmin": -14341760292361339000,
          "color": {
           "bdata": "x+onXjRYPt6RoYbe1yZ+3UDgT16tavZest0rXyE3i19jvZBfQToFYER0QWCXeYBgyFijYMVnx2Duwetg/0QLYeKIImHu/Tlh+kFQYb8YamEdboFhWdSNYdDdmmEZrKZhRNiyYaLkwGGwQcthP8XWYdEC4mFOIO1hjdr3Yb7oAGKEqgVikckKYhUcDmJYrBFiNxEVYj7iF2KUfBpiJNEcYlxNHmKsdh9iQYQgYoZ6IGKipiBi7OUgYv9KIGJKPR9i/RAeYuPCHGKlzxpi/FwYYikFFmIjaRNiJk4QYgJLDWJyXQpi+q8GYtkDA2Jbbf5hsaj2YXhU7GEz7+Zh6IfeYT1W1mFXss1hlO3FYSk7vWF+bLVhn1OtYbCWpWEw/51huOeXYQK0kGFFDIlhwC+DYWxzf2HQaXBhxLlkYbf5WWGhvE1hvwJGYdavO2HmKDJhxHMnYfxQHGFe6xFhfigJYa2m+mCIvuNgsHrJYKHbvGALs6pgtryYYN1DgWBXjz1gJeArYNpqw19f3qdfWlfHXg==",
           "dtype": "f4"
          },
          "colorscale": [
           [
            0,
            "#440154"
           ],
           [
            0.1111111111111111,
            "#482878"
           ],
           [
            0.2222222222222222,
            "#3e4989"
           ],
           [
            0.3333333333333333,
            "#31688e"
           ],
           [
            0.4444444444444444,
            "#26828e"
           ],
           [
            0.5555555555555556,
            "#1f9e89"
           ],
           [
            0.6666666666666666,
            "#35b779"
           ],
           [
            0.7777777777777778,
            "#6ece58"
           ],
           [
            0.8888888888888888,
            "#b5de2b"
           ],
           [
            1,
            "#fde725"
           ]
          ],
          "showscale": false,
          "width": 4
         },
         "mode": "lines",
         "showlegend": false,
         "type": "scatter3d",
         "x": {
          "bdata": "AAAAALooDiy6KI4sFz3VLLooDi3osjEtFz1VLUbHeC26KI4t0e2fLeiysS0AeMMtFz3VLS4C5y1Gx/gtLkYFLrooDi5GCxcu0e0fLl3QKC7osjEudJU6LgB4Qy6LWkwuFz1VLqMfXi4uAmcuuuRvLkbHeC7p1IAuLkaFLnS3iS66KI4uAJqSLkYLly6LfJsu0e2fLhdfpC5d0Kguo0GtLuiysS4uJLYudJW6LroGvy4AeMMuRunHLotazC7Ry9AuFz3VLl2u2S6hH94u55DiLi0C5y5zc+suuOTvLv5V9C5Ex/guijj9LujUAC+LDQMvLkYFL9B+By90twkvFvALL7ooDi9cYRAv/5kSL6LSFC9FCxcv6EMZL4p8Gy8utR0v0O0fL3QmIi8WXyQvuZcmL1zQKC//CCsvokEtL0V6Ly/osjEvi+szLy4kNi/QXDgvdJU6LxbOPC+5Bj8vXD9BL/93Qy+isEUvRelHL+ghSi+LWkwvLpNOL9DLUC9zBFMvFj1VL7l1Vy9crlkv/+ZbLw==",
          "dtype": "f4"
         },
         "y": {
          "bdata": "UOsXQVDrF0FQ6xdBUOsXQVDrF0FQ6xdBUOsXQVDrF0FQ6xdBUOsXQVDrF0FQ6xdBUOsXQVDrF0FQ6xdBUOsXQVDrF0FQ6xdBUOsXQVDrF0FQ6xdBUOsXQVDrF0FQ6xdBUOsXQVDrF0FQ6xdBUOsXQVDrF0FQ6xdBUOsXQVDrF0FQ6xdBUOsXQVDrF0FQ6xdBUOsXQVDrF0FQ6xdBUOsXQVDrF0FQ6xdBUOsXQVDrF0FQ6xdBUOsXQVDrF0FQ6xdBUOsXQVDrF0FQ6xdBUOsXQVDrF0FQ6xdBUOsXQVDrF0FQ6xdBUOsXQVDrF0FQ6xdBUOsXQVDrF0FQ6xdBUOsXQVDrF0FQ6xdBUOsXQVDrF0FQ6xdBUOsXQVDrF0FQ6xdBUOsXQVDrF0FQ6xdBUOsXQVDrF0FQ6xdBUOsXQVDrF0FQ6xdBUOsXQVDrF0FQ6xdBUOsXQVDrF0FQ6xdBUOsXQVDrF0FQ6xdBUOsXQVDrF0FQ6xdBUOsXQVDrF0FQ6xdBUOsXQVDrF0FQ6xdBUOsXQQ==",
          "dtype": "f4"
         },
         "z": {
          "bdata": "x+onXjRYPt6RoYbe1yZ+3UDgT16tavZest0rXyE3i19jvZBfQToFYER0QWCXeYBgyFijYMVnx2Duwetg/0QLYeKIImHu/Tlh+kFQYb8YamEdboFhWdSNYdDdmmEZrKZhRNiyYaLkwGGwQcthP8XWYdEC4mFOIO1hjdr3Yb7oAGKEqgVikckKYhUcDmJYrBFiNxEVYj7iF2KUfBpiJNEcYlxNHmKsdh9iQYQgYoZ6IGKipiBi7OUgYv9KIGJKPR9i/RAeYuPCHGKlzxpi/FwYYikFFmIjaRNiJk4QYgJLDWJyXQpi+q8GYtkDA2Jbbf5hsaj2YXhU7GEz7+Zh6IfeYT1W1mFXss1hlO3FYSk7vWF+bLVhn1OtYbCWpWEw/51huOeXYQK0kGFFDIlhwC+DYWxzf2HQaXBhxLlkYbf5WWGhvE1hvwJGYdavO2HmKDJhxHMnYfxQHGFe6xFhfigJYa2m+mCIvuNgsHrJYKHbvGALs6pgtryYYN1DgWBXjz1gJeArYNpqw19f3qdfWlfHXg==",
          "dtype": "f4"
         }
        },
        {
         "line": {
          "cmax": 743052139482090300000,
          "cmin": -14341760292361339000,
          "color": {
           "bdata": "thIoXmIDPt59IIbex1R43RUUUl63Cfhe3uUsXxLji19KhpFf2rkFYMgOQmDN1IBgYsKjYK/fx2B8Sexg2Y8LYYfbImHjVzphcqJQYaSAamFZpYFhrA6OYcYam2Hw66ZhZxqzYXsqwWHAh8thsAzXYZ9L4mG4ae1haCT4YbgNAWJdzwViQ+4KYhtADmLbzxFi9zMVYi4EGGKJnRpiLvEcYhxsHmJElB9igKAgYr2VIGJdwCBidv4gYlBiIGJ+Ux9iDSYeYrLWHGLF4hpiKW8YYrQWFmLveRNiWF4QYrBaDWKBbApi6L4GYn8SA2Jliv5hacX2YTFx7GE6DOdhl6TeYddy1mHrzs1hOgrGYXFXvWHUiLVhwG+tYU+ypWE6Gp5hlAKYYaTNkGGxJIlhH0eDYdqgf2GEk3BhrOBkYSMdWmHT3E1hRCBGYe7JO2GjPzJhbIcnYUdhHGHx+BFh6zMJYVS3+mBOy+NgzIPJYDzivGA9uKpgs8GYYNFHgWBFkT1gP+crYJNbw1+97KdfDHDHXg==",
           "dtype": "f4"
          },
          "colorscale": [
           [
            0,
            "#440154"
           ],
           [
            0.1111111111111111,
            "#482878"
           ],
           [
            0.2222222222222222,
            "#3e4989"
           ],
           [
            0.3333333333333333,
            "#31688e"
           ],
           [
            0.4444444444444444,
            "#26828e"
           ],
           [
            0.5555555555555556,
            "#1f9e89"
           ],
           [
            0.6666666666666666,
            "#35b779"
           ],
           [
            0.7777777777777778,
            "#6ece58"
           ],
           [
            0.8888888888888888,
            "#b5de2b"
           ],
           [
            1,
            "#fde725"
           ]
          ],
          "showscale": false,
          "width": 4
         },
         "mode": "lines",
         "showlegend": false,
         "type": "scatter3d",
         "x": {
          "bdata": "AAAAALooDiy6KI4sFz3VLLooDi3osjEtFz1VLUbHeC26KI4t0e2fLeiysS0AeMMtFz3VLS4C5y1Gx/gtLkYFLrooDi5GCxcu0e0fLl3QKC7osjEudJU6LgB4Qy6LWkwuFz1VLqMfXi4uAmcuuuRvLkbHeC7p1IAuLkaFLnS3iS66KI4uAJqSLkYLly6LfJsu0e2fLhdfpC5d0Kguo0GtLuiysS4uJLYudJW6LroGvy4AeMMuRunHLotazC7Ry9AuFz3VLl2u2S6hH94u55DiLi0C5y5zc+suuOTvLv5V9C5Ex/guijj9LujUAC+LDQMvLkYFL9B+By90twkvFvALL7ooDi9cYRAv/5kSL6LSFC9FCxcv6EMZL4p8Gy8utR0v0O0fL3QmIi8WXyQvuZcmL1zQKC//CCsvokEtL0V6Ly/osjEvi+szLy4kNi/QXDgvdJU6LxbOPC+5Bj8vXD9BL/93Qy+isEUvRelHL+ghSi+LWkwvLpNOL9DLUC9zBFMvFj1VL7l1Vy9crlkv/+ZbLw==",
          "dtype": "f4"
         },
         "y": {
          "bdata": "yiYbQcomG0HKJhtByiYbQcomG0HKJhtByiYbQcomG0HKJhtByiYbQcomG0HKJhtByiYbQcomG0HKJhtByiYbQcomG0HKJhtByiYbQcomG0HKJhtByiYbQcomG0HKJhtByiYbQcomG0HKJhtByiYbQcomG0HKJhtByiYbQcomG0HKJhtByiYbQcomG0HKJhtByiYbQcomG0HKJhtByiYbQcomG0HKJhtByiYbQcomG0HKJhtByiYbQcomG0HKJhtByiYbQcomG0HKJhtByiYbQcomG0HKJhtByiYbQcomG0HKJhtByiYbQcomG0HKJhtByiYbQcomG0HKJhtByiYbQcomG0HKJhtByiYbQcomG0HKJhtByiYbQcomG0HKJhtByiYbQcomG0HKJhtByiYbQcomG0HKJhtByiYbQcomG0HKJhtByiYbQcomG0HKJhtByiYbQcomG0HKJhtByiYbQcomG0HKJhtByiYbQcomG0HKJhtByiYbQcomG0HKJhtByiYbQcomG0HKJhtByiYbQQ==",
          "dtype": "f4"
         },
         "z": {
          "bdata": "thIoXmIDPt59IIbex1R43RUUUl63Cfhe3uUsXxLji19KhpFf2rkFYMgOQmDN1IBgYsKjYK/fx2B8Sexg2Y8LYYfbImHjVzphcqJQYaSAamFZpYFhrA6OYcYam2Hw66ZhZxqzYXsqwWHAh8thsAzXYZ9L4mG4ae1haCT4YbgNAWJdzwViQ+4KYhtADmLbzxFi9zMVYi4EGGKJnRpiLvEcYhxsHmJElB9igKAgYr2VIGJdwCBidv4gYlBiIGJ+Ux9iDSYeYrLWHGLF4hpiKW8YYrQWFmLveRNiWF4QYrBaDWKBbApi6L4GYn8SA2Jliv5hacX2YTFx7GE6DOdhl6TeYddy1mHrzs1hOgrGYXFXvWHUiLVhwG+tYU+ypWE6Gp5hlAKYYaTNkGGxJIlhH0eDYdqgf2GEk3BhrOBkYSMdWmHT3E1hRCBGYe7JO2GjPzJhbIcnYUdhHGHx+BFh6zMJYVS3+mBOy+NgzIPJYDzivGA9uKpgs8GYYNFHgWBFkT1gP+crYJNbw1+97KdfDHDHXg==",
          "dtype": "f4"
         }
        },
        {
         "line": {
          "cmax": 743052139482090300000,
          "cmin": -14341760292361339000,
          "color": {
           "bdata": "fDcoXqqyPd5lqYXeVuhy3bsgVF7ri/levtstXwmDjF8+QZJfezAGYC6eQmCGKYFgbiSkYAVPyGBXx+xgTdULYTAoI2FUqzph0/tQYfLgamGK2IFhq0SOYUdTm2EGJ6dhmFezYUhrwWGNyMthv07XYeaO4mGJre1hnmj4YdgvAWJf8QViGRALYlVhDmKb8BFiAFQVYnMjGGLmuxpiqw4dYnCIHmKGrx9igLogYseuIGIJ2CBiDhUhYsN3IGLtZx9ifDkeYvHoHGJh9Bpi6H8YYt0mFmJliRNiQW0QYiRpDWJmegpirMwGYgIgA2Itpf5h5d/2YaaL7GECJ+dhAr/eYTSN1mFC6c1hliTGYXhxvWHnorVho4mtYbbLpWETM55hNhuYYTLlkGEXO4lhkVyDYXjKf2GnuXBhRARlYWg9WmEa+k1hBjtGYYnhO2EmVDJhFJknYdJvHGH/BBJhAj4JYcDF+mA61uNgZIvJYJPnvGBTvKpgrcWYYOxKgWApkj1g8uwrYCxKw191+adf0IXHXg==",
           "dtype": "f4"
          },
          "colorscale": [
           [
            0,
            "#440154"
           ],
           [
            0.1111111111111111,
            "#482878"
           ],
           [
            0.2222222222222222,
            "#3e4989"
           ],
           [
            0.3333333333333333,
            "#31688e"
           ],
           [
            0.4444444444444444,
            "#26828e"
           ],
           [
            0.5555555555555556,
            "#1f9e89"
           ],
           [
            0.6666666666666666,
            "#35b779"
           ],
           [
            0.7777777777777778,
            "#6ece58"
           ],
           [
            0.8888888888888888,
            "#b5de2b"
           ],
           [
            1,
            "#fde725"
           ]
          ],
          "showscale": false,
          "width": 4
         },
         "mode": "lines",
         "showlegend": false,
         "type": "scatter3d",
         "x": {
          "bdata": "AAAAALooDiy6KI4sFz3VLLooDi3osjEtFz1VLUbHeC26KI4t0e2fLeiysS0AeMMtFz3VLS4C5y1Gx/gtLkYFLrooDi5GCxcu0e0fLl3QKC7osjEudJU6LgB4Qy6LWkwuFz1VLqMfXi4uAmcuuuRvLkbHeC7p1IAuLkaFLnS3iS66KI4uAJqSLkYLly6LfJsu0e2fLhdfpC5d0Kguo0GtLuiysS4uJLYudJW6LroGvy4AeMMuRunHLotazC7Ry9AuFz3VLl2u2S6hH94u55DiLi0C5y5zc+suuOTvLv5V9C5Ex/guijj9LujUAC+LDQMvLkYFL9B+By90twkvFvALL7ooDi9cYRAv/5kSL6LSFC9FCxcv6EMZL4p8Gy8utR0v0O0fL3QmIi8WXyQvuZcmL1zQKC//CCsvokEtL0V6Ly/osjEvi+szLy4kNi/QXDgvdJU6LxbOPC+5Bj8vXD9BL/93Qy+isEUvRelHL+ghSi+LWkwvLpNOL9DLUC9zBFMvFj1VL7l1Vy9crlkv/+ZbLw==",
          "dtype": "f4"
         },
         "y": {
          "bdata": "Q2IeQUNiHkFDYh5BQ2IeQUNiHkFDYh5BQ2IeQUNiHkFDYh5BQ2IeQUNiHkFDYh5BQ2IeQUNiHkFDYh5BQ2IeQUNiHkFDYh5BQ2IeQUNiHkFDYh5BQ2IeQUNiHkFDYh5BQ2IeQUNiHkFDYh5BQ2IeQUNiHkFDYh5BQ2IeQUNiHkFDYh5BQ2IeQUNiHkFDYh5BQ2IeQUNiHkFDYh5BQ2IeQUNiHkFDYh5BQ2IeQUNiHkFDYh5BQ2IeQUNiHkFDYh5BQ2IeQUNiHkFDYh5BQ2IeQUNiHkFDYh5BQ2IeQUNiHkFDYh5BQ2IeQUNiHkFDYh5BQ2IeQUNiHkFDYh5BQ2IeQUNiHkFDYh5BQ2IeQUNiHkFDYh5BQ2IeQUNiHkFDYh5BQ2IeQUNiHkFDYh5BQ2IeQUNiHkFDYh5BQ2IeQUNiHkFDYh5BQ2IeQUNiHkFDYh5BQ2IeQUNiHkFDYh5BQ2IeQUNiHkFDYh5BQ2IeQUNiHkFDYh5BQ2IeQUNiHkFDYh5BQ2IeQUNiHkFDYh5BQ2IeQQ==",
          "dtype": "f4"
         },
         "z": {
          "bdata": "fDcoXqqyPd5lqYXeVuhy3bsgVF7ri/levtstXwmDjF8+QZJfezAGYC6eQmCGKYFgbiSkYAVPyGBXx+xgTdULYTAoI2FUqzph0/tQYfLgamGK2IFhq0SOYUdTm2EGJ6dhmFezYUhrwWGNyMthv07XYeaO4mGJre1hnmj4YdgvAWJf8QViGRALYlVhDmKb8BFiAFQVYnMjGGLmuxpiqw4dYnCIHmKGrx9igLogYseuIGIJ2CBiDhUhYsN3IGLtZx9ifDkeYvHoHGJh9Bpi6H8YYt0mFmJliRNiQW0QYiRpDWJmegpirMwGYgIgA2Itpf5h5d/2YaaL7GECJ+dhAr/eYTSN1mFC6c1hliTGYXhxvWHnorVho4mtYbbLpWETM55hNhuYYTLlkGEXO4lhkVyDYXjKf2GnuXBhRARlYWg9WmEa+k1hBjtGYYnhO2EmVDJhFJknYdJvHGH/BBJhAj4JYcDF+mA61uNgZIvJYJPnvGBTvKpgrcWYYOxKgWApkj1g8uwrYCxKw191+adf0IXHXg==",
          "dtype": "f4"
         }
        }
       ],
       "layout": {
        "height": 700,
        "scene": {
         "xaxis": {
          "autorange": "reversed",
          "title": {
           "text": "Mass (m)"
          }
         },
         "yaxis": {
          "title": {
           "text": "Time (t)"
          }
         },
         "zaxis": {
          "title": {
           "text": "n(m, t)"
          }
         }
        },
        "template": {
         "data": {
          "bar": [
           {
            "error_x": {
             "color": "#2a3f5f"
            },
            "error_y": {
             "color": "#2a3f5f"
            },
            "marker": {
             "line": {
              "color": "#E5ECF6",
              "width": 0.5
             },
             "pattern": {
              "fillmode": "overlay",
              "size": 10,
              "solidity": 0.2
             }
            },
            "type": "bar"
           }
          ],
          "barpolar": [
           {
            "marker": {
             "line": {
              "color": "#E5ECF6",
              "width": 0.5
             },
             "pattern": {
              "fillmode": "overlay",
              "size": 10,
              "solidity": 0.2
             }
            },
            "type": "barpolar"
           }
          ],
          "carpet": [
           {
            "aaxis": {
             "endlinecolor": "#2a3f5f",
             "gridcolor": "white",
             "linecolor": "white",
             "minorgridcolor": "white",
             "startlinecolor": "#2a3f5f"
            },
            "baxis": {
             "endlinecolor": "#2a3f5f",
             "gridcolor": "white",
             "linecolor": "white",
             "minorgridcolor": "white",
             "startlinecolor": "#2a3f5f"
            },
            "type": "carpet"
           }
          ],
          "choropleth": [
           {
            "colorbar": {
             "outlinewidth": 0,
             "ticks": ""
            },
            "type": "choropleth"
           }
          ],
          "contour": [
           {
            "colorbar": {
             "outlinewidth": 0,
             "ticks": ""
            },
            "colorscale": [
             [
              0,
              "#0d0887"
             ],
             [
              0.1111111111111111,
              "#46039f"
             ],
             [
              0.2222222222222222,
              "#7201a8"
             ],
             [
              0.3333333333333333,
              "#9c179e"
             ],
             [
              0.4444444444444444,
              "#bd3786"
             ],
             [
              0.5555555555555556,
              "#d8576b"
             ],
             [
              0.6666666666666666,
              "#ed7953"
             ],
             [
              0.7777777777777778,
              "#fb9f3a"
             ],
             [
              0.8888888888888888,
              "#fdca26"
             ],
             [
              1,
              "#f0f921"
             ]
            ],
            "type": "contour"
           }
          ],
          "contourcarpet": [
           {
            "colorbar": {
             "outlinewidth": 0,
             "ticks": ""
            },
            "type": "contourcarpet"
           }
          ],
          "heatmap": [
           {
            "colorbar": {
             "outlinewidth": 0,
             "ticks": ""
            },
            "colorscale": [
             [
              0,
              "#0d0887"
             ],
             [
              0.1111111111111111,
              "#46039f"
             ],
             [
              0.2222222222222222,
              "#7201a8"
             ],
             [
              0.3333333333333333,
              "#9c179e"
             ],
             [
              0.4444444444444444,
              "#bd3786"
             ],
             [
              0.5555555555555556,
              "#d8576b"
             ],
             [
              0.6666666666666666,
              "#ed7953"
             ],
             [
              0.7777777777777778,
              "#fb9f3a"
             ],
             [
              0.8888888888888888,
              "#fdca26"
             ],
             [
              1,
              "#f0f921"
             ]
            ],
            "type": "heatmap"
           }
          ],
          "histogram": [
           {
            "marker": {
             "pattern": {
              "fillmode": "overlay",
              "size": 10,
              "solidity": 0.2
             }
            },
            "type": "histogram"
           }
          ],
          "histogram2d": [
           {
            "colorbar": {
             "outlinewidth": 0,
             "ticks": ""
            },
            "colorscale": [
             [
              0,
              "#0d0887"
             ],
             [
              0.1111111111111111,
              "#46039f"
             ],
             [
              0.2222222222222222,
              "#7201a8"
             ],
             [
              0.3333333333333333,
              "#9c179e"
             ],
             [
              0.4444444444444444,
              "#bd3786"
             ],
             [
              0.5555555555555556,
              "#d8576b"
             ],
             [
              0.6666666666666666,
              "#ed7953"
             ],
             [
              0.7777777777777778,
              "#fb9f3a"
             ],
             [
              0.8888888888888888,
              "#fdca26"
             ],
             [
              1,
              "#f0f921"
             ]
            ],
            "type": "histogram2d"
           }
          ],
          "histogram2dcontour": [
           {
            "colorbar": {
             "outlinewidth": 0,
             "ticks": ""
            },
            "colorscale": [
             [
              0,
              "#0d0887"
             ],
             [
              0.1111111111111111,
              "#46039f"
             ],
             [
              0.2222222222222222,
              "#7201a8"
             ],
             [
              0.3333333333333333,
              "#9c179e"
             ],
             [
              0.4444444444444444,
              "#bd3786"
             ],
             [
              0.5555555555555556,
              "#d8576b"
             ],
             [
              0.6666666666666666,
              "#ed7953"
             ],
             [
              0.7777777777777778,
              "#fb9f3a"
             ],
             [
              0.8888888888888888,
              "#fdca26"
             ],
             [
              1,
              "#f0f921"
             ]
            ],
            "type": "histogram2dcontour"
           }
          ],
          "mesh3d": [
           {
            "colorbar": {
             "outlinewidth": 0,
             "ticks": ""
            },
            "type": "mesh3d"
           }
          ],
          "parcoords": [
           {
            "line": {
             "colorbar": {
              "outlinewidth": 0,
              "ticks": ""
             }
            },
            "type": "parcoords"
           }
          ],
          "pie": [
           {
            "automargin": true,
            "type": "pie"
           }
          ],
          "scatter": [
           {
            "fillpattern": {
             "fillmode": "overlay",
             "size": 10,
             "solidity": 0.2
            },
            "type": "scatter"
           }
          ],
          "scatter3d": [
           {
            "line": {
             "colorbar": {
              "outlinewidth": 0,
              "ticks": ""
             }
            },
            "marker": {
             "colorbar": {
              "outlinewidth": 0,
              "ticks": ""
             }
            },
            "type": "scatter3d"
           }
          ],
          "scattercarpet": [
           {
            "marker": {
             "colorbar": {
              "outlinewidth": 0,
              "ticks": ""
             }
            },
            "type": "scattercarpet"
           }
          ],
          "scattergeo": [
           {
            "marker": {
             "colorbar": {
              "outlinewidth": 0,
              "ticks": ""
             }
            },
            "type": "scattergeo"
           }
          ],
          "scattergl": [
           {
            "marker": {
             "colorbar": {
              "outlinewidth": 0,
              "ticks": ""
             }
            },
            "type": "scattergl"
           }
          ],
          "scattermap": [
           {
            "marker": {
             "colorbar": {
              "outlinewidth": 0,
              "ticks": ""
             }
            },
            "type": "scattermap"
           }
          ],
          "scattermapbox": [
           {
            "marker": {
             "colorbar": {
              "outlinewidth": 0,
              "ticks": ""
             }
            },
            "type": "scattermapbox"
           }
          ],
          "scatterpolar": [
           {
            "marker": {
             "colorbar": {
              "outlinewidth": 0,
              "ticks": ""
             }
            },
            "type": "scatterpolar"
           }
          ],
          "scatterpolargl": [
           {
            "marker": {
             "colorbar": {
              "outlinewidth": 0,
              "ticks": ""
             }
            },
            "type": "scatterpolargl"
           }
          ],
          "scatterternary": [
           {
            "marker": {
             "colorbar": {
              "outlinewidth": 0,
              "ticks": ""
             }
            },
            "type": "scatterternary"
           }
          ],
          "surface": [
           {
            "colorbar": {
             "outlinewidth": 0,
             "ticks": ""
            },
            "colorscale": [
             [
              0,
              "#0d0887"
             ],
             [
              0.1111111111111111,
              "#46039f"
             ],
             [
              0.2222222222222222,
              "#7201a8"
             ],
             [
              0.3333333333333333,
              "#9c179e"
             ],
             [
              0.4444444444444444,
              "#bd3786"
             ],
             [
              0.5555555555555556,
              "#d8576b"
             ],
             [
              0.6666666666666666,
              "#ed7953"
             ],
             [
              0.7777777777777778,
              "#fb9f3a"
             ],
             [
              0.8888888888888888,
              "#fdca26"
             ],
             [
              1,
              "#f0f921"
             ]
            ],
            "type": "surface"
           }
          ],
          "table": [
           {
            "cells": {
             "fill": {
              "color": "#EBF0F8"
             },
             "line": {
              "color": "white"
             }
            },
            "header": {
             "fill": {
              "color": "#C8D4E3"
             },
             "line": {
              "color": "white"
             }
            },
            "type": "table"
           }
          ]
         },
         "layout": {
          "annotationdefaults": {
           "arrowcolor": "#2a3f5f",
           "arrowhead": 0,
           "arrowwidth": 1
          },
          "autotypenumbers": "strict",
          "coloraxis": {
           "colorbar": {
            "outlinewidth": 0,
            "ticks": ""
           }
          },
          "colorscale": {
           "diverging": [
            [
             0,
             "#8e0152"
            ],
            [
             0.1,
             "#c51b7d"
            ],
            [
             0.2,
             "#de77ae"
            ],
            [
             0.3,
             "#f1b6da"
            ],
            [
             0.4,
             "#fde0ef"
            ],
            [
             0.5,
             "#f7f7f7"
            ],
            [
             0.6,
             "#e6f5d0"
            ],
            [
             0.7,
             "#b8e186"
            ],
            [
             0.8,
             "#7fbc41"
            ],
            [
             0.9,
             "#4d9221"
            ],
            [
             1,
             "#276419"
            ]
           ],
           "sequential": [
            [
             0,
             "#0d0887"
            ],
            [
             0.1111111111111111,
             "#46039f"
            ],
            [
             0.2222222222222222,
             "#7201a8"
            ],
            [
             0.3333333333333333,
             "#9c179e"
            ],
            [
             0.4444444444444444,
             "#bd3786"
            ],
            [
             0.5555555555555556,
             "#d8576b"
            ],
            [
             0.6666666666666666,
             "#ed7953"
            ],
            [
             0.7777777777777778,
             "#fb9f3a"
            ],
            [
             0.8888888888888888,
             "#fdca26"
            ],
            [
             1,
             "#f0f921"
            ]
           ],
           "sequentialminus": [
            [
             0,
             "#0d0887"
            ],
            [
             0.1111111111111111,
             "#46039f"
            ],
            [
             0.2222222222222222,
             "#7201a8"
            ],
            [
             0.3333333333333333,
             "#9c179e"
            ],
            [
             0.4444444444444444,
             "#bd3786"
            ],
            [
             0.5555555555555556,
             "#d8576b"
            ],
            [
             0.6666666666666666,
             "#ed7953"
            ],
            [
             0.7777777777777778,
             "#fb9f3a"
            ],
            [
             0.8888888888888888,
             "#fdca26"
            ],
            [
             1,
             "#f0f921"
            ]
           ]
          },
          "colorway": [
           "#636efa",
           "#EF553B",
           "#00cc96",
           "#ab63fa",
           "#FFA15A",
           "#19d3f3",
           "#FF6692",
           "#B6E880",
           "#FF97FF",
           "#FECB52"
          ],
          "font": {
           "color": "#2a3f5f"
          },
          "geo": {
           "bgcolor": "white",
           "lakecolor": "white",
           "landcolor": "#E5ECF6",
           "showlakes": true,
           "showland": true,
           "subunitcolor": "white"
          },
          "hoverlabel": {
           "align": "left"
          },
          "hovermode": "closest",
          "mapbox": {
           "style": "light"
          },
          "paper_bgcolor": "white",
          "plot_bgcolor": "#E5ECF6",
          "polar": {
           "angularaxis": {
            "gridcolor": "white",
            "linecolor": "white",
            "ticks": ""
           },
           "bgcolor": "#E5ECF6",
           "radialaxis": {
            "gridcolor": "white",
            "linecolor": "white",
            "ticks": ""
           }
          },
          "scene": {
           "xaxis": {
            "backgroundcolor": "#E5ECF6",
            "gridcolor": "white",
            "gridwidth": 2,
            "linecolor": "white",
            "showbackground": true,
            "ticks": "",
            "zerolinecolor": "white"
           },
           "yaxis": {
            "backgroundcolor": "#E5ECF6",
            "gridcolor": "white",
            "gridwidth": 2,
            "linecolor": "white",
            "showbackground": true,
            "ticks": "",
            "zerolinecolor": "white"
           },
           "zaxis": {
            "backgroundcolor": "#E5ECF6",
            "gridcolor": "white",
            "gridwidth": 2,
            "linecolor": "white",
            "showbackground": true,
            "ticks": "",
            "zerolinecolor": "white"
           }
          },
          "shapedefaults": {
           "line": {
            "color": "#2a3f5f"
           }
          },
          "ternary": {
           "aaxis": {
            "gridcolor": "white",
            "linecolor": "white",
            "ticks": ""
           },
           "baxis": {
            "gridcolor": "white",
            "linecolor": "white",
            "ticks": ""
           },
           "bgcolor": "#E5ECF6",
           "caxis": {
            "gridcolor": "white",
            "linecolor": "white",
            "ticks": ""
           }
          },
          "title": {
           "x": 0.05
          },
          "xaxis": {
           "automargin": true,
           "gridcolor": "white",
           "linecolor": "white",
           "ticks": "",
           "title": {
            "standoff": 15
           },
           "zerolinecolor": "white",
           "zerolinewidth": 2
          },
          "yaxis": {
           "automargin": true,
           "gridcolor": "white",
           "linecolor": "white",
           "ticks": "",
           "title": {
            "standoff": 15
           },
           "zerolinecolor": "white",
           "zerolinewidth": 2
          }
         }
        },
        "title": {
         "text": ""
        },
        "width": 700
       }
      }
     },
     "metadata": {},
     "output_type": "display_data"
    }
   ],
   "source": [
    "\n",
    "\n",
    "def norm_input_GP(n_vec, S_scalar, n_max, S_max):\n",
    "    \"\"\"\n",
    "    n_vec: (M,)    in original units\n",
    "    S_scalar: ()   in original units (tensor or float)\n",
    "    returns X_norm: (1, M+1) float32\n",
    "    \"\"\"\n",
    "    if not torch.is_tensor(S_scalar):\n",
    "        S_scalar = torch.tensor(S_scalar, dtype=n_vec.dtype)\n",
    "    x_norm = torch.cat([n_vec / n_max, (S_scalar / S_max).view(1)], dim=0).unsqueeze(0)\n",
    "    return x_norm.float()\n",
    "\n",
    "def split_and_denorm_cpu(y_norm_row, n_max, S_max, M):\n",
    "    \"\"\"\n",
    "    y_norm_row: (M+1,) normalized prediction\n",
    "    returns (n_next, S_next) in original units\n",
    "    \"\"\"\n",
    "    n_next = y_norm_row[:M] * n_max\n",
    "    S_next = y_norm_row[-1] * S_max\n",
    "    return n_next, S_next\n",
    "\n",
    "@torch.no_grad()\n",
    "def predict_one_step_cpu(model, likelihood, n_t, S_t, n_max, S_max):\n",
    "    \"\"\"\n",
    "    One-step: [n(t), S(t)] -> predict [n(t+1), S(t+1)].\n",
    "    Inputs/outputs in ORIGINAL units.\n",
    "    \"\"\"\n",
    "    model.eval(); likelihood.eval()\n",
    "    X_in = norm_input_GP(n_t, S_t, n_max, S_max)     # (1, M+1)\n",
    "    pred = likelihood(model(X_in))                # Multitask MVN, event_shape=(1, M+1)\n",
    "\n",
    "    mean = pred.mean.squeeze(0)                   # (M+1,)\n",
    "    # If you need uncertainty:\n",
    "    # var  = pred.variance.squeeze(0)             # (M+1,) in normalized units\n",
    "    # n_var = var[:-1] * (n_max**2)\n",
    "    # S_var = var[-1]   * (S_max**2)\n",
    "\n",
    "    M_bins = n_t.numel()\n",
    "    n_next, S_next = split_and_denorm_cpu(mean, n_max, S_max, M_bins)\n",
    "    return n_next, S_next\n",
    "\n",
    "@torch.no_grad()\n",
    "def rollout_cpu(model, likelihood, n0, S0, steps, n_max, S_max):\n",
    "    \"\"\"\n",
    "    Autoregressive rollout for 'steps' steps starting from (n0, S0).\n",
    "    Returns:\n",
    "      Ns: (M, steps+1) including the initial state\n",
    "      Ss: (steps+1,)\n",
    "    \"\"\"\n",
    "    model.eval(); likelihood.eval()\n",
    "    n_t = n0.clone().float()\n",
    "    S_t = (S0.clone().float() if torch.is_tensor(S0) else torch.tensor(S0, dtype=n_t.dtype))\n",
    "\n",
    "    M_bins = n_t.numel()\n",
    "    Ns, Ss = [n_t.clone()], [S_t.clone()]\n",
    "\n",
    "    for _ in range(steps):\n",
    "        n_next, S_next = predict_one_step_cpu(model, likelihood, n_t, S_t, n_max, S_max)\n",
    "        n_t, S_t = n_next, S_next\n",
    "        Ns.append(n_t.clone())\n",
    "        Ss.append(S_t.clone())\n",
    "\n",
    "    Ns = torch.stack(Ns, dim=1)     # (M, steps+1)\n",
    "    Ss = torch.stack(Ss)            # (steps+1,)\n",
    "    return Ns, Ss\n",
    "\n",
    "\n",
    "\n",
    "T_steps = Dataset_validation[0][\"n\"].shape[1] - 1\n",
    "\n",
    "# run rollout\n",
    "n_roll, S_roll = rollout_cpu(model, likelihood, n0, S0, steps=T_steps, n_max=n_max, S_max=S_max)\n",
    "plt.plot(S_roll,label=\"Substrate prediction\")\n",
    "plt.plot(Dataset_validation[0]['S'],label= \"Substrate validation\")\n",
    "plt.legend(loc='best')\n",
    "plt.show()\n",
    "\n",
    "plot_spaghetti(m=m,t=t_eval,N=n_roll.detach().numpy())"
   ]
  },
  {
   "cell_type": "code",
   "execution_count": null,
   "id": "6c7f0f2c",
   "metadata": {},
   "outputs": [],
   "source": [
    "model.eval()\n",
    "\n",
    "torch.save({\n",
    "    'model_state_dict': model.state_dict(),\n",
    "    'likelihood_state_dict': likelihood.state_dict(),\n",
    "}, \"Sparse_Mulittask_GP_12_latents.pth\")\n",
    "\n"
   ]
  }
 ],
 "metadata": {
  "kernelspec": {
   "display_name": ".venv",
   "language": "python",
   "name": "python3"
  },
  "language_info": {
   "codemirror_mode": {
    "name": "ipython",
    "version": 3
   },
   "file_extension": ".py",
   "mimetype": "text/x-python",
   "name": "python",
   "nbconvert_exporter": "python",
   "pygments_lexer": "ipython3",
   "version": "3.10.5"
  }
 },
 "nbformat": 4,
 "nbformat_minor": 5
}
