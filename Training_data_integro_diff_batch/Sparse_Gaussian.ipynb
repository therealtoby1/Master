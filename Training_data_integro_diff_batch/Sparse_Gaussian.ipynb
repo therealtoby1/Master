{
 "cells": [
  {
   "cell_type": "markdown",
   "id": "7a92c320",
   "metadata": {},
   "source": [
    "# Sparse Gaussian Processes\n",
    "While the Gaussian Process is a powerful tool used in Databased modeling, it struggles with large Datasets, as the prediction step requires inverting the Matrix K(x,x), which is $O(n^{3})$. So for cases like the PDE equation that im dealing with, this straightforward approach is no longer feasible. \n",
    "What can be done instead is using so called \"pseudo-inputs\", that are fewer in number than the original Datasets . These inputs are also part of the optimization and they do not necessariliy have to align with the measured datapoints. This [Paper](https://papers.nips.cc/paper_files/paper/2005/hash/4491777b1aa8b5b32c2e8666dbe1a495-Abstract.html) covers the theoretical background. "
   ]
  },
  {
   "cell_type": "code",
   "execution_count": 1,
   "id": "6a31e651",
   "metadata": {},
   "outputs": [],
   "source": [
    "#imports\n",
    "import numpy as np\n",
    "from scipy.integrate import solve_ivp\n",
    "import matplotlib.pyplot as plt\n",
    "import math\n",
    "from functools import partial\n",
    "import pickle\n",
    "import torch\n",
    "import gpytorch\n",
    "import torch.nn as nn\n",
    "from Training_helper import *\n",
    "import pandas as pd\n",
    "%load_ext autoreload\n",
    "%autoreload 2"
   ]
  },
  {
   "cell_type": "markdown",
   "id": "322f0bfb",
   "metadata": {},
   "source": [
    "# Data import"
   ]
  },
  {
   "cell_type": "code",
   "execution_count": 2,
   "id": "6b9596fb",
   "metadata": {},
   "outputs": [],
   "source": [
    "with open(\"Dataset_training_integro_diff_Batch.pkl\", \"rb\") as f:\n",
    "    Dataset = pickle.load(f)\n",
    "\n",
    "\n",
    "first = next(iter(Dataset.values()))\n",
    "M, T = first[\"n\"].shape\n",
    "dim=M+1  # +1 for S\n",
    "t_span=(0,0.1*T)\n",
    "t_eval= torch.linspace(*t_span,T)\n",
    "m=torch.linspace(0,2e-10,M, dtype=torch.float32)\n",
    "delta_m=(m[1]-m[0]).item()\n",
    "m_max=m[-1]\n",
    "\n",
    "n_max = max(torch.tensor(entry[\"n\"], dtype=torch.float32).max() for entry in Dataset.values())\n",
    "S_max = 5   #max possible substrate\n",
    "\n",
    "X_all, Y_all = [], []\n",
    "\n",
    "for entry in Dataset.values():\n",
    "    n = torch.tensor(entry[\"n\"], dtype=torch.float32)  # (M, T)\n",
    "    s = torch.tensor(entry[\"S\"], dtype=torch.float32)  # (T,)\n",
    "\n",
    "    n_norm = n / n_max#torch.log1p(n) / log_n_max                # log scaling\n",
    "    s_norm = s / S_max         \n",
    "\n",
    "    # X_t = [n(t), s(t)]\n",
    "    X = torch.cat([n_norm[:, :-1], s_norm[:-1].unsqueeze(0)], dim=0).T   # shape (T-1, M+1)\n",
    "    # Y_t = [n(t+1), s(t+1)]\n",
    "    Y = torch.cat([n_norm[:, 1:],  s_norm[1:].unsqueeze(0)], dim=0).T    # shape (T-1, M+1)\n",
    "\n",
    "    X_all.append(X)\n",
    "    Y_all.append(Y)\n",
    "\n",
    "# final stacked tensors\n",
    "X_train = torch.cat(X_all, dim=0)  # shape: (total_samples, M+1)\n",
    "Y_train = torch.cat(Y_all, dim=0)  # shape: (total_samples, M+1)\n",
    "\n",
    "\n",
    "#validation set containing 1 dataset used for plotting\n",
    "with open(\"Dataset_validation_integro_diff_Batch_for_plots.pkl\", \"rb\") as f:\n",
    "    Dataset_validation = pickle.load(f)\n",
    "\n",
    "n0 = torch.tensor(Dataset_validation[0][\"n\"][:, 0], dtype=torch.float32)   # (M,)\n",
    "S0 = torch.tensor(Dataset_validation[0][\"initial_substrate\"], dtype=torch.float32)\n",
    "\n",
    "#validation set containing 147 datasets used for error estimation over a broad range of parameters\n",
    "with open(\"Dataset_validation_integro_diff_Batch.pkl\",\"rb\") as f:\n",
    "    Dataset_error_est=pickle.load(f)\n"
   ]
  },
  {
   "cell_type": "markdown",
   "id": "62961ccd",
   "metadata": {},
   "source": [
    "# Building the Multitask GP"
   ]
  },
  {
   "cell_type": "code",
   "execution_count": 7,
   "id": "7c1eaa1f",
   "metadata": {},
   "outputs": [
    {
     "name": "stdout",
     "output_type": "stream",
     "text": [
      "torch.Size([15, 128, 101])\n"
     ]
    }
   ],
   "source": [
    "X = X_train.float()\n",
    "Y = Y_train.float()\n",
    "\n",
    "N, D = X.shape\n",
    "num_tasks = Y.shape[1]\n",
    "\n",
    "# --- Likelihood for multitask regression\n",
    "likelihood = gpytorch.likelihoods.MultitaskGaussianLikelihood(num_tasks=num_tasks)\n",
    "\n",
    "class SparseLMCMultitaskGP(gpytorch.models.ApproximateGP):\n",
    "    def __init__(self, inducing_points, num_tasks: int, num_latents: int = 3):\n",
    "        \"\"\"\n",
    "        inducing_points: (num_latents, M, D)\n",
    "        \"\"\"\n",
    "        # Variational distribution & strategy over inducing points (batched by num_latents)\n",
    "        variational_distribution = gpytorch.variational.CholeskyVariationalDistribution(\n",
    "            inducing_points.size(-2),  # M\n",
    "            batch_shape=torch.Size([inducing_points.size(0)])  # = num_latents\n",
    "        )\n",
    "        base_variational_strategy = gpytorch.variational.VariationalStrategy(\n",
    "            self,\n",
    "            inducing_points,                      # (num_latents, M, D)\n",
    "            variational_distribution,\n",
    "            learn_inducing_locations=True,\n",
    "        )\n",
    "\n",
    "        # Wrap with LMC to mix latents -> tasks\n",
    "        lmc_strategy = gpytorch.variational.LMCVariationalStrategy(\n",
    "            base_variational_strategy,\n",
    "            num_tasks=num_tasks,\n",
    "            num_latents=inducing_points.size(0),  # = num_latents\n",
    "            latent_dim=-1,                        # latents live in the leading batch dim\n",
    "        )\n",
    "        super().__init__(lmc_strategy)\n",
    "\n",
    "        # Mean & kernel must also be batched by num_latents\n",
    "        batch_shape = torch.Size([inducing_points.size(0)])   # = [num_latents]\n",
    "        self.mean_module = gpytorch.means.ConstantMean(batch_shape=batch_shape)\n",
    "        self.covar_module = gpytorch.kernels.ScaleKernel(\n",
    "            gpytorch.kernels.RBFKernel(ard_num_dims=D, batch_shape=batch_shape),\n",
    "            batch_shape=batch_shape\n",
    "        )\n",
    "\n",
    "    def forward(self, x):\n",
    "        # mean_x, covar_x each have batch_shape = [num_latents]\n",
    "        mean_x = self.mean_module(x)\n",
    "        covar_x = self.covar_module(x)\n",
    "        return gpytorch.distributions.MultivariateNormal(mean_x, covar_x)\n",
    "\n",
    "# ----- Inducing points: (num_latents, M, D)\n",
    "num_latents = 15                # increase if tasks are complex/heterogeneous\n",
    "M = 128                         # inducing points per latent\n",
    "perm = torch.randperm(N)[:M]\n",
    "Z_one = X[perm]                 # (M, D)\n",
    "inducing_points = Z_one.unsqueeze(0).repeat(num_latents, 1, 1)  # (num_latents, M, D)\n",
    "\n",
    "model = SparseLMCMultitaskGP(inducing_points, num_tasks=num_tasks, num_latents=num_latents)\n",
    "print(inducing_points.shape)"
   ]
  },
  {
   "cell_type": "code",
   "execution_count": 8,
   "id": "fe0d3fc4",
   "metadata": {},
   "outputs": [
    {
     "name": "stdout",
     "output_type": "stream",
     "text": [
      "Iter 025/1000  ELBO: -134.919\n",
      "Iter 050/1000  ELBO: -118.694\n",
      "Iter 075/1000  ELBO: -111.651\n",
      "Iter 100/1000  ELBO: -105.087\n",
      "Iter 125/1000  ELBO: -97.997\n",
      "Iter 150/1000  ELBO: -90.246\n",
      "Iter 175/1000  ELBO: -81.804\n",
      "Iter 200/1000  ELBO: -72.716\n",
      "Iter 225/1000  ELBO: -63.016\n",
      "Iter 250/1000  ELBO: -52.990\n",
      "Iter 275/1000  ELBO: -42.254\n",
      "Iter 300/1000  ELBO: -31.913\n",
      "Iter 325/1000  ELBO: -20.236\n",
      "Iter 350/1000  ELBO: -8.681\n",
      "Iter 375/1000  ELBO: 3.244\n",
      "Iter 400/1000  ELBO: 15.251\n",
      "Iter 425/1000  ELBO: 25.793\n",
      "Iter 450/1000  ELBO: 39.071\n",
      "Iter 475/1000  ELBO: 51.384\n",
      "Iter 500/1000  ELBO: 63.416\n",
      "Iter 525/1000  ELBO: 73.619\n",
      "Iter 550/1000  ELBO: 86.545\n",
      "Iter 575/1000  ELBO: 97.873\n",
      "Iter 600/1000  ELBO: 109.614\n",
      "Iter 625/1000  ELBO: 122.886\n",
      "Iter 650/1000  ELBO: 134.168\n",
      "Iter 675/1000  ELBO: 144.670\n",
      "Iter 700/1000  ELBO: 157.223\n",
      "Iter 725/1000  ELBO: 168.450\n",
      "Iter 750/1000  ELBO: 180.392\n",
      "Iter 775/1000  ELBO: 190.441\n",
      "Iter 800/1000  ELBO: 201.780\n",
      "Iter 825/1000  ELBO: 211.694\n",
      "Iter 850/1000  ELBO: 219.268\n",
      "Iter 875/1000  ELBO: 230.703\n",
      "Iter 900/1000  ELBO: 239.002\n",
      "Iter 925/1000  ELBO: 244.425\n",
      "Iter 950/1000  ELBO: 247.976\n",
      "Iter 975/1000  ELBO: 256.691\n",
      "Iter 1000/1000  ELBO: 264.494\n"
     ]
    }
   ],
   "source": [
    "\n",
    "# ----- Training\n",
    "model.train()\n",
    "likelihood.train()\n",
    "\n",
    "# ELBO needs the number of data points, not numel\n",
    "mll = gpytorch.mlls.VariationalELBO(likelihood, model, num_data=N)\n",
    "\n",
    "# optionally use natural gradients for the variational params (often helps)\n",
    "from gpytorch.optim import NGD\n",
    "variational_optimizer = NGD(model.variational_parameters(), num_data=N, lr=0.1)\n",
    "hyper_optimizer = torch.optim.Adam([\n",
    "    {'params': model.hyperparameters()},\n",
    "    {'params': likelihood.parameters()}\n",
    "], lr=0.01)\n",
    "\n",
    "optimizer = torch.optim.Adam([\n",
    "    {'params': model.parameters()},\n",
    "    {'params': likelihood.parameters()}\n",
    "], lr=0.01)\n",
    "\n",
    "training_iter = 1000\n",
    "for i in range(training_iter):\n",
    "    optimizer.zero_grad()\n",
    "    output = model(X)             # MultitaskMultivariateNormal with event_shape (N, num_tasks)\n",
    "    loss = -mll(output, Y)        # Y shape (N, num_tasks)\n",
    "    loss.backward()\n",
    "    if (i + 1) % 25 == 0:\n",
    "        print(f\"Iter {i+1:03d}/{training_iter}  ELBO: {-loss.item():.3f}\")\n",
    "    optimizer.step()\n",
    "\n",
    "# # ----- Prediction (on X itself or X_test)\n",
    "# model.eval()\n",
    "# likelihood.eval()\n",
    "# with torch.no_grad():\n",
    "#     pred = likelihood(model(X))        # MultitaskMultivariateNormal\n",
    "#     mean = pred.mean                   # (N, num_tasks)\n",
    "#     lower, upper = pred.confidence_region()  # each (N, num_tasks)\n",
    "\n",
    "# print(\"mean[0,:5] =\", mean[0, :5])\n",
    "\n"
   ]
  },
  {
   "cell_type": "code",
   "execution_count": 11,
   "id": "a3d1bd37",
   "metadata": {},
   "outputs": [
    {
     "data": {
      "image/png": "[encoded data removed]",
      "text/plain": [
       "<Figure size 640x480 with 1 Axes>"
      ]
     },
     "metadata": {},
     "output_type": "display_data"
    },
    {
     "data": {
      "application/vnd.plotly.v1+json": {
       "config": {
        "plotlyServerURL": "https://plot.ly"
       },
       "data": [
        {
         "line": {
          "cmax": 670368756202190400000,
          "cmin": -25347782625957250000,
          "color": {
           "bdata": "AAAAAKFG9FqXS4tbLATvWxvDNlw1T4NcMHm1XLcw9FwCHCFdO2lRXXN1hl0F76pdhm3XXbm3Bl4AVSdeqIZOXgBkfV6Ikppew5G7Xodt4l42+gdfjoIiX4xGQV9ww2Rf3b2GX8b6nV9XXLhfFSbWX8WZ91/weg5g5zkjYAwjOmAsS1Ngn8FuYJ9HhmCuWpZga5anYJbyuWDlYc1gsdHhYMgp92AqpgZh8AoSYcOuHWGgeilhK1U1YQAjQWEPx0xhDiNYYfEXY2F6hm1hxU93YfAqgGEyPoRhhNSHYRbiimGwXI1h5juPYUx5kGGaEJFhwv+QYQBHkGHT6I5h9emMYTtRimFvJ4dhI3eDYdyYfmFjaXVhnHxrYbfwYGG05FVh1XdKYQbJPmFg9jJhoxwnYdNWG2HZvQ9hOWgEYbvT8mDkp91go2nJYAswtmCpDKRgwguTYJo0g2DIE2lgUxROYJ1gNWAh6B5gFpUKYPCa8F/3589fANKyX8wWmV+pcoJfjENdX7vCOl9M4RxfNCMDXw==",
           "dtype": "f4"
          },
          "colorbar": {
           "title": {
            "text": "n(m, t)"
           }
          },
          "colorscale": [
           [
            0,
            "#440154"
           ],
           [
            0.1111111111111111,
            "#482878"
           ],
           [
            0.2222222222222222,
            "#3e4989"
           ],
           [
            0.3333333333333333,
            "#31688e"
           ],
           [
            0.4444444444444444,
            "#26828e"
           ],
           [
            0.5555555555555556,
            "#1f9e89"
           ],
           [
            0.6666666666666666,
            "#35b779"
           ],
           [
            0.7777777777777778,
            "#6ece58"
           ],
           [
            0.8888888888888888,
            "#b5de2b"
           ],
           [
            1,
            "#fde725"
           ]
          ],
          "showscale": true,
          "width": 4
         },
         "mode": "lines",
         "showlegend": false,
         "type": "scatter3d",
         "x": {
          "bdata": "AAAAALooDiy6KI4sFz3VLLooDi3osjEtFz1VLUbHeC26KI4t0e2fLeiysS0AeMMtFz3VLS4C5y1Gx/gtLkYFLrooDi5GCxcu0e0fLl3QKC7osjEudJU6LgB4Qy6LWkwuFz1VLqMfXi4uAmcuuuRvLkbHeC7p1IAuLkaFLnS3iS66KI4uAJqSLkYLly6LfJsu0e2fLhdfpC5d0Kguo0GtLuiysS4uJLYudJW6LroGvy4AeMMuRunHLotazC7Ry9AuFz3VLl2u2S6hH94u55DiLi0C5y5zc+suuOTvLv5V9C5Ex/guijj9LujUAC+LDQMvLkYFL9B+By90twkvFvALL7ooDi9cYRAv/5kSL6LSFC9FCxcv6EMZL4p8Gy8utR0v0O0fL3QmIi8WXyQvuZcmL1zQKC//CCsvokEtL0V6Ly/osjEvi+szLy4kNi/QXDgvdJU6LxbOPC+5Bj8vXD9BL/93Qy+isEUvRelHL+ghSi+LWkwvLpNOL9DLUC9zBFMvFj1VL7l1Vy9crlkv/+ZbLw==",
          "dtype": "f4"
         },
         "y": {
          "bdata": "AAAAAAAAAAAAAAAAAAAAAAAAAAAAAAAAAAAAAAAAAAAAAAAAAAAAAAAAAAAAAAAAAAAAAAAAAAAAAAAAAAAAAAAAAAAAAAAAAAAAAAAAAAAAAAAAAAAAAAAAAAAAAAAAAAAAAAAAAAAAAAAAAAAAAAAAAAAAAAAAAAAAAAAAAAAAAAAAAAAAAAAAAAAAAAAAAAAAAAAAAAAAAAAAAAAAAAAAAAAAAAAAAAAAAAAAAAAAAAAAAAAAAAAAAAAAAAAAAAAAAAAAAAAAAAAAAAAAAAAAAAAAAAAAAAAAAAAAAAAAAAAAAAAAAAAAAAAAAAAAAAAAAAAAAAAAAAAAAAAAAAAAAAAAAAAAAAAAAAAAAAAAAAAAAAAAAAAAAAAAAAAAAAAAAAAAAAAAAAAAAAAAAAAAAAAAAAAAAAAAAAAAAAAAAAAAAAAAAAAAAAAAAAAAAAAAAAAAAAAAAAAAAAAAAAAAAAAAAAAAAAAAAAAAAAAAAAAAAAAAAAAAAAAAAAAAAAAAAAAAAAAAAAAAAAAAAA==",
          "dtype": "f4"
         },
         "z": {
          "bdata": "AAAAAKFG9FqXS4tbLATvWxvDNlw1T4NcMHm1XLcw9FwCHCFdO2lRXXN1hl0F76pdhm3XXbm3Bl4AVSdeqIZOXgBkfV6Ikppew5G7Xodt4l42+gdfjoIiX4xGQV9ww2Rf3b2GX8b6nV9XXLhfFSbWX8WZ91/weg5g5zkjYAwjOmAsS1Ngn8FuYJ9HhmCuWpZga5anYJbyuWDlYc1gsdHhYMgp92AqpgZh8AoSYcOuHWGgeilhK1U1YQAjQWEPx0xhDiNYYfEXY2F6hm1hxU93YfAqgGEyPoRhhNSHYRbiimGwXI1h5juPYUx5kGGaEJFhwv+QYQBHkGHT6I5h9emMYTtRimFvJ4dhI3eDYdyYfmFjaXVhnHxrYbfwYGG05FVh1XdKYQbJPmFg9jJhoxwnYdNWG2HZvQ9hOWgEYbvT8mDkp91go2nJYAswtmCpDKRgwguTYJo0g2DIE2lgUxROYJ1gNWAh6B5gFpUKYPCa8F/3589fANKyX8wWmV+pcoJfjENdX7vCOl9M4RxfNCMDXw==",
          "dtype": "f4"
         }
        },
        {
         "line": {
          "cmax": 670368756202190400000,
          "cmin": -25347782625957250000,
          "color": {
           "bdata": "djvO3gAHpd5W40nfnJnQ3irtEN9CgirfJNE930xZHt+2fBPfDpj93kSIvN7tAopd+dEEX2q3wl6NQUVfGu6RXwHoxl9NMgBglSUiYALiSWB0LFxgxQN/YCOHi2CNQZtgG8GqYBhIuGAuh8VguIrFYMYT12DCxuRg2HvyYMHg+WCHaABhTY0EYQUhCmHWCA5hJqwSYSxWF2EYVxlhAUcfYaF+JGE2iChhWbUuYQXsNGGWqjphXVxCYVrdR2HAxk9hPCZYYULDX2FecmhhZ/5rYbHSd2G9VoBhwqKDYTIah2FXd4thm6mKYd3CjGHrCY1hCqSPYWLJjmEdl41hX5mMYVisimEwdIlhWUSFYXihgmHSLXphZg9yYZMYaWF6HV9hozFQYQ2nSmH1vz5hOcMyYR46KWGOuB1h0RsSYQ3zCGEQkvRgI5blYMfH0WB+KMBgypKtYJqdnWDxy41gwVx+YAJZZmCLaFhghfcxYDxdHmAxmwVg6MPYX7Eatl9BspdffRpNXyHO6F7O9VxfUyrlXg==",
           "dtype": "f4"
          },
          "colorscale": [
           [
            0,
            "#440154"
           ],
           [
            0.1111111111111111,
            "#482878"
           ],
           [
            0.2222222222222222,
            "#3e4989"
           ],
           [
            0.3333333333333333,
            "#31688e"
           ],
           [
            0.4444444444444444,
            "#26828e"
           ],
           [
            0.5555555555555556,
            "#1f9e89"
           ],
           [
            0.6666666666666666,
            "#35b779"
           ],
           [
            0.7777777777777778,
            "#6ece58"
           ],
           [
            0.8888888888888888,
            "#b5de2b"
           ],
           [
            1,
            "#fde725"
           ]
          ],
          "showscale": false,
          "width": 4
         },
         "mode": "lines",
         "showlegend": false,
         "type": "scatter3d",
         "x": {
          "bdata": "AAAAALooDiy6KI4sFz3VLLooDi3osjEtFz1VLUbHeC26KI4t0e2fLeiysS0AeMMtFz3VLS4C5y1Gx/gtLkYFLrooDi5GCxcu0e0fLl3QKC7osjEudJU6LgB4Qy6LWkwuFz1VLqMfXi4uAmcuuuRvLkbHeC7p1IAuLkaFLnS3iS66KI4uAJqSLkYLly6LfJsu0e2fLhdfpC5d0Kguo0GtLuiysS4uJLYudJW6LroGvy4AeMMuRunHLotazC7Ry9AuFz3VLl2u2S6hH94u55DiLi0C5y5zc+suuOTvLv5V9C5Ex/guijj9LujUAC+LDQMvLkYFL9B+By90twkvFvALL7ooDi9cYRAv/5kSL6LSFC9FCxcv6EMZL4p8Gy8utR0v0O0fL3QmIi8WXyQvuZcmL1zQKC//CCsvokEtL0V6Ly/osjEvi+szLy4kNi/QXDgvdJU6LxbOPC+5Bj8vXD9BL/93Qy+isEUvRelHL+ghSi+LWkwvLpNOL9DLUC9zBFMvFj1VL7l1Vy9crlkv/+ZbLw==",
          "dtype": "f4"
         },
         "y": {
          "bdata": "Yt5OPmLeTj5i3k4+Yt5OPmLeTj5i3k4+Yt5OPmLeTj5i3k4+Yt5OPmLeTj5i3k4+Yt5OPmLeTj5i3k4+Yt5OPmLeTj5i3k4+Yt5OPmLeTj5i3k4+Yt5OPmLeTj5i3k4+Yt5OPmLeTj5i3k4+Yt5OPmLeTj5i3k4+Yt5OPmLeTj5i3k4+Yt5OPmLeTj5i3k4+Yt5OPmLeTj5i3k4+Yt5OPmLeTj5i3k4+Yt5OPmLeTj5i3k4+Yt5OPmLeTj5i3k4+Yt5OPmLeTj5i3k4+Yt5OPmLeTj5i3k4+Yt5OPmLeTj5i3k4+Yt5OPmLeTj5i3k4+Yt5OPmLeTj5i3k4+Yt5OPmLeTj5i3k4+Yt5OPmLeTj5i3k4+Yt5OPmLeTj5i3k4+Yt5OPmLeTj5i3k4+Yt5OPmLeTj5i3k4+Yt5OPmLeTj5i3k4+Yt5OPmLeTj5i3k4+Yt5OPmLeTj5i3k4+Yt5OPmLeTj5i3k4+Yt5OPmLeTj5i3k4+Yt5OPmLeTj5i3k4+Yt5OPmLeTj5i3k4+Yt5OPg==",
          "dtype": "f4"
         },
         "z": {
          "bdata": "djvO3gAHpd5W40nfnJnQ3irtEN9CgirfJNE930xZHt+2fBPfDpj93kSIvN7tAopd+dEEX2q3wl6NQUVfGu6RXwHoxl9NMgBglSUiYALiSWB0LFxgxQN/YCOHi2CNQZtgG8GqYBhIuGAuh8VguIrFYMYT12DCxuRg2HvyYMHg+WCHaABhTY0EYQUhCmHWCA5hJqwSYSxWF2EYVxlhAUcfYaF+JGE2iChhWbUuYQXsNGGWqjphXVxCYVrdR2HAxk9hPCZYYULDX2FecmhhZ/5rYbHSd2G9VoBhwqKDYTIah2FXd4thm6mKYd3CjGHrCY1hCqSPYWLJjmEdl41hX5mMYVisimEwdIlhWUSFYXihgmHSLXphZg9yYZMYaWF6HV9hozFQYQ2nSmH1vz5hOcMyYR46KWGOuB1h0RsSYQ3zCGEQkvRgI5blYMfH0WB+KMBgypKtYJqdnWDxy41gwVx+YAJZZmCLaFhghfcxYDxdHmAxmwVg6MPYX7Eatl9BspdffRpNXyHO6F7O9VxfUyrlXg==",
          "dtype": "f4"
         }
        },
        {
         "line": {
          "cmax": 670368756202190400000,
          "cmin": -25347782625957250000,
          "color": {
           "bdata": "s0va3tLikN5RdEjflq+h3hui2t5Q/PHeHEzx3o+4kd72ViDe3e6HXQFqoV7bsEBfVQCdX96dt1/hNPhfCfYcYKjXQWAH9WZgQTeIYIN0n2CdSK9gT/TEYKUW12CLoetgCpL/YNIUCWGX4RFhMdMYYTkPIWFgzChhHpAwYcq1NWGIeTphJZA/Yad8RGGFN0hhi49LYb04T2HA5FBhSRBUYUrQVmFNnFhhiFhbYbqKXmHG/mBhz2NkYavuZmFhP2thJnNvYVvUc2FRg3hhVOt6YYzQgGFNX4NhPeSFYbhwiGGLjothYHqLYa0MjWGOrY1hnWqPYZvnjmGrKo5hk3iNYfj3i2GoYYphA3WHYfq0hWF6uIBhtDV6YXQ8cmFcYWlhg81cYZlMVmGzqUth1tI/YWS5NmE9uithJTMgYRQHF2EvVglhXFf/YP3M7GDHgthgREHFYFU4tGDcbKNgXPyTYDMzhWAM5nFgQKBPYJ19OWBzXhxgcw4AYCug01+hz7FfaO13X2uXKl8uK3lfdqIGXw==",
           "dtype": "f4"
          },
          "colorscale": [
           [
            0,
            "#440154"
           ],
           [
            0.1111111111111111,
            "#482878"
           ],
           [
            0.2222222222222222,
            "#3e4989"
           ],
           [
            0.3333333333333333,
            "#31688e"
           ],
           [
            0.4444444444444444,
            "#26828e"
           ],
           [
            0.5555555555555556,
            "#1f9e89"
           ],
           [
            0.6666666666666666,
            "#35b779"
           ],
           [
            0.7777777777777778,
            "#6ece58"
           ],
           [
            0.8888888888888888,
            "#b5de2b"
           ],
           [
            1,
            "#fde725"
           ]
          ],
          "showscale": false,
          "width": 4
         },
         "mode": "lines",
         "showlegend": false,
         "type": "scatter3d",
         "x": {
          "bdata": "AAAAALooDiy6KI4sFz3VLLooDi3osjEtFz1VLUbHeC26KI4t0e2fLeiysS0AeMMtFz3VLS4C5y1Gx/gtLkYFLrooDi5GCxcu0e0fLl3QKC7osjEudJU6LgB4Qy6LWkwuFz1VLqMfXi4uAmcuuuRvLkbHeC7p1IAuLkaFLnS3iS66KI4uAJqSLkYLly6LfJsu0e2fLhdfpC5d0Kguo0GtLuiysS4uJLYudJW6LroGvy4AeMMuRunHLotazC7Ry9AuFz3VLl2u2S6hH94u55DiLi0C5y5zc+suuOTvLv5V9C5Ex/guijj9LujUAC+LDQMvLkYFL9B+By90twkvFvALL7ooDi9cYRAv/5kSL6LSFC9FCxcv6EMZL4p8Gy8utR0v0O0fL3QmIi8WXyQvuZcmL1zQKC//CCsvokEtL0V6Ly/osjEvi+szLy4kNi/QXDgvdJU6LxbOPC+5Bj8vXD9BL/93Qy+isEUvRelHL+ghSi+LWkwvLpNOL9DLUC9zBFMvFj1VL7l1Vy9crlkv/+ZbLw==",
          "dtype": "f4"
         },
         "y": {
          "bdata": "Yt7OPmLezj5i3s4+Yt7OPmLezj5i3s4+Yt7OPmLezj5i3s4+Yt7OPmLezj5i3s4+Yt7OPmLezj5i3s4+Yt7OPmLezj5i3s4+Yt7OPmLezj5i3s4+Yt7OPmLezj5i3s4+Yt7OPmLezj5i3s4+Yt7OPmLezj5i3s4+Yt7OPmLezj5i3s4+Yt7OPmLezj5i3s4+Yt7OPmLezj5i3s4+Yt7OPmLezj5i3s4+Yt7OPmLezj5i3s4+Yt7OPmLezj5i3s4+Yt7OPmLezj5i3s4+Yt7OPmLezj5i3s4+Yt7OPmLezj5i3s4+Yt7OPmLezj5i3s4+Yt7OPmLezj5i3s4+Yt7OPmLezj5i3s4+Yt7OPmLezj5i3s4+Yt7OPmLezj5i3s4+Yt7OPmLezj5i3s4+Yt7OPmLezj5i3s4+Yt7OPmLezj5i3s4+Yt7OPmLezj5i3s4+Yt7OPmLezj5i3s4+Yt7OPmLezj5i3s4+Yt7OPmLezj5i3s4+Yt7OPmLezj5i3s4+Yt7OPmLezj5i3s4+Yt7OPg==",
          "dtype": "f4"
         },
         "z": {
          "bdata": "s0va3tLikN5RdEjflq+h3hui2t5Q/PHeHEzx3o+4kd72ViDe3e6HXQFqoV7bsEBfVQCdX96dt1/hNPhfCfYcYKjXQWAH9WZgQTeIYIN0n2CdSK9gT/TEYKUW12CLoetgCpL/YNIUCWGX4RFhMdMYYTkPIWFgzChhHpAwYcq1NWGIeTphJZA/Yad8RGGFN0hhi49LYb04T2HA5FBhSRBUYUrQVmFNnFhhiFhbYbqKXmHG/mBhz2NkYavuZmFhP2thJnNvYVvUc2FRg3hhVOt6YYzQgGFNX4NhPeSFYbhwiGGLjothYHqLYa0MjWGOrY1hnWqPYZvnjmGrKo5hk3iNYfj3i2GoYYphA3WHYfq0hWF6uIBhtDV6YXQ8cmFcYWlhg81cYZlMVmGzqUth1tI/YWS5NmE9uithJTMgYRQHF2EvVglhXFf/YP3M7GDHgthgREHFYFU4tGDcbKNgXPyTYDMzhWAM5nFgQKBPYJ19OWBzXhxgcw4AYCug01+hz7FfaO13X2uXKl8uK3lfdqIGXw==",
          "dtype": "f4"
         }
        },
        {
         "line": {
          "cmax": 670368756202190400000,
          "cmin": -25347782625957250000,
          "color": {
           "bdata": "eBzr3u06h97EGU3flQt83oYOqN66aKjeZ5KI3iF+19y7yDJeQAoBX0DAWV8O+6hfHITmX8EsEWCjnDdgbZpfYGpWhmD+Spxgfzq0YKOGzmCTZuNgXG/8YJOtCWH99hVh2dEhYZM9LWEn7Tdhg3dDYcg3TGEcD1VhWyFeYdHcZGHKK2thy71xYenWdmFTJ3thbo9+YWYagWEuMYJhTzqDYUUehGGfm4Rh5xuFYXzWhWFRNoZh852GYZHxhmEu5YdhGYiIYbx2iWGnQYphFM6KYc8sjGHfD41ho7KOYVvmj2G9g5FhJ4yRYWM4kmHOf5JhThiTYYJekmGTfJFhAIaQYWfrjmGyZ4xhIWOKYWfHiGGiNIRh27uAYZcQemHZ2XFhG8FmYXOtX2EHAFZhAm5KYYC3QWHUQjdhkQgsYTHxImE/GxZhwTwLYYVtAmHSMe9gUY7bYIvPyWAvc7hgTy+oYI2Pl2A2codgFsFuYI9sVmBWIDVgqYcVYN+L9l+X4c9fTfqTX29XW1+vyIxfK4QcXw==",
           "dtype": "f4"
          },
          "colorscale": [
           [
            0,
            "#440154"
           ],
           [
            0.1111111111111111,
            "#482878"
           ],
           [
            0.2222222222222222,
            "#3e4989"
           ],
           [
            0.3333333333333333,
            "#31688e"
           ],
           [
            0.4444444444444444,
            "#26828e"
           ],
           [
            0.5555555555555556,
            "#1f9e89"
           ],
           [
            0.6666666666666666,
            "#35b779"
           ],
           [
            0.7777777777777778,
            "#6ece58"
           ],
           [
            0.8888888888888888,
            "#b5de2b"
           ],
           [
            1,
            "#fde725"
           ]
          ],
          "showscale": false,
          "width": 4
         },
         "mode": "lines",
         "showlegend": false,
         "type": "scatter3d",
         "x": {
          "bdata": "AAAAALooDiy6KI4sFz3VLLooDi3osjEtFz1VLUbHeC26KI4t0e2fLeiysS0AeMMtFz3VLS4C5y1Gx/gtLkYFLrooDi5GCxcu0e0fLl3QKC7osjEudJU6LgB4Qy6LWkwuFz1VLqMfXi4uAmcuuuRvLkbHeC7p1IAuLkaFLnS3iS66KI4uAJqSLkYLly6LfJsu0e2fLhdfpC5d0Kguo0GtLuiysS4uJLYudJW6LroGvy4AeMMuRunHLotazC7Ry9AuFz3VLl2u2S6hH94u55DiLi0C5y5zc+suuOTvLv5V9C5Ex/guijj9LujUAC+LDQMvLkYFL9B+By90twkvFvALL7ooDi9cYRAv/5kSL6LSFC9FCxcv6EMZL4p8Gy8utR0v0O0fL3QmIi8WXyQvuZcmL1zQKC//CCsvokEtL0V6Ly/osjEvi+szLy4kNi/QXDgvdJU6LxbOPC+5Bj8vXD9BL/93Qy+isEUvRelHL+ghSi+LWkwvLpNOL9DLUC9zBFMvFj1VL7l1Vy9crlkv/+ZbLw==",
          "dtype": "f4"
         },
         "y": {
          "bdata": "yiYbP8omGz/KJhs/yiYbP8omGz/KJhs/yiYbP8omGz/KJhs/yiYbP8omGz/KJhs/yiYbP8omGz/KJhs/yiYbP8omGz/KJhs/yiYbP8omGz/KJhs/yiYbP8omGz/KJhs/yiYbP8omGz/KJhs/yiYbP8omGz/KJhs/yiYbP8omGz/KJhs/yiYbP8omGz/KJhs/yiYbP8omGz/KJhs/yiYbP8omGz/KJhs/yiYbP8omGz/KJhs/yiYbP8omGz/KJhs/yiYbP8omGz/KJhs/yiYbP8omGz/KJhs/yiYbP8omGz/KJhs/yiYbP8omGz/KJhs/yiYbP8omGz/KJhs/yiYbP8omGz/KJhs/yiYbP8omGz/KJhs/yiYbP8omGz/KJhs/yiYbP8omGz/KJhs/yiYbP8omGz/KJhs/yiYbP8omGz/KJhs/yiYbP8omGz/KJhs/yiYbP8omGz/KJhs/yiYbP8omGz/KJhs/yiYbP8omGz/KJhs/yiYbP8omGz/KJhs/yiYbP8omGz/KJhs/yiYbPw==",
          "dtype": "f4"
         },
         "z": {
          "bdata": "eBzr3u06h97EGU3flQt83oYOqN66aKjeZ5KI3iF+19y7yDJeQAoBX0DAWV8O+6hfHITmX8EsEWCjnDdgbZpfYGpWhmD+Spxgfzq0YKOGzmCTZuNgXG/8YJOtCWH99hVh2dEhYZM9LWEn7Tdhg3dDYcg3TGEcD1VhWyFeYdHcZGHKK2thy71xYenWdmFTJ3thbo9+YWYagWEuMYJhTzqDYUUehGGfm4Rh5xuFYXzWhWFRNoZh852GYZHxhmEu5YdhGYiIYbx2iWGnQYphFM6KYc8sjGHfD41ho7KOYVvmj2G9g5FhJ4yRYWM4kmHOf5JhThiTYYJekmGTfJFhAIaQYWfrjmGyZ4xhIWOKYWfHiGGiNIRh27uAYZcQemHZ2XFhG8FmYXOtX2EHAFZhAm5KYYC3QWHUQjdhkQgsYTHxImE/GxZhwTwLYYVtAmHSMe9gUY7bYIvPyWAvc7hgTy+oYI2Pl2A2codgFsFuYI9sVmBWIDVgqYcVYN+L9l+X4c9fTfqTX29XW1+vyIxfK4QcXw==",
          "dtype": "f4"
         }
        },
        {
         "line": {
          "cmax": 670368756202190400000,
          "cmin": -25347782625957250000,
          "color": {
           "bdata": "CB393v2uht6dfFbf1XpQ3tHzit4yr3besNsJ3hAaF14eO9Fey9hPX9Qfnl/PP+BfwQ0QYGBdOWCEJmVg5IWJYDlmo2CHXbxgiznXYG579GA0pQZhFqcUYV4IImEwEjBh75o9YerSSmGVKFdhfp5lYXZeb2EkcHlhqO+BYWMIhmE26Ilh/uONYWTDkGFvVJNhO1eVYWJfl2FdzZhheLmZYdqCmmHH6pphOgqbYXFLm2GLQpthUu6aYfmnmmH51JphLoCaYQODmmFuM5phBBeaYe0ammENs5lhR3aaYb9ammH0spphoHWaYZYymmGr05lhzVqZYZUhmGE1ypZhs02VYcBPk2GQxo9h0TSOYcVHjGFG54dhwFyEYai4gGFBaXlhl/FuYZSLZ2EwbF5hnhJTYfGbSmEeoUBhzLs1YcfBLGGViiBhDzEVYca9DGH6pQFhpJHvYAqD3WBI48tg1um6YN08qWAvf5ZgUcWGYFRzc2B+SE5gXIIrYDL1DWCzbe9frtCsXzjrgl899ZxfxhcxXw==",
           "dtype": "f4"
          },
          "colorscale": [
           [
            0,
            "#440154"
           ],
           [
            0.1111111111111111,
            "#482878"
           ],
           [
            0.2222222222222222,
            "#3e4989"
           ],
           [
            0.3333333333333333,
            "#31688e"
           ],
           [
            0.4444444444444444,
            "#26828e"
           ],
           [
            0.5555555555555556,
            "#1f9e89"
           ],
           [
            0.6666666666666666,
            "#35b779"
           ],
           [
            0.7777777777777778,
            "#6ece58"
           ],
           [
            0.8888888888888888,
            "#b5de2b"
           ],
           [
            1,
            "#fde725"
           ]
          ],
          "showscale": false,
          "width": 4
         },
         "mode": "lines",
         "showlegend": false,
         "type": "scatter3d",
         "x": {
          "bdata": "AAAAALooDiy6KI4sFz3VLLooDi3osjEtFz1VLUbHeC26KI4t0e2fLeiysS0AeMMtFz3VLS4C5y1Gx/gtLkYFLrooDi5GCxcu0e0fLl3QKC7osjEudJU6LgB4Qy6LWkwuFz1VLqMfXi4uAmcuuuRvLkbHeC7p1IAuLkaFLnS3iS66KI4uAJqSLkYLly6LfJsu0e2fLhdfpC5d0Kguo0GtLuiysS4uJLYudJW6LroGvy4AeMMuRunHLotazC7Ry9AuFz3VLl2u2S6hH94u55DiLi0C5y5zc+suuOTvLv5V9C5Ex/guijj9LujUAC+LDQMvLkYFL9B+By90twkvFvALL7ooDi9cYRAv/5kSL6LSFC9FCxcv6EMZL4p8Gy8utR0v0O0fL3QmIi8WXyQvuZcmL1zQKC//CCsvokEtL0V6Ly/osjEvi+szLy4kNi/QXDgvdJU6LxbOPC+5Bj8vXD9BL/93Qy+isEUvRelHL+ghSi+LWkwvLpNOL9DLUC9zBFMvFj1VL7l1Vy9crlkv/+ZbLw==",
          "dtype": "f4"
         },
         "y": {
          "bdata": "Yt5OP2LeTj9i3k4/Yt5OP2LeTj9i3k4/Yt5OP2LeTj9i3k4/Yt5OP2LeTj9i3k4/Yt5OP2LeTj9i3k4/Yt5OP2LeTj9i3k4/Yt5OP2LeTj9i3k4/Yt5OP2LeTj9i3k4/Yt5OP2LeTj9i3k4/Yt5OP2LeTj9i3k4/Yt5OP2LeTj9i3k4/Yt5OP2LeTj9i3k4/Yt5OP2LeTj9i3k4/Yt5OP2LeTj9i3k4/Yt5OP2LeTj9i3k4/Yt5OP2LeTj9i3k4/Yt5OP2LeTj9i3k4/Yt5OP2LeTj9i3k4/Yt5OP2LeTj9i3k4/Yt5OP2LeTj9i3k4/Yt5OP2LeTj9i3k4/Yt5OP2LeTj9i3k4/Yt5OP2LeTj9i3k4/Yt5OP2LeTj9i3k4/Yt5OP2LeTj9i3k4/Yt5OP2LeTj9i3k4/Yt5OP2LeTj9i3k4/Yt5OP2LeTj9i3k4/Yt5OP2LeTj9i3k4/Yt5OP2LeTj9i3k4/Yt5OP2LeTj9i3k4/Yt5OP2LeTj9i3k4/Yt5OP2LeTj9i3k4/Yt5OPw==",
          "dtype": "f4"
         },
         "z": {
          "bdata": "CB393v2uht6dfFbf1XpQ3tHzit4yr3besNsJ3hAaF14eO9Fey9hPX9Qfnl/PP+BfwQ0QYGBdOWCEJmVg5IWJYDlmo2CHXbxgiznXYG579GA0pQZhFqcUYV4IImEwEjBh75o9YerSSmGVKFdhfp5lYXZeb2EkcHlhqO+BYWMIhmE26Ilh/uONYWTDkGFvVJNhO1eVYWJfl2FdzZhheLmZYdqCmmHH6pphOgqbYXFLm2GLQpthUu6aYfmnmmH51JphLoCaYQODmmFuM5phBBeaYe0ammENs5lhR3aaYb9ammH0spphoHWaYZYymmGr05lhzVqZYZUhmGE1ypZhs02VYcBPk2GQxo9h0TSOYcVHjGFG54dhwFyEYai4gGFBaXlhl/FuYZSLZ2EwbF5hnhJTYfGbSmEeoUBhzLs1YcfBLGGViiBhDzEVYca9DGH6pQFhpJHvYAqD3WBI48tg1um6YN08qWAvf5ZgUcWGYFRzc2B+SE5gXIIrYDL1DWCzbe9frtCsXzjrgl899ZxfxhcxXw==",
          "dtype": "f4"
         }
        },
        {
         "line": {
          "cmax": 670368756202190400000,
          "cmin": -25347782625957250000,
          "color": {
           "bdata": "iPkG387nit5J4WHfWoo63vUFe95QA0jeWKpx3e9igV4q3w9fQ8WBX0Rev1/d/QNgB6QlYC8oVmB/K4NgJIOcYNgAuWBmhtRgVuLxYMndCGGMyhZhkBEmYYb+NGF6ekRhv2xTYWAZYmFi1W9hBwqAYcmDhWEWIYthUfiQYT64lWHgOJphktSeYf8ZomFIHKVhDImnYcnaqWHEpKthtK+sYXuSrWGiEK5h/heuYbgkrmHK8K1h9D2tYbibrGFtTaxhNl2rYa26qmGFrKlh4P6oYZUbqGFQwaZhgLymYZ2WpWE236Rh3C6kYVcVo2EgAKJhEJ2gYQnTnmGq65xhPNmaYfxemGFu8pNhmHuSYW8TkGEguYth0QGIYQtLhGH5OoBh6Ch2YWyAbmEXoGVhH3FaYfcTUmEfekhhLNs9YRv2NGFBKSlhYbYdYSJ9FWFgWgphvn4AYRrD7mA4Cd1gW3DLYBkpuWCto6RgKc6UYNQHh2DAh2Vg7Ns/YCHBH2ACiQZgo+/DX3zQlF/knKtfLRlDXw==",
           "dtype": "f4"
          },
          "colorscale": [
           [
            0,
            "#440154"
           ],
           [
            0.1111111111111111,
            "#482878"
           ],
           [
            0.2222222222222222,
            "#3e4989"
           ],
           [
            0.3333333333333333,
            "#31688e"
           ],
           [
            0.4444444444444444,
            "#26828e"
           ],
           [
            0.5555555555555556,
            "#1f9e89"
           ],
           [
            0.6666666666666666,
            "#35b779"
           ],
           [
            0.7777777777777778,
            "#6ece58"
           ],
           [
            0.8888888888888888,
            "#b5de2b"
           ],
           [
            1,
            "#fde725"
           ]
          ],
          "showscale": false,
          "width": 4
         },
         "mode": "lines",
         "showlegend": false,
         "type": "scatter3d",
         "x": {
          "bdata": "AAAAALooDiy6KI4sFz3VLLooDi3osjEtFz1VLUbHeC26KI4t0e2fLeiysS0AeMMtFz3VLS4C5y1Gx/gtLkYFLrooDi5GCxcu0e0fLl3QKC7osjEudJU6LgB4Qy6LWkwuFz1VLqMfXi4uAmcuuuRvLkbHeC7p1IAuLkaFLnS3iS66KI4uAJqSLkYLly6LfJsu0e2fLhdfpC5d0Kguo0GtLuiysS4uJLYudJW6LroGvy4AeMMuRunHLotazC7Ry9AuFz3VLl2u2S6hH94u55DiLi0C5y5zc+suuOTvLv5V9C5Ex/guijj9LujUAC+LDQMvLkYFL9B+By90twkvFvALL7ooDi9cYRAv/5kSL6LSFC9FCxcv6EMZL4p8Gy8utR0v0O0fL3QmIi8WXyQvuZcmL1zQKC//CCsvokEtL0V6Ly/osjEvi+szLy4kNi/QXDgvdJU6LxbOPC+5Bj8vXD9BL/93Qy+isEUvRelHL+ghSi+LWkwvLpNOL9DLUC9zBFMvFj1VL7l1Vy9crlkv/+ZbLw==",
          "dtype": "f4"
         },
         "y": {
          "bdata": "/UqBP/1KgT/9SoE//UqBP/1KgT/9SoE//UqBP/1KgT/9SoE//UqBP/1KgT/9SoE//UqBP/1KgT/9SoE//UqBP/1KgT/9SoE//UqBP/1KgT/9SoE//UqBP/1KgT/9SoE//UqBP/1KgT/9SoE//UqBP/1KgT/9SoE//UqBP/1KgT/9SoE//UqBP/1KgT/9SoE//UqBP/1KgT/9SoE//UqBP/1KgT/9SoE//UqBP/1KgT/9SoE//UqBP/1KgT/9SoE//UqBP/1KgT/9SoE//UqBP/1KgT/9SoE//UqBP/1KgT/9SoE//UqBP/1KgT/9SoE//UqBP/1KgT/9SoE//UqBP/1KgT/9SoE//UqBP/1KgT/9SoE//UqBP/1KgT/9SoE//UqBP/1KgT/9SoE//UqBP/1KgT/9SoE//UqBP/1KgT/9SoE//UqBP/1KgT/9SoE//UqBP/1KgT/9SoE//UqBP/1KgT/9SoE//UqBP/1KgT/9SoE//UqBP/1KgT/9SoE//UqBP/1KgT/9SoE//UqBPw==",
          "dtype": "f4"
         },
         "z": {
          "bdata": "iPkG387nit5J4WHfWoo63vUFe95QA0jeWKpx3e9igV4q3w9fQ8WBX0Rev1/d/QNgB6QlYC8oVmB/K4NgJIOcYNgAuWBmhtRgVuLxYMndCGGMyhZhkBEmYYb+NGF6ekRhv2xTYWAZYmFi1W9hBwqAYcmDhWEWIYthUfiQYT64lWHgOJphktSeYf8ZomFIHKVhDImnYcnaqWHEpKthtK+sYXuSrWGiEK5h/heuYbgkrmHK8K1h9D2tYbibrGFtTaxhNl2rYa26qmGFrKlh4P6oYZUbqGFQwaZhgLymYZ2WpWE236Rh3C6kYVcVo2EgAKJhEJ2gYQnTnmGq65xhPNmaYfxemGFu8pNhmHuSYW8TkGEguYth0QGIYQtLhGH5OoBh6Ch2YWyAbmEXoGVhH3FaYfcTUmEfekhhLNs9YRv2NGFBKSlhYbYdYSJ9FWFgWgphvn4AYRrD7mA4Cd1gW3DLYBkpuWCto6RgKc6UYNQHh2DAh2Vg7Ns/YCHBH2ACiQZgo+/DX3zQlF/knKtfLRlDXw==",
          "dtype": "f4"
         }
        },
        {
         "line": {
          "cmax": 670368756202190400000,
          "cmin": -25347782625957250000,
          "color": {
           "bdata": "rCMO39Qvkd55im3fRGA13qtdd97Eyjre0Ebm3Kopml5EcSVfIjyQXwbo0l+yuBBgwk00YPSwaGBIF45gkkKpYBenx2AjMeVgXEECYaIzE2H/QyJhso8yYb21QmEVUlNhAmNjYfcvc2HfCYFhNq6JYYPFj2F145Vh/0KcYUWYoWHdoaZhr8urYTp2r2FU6bJhasa1Yf1luGEbibph49O7YSDrvGEnlr1hEa+9YX62vWHed71hIaK8YZzPu2EqObthIe65YeHcuGGMVbdhwDa2YRu7tGHDtrJh4QiyYZ8ssGGEja5hGF+tYfuTq2HZ1qlhErWnYXVkpWEr8KJhiFGgYSddnWG/Qphh3K6WYTLKk2FwW49hLG+LYX6Wh2EIaoNhHoF8YRuVdGFWwmth8rdgYfVZWGGZDE9hm6NEYVXLO2HvRDBhL+okYc7OHGGTvhFhY+gHYeJw/WDhtutgZZXZYO3yxmDVOrFgOAihYCKikmBp8nlgXrlRYPK5L2CHsBNgJE7YX76bo18yJLhf9w9SXw==",
           "dtype": "f4"
          },
          "colorscale": [
           [
            0,
            "#440154"
           ],
           [
            0.1111111111111111,
            "#482878"
           ],
           [
            0.2222222222222222,
            "#3e4989"
           ],
           [
            0.3333333333333333,
            "#31688e"
           ],
           [
            0.4444444444444444,
            "#26828e"
           ],
           [
            0.5555555555555556,
            "#1f9e89"
           ],
           [
            0.6666666666666666,
            "#35b779"
           ],
           [
            0.7777777777777778,
            "#6ece58"
           ],
           [
            0.8888888888888888,
            "#b5de2b"
           ],
           [
            1,
            "#fde725"
           ]
          ],
          "showscale": false,
          "width": 4
         },
         "mode": "lines",
         "showlegend": false,
         "type": "scatter3d",
         "x": {
          "bdata": "AAAAALooDiy6KI4sFz3VLLooDi3osjEtFz1VLUbHeC26KI4t0e2fLeiysS0AeMMtFz3VLS4C5y1Gx/gtLkYFLrooDi5GCxcu0e0fLl3QKC7osjEudJU6LgB4Qy6LWkwuFz1VLqMfXi4uAmcuuuRvLkbHeC7p1IAuLkaFLnS3iS66KI4uAJqSLkYLly6LfJsu0e2fLhdfpC5d0Kguo0GtLuiysS4uJLYudJW6LroGvy4AeMMuRunHLotazC7Ry9AuFz3VLl2u2S6hH94u55DiLi0C5y5zc+suuOTvLv5V9C5Ex/guijj9LujUAC+LDQMvLkYFL9B+By90twkvFvALL7ooDi9cYRAv/5kSL6LSFC9FCxcv6EMZL4p8Gy8utR0v0O0fL3QmIi8WXyQvuZcmL1zQKC//CCsvokEtL0V6Ly/osjEvi+szLy4kNi/QXDgvdJU6LxbOPC+5Bj8vXD9BL/93Qy+isEUvRelHL+ghSi+LWkwvLpNOL9DLUC9zBFMvFj1VL7l1Vy9crlkv/+ZbLw==",
          "dtype": "f4"
         },
         "y": {
          "bdata": "yiabP8ommz/KJps/yiabP8ommz/KJps/yiabP8ommz/KJps/yiabP8ommz/KJps/yiabP8ommz/KJps/yiabP8ommz/KJps/yiabP8ommz/KJps/yiabP8ommz/KJps/yiabP8ommz/KJps/yiabP8ommz/KJps/yiabP8ommz/KJps/yiabP8ommz/KJps/yiabP8ommz/KJps/yiabP8ommz/KJps/yiabP8ommz/KJps/yiabP8ommz/KJps/yiabP8ommz/KJps/yiabP8ommz/KJps/yiabP8ommz/KJps/yiabP8ommz/KJps/yiabP8ommz/KJps/yiabP8ommz/KJps/yiabP8ommz/KJps/yiabP8ommz/KJps/yiabP8ommz/KJps/yiabP8ommz/KJps/yiabP8ommz/KJps/yiabP8ommz/KJps/yiabP8ommz/KJps/yiabP8ommz/KJps/yiabP8ommz/KJps/yiabP8ommz/KJps/yiabP8ommz/KJps/yiabPw==",
          "dtype": "f4"
         },
         "z": {
          "bdata": "rCMO39Qvkd55im3fRGA13qtdd97Eyjre0Ebm3Kopml5EcSVfIjyQXwbo0l+yuBBgwk00YPSwaGBIF45gkkKpYBenx2AjMeVgXEECYaIzE2H/QyJhso8yYb21QmEVUlNhAmNjYfcvc2HfCYFhNq6JYYPFj2F145Vh/0KcYUWYoWHdoaZhr8urYTp2r2FU6bJhasa1Yf1luGEbibph49O7YSDrvGEnlr1hEa+9YX62vWHed71hIaK8YZzPu2EqObthIe65YeHcuGGMVbdhwDa2YRu7tGHDtrJh4QiyYZ8ssGGEja5hGF+tYfuTq2HZ1qlhErWnYXVkpWEr8KJhiFGgYSddnWG/Qphh3K6WYTLKk2FwW49hLG+LYX6Wh2EIaoNhHoF8YRuVdGFWwmth8rdgYfVZWGGZDE9hm6NEYVXLO2HvRDBhL+okYc7OHGGTvhFhY+gHYeJw/WDhtutgZZXZYO3yxmDVOrFgOAihYCKikmBp8nlgXrlRYPK5L2CHsBNgJE7YX76bo18yJLhf9w9SXw==",
          "dtype": "f4"
         }
        },
        {
         "line": {
          "cmax": 670368756202190400000,
          "cmin": -25347782625957250000,
          "color": {
           "bdata": "8MsT31skmN5VjXjfFBE93teLgt6xTEfe32AF3QdMm15eByxf4jWVX2/a2l97ERdg63o8YK00cmD29JNgg2SwYHIJ0GA3CO9gxt8HYWyMGWEWbSlhW3w6YSSSS2FaA11hfuxtYTaQfmERMYdhRx6QYZ3JlmG/Up1h6CGkYSL9qWFmeq9hzyG1YcIpuWHjCL1h7FLAYXU+w2EntMVhMlDHYcSoyGEsi8lhlczJYSbtyWHttMlh9uDIYdn7x2G4P8dhYsXFYeVtxGHQnsJhGi3BYUROv2GL17xhHqC7Ye1UuWGs7rZhR0q1Yc3ysmGVp7Bhoe+tYT8sq2EvO6hhECSlYbPDoWG/Lpxhhl+aYbQMl2EVfpJhKl+OYT5himFLFIZhxOKAYSqVeWG3t3BhjtJlYVRpXWHHW1RhSh9KYeRSQWHkADZhO9gqYabLImGe3xdhmxMOYezSBGHUAfhg43PlYJ2c0mC5G7xgs2+rYMd/nGDguIVgCgdhYOKmPWBLDh9g9MvpX6PDr19mesJfKPtdXw==",
           "dtype": "f4"
          },
          "colorscale": [
           [
            0,
            "#440154"
           ],
           [
            0.1111111111111111,
            "#482878"
           ],
           [
            0.2222222222222222,
            "#3e4989"
           ],
           [
            0.3333333333333333,
            "#31688e"
           ],
           [
            0.4444444444444444,
            "#26828e"
           ],
           [
            0.5555555555555556,
            "#1f9e89"
           ],
           [
            0.6666666666666666,
            "#35b779"
           ],
           [
            0.7777777777777778,
            "#6ece58"
           ],
           [
            0.8888888888888888,
            "#b5de2b"
           ],
           [
            1,
            "#fde725"
           ]
          ],
          "showscale": false,
          "width": 4
         },
         "mode": "lines",
         "showlegend": false,
         "type": "scatter3d",
         "x": {
          "bdata": "AAAAALooDiy6KI4sFz3VLLooDi3osjEtFz1VLUbHeC26KI4t0e2fLeiysS0AeMMtFz3VLS4C5y1Gx/gtLkYFLrooDi5GCxcu0e0fLl3QKC7osjEudJU6LgB4Qy6LWkwuFz1VLqMfXi4uAmcuuuRvLkbHeC7p1IAuLkaFLnS3iS66KI4uAJqSLkYLly6LfJsu0e2fLhdfpC5d0Kguo0GtLuiysS4uJLYudJW6LroGvy4AeMMuRunHLotazC7Ry9AuFz3VLl2u2S6hH94u55DiLi0C5y5zc+suuOTvLv5V9C5Ex/guijj9LujUAC+LDQMvLkYFL9B+By90twkvFvALL7ooDi9cYRAv/5kSL6LSFC9FCxcv6EMZL4p8Gy8utR0v0O0fL3QmIi8WXyQvuZcmL1zQKC//CCsvokEtL0V6Ly/osjEvi+szLy4kNi/QXDgvdJU6LxbOPC+5Bj8vXD9BL/93Qy+isEUvRelHL+ghSi+LWkwvLpNOL9DLUC9zBFMvFj1VL7l1Vy9crlkv/+ZbLw==",
          "dtype": "f4"
         },
         "y": {
          "bdata": "lgK1P5YCtT+WArU/lgK1P5YCtT+WArU/lgK1P5YCtT+WArU/lgK1P5YCtT+WArU/lgK1P5YCtT+WArU/lgK1P5YCtT+WArU/lgK1P5YCtT+WArU/lgK1P5YCtT+WArU/lgK1P5YCtT+WArU/lgK1P5YCtT+WArU/lgK1P5YCtT+WArU/lgK1P5YCtT+WArU/lgK1P5YCtT+WArU/lgK1P5YCtT+WArU/lgK1P5YCtT+WArU/lgK1P5YCtT+WArU/lgK1P5YCtT+WArU/lgK1P5YCtT+WArU/lgK1P5YCtT+WArU/lgK1P5YCtT+WArU/lgK1P5YCtT+WArU/lgK1P5YCtT+WArU/lgK1P5YCtT+WArU/lgK1P5YCtT+WArU/lgK1P5YCtT+WArU/lgK1P5YCtT+WArU/lgK1P5YCtT+WArU/lgK1P5YCtT+WArU/lgK1P5YCtT+WArU/lgK1P5YCtT+WArU/lgK1P5YCtT+WArU/lgK1P5YCtT+WArU/lgK1P5YCtT+WArU/lgK1Pw==",
          "dtype": "f4"
         },
         "z": {
          "bdata": "8MsT31skmN5VjXjfFBE93teLgt6xTEfe32AF3QdMm15eByxf4jWVX2/a2l97ERdg63o8YK00cmD29JNgg2SwYHIJ0GA3CO9gxt8HYWyMGWEWbSlhW3w6YSSSS2FaA11hfuxtYTaQfmERMYdhRx6QYZ3JlmG/Up1h6CGkYSL9qWFmeq9hzyG1YcIpuWHjCL1h7FLAYXU+w2EntMVhMlDHYcSoyGEsi8lhlczJYSbtyWHttMlh9uDIYdn7x2G4P8dhYsXFYeVtxGHQnsJhGi3BYUROv2GL17xhHqC7Ye1UuWGs7rZhR0q1Yc3ysmGVp7Bhoe+tYT8sq2EvO6hhECSlYbPDoWG/Lpxhhl+aYbQMl2EVfpJhKl+OYT5himFLFIZhxOKAYSqVeWG3t3BhjtJlYVRpXWHHW1RhSh9KYeRSQWHkADZhO9gqYabLImGe3xdhmxMOYezSBGHUAfhg43PlYJ2c0mC5G7xgs2+rYMd/nGDguIVgCgdhYOKmPWBLDh9g9MvpX6PDr19mesJfKPtdXw==",
          "dtype": "f4"
         }
        },
        {
         "line": {
          "cmax": 670368756202190400000,
          "cmin": -25347782625957250000,
          "color": {
           "bdata": "Av0X31gfn96hPoHfZe9N3rOVj94cbWbe2qmB3b54il6TvCZfzr2SXwia2V/sHxhgxAk/YGtUdGDipJVghtayYHcw02AeH/Ng6VwKYet/HGHS6yxhNoM+YYlIUGHiTmJhI9RzYViJgmH/z4phd+GTYR4Qm2Fj8aFhzBmpYedsr2HHS7VhFmG7Ydi9v2HfAcRhgbHHYVTlymEIps1h+5rPYdE50WGFV9JhP83SYdcY02Hy8NJhMDTSYQFQ0WEkhdBhuffOYat2zWEVgcthqtTJYVK2x2Gm9cRhM1DDYUjHwGHftr1hNK27YfzouGEwKrZhsf2yYafbr2EqgaxhNwapYdBKpWGFYp9hVEydYa2bmWH87JRhNaKQYQaCjGEpF4hhx+CCYSpSfWFyY3Rh46dpYds1YWE7YlhhrVBOYVGWRWHeczphsYwvYUmMJ2E10RxhMxcTYXfLCWEKDwFhdUPvYLtT3GD6VsVg8C60YO7JpGCrI41g7QJuYEWgSWA2xChg1ar4X03BuV8m1MpfAyVnXw==",
           "dtype": "f4"
          },
          "colorscale": [
           [
            0,
            "#440154"
           ],
           [
            0.1111111111111111,
            "#482878"
           ],
           [
            0.2222222222222222,
            "#3e4989"
           ],
           [
            0.3333333333333333,
            "#31688e"
           ],
           [
            0.4444444444444444,
            "#26828e"
           ],
           [
            0.5555555555555556,
            "#1f9e89"
           ],
           [
            0.6666666666666666,
            "#35b779"
           ],
           [
            0.7777777777777778,
            "#6ece58"
           ],
           [
            0.8888888888888888,
            "#b5de2b"
           ],
           [
            1,
            "#fde725"
           ]
          ],
          "showscale": false,
          "width": 4
         },
         "mode": "lines",
         "showlegend": false,
         "type": "scatter3d",
         "x": {
          "bdata": "AAAAALooDiy6KI4sFz3VLLooDi3osjEtFz1VLUbHeC26KI4t0e2fLeiysS0AeMMtFz3VLS4C5y1Gx/gtLkYFLrooDi5GCxcu0e0fLl3QKC7osjEudJU6LgB4Qy6LWkwuFz1VLqMfXi4uAmcuuuRvLkbHeC7p1IAuLkaFLnS3iS66KI4uAJqSLkYLly6LfJsu0e2fLhdfpC5d0Kguo0GtLuiysS4uJLYudJW6LroGvy4AeMMuRunHLotazC7Ry9AuFz3VLl2u2S6hH94u55DiLi0C5y5zc+suuOTvLv5V9C5Ex/guijj9LujUAC+LDQMvLkYFL9B+By90twkvFvALL7ooDi9cYRAv/5kSL6LSFC9FCxcv6EMZL4p8Gy8utR0v0O0fL3QmIi8WXyQvuZcmL1zQKC//CCsvokEtL0V6Ly/osjEvi+szLy4kNi/QXDgvdJU6LxbOPC+5Bj8vXD9BL/93Qy+isEUvRelHL+ghSi+LWkwvLpNOL9DLUC9zBFMvFj1VL7l1Vy9crlkv/+ZbLw==",
          "dtype": "f4"
         },
         "y": {
          "bdata": "Yt7OP2Lezj9i3s4/Yt7OP2Lezj9i3s4/Yt7OP2Lezj9i3s4/Yt7OP2Lezj9i3s4/Yt7OP2Lezj9i3s4/Yt7OP2Lezj9i3s4/Yt7OP2Lezj9i3s4/Yt7OP2Lezj9i3s4/Yt7OP2Lezj9i3s4/Yt7OP2Lezj9i3s4/Yt7OP2Lezj9i3s4/Yt7OP2Lezj9i3s4/Yt7OP2Lezj9i3s4/Yt7OP2Lezj9i3s4/Yt7OP2Lezj9i3s4/Yt7OP2Lezj9i3s4/Yt7OP2Lezj9i3s4/Yt7OP2Lezj9i3s4/Yt7OP2Lezj9i3s4/Yt7OP2Lezj9i3s4/Yt7OP2Lezj9i3s4/Yt7OP2Lezj9i3s4/Yt7OP2Lezj9i3s4/Yt7OP2Lezj9i3s4/Yt7OP2Lezj9i3s4/Yt7OP2Lezj9i3s4/Yt7OP2Lezj9i3s4/Yt7OP2Lezj9i3s4/Yt7OP2Lezj9i3s4/Yt7OP2Lezj9i3s4/Yt7OP2Lezj9i3s4/Yt7OP2Lezj9i3s4/Yt7OP2Lezj9i3s4/Yt7OPw==",
          "dtype": "f4"
         },
         "z": {
          "bdata": "Av0X31gfn96hPoHfZe9N3rOVj94cbWbe2qmB3b54il6TvCZfzr2SXwia2V/sHxhgxAk/YGtUdGDipJVghtayYHcw02AeH/Ng6VwKYet/HGHS6yxhNoM+YYlIUGHiTmJhI9RzYViJgmH/z4phd+GTYR4Qm2Fj8aFhzBmpYedsr2HHS7VhFmG7Ydi9v2HfAcRhgbHHYVTlymEIps1h+5rPYdE50WGFV9JhP83SYdcY02Hy8NJhMDTSYQFQ0WEkhdBhuffOYat2zWEVgcthqtTJYVK2x2Gm9cRhM1DDYUjHwGHftr1hNK27YfzouGEwKrZhsf2yYafbr2EqgaxhNwapYdBKpWGFYp9hVEydYa2bmWH87JRhNaKQYQaCjGEpF4hhx+CCYSpSfWFyY3Rh46dpYds1YWE7YlhhrVBOYVGWRWHeczphsYwvYUmMJ2E10RxhMxcTYXfLCWEKDwFhdUPvYLtT3GD6VsVg8C60YO7JpGCrI41g7QJuYEWgSWA2xChg1ar4X03BuV8m1MpfAyVnXw==",
          "dtype": "f4"
         }
        },
        {
         "line": {
          "cmax": 670368756202190400000,
          "cmin": -25347782625957250000,
          "color": {
           "bdata": "4ewa3z3bpd6Um4Xfb5Bk3taLoN7Zxojeuqrk3QvQWl6l8RhfA/WKX7Ky0V/kNBVgai49YNrucGAsL5RgwbexYK1a0mAHy/JgpG8KYZjSHGGVki1hlYA/YSy/UWEiKGRhlBl2YTzig2HycIxhapCVYdYunWHPWKRhVcirYRSFsmGftrhh1iq/YQvVw2GRdchhWYLMYbT6z2FD/9JhlU7VYWQ012EUjthhsD3ZYZO92WHJrNlhOxPZYWI82GH7cddhaOPVYWFM1GGXRdJhqG/QYeQpzmEAO8thDD3JYYKSxmGG88JhR5bAYUd9vWGyYLphkdm2YS5ps2GYtq9hT+mrYQbip2HNwKFhmmKfYe9gm2EimJZhHymSYRLsjWGBaIlhojGEYV7Bf2HBxHZh6DdsYZ7GY2FpK1thTEhRYSqqSGGVuT1hWB4zYWgvK2GKryBhKhEXYZLDDWFZJgVhJ0b3YPxU5GApFs1gIn27YHi3q2BnZpNgOP94YPrZU2CtBzFgmKMCYC/7wV+GgNFfTf5tXw==",
           "dtype": "f4"
          },
          "colorscale": [
           [
            0,
            "#440154"
           ],
           [
            0.1111111111111111,
            "#482878"
           ],
           [
            0.2222222222222222,
            "#3e4989"
           ],
           [
            0.3333333333333333,
            "#31688e"
           ],
           [
            0.4444444444444444,
            "#26828e"
           ],
           [
            0.5555555555555556,
            "#1f9e89"
           ],
           [
            0.6666666666666666,
            "#35b779"
           ],
           [
            0.7777777777777778,
            "#6ece58"
           ],
           [
            0.8888888888888888,
            "#b5de2b"
           ],
           [
            1,
            "#fde725"
           ]
          ],
          "showscale": false,
          "width": 4
         },
         "mode": "lines",
         "showlegend": false,
         "type": "scatter3d",
         "x": {
          "bdata": "AAAAALooDiy6KI4sFz3VLLooDi3osjEtFz1VLUbHeC26KI4t0e2fLeiysS0AeMMtFz3VLS4C5y1Gx/gtLkYFLrooDi5GCxcu0e0fLl3QKC7osjEudJU6LgB4Qy6LWkwuFz1VLqMfXi4uAmcuuuRvLkbHeC7p1IAuLkaFLnS3iS66KI4uAJqSLkYLly6LfJsu0e2fLhdfpC5d0Kguo0GtLuiysS4uJLYudJW6LroGvy4AeMMuRunHLotazC7Ry9AuFz3VLl2u2S6hH94u55DiLi0C5y5zc+suuOTvLv5V9C5Ex/guijj9LujUAC+LDQMvLkYFL9B+By90twkvFvALL7ooDi9cYRAv/5kSL6LSFC9FCxcv6EMZL4p8Gy8utR0v0O0fL3QmIi8WXyQvuZcmL1zQKC//CCsvokEtL0V6Ly/osjEvi+szLy4kNi/QXDgvdJU6LxbOPC+5Bj8vXD9BL/93Qy+isEUvRelHL+ghSi+LWkwvLpNOL9DLUC9zBFMvFj1VL7l1Vy9crlkv/+ZbLw==",
          "dtype": "f4"
         },
         "y": {
          "bdata": "LrroPy666D8uuug/LrroPy666D8uuug/LrroPy666D8uuug/LrroPy666D8uuug/LrroPy666D8uuug/LrroPy666D8uuug/LrroPy666D8uuug/LrroPy666D8uuug/LrroPy666D8uuug/LrroPy666D8uuug/LrroPy666D8uuug/LrroPy666D8uuug/LrroPy666D8uuug/LrroPy666D8uuug/LrroPy666D8uuug/LrroPy666D8uuug/LrroPy666D8uuug/LrroPy666D8uuug/LrroPy666D8uuug/LrroPy666D8uuug/LrroPy666D8uuug/LrroPy666D8uuug/LrroPy666D8uuug/LrroPy666D8uuug/LrroPy666D8uuug/LrroPy666D8uuug/LrroPy666D8uuug/LrroPy666D8uuug/LrroPy666D8uuug/LrroPy666D8uuug/LrroPy666D8uuug/LrroPy666D8uuug/LrroPy666D8uuug/LrroPw==",
          "dtype": "f4"
         },
         "z": {
          "bdata": "4ewa3z3bpd6Um4Xfb5Bk3taLoN7Zxojeuqrk3QvQWl6l8RhfA/WKX7Ky0V/kNBVgai49YNrucGAsL5RgwbexYK1a0mAHy/JgpG8KYZjSHGGVki1hlYA/YSy/UWEiKGRhlBl2YTzig2HycIxhapCVYdYunWHPWKRhVcirYRSFsmGftrhh1iq/YQvVw2GRdchhWYLMYbT6z2FD/9JhlU7VYWQ012EUjthhsD3ZYZO92WHJrNlhOxPZYWI82GH7cddhaOPVYWFM1GGXRdJhqG/QYeQpzmEAO8thDD3JYYKSxmGG88JhR5bAYUd9vWGyYLphkdm2YS5ps2GYtq9hT+mrYQbip2HNwKFhmmKfYe9gm2EimJZhHymSYRLsjWGBaIlhojGEYV7Bf2HBxHZh6DdsYZ7GY2FpK1thTEhRYSqqSGGVuT1hWB4zYWgvK2GKryBhKhEXYZLDDWFZJgVhJ0b3YPxU5GApFs1gIn27YHi3q2BnZpNgOP94YPrZU2CtBzFgmKMCYC/7wV+GgNFfTf5tXw==",
          "dtype": "f4"
         }
        },
        {
         "line": {
          "cmax": 670368756202190400000,
          "cmin": -25347782625957250000,
          "color": {
           "bdata": "NOIc3y87rN6PYInfDQ9+3riCs96QgKHeEQcu3tttEl6W2QVfrKZ/X6OGxV8mog9gnj44YHTWaWBAmJBgnieuYKnFzmDUZO9gCNIIYW1NG2E0Nyxhj1U+YZfhUGEzh2NhbcB1YUnag2FIn4xhdb6VYZG5nWERIKVhxsisYfzgs2HUWLphHR7BYbEPxmEFBMthtWXPYQgf02H+YNZh0QjZYUQ022EkydxhzLTdYfls3mFieN5hhwjeYatG3WHFhtxhXgLbYVNi2WGbV9dhVGPVYdYG02HC+89hrrTNYVj2ymHB4cZhiT/EYY/iwGHnd71hAKm5YeP1tWF4+LFh7uWtYV6eqWH4U6NhvLGgYXBnnGFDjJdhjv+SYfaqjmEDFIphat+EYT19gGHJ9ndh1pxtYZM3ZWEz1Vxh2CVTYaquSmHd8z9h8aw1YdXXLWGNmyNhOyIaYWLdEGFsZwhhFrr9YODb6mCOh9Ng543BYLB7sWCRqphgDiOBYHCLXGDiCzhgHPsHYO68yF/1ztZf5P5yXw==",
           "dtype": "f4"
          },
          "colorscale": [
           [
            0,
            "#440154"
           ],
           [
            0.1111111111111111,
            "#482878"
           ],
           [
            0.2222222222222222,
            "#3e4989"
           ],
           [
            0.3333333333333333,
            "#31688e"
           ],
           [
            0.4444444444444444,
            "#26828e"
           ],
           [
            0.5555555555555556,
            "#1f9e89"
           ],
           [
            0.6666666666666666,
            "#35b779"
           ],
           [
            0.7777777777777778,
            "#6ece58"
           ],
           [
            0.8888888888888888,
            "#b5de2b"
           ],
           [
            1,
            "#fde725"
           ]
          ],
          "showscale": false,
          "width": 4
         },
         "mode": "lines",
         "showlegend": false,
         "type": "scatter3d",
         "x": {
          "bdata": "AAAAALooDiy6KI4sFz3VLLooDi3osjEtFz1VLUbHeC26KI4t0e2fLeiysS0AeMMtFz3VLS4C5y1Gx/gtLkYFLrooDi5GCxcu0e0fLl3QKC7osjEudJU6LgB4Qy6LWkwuFz1VLqMfXi4uAmcuuuRvLkbHeC7p1IAuLkaFLnS3iS66KI4uAJqSLkYLly6LfJsu0e2fLhdfpC5d0Kguo0GtLuiysS4uJLYudJW6LroGvy4AeMMuRunHLotazC7Ry9AuFz3VLl2u2S6hH94u55DiLi0C5y5zc+suuOTvLv5V9C5Ex/guijj9LujUAC+LDQMvLkYFL9B+By90twkvFvALL7ooDi9cYRAv/5kSL6LSFC9FCxcv6EMZL4p8Gy8utR0v0O0fL3QmIi8WXyQvuZcmL1zQKC//CCsvokEtL0V6Ly/osjEvi+szLy4kNi/QXDgvdJU6LxbOPC+5Bj8vXD9BL/93Qy+isEUvRelHL+ghSi+LWkwvLpNOL9DLUC9zBFMvFj1VL7l1Vy9crlkv/+ZbLw==",
          "dtype": "f4"
         },
         "y": {
          "bdata": "/UoBQP1KAUD9SgFA/UoBQP1KAUD9SgFA/UoBQP1KAUD9SgFA/UoBQP1KAUD9SgFA/UoBQP1KAUD9SgFA/UoBQP1KAUD9SgFA/UoBQP1KAUD9SgFA/UoBQP1KAUD9SgFA/UoBQP1KAUD9SgFA/UoBQP1KAUD9SgFA/UoBQP1KAUD9SgFA/UoBQP1KAUD9SgFA/UoBQP1KAUD9SgFA/UoBQP1KAUD9SgFA/UoBQP1KAUD9SgFA/UoBQP1KAUD9SgFA/UoBQP1KAUD9SgFA/UoBQP1KAUD9SgFA/UoBQP1KAUD9SgFA/UoBQP1KAUD9SgFA/UoBQP1KAUD9SgFA/UoBQP1KAUD9SgFA/UoBQP1KAUD9SgFA/UoBQP1KAUD9SgFA/UoBQP1KAUD9SgFA/UoBQP1KAUD9SgFA/UoBQP1KAUD9SgFA/UoBQP1KAUD9SgFA/UoBQP1KAUD9SgFA/UoBQP1KAUD9SgFA/UoBQP1KAUD9SgFA/UoBQP1KAUD9SgFA/UoBQP1KAUD9SgFA/UoBQA==",
          "dtype": "f4"
         },
         "z": {
          "bdata": "NOIc3y87rN6PYInfDQ9+3riCs96QgKHeEQcu3tttEl6W2QVfrKZ/X6OGxV8mog9gnj44YHTWaWBAmJBgnieuYKnFzmDUZO9gCNIIYW1NG2E0Nyxhj1U+YZfhUGEzh2NhbcB1YUnag2FIn4xhdb6VYZG5nWERIKVhxsisYfzgs2HUWLphHR7BYbEPxmEFBMthtWXPYQgf02H+YNZh0QjZYUQ022EkydxhzLTdYfls3mFieN5hhwjeYatG3WHFhtxhXgLbYVNi2WGbV9dhVGPVYdYG02HC+89hrrTNYVj2ymHB4cZhiT/EYY/iwGHnd71hAKm5YeP1tWF4+LFh7uWtYV6eqWH4U6NhvLGgYXBnnGFDjJdhjv+SYfaqjmEDFIphat+EYT19gGHJ9ndh1pxtYZM3ZWEz1Vxh2CVTYaquSmHd8z9h8aw1YdXXLWGNmyNhOyIaYWLdEGFsZwhhFrr9YODb6mCOh9Ng543BYLB7sWCRqphgDiOBYHCLXGDiCzhgHPsHYO68yF/1ztZf5P5yXw==",
          "dtype": "f4"
         }
        },
        {
         "line": {
          "cmax": 670368756202190400000,
          "cmin": -25347782625957250000,
          "color": {
           "bdata": "OiIe3+swst74mozfNxuM3pD6xt7BMLvelrxt3njkh10MOuBed+5lXy8Qt186iwhgoHMxYBqYYGAhv4tgiB6pYIyDyWBeGOpgTCYGYaifGGEolClhEcc7Ycx+TmG1RWFhA6xzYbnngmHk1Ith6umUYfAwnWF6yqRhzqGsYSIItGH4u7phAsbBYeP5xmG0OcxhuujQYajf1GGEWdhhK1bbYQzF3WGek99hsLvgYS6t4WGn2OFh5ZXhYZXt4GHSPuBhr8veYQor3WGFJNthzBjZYUCx1mFkldNhzA/RYddCzmE3zslhWvHGYY9bw2E/rb9hn6O7YXG1t2FfdrNhhSevYa2nqmFwPKRhb1uhYXTNnGF+5pdh20CTYbXYjmF/Moph2wCFYRqVgGGuJXhhygBuYSCxZWHvh11h7BBUYWfJS2EaR0FhFls3YeKnL2FvtSVhBGkcYQ03E2GI7gphMWkBYbEZ8GBK0thg1YnGYJU+tmDgD51gbAeFYCDiY2A0+D1g4HsMYIk7zl8VAttfApF2Xw==",
           "dtype": "f4"
          },
          "colorscale": [
           [
            0,
            "#440154"
           ],
           [
            0.1111111111111111,
            "#482878"
           ],
           [
            0.2222222222222222,
            "#3e4989"
           ],
           [
            0.3333333333333333,
            "#31688e"
           ],
           [
            0.4444444444444444,
            "#26828e"
           ],
           [
            0.5555555555555556,
            "#1f9e89"
           ],
           [
            0.6666666666666666,
            "#35b779"
           ],
           [
            0.7777777777777778,
            "#6ece58"
           ],
           [
            0.8888888888888888,
            "#b5de2b"
           ],
           [
            1,
            "#fde725"
           ]
          ],
          "showscale": false,
          "width": 4
         },
         "mode": "lines",
         "showlegend": false,
         "type": "scatter3d",
         "x": {
          "bdata": "AAAAALooDiy6KI4sFz3VLLooDi3osjEtFz1VLUbHeC26KI4t0e2fLeiysS0AeMMtFz3VLS4C5y1Gx/gtLkYFLrooDi5GCxcu0e0fLl3QKC7osjEudJU6LgB4Qy6LWkwuFz1VLqMfXi4uAmcuuuRvLkbHeC7p1IAuLkaFLnS3iS66KI4uAJqSLkYLly6LfJsu0e2fLhdfpC5d0Kguo0GtLuiysS4uJLYudJW6LroGvy4AeMMuRunHLotazC7Ry9AuFz3VLl2u2S6hH94u55DiLi0C5y5zc+suuOTvLv5V9C5Ex/guijj9LujUAC+LDQMvLkYFL9B+By90twkvFvALL7ooDi9cYRAv/5kSL6LSFC9FCxcv6EMZL4p8Gy8utR0v0O0fL3QmIi8WXyQvuZcmL1zQKC//CCsvokEtL0V6Ly/osjEvi+szLy4kNi/QXDgvdJU6LxbOPC+5Bj8vXD9BL/93Qy+isEUvRelHL+ghSi+LWkwvLpNOL9DLUC9zBFMvFj1VL7l1Vy9crlkv/+ZbLw==",
          "dtype": "f4"
         },
         "y": {
          "bdata": "4zgOQOM4DkDjOA5A4zgOQOM4DkDjOA5A4zgOQOM4DkDjOA5A4zgOQOM4DkDjOA5A4zgOQOM4DkDjOA5A4zgOQOM4DkDjOA5A4zgOQOM4DkDjOA5A4zgOQOM4DkDjOA5A4zgOQOM4DkDjOA5A4zgOQOM4DkDjOA5A4zgOQOM4DkDjOA5A4zgOQOM4DkDjOA5A4zgOQOM4DkDjOA5A4zgOQOM4DkDjOA5A4zgOQOM4DkDjOA5A4zgOQOM4DkDjOA5A4zgOQOM4DkDjOA5A4zgOQOM4DkDjOA5A4zgOQOM4DkDjOA5A4zgOQOM4DkDjOA5A4zgOQOM4DkDjOA5A4zgOQOM4DkDjOA5A4zgOQOM4DkDjOA5A4zgOQOM4DkDjOA5A4zgOQOM4DkDjOA5A4zgOQOM4DkDjOA5A4zgOQOM4DkDjOA5A4zgOQOM4DkDjOA5A4zgOQOM4DkDjOA5A4zgOQOM4DkDjOA5A4zgOQOM4DkDjOA5A4zgOQOM4DkDjOA5A4zgOQOM4DkDjOA5A4zgOQA==",
          "dtype": "f4"
         },
         "z": {
          "bdata": "OiIe3+swst74mozfNxuM3pD6xt7BMLvelrxt3njkh10MOuBed+5lXy8Qt186iwhgoHMxYBqYYGAhv4tgiB6pYIyDyWBeGOpgTCYGYaifGGEolClhEcc7Ycx+TmG1RWFhA6xzYbnngmHk1Ith6umUYfAwnWF6yqRhzqGsYSIItGH4u7phAsbBYeP5xmG0OcxhuujQYajf1GGEWdhhK1bbYQzF3WGek99hsLvgYS6t4WGn2OFh5ZXhYZXt4GHSPuBhr8veYQor3WGFJNthzBjZYUCx1mFkldNhzA/RYddCzmE3zslhWvHGYY9bw2E/rb9hn6O7YXG1t2FfdrNhhSevYa2nqmFwPKRhb1uhYXTNnGF+5pdh20CTYbXYjmF/Moph2wCFYRqVgGGuJXhhygBuYSCxZWHvh11h7BBUYWfJS2EaR0FhFls3YeKnL2FvtSVhBGkcYQ03E2GI7gphMWkBYbEZ8GBK0thg1YnGYJU+tmDgD51gbAeFYCDiY2A0+D1g4HsMYIk7zl8VAttfApF2Xw==",
          "dtype": "f4"
         }
        },
        {
         "line": {
          "cmax": 670368756202190400000,
          "cmin": -25347782625957250000,
          "color": {
           "bdata": "P+ce3zqxt948XI/fIMKY3hPm2d5bTtTeyYeW3ovJLNzKZbNe1ShLX7TJp19bzwBgpsYpYE9iVmCIToZg71ujYO5nw2AizuNgX+oCYQ5RFWG0OiZh2244YXs5S2GeDl5h4I5wYU5ngWG6cYphjXWTYZL6m2Ggv6NhcL2rYSlms2FvTbphtZHBYWQDx2Emh8xhzXzRYR6u1WEJW9lhSqjcYR1Y32GTXuFhdcLiYc3s42ErO+RhFSfkYQSb42G8AeNhUqThYXAI4GEWC95hMezbYcqB2WEUXNZhQJ/TYYvE0GEKAcxhn/DIYSYpxWHSPcFhFgK9YZTduGHIYrRhR92vYSsqq2F1oaRhrYahYUC3nGFLyZdhkA2TYSSUjmEi4YlhaLGEYf5BgGGAgndhc5JtYYJeZWG+bV1hljFUYUgfTGHx1UFhVUk4YSW+MGFzGSdhrf8dYR3pFGF20gxhmVsDYVo09GARFN1ghY7KYPUcumCurKBgjj+IYNb/aWAx6EJgmTsQYEya0l+gTN5f/wh5Xw==",
           "dtype": "f4"
          },
          "colorscale": [
           [
            0,
            "#440154"
           ],
           [
            0.1111111111111111,
            "#482878"
           ],
           [
            0.2222222222222222,
            "#3e4989"
           ],
           [
            0.3333333333333333,
            "#31688e"
           ],
           [
            0.4444444444444444,
            "#26828e"
           ],
           [
            0.5555555555555556,
            "#1f9e89"
           ],
           [
            0.6666666666666666,
            "#35b779"
           ],
           [
            0.7777777777777778,
            "#6ece58"
           ],
           [
            0.8888888888888888,
            "#b5de2b"
           ],
           [
            1,
            "#fde725"
           ]
          ],
          "showscale": false,
          "width": 4
         },
         "mode": "lines",
         "showlegend": false,
         "type": "scatter3d",
         "x": {
          "bdata": "AAAAALooDiy6KI4sFz3VLLooDi3osjEtFz1VLUbHeC26KI4t0e2fLeiysS0AeMMtFz3VLS4C5y1Gx/gtLkYFLrooDi5GCxcu0e0fLl3QKC7osjEudJU6LgB4Qy6LWkwuFz1VLqMfXi4uAmcuuuRvLkbHeC7p1IAuLkaFLnS3iS66KI4uAJqSLkYLly6LfJsu0e2fLhdfpC5d0Kguo0GtLuiysS4uJLYudJW6LroGvy4AeMMuRunHLotazC7Ry9AuFz3VLl2u2S6hH94u55DiLi0C5y5zc+suuOTvLv5V9C5Ex/guijj9LujUAC+LDQMvLkYFL9B+By90twkvFvALL7ooDi9cYRAv/5kSL6LSFC9FCxcv6EMZL4p8Gy8utR0v0O0fL3QmIi8WXyQvuZcmL1zQKC//CCsvokEtL0V6Ly/osjEvi+szLy4kNi/QXDgvdJU6LxbOPC+5Bj8vXD9BL/93Qy+isEUvRelHL+ghSi+LWkwvLpNOL9DLUC9zBFMvFj1VL7l1Vy9crlkv/+ZbLw==",
          "dtype": "f4"
         },
         "y": {
          "bdata": "yiYbQMomG0DKJhtAyiYbQMomG0DKJhtAyiYbQMomG0DKJhtAyiYbQMomG0DKJhtAyiYbQMomG0DKJhtAyiYbQMomG0DKJhtAyiYbQMomG0DKJhtAyiYbQMomG0DKJhtAyiYbQMomG0DKJhtAyiYbQMomG0DKJhtAyiYbQMomG0DKJhtAyiYbQMomG0DKJhtAyiYbQMomG0DKJhtAyiYbQMomG0DKJhtAyiYbQMomG0DKJhtAyiYbQMomG0DKJhtAyiYbQMomG0DKJhtAyiYbQMomG0DKJhtAyiYbQMomG0DKJhtAyiYbQMomG0DKJhtAyiYbQMomG0DKJhtAyiYbQMomG0DKJhtAyiYbQMomG0DKJhtAyiYbQMomG0DKJhtAyiYbQMomG0DKJhtAyiYbQMomG0DKJhtAyiYbQMomG0DKJhtAyiYbQMomG0DKJhtAyiYbQMomG0DKJhtAyiYbQMomG0DKJhtAyiYbQMomG0DKJhtAyiYbQMomG0DKJhtAyiYbQMomG0DKJhtAyiYbQA==",
          "dtype": "f4"
         },
         "z": {
          "bdata": "P+ce3zqxt948XI/fIMKY3hPm2d5bTtTeyYeW3ovJLNzKZbNe1ShLX7TJp19bzwBgpsYpYE9iVmCIToZg71ujYO5nw2AizuNgX+oCYQ5RFWG0OiZh2244YXs5S2GeDl5h4I5wYU5ngWG6cYphjXWTYZL6m2Ggv6NhcL2rYSlms2FvTbphtZHBYWQDx2Emh8xhzXzRYR6u1WEJW9lhSqjcYR1Y32GTXuFhdcLiYc3s42ErO+RhFSfkYQSb42G8AeNhUqThYXAI4GEWC95hMezbYcqB2WEUXNZhQJ/TYYvE0GEKAcxhn/DIYSYpxWHSPcFhFgK9YZTduGHIYrRhR92vYSsqq2F1oaRhrYahYUC3nGFLyZdhkA2TYSSUjmEi4YlhaLGEYf5BgGGAgndhc5JtYYJeZWG+bV1hljFUYUgfTGHx1UFhVUk4YSW+MGFzGSdhrf8dYR3pFGF20gxhmVsDYVo09GARFN1ghY7KYPUcumCurKBgjj+IYNb/aWAx6EJgmTsQYEya0l+gTN5f/wh5Xw==",
          "dtype": "f4"
         }
        },
        {
         "line": {
          "cmax": 670368756202190400000,
          "cmin": -25347782625957250000,
          "color": {
           "bdata": "VV4f32u2vN77tZHfVYWk3q2a69584Ove5ZK03nL6q91T3YdeQfcwX7W1mF/PEvJfUughYHcHTGCKvYBgPmadYJAHvWAZKt1gcO7+YIfBEWHUkSJhQro0YRaGR2FyXFphDOlsYVA3f2H/uohhpqiRYX5gmmH3SqJhDGmqYQ5KsmG+XblhotPAYfp+xmEeQMxhh3bRYTHf1WFWu9lhvFTdYftC4GGLf+JhLx7kYSqA5WFu8+Vhng7mYWmg5WFzH+Vhh9rjYdxG4mGwVeBhfSbeYdO+22FMk9hhe6TVYRi70mEmts1hoHbKYfSBxmG1XcJhO/W9YU+duWFe6rRhiTGwYQROq2EpqKRhpVehYb1HnGErVZdhgISSYYP6jWGWO4lhhwuEYWE4f2EEO3ZhPn1sYZtnZGHWrFxhoKtTYdLQS2GpvkFhiJM4YR00MWHe3idhRvseYaUGFmG/JA5hS8MEYaRH92A+YuBgo7DNYJAqvWALkKNgxNeKYJ37bmAl7kZgR0gTYC7z1V8v0+Bfc6V6Xw==",
           "dtype": "f4"
          },
          "colorscale": [
           [
            0,
            "#440154"
           ],
           [
            0.1111111111111111,
            "#482878"
           ],
           [
            0.2222222222222222,
            "#3e4989"
           ],
           [
            0.3333333333333333,
            "#31688e"
           ],
           [
            0.4444444444444444,
            "#26828e"
           ],
           [
            0.5555555555555556,
            "#1f9e89"
           ],
           [
            0.6666666666666666,
            "#35b779"
           ],
           [
            0.7777777777777778,
            "#6ece58"
           ],
           [
            0.8888888888888888,
            "#b5de2b"
           ],
           [
            1,
            "#fde725"
           ]
          ],
          "showscale": false,
          "width": 4
         },
         "mode": "lines",
         "showlegend": false,
         "type": "scatter3d",
         "x": {
          "bdata": "AAAAALooDiy6KI4sFz3VLLooDi3osjEtFz1VLUbHeC26KI4t0e2fLeiysS0AeMMtFz3VLS4C5y1Gx/gtLkYFLrooDi5GCxcu0e0fLl3QKC7osjEudJU6LgB4Qy6LWkwuFz1VLqMfXi4uAmcuuuRvLkbHeC7p1IAuLkaFLnS3iS66KI4uAJqSLkYLly6LfJsu0e2fLhdfpC5d0Kguo0GtLuiysS4uJLYudJW6LroGvy4AeMMuRunHLotazC7Ry9AuFz3VLl2u2S6hH94u55DiLi0C5y5zc+suuOTvLv5V9C5Ex/guijj9LujUAC+LDQMvLkYFL9B+By90twkvFvALL7ooDi9cYRAv/5kSL6LSFC9FCxcv6EMZL4p8Gy8utR0v0O0fL3QmIi8WXyQvuZcmL1zQKC//CCsvokEtL0V6Ly/osjEvi+szLy4kNi/QXDgvdJU6LxbOPC+5Bj8vXD9BL/93Qy+isEUvRelHL+ghSi+LWkwvLpNOL9DLUC9zBFMvFj1VL7l1Vy9crlkv/+ZbLw==",
          "dtype": "f4"
         },
         "y": {
          "bdata": "sBQoQLAUKECwFChAsBQoQLAUKECwFChAsBQoQLAUKECwFChAsBQoQLAUKECwFChAsBQoQLAUKECwFChAsBQoQLAUKECwFChAsBQoQLAUKECwFChAsBQoQLAUKECwFChAsBQoQLAUKECwFChAsBQoQLAUKECwFChAsBQoQLAUKECwFChAsBQoQLAUKECwFChAsBQoQLAUKECwFChAsBQoQLAUKECwFChAsBQoQLAUKECwFChAsBQoQLAUKECwFChAsBQoQLAUKECwFChAsBQoQLAUKECwFChAsBQoQLAUKECwFChAsBQoQLAUKECwFChAsBQoQLAUKECwFChAsBQoQLAUKECwFChAsBQoQLAUKECwFChAsBQoQLAUKECwFChAsBQoQLAUKECwFChAsBQoQLAUKECwFChAsBQoQLAUKECwFChAsBQoQLAUKECwFChAsBQoQLAUKECwFChAsBQoQLAUKECwFChAsBQoQLAUKECwFChAsBQoQLAUKECwFChAsBQoQLAUKECwFChAsBQoQA==",
          "dtype": "f4"
         },
         "z": {
          "bdata": "VV4f32u2vN77tZHfVYWk3q2a69584Ove5ZK03nL6q91T3YdeQfcwX7W1mF/PEvJfUughYHcHTGCKvYBgPmadYJAHvWAZKt1gcO7+YIfBEWHUkSJhQro0YRaGR2FyXFphDOlsYVA3f2H/uohhpqiRYX5gmmH3SqJhDGmqYQ5KsmG+XblhotPAYfp+xmEeQMxhh3bRYTHf1WFWu9lhvFTdYftC4GGLf+JhLx7kYSqA5WFu8+Vhng7mYWmg5WFzH+Vhh9rjYdxG4mGwVeBhfSbeYdO+22FMk9hhe6TVYRi70mEmts1hoHbKYfSBxmG1XcJhO/W9YU+duWFe6rRhiTGwYQROq2EpqKRhpVehYb1HnGErVZdhgISSYYP6jWGWO4lhhwuEYWE4f2EEO3ZhPn1sYZtnZGHWrFxhoKtTYdLQS2GpvkFhiJM4YR00MWHe3idhRvseYaUGFmG/JA5hS8MEYaRH92A+YuBgo7DNYJAqvWALkKNgxNeKYJ37bmAl7kZgR0gTYC7z1V8v0+Bfc6V6Xw==",
          "dtype": "f4"
         }
        },
        {
         "line": {
          "cmax": 670368756202190400000,
          "cmin": -25347782625957250000,
          "color": {
           "bdata": "J6gf3609wd7ouJPf9Civ3p2++957sQDfkzTQ3jx4G954Yj5e/FUYXxhyil/KM+Nf7kgaYMQLQmDdrnZgFpOXYNXBtmDuldZgmAz4YOguDmGv3B5h3fAwYbWxQ2F9gFZhuw9pYYtie2E534ZhY7OPYTuVmGEZoKBhftmoYYfqsGHqJLhheMW/Ya+mxWGon8thzhHRYfeu1WFxt9lhqpjdYf7C4GH+M+NhGwzlYV2k5mHtPedhZojnYRk552Fb0uZhpqflYY4e5GFjO+JhKv7fYeyc3WHlbdphNVHXYXxX1GFSG89huq/LYauQx2EzNsNhDaS+YYQaumGCMbVhI0ewYZI0q2FccKRh4+ygYX6cm2HopZZhJ8CRYQAljWG4WYhhYyaDYVtxfWG5dnRhhuZqYZfuYmHcZVthX51SYYP5SmEbG0Fh/lA4Ye0eMWHRGChhDW0fYfaeFmGB8w5hhKwFYZJp+WBazeJgOgDQYGN2v2CExaVgPNmMYEzncmDZF0pgIawVYC1a2F9ZsOJfL5N7Xw==",
           "dtype": "f4"
          },
          "colorscale": [
           [
            0,
            "#440154"
           ],
           [
            0.1111111111111111,
            "#482878"
           ],
           [
            0.2222222222222222,
            "#3e4989"
           ],
           [
            0.3333333333333333,
            "#31688e"
           ],
           [
            0.4444444444444444,
            "#26828e"
           ],
           [
            0.5555555555555556,
            "#1f9e89"
           ],
           [
            0.6666666666666666,
            "#35b779"
           ],
           [
            0.7777777777777778,
            "#6ece58"
           ],
           [
            0.8888888888888888,
            "#b5de2b"
           ],
           [
            1,
            "#fde725"
           ]
          ],
          "showscale": false,
          "width": 4
         },
         "mode": "lines",
         "showlegend": false,
         "type": "scatter3d",
         "x": {
          "bdata": "AAAAALooDiy6KI4sFz3VLLooDi3osjEtFz1VLUbHeC26KI4t0e2fLeiysS0AeMMtFz3VLS4C5y1Gx/gtLkYFLrooDi5GCxcu0e0fLl3QKC7osjEudJU6LgB4Qy6LWkwuFz1VLqMfXi4uAmcuuuRvLkbHeC7p1IAuLkaFLnS3iS66KI4uAJqSLkYLly6LfJsu0e2fLhdfpC5d0Kguo0GtLuiysS4uJLYudJW6LroGvy4AeMMuRunHLotazC7Ry9AuFz3VLl2u2S6hH94u55DiLi0C5y5zc+suuOTvLv5V9C5Ex/guijj9LujUAC+LDQMvLkYFL9B+By90twkvFvALL7ooDi9cYRAv/5kSL6LSFC9FCxcv6EMZL4p8Gy8utR0v0O0fL3QmIi8WXyQvuZcmL1zQKC//CCsvokEtL0V6Ly/osjEvi+szLy4kNi/QXDgvdJU6LxbOPC+5Bj8vXD9BL/93Qy+isEUvRelHL+ghSi+LWkwvLpNOL9DLUC9zBFMvFj1VL7l1Vy9crlkv/+ZbLw==",
          "dtype": "f4"
         },
         "y": {
          "bdata": "lgI1QJYCNUCWAjVAlgI1QJYCNUCWAjVAlgI1QJYCNUCWAjVAlgI1QJYCNUCWAjVAlgI1QJYCNUCWAjVAlgI1QJYCNUCWAjVAlgI1QJYCNUCWAjVAlgI1QJYCNUCWAjVAlgI1QJYCNUCWAjVAlgI1QJYCNUCWAjVAlgI1QJYCNUCWAjVAlgI1QJYCNUCWAjVAlgI1QJYCNUCWAjVAlgI1QJYCNUCWAjVAlgI1QJYCNUCWAjVAlgI1QJYCNUCWAjVAlgI1QJYCNUCWAjVAlgI1QJYCNUCWAjVAlgI1QJYCNUCWAjVAlgI1QJYCNUCWAjVAlgI1QJYCNUCWAjVAlgI1QJYCNUCWAjVAlgI1QJYCNUCWAjVAlgI1QJYCNUCWAjVAlgI1QJYCNUCWAjVAlgI1QJYCNUCWAjVAlgI1QJYCNUCWAjVAlgI1QJYCNUCWAjVAlgI1QJYCNUCWAjVAlgI1QJYCNUCWAjVAlgI1QJYCNUCWAjVAlgI1QJYCNUCWAjVAlgI1QJYCNUCWAjVAlgI1QA==",
          "dtype": "f4"
         },
         "z": {
          "bdata": "J6gf3609wd7ouJPf9Civ3p2++957sQDfkzTQ3jx4G954Yj5e/FUYXxhyil/KM+Nf7kgaYMQLQmDdrnZgFpOXYNXBtmDuldZgmAz4YOguDmGv3B5h3fAwYbWxQ2F9gFZhuw9pYYtie2E534ZhY7OPYTuVmGEZoKBhftmoYYfqsGHqJLhheMW/Ya+mxWGon8thzhHRYfeu1WFxt9lhqpjdYf7C4GH+M+NhGwzlYV2k5mHtPedhZojnYRk552Fb0uZhpqflYY4e5GFjO+JhKv7fYeyc3WHlbdphNVHXYXxX1GFSG89huq/LYauQx2EzNsNhDaS+YYQaumGCMbVhI0ewYZI0q2FccKRh4+ygYX6cm2HopZZhJ8CRYQAljWG4WYhhYyaDYVtxfWG5dnRhhuZqYZfuYmHcZVthX51SYYP5SmEbG0Fh/lA4Ye0eMWHRGChhDW0fYfaeFmGB8w5hhKwFYZJp+WBazeJgOgDQYGN2v2CExaVgPNmMYEzncmDZF0pgIawVYC1a2F9ZsOJfL5N7Xw==",
          "dtype": "f4"
         }
        },
        {
         "line": {
          "cmax": 670368756202190400000,
          "cmin": -25347782625957250000,
          "color": {
           "bdata": "nNsf3zFIxd7hc5XfUZm43oAYBd82UQrfnRPp3sZCWt5BnuhdOcgBX1Gmel/6a9VfMCcTYGG5OGDdjWxgjROSYAHOsGBUT9BgqXLxYIm9CmFeQxthiT0tYSzrP2F5rFJhUzdlYV+Hd2F2+4RhKrSNYfu4lmEF4J5hoDCnYSFrr2Gfx7ZhaY2+Yf6gxGE6zcph3nbQYf1F1WHCeNlhyp3dYR8C4WE3puNhkLblYb2D52GyROhhOr7oYcCO6GGYQ+hhPzTnYW235WF/4+Nhg5rhYfpB32HNENxhpMnYYeO91WHxUdBh5bzMYT91yGF75sNhDCy/YTNyumFRVLVhFjmwYdz3qmHXEqRhf16gYcjMmmHC0ZVht9WQYd0njGHETodh9xSCYeBQe2GnVXJhwOxoYWsPYWFXs1lhkx9RYc2vSWFxAEBh0ZQ3YeGPMGEE1ydhPWMfYZS+FmFeSg9hViEGYT2s+mAoY+RgsIrRYMkMwWDVVqdgxEuOYAjSdWD2cExgpG8XYL3f2V/m9+NfGfJ7Xw==",
           "dtype": "f4"
          },
          "colorscale": [
           [
            0,
            "#440154"
           ],
           [
            0.1111111111111111,
            "#482878"
           ],
           [
            0.2222222222222222,
            "#3e4989"
           ],
           [
            0.3333333333333333,
            "#31688e"
           ],
           [
            0.4444444444444444,
            "#26828e"
           ],
           [
            0.5555555555555556,
            "#1f9e89"
           ],
           [
            0.6666666666666666,
            "#35b779"
           ],
           [
            0.7777777777777778,
            "#6ece58"
           ],
           [
            0.8888888888888888,
            "#b5de2b"
           ],
           [
            1,
            "#fde725"
           ]
          ],
          "showscale": false,
          "width": 4
         },
         "mode": "lines",
         "showlegend": false,
         "type": "scatter3d",
         "x": {
          "bdata": "AAAAALooDiy6KI4sFz3VLLooDi3osjEtFz1VLUbHeC26KI4t0e2fLeiysS0AeMMtFz3VLS4C5y1Gx/gtLkYFLrooDi5GCxcu0e0fLl3QKC7osjEudJU6LgB4Qy6LWkwuFz1VLqMfXi4uAmcuuuRvLkbHeC7p1IAuLkaFLnS3iS66KI4uAJqSLkYLly6LfJsu0e2fLhdfpC5d0Kguo0GtLuiysS4uJLYudJW6LroGvy4AeMMuRunHLotazC7Ry9AuFz3VLl2u2S6hH94u55DiLi0C5y5zc+suuOTvLv5V9C5Ex/guijj9LujUAC+LDQMvLkYFL9B+By90twkvFvALL7ooDi9cYRAv/5kSL6LSFC9FCxcv6EMZL4p8Gy8utR0v0O0fL3QmIi8WXyQvuZcmL1zQKC//CCsvokEtL0V6Ly/osjEvi+szLy4kNi/QXDgvdJU6LxbOPC+5Bj8vXD9BL/93Qy+isEUvRelHL+ghSi+LWkwvLpNOL9DLUC9zBFMvFj1VL7l1Vy9crlkv/+ZbLw==",
          "dtype": "f4"
         },
         "y": {
          "bdata": "fPBBQHzwQUB88EFAfPBBQHzwQUB88EFAfPBBQHzwQUB88EFAfPBBQHzwQUB88EFAfPBBQHzwQUB88EFAfPBBQHzwQUB88EFAfPBBQHzwQUB88EFAfPBBQHzwQUB88EFAfPBBQHzwQUB88EFAfPBBQHzwQUB88EFAfPBBQHzwQUB88EFAfPBBQHzwQUB88EFAfPBBQHzwQUB88EFAfPBBQHzwQUB88EFAfPBBQHzwQUB88EFAfPBBQHzwQUB88EFAfPBBQHzwQUB88EFAfPBBQHzwQUB88EFAfPBBQHzwQUB88EFAfPBBQHzwQUB88EFAfPBBQHzwQUB88EFAfPBBQHzwQUB88EFAfPBBQHzwQUB88EFAfPBBQHzwQUB88EFAfPBBQHzwQUB88EFAfPBBQHzwQUB88EFAfPBBQHzwQUB88EFAfPBBQHzwQUB88EFAfPBBQHzwQUB88EFAfPBBQHzwQUB88EFAfPBBQHzwQUB88EFAfPBBQHzwQUB88EFAfPBBQHzwQUB88EFAfPBBQA==",
          "dtype": "f4"
         },
         "z": {
          "bdata": "nNsf3zFIxd7hc5XfUZm43oAYBd82UQrfnRPp3sZCWt5BnuhdOcgBX1Gmel/6a9VfMCcTYGG5OGDdjWxgjROSYAHOsGBUT9BgqXLxYIm9CmFeQxthiT0tYSzrP2F5rFJhUzdlYV+Hd2F2+4RhKrSNYfu4lmEF4J5hoDCnYSFrr2Gfx7ZhaY2+Yf6gxGE6zcph3nbQYf1F1WHCeNlhyp3dYR8C4WE3puNhkLblYb2D52GyROhhOr7oYcCO6GGYQ+hhPzTnYW235WF/4+Nhg5rhYfpB32HNENxhpMnYYeO91WHxUdBh5bzMYT91yGF75sNhDCy/YTNyumFRVLVhFjmwYdz3qmHXEqRhf16gYcjMmmHC0ZVht9WQYd0njGHETodh9xSCYeBQe2GnVXJhwOxoYWsPYWFXs1lhkx9RYc2vSWFxAEBh0ZQ3YeGPMGEE1ydhPWMfYZS+FmFeSg9hViEGYT2s+mAoY+RgsIrRYMkMwWDVVqdgxEuOYAjSdWD2cExgpG8XYL3f2V/m9+NfGfJ7Xw==",
          "dtype": "f4"
         }
        },
        {
         "line": {
          "cmax": 670368756202190400000,
          "cmin": -25347782625957250000,
          "color": {
           "bdata": "Hggg37/byN4i9JbfUt3A3md8C99C0RLfGiX/3ucVid5+7kddE/vaXv3yYl9D6Mhfo50MYIgxMGAvP2Ng5v6MYPRGq2DEdMpgeULrYNB/B2Gs2hdhBbcpYfNLPGGn+05h2nxhYczEc2FJIINhjbyLYczelGFmHp1h7oKlYZvhrWGXXLVhfkO9YTiGw2EE4slhsL/PYY6+1GFaGtlhq3/dYUgc4WF68uNh/TnmYf866GFHJOlhpszpYeu96WF1j+lhVpzoYUUt52F+aeVhKRfjYaXI4GEXlt1h2SfaYVUI12E7ctFhErbNYQhHyWF/hcRhMKO/Yfm5umHbZ7Vh2RuwYcOrqmEKo6NhG7+fYffqmWEV6pRh1tWPYRYTi2H7KYZhSOaAYUfyeGG/8W9hk6hmYfXgXmEfq1dhqUZPYYAGSGHVgD5hNm82Yd2VL2EqJydhU+oeYaVwFmHHMw9hSCsGYVUg+2A+MeVguVzSYDn5wWCQTahgDTePYBzKd2DpBE5gHJsYYGSU2l+ZueRfXNl7Xw==",
           "dtype": "f4"
          },
          "colorscale": [
           [
            0,
            "#440154"
           ],
           [
            0.1111111111111111,
            "#482878"
           ],
           [
            0.2222222222222222,
            "#3e4989"
           ],
           [
            0.3333333333333333,
            "#31688e"
           ],
           [
            0.4444444444444444,
            "#26828e"
           ],
           [
            0.5555555555555556,
            "#1f9e89"
           ],
           [
            0.6666666666666666,
            "#35b779"
           ],
           [
            0.7777777777777778,
            "#6ece58"
           ],
           [
            0.8888888888888888,
            "#b5de2b"
           ],
           [
            1,
            "#fde725"
           ]
          ],
          "showscale": false,
          "width": 4
         },
         "mode": "lines",
         "showlegend": false,
         "type": "scatter3d",
         "x": {
          "bdata": "AAAAALooDiy6KI4sFz3VLLooDi3osjEtFz1VLUbHeC26KI4t0e2fLeiysS0AeMMtFz3VLS4C5y1Gx/gtLkYFLrooDi5GCxcu0e0fLl3QKC7osjEudJU6LgB4Qy6LWkwuFz1VLqMfXi4uAmcuuuRvLkbHeC7p1IAuLkaFLnS3iS66KI4uAJqSLkYLly6LfJsu0e2fLhdfpC5d0Kguo0GtLuiysS4uJLYudJW6LroGvy4AeMMuRunHLotazC7Ry9AuFz3VLl2u2S6hH94u55DiLi0C5y5zc+suuOTvLv5V9C5Ex/guijj9LujUAC+LDQMvLkYFL9B+By90twkvFvALL7ooDi9cYRAv/5kSL6LSFC9FCxcv6EMZL4p8Gy8utR0v0O0fL3QmIi8WXyQvuZcmL1zQKC//CCsvokEtL0V6Ly/osjEvi+szLy4kNi/QXDgvdJU6LxbOPC+5Bj8vXD9BL/93Qy+isEUvRelHL+ghSi+LWkwvLpNOL9DLUC9zBFMvFj1VL7l1Vy9crlkv/+ZbLw==",
          "dtype": "f4"
         },
         "y": {
          "bdata": "Yt5OQGLeTkBi3k5AYt5OQGLeTkBi3k5AYt5OQGLeTkBi3k5AYt5OQGLeTkBi3k5AYt5OQGLeTkBi3k5AYt5OQGLeTkBi3k5AYt5OQGLeTkBi3k5AYt5OQGLeTkBi3k5AYt5OQGLeTkBi3k5AYt5OQGLeTkBi3k5AYt5OQGLeTkBi3k5AYt5OQGLeTkBi3k5AYt5OQGLeTkBi3k5AYt5OQGLeTkBi3k5AYt5OQGLeTkBi3k5AYt5OQGLeTkBi3k5AYt5OQGLeTkBi3k5AYt5OQGLeTkBi3k5AYt5OQGLeTkBi3k5AYt5OQGLeTkBi3k5AYt5OQGLeTkBi3k5AYt5OQGLeTkBi3k5AYt5OQGLeTkBi3k5AYt5OQGLeTkBi3k5AYt5OQGLeTkBi3k5AYt5OQGLeTkBi3k5AYt5OQGLeTkBi3k5AYt5OQGLeTkBi3k5AYt5OQGLeTkBi3k5AYt5OQGLeTkBi3k5AYt5OQGLeTkBi3k5AYt5OQGLeTkBi3k5AYt5OQGLeTkBi3k5AYt5OQA==",
          "dtype": "f4"
         },
         "z": {
          "bdata": "Hggg37/byN4i9JbfUt3A3md8C99C0RLfGiX/3ucVid5+7kddE/vaXv3yYl9D6Mhfo50MYIgxMGAvP2Ng5v6MYPRGq2DEdMpgeULrYNB/B2Gs2hdhBbcpYfNLPGGn+05h2nxhYczEc2FJIINhjbyLYczelGFmHp1h7oKlYZvhrWGXXLVhfkO9YTiGw2EE4slhsL/PYY6+1GFaGtlhq3/dYUgc4WF68uNh/TnmYf866GFHJOlhpszpYeu96WF1j+lhVpzoYUUt52F+aeVhKRfjYaXI4GEXlt1h2SfaYVUI12E7ctFhErbNYQhHyWF/hcRhMKO/Yfm5umHbZ7Vh2RuwYcOrqmEKo6NhG7+fYffqmWEV6pRh1tWPYRYTi2H7KYZhSOaAYUfyeGG/8W9hk6hmYfXgXmEfq1dhqUZPYYAGSGHVgD5hNm82Yd2VL2EqJydhU+oeYaVwFmHHMw9hSCsGYVUg+2A+MeVguVzSYDn5wWCQTahgDTePYBzKd2DpBE5gHJsYYGSU2l+ZueRfXNl7Xw==",
          "dtype": "f4"
         }
        },
        {
         "line": {
          "cmax": 670368756202190400000,
          "cmin": -25347782625957250000,
          "color": {
           "bdata": "Qjgg35wBzN5wRZjfhwzI3mcaEd98RBrfp0cJ35zBod6xUg3cqty2Xs3ITV/oq71fBbAGYAN7KGB6zFpgvFuIYGc1pmDTEMVgd4jlYKp8BGE6qxRh8GYmYXLfOGGsekthJe5dYfwpcGEPVoFh6dWJYdsQk2HlZZthg9ujYTlarGHj8LNhsvW7YclkwmEv7chhE/zOYeko1GFOrdhhxE/dYVQj4WEgK+RhBKnmYQrd6GHE7+lh08bqYf/Z6mFZyephRfPpYWKT6GGW4OZhjIfkYdhD4mF/EN9h7H3bYWlJ2GFejdJhqqzOYRkXymEqJMVhmxnAYdEBu2HRe7Vhq/6vYRtfqmFxL6NhrRyfYW8EmWET/JNhLc2OYenyiWEl94RhCkx/YelqdmGGX21hqS1kYb91XGHyXlVhcSNNYVkNRmGaqzxhLe40YQY+LmF1FSZhug0eYYy/FWGfuQ5hgNMFYVfW+mBpReVgkYPSYMlHwmD2s6hgsqOPYPzeeGAe4E5g1DcZYBiI2l9GA+Vf8Fp7Xw==",
           "dtype": "f4"
          },
          "colorscale": [
           [
            0,
            "#440154"
           ],
           [
            0.1111111111111111,
            "#482878"
           ],
           [
            0.2222222222222222,
            "#3e4989"
           ],
           [
            0.3333333333333333,
            "#31688e"
           ],
           [
            0.4444444444444444,
            "#26828e"
           ],
           [
            0.5555555555555556,
            "#1f9e89"
           ],
           [
            0.6666666666666666,
            "#35b779"
           ],
           [
            0.7777777777777778,
            "#6ece58"
           ],
           [
            0.8888888888888888,
            "#b5de2b"
           ],
           [
            1,
            "#fde725"
           ]
          ],
          "showscale": false,
          "width": 4
         },
         "mode": "lines",
         "showlegend": false,
         "type": "scatter3d",
         "x": {
          "bdata": "AAAAALooDiy6KI4sFz3VLLooDi3osjEtFz1VLUbHeC26KI4t0e2fLeiysS0AeMMtFz3VLS4C5y1Gx/gtLkYFLrooDi5GCxcu0e0fLl3QKC7osjEudJU6LgB4Qy6LWkwuFz1VLqMfXi4uAmcuuuRvLkbHeC7p1IAuLkaFLnS3iS66KI4uAJqSLkYLly6LfJsu0e2fLhdfpC5d0Kguo0GtLuiysS4uJLYudJW6LroGvy4AeMMuRunHLotazC7Ry9AuFz3VLl2u2S6hH94u55DiLi0C5y5zc+suuOTvLv5V9C5Ex/guijj9LujUAC+LDQMvLkYFL9B+By90twkvFvALL7ooDi9cYRAv/5kSL6LSFC9FCxcv6EMZL4p8Gy8utR0v0O0fL3QmIi8WXyQvuZcmL1zQKC//CCsvokEtL0V6Ly/osjEvi+szLy4kNi/QXDgvdJU6LxbOPC+5Bj8vXD9BL/93Qy+isEUvRelHL+ghSi+LWkwvLpNOL9DLUC9zBFMvFj1VL7l1Vy9crlkv/+ZbLw==",
          "dtype": "f4"
         },
         "y": {
          "bdata": "SMxbQEjMW0BIzFtASMxbQEjMW0BIzFtASMxbQEjMW0BIzFtASMxbQEjMW0BIzFtASMxbQEjMW0BIzFtASMxbQEjMW0BIzFtASMxbQEjMW0BIzFtASMxbQEjMW0BIzFtASMxbQEjMW0BIzFtASMxbQEjMW0BIzFtASMxbQEjMW0BIzFtASMxbQEjMW0BIzFtASMxbQEjMW0BIzFtASMxbQEjMW0BIzFtASMxbQEjMW0BIzFtASMxbQEjMW0BIzFtASMxbQEjMW0BIzFtASMxbQEjMW0BIzFtASMxbQEjMW0BIzFtASMxbQEjMW0BIzFtASMxbQEjMW0BIzFtASMxbQEjMW0BIzFtASMxbQEjMW0BIzFtASMxbQEjMW0BIzFtASMxbQEjMW0BIzFtASMxbQEjMW0BIzFtASMxbQEjMW0BIzFtASMxbQEjMW0BIzFtASMxbQEjMW0BIzFtASMxbQEjMW0BIzFtASMxbQEjMW0BIzFtASMxbQEjMW0BIzFtASMxbQEjMW0BIzFtASMxbQA==",
          "dtype": "f4"
         },
         "z": {
          "bdata": "Qjgg35wBzN5wRZjfhwzI3mcaEd98RBrfp0cJ35zBod6xUg3cqty2Xs3ITV/oq71fBbAGYAN7KGB6zFpgvFuIYGc1pmDTEMVgd4jlYKp8BGE6qxRh8GYmYXLfOGGsekthJe5dYfwpcGEPVoFh6dWJYdsQk2HlZZthg9ujYTlarGHj8LNhsvW7YclkwmEv7chhE/zOYeko1GFOrdhhxE/dYVQj4WEgK+RhBKnmYQrd6GHE7+lh08bqYf/Z6mFZyephRfPpYWKT6GGW4OZhjIfkYdhD4mF/EN9h7H3bYWlJ2GFejdJhqqzOYRkXymEqJMVhmxnAYdEBu2HRe7Vhq/6vYRtfqmFxL6NhrRyfYW8EmWET/JNhLc2OYenyiWEl94RhCkx/YelqdmGGX21hqS1kYb91XGHyXlVhcSNNYVkNRmGaqzxhLe40YQY+LmF1FSZhug0eYYy/FWGfuQ5hgNMFYVfW+mBpReVgkYPSYMlHwmD2s6hgsqOPYPzeeGAe4E5g1DcZYBiI2l9GA+Vf8Fp7Xw==",
          "dtype": "f4"
         }
        },
        {
         "line": {
          "cmax": 670368756202190400000,
          "cmin": -25347782625957250000,
          "color": {
           "bdata": "6HIg3wDFzt4DcpnfpEXO3s0HFt9QxiDfB8kR3w5ut94b2XLdG+qWXiIAO1/qprNfrFYBYAyNIWDJLVNg0SaEYOOWoWDmIcBg70PgYBa0AWHutRFh+E4jYZKoNWEXLUhhjY9aYTa8bGH3P39hxgOIYaxTkWFyu5lh0z+iYULbqmFsi7Jhwqu6YclEwWF+98dhazXOYdiO02HmO9hh+xjdYZEi4WHXW+Rhrw/nYVV26WGts+phnLnrYQfw62Fk/uthQEbrYRj36WEyVuhhRfnlYdjA42FEjeBhbtncYZWO2WEEsNNhRK3PYdbxymGyzsVhNZvAYXVVu2Gym7VhzuyvYeUcqmEzw6JhroGeYYgjmGGhEZNhT8WNYaHQiGE0v4NhLLp8YWTLc2EAr2phhYthYY7cWWEw3VJhu8NKYX7RQ2HYjTph2R0zYciTLGHhrCRh29ccYe60FGE45Q1h1yIFYUje+WAjruRgbAzSYGQEwmCflKhgkZqPYMMgeWC2D09gfk8ZYG3K2V8o4eRfxoR6Xw==",
           "dtype": "f4"
          },
          "colorscale": [
           [
            0,
            "#440154"
           ],
           [
            0.1111111111111111,
            "#482878"
           ],
           [
            0.2222222222222222,
            "#3e4989"
           ],
           [
            0.3333333333333333,
            "#31688e"
           ],
           [
            0.4444444444444444,
            "#26828e"
           ],
           [
            0.5555555555555556,
            "#1f9e89"
           ],
           [
            0.6666666666666666,
            "#35b779"
           ],
           [
            0.7777777777777778,
            "#6ece58"
           ],
           [
            0.8888888888888888,
            "#b5de2b"
           ],
           [
            1,
            "#fde725"
           ]
          ],
          "showscale": false,
          "width": 4
         },
         "mode": "lines",
         "showlegend": false,
         "type": "scatter3d",
         "x": {
          "bdata": "AAAAALooDiy6KI4sFz3VLLooDi3osjEtFz1VLUbHeC26KI4t0e2fLeiysS0AeMMtFz3VLS4C5y1Gx/gtLkYFLrooDi5GCxcu0e0fLl3QKC7osjEudJU6LgB4Qy6LWkwuFz1VLqMfXi4uAmcuuuRvLkbHeC7p1IAuLkaFLnS3iS66KI4uAJqSLkYLly6LfJsu0e2fLhdfpC5d0Kguo0GtLuiysS4uJLYudJW6LroGvy4AeMMuRunHLotazC7Ry9AuFz3VLl2u2S6hH94u55DiLi0C5y5zc+suuOTvLv5V9C5Ex/guijj9LujUAC+LDQMvLkYFL9B+By90twkvFvALL7ooDi9cYRAv/5kSL6LSFC9FCxcv6EMZL4p8Gy8utR0v0O0fL3QmIi8WXyQvuZcmL1zQKC//CCsvokEtL0V6Ly/osjEvi+szLy4kNi/QXDgvdJU6LxbOPC+5Bj8vXD9BL/93Qy+isEUvRelHL+ghSi+LWkwvLpNOL9DLUC9zBFMvFj1VL7l1Vy9crlkv/+ZbLw==",
          "dtype": "f4"
         },
         "y": {
          "bdata": "LrpoQC66aEAuumhALrpoQC66aEAuumhALrpoQC66aEAuumhALrpoQC66aEAuumhALrpoQC66aEAuumhALrpoQC66aEAuumhALrpoQC66aEAuumhALrpoQC66aEAuumhALrpoQC66aEAuumhALrpoQC66aEAuumhALrpoQC66aEAuumhALrpoQC66aEAuumhALrpoQC66aEAuumhALrpoQC66aEAuumhALrpoQC66aEAuumhALrpoQC66aEAuumhALrpoQC66aEAuumhALrpoQC66aEAuumhALrpoQC66aEAuumhALrpoQC66aEAuumhALrpoQC66aEAuumhALrpoQC66aEAuumhALrpoQC66aEAuumhALrpoQC66aEAuumhALrpoQC66aEAuumhALrpoQC66aEAuumhALrpoQC66aEAuumhALrpoQC66aEAuumhALrpoQC66aEAuumhALrpoQC66aEAuumhALrpoQC66aEAuumhALrpoQC66aEAuumhALrpoQC66aEAuumhALrpoQA==",
          "dtype": "f4"
         },
         "z": {
          "bdata": "6HIg3wDFzt4DcpnfpEXO3s0HFt9QxiDfB8kR3w5ut94b2XLdG+qWXiIAO1/qprNfrFYBYAyNIWDJLVNg0SaEYOOWoWDmIcBg70PgYBa0AWHutRFh+E4jYZKoNWEXLUhhjY9aYTa8bGH3P39hxgOIYaxTkWFyu5lh0z+iYULbqmFsi7Jhwqu6YclEwWF+98dhazXOYdiO02HmO9hh+xjdYZEi4WHXW+Rhrw/nYVV26WGts+phnLnrYQfw62Fk/uthQEbrYRj36WEyVuhhRfnlYdjA42FEjeBhbtncYZWO2WEEsNNhRK3PYdbxymGyzsVhNZvAYXVVu2Gym7VhzuyvYeUcqmEzw6JhroGeYYgjmGGhEZNhT8WNYaHQiGE0v4NhLLp8YWTLc2EAr2phhYthYY7cWWEw3VJhu8NKYX7RQ2HYjTph2R0zYciTLGHhrCRh29ccYe60FGE45Q1h1yIFYUje+WAjruRgbAzSYGQEwmCflKhgkZqPYMMgeWC2D09gfk8ZYG3K2V8o4eRfxoR6Xw==",
          "dtype": "f4"
         }
        },
        {
         "line": {
          "cmax": 670368756202190400000,
          "cmin": -25347782625957250000,
          "color": {
           "bdata": "xrwg34oy0d7HgprfCqvT3thcGt8edibf5jwZ3/p1yt4z7NTdNmt1XnFcKl+guapfyQD5XwpWG2ATUUxgHleAYLtinWBcn7tgl2zbYBlE/mBM9w5h+msgYeSkMmHzEEVhq19XYcF6aWEr/HthqkaGYUWoj2FlIJhhiLGgYQ9nqWEUL7FhMmm5YSEqwGFfBcdhvXDNYcX10mE0zNdhxuHcYdwg4WH3i+RhuXXnYesO6mFmeOthma3sYe0I7WGrN+1hiJ7sYcZh62HJ0+lhB3bnYSxJ5WH2FeJhsEPeYX3h2mEl49RhDsHQYUjgy2EUjsZhqDDBYX69u2H8z7Vhje6vYT3tqWFUZqJh2/WdYcZPl2EyMpJheMWMYVyzh2EXiYJh0yR6YdUgcWEZ7Wdhw85eYa4hV2HYMVBhPDNIYVVeQWH3Mjhh+QgxYZehKmF+9yJhZ1IbYe5ZE2FmvwxhyyEEYcVH+GCVeeNghgTRYBs7wWBE+qdg0CSPYHafeGDvoE5gG+wYYEdr2F+IXuRfv2J5Xw==",
           "dtype": "f4"
          },
          "colorscale": [
           [
            0,
            "#440154"
           ],
           [
            0.1111111111111111,
            "#482878"
           ],
           [
            0.2222222222222222,
            "#3e4989"
           ],
           [
            0.3333333333333333,
            "#31688e"
           ],
           [
            0.4444444444444444,
            "#26828e"
           ],
           [
            0.5555555555555556,
            "#1f9e89"
           ],
           [
            0.6666666666666666,
            "#35b779"
           ],
           [
            0.7777777777777778,
            "#6ece58"
           ],
           [
            0.8888888888888888,
            "#b5de2b"
           ],
           [
            1,
            "#fde725"
           ]
          ],
          "showscale": false,
          "width": 4
         },
         "mode": "lines",
         "showlegend": false,
         "type": "scatter3d",
         "x": {
          "bdata": "AAAAALooDiy6KI4sFz3VLLooDi3osjEtFz1VLUbHeC26KI4t0e2fLeiysS0AeMMtFz3VLS4C5y1Gx/gtLkYFLrooDi5GCxcu0e0fLl3QKC7osjEudJU6LgB4Qy6LWkwuFz1VLqMfXi4uAmcuuuRvLkbHeC7p1IAuLkaFLnS3iS66KI4uAJqSLkYLly6LfJsu0e2fLhdfpC5d0Kguo0GtLuiysS4uJLYudJW6LroGvy4AeMMuRunHLotazC7Ry9AuFz3VLl2u2S6hH94u55DiLi0C5y5zc+suuOTvLv5V9C5Ex/guijj9LujUAC+LDQMvLkYFL9B+By90twkvFvALL7ooDi9cYRAv/5kSL6LSFC9FCxcv6EMZL4p8Gy8utR0v0O0fL3QmIi8WXyQvuZcmL1zQKC//CCsvokEtL0V6Ly/osjEvi+szLy4kNi/QXDgvdJU6LxbOPC+5Bj8vXD9BL/93Qy+isEUvRelHL+ghSi+LWkwvLpNOL9DLUC9zBFMvFj1VL7l1Vy9crlkv/+ZbLw==",
          "dtype": "f4"
         },
         "y": {
          "bdata": "FKh1QBSodUAUqHVAFKh1QBSodUAUqHVAFKh1QBSodUAUqHVAFKh1QBSodUAUqHVAFKh1QBSodUAUqHVAFKh1QBSodUAUqHVAFKh1QBSodUAUqHVAFKh1QBSodUAUqHVAFKh1QBSodUAUqHVAFKh1QBSodUAUqHVAFKh1QBSodUAUqHVAFKh1QBSodUAUqHVAFKh1QBSodUAUqHVAFKh1QBSodUAUqHVAFKh1QBSodUAUqHVAFKh1QBSodUAUqHVAFKh1QBSodUAUqHVAFKh1QBSodUAUqHVAFKh1QBSodUAUqHVAFKh1QBSodUAUqHVAFKh1QBSodUAUqHVAFKh1QBSodUAUqHVAFKh1QBSodUAUqHVAFKh1QBSodUAUqHVAFKh1QBSodUAUqHVAFKh1QBSodUAUqHVAFKh1QBSodUAUqHVAFKh1QBSodUAUqHVAFKh1QBSodUAUqHVAFKh1QBSodUAUqHVAFKh1QBSodUAUqHVAFKh1QBSodUAUqHVAFKh1QBSodUAUqHVAFKh1QA==",
          "dtype": "f4"
         },
         "z": {
          "bdata": "xrwg34oy0d7HgprfCqvT3thcGt8edibf5jwZ3/p1yt4z7NTdNmt1XnFcKl+guapfyQD5XwpWG2ATUUxgHleAYLtinWBcn7tgl2zbYBlE/mBM9w5h+msgYeSkMmHzEEVhq19XYcF6aWEr/HthqkaGYUWoj2FlIJhhiLGgYQ9nqWEUL7FhMmm5YSEqwGFfBcdhvXDNYcX10mE0zNdhxuHcYdwg4WH3i+RhuXXnYesO6mFmeOthma3sYe0I7WGrN+1hiJ7sYcZh62HJ0+lhB3bnYSxJ5WH2FeJhsEPeYX3h2mEl49RhDsHQYUjgy2EUjsZhqDDBYX69u2H8z7Vhje6vYT3tqWFUZqJh2/WdYcZPl2EyMpJheMWMYVyzh2EXiYJh0yR6YdUgcWEZ7Wdhw85eYa4hV2HYMVBhPDNIYVVeQWH3Mjhh+QgxYZehKmF+9yJhZ1IbYe5ZE2FmvwxhyyEEYcVH+GCVeeNghgTRYBs7wWBE+qdg0CSPYHafeGDvoE5gG+wYYEdr2F+IXuRfv2J5Xw==",
          "dtype": "f4"
         }
        },
        {
         "line": {
          "cmax": 670368756202190400000,
          "cmin": -25347782625957250000,
          "color": {
           "bdata": "yxgh3/9V095Yf5vfTl7Y3ogxHt91cyvfjMof34k229417RLeoo5DXhWaG18BwqJfDDjwXyrBFWCsIEZg4cJ5YLiNmWDTfbdgK/fWYLSB+WASagxh8bgdYeLPL2H4IUJhjlpUYSdiZmHO3XhhM52EYcsNjmErlJZhTzCfYeP9p2GF3K9hHS+4YUEWv2GxGMZhZbDMYWVg0mE0YddhwK3cYTEi4WHZv+Rh1d/nYdyr6mE9Q+xhdajtYZIq7mFGe+5hZgLuYe7Z7GEIYOthoQTpYa/j5mGjseNhp8PfYTJJ3GE4LdZhs+7RYQ3pzGHdaMdhbODBYTtAvGHlHrZhAQqwYSTWqWEAH6Jh/X6dYYuOlmFaY5FhGNOLYYKghmEiWoFhkJZ3YZx1bmEYJGVhowFcYTlPVGEFZ01h+HtFYbm9PmEVpTVhVrkuYfFwKGGv/iBhi4YZYVK3EWHDUAthxdgCYWQi9mCMtuFgTHnPYEH4v2Dw76Zg/EuOYDZsd2CroU1gKhgYYNF41l8ahuNfEf93Xw==",
           "dtype": "f4"
          },
          "colorscale": [
           [
            0,
            "#440154"
           ],
           [
            0.1111111111111111,
            "#482878"
           ],
           [
            0.2222222222222222,
            "#3e4989"
           ],
           [
            0.3333333333333333,
            "#31688e"
           ],
           [
            0.4444444444444444,
            "#26828e"
           ],
           [
            0.5555555555555556,
            "#1f9e89"
           ],
           [
            0.6666666666666666,
            "#35b779"
           ],
           [
            0.7777777777777778,
            "#6ece58"
           ],
           [
            0.8888888888888888,
            "#b5de2b"
           ],
           [
            1,
            "#fde725"
           ]
          ],
          "showscale": false,
          "width": 4
         },
         "mode": "lines",
         "showlegend": false,
         "type": "scatter3d",
         "x": {
          "bdata": "AAAAALooDiy6KI4sFz3VLLooDi3osjEtFz1VLUbHeC26KI4t0e2fLeiysS0AeMMtFz3VLS4C5y1Gx/gtLkYFLrooDi5GCxcu0e0fLl3QKC7osjEudJU6LgB4Qy6LWkwuFz1VLqMfXi4uAmcuuuRvLkbHeC7p1IAuLkaFLnS3iS66KI4uAJqSLkYLly6LfJsu0e2fLhdfpC5d0Kguo0GtLuiysS4uJLYudJW6LroGvy4AeMMuRunHLotazC7Ry9AuFz3VLl2u2S6hH94u55DiLi0C5y5zc+suuOTvLv5V9C5Ex/guijj9LujUAC+LDQMvLkYFL9B+By90twkvFvALL7ooDi9cYRAv/5kSL6LSFC9FCxcv6EMZL4p8Gy8utR0v0O0fL3QmIi8WXyQvuZcmL1zQKC//CCsvokEtL0V6Ly/osjEvi+szLy4kNi/QXDgvdJU6LxbOPC+5Bj8vXD9BL/93Qy+isEUvRelHL+ghSi+LWkwvLpNOL9DLUC9zBFMvFj1VL7l1Vy9crlkv/+ZbLw==",
          "dtype": "f4"
         },
         "y": {
          "bdata": "/UqBQP1KgUD9SoFA/UqBQP1KgUD9SoFA/UqBQP1KgUD9SoFA/UqBQP1KgUD9SoFA/UqBQP1KgUD9SoFA/UqBQP1KgUD9SoFA/UqBQP1KgUD9SoFA/UqBQP1KgUD9SoFA/UqBQP1KgUD9SoFA/UqBQP1KgUD9SoFA/UqBQP1KgUD9SoFA/UqBQP1KgUD9SoFA/UqBQP1KgUD9SoFA/UqBQP1KgUD9SoFA/UqBQP1KgUD9SoFA/UqBQP1KgUD9SoFA/UqBQP1KgUD9SoFA/UqBQP1KgUD9SoFA/UqBQP1KgUD9SoFA/UqBQP1KgUD9SoFA/UqBQP1KgUD9SoFA/UqBQP1KgUD9SoFA/UqBQP1KgUD9SoFA/UqBQP1KgUD9SoFA/UqBQP1KgUD9SoFA/UqBQP1KgUD9SoFA/UqBQP1KgUD9SoFA/UqBQP1KgUD9SoFA/UqBQP1KgUD9SoFA/UqBQP1KgUD9SoFA/UqBQP1KgUD9SoFA/UqBQP1KgUD9SoFA/UqBQP1KgUD9SoFA/UqBQA==",
          "dtype": "f4"
         },
         "z": {
          "bdata": "yxgh3/9V095Yf5vfTl7Y3ogxHt91cyvfjMof34k229417RLeoo5DXhWaG18BwqJfDDjwXyrBFWCsIEZg4cJ5YLiNmWDTfbdgK/fWYLSB+WASagxh8bgdYeLPL2H4IUJhjlpUYSdiZmHO3XhhM52EYcsNjmErlJZhTzCfYeP9p2GF3K9hHS+4YUEWv2GxGMZhZbDMYWVg0mE0YddhwK3cYTEi4WHZv+Rh1d/nYdyr6mE9Q+xhdajtYZIq7mFGe+5hZgLuYe7Z7GEIYOthoQTpYa/j5mGjseNhp8PfYTJJ3GE4LdZhs+7RYQ3pzGHdaMdhbODBYTtAvGHlHrZhAQqwYSTWqWEAH6Jh/X6dYYuOlmFaY5FhGNOLYYKghmEiWoFhkJZ3YZx1bmEYJGVhowFcYTlPVGEFZ01h+HtFYbm9PmEVpTVhVrkuYfFwKGGv/iBhi4YZYVK3EWHDUAthxdgCYWQi9mCMtuFgTHnPYEH4v2Dw76Zg/EuOYDZsd2CroU1gKhgYYNF41l8ahuNfEf93Xw==",
          "dtype": "f4"
         }
        },
        {
         "line": {
          "cmax": 670368756202190400000,
          "cmin": -25347782625957250000,
          "color": {
           "bdata": "Cokh30M71d5MbpzfJ3/c3jOcId9H3C/fr5cl3+0K6t5q8TbeD00XXnl0Dl+Hm5tfRy3oX3u4EGCLhUBgi3NzYJgLlmCzsLNg+NbSYCAU9WDyBwphvy8bYbEjLWFxWj9hznpRYUptY2E84HVhQwWDYWiCjGEzFZVhw7qdYcqepmEfk65hOP22YUEJvmH1McVhSvXLYfvP0WF9/NZh8X7cYe4o4WEx+uRhGlHoYZxQ62HgF+1hIK7uYSdZ72Gbze9hdXbvYUpk7mHZ/+xhB6rqYWGV6GFvZeVhaV7hYcvK3WEek9dhGzvTYf0QzmHOY8hhNa/CYTrivGHmjLZhjkOwYefbqWGz8aFhOCGdYdvjlWEpqZBhNPKKYRqchWFUNoBhhxd1YcfRa2EiXGJhWCxZYYdtUWEShUphX6ZCYSz4O2Hj7DJhgTcsYVgKJmHjyh5hn3wXYS/VD2FGoQlhiE8BYbd882DLct9gg3fNYHlHvmAzgKVgMhmNYACXdWAdH0xgwN0WYJMB1F+4YeJfy2J2Xw==",
           "dtype": "f4"
          },
          "colorscale": [
           [
            0,
            "#440154"
           ],
           [
            0.1111111111111111,
            "#482878"
           ],
           [
            0.2222222222222222,
            "#3e4989"
           ],
           [
            0.3333333333333333,
            "#31688e"
           ],
           [
            0.4444444444444444,
            "#26828e"
           ],
           [
            0.5555555555555556,
            "#1f9e89"
           ],
           [
            0.6666666666666666,
            "#35b779"
           ],
           [
            0.7777777777777778,
            "#6ece58"
           ],
           [
            0.8888888888888888,
            "#b5de2b"
           ],
           [
            1,
            "#fde725"
           ]
          ],
          "showscale": false,
          "width": 4
         },
         "mode": "lines",
         "showlegend": false,
         "type": "scatter3d",
         "x": {
          "bdata": "AAAAALooDiy6KI4sFz3VLLooDi3osjEtFz1VLUbHeC26KI4t0e2fLeiysS0AeMMtFz3VLS4C5y1Gx/gtLkYFLrooDi5GCxcu0e0fLl3QKC7osjEudJU6LgB4Qy6LWkwuFz1VLqMfXi4uAmcuuuRvLkbHeC7p1IAuLkaFLnS3iS66KI4uAJqSLkYLly6LfJsu0e2fLhdfpC5d0Kguo0GtLuiysS4uJLYudJW6LroGvy4AeMMuRunHLotazC7Ry9AuFz3VLl2u2S6hH94u55DiLi0C5y5zc+suuOTvLv5V9C5Ex/guijj9LujUAC+LDQMvLkYFL9B+By90twkvFvALL7ooDi9cYRAv/5kSL6LSFC9FCxcv6EMZL4p8Gy8utR0v0O0fL3QmIi8WXyQvuZcmL1zQKC//CCsvokEtL0V6Ly/osjEvi+szLy4kNi/QXDgvdJU6LxbOPC+5Bj8vXD9BL/93Qy+isEUvRelHL+ghSi+LWkwvLpNOL9DLUC9zBFMvFj1VL7l1Vy9crlkv/+ZbLw==",
          "dtype": "f4"
         },
         "y": {
          "bdata": "8MGHQPDBh0DwwYdA8MGHQPDBh0DwwYdA8MGHQPDBh0DwwYdA8MGHQPDBh0DwwYdA8MGHQPDBh0DwwYdA8MGHQPDBh0DwwYdA8MGHQPDBh0DwwYdA8MGHQPDBh0DwwYdA8MGHQPDBh0DwwYdA8MGHQPDBh0DwwYdA8MGHQPDBh0DwwYdA8MGHQPDBh0DwwYdA8MGHQPDBh0DwwYdA8MGHQPDBh0DwwYdA8MGHQPDBh0DwwYdA8MGHQPDBh0DwwYdA8MGHQPDBh0DwwYdA8MGHQPDBh0DwwYdA8MGHQPDBh0DwwYdA8MGHQPDBh0DwwYdA8MGHQPDBh0DwwYdA8MGHQPDBh0DwwYdA8MGHQPDBh0DwwYdA8MGHQPDBh0DwwYdA8MGHQPDBh0DwwYdA8MGHQPDBh0DwwYdA8MGHQPDBh0DwwYdA8MGHQPDBh0DwwYdA8MGHQPDBh0DwwYdA8MGHQPDBh0DwwYdA8MGHQPDBh0DwwYdA8MGHQPDBh0DwwYdA8MGHQPDBh0DwwYdA8MGHQA==",
          "dtype": "f4"
         },
         "z": {
          "bdata": "Cokh30M71d5MbpzfJ3/c3jOcId9H3C/fr5cl3+0K6t5q8TbeD00XXnl0Dl+Hm5tfRy3oX3u4EGCLhUBgi3NzYJgLlmCzsLNg+NbSYCAU9WDyBwphvy8bYbEjLWFxWj9hznpRYUptY2E84HVhQwWDYWiCjGEzFZVhw7qdYcqepmEfk65hOP22YUEJvmH1McVhSvXLYfvP0WF9/NZh8X7cYe4o4WEx+uRhGlHoYZxQ62HgF+1hIK7uYSdZ72Gbze9hdXbvYUpk7mHZ/+xhB6rqYWGV6GFvZeVhaV7hYcvK3WEek9dhGzvTYf0QzmHOY8hhNa/CYTrivGHmjLZhjkOwYefbqWGz8aFhOCGdYdvjlWEpqZBhNPKKYRqchWFUNoBhhxd1YcfRa2EiXGJhWCxZYYdtUWEShUphX6ZCYSz4O2Hj7DJhgTcsYVgKJmHjyh5hn3wXYS/VD2FGoQlhiE8BYbd882DLct9gg3fNYHlHvmAzgKVgMhmNYACXdWAdH0xgwN0WYJMB1F+4YeJfy2J2Xw==",
          "dtype": "f4"
         }
        },
        {
         "line": {
          "cmax": 670368756202190400000,
          "cmin": -25347782625957250000,
          "color": {
           "bdata": "oA4i34nt1t7aVJ3f8Cjg3ouwJN8FyzPf1cUq3x9D995dPFfeHZbfXaSsAl90J5VfXMHgX5QnDGAtajtgoaltYKvQkmDhK7Bg3P/OYC3v8GDXygdhY8oYYYCaKmGVtDxhybpOYcmWYGFT/nJh/XuBYcsDi2FhoZNh/E6cYShIpWF7Ua1hX9K1YUUCvWGSUMRhNz/LYYtE0WFcntZh/lXcYf014WEvPOVhC8voYej+62FA+O1h4cDvYR6X8GFAMfFhfP3wYdoD8GFhtu5hXWnsYYFh6mHWNOdhXBfjYd1p32E4GNlhbanUYThbz2HugclhEaDDYXKmvWHlHLdhEp6wYVsBqmG+4aFhY9+cYZpSlWFxBpBhriWKYRyphGFnQX5h561yYbs7aWHEm19hs1VWYZWDTmE8k0dh2bk/YTIVOWFEEjBhcYspYaN1I2EZZBxhjzwVYUC7DWGHuAdh8Rr/YOJk8GA3vNxgjwvLYBc0vGBctaNgYJWLYPMvc2BsJkpg2EYVYN8S0V+g+uBfFZZ0Xw==",
           "dtype": "f4"
          },
          "colorscale": [
           [
            0,
            "#440154"
           ],
           [
            0.1111111111111111,
            "#482878"
           ],
           [
            0.2222222222222222,
            "#3e4989"
           ],
           [
            0.3333333333333333,
            "#31688e"
           ],
           [
            0.4444444444444444,
            "#26828e"
           ],
           [
            0.5555555555555556,
            "#1f9e89"
           ],
           [
            0.6666666666666666,
            "#35b779"
           ],
           [
            0.7777777777777778,
            "#6ece58"
           ],
           [
            0.8888888888888888,
            "#b5de2b"
           ],
           [
            1,
            "#fde725"
           ]
          ],
          "showscale": false,
          "width": 4
         },
         "mode": "lines",
         "showlegend": false,
         "type": "scatter3d",
         "x": {
          "bdata": "AAAAALooDiy6KI4sFz3VLLooDi3osjEtFz1VLUbHeC26KI4t0e2fLeiysS0AeMMtFz3VLS4C5y1Gx/gtLkYFLrooDi5GCxcu0e0fLl3QKC7osjEudJU6LgB4Qy6LWkwuFz1VLqMfXi4uAmcuuuRvLkbHeC7p1IAuLkaFLnS3iS66KI4uAJqSLkYLly6LfJsu0e2fLhdfpC5d0Kguo0GtLuiysS4uJLYudJW6LroGvy4AeMMuRunHLotazC7Ry9AuFz3VLl2u2S6hH94u55DiLi0C5y5zc+suuOTvLv5V9C5Ex/guijj9LujUAC+LDQMvLkYFL9B+By90twkvFvALL7ooDi9cYRAv/5kSL6LSFC9FCxcv6EMZL4p8Gy8utR0v0O0fL3QmIi8WXyQvuZcmL1zQKC//CCsvokEtL0V6Ly/osjEvi+szLy4kNi/QXDgvdJU6LxbOPC+5Bj8vXD9BL/93Qy+isEUvRelHL+ghSi+LWkwvLpNOL9DLUC9zBFMvFj1VL7l1Vy9crlkv/+ZbLw==",
          "dtype": "f4"
         },
         "y": {
          "bdata": "4ziOQOM4jkDjOI5A4ziOQOM4jkDjOI5A4ziOQOM4jkDjOI5A4ziOQOM4jkDjOI5A4ziOQOM4jkDjOI5A4ziOQOM4jkDjOI5A4ziOQOM4jkDjOI5A4ziOQOM4jkDjOI5A4ziOQOM4jkDjOI5A4ziOQOM4jkDjOI5A4ziOQOM4jkDjOI5A4ziOQOM4jkDjOI5A4ziOQOM4jkDjOI5A4ziOQOM4jkDjOI5A4ziOQOM4jkDjOI5A4ziOQOM4jkDjOI5A4ziOQOM4jkDjOI5A4ziOQOM4jkDjOI5A4ziOQOM4jkDjOI5A4ziOQOM4jkDjOI5A4ziOQOM4jkDjOI5A4ziOQOM4jkDjOI5A4ziOQOM4jkDjOI5A4ziOQOM4jkDjOI5A4ziOQOM4jkDjOI5A4ziOQOM4jkDjOI5A4ziOQOM4jkDjOI5A4ziOQOM4jkDjOI5A4ziOQOM4jkDjOI5A4ziOQOM4jkDjOI5A4ziOQOM4jkDjOI5A4ziOQOM4jkDjOI5A4ziOQOM4jkDjOI5A4ziOQA==",
          "dtype": "f4"
         },
         "z": {
          "bdata": "oA4i34nt1t7aVJ3f8Cjg3ouwJN8FyzPf1cUq3x9D995dPFfeHZbfXaSsAl90J5VfXMHgX5QnDGAtajtgoaltYKvQkmDhK7Bg3P/OYC3v8GDXygdhY8oYYYCaKmGVtDxhybpOYcmWYGFT/nJh/XuBYcsDi2FhoZNh/E6cYShIpWF7Ua1hX9K1YUUCvWGSUMRhNz/LYYtE0WFcntZh/lXcYf014WEvPOVhC8voYej+62FA+O1h4cDvYR6X8GFAMfFhfP3wYdoD8GFhtu5hXWnsYYFh6mHWNOdhXBfjYd1p32E4GNlhbanUYThbz2HugclhEaDDYXKmvWHlHLdhEp6wYVsBqmG+4aFhY9+cYZpSlWFxBpBhriWKYRyphGFnQX5h561yYbs7aWHEm19hs1VWYZWDTmE8k0dh2bk/YTIVOWFEEjBhcYspYaN1I2EZZBxhjzwVYUC7DWGHuAdh8Rr/YOJk8GA3vNxgjwvLYBc0vGBctaNgYJWLYPMvc2BsJkpg2EYVYN8S0V+g+uBfFZZ0Xw==",
          "dtype": "f4"
         }
        },
        {
         "line": {
          "cmax": 670368756202190400000,
          "cmin": -25347782625957250000,
          "color": {
           "bdata": "Bqoi36F12N5rN57ft3Pj3imAJ9/8Vjffw3Iv34aTAd+ofXTeBoaYXWMT8F5pRo9fA9PZX9n7B2DQujZgX1BoYFTSj2Bd5Kxgs2bLYGcH7WAprQVhcoMWYfcuKGESKzphXBVMYbLZXWFiM3BhXf5/Yc2PiWHENpJhIOuaYWb4o2E+FqxhV620YVwAvGHSc8NhwY3KYey90GG2RtZhSTPcYf9J4WGmhuVhv07pYR647GHw5e5heeLwYVvm8WFCqPJhrZnyYeG68WH+hfBh9kTuYXJK7GFaIulh//DkYYQo4WGNvtph5jvWYenJ0GFOxcphJrXEYdSOvmHJ0LdhcRuxYV5IqmEs8aFhU7ucYUjclGEXfY9hem+JYZnJg2HLNnxh3l1wYUS4ZmEn6FxhDoNTYReXS2F7l0RhoLw8YVYbNmElHC1hDbwmYdm5IGFg0Rlhgs0SYZhwC2GMnQVhbTP7YA3o7GCJn9lgI0HIYNvIuWA1maFgFMmJYM1FcGDXw0dg71wTYFy5zV9jWd9fYaByXw==",
           "dtype": "f4"
          },
          "colorscale": [
           [
            0,
            "#440154"
           ],
           [
            0.1111111111111111,
            "#482878"
           ],
           [
            0.2222222222222222,
            "#3e4989"
           ],
           [
            0.3333333333333333,
            "#31688e"
           ],
           [
            0.4444444444444444,
            "#26828e"
           ],
           [
            0.5555555555555556,
            "#1f9e89"
           ],
           [
            0.6666666666666666,
            "#35b779"
           ],
           [
            0.7777777777777778,
            "#6ece58"
           ],
           [
            0.8888888888888888,
            "#b5de2b"
           ],
           [
            1,
            "#fde725"
           ]
          ],
          "showscale": false,
          "width": 4
         },
         "mode": "lines",
         "showlegend": false,
         "type": "scatter3d",
         "x": {
          "bdata": "AAAAALooDiy6KI4sFz3VLLooDi3osjEtFz1VLUbHeC26KI4t0e2fLeiysS0AeMMtFz3VLS4C5y1Gx/gtLkYFLrooDi5GCxcu0e0fLl3QKC7osjEudJU6LgB4Qy6LWkwuFz1VLqMfXi4uAmcuuuRvLkbHeC7p1IAuLkaFLnS3iS66KI4uAJqSLkYLly6LfJsu0e2fLhdfpC5d0Kguo0GtLuiysS4uJLYudJW6LroGvy4AeMMuRunHLotazC7Ry9AuFz3VLl2u2S6hH94u55DiLi0C5y5zc+suuOTvLv5V9C5Ex/guijj9LujUAC+LDQMvLkYFL9B+By90twkvFvALL7ooDi9cYRAv/5kSL6LSFC9FCxcv6EMZL4p8Gy8utR0v0O0fL3QmIi8WXyQvuZcmL1zQKC//CCsvokEtL0V6Ly/osjEvi+szLy4kNi/QXDgvdJU6LxbOPC+5Bj8vXD9BL/93Qy+isEUvRelHL+ghSi+LWkwvLpNOL9DLUC9zBFMvFj1VL7l1Vy9crlkv/+ZbLw==",
          "dtype": "f4"
         },
         "y": {
          "bdata": "1q+UQNavlEDWr5RA1q+UQNavlEDWr5RA1q+UQNavlEDWr5RA1q+UQNavlEDWr5RA1q+UQNavlEDWr5RA1q+UQNavlEDWr5RA1q+UQNavlEDWr5RA1q+UQNavlEDWr5RA1q+UQNavlEDWr5RA1q+UQNavlEDWr5RA1q+UQNavlEDWr5RA1q+UQNavlEDWr5RA1q+UQNavlEDWr5RA1q+UQNavlEDWr5RA1q+UQNavlEDWr5RA1q+UQNavlEDWr5RA1q+UQNavlEDWr5RA1q+UQNavlEDWr5RA1q+UQNavlEDWr5RA1q+UQNavlEDWr5RA1q+UQNavlEDWr5RA1q+UQNavlEDWr5RA1q+UQNavlEDWr5RA1q+UQNavlEDWr5RA1q+UQNavlEDWr5RA1q+UQNavlEDWr5RA1q+UQNavlEDWr5RA1q+UQNavlEDWr5RA1q+UQNavlEDWr5RA1q+UQNavlEDWr5RA1q+UQNavlEDWr5RA1q+UQNavlEDWr5RA1q+UQNavlEDWr5RA1q+UQA==",
          "dtype": "f4"
         },
         "z": {
          "bdata": "Bqoi36F12N5rN57ft3Pj3imAJ9/8Vjffw3Iv34aTAd+ofXTeBoaYXWMT8F5pRo9fA9PZX9n7B2DQujZgX1BoYFTSj2Bd5Kxgs2bLYGcH7WAprQVhcoMWYfcuKGESKzphXBVMYbLZXWFiM3BhXf5/Yc2PiWHENpJhIOuaYWb4o2E+FqxhV620YVwAvGHSc8NhwY3KYey90GG2RtZhSTPcYf9J4WGmhuVhv07pYR647GHw5e5heeLwYVvm8WFCqPJhrZnyYeG68WH+hfBh9kTuYXJK7GFaIulh//DkYYQo4WGNvtph5jvWYenJ0GFOxcphJrXEYdSOvmHJ0LdhcRuxYV5IqmEs8aFhU7ucYUjclGEXfY9hem+JYZnJg2HLNnxh3l1wYUS4ZmEn6FxhDoNTYReXS2F7l0RhoLw8YVYbNmElHC1hDbwmYdm5IGFg0Rlhgs0SYZhwC2GMnQVhbTP7YA3o7GCJn9lgI0HIYNvIuWA1maFgFMmJYM1FcGDXw0dg71wTYFy5zV9jWd9fYaByXw==",
          "dtype": "f4"
         }
        },
        {
         "line": {
          "cmax": 670368756202190400000,
          "cmin": -25347782625957250000,
          "color": {
           "bdata": "Ulsj327c2d5JGZ/fBXPm3hYZKt88kzrf5LYz36T4Bt/Gn4feSD4wXV243F5m4Ilfs0rTX+MlBGA6ZzJgzlZjYNMHjWAh0algfQLIYOZT6WBoqgNhgVYUYb/cJWGauTdhYIZJYQMyW2GJe21hgRl9YaMkiGGs05BhoI2ZYRiuomEU4Kph6YyzYXwCu2HPmsJhM+DJYZA70GEU9dVhjxbcYdZk4WGc2eVhbdzpYY187WFX4e9hfRPyYX5H82FWM/Rh1Uv0YT6K82Gob/JhrD3wYTBR7mEUL+thPezmYesH42Erh9xhW/PXYd9d0mGlLsxhQO/FYRecv2FFqbhhZ7yxYbWxqmERIaJh97WcYQiClGE4Do9h0NCIYfj+gmH2T3ph2ypuYT5LZGF4RVphDrlQYQ2tSGEpl0FhX7Q5YY0QM2HZECph7M8jYZ7dHWGPGRdhUzYQYQb8CGERVwNhpfX2YOUS6WA4KdZgiCPFYB4Qt2AvNZ9gj7yHYDjnbGBeA0VgRikRYJ4Byl8Nht1fnIhwXw==",
           "dtype": "f4"
          },
          "colorscale": [
           [
            0,
            "#440154"
           ],
           [
            0.1111111111111111,
            "#482878"
           ],
           [
            0.2222222222222222,
            "#3e4989"
           ],
           [
            0.3333333333333333,
            "#31688e"
           ],
           [
            0.4444444444444444,
            "#26828e"
           ],
           [
            0.5555555555555556,
            "#1f9e89"
           ],
           [
            0.6666666666666666,
            "#35b779"
           ],
           [
            0.7777777777777778,
            "#6ece58"
           ],
           [
            0.8888888888888888,
            "#b5de2b"
           ],
           [
            1,
            "#fde725"
           ]
          ],
          "showscale": false,
          "width": 4
         },
         "mode": "lines",
         "showlegend": false,
         "type": "scatter3d",
         "x": {
          "bdata": "AAAAALooDiy6KI4sFz3VLLooDi3osjEtFz1VLUbHeC26KI4t0e2fLeiysS0AeMMtFz3VLS4C5y1Gx/gtLkYFLrooDi5GCxcu0e0fLl3QKC7osjEudJU6LgB4Qy6LWkwuFz1VLqMfXi4uAmcuuuRvLkbHeC7p1IAuLkaFLnS3iS66KI4uAJqSLkYLly6LfJsu0e2fLhdfpC5d0Kguo0GtLuiysS4uJLYudJW6LroGvy4AeMMuRunHLotazC7Ry9AuFz3VLl2u2S6hH94u55DiLi0C5y5zc+suuOTvLv5V9C5Ex/guijj9LujUAC+LDQMvLkYFL9B+By90twkvFvALL7ooDi9cYRAv/5kSL6LSFC9FCxcv6EMZL4p8Gy8utR0v0O0fL3QmIi8WXyQvuZcmL1zQKC//CCsvokEtL0V6Ly/osjEvi+szLy4kNi/QXDgvdJU6LxbOPC+5Bj8vXD9BL/93Qy+isEUvRelHL+ghSi+LWkwvLpNOL9DLUC9zBFMvFj1VL7l1Vy9crlkv/+ZbLw==",
          "dtype": "f4"
         },
         "y": {
          "bdata": "yiabQMomm0DKJptAyiabQMomm0DKJptAyiabQMomm0DKJptAyiabQMomm0DKJptAyiabQMomm0DKJptAyiabQMomm0DKJptAyiabQMomm0DKJptAyiabQMomm0DKJptAyiabQMomm0DKJptAyiabQMomm0DKJptAyiabQMomm0DKJptAyiabQMomm0DKJptAyiabQMomm0DKJptAyiabQMomm0DKJptAyiabQMomm0DKJptAyiabQMomm0DKJptAyiabQMomm0DKJptAyiabQMomm0DKJptAyiabQMomm0DKJptAyiabQMomm0DKJptAyiabQMomm0DKJptAyiabQMomm0DKJptAyiabQMomm0DKJptAyiabQMomm0DKJptAyiabQMomm0DKJptAyiabQMomm0DKJptAyiabQMomm0DKJptAyiabQMomm0DKJptAyiabQMomm0DKJptAyiabQMomm0DKJptAyiabQMomm0DKJptAyiabQMomm0DKJptAyiabQMomm0DKJptAyiabQA==",
          "dtype": "f4"
         },
         "z": {
          "bdata": "Ulsj327c2d5JGZ/fBXPm3hYZKt88kzrf5LYz36T4Bt/Gn4feSD4wXV243F5m4Ilfs0rTX+MlBGA6ZzJgzlZjYNMHjWAh0algfQLIYOZT6WBoqgNhgVYUYb/cJWGauTdhYIZJYQMyW2GJe21hgRl9YaMkiGGs05BhoI2ZYRiuomEU4Kph6YyzYXwCu2HPmsJhM+DJYZA70GEU9dVhjxbcYdZk4WGc2eVhbdzpYY187WFX4e9hfRPyYX5H82FWM/Rh1Uv0YT6K82Gob/JhrD3wYTBR7mEUL+thPezmYesH42Erh9xhW/PXYd9d0mGlLsxhQO/FYRecv2FFqbhhZ7yxYbWxqmERIaJh97WcYQiClGE4Do9h0NCIYfj+gmH2T3ph2ypuYT5LZGF4RVphDrlQYQ2tSGEpl0FhX7Q5YY0QM2HZECph7M8jYZ7dHWGPGRdhUzYQYQb8CGERVwNhpfX2YOUS6WA4KdZgiCPFYB4Qt2AvNZ9gj7yHYDjnbGBeA0VgRikRYJ4Byl8Nht1fnIhwXw==",
          "dtype": "f4"
         }
        },
        {
         "line": {
          "cmax": 670368756202190400000,
          "cmin": -25347782625957250000,
          "color": {
           "bdata": "ICIk3xAn297S/J/fvDbp3vSFLN9rjz3ffKY336fpC99f/JPeJjRqXD73yl7b4IRfNBnNXzqYAGBJYS5g4q1eYHRpimAq6qZgHcvEYDnM5WB8vgFhiz8SYeOfI2E/XDVhAApHYfabWGE702phmEV6YY/AhmGBdo9hzDSYYepnoWG0ralh0G+yYZ8HumGmxMFh1zXJYdy8z2HLqNVhfP/bYUuG4WHpNOZhD3TqYVlM7mGh6vBhLVTzYcm69GHN0vVhURT2YU9y9WHNc/Rhx1PyYRN28GGLW+1hRwnpYXYI5WERct5hxM/ZYRcX1GHrvc1hdE7HYSrOwGFIprlh54CyYWE9q2HncaJhfc+cYedDlGE3uo5hUEqIYQVKgmHWjnhhRRdsYYL3YWHxtldhZftNYafJRWHalj5hFKY2YRv6L2EA9iZhDc0gYQfnGmHoQhRha30NYd9jBmFg6wBh6m3yYGLx5GACZdJgcr3BYMETtGA4kpxgpneFYH0iaWBU8EFgqLQOYB72xV8IiNtfOVVuXw==",
           "dtype": "f4"
          },
          "colorscale": [
           [
            0,
            "#440154"
           ],
           [
            0.1111111111111111,
            "#482878"
           ],
           [
            0.2222222222222222,
            "#3e4989"
           ],
           [
            0.3333333333333333,
            "#31688e"
           ],
           [
            0.4444444444444444,
            "#26828e"
           ],
           [
            0.5555555555555556,
            "#1f9e89"
           ],
           [
            0.6666666666666666,
            "#35b779"
           ],
           [
            0.7777777777777778,
            "#6ece58"
           ],
           [
            0.8888888888888888,
            "#b5de2b"
           ],
           [
            1,
            "#fde725"
           ]
          ],
          "showscale": false,
          "width": 4
         },
         "mode": "lines",
         "showlegend": false,
         "type": "scatter3d",
         "x": {
          "bdata": "AAAAALooDiy6KI4sFz3VLLooDi3osjEtFz1VLUbHeC26KI4t0e2fLeiysS0AeMMtFz3VLS4C5y1Gx/gtLkYFLrooDi5GCxcu0e0fLl3QKC7osjEudJU6LgB4Qy6LWkwuFz1VLqMfXi4uAmcuuuRvLkbHeC7p1IAuLkaFLnS3iS66KI4uAJqSLkYLly6LfJsu0e2fLhdfpC5d0Kguo0GtLuiysS4uJLYudJW6LroGvy4AeMMuRunHLotazC7Ry9AuFz3VLl2u2S6hH94u55DiLi0C5y5zc+suuOTvLv5V9C5Ex/guijj9LujUAC+LDQMvLkYFL9B+By90twkvFvALL7ooDi9cYRAv/5kSL6LSFC9FCxcv6EMZL4p8Gy8utR0v0O0fL3QmIi8WXyQvuZcmL1zQKC//CCsvokEtL0V6Ly/osjEvi+szLy4kNi/QXDgvdJU6LxbOPC+5Bj8vXD9BL/93Qy+isEUvRelHL+ghSi+LWkwvLpNOL9DLUC9zBFMvFj1VL7l1Vy9crlkv/+ZbLw==",
          "dtype": "f4"
         },
         "y": {
          "bdata": "vZ2hQL2doUC9naFAvZ2hQL2doUC9naFAvZ2hQL2doUC9naFAvZ2hQL2doUC9naFAvZ2hQL2doUC9naFAvZ2hQL2doUC9naFAvZ2hQL2doUC9naFAvZ2hQL2doUC9naFAvZ2hQL2doUC9naFAvZ2hQL2doUC9naFAvZ2hQL2doUC9naFAvZ2hQL2doUC9naFAvZ2hQL2doUC9naFAvZ2hQL2doUC9naFAvZ2hQL2doUC9naFAvZ2hQL2doUC9naFAvZ2hQL2doUC9naFAvZ2hQL2doUC9naFAvZ2hQL2doUC9naFAvZ2hQL2doUC9naFAvZ2hQL2doUC9naFAvZ2hQL2doUC9naFAvZ2hQL2doUC9naFAvZ2hQL2doUC9naFAvZ2hQL2doUC9naFAvZ2hQL2doUC9naFAvZ2hQL2doUC9naFAvZ2hQL2doUC9naFAvZ2hQL2doUC9naFAvZ2hQL2doUC9naFAvZ2hQL2doUC9naFAvZ2hQL2doUC9naFAvZ2hQL2doUC9naFAvZ2hQA==",
          "dtype": "f4"
         },
         "z": {
          "bdata": "ICIk3xAn297S/J/fvDbp3vSFLN9rjz3ffKY336fpC99f/JPeJjRqXD73yl7b4IRfNBnNXzqYAGBJYS5g4q1eYHRpimAq6qZgHcvEYDnM5WB8vgFhiz8SYeOfI2E/XDVhAApHYfabWGE702phmEV6YY/AhmGBdo9hzDSYYepnoWG0ralh0G+yYZ8HumGmxMFh1zXJYdy8z2HLqNVhfP/bYUuG4WHpNOZhD3TqYVlM7mGh6vBhLVTzYcm69GHN0vVhURT2YU9y9WHNc/Rhx1PyYRN28GGLW+1hRwnpYXYI5WERct5hxM/ZYRcX1GHrvc1hdE7HYSrOwGFIprlh54CyYWE9q2HncaJhfc+cYedDlGE3uo5hUEqIYQVKgmHWjnhhRRdsYYL3YWHxtldhZftNYafJRWHalj5hFKY2YRv6L2EA9iZhDc0gYQfnGmHoQhRha30NYd9jBmFg6wBh6m3yYGLx5GACZdJgcr3BYMETtGA4kpxgpneFYH0iaWBU8EFgqLQOYB72xV8IiNtfOVVuXw==",
          "dtype": "f4"
         }
        },
        {
         "line": {
          "cmax": 670368756202190400000,
          "cmin": -25347782625957250000,
          "color": {
           "bdata": "aP0k3zFc3N6l46Df0crr3rXQLt/yV0DfdlE736V5EN/PgZ/ed/9G3LyOul7FN4Bf/ifHX1KQ+l+VnSpg1UlaYA7xh2AoKaRgabrBYHZq4mCvzP9guzsQYaF1IWErEDNhip1EYQIVVmH8N2hhr393YVxihWExHo5h0N+WYd0koGE8fqhhO1WxYf0OuWGW8MBhCY7IYTpBz2FBYdVhjO3bYdqt4WELmOZhOBXrYQUn72FMAfJhHKT0YcI/9mEVhvdhkPL3YYZy92HMkfZheob0YUe48mHqpu9hmUfrYeQo52FhfuBhEtDbYXD01WHWcc9hndHIYeQjwmGwxrph82ezYYDqq2E046JhTAedYYYhlGHTgI5h5NuHYfmqgWFT9HZhBiRqYfW+X2EWP1VhEk1LYWDwQmGQmjthKZYzYeTcLGEn0SNhDbkdYdbbF2FzUxFh4qgKYU2uA2E1wfxgwajtYBqP4GBrXs5gOxm+YB/dsGAKuZlg8AGDYIgEZWDSlT5grwcMYE6jwV9pZtlfQgxsXw==",
           "dtype": "f4"
          },
          "colorscale": [
           [
            0,
            "#440154"
           ],
           [
            0.1111111111111111,
            "#482878"
           ],
           [
            0.2222222222222222,
            "#3e4989"
           ],
           [
            0.3333333333333333,
            "#31688e"
           ],
           [
            0.4444444444444444,
            "#26828e"
           ],
           [
            0.5555555555555556,
            "#1f9e89"
           ],
           [
            0.6666666666666666,
            "#35b779"
           ],
           [
            0.7777777777777778,
            "#6ece58"
           ],
           [
            0.8888888888888888,
            "#b5de2b"
           ],
           [
            1,
            "#fde725"
           ]
          ],
          "showscale": false,
          "width": 4
         },
         "mode": "lines",
         "showlegend": false,
         "type": "scatter3d",
         "x": {
          "bdata": "AAAAALooDiy6KI4sFz3VLLooDi3osjEtFz1VLUbHeC26KI4t0e2fLeiysS0AeMMtFz3VLS4C5y1Gx/gtLkYFLrooDi5GCxcu0e0fLl3QKC7osjEudJU6LgB4Qy6LWkwuFz1VLqMfXi4uAmcuuuRvLkbHeC7p1IAuLkaFLnS3iS66KI4uAJqSLkYLly6LfJsu0e2fLhdfpC5d0Kguo0GtLuiysS4uJLYudJW6LroGvy4AeMMuRunHLotazC7Ry9AuFz3VLl2u2S6hH94u55DiLi0C5y5zc+suuOTvLv5V9C5Ex/guijj9LujUAC+LDQMvLkYFL9B+By90twkvFvALL7ooDi9cYRAv/5kSL6LSFC9FCxcv6EMZL4p8Gy8utR0v0O0fL3QmIi8WXyQvuZcmL1zQKC//CCsvokEtL0V6Ly/osjEvi+szLy4kNi/QXDgvdJU6LxbOPC+5Bj8vXD9BL/93Qy+isEUvRelHL+ghSi+LWkwvLpNOL9DLUC9zBFMvFj1VL7l1Vy9crlkv/+ZbLw==",
          "dtype": "f4"
         },
         "y": {
          "bdata": "sBSoQLAUqECwFKhAsBSoQLAUqECwFKhAsBSoQLAUqECwFKhAsBSoQLAUqECwFKhAsBSoQLAUqECwFKhAsBSoQLAUqECwFKhAsBSoQLAUqECwFKhAsBSoQLAUqECwFKhAsBSoQLAUqECwFKhAsBSoQLAUqECwFKhAsBSoQLAUqECwFKhAsBSoQLAUqECwFKhAsBSoQLAUqECwFKhAsBSoQLAUqECwFKhAsBSoQLAUqECwFKhAsBSoQLAUqECwFKhAsBSoQLAUqECwFKhAsBSoQLAUqECwFKhAsBSoQLAUqECwFKhAsBSoQLAUqECwFKhAsBSoQLAUqECwFKhAsBSoQLAUqECwFKhAsBSoQLAUqECwFKhAsBSoQLAUqECwFKhAsBSoQLAUqECwFKhAsBSoQLAUqECwFKhAsBSoQLAUqECwFKhAsBSoQLAUqECwFKhAsBSoQLAUqECwFKhAsBSoQLAUqECwFKhAsBSoQLAUqECwFKhAsBSoQLAUqECwFKhAsBSoQLAUqECwFKhAsBSoQA==",
          "dtype": "f4"
         },
         "z": {
          "bdata": "aP0k3zFc3N6l46Df0crr3rXQLt/yV0DfdlE736V5EN/PgZ/ed/9G3LyOul7FN4Bf/ifHX1KQ+l+VnSpg1UlaYA7xh2AoKaRgabrBYHZq4mCvzP9guzsQYaF1IWErEDNhip1EYQIVVmH8N2hhr393YVxihWExHo5h0N+WYd0koGE8fqhhO1WxYf0OuWGW8MBhCY7IYTpBz2FBYdVhjO3bYdqt4WELmOZhOBXrYQUn72FMAfJhHKT0YcI/9mEVhvdhkPL3YYZy92HMkfZheob0YUe48mHqpu9hmUfrYeQo52FhfuBhEtDbYXD01WHWcc9hndHIYeQjwmGwxrph82ezYYDqq2E046JhTAedYYYhlGHTgI5h5NuHYfmqgWFT9HZhBiRqYfW+X2EWP1VhEk1LYWDwQmGQmjthKZYzYeTcLGEn0SNhDbkdYdbbF2FzUxFh4qgKYU2uA2E1wfxgwajtYBqP4GBrXs5gOxm+YB/dsGAKuZlg8AGDYIgEZWDSlT5grwcMYE6jwV9pZtlfQgxsXw==",
          "dtype": "f4"
         }
        },
        {
         "line": {
          "cmax": 670368756202190400000,
          "cmin": -25347782625957250000,
          "color": {
           "bdata": "8Osl35F/3d6azqHf2jju3lv/MN8d9kLfCcQ+3wy4FN+YVareCBQW3QJMq16hrXdfmm7BX+Ba9F+PEydgyCFWYCmahWChiaFg+Mu+YC4q32DEP/xgDkkOYfpbH2GI0zBhTj9CYZGbU2FbqGVhlcZ0YU8JhGEbyoxh+Y2VYWnknmEdUadheTywYQoYuGEWHsBhOejHYRvIzmG8HdVhF+DbYdTa4WE8AudhDL/rYbYL8GFnJPNhOwL2YTXV92HrS/lhM+X5YWCJ+WEXyPhh99P2YQsW9WFzD/Jh9KTtYVtn6WEOquJhMvLdYd3z12FgSNFh3HbKYVqbw2GnCLxh0m+0YXi3rGGbc6NhLFydYbYZlGFEYY5hE4WHYZIhgWGGgHVhylFoYfOiXWHD31JhkrBIYVAkQGHlpThht4gwYW+9KWEApyBhMpkaYZnBFGHnUA5hn74HYTvhAGFCefdgh7HoYFL322BpIMpgC0G6YLB1rWAhspZg/GKAYMeaYGCO/jpg0yoJYLETvV/SJ9dfYrNpXw==",
           "dtype": "f4"
          },
          "colorscale": [
           [
            0,
            "#440154"
           ],
           [
            0.1111111111111111,
            "#482878"
           ],
           [
            0.2222222222222222,
            "#3e4989"
           ],
           [
            0.3333333333333333,
            "#31688e"
           ],
           [
            0.4444444444444444,
            "#26828e"
           ],
           [
            0.5555555555555556,
            "#1f9e89"
           ],
           [
            0.6666666666666666,
            "#35b779"
           ],
           [
            0.7777777777777778,
            "#6ece58"
           ],
           [
            0.8888888888888888,
            "#b5de2b"
           ],
           [
            1,
            "#fde725"
           ]
          ],
          "showscale": false,
          "width": 4
         },
         "mode": "lines",
         "showlegend": false,
         "type": "scatter3d",
         "x": {
          "bdata": "AAAAALooDiy6KI4sFz3VLLooDi3osjEtFz1VLUbHeC26KI4t0e2fLeiysS0AeMMtFz3VLS4C5y1Gx/gtLkYFLrooDi5GCxcu0e0fLl3QKC7osjEudJU6LgB4Qy6LWkwuFz1VLqMfXi4uAmcuuuRvLkbHeC7p1IAuLkaFLnS3iS66KI4uAJqSLkYLly6LfJsu0e2fLhdfpC5d0Kguo0GtLuiysS4uJLYudJW6LroGvy4AeMMuRunHLotazC7Ry9AuFz3VLl2u2S6hH94u55DiLi0C5y5zc+suuOTvLv5V9C5Ex/guijj9LujUAC+LDQMvLkYFL9B+By90twkvFvALL7ooDi9cYRAv/5kSL6LSFC9FCxcv6EMZL4p8Gy8utR0v0O0fL3QmIi8WXyQvuZcmL1zQKC//CCsvokEtL0V6Ly/osjEvi+szLy4kNi/QXDgvdJU6LxbOPC+5Bj8vXD9BL/93Qy+isEUvRelHL+ghSi+LWkwvLpNOL9DLUC9zBFMvFj1VL7l1Vy9crlkv/+ZbLw==",
          "dtype": "f4"
         },
         "y": {
          "bdata": "o4uuQKOLrkCji65Ao4uuQKOLrkCji65Ao4uuQKOLrkCji65Ao4uuQKOLrkCji65Ao4uuQKOLrkCji65Ao4uuQKOLrkCji65Ao4uuQKOLrkCji65Ao4uuQKOLrkCji65Ao4uuQKOLrkCji65Ao4uuQKOLrkCji65Ao4uuQKOLrkCji65Ao4uuQKOLrkCji65Ao4uuQKOLrkCji65Ao4uuQKOLrkCji65Ao4uuQKOLrkCji65Ao4uuQKOLrkCji65Ao4uuQKOLrkCji65Ao4uuQKOLrkCji65Ao4uuQKOLrkCji65Ao4uuQKOLrkCji65Ao4uuQKOLrkCji65Ao4uuQKOLrkCji65Ao4uuQKOLrkCji65Ao4uuQKOLrkCji65Ao4uuQKOLrkCji65Ao4uuQKOLrkCji65Ao4uuQKOLrkCji65Ao4uuQKOLrkCji65Ao4uuQKOLrkCji65Ao4uuQKOLrkCji65Ao4uuQKOLrkCji65Ao4uuQKOLrkCji65Ao4uuQKOLrkCji65Ao4uuQA==",
          "dtype": "f4"
         },
         "z": {
          "bdata": "8Osl35F/3d6azqHf2jju3lv/MN8d9kLfCcQ+3wy4FN+YVareCBQW3QJMq16hrXdfmm7BX+Ba9F+PEydgyCFWYCmahWChiaFg+Mu+YC4q32DEP/xgDkkOYfpbH2GI0zBhTj9CYZGbU2FbqGVhlcZ0YU8JhGEbyoxh+Y2VYWnknmEdUadheTywYQoYuGEWHsBhOejHYRvIzmG8HdVhF+DbYdTa4WE8AudhDL/rYbYL8GFnJPNhOwL2YTXV92HrS/lhM+X5YWCJ+WEXyPhh99P2YQsW9WFzD/Jh9KTtYVtn6WEOquJhMvLdYd3z12FgSNFh3HbKYVqbw2GnCLxh0m+0YXi3rGGbc6NhLFydYbYZlGFEYY5hE4WHYZIhgWGGgHVhylFoYfOiXWHD31JhkrBIYVAkQGHlpThht4gwYW+9KWEApyBhMpkaYZnBFGHnUA5hn74HYTvhAGFCefdgh7HoYFL322BpIMpgC0G6YLB1rWAhspZg/GKAYMeaYGCO/jpg0yoJYLETvV/SJ9dfYrNpXw==",
          "dtype": "f4"
         }
        },
        {
         "line": {
          "cmax": 670368756202190400000,
          "cmin": -25347782625957250000,
          "color": {
           "bdata": "2usm34OT3t6EvaLfT4Xw3pgVM99Yb0XfaAVC34KtGN85i7TeUU9z3bYMnV7ZbW9fHOa7X2uE7l/nvCNgXC9SYGBhg2AVCJ9ga/y7YCMI3GDp0vhgHWYMYaNRHWH4pC5hCe4/YXIuUWFLI2NhoxhyYeq0gmHOeYth9T6UYSymnWH6JaZhNCWvYXAit2HCTL9hDUTHYRBRzmGa3dRhj9bbYYoM4mGjcudhpXDsYWD58GGvUvRhMW33YY15+WGMIvthV+r7YdK0+2GIFPthxjn5YdGM92GQkvRhzB7wYR7B62Fc8uRhETPgYUkS2mFdPtNhQjvMYY8xxWFBab1hzZW1YcuhrWFTIaRhF8ydYe4qlGEGWo5hr0SHYQetgGF0MnRhC6BmYe6jW2EVmlBhvidGYeNnPWHtuzVhWIEtYdOfJmFZfB1hinIXYYCdEWG+QAthQMQEYbME/GAuCvJgspPjYMo012DVtcVggD62YB7mqWCRhZNgoEN7YLfxW2DKNDdgISYGYFZSuF960tRf/09nXw==",
           "dtype": "f4"
          },
          "colorscale": [
           [
            0,
            "#440154"
           ],
           [
            0.1111111111111111,
            "#482878"
           ],
           [
            0.2222222222222222,
            "#3e4989"
           ],
           [
            0.3333333333333333,
            "#31688e"
           ],
           [
            0.4444444444444444,
            "#26828e"
           ],
           [
            0.5555555555555556,
            "#1f9e89"
           ],
           [
            0.6666666666666666,
            "#35b779"
           ],
           [
            0.7777777777777778,
            "#6ece58"
           ],
           [
            0.8888888888888888,
            "#b5de2b"
           ],
           [
            1,
            "#fde725"
           ]
          ],
          "showscale": false,
          "width": 4
         },
         "mode": "lines",
         "showlegend": false,
         "type": "scatter3d",
         "x": {
          "bdata": "AAAAALooDiy6KI4sFz3VLLooDi3osjEtFz1VLUbHeC26KI4t0e2fLeiysS0AeMMtFz3VLS4C5y1Gx/gtLkYFLrooDi5GCxcu0e0fLl3QKC7osjEudJU6LgB4Qy6LWkwuFz1VLqMfXi4uAmcuuuRvLkbHeC7p1IAuLkaFLnS3iS66KI4uAJqSLkYLly6LfJsu0e2fLhdfpC5d0Kguo0GtLuiysS4uJLYudJW6LroGvy4AeMMuRunHLotazC7Ry9AuFz3VLl2u2S6hH94u55DiLi0C5y5zc+suuOTvLv5V9C5Ex/guijj9LujUAC+LDQMvLkYFL9B+By90twkvFvALL7ooDi9cYRAv/5kSL6LSFC9FCxcv6EMZL4p8Gy8utR0v0O0fL3QmIi8WXyQvuZcmL1zQKC//CCsvokEtL0V6Ly/osjEvi+szLy4kNi/QXDgvdJU6LxbOPC+5Bj8vXD9BL/93Qy+isEUvRelHL+ghSi+LWkwvLpNOL9DLUC9zBFMvFj1VL7l1Vy9crlkv/+ZbLw==",
          "dtype": "f4"
         },
         "y": {
          "bdata": "lgK1QJYCtUCWArVAlgK1QJYCtUCWArVAlgK1QJYCtUCWArVAlgK1QJYCtUCWArVAlgK1QJYCtUCWArVAlgK1QJYCtUCWArVAlgK1QJYCtUCWArVAlgK1QJYCtUCWArVAlgK1QJYCtUCWArVAlgK1QJYCtUCWArVAlgK1QJYCtUCWArVAlgK1QJYCtUCWArVAlgK1QJYCtUCWArVAlgK1QJYCtUCWArVAlgK1QJYCtUCWArVAlgK1QJYCtUCWArVAlgK1QJYCtUCWArVAlgK1QJYCtUCWArVAlgK1QJYCtUCWArVAlgK1QJYCtUCWArVAlgK1QJYCtUCWArVAlgK1QJYCtUCWArVAlgK1QJYCtUCWArVAlgK1QJYCtUCWArVAlgK1QJYCtUCWArVAlgK1QJYCtUCWArVAlgK1QJYCtUCWArVAlgK1QJYCtUCWArVAlgK1QJYCtUCWArVAlgK1QJYCtUCWArVAlgK1QJYCtUCWArVAlgK1QJYCtUCWArVAlgK1QJYCtUCWArVAlgK1QA==",
          "dtype": "f4"
         },
         "z": {
          "bdata": "2usm34OT3t6EvaLfT4Xw3pgVM99Yb0XfaAVC34KtGN85i7TeUU9z3bYMnV7ZbW9fHOa7X2uE7l/nvCNgXC9SYGBhg2AVCJ9ga/y7YCMI3GDp0vhgHWYMYaNRHWH4pC5hCe4/YXIuUWFLI2NhoxhyYeq0gmHOeYth9T6UYSymnWH6JaZhNCWvYXAit2HCTL9hDUTHYRBRzmGa3dRhj9bbYYoM4mGjcudhpXDsYWD58GGvUvRhMW33YY15+WGMIvthV+r7YdK0+2GIFPthxjn5YdGM92GQkvRhzB7wYR7B62Fc8uRhETPgYUkS2mFdPtNhQjvMYY8xxWFBab1hzZW1YcuhrWFTIaRhF8ydYe4qlGEGWo5hr0SHYQetgGF0MnRhC6BmYe6jW2EVmlBhvidGYeNnPWHtuzVhWIEtYdOfJmFZfB1hinIXYYCdEWG+QAthQMQEYbME/GAuCvJgspPjYMo012DVtcVggD62YB7mqWCRhZNgoEN7YLfxW2DKNDdgISYGYFZSuF960tRf/09nXw==",
          "dtype": "f4"
         }
        },
        {
         "line": {
          "cmax": 670368756202190400000,
          "cmin": -25347782625957250000,
          "color": {
           "bdata": "Evsn33+a397br6PfILTy3g8WNd/qx0ffURtF39hhHN9VNb7ezR2l3Xe0j15opGdfKom2X4wD6V/5lCBgnW1OYDlEgWAVopxghEm5YGQC2WBKhPVgCZIKYdtVG2HlgyxhVqk9YWLNTmGjqGBha3VvYR1lgWFPLYphxfKSYT1qnGHS/KRhVw+uYRIutmFufL5hQaHGYbfbzWFQoNRhMtDbYRRC4mEi6OdhrSjtYW3u8WFRivVh+OL4YYMq+2FtB/1hPf/9Yefx/WHyc/1hfrT7YSAZ+mG8LPdhf7HyYVcy7mFrU+dhvY7iYc9L3GH1T9VhCRvOYe3ixmEY5b5hpNa2YW+mrmGL6aRhnFSeYQFTlGFOaY5hSxmHYUZMgGHGCHNhUg5lYRLCWWHnbk5hP7RDYXC9OmGb3zJhnoMqYRaII2GmVRphGUoUYcl0DmGPKAhhf78BYdku9mCAf+xgL1reYIBS0mBPKcFgkBuyYJI3pmCtO5BgnYt1YGMWV2AmQzNg8QEDYHhqs1+YbNJfaOdkXw==",
           "dtype": "f4"
          },
          "colorscale": [
           [
            0,
            "#440154"
           ],
           [
            0.1111111111111111,
            "#482878"
           ],
           [
            0.2222222222222222,
            "#3e4989"
           ],
           [
            0.3333333333333333,
            "#31688e"
           ],
           [
            0.4444444444444444,
            "#26828e"
           ],
           [
            0.5555555555555556,
            "#1f9e89"
           ],
           [
            0.6666666666666666,
            "#35b779"
           ],
           [
            0.7777777777777778,
            "#6ece58"
           ],
           [
            0.8888888888888888,
            "#b5de2b"
           ],
           [
            1,
            "#fde725"
           ]
          ],
          "showscale": false,
          "width": 4
         },
         "mode": "lines",
         "showlegend": false,
         "type": "scatter3d",
         "x": {
          "bdata": "AAAAALooDiy6KI4sFz3VLLooDi3osjEtFz1VLUbHeC26KI4t0e2fLeiysS0AeMMtFz3VLS4C5y1Gx/gtLkYFLrooDi5GCxcu0e0fLl3QKC7osjEudJU6LgB4Qy6LWkwuFz1VLqMfXi4uAmcuuuRvLkbHeC7p1IAuLkaFLnS3iS66KI4uAJqSLkYLly6LfJsu0e2fLhdfpC5d0Kguo0GtLuiysS4uJLYudJW6LroGvy4AeMMuRunHLotazC7Ry9AuFz3VLl2u2S6hH94u55DiLi0C5y5zc+suuOTvLv5V9C5Ex/guijj9LujUAC+LDQMvLkYFL9B+By90twkvFvALL7ooDi9cYRAv/5kSL6LSFC9FCxcv6EMZL4p8Gy8utR0v0O0fL3QmIi8WXyQvuZcmL1zQKC//CCsvokEtL0V6Ly/osjEvi+szLy4kNi/QXDgvdJU6LxbOPC+5Bj8vXD9BL/93Qy+isEUvRelHL+ghSi+LWkwvLpNOL9DLUC9zBFMvFj1VL7l1Vy9crlkv/+ZbLw==",
          "dtype": "f4"
         },
         "y": {
          "bdata": "iXm7QIl5u0CJebtAiXm7QIl5u0CJebtAiXm7QIl5u0CJebtAiXm7QIl5u0CJebtAiXm7QIl5u0CJebtAiXm7QIl5u0CJebtAiXm7QIl5u0CJebtAiXm7QIl5u0CJebtAiXm7QIl5u0CJebtAiXm7QIl5u0CJebtAiXm7QIl5u0CJebtAiXm7QIl5u0CJebtAiXm7QIl5u0CJebtAiXm7QIl5u0CJebtAiXm7QIl5u0CJebtAiXm7QIl5u0CJebtAiXm7QIl5u0CJebtAiXm7QIl5u0CJebtAiXm7QIl5u0CJebtAiXm7QIl5u0CJebtAiXm7QIl5u0CJebtAiXm7QIl5u0CJebtAiXm7QIl5u0CJebtAiXm7QIl5u0CJebtAiXm7QIl5u0CJebtAiXm7QIl5u0CJebtAiXm7QIl5u0CJebtAiXm7QIl5u0CJebtAiXm7QIl5u0CJebtAiXm7QIl5u0CJebtAiXm7QIl5u0CJebtAiXm7QIl5u0CJebtAiXm7QIl5u0CJebtAiXm7QA==",
          "dtype": "f4"
         },
         "z": {
          "bdata": "Evsn33+a397br6PfILTy3g8WNd/qx0ffURtF39hhHN9VNb7ezR2l3Xe0j15opGdfKom2X4wD6V/5lCBgnW1OYDlEgWAVopxghEm5YGQC2WBKhPVgCZIKYdtVG2HlgyxhVqk9YWLNTmGjqGBha3VvYR1lgWFPLYphxfKSYT1qnGHS/KRhVw+uYRIutmFufL5hQaHGYbfbzWFQoNRhMtDbYRRC4mEi6OdhrSjtYW3u8WFRivVh+OL4YYMq+2FtB/1hPf/9Yefx/WHyc/1hfrT7YSAZ+mG8LPdhf7HyYVcy7mFrU+dhvY7iYc9L3GH1T9VhCRvOYe3ixmEY5b5hpNa2YW+mrmGL6aRhnFSeYQFTlGFOaY5hSxmHYUZMgGHGCHNhUg5lYRLCWWHnbk5hP7RDYXC9OmGb3zJhnoMqYRaII2GmVRphGUoUYcl0DmGPKAhhf78BYdku9mCAf+xgL1reYIBS0mBPKcFgkBuyYJI3pmCtO5BgnYt1YGMWV2AmQzNg8QEDYHhqs1+YbNJfaOdkXw==",
          "dtype": "f4"
         }
        },
        {
         "line": {
          "cmax": 670368756202190400000,
          "cmin": -25347782625957250000,
          "color": {
           "bdata": "5hYp382U4N6EpKTfbsf03rkBN98wAkrfOwlI31HaH9/1X8femrLN3eYug17vQWBfvFSxX17R41/wlx1gI9lKYMeBfmAEVppgwbG2YH0X1mCbUvJgfcwIYWBoGWEkcCphMXE7YX94TGGxOF5h0t1sYRgagGHw5IhhwKmRYdswm2Hm1aNh8/qsYRM7tWEhrb1hqf/FYcpnzWE9ZdRhVczbYYV64mF9YehhpOXtYTHp8mFAyfZhKmH6YVrl/GGE9/5hSBAAYoEeAGJ/4v9h3D/+YYW2/GFd2flhH1j1YUG28GGcyOlhXwDlYZyb3mFXeNdhtxHQYfeqyGHPd8BhSy64YaTBr2EayaVho/KeYUqPlGG9jI5h+wCHYYv7f2E6AXJhBJtjYeb8V2GCXkxhLFdBYdYmOGGUEzBhxpInYSF6IGFBNxdhnyQRYaRMC2GuDQVh22v9YENM8GCF5OZgcxDZYFFbzWBphbxgB+KtYAhzomCt3IxggaxvYFUVUmDtMy9gEI3/X6Jnrl/6+89ffX5iXw==",
           "dtype": "f4"
          },
          "colorscale": [
           [
            0,
            "#440154"
           ],
           [
            0.1111111111111111,
            "#482878"
           ],
           [
            0.2222222222222222,
            "#3e4989"
           ],
           [
            0.3333333333333333,
            "#31688e"
           ],
           [
            0.4444444444444444,
            "#26828e"
           ],
           [
            0.5555555555555556,
            "#1f9e89"
           ],
           [
            0.6666666666666666,
            "#35b779"
           ],
           [
            0.7777777777777778,
            "#6ece58"
           ],
           [
            0.8888888888888888,
            "#b5de2b"
           ],
           [
            1,
            "#fde725"
           ]
          ],
          "showscale": false,
          "width": 4
         },
         "mode": "lines",
         "showlegend": false,
         "type": "scatter3d",
         "x": {
          "bdata": "AAAAALooDiy6KI4sFz3VLLooDi3osjEtFz1VLUbHeC26KI4t0e2fLeiysS0AeMMtFz3VLS4C5y1Gx/gtLkYFLrooDi5GCxcu0e0fLl3QKC7osjEudJU6LgB4Qy6LWkwuFz1VLqMfXi4uAmcuuuRvLkbHeC7p1IAuLkaFLnS3iS66KI4uAJqSLkYLly6LfJsu0e2fLhdfpC5d0Kguo0GtLuiysS4uJLYudJW6LroGvy4AeMMuRunHLotazC7Ry9AuFz3VLl2u2S6hH94u55DiLi0C5y5zc+suuOTvLv5V9C5Ex/guijj9LujUAC+LDQMvLkYFL9B+By90twkvFvALL7ooDi9cYRAv/5kSL6LSFC9FCxcv6EMZL4p8Gy8utR0v0O0fL3QmIi8WXyQvuZcmL1zQKC//CCsvokEtL0V6Ly/osjEvi+szLy4kNi/QXDgvdJU6LxbOPC+5Bj8vXD9BL/93Qy+isEUvRelHL+ghSi+LWkwvLpNOL9DLUC9zBFMvFj1VL7l1Vy9crlkv/+ZbLw==",
          "dtype": "f4"
         },
         "y": {
          "bdata": "fPDBQHzwwUB88MFAfPDBQHzwwUB88MFAfPDBQHzwwUB88MFAfPDBQHzwwUB88MFAfPDBQHzwwUB88MFAfPDBQHzwwUB88MFAfPDBQHzwwUB88MFAfPDBQHzwwUB88MFAfPDBQHzwwUB88MFAfPDBQHzwwUB88MFAfPDBQHzwwUB88MFAfPDBQHzwwUB88MFAfPDBQHzwwUB88MFAfPDBQHzwwUB88MFAfPDBQHzwwUB88MFAfPDBQHzwwUB88MFAfPDBQHzwwUB88MFAfPDBQHzwwUB88MFAfPDBQHzwwUB88MFAfPDBQHzwwUB88MFAfPDBQHzwwUB88MFAfPDBQHzwwUB88MFAfPDBQHzwwUB88MFAfPDBQHzwwUB88MFAfPDBQHzwwUB88MFAfPDBQHzwwUB88MFAfPDBQHzwwUB88MFAfPDBQHzwwUB88MFAfPDBQHzwwUB88MFAfPDBQHzwwUB88MFAfPDBQHzwwUB88MFAfPDBQHzwwUB88MFAfPDBQHzwwUB88MFAfPDBQA==",
          "dtype": "f4"
         },
         "z": {
          "bdata": "5hYp382U4N6EpKTfbsf03rkBN98wAkrfOwlI31HaH9/1X8femrLN3eYug17vQWBfvFSxX17R41/wlx1gI9lKYMeBfmAEVppgwbG2YH0X1mCbUvJgfcwIYWBoGWEkcCphMXE7YX94TGGxOF5h0t1sYRgagGHw5IhhwKmRYdswm2Hm1aNh8/qsYRM7tWEhrb1hqf/FYcpnzWE9ZdRhVczbYYV64mF9YehhpOXtYTHp8mFAyfZhKmH6YVrl/GGE9/5hSBAAYoEeAGJ/4v9h3D/+YYW2/GFd2flhH1j1YUG28GGcyOlhXwDlYZyb3mFXeNdhtxHQYfeqyGHPd8BhSy64YaTBr2EayaVho/KeYUqPlGG9jI5h+wCHYYv7f2E6AXJhBJtjYeb8V2GCXkxhLFdBYdYmOGGUEzBhxpInYSF6IGFBNxdhnyQRYaRMC2GuDQVh22v9YENM8GCF5OZgcxDZYFFbzWBphbxgB+KtYAhzomCt3IxggaxvYFUVUmDtMy9gEI3/X6Jnrl/6+89ffX5iXw==",
          "dtype": "f4"
         }
        },
        {
         "line": {
          "cmax": 670368756202190400000,
          "cmin": -25347782625957250000,
          "color": {
           "bdata": "Rjwq30+C4d65maXfTb723hrYON9KHkzfjs9K34sYI99gDdDefYfz3VDjbl7pRllfEUusX0Xq3l8DxBpgRXBHYAetemAgI5hgnjS0YD9H02DNPe9gmxUHYX6JF2EkaihhO0Y5YXowSmFU1FthGlJqYaGofWEhoYdhbmSQYYr6mWGhsaJhfuirYaxJtGHz3rxhO1/FYf70zGGrK9RhIcrbYcC04mE63ehhvqXuYXvn82HkDPhh4eT7Ybym/mGWdwBiLSUBYuZIAWLKLQFifGsAYgFg/2FFk/xhdg34YbVH82FzTOxhSYLnYRT84GH2sdlh9hnSYXqEymFxHMJhF5i5YQbvsGHnu6Zhi6KfYb3clGF/wY5hYvmGYT1/f2HyGHFhMkRiYVxTVmGraEphTRE/YY+lNWEeWi1hyrEkYXt5HWE8JRRh1wYOYQEqCGF79QFhNFr3YCxo6mCAROFgccHTYBJayGAP1bdgtZupYHehnmDOcIlg1LRpYL37TGCvEStgbPj4X99UqV9jhs1fChpgXw==",
           "dtype": "f4"
          },
          "colorscale": [
           [
            0,
            "#440154"
           ],
           [
            0.1111111111111111,
            "#482878"
           ],
           [
            0.2222222222222222,
            "#3e4989"
           ],
           [
            0.3333333333333333,
            "#31688e"
           ],
           [
            0.4444444444444444,
            "#26828e"
           ],
           [
            0.5555555555555556,
            "#1f9e89"
           ],
           [
            0.6666666666666666,
            "#35b779"
           ],
           [
            0.7777777777777778,
            "#6ece58"
           ],
           [
            0.8888888888888888,
            "#b5de2b"
           ],
           [
            1,
            "#fde725"
           ]
          ],
          "showscale": false,
          "width": 4
         },
         "mode": "lines",
         "showlegend": false,
         "type": "scatter3d",
         "x": {
          "bdata": "AAAAALooDiy6KI4sFz3VLLooDi3osjEtFz1VLUbHeC26KI4t0e2fLeiysS0AeMMtFz3VLS4C5y1Gx/gtLkYFLrooDi5GCxcu0e0fLl3QKC7osjEudJU6LgB4Qy6LWkwuFz1VLqMfXi4uAmcuuuRvLkbHeC7p1IAuLkaFLnS3iS66KI4uAJqSLkYLly6LfJsu0e2fLhdfpC5d0Kguo0GtLuiysS4uJLYudJW6LroGvy4AeMMuRunHLotazC7Ry9AuFz3VLl2u2S6hH94u55DiLi0C5y5zc+suuOTvLv5V9C5Ex/guijj9LujUAC+LDQMvLkYFL9B+By90twkvFvALL7ooDi9cYRAv/5kSL6LSFC9FCxcv6EMZL4p8Gy8utR0v0O0fL3QmIi8WXyQvuZcmL1zQKC//CCsvokEtL0V6Ly/osjEvi+szLy4kNi/QXDgvdJU6LxbOPC+5Bj8vXD9BL/93Qy+isEUvRelHL+ghSi+LWkwvLpNOL9DLUC9zBFMvFj1VL7l1Vy9crlkv/+ZbLw==",
          "dtype": "f4"
         },
         "y": {
          "bdata": "cGfIQHBnyEBwZ8hAcGfIQHBnyEBwZ8hAcGfIQHBnyEBwZ8hAcGfIQHBnyEBwZ8hAcGfIQHBnyEBwZ8hAcGfIQHBnyEBwZ8hAcGfIQHBnyEBwZ8hAcGfIQHBnyEBwZ8hAcGfIQHBnyEBwZ8hAcGfIQHBnyEBwZ8hAcGfIQHBnyEBwZ8hAcGfIQHBnyEBwZ8hAcGfIQHBnyEBwZ8hAcGfIQHBnyEBwZ8hAcGfIQHBnyEBwZ8hAcGfIQHBnyEBwZ8hAcGfIQHBnyEBwZ8hAcGfIQHBnyEBwZ8hAcGfIQHBnyEBwZ8hAcGfIQHBnyEBwZ8hAcGfIQHBnyEBwZ8hAcGfIQHBnyEBwZ8hAcGfIQHBnyEBwZ8hAcGfIQHBnyEBwZ8hAcGfIQHBnyEBwZ8hAcGfIQHBnyEBwZ8hAcGfIQHBnyEBwZ8hAcGfIQHBnyEBwZ8hAcGfIQHBnyEBwZ8hAcGfIQHBnyEBwZ8hAcGfIQHBnyEBwZ8hAcGfIQHBnyEBwZ8hAcGfIQHBnyEBwZ8hAcGfIQA==",
          "dtype": "f4"
         },
         "z": {
          "bdata": "Rjwq30+C4d65maXfTb723hrYON9KHkzfjs9K34sYI99gDdDefYfz3VDjbl7pRllfEUusX0Xq3l8DxBpgRXBHYAetemAgI5hgnjS0YD9H02DNPe9gmxUHYX6JF2EkaihhO0Y5YXowSmFU1FthGlJqYaGofWEhoYdhbmSQYYr6mWGhsaJhfuirYaxJtGHz3rxhO1/FYf70zGGrK9RhIcrbYcC04mE63ehhvqXuYXvn82HkDPhh4eT7Ybym/mGWdwBiLSUBYuZIAWLKLQFifGsAYgFg/2FFk/xhdg34YbVH82FzTOxhSYLnYRT84GH2sdlh9hnSYXqEymFxHMJhF5i5YQbvsGHnu6Zhi6KfYb3clGF/wY5hYvmGYT1/f2HyGHFhMkRiYVxTVmGraEphTRE/YY+lNWEeWi1hyrEkYXt5HWE8JRRh1wYOYQEqCGF79QFhNFr3YCxo6mCAROFgccHTYBJayGAP1bdgtZupYHehnmDOcIlg1LRpYL37TGCvEStgbPj4X99UqV9jhs1fChpgXw==",
          "dtype": "f4"
         }
        },
        {
         "line": {
          "cmax": 670368756202190400000,
          "cmin": -25347782625957250000,
          "color": {
           "bdata": "7Wcr3w9j4t6DjabfCZj43nWYOt8lHE7fkm5N3/MdJt/XP9je9l4L3l7lWF4Kr1JfkWqnX11K2l8rFxhgKjFEYP8Hd2B7CJZgYNGxYDyR0GB5RexgX20FYV65FWEvciZh6yg3YQH2R2FgfFlhHNNnYY8oe2F7YoZhdyOPYeTHmGGNkKFhXtiqYTxas2EZErxh9L/EYR+DzGEs89NhxcjbYaDv4mHWWelhDmfvYQPn9GGAUvlh+Wr9YY41AGIqdQFiFjwCYsV1AmIQbQJiKboBYuwHAWKOVP9hccv6YXzg9WHy2O5hPw7qYQhn42Gx9tth1y3UYcJpzGF+zcNh0A67YcUpsmHEvadhT2CgYe43lWFzBI9h3P+GYU8ff2GMTHBhfQdhYQXEVGHBjEhhAOM8Yco6M2E4tSphYeMhYXWJGmF8IxFhNPUKYawRBWEsyv1gsFTxYHmN5GBWqttg03fOYD5Zw2BpIrNgH1KlYIfLmmAPAIZgybJjYPrVR2CR5iZgKlbyX9g9pF8tEctfbb5dXw==",
           "dtype": "f4"
          },
          "colorscale": [
           [
            0,
            "#440154"
           ],
           [
            0.1111111111111111,
            "#482878"
           ],
           [
            0.2222222222222222,
            "#3e4989"
           ],
           [
            0.3333333333333333,
            "#31688e"
           ],
           [
            0.4444444444444444,
            "#26828e"
           ],
           [
            0.5555555555555556,
            "#1f9e89"
           ],
           [
            0.6666666666666666,
            "#35b779"
           ],
           [
            0.7777777777777778,
            "#6ece58"
           ],
           [
            0.8888888888888888,
            "#b5de2b"
           ],
           [
            1,
            "#fde725"
           ]
          ],
          "showscale": false,
          "width": 4
         },
         "mode": "lines",
         "showlegend": false,
         "type": "scatter3d",
         "x": {
          "bdata": "AAAAALooDiy6KI4sFz3VLLooDi3osjEtFz1VLUbHeC26KI4t0e2fLeiysS0AeMMtFz3VLS4C5y1Gx/gtLkYFLrooDi5GCxcu0e0fLl3QKC7osjEudJU6LgB4Qy6LWkwuFz1VLqMfXi4uAmcuuuRvLkbHeC7p1IAuLkaFLnS3iS66KI4uAJqSLkYLly6LfJsu0e2fLhdfpC5d0Kguo0GtLuiysS4uJLYudJW6LroGvy4AeMMuRunHLotazC7Ry9AuFz3VLl2u2S6hH94u55DiLi0C5y5zc+suuOTvLv5V9C5Ex/guijj9LujUAC+LDQMvLkYFL9B+By90twkvFvALL7ooDi9cYRAv/5kSL6LSFC9FCxcv6EMZL4p8Gy8utR0v0O0fL3QmIi8WXyQvuZcmL1zQKC//CCsvokEtL0V6Ly/osjEvi+szLy4kNi/QXDgvdJU6LxbOPC+5Bj8vXD9BL/93Qy+isEUvRelHL+ghSi+LWkwvLpNOL9DLUC9zBFMvFj1VL7l1Vy9crlkv/+ZbLw==",
          "dtype": "f4"
         },
         "y": {
          "bdata": "Yt7OQGLezkBi3s5AYt7OQGLezkBi3s5AYt7OQGLezkBi3s5AYt7OQGLezkBi3s5AYt7OQGLezkBi3s5AYt7OQGLezkBi3s5AYt7OQGLezkBi3s5AYt7OQGLezkBi3s5AYt7OQGLezkBi3s5AYt7OQGLezkBi3s5AYt7OQGLezkBi3s5AYt7OQGLezkBi3s5AYt7OQGLezkBi3s5AYt7OQGLezkBi3s5AYt7OQGLezkBi3s5AYt7OQGLezkBi3s5AYt7OQGLezkBi3s5AYt7OQGLezkBi3s5AYt7OQGLezkBi3s5AYt7OQGLezkBi3s5AYt7OQGLezkBi3s5AYt7OQGLezkBi3s5AYt7OQGLezkBi3s5AYt7OQGLezkBi3s5AYt7OQGLezkBi3s5AYt7OQGLezkBi3s5AYt7OQGLezkBi3s5AYt7OQGLezkBi3s5AYt7OQGLezkBi3s5AYt7OQGLezkBi3s5AYt7OQGLezkBi3s5AYt7OQGLezkBi3s5AYt7OQGLezkBi3s5AYt7OQA==",
          "dtype": "f4"
         },
         "z": {
          "bdata": "7Wcr3w9j4t6DjabfCZj43nWYOt8lHE7fkm5N3/MdJt/XP9je9l4L3l7lWF4Kr1JfkWqnX11K2l8rFxhgKjFEYP8Hd2B7CJZgYNGxYDyR0GB5RexgX20FYV65FWEvciZh6yg3YQH2R2FgfFlhHNNnYY8oe2F7YoZhdyOPYeTHmGGNkKFhXtiqYTxas2EZErxh9L/EYR+DzGEs89NhxcjbYaDv4mHWWelhDmfvYQPn9GGAUvlh+Wr9YY41AGIqdQFiFjwCYsV1AmIQbQJiKboBYuwHAWKOVP9hccv6YXzg9WHy2O5hPw7qYQhn42Gx9tth1y3UYcJpzGF+zcNh0A67YcUpsmHEvadhT2CgYe43lWFzBI9h3P+GYU8ff2GMTHBhfQdhYQXEVGHBjEhhAOM8Yco6M2E4tSphYeMhYXWJGmF8IxFhNPUKYawRBWEsyv1gsFTxYHmN5GBWqttg03fOYD5Zw2BpIrNgH1KlYIfLmmAPAIZgybJjYPrVR2CR5iZgKlbyX9g9pF8tEctfbb5dXw==",
          "dtype": "f4"
         }
        },
        {
         "line": {
          "cmax": 670368756202190400000,
          "cmin": -25347782625957250000,
          "color": {
           "bdata": "bJYs30Q24962faffE1P63h9BPN+Y+k/fMuVP3/7qKN9j99/eY7Qb3llaRF71dkxfRbaiX8Hv1V9lkBVgRRtBYAeSc2ADBpRgIIivYOH1zWAlaulgQNQDYZv4E2EiiSRhXBo1YUXKRWFIMldhoWJlYay1eGHcKYVhxueNYceZl2F0c6BhT8upYVZtsmEBR7thAyLEYRcSzGFAu9NhgcfbYQcq42G61elhkCfwYWLl9WEll/phDvD+YUgXAWJZcgJiqFIDYoeiA2JNrANiBAkDYvxfAmJnCwFiZIv9YVJ6+GGoZ/Fhip3sYeDV5WEQQN5hI0fWYclUzmE4hcVhEI28Yctss2HXyahhuSehYWedlWFNUo9hoBGHYSHXfmFqmG9hceJfYUpNU2EQykZhmMw6YaPnMGHVJihhMSofYWitF2HKNQ5hHvQHYXYIAmFFw/dgBWbrYBXH3mD0INZgJD7JYGBjvmDEd65g2w6hYAn6lmB+koJgtrRdYLOwQmDMvCJgoLbrX0sun1+8ochf+G9bXw==",
           "dtype": "f4"
          },
          "colorscale": [
           [
            0,
            "#440154"
           ],
           [
            0.1111111111111111,
            "#482878"
           ],
           [
            0.2222222222222222,
            "#3e4989"
           ],
           [
            0.3333333333333333,
            "#31688e"
           ],
           [
            0.4444444444444444,
            "#26828e"
           ],
           [
            0.5555555555555556,
            "#1f9e89"
           ],
           [
            0.6666666666666666,
            "#35b779"
           ],
           [
            0.7777777777777778,
            "#6ece58"
           ],
           [
            0.8888888888888888,
            "#b5de2b"
           ],
           [
            1,
            "#fde725"
           ]
          ],
          "showscale": false,
          "width": 4
         },
         "mode": "lines",
         "showlegend": false,
         "type": "scatter3d",
         "x": {
          "bdata": "AAAAALooDiy6KI4sFz3VLLooDi3osjEtFz1VLUbHeC26KI4t0e2fLeiysS0AeMMtFz3VLS4C5y1Gx/gtLkYFLrooDi5GCxcu0e0fLl3QKC7osjEudJU6LgB4Qy6LWkwuFz1VLqMfXi4uAmcuuuRvLkbHeC7p1IAuLkaFLnS3iS66KI4uAJqSLkYLly6LfJsu0e2fLhdfpC5d0Kguo0GtLuiysS4uJLYudJW6LroGvy4AeMMuRunHLotazC7Ry9AuFz3VLl2u2S6hH94u55DiLi0C5y5zc+suuOTvLv5V9C5Ex/guijj9LujUAC+LDQMvLkYFL9B+By90twkvFvALL7ooDi9cYRAv/5kSL6LSFC9FCxcv6EMZL4p8Gy8utR0v0O0fL3QmIi8WXyQvuZcmL1zQKC//CCsvokEtL0V6Ly/osjEvi+szLy4kNi/QXDgvdJU6LxbOPC+5Bj8vXD9BL/93Qy+isEUvRelHL+ghSi+LWkwvLpNOL9DLUC9zBFMvFj1VL7l1Vy9crlkv/+ZbLw==",
          "dtype": "f4"
         },
         "y": {
          "bdata": "VlXVQFZV1UBWVdVAVlXVQFZV1UBWVdVAVlXVQFZV1UBWVdVAVlXVQFZV1UBWVdVAVlXVQFZV1UBWVdVAVlXVQFZV1UBWVdVAVlXVQFZV1UBWVdVAVlXVQFZV1UBWVdVAVlXVQFZV1UBWVdVAVlXVQFZV1UBWVdVAVlXVQFZV1UBWVdVAVlXVQFZV1UBWVdVAVlXVQFZV1UBWVdVAVlXVQFZV1UBWVdVAVlXVQFZV1UBWVdVAVlXVQFZV1UBWVdVAVlXVQFZV1UBWVdVAVlXVQFZV1UBWVdVAVlXVQFZV1UBWVdVAVlXVQFZV1UBWVdVAVlXVQFZV1UBWVdVAVlXVQFZV1UBWVdVAVlXVQFZV1UBWVdVAVlXVQFZV1UBWVdVAVlXVQFZV1UBWVdVAVlXVQFZV1UBWVdVAVlXVQFZV1UBWVdVAVlXVQFZV1UBWVdVAVlXVQFZV1UBWVdVAVlXVQFZV1UBWVdVAVlXVQFZV1UBWVdVAVlXVQFZV1UBWVdVAVlXVQFZV1UBWVdVAVlXVQA==",
          "dtype": "f4"
         },
         "z": {
          "bdata": "bJYs30Q24962faffE1P63h9BPN+Y+k/fMuVP3/7qKN9j99/eY7Qb3llaRF71dkxfRbaiX8Hv1V9lkBVgRRtBYAeSc2ADBpRgIIivYOH1zWAlaulgQNQDYZv4E2EiiSRhXBo1YUXKRWFIMldhoWJlYay1eGHcKYVhxueNYceZl2F0c6BhT8upYVZtsmEBR7thAyLEYRcSzGFAu9NhgcfbYQcq42G61elhkCfwYWLl9WEll/phDvD+YUgXAWJZcgJiqFIDYoeiA2JNrANiBAkDYvxfAmJnCwFiZIv9YVJ6+GGoZ/Fhip3sYeDV5WEQQN5hI0fWYclUzmE4hcVhEI28Yctss2HXyahhuSehYWedlWFNUo9hoBGHYSHXfmFqmG9hceJfYUpNU2EQykZhmMw6YaPnMGHVJihhMSofYWitF2HKNQ5hHvQHYXYIAmFFw/dgBWbrYBXH3mD0INZgJD7JYGBjvmDEd65g2w6hYAn6lmB+koJgtrRdYLOwQmDMvCJgoLbrX0sun1+8ochf+G9bXw==",
          "dtype": "f4"
         }
        },
        {
         "line": {
          "cmax": 670368756202190400000,
          "cmin": -25347782625957250000,
          "color": {
           "bdata": "FMQt3zX6497lZ6jfH+373ijQPd8buFHfzDFS35N/K9/dMOfeUskq3ng7MV4VoEZfzTGeX9XY0V/gLhNgGi4+YGFKcGCbG5Jg6VitYHh1y2A8rOZgq0oCYdZHEmHPryJhjhszYWquQ2Fw91Rh3AFjYXBRdmES+INhPLKMYRNxlmEgW59hEMKoYYmDsWEOfrphhIXDYbqhy2FEg9NheMXbYb1i42E9T+phH+XwYQ3g9mG41/thRDgAYoH2AWLfbANiZ2YEYnvMBGKo6ARiAFUEYgS1A2LFaQJiZiMAYrEO+2Ho8fNhVinvYdlB6GFlh+Bhdl/YYWM/0GGnPcdhPQ2+YeGytGFJ26lhcPShYWsJlmGYp49hwiuHYbmhfmGZ+G5hLdJeYSXtUWFRH0Vh5804YaysLmFmsCVhaogcYR7oFGFXXwthjQcFYVol/mCh3/FgDZjlYPoe2WB5stBgQR7EYE2CuWDk3qlg7tqcYDc1k2BcX35gF8hXYA+YPWAVnh5gOynlX5cwml/WPMZfQDJZXw==",
           "dtype": "f4"
          },
          "colorscale": [
           [
            0,
            "#440154"
           ],
           [
            0.1111111111111111,
            "#482878"
           ],
           [
            0.2222222222222222,
            "#3e4989"
           ],
           [
            0.3333333333333333,
            "#31688e"
           ],
           [
            0.4444444444444444,
            "#26828e"
           ],
           [
            0.5555555555555556,
            "#1f9e89"
           ],
           [
            0.6666666666666666,
            "#35b779"
           ],
           [
            0.7777777777777778,
            "#6ece58"
           ],
           [
            0.8888888888888888,
            "#b5de2b"
           ],
           [
            1,
            "#fde725"
           ]
          ],
          "showscale": false,
          "width": 4
         },
         "mode": "lines",
         "showlegend": false,
         "type": "scatter3d",
         "x": {
          "bdata": "AAAAALooDiy6KI4sFz3VLLooDi3osjEtFz1VLUbHeC26KI4t0e2fLeiysS0AeMMtFz3VLS4C5y1Gx/gtLkYFLrooDi5GCxcu0e0fLl3QKC7osjEudJU6LgB4Qy6LWkwuFz1VLqMfXi4uAmcuuuRvLkbHeC7p1IAuLkaFLnS3iS66KI4uAJqSLkYLly6LfJsu0e2fLhdfpC5d0Kguo0GtLuiysS4uJLYudJW6LroGvy4AeMMuRunHLotazC7Ry9AuFz3VLl2u2S6hH94u55DiLi0C5y5zc+suuOTvLv5V9C5Ex/guijj9LujUAC+LDQMvLkYFL9B+By90twkvFvALL7ooDi9cYRAv/5kSL6LSFC9FCxcv6EMZL4p8Gy8utR0v0O0fL3QmIi8WXyQvuZcmL1zQKC//CCsvokEtL0V6Ly/osjEvi+szLy4kNi/QXDgvdJU6LxbOPC+5Bj8vXD9BL/93Qy+isEUvRelHL+ghSi+LWkwvLpNOL9DLUC9zBFMvFj1VL7l1Vy9crlkv/+ZbLw==",
          "dtype": "f4"
         },
         "y": {
          "bdata": "SMzbQEjM20BIzNtASMzbQEjM20BIzNtASMzbQEjM20BIzNtASMzbQEjM20BIzNtASMzbQEjM20BIzNtASMzbQEjM20BIzNtASMzbQEjM20BIzNtASMzbQEjM20BIzNtASMzbQEjM20BIzNtASMzbQEjM20BIzNtASMzbQEjM20BIzNtASMzbQEjM20BIzNtASMzbQEjM20BIzNtASMzbQEjM20BIzNtASMzbQEjM20BIzNtASMzbQEjM20BIzNtASMzbQEjM20BIzNtASMzbQEjM20BIzNtASMzbQEjM20BIzNtASMzbQEjM20BIzNtASMzbQEjM20BIzNtASMzbQEjM20BIzNtASMzbQEjM20BIzNtASMzbQEjM20BIzNtASMzbQEjM20BIzNtASMzbQEjM20BIzNtASMzbQEjM20BIzNtASMzbQEjM20BIzNtASMzbQEjM20BIzNtASMzbQEjM20BIzNtASMzbQEjM20BIzNtASMzbQEjM20BIzNtASMzbQEjM20BIzNtASMzbQA==",
          "dtype": "f4"
         },
         "z": {
          "bdata": "FMQt3zX6497lZ6jfH+373ijQPd8buFHfzDFS35N/K9/dMOfeUskq3ng7MV4VoEZfzTGeX9XY0V/gLhNgGi4+YGFKcGCbG5Jg6VitYHh1y2A8rOZgq0oCYdZHEmHPryJhjhszYWquQ2Fw91Rh3AFjYXBRdmES+INhPLKMYRNxlmEgW59hEMKoYYmDsWEOfrphhIXDYbqhy2FEg9NheMXbYb1i42E9T+phH+XwYQ3g9mG41/thRDgAYoH2AWLfbANiZ2YEYnvMBGKo6ARiAFUEYgS1A2LFaQJiZiMAYrEO+2Ho8fNhVinvYdlB6GFlh+Bhdl/YYWM/0GGnPcdhPQ2+YeGytGFJ26lhcPShYWsJlmGYp49hwiuHYbmhfmGZ+G5hLdJeYSXtUWFRH0Vh5804YaysLmFmsCVhaogcYR7oFGFXXwthjQcFYVol/mCh3/FgDZjlYPoe2WB5stBgQR7EYE2CuWDk3qlg7tqcYDc1k2BcX35gF8hXYA+YPWAVnh5gOynlX5cwml/WPMZfQDJZXw==",
          "dtype": "f4"
         }
        },
        {
         "line": {
          "cmax": 670368756202190400000,
          "cmin": -25347782625957250000,
          "color": {
           "bdata": "Xu0u36mv5N7PSanfgWT93i5EP9+YU1PfPFNU3wbbLd+e6O3epqU43sJ+H14BKEFf296ZX3EDzl9i8RBg52g7YNMvbWDcSJBglUOrYGkQyWDjC+Rg79AAYXynEGHP5iBhXS0xYXWjQWEOzVJhErJgYVn9c2HkzYJh0oOLYYxOlWFDSJ5hRb2nYVudsGGYt7lhlerCYe8xy2HUStNhysHbYYCY42GxxOphlZ3xYWfU92EVEf1hbfQAYi7RAmJvYgRi1nQFYu/wBWJDHwZiAZsFYtgDBWIHwgNiSHsBYhaX/WFjcfZhvqrxYSik6mH8xeJhXnDaYVYj0mHa8MhhtIm/Ycr2tWF47aphDcKiYZp4lmHYAJBhQEuHYQx6fmH9aG5hfNNdYXehUGE1i0NhneY2YV+KLGEwUyNhCAAaYTc8EmFCowhhPDMCYddo+GA9KOxgF/TfYOCe02CJaMtgniG/YHK/tGBHYaVg7b6YYOWEj2DTvXdg2vlRYF6XOGCxkxpg2LzeX/ZPlV8Z58NfuQhXXw==",
           "dtype": "f4"
          },
          "colorscale": [
           [
            0,
            "#440154"
           ],
           [
            0.1111111111111111,
            "#482878"
           ],
           [
            0.2222222222222222,
            "#3e4989"
           ],
           [
            0.3333333333333333,
            "#31688e"
           ],
           [
            0.4444444444444444,
            "#26828e"
           ],
           [
            0.5555555555555556,
            "#1f9e89"
           ],
           [
            0.6666666666666666,
            "#35b779"
           ],
           [
            0.7777777777777778,
            "#6ece58"
           ],
           [
            0.8888888888888888,
            "#b5de2b"
           ],
           [
            1,
            "#fde725"
           ]
          ],
          "showscale": false,
          "width": 4
         },
         "mode": "lines",
         "showlegend": false,
         "type": "scatter3d",
         "x": {
          "bdata": "AAAAALooDiy6KI4sFz3VLLooDi3osjEtFz1VLUbHeC26KI4t0e2fLeiysS0AeMMtFz3VLS4C5y1Gx/gtLkYFLrooDi5GCxcu0e0fLl3QKC7osjEudJU6LgB4Qy6LWkwuFz1VLqMfXi4uAmcuuuRvLkbHeC7p1IAuLkaFLnS3iS66KI4uAJqSLkYLly6LfJsu0e2fLhdfpC5d0Kguo0GtLuiysS4uJLYudJW6LroGvy4AeMMuRunHLotazC7Ry9AuFz3VLl2u2S6hH94u55DiLi0C5y5zc+suuOTvLv5V9C5Ex/guijj9LujUAC+LDQMvLkYFL9B+By90twkvFvALL7ooDi9cYRAv/5kSL6LSFC9FCxcv6EMZL4p8Gy8utR0v0O0fL3QmIi8WXyQvuZcmL1zQKC//CCsvokEtL0V6Ly/osjEvi+szLy4kNi/QXDgvdJU6LxbOPC+5Bj8vXD9BL/93Qy+isEUvRelHL+ghSi+LWkwvLpNOL9DLUC9zBFMvFj1VL7l1Vy9crlkv/+ZbLw==",
          "dtype": "f4"
         },
         "y": {
          "bdata": "PEPiQDxD4kA8Q+JAPEPiQDxD4kA8Q+JAPEPiQDxD4kA8Q+JAPEPiQDxD4kA8Q+JAPEPiQDxD4kA8Q+JAPEPiQDxD4kA8Q+JAPEPiQDxD4kA8Q+JAPEPiQDxD4kA8Q+JAPEPiQDxD4kA8Q+JAPEPiQDxD4kA8Q+JAPEPiQDxD4kA8Q+JAPEPiQDxD4kA8Q+JAPEPiQDxD4kA8Q+JAPEPiQDxD4kA8Q+JAPEPiQDxD4kA8Q+JAPEPiQDxD4kA8Q+JAPEPiQDxD4kA8Q+JAPEPiQDxD4kA8Q+JAPEPiQDxD4kA8Q+JAPEPiQDxD4kA8Q+JAPEPiQDxD4kA8Q+JAPEPiQDxD4kA8Q+JAPEPiQDxD4kA8Q+JAPEPiQDxD4kA8Q+JAPEPiQDxD4kA8Q+JAPEPiQDxD4kA8Q+JAPEPiQDxD4kA8Q+JAPEPiQDxD4kA8Q+JAPEPiQDxD4kA8Q+JAPEPiQDxD4kA8Q+JAPEPiQDxD4kA8Q+JAPEPiQDxD4kA8Q+JAPEPiQDxD4kA8Q+JAPEPiQA==",
          "dtype": "f4"
         },
         "z": {
          "bdata": "Xu0u36mv5N7PSanfgWT93i5EP9+YU1PfPFNU3wbbLd+e6O3epqU43sJ+H14BKEFf296ZX3EDzl9i8RBg52g7YNMvbWDcSJBglUOrYGkQyWDjC+Rg79AAYXynEGHP5iBhXS0xYXWjQWEOzVJhErJgYVn9c2HkzYJh0oOLYYxOlWFDSJ5hRb2nYVudsGGYt7lhlerCYe8xy2HUStNhysHbYYCY42GxxOphlZ3xYWfU92EVEf1hbfQAYi7RAmJvYgRi1nQFYu/wBWJDHwZiAZsFYtgDBWIHwgNiSHsBYhaX/WFjcfZhvqrxYSik6mH8xeJhXnDaYVYj0mHa8MhhtIm/Ycr2tWF47aphDcKiYZp4lmHYAJBhQEuHYQx6fmH9aG5hfNNdYXehUGE1i0NhneY2YV+KLGEwUyNhCAAaYTc8EmFCowhhPDMCYddo+GA9KOxgF/TfYOCe02CJaMtgniG/YHK/tGBHYaVg7b6YYOWEj2DTvXdg2vlRYF6XOGCxkxpg2LzeX/ZPlV8Z58NfuQhXXw==",
          "dtype": "f4"
         }
        },
        {
         "line": {
          "cmax": 670368756202190400000,
          "cmin": -25347782625957250000,
          "color": {
           "bdata": "2A4w361T5d5gIarf3rj+3vGbQN+hzFTfcklW39QAMN/KJPTewVtF3sQRD15aBzxfY72VX7Fryl+81Q5g38k4YCBAamD9jI5gOUepYMzFxmBwiOFgrM3+YI4XD2FwLh9hPlAvYfapP2EEtFBh2XReYae6cWEDrIFhNl2KYfcylGGZO51hqL2mYVq7r2Ea9LhhUlHCYZPCymFZEdNhwLvbYUfK42GPNOth9E7yYS7A+GFgQP5hzKoBYmSlA2LsUAVinnsGYlYNB2JcTQdiLtgGYndJBmIBEQViPsoCYqMGAGKV3/hhUxv0YX727GGt9eRh5HPcYff602FbmcphV/3AYbMzt2F0+6thiYyjYWnnlmHZWpBhZG2HYV5bfmHJ5W1h6+NcYSloT2FMDEJhQRY1YeaAKmEuECFhmpIXYeCrD2HpAwZhbfT+YF7i8mCNpOZgJYLaYMdOzmBwS8ZgE1C6YN8isGBoBqFgVMKUYPjvi2DwTHFgUVVMYKW4M2CjpRZgQX7YX6iVkF84pMFf5fVUXw==",
           "dtype": "f4"
          },
          "colorscale": [
           [
            0,
            "#440154"
           ],
           [
            0.1111111111111111,
            "#482878"
           ],
           [
            0.2222222222222222,
            "#3e4989"
           ],
           [
            0.3333333333333333,
            "#31688e"
           ],
           [
            0.4444444444444444,
            "#26828e"
           ],
           [
            0.5555555555555556,
            "#1f9e89"
           ],
           [
            0.6666666666666666,
            "#35b779"
           ],
           [
            0.7777777777777778,
            "#6ece58"
           ],
           [
            0.8888888888888888,
            "#b5de2b"
           ],
           [
            1,
            "#fde725"
           ]
          ],
          "showscale": false,
          "width": 4
         },
         "mode": "lines",
         "showlegend": false,
         "type": "scatter3d",
         "x": {
          "bdata": "AAAAALooDiy6KI4sFz3VLLooDi3osjEtFz1VLUbHeC26KI4t0e2fLeiysS0AeMMtFz3VLS4C5y1Gx/gtLkYFLrooDi5GCxcu0e0fLl3QKC7osjEudJU6LgB4Qy6LWkwuFz1VLqMfXi4uAmcuuuRvLkbHeC7p1IAuLkaFLnS3iS66KI4uAJqSLkYLly6LfJsu0e2fLhdfpC5d0Kguo0GtLuiysS4uJLYudJW6LroGvy4AeMMuRunHLotazC7Ry9AuFz3VLl2u2S6hH94u55DiLi0C5y5zc+suuOTvLv5V9C5Ex/guijj9LujUAC+LDQMvLkYFL9B+By90twkvFvALL7ooDi9cYRAv/5kSL6LSFC9FCxcv6EMZL4p8Gy8utR0v0O0fL3QmIi8WXyQvuZcmL1zQKC//CCsvokEtL0V6Ly/osjEvi+szLy4kNi/QXDgvdJU6LxbOPC+5Bj8vXD9BL/93Qy+isEUvRelHL+ghSi+LWkwvLpNOL9DLUC9zBFMvFj1VL7l1Vy9crlkv/+ZbLw==",
          "dtype": "f4"
         },
         "y": {
          "bdata": "LrroQC666EAuuuhALrroQC666EAuuuhALrroQC666EAuuuhALrroQC666EAuuuhALrroQC666EAuuuhALrroQC666EAuuuhALrroQC666EAuuuhALrroQC666EAuuuhALrroQC666EAuuuhALrroQC666EAuuuhALrroQC666EAuuuhALrroQC666EAuuuhALrroQC666EAuuuhALrroQC666EAuuuhALrroQC666EAuuuhALrroQC666EAuuuhALrroQC666EAuuuhALrroQC666EAuuuhALrroQC666EAuuuhALrroQC666EAuuuhALrroQC666EAuuuhALrroQC666EAuuuhALrroQC666EAuuuhALrroQC666EAuuuhALrroQC666EAuuuhALrroQC666EAuuuhALrroQC666EAuuuhALrroQC666EAuuuhALrroQC666EAuuuhALrroQC666EAuuuhALrroQC666EAuuuhALrroQC666EAuuuhALrroQC666EAuuuhALrroQA==",
          "dtype": "f4"
         },
         "z": {
          "bdata": "2A4w361T5d5gIarf3rj+3vGbQN+hzFTfcklW39QAMN/KJPTewVtF3sQRD15aBzxfY72VX7Fryl+81Q5g38k4YCBAamD9jI5gOUepYMzFxmBwiOFgrM3+YI4XD2FwLh9hPlAvYfapP2EEtFBh2XReYae6cWEDrIFhNl2KYfcylGGZO51hqL2mYVq7r2Ea9LhhUlHCYZPCymFZEdNhwLvbYUfK42GPNOth9E7yYS7A+GFgQP5hzKoBYmSlA2LsUAVinnsGYlYNB2JcTQdiLtgGYndJBmIBEQViPsoCYqMGAGKV3/hhUxv0YX727GGt9eRh5HPcYff602FbmcphV/3AYbMzt2F0+6thiYyjYWnnlmHZWpBhZG2HYV5bfmHJ5W1h6+NcYSloT2FMDEJhQRY1YeaAKmEuECFhmpIXYeCrD2HpAwZhbfT+YF7i8mCNpOZgJYLaYMdOzmBwS8ZgE1C6YN8isGBoBqFgVMKUYPjvi2DwTHFgUVVMYKW4M2CjpRZgQX7YX6iVkF84pMFf5fVUXw==",
          "dtype": "f4"
         }
        },
        {
         "line": {
          "cmax": 670368756202190400000,
          "cmin": -25347782625957250000,
          "color": {
           "bdata": "bCUx37Lm5d6K7KrfgOj/3jzWQd84IlbfThNY31rwMd8Y4vneK/JQ3rDb/126QDdfFdKRXzUQx19Q2wxgh1A2YJt6Z2DF54xg4mOnYB+WxGBLIt9gTRn8YHSYDWFbhx1hEYUtYeTCPWF3rU5h9EpcYaCKb2EGk4BhHj+JYQQfk2G4NZxh1sOlYezdrmHKM7hhyrnBYW5TymFT1tJhc7LbYdf242FBnethMvfyYeGg+WGuYv9hwFkCYkRxBGJENgZifXgHYjsfCGJicAhixwkIYh2DB2LXUwZiNQ0EYuU1AWLANvthCnX2Yeky72GqEOdhYmTeYdnA1WH9McxhNGPCYf9kuGHOAK1h+U+kYadSl2F4spBhbI+HYfdAfmEGa21hhABcYds+TmHToEBhAlwzYQaQKGHH5x5hNUEVYac4DWEugwNhUb75YMOX7WBLW+FgOEnVYO41yWCGYsFgj7C1YNuzq2DW1Zxg5OuQYLN8iGBEGGtg2eRGYHoFL2Bp2xJgZHnSX7AJjF+kd79fDvxSXw==",
           "dtype": "f4"
          },
          "colorscale": [
           [
            0,
            "#440154"
           ],
           [
            0.1111111111111111,
            "#482878"
           ],
           [
            0.2222222222222222,
            "#3e4989"
           ],
           [
            0.3333333333333333,
            "#31688e"
           ],
           [
            0.4444444444444444,
            "#26828e"
           ],
           [
            0.5555555555555556,
            "#1f9e89"
           ],
           [
            0.6666666666666666,
            "#35b779"
           ],
           [
            0.7777777777777778,
            "#6ece58"
           ],
           [
            0.8888888888888888,
            "#b5de2b"
           ],
           [
            1,
            "#fde725"
           ]
          ],
          "showscale": false,
          "width": 4
         },
         "mode": "lines",
         "showlegend": false,
         "type": "scatter3d",
         "x": {
          "bdata": "AAAAALooDiy6KI4sFz3VLLooDi3osjEtFz1VLUbHeC26KI4t0e2fLeiysS0AeMMtFz3VLS4C5y1Gx/gtLkYFLrooDi5GCxcu0e0fLl3QKC7osjEudJU6LgB4Qy6LWkwuFz1VLqMfXi4uAmcuuuRvLkbHeC7p1IAuLkaFLnS3iS66KI4uAJqSLkYLly6LfJsu0e2fLhdfpC5d0Kguo0GtLuiysS4uJLYudJW6LroGvy4AeMMuRunHLotazC7Ry9AuFz3VLl2u2S6hH94u55DiLi0C5y5zc+suuOTvLv5V9C5Ex/guijj9LujUAC+LDQMvLkYFL9B+By90twkvFvALL7ooDi9cYRAv/5kSL6LSFC9FCxcv6EMZL4p8Gy8utR0v0O0fL3QmIi8WXyQvuZcmL1zQKC//CCsvokEtL0V6Ly/osjEvi+szLy4kNi/QXDgvdJU6LxbOPC+5Bj8vXD9BL/93Qy+isEUvRelHL+ghSi+LWkwvLpNOL9DLUC9zBFMvFj1VL7l1Vy9crlkv/+ZbLw==",
          "dtype": "f4"
         },
         "y": {
          "bdata": "IjHvQCIx70AiMe9AIjHvQCIx70AiMe9AIjHvQCIx70AiMe9AIjHvQCIx70AiMe9AIjHvQCIx70AiMe9AIjHvQCIx70AiMe9AIjHvQCIx70AiMe9AIjHvQCIx70AiMe9AIjHvQCIx70AiMe9AIjHvQCIx70AiMe9AIjHvQCIx70AiMe9AIjHvQCIx70AiMe9AIjHvQCIx70AiMe9AIjHvQCIx70AiMe9AIjHvQCIx70AiMe9AIjHvQCIx70AiMe9AIjHvQCIx70AiMe9AIjHvQCIx70AiMe9AIjHvQCIx70AiMe9AIjHvQCIx70AiMe9AIjHvQCIx70AiMe9AIjHvQCIx70AiMe9AIjHvQCIx70AiMe9AIjHvQCIx70AiMe9AIjHvQCIx70AiMe9AIjHvQCIx70AiMe9AIjHvQCIx70AiMe9AIjHvQCIx70AiMe9AIjHvQCIx70AiMe9AIjHvQCIx70AiMe9AIjHvQCIx70AiMe9AIjHvQCIx70AiMe9AIjHvQCIx70AiMe9AIjHvQA==",
          "dtype": "f4"
         },
         "z": {
          "bdata": "bCUx37Lm5d6K7KrfgOj/3jzWQd84IlbfThNY31rwMd8Y4vneK/JQ3rDb/126QDdfFdKRXzUQx19Q2wxgh1A2YJt6Z2DF54xg4mOnYB+WxGBLIt9gTRn8YHSYDWFbhx1hEYUtYeTCPWF3rU5h9EpcYaCKb2EGk4BhHj+JYQQfk2G4NZxh1sOlYezdrmHKM7hhyrnBYW5TymFT1tJhc7LbYdf242FBnethMvfyYeGg+WGuYv9hwFkCYkRxBGJENgZifXgHYjsfCGJicAhixwkIYh2DB2LXUwZiNQ0EYuU1AWLANvthCnX2Yeky72GqEOdhYmTeYdnA1WH9McxhNGPCYf9kuGHOAK1h+U+kYadSl2F4spBhbI+HYfdAfmEGa21hhABcYds+TmHToEBhAlwzYQaQKGHH5x5hNUEVYac4DWEugwNhUb75YMOX7WBLW+FgOEnVYO41yWCGYsFgj7C1YNuzq2DW1Zxg5OuQYLN8iGBEGGtg2eRGYHoFL2Bp2xJgZHnSX7AJjF+kd79fDvxSXw==",
          "dtype": "f4"
         }
        },
        {
         "line": {
          "cmax": 670368756202190400000,
          "cmin": -25347782625957250000,
          "color": {
           "bdata": "RC4y36xn5t7IqavfBHoA303zQt/8VFff3LFZ3watM9+yJv/efH1b3sf24120zDJfVBqOX0Lsw192/wpggvozYEvcZGD6V4tgQZilYDWAwmBF2Nxg4YP5YN8pDGFr8Rth08srYV/uO2HFuUxhFjVaYeFtbWGhBn9hCCqIYSkTkmEUN5thRdCkYWsFrmHwdrdhBiTBYWDkyWFDmdJhO6XbYUEd5GGC/ethrZTzYZh0+mHQOgBi4/8CYjszBWK4EAdijGkIYpMkCWIkhglify0JYmKuCGL7hwdin0EFYtVWAmLecf1hxbL4YWhU8WEGEulhHj3gYXZw12Fmts1hNLfDYdyGuWHM+a1hIAmlYYK3l2ERBZFhDa+HYckmfmFV9WxhlyZbYXAjTWEnRz9h9rYxYVG3JmEo2hxheQwTYabjCmFeIgFhzMf0YFWN6GBFUdxgi07QYLxZxGBfs7xglEixYP93p2AK1Zhg3UCNYOQvhWDEKGVge7BBYPyEKmDGOg9gerfMX5+yh1/NY71fchxRXw==",
           "dtype": "f4"
          },
          "colorscale": [
           [
            0,
            "#440154"
           ],
           [
            0.1111111111111111,
            "#482878"
           ],
           [
            0.2222222222222222,
            "#3e4989"
           ],
           [
            0.3333333333333333,
            "#31688e"
           ],
           [
            0.4444444444444444,
            "#26828e"
           ],
           [
            0.5555555555555556,
            "#1f9e89"
           ],
           [
            0.6666666666666666,
            "#35b779"
           ],
           [
            0.7777777777777778,
            "#6ece58"
           ],
           [
            0.8888888888888888,
            "#b5de2b"
           ],
           [
            1,
            "#fde725"
           ]
          ],
          "showscale": false,
          "width": 4
         },
         "mode": "lines",
         "showlegend": false,
         "type": "scatter3d",
         "x": {
          "bdata": "AAAAALooDiy6KI4sFz3VLLooDi3osjEtFz1VLUbHeC26KI4t0e2fLeiysS0AeMMtFz3VLS4C5y1Gx/gtLkYFLrooDi5GCxcu0e0fLl3QKC7osjEudJU6LgB4Qy6LWkwuFz1VLqMfXi4uAmcuuuRvLkbHeC7p1IAuLkaFLnS3iS66KI4uAJqSLkYLly6LfJsu0e2fLhdfpC5d0Kguo0GtLuiysS4uJLYudJW6LroGvy4AeMMuRunHLotazC7Ry9AuFz3VLl2u2S6hH94u55DiLi0C5y5zc+suuOTvLv5V9C5Ex/guijj9LujUAC+LDQMvLkYFL9B+By90twkvFvALL7ooDi9cYRAv/5kSL6LSFC9FCxcv6EMZL4p8Gy8utR0v0O0fL3QmIi8WXyQvuZcmL1zQKC//CCsvokEtL0V6Ly/osjEvi+szLy4kNi/QXDgvdJU6LxbOPC+5Bj8vXD9BL/93Qy+isEUvRelHL+ghSi+LWkwvLpNOL9DLUC9zBFMvFj1VL7l1Vy9crlkv/+ZbLw==",
          "dtype": "f4"
         },
         "y": {
          "bdata": "Faj1QBWo9UAVqPVAFaj1QBWo9UAVqPVAFaj1QBWo9UAVqPVAFaj1QBWo9UAVqPVAFaj1QBWo9UAVqPVAFaj1QBWo9UAVqPVAFaj1QBWo9UAVqPVAFaj1QBWo9UAVqPVAFaj1QBWo9UAVqPVAFaj1QBWo9UAVqPVAFaj1QBWo9UAVqPVAFaj1QBWo9UAVqPVAFaj1QBWo9UAVqPVAFaj1QBWo9UAVqPVAFaj1QBWo9UAVqPVAFaj1QBWo9UAVqPVAFaj1QBWo9UAVqPVAFaj1QBWo9UAVqPVAFaj1QBWo9UAVqPVAFaj1QBWo9UAVqPVAFaj1QBWo9UAVqPVAFaj1QBWo9UAVqPVAFaj1QBWo9UAVqPVAFaj1QBWo9UAVqPVAFaj1QBWo9UAVqPVAFaj1QBWo9UAVqPVAFaj1QBWo9UAVqPVAFaj1QBWo9UAVqPVAFaj1QBWo9UAVqPVAFaj1QBWo9UAVqPVAFaj1QBWo9UAVqPVAFaj1QBWo9UAVqPVAFaj1QBWo9UAVqPVAFaj1QA==",
          "dtype": "f4"
         },
         "z": {
          "bdata": "RC4y36xn5t7IqavfBHoA303zQt/8VFff3LFZ3watM9+yJv/efH1b3sf24120zDJfVBqOX0Lsw192/wpggvozYEvcZGD6V4tgQZilYDWAwmBF2Nxg4YP5YN8pDGFr8Rth08srYV/uO2HFuUxhFjVaYeFtbWGhBn9hCCqIYSkTkmEUN5thRdCkYWsFrmHwdrdhBiTBYWDkyWFDmdJhO6XbYUEd5GGC/ethrZTzYZh0+mHQOgBi4/8CYjszBWK4EAdijGkIYpMkCWIkhglify0JYmKuCGL7hwdin0EFYtVWAmLecf1hxbL4YWhU8WEGEulhHj3gYXZw12Fmts1hNLfDYdyGuWHM+a1hIAmlYYK3l2ERBZFhDa+HYckmfmFV9WxhlyZbYXAjTWEnRz9h9rYxYVG3JmEo2hxheQwTYabjCmFeIgFhzMf0YFWN6GBFUdxgi07QYLxZxGBfs7xglEixYP93p2AK1Zhg3UCNYOQvhWDEKGVge7BBYPyEKmDGOg9gerfMX5+yh1/NY71fchxRXw==",
          "dtype": "f4"
         }
        },
        {
         "line": {
          "cmax": 670368756202190400000,
          "cmin": -25347782625957250000,
          "color": {
           "bdata": "Ticz35nX5t7vV6zfBe4A3/jyQ9+sZVjfMSZb3145Nd+9+gHfDRFl3l9Lyl2lpi5fNZaKX/H7wF8ZQAlg4cUxYLJiYmB/3IlgReOjYFuDwGBBqdpgagz3YGjLCmFrbBphdiQqYWksOmEd2UphczNYYdpka2FB+nxhUR6HYbIPkWHrP5phOuOjYQMyrWGivbZh8I/AYSt1yWHbWdJha5PbYac85GEsVOxh7iX0YaE5+2GWuwBiEpwDYv3pBWLV3gdiOk0JYqMbCmLQjApiZkEKYkvJCWJiqwhiaGUGYoNnA2I+jf9hZ9D6YedW82HD9ephN/rhYSoG2WESI89h//XEYSCWumFy465hUrWlYRQUmGFzUJFhWsqHYWcJfmHKgWxhGVRaYQkUTGHD/T1hOCYwYUH2JGE/5xphxPQQYZKtCGGlxP1glhPwYFHG42BFitdgG5bLYGa+v2BJQrhgAxytYKZzo2BZCJVgV8WJYE8NgmB7hV9gk748YN08JmBXyAtgxz/HX3CWg1+cartf/1dPXw==",
           "dtype": "f4"
          },
          "colorscale": [
           [
            0,
            "#440154"
           ],
           [
            0.1111111111111111,
            "#482878"
           ],
           [
            0.2222222222222222,
            "#3e4989"
           ],
           [
            0.3333333333333333,
            "#31688e"
           ],
           [
            0.4444444444444444,
            "#26828e"
           ],
           [
            0.5555555555555556,
            "#1f9e89"
           ],
           [
            0.6666666666666666,
            "#35b779"
           ],
           [
            0.7777777777777778,
            "#6ece58"
           ],
           [
            0.8888888888888888,
            "#b5de2b"
           ],
           [
            1,
            "#fde725"
           ]
          ],
          "showscale": false,
          "width": 4
         },
         "mode": "lines",
         "showlegend": false,
         "type": "scatter3d",
         "x": {
          "bdata": "AAAAALooDiy6KI4sFz3VLLooDi3osjEtFz1VLUbHeC26KI4t0e2fLeiysS0AeMMtFz3VLS4C5y1Gx/gtLkYFLrooDi5GCxcu0e0fLl3QKC7osjEudJU6LgB4Qy6LWkwuFz1VLqMfXi4uAmcuuuRvLkbHeC7p1IAuLkaFLnS3iS66KI4uAJqSLkYLly6LfJsu0e2fLhdfpC5d0Kguo0GtLuiysS4uJLYudJW6LroGvy4AeMMuRunHLotazC7Ry9AuFz3VLl2u2S6hH94u55DiLi0C5y5zc+suuOTvLv5V9C5Ex/guijj9LujUAC+LDQMvLkYFL9B+By90twkvFvALL7ooDi9cYRAv/5kSL6LSFC9FCxcv6EMZL4p8Gy8utR0v0O0fL3QmIi8WXyQvuZcmL1zQKC//CCsvokEtL0V6Ly/osjEvi+szLy4kNi/QXDgvdJU6LxbOPC+5Bj8vXD9BL/93Qy+isEUvRelHL+ghSi+LWkwvLpNOL9DLUC9zBFMvFj1VL7l1Vy9crlkv/+ZbLw==",
          "dtype": "f4"
         },
         "y": {
          "bdata": "CB/8QAgf/EAIH/xACB/8QAgf/EAIH/xACB/8QAgf/EAIH/xACB/8QAgf/EAIH/xACB/8QAgf/EAIH/xACB/8QAgf/EAIH/xACB/8QAgf/EAIH/xACB/8QAgf/EAIH/xACB/8QAgf/EAIH/xACB/8QAgf/EAIH/xACB/8QAgf/EAIH/xACB/8QAgf/EAIH/xACB/8QAgf/EAIH/xACB/8QAgf/EAIH/xACB/8QAgf/EAIH/xACB/8QAgf/EAIH/xACB/8QAgf/EAIH/xACB/8QAgf/EAIH/xACB/8QAgf/EAIH/xACB/8QAgf/EAIH/xACB/8QAgf/EAIH/xACB/8QAgf/EAIH/xACB/8QAgf/EAIH/xACB/8QAgf/EAIH/xACB/8QAgf/EAIH/xACB/8QAgf/EAIH/xACB/8QAgf/EAIH/xACB/8QAgf/EAIH/xACB/8QAgf/EAIH/xACB/8QAgf/EAIH/xACB/8QAgf/EAIH/xACB/8QAgf/EAIH/xACB/8QAgf/EAIH/xACB/8QA==",
          "dtype": "f4"
         },
         "z": {
          "bdata": "Ticz35nX5t7vV6zfBe4A3/jyQ9+sZVjfMSZb3145Nd+9+gHfDRFl3l9Lyl2lpi5fNZaKX/H7wF8ZQAlg4cUxYLJiYmB/3IlgReOjYFuDwGBBqdpgagz3YGjLCmFrbBphdiQqYWksOmEd2UphczNYYdpka2FB+nxhUR6HYbIPkWHrP5phOuOjYQMyrWGivbZh8I/AYSt1yWHbWdJha5PbYac85GEsVOxh7iX0YaE5+2GWuwBiEpwDYv3pBWLV3gdiOk0JYqMbCmLQjApiZkEKYkvJCWJiqwhiaGUGYoNnA2I+jf9hZ9D6YedW82HD9ephN/rhYSoG2WESI89h//XEYSCWumFy465hUrWlYRQUmGFzUJFhWsqHYWcJfmHKgWxhGVRaYQkUTGHD/T1hOCYwYUH2JGE/5xphxPQQYZKtCGGlxP1glhPwYFHG42BFitdgG5bLYGa+v2BJQrhgAxytYKZzo2BZCJVgV8WJYE8NgmB7hV9gk748YN08JmBXyAtgxz/HX3CWg1+cartf/1dPXw==",
          "dtype": "f4"
         }
        },
        {
         "line": {
          "cmax": 670368756202190400000,
          "cmin": -25347782625957250000,
          "color": {
           "bdata": "oA4033k1594u9qzfOlEB3y7WRN8RVlnf13Jc39yZNt/xKwTfosdt3sKdsl1rxSpfHkeHX7U5vl8Tmgdgpq8vYGIKYGCzc4hgLkOiYLGdvmCHk9hgVbH0YEx8CWHA9xhheo4oYX58OGEwC0lh/UVWYVRvaWG2AHth6RuGYaUUkGFBUJlhyvyiYa1jrGHTB7ZhVP2/YYQFyWFfF9JhaHzbYUJU5GE9oOxhuan0YZ/u+2HRMgFiUy0EYnKUBmJynwhiQSIKYhUDC2L8ggtiAkQLYl3SCmJxvAli3XYHYpdmBGLWwgBiucr8YVE39WHhuOxh3JjjYS1/2mFRddBhCx3GYWeQu2E4u69hd1KmYYJmmGHckpFhwt+HYfDlfWHlDWxh5YZZYdUOS2EFwzxhnaguYfBLI2GGDhlh0vkOYXyWBmEPhvlg1KLrYD5E32A5CNNgNCLHYEpmu2DkEbRgdi2pYJ6pn2DbcpFgGHyGYDgvfmBFM1pgmxM4YIAxImBEhwhgbBfCX0Zvf18Yjblftq5NXw==",
           "dtype": "f4"
          },
          "colorscale": [
           [
            0,
            "#440154"
           ],
           [
            0.1111111111111111,
            "#482878"
           ],
           [
            0.2222222222222222,
            "#3e4989"
           ],
           [
            0.3333333333333333,
            "#31688e"
           ],
           [
            0.4444444444444444,
            "#26828e"
           ],
           [
            0.5555555555555556,
            "#1f9e89"
           ],
           [
            0.6666666666666666,
            "#35b779"
           ],
           [
            0.7777777777777778,
            "#6ece58"
           ],
           [
            0.8888888888888888,
            "#b5de2b"
           ],
           [
            1,
            "#fde725"
           ]
          ],
          "showscale": false,
          "width": 4
         },
         "mode": "lines",
         "showlegend": false,
         "type": "scatter3d",
         "x": {
          "bdata": "AAAAALooDiy6KI4sFz3VLLooDi3osjEtFz1VLUbHeC26KI4t0e2fLeiysS0AeMMtFz3VLS4C5y1Gx/gtLkYFLrooDi5GCxcu0e0fLl3QKC7osjEudJU6LgB4Qy6LWkwuFz1VLqMfXi4uAmcuuuRvLkbHeC7p1IAuLkaFLnS3iS66KI4uAJqSLkYLly6LfJsu0e2fLhdfpC5d0Kguo0GtLuiysS4uJLYudJW6LroGvy4AeMMuRunHLotazC7Ry9AuFz3VLl2u2S6hH94u55DiLi0C5y5zc+suuOTvLv5V9C5Ex/guijj9LujUAC+LDQMvLkYFL9B+By90twkvFvALL7ooDi9cYRAv/5kSL6LSFC9FCxcv6EMZL4p8Gy8utR0v0O0fL3QmIi8WXyQvuZcmL1zQKC//CCsvokEtL0V6Ly/osjEvi+szLy4kNi/QXDgvdJU6LxbOPC+5Bj8vXD9BL/93Qy+isEUvRelHL+ghSi+LWkwvLpNOL9DLUC9zBFMvFj1VL7l1Vy9crlkv/+ZbLw==",
          "dtype": "f4"
         },
         "y": {
          "bdata": "/koBQf5KAUH+SgFB/koBQf5KAUH+SgFB/koBQf5KAUH+SgFB/koBQf5KAUH+SgFB/koBQf5KAUH+SgFB/koBQf5KAUH+SgFB/koBQf5KAUH+SgFB/koBQf5KAUH+SgFB/koBQf5KAUH+SgFB/koBQf5KAUH+SgFB/koBQf5KAUH+SgFB/koBQf5KAUH+SgFB/koBQf5KAUH+SgFB/koBQf5KAUH+SgFB/koBQf5KAUH+SgFB/koBQf5KAUH+SgFB/koBQf5KAUH+SgFB/koBQf5KAUH+SgFB/koBQf5KAUH+SgFB/koBQf5KAUH+SgFB/koBQf5KAUH+SgFB/koBQf5KAUH+SgFB/koBQf5KAUH+SgFB/koBQf5KAUH+SgFB/koBQf5KAUH+SgFB/koBQf5KAUH+SgFB/koBQf5KAUH+SgFB/koBQf5KAUH+SgFB/koBQf5KAUH+SgFB/koBQf5KAUH+SgFB/koBQf5KAUH+SgFB/koBQf5KAUH+SgFB/koBQf5KAUH+SgFB/koBQQ==",
          "dtype": "f4"
         },
         "z": {
          "bdata": "oA4033k1594u9qzfOlEB3y7WRN8RVlnf13Jc39yZNt/xKwTfosdt3sKdsl1rxSpfHkeHX7U5vl8Tmgdgpq8vYGIKYGCzc4hgLkOiYLGdvmCHk9hgVbH0YEx8CWHA9xhheo4oYX58OGEwC0lh/UVWYVRvaWG2AHth6RuGYaUUkGFBUJlhyvyiYa1jrGHTB7ZhVP2/YYQFyWFfF9JhaHzbYUJU5GE9oOxhuan0YZ/u+2HRMgFiUy0EYnKUBmJynwhiQSIKYhUDC2L8ggtiAkQLYl3SCmJxvAli3XYHYpdmBGLWwgBiucr8YVE39WHhuOxh3JjjYS1/2mFRddBhCx3GYWeQu2E4u69hd1KmYYJmmGHckpFhwt+HYfDlfWHlDWxh5YZZYdUOS2EFwzxhnaguYfBLI2GGDhlh0vkOYXyWBmEPhvlg1KLrYD5E32A5CNNgNCLHYEpmu2DkEbRgdi2pYJ6pn2DbcpFgGHyGYDgvfmBFM1pgmxM4YIAxImBEhwhgbBfCX0Zvf18Yjblftq5NXw==",
          "dtype": "f4"
         }
        },
        {
         "line": {
          "cmax": 670368756202190400000,
          "cmin": -25347782625957250000,
          "color": {
           "bdata": "KuM03zaD594rhK3fsKQB33ueRd9LKFrfbJpd35bSN98lKwbforp13rm3nF1DJCdflSiEX7mgu1/vCgZgFbUtYDHQXWAPHIdgdLagYAHOvGCBldZg6nDyYLY7CGHAkhdhQgknYRneNmGMT0dhDmxUYQCNZ2G+GXlhwyKFYfUhj2EBaJhh6xyiYVGaq2FdVbVhAWy/YRyVyGGW0dFhoF/bYXRj5GH64OxhIx/1YXqS/GHmnwFi+bIEYt0xB2K+UQlix+cKYvXZC2KpZwxiTjQMYpLIC2Idugpi+nQIYgxTBWKerAFitZ/+YaTz9mFzWe5hFxflYbnZ22Fyq9FhsSrHYR50vGFdf7BhNN+mYaqtmGEby5FhK+6HYVi6fWG6l2thk71YYUsSSmF3lTthAj0tYVm3IWEiTxdhAxsNYd6dBGEGiPVgR3XnYBwH22CNy85gX/PCYBxSt2ALI7BgaH2lYP0anGCdFY5gUGaDYOefeGBmNFVgtLEzYOFkHmAreQVg2kC9X3AweF+Gy7dfCyBMXw==",
           "dtype": "f4"
          },
          "colorscale": [
           [
            0,
            "#440154"
           ],
           [
            0.1111111111111111,
            "#482878"
           ],
           [
            0.2222222222222222,
            "#3e4989"
           ],
           [
            0.3333333333333333,
            "#31688e"
           ],
           [
            0.4444444444444444,
            "#26828e"
           ],
           [
            0.5555555555555556,
            "#1f9e89"
           ],
           [
            0.6666666666666666,
            "#35b779"
           ],
           [
            0.7777777777777778,
            "#6ece58"
           ],
           [
            0.8888888888888888,
            "#b5de2b"
           ],
           [
            1,
            "#fde725"
           ]
          ],
          "showscale": false,
          "width": 4
         },
         "mode": "lines",
         "showlegend": false,
         "type": "scatter3d",
         "x": {
          "bdata": "AAAAALooDiy6KI4sFz3VLLooDi3osjEtFz1VLUbHeC26KI4t0e2fLeiysS0AeMMtFz3VLS4C5y1Gx/gtLkYFLrooDi5GCxcu0e0fLl3QKC7osjEudJU6LgB4Qy6LWkwuFz1VLqMfXi4uAmcuuuRvLkbHeC7p1IAuLkaFLnS3iS66KI4uAJqSLkYLly6LfJsu0e2fLhdfpC5d0Kguo0GtLuiysS4uJLYudJW6LroGvy4AeMMuRunHLotazC7Ry9AuFz3VLl2u2S6hH94u55DiLi0C5y5zc+suuOTvLv5V9C5Ex/guijj9LujUAC+LDQMvLkYFL9B+By90twkvFvALL7ooDi9cYRAv/5kSL6LSFC9FCxcv6EMZL4p8Gy8utR0v0O0fL3QmIi8WXyQvuZcmL1zQKC//CCsvokEtL0V6Ly/osjEvi+szLy4kNi/QXDgvdJU6LxbOPC+5Bj8vXD9BL/93Qy+isEUvRelHL+ghSi+LWkwvLpNOL9DLUC9zBFMvFj1VL7l1Vy9crlkv/+ZbLw==",
          "dtype": "f4"
         },
         "y": {
          "bdata": "d4YEQXeGBEF3hgRBd4YEQXeGBEF3hgRBd4YEQXeGBEF3hgRBd4YEQXeGBEF3hgRBd4YEQXeGBEF3hgRBd4YEQXeGBEF3hgRBd4YEQXeGBEF3hgRBd4YEQXeGBEF3hgRBd4YEQXeGBEF3hgRBd4YEQXeGBEF3hgRBd4YEQXeGBEF3hgRBd4YEQXeGBEF3hgRBd4YEQXeGBEF3hgRBd4YEQXeGBEF3hgRBd4YEQXeGBEF3hgRBd4YEQXeGBEF3hgRBd4YEQXeGBEF3hgRBd4YEQXeGBEF3hgRBd4YEQXeGBEF3hgRBd4YEQXeGBEF3hgRBd4YEQXeGBEF3hgRBd4YEQXeGBEF3hgRBd4YEQXeGBEF3hgRBd4YEQXeGBEF3hgRBd4YEQXeGBEF3hgRBd4YEQXeGBEF3hgRBd4YEQXeGBEF3hgRBd4YEQXeGBEF3hgRBd4YEQXeGBEF3hgRBd4YEQXeGBEF3hgRBd4YEQXeGBEF3hgRBd4YEQXeGBEF3hgRBd4YEQXeGBEF3hgRBd4YEQQ==",
          "dtype": "f4"
         },
         "z": {
          "bdata": "KuM03zaD594rhK3fsKQB33ueRd9LKFrfbJpd35bSN98lKwbforp13rm3nF1DJCdflSiEX7mgu1/vCgZgFbUtYDHQXWAPHIdgdLagYAHOvGCBldZg6nDyYLY7CGHAkhdhQgknYRneNmGMT0dhDmxUYQCNZ2G+GXlhwyKFYfUhj2EBaJhh6xyiYVGaq2FdVbVhAWy/YRyVyGGW0dFhoF/bYXRj5GH64OxhIx/1YXqS/GHmnwFi+bIEYt0xB2K+UQlix+cKYvXZC2KpZwxiTjQMYpLIC2Idugpi+nQIYgxTBWKerAFitZ/+YaTz9mFzWe5hFxflYbnZ22Fyq9FhsSrHYR50vGFdf7BhNN+mYaqtmGEby5FhK+6HYVi6fWG6l2thk71YYUsSSmF3lTthAj0tYVm3IWEiTxdhAxsNYd6dBGEGiPVgR3XnYBwH22CNy85gX/PCYBxSt2ALI7BgaH2lYP0anGCdFY5gUGaDYOefeGBmNFVgtLEzYOFkHmAreQVg2kC9X3AweF+Gy7dfCyBMXw==",
          "dtype": "f4"
         }
        },
        {
         "line": {
          "cmax": 670368756202190400000,
          "cmin": -25347782625957250000,
          "color": {
           "bdata": "LKQ135XA597OAa7faOkB33pNRt883lrfhJ9e36PnON91/AffHP983iBoiF3xuiNfyjeBX4EsuV8TkARg0dMrYD6xW2A31IVgljufYKkSu2CArdRgiEnwYNwIB2GjPBZhCZQlYWVQNWFvpUVhBqVSYRS9ZWGQRHdhizKEYUM3jmHXhpdhWkOhYZrVqmH0pbRhk9u+YZAjyGHwh9FhqjzbYcNp5GHTFe1hloX1YaYk/WF+AgJiqCwFYtvBB2JT9QliW50LYtCfDGJjOg1i0RENYnKrDGLhowtiNF8JYnUsBmJ7gwJiLycAYu2K+GGB1u9hAXTmYe0U3WGRxNJhFB7IYXJAvWH0LrFhs1qnYcXomGFo+JFh0vSHYRKFfWHWHWthsvZXYRUdSWHLczphOuIrYVY3IGETqBVhbFcLYfXCAmHYyPFguInjYO0N12CC08pgEAm/YFuBs2BzdaxgyQuiYL7HmGDd8IpgK4SAYAZtc2BPiVBgW5kvYJfXGmB2ngJgvry4X5RwcV+mJbZfLatKXw==",
           "dtype": "f4"
          },
          "colorscale": [
           [
            0,
            "#440154"
           ],
           [
            0.1111111111111111,
            "#482878"
           ],
           [
            0.2222222222222222,
            "#3e4989"
           ],
           [
            0.3333333333333333,
            "#31688e"
           ],
           [
            0.4444444444444444,
            "#26828e"
           ],
           [
            0.5555555555555556,
            "#1f9e89"
           ],
           [
            0.6666666666666666,
            "#35b779"
           ],
           [
            0.7777777777777778,
            "#6ece58"
           ],
           [
            0.8888888888888888,
            "#b5de2b"
           ],
           [
            1,
            "#fde725"
           ]
          ],
          "showscale": false,
          "width": 4
         },
         "mode": "lines",
         "showlegend": false,
         "type": "scatter3d",
         "x": {
          "bdata": "AAAAALooDiy6KI4sFz3VLLooDi3osjEtFz1VLUbHeC26KI4t0e2fLeiysS0AeMMtFz3VLS4C5y1Gx/gtLkYFLrooDi5GCxcu0e0fLl3QKC7osjEudJU6LgB4Qy6LWkwuFz1VLqMfXi4uAmcuuuRvLkbHeC7p1IAuLkaFLnS3iS66KI4uAJqSLkYLly6LfJsu0e2fLhdfpC5d0Kguo0GtLuiysS4uJLYudJW6LroGvy4AeMMuRunHLotazC7Ry9AuFz3VLl2u2S6hH94u55DiLi0C5y5zc+suuOTvLv5V9C5Ex/guijj9LujUAC+LDQMvLkYFL9B+By90twkvFvALL7ooDi9cYRAv/5kSL6LSFC9FCxcv6EMZL4p8Gy8utR0v0O0fL3QmIi8WXyQvuZcmL1zQKC//CCsvokEtL0V6Ly/osjEvi+szLy4kNi/QXDgvdJU6LxbOPC+5Bj8vXD9BL/93Qy+isEUvRelHL+ghSi+LWkwvLpNOL9DLUC9zBFMvFj1VL7l1Vy9crlkv/+ZbLw==",
          "dtype": "f4"
         },
         "y": {
          "bdata": "8MEHQfDBB0HwwQdB8MEHQfDBB0HwwQdB8MEHQfDBB0HwwQdB8MEHQfDBB0HwwQdB8MEHQfDBB0HwwQdB8MEHQfDBB0HwwQdB8MEHQfDBB0HwwQdB8MEHQfDBB0HwwQdB8MEHQfDBB0HwwQdB8MEHQfDBB0HwwQdB8MEHQfDBB0HwwQdB8MEHQfDBB0HwwQdB8MEHQfDBB0HwwQdB8MEHQfDBB0HwwQdB8MEHQfDBB0HwwQdB8MEHQfDBB0HwwQdB8MEHQfDBB0HwwQdB8MEHQfDBB0HwwQdB8MEHQfDBB0HwwQdB8MEHQfDBB0HwwQdB8MEHQfDBB0HwwQdB8MEHQfDBB0HwwQdB8MEHQfDBB0HwwQdB8MEHQfDBB0HwwQdB8MEHQfDBB0HwwQdB8MEHQfDBB0HwwQdB8MEHQfDBB0HwwQdB8MEHQfDBB0HwwQdB8MEHQfDBB0HwwQdB8MEHQfDBB0HwwQdB8MEHQfDBB0HwwQdB8MEHQfDBB0HwwQdB8MEHQfDBB0HwwQdB8MEHQQ==",
          "dtype": "f4"
         },
         "z": {
          "bdata": "LKQ135XA597OAa7faOkB33pNRt883lrfhJ9e36PnON91/AffHP983iBoiF3xuiNfyjeBX4EsuV8TkARg0dMrYD6xW2A31IVgljufYKkSu2CArdRgiEnwYNwIB2GjPBZhCZQlYWVQNWFvpUVhBqVSYRS9ZWGQRHdhizKEYUM3jmHXhpdhWkOhYZrVqmH0pbRhk9u+YZAjyGHwh9FhqjzbYcNp5GHTFe1hloX1YaYk/WF+AgJiqCwFYtvBB2JT9QliW50LYtCfDGJjOg1i0RENYnKrDGLhowtiNF8JYnUsBmJ7gwJiLycAYu2K+GGB1u9hAXTmYe0U3WGRxNJhFB7IYXJAvWH0LrFhs1qnYcXomGFo+JFh0vSHYRKFfWHWHWthsvZXYRUdSWHLczphOuIrYVY3IGETqBVhbFcLYfXCAmHYyPFguInjYO0N12CC08pgEAm/YFuBs2BzdaxgyQuiYL7HmGDd8IpgK4SAYAZtc2BPiVBgW5kvYJfXGmB2ngJgvry4X5RwcV+mJbZfLatKXw==",
          "dtype": "f4"
         }
        },
        {
         "line": {
          "cmax": 670368756202190400000,
          "cmin": -25347782625957250000,
          "color": {
           "bdata": "qVE23+Tv595ub67f7yAC38zkRt/Felvfw4Vf30XdOd9QpAnfodiB3nDkal2IgyBf5+d8X5rXtl/CJgNgjwgqYOOpWWA6moRgj9CdYMNpuWA32dJgsDjuYG/iBWEu9BRhnS0kYTPSM2G7C0RhhO9QYX7+Y2EygHVhyEqDYTNUjWFbrJZhr2+gYTsVqmFP+bNhyku+YaWwx2FOOtFhPBPbYe5m5GGSPu1hyNz1YdGk/WFyWgJiOZoFYkRECGIFigpi10IMYnxUDWIG+w1iZdwNYuZ6DWKreQxiazUKYt7yBmKBRwNiTOsAYij9+WEDMPFhla/nYcww3mGowNNhJ/fIYUj1vWHYybFh0cSnYdUXmWF9GpJhafOHYWRFfWFkn2phijFXYS8uSGHIXDlhFJcqYarKHmEHGBRhu60JYWQEAWGMRe5gtN3fYEBW02DcHcdgFmG7YATyr2AxB6lgRdaeYFCulWA+A4hg36h7YIqUbmA0MExgGckrYK6IF2BH7P9faIm0X5csa19umrRfgE5JXw==",
           "dtype": "f4"
          },
          "colorscale": [
           [
            0,
            "#440154"
           ],
           [
            0.1111111111111111,
            "#482878"
           ],
           [
            0.2222222222222222,
            "#3e4989"
           ],
           [
            0.3333333333333333,
            "#31688e"
           ],
           [
            0.4444444444444444,
            "#26828e"
           ],
           [
            0.5555555555555556,
            "#1f9e89"
           ],
           [
            0.6666666666666666,
            "#35b779"
           ],
           [
            0.7777777777777778,
            "#6ece58"
           ],
           [
            0.8888888888888888,
            "#b5de2b"
           ],
           [
            1,
            "#fde725"
           ]
          ],
          "showscale": false,
          "width": 4
         },
         "mode": "lines",
         "showlegend": false,
         "type": "scatter3d",
         "x": {
          "bdata": "AAAAALooDiy6KI4sFz3VLLooDi3osjEtFz1VLUbHeC26KI4t0e2fLeiysS0AeMMtFz3VLS4C5y1Gx/gtLkYFLrooDi5GCxcu0e0fLl3QKC7osjEudJU6LgB4Qy6LWkwuFz1VLqMfXi4uAmcuuuRvLkbHeC7p1IAuLkaFLnS3iS66KI4uAJqSLkYLly6LfJsu0e2fLhdfpC5d0Kguo0GtLuiysS4uJLYudJW6LroGvy4AeMMuRunHLotazC7Ry9AuFz3VLl2u2S6hH94u55DiLi0C5y5zc+suuOTvLv5V9C5Ex/guijj9LujUAC+LDQMvLkYFL9B+By90twkvFvALL7ooDi9cYRAv/5kSL6LSFC9FCxcv6EMZL4p8Gy8utR0v0O0fL3QmIi8WXyQvuZcmL1zQKC//CCsvokEtL0V6Ly/osjEvi+szLy4kNi/QXDgvdJU6LxbOPC+5Bj8vXD9BL/93Qy+isEUvRelHL+ghSi+LWkwvLpNOL9DLUC9zBFMvFj1VL7l1Vy9crlkv/+ZbLw==",
          "dtype": "f4"
         },
         "y": {
          "bdata": "av0KQWr9CkFq/QpBav0KQWr9CkFq/QpBav0KQWr9CkFq/QpBav0KQWr9CkFq/QpBav0KQWr9CkFq/QpBav0KQWr9CkFq/QpBav0KQWr9CkFq/QpBav0KQWr9CkFq/QpBav0KQWr9CkFq/QpBav0KQWr9CkFq/QpBav0KQWr9CkFq/QpBav0KQWr9CkFq/QpBav0KQWr9CkFq/QpBav0KQWr9CkFq/QpBav0KQWr9CkFq/QpBav0KQWr9CkFq/QpBav0KQWr9CkFq/QpBav0KQWr9CkFq/QpBav0KQWr9CkFq/QpBav0KQWr9CkFq/QpBav0KQWr9CkFq/QpBav0KQWr9CkFq/QpBav0KQWr9CkFq/QpBav0KQWr9CkFq/QpBav0KQWr9CkFq/QpBav0KQWr9CkFq/QpBav0KQWr9CkFq/QpBav0KQWr9CkFq/QpBav0KQWr9CkFq/QpBav0KQWr9CkFq/QpBav0KQWr9CkFq/QpBav0KQWr9CkFq/QpBav0KQWr9CkFq/QpBav0KQQ==",
          "dtype": "f4"
         },
         "z": {
          "bdata": "qVE23+Tv595ub67f7yAC38zkRt/Felvfw4Vf30XdOd9QpAnfodiB3nDkal2IgyBf5+d8X5rXtl/CJgNgjwgqYOOpWWA6moRgj9CdYMNpuWA32dJgsDjuYG/iBWEu9BRhnS0kYTPSM2G7C0RhhO9QYX7+Y2EygHVhyEqDYTNUjWFbrJZhr2+gYTsVqmFP+bNhyku+YaWwx2FOOtFhPBPbYe5m5GGSPu1hyNz1YdGk/WFyWgJiOZoFYkRECGIFigpi10IMYnxUDWIG+w1iZdwNYuZ6DWKreQxiazUKYt7yBmKBRwNiTOsAYij9+WEDMPFhla/nYcww3mGowNNhJ/fIYUj1vWHYybFh0cSnYdUXmWF9GpJhafOHYWRFfWFkn2phijFXYS8uSGHIXDlhFJcqYarKHmEHGBRhu60JYWQEAWGMRe5gtN3fYEBW02DcHcdgFmG7YATyr2AxB6lgRdaeYFCulWA+A4hg36h7YIqUbmA0MExgGckrYK6IF2BH7P9faIm0X5csa19umrRfgE5JXw==",
          "dtype": "f4"
         }
        },
        {
         "line": {
          "cmax": 670368756202190400000,
          "cmin": -25347782625957250000,
          "color": {
           "bdata": "ves23zUR6N6Gza7ffUwC385mR98qAFzfClBg37a3Ot84KAvfb/KE3qFSR12ydh1f0K53XxWetF+vzAFg81AoYHi3V2DFbINg3XOcYJzRt2AGF9FgnDzsYHnHBGFuuBNh+tQiYXNiMmFagUJhjkpPYQtQYmFqy3Nh4GqCYSp4jGED2JVheKGfYbNYqWH7TrNhOby9YfI7x2Ev6NBhDePaYcFa5GELW+1hqiT2Yf8S/mHMpwJiwvsFYjO5CGIBEAtictgMYjX4DWLWqQ5iWpQOYkg3DmLSOw1iBvgKYpymB2Lu+ANim5wBYhJL+2HCZvJhgcroYQ0u32FfoNRhdbbJYR2TvmEOULJhzx2oYbY6mWFvMZJh6OmHYf36fGHcG2phV21WYa9ER2FfTzhhW1opYfRvHWGInRJhaBwIYTDB/mCT+upg4m3cYMXcz2Bap8NgS/i3YPGgrGBh1aVgStqbYC/MkmBoSoVgB6p2YNESamDJJUhgGj4oYLF1FGBj/PpfrKOwX3peZV9jKLNfQwhIXw==",
           "dtype": "f4"
          },
          "colorscale": [
           [
            0,
            "#440154"
           ],
           [
            0.1111111111111111,
            "#482878"
           ],
           [
            0.2222222222222222,
            "#3e4989"
           ],
           [
            0.3333333333333333,
            "#31688e"
           ],
           [
            0.4444444444444444,
            "#26828e"
           ],
           [
            0.5555555555555556,
            "#1f9e89"
           ],
           [
            0.6666666666666666,
            "#35b779"
           ],
           [
            0.7777777777777778,
            "#6ece58"
           ],
           [
            0.8888888888888888,
            "#b5de2b"
           ],
           [
            1,
            "#fde725"
           ]
          ],
          "showscale": false,
          "width": 4
         },
         "mode": "lines",
         "showlegend": false,
         "type": "scatter3d",
         "x": {
          "bdata": "AAAAALooDiy6KI4sFz3VLLooDi3osjEtFz1VLUbHeC26KI4t0e2fLeiysS0AeMMtFz3VLS4C5y1Gx/gtLkYFLrooDi5GCxcu0e0fLl3QKC7osjEudJU6LgB4Qy6LWkwuFz1VLqMfXi4uAmcuuuRvLkbHeC7p1IAuLkaFLnS3iS66KI4uAJqSLkYLly6LfJsu0e2fLhdfpC5d0Kguo0GtLuiysS4uJLYudJW6LroGvy4AeMMuRunHLotazC7Ry9AuFz3VLl2u2S6hH94u55DiLi0C5y5zc+suuOTvLv5V9C5Ex/guijj9LujUAC+LDQMvLkYFL9B+By90twkvFvALL7ooDi9cYRAv/5kSL6LSFC9FCxcv6EMZL4p8Gy8utR0v0O0fL3QmIi8WXyQvuZcmL1zQKC//CCsvokEtL0V6Ly/osjEvi+szLy4kNi/QXDgvdJU6LxbOPC+5Bj8vXD9BL/93Qy+isEUvRelHL+ghSi+LWkwvLpNOL9DLUC9zBFMvFj1VL7l1Vy9crlkv/+ZbLw==",
          "dtype": "f4"
         },
         "y": {
          "bdata": "5DgOQeQ4DkHkOA5B5DgOQeQ4DkHkOA5B5DgOQeQ4DkHkOA5B5DgOQeQ4DkHkOA5B5DgOQeQ4DkHkOA5B5DgOQeQ4DkHkOA5B5DgOQeQ4DkHkOA5B5DgOQeQ4DkHkOA5B5DgOQeQ4DkHkOA5B5DgOQeQ4DkHkOA5B5DgOQeQ4DkHkOA5B5DgOQeQ4DkHkOA5B5DgOQeQ4DkHkOA5B5DgOQeQ4DkHkOA5B5DgOQeQ4DkHkOA5B5DgOQeQ4DkHkOA5B5DgOQeQ4DkHkOA5B5DgOQeQ4DkHkOA5B5DgOQeQ4DkHkOA5B5DgOQeQ4DkHkOA5B5DgOQeQ4DkHkOA5B5DgOQeQ4DkHkOA5B5DgOQeQ4DkHkOA5B5DgOQeQ4DkHkOA5B5DgOQeQ4DkHkOA5B5DgOQeQ4DkHkOA5B5DgOQeQ4DkHkOA5B5DgOQeQ4DkHkOA5B5DgOQeQ4DkHkOA5B5DgOQeQ4DkHkOA5B5DgOQeQ4DkHkOA5B5DgOQeQ4DkHkOA5B5DgOQeQ4DkHkOA5B5DgOQQ==",
          "dtype": "f4"
         },
         "z": {
          "bdata": "ves23zUR6N6Gza7ffUwC385mR98qAFzfClBg37a3Ot84KAvfb/KE3qFSR12ydh1f0K53XxWetF+vzAFg81AoYHi3V2DFbINg3XOcYJzRt2AGF9FgnDzsYHnHBGFuuBNh+tQiYXNiMmFagUJhjkpPYQtQYmFqy3Nh4GqCYSp4jGED2JVheKGfYbNYqWH7TrNhOby9YfI7x2Ev6NBhDePaYcFa5GELW+1hqiT2Yf8S/mHMpwJiwvsFYjO5CGIBEAtictgMYjX4DWLWqQ5iWpQOYkg3DmLSOw1iBvgKYpymB2Lu+ANim5wBYhJL+2HCZvJhgcroYQ0u32FfoNRhdbbJYR2TvmEOULJhzx2oYbY6mWFvMZJh6OmHYf36fGHcG2phV21WYa9ER2FfTzhhW1opYfRvHWGInRJhaBwIYTDB/mCT+upg4m3cYMXcz2Bap8NgS/i3YPGgrGBh1aVgStqbYC/MkmBoSoVgB6p2YNESamDJJUhgGj4oYLF1FGBj/PpfrKOwX3peZV9jKLNfQwhIXw==",
          "dtype": "f4"
         }
        },
        {
         "line": {
          "cmax": 670368756202190400000,
          "cmin": -25347782625957250000,
          "color": {
           "bdata": "DXM333gm6N7RHK/ff20C38fUR98mcVzfvAFh32d6O99EiwzfQNiH3vizJV2ejhpfxcRyX2V7sl+CfwBgVaomYAHXVWAsSoJgwyObYH1ItmC/ZM9gBFPqYMK2A2EbiBJh1IghYcf/MGHoBEFhdrRNYViwYGHcJHJhKJKBYYSii2EfCZVhA9ieYWyfqGFsprJhaCy9YRTFxmFlkdBh3qvaYRNF5GEra+1hQl32YVZv/mGs6gJibFEGYucgCWKQhwtigV4NYmWLDmJFRw9iKToPYh/hDmLw6g1ioKcLYm5ICGKbmARiwTsCYv51/GECfPNhE8bpYdYN4GHLZNVhB13KYdUav2GowrJhYGaoYWFSmWGiPZJhlNiHYRmmfGEvk2lh3qlVYQhgRmGsSjdhAysoYfolHGEvNxFh5aEGYcar+2Br5OdgtjbZYNCdzGBZbMBgCcu0YKqKqWCL3KJgQBSZYD4ekGCUw4JggAZyYP3iZWC3ZURgnPQkYJibEWAQaPZfUgetX9oAYF/NzbFfdtZGXw==",
           "dtype": "f4"
          },
          "colorscale": [
           [
            0,
            "#440154"
           ],
           [
            0.1111111111111111,
            "#482878"
           ],
           [
            0.2222222222222222,
            "#3e4989"
           ],
           [
            0.3333333333333333,
            "#31688e"
           ],
           [
            0.4444444444444444,
            "#26828e"
           ],
           [
            0.5555555555555556,
            "#1f9e89"
           ],
           [
            0.6666666666666666,
            "#35b779"
           ],
           [
            0.7777777777777778,
            "#6ece58"
           ],
           [
            0.8888888888888888,
            "#b5de2b"
           ],
           [
            1,
            "#fde725"
           ]
          ],
          "showscale": false,
          "width": 4
         },
         "mode": "lines",
         "showlegend": false,
         "type": "scatter3d",
         "x": {
          "bdata": "AAAAALooDiy6KI4sFz3VLLooDi3osjEtFz1VLUbHeC26KI4t0e2fLeiysS0AeMMtFz3VLS4C5y1Gx/gtLkYFLrooDi5GCxcu0e0fLl3QKC7osjEudJU6LgB4Qy6LWkwuFz1VLqMfXi4uAmcuuuRvLkbHeC7p1IAuLkaFLnS3iS66KI4uAJqSLkYLly6LfJsu0e2fLhdfpC5d0Kguo0GtLuiysS4uJLYudJW6LroGvy4AeMMuRunHLotazC7Ry9AuFz3VLl2u2S6hH94u55DiLi0C5y5zc+suuOTvLv5V9C5Ex/guijj9LujUAC+LDQMvLkYFL9B+By90twkvFvALL7ooDi9cYRAv/5kSL6LSFC9FCxcv6EMZL4p8Gy8utR0v0O0fL3QmIi8WXyQvuZcmL1zQKC//CCsvokEtL0V6Ly/osjEvi+szLy4kNi/QXDgvdJU6LxbOPC+5Bj8vXD9BL/93Qy+isEUvRelHL+ghSi+LWkwvLpNOL9DLUC9zBFMvFj1VL7l1Vy9crlkv/+ZbLw==",
          "dtype": "f4"
         },
         "y": {
          "bdata": "XXQRQV10EUFddBFBXXQRQV10EUFddBFBXXQRQV10EUFddBFBXXQRQV10EUFddBFBXXQRQV10EUFddBFBXXQRQV10EUFddBFBXXQRQV10EUFddBFBXXQRQV10EUFddBFBXXQRQV10EUFddBFBXXQRQV10EUFddBFBXXQRQV10EUFddBFBXXQRQV10EUFddBFBXXQRQV10EUFddBFBXXQRQV10EUFddBFBXXQRQV10EUFddBFBXXQRQV10EUFddBFBXXQRQV10EUFddBFBXXQRQV10EUFddBFBXXQRQV10EUFddBFBXXQRQV10EUFddBFBXXQRQV10EUFddBFBXXQRQV10EUFddBFBXXQRQV10EUFddBFBXXQRQV10EUFddBFBXXQRQV10EUFddBFBXXQRQV10EUFddBFBXXQRQV10EUFddBFBXXQRQV10EUFddBFBXXQRQV10EUFddBFBXXQRQV10EUFddBFBXXQRQV10EUFddBFBXXQRQV10EUFddBFBXXQRQV10EUFddBFBXXQRQQ==",
          "dtype": "f4"
         },
         "z": {
          "bdata": "DXM333gm6N7RHK/ff20C38fUR98mcVzfvAFh32d6O99EiwzfQNiH3vizJV2ejhpfxcRyX2V7sl+CfwBgVaomYAHXVWAsSoJgwyObYH1ItmC/ZM9gBFPqYMK2A2EbiBJh1IghYcf/MGHoBEFhdrRNYViwYGHcJHJhKJKBYYSii2EfCZVhA9ieYWyfqGFsprJhaCy9YRTFxmFlkdBh3qvaYRNF5GEra+1hQl32YVZv/mGs6gJibFEGYucgCWKQhwtigV4NYmWLDmJFRw9iKToPYh/hDmLw6g1ioKcLYm5ICGKbmARiwTsCYv51/GECfPNhE8bpYdYN4GHLZNVhB13KYdUav2GowrJhYGaoYWFSmWGiPZJhlNiHYRmmfGEvk2lh3qlVYQhgRmGsSjdhAysoYfolHGEvNxFh5aEGYcar+2Br5OdgtjbZYNCdzGBZbMBgCcu0YKqKqWCL3KJgQBSZYD4ekGCUw4JggAZyYP3iZWC3ZURgnPQkYJibEWAQaPZfUgetX9oAYF/NzbFfdtZGXw==",
          "dtype": "f4"
         }
        },
        {
         "line": {
          "cmax": 670368756202190400000,
          "cmin": -25347782625957250000,
          "color": {
           "bdata": "b+g331gw6N4kXq/fJoUC3zYxSN+5z1zfb51h34QoPN+X0g3fgZGK3gXIBV22xBdfYCBuX9ZssF9He/5f3hIlYJEGVGBxMYFgEt+ZYPbMtGAOwc1gT3roYFivAmFBYhFhJUggYRepL2E+lT9hQixMYfcdX2ETi3Bh3b+AYY3SimEUP5RhvxKeYd/op2Ep/7Fh7Ju8YbxLxmGXNdBhmW3aYfIl5GE0b+1h7ob2YVW6/mFsIwNiq5sGYt97CWJM8Qtir9UNYr8OD2Ic1A9irc4PYlx5D2Lyhw5iCkUMYj7ZCGJNJwVit8kCYtl//WGmcfRhEaTqYeLR4GGJD9ZhTuzKYb2Nv2FrIrNhdZ+oYRFfmWGxP5Jhz7+HYSRHfGF4BWlhteZUYaJ/RWHXTTZh2QcnYU/rGmFP4w9hWDwFYZDE+GBr/uRgqjPWYNiUyWA0aL1gvNSxYJKqpmBOGKBgCoCWYIqgjWANa4BgfbdtYDP/YWCK6kBg7+chYE72DmByKPJf+q6pXzUJW1+OiLBf+7ZFXw==",
           "dtype": "f4"
          },
          "colorscale": [
           [
            0,
            "#440154"
           ],
           [
            0.1111111111111111,
            "#482878"
           ],
           [
            0.2222222222222222,
            "#3e4989"
           ],
           [
            0.3333333333333333,
            "#31688e"
           ],
           [
            0.4444444444444444,
            "#26828e"
           ],
           [
            0.5555555555555556,
            "#1f9e89"
           ],
           [
            0.6666666666666666,
            "#35b779"
           ],
           [
            0.7777777777777778,
            "#6ece58"
           ],
           [
            0.8888888888888888,
            "#b5de2b"
           ],
           [
            1,
            "#fde725"
           ]
          ],
          "showscale": false,
          "width": 4
         },
         "mode": "lines",
         "showlegend": false,
         "type": "scatter3d",
         "x": {
          "bdata": "AAAAALooDiy6KI4sFz3VLLooDi3osjEtFz1VLUbHeC26KI4t0e2fLeiysS0AeMMtFz3VLS4C5y1Gx/gtLkYFLrooDi5GCxcu0e0fLl3QKC7osjEudJU6LgB4Qy6LWkwuFz1VLqMfXi4uAmcuuuRvLkbHeC7p1IAuLkaFLnS3iS66KI4uAJqSLkYLly6LfJsu0e2fLhdfpC5d0Kguo0GtLuiysS4uJLYudJW6LroGvy4AeMMuRunHLotazC7Ry9AuFz3VLl2u2S6hH94u55DiLi0C5y5zc+suuOTvLv5V9C5Ex/guijj9LujUAC+LDQMvLkYFL9B+By90twkvFvALL7ooDi9cYRAv/5kSL6LSFC9FCxcv6EMZL4p8Gy8utR0v0O0fL3QmIi8WXyQvuZcmL1zQKC//CCsvokEtL0V6Ly/osjEvi+szLy4kNi/QXDgvdJU6LxbOPC+5Bj8vXD9BL/93Qy+isEUvRelHL+ghSi+LWkwvLpNOL9DLUC9zBFMvFj1VL7l1Vy9crlkv/+ZbLw==",
          "dtype": "f4"
         },
         "y": {
          "bdata": "168UQdevFEHXrxRB168UQdevFEHXrxRB168UQdevFEHXrxRB168UQdevFEHXrxRB168UQdevFEHXrxRB168UQdevFEHXrxRB168UQdevFEHXrxRB168UQdevFEHXrxRB168UQdevFEHXrxRB168UQdevFEHXrxRB168UQdevFEHXrxRB168UQdevFEHXrxRB168UQdevFEHXrxRB168UQdevFEHXrxRB168UQdevFEHXrxRB168UQdevFEHXrxRB168UQdevFEHXrxRB168UQdevFEHXrxRB168UQdevFEHXrxRB168UQdevFEHXrxRB168UQdevFEHXrxRB168UQdevFEHXrxRB168UQdevFEHXrxRB168UQdevFEHXrxRB168UQdevFEHXrxRB168UQdevFEHXrxRB168UQdevFEHXrxRB168UQdevFEHXrxRB168UQdevFEHXrxRB168UQdevFEHXrxRB168UQdevFEHXrxRB168UQdevFEHXrxRB168UQdevFEHXrxRB168UQQ==",
          "dtype": "f4"
         },
         "z": {
          "bdata": "b+g331gw6N4kXq/fJoUC3zYxSN+5z1zfb51h34QoPN+X0g3fgZGK3gXIBV22xBdfYCBuX9ZssF9He/5f3hIlYJEGVGBxMYFgEt+ZYPbMtGAOwc1gT3roYFivAmFBYhFhJUggYRepL2E+lT9hQixMYfcdX2ETi3Bh3b+AYY3SimEUP5RhvxKeYd/op2Ep/7Fh7Ju8YbxLxmGXNdBhmW3aYfIl5GE0b+1h7ob2YVW6/mFsIwNiq5sGYt97CWJM8Qtir9UNYr8OD2Ic1A9irc4PYlx5D2Lyhw5iCkUMYj7ZCGJNJwVit8kCYtl//WGmcfRhEaTqYeLR4GGJD9ZhTuzKYb2Nv2FrIrNhdZ+oYRFfmWGxP5Jhz7+HYSRHfGF4BWlhteZUYaJ/RWHXTTZh2QcnYU/rGmFP4w9hWDwFYZDE+GBr/uRgqjPWYNiUyWA0aL1gvNSxYJKqpmBOGKBgCoCWYIqgjWANa4BgfbdtYDP/YWCK6kBg7+chYE72DmByKPJf+q6pXzUJW1+OiLBf+7ZFXw==",
          "dtype": "f4"
         }
        },
        {
         "line": {
          "cmax": 670368756202190400000,
          "cmin": -25347782625957250000,
          "color": {
           "bdata": "90w435sw6N5jkq/fSpQC32x9SN/GHV3fYCVi3/vDPN9U/w7fuCON3mutzlx2GRVfoL5pX+Bvrl+sC/xf9YgjYDlEUmBvIYBgmqSYYOFds2BgKsxg0bDmYFiwAWHbRRBhyhEfYTBdLmEXMT5h869KYYiXXWG8/G5hxuZ/YaIHimE6eZNhDlGdYYQ0p2G/WLFheAq8Ya7PxWG91M9hRijaYYf942FjZ+1hJ6L2YaD0/mFxUgNi+doGYrfKCWLcTQxiwD4OYiCDD2JJURBi21IQYgEBEGL5Ew9ilNEMYihaCWJGpgViokcDYt9q/mHNSfVhkGbrYS984WFxotZhBGbLYW3tv2EAcbNhS8qoYQJimWFqOJJhPqCHYQjfe2Exc2hh8CNUYTmjRGFCWDVh9+8lYbi+GWFsoA5hDuoDYb4H9mCvROJgmmDTYEq9xmB/lrpg1xCvYDv8o2BEhJ1gXRmUYAtPi2BOenxg0rVpYMlgXmBprj1g0RIfYG+BDGB8Nu5f1JSmX0NvVl+VVq9fuqdEXw==",
           "dtype": "f4"
          },
          "colorscale": [
           [
            0,
            "#440154"
           ],
           [
            0.1111111111111111,
            "#482878"
           ],
           [
            0.2222222222222222,
            "#3e4989"
           ],
           [
            0.3333333333333333,
            "#31688e"
           ],
           [
            0.4444444444444444,
            "#26828e"
           ],
           [
            0.5555555555555556,
            "#1f9e89"
           ],
           [
            0.6666666666666666,
            "#35b779"
           ],
           [
            0.7777777777777778,
            "#6ece58"
           ],
           [
            0.8888888888888888,
            "#b5de2b"
           ],
           [
            1,
            "#fde725"
           ]
          ],
          "showscale": false,
          "width": 4
         },
         "mode": "lines",
         "showlegend": false,
         "type": "scatter3d",
         "x": {
          "bdata": "AAAAALooDiy6KI4sFz3VLLooDi3osjEtFz1VLUbHeC26KI4t0e2fLeiysS0AeMMtFz3VLS4C5y1Gx/gtLkYFLrooDi5GCxcu0e0fLl3QKC7osjEudJU6LgB4Qy6LWkwuFz1VLqMfXi4uAmcuuuRvLkbHeC7p1IAuLkaFLnS3iS66KI4uAJqSLkYLly6LfJsu0e2fLhdfpC5d0Kguo0GtLuiysS4uJLYudJW6LroGvy4AeMMuRunHLotazC7Ry9AuFz3VLl2u2S6hH94u55DiLi0C5y5zc+suuOTvLv5V9C5Ex/guijj9LujUAC+LDQMvLkYFL9B+By90twkvFvALL7ooDi9cYRAv/5kSL6LSFC9FCxcv6EMZL4p8Gy8utR0v0O0fL3QmIi8WXyQvuZcmL1zQKC//CCsvokEtL0V6Ly/osjEvi+szLy4kNi/QXDgvdJU6LxbOPC+5Bj8vXD9BL/93Qy+isEUvRelHL+ghSi+LWkwvLpNOL9DLUC9zBFMvFj1VL7l1Vy9crlkv/+ZbLw==",
          "dtype": "f4"
         },
         "y": {
          "bdata": "UOsXQVDrF0FQ6xdBUOsXQVDrF0FQ6xdBUOsXQVDrF0FQ6xdBUOsXQVDrF0FQ6xdBUOsXQVDrF0FQ6xdBUOsXQVDrF0FQ6xdBUOsXQVDrF0FQ6xdBUOsXQVDrF0FQ6xdBUOsXQVDrF0FQ6xdBUOsXQVDrF0FQ6xdBUOsXQVDrF0FQ6xdBUOsXQVDrF0FQ6xdBUOsXQVDrF0FQ6xdBUOsXQVDrF0FQ6xdBUOsXQVDrF0FQ6xdBUOsXQVDrF0FQ6xdBUOsXQVDrF0FQ6xdBUOsXQVDrF0FQ6xdBUOsXQVDrF0FQ6xdBUOsXQVDrF0FQ6xdBUOsXQVDrF0FQ6xdBUOsXQVDrF0FQ6xdBUOsXQVDrF0FQ6xdBUOsXQVDrF0FQ6xdBUOsXQVDrF0FQ6xdBUOsXQVDrF0FQ6xdBUOsXQVDrF0FQ6xdBUOsXQVDrF0FQ6xdBUOsXQVDrF0FQ6xdBUOsXQVDrF0FQ6xdBUOsXQVDrF0FQ6xdBUOsXQVDrF0FQ6xdBUOsXQVDrF0FQ6xdBUOsXQQ==",
          "dtype": "f4"
         },
         "z": {
          "bdata": "90w435sw6N5jkq/fSpQC32x9SN/GHV3fYCVi3/vDPN9U/w7fuCON3mutzlx2GRVfoL5pX+Bvrl+sC/xf9YgjYDlEUmBvIYBgmqSYYOFds2BgKsxg0bDmYFiwAWHbRRBhyhEfYTBdLmEXMT5h869KYYiXXWG8/G5hxuZ/YaIHimE6eZNhDlGdYYQ0p2G/WLFheAq8Ya7PxWG91M9hRijaYYf942FjZ+1hJ6L2YaD0/mFxUgNi+doGYrfKCWLcTQxiwD4OYiCDD2JJURBi21IQYgEBEGL5Ew9ilNEMYihaCWJGpgViokcDYt9q/mHNSfVhkGbrYS984WFxotZhBGbLYW3tv2EAcbNhS8qoYQJimWFqOJJhPqCHYQjfe2Exc2hh8CNUYTmjRGFCWDVh9+8lYbi+GWFsoA5hDuoDYb4H9mCvROJgmmDTYEq9xmB/lrpg1xCvYDv8o2BEhJ1gXRmUYAtPi2BOenxg0rVpYMlgXmBprj1g0RIfYG+BDGB8Nu5f1JSmX0NvVl+VVq9fuqdEXw==",
          "dtype": "f4"
         }
        },
        {
         "line": {
          "cmax": 670368756202190400000,
          "cmin": -25347782625957250000,
          "color": {
           "bdata": "0KE43zIo6N61uq/ftZwC3wu8SN9nXl3fa51i349RPd/fFxDfkJqP3rP6k1zHgxJfF5RlX0eArF+Oq/lf6gkiYCKNUGBMMX5gnnKXYDz5sWCwnspgLfTkYHe4AGGaMQ9haOQdYacaLWH31jxhQz5JYXMbXGFJeG1ht1d+YQFBiWHetpJhQpKcYcKBpmGssrBhoXe7YaRQxWGqbs9h39vZYf/L42EcVO1heq/2Yewe/2EzeANi6w8HYhMOCmIDngxiiJoOYmvpD2LHvxBiyMcQYjF5EGIrkA9iX04NYk3MCWKeFgZiu7YDYoY5/2HrBvZh3A/sYfwO4mGrH9dhIszLYa87wGHGr7NhSuioYRVcmWHXKJJhr3qHYe9ue2Ee3Wdh+GFTYcDKQ2F9aTRhi+IkYSCfGGEebQ1hY6kCYZVx82Dost9gC7nQYKISxGBw8rdgk3qsYMp6oWDBG5tgjduRYGYliWAQa3hg8vllYAsBW2AZqzpg4W8cYD04CmBgiupfsbKjXxkpUl+RNa5fcaZDXw==",
           "dtype": "f4"
          },
          "colorscale": [
           [
            0,
            "#440154"
           ],
           [
            0.1111111111111111,
            "#482878"
           ],
           [
            0.2222222222222222,
            "#3e4989"
           ],
           [
            0.3333333333333333,
            "#31688e"
           ],
           [
            0.4444444444444444,
            "#26828e"
           ],
           [
            0.5555555555555556,
            "#1f9e89"
           ],
           [
            0.6666666666666666,
            "#35b779"
           ],
           [
            0.7777777777777778,
            "#6ece58"
           ],
           [
            0.8888888888888888,
            "#b5de2b"
           ],
           [
            1,
            "#fde725"
           ]
          ],
          "showscale": false,
          "width": 4
         },
         "mode": "lines",
         "showlegend": false,
         "type": "scatter3d",
         "x": {
          "bdata": "AAAAALooDiy6KI4sFz3VLLooDi3osjEtFz1VLUbHeC26KI4t0e2fLeiysS0AeMMtFz3VLS4C5y1Gx/gtLkYFLrooDi5GCxcu0e0fLl3QKC7osjEudJU6LgB4Qy6LWkwuFz1VLqMfXi4uAmcuuuRvLkbHeC7p1IAuLkaFLnS3iS66KI4uAJqSLkYLly6LfJsu0e2fLhdfpC5d0Kguo0GtLuiysS4uJLYudJW6LroGvy4AeMMuRunHLotazC7Ry9AuFz3VLl2u2S6hH94u55DiLi0C5y5zc+suuOTvLv5V9C5Ex/guijj9LujUAC+LDQMvLkYFL9B+By90twkvFvALL7ooDi9cYRAv/5kSL6LSFC9FCxcv6EMZL4p8Gy8utR0v0O0fL3QmIi8WXyQvuZcmL1zQKC//CCsvokEtL0V6Ly/osjEvi+szLy4kNi/QXDgvdJU6LxbOPC+5Bj8vXD9BL/93Qy+isEUvRelHL+ghSi+LWkwvLpNOL9DLUC9zBFMvFj1VL7l1Vy9crlkv/+ZbLw==",
          "dtype": "f4"
         },
         "y": {
          "bdata": "yiYbQcomG0HKJhtByiYbQcomG0HKJhtByiYbQcomG0HKJhtByiYbQcomG0HKJhtByiYbQcomG0HKJhtByiYbQcomG0HKJhtByiYbQcomG0HKJhtByiYbQcomG0HKJhtByiYbQcomG0HKJhtByiYbQcomG0HKJhtByiYbQcomG0HKJhtByiYbQcomG0HKJhtByiYbQcomG0HKJhtByiYbQcomG0HKJhtByiYbQcomG0HKJhtByiYbQcomG0HKJhtByiYbQcomG0HKJhtByiYbQcomG0HKJhtByiYbQcomG0HKJhtByiYbQcomG0HKJhtByiYbQcomG0HKJhtByiYbQcomG0HKJhtByiYbQcomG0HKJhtByiYbQcomG0HKJhtByiYbQcomG0HKJhtByiYbQcomG0HKJhtByiYbQcomG0HKJhtByiYbQcomG0HKJhtByiYbQcomG0HKJhtByiYbQcomG0HKJhtByiYbQcomG0HKJhtByiYbQcomG0HKJhtByiYbQcomG0HKJhtByiYbQQ==",
          "dtype": "f4"
         },
         "z": {
          "bdata": "0KE43zIo6N61uq/ftZwC3wu8SN9nXl3fa51i349RPd/fFxDfkJqP3rP6k1zHgxJfF5RlX0eArF+Oq/lf6gkiYCKNUGBMMX5gnnKXYDz5sWCwnspgLfTkYHe4AGGaMQ9haOQdYacaLWH31jxhQz5JYXMbXGFJeG1ht1d+YQFBiWHetpJhQpKcYcKBpmGssrBhoXe7YaRQxWGqbs9h39vZYf/L42EcVO1heq/2Yewe/2EzeANi6w8HYhMOCmIDngxiiJoOYmvpD2LHvxBiyMcQYjF5EGIrkA9iX04NYk3MCWKeFgZiu7YDYoY5/2HrBvZh3A/sYfwO4mGrH9dhIszLYa87wGHGr7NhSuioYRVcmWHXKJJhr3qHYe9ue2Ee3Wdh+GFTYcDKQ2F9aTRhi+IkYSCfGGEebQ1hY6kCYZVx82Dost9gC7nQYKISxGBw8rdgk3qsYMp6oWDBG5tgjduRYGYliWAQa3hg8vllYAsBW2AZqzpg4W8cYD04CmBgiupfsbKjXxkpUl+RNa5fcaZDXw==",
          "dtype": "f4"
         }
        },
        {
         "line": {
          "cmax": 670368756202190400000,
          "cmin": -25347782625957250000,
          "color": {
           "bdata": "Oeg43+8X6N7216/f2J4C34rtSN9mkl3flAZj31nRPd/0HBHfPveR3o21NlzzARBfkKRhX4Cdql9ZWvdfLZUgYO/gTmBhLXxgs0iWYHiesGBeHclgpUPjYFiO/2DbJA5hRb8cYargK2HwhTthL9ZHYZqoWmGQ/GthUtF8YRZ+iGFk95Fhu9WbYRjQpWF/DLBhEOO6YWPOxGFMA89hdYjZYY+R42HANe1he6/2YQA6/2E1lQNiGDsHYqdGCmKQ4gxi7ukOYqNCEGKjIBFijC4RYhrjEGLN/Q9in7wNYvwwCmKjeQZiRRgEYj7u/2Ffq/ZhS6LsYWOM4mEtiddheSDMYSZ6wGFm4LNhtPqoYWBOmWHHEZJhvU+HYa33emGmQ2dhtKBSYeX1QmHlgDNhj94jYUOLF2HXRwxhiHgBYST+8GDYRN1ggDjOYDWQwWA4d7VgHA2qYJ0hn2Ah2phgQcKPYGYfh2CyoHRgeHxiYGPZV2CG2jdg1PkZYC8WCGB3HOdfjAKhXzctTl9rI61fNbFCXw==",
           "dtype": "f4"
          },
          "colorscale": [
           [
            0,
            "#440154"
           ],
           [
            0.1111111111111111,
            "#482878"
           ],
           [
            0.2222222222222222,
            "#3e4989"
           ],
           [
            0.3333333333333333,
            "#31688e"
           ],
           [
            0.4444444444444444,
            "#26828e"
           ],
           [
            0.5555555555555556,
            "#1f9e89"
           ],
           [
            0.6666666666666666,
            "#35b779"
           ],
           [
            0.7777777777777778,
            "#6ece58"
           ],
           [
            0.8888888888888888,
            "#b5de2b"
           ],
           [
            1,
            "#fde725"
           ]
          ],
          "showscale": false,
          "width": 4
         },
         "mode": "lines",
         "showlegend": false,
         "type": "scatter3d",
         "x": {
          "bdata": "AAAAALooDiy6KI4sFz3VLLooDi3osjEtFz1VLUbHeC26KI4t0e2fLeiysS0AeMMtFz3VLS4C5y1Gx/gtLkYFLrooDi5GCxcu0e0fLl3QKC7osjEudJU6LgB4Qy6LWkwuFz1VLqMfXi4uAmcuuuRvLkbHeC7p1IAuLkaFLnS3iS66KI4uAJqSLkYLly6LfJsu0e2fLhdfpC5d0Kguo0GtLuiysS4uJLYudJW6LroGvy4AeMMuRunHLotazC7Ry9AuFz3VLl2u2S6hH94u55DiLi0C5y5zc+suuOTvLv5V9C5Ex/guijj9LujUAC+LDQMvLkYFL9B+By90twkvFvALL7ooDi9cYRAv/5kSL6LSFC9FCxcv6EMZL4p8Gy8utR0v0O0fL3QmIi8WXyQvuZcmL1zQKC//CCsvokEtL0V6Ly/osjEvi+szLy4kNi/QXDgvdJU6LxbOPC+5Bj8vXD9BL/93Qy+isEUvRelHL+ghSi+LWkwvLpNOL9DLUC9zBFMvFj1VL7l1Vy9crlkv/+ZbLw==",
          "dtype": "f4"
         },
         "y": {
          "bdata": "Q2IeQUNiHkFDYh5BQ2IeQUNiHkFDYh5BQ2IeQUNiHkFDYh5BQ2IeQUNiHkFDYh5BQ2IeQUNiHkFDYh5BQ2IeQUNiHkFDYh5BQ2IeQUNiHkFDYh5BQ2IeQUNiHkFDYh5BQ2IeQUNiHkFDYh5BQ2IeQUNiHkFDYh5BQ2IeQUNiHkFDYh5BQ2IeQUNiHkFDYh5BQ2IeQUNiHkFDYh5BQ2IeQUNiHkFDYh5BQ2IeQUNiHkFDYh5BQ2IeQUNiHkFDYh5BQ2IeQUNiHkFDYh5BQ2IeQUNiHkFDYh5BQ2IeQUNiHkFDYh5BQ2IeQUNiHkFDYh5BQ2IeQUNiHkFDYh5BQ2IeQUNiHkFDYh5BQ2IeQUNiHkFDYh5BQ2IeQUNiHkFDYh5BQ2IeQUNiHkFDYh5BQ2IeQUNiHkFDYh5BQ2IeQUNiHkFDYh5BQ2IeQUNiHkFDYh5BQ2IeQUNiHkFDYh5BQ2IeQUNiHkFDYh5BQ2IeQUNiHkFDYh5BQ2IeQUNiHkFDYh5BQ2IeQUNiHkFDYh5BQ2IeQQ==",
          "dtype": "f4"
         },
         "z": {
          "bdata": "Oeg43+8X6N7216/f2J4C34rtSN9mkl3flAZj31nRPd/0HBHfPveR3o21NlzzARBfkKRhX4Cdql9ZWvdfLZUgYO/gTmBhLXxgs0iWYHiesGBeHclgpUPjYFiO/2DbJA5hRb8cYargK2HwhTthL9ZHYZqoWmGQ/GthUtF8YRZ+iGFk95Fhu9WbYRjQpWF/DLBhEOO6YWPOxGFMA89hdYjZYY+R42HANe1he6/2YQA6/2E1lQNiGDsHYqdGCmKQ4gxi7ukOYqNCEGKjIBFijC4RYhrjEGLN/Q9in7wNYvwwCmKjeQZiRRgEYj7u/2Ffq/ZhS6LsYWOM4mEtiddheSDMYSZ6wGFm4LNhtPqoYWBOmWHHEZJhvU+HYa33emGmQ2dhtKBSYeX1QmHlgDNhj94jYUOLF2HXRwxhiHgBYST+8GDYRN1ggDjOYDWQwWA4d7VgHA2qYJ0hn2Ah2phgQcKPYGYfh2CyoHRgeHxiYGPZV2CG2jdg1PkZYC8WCGB3HOdfjAKhXzctTl9rI61fNbFCXw==",
          "dtype": "f4"
         }
        }
       ],
       "layout": {
        "height": 700,
        "scene": {
         "xaxis": {
          "autorange": "reversed",
          "title": {
           "text": "Mass (m)"
          }
         },
         "yaxis": {
          "title": {
           "text": "Time (t)"
          }
         },
         "zaxis": {
          "title": {
           "text": "n(m, t)"
          }
         }
        },
        "template": {
         "data": {
          "bar": [
           {
            "error_x": {
             "color": "#2a3f5f"
            },
            "error_y": {
             "color": "#2a3f5f"
            },
            "marker": {
             "line": {
              "color": "#E5ECF6",
              "width": 0.5
             },
             "pattern": {
              "fillmode": "overlay",
              "size": 10,
              "solidity": 0.2
             }
            },
            "type": "bar"
           }
          ],
          "barpolar": [
           {
            "marker": {
             "line": {
              "color": "#E5ECF6",
              "width": 0.5
             },
             "pattern": {
              "fillmode": "overlay",
              "size": 10,
              "solidity": 0.2
             }
            },
            "type": "barpolar"
           }
          ],
          "carpet": [
           {
            "aaxis": {
             "endlinecolor": "#2a3f5f",
             "gridcolor": "white",
             "linecolor": "white",
             "minorgridcolor": "white",
             "startlinecolor": "#2a3f5f"
            },
            "baxis": {
             "endlinecolor": "#2a3f5f",
             "gridcolor": "white",
             "linecolor": "white",
             "minorgridcolor": "white",
             "startlinecolor": "#2a3f5f"
            },
            "type": "carpet"
           }
          ],
          "choropleth": [
           {
            "colorbar": {
             "outlinewidth": 0,
             "ticks": ""
            },
            "type": "choropleth"
           }
          ],
          "contour": [
           {
            "colorbar": {
             "outlinewidth": 0,
             "ticks": ""
            },
            "colorscale": [
             [
              0,
              "#0d0887"
             ],
             [
              0.1111111111111111,
              "#46039f"
             ],
             [
              0.2222222222222222,
              "#7201a8"
             ],
             [
              0.3333333333333333,
              "#9c179e"
             ],
             [
              0.4444444444444444,
              "#bd3786"
             ],
             [
              0.5555555555555556,
              "#d8576b"
             ],
             [
              0.6666666666666666,
              "#ed7953"
             ],
             [
              0.7777777777777778,
              "#fb9f3a"
             ],
             [
              0.8888888888888888,
              "#fdca26"
             ],
             [
              1,
              "#f0f921"
             ]
            ],
            "type": "contour"
           }
          ],
          "contourcarpet": [
           {
            "colorbar": {
             "outlinewidth": 0,
             "ticks": ""
            },
            "type": "contourcarpet"
           }
          ],
          "heatmap": [
           {
            "colorbar": {
             "outlinewidth": 0,
             "ticks": ""
            },
            "colorscale": [
             [
              0,
              "#0d0887"
             ],
             [
              0.1111111111111111,
              "#46039f"
             ],
             [
              0.2222222222222222,
              "#7201a8"
             ],
             [
              0.3333333333333333,
              "#9c179e"
             ],
             [
              0.4444444444444444,
              "#bd3786"
             ],
             [
              0.5555555555555556,
              "#d8576b"
             ],
             [
              0.6666666666666666,
              "#ed7953"
             ],
             [
              0.7777777777777778,
              "#fb9f3a"
             ],
             [
              0.8888888888888888,
              "#fdca26"
             ],
             [
              1,
              "#f0f921"
             ]
            ],
            "type": "heatmap"
           }
          ],
          "histogram": [
           {
            "marker": {
             "pattern": {
              "fillmode": "overlay",
              "size": 10,
              "solidity": 0.2
             }
            },
            "type": "histogram"
           }
          ],
          "histogram2d": [
           {
            "colorbar": {
             "outlinewidth": 0,
             "ticks": ""
            },
            "colorscale": [
             [
              0,
              "#0d0887"
             ],
             [
              0.1111111111111111,
              "#46039f"
             ],
             [
              0.2222222222222222,
              "#7201a8"
             ],
             [
              0.3333333333333333,
              "#9c179e"
             ],
             [
              0.4444444444444444,
              "#bd3786"
             ],
             [
              0.5555555555555556,
              "#d8576b"
             ],
             [
              0.6666666666666666,
              "#ed7953"
             ],
             [
              0.7777777777777778,
              "#fb9f3a"
             ],
             [
              0.8888888888888888,
              "#fdca26"
             ],
             [
              1,
              "#f0f921"
             ]
            ],
            "type": "histogram2d"
           }
          ],
          "histogram2dcontour": [
           {
            "colorbar": {
             "outlinewidth": 0,
             "ticks": ""
            },
            "colorscale": [
             [
              0,
              "#0d0887"
             ],
             [
              0.1111111111111111,
              "#46039f"
             ],
             [
              0.2222222222222222,
              "#7201a8"
             ],
             [
              0.3333333333333333,
              "#9c179e"
             ],
             [
              0.4444444444444444,
              "#bd3786"
             ],
             [
              0.5555555555555556,
              "#d8576b"
             ],
             [
              0.6666666666666666,
              "#ed7953"
             ],
             [
              0.7777777777777778,
              "#fb9f3a"
             ],
             [
              0.8888888888888888,
              "#fdca26"
             ],
             [
              1,
              "#f0f921"
             ]
            ],
            "type": "histogram2dcontour"
           }
          ],
          "mesh3d": [
           {
            "colorbar": {
             "outlinewidth": 0,
             "ticks": ""
            },
            "type": "mesh3d"
           }
          ],
          "parcoords": [
           {
            "line": {
             "colorbar": {
              "outlinewidth": 0,
              "ticks": ""
             }
            },
            "type": "parcoords"
           }
          ],
          "pie": [
           {
            "automargin": true,
            "type": "pie"
           }
          ],
          "scatter": [
           {
            "fillpattern": {
             "fillmode": "overlay",
             "size": 10,
             "solidity": 0.2
            },
            "type": "scatter"
           }
          ],
          "scatter3d": [
           {
            "line": {
             "colorbar": {
              "outlinewidth": 0,
              "ticks": ""
             }
            },
            "marker": {
             "colorbar": {
              "outlinewidth": 0,
              "ticks": ""
             }
            },
            "type": "scatter3d"
           }
          ],
          "scattercarpet": [
           {
            "marker": {
             "colorbar": {
              "outlinewidth": 0,
              "ticks": ""
             }
            },
            "type": "scattercarpet"
           }
          ],
          "scattergeo": [
           {
            "marker": {
             "colorbar": {
              "outlinewidth": 0,
              "ticks": ""
             }
            },
            "type": "scattergeo"
           }
          ],
          "scattergl": [
           {
            "marker": {
             "colorbar": {
              "outlinewidth": 0,
              "ticks": ""
             }
            },
            "type": "scattergl"
           }
          ],
          "scattermap": [
           {
            "marker": {
             "colorbar": {
              "outlinewidth": 0,
              "ticks": ""
             }
            },
            "type": "scattermap"
           }
          ],
          "scattermapbox": [
           {
            "marker": {
             "colorbar": {
              "outlinewidth": 0,
              "ticks": ""
             }
            },
            "type": "scattermapbox"
           }
          ],
          "scatterpolar": [
           {
            "marker": {
             "colorbar": {
              "outlinewidth": 0,
              "ticks": ""
             }
            },
            "type": "scatterpolar"
           }
          ],
          "scatterpolargl": [
           {
            "marker": {
             "colorbar": {
              "outlinewidth": 0,
              "ticks": ""
             }
            },
            "type": "scatterpolargl"
           }
          ],
          "scatterternary": [
           {
            "marker": {
             "colorbar": {
              "outlinewidth": 0,
              "ticks": ""
             }
            },
            "type": "scatterternary"
           }
          ],
          "surface": [
           {
            "colorbar": {
             "outlinewidth": 0,
             "ticks": ""
            },
            "colorscale": [
             [
              0,
              "#0d0887"
             ],
             [
              0.1111111111111111,
              "#46039f"
             ],
             [
              0.2222222222222222,
              "#7201a8"
             ],
             [
              0.3333333333333333,
              "#9c179e"
             ],
             [
              0.4444444444444444,
              "#bd3786"
             ],
             [
              0.5555555555555556,
              "#d8576b"
             ],
             [
              0.6666666666666666,
              "#ed7953"
             ],
             [
              0.7777777777777778,
              "#fb9f3a"
             ],
             [
              0.8888888888888888,
              "#fdca26"
             ],
             [
              1,
              "#f0f921"
             ]
            ],
            "type": "surface"
           }
          ],
          "table": [
           {
            "cells": {
             "fill": {
              "color": "#EBF0F8"
             },
             "line": {
              "color": "white"
             }
            },
            "header": {
             "fill": {
              "color": "#C8D4E3"
             },
             "line": {
              "color": "white"
             }
            },
            "type": "table"
           }
          ]
         },
         "layout": {
          "annotationdefaults": {
           "arrowcolor": "#2a3f5f",
           "arrowhead": 0,
           "arrowwidth": 1
          },
          "autotypenumbers": "strict",
          "coloraxis": {
           "colorbar": {
            "outlinewidth": 0,
            "ticks": ""
           }
          },
          "colorscale": {
           "diverging": [
            [
             0,
             "#8e0152"
            ],
            [
             0.1,
             "#c51b7d"
            ],
            [
             0.2,
             "#de77ae"
            ],
            [
             0.3,
             "#f1b6da"
            ],
            [
             0.4,
             "#fde0ef"
            ],
            [
             0.5,
             "#f7f7f7"
            ],
            [
             0.6,
             "#e6f5d0"
            ],
            [
             0.7,
             "#b8e186"
            ],
            [
             0.8,
             "#7fbc41"
            ],
            [
             0.9,
             "#4d9221"
            ],
            [
             1,
             "#276419"
            ]
           ],
           "sequential": [
            [
             0,
             "#0d0887"
            ],
            [
             0.1111111111111111,
             "#46039f"
            ],
            [
             0.2222222222222222,
             "#7201a8"
            ],
            [
             0.3333333333333333,
             "#9c179e"
            ],
            [
             0.4444444444444444,
             "#bd3786"
            ],
            [
             0.5555555555555556,
             "#d8576b"
            ],
            [
             0.6666666666666666,
             "#ed7953"
            ],
            [
             0.7777777777777778,
             "#fb9f3a"
            ],
            [
             0.8888888888888888,
             "#fdca26"
            ],
            [
             1,
             "#f0f921"
            ]
           ],
           "sequentialminus": [
            [
             0,
             "#0d0887"
            ],
            [
             0.1111111111111111,
             "#46039f"
            ],
            [
             0.2222222222222222,
             "#7201a8"
            ],
            [
             0.3333333333333333,
             "#9c179e"
            ],
            [
             0.4444444444444444,
             "#bd3786"
            ],
            [
             0.5555555555555556,
             "#d8576b"
            ],
            [
             0.6666666666666666,
             "#ed7953"
            ],
            [
             0.7777777777777778,
             "#fb9f3a"
            ],
            [
             0.8888888888888888,
             "#fdca26"
            ],
            [
             1,
             "#f0f921"
            ]
           ]
          },
          "colorway": [
           "#636efa",
           "#EF553B",
           "#00cc96",
           "#ab63fa",
           "#FFA15A",
           "#19d3f3",
           "#FF6692",
           "#B6E880",
           "#FF97FF",
           "#FECB52"
          ],
          "font": {
           "color": "#2a3f5f"
          },
          "geo": {
           "bgcolor": "white",
           "lakecolor": "white",
           "landcolor": "#E5ECF6",
           "showlakes": true,
           "showland": true,
           "subunitcolor": "white"
          },
          "hoverlabel": {
           "align": "left"
          },
          "hovermode": "closest",
          "mapbox": {
           "style": "light"
          },
          "paper_bgcolor": "white",
          "plot_bgcolor": "#E5ECF6",
          "polar": {
           "angularaxis": {
            "gridcolor": "white",
            "linecolor": "white",
            "ticks": ""
           },
           "bgcolor": "#E5ECF6",
           "radialaxis": {
            "gridcolor": "white",
            "linecolor": "white",
            "ticks": ""
           }
          },
          "scene": {
           "xaxis": {
            "backgroundcolor": "#E5ECF6",
            "gridcolor": "white",
            "gridwidth": 2,
            "linecolor": "white",
            "showbackground": true,
            "ticks": "",
            "zerolinecolor": "white"
           },
           "yaxis": {
            "backgroundcolor": "#E5ECF6",
            "gridcolor": "white",
            "gridwidth": 2,
            "linecolor": "white",
            "showbackground": true,
            "ticks": "",
            "zerolinecolor": "white"
           },
           "zaxis": {
            "backgroundcolor": "#E5ECF6",
            "gridcolor": "white",
            "gridwidth": 2,
            "linecolor": "white",
            "showbackground": true,
            "ticks": "",
            "zerolinecolor": "white"
           }
          },
          "shapedefaults": {
           "line": {
            "color": "#2a3f5f"
           }
          },
          "ternary": {
           "aaxis": {
            "gridcolor": "white",
            "linecolor": "white",
            "ticks": ""
           },
           "baxis": {
            "gridcolor": "white",
            "linecolor": "white",
            "ticks": ""
           },
           "bgcolor": "#E5ECF6",
           "caxis": {
            "gridcolor": "white",
            "linecolor": "white",
            "ticks": ""
           }
          },
          "title": {
           "x": 0.05
          },
          "xaxis": {
           "automargin": true,
           "gridcolor": "white",
           "linecolor": "white",
           "ticks": "",
           "title": {
            "standoff": 15
           },
           "zerolinecolor": "white",
           "zerolinewidth": 2
          },
          "yaxis": {
           "automargin": true,
           "gridcolor": "white",
           "linecolor": "white",
           "ticks": "",
           "title": {
            "standoff": 15
           },
           "zerolinecolor": "white",
           "zerolinewidth": 2
          }
         }
        },
        "title": {
         "text": ""
        },
        "width": 700
       }
      }
     },
     "metadata": {},
     "output_type": "display_data"
    }
   ],
   "source": [
    "\n",
    "\n",
    "def norm_input_GP(n_vec, S_scalar, n_max, S_max):\n",
    "    \"\"\"\n",
    "    n_vec: (M,)    in original units\n",
    "    S_scalar: ()   in original units (tensor or float)\n",
    "    returns X_norm: (1, M+1) float32\n",
    "    \"\"\"\n",
    "    if not torch.is_tensor(S_scalar):\n",
    "        S_scalar = torch.tensor(S_scalar, dtype=n_vec.dtype)\n",
    "    x_norm = torch.cat([n_vec / n_max, (S_scalar / S_max).view(1)], dim=0).unsqueeze(0)\n",
    "    return x_norm.float()\n",
    "\n",
    "def split_and_denorm_cpu(y_norm_row, n_max, S_max, M):\n",
    "    \"\"\"\n",
    "    y_norm_row: (M+1,) normalized prediction\n",
    "    returns (n_next, S_next) in original units\n",
    "    \"\"\"\n",
    "    n_next = y_norm_row[:M] * n_max\n",
    "    S_next = y_norm_row[-1] * S_max\n",
    "    return n_next, S_next\n",
    "\n",
    "@torch.no_grad()\n",
    "def predict_one_step_cpu(model, likelihood, n_t, S_t, n_max, S_max):\n",
    "    \"\"\"\n",
    "    One-step: [n(t), S(t)] -> predict [n(t+1), S(t+1)].\n",
    "    Inputs/outputs in ORIGINAL units.\n",
    "    \"\"\"\n",
    "    model.eval(); likelihood.eval()\n",
    "    X_in = norm_input_GP(n_t, S_t, n_max, S_max)     # (1, M+1)\n",
    "    pred = likelihood(model(X_in))                # Multitask MVN, event_shape=(1, M+1)\n",
    "\n",
    "    mean = pred.mean.squeeze(0)                   # (M+1,)\n",
    "    # If you need uncertainty:\n",
    "    # var  = pred.variance.squeeze(0)             # (M+1,) in normalized units\n",
    "    # n_var = var[:-1] * (n_max**2)\n",
    "    # S_var = var[-1]   * (S_max**2)\n",
    "\n",
    "    M_bins = n_t.numel()\n",
    "    n_next, S_next = split_and_denorm_cpu(mean, n_max, S_max, M_bins)\n",
    "    return n_next, S_next\n",
    "\n",
    "@torch.no_grad()\n",
    "def rollout_cpu(model, likelihood, n0, S0, steps, n_max, S_max):\n",
    "    \"\"\"\n",
    "    Autoregressive rollout for 'steps' steps starting from (n0, S0).\n",
    "    Returns:\n",
    "      Ns: (M, steps+1) including the initial state\n",
    "      Ss: (steps+1,)\n",
    "    \"\"\"\n",
    "    model.eval(); likelihood.eval()\n",
    "    n_t = n0.clone().float()\n",
    "    S_t = (S0.clone().float() if torch.is_tensor(S0) else torch.tensor(S0, dtype=n_t.dtype))\n",
    "\n",
    "    M_bins = n_t.numel()\n",
    "    Ns, Ss = [n_t.clone()], [S_t.clone()]\n",
    "\n",
    "    for _ in range(steps):\n",
    "        n_next, S_next = predict_one_step_cpu(model, likelihood, n_t, S_t, n_max, S_max)\n",
    "        n_t, S_t = n_next, S_next\n",
    "        Ns.append(n_t.clone())\n",
    "        Ss.append(S_t.clone())\n",
    "\n",
    "    Ns = torch.stack(Ns, dim=1)     # (M, steps+1)\n",
    "    Ss = torch.stack(Ss)            # (steps+1,)\n",
    "    return Ns, Ss\n",
    "\n",
    "\n",
    "\n",
    "T_steps = Dataset_validation[0][\"n\"].shape[1] - 1\n",
    "\n",
    "# run rollout\n",
    "n_roll, S_roll = rollout_cpu(model, likelihood, n0, S0, steps=T_steps, n_max=n_max, S_max=S_max)\n",
    "plt.plot((n_roll.T*m).sum(axis=1)*delta_m)\n",
    "plt.plot(S_roll,label=\"Substrate prediction\")\n",
    "plt.plot(Dataset_validation[0]['S'],label= \"Substrate validation\")\n",
    "plt.legend(loc='best')\n",
    "plt.show()\n",
    "\n",
    "plot_spaghetti(m=m,t=t_eval,N=n_roll.detach().numpy())"
   ]
  },
  {
   "cell_type": "code",
   "execution_count": 12,
   "id": "6c7f0f2c",
   "metadata": {},
   "outputs": [],
   "source": [
    "# model.eval()\n",
    "\n",
    "torch.save({\n",
    "    'model_state_dict': model.state_dict(),\n",
    "    'likelihood_state_dict': likelihood.state_dict(),\n",
    "}, \"Sparse_Mulittask_GP_15_latents.pth\")\n",
    "\n"
   ]
  }
 ],
 "metadata": {
  "kernelspec": {
   "display_name": "Python 3",
   "language": "python",
   "name": "python3"
  },
  "language_info": {
   "codemirror_mode": {
    "name": "ipython",
    "version": 3
   },
   "file_extension": ".py",
   "mimetype": "text/x-python",
   "name": "python",
   "nbconvert_exporter": "python",
   "pygments_lexer": "ipython3",
   "version": "3.10.6"
  }
 },
 "nbformat": 4,
 "nbformat_minor": 5
}
