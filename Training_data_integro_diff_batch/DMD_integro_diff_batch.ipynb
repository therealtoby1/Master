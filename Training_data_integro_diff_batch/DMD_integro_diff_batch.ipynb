{
 "cells": [
  {
   "cell_type": "markdown",
   "id": "d3c6b748",
   "metadata": {},
   "source": [
    "# DMD (for batch)\n",
    "similar to the easy model setup it will be attempted to create a DMD model for the System dynamics. \n",
    "However this time, DMD might be a lot better suited, since the system dimension is also a lot bigger than for the \"simple\" bioreactor model\n",
    "The data is used to find a best fit linear operator for the approximation of the nonlinear system such that\n",
    "$$x_{k+1}=A\\cdot x_{k}$$\n",
    "\n",
    "The practical computation uses the singular value decomposition of the snapshot matrices  \n",
    "SVD of $X = U \\Sigma V^T$ and $X' = A X = A U \\Sigma V^T$\n",
    "\n",
    "To solve for $A$, use the pseudoinverse:\n",
    "$$\n",
    "A = X' V \\Sigma^{-1} U^T\n",
    "$$\n",
    "\n",
    "Where:\n",
    "- $X = [x_1, ..., x_{m-1}]$ (data matrix of snapshots)\n",
    "- $X' = [x_2, ..., x_m]$ (data matrix shifted by one step)\n",
    "- $U, \\Sigma, V^T$ are from the SVD of $X$.\n",
    "\n",
    "This gives the best-fit linear operator $A$ such that $x_{k+1} \\approx A x_k$.\n"
   ]
  },
  {
   "cell_type": "code",
   "execution_count": 46,
   "id": "dab9b83a",
   "metadata": {},
   "outputs": [
    {
     "name": "stdout",
     "output_type": "stream",
     "text": [
      "The autoreload extension is already loaded. To reload it, use:\n",
      "  %reload_ext autoreload\n"
     ]
    }
   ],
   "source": [
    "#imports\n",
    "import numpy as np\n",
    "from scipy.integrate import solve_ivp\n",
    "import matplotlib.pyplot as plt\n",
    "import math\n",
    "from functools import partial\n",
    "import pickle\n",
    "import torch\n",
    "import torch.nn as nn\n",
    "from Training_helper import *\n",
    "import pandas as pd\n",
    "%load_ext autoreload\n",
    "%autoreload 2\n",
    "\n"
   ]
  },
  {
   "cell_type": "markdown",
   "id": "87ea9b1b",
   "metadata": {},
   "source": [
    "# Data import"
   ]
  },
  {
   "cell_type": "code",
   "execution_count": 47,
   "id": "a20de635",
   "metadata": {},
   "outputs": [],
   "source": [
    "\n",
    "with open(\"Dataset_training_integro_diff_Batch.pkl\", \"rb\") as f:\n",
    "    Dataset = pickle.load(f)\n",
    "\n",
    "\n",
    "first = next(iter(Dataset.values()))\n",
    "M, T = first[\"n\"].shape\n",
    "dim=M+1  # +1 for S\n",
    "t_span=(0,0.1*T)\n",
    "t_eval= torch.linspace(*t_span,T)\n",
    "m=torch.linspace(0,2e-10,M, dtype=torch.float32)\n",
    "delta_m=(m[1]-m[0]).item()\n",
    "m_max=m[-1]\n",
    "\n",
    "n_max = max(torch.tensor(entry[\"n\"], dtype=torch.float32).max() for entry in Dataset.values())\n",
    "S_max = 5   #max possible substrate\n",
    "\n",
    "X_all, Y_all = [], []\n",
    "\n",
    "for entry in Dataset.values():\n",
    "    n = torch.tensor(entry[\"n\"], dtype=torch.float32)  # (M, T)\n",
    "    s = torch.tensor(entry[\"S\"], dtype=torch.float32)  # (T,)\n",
    "\n",
    "    n_norm = n / n_max#torch.log1p(n) / log_n_max                # log scaling\n",
    "    s_norm = s / S_max         \n",
    "\n",
    "    # X_t = [n(t), s(t)]\n",
    "    X = torch.cat([n_norm[:, :-1], s_norm[:-1].unsqueeze(0)], dim=0).T   # shape (T-1, M+1)\n",
    "    # Y_t = [n(t+1), s(t+1)]\n",
    "    Y = torch.cat([n_norm[:, 1:],  s_norm[1:].unsqueeze(0)], dim=0).T    # shape (T-1, M+1)\n",
    "\n",
    "    X_all.append(X)\n",
    "    Y_all.append(Y)\n",
    "\n",
    "# final stacked tensors\n",
    "X_train = torch.cat(X_all, dim=0)  # shape: (total_samples, M+1)\n",
    "Y_train = torch.cat(Y_all, dim=0)  # shape: (total_samples, M+1)\n",
    "\n",
    "\n",
    "#validation set containing 1 dataset used for plotting\n",
    "with open(\"Dataset_validation_integro_diff_Batch_for_plots.pkl\", \"rb\") as f:\n",
    "    Dataset_validation = pickle.load(f)\n",
    "\n",
    "n0 = torch.tensor(Dataset_validation[0][\"n\"][:, 0], dtype=torch.float32)   # (M,)\n",
    "S0 = torch.tensor(Dataset_validation[0][\"initial_substrate\"], dtype=torch.float32)\n",
    "\n",
    "#validation set containing 147 datasets used for error estimation over a broad range of parameters\n",
    "with open(\"Dataset_validation_integro_diff_Batch.pkl\",\"rb\") as f:\n",
    "    Dataset_error_est=pickle.load(f)\n"
   ]
  },
  {
   "cell_type": "markdown",
   "id": "3d9383b6",
   "metadata": {},
   "source": [
    "# DMD"
   ]
  },
  {
   "cell_type": "code",
   "execution_count": 48,
   "id": "81e81e35",
   "metadata": {},
   "outputs": [],
   "source": [
    "\n",
    "#snapshot matrices\n",
    "X_DMD = X_train.T       # shape: (d, N)\n",
    "Y = Y_train.T           # shape: (d, N)\n",
    "\n",
    "#Singular Value Decomposition\n",
    "U, S, Vh = torch.linalg.svd(X_DMD, full_matrices=False)\n",
    "\n",
    "# choose truncation rank\n",
    "r = 20\n",
    "\n",
    "#reduced matrices\n",
    "U_r = U[:, :r]\n",
    "S_r = S[:r]\n",
    "Vh_r = Vh[:r, :]\n",
    "\n",
    "Sigma_r_inv = torch.diag(1.0 / S_r)\n",
    "\n",
    "# reduced operator (r x r)\n",
    "A_tilde = U_r.T @ Y @ Vh_r.T @ Sigma_r_inv\n",
    "\n",
    "#------------Validation rollout ---------------\n",
    "\n",
    "\n",
    "# normalized initial state\n",
    "x0_norm = torch.cat([n0 / n_max, (S0 / S_max).unsqueeze(0)], dim=0)  # (M+1,)\n",
    "\n",
    "# project into reduced space\n",
    "z0 = U_r.T @ x0_norm   # (r,)\n",
    "\n",
    "# allocate reduced trajectory\n",
    "T_val = Dataset_validation[0][\"n\"].shape[1]\n",
    "z_pred = torch.zeros((T_val, r))\n",
    "z_pred[0] = z0\n",
    "\n",
    "for k in range(T_val - 1):\n",
    "    z_pred[k+1] = A_tilde @ z_pred[k]\n",
    "\n",
    "# lift back to full space\n",
    "x_pred_norm = (U_r @ z_pred.T).T   # (T, M+1)\n",
    "\n",
    "# rescale\n",
    "n_pred = x_pred_norm[:, :M] * n_max\n",
    "S_pred = x_pred_norm[:, -1] * S_max\n",
    "\n",
    "\n"
   ]
  },
  {
   "cell_type": "markdown",
   "id": "d669cc00",
   "metadata": {},
   "source": [
    "## Plotting (+visualization of validation example)"
   ]
  },
  {
   "cell_type": "code",
   "execution_count": 49,
   "id": "c2e65336",
   "metadata": {},
   "outputs": [
    {
     "data": {
      "application/vnd.plotly.v1+json": {
       "config": {
        "plotlyServerURL": "https://plot.ly"
       },
       "data": [
        {
         "line": {
          "cmax": 609580857281803700000,
          "cmin": -47443170274534490000,
          "color": {
           "bdata": "oksr2BsR59nyJJxbRdkXXG7JWFxuDo5cj+i2XIvb7FxSdRpd8sdJXcAlg131zqhd4QDXXYFNB16CmCheQTJQXg0Zf16tUJtewAa8XqCV4l4A3gdf3z8iX4DmQF9oV2RfYYuGX1rWnV/HR7hfDCvWX9Cy918ujw5gR1MjYO87OmAZYFNgmc9uYF5JhmAFV5Zg3o2nYMjmuWDrVM1gTcbhYMch92D/pAZhlwwSYUKzHWHMgClhi1s1YT0oQWE4yUxh7CBYYWcRY2FefG1hU0x3YckugGHLQYRhN9SHYSXfimEjWo1h1juPYZN7kGF+E5FhggGRYcpGkGHk5o5hX+eMYTxPimHMJodh9neDYdScfmH/bXVhRIBrYUTyYGHO41VhBHVKYQHFPmFb8jJhvBknYbJVG2Gevg9hlWoEYX/a8mAVr91gl2/JYI0ztmAUDaRg5wiTYAYvg2CABWlg7QVOYE1VNWAP4x5gwJgKYNO08F8QENBfVv2yX2UymV/YZ4JfKcdcX9YjOl9baB1f7iYDXw==",
           "dtype": "f4"
          },
          "colorbar": {
           "title": {
            "text": "n(m, t)"
           }
          },
          "colorscale": [
           [
            0,
            "#440154"
           ],
           [
            0.1111111111111111,
            "#482878"
           ],
           [
            0.2222222222222222,
            "#3e4989"
           ],
           [
            0.3333333333333333,
            "#31688e"
           ],
           [
            0.4444444444444444,
            "#26828e"
           ],
           [
            0.5555555555555556,
            "#1f9e89"
           ],
           [
            0.6666666666666666,
            "#35b779"
           ],
           [
            0.7777777777777778,
            "#6ece58"
           ],
           [
            0.8888888888888888,
            "#b5de2b"
           ],
           [
            1,
            "#fde725"
           ]
          ],
          "showscale": true,
          "width": 4
         },
         "mode": "lines",
         "showlegend": false,
         "type": "scatter3d",
         "x": {
          "bdata": "AAAAALooDiy6KI4sFz3VLLooDi3osjEtFz1VLUbHeC26KI4t0e2fLeiysS0AeMMtFz3VLS4C5y1Gx/gtLkYFLrooDi5GCxcu0e0fLl3QKC7osjEudJU6LgB4Qy6LWkwuFz1VLqMfXi4uAmcuuuRvLkbHeC7p1IAuLkaFLnS3iS66KI4uAJqSLkYLly6LfJsu0e2fLhdfpC5d0Kguo0GtLuiysS4uJLYudJW6LroGvy4AeMMuRunHLotazC7Ry9AuFz3VLl2u2S6hH94u55DiLi0C5y5zc+suuOTvLv5V9C5Ex/guijj9LujUAC+LDQMvLkYFL9B+By90twkvFvALL7ooDi9cYRAv/5kSL6LSFC9FCxcv6EMZL4p8Gy8utR0v0O0fL3QmIi8WXyQvuZcmL1zQKC//CCsvokEtL0V6Ly/osjEvi+szLy4kNi/QXDgvdJU6LxbOPC+5Bj8vXD9BL/93Qy+isEUvRelHL+ghSi+LWkwvLpNOL9DLUC9zBFMvFj1VL7l1Vy9crlkv/+ZbLw==",
          "dtype": "f4"
         },
         "y": {
          "bdata": "AAAAAAAAAAAAAAAAAAAAAAAAAAAAAAAAAAAAAAAAAAAAAAAAAAAAAAAAAAAAAAAAAAAAAAAAAAAAAAAAAAAAAAAAAAAAAAAAAAAAAAAAAAAAAAAAAAAAAAAAAAAAAAAAAAAAAAAAAAAAAAAAAAAAAAAAAAAAAAAAAAAAAAAAAAAAAAAAAAAAAAAAAAAAAAAAAAAAAAAAAAAAAAAAAAAAAAAAAAAAAAAAAAAAAAAAAAAAAAAAAAAAAAAAAAAAAAAAAAAAAAAAAAAAAAAAAAAAAAAAAAAAAAAAAAAAAAAAAAAAAAAAAAAAAAAAAAAAAAAAAAAAAAAAAAAAAAAAAAAAAAAAAAAAAAAAAAAAAAAAAAAAAAAAAAAAAAAAAAAAAAAAAAAAAAAAAAAAAAAAAAAAAAAAAAAAAAAAAAAAAAAAAAAAAAAAAAAAAAAAAAAAAAAAAAAAAAAAAAAAAAAAAAAAAAAAAAAAAAAAAAAAAAAAAAAAAAAAAAAAAAAAAAAAAAAAAAAAAAAAAAAAAAAAAAAAAA==",
          "dtype": "f4"
         },
         "z": {
          "bdata": "oksr2BsR59nyJJxbRdkXXG7JWFxuDo5cj+i2XIvb7FxSdRpd8sdJXcAlg131zqhd4QDXXYFNB16CmCheQTJQXg0Zf16tUJtewAa8XqCV4l4A3gdf3z8iX4DmQF9oV2RfYYuGX1rWnV/HR7hfDCvWX9Cy918ujw5gR1MjYO87OmAZYFNgmc9uYF5JhmAFV5Zg3o2nYMjmuWDrVM1gTcbhYMch92D/pAZhlwwSYUKzHWHMgClhi1s1YT0oQWE4yUxh7CBYYWcRY2FefG1hU0x3YckugGHLQYRhN9SHYSXfimEjWo1h1juPYZN7kGF+E5FhggGRYcpGkGHk5o5hX+eMYTxPimHMJodh9neDYdScfmH/bXVhRIBrYUTyYGHO41VhBHVKYQHFPmFb8jJhvBknYbJVG2Gevg9hlWoEYX/a8mAVr91gl2/JYI0ztmAUDaRg5wiTYAYvg2CABWlg7QVOYE1VNWAP4x5gwJgKYNO08F8QENBfVv2yX2UymV/YZ4JfKcdcX9YjOl9baB1f7iYDXw==",
          "dtype": "f4"
         }
        },
        {
         "line": {
          "cmax": 609580857281803700000,
          "cmin": -47443170274534490000,
          "color": {
           "bdata": "A5R41zrjPdy9RtjcgsYz3SXfg93PIrXd1Gnv3SJKGt75MUPeMQpz3icIld5V/LPeTd3V3pza+d4cVg/f3Vgh3/j0Md82+j/fQB9K35jxTt9NAE3f/cVC3xnNLt+2qQ/f/hzI3gk2K94LmOhdzuPoXrHdW1+636lfsiDuX7JQHWAam0dg9cV1YIXJk2ApWa5giF7KYB2c52Dj5AJh0koSYVzSIWH7SjFhWIFAYfRBT2GdWV1h+pdqYV3RdmHh74Bhk9KFYR4GimHcVI1hktuPYbLUkWFANJNhYfeTYdAjlGHSxJNhTumSYS2ikWEeAZBhBxeOYVryi2GjnYlhJR+HYbB4hGFSqIFhU1J9YZLpdmGuB3Bh9p5oYfWjYGEiD1hh/t1OYYITRWEZuTphgN4vYVSZJGGqBBlhHUANYYRuAWH7aOtgrm3UYDoyvmDw96hgyveUYGhggmDEqGJgxNJDYMtPKGCcFxBgMxX2Xzzo0V8JHrNffxKZX7ARg19oxmBf0K9AXx3AJF9zWwxfv3vpXg==",
           "dtype": "f4"
          },
          "colorscale": [
           [
            0,
            "#440154"
           ],
           [
            0.1111111111111111,
            "#482878"
           ],
           [
            0.2222222222222222,
            "#3e4989"
           ],
           [
            0.3333333333333333,
            "#31688e"
           ],
           [
            0.4444444444444444,
            "#26828e"
           ],
           [
            0.5555555555555556,
            "#1f9e89"
           ],
           [
            0.6666666666666666,
            "#35b779"
           ],
           [
            0.7777777777777778,
            "#6ece58"
           ],
           [
            0.8888888888888888,
            "#b5de2b"
           ],
           [
            1,
            "#fde725"
           ]
          ],
          "showscale": false,
          "width": 4
         },
         "mode": "lines",
         "showlegend": false,
         "type": "scatter3d",
         "x": {
          "bdata": "AAAAALooDiy6KI4sFz3VLLooDi3osjEtFz1VLUbHeC26KI4t0e2fLeiysS0AeMMtFz3VLS4C5y1Gx/gtLkYFLrooDi5GCxcu0e0fLl3QKC7osjEudJU6LgB4Qy6LWkwuFz1VLqMfXi4uAmcuuuRvLkbHeC7p1IAuLkaFLnS3iS66KI4uAJqSLkYLly6LfJsu0e2fLhdfpC5d0Kguo0GtLuiysS4uJLYudJW6LroGvy4AeMMuRunHLotazC7Ry9AuFz3VLl2u2S6hH94u55DiLi0C5y5zc+suuOTvLv5V9C5Ex/guijj9LujUAC+LDQMvLkYFL9B+By90twkvFvALL7ooDi9cYRAv/5kSL6LSFC9FCxcv6EMZL4p8Gy8utR0v0O0fL3QmIi8WXyQvuZcmL1zQKC//CCsvokEtL0V6Ly/osjEvi+szLy4kNi/QXDgvdJU6LxbOPC+5Bj8vXD9BL/93Qy+isEUvRelHL+ghSi+LWkwvLpNOL9DLUC9zBFMvFj1VL7l1Vy9crlkv/+ZbLw==",
          "dtype": "f4"
         },
         "y": {
          "bdata": "Yt5OPmLeTj5i3k4+Yt5OPmLeTj5i3k4+Yt5OPmLeTj5i3k4+Yt5OPmLeTj5i3k4+Yt5OPmLeTj5i3k4+Yt5OPmLeTj5i3k4+Yt5OPmLeTj5i3k4+Yt5OPmLeTj5i3k4+Yt5OPmLeTj5i3k4+Yt5OPmLeTj5i3k4+Yt5OPmLeTj5i3k4+Yt5OPmLeTj5i3k4+Yt5OPmLeTj5i3k4+Yt5OPmLeTj5i3k4+Yt5OPmLeTj5i3k4+Yt5OPmLeTj5i3k4+Yt5OPmLeTj5i3k4+Yt5OPmLeTj5i3k4+Yt5OPmLeTj5i3k4+Yt5OPmLeTj5i3k4+Yt5OPmLeTj5i3k4+Yt5OPmLeTj5i3k4+Yt5OPmLeTj5i3k4+Yt5OPmLeTj5i3k4+Yt5OPmLeTj5i3k4+Yt5OPmLeTj5i3k4+Yt5OPmLeTj5i3k4+Yt5OPmLeTj5i3k4+Yt5OPmLeTj5i3k4+Yt5OPmLeTj5i3k4+Yt5OPmLeTj5i3k4+Yt5OPmLeTj5i3k4+Yt5OPmLeTj5i3k4+Yt5OPg==",
          "dtype": "f4"
         },
         "z": {
          "bdata": "A5R41zrjPdy9RtjcgsYz3SXfg93PIrXd1Gnv3SJKGt75MUPeMQpz3icIld5V/LPeTd3V3pza+d4cVg/f3Vgh3/j0Md82+j/fQB9K35jxTt9NAE3f/cVC3xnNLt+2qQ/f/hzI3gk2K94LmOhdzuPoXrHdW1+636lfsiDuX7JQHWAam0dg9cV1YIXJk2ApWa5giF7KYB2c52Dj5AJh0koSYVzSIWH7SjFhWIFAYfRBT2GdWV1h+pdqYV3RdmHh74Bhk9KFYR4GimHcVI1hktuPYbLUkWFANJNhYfeTYdAjlGHSxJNhTumSYS2ikWEeAZBhBxeOYVryi2GjnYlhJR+HYbB4hGFSqIFhU1J9YZLpdmGuB3Bh9p5oYfWjYGEiD1hh/t1OYYITRWEZuTphgN4vYVSZJGGqBBlhHUANYYRuAWH7aOtgrm3UYDoyvmDw96hgyveUYGhggmDEqGJgxNJDYMtPKGCcFxBgMxX2Xzzo0V8JHrNffxKZX7ARg19oxmBf0K9AXx3AJF9zWwxfv3vpXg==",
          "dtype": "f4"
         }
        },
        {
         "line": {
          "cmax": 609580857281803700000,
          "cmin": -47443170274534490000,
          "color": {
           "bdata": "IA/j1rvqvdyClm/d32TI3V3eEN4AQUPeHYh93qsVod7LwsnefrT53p60GN8LZzjfp49b3+O6gN9ofZTftFOo3x5Xu99Ge8zfWpva37J75N8l3+jfd4jm34BM3N9ZGMnf+f2r38M4hN84byLf3rkU3mAz317y541fWHbvXxb9LWBGY2lgB76UYJ3dtmDdvtpgjgEAYUIgE2EjgSZh6OQ5YUEITWGmpV9hT3ZxYYYagWHrz4hhVb2PYRDJlWGt3pphLPCeYaT2oWEtn6NhCxWkYdbEo2Hht6Jh+vygYfinnmHi0JthZZOYYYENlWG8XZFhpqCNYWPuiWGDWIZhLumCYZlFf2F5AXlh0fByYQH2bGGu7WZho7JgYaMgWmFYF1Nhs3xLYYI+Q2EXVDphzb4wYemJJmEiyhthrZwQYXwlBWGfGvNgKv/bYHNQxWCpYq9gkIKaYAPyhmC2ymlgMQNJYAO3K2CT7xFgmS/3X5D90F9lubBfya6VX0Ahfl/0ClhfwGo3XyW4Gl9CxABfdbHQXg==",
           "dtype": "f4"
          },
          "colorscale": [
           [
            0,
            "#440154"
           ],
           [
            0.1111111111111111,
            "#482878"
           ],
           [
            0.2222222222222222,
            "#3e4989"
           ],
           [
            0.3333333333333333,
            "#31688e"
           ],
           [
            0.4444444444444444,
            "#26828e"
           ],
           [
            0.5555555555555556,
            "#1f9e89"
           ],
           [
            0.6666666666666666,
            "#35b779"
           ],
           [
            0.7777777777777778,
            "#6ece58"
           ],
           [
            0.8888888888888888,
            "#b5de2b"
           ],
           [
            1,
            "#fde725"
           ]
          ],
          "showscale": false,
          "width": 4
         },
         "mode": "lines",
         "showlegend": false,
         "type": "scatter3d",
         "x": {
          "bdata": "AAAAALooDiy6KI4sFz3VLLooDi3osjEtFz1VLUbHeC26KI4t0e2fLeiysS0AeMMtFz3VLS4C5y1Gx/gtLkYFLrooDi5GCxcu0e0fLl3QKC7osjEudJU6LgB4Qy6LWkwuFz1VLqMfXi4uAmcuuuRvLkbHeC7p1IAuLkaFLnS3iS66KI4uAJqSLkYLly6LfJsu0e2fLhdfpC5d0Kguo0GtLuiysS4uJLYudJW6LroGvy4AeMMuRunHLotazC7Ry9AuFz3VLl2u2S6hH94u55DiLi0C5y5zc+suuOTvLv5V9C5Ex/guijj9LujUAC+LDQMvLkYFL9B+By90twkvFvALL7ooDi9cYRAv/5kSL6LSFC9FCxcv6EMZL4p8Gy8utR0v0O0fL3QmIi8WXyQvuZcmL1zQKC//CCsvokEtL0V6Ly/osjEvi+szLy4kNi/QXDgvdJU6LxbOPC+5Bj8vXD9BL/93Qy+isEUvRelHL+ghSi+LWkwvLpNOL9DLUC9zBFMvFj1VL7l1Vy9crlkv/+ZbLw==",
          "dtype": "f4"
         },
         "y": {
          "bdata": "Yt7OPmLezj5i3s4+Yt7OPmLezj5i3s4+Yt7OPmLezj5i3s4+Yt7OPmLezj5i3s4+Yt7OPmLezj5i3s4+Yt7OPmLezj5i3s4+Yt7OPmLezj5i3s4+Yt7OPmLezj5i3s4+Yt7OPmLezj5i3s4+Yt7OPmLezj5i3s4+Yt7OPmLezj5i3s4+Yt7OPmLezj5i3s4+Yt7OPmLezj5i3s4+Yt7OPmLezj5i3s4+Yt7OPmLezj5i3s4+Yt7OPmLezj5i3s4+Yt7OPmLezj5i3s4+Yt7OPmLezj5i3s4+Yt7OPmLezj5i3s4+Yt7OPmLezj5i3s4+Yt7OPmLezj5i3s4+Yt7OPmLezj5i3s4+Yt7OPmLezj5i3s4+Yt7OPmLezj5i3s4+Yt7OPmLezj5i3s4+Yt7OPmLezj5i3s4+Yt7OPmLezj5i3s4+Yt7OPmLezj5i3s4+Yt7OPmLezj5i3s4+Yt7OPmLezj5i3s4+Yt7OPmLezj5i3s4+Yt7OPmLezj5i3s4+Yt7OPmLezj5i3s4+Yt7OPg==",
          "dtype": "f4"
         },
         "z": {
          "bdata": "IA/j1rvqvdyClm/d32TI3V3eEN4AQUPeHYh93qsVod7LwsnefrT53p60GN8LZzjfp49b3+O6gN9ofZTftFOo3x5Xu99Ge8zfWpva37J75N8l3+jfd4jm34BM3N9ZGMnf+f2r38M4hN84byLf3rkU3mAz317y541fWHbvXxb9LWBGY2lgB76UYJ3dtmDdvtpgjgEAYUIgE2EjgSZh6OQ5YUEITWGmpV9hT3ZxYYYagWHrz4hhVb2PYRDJlWGt3pphLPCeYaT2oWEtn6NhCxWkYdbEo2Hht6Jh+vygYfinnmHi0JthZZOYYYENlWG8XZFhpqCNYWPuiWGDWIZhLumCYZlFf2F5AXlh0fByYQH2bGGu7WZho7JgYaMgWmFYF1Nhs3xLYYI+Q2EXVDphzb4wYemJJmEiyhthrZwQYXwlBWGfGvNgKv/bYHNQxWCpYq9gkIKaYAPyhmC2ymlgMQNJYAO3K2CT7xFgmS/3X5D90F9lubBfya6VX0Ahfl/0ClhfwGo3XyW4Gl9CxABfdbHQXg==",
          "dtype": "f4"
         }
        },
        {
         "line": {
          "cmax": 609580857281803700000,
          "cmin": -47443170274534490000,
          "color": {
           "bdata": "Laeb1sEqCd1uzLDduFsT3qPWUt6vLoze32az3mPL4N44Bwvff0cq35iOTt8o4nffiOiS3763q9/MpMXfM7jf3wLA+N9prAfgkv4Q4LiGF+CycxrgzfcY4J5SEuCy1wXgg+vl3y92st8HamHf1lWB3rac+l6R9qtfuIETYJ52V2BRpZBg9Ca4YCjZ4WAFpAZhJvkcYcilM2GlXkphM9RgYeGzdmHv1IVhU7GPYfPGmGE98KBhywuoYbz9rWEFsbJhhBi2YecvuGHElLhhSnm3YWpjtWFHaLJh16OuYf82qmEXRqVhDfifYeh0mmER5JRh4mmPYUslimGJLYVhLpGAYSKreGHb7nBhctdpYQNDY2HJBl1hdvNWYZjYUGFeiEphWNpDYRCuPGHj7DRhMIssYYKII2Fb7xlhctQPYfhUBWGLKfVgJXjfYHTqyWB01LRgSYWgYEVDjWCykXZgnYRVYOWYN2CR6Bxg6G4FYFwV4l+iBL9fSRChX8V/h185EWNf/rQ8XztbGl9/UPVeuHG9Xg==",
           "dtype": "f4"
          },
          "colorscale": [
           [
            0,
            "#440154"
           ],
           [
            0.1111111111111111,
            "#482878"
           ],
           [
            0.2222222222222222,
            "#3e4989"
           ],
           [
            0.3333333333333333,
            "#31688e"
           ],
           [
            0.4444444444444444,
            "#26828e"
           ],
           [
            0.5555555555555556,
            "#1f9e89"
           ],
           [
            0.6666666666666666,
            "#35b779"
           ],
           [
            0.7777777777777778,
            "#6ece58"
           ],
           [
            0.8888888888888888,
            "#b5de2b"
           ],
           [
            1,
            "#fde725"
           ]
          ],
          "showscale": false,
          "width": 4
         },
         "mode": "lines",
         "showlegend": false,
         "type": "scatter3d",
         "x": {
          "bdata": "AAAAALooDiy6KI4sFz3VLLooDi3osjEtFz1VLUbHeC26KI4t0e2fLeiysS0AeMMtFz3VLS4C5y1Gx/gtLkYFLrooDi5GCxcu0e0fLl3QKC7osjEudJU6LgB4Qy6LWkwuFz1VLqMfXi4uAmcuuuRvLkbHeC7p1IAuLkaFLnS3iS66KI4uAJqSLkYLly6LfJsu0e2fLhdfpC5d0Kguo0GtLuiysS4uJLYudJW6LroGvy4AeMMuRunHLotazC7Ry9AuFz3VLl2u2S6hH94u55DiLi0C5y5zc+suuOTvLv5V9C5Ex/guijj9LujUAC+LDQMvLkYFL9B+By90twkvFvALL7ooDi9cYRAv/5kSL6LSFC9FCxcv6EMZL4p8Gy8utR0v0O0fL3QmIi8WXyQvuZcmL1zQKC//CCsvokEtL0V6Ly/osjEvi+szLy4kNi/QXDgvdJU6LxbOPC+5Bj8vXD9BL/93Qy+isEUvRelHL+ghSi+LWkwvLpNOL9DLUC9zBFMvFj1VL7l1Vy9crlkv/+ZbLw==",
          "dtype": "f4"
         },
         "y": {
          "bdata": "yiYbP8omGz/KJhs/yiYbP8omGz/KJhs/yiYbP8omGz/KJhs/yiYbP8omGz/KJhs/yiYbP8omGz/KJhs/yiYbP8omGz/KJhs/yiYbP8omGz/KJhs/yiYbP8omGz/KJhs/yiYbP8omGz/KJhs/yiYbP8omGz/KJhs/yiYbP8omGz/KJhs/yiYbP8omGz/KJhs/yiYbP8omGz/KJhs/yiYbP8omGz/KJhs/yiYbP8omGz/KJhs/yiYbP8omGz/KJhs/yiYbP8omGz/KJhs/yiYbP8omGz/KJhs/yiYbP8omGz/KJhs/yiYbP8omGz/KJhs/yiYbP8omGz/KJhs/yiYbP8omGz/KJhs/yiYbP8omGz/KJhs/yiYbP8omGz/KJhs/yiYbP8omGz/KJhs/yiYbP8omGz/KJhs/yiYbP8omGz/KJhs/yiYbP8omGz/KJhs/yiYbP8omGz/KJhs/yiYbP8omGz/KJhs/yiYbP8omGz/KJhs/yiYbP8omGz/KJhs/yiYbP8omGz/KJhs/yiYbPw==",
          "dtype": "f4"
         },
         "z": {
          "bdata": "Laeb1sEqCd1uzLDduFsT3qPWUt6vLoze32az3mPL4N44Bwvff0cq35iOTt8o4nffiOiS3763q9/MpMXfM7jf3wLA+N9prAfgkv4Q4LiGF+CycxrgzfcY4J5SEuCy1wXgg+vl3y92st8HamHf1lWB3rac+l6R9qtfuIETYJ52V2BRpZBg9Ca4YCjZ4WAFpAZhJvkcYcilM2GlXkphM9RgYeGzdmHv1IVhU7GPYfPGmGE98KBhywuoYbz9rWEFsbJhhBi2YecvuGHElLhhSnm3YWpjtWFHaLJh16OuYf82qmEXRqVhDfifYeh0mmER5JRh4mmPYUslimGJLYVhLpGAYSKreGHb7nBhctdpYQNDY2HJBl1hdvNWYZjYUGFeiEphWNpDYRCuPGHj7DRhMIssYYKII2Fb7xlhctQPYfhUBWGLKfVgJXjfYHTqyWB01LRgSYWgYEVDjWCykXZgnYRVYOWYN2CR6Bxg6G4FYFwV4l+iBL9fSRChX8V/h185EWNf/rQ8XztbGl9/UPVeuHG9Xg==",
          "dtype": "f4"
         }
        },
        {
         "line": {
          "cmax": 609580857281803700000,
          "cmin": -47443170274534490000,
          "color": {
           "bdata": "5arL1oUzKt2uutvdKAQ23o7ogN7/Oqner3LV3ia7A99qnSDfdzJC30v/aN9BjYrf4Amj38V1vd/UAtnfnpr03xBxB+B0IhPg44Ic4BulIuAAmiTgZnch4AZjGOBYmwjgjv7i35copd8ZLi7fq3dvXQfmbF9uWfVf17BBYMrZh2B2/7FgW9zeYI35BmFlXB9hjEo4YXJyUWHefWphdYmBYZ9qjWEetJhhPTijYVjLrGEZRbVh2YG8YVNkwmG+1sZhLszJYU9By2E/ysphj53IYVtPxWFx+cBhC767YXnFtWH3O69hVlCoYfMxoWHuDpphqxGTYZtejGEpEoZhjD+AYX7gdWHUSGxhNadjYdTcW2Htv1RhASBOYU7JR2HUiEFhPS87YbmTNGFHli1hCSEmYfYoHmHGrRVho7kMYbtfA2EqdfNgXtTfYLsjzGD2q7hg57OlYJd8k2A+PoJgj0tkYH+mRmBlsitgWXkTYMLX+18NyNVfb1G0X0bkll9muXlfIhhLX56HIF8Ig/Fe01evXg==",
           "dtype": "f4"
          },
          "colorscale": [
           [
            0,
            "#440154"
           ],
           [
            0.1111111111111111,
            "#482878"
           ],
           [
            0.2222222222222222,
            "#3e4989"
           ],
           [
            0.3333333333333333,
            "#31688e"
           ],
           [
            0.4444444444444444,
            "#26828e"
           ],
           [
            0.5555555555555556,
            "#1f9e89"
           ],
           [
            0.6666666666666666,
            "#35b779"
           ],
           [
            0.7777777777777778,
            "#6ece58"
           ],
           [
            0.8888888888888888,
            "#b5de2b"
           ],
           [
            1,
            "#fde725"
           ]
          ],
          "showscale": false,
          "width": 4
         },
         "mode": "lines",
         "showlegend": false,
         "type": "scatter3d",
         "x": {
          "bdata": "AAAAALooDiy6KI4sFz3VLLooDi3osjEtFz1VLUbHeC26KI4t0e2fLeiysS0AeMMtFz3VLS4C5y1Gx/gtLkYFLrooDi5GCxcu0e0fLl3QKC7osjEudJU6LgB4Qy6LWkwuFz1VLqMfXi4uAmcuuuRvLkbHeC7p1IAuLkaFLnS3iS66KI4uAJqSLkYLly6LfJsu0e2fLhdfpC5d0Kguo0GtLuiysS4uJLYudJW6LroGvy4AeMMuRunHLotazC7Ry9AuFz3VLl2u2S6hH94u55DiLi0C5y5zc+suuOTvLv5V9C5Ex/guijj9LujUAC+LDQMvLkYFL9B+By90twkvFvALL7ooDi9cYRAv/5kSL6LSFC9FCxcv6EMZL4p8Gy8utR0v0O0fL3QmIi8WXyQvuZcmL1zQKC//CCsvokEtL0V6Ly/osjEvi+szLy4kNi/QXDgvdJU6LxbOPC+5Bj8vXD9BL/93Qy+isEUvRelHL+ghSi+LWkwvLpNOL9DLUC9zBFMvFj1VL7l1Vy9crlkv/+ZbLw==",
          "dtype": "f4"
         },
         "y": {
          "bdata": "Yt5OP2LeTj9i3k4/Yt5OP2LeTj9i3k4/Yt5OP2LeTj9i3k4/Yt5OP2LeTj9i3k4/Yt5OP2LeTj9i3k4/Yt5OP2LeTj9i3k4/Yt5OP2LeTj9i3k4/Yt5OP2LeTj9i3k4/Yt5OP2LeTj9i3k4/Yt5OP2LeTj9i3k4/Yt5OP2LeTj9i3k4/Yt5OP2LeTj9i3k4/Yt5OP2LeTj9i3k4/Yt5OP2LeTj9i3k4/Yt5OP2LeTj9i3k4/Yt5OP2LeTj9i3k4/Yt5OP2LeTj9i3k4/Yt5OP2LeTj9i3k4/Yt5OP2LeTj9i3k4/Yt5OP2LeTj9i3k4/Yt5OP2LeTj9i3k4/Yt5OP2LeTj9i3k4/Yt5OP2LeTj9i3k4/Yt5OP2LeTj9i3k4/Yt5OP2LeTj9i3k4/Yt5OP2LeTj9i3k4/Yt5OP2LeTj9i3k4/Yt5OP2LeTj9i3k4/Yt5OP2LeTj9i3k4/Yt5OP2LeTj9i3k4/Yt5OP2LeTj9i3k4/Yt5OP2LeTj9i3k4/Yt5OP2LeTj9i3k4/Yt5OPw==",
          "dtype": "f4"
         },
         "z": {
          "bdata": "5arL1oUzKt2uutvdKAQ23o7ogN7/Oqner3LV3ia7A99qnSDfdzJC30v/aN9BjYrf4Amj38V1vd/UAtnfnpr03xBxB+B0IhPg44Ic4BulIuAAmiTgZnch4AZjGOBYmwjgjv7i35copd8ZLi7fq3dvXQfmbF9uWfVf17BBYMrZh2B2/7FgW9zeYI35BmFlXB9hjEo4YXJyUWHefWphdYmBYZ9qjWEetJhhPTijYVjLrGEZRbVh2YG8YVNkwmG+1sZhLszJYU9By2E/ysphj53IYVtPxWFx+cBhC767YXnFtWH3O69hVlCoYfMxoWHuDpphqxGTYZtejGEpEoZhjD+AYX7gdWHUSGxhNadjYdTcW2Htv1RhASBOYU7JR2HUiEFhPS87YbmTNGFHli1hCSEmYfYoHmHGrRVho7kMYbtfA2EqdfNgXtTfYLsjzGD2q7hg57OlYJd8k2A+PoJgj0tkYH+mRmBlsitgWXkTYMLX+18NyNVfb1G0X0bkll9muXlfIhhLX56HIF8Ig/Fe01evXg==",
          "dtype": "f4"
         }
        },
        {
         "line": {
          "cmax": 609580857281803700000,
          "cmin": -47443170274534490000,
          "color": {
           "bdata": "4D0e10t8RN1msvzdguZP3jHIkd6g8rzeGcbq3hyUDt8SEyvfZsVL35hEcd+I3I3fkF6l3wmpvt9e6NjfVfry3wW5BeDOURDgI1sY4ITYHOApyxzg0zkX4Is8C+AGDvDf4uC53xTsZd9akFXe50geX7xayl/+LStgxhl5YH8jp2DK8tRg3r8CYVUfHGELSzZh0u9QYWq1a2GuH4NhCheQYRaQnGFYWqhhMEazYXImvWFz0cVhoSLNYfr70mE7R9dhXffZYSsJ22FaCtphIzPXYUcf02Fy6s1hEbnHYW62wGE8ErlhR/+wYfywqGGWWaBhmCeYYaJDkGFizohhed+BYa8Jd2H4hWthBCthYTXhV2GrhE9hO+lHYZzdQGFjLzph2K0zYb4sLWHxhiZhrp8fYbxjGGF1yRBh+NAIYfKCAGEK3+9gNVneYHaozGAGBbtg56epYFPHmGD/k4hgXW1yYDydVWBK4TpguU0iYPThC2D4FO9f3EbKX/72qF/lropfONZdX+dFKl/oPPNesmulXg==",
           "dtype": "f4"
          },
          "colorscale": [
           [
            0,
            "#440154"
           ],
           [
            0.1111111111111111,
            "#482878"
           ],
           [
            0.2222222222222222,
            "#3e4989"
           ],
           [
            0.3333333333333333,
            "#31688e"
           ],
           [
            0.4444444444444444,
            "#26828e"
           ],
           [
            0.5555555555555556,
            "#1f9e89"
           ],
           [
            0.6666666666666666,
            "#35b779"
           ],
           [
            0.7777777777777778,
            "#6ece58"
           ],
           [
            0.8888888888888888,
            "#b5de2b"
           ],
           [
            1,
            "#fde725"
           ]
          ],
          "showscale": false,
          "width": 4
         },
         "mode": "lines",
         "showlegend": false,
         "type": "scatter3d",
         "x": {
          "bdata": "AAAAALooDiy6KI4sFz3VLLooDi3osjEtFz1VLUbHeC26KI4t0e2fLeiysS0AeMMtFz3VLS4C5y1Gx/gtLkYFLrooDi5GCxcu0e0fLl3QKC7osjEudJU6LgB4Qy6LWkwuFz1VLqMfXi4uAmcuuuRvLkbHeC7p1IAuLkaFLnS3iS66KI4uAJqSLkYLly6LfJsu0e2fLhdfpC5d0Kguo0GtLuiysS4uJLYudJW6LroGvy4AeMMuRunHLotazC7Ry9AuFz3VLl2u2S6hH94u55DiLi0C5y5zc+suuOTvLv5V9C5Ex/guijj9LujUAC+LDQMvLkYFL9B+By90twkvFvALL7ooDi9cYRAv/5kSL6LSFC9FCxcv6EMZL4p8Gy8utR0v0O0fL3QmIi8WXyQvuZcmL1zQKC//CCsvokEtL0V6Ly/osjEvi+szLy4kNi/QXDgvdJU6LxbOPC+5Bj8vXD9BL/93Qy+isEUvRelHL+ghSi+LWkwvLpNOL9DLUC9zBFMvFj1VL7l1Vy9crlkv/+ZbLw==",
          "dtype": "f4"
         },
         "y": {
          "bdata": "/UqBP/1KgT/9SoE//UqBP/1KgT/9SoE//UqBP/1KgT/9SoE//UqBP/1KgT/9SoE//UqBP/1KgT/9SoE//UqBP/1KgT/9SoE//UqBP/1KgT/9SoE//UqBP/1KgT/9SoE//UqBP/1KgT/9SoE//UqBP/1KgT/9SoE//UqBP/1KgT/9SoE//UqBP/1KgT/9SoE//UqBP/1KgT/9SoE//UqBP/1KgT/9SoE//UqBP/1KgT/9SoE//UqBP/1KgT/9SoE//UqBP/1KgT/9SoE//UqBP/1KgT/9SoE//UqBP/1KgT/9SoE//UqBP/1KgT/9SoE//UqBP/1KgT/9SoE//UqBP/1KgT/9SoE//UqBP/1KgT/9SoE//UqBP/1KgT/9SoE//UqBP/1KgT/9SoE//UqBP/1KgT/9SoE//UqBP/1KgT/9SoE//UqBP/1KgT/9SoE//UqBP/1KgT/9SoE//UqBP/1KgT/9SoE//UqBP/1KgT/9SoE//UqBP/1KgT/9SoE//UqBP/1KgT/9SoE//UqBPw==",
          "dtype": "f4"
         },
         "z": {
          "bdata": "4D0e10t8RN1msvzdguZP3jHIkd6g8rzeGcbq3hyUDt8SEyvfZsVL35hEcd+I3I3fkF6l3wmpvt9e6NjfVfry3wW5BeDOURDgI1sY4ITYHOApyxzg0zkX4Is8C+AGDvDf4uC53xTsZd9akFXe50geX7xayl/+LStgxhl5YH8jp2DK8tRg3r8CYVUfHGELSzZh0u9QYWq1a2GuH4NhCheQYRaQnGFYWqhhMEazYXImvWFz0cVhoSLNYfr70mE7R9dhXffZYSsJ22FaCtphIzPXYUcf02Fy6s1hEbnHYW62wGE8ErlhR/+wYfywqGGWWaBhmCeYYaJDkGFizohhed+BYa8Jd2H4hWthBCthYTXhV2GrhE9hO+lHYZzdQGFjLzph2K0zYb4sLWHxhiZhrp8fYbxjGGF1yRBh+NAIYfKCAGEK3+9gNVneYHaozGAGBbtg56epYFPHmGD/k4hgXW1yYDydVWBK4TpguU0iYPThC2D4FO9f3EbKX/72qF/lropfONZdX+dFKl/oPPNesmulXg==",
          "dtype": "f4"
         }
        },
        {
         "line": {
          "cmax": 609580857281803700000,
          "cmin": -47443170274534490000,
          "color": {
           "bdata": "9tda13kpWt1GkQvemRhk3qlnnt6GusrePBf43twiFN/iqC7fs4xM34t3bt8jUorfSV+f3+bqtd9pJc3fcu3j3w3T+N/nEQXgt/4K4IUtDeA6mQrgN0IC4Ix15t8iZbnf9vl3320Itd4rg81e3RimX35QFWAsJmBgcoKZYDyZxmCi5vZgPvMUYQyCL2GrzkphBoJmYTcggWFB1Y5hQS+cYbT8qGGYDLVhCS/AYcE2ymEU+tJhglTaYRQo4GGEXuRhnOrmYfHI52Fqg+Zhv1HjYSrS3mFaINlhzmDSYQa/ymFla8Jhppm5YZ5+sGFGTqdhRDmeYcNqlWGXBo1h+ieFYfTBe2HfdG5hCWliYdGPV2GbzU1hjv1EYWD0PGHmgzVhyX0uYS62J2FVBiFh0k0aYflzE2EkaAxhHyIFYc5C+2C42OtgIh7cYP0zzGC6QLxgmG2sYIvjnGAMyY1gfX9+YBTGYmBHjkhg9/AvYIv3GGDPnANgTJ3fX4bful8itJhf6INxXwNQNV+IBPhew5aeXg==",
           "dtype": "f4"
          },
          "colorscale": [
           [
            0,
            "#440154"
           ],
           [
            0.1111111111111111,
            "#482878"
           ],
           [
            0.2222222222222222,
            "#3e4989"
           ],
           [
            0.3333333333333333,
            "#31688e"
           ],
           [
            0.4444444444444444,
            "#26828e"
           ],
           [
            0.5555555555555556,
            "#1f9e89"
           ],
           [
            0.6666666666666666,
            "#35b779"
           ],
           [
            0.7777777777777778,
            "#6ece58"
           ],
           [
            0.8888888888888888,
            "#b5de2b"
           ],
           [
            1,
            "#fde725"
           ]
          ],
          "showscale": false,
          "width": 4
         },
         "mode": "lines",
         "showlegend": false,
         "type": "scatter3d",
         "x": {
          "bdata": "AAAAALooDiy6KI4sFz3VLLooDi3osjEtFz1VLUbHeC26KI4t0e2fLeiysS0AeMMtFz3VLS4C5y1Gx/gtLkYFLrooDi5GCxcu0e0fLl3QKC7osjEudJU6LgB4Qy6LWkwuFz1VLqMfXi4uAmcuuuRvLkbHeC7p1IAuLkaFLnS3iS66KI4uAJqSLkYLly6LfJsu0e2fLhdfpC5d0Kguo0GtLuiysS4uJLYudJW6LroGvy4AeMMuRunHLotazC7Ry9AuFz3VLl2u2S6hH94u55DiLi0C5y5zc+suuOTvLv5V9C5Ex/guijj9LujUAC+LDQMvLkYFL9B+By90twkvFvALL7ooDi9cYRAv/5kSL6LSFC9FCxcv6EMZL4p8Gy8utR0v0O0fL3QmIi8WXyQvuZcmL1zQKC//CCsvokEtL0V6Ly/osjEvi+szLy4kNi/QXDgvdJU6LxbOPC+5Bj8vXD9BL/93Qy+isEUvRelHL+ghSi+LWkwvLpNOL9DLUC9zBFMvFj1VL7l1Vy9crlkv/+ZbLw==",
          "dtype": "f4"
         },
         "y": {
          "bdata": "yiabP8ommz/KJps/yiabP8ommz/KJps/yiabP8ommz/KJps/yiabP8ommz/KJps/yiabP8ommz/KJps/yiabP8ommz/KJps/yiabP8ommz/KJps/yiabP8ommz/KJps/yiabP8ommz/KJps/yiabP8ommz/KJps/yiabP8ommz/KJps/yiabP8ommz/KJps/yiabP8ommz/KJps/yiabP8ommz/KJps/yiabP8ommz/KJps/yiabP8ommz/KJps/yiabP8ommz/KJps/yiabP8ommz/KJps/yiabP8ommz/KJps/yiabP8ommz/KJps/yiabP8ommz/KJps/yiabP8ommz/KJps/yiabP8ommz/KJps/yiabP8ommz/KJps/yiabP8ommz/KJps/yiabP8ommz/KJps/yiabP8ommz/KJps/yiabP8ommz/KJps/yiabP8ommz/KJps/yiabP8ommz/KJps/yiabP8ommz/KJps/yiabP8ommz/KJps/yiabP8ommz/KJps/yiabPw==",
          "dtype": "f4"
         },
         "z": {
          "bdata": "9tda13kpWt1GkQvemRhk3qlnnt6GusrePBf43twiFN/iqC7fs4xM34t3bt8jUorfSV+f3+bqtd9pJc3fcu3j3w3T+N/nEQXgt/4K4IUtDeA6mQrgN0IC4Ix15t8iZbnf9vl3320Itd4rg81e3RimX35QFWAsJmBgcoKZYDyZxmCi5vZgPvMUYQyCL2GrzkphBoJmYTcggWFB1Y5hQS+cYbT8qGGYDLVhCS/AYcE2ymEU+tJhglTaYRQo4GGEXuRhnOrmYfHI52Fqg+Zhv1HjYSrS3mFaINlhzmDSYQa/ymFla8Jhppm5YZ5+sGFGTqdhRDmeYcNqlWGXBo1h+ieFYfTBe2HfdG5hCWliYdGPV2GbzU1hjv1EYWD0PGHmgzVhyX0uYS62J2FVBiFh0k0aYflzE2EkaAxhHyIFYc5C+2C42OtgIh7cYP0zzGC6QLxgmG2sYIvjnGAMyY1gfX9+YBTGYmBHjkhg9/AvYIv3GGDPnANgTJ3fX4bful8itJhf6INxXwNQNV+IBPhew5aeXg==",
          "dtype": "f4"
         }
        },
        {
         "line": {
          "cmax": 609580857281803700000,
          "cmin": -47443170274534490000,
          "color": {
           "bdata": "8RKG108kbN2LPRberelz3g/Op97wFtTemY//3uPnFd9paC3fXztH32UWZN+lI4LfA8iT39CLpt+JqrnfrAzM30pK3N+stujfeXPv32x97t9Vy+Pf2l3N35RZqd+XPmzffm3J3smei14IN4pfRdoBYDSGR2AN4Ipg2Pq1YOmw5GAJRgthWYElYaO9QGGtp1xhzeZ4YSqPimE1d5hhz/qlYdzosmEREb9hY0TKYYVW1GHBHt1hcnnkYVFJ6mFbeO5hXfnwYYLI8WEfbvBhHSDtYWF76GE2muJhlZ/bYYS102EFC8th59LBYWZBuGFdiq5h6N6kYVZrm2FbVZJh27qJYT6xgWGoinRhXPdmYSCjWmGEe09haGRFYTI6PGEz1TNh6wssYYa1JGFkrB1hKc8WYWUCEGHsMAlhe0wCYaya9mB8Y+hgcvrZYDVvy2CH17xgLE2uYJrrn2AGzpFghQ2EYIV/bWAo7FNghXk7YOY1JGA7JQ5gWITyX8L9yl/HjKVfIPyBX9ocQF8b/v1e2tyZXg==",
           "dtype": "f4"
          },
          "colorscale": [
           [
            0,
            "#440154"
           ],
           [
            0.1111111111111111,
            "#482878"
           ],
           [
            0.2222222222222222,
            "#3e4989"
           ],
           [
            0.3333333333333333,
            "#31688e"
           ],
           [
            0.4444444444444444,
            "#26828e"
           ],
           [
            0.5555555555555556,
            "#1f9e89"
           ],
           [
            0.6666666666666666,
            "#35b779"
           ],
           [
            0.7777777777777778,
            "#6ece58"
           ],
           [
            0.8888888888888888,
            "#b5de2b"
           ],
           [
            1,
            "#fde725"
           ]
          ],
          "showscale": false,
          "width": 4
         },
         "mode": "lines",
         "showlegend": false,
         "type": "scatter3d",
         "x": {
          "bdata": "AAAAALooDiy6KI4sFz3VLLooDi3osjEtFz1VLUbHeC26KI4t0e2fLeiysS0AeMMtFz3VLS4C5y1Gx/gtLkYFLrooDi5GCxcu0e0fLl3QKC7osjEudJU6LgB4Qy6LWkwuFz1VLqMfXi4uAmcuuuRvLkbHeC7p1IAuLkaFLnS3iS66KI4uAJqSLkYLly6LfJsu0e2fLhdfpC5d0Kguo0GtLuiysS4uJLYudJW6LroGvy4AeMMuRunHLotazC7Ry9AuFz3VLl2u2S6hH94u55DiLi0C5y5zc+suuOTvLv5V9C5Ex/guijj9LujUAC+LDQMvLkYFL9B+By90twkvFvALL7ooDi9cYRAv/5kSL6LSFC9FCxcv6EMZL4p8Gy8utR0v0O0fL3QmIi8WXyQvuZcmL1zQKC//CCsvokEtL0V6Ly/osjEvi+szLy4kNi/QXDgvdJU6LxbOPC+5Bj8vXD9BL/93Qy+isEUvRelHL+ghSi+LWkwvLpNOL9DLUC9zBFMvFj1VL7l1Vy9crlkv/+ZbLw==",
          "dtype": "f4"
         },
         "y": {
          "bdata": "lgK1P5YCtT+WArU/lgK1P5YCtT+WArU/lgK1P5YCtT+WArU/lgK1P5YCtT+WArU/lgK1P5YCtT+WArU/lgK1P5YCtT+WArU/lgK1P5YCtT+WArU/lgK1P5YCtT+WArU/lgK1P5YCtT+WArU/lgK1P5YCtT+WArU/lgK1P5YCtT+WArU/lgK1P5YCtT+WArU/lgK1P5YCtT+WArU/lgK1P5YCtT+WArU/lgK1P5YCtT+WArU/lgK1P5YCtT+WArU/lgK1P5YCtT+WArU/lgK1P5YCtT+WArU/lgK1P5YCtT+WArU/lgK1P5YCtT+WArU/lgK1P5YCtT+WArU/lgK1P5YCtT+WArU/lgK1P5YCtT+WArU/lgK1P5YCtT+WArU/lgK1P5YCtT+WArU/lgK1P5YCtT+WArU/lgK1P5YCtT+WArU/lgK1P5YCtT+WArU/lgK1P5YCtT+WArU/lgK1P5YCtT+WArU/lgK1P5YCtT+WArU/lgK1P5YCtT+WArU/lgK1P5YCtT+WArU/lgK1Pw==",
          "dtype": "f4"
         },
         "z": {
          "bdata": "8RKG108kbN2LPRberelz3g/Op97wFtTemY//3uPnFd9paC3fXztH32UWZN+lI4LfA8iT39CLpt+JqrnfrAzM30pK3N+stujfeXPv32x97t9Vy+Pf2l3N35RZqd+XPmzffm3J3smei14IN4pfRdoBYDSGR2AN4Ipg2Pq1YOmw5GAJRgthWYElYaO9QGGtp1xhzeZ4YSqPimE1d5hhz/qlYdzosmEREb9hY0TKYYVW1GHBHt1hcnnkYVFJ6mFbeO5hXfnwYYLI8WEfbvBhHSDtYWF76GE2muJhlZ/bYYS102EFC8th59LBYWZBuGFdiq5h6N6kYVZrm2FbVZJh27qJYT6xgWGoinRhXPdmYSCjWmGEe09haGRFYTI6PGEz1TNh6wssYYa1JGFkrB1hKc8WYWUCEGHsMAlhe0wCYaya9mB8Y+hgcvrZYDVvy2CH17xgLE2uYJrrn2AGzpFghQ2EYIV/bWAo7FNghXk7YOY1JGA7JQ5gWITyX8L9yl/HjKVfIPyBX9ocQF8b/v1e2tyZXg==",
          "dtype": "f4"
         }
        },
        {
         "line": {
          "cmax": 609580857281803700000,
          "cmin": -47443170274534490000,
          "color": {
           "bdata": "M76W1yD3et1rxh7e0AuA3gmRrt405tnenTcB38LDFN8OhSjf8ms93903VN/WSW3fqj6E3/2Lkt+H2KDfbB2u38ACud/j6r/fMAXB34Faut+i7KnfwsWN3/UlSN8B96zeKC5wXo9IcV+cIeVf1MoxYJPQeWByHqVgvjvRYEBtAGHjwBlhulI0YTbVT2G39GthVyyEYZxSkmHwPaBho76tYeikumEEwsZhlujRYQ/u22FUq+RhNf7rYYPK8WHw+vVhWIL4YXFc+WGsEfhhX9X0YahA8GGPa+phXnbjYWeI22EJztJhrnfJYZq3v2EiwLVhkMGrYSPooWFXWphhvTePYU2YhmE+GH1hWTduYR6RYGEmHFRhNsVIYTlxPmEJADVhcE4sYV84JGFJmxxhF1cVYdJPDmEHbgdhqp8AYcWv82CcHeZgPILYYPXeymAZO71gqqKvYIEkomDk0JRg9reHYFvRdWAN4FxgibBEYGZRLWDnyhZgYR8BYMKW2F+tjLBfhAaKX/7GSV+/9wFfFnmWXg==",
           "dtype": "f4"
          },
          "colorscale": [
           [
            0,
            "#440154"
           ],
           [
            0.1111111111111111,
            "#482878"
           ],
           [
            0.2222222222222222,
            "#3e4989"
           ],
           [
            0.3333333333333333,
            "#31688e"
           ],
           [
            0.4444444444444444,
            "#26828e"
           ],
           [
            0.5555555555555556,
            "#1f9e89"
           ],
           [
            0.6666666666666666,
            "#35b779"
           ],
           [
            0.7777777777777778,
            "#6ece58"
           ],
           [
            0.8888888888888888,
            "#b5de2b"
           ],
           [
            1,
            "#fde725"
           ]
          ],
          "showscale": false,
          "width": 4
         },
         "mode": "lines",
         "showlegend": false,
         "type": "scatter3d",
         "x": {
          "bdata": "AAAAALooDiy6KI4sFz3VLLooDi3osjEtFz1VLUbHeC26KI4t0e2fLeiysS0AeMMtFz3VLS4C5y1Gx/gtLkYFLrooDi5GCxcu0e0fLl3QKC7osjEudJU6LgB4Qy6LWkwuFz1VLqMfXi4uAmcuuuRvLkbHeC7p1IAuLkaFLnS3iS66KI4uAJqSLkYLly6LfJsu0e2fLhdfpC5d0Kguo0GtLuiysS4uJLYudJW6LroGvy4AeMMuRunHLotazC7Ry9AuFz3VLl2u2S6hH94u55DiLi0C5y5zc+suuOTvLv5V9C5Ex/guijj9LujUAC+LDQMvLkYFL9B+By90twkvFvALL7ooDi9cYRAv/5kSL6LSFC9FCxcv6EMZL4p8Gy8utR0v0O0fL3QmIi8WXyQvuZcmL1zQKC//CCsvokEtL0V6Ly/osjEvi+szLy4kNi/QXDgvdJU6LxbOPC+5Bj8vXD9BL/93Qy+isEUvRelHL+ghSi+LWkwvLpNOL9DLUC9zBFMvFj1VL7l1Vy9crlkv/+ZbLw==",
          "dtype": "f4"
         },
         "y": {
          "bdata": "Yt7OP2Lezj9i3s4/Yt7OP2Lezj9i3s4/Yt7OP2Lezj9i3s4/Yt7OP2Lezj9i3s4/Yt7OP2Lezj9i3s4/Yt7OP2Lezj9i3s4/Yt7OP2Lezj9i3s4/Yt7OP2Lezj9i3s4/Yt7OP2Lezj9i3s4/Yt7OP2Lezj9i3s4/Yt7OP2Lezj9i3s4/Yt7OP2Lezj9i3s4/Yt7OP2Lezj9i3s4/Yt7OP2Lezj9i3s4/Yt7OP2Lezj9i3s4/Yt7OP2Lezj9i3s4/Yt7OP2Lezj9i3s4/Yt7OP2Lezj9i3s4/Yt7OP2Lezj9i3s4/Yt7OP2Lezj9i3s4/Yt7OP2Lezj9i3s4/Yt7OP2Lezj9i3s4/Yt7OP2Lezj9i3s4/Yt7OP2Lezj9i3s4/Yt7OP2Lezj9i3s4/Yt7OP2Lezj9i3s4/Yt7OP2Lezj9i3s4/Yt7OP2Lezj9i3s4/Yt7OP2Lezj9i3s4/Yt7OP2Lezj9i3s4/Yt7OP2Lezj9i3s4/Yt7OP2Lezj9i3s4/Yt7OP2Lezj9i3s4/Yt7OPw==",
          "dtype": "f4"
         },
         "z": {
          "bdata": "M76W1yD3et1rxh7e0AuA3gmRrt405tnenTcB38LDFN8OhSjf8ms93903VN/WSW3fqj6E3/2Lkt+H2KDfbB2u38ACud/j6r/fMAXB34Faut+i7KnfwsWN3/UlSN8B96zeKC5wXo9IcV+cIeVf1MoxYJPQeWByHqVgvjvRYEBtAGHjwBlhulI0YTbVT2G39GthVyyEYZxSkmHwPaBho76tYeikumEEwsZhlujRYQ/u22FUq+RhNf7rYYPK8WHw+vVhWIL4YXFc+WGsEfhhX9X0YahA8GGPa+phXnbjYWeI22EJztJhrnfJYZq3v2EiwLVhkMGrYSPooWFXWphhvTePYU2YhmE+GH1hWTduYR6RYGEmHFRhNsVIYTlxPmEJADVhcE4sYV84JGFJmxxhF1cVYdJPDmEHbgdhqp8AYcWv82CcHeZgPILYYPXeymAZO71gqqKvYIEkomDk0JRg9reHYFvRdWAN4FxgibBEYGZRLWDnyhZgYR8BYMKW2F+tjLBfhAaKX/7GSV+/9wFfFnmWXg==",
          "dtype": "f4"
         }
        },
        {
         "line": {
          "cmax": 609580857281803700000,
          "cmin": -47443170274534490000,
          "color": {
           "bdata": "rp6f15yKg90efyXeppuE3sUjs95h0Nze3NEA38VaEd9s3SDfWUUw3+1ZQN8kj1HfR9xj3+Spdt9pW4Tf/w+M35owkd9iNZLfwGKN3yHVgN+uQVXfW8ER32aFTt44YJBezzJkXw0V0V9twiBg2bthYHShlWBgd75g9hHrYCCFDWFS8yZhco1BYU0GXWEsC3lhdKKKYdqsmGHmdqZhkNKzYQKSwGGRiMxhIYvXYWdx4WFdFuphrlnxYZkg92G1VvthIu/9YUfl/mHbwv1hOrj6YR1Z9mG9uvBhNvrpYWA74mETp9lhZWrQYZ+0xmGitbxh35uyYZOSqGETwJ5hxESVYVM6jGFus4Nhsnd3YQGyaGGwFFthNJVOYeAgQ2F+nzhh0/QuYZkCJmGsqh1hwM8VYRxXDmH2KAdhYzEAYdnA8mDyU+VgXQvYYEXdymBixb1gH8SwYGHdo2B6F5dg/nmKYOIZfGBksGNgVcVLYE1kNGDQlR1ggF8HYFSH418gg7lfD6uQX1nmUV/ekwRfKuKTXg==",
           "dtype": "f4"
          },
          "colorscale": [
           [
            0,
            "#440154"
           ],
           [
            0.1111111111111111,
            "#482878"
           ],
           [
            0.2222222222222222,
            "#3e4989"
           ],
           [
            0.3333333333333333,
            "#31688e"
           ],
           [
            0.4444444444444444,
            "#26828e"
           ],
           [
            0.5555555555555556,
            "#1f9e89"
           ],
           [
            0.6666666666666666,
            "#35b779"
           ],
           [
            0.7777777777777778,
            "#6ece58"
           ],
           [
            0.8888888888888888,
            "#b5de2b"
           ],
           [
            1,
            "#fde725"
           ]
          ],
          "showscale": false,
          "width": 4
         },
         "mode": "lines",
         "showlegend": false,
         "type": "scatter3d",
         "x": {
          "bdata": "AAAAALooDiy6KI4sFz3VLLooDi3osjEtFz1VLUbHeC26KI4t0e2fLeiysS0AeMMtFz3VLS4C5y1Gx/gtLkYFLrooDi5GCxcu0e0fLl3QKC7osjEudJU6LgB4Qy6LWkwuFz1VLqMfXi4uAmcuuuRvLkbHeC7p1IAuLkaFLnS3iS66KI4uAJqSLkYLly6LfJsu0e2fLhdfpC5d0Kguo0GtLuiysS4uJLYudJW6LroGvy4AeMMuRunHLotazC7Ry9AuFz3VLl2u2S6hH94u55DiLi0C5y5zc+suuOTvLv5V9C5Ex/guijj9LujUAC+LDQMvLkYFL9B+By90twkvFvALL7ooDi9cYRAv/5kSL6LSFC9FCxcv6EMZL4p8Gy8utR0v0O0fL3QmIi8WXyQvuZcmL1zQKC//CCsvokEtL0V6Ly/osjEvi+szLy4kNi/QXDgvdJU6LxbOPC+5Bj8vXD9BL/93Qy+isEUvRelHL+ghSi+LWkwvLpNOL9DLUC9zBFMvFj1VL7l1Vy9crlkv/+ZbLw==",
          "dtype": "f4"
         },
         "y": {
          "bdata": "LrroPy666D8uuug/LrroPy666D8uuug/LrroPy666D8uuug/LrroPy666D8uuug/LrroPy666D8uuug/LrroPy666D8uuug/LrroPy666D8uuug/LrroPy666D8uuug/LrroPy666D8uuug/LrroPy666D8uuug/LrroPy666D8uuug/LrroPy666D8uuug/LrroPy666D8uuug/LrroPy666D8uuug/LrroPy666D8uuug/LrroPy666D8uuug/LrroPy666D8uuug/LrroPy666D8uuug/LrroPy666D8uuug/LrroPy666D8uuug/LrroPy666D8uuug/LrroPy666D8uuug/LrroPy666D8uuug/LrroPy666D8uuug/LrroPy666D8uuug/LrroPy666D8uuug/LrroPy666D8uuug/LrroPy666D8uuug/LrroPy666D8uuug/LrroPy666D8uuug/LrroPy666D8uuug/LrroPy666D8uuug/LrroPy666D8uuug/LrroPw==",
          "dtype": "f4"
         },
         "z": {
          "bdata": "rp6f15yKg90efyXeppuE3sUjs95h0Nze3NEA38VaEd9s3SDfWUUw3+1ZQN8kj1HfR9xj3+Spdt9pW4Tf/w+M35owkd9iNZLfwGKN3yHVgN+uQVXfW8ER32aFTt44YJBezzJkXw0V0V9twiBg2bthYHShlWBgd75g9hHrYCCFDWFS8yZhco1BYU0GXWEsC3lhdKKKYdqsmGHmdqZhkNKzYQKSwGGRiMxhIYvXYWdx4WFdFuphrlnxYZkg92G1VvthIu/9YUfl/mHbwv1hOrj6YR1Z9mG9uvBhNvrpYWA74mETp9lhZWrQYZ+0xmGitbxh35uyYZOSqGETwJ5hxESVYVM6jGFus4Nhsnd3YQGyaGGwFFthNJVOYeAgQ2F+nzhh0/QuYZkCJmGsqh1hwM8VYRxXDmH2KAdhYzEAYdnA8mDyU+VgXQvYYEXdymBixb1gH8SwYGHdo2B6F5dg/nmKYOIZfGBksGNgVcVLYE1kNGDQlR1ggF8HYFSH418gg7lfD6uQX1nmUV/ekwRfKuKTXg==",
          "dtype": "f4"
         }
        },
        {
         "line": {
          "cmax": 609580857281803700000,
          "cmin": -47443170274534490000,
          "color": {
           "bdata": "Ge2h1xpsiN2NpSreC9uH3gXatd4WTt3eudX93kogDN9JDBffMZMg366CKd9RYTLfQ0M73+u2Q988p0rfb2JO3xmYTN+BbULfNaAs3yybB98xbp/exJaq267WzV4V+WtfJBvIXztTFWASB09gO5aIYD7GrWAi3tZg7scBYUS6GWG/CTNhDXFNYUikaGFBKYJhehOQYW3lnWH2cqthLJC4YXsRxWHMzNBhi5nbYf1R5WGA0+1h3P/0Yfu9+mGI+v5hjtQAYl5iAWLO7ABi2hT/YaYD+2FWuPVhjEzvYTjg52FImN9h953WYeYczWHiQcNh0Di5YSYrr2FoPqVhBZObYaxDkmHmZIlhGQWBYd5ZcmEtv2NhajdWYfq3SWFdMD5hhoszYXWxKWEpiSBhMvkXYVHpD2HVQghhl/EAYU3I82C5F+ZgAbrYYC+dy2AstL5gKvaxYP9dpWBq6ZhgQpiMYOlrgGCqzWhg3xdRYKe8OWD1wSJgLy0MYFsF7F8wi8Bffu+VX9BnWF91rQZfNcGRXg==",
           "dtype": "f4"
          },
          "colorscale": [
           [
            0,
            "#440154"
           ],
           [
            0.1111111111111111,
            "#482878"
           ],
           [
            0.2222222222222222,
            "#3e4989"
           ],
           [
            0.3333333333333333,
            "#31688e"
           ],
           [
            0.4444444444444444,
            "#26828e"
           ],
           [
            0.5555555555555556,
            "#1f9e89"
           ],
           [
            0.6666666666666666,
            "#35b779"
           ],
           [
            0.7777777777777778,
            "#6ece58"
           ],
           [
            0.8888888888888888,
            "#b5de2b"
           ],
           [
            1,
            "#fde725"
           ]
          ],
          "showscale": false,
          "width": 4
         },
         "mode": "lines",
         "showlegend": false,
         "type": "scatter3d",
         "x": {
          "bdata": "AAAAALooDiy6KI4sFz3VLLooDi3osjEtFz1VLUbHeC26KI4t0e2fLeiysS0AeMMtFz3VLS4C5y1Gx/gtLkYFLrooDi5GCxcu0e0fLl3QKC7osjEudJU6LgB4Qy6LWkwuFz1VLqMfXi4uAmcuuuRvLkbHeC7p1IAuLkaFLnS3iS66KI4uAJqSLkYLly6LfJsu0e2fLhdfpC5d0Kguo0GtLuiysS4uJLYudJW6LroGvy4AeMMuRunHLotazC7Ry9AuFz3VLl2u2S6hH94u55DiLi0C5y5zc+suuOTvLv5V9C5Ex/guijj9LujUAC+LDQMvLkYFL9B+By90twkvFvALL7ooDi9cYRAv/5kSL6LSFC9FCxcv6EMZL4p8Gy8utR0v0O0fL3QmIi8WXyQvuZcmL1zQKC//CCsvokEtL0V6Ly/osjEvi+szLy4kNi/QXDgvdJU6LxbOPC+5Bj8vXD9BL/93Qy+isEUvRelHL+ghSi+LWkwvLpNOL9DLUC9zBFMvFj1VL7l1Vy9crlkv/+ZbLw==",
          "dtype": "f4"
         },
         "y": {
          "bdata": "/UoBQP1KAUD9SgFA/UoBQP1KAUD9SgFA/UoBQP1KAUD9SgFA/UoBQP1KAUD9SgFA/UoBQP1KAUD9SgFA/UoBQP1KAUD9SgFA/UoBQP1KAUD9SgFA/UoBQP1KAUD9SgFA/UoBQP1KAUD9SgFA/UoBQP1KAUD9SgFA/UoBQP1KAUD9SgFA/UoBQP1KAUD9SgFA/UoBQP1KAUD9SgFA/UoBQP1KAUD9SgFA/UoBQP1KAUD9SgFA/UoBQP1KAUD9SgFA/UoBQP1KAUD9SgFA/UoBQP1KAUD9SgFA/UoBQP1KAUD9SgFA/UoBQP1KAUD9SgFA/UoBQP1KAUD9SgFA/UoBQP1KAUD9SgFA/UoBQP1KAUD9SgFA/UoBQP1KAUD9SgFA/UoBQP1KAUD9SgFA/UoBQP1KAUD9SgFA/UoBQP1KAUD9SgFA/UoBQP1KAUD9SgFA/UoBQP1KAUD9SgFA/UoBQP1KAUD9SgFA/UoBQP1KAUD9SgFA/UoBQP1KAUD9SgFA/UoBQP1KAUD9SgFA/UoBQA==",
          "dtype": "f4"
         },
         "z": {
          "bdata": "Ge2h1xpsiN2NpSreC9uH3gXatd4WTt3eudX93kogDN9JDBffMZMg366CKd9RYTLfQ0M73+u2Q988p0rfb2JO3xmYTN+BbULfNaAs3yybB98xbp/exJaq267WzV4V+WtfJBvIXztTFWASB09gO5aIYD7GrWAi3tZg7scBYUS6GWG/CTNhDXFNYUikaGFBKYJhehOQYW3lnWH2cqthLJC4YXsRxWHMzNBhi5nbYf1R5WGA0+1h3P/0Yfu9+mGI+v5hjtQAYl5iAWLO7ABi2hT/YaYD+2FWuPVhjEzvYTjg52FImN9h953WYeYczWHiQcNh0Di5YSYrr2FoPqVhBZObYaxDkmHmZIlhGQWBYd5ZcmEtv2NhajdWYfq3SWFdMD5hhoszYXWxKWEpiSBhMvkXYVHpD2HVQghhl/EAYU3I82C5F+ZgAbrYYC+dy2AstL5gKvaxYP9dpWBq6ZhgQpiMYOlrgGCqzWhg3xdRYKe8OWD1wSJgLy0MYFsF7F8wi8Bffu+VX9BnWF91rQZfNcGRXg==",
          "dtype": "f4"
         }
        },
        {
         "line": {
          "cmax": 609580857281803700000,
          "cmin": -47443170274534490000,
          "color": {
           "bdata": "HkWf1xxCjN0eZy7ewPGJ3k3wtt7Wtdve0Hz33lVlBd9yfQvfIOIO3xhmEN+soRDfTMYP38eJDd87BgnfTL8A30A85d7+Brjet6Rn3tFFD90BKWleAT4TX+SMgl+7Uclf4oYPYBtEQmAXE31g3/mfYHdWxWCzae5gDHMNYfsyJWFnOT5hfkJYYU8Ec2EuGIdhebqUYWY/omHvfK9hcUm8Yel7yGHr7NNhqHbeYRb252EhS/BhxVn3YbYK/WHupQBisggCYgarAmKwVAJimRoBYod//mHEl/lhBpTzYWOQ7GGnreRh6RDcYejh0mHmSclh2nG/YQKBtWFvm6thCeGhYeJsmGG6VI9h+qiGYe3pfGEHfm1hjRJfYTmkUWHRKUVhNpU5YcPULmHl1CRhqYAbYRLDEmGPhwph+LoCYT6X9mCAU+hgPI/aYCYzzWDAK8BgWWmzYJnfpmAuhZpgR1OOYEJFgmC3sGxgdhZVYFu7PWDNoCZgl8kPYJZy8l/O58VfI/uZX2ZrXV+tPwhf+eSPXg==",
           "dtype": "f4"
          },
          "colorscale": [
           [
            0,
            "#440154"
           ],
           [
            0.1111111111111111,
            "#482878"
           ],
           [
            0.2222222222222222,
            "#3e4989"
           ],
           [
            0.3333333333333333,
            "#31688e"
           ],
           [
            0.4444444444444444,
            "#26828e"
           ],
           [
            0.5555555555555556,
            "#1f9e89"
           ],
           [
            0.6666666666666666,
            "#35b779"
           ],
           [
            0.7777777777777778,
            "#6ece58"
           ],
           [
            0.8888888888888888,
            "#b5de2b"
           ],
           [
            1,
            "#fde725"
           ]
          ],
          "showscale": false,
          "width": 4
         },
         "mode": "lines",
         "showlegend": false,
         "type": "scatter3d",
         "x": {
          "bdata": "AAAAALooDiy6KI4sFz3VLLooDi3osjEtFz1VLUbHeC26KI4t0e2fLeiysS0AeMMtFz3VLS4C5y1Gx/gtLkYFLrooDi5GCxcu0e0fLl3QKC7osjEudJU6LgB4Qy6LWkwuFz1VLqMfXi4uAmcuuuRvLkbHeC7p1IAuLkaFLnS3iS66KI4uAJqSLkYLly6LfJsu0e2fLhdfpC5d0Kguo0GtLuiysS4uJLYudJW6LroGvy4AeMMuRunHLotazC7Ry9AuFz3VLl2u2S6hH94u55DiLi0C5y5zc+suuOTvLv5V9C5Ex/guijj9LujUAC+LDQMvLkYFL9B+By90twkvFvALL7ooDi9cYRAv/5kSL6LSFC9FCxcv6EMZL4p8Gy8utR0v0O0fL3QmIi8WXyQvuZcmL1zQKC//CCsvokEtL0V6Ly/osjEvi+szLy4kNi/QXDgvdJU6LxbOPC+5Bj8vXD9BL/93Qy+isEUvRelHL+ghSi+LWkwvLpNOL9DLUC9zBFMvFj1VL7l1Vy9crlkv/+ZbLw==",
          "dtype": "f4"
         },
         "y": {
          "bdata": "4zgOQOM4DkDjOA5A4zgOQOM4DkDjOA5A4zgOQOM4DkDjOA5A4zgOQOM4DkDjOA5A4zgOQOM4DkDjOA5A4zgOQOM4DkDjOA5A4zgOQOM4DkDjOA5A4zgOQOM4DkDjOA5A4zgOQOM4DkDjOA5A4zgOQOM4DkDjOA5A4zgOQOM4DkDjOA5A4zgOQOM4DkDjOA5A4zgOQOM4DkDjOA5A4zgOQOM4DkDjOA5A4zgOQOM4DkDjOA5A4zgOQOM4DkDjOA5A4zgOQOM4DkDjOA5A4zgOQOM4DkDjOA5A4zgOQOM4DkDjOA5A4zgOQOM4DkDjOA5A4zgOQOM4DkDjOA5A4zgOQOM4DkDjOA5A4zgOQOM4DkDjOA5A4zgOQOM4DkDjOA5A4zgOQOM4DkDjOA5A4zgOQOM4DkDjOA5A4zgOQOM4DkDjOA5A4zgOQOM4DkDjOA5A4zgOQOM4DkDjOA5A4zgOQOM4DkDjOA5A4zgOQOM4DkDjOA5A4zgOQOM4DkDjOA5A4zgOQOM4DkDjOA5A4zgOQA==",
          "dtype": "f4"
         },
         "z": {
          "bdata": "HkWf1xxCjN0eZy7ewPGJ3k3wtt7Wtdve0Hz33lVlBd9yfQvfIOIO3xhmEN+soRDfTMYP38eJDd87BgnfTL8A30A85d7+Brjet6Rn3tFFD90BKWleAT4TX+SMgl+7Uclf4oYPYBtEQmAXE31g3/mfYHdWxWCzae5gDHMNYfsyJWFnOT5hfkJYYU8Ec2EuGIdhebqUYWY/omHvfK9hcUm8Yel7yGHr7NNhqHbeYRb252EhS/BhxVn3YbYK/WHupQBisggCYgarAmKwVAJimRoBYod//mHEl/lhBpTzYWOQ7GGnreRh6RDcYejh0mHmSclh2nG/YQKBtWFvm6thCeGhYeJsmGG6VI9h+qiGYe3pfGEHfm1hjRJfYTmkUWHRKUVhNpU5YcPULmHl1CRhqYAbYRLDEmGPhwph+LoCYT6X9mCAU+hgPI/aYCYzzWDAK8BgWWmzYJnfpmAuhZpgR1OOYEJFgmC3sGxgdhZVYFu7PWDNoCZgl8kPYJZy8l/O58VfI/uZX2ZrXV+tPwhf+eSPXg==",
          "dtype": "f4"
         }
        },
        {
         "line": {
          "cmax": 609580857281803700000,
          "cmin": -47443170274534490000,
          "color": {
           "bdata": "h0KZ1/Aoj90c6TDeVACL3qqXtt7iTNjepvfu3ljS+t4ICP3e8Tr33hQY69748dnelGXE3lMuqt4a4one6PBB3hD2rt2bY1Rdm99uXp0h8V7eAkdfNCCVX6Ok0l+jrQ5gFSk7YOogb2BMYZVgaAW3YKRf3GBbnQJhOaUYYacVMGH4tEhhQkFiYRtzfGF4f4thPcuYYTf1pWGN1bJhEkW/YWUdy2HSOdZhU3fgYZO16WEV1/FhCcL4YQFh/mGWUQFipL4CYgl1A2KHPgNiay4CYuiDAGKjivxhIfj2YYto8GGe+OhhYcngYZ7+12Hhvc5h/CzFYalwu2Ekq7FhYPunYVB8nmFdRJVhY2WMYc3sg2Edx3dhk51oYTRgWmFcDE1haZpAYc3+NGFiKyph4Q8gYQ2bFmEfuw1hql4FYbPp+mCV2+tgvHXdYLGdz2DgO8Jglzu1YCWLqGCpG5xg1eCPYNDQg2AnyG9gNCpYYGPAQGCChilgOXsSYL0+919K68lfWASdXxkrYV8PWQlf8zWOXg==",
           "dtype": "f4"
          },
          "colorscale": [
           [
            0,
            "#440154"
           ],
           [
            0.1111111111111111,
            "#482878"
           ],
           [
            0.2222222222222222,
            "#3e4989"
           ],
           [
            0.3333333333333333,
            "#31688e"
           ],
           [
            0.4444444444444444,
            "#26828e"
           ],
           [
            0.5555555555555556,
            "#1f9e89"
           ],
           [
            0.6666666666666666,
            "#35b779"
           ],
           [
            0.7777777777777778,
            "#6ece58"
           ],
           [
            0.8888888888888888,
            "#b5de2b"
           ],
           [
            1,
            "#fde725"
           ]
          ],
          "showscale": false,
          "width": 4
         },
         "mode": "lines",
         "showlegend": false,
         "type": "scatter3d",
         "x": {
          "bdata": "AAAAALooDiy6KI4sFz3VLLooDi3osjEtFz1VLUbHeC26KI4t0e2fLeiysS0AeMMtFz3VLS4C5y1Gx/gtLkYFLrooDi5GCxcu0e0fLl3QKC7osjEudJU6LgB4Qy6LWkwuFz1VLqMfXi4uAmcuuuRvLkbHeC7p1IAuLkaFLnS3iS66KI4uAJqSLkYLly6LfJsu0e2fLhdfpC5d0Kguo0GtLuiysS4uJLYudJW6LroGvy4AeMMuRunHLotazC7Ry9AuFz3VLl2u2S6hH94u55DiLi0C5y5zc+suuOTvLv5V9C5Ex/guijj9LujUAC+LDQMvLkYFL9B+By90twkvFvALL7ooDi9cYRAv/5kSL6LSFC9FCxcv6EMZL4p8Gy8utR0v0O0fL3QmIi8WXyQvuZcmL1zQKC//CCsvokEtL0V6Ly/osjEvi+szLy4kNi/QXDgvdJU6LxbOPC+5Bj8vXD9BL/93Qy+isEUvRelHL+ghSi+LWkwvLpNOL9DLUC9zBFMvFj1VL7l1Vy9crlkv/+ZbLw==",
          "dtype": "f4"
         },
         "y": {
          "bdata": "yiYbQMomG0DKJhtAyiYbQMomG0DKJhtAyiYbQMomG0DKJhtAyiYbQMomG0DKJhtAyiYbQMomG0DKJhtAyiYbQMomG0DKJhtAyiYbQMomG0DKJhtAyiYbQMomG0DKJhtAyiYbQMomG0DKJhtAyiYbQMomG0DKJhtAyiYbQMomG0DKJhtAyiYbQMomG0DKJhtAyiYbQMomG0DKJhtAyiYbQMomG0DKJhtAyiYbQMomG0DKJhtAyiYbQMomG0DKJhtAyiYbQMomG0DKJhtAyiYbQMomG0DKJhtAyiYbQMomG0DKJhtAyiYbQMomG0DKJhtAyiYbQMomG0DKJhtAyiYbQMomG0DKJhtAyiYbQMomG0DKJhtAyiYbQMomG0DKJhtAyiYbQMomG0DKJhtAyiYbQMomG0DKJhtAyiYbQMomG0DKJhtAyiYbQMomG0DKJhtAyiYbQMomG0DKJhtAyiYbQMomG0DKJhtAyiYbQMomG0DKJhtAyiYbQMomG0DKJhtAyiYbQMomG0DKJhtAyiYbQA==",
          "dtype": "f4"
         },
         "z": {
          "bdata": "h0KZ1/Aoj90c6TDeVACL3qqXtt7iTNjepvfu3ljS+t4ICP3e8Tr33hQY69748dnelGXE3lMuqt4a4one6PBB3hD2rt2bY1Rdm99uXp0h8V7eAkdfNCCVX6Ok0l+jrQ5gFSk7YOogb2BMYZVgaAW3YKRf3GBbnQJhOaUYYacVMGH4tEhhQkFiYRtzfGF4f4thPcuYYTf1pWGN1bJhEkW/YWUdy2HSOdZhU3fgYZO16WEV1/FhCcL4YQFh/mGWUQFipL4CYgl1A2KHPgNiay4CYuiDAGKjivxhIfj2YYto8GGe+OhhYcngYZ7+12Hhvc5h/CzFYalwu2Ekq7FhYPunYVB8nmFdRJVhY2WMYc3sg2Edx3dhk51oYTRgWmFcDE1haZpAYc3+NGFiKyph4Q8gYQ2bFmEfuw1hql4FYbPp+mCV2+tgvHXdYLGdz2DgO8Jglzu1YCWLqGCpG5xg1eCPYNDQg2AnyG9gNCpYYGPAQGCChilgOXsSYL0+919K68lfWASdXxkrYV8PWQlf8zWOXg==",
          "dtype": "f4"
         }
        },
        {
         "line": {
          "cmax": 609580857281803700000,
          "cmin": -47443170274534490000,
          "color": {
           "bdata": "HUmR19Y5kd0aTTLe5yOL3q77tN4WUNPeF5jk3lvD6N6Fy+DeVTzO3gzIst4d4Y/e47lM3rkb2d0+VjRbLI8FXmULkV6va/BeAvUyX8SZe19piqpfuC3hX8+NEWBxxDhgHLhmYNTejWDC/qtgvrjNYHjv8mA1tw1hs3UjYdiCOmHYplJhN6JrYSKYgmFZhI9hcXCcYdc2qWH5sbVhF73BYWQ0zWHj9ddhPOHhYdLY6mF+wfJhw4P5Ye8L/2E4pQFiYxoDYtLiA2KQygNiXuMCYohoAWJQvv5hQp75YZ2F82FWjexhftLkYQF13GHYltNhoVrKYV3iwGFKTrdhE7ytYSNGpGEgA5th2gWSYT5diWFpFIFh9WVyYZl6Y2HvaVVhMzJIYWvNO2GtMjBhSFYlYe8qG2HsoRFhKawIYUI6AGEIevBgjkvhYEXN0mBB5cRgk3u3YM16qmDXz51gDmqRYFc7hWAHcHJgdK1aYLIgQ2C2vytgJoQUYBTW+l+e6MxfwkSfX0/qY1+hEQpfr6yMXg==",
           "dtype": "f4"
          },
          "colorscale": [
           [
            0,
            "#440154"
           ],
           [
            0.1111111111111111,
            "#482878"
           ],
           [
            0.2222222222222222,
            "#3e4989"
           ],
           [
            0.3333333333333333,
            "#31688e"
           ],
           [
            0.4444444444444444,
            "#26828e"
           ],
           [
            0.5555555555555556,
            "#1f9e89"
           ],
           [
            0.6666666666666666,
            "#35b779"
           ],
           [
            0.7777777777777778,
            "#6ece58"
           ],
           [
            0.8888888888888888,
            "#b5de2b"
           ],
           [
            1,
            "#fde725"
           ]
          ],
          "showscale": false,
          "width": 4
         },
         "mode": "lines",
         "showlegend": false,
         "type": "scatter3d",
         "x": {
          "bdata": "AAAAALooDiy6KI4sFz3VLLooDi3osjEtFz1VLUbHeC26KI4t0e2fLeiysS0AeMMtFz3VLS4C5y1Gx/gtLkYFLrooDi5GCxcu0e0fLl3QKC7osjEudJU6LgB4Qy6LWkwuFz1VLqMfXi4uAmcuuuRvLkbHeC7p1IAuLkaFLnS3iS66KI4uAJqSLkYLly6LfJsu0e2fLhdfpC5d0Kguo0GtLuiysS4uJLYudJW6LroGvy4AeMMuRunHLotazC7Ry9AuFz3VLl2u2S6hH94u55DiLi0C5y5zc+suuOTvLv5V9C5Ex/guijj9LujUAC+LDQMvLkYFL9B+By90twkvFvALL7ooDi9cYRAv/5kSL6LSFC9FCxcv6EMZL4p8Gy8utR0v0O0fL3QmIi8WXyQvuZcmL1zQKC//CCsvokEtL0V6Ly/osjEvi+szLy4kNi/QXDgvdJU6LxbOPC+5Bj8vXD9BL/93Qy+isEUvRelHL+ghSi+LWkwvLpNOL9DLUC9zBFMvFj1VL7l1Vy9crlkv/+ZbLw==",
          "dtype": "f4"
         },
         "y": {
          "bdata": "sBQoQLAUKECwFChAsBQoQLAUKECwFChAsBQoQLAUKECwFChAsBQoQLAUKECwFChAsBQoQLAUKECwFChAsBQoQLAUKECwFChAsBQoQLAUKECwFChAsBQoQLAUKECwFChAsBQoQLAUKECwFChAsBQoQLAUKECwFChAsBQoQLAUKECwFChAsBQoQLAUKECwFChAsBQoQLAUKECwFChAsBQoQLAUKECwFChAsBQoQLAUKECwFChAsBQoQLAUKECwFChAsBQoQLAUKECwFChAsBQoQLAUKECwFChAsBQoQLAUKECwFChAsBQoQLAUKECwFChAsBQoQLAUKECwFChAsBQoQLAUKECwFChAsBQoQLAUKECwFChAsBQoQLAUKECwFChAsBQoQLAUKECwFChAsBQoQLAUKECwFChAsBQoQLAUKECwFChAsBQoQLAUKECwFChAsBQoQLAUKECwFChAsBQoQLAUKECwFChAsBQoQLAUKECwFChAsBQoQLAUKECwFChAsBQoQLAUKECwFChAsBQoQA==",
          "dtype": "f4"
         },
         "z": {
          "bdata": "HUmR19Y5kd0aTTLe5yOL3q77tN4WUNPeF5jk3lvD6N6Fy+DeVTzO3gzIst4d4Y/e47lM3rkb2d0+VjRbLI8FXmULkV6va/BeAvUyX8SZe19piqpfuC3hX8+NEWBxxDhgHLhmYNTejWDC/qtgvrjNYHjv8mA1tw1hs3UjYdiCOmHYplJhN6JrYSKYgmFZhI9hcXCcYdc2qWH5sbVhF73BYWQ0zWHj9ddhPOHhYdLY6mF+wfJhw4P5Ye8L/2E4pQFiYxoDYtLiA2KQygNiXuMCYohoAWJQvv5hQp75YZ2F82FWjexhftLkYQF13GHYltNhoVrKYV3iwGFKTrdhE7ytYSNGpGEgA5th2gWSYT5diWFpFIFh9WVyYZl6Y2HvaVVhMzJIYWvNO2GtMjBhSFYlYe8qG2HsoRFhKawIYUI6AGEIevBgjkvhYEXN0mBB5cRgk3u3YM16qmDXz51gDmqRYFc7hWAHcHJgdK1aYLIgQ2C2vytgJoQUYBTW+l+e6MxfwkSfX0/qY1+hEQpfr6yMXg==",
          "dtype": "f4"
         }
        },
        {
         "line": {
          "cmax": 609580857281803700000,
          "cmin": -47443170274534490000,
          "color": {
           "bdata": "SHCI1+uLkt1csjLeh3eK3o9Est7v9sze3afY3m791N5nv8Le32Gj3pw0cd4j8Qfe0yFR3Kpr/V0QWY5ewRPoXlGgJ19wx2NfxlyVX4+Dv194rvFfUZwWYEW1OWAvsGJgPgCJYLr5o2BWVsJgwRHkYFaHBGH4jBhh1fUtYUGTRGGpL1xhGo50YXu2hmGvQ5NhPsufYaYprGGUO7hhr97DYabxzmEFVdlhEeviYZiY62HjRPNhaNr5YTRH/2F8vgFi7zgDYl0QBGJPEwRiCFIDYvcDAmIlLQBiKKj7YRgD9mGZgO9hHzroYfhL4GGp1Ndhq/POYVrIxWHbcLxhWgmzYW2rqWGcbaBhPWOXYVicjmGjJYZhfhF8YbiYbGEV6V1h5wVQYUTuQmEEnjZh1A0rYTc0IGG9BRZh3XUMYQh3A2Gk9vVgQunlYDaq1mCNHshglyy6YH+8rGA+uJ9g/guTYDqmhmC473RgfOhcYCoiRWD0jC1gax0WYFeY/V8fK89fjfKgX2/rZV94hApf0EqLXg==",
           "dtype": "f4"
          },
          "colorscale": [
           [
            0,
            "#440154"
           ],
           [
            0.1111111111111111,
            "#482878"
           ],
           [
            0.2222222222222222,
            "#3e4989"
           ],
           [
            0.3333333333333333,
            "#31688e"
           ],
           [
            0.4444444444444444,
            "#26828e"
           ],
           [
            0.5555555555555556,
            "#1f9e89"
           ],
           [
            0.6666666666666666,
            "#35b779"
           ],
           [
            0.7777777777777778,
            "#6ece58"
           ],
           [
            0.8888888888888888,
            "#b5de2b"
           ],
           [
            1,
            "#fde725"
           ]
          ],
          "showscale": false,
          "width": 4
         },
         "mode": "lines",
         "showlegend": false,
         "type": "scatter3d",
         "x": {
          "bdata": "AAAAALooDiy6KI4sFz3VLLooDi3osjEtFz1VLUbHeC26KI4t0e2fLeiysS0AeMMtFz3VLS4C5y1Gx/gtLkYFLrooDi5GCxcu0e0fLl3QKC7osjEudJU6LgB4Qy6LWkwuFz1VLqMfXi4uAmcuuuRvLkbHeC7p1IAuLkaFLnS3iS66KI4uAJqSLkYLly6LfJsu0e2fLhdfpC5d0Kguo0GtLuiysS4uJLYudJW6LroGvy4AeMMuRunHLotazC7Ry9AuFz3VLl2u2S6hH94u55DiLi0C5y5zc+suuOTvLv5V9C5Ex/guijj9LujUAC+LDQMvLkYFL9B+By90twkvFvALL7ooDi9cYRAv/5kSL6LSFC9FCxcv6EMZL4p8Gy8utR0v0O0fL3QmIi8WXyQvuZcmL1zQKC//CCsvokEtL0V6Ly/osjEvi+szLy4kNi/QXDgvdJU6LxbOPC+5Bj8vXD9BL/93Qy+isEUvRelHL+ghSi+LWkwvLpNOL9DLUC9zBFMvFj1VL7l1Vy9crlkv/+ZbLw==",
          "dtype": "f4"
         },
         "y": {
          "bdata": "lgI1QJYCNUCWAjVAlgI1QJYCNUCWAjVAlgI1QJYCNUCWAjVAlgI1QJYCNUCWAjVAlgI1QJYCNUCWAjVAlgI1QJYCNUCWAjVAlgI1QJYCNUCWAjVAlgI1QJYCNUCWAjVAlgI1QJYCNUCWAjVAlgI1QJYCNUCWAjVAlgI1QJYCNUCWAjVAlgI1QJYCNUCWAjVAlgI1QJYCNUCWAjVAlgI1QJYCNUCWAjVAlgI1QJYCNUCWAjVAlgI1QJYCNUCWAjVAlgI1QJYCNUCWAjVAlgI1QJYCNUCWAjVAlgI1QJYCNUCWAjVAlgI1QJYCNUCWAjVAlgI1QJYCNUCWAjVAlgI1QJYCNUCWAjVAlgI1QJYCNUCWAjVAlgI1QJYCNUCWAjVAlgI1QJYCNUCWAjVAlgI1QJYCNUCWAjVAlgI1QJYCNUCWAjVAlgI1QJYCNUCWAjVAlgI1QJYCNUCWAjVAlgI1QJYCNUCWAjVAlgI1QJYCNUCWAjVAlgI1QJYCNUCWAjVAlgI1QJYCNUCWAjVAlgI1QA==",
          "dtype": "f4"
         },
         "z": {
          "bdata": "SHCI1+uLkt1csjLeh3eK3o9Est7v9sze3afY3m791N5nv8Le32Gj3pw0cd4j8Qfe0yFR3Kpr/V0QWY5ewRPoXlGgJ19wx2NfxlyVX4+Dv194rvFfUZwWYEW1OWAvsGJgPgCJYLr5o2BWVsJgwRHkYFaHBGH4jBhh1fUtYUGTRGGpL1xhGo50YXu2hmGvQ5NhPsufYaYprGGUO7hhr97DYabxzmEFVdlhEeviYZiY62HjRPNhaNr5YTRH/2F8vgFi7zgDYl0QBGJPEwRiCFIDYvcDAmIlLQBiKKj7YRgD9mGZgO9hHzroYfhL4GGp1Ndhq/POYVrIxWHbcLxhWgmzYW2rqWGcbaBhPWOXYVicjmGjJYZhfhF8YbiYbGEV6V1h5wVQYUTuQmEEnjZh1A0rYTc0IGG9BRZh3XUMYQh3A2Gk9vVgQunlYDaq1mCNHshglyy6YH+8rGA+uJ9g/guTYDqmhmC473RgfOhcYCoiRWD0jC1gax0WYFeY/V8fK89fjfKgX2/rZV94hApf0EqLXg==",
          "dtype": "f4"
         }
        },
        {
         "line": {
          "cmax": 609580857281803700000,
          "cmin": -47443170274534490000,
          "color": {
           "bdata": "mAd/12g0k90RNjLedhSJ3myXrt4fdMXeUmnL3lnVv956TqPeUmBu3tDE9N2EMZBcolg0Xk+ltV6v2Q1fYcNGX3VVg1+GkadfkA/RXxx6AGC/ORxgFWQ8YPGOYWDyHYZgKWqeYP/OuWDiW9hgcQv6YGFgD2ETJSNhSDE4YTBYTmGbZmVhYSJ9YYWmimGf0pZh+vOiYSTprmHwkLphUMvFYUZ50GHRfdphf73jYXQf7GERjfNhvvL5YR1A/2H/swFipDADYngTBGKqLQRiH44DYndoAmLLvwBi+DL9YdD592Gf5vFhiQ/rYZWN42EpfNthvPfSYSAdymFUCMFh8tO3YZeYrmFXbKVht2KcYXGMk2Ft94phzq6CYVR2dWE+RWZh+NFXYf0fSmFrLz1h5vwwYYuCJWEZuBphqJMQYcQJB2EcHPxg5ibrYD0Z22Bh2Mtg/0m9YO9Ur2Bj4aFgTdmUYJ8oiGBEe3dg1hFfYPj6RmCkIS9geXUXYELV/18K89BfDj2iX41qZ1/DywpfKxaKXg==",
           "dtype": "f4"
          },
          "colorscale": [
           [
            0,
            "#440154"
           ],
           [
            0.1111111111111111,
            "#482878"
           ],
           [
            0.2222222222222222,
            "#3e4989"
           ],
           [
            0.3333333333333333,
            "#31688e"
           ],
           [
            0.4444444444444444,
            "#26828e"
           ],
           [
            0.5555555555555556,
            "#1f9e89"
           ],
           [
            0.6666666666666666,
            "#35b779"
           ],
           [
            0.7777777777777778,
            "#6ece58"
           ],
           [
            0.8888888888888888,
            "#b5de2b"
           ],
           [
            1,
            "#fde725"
           ]
          ],
          "showscale": false,
          "width": 4
         },
         "mode": "lines",
         "showlegend": false,
         "type": "scatter3d",
         "x": {
          "bdata": "AAAAALooDiy6KI4sFz3VLLooDi3osjEtFz1VLUbHeC26KI4t0e2fLeiysS0AeMMtFz3VLS4C5y1Gx/gtLkYFLrooDi5GCxcu0e0fLl3QKC7osjEudJU6LgB4Qy6LWkwuFz1VLqMfXi4uAmcuuuRvLkbHeC7p1IAuLkaFLnS3iS66KI4uAJqSLkYLly6LfJsu0e2fLhdfpC5d0Kguo0GtLuiysS4uJLYudJW6LroGvy4AeMMuRunHLotazC7Ry9AuFz3VLl2u2S6hH94u55DiLi0C5y5zc+suuOTvLv5V9C5Ex/guijj9LujUAC+LDQMvLkYFL9B+By90twkvFvALL7ooDi9cYRAv/5kSL6LSFC9FCxcv6EMZL4p8Gy8utR0v0O0fL3QmIi8WXyQvuZcmL1zQKC//CCsvokEtL0V6Ly/osjEvi+szLy4kNi/QXDgvdJU6LxbOPC+5Bj8vXD9BL/93Qy+isEUvRelHL+ghSi+LWkwvLpNOL9DLUC9zBFMvFj1VL7l1Vy9crlkv/+ZbLw==",
          "dtype": "f4"
         },
         "y": {
          "bdata": "fPBBQHzwQUB88EFAfPBBQHzwQUB88EFAfPBBQHzwQUB88EFAfPBBQHzwQUB88EFAfPBBQHzwQUB88EFAfPBBQHzwQUB88EFAfPBBQHzwQUB88EFAfPBBQHzwQUB88EFAfPBBQHzwQUB88EFAfPBBQHzwQUB88EFAfPBBQHzwQUB88EFAfPBBQHzwQUB88EFAfPBBQHzwQUB88EFAfPBBQHzwQUB88EFAfPBBQHzwQUB88EFAfPBBQHzwQUB88EFAfPBBQHzwQUB88EFAfPBBQHzwQUB88EFAfPBBQHzwQUB88EFAfPBBQHzwQUB88EFAfPBBQHzwQUB88EFAfPBBQHzwQUB88EFAfPBBQHzwQUB88EFAfPBBQHzwQUB88EFAfPBBQHzwQUB88EFAfPBBQHzwQUB88EFAfPBBQHzwQUB88EFAfPBBQHzwQUB88EFAfPBBQHzwQUB88EFAfPBBQHzwQUB88EFAfPBBQHzwQUB88EFAfPBBQHzwQUB88EFAfPBBQHzwQUB88EFAfPBBQA==",
          "dtype": "f4"
         },
         "z": {
          "bdata": "mAd/12g0k90RNjLedhSJ3myXrt4fdMXeUmnL3lnVv956TqPeUmBu3tDE9N2EMZBcolg0Xk+ltV6v2Q1fYcNGX3VVg1+GkadfkA/RXxx6AGC/ORxgFWQ8YPGOYWDyHYZgKWqeYP/OuWDiW9hgcQv6YGFgD2ETJSNhSDE4YTBYTmGbZmVhYSJ9YYWmimGf0pZh+vOiYSTprmHwkLphUMvFYUZ50GHRfdphf73jYXQf7GERjfNhvvL5YR1A/2H/swFipDADYngTBGKqLQRiH44DYndoAmLLvwBi+DL9YdD592Gf5vFhiQ/rYZWN42EpfNthvPfSYSAdymFUCMFh8tO3YZeYrmFXbKVht2KcYXGMk2Ft94phzq6CYVR2dWE+RWZh+NFXYf0fSmFrLz1h5vwwYYuCJWEZuBphqJMQYcQJB2EcHPxg5ibrYD0Z22Bh2Mtg/0m9YO9Ur2Bj4aFgTdmUYJ8oiGBEe3dg1hFfYPj6RmCkIS9geXUXYELV/18K89BfDj2iX41qZ1/DywpfKxaKXg==",
          "dtype": "f4"
         }
        },
        {
         "line": {
          "cmax": 609580857281803700000,
          "cmin": -47443170274534490000,
          "color": {
           "bdata": "fRpu16ZGk91E8zDe5RGH3joWqt5Y9bzejxe93oqVqd7q1ILeDTAU3kuvCtuC3SxeQQK7Xq7bFV/DOlRfX3+MX+SBsl9FzNxfXhoGYDbeIGBaOj9g9LthYCp1hGA4nZpg0IWzYBtOz2BGA+5gh88HYYICGmGngi1h/C5CYbLcV2EYW25he7mCYYJ0jmG6P5phhPulYWaIsWFNx7xhQ5rHYYHk0WEmi9th+XTkYSCL7GH4uPNhkuz5YfkW/2EQlgFixhEDYjb8A2JQKQRisKYDYkCkAmJiJAFi8Fb+YWx/+WEQ0vNhNmLtYfFF5mHKld5hh2vWYZLhzWHjEcVhZRW8YaIDs2ER8qlhE/SgYb8amGHGdI9hdw6HYZ/jfWEwTW5hx2RfYaYxUWF3t0NhhPY2YSrsKmEZkx9hBOQUYanVCmFjXQFh1t7wYKP+32BuANBgJMrAYEdCsmAnUKRgXNyWYDfRiWD5NXpgWVBhYBzTSGC2pDBgZ7AYYBXmAGCFdNJflEujX8uaaF/P/gpf7hWJXg==",
           "dtype": "f4"
          },
          "colorscale": [
           [
            0,
            "#440154"
           ],
           [
            0.1111111111111111,
            "#482878"
           ],
           [
            0.2222222222222222,
            "#3e4989"
           ],
           [
            0.3333333333333333,
            "#31688e"
           ],
           [
            0.4444444444444444,
            "#26828e"
           ],
           [
            0.5555555555555556,
            "#1f9e89"
           ],
           [
            0.6666666666666666,
            "#35b779"
           ],
           [
            0.7777777777777778,
            "#6ece58"
           ],
           [
            0.8888888888888888,
            "#b5de2b"
           ],
           [
            1,
            "#fde725"
           ]
          ],
          "showscale": false,
          "width": 4
         },
         "mode": "lines",
         "showlegend": false,
         "type": "scatter3d",
         "x": {
          "bdata": "AAAAALooDiy6KI4sFz3VLLooDi3osjEtFz1VLUbHeC26KI4t0e2fLeiysS0AeMMtFz3VLS4C5y1Gx/gtLkYFLrooDi5GCxcu0e0fLl3QKC7osjEudJU6LgB4Qy6LWkwuFz1VLqMfXi4uAmcuuuRvLkbHeC7p1IAuLkaFLnS3iS66KI4uAJqSLkYLly6LfJsu0e2fLhdfpC5d0Kguo0GtLuiysS4uJLYudJW6LroGvy4AeMMuRunHLotazC7Ry9AuFz3VLl2u2S6hH94u55DiLi0C5y5zc+suuOTvLv5V9C5Ex/guijj9LujUAC+LDQMvLkYFL9B+By90twkvFvALL7ooDi9cYRAv/5kSL6LSFC9FCxcv6EMZL4p8Gy8utR0v0O0fL3QmIi8WXyQvuZcmL1zQKC//CCsvokEtL0V6Ly/osjEvi+szLy4kNi/QXDgvdJU6LxbOPC+5Bj8vXD9BL/93Qy+isEUvRelHL+ghSi+LWkwvLpNOL9DLUC9zBFMvFj1VL7l1Vy9crlkv/+ZbLw==",
          "dtype": "f4"
         },
         "y": {
          "bdata": "Yt5OQGLeTkBi3k5AYt5OQGLeTkBi3k5AYt5OQGLeTkBi3k5AYt5OQGLeTkBi3k5AYt5OQGLeTkBi3k5AYt5OQGLeTkBi3k5AYt5OQGLeTkBi3k5AYt5OQGLeTkBi3k5AYt5OQGLeTkBi3k5AYt5OQGLeTkBi3k5AYt5OQGLeTkBi3k5AYt5OQGLeTkBi3k5AYt5OQGLeTkBi3k5AYt5OQGLeTkBi3k5AYt5OQGLeTkBi3k5AYt5OQGLeTkBi3k5AYt5OQGLeTkBi3k5AYt5OQGLeTkBi3k5AYt5OQGLeTkBi3k5AYt5OQGLeTkBi3k5AYt5OQGLeTkBi3k5AYt5OQGLeTkBi3k5AYt5OQGLeTkBi3k5AYt5OQGLeTkBi3k5AYt5OQGLeTkBi3k5AYt5OQGLeTkBi3k5AYt5OQGLeTkBi3k5AYt5OQGLeTkBi3k5AYt5OQGLeTkBi3k5AYt5OQGLeTkBi3k5AYt5OQGLeTkBi3k5AYt5OQGLeTkBi3k5AYt5OQGLeTkBi3k5AYt5OQA==",
          "dtype": "f4"
         },
         "z": {
          "bdata": "fRpu16ZGk91E8zDe5RGH3joWqt5Y9bzejxe93oqVqd7q1ILeDTAU3kuvCtuC3SxeQQK7Xq7bFV/DOlRfX3+MX+SBsl9FzNxfXhoGYDbeIGBaOj9g9LthYCp1hGA4nZpg0IWzYBtOz2BGA+5gh88HYYICGmGngi1h/C5CYbLcV2EYW25he7mCYYJ0jmG6P5phhPulYWaIsWFNx7xhQ5rHYYHk0WEmi9th+XTkYSCL7GH4uPNhkuz5YfkW/2EQlgFixhEDYjb8A2JQKQRisKYDYkCkAmJiJAFi8Fb+YWx/+WEQ0vNhNmLtYfFF5mHKld5hh2vWYZLhzWHjEcVhZRW8YaIDs2ER8qlhE/SgYb8amGHGdI9hdw6HYZ/jfWEwTW5hx2RfYaYxUWF3t0NhhPY2YSrsKmEZkx9hBOQUYanVCmFjXQFh1t7wYKP+32BuANBgJMrAYEdCsmAnUKRgXNyWYDfRiWD5NXpgWVBhYBzTSGC2pDBgZ7AYYBXmAGCFdNJflEujX8uaaF/P/gpf7hWJXg==",
          "dtype": "f4"
         }
        },
        {
         "line": {
          "cmax": 609580857281803700000,
          "cmin": -47443170274534490000,
          "color": {
           "bdata": "usBe1xfUkt2jAi/eCIWE3n3fpN5Uo7PePeat3vR9kt79QEPexbdj3acm7V14xqNeVq8NX25vUF8Q9YxfriS1X/cV4V9bpwhgKEEjYEPHQGA3sWFgAj6DYDrQl2CIw65gkULIYNlo5GCyoAFhkGISYTRsJGGgpjdhgfJLYSQnYWF5FndhGMaGYSQokmE6lJ1hjeyoYZYTtGEp7L5hV1rJYVJD02E1jtxhsiPlYc7u7GGM3PNhhdz5YRTh/mGObwFiZecCYr/VA2JaEQRiqKYDYgPCAmIxZQFinSf/YTam+mG+U/VhLEHvYQeC6GFXLOFhdlfZYYkb0WGfkMhhFc6/YT/qtmHM+a1h0w+lYXU9nGHWkZNhDxqLYTHhgmGN4HVhmJxmYdAAWGEAFEphZtk8YVVRMGEweSRhIUwZYQLDDmH91ARhju/2YB5A5WB9g9RgnqDEYGB+tWD2A6dgYhmZYASoi2C5NX1gzr1jYFzGSmBIMjJg/egZYKXWAWAs2NNfdz2kX9qlaV8bMQtf3lCIXg==",
           "dtype": "f4"
          },
          "colorscale": [
           [
            0,
            "#440154"
           ],
           [
            0.1111111111111111,
            "#482878"
           ],
           [
            0.2222222222222222,
            "#3e4989"
           ],
           [
            0.3333333333333333,
            "#31688e"
           ],
           [
            0.4444444444444444,
            "#26828e"
           ],
           [
            0.5555555555555556,
            "#1f9e89"
           ],
           [
            0.6666666666666666,
            "#35b779"
           ],
           [
            0.7777777777777778,
            "#6ece58"
           ],
           [
            0.8888888888888888,
            "#b5de2b"
           ],
           [
            1,
            "#fde725"
           ]
          ],
          "showscale": false,
          "width": 4
         },
         "mode": "lines",
         "showlegend": false,
         "type": "scatter3d",
         "x": {
          "bdata": "AAAAALooDiy6KI4sFz3VLLooDi3osjEtFz1VLUbHeC26KI4t0e2fLeiysS0AeMMtFz3VLS4C5y1Gx/gtLkYFLrooDi5GCxcu0e0fLl3QKC7osjEudJU6LgB4Qy6LWkwuFz1VLqMfXi4uAmcuuuRvLkbHeC7p1IAuLkaFLnS3iS66KI4uAJqSLkYLly6LfJsu0e2fLhdfpC5d0Kguo0GtLuiysS4uJLYudJW6LroGvy4AeMMuRunHLotazC7Ry9AuFz3VLl2u2S6hH94u55DiLi0C5y5zc+suuOTvLv5V9C5Ex/guijj9LujUAC+LDQMvLkYFL9B+By90twkvFvALL7ooDi9cYRAv/5kSL6LSFC9FCxcv6EMZL4p8Gy8utR0v0O0fL3QmIi8WXyQvuZcmL1zQKC//CCsvokEtL0V6Ly/osjEvi+szLy4kNi/QXDgvdJU6LxbOPC+5Bj8vXD9BL/93Qy+isEUvRelHL+ghSi+LWkwvLpNOL9DLUC9zBFMvFj1VL7l1Vy9crlkv/+ZbLw==",
          "dtype": "f4"
         },
         "y": {
          "bdata": "SMxbQEjMW0BIzFtASMxbQEjMW0BIzFtASMxbQEjMW0BIzFtASMxbQEjMW0BIzFtASMxbQEjMW0BIzFtASMxbQEjMW0BIzFtASMxbQEjMW0BIzFtASMxbQEjMW0BIzFtASMxbQEjMW0BIzFtASMxbQEjMW0BIzFtASMxbQEjMW0BIzFtASMxbQEjMW0BIzFtASMxbQEjMW0BIzFtASMxbQEjMW0BIzFtASMxbQEjMW0BIzFtASMxbQEjMW0BIzFtASMxbQEjMW0BIzFtASMxbQEjMW0BIzFtASMxbQEjMW0BIzFtASMxbQEjMW0BIzFtASMxbQEjMW0BIzFtASMxbQEjMW0BIzFtASMxbQEjMW0BIzFtASMxbQEjMW0BIzFtASMxbQEjMW0BIzFtASMxbQEjMW0BIzFtASMxbQEjMW0BIzFtASMxbQEjMW0BIzFtASMxbQEjMW0BIzFtASMxbQEjMW0BIzFtASMxbQEjMW0BIzFtASMxbQEjMW0BIzFtASMxbQEjMW0BIzFtASMxbQA==",
          "dtype": "f4"
         },
         "z": {
          "bdata": "usBe1xfUkt2jAi/eCIWE3n3fpN5Uo7PePeat3vR9kt79QEPexbdj3acm7V14xqNeVq8NX25vUF8Q9YxfriS1X/cV4V9bpwhgKEEjYEPHQGA3sWFgAj6DYDrQl2CIw65gkULIYNlo5GCyoAFhkGISYTRsJGGgpjdhgfJLYSQnYWF5FndhGMaGYSQokmE6lJ1hjeyoYZYTtGEp7L5hV1rJYVJD02E1jtxhsiPlYc7u7GGM3PNhhdz5YRTh/mGObwFiZecCYr/VA2JaEQRiqKYDYgPCAmIxZQFinSf/YTam+mG+U/VhLEHvYQeC6GFXLOFhdlfZYYkb0WGfkMhhFc6/YT/qtmHM+a1h0w+lYXU9nGHWkZNhDxqLYTHhgmGN4HVhmJxmYdAAWGEAFEphZtk8YVVRMGEweSRhIUwZYQLDDmH91ARhju/2YB5A5WB9g9RgnqDEYGB+tWD2A6dgYhmZYASoi2C5NX1gzr1jYFzGSmBIMjJg/egZYKXWAWAs2NNfdz2kX9qlaV8bMQtf3lCIXg==",
          "dtype": "f4"
         }
        },
        {
         "line": {
          "cmax": 609580857281803700000,
          "cmin": -47443170274534490000,
          "color": {
           "bdata": "iU5R1z/skd1beizer4CB3jYOn95noanehQGe3haIdd7ww//d3T4LXVMob15opPBeDGY9X10lhV/ITa9fDCfdX1ZxB2DnciJgxOA/YIUYYGBXwIFgMkOVYArKqmD2gsJgopPcYAgU+WCKBgxhgrscYYabLmGfkEFhLn1VYaw6amGvnX9hbLqKYbfFlWFI1aBhHM2rYXqRtmERB8FhxxPLYaCe1GGCkN1hwtPlYRxV7WEIA/Rhc875YdCq/mH2RgFiP7gCYhWnA2II7QNic5UDYkHJAmLQiQFiNbT/YSp9+2FJevZhbrrwYQVP6mHeS+NhL8bbYSTU02H6i8thiAPDYfBPumEEhbFhWLWoYenxn2EKSpdhSsuOYXOBhmH67Hxh/GRtYZt3XmEpLlBhcI5CYUebNWF6VClha7cdYf2+EmEpZAhhWjz9YPzF6mAKT9lg8r/IYJAAuWCO+KlgD5CbYBewjWD8QoBglGlmYLDmTGBt3TNgLjIbYO3NAmCCPNVfviqlX2Wsal8pcgtfcMyHXg==",
           "dtype": "f4"
          },
          "colorscale": [
           [
            0,
            "#440154"
           ],
           [
            0.1111111111111111,
            "#482878"
           ],
           [
            0.2222222222222222,
            "#3e4989"
           ],
           [
            0.3333333333333333,
            "#31688e"
           ],
           [
            0.4444444444444444,
            "#26828e"
           ],
           [
            0.5555555555555556,
            "#1f9e89"
           ],
           [
            0.6666666666666666,
            "#35b779"
           ],
           [
            0.7777777777777778,
            "#6ece58"
           ],
           [
            0.8888888888888888,
            "#b5de2b"
           ],
           [
            1,
            "#fde725"
           ]
          ],
          "showscale": false,
          "width": 4
         },
         "mode": "lines",
         "showlegend": false,
         "type": "scatter3d",
         "x": {
          "bdata": "AAAAALooDiy6KI4sFz3VLLooDi3osjEtFz1VLUbHeC26KI4t0e2fLeiysS0AeMMtFz3VLS4C5y1Gx/gtLkYFLrooDi5GCxcu0e0fLl3QKC7osjEudJU6LgB4Qy6LWkwuFz1VLqMfXi4uAmcuuuRvLkbHeC7p1IAuLkaFLnS3iS66KI4uAJqSLkYLly6LfJsu0e2fLhdfpC5d0Kguo0GtLuiysS4uJLYudJW6LroGvy4AeMMuRunHLotazC7Ry9AuFz3VLl2u2S6hH94u55DiLi0C5y5zc+suuOTvLv5V9C5Ex/guijj9LujUAC+LDQMvLkYFL9B+By90twkvFvALL7ooDi9cYRAv/5kSL6LSFC9FCxcv6EMZL4p8Gy8utR0v0O0fL3QmIi8WXyQvuZcmL1zQKC//CCsvokEtL0V6Ly/osjEvi+szLy4kNi/QXDgvdJU6LxbOPC+5Bj8vXD9BL/93Qy+isEUvRelHL+ghSi+LWkwvLpNOL9DLUC9zBFMvFj1VL7l1Vy9crlkv/+ZbLw==",
          "dtype": "f4"
         },
         "y": {
          "bdata": "LrpoQC66aEAuumhALrpoQC66aEAuumhALrpoQC66aEAuumhALrpoQC66aEAuumhALrpoQC66aEAuumhALrpoQC66aEAuumhALrpoQC66aEAuumhALrpoQC66aEAuumhALrpoQC66aEAuumhALrpoQC66aEAuumhALrpoQC66aEAuumhALrpoQC66aEAuumhALrpoQC66aEAuumhALrpoQC66aEAuumhALrpoQC66aEAuumhALrpoQC66aEAuumhALrpoQC66aEAuumhALrpoQC66aEAuumhALrpoQC66aEAuumhALrpoQC66aEAuumhALrpoQC66aEAuumhALrpoQC66aEAuumhALrpoQC66aEAuumhALrpoQC66aEAuumhALrpoQC66aEAuumhALrpoQC66aEAuumhALrpoQC66aEAuumhALrpoQC66aEAuumhALrpoQC66aEAuumhALrpoQC66aEAuumhALrpoQC66aEAuumhALrpoQC66aEAuumhALrpoQC66aEAuumhALrpoQA==",
          "dtype": "f4"
         },
         "z": {
          "bdata": "iU5R1z/skd1beizer4CB3jYOn95noanehQGe3haIdd7ww//d3T4LXVMob15opPBeDGY9X10lhV/ITa9fDCfdX1ZxB2DnciJgxOA/YIUYYGBXwIFgMkOVYArKqmD2gsJgopPcYAgU+WCKBgxhgrscYYabLmGfkEFhLn1VYaw6amGvnX9hbLqKYbfFlWFI1aBhHM2rYXqRtmERB8FhxxPLYaCe1GGCkN1hwtPlYRxV7WEIA/Rhc875YdCq/mH2RgFiP7gCYhWnA2II7QNic5UDYkHJAmLQiQFiNbT/YSp9+2FJevZhbrrwYQVP6mHeS+NhL8bbYSTU02H6i8thiAPDYfBPumEEhbFhWLWoYenxn2EKSpdhSsuOYXOBhmH67Hxh/GRtYZt3XmEpLlBhcI5CYUebNWF6VClha7cdYf2+EmEpZAhhWjz9YPzF6mAKT9lg8r/IYJAAuWCO+KlgD5CbYBewjWD8QoBglGlmYLDmTGBt3TNgLjIbYO3NAmCCPNVfviqlX2Wsal8pcgtfcMyHXg==",
          "dtype": "f4"
         }
        },
        {
         "line": {
          "cmax": 609580857281803700000,
          "cmin": -47443170274534490000,
          "color": {
           "bdata": "CNtF19GckN0Tbine8Cp83ty5mN7bDZ/eV46N3icnRd40yG/dqin9Xf+Hs17RXh5f2XpsXwGfoV8GDdFfgzQCYNzjHWA/tztgkOZbYFG+fmBSSpJgZOOmYJdYvWDc0dVgHnDwYOGjBmHWLxZhydcmYbuOOGHWP0thK89eYWwYc2Fp+YNh+JeOYSZPmWExBaRhy5+uYfwEuWEoG8Nh68nMYfb51WG3ld5hJYnmYUjC7WH4MPRhScf5Yat5/mFTHwFiv4cCYgl0A2KPwANiqXcDYgq/AmKwlwFiJQQAYncQ/GE9UvdhyNrxYba562HwAOVh1sPdYb8W1mFJDs5h3L7FYWY8vWHUmbRhHemrYeA6o2FsnpphgyGSYV7QiWGYtYFhMLRzYTCKZGGG+FVhHQdIYdm6OmGjFS5h5RYiYVm7FmG5/Qthz9YBYcR78GAEUt5gohrNYO6+vGCBJ61gGT2eYPToj2BGFYJgS1tpYGY+T2AjsjVgkZgcYCLYA2Bkt9ZfKCWmXwfHa1/HzQtffIyHXg==",
           "dtype": "f4"
          },
          "colorscale": [
           [
            0,
            "#440154"
           ],
           [
            0.1111111111111111,
            "#482878"
           ],
           [
            0.2222222222222222,
            "#3e4989"
           ],
           [
            0.3333333333333333,
            "#31688e"
           ],
           [
            0.4444444444444444,
            "#26828e"
           ],
           [
            0.5555555555555556,
            "#1f9e89"
           ],
           [
            0.6666666666666666,
            "#35b779"
           ],
           [
            0.7777777777777778,
            "#6ece58"
           ],
           [
            0.8888888888888888,
            "#b5de2b"
           ],
           [
            1,
            "#fde725"
           ]
          ],
          "showscale": false,
          "width": 4
         },
         "mode": "lines",
         "showlegend": false,
         "type": "scatter3d",
         "x": {
          "bdata": "AAAAALooDiy6KI4sFz3VLLooDi3osjEtFz1VLUbHeC26KI4t0e2fLeiysS0AeMMtFz3VLS4C5y1Gx/gtLkYFLrooDi5GCxcu0e0fLl3QKC7osjEudJU6LgB4Qy6LWkwuFz1VLqMfXi4uAmcuuuRvLkbHeC7p1IAuLkaFLnS3iS66KI4uAJqSLkYLly6LfJsu0e2fLhdfpC5d0Kguo0GtLuiysS4uJLYudJW6LroGvy4AeMMuRunHLotazC7Ry9AuFz3VLl2u2S6hH94u55DiLi0C5y5zc+suuOTvLv5V9C5Ex/guijj9LujUAC+LDQMvLkYFL9B+By90twkvFvALL7ooDi9cYRAv/5kSL6LSFC9FCxcv6EMZL4p8Gy8utR0v0O0fL3QmIi8WXyQvuZcmL1zQKC//CCsvokEtL0V6Ly/osjEvi+szLy4kNi/QXDgvdJU6LxbOPC+5Bj8vXD9BL/93Qy+isEUvRelHL+ghSi+LWkwvLpNOL9DLUC9zBFMvFj1VL7l1Vy9crlkv/+ZbLw==",
          "dtype": "f4"
         },
         "y": {
          "bdata": "FKh1QBSodUAUqHVAFKh1QBSodUAUqHVAFKh1QBSodUAUqHVAFKh1QBSodUAUqHVAFKh1QBSodUAUqHVAFKh1QBSodUAUqHVAFKh1QBSodUAUqHVAFKh1QBSodUAUqHVAFKh1QBSodUAUqHVAFKh1QBSodUAUqHVAFKh1QBSodUAUqHVAFKh1QBSodUAUqHVAFKh1QBSodUAUqHVAFKh1QBSodUAUqHVAFKh1QBSodUAUqHVAFKh1QBSodUAUqHVAFKh1QBSodUAUqHVAFKh1QBSodUAUqHVAFKh1QBSodUAUqHVAFKh1QBSodUAUqHVAFKh1QBSodUAUqHVAFKh1QBSodUAUqHVAFKh1QBSodUAUqHVAFKh1QBSodUAUqHVAFKh1QBSodUAUqHVAFKh1QBSodUAUqHVAFKh1QBSodUAUqHVAFKh1QBSodUAUqHVAFKh1QBSodUAUqHVAFKh1QBSodUAUqHVAFKh1QBSodUAUqHVAFKh1QBSodUAUqHVAFKh1QBSodUAUqHVAFKh1QA==",
          "dtype": "f4"
         },
         "z": {
          "bdata": "CNtF19GckN0Tbine8Cp83ty5mN7bDZ/eV46N3icnRd40yG/dqin9Xf+Hs17RXh5f2XpsXwGfoV8GDdFfgzQCYNzjHWA/tztgkOZbYFG+fmBSSpJgZOOmYJdYvWDc0dVgHnDwYOGjBmHWLxZhydcmYbuOOGHWP0thK89eYWwYc2Fp+YNh+JeOYSZPmWExBaRhy5+uYfwEuWEoG8Nh68nMYfb51WG3ld5hJYnmYUjC7WH4MPRhScf5Yat5/mFTHwFiv4cCYgl0A2KPwANiqXcDYgq/AmKwlwFiJQQAYncQ/GE9UvdhyNrxYba562HwAOVh1sPdYb8W1mFJDs5h3L7FYWY8vWHUmbRhHemrYeA6o2FsnpphgyGSYV7QiWGYtYFhMLRzYTCKZGGG+FVhHQdIYdm6OmGjFS5h5RYiYVm7FmG5/Qthz9YBYcR78GAEUt5gohrNYO6+vGCBJ61gGT2eYPToj2BGFYJgS1tpYGY+T2AjsjVgkZgcYCLYA2Bkt9ZfKCWmXwfHa1/HzQtffIyHXg==",
          "dtype": "f4"
         }
        },
        {
         "line": {
          "cmax": 609580857281803700000,
          "cmin": -47443170274534490000,
          "color": {
           "bdata": "Y1I817/xjt307iXeh6N03m/2kd4FApTeA1Z53pgeFN6LDQRcSwtaXvv17l5D70Nf3GiNX0GVvV/9IfJfOWwVYLvYM2DaaVRgTUd3YI1WjmCGcKJgjRi4YOx1z2CbquhgXOkBYZ9/EGGRGiBhvbUwYZxEQmF4s1RhFOhnYVLAe2EQC4hh+16SYcHEnGFBJKdh3WSxYUFuu2F5KMVhq3zOYQ5V12GLnd9hZ0PnYfg17mEyZvRhKsf5YStO/mE1+QBi0lYCYvs9A2LPjQNivE8DYlOmAmJikgFiFhYAYpNp/GEX5vdhiq3yYQjO7GHnV+Zh3VzfYavv12F7I9BhTgvIYfu5v2F7QbdhC7OuYdoepmH6k51hLSCVYeTPjGEbroRhe4h5YXk0amH7bFthkjtNYfOmP2HGsjJhNmAmYbOtGmGYlw9hLRgFYTZQ9mBPfeNg+qPRYD2vwGAWibBgSBuhYLFPkmDZEIRgrZRsYPzRUWDStjdgsyMeYCb9BGCgV9hfLTmnX4UHbV9pTAxfLZOHXg==",
           "dtype": "f4"
          },
          "colorscale": [
           [
            0,
            "#440154"
           ],
           [
            0.1111111111111111,
            "#482878"
           ],
           [
            0.2222222222222222,
            "#3e4989"
           ],
           [
            0.3333333333333333,
            "#31688e"
           ],
           [
            0.4444444444444444,
            "#26828e"
           ],
           [
            0.5555555555555556,
            "#1f9e89"
           ],
           [
            0.6666666666666666,
            "#35b779"
           ],
           [
            0.7777777777777778,
            "#6ece58"
           ],
           [
            0.8888888888888888,
            "#b5de2b"
           ],
           [
            1,
            "#fde725"
           ]
          ],
          "showscale": false,
          "width": 4
         },
         "mode": "lines",
         "showlegend": false,
         "type": "scatter3d",
         "x": {
          "bdata": "AAAAALooDiy6KI4sFz3VLLooDi3osjEtFz1VLUbHeC26KI4t0e2fLeiysS0AeMMtFz3VLS4C5y1Gx/gtLkYFLrooDi5GCxcu0e0fLl3QKC7osjEudJU6LgB4Qy6LWkwuFz1VLqMfXi4uAmcuuuRvLkbHeC7p1IAuLkaFLnS3iS66KI4uAJqSLkYLly6LfJsu0e2fLhdfpC5d0Kguo0GtLuiysS4uJLYudJW6LroGvy4AeMMuRunHLotazC7Ry9AuFz3VLl2u2S6hH94u55DiLi0C5y5zc+suuOTvLv5V9C5Ex/guijj9LujUAC+LDQMvLkYFL9B+By90twkvFvALL7ooDi9cYRAv/5kSL6LSFC9FCxcv6EMZL4p8Gy8utR0v0O0fL3QmIi8WXyQvuZcmL1zQKC//CCsvokEtL0V6Ly/osjEvi+szLy4kNi/QXDgvdJU6LxbOPC+5Bj8vXD9BL/93Qy+isEUvRelHL+ghSi+LWkwvLpNOL9DLUC9zBFMvFj1VL7l1Vy9crlkv/+ZbLw==",
          "dtype": "f4"
         },
         "y": {
          "bdata": "/UqBQP1KgUD9SoFA/UqBQP1KgUD9SoFA/UqBQP1KgUD9SoFA/UqBQP1KgUD9SoFA/UqBQP1KgUD9SoFA/UqBQP1KgUD9SoFA/UqBQP1KgUD9SoFA/UqBQP1KgUD9SoFA/UqBQP1KgUD9SoFA/UqBQP1KgUD9SoFA/UqBQP1KgUD9SoFA/UqBQP1KgUD9SoFA/UqBQP1KgUD9SoFA/UqBQP1KgUD9SoFA/UqBQP1KgUD9SoFA/UqBQP1KgUD9SoFA/UqBQP1KgUD9SoFA/UqBQP1KgUD9SoFA/UqBQP1KgUD9SoFA/UqBQP1KgUD9SoFA/UqBQP1KgUD9SoFA/UqBQP1KgUD9SoFA/UqBQP1KgUD9SoFA/UqBQP1KgUD9SoFA/UqBQP1KgUD9SoFA/UqBQP1KgUD9SoFA/UqBQP1KgUD9SoFA/UqBQP1KgUD9SoFA/UqBQP1KgUD9SoFA/UqBQP1KgUD9SoFA/UqBQP1KgUD9SoFA/UqBQP1KgUD9SoFA/UqBQP1KgUD9SoFA/UqBQA==",
          "dtype": "f4"
         },
         "z": {
          "bdata": "Y1I817/xjt307iXeh6N03m/2kd4FApTeA1Z53pgeFN6LDQRcSwtaXvv17l5D70Nf3GiNX0GVvV/9IfJfOWwVYLvYM2DaaVRgTUd3YI1WjmCGcKJgjRi4YOx1z2CbquhgXOkBYZ9/EGGRGiBhvbUwYZxEQmF4s1RhFOhnYVLAe2EQC4hh+16SYcHEnGFBJKdh3WSxYUFuu2F5KMVhq3zOYQ5V12GLnd9hZ0PnYfg17mEyZvRhKsf5YStO/mE1+QBi0lYCYvs9A2LPjQNivE8DYlOmAmJikgFiFhYAYpNp/GEX5vdhiq3yYQjO7GHnV+Zh3VzfYavv12F7I9BhTgvIYfu5v2F7QbdhC7OuYdoepmH6k51hLSCVYeTPjGEbroRhe4h5YXk0amH7bFthkjtNYfOmP2HGsjJhNmAmYbOtGmGYlw9hLRgFYTZQ9mBPfeNg+qPRYD2vwGAWibBgSBuhYLFPkmDZEIRgrZRsYPzRUWDStjdgsyMeYCb9BGCgV9hfLTmnX4UHbV9pTAxfLZOHXg==",
          "dtype": "f4"
         }
        },
        {
         "line": {
          "cmax": 609580857281803700000,
          "cmin": -47443170274534490000,
          "color": {
           "bdata": "2IQ011P1jN3gCyLe1oNs3vbUit70koje4N9W3jVJxd3L+JhdBnuaXk/fFF9q82hfAy2kX6n/2F8AQglgHTYoYDxLSWDchWxgAv+IYNPvnGBlMLJgIODIYJkf4WDcCvtgrlwLYVocGmHzxSlhwVQ6Yau8S2EZ611hhsdwYQEZgmGNA4xhDg+WYfEloGGnMaphMRu0YdTLvWEoLcdhzCnQYVyt2GEbpeBhef/nYfKs7mF3n/RhAcv5YZol/mGH0wBiwiQCYqsEA2ITVQNijh4DYrSAAmIvfAFi8RIAYt+P/GGQPvhhqDzzYfqW7WGHXOdhkp3gYYVr2WEd2NFhOPXJYXnUwWH2hrlhKB2xYbGmqGFHMqBhgM2XYdKEj2FnY4dhCeZ+YRJ4b2HYimBhPilSYVhbRGFQJjdh24wqYeyOHmFmKhNh9FoIYUg1/GDuw+hgXlDWYJnHxGBAFbRgYiSkYOvflGAHM4ZgaxNwYLqhVGDT7TlgVdcfYHlBBmB5JtpfC2+oX+Z5bl+28wxfJuGHXg==",
           "dtype": "f4"
          },
          "colorscale": [
           [
            0,
            "#440154"
           ],
           [
            0.1111111111111111,
            "#482878"
           ],
           [
            0.2222222222222222,
            "#3e4989"
           ],
           [
            0.3333333333333333,
            "#31688e"
           ],
           [
            0.4444444444444444,
            "#26828e"
           ],
           [
            0.5555555555555556,
            "#1f9e89"
           ],
           [
            0.6666666666666666,
            "#35b779"
           ],
           [
            0.7777777777777778,
            "#6ece58"
           ],
           [
            0.8888888888888888,
            "#b5de2b"
           ],
           [
            1,
            "#fde725"
           ]
          ],
          "showscale": false,
          "width": 4
         },
         "mode": "lines",
         "showlegend": false,
         "type": "scatter3d",
         "x": {
          "bdata": "AAAAALooDiy6KI4sFz3VLLooDi3osjEtFz1VLUbHeC26KI4t0e2fLeiysS0AeMMtFz3VLS4C5y1Gx/gtLkYFLrooDi5GCxcu0e0fLl3QKC7osjEudJU6LgB4Qy6LWkwuFz1VLqMfXi4uAmcuuuRvLkbHeC7p1IAuLkaFLnS3iS66KI4uAJqSLkYLly6LfJsu0e2fLhdfpC5d0Kguo0GtLuiysS4uJLYudJW6LroGvy4AeMMuRunHLotazC7Ry9AuFz3VLl2u2S6hH94u55DiLi0C5y5zc+suuOTvLv5V9C5Ex/guijj9LujUAC+LDQMvLkYFL9B+By90twkvFvALL7ooDi9cYRAv/5kSL6LSFC9FCxcv6EMZL4p8Gy8utR0v0O0fL3QmIi8WXyQvuZcmL1zQKC//CCsvokEtL0V6Ly/osjEvi+szLy4kNi/QXDgvdJU6LxbOPC+5Bj8vXD9BL/93Qy+isEUvRelHL+ghSi+LWkwvLpNOL9DLUC9zBFMvFj1VL7l1Vy9crlkv/+ZbLw==",
          "dtype": "f4"
         },
         "y": {
          "bdata": "8MGHQPDBh0DwwYdA8MGHQPDBh0DwwYdA8MGHQPDBh0DwwYdA8MGHQPDBh0DwwYdA8MGHQPDBh0DwwYdA8MGHQPDBh0DwwYdA8MGHQPDBh0DwwYdA8MGHQPDBh0DwwYdA8MGHQPDBh0DwwYdA8MGHQPDBh0DwwYdA8MGHQPDBh0DwwYdA8MGHQPDBh0DwwYdA8MGHQPDBh0DwwYdA8MGHQPDBh0DwwYdA8MGHQPDBh0DwwYdA8MGHQPDBh0DwwYdA8MGHQPDBh0DwwYdA8MGHQPDBh0DwwYdA8MGHQPDBh0DwwYdA8MGHQPDBh0DwwYdA8MGHQPDBh0DwwYdA8MGHQPDBh0DwwYdA8MGHQPDBh0DwwYdA8MGHQPDBh0DwwYdA8MGHQPDBh0DwwYdA8MGHQPDBh0DwwYdA8MGHQPDBh0DwwYdA8MGHQPDBh0DwwYdA8MGHQPDBh0DwwYdA8MGHQPDBh0DwwYdA8MGHQPDBh0DwwYdA8MGHQPDBh0DwwYdA8MGHQPDBh0DwwYdA8MGHQA==",
          "dtype": "f4"
         },
         "z": {
          "bdata": "2IQ011P1jN3gCyLe1oNs3vbUit70koje4N9W3jVJxd3L+JhdBnuaXk/fFF9q82hfAy2kX6n/2F8AQglgHTYoYDxLSWDchWxgAv+IYNPvnGBlMLJgIODIYJkf4WDcCvtgrlwLYVocGmHzxSlhwVQ6Yau8S2EZ611hhsdwYQEZgmGNA4xhDg+WYfEloGGnMaphMRu0YdTLvWEoLcdhzCnQYVyt2GEbpeBhef/nYfKs7mF3n/RhAcv5YZol/mGH0wBiwiQCYqsEA2ITVQNijh4DYrSAAmIvfAFi8RIAYt+P/GGQPvhhqDzzYfqW7WGHXOdhkp3gYYVr2WEd2NFhOPXJYXnUwWH2hrlhKB2xYbGmqGFHMqBhgM2XYdKEj2FnY4dhCeZ+YRJ4b2HYimBhPilSYVhbRGFQJjdh24wqYeyOHmFmKhNh9FoIYUg1/GDuw+hgXlDWYJnHxGBAFbRgYiSkYOvflGAHM4ZgaxNwYLqhVGDT7TlgVdcfYHlBBmB5JtpfC2+oX+Z5bl+28wxfJuGHXg==",
          "dtype": "f4"
         }
        },
        {
         "line": {
          "cmax": 609580857281803700000,
          "cmin": -47443170274534490000,
          "color": {
           "bdata": "eDIu14+wit3H0R3eLOFj3s5jg95lpHne0+Ez3uGNQ92/lRBeiZXHXgDnMV8WsYZf3oW6X7fa818FGBlg+5A6YG46XmBFBYJgGAWWYNUqq2DNicFgJTrZYLRV8mBneQZhKJIUYTt6I2EuMjNh9rRDYf/2VGG55mZhTG15YXk2hmFl4o9he6eZYadxo2H3K61h8MC2YWkbwGFsJslhAc7RYR//2WEoqOFhybjoYWgi72Hi1/Rh/s35YWv7/WE9rABi3O8BYtnGAmKjFQNiBeQCYr9OAmJpVgFihPn/YQaJ/GHIYvhhmJDzYUAe7mGRGehhjpHhYWuW2mG1ONNhDYnLYRiYw2H4dbthdDKzYXjcqmFTgqJhSzGaYbb1kWHF2olhYuqBYXBadGFMVWVhJdFWYTfXSGHjbTthOpkuYX5aImHxsBZhoZkLYeMPAWHwGu5gkhXbYML+yGDyw7dgxVGnYGOUl2ACeIhgjtJzYBCrV2CGVjxgYLQhYBanB2DjKNxfm8upX6wlcF8Bxw1fpnWIXg==",
           "dtype": "f4"
          },
          "colorscale": [
           [
            0,
            "#440154"
           ],
           [
            0.1111111111111111,
            "#482878"
           ],
           [
            0.2222222222222222,
            "#3e4989"
           ],
           [
            0.3333333333333333,
            "#31688e"
           ],
           [
            0.4444444444444444,
            "#26828e"
           ],
           [
            0.5555555555555556,
            "#1f9e89"
           ],
           [
            0.6666666666666666,
            "#35b779"
           ],
           [
            0.7777777777777778,
            "#6ece58"
           ],
           [
            0.8888888888888888,
            "#b5de2b"
           ],
           [
            1,
            "#fde725"
           ]
          ],
          "showscale": false,
          "width": 4
         },
         "mode": "lines",
         "showlegend": false,
         "type": "scatter3d",
         "x": {
          "bdata": "AAAAALooDiy6KI4sFz3VLLooDi3osjEtFz1VLUbHeC26KI4t0e2fLeiysS0AeMMtFz3VLS4C5y1Gx/gtLkYFLrooDi5GCxcu0e0fLl3QKC7osjEudJU6LgB4Qy6LWkwuFz1VLqMfXi4uAmcuuuRvLkbHeC7p1IAuLkaFLnS3iS66KI4uAJqSLkYLly6LfJsu0e2fLhdfpC5d0Kguo0GtLuiysS4uJLYudJW6LroGvy4AeMMuRunHLotazC7Ry9AuFz3VLl2u2S6hH94u55DiLi0C5y5zc+suuOTvLv5V9C5Ex/guijj9LujUAC+LDQMvLkYFL9B+By90twkvFvALL7ooDi9cYRAv/5kSL6LSFC9FCxcv6EMZL4p8Gy8utR0v0O0fL3QmIi8WXyQvuZcmL1zQKC//CCsvokEtL0V6Ly/osjEvi+szLy4kNi/QXDgvdJU6LxbOPC+5Bj8vXD9BL/93Qy+isEUvRelHL+ghSi+LWkwvLpNOL9DLUC9zBFMvFj1VL7l1Vy9crlkv/+ZbLw==",
          "dtype": "f4"
         },
         "y": {
          "bdata": "4ziOQOM4jkDjOI5A4ziOQOM4jkDjOI5A4ziOQOM4jkDjOI5A4ziOQOM4jkDjOI5A4ziOQOM4jkDjOI5A4ziOQOM4jkDjOI5A4ziOQOM4jkDjOI5A4ziOQOM4jkDjOI5A4ziOQOM4jkDjOI5A4ziOQOM4jkDjOI5A4ziOQOM4jkDjOI5A4ziOQOM4jkDjOI5A4ziOQOM4jkDjOI5A4ziOQOM4jkDjOI5A4ziOQOM4jkDjOI5A4ziOQOM4jkDjOI5A4ziOQOM4jkDjOI5A4ziOQOM4jkDjOI5A4ziOQOM4jkDjOI5A4ziOQOM4jkDjOI5A4ziOQOM4jkDjOI5A4ziOQOM4jkDjOI5A4ziOQOM4jkDjOI5A4ziOQOM4jkDjOI5A4ziOQOM4jkDjOI5A4ziOQOM4jkDjOI5A4ziOQOM4jkDjOI5A4ziOQOM4jkDjOI5A4ziOQOM4jkDjOI5A4ziOQOM4jkDjOI5A4ziOQOM4jkDjOI5A4ziOQOM4jkDjOI5A4ziOQOM4jkDjOI5A4ziOQA==",
          "dtype": "f4"
         },
         "z": {
          "bdata": "eDIu14+wit3H0R3eLOFj3s5jg95lpHne0+Ez3uGNQ92/lRBeiZXHXgDnMV8WsYZf3oW6X7fa818FGBlg+5A6YG46XmBFBYJgGAWWYNUqq2DNicFgJTrZYLRV8mBneQZhKJIUYTt6I2EuMjNh9rRDYf/2VGG55mZhTG15YXk2hmFl4o9he6eZYadxo2H3K61h8MC2YWkbwGFsJslhAc7RYR//2WEoqOFhybjoYWgi72Hi1/Rh/s35YWv7/WE9rABi3O8BYtnGAmKjFQNiBeQCYr9OAmJpVgFihPn/YQaJ/GHIYvhhmJDzYUAe7mGRGehhjpHhYWuW2mG1ONNhDYnLYRiYw2H4dbthdDKzYXjcqmFTgqJhSzGaYbb1kWHF2olhYuqBYXBadGFMVWVhJdFWYTfXSGHjbTthOpkuYX5aImHxsBZhoZkLYeMPAWHwGu5gkhXbYML+yGDyw7dgxVGnYGOUl2ACeIhgjtJzYBCrV2CGVjxgYLQhYBanB2DjKNxfm8upX6wlcF8Bxw1fpnWIXg==",
          "dtype": "f4"
         }
        },
        {
         "line": {
          "cmax": 609580857281803700000,
          "cmin": -47443170274534490000,
          "color": {
           "bdata": "7hMp1zAriN2xSxnef81a3h5ed94hnGHeP3sQ3oB5glqRblRe0Uf0Xq+MTl/3m5hflHLQX1YTB2DDkyhgFH5MYA6ocmAPfY1gO7eiYCAJuWCKftBgcyjpYB6NAWFHMg9h14odYU+aLGE8YDxhTddMYV30XWHdpm9hzeyAYXc4imE3p5NhjSedYdWmpmGqEbBhF1S5YXNawmEqEcthrWXTYSFG22EcouJhTGrpYQaR72ECCvVhtcr5YV3K/WHqgABi+7UBYsWCAmJAzgJib58CYmoQAmK4IQFi8an/YV5Z/GGQWPhhmLDzYVds7mGcmOhhWUPiYZ9722HYUNRhptLMYa0QxWEeGr1h9/20YYjKrGGTjaRhA1ScYe0plGFlGoxhXi+EYVvjeGHQ0WlhvTZbYSEcTWF2iT9h3IMyYc0NJmHMJxphJNAOYXYDBGFaefNgxerfYF5MzWCXjbtgx5yqYI9nmmBZ24pgfMt3YGnpWmBR7j5gyLkjYBYuCWCRYN5fKVGrX7QOcl+8xw5fx06JXg==",
           "dtype": "f4"
          },
          "colorscale": [
           [
            0,
            "#440154"
           ],
           [
            0.1111111111111111,
            "#482878"
           ],
           [
            0.2222222222222222,
            "#3e4989"
           ],
           [
            0.3333333333333333,
            "#31688e"
           ],
           [
            0.4444444444444444,
            "#26828e"
           ],
           [
            0.5555555555555556,
            "#1f9e89"
           ],
           [
            0.6666666666666666,
            "#35b779"
           ],
           [
            0.7777777777777778,
            "#6ece58"
           ],
           [
            0.8888888888888888,
            "#b5de2b"
           ],
           [
            1,
            "#fde725"
           ]
          ],
          "showscale": false,
          "width": 4
         },
         "mode": "lines",
         "showlegend": false,
         "type": "scatter3d",
         "x": {
          "bdata": "AAAAALooDiy6KI4sFz3VLLooDi3osjEtFz1VLUbHeC26KI4t0e2fLeiysS0AeMMtFz3VLS4C5y1Gx/gtLkYFLrooDi5GCxcu0e0fLl3QKC7osjEudJU6LgB4Qy6LWkwuFz1VLqMfXi4uAmcuuuRvLkbHeC7p1IAuLkaFLnS3iS66KI4uAJqSLkYLly6LfJsu0e2fLhdfpC5d0Kguo0GtLuiysS4uJLYudJW6LroGvy4AeMMuRunHLotazC7Ry9AuFz3VLl2u2S6hH94u55DiLi0C5y5zc+suuOTvLv5V9C5Ex/guijj9LujUAC+LDQMvLkYFL9B+By90twkvFvALL7ooDi9cYRAv/5kSL6LSFC9FCxcv6EMZL4p8Gy8utR0v0O0fL3QmIi8WXyQvuZcmL1zQKC//CCsvokEtL0V6Ly/osjEvi+szLy4kNi/QXDgvdJU6LxbOPC+5Bj8vXD9BL/93Qy+isEUvRelHL+ghSi+LWkwvLpNOL9DLUC9zBFMvFj1VL7l1Vy9crlkv/+ZbLw==",
          "dtype": "f4"
         },
         "y": {
          "bdata": "1q+UQNavlEDWr5RA1q+UQNavlEDWr5RA1q+UQNavlEDWr5RA1q+UQNavlEDWr5RA1q+UQNavlEDWr5RA1q+UQNavlEDWr5RA1q+UQNavlEDWr5RA1q+UQNavlEDWr5RA1q+UQNavlEDWr5RA1q+UQNavlEDWr5RA1q+UQNavlEDWr5RA1q+UQNavlEDWr5RA1q+UQNavlEDWr5RA1q+UQNavlEDWr5RA1q+UQNavlEDWr5RA1q+UQNavlEDWr5RA1q+UQNavlEDWr5RA1q+UQNavlEDWr5RA1q+UQNavlEDWr5RA1q+UQNavlEDWr5RA1q+UQNavlEDWr5RA1q+UQNavlEDWr5RA1q+UQNavlEDWr5RA1q+UQNavlEDWr5RA1q+UQNavlEDWr5RA1q+UQNavlEDWr5RA1q+UQNavlEDWr5RA1q+UQNavlEDWr5RA1q+UQNavlEDWr5RA1q+UQNavlEDWr5RA1q+UQNavlEDWr5RA1q+UQNavlEDWr5RA1q+UQNavlEDWr5RA1q+UQA==",
          "dtype": "f4"
         },
         "z": {
          "bdata": "7hMp1zAriN2xSxnef81a3h5ed94hnGHeP3sQ3oB5glqRblRe0Uf0Xq+MTl/3m5hflHLQX1YTB2DDkyhgFH5MYA6ocmAPfY1gO7eiYCAJuWCKftBgcyjpYB6NAWFHMg9h14odYU+aLGE8YDxhTddMYV30XWHdpm9hzeyAYXc4imE3p5NhjSedYdWmpmGqEbBhF1S5YXNawmEqEcthrWXTYSFG22EcouJhTGrpYQaR72ECCvVhtcr5YV3K/WHqgABi+7UBYsWCAmJAzgJib58CYmoQAmK4IQFi8an/YV5Z/GGQWPhhmLDzYVds7mGcmOhhWUPiYZ9722HYUNRhptLMYa0QxWEeGr1h9/20YYjKrGGTjaRhA1ScYe0plGFlGoxhXi+EYVvjeGHQ0WlhvTZbYSEcTWF2iT9h3IMyYc0NJmHMJxphJNAOYXYDBGFaefNgxerfYF5MzWCXjbtgx5yqYI9nmmBZ24pgfMt3YGnpWmBR7j5gyLkjYBYuCWCRYN5fKVGrX7QOcl+8xw5fx06JXg==",
          "dtype": "f4"
         }
        },
        {
         "line": {
          "cmax": 609580857281803700000,
          "cmin": -47443170274534490000,
          "color": {
           "bdata": "eeEk1xRshd1WgxTehFhR3gqCZ95hJUneCIzZ3RXtS10X+Itef0QQX8rNal8MOqpfLfTlX+zyE2AWtzdg5/9dYK1Lg2A/rJhgrhevYC6NxmBIEd9g+q34YB24CWGZsRdhUUgmYR1+NWGYUUVhGL1VYei1ZmFjLHhhewaFYQYfjmHRUZdhtI6gYYzEqWFn4bJh09K7YZWGxGGQ6sxhaO3UYYd+3GGZjuNhRw/qYcbz72GZMPVh2Lv5YU+N/WEmTwBi+nQBYqA2AmKGfQJi908CYnDFAWJ13gBiLjn/YUsE/GGtJPhhvKLzYY2I7mER4uhhQLziYSQl3GEuK9Vh89zNYSlJxmEtfr5hL4q2Yc96rmFNXaZhEz6eYe4olmHCKI5hbUeGYZIbfWEvB25hzl5fYRotUWFmekNhuUw2YamnKWHOjB1hqPsRYfzxBmHd1/hgacjkYA+p0WA2a79gEP+tYOBTnWBlWI1gvPZ7YDZXXmBFsUFgJ+UlYEjVCmDhzOBfEQCtXys2dF/j9Q9fyGmKXg==",
           "dtype": "f4"
          },
          "colorscale": [
           [
            0,
            "#440154"
           ],
           [
            0.1111111111111111,
            "#482878"
           ],
           [
            0.2222222222222222,
            "#3e4989"
           ],
           [
            0.3333333333333333,
            "#31688e"
           ],
           [
            0.4444444444444444,
            "#26828e"
           ],
           [
            0.5555555555555556,
            "#1f9e89"
           ],
           [
            0.6666666666666666,
            "#35b779"
           ],
           [
            0.7777777777777778,
            "#6ece58"
           ],
           [
            0.8888888888888888,
            "#b5de2b"
           ],
           [
            1,
            "#fde725"
           ]
          ],
          "showscale": false,
          "width": 4
         },
         "mode": "lines",
         "showlegend": false,
         "type": "scatter3d",
         "x": {
          "bdata": "AAAAALooDiy6KI4sFz3VLLooDi3osjEtFz1VLUbHeC26KI4t0e2fLeiysS0AeMMtFz3VLS4C5y1Gx/gtLkYFLrooDi5GCxcu0e0fLl3QKC7osjEudJU6LgB4Qy6LWkwuFz1VLqMfXi4uAmcuuuRvLkbHeC7p1IAuLkaFLnS3iS66KI4uAJqSLkYLly6LfJsu0e2fLhdfpC5d0Kguo0GtLuiysS4uJLYudJW6LroGvy4AeMMuRunHLotazC7Ry9AuFz3VLl2u2S6hH94u55DiLi0C5y5zc+suuOTvLv5V9C5Ex/guijj9LujUAC+LDQMvLkYFL9B+By90twkvFvALL7ooDi9cYRAv/5kSL6LSFC9FCxcv6EMZL4p8Gy8utR0v0O0fL3QmIi8WXyQvuZcmL1zQKC//CCsvokEtL0V6Ly/osjEvi+szLy4kNi/QXDgvdJU6LxbOPC+5Bj8vXD9BL/93Qy+isEUvRelHL+ghSi+LWkwvLpNOL9DLUC9zBFMvFj1VL7l1Vy9crlkv/+ZbLw==",
          "dtype": "f4"
         },
         "y": {
          "bdata": "yiabQMomm0DKJptAyiabQMomm0DKJptAyiabQMomm0DKJptAyiabQMomm0DKJptAyiabQMomm0DKJptAyiabQMomm0DKJptAyiabQMomm0DKJptAyiabQMomm0DKJptAyiabQMomm0DKJptAyiabQMomm0DKJptAyiabQMomm0DKJptAyiabQMomm0DKJptAyiabQMomm0DKJptAyiabQMomm0DKJptAyiabQMomm0DKJptAyiabQMomm0DKJptAyiabQMomm0DKJptAyiabQMomm0DKJptAyiabQMomm0DKJptAyiabQMomm0DKJptAyiabQMomm0DKJptAyiabQMomm0DKJptAyiabQMomm0DKJptAyiabQMomm0DKJptAyiabQMomm0DKJptAyiabQMomm0DKJptAyiabQMomm0DKJptAyiabQMomm0DKJptAyiabQMomm0DKJptAyiabQMomm0DKJptAyiabQMomm0DKJptAyiabQMomm0DKJptAyiabQMomm0DKJptAyiabQA==",
          "dtype": "f4"
         },
         "z": {
          "bdata": "eeEk1xRshd1WgxTehFhR3gqCZ95hJUneCIzZ3RXtS10X+Itef0QQX8rNal8MOqpfLfTlX+zyE2AWtzdg5/9dYK1Lg2A/rJhgrhevYC6NxmBIEd9g+q34YB24CWGZsRdhUUgmYR1+NWGYUUVhGL1VYei1ZmFjLHhhewaFYQYfjmHRUZdhtI6gYYzEqWFn4bJh09K7YZWGxGGQ6sxhaO3UYYd+3GGZjuNhRw/qYcbz72GZMPVh2Lv5YU+N/WEmTwBi+nQBYqA2AmKGfQJi908CYnDFAWJ13gBiLjn/YUsE/GGtJPhhvKLzYY2I7mER4uhhQLziYSQl3GEuK9Vh89zNYSlJxmEtfr5hL4q2Yc96rmFNXaZhEz6eYe4olmHCKI5hbUeGYZIbfWEvB25hzl5fYRotUWFmekNhuUw2YamnKWHOjB1hqPsRYfzxBmHd1/hgacjkYA+p0WA2a79gEP+tYOBTnWBlWI1gvPZ7YDZXXmBFsUFgJ+UlYEjVCmDhzOBfEQCtXys2dF/j9Q9fyGmKXg==",
          "dtype": "f4"
         }
        },
        {
         "line": {
          "cmax": 609580857281803700000,
          "cmin": -47443170274534490000,
          "color": {
           "bdata": "qVch1zB5gt0SgQ/ep49H3v5EV95GVDDeHa6R3djXyV1Pha1eASomX85Ug189jLtf0wz7X/2NIGCjhEZg9BlvYEIGjWBRlaNgPym7YCe602B1Re1gJucDYb+tEWFS+R9hh8wuYZYnPmEiCE5hIGheYS49b2FTPIBhNwSJYXPqkWE+4pphwNyjYT7KrGFCmrVh0ju+YRmexmFZsM5hhmLWYS6l3WEYauRh2KPqYYhG8GFaR/VhFJ35Yf8//WHnFABi/SoBYtzgAWI+IgJix/QBYn1tAWLhjABi06j+YaCM+2Eby/dhI2zzYSB57mEo/ehhWgTjYcub3GHz0NVhirHOYVFLx2Hiq79hl+C3YWv2r2EF+qdhXPefYdz5l2EiDJBh5zeIYQOGgGGK/HFhwk5jYekNVWHwQkdhwfQ5Yc4nLWG/3iBhJRoVYefYCWGPMP5gP6jpYHAO1mCcVsNg0nKxYA9UoGCR6o9gVyaAYGTuYWDUmkRgRjMoYKuaDGCja+NfXdeuXzabdl9lUBFfNMOLXg==",
           "dtype": "f4"
          },
          "colorscale": [
           [
            0,
            "#440154"
           ],
           [
            0.1111111111111111,
            "#482878"
           ],
           [
            0.2222222222222222,
            "#3e4989"
           ],
           [
            0.3333333333333333,
            "#31688e"
           ],
           [
            0.4444444444444444,
            "#26828e"
           ],
           [
            0.5555555555555556,
            "#1f9e89"
           ],
           [
            0.6666666666666666,
            "#35b779"
           ],
           [
            0.7777777777777778,
            "#6ece58"
           ],
           [
            0.8888888888888888,
            "#b5de2b"
           ],
           [
            1,
            "#fde725"
           ]
          ],
          "showscale": false,
          "width": 4
         },
         "mode": "lines",
         "showlegend": false,
         "type": "scatter3d",
         "x": {
          "bdata": "AAAAALooDiy6KI4sFz3VLLooDi3osjEtFz1VLUbHeC26KI4t0e2fLeiysS0AeMMtFz3VLS4C5y1Gx/gtLkYFLrooDi5GCxcu0e0fLl3QKC7osjEudJU6LgB4Qy6LWkwuFz1VLqMfXi4uAmcuuuRvLkbHeC7p1IAuLkaFLnS3iS66KI4uAJqSLkYLly6LfJsu0e2fLhdfpC5d0Kguo0GtLuiysS4uJLYudJW6LroGvy4AeMMuRunHLotazC7Ry9AuFz3VLl2u2S6hH94u55DiLi0C5y5zc+suuOTvLv5V9C5Ex/guijj9LujUAC+LDQMvLkYFL9B+By90twkvFvALL7ooDi9cYRAv/5kSL6LSFC9FCxcv6EMZL4p8Gy8utR0v0O0fL3QmIi8WXyQvuZcmL1zQKC//CCsvokEtL0V6Ly/osjEvi+szLy4kNi/QXDgvdJU6LxbOPC+5Bj8vXD9BL/93Qy+isEUvRelHL+ghSi+LWkwvLpNOL9DLUC9zBFMvFj1VL7l1Vy9crlkv/+ZbLw==",
          "dtype": "f4"
         },
         "y": {
          "bdata": "vZ2hQL2doUC9naFAvZ2hQL2doUC9naFAvZ2hQL2doUC9naFAvZ2hQL2doUC9naFAvZ2hQL2doUC9naFAvZ2hQL2doUC9naFAvZ2hQL2doUC9naFAvZ2hQL2doUC9naFAvZ2hQL2doUC9naFAvZ2hQL2doUC9naFAvZ2hQL2doUC9naFAvZ2hQL2doUC9naFAvZ2hQL2doUC9naFAvZ2hQL2doUC9naFAvZ2hQL2doUC9naFAvZ2hQL2doUC9naFAvZ2hQL2doUC9naFAvZ2hQL2doUC9naFAvZ2hQL2doUC9naFAvZ2hQL2doUC9naFAvZ2hQL2doUC9naFAvZ2hQL2doUC9naFAvZ2hQL2doUC9naFAvZ2hQL2doUC9naFAvZ2hQL2doUC9naFAvZ2hQL2doUC9naFAvZ2hQL2doUC9naFAvZ2hQL2doUC9naFAvZ2hQL2doUC9naFAvZ2hQL2doUC9naFAvZ2hQL2doUC9naFAvZ2hQL2doUC9naFAvZ2hQL2doUC9naFAvZ2hQA==",
          "dtype": "f4"
         },
         "z": {
          "bdata": "qVch1zB5gt0SgQ/ep49H3v5EV95GVDDeHa6R3djXyV1Pha1eASomX85Ug189jLtf0wz7X/2NIGCjhEZg9BlvYEIGjWBRlaNgPym7YCe602B1Re1gJucDYb+tEWFS+R9hh8wuYZYnPmEiCE5hIGheYS49b2FTPIBhNwSJYXPqkWE+4pphwNyjYT7KrGFCmrVh0ju+YRmexmFZsM5hhmLWYS6l3WEYauRh2KPqYYhG8GFaR/VhFJ35Yf8//WHnFABi/SoBYtzgAWI+IgJix/QBYn1tAWLhjABi06j+YaCM+2Eby/dhI2zzYSB57mEo/ehhWgTjYcub3GHz0NVhirHOYVFLx2Hiq79hl+C3YWv2r2EF+qdhXPefYdz5l2EiDJBh5zeIYQOGgGGK/HFhwk5jYekNVWHwQkdhwfQ5Yc4nLWG/3iBhJRoVYefYCWGPMP5gP6jpYHAO1mCcVsNg0nKxYA9UoGCR6o9gVyaAYGTuYWDUmkRgRjMoYKuaDGCja+NfXdeuXzabdl9lUBFfNMOLXg==",
          "dtype": "f4"
         }
        },
        {
         "line": {
          "cmax": 609580857281803700000,
          "cmin": -47443170274534490000,
          "color": {
           "bdata": "ozoe1+evft1ZTArexH493mm2Rt6wOhfewAIT3RzGFl472M5eetI7XxIQkV+uk8xfhd8HYHzmLGAQ/1RgqM9/YOmFlmC5Oq5gwO7GYBuT4GBsHvtgiEYLYeBvGWFaCyhhcxk3YbiYRmHFhVZhL9pmYeeLd2GSRoRhnuaMYTyblWHKWJ5huxGnYbi3r2G/O7hhPI7AYc2fyGEJYdBhI8PXYeC33mEIMuVhKyXrYTCG8GELS/VhGGv5YSnf/GFTof9hqtYAYkeAAWKHuwFiXo0BYmoIAWI3LQBiVvr9Yb70+mE9T/dhLBHzYUlD7mHw7+hhayLjYfPm3GENStZhoFjPYY4fyGGZq8BhZgm5YUdFsWFBa6lh2YahYQqjmWEqypFhvgWKYYVegmGluHVh4QtnYWPCWGGg5UphQn09YYCOMGH5HCRhPCoYYT22DGFYvwFh8oTuYPV22mA0SsdguPK0YDhjo2B9jZJg4GKCYK6oZWAWpkdghKAqYLZ7DmCWOeZfJdWwX5c7eV9k1RJfCleNXg==",
           "dtype": "f4"
          },
          "colorscale": [
           [
            0,
            "#440154"
           ],
           [
            0.1111111111111111,
            "#482878"
           ],
           [
            0.2222222222222222,
            "#3e4989"
           ],
           [
            0.3333333333333333,
            "#31688e"
           ],
           [
            0.4444444444444444,
            "#26828e"
           ],
           [
            0.5555555555555556,
            "#1f9e89"
           ],
           [
            0.6666666666666666,
            "#35b779"
           ],
           [
            0.7777777777777778,
            "#6ece58"
           ],
           [
            0.8888888888888888,
            "#b5de2b"
           ],
           [
            1,
            "#fde725"
           ]
          ],
          "showscale": false,
          "width": 4
         },
         "mode": "lines",
         "showlegend": false,
         "type": "scatter3d",
         "x": {
          "bdata": "AAAAALooDiy6KI4sFz3VLLooDi3osjEtFz1VLUbHeC26KI4t0e2fLeiysS0AeMMtFz3VLS4C5y1Gx/gtLkYFLrooDi5GCxcu0e0fLl3QKC7osjEudJU6LgB4Qy6LWkwuFz1VLqMfXi4uAmcuuuRvLkbHeC7p1IAuLkaFLnS3iS66KI4uAJqSLkYLly6LfJsu0e2fLhdfpC5d0Kguo0GtLuiysS4uJLYudJW6LroGvy4AeMMuRunHLotazC7Ry9AuFz3VLl2u2S6hH94u55DiLi0C5y5zc+suuOTvLv5V9C5Ex/guijj9LujUAC+LDQMvLkYFL9B+By90twkvFvALL7ooDi9cYRAv/5kSL6LSFC9FCxcv6EMZL4p8Gy8utR0v0O0fL3QmIi8WXyQvuZcmL1zQKC//CCsvokEtL0V6Ly/osjEvi+szLy4kNi/QXDgvdJU6LxbOPC+5Bj8vXD9BL/93Qy+isEUvRelHL+ghSi+LWkwvLpNOL9DLUC9zBFMvFj1VL7l1Vy9crlkv/+ZbLw==",
          "dtype": "f4"
         },
         "y": {
          "bdata": "sBSoQLAUqECwFKhAsBSoQLAUqECwFKhAsBSoQLAUqECwFKhAsBSoQLAUqECwFKhAsBSoQLAUqECwFKhAsBSoQLAUqECwFKhAsBSoQLAUqECwFKhAsBSoQLAUqECwFKhAsBSoQLAUqECwFKhAsBSoQLAUqECwFKhAsBSoQLAUqECwFKhAsBSoQLAUqECwFKhAsBSoQLAUqECwFKhAsBSoQLAUqECwFKhAsBSoQLAUqECwFKhAsBSoQLAUqECwFKhAsBSoQLAUqECwFKhAsBSoQLAUqECwFKhAsBSoQLAUqECwFKhAsBSoQLAUqECwFKhAsBSoQLAUqECwFKhAsBSoQLAUqECwFKhAsBSoQLAUqECwFKhAsBSoQLAUqECwFKhAsBSoQLAUqECwFKhAsBSoQLAUqECwFKhAsBSoQLAUqECwFKhAsBSoQLAUqECwFKhAsBSoQLAUqECwFKhAsBSoQLAUqECwFKhAsBSoQLAUqECwFKhAsBSoQLAUqECwFKhAsBSoQLAUqECwFKhAsBSoQA==",
          "dtype": "f4"
         },
         "z": {
          "bdata": "ozoe1+evft1ZTArexH493mm2Rt6wOhfewAIT3RzGFl472M5eetI7XxIQkV+uk8xfhd8HYHzmLGAQ/1RgqM9/YOmFlmC5Oq5gwO7GYBuT4GBsHvtgiEYLYeBvGWFaCyhhcxk3YbiYRmHFhVZhL9pmYeeLd2GSRoRhnuaMYTyblWHKWJ5huxGnYbi3r2G/O7hhPI7AYc2fyGEJYdBhI8PXYeC33mEIMuVhKyXrYTCG8GELS/VhGGv5YSnf/GFTof9hqtYAYkeAAWKHuwFiXo0BYmoIAWI3LQBiVvr9Yb70+mE9T/dhLBHzYUlD7mHw7+hhayLjYfPm3GENStZhoFjPYY4fyGGZq8BhZgm5YUdFsWFBa6lh2YahYQqjmWEqypFhvgWKYYVegmGluHVh4QtnYWPCWGGg5UphQn09YYCOMGH5HCRhPCoYYT22DGFYvwFh8oTuYPV22mA0SsdguPK0YDhjo2B9jZJg4GKCYK6oZWAWpkdghKAqYLZ7DmCWOeZfJdWwX5c7eV9k1RJfCleNXg==",
          "dtype": "f4"
         }
        },
        {
         "line": {
          "cmax": 609580857281803700000,
          "cmin": -47443170274534490000,
          "color": {
           "bdata": "BFgb108aeN276wTeUTAz3tjjNd6bz/vd0XsS2pt7SF6i6+9ekzxRX+WYnl+iUd1fpQYSYE/+OGARKWNgMxKIYKfMn2Denrhg5GrSYCIb7WC2TwRh3XYSYVsAIWGl6S9hBTE/YWzTTmFuzF5hPxVvYfCjf2HONYhhfa6QYQ4ymWEHtqFhEi6qYTyNsmHjxbph6cnCYUuLymH7+9FhYA7ZYXK132EC5eVhpJHrYQGx8GHNOfVhBST5Yexo/GENA/9hN3cAYkoUAWLzSAFihRkBYk+WAGLPf/9hRi/9YfQ++mEZtPZhjZXyYXfr7WGAv+hhIRzjYbYM3WEHndZh+djPYcHMyGFChMFhdgu6Yf1tsmFVt6phcfKiYecpm2G8Z5NhOLWLYfgahGGJQXlh9ZpqYRROXGHpZE5hnudAYTfcM2EmRydh6SobYXWID2EuXwRhFlrzYNrd3mBAQctgFXq4YOt8pmAgPZVgda2EYCaAaWAtzkpgGSktYKJ1EGDzMulf6fayXx0UfF90ghRfDSGPXg==",
           "dtype": "f4"
          },
          "colorscale": [
           [
            0,
            "#440154"
           ],
           [
            0.1111111111111111,
            "#482878"
           ],
           [
            0.2222222222222222,
            "#3e4989"
           ],
           [
            0.3333333333333333,
            "#31688e"
           ],
           [
            0.4444444444444444,
            "#26828e"
           ],
           [
            0.5555555555555556,
            "#1f9e89"
           ],
           [
            0.6666666666666666,
            "#35b779"
           ],
           [
            0.7777777777777778,
            "#6ece58"
           ],
           [
            0.8888888888888888,
            "#b5de2b"
           ],
           [
            1,
            "#fde725"
           ]
          ],
          "showscale": false,
          "width": 4
         },
         "mode": "lines",
         "showlegend": false,
         "type": "scatter3d",
         "x": {
          "bdata": "AAAAALooDiy6KI4sFz3VLLooDi3osjEtFz1VLUbHeC26KI4t0e2fLeiysS0AeMMtFz3VLS4C5y1Gx/gtLkYFLrooDi5GCxcu0e0fLl3QKC7osjEudJU6LgB4Qy6LWkwuFz1VLqMfXi4uAmcuuuRvLkbHeC7p1IAuLkaFLnS3iS66KI4uAJqSLkYLly6LfJsu0e2fLhdfpC5d0Kguo0GtLuiysS4uJLYudJW6LroGvy4AeMMuRunHLotazC7Ry9AuFz3VLl2u2S6hH94u55DiLi0C5y5zc+suuOTvLv5V9C5Ex/guijj9LujUAC+LDQMvLkYFL9B+By90twkvFvALL7ooDi9cYRAv/5kSL6LSFC9FCxcv6EMZL4p8Gy8utR0v0O0fL3QmIi8WXyQvuZcmL1zQKC//CCsvokEtL0V6Ly/osjEvi+szLy4kNi/QXDgvdJU6LxbOPC+5Bj8vXD9BL/93Qy+isEUvRelHL+ghSi+LWkwvLpNOL9DLUC9zBFMvFj1VL7l1Vy9crlkv/+ZbLw==",
          "dtype": "f4"
         },
         "y": {
          "bdata": "o4uuQKOLrkCji65Ao4uuQKOLrkCji65Ao4uuQKOLrkCji65Ao4uuQKOLrkCji65Ao4uuQKOLrkCji65Ao4uuQKOLrkCji65Ao4uuQKOLrkCji65Ao4uuQKOLrkCji65Ao4uuQKOLrkCji65Ao4uuQKOLrkCji65Ao4uuQKOLrkCji65Ao4uuQKOLrkCji65Ao4uuQKOLrkCji65Ao4uuQKOLrkCji65Ao4uuQKOLrkCji65Ao4uuQKOLrkCji65Ao4uuQKOLrkCji65Ao4uuQKOLrkCji65Ao4uuQKOLrkCji65Ao4uuQKOLrkCji65Ao4uuQKOLrkCji65Ao4uuQKOLrkCji65Ao4uuQKOLrkCji65Ao4uuQKOLrkCji65Ao4uuQKOLrkCji65Ao4uuQKOLrkCji65Ao4uuQKOLrkCji65Ao4uuQKOLrkCji65Ao4uuQKOLrkCji65Ao4uuQKOLrkCji65Ao4uuQKOLrkCji65Ao4uuQKOLrkCji65Ao4uuQKOLrkCji65Ao4uuQA==",
          "dtype": "f4"
         },
         "z": {
          "bdata": "BFgb108aeN276wTeUTAz3tjjNd6bz/vd0XsS2pt7SF6i6+9ekzxRX+WYnl+iUd1fpQYSYE/+OGARKWNgMxKIYKfMn2Denrhg5GrSYCIb7WC2TwRh3XYSYVsAIWGl6S9hBTE/YWzTTmFuzF5hPxVvYfCjf2HONYhhfa6QYQ4ymWEHtqFhEi6qYTyNsmHjxbph6cnCYUuLymH7+9FhYA7ZYXK132EC5eVhpJHrYQGx8GHNOfVhBST5Yexo/GENA/9hN3cAYkoUAWLzSAFihRkBYk+WAGLPf/9hRi/9YfQ++mEZtPZhjZXyYXfr7WGAv+hhIRzjYbYM3WEHndZh+djPYcHMyGFChMFhdgu6Yf1tsmFVt6phcfKiYecpm2G8Z5NhOLWLYfgahGGJQXlh9ZpqYRROXGHpZE5hnudAYTfcM2EmRydh6SobYXWID2EuXwRhFlrzYNrd3mBAQctgFXq4YOt8pmAgPZVgda2EYCaAaWAtzkpgGSktYKJ1EGDzMulf6fayXx0UfF90ghRfDSGPXg==",
          "dtype": "f4"
         }
        },
        {
         "line": {
          "cmax": 609580857281803700000,
          "cmin": -47443170274534490000,
          "color": {
           "bdata": "yIcY14I6cd1kyv7dtK0o3nvZJN5g08jd4JQOXWn/eV4iXQhf7WZmX1Tvq18Yx+1f3fwbYCXXRGDmBHFgkA2QYEjcqGDZw8JgE6DdYNZU+WC25QphuXkZYdVgKGHklTdhDBVHYZHZVmEG3mZhGRt3YZLDg2HzCoxhs1yUYcuvnGG/+qRhgzKtYW5LtWFFOb1hUO/EYehgzGFPgdNhPETaYc2d4GHcguZh6OjrYYPG8GEcE/VhPcf4Ycfc+2GNTv5heQwAYs+cAGKRygBieJkAYqIXAGIzi/5hYEn8YX1t+WFs/PVhjvzxYXN17WEPcOhhF/biYSES3WESz9ZhDTjQYXNYyWFzO8JhTOy6YfF1s2FW46th6D6kYduSnGHO6JRh00mNYV6+hWE8nHxh/f9tYRu0X2HhwlFhFzVEYW0RN2EOXSphYxseYU1OEmEn9gZh5SP4YB4/42B/N89gxwS8YDedqWDW9Zdg1QKHYChvbWB4Dk5gVMkvYKKFEmCbU+xf5Dm1X/4gf1/dVBZfxxyRXg==",
           "dtype": "f4"
          },
          "colorscale": [
           [
            0,
            "#440154"
           ],
           [
            0.1111111111111111,
            "#482878"
           ],
           [
            0.2222222222222222,
            "#3e4989"
           ],
           [
            0.3333333333333333,
            "#31688e"
           ],
           [
            0.4444444444444444,
            "#26828e"
           ],
           [
            0.5555555555555556,
            "#1f9e89"
           ],
           [
            0.6666666666666666,
            "#35b779"
           ],
           [
            0.7777777777777778,
            "#6ece58"
           ],
           [
            0.8888888888888888,
            "#b5de2b"
           ],
           [
            1,
            "#fde725"
           ]
          ],
          "showscale": false,
          "width": 4
         },
         "mode": "lines",
         "showlegend": false,
         "type": "scatter3d",
         "x": {
          "bdata": "AAAAALooDiy6KI4sFz3VLLooDi3osjEtFz1VLUbHeC26KI4t0e2fLeiysS0AeMMtFz3VLS4C5y1Gx/gtLkYFLrooDi5GCxcu0e0fLl3QKC7osjEudJU6LgB4Qy6LWkwuFz1VLqMfXi4uAmcuuuRvLkbHeC7p1IAuLkaFLnS3iS66KI4uAJqSLkYLly6LfJsu0e2fLhdfpC5d0Kguo0GtLuiysS4uJLYudJW6LroGvy4AeMMuRunHLotazC7Ry9AuFz3VLl2u2S6hH94u55DiLi0C5y5zc+suuOTvLv5V9C5Ex/guijj9LujUAC+LDQMvLkYFL9B+By90twkvFvALL7ooDi9cYRAv/5kSL6LSFC9FCxcv6EMZL4p8Gy8utR0v0O0fL3QmIi8WXyQvuZcmL1zQKC//CCsvokEtL0V6Ly/osjEvi+szLy4kNi/QXDgvdJU6LxbOPC+5Bj8vXD9BL/93Qy+isEUvRelHL+ghSi+LWkwvLpNOL9DLUC9zBFMvFj1VL7l1Vy9crlkv/+ZbLw==",
          "dtype": "f4"
         },
         "y": {
          "bdata": "lgK1QJYCtUCWArVAlgK1QJYCtUCWArVAlgK1QJYCtUCWArVAlgK1QJYCtUCWArVAlgK1QJYCtUCWArVAlgK1QJYCtUCWArVAlgK1QJYCtUCWArVAlgK1QJYCtUCWArVAlgK1QJYCtUCWArVAlgK1QJYCtUCWArVAlgK1QJYCtUCWArVAlgK1QJYCtUCWArVAlgK1QJYCtUCWArVAlgK1QJYCtUCWArVAlgK1QJYCtUCWArVAlgK1QJYCtUCWArVAlgK1QJYCtUCWArVAlgK1QJYCtUCWArVAlgK1QJYCtUCWArVAlgK1QJYCtUCWArVAlgK1QJYCtUCWArVAlgK1QJYCtUCWArVAlgK1QJYCtUCWArVAlgK1QJYCtUCWArVAlgK1QJYCtUCWArVAlgK1QJYCtUCWArVAlgK1QJYCtUCWArVAlgK1QJYCtUCWArVAlgK1QJYCtUCWArVAlgK1QJYCtUCWArVAlgK1QJYCtUCWArVAlgK1QJYCtUCWArVAlgK1QJYCtUCWArVAlgK1QA==",
          "dtype": "f4"
         },
         "z": {
          "bdata": "yIcY14I6cd1kyv7dtK0o3nvZJN5g08jd4JQOXWn/eV4iXQhf7WZmX1Tvq18Yx+1f3fwbYCXXRGDmBHFgkA2QYEjcqGDZw8JgE6DdYNZU+WC25QphuXkZYdVgKGHklTdhDBVHYZHZVmEG3mZhGRt3YZLDg2HzCoxhs1yUYcuvnGG/+qRhgzKtYW5LtWFFOb1hUO/EYehgzGFPgdNhPETaYc2d4GHcguZh6OjrYYPG8GEcE/VhPcf4Ycfc+2GNTv5heQwAYs+cAGKRygBieJkAYqIXAGIzi/5hYEn8YX1t+WFs/PVhjvzxYXN17WEPcOhhF/biYSES3WESz9ZhDTjQYXNYyWFzO8JhTOy6YfF1s2FW46th6D6kYduSnGHO6JRh00mNYV6+hWE8nHxh/f9tYRu0X2HhwlFhFzVEYW0RN2EOXSphYxseYU1OEmEn9gZh5SP4YB4/42B/N89gxwS8YDedqWDW9Zdg1QKHYChvbWB4Dk5gVMkvYKKFEmCbU+xf5Dm1X/4gf1/dVBZfxxyRXg==",
          "dtype": "f4"
         }
        },
        {
         "line": {
          "cmax": 609580857281803700000,
          "cmin": -47443170274534490000,
          "color": {
           "bdata": "QqwV168Yat06fPPdhv8d3nyiE94vmpXdILKPXXWilV6Vnxhf3E97Xz8TuV+39P1f5sIlYDpyUGBilH5gDtuXYDm2sWBfq8xgQZDoYDahAmFpUhFhZlAgYbOSL2GbET9hE8dOYcesXmEuvG5hie1+YZ+bh2Hmxo9hNPKXYVoVoGHpJ6hh/h+wYUPzt2HUlr9hUv/GYYIhzmHz8dRhlmXbYbNx4WE/DOdhqyvsYWjH8GGd1/RheVX4YWI7+2GUhP1hsS3/YUsaAGLtQABi3A0AYiga/2FXfv1hr0r7YayC+GHdKvVhI0nxYXTk7GEgBehhGbTiYR/73GFX5NZhGHrQYfvGyWFz1cJhGLC7YTRhtGEt86xh8m+lYUPhnWFxUJZhRcaOYQNLh2GjzH9hFz5xYbP2YmEgAVVhnWZHYWguOmFzXi1h7vogYaAGFWHbgglhG9/8YCiX52BLKdNgGo+/YJXArGBatJpgBmCJYIdwcWCVYlFgon0yYOyoFGBul+9fGpu3XxIvgV+tSRhfrkWTXg==",
           "dtype": "f4"
          },
          "colorscale": [
           [
            0,
            "#440154"
           ],
           [
            0.1111111111111111,
            "#482878"
           ],
           [
            0.2222222222222222,
            "#3e4989"
           ],
           [
            0.3333333333333333,
            "#31688e"
           ],
           [
            0.4444444444444444,
            "#26828e"
           ],
           [
            0.5555555555555556,
            "#1f9e89"
           ],
           [
            0.6666666666666666,
            "#35b779"
           ],
           [
            0.7777777777777778,
            "#6ece58"
           ],
           [
            0.8888888888888888,
            "#b5de2b"
           ],
           [
            1,
            "#fde725"
           ]
          ],
          "showscale": false,
          "width": 4
         },
         "mode": "lines",
         "showlegend": false,
         "type": "scatter3d",
         "x": {
          "bdata": "AAAAALooDiy6KI4sFz3VLLooDi3osjEtFz1VLUbHeC26KI4t0e2fLeiysS0AeMMtFz3VLS4C5y1Gx/gtLkYFLrooDi5GCxcu0e0fLl3QKC7osjEudJU6LgB4Qy6LWkwuFz1VLqMfXi4uAmcuuuRvLkbHeC7p1IAuLkaFLnS3iS66KI4uAJqSLkYLly6LfJsu0e2fLhdfpC5d0Kguo0GtLuiysS4uJLYudJW6LroGvy4AeMMuRunHLotazC7Ry9AuFz3VLl2u2S6hH94u55DiLi0C5y5zc+suuOTvLv5V9C5Ex/guijj9LujUAC+LDQMvLkYFL9B+By90twkvFvALL7ooDi9cYRAv/5kSL6LSFC9FCxcv6EMZL4p8Gy8utR0v0O0fL3QmIi8WXyQvuZcmL1zQKC//CCsvokEtL0V6Ly/osjEvi+szLy4kNi/QXDgvdJU6LxbOPC+5Bj8vXD9BL/93Qy+isEUvRelHL+ghSi+LWkwvLpNOL9DLUC9zBFMvFj1VL7l1Vy9crlkv/+ZbLw==",
          "dtype": "f4"
         },
         "y": {
          "bdata": "iXm7QIl5u0CJebtAiXm7QIl5u0CJebtAiXm7QIl5u0CJebtAiXm7QIl5u0CJebtAiXm7QIl5u0CJebtAiXm7QIl5u0CJebtAiXm7QIl5u0CJebtAiXm7QIl5u0CJebtAiXm7QIl5u0CJebtAiXm7QIl5u0CJebtAiXm7QIl5u0CJebtAiXm7QIl5u0CJebtAiXm7QIl5u0CJebtAiXm7QIl5u0CJebtAiXm7QIl5u0CJebtAiXm7QIl5u0CJebtAiXm7QIl5u0CJebtAiXm7QIl5u0CJebtAiXm7QIl5u0CJebtAiXm7QIl5u0CJebtAiXm7QIl5u0CJebtAiXm7QIl5u0CJebtAiXm7QIl5u0CJebtAiXm7QIl5u0CJebtAiXm7QIl5u0CJebtAiXm7QIl5u0CJebtAiXm7QIl5u0CJebtAiXm7QIl5u0CJebtAiXm7QIl5u0CJebtAiXm7QIl5u0CJebtAiXm7QIl5u0CJebtAiXm7QIl5u0CJebtAiXm7QIl5u0CJebtAiXm7QA==",
          "dtype": "f4"
         },
         "z": {
          "bdata": "QqwV168Yat06fPPdhv8d3nyiE94vmpXdILKPXXWilV6Vnxhf3E97Xz8TuV+39P1f5sIlYDpyUGBilH5gDtuXYDm2sWBfq8xgQZDoYDahAmFpUhFhZlAgYbOSL2GbET9hE8dOYcesXmEuvG5hie1+YZ+bh2Hmxo9hNPKXYVoVoGHpJ6hh/h+wYUPzt2HUlr9hUv/GYYIhzmHz8dRhlmXbYbNx4WE/DOdhqyvsYWjH8GGd1/RheVX4YWI7+2GUhP1hsS3/YUsaAGLtQABi3A0AYiga/2FXfv1hr0r7YayC+GHdKvVhI0nxYXTk7GEgBehhGbTiYR/73GFX5NZhGHrQYfvGyWFz1cJhGLC7YTRhtGEt86xh8m+lYUPhnWFxUJZhRcaOYQNLh2GjzH9hFz5xYbP2YmEgAVVhnWZHYWguOmFzXi1h7vogYaAGFWHbgglhG9/8YCiX52BLKdNgGo+/YJXArGBatJpgBmCJYIdwcWCVYlFgon0yYOyoFGBul+9fGpu3XxIvgV+tSRhfrkWTXg==",
          "dtype": "f4"
         }
        },
        {
         "line": {
          "cmax": 609580857281803700000,
          "cmin": -47443170274534490000,
          "color": {
           "bdata": "erES14K8Yt3w9ufdmS0T3htJAt74d0TdJfnXXSUgrl6Yuihf0vqHXz0Exl9g7QZgTFkvYIXQW2By7IVgoHufYKxbumDPVtZgBT3zYNlyCGHNlhdh/fsmYSWXNmECXkZhcUhWYXpOZmF8aHZhEkeDYQBbi2GRapNh9W+bYchjo2GdPqths/eyYfmFumHi38FhYPvIYZvOz2FlT9Zh+3PcYdAy4mHggudhqVvsYWm18GEWifRhgND3YYqG+mHtpvxhii7+YWcb/2EEWv9hZ+/+YYjv/WFzW/xhijX6YQGB92EBQvRh/n3wYVc77GGugedhK1niYdzK3GEO4NZhXaLQYZUbymF/VcNh/Vm8Yc0ytWG36a1hN4imYZkXn2HcoJdhfiyQYZ3CiGG7aoFhbld0YYgXZmG7IFhhs3xKYT0zPWHxSjBhz8gjYWqwF2ECBAxhaMQAYd/i62BvE9dg4xXDYPLjr2DEdZ1gZ8KLYJp/dWCBxlRgtkI1YN7cFmBs+vJfohe6X7Hjgl/qXRpfR5eVXg==",
           "dtype": "f4"
          },
          "colorscale": [
           [
            0,
            "#440154"
           ],
           [
            0.1111111111111111,
            "#482878"
           ],
           [
            0.2222222222222222,
            "#3e4989"
           ],
           [
            0.3333333333333333,
            "#31688e"
           ],
           [
            0.4444444444444444,
            "#26828e"
           ],
           [
            0.5555555555555556,
            "#1f9e89"
           ],
           [
            0.6666666666666666,
            "#35b779"
           ],
           [
            0.7777777777777778,
            "#6ece58"
           ],
           [
            0.8888888888888888,
            "#b5de2b"
           ],
           [
            1,
            "#fde725"
           ]
          ],
          "showscale": false,
          "width": 4
         },
         "mode": "lines",
         "showlegend": false,
         "type": "scatter3d",
         "x": {
          "bdata": "AAAAALooDiy6KI4sFz3VLLooDi3osjEtFz1VLUbHeC26KI4t0e2fLeiysS0AeMMtFz3VLS4C5y1Gx/gtLkYFLrooDi5GCxcu0e0fLl3QKC7osjEudJU6LgB4Qy6LWkwuFz1VLqMfXi4uAmcuuuRvLkbHeC7p1IAuLkaFLnS3iS66KI4uAJqSLkYLly6LfJsu0e2fLhdfpC5d0Kguo0GtLuiysS4uJLYudJW6LroGvy4AeMMuRunHLotazC7Ry9AuFz3VLl2u2S6hH94u55DiLi0C5y5zc+suuOTvLv5V9C5Ex/guijj9LujUAC+LDQMvLkYFL9B+By90twkvFvALL7ooDi9cYRAv/5kSL6LSFC9FCxcv6EMZL4p8Gy8utR0v0O0fL3QmIi8WXyQvuZcmL1zQKC//CCsvokEtL0V6Ly/osjEvi+szLy4kNi/QXDgvdJU6LxbOPC+5Bj8vXD9BL/93Qy+isEUvRelHL+ghSi+LWkwvLpNOL9DLUC9zBFMvFj1VL7l1Vy9crlkv/+ZbLw==",
          "dtype": "f4"
         },
         "y": {
          "bdata": "fPDBQHzwwUB88MFAfPDBQHzwwUB88MFAfPDBQHzwwUB88MFAfPDBQHzwwUB88MFAfPDBQHzwwUB88MFAfPDBQHzwwUB88MFAfPDBQHzwwUB88MFAfPDBQHzwwUB88MFAfPDBQHzwwUB88MFAfPDBQHzwwUB88MFAfPDBQHzwwUB88MFAfPDBQHzwwUB88MFAfPDBQHzwwUB88MFAfPDBQHzwwUB88MFAfPDBQHzwwUB88MFAfPDBQHzwwUB88MFAfPDBQHzwwUB88MFAfPDBQHzwwUB88MFAfPDBQHzwwUB88MFAfPDBQHzwwUB88MFAfPDBQHzwwUB88MFAfPDBQHzwwUB88MFAfPDBQHzwwUB88MFAfPDBQHzwwUB88MFAfPDBQHzwwUB88MFAfPDBQHzwwUB88MFAfPDBQHzwwUB88MFAfPDBQHzwwUB88MFAfPDBQHzwwUB88MFAfPDBQHzwwUB88MFAfPDBQHzwwUB88MFAfPDBQHzwwUB88MFAfPDBQHzwwUB88MFAfPDBQA==",
          "dtype": "f4"
         },
         "z": {
          "bdata": "erES14K8Yt3w9ufdmS0T3htJAt74d0TdJfnXXSUgrl6Yuihf0vqHXz0Exl9g7QZgTFkvYIXQW2By7IVgoHufYKxbumDPVtZgBT3zYNlyCGHNlhdh/fsmYSWXNmECXkZhcUhWYXpOZmF8aHZhEkeDYQBbi2GRapNh9W+bYchjo2GdPqths/eyYfmFumHi38FhYPvIYZvOz2FlT9Zh+3PcYdAy4mHggudhqVvsYWm18GEWifRhgND3YYqG+mHtpvxhii7+YWcb/2EEWv9hZ+/+YYjv/WFzW/xhijX6YQGB92EBQvRh/n3wYVc77GGugedhK1niYdzK3GEO4NZhXaLQYZUbymF/VcNh/Vm8Yc0ytWG36a1hN4imYZkXn2HcoJdhfiyQYZ3CiGG7aoFhbld0YYgXZmG7IFhhs3xKYT0zPWHxSjBhz8gjYWqwF2ECBAxhaMQAYd/i62BvE9dg4xXDYPLjr2DEdZ1gZ8KLYJp/dWCBxlRgtkI1YN7cFmBs+vJfohe6X7Hjgl/qXRpfR5eVXg==",
          "dtype": "f4"
         }
        },
        {
         "line": {
          "cmax": 609580857281803700000,
          "cmin": -47443170274534490000,
          "color": {
           "bdata": "JIwP1wgtW92SQ9zdLj8I3rut4d3kO7vcxwMQXuNyxl6GqzhfGyuSX7DB0l+OvA5gUsA4YJnyZmCuaYxg8e+mYG7NwmAwx99gm6f9YAYgDmGosx1hXX0tYRtvPWEjfE1hQZpdYdi/bWEs5H1hL/+GYX8Cj2HW9pZh7taeYSicpmEJQK5h77q1YQAFvWH1FcRhJuXKYf1p0WGmm9dhi3HdYVLj4mEb6edhTHvsYQ+T8GEbKvRh7jr3YfPA+WFOuPthKB79Ycfw/WFPIP5hsbD9Yfyx/GE4JfthmAz5YQ9r9mFxRPNhv53vYa9862E86OZh3efhYdOD3GGtxNZhO7PQYZhYymHUvcNhMOy8Yc3stWHnyK5hhImnYYE3oGF/25hhwn2RYTImimE13IJhQE13YW8XaWElIlthbndNYaMfQGEBIjNhNIQmYaNKGmFieA5hLA8DYWwf8GAI89pgRZbGYIYEs2B3N6BgmCeOYCaYeWCSNlhggRU4YPseGWCqePZfhqy8XzyshF+OjhxfMQ2YXg==",
           "dtype": "f4"
          },
          "colorscale": [
           [
            0,
            "#440154"
           ],
           [
            0.1111111111111111,
            "#482878"
           ],
           [
            0.2222222222222222,
            "#3e4989"
           ],
           [
            0.3333333333333333,
            "#31688e"
           ],
           [
            0.4444444444444444,
            "#26828e"
           ],
           [
            0.5555555555555556,
            "#1f9e89"
           ],
           [
            0.6666666666666666,
            "#35b779"
           ],
           [
            0.7777777777777778,
            "#6ece58"
           ],
           [
            0.8888888888888888,
            "#b5de2b"
           ],
           [
            1,
            "#fde725"
           ]
          ],
          "showscale": false,
          "width": 4
         },
         "mode": "lines",
         "showlegend": false,
         "type": "scatter3d",
         "x": {
          "bdata": "AAAAALooDiy6KI4sFz3VLLooDi3osjEtFz1VLUbHeC26KI4t0e2fLeiysS0AeMMtFz3VLS4C5y1Gx/gtLkYFLrooDi5GCxcu0e0fLl3QKC7osjEudJU6LgB4Qy6LWkwuFz1VLqMfXi4uAmcuuuRvLkbHeC7p1IAuLkaFLnS3iS66KI4uAJqSLkYLly6LfJsu0e2fLhdfpC5d0Kguo0GtLuiysS4uJLYudJW6LroGvy4AeMMuRunHLotazC7Ry9AuFz3VLl2u2S6hH94u55DiLi0C5y5zc+suuOTvLv5V9C5Ex/guijj9LujUAC+LDQMvLkYFL9B+By90twkvFvALL7ooDi9cYRAv/5kSL6LSFC9FCxcv6EMZL4p8Gy8utR0v0O0fL3QmIi8WXyQvuZcmL1zQKC//CCsvokEtL0V6Ly/osjEvi+szLy4kNi/QXDgvdJU6LxbOPC+5Bj8vXD9BL/93Qy+isEUvRelHL+ghSi+LWkwvLpNOL9DLUC9zBFMvFj1VL7l1Vy9crlkv/+ZbLw==",
          "dtype": "f4"
         },
         "y": {
          "bdata": "cGfIQHBnyEBwZ8hAcGfIQHBnyEBwZ8hAcGfIQHBnyEBwZ8hAcGfIQHBnyEBwZ8hAcGfIQHBnyEBwZ8hAcGfIQHBnyEBwZ8hAcGfIQHBnyEBwZ8hAcGfIQHBnyEBwZ8hAcGfIQHBnyEBwZ8hAcGfIQHBnyEBwZ8hAcGfIQHBnyEBwZ8hAcGfIQHBnyEBwZ8hAcGfIQHBnyEBwZ8hAcGfIQHBnyEBwZ8hAcGfIQHBnyEBwZ8hAcGfIQHBnyEBwZ8hAcGfIQHBnyEBwZ8hAcGfIQHBnyEBwZ8hAcGfIQHBnyEBwZ8hAcGfIQHBnyEBwZ8hAcGfIQHBnyEBwZ8hAcGfIQHBnyEBwZ8hAcGfIQHBnyEBwZ8hAcGfIQHBnyEBwZ8hAcGfIQHBnyEBwZ8hAcGfIQHBnyEBwZ8hAcGfIQHBnyEBwZ8hAcGfIQHBnyEBwZ8hAcGfIQHBnyEBwZ8hAcGfIQHBnyEBwZ8hAcGfIQHBnyEBwZ8hAcGfIQHBnyEBwZ8hAcGfIQHBnyEBwZ8hAcGfIQA==",
          "dtype": "f4"
         },
         "z": {
          "bdata": "JIwP1wgtW92SQ9zdLj8I3rut4d3kO7vcxwMQXuNyxl6GqzhfGyuSX7DB0l+OvA5gUsA4YJnyZmCuaYxg8e+mYG7NwmAwx99gm6f9YAYgDmGosx1hXX0tYRtvPWEjfE1hQZpdYdi/bWEs5H1hL/+GYX8Cj2HW9pZh7taeYSicpmEJQK5h77q1YQAFvWH1FcRhJuXKYf1p0WGmm9dhi3HdYVLj4mEb6edhTHvsYQ+T8GEbKvRh7jr3YfPA+WFOuPthKB79Ycfw/WFPIP5hsbD9Yfyx/GE4JfthmAz5YQ9r9mFxRPNhv53vYa9862E86OZh3efhYdOD3GGtxNZhO7PQYZhYymHUvcNhMOy8Yc3stWHnyK5hhImnYYE3oGF/25hhwn2RYTImimE13IJhQE13YW8XaWElIlthbndNYaMfQGEBIjNhNIQmYaNKGmFieA5hLA8DYWwf8GAI89pgRZbGYIYEs2B3N6BgmCeOYCaYeWCSNlhggRU4YPseGWCqePZfhqy8XzyshF+OjhxfMQ2YXg==",
          "dtype": "f4"
         }
        },
        {
         "line": {
          "cmax": 609580857281803700000,
          "cmin": -47443170274534490000,
          "color": {
           "bdata": "SzgM1yNxU93aatDdOXb63dWpvt0g4RJbzeIzXpyU3l6Nb0hfiTecX7BK31+jZxZg6vdBYLfYcWAlwpJgYTiuYAsMy2A8/ehgZ+gDYTmpE2GFqSNhHNUzYUQbRGHEbFRhXb1kYdcBdWEumIJht5+KYcuSkmF6bJphAyiiYXm/qWFZLbFh/2q4YdRxv2HNOsZhiL7MYb310mHn2NhhtmDeYemF42G0QehhgY3sYWpj8GHcvfNhCJj2Yent+GEGvPph5P/7Yfm3/GHz1/xhvWL8YZ5k+2GX3vlhsdL3YZtD9WHYNPJh1KruYdCq6mELO+ZhTGLhYQ8o3GEYlNZhhK7QYbd/ymEMEMRhKGi9YY6QtmH6ka9h7XSoYepBoWEvAZphwLqSYUt2i2EiO4RhESB6YZ32a2FJBV5hiFZQYR/zQmHg4jVhLywpYTTUHGHR3hBhmE4FYTZK9GBzxd5gsA3KYNYftmAo96JgdY2QYE22fWBzr1tgIvM6YOxsG2B3Dvpf+Fa/X6OGhl+i2B5fJKOaXg==",
           "dtype": "f4"
          },
          "colorscale": [
           [
            0,
            "#440154"
           ],
           [
            0.1111111111111111,
            "#482878"
           ],
           [
            0.2222222222222222,
            "#3e4989"
           ],
           [
            0.3333333333333333,
            "#31688e"
           ],
           [
            0.4444444444444444,
            "#26828e"
           ],
           [
            0.5555555555555556,
            "#1f9e89"
           ],
           [
            0.6666666666666666,
            "#35b779"
           ],
           [
            0.7777777777777778,
            "#6ece58"
           ],
           [
            0.8888888888888888,
            "#b5de2b"
           ],
           [
            1,
            "#fde725"
           ]
          ],
          "showscale": false,
          "width": 4
         },
         "mode": "lines",
         "showlegend": false,
         "type": "scatter3d",
         "x": {
          "bdata": "AAAAALooDiy6KI4sFz3VLLooDi3osjEtFz1VLUbHeC26KI4t0e2fLeiysS0AeMMtFz3VLS4C5y1Gx/gtLkYFLrooDi5GCxcu0e0fLl3QKC7osjEudJU6LgB4Qy6LWkwuFz1VLqMfXi4uAmcuuuRvLkbHeC7p1IAuLkaFLnS3iS66KI4uAJqSLkYLly6LfJsu0e2fLhdfpC5d0Kguo0GtLuiysS4uJLYudJW6LroGvy4AeMMuRunHLotazC7Ry9AuFz3VLl2u2S6hH94u55DiLi0C5y5zc+suuOTvLv5V9C5Ex/guijj9LujUAC+LDQMvLkYFL9B+By90twkvFvALL7ooDi9cYRAv/5kSL6LSFC9FCxcv6EMZL4p8Gy8utR0v0O0fL3QmIi8WXyQvuZcmL1zQKC//CCsvokEtL0V6Ly/osjEvi+szLy4kNi/QXDgvdJU6LxbOPC+5Bj8vXD9BL/93Qy+isEUvRelHL+ghSi+LWkwvLpNOL9DLUC9zBFMvFj1VL7l1Vy9crlkv/+ZbLw==",
          "dtype": "f4"
         },
         "y": {
          "bdata": "Yt7OQGLezkBi3s5AYt7OQGLezkBi3s5AYt7OQGLezkBi3s5AYt7OQGLezkBi3s5AYt7OQGLezkBi3s5AYt7OQGLezkBi3s5AYt7OQGLezkBi3s5AYt7OQGLezkBi3s5AYt7OQGLezkBi3s5AYt7OQGLezkBi3s5AYt7OQGLezkBi3s5AYt7OQGLezkBi3s5AYt7OQGLezkBi3s5AYt7OQGLezkBi3s5AYt7OQGLezkBi3s5AYt7OQGLezkBi3s5AYt7OQGLezkBi3s5AYt7OQGLezkBi3s5AYt7OQGLezkBi3s5AYt7OQGLezkBi3s5AYt7OQGLezkBi3s5AYt7OQGLezkBi3s5AYt7OQGLezkBi3s5AYt7OQGLezkBi3s5AYt7OQGLezkBi3s5AYt7OQGLezkBi3s5AYt7OQGLezkBi3s5AYt7OQGLezkBi3s5AYt7OQGLezkBi3s5AYt7OQGLezkBi3s5AYt7OQGLezkBi3s5AYt7OQGLezkBi3s5AYt7OQGLezkBi3s5AYt7OQA==",
          "dtype": "f4"
         },
         "z": {
          "bdata": "SzgM1yNxU93aatDdOXb63dWpvt0g4RJbzeIzXpyU3l6Nb0hfiTecX7BK31+jZxZg6vdBYLfYcWAlwpJgYTiuYAsMy2A8/ehgZ+gDYTmpE2GFqSNhHNUzYUQbRGHEbFRhXb1kYdcBdWEumIJht5+KYcuSkmF6bJphAyiiYXm/qWFZLbFh/2q4YdRxv2HNOsZhiL7MYb310mHn2NhhtmDeYemF42G0QehhgY3sYWpj8GHcvfNhCJj2Yent+GEGvPph5P/7Yfm3/GHz1/xhvWL8YZ5k+2GX3vlhsdL3YZtD9WHYNPJh1KruYdCq6mELO+ZhTGLhYQ8o3GEYlNZhhK7QYbd/ymEMEMRhKGi9YY6QtmH6ka9h7XSoYepBoWEvAZphwLqSYUt2i2EiO4RhESB6YZ32a2FJBV5hiFZQYR/zQmHg4jVhLywpYTTUHGHR3hBhmE4FYTZK9GBzxd5gsA3KYNYftmAo96JgdY2QYE22fWBzr1tgIvM6YOxsG2B3Dvpf+Fa/X6OGhl+i2B5fJKOaXg==",
          "dtype": "f4"
         }
        },
        {
         "line": {
          "cmax": 609580857281803700000,
          "cmin": -47443170274534490000,
          "color": {
           "bdata": "3rcI1zaPS92YdMTdd0/k3V6Xm933h99cZ45XXpR/9l7kA1hf5B6mXzme619E7h1g9v9KYOiCfGAD9phgO1W1YO0X02Bp+fFgodwIYc4OGWHWeClhwwM6YSicSmGHMFthg7JrYVMVfGH+JoZhMymOYYcMlmFDzJ1hF2SlYczOrGG5B7RhTwm7YQjOwWEkUMhhgYnOYR101GG3CdphKUTfYXId5GHNj+hhpZXsYfEp8GHxR/Nhf+v1YSQR+GHitflhhtf6Ybp0+2GbhPthHQn7YdwK+mHRivhh4or2YYEN9GHOFfFhw6ftYQTI6WEwfOVhVcrgYTC522HST9ZhkJXQYR6SymEvTcRhyc69Ydket2GXRbBhCUupYUs3omFGEpthsOOTYRCzjGGKh4Vhxc98YcW0bmG3yWBhURlTYc2sRWGhjDhhtr8rYQJMH2EfNhNhdIEHYcxg+GBDiOJgtXnNYJ8zuWCvsqVgCfKSYE3rgGALLl9g/dg9YILEHWBQuP1fPhTCX91wiF9EOSFfDVWdXg==",
           "dtype": "f4"
          },
          "colorscale": [
           [
            0,
            "#440154"
           ],
           [
            0.1111111111111111,
            "#482878"
           ],
           [
            0.2222222222222222,
            "#3e4989"
           ],
           [
            0.3333333333333333,
            "#31688e"
           ],
           [
            0.4444444444444444,
            "#26828e"
           ],
           [
            0.5555555555555556,
            "#1f9e89"
           ],
           [
            0.6666666666666666,
            "#35b779"
           ],
           [
            0.7777777777777778,
            "#6ece58"
           ],
           [
            0.8888888888888888,
            "#b5de2b"
           ],
           [
            1,
            "#fde725"
           ]
          ],
          "showscale": false,
          "width": 4
         },
         "mode": "lines",
         "showlegend": false,
         "type": "scatter3d",
         "x": {
          "bdata": "AAAAALooDiy6KI4sFz3VLLooDi3osjEtFz1VLUbHeC26KI4t0e2fLeiysS0AeMMtFz3VLS4C5y1Gx/gtLkYFLrooDi5GCxcu0e0fLl3QKC7osjEudJU6LgB4Qy6LWkwuFz1VLqMfXi4uAmcuuuRvLkbHeC7p1IAuLkaFLnS3iS66KI4uAJqSLkYLly6LfJsu0e2fLhdfpC5d0Kguo0GtLuiysS4uJLYudJW6LroGvy4AeMMuRunHLotazC7Ry9AuFz3VLl2u2S6hH94u55DiLi0C5y5zc+suuOTvLv5V9C5Ex/guijj9LujUAC+LDQMvLkYFL9B+By90twkvFvALL7ooDi9cYRAv/5kSL6LSFC9FCxcv6EMZL4p8Gy8utR0v0O0fL3QmIi8WXyQvuZcmL1zQKC//CCsvokEtL0V6Ly/osjEvi+szLy4kNi/QXDgvdJU6LxbOPC+5Bj8vXD9BL/93Qy+isEUvRelHL+ghSi+LWkwvLpNOL9DLUC9zBFMvFj1VL7l1Vy9crlkv/+ZbLw==",
          "dtype": "f4"
         },
         "y": {
          "bdata": "VlXVQFZV1UBWVdVAVlXVQFZV1UBWVdVAVlXVQFZV1UBWVdVAVlXVQFZV1UBWVdVAVlXVQFZV1UBWVdVAVlXVQFZV1UBWVdVAVlXVQFZV1UBWVdVAVlXVQFZV1UBWVdVAVlXVQFZV1UBWVdVAVlXVQFZV1UBWVdVAVlXVQFZV1UBWVdVAVlXVQFZV1UBWVdVAVlXVQFZV1UBWVdVAVlXVQFZV1UBWVdVAVlXVQFZV1UBWVdVAVlXVQFZV1UBWVdVAVlXVQFZV1UBWVdVAVlXVQFZV1UBWVdVAVlXVQFZV1UBWVdVAVlXVQFZV1UBWVdVAVlXVQFZV1UBWVdVAVlXVQFZV1UBWVdVAVlXVQFZV1UBWVdVAVlXVQFZV1UBWVdVAVlXVQFZV1UBWVdVAVlXVQFZV1UBWVdVAVlXVQFZV1UBWVdVAVlXVQFZV1UBWVdVAVlXVQFZV1UBWVdVAVlXVQFZV1UBWVdVAVlXVQFZV1UBWVdVAVlXVQFZV1UBWVdVAVlXVQFZV1UBWVdVAVlXVQA==",
          "dtype": "f4"
         },
         "z": {
          "bdata": "3rcI1zaPS92YdMTdd0/k3V6Xm933h99cZ45XXpR/9l7kA1hf5B6mXzme619E7h1g9v9KYOiCfGAD9phgO1W1YO0X02Bp+fFgodwIYc4OGWHWeClhwwM6YSicSmGHMFthg7JrYVMVfGH+JoZhMymOYYcMlmFDzJ1hF2SlYczOrGG5B7RhTwm7YQjOwWEkUMhhgYnOYR101GG3CdphKUTfYXId5GHNj+hhpZXsYfEp8GHxR/Nhf+v1YSQR+GHitflhhtf6Ybp0+2GbhPthHQn7YdwK+mHRivhh4or2YYEN9GHOFfFhw6ftYQTI6WEwfOVhVcrgYTC522HST9ZhkJXQYR6SymEvTcRhyc69Ydket2GXRbBhCUupYUs3omFGEpthsOOTYRCzjGGKh4Vhxc98YcW0bmG3yWBhURlTYc2sRWGhjDhhtr8rYQJMH2EfNhNhdIEHYcxg+GBDiOJgtXnNYJ8zuWCvsqVgCfKSYE3rgGALLl9g/dg9YILEHWBQuP1fPhTCX91wiF9EOSFfDVWdXg==",
          "dtype": "f4"
         }
        },
        {
         "line": {
          "cmax": 609580857281803700000,
          "cmin": -47443170274534490000,
          "color": {
           "bdata": "LBEF1wiNQ90laLjduhXO3XQLcd1k/lVddPx6XjoXB1/3ZWdf/9+vX1q7918cUCVgNthTYJV4g2BbBZ9gsEa8YGHx2mAbvPpgvrANYRVRHmH2IS9hqwlAYUzyUGHxx2FhTnpyYX19gWHznolhKZyRYU9wmWHdFqFh+YuoYRLLr2FS0LZhJZe9YSUbxGG/V8phEUjQYVTn1WF/MNthrR7gYfCs5GGd1uhhHZfsYUfq72EfzPJhOTn1YaUu92HfqfhhCan5Yfkq+mElKvphf6f5YTuo+GFDLfdhXDj1YbHL8mEM6u9h7JbsYXHW6GGPreRhpSHgYbU422EU+dVhZWnQYaqQymHvdcRhoiC+YRaYt2EF5LBh/wuqYbUXo2G6DpxhfPiUYU7cjWExwYZhslt/YSVRcWGFbmNh2r5VYcFLSGEsHjthrz0uYd6wIWEcfRVhjKYJYcdg/GAgOeZgI9jQYMk9vGAVaKhgg1OVYOD6gmB5r2Jgl8RAYKkjIGBmuQBgs+HEX+1oil+krSNf+R6gXg==",
           "dtype": "f4"
          },
          "colorscale": [
           [
            0,
            "#440154"
           ],
           [
            0.1111111111111111,
            "#482878"
           ],
           [
            0.2222222222222222,
            "#3e4989"
           ],
           [
            0.3333333333333333,
            "#31688e"
           ],
           [
            0.4444444444444444,
            "#26828e"
           ],
           [
            0.5555555555555556,
            "#1f9e89"
           ],
           [
            0.6666666666666666,
            "#35b779"
           ],
           [
            0.7777777777777778,
            "#6ece58"
           ],
           [
            0.8888888888888888,
            "#b5de2b"
           ],
           [
            1,
            "#fde725"
           ]
          ],
          "showscale": false,
          "width": 4
         },
         "mode": "lines",
         "showlegend": false,
         "type": "scatter3d",
         "x": {
          "bdata": "AAAAALooDiy6KI4sFz3VLLooDi3osjEtFz1VLUbHeC26KI4t0e2fLeiysS0AeMMtFz3VLS4C5y1Gx/gtLkYFLrooDi5GCxcu0e0fLl3QKC7osjEudJU6LgB4Qy6LWkwuFz1VLqMfXi4uAmcuuuRvLkbHeC7p1IAuLkaFLnS3iS66KI4uAJqSLkYLly6LfJsu0e2fLhdfpC5d0Kguo0GtLuiysS4uJLYudJW6LroGvy4AeMMuRunHLotazC7Ry9AuFz3VLl2u2S6hH94u55DiLi0C5y5zc+suuOTvLv5V9C5Ex/guijj9LujUAC+LDQMvLkYFL9B+By90twkvFvALL7ooDi9cYRAv/5kSL6LSFC9FCxcv6EMZL4p8Gy8utR0v0O0fL3QmIi8WXyQvuZcmL1zQKC//CCsvokEtL0V6Ly/osjEvi+szLy4kNi/QXDgvdJU6LxbOPC+5Bj8vXD9BL/93Qy+isEUvRelHL+ghSi+LWkwvLpNOL9DLUC9zBFMvFj1VL7l1Vy9crlkv/+ZbLw==",
          "dtype": "f4"
         },
         "y": {
          "bdata": "SMzbQEjM20BIzNtASMzbQEjM20BIzNtASMzbQEjM20BIzNtASMzbQEjM20BIzNtASMzbQEjM20BIzNtASMzbQEjM20BIzNtASMzbQEjM20BIzNtASMzbQEjM20BIzNtASMzbQEjM20BIzNtASMzbQEjM20BIzNtASMzbQEjM20BIzNtASMzbQEjM20BIzNtASMzbQEjM20BIzNtASMzbQEjM20BIzNtASMzbQEjM20BIzNtASMzbQEjM20BIzNtASMzbQEjM20BIzNtASMzbQEjM20BIzNtASMzbQEjM20BIzNtASMzbQEjM20BIzNtASMzbQEjM20BIzNtASMzbQEjM20BIzNtASMzbQEjM20BIzNtASMzbQEjM20BIzNtASMzbQEjM20BIzNtASMzbQEjM20BIzNtASMzbQEjM20BIzNtASMzbQEjM20BIzNtASMzbQEjM20BIzNtASMzbQEjM20BIzNtASMzbQEjM20BIzNtASMzbQEjM20BIzNtASMzbQEjM20BIzNtASMzbQA==",
          "dtype": "f4"
         },
         "z": {
          "bdata": "LBEF1wiNQ90laLjduhXO3XQLcd1k/lVddPx6XjoXB1/3ZWdf/9+vX1q7918cUCVgNthTYJV4g2BbBZ9gsEa8YGHx2mAbvPpgvrANYRVRHmH2IS9hqwlAYUzyUGHxx2FhTnpyYX19gWHznolhKZyRYU9wmWHdFqFh+YuoYRLLr2FS0LZhJZe9YSUbxGG/V8phEUjQYVTn1WF/MNthrR7gYfCs5GGd1uhhHZfsYUfq72EfzPJhOTn1YaUu92HfqfhhCan5Yfkq+mElKvphf6f5YTuo+GFDLfdhXDj1YbHL8mEM6u9h7JbsYXHW6GGPreRhpSHgYbU422EU+dVhZWnQYaqQymHvdcRhoiC+YRaYt2EF5LBh/wuqYbUXo2G6DpxhfPiUYU7cjWExwYZhslt/YSVRcWGFbmNh2r5VYcFLSGEsHjthrz0uYd6wIWEcfRVhjKYJYcdg/GAgOeZgI9jQYMk9vGAVaKhgg1OVYOD6gmB5r2Jgl8RAYKkjIGBmuQBgs+HEX+1oil+krSNf+R6gXg==",
          "dtype": "f4"
         }
        },
        {
         "line": {
          "cmax": 609580857281803700000,
          "cmin": -47443170274534490000,
          "color": {
           "bdata": "nk0B12hwO92GTKzdKdS33UgIK91F3J1dQBGPXuPNEl8Bk3ZfkHm5X3XQAWCzjCxgaoBcYK6RiGAu8KRgzQzDYIaY4mDPogFh42QSYTtwI2EdpTRhJ+dFYfwdV2FqM2hhNxV5YbDZhGFhAI1h+PiUYZi+nGHkTKRhZaCrYSi1smEpiLlhwRXAYZxaxmFRU8xhJfzRYZFR12HAT9xh7/LgYVY35WFWGelhVpXsYQKo72EvTvJhH4X0YXJK9mEPnPdhdnj4Ybre+GFyzPhhtUH4YWlA92FkyfVhUN7zYR2B8WE8tO5hxXrrYUHY52EI0eNh0mnfYe6n2mH5kNVh4SrQYQh8ymHMisRhAl6+YXT8t2FVbbFhw7eqYQPjo2FS9pxh1/iVYa3xjmGs54dheuGAYcfKc2G38mVhCUZYYcnOSmFYlj1h4KQwYZkBJGGVshdhuLwLYe8jAGHg1elg4ybUYEg8v2B+FatgM7CXYFgIhWAGMWZgl7NDYGCIImBYnQJgurzHX+NsjF/9MiZfL/2iXg==",
           "dtype": "f4"
          },
          "colorscale": [
           [
            0,
            "#440154"
           ],
           [
            0.1111111111111111,
            "#482878"
           ],
           [
            0.2222222222222222,
            "#3e4989"
           ],
           [
            0.3333333333333333,
            "#31688e"
           ],
           [
            0.4444444444444444,
            "#26828e"
           ],
           [
            0.5555555555555556,
            "#1f9e89"
           ],
           [
            0.6666666666666666,
            "#35b779"
           ],
           [
            0.7777777777777778,
            "#6ece58"
           ],
           [
            0.8888888888888888,
            "#b5de2b"
           ],
           [
            1,
            "#fde725"
           ]
          ],
          "showscale": false,
          "width": 4
         },
         "mode": "lines",
         "showlegend": false,
         "type": "scatter3d",
         "x": {
          "bdata": "AAAAALooDiy6KI4sFz3VLLooDi3osjEtFz1VLUbHeC26KI4t0e2fLeiysS0AeMMtFz3VLS4C5y1Gx/gtLkYFLrooDi5GCxcu0e0fLl3QKC7osjEudJU6LgB4Qy6LWkwuFz1VLqMfXi4uAmcuuuRvLkbHeC7p1IAuLkaFLnS3iS66KI4uAJqSLkYLly6LfJsu0e2fLhdfpC5d0Kguo0GtLuiysS4uJLYudJW6LroGvy4AeMMuRunHLotazC7Ry9AuFz3VLl2u2S6hH94u55DiLi0C5y5zc+suuOTvLv5V9C5Ex/guijj9LujUAC+LDQMvLkYFL9B+By90twkvFvALL7ooDi9cYRAv/5kSL6LSFC9FCxcv6EMZL4p8Gy8utR0v0O0fL3QmIi8WXyQvuZcmL1zQKC//CCsvokEtL0V6Ly/osjEvi+szLy4kNi/QXDgvdJU6LxbOPC+5Bj8vXD9BL/93Qy+isEUvRelHL+ghSi+LWkwvLpNOL9DLUC9zBFMvFj1VL7l1Vy9crlkv/+ZbLw==",
          "dtype": "f4"
         },
         "y": {
          "bdata": "PEPiQDxD4kA8Q+JAPEPiQDxD4kA8Q+JAPEPiQDxD4kA8Q+JAPEPiQDxD4kA8Q+JAPEPiQDxD4kA8Q+JAPEPiQDxD4kA8Q+JAPEPiQDxD4kA8Q+JAPEPiQDxD4kA8Q+JAPEPiQDxD4kA8Q+JAPEPiQDxD4kA8Q+JAPEPiQDxD4kA8Q+JAPEPiQDxD4kA8Q+JAPEPiQDxD4kA8Q+JAPEPiQDxD4kA8Q+JAPEPiQDxD4kA8Q+JAPEPiQDxD4kA8Q+JAPEPiQDxD4kA8Q+JAPEPiQDxD4kA8Q+JAPEPiQDxD4kA8Q+JAPEPiQDxD4kA8Q+JAPEPiQDxD4kA8Q+JAPEPiQDxD4kA8Q+JAPEPiQDxD4kA8Q+JAPEPiQDxD4kA8Q+JAPEPiQDxD4kA8Q+JAPEPiQDxD4kA8Q+JAPEPiQDxD4kA8Q+JAPEPiQDxD4kA8Q+JAPEPiQDxD4kA8Q+JAPEPiQDxD4kA8Q+JAPEPiQDxD4kA8Q+JAPEPiQDxD4kA8Q+JAPEPiQDxD4kA8Q+JAPEPiQA==",
          "dtype": "f4"
         },
         "z": {
          "bdata": "nk0B12hwO92GTKzdKdS33UgIK91F3J1dQBGPXuPNEl8Bk3ZfkHm5X3XQAWCzjCxgaoBcYK6RiGAu8KRgzQzDYIaY4mDPogFh42QSYTtwI2EdpTRhJ+dFYfwdV2FqM2hhNxV5YbDZhGFhAI1h+PiUYZi+nGHkTKRhZaCrYSi1smEpiLlhwRXAYZxaxmFRU8xhJfzRYZFR12HAT9xh7/LgYVY35WFWGelhVpXsYQKo72EvTvJhH4X0YXJK9mEPnPdhdnj4Ybre+GFyzPhhtUH4YWlA92FkyfVhUN7zYR2B8WE8tO5hxXrrYUHY52EI0eNh0mnfYe6n2mH5kNVh4SrQYQh8ymHMisRhAl6+YXT8t2FVbbFhw7eqYQPjo2FS9pxh1/iVYa3xjmGs54dheuGAYcfKc2G38mVhCUZYYcnOSmFYlj1h4KQwYZkBJGGVshdhuLwLYe8jAGHg1elg4ybUYEg8v2B+FatgM7CXYFgIhWAGMWZgl7NDYGCIImBYnQJgurzHX+NsjF/9MiZfL/2iXg==",
          "dtype": "f4"
         }
        },
        {
         "line": {
          "cmax": 609580857281803700000,
          "cmin": -47443170274534490000,
          "color": {
           "bdata": "uPD61nw+M93/J6DdypSh3ct/ytwjadBdvnugXl1hHl9fxIJfherCX/umB2CoozNgTPhkYK6MjWCGtqpgv6fJYJ4N6mAbywVhRPkWYYNsKGGPAjphgpxLYZAfXWFUc25hpoN/YYUfiGGaS5BhB0CYYeD3n2HmbqdhBqKuYeSNtWE9MLxhTIbCYc2NyGFhRM5hiafTYd602GG4ad1heMPhYXC/5WEGW+lhj5PsYZhm72HD0fFh89LzYVxo9WFYkPZhxEn3Yd6T92Fkb/dhetv2YenW9WGNYvRh6n/yYbQw8GERd+1hrVXqYYjP5mF06OJhcqTeYSUI2mGMGNVh29rPYcxUymEmjMRhI4e+YQdMuGF+4bFhKU6rYfOYpGG3yJ1hUuSWYavyj2F0+ohhOAKCYXcgdmEOVWhhqa1aYak0TWHj8z9hEfQyYfk8JmFb1RlhysINYegJAmFLXO1g2mPXYD8twmAiua1gdAaaYDwSh2AXsGlgqqNGYLTwJGBehgRgzqLKX9N6jl+qxihfIeylXg==",
           "dtype": "f4"
          },
          "colorscale": [
           [
            0,
            "#440154"
           ],
           [
            0.1111111111111111,
            "#482878"
           ],
           [
            0.2222222222222222,
            "#3e4989"
           ],
           [
            0.3333333333333333,
            "#31688e"
           ],
           [
            0.4444444444444444,
            "#26828e"
           ],
           [
            0.5555555555555556,
            "#1f9e89"
           ],
           [
            0.6666666666666666,
            "#35b779"
           ],
           [
            0.7777777777777778,
            "#6ece58"
           ],
           [
            0.8888888888888888,
            "#b5de2b"
           ],
           [
            1,
            "#fde725"
           ]
          ],
          "showscale": false,
          "width": 4
         },
         "mode": "lines",
         "showlegend": false,
         "type": "scatter3d",
         "x": {
          "bdata": "AAAAALooDiy6KI4sFz3VLLooDi3osjEtFz1VLUbHeC26KI4t0e2fLeiysS0AeMMtFz3VLS4C5y1Gx/gtLkYFLrooDi5GCxcu0e0fLl3QKC7osjEudJU6LgB4Qy6LWkwuFz1VLqMfXi4uAmcuuuRvLkbHeC7p1IAuLkaFLnS3iS66KI4uAJqSLkYLly6LfJsu0e2fLhdfpC5d0Kguo0GtLuiysS4uJLYudJW6LroGvy4AeMMuRunHLotazC7Ry9AuFz3VLl2u2S6hH94u55DiLi0C5y5zc+suuOTvLv5V9C5Ex/guijj9LujUAC+LDQMvLkYFL9B+By90twkvFvALL7ooDi9cYRAv/5kSL6LSFC9FCxcv6EMZL4p8Gy8utR0v0O0fL3QmIi8WXyQvuZcmL1zQKC//CCsvokEtL0V6Ly/osjEvi+szLy4kNi/QXDgvdJU6LxbOPC+5Bj8vXD9BL/93Qy+isEUvRelHL+ghSi+LWkwvLpNOL9DLUC9zBFMvFj1VL7l1Vy9crlkv/+ZbLw==",
          "dtype": "f4"
         },
         "y": {
          "bdata": "LrroQC666EAuuuhALrroQC666EAuuuhALrroQC666EAuuuhALrroQC666EAuuuhALrroQC666EAuuuhALrroQC666EAuuuhALrroQC666EAuuuhALrroQC666EAuuuhALrroQC666EAuuuhALrroQC666EAuuuhALrroQC666EAuuuhALrroQC666EAuuuhALrroQC666EAuuuhALrroQC666EAuuuhALrroQC666EAuuuhALrroQC666EAuuuhALrroQC666EAuuuhALrroQC666EAuuuhALrroQC666EAuuuhALrroQC666EAuuuhALrroQC666EAuuuhALrroQC666EAuuuhALrroQC666EAuuuhALrroQC666EAuuuhALrroQC666EAuuuhALrroQC666EAuuuhALrroQC666EAuuuhALrroQC666EAuuuhALrroQC666EAuuuhALrroQC666EAuuuhALrroQC666EAuuuhALrroQC666EAuuuhALrroQC666EAuuuhALrroQA==",
          "dtype": "f4"
         },
         "z": {
          "bdata": "uPD61nw+M93/J6DdypSh3ct/ytwjadBdvnugXl1hHl9fxIJfherCX/umB2CoozNgTPhkYK6MjWCGtqpgv6fJYJ4N6mAbywVhRPkWYYNsKGGPAjphgpxLYZAfXWFUc25hpoN/YYUfiGGaS5BhB0CYYeD3n2HmbqdhBqKuYeSNtWE9MLxhTIbCYc2NyGFhRM5hiafTYd602GG4ad1heMPhYXC/5WEGW+lhj5PsYZhm72HD0fFh89LzYVxo9WFYkPZhxEn3Yd6T92Fkb/dhetv2YenW9WGNYvRh6n/yYbQw8GERd+1hrVXqYYjP5mF06OJhcqTeYSUI2mGMGNVh29rPYcxUymEmjMRhI4e+YQdMuGF+4bFhKU6rYfOYpGG3yJ1hUuSWYavyj2F0+ohhOAKCYXcgdmEOVWhhqa1aYak0TWHj8z9hEfQyYfk8JmFb1RlhysINYegJAmFLXO1g2mPXYD8twmAiua1gdAaaYDwSh2AXsGlgqqNGYLTwJGBehgRgzqLKX9N6jl+qxihfIeylXg==",
          "dtype": "f4"
         }
        },
        {
         "line": {
          "cmax": 609580857281803700000,
          "cmin": -47443170274534490000,
          "color": {
           "bdata": "qTrz1jb8Kt2TAJTdK2GL3e1i/tvtSgFePrmxXlbPKV9bIopfuDHMX8dgDWCglDpglj9tYIhpkmBfWLBghhfQYMNQ8WAL1wlh/m0bYRJGLWGCOj9h9ylRYU73YmH8h3RhA+OCYTJPi2HdgJNho3GbYYAco2FSfaphbJGxYe1VuGFXyb5huunEYdG1ymFULNBhy0vVYQMT2mF4gN5hk5LiYcdH5mFmnulhvpTsYUAp72E2WvFhNibzYQKM9GFvivVhoSD2YR1O9mGQFvZhXXj1YTpv9GEK/PJhNSDxYUvd7mEeNexh9SnpYV6+5WGY9eFhAtPdYala2WHUkNRhGHrPYZEbymFqesRhRZy+Yd2GuGFjQLJhAs+rYTU5pWGFhZ5hgrqXYdLekGH9+Ilhew+DYQRReGFKlGphbfRcYRt8T2GPNUJh/Ck1YcNhKGE35BthlrcPYTLhA2FMyvBgEo3aYMIOxWBCUbBgrFScYBIXiWAFKm1gk5JJYLpaJ2DccgZgWZHNX8yQkF/+ZStfVOioXg==",
           "dtype": "f4"
          },
          "colorscale": [
           [
            0,
            "#440154"
           ],
           [
            0.1111111111111111,
            "#482878"
           ],
           [
            0.2222222222222222,
            "#3e4989"
           ],
           [
            0.3333333333333333,
            "#31688e"
           ],
           [
            0.4444444444444444,
            "#26828e"
           ],
           [
            0.5555555555555556,
            "#1f9e89"
           ],
           [
            0.6666666666666666,
            "#35b779"
           ],
           [
            0.7777777777777778,
            "#6ece58"
           ],
           [
            0.8888888888888888,
            "#b5de2b"
           ],
           [
            1,
            "#fde725"
           ]
          ],
          "showscale": false,
          "width": 4
         },
         "mode": "lines",
         "showlegend": false,
         "type": "scatter3d",
         "x": {
          "bdata": "AAAAALooDiy6KI4sFz3VLLooDi3osjEtFz1VLUbHeC26KI4t0e2fLeiysS0AeMMtFz3VLS4C5y1Gx/gtLkYFLrooDi5GCxcu0e0fLl3QKC7osjEudJU6LgB4Qy6LWkwuFz1VLqMfXi4uAmcuuuRvLkbHeC7p1IAuLkaFLnS3iS66KI4uAJqSLkYLly6LfJsu0e2fLhdfpC5d0Kguo0GtLuiysS4uJLYudJW6LroGvy4AeMMuRunHLotazC7Ry9AuFz3VLl2u2S6hH94u55DiLi0C5y5zc+suuOTvLv5V9C5Ex/guijj9LujUAC+LDQMvLkYFL9B+By90twkvFvALL7ooDi9cYRAv/5kSL6LSFC9FCxcv6EMZL4p8Gy8utR0v0O0fL3QmIi8WXyQvuZcmL1zQKC//CCsvokEtL0V6Ly/osjEvi+szLy4kNi/QXDgvdJU6LxbOPC+5Bj8vXD9BL/93Qy+isEUvRelHL+ghSi+LWkwvLpNOL9DLUC9zBFMvFj1VL7l1Vy9crlkv/+ZbLw==",
          "dtype": "f4"
         },
         "y": {
          "bdata": "IjHvQCIx70AiMe9AIjHvQCIx70AiMe9AIjHvQCIx70AiMe9AIjHvQCIx70AiMe9AIjHvQCIx70AiMe9AIjHvQCIx70AiMe9AIjHvQCIx70AiMe9AIjHvQCIx70AiMe9AIjHvQCIx70AiMe9AIjHvQCIx70AiMe9AIjHvQCIx70AiMe9AIjHvQCIx70AiMe9AIjHvQCIx70AiMe9AIjHvQCIx70AiMe9AIjHvQCIx70AiMe9AIjHvQCIx70AiMe9AIjHvQCIx70AiMe9AIjHvQCIx70AiMe9AIjHvQCIx70AiMe9AIjHvQCIx70AiMe9AIjHvQCIx70AiMe9AIjHvQCIx70AiMe9AIjHvQCIx70AiMe9AIjHvQCIx70AiMe9AIjHvQCIx70AiMe9AIjHvQCIx70AiMe9AIjHvQCIx70AiMe9AIjHvQCIx70AiMe9AIjHvQCIx70AiMe9AIjHvQCIx70AiMe9AIjHvQCIx70AiMe9AIjHvQCIx70AiMe9AIjHvQCIx70AiMe9AIjHvQA==",
          "dtype": "f4"
         },
         "z": {
          "bdata": "qTrz1jb8Kt2TAJTdK2GL3e1i/tvtSgFePrmxXlbPKV9bIopfuDHMX8dgDWCglDpglj9tYIhpkmBfWLBghhfQYMNQ8WAL1wlh/m0bYRJGLWGCOj9h9ylRYU73YmH8h3RhA+OCYTJPi2HdgJNho3GbYYAco2FSfaphbJGxYe1VuGFXyb5huunEYdG1ymFULNBhy0vVYQMT2mF4gN5hk5LiYcdH5mFmnulhvpTsYUAp72E2WvFhNibzYQKM9GFvivVhoSD2YR1O9mGQFvZhXXj1YTpv9GEK/PJhNSDxYUvd7mEeNexh9SnpYV6+5WGY9eFhAtPdYala2WHUkNRhGHrPYZEbymFqesRhRZy+Yd2GuGFjQLJhAs+rYTU5pWGFhZ5hgrqXYdLekGH9+Ilhew+DYQRReGFKlGphbfRcYRt8T2GPNUJh/Ck1YcNhKGE35BthlrcPYTLhA2FMyvBgEo3aYMIOxWBCUbBgrFScYBIXiWAFKm1gk5JJYLpaJ2DccgZgWZHNX8yQkF/+ZStfVOioXg==",
          "dtype": "f4"
         }
        },
        {
         "line": {
          "cmax": 609580857281803700000,
          "cmin": -47443170274534490000,
          "color": {
           "bdata": "vZDr1i2uIt2s24fdIIRq3ajsFFxAKhpe28XCXsAVNV+DYpFfU07VX3r9EmBXX0FgKlZ1YEAol2Dg1bVgaVzWYEti+GDPxg1hT8MfYSb9MWE6TURh1I9WYYKlaGHEcXphW+6FYfNojmFtoJZhGo6eYdUspmGfeK1hFW+0YeYNu2EzVMFh7kDHYbvTzGFRDNJhVOrWYaNt22HNld9hSWLjYZXS5mH15elhopvsYcry7mGQ6vBhFYLyYbG482GqjfRhfAD1Yd8Q9WFixfRhqRv0YYkM82HomPFhKMLvYaSJ7WHq8Oph8/nnYdmm5GFN+uBhJPfcYc+g2GHu+tNhgwnPYQnRyWETVsRht52+YSWtuGEOirJhMDqsYZnDpWFyLJ9h/nqYYay1kWHM4ophvQiEYVRbemFLr2xhMRlfYeyjUWElWkRhdkU3YcluKmEH3h1hBZoRYbuoBWHTHfRglKDdYPrex2Am3LJgRZmeYHYVi2BSnHBgEX5MYIbEKWBDYQhg14XQX+askl9jDi5fiu6rXg==",
           "dtype": "f4"
          },
          "colorscale": [
           [
            0,
            "#440154"
           ],
           [
            0.1111111111111111,
            "#482878"
           ],
           [
            0.2222222222222222,
            "#3e4989"
           ],
           [
            0.3333333333333333,
            "#31688e"
           ],
           [
            0.4444444444444444,
            "#26828e"
           ],
           [
            0.5555555555555556,
            "#1f9e89"
           ],
           [
            0.6666666666666666,
            "#35b779"
           ],
           [
            0.7777777777777778,
            "#6ece58"
           ],
           [
            0.8888888888888888,
            "#b5de2b"
           ],
           [
            1,
            "#fde725"
           ]
          ],
          "showscale": false,
          "width": 4
         },
         "mode": "lines",
         "showlegend": false,
         "type": "scatter3d",
         "x": {
          "bdata": "AAAAALooDiy6KI4sFz3VLLooDi3osjEtFz1VLUbHeC26KI4t0e2fLeiysS0AeMMtFz3VLS4C5y1Gx/gtLkYFLrooDi5GCxcu0e0fLl3QKC7osjEudJU6LgB4Qy6LWkwuFz1VLqMfXi4uAmcuuuRvLkbHeC7p1IAuLkaFLnS3iS66KI4uAJqSLkYLly6LfJsu0e2fLhdfpC5d0Kguo0GtLuiysS4uJLYudJW6LroGvy4AeMMuRunHLotazC7Ry9AuFz3VLl2u2S6hH94u55DiLi0C5y5zc+suuOTvLv5V9C5Ex/guijj9LujUAC+LDQMvLkYFL9B+By90twkvFvALL7ooDi9cYRAv/5kSL6LSFC9FCxcv6EMZL4p8Gy8utR0v0O0fL3QmIi8WXyQvuZcmL1zQKC//CCsvokEtL0V6Ly/osjEvi+szLy4kNi/QXDgvdJU6LxbOPC+5Bj8vXD9BL/93Qy+isEUvRelHL+ghSi+LWkwvLpNOL9DLUC9zBFMvFj1VL7l1Vy9crlkv/+ZbLw==",
          "dtype": "f4"
         },
         "y": {
          "bdata": "Faj1QBWo9UAVqPVAFaj1QBWo9UAVqPVAFaj1QBWo9UAVqPVAFaj1QBWo9UAVqPVAFaj1QBWo9UAVqPVAFaj1QBWo9UAVqPVAFaj1QBWo9UAVqPVAFaj1QBWo9UAVqPVAFaj1QBWo9UAVqPVAFaj1QBWo9UAVqPVAFaj1QBWo9UAVqPVAFaj1QBWo9UAVqPVAFaj1QBWo9UAVqPVAFaj1QBWo9UAVqPVAFaj1QBWo9UAVqPVAFaj1QBWo9UAVqPVAFaj1QBWo9UAVqPVAFaj1QBWo9UAVqPVAFaj1QBWo9UAVqPVAFaj1QBWo9UAVqPVAFaj1QBWo9UAVqPVAFaj1QBWo9UAVqPVAFaj1QBWo9UAVqPVAFaj1QBWo9UAVqPVAFaj1QBWo9UAVqPVAFaj1QBWo9UAVqPVAFaj1QBWo9UAVqPVAFaj1QBWo9UAVqPVAFaj1QBWo9UAVqPVAFaj1QBWo9UAVqPVAFaj1QBWo9UAVqPVAFaj1QBWo9UAVqPVAFaj1QBWo9UAVqPVAFaj1QA==",
          "dtype": "f4"
         },
         "z": {
          "bdata": "vZDr1i2uIt2s24fdIIRq3ajsFFxAKhpe28XCXsAVNV+DYpFfU07VX3r9EmBXX0FgKlZ1YEAol2Dg1bVgaVzWYEti+GDPxg1hT8MfYSb9MWE6TURh1I9WYYKlaGHEcXphW+6FYfNojmFtoJZhGo6eYdUspmGfeK1hFW+0YeYNu2EzVMFh7kDHYbvTzGFRDNJhVOrWYaNt22HNld9hSWLjYZXS5mH15elhopvsYcry7mGQ6vBhFYLyYbG482GqjfRhfAD1Yd8Q9WFixfRhqRv0YYkM82HomPFhKMLvYaSJ7WHq8Oph8/nnYdmm5GFN+uBhJPfcYc+g2GHu+tNhgwnPYQnRyWETVsRht52+YSWtuGEOirJhMDqsYZnDpWFyLJ9h/nqYYay1kWHM4ophvQiEYVRbemFLr2xhMRlfYeyjUWElWkRhdkU3YcluKmEH3h1hBZoRYbuoBWHTHfRglKDdYPrex2Am3LJgRZmeYHYVi2BSnHBgEX5MYIbEKWBDYQhg14XQX+askl9jDi5fiu6rXg==",
          "dtype": "f4"
         }
        },
        {
         "line": {
          "cmax": 609580857281803700000,
          "cmin": -47443170274534490000,
          "color": {
           "bdata": "Dgnk1qZYGt3WfHfd7H4+3dCB01zsyzJe6Z3TXrQyQF/pg5hffD/eX8R8GGCQA0hgBTx9YOHIm2AbL7tgkHbcYG9C/2CUmhFha/kjYQiSNmEGO0lhZs5bYZMqbmGEGIBhEeSIYflskWGIqplhrZWhYSspqWEhYbBhcDu3YUK2vWFt0cNhmozJYVfozmFZ5dNhSYTYYQrG3GEwq+BhSzTkYb1h52HDM+pha6rsYbTF7mFqhfBhUOnxYUrx8mEDnfNhUuzzYS/f82HpfvNhaMjyYcux8WEKPPBhdmjuYUg47GHgrOlh2cfmYfGK42Fc+N9hZhLcYe/b12EEWNNhEIrOYfR1yWG1H8Rh54u+YSC/uGGkvrJht4+sYQA4pmFHvZ9hgyWZYdt2kmF2t4thiO2EYWI+fGH8pG5h0BphYQCrU2F/YEZhWEU5YexiLGGrwR9h/2gTYXdfB2HhVPdgc5zgYCCcymAgWLVgs9KgYPELjWBsBHRg5mNPYCcsLGDoTwpgsX3TXzfNlF9EvTBfmPuuXg==",
           "dtype": "f4"
          },
          "colorscale": [
           [
            0,
            "#440154"
           ],
           [
            0.1111111111111111,
            "#482878"
           ],
           [
            0.2222222222222222,
            "#3e4989"
           ],
           [
            0.3333333333333333,
            "#31688e"
           ],
           [
            0.4444444444444444,
            "#26828e"
           ],
           [
            0.5555555555555556,
            "#1f9e89"
           ],
           [
            0.6666666666666666,
            "#35b779"
           ],
           [
            0.7777777777777778,
            "#6ece58"
           ],
           [
            0.8888888888888888,
            "#b5de2b"
           ],
           [
            1,
            "#fde725"
           ]
          ],
          "showscale": false,
          "width": 4
         },
         "mode": "lines",
         "showlegend": false,
         "type": "scatter3d",
         "x": {
          "bdata": "AAAAALooDiy6KI4sFz3VLLooDi3osjEtFz1VLUbHeC26KI4t0e2fLeiysS0AeMMtFz3VLS4C5y1Gx/gtLkYFLrooDi5GCxcu0e0fLl3QKC7osjEudJU6LgB4Qy6LWkwuFz1VLqMfXi4uAmcuuuRvLkbHeC7p1IAuLkaFLnS3iS66KI4uAJqSLkYLly6LfJsu0e2fLhdfpC5d0Kguo0GtLuiysS4uJLYudJW6LroGvy4AeMMuRunHLotazC7Ry9AuFz3VLl2u2S6hH94u55DiLi0C5y5zc+suuOTvLv5V9C5Ex/guijj9LujUAC+LDQMvLkYFL9B+By90twkvFvALL7ooDi9cYRAv/5kSL6LSFC9FCxcv6EMZL4p8Gy8utR0v0O0fL3QmIi8WXyQvuZcmL1zQKC//CCsvokEtL0V6Ly/osjEvi+szLy4kNi/QXDgvdJU6LxbOPC+5Bj8vXD9BL/93Qy+isEUvRelHL+ghSi+LWkwvLpNOL9DLUC9zBFMvFj1VL7l1Vy9crlkv/+ZbLw==",
          "dtype": "f4"
         },
         "y": {
          "bdata": "CB/8QAgf/EAIH/xACB/8QAgf/EAIH/xACB/8QAgf/EAIH/xACB/8QAgf/EAIH/xACB/8QAgf/EAIH/xACB/8QAgf/EAIH/xACB/8QAgf/EAIH/xACB/8QAgf/EAIH/xACB/8QAgf/EAIH/xACB/8QAgf/EAIH/xACB/8QAgf/EAIH/xACB/8QAgf/EAIH/xACB/8QAgf/EAIH/xACB/8QAgf/EAIH/xACB/8QAgf/EAIH/xACB/8QAgf/EAIH/xACB/8QAgf/EAIH/xACB/8QAgf/EAIH/xACB/8QAgf/EAIH/xACB/8QAgf/EAIH/xACB/8QAgf/EAIH/xACB/8QAgf/EAIH/xACB/8QAgf/EAIH/xACB/8QAgf/EAIH/xACB/8QAgf/EAIH/xACB/8QAgf/EAIH/xACB/8QAgf/EAIH/xACB/8QAgf/EAIH/xACB/8QAgf/EAIH/xACB/8QAgf/EAIH/xACB/8QAgf/EAIH/xACB/8QAgf/EAIH/xACB/8QAgf/EAIH/xACB/8QA==",
          "dtype": "f4"
         },
         "z": {
          "bdata": "Dgnk1qZYGt3WfHfd7H4+3dCB01zsyzJe6Z3TXrQyQF/pg5hffD/eX8R8GGCQA0hgBTx9YOHIm2AbL7tgkHbcYG9C/2CUmhFha/kjYQiSNmEGO0lhZs5bYZMqbmGEGIBhEeSIYflskWGIqplhrZWhYSspqWEhYbBhcDu3YUK2vWFt0cNhmozJYVfozmFZ5dNhSYTYYQrG3GEwq+BhSzTkYb1h52HDM+pha6rsYbTF7mFqhfBhUOnxYUrx8mEDnfNhUuzzYS/f82HpfvNhaMjyYcux8WEKPPBhdmjuYUg47GHgrOlh2cfmYfGK42Fc+N9hZhLcYe/b12EEWNNhEIrOYfR1yWG1H8Rh54u+YSC/uGGkvrJht4+sYQA4pmFHvZ9hgyWZYdt2kmF2t4thiO2EYWI+fGH8pG5h0BphYQCrU2F/YEZhWEU5YexiLGGrwR9h/2gTYXdfB2HhVPdgc5zgYCCcymAgWLVgs9KgYPELjWBsBHRg5mNPYCcsLGDoTwpgsX3TXzfNlF9EvTBfmPuuXg==",
          "dtype": "f4"
         }
        },
        {
         "line": {
          "cmax": 609580857281803700000,
          "cmin": -47443170274534490000,
          "color": {
           "bdata": "Sbfc1m//Ed2BWl/d+MAS3TeyLV1vKktecD7kXrwkS1/jhZ9ftwTnX3zeHWBbgU5goHiCYJdLoGBiZMBgW2biYN34AmGlUhVhpRAoYQgFO2E9BE5hGeZgYeqGc2Ed44JhXcSLYYtblGFun5xhpIikYdMRrGEqN7Nh2Pa5YX1PwGGCQcZhVc3LYWX00GFDuNVhnRraYVId3mHxweFhBQrlYdz252GZiephFsPsYRGk7mEALfBhRF7xYUQ48mEJu/JhzObyYcK78mHURfJhSoHxYbFh8GEG6O5hoxXtYarr6mFCa+hhypXlYaBs4mGV8d5hdCbbYYkN12FjqdJh2fzNYUQLyWEX2MNhYGe+YUG9uGFv3rJhxM+sYX2WpmH/N6Bh8LmZYTIik2G1doxhiL2FYWj5fWGEdHBhZvhiYV6QVWGkR0hhoSg7YSY9LmEejiFhgyMVYWoECWGAbfpg3H7jYG9EzWCJw7dga/+iYCD5jmDGX3dg10FSYKuPLmA4PQxgS3bWX8zvll8bcDNfeQyyXg==",
           "dtype": "f4"
          },
          "colorscale": [
           [
            0,
            "#440154"
           ],
           [
            0.1111111111111111,
            "#482878"
           ],
           [
            0.2222222222222222,
            "#3e4989"
           ],
           [
            0.3333333333333333,
            "#31688e"
           ],
           [
            0.4444444444444444,
            "#26828e"
           ],
           [
            0.5555555555555556,
            "#1f9e89"
           ],
           [
            0.6666666666666666,
            "#35b779"
           ],
           [
            0.7777777777777778,
            "#6ece58"
           ],
           [
            0.8888888888888888,
            "#b5de2b"
           ],
           [
            1,
            "#fde725"
           ]
          ],
          "showscale": false,
          "width": 4
         },
         "mode": "lines",
         "showlegend": false,
         "type": "scatter3d",
         "x": {
          "bdata": "AAAAALooDiy6KI4sFz3VLLooDi3osjEtFz1VLUbHeC26KI4t0e2fLeiysS0AeMMtFz3VLS4C5y1Gx/gtLkYFLrooDi5GCxcu0e0fLl3QKC7osjEudJU6LgB4Qy6LWkwuFz1VLqMfXi4uAmcuuuRvLkbHeC7p1IAuLkaFLnS3iS66KI4uAJqSLkYLly6LfJsu0e2fLhdfpC5d0Kguo0GtLuiysS4uJLYudJW6LroGvy4AeMMuRunHLotazC7Ry9AuFz3VLl2u2S6hH94u55DiLi0C5y5zc+suuOTvLv5V9C5Ex/guijj9LujUAC+LDQMvLkYFL9B+By90twkvFvALL7ooDi9cYRAv/5kSL6LSFC9FCxcv6EMZL4p8Gy8utR0v0O0fL3QmIi8WXyQvuZcmL1zQKC//CCsvokEtL0V6Ly/osjEvi+szLy4kNi/QXDgvdJU6LxbOPC+5Bj8vXD9BL/93Qy+isEUvRelHL+ghSi+LWkwvLpNOL9DLUC9zBFMvFj1VL7l1Vy9crlkv/+ZbLw==",
          "dtype": "f4"
         },
         "y": {
          "bdata": "/koBQf5KAUH+SgFB/koBQf5KAUH+SgFB/koBQf5KAUH+SgFB/koBQf5KAUH+SgFB/koBQf5KAUH+SgFB/koBQf5KAUH+SgFB/koBQf5KAUH+SgFB/koBQf5KAUH+SgFB/koBQf5KAUH+SgFB/koBQf5KAUH+SgFB/koBQf5KAUH+SgFB/koBQf5KAUH+SgFB/koBQf5KAUH+SgFB/koBQf5KAUH+SgFB/koBQf5KAUH+SgFB/koBQf5KAUH+SgFB/koBQf5KAUH+SgFB/koBQf5KAUH+SgFB/koBQf5KAUH+SgFB/koBQf5KAUH+SgFB/koBQf5KAUH+SgFB/koBQf5KAUH+SgFB/koBQf5KAUH+SgFB/koBQf5KAUH+SgFB/koBQf5KAUH+SgFB/koBQf5KAUH+SgFB/koBQf5KAUH+SgFB/koBQf5KAUH+SgFB/koBQf5KAUH+SgFB/koBQf5KAUH+SgFB/koBQf5KAUH+SgFB/koBQf5KAUH+SgFB/koBQf5KAUH+SgFB/koBQQ==",
          "dtype": "f4"
         },
         "z": {
          "bdata": "Sbfc1m//Ed2BWl/d+MAS3TeyLV1vKktecD7kXrwkS1/jhZ9ftwTnX3zeHWBbgU5goHiCYJdLoGBiZMBgW2biYN34AmGlUhVhpRAoYQgFO2E9BE5hGeZgYeqGc2Ed44JhXcSLYYtblGFun5xhpIikYdMRrGEqN7Nh2Pa5YX1PwGGCQcZhVc3LYWX00GFDuNVhnRraYVId3mHxweFhBQrlYdz252GZiephFsPsYRGk7mEALfBhRF7xYUQ48mEJu/JhzObyYcK78mHURfJhSoHxYbFh8GEG6O5hoxXtYarr6mFCa+hhypXlYaBs4mGV8d5hdCbbYYkN12FjqdJh2fzNYUQLyWEX2MNhYGe+YUG9uGFv3rJhxM+sYX2WpmH/N6Bh8LmZYTIik2G1doxhiL2FYWj5fWGEdHBhZvhiYV6QVWGkR0hhoSg7YSY9LmEejiFhgyMVYWoECWGAbfpg3H7jYG9EzWCJw7dga/+iYCD5jmDGX3dg10FSYKuPLmA4PQxgS3bWX8zvll8bcDNfeQyyXg==",
          "dtype": "f4"
         }
        },
        {
         "line": {
          "cmax": 609580857281803700000,
          "cmin": -47443170274534490000,
          "color": {
           "bdata": "FazV1immCd3iWEfdRK/O3DL9cF1/QGNehaT0XmjqVV/KZ6ZfgJ3vX4MiI2C02FRgBzuGYJOwpGD5dcVgMyzoYEw4BmFM7xhhVAksYY1WP2FSqVJhU9dlYfG6eGHkmIVhco+OYdg0l2FXf59hOGenYQnnrmED+7VhnKG8YeLZwmHTpMhhlgPOYVz40mGihddhAq7bYUN032H32uJhheTlYSOT6GHG6OphFOfsYXuP7mEY4+9h3OLwYZ6P8WHf6fFhIPLxYdGo8WFtHPFhnEjwYX8e72Enn+1h9cvrYfWl6WEsLudhx2XkYdRN4WG7591h3DTaYQ431mFS8NFhBWPNYfiRyGEXgMNh7TC+YR2ouGHo6bJhsfqsYUffpmG1nKBhRziaYZe3k2FeII1hgHiGYdOLf2E5HXJhNbFkYTdTV2G1Dkphau48YYf8L2FyQiNhm8gWYZ2WCmHhZf1gAEbmYC/Wz2DBHLpg6h2lYJ3bkGDQq3pglRVVYBjtMGCHJw5gDm3ZX7MSmV9gJDZfQB61Xg==",
           "dtype": "f4"
          },
          "colorscale": [
           [
            0,
            "#440154"
           ],
           [
            0.1111111111111111,
            "#482878"
           ],
           [
            0.2222222222222222,
            "#3e4989"
           ],
           [
            0.3333333333333333,
            "#31688e"
           ],
           [
            0.4444444444444444,
            "#26828e"
           ],
           [
            0.5555555555555556,
            "#1f9e89"
           ],
           [
            0.6666666666666666,
            "#35b779"
           ],
           [
            0.7777777777777778,
            "#6ece58"
           ],
           [
            0.8888888888888888,
            "#b5de2b"
           ],
           [
            1,
            "#fde725"
           ]
          ],
          "showscale": false,
          "width": 4
         },
         "mode": "lines",
         "showlegend": false,
         "type": "scatter3d",
         "x": {
          "bdata": "AAAAALooDiy6KI4sFz3VLLooDi3osjEtFz1VLUbHeC26KI4t0e2fLeiysS0AeMMtFz3VLS4C5y1Gx/gtLkYFLrooDi5GCxcu0e0fLl3QKC7osjEudJU6LgB4Qy6LWkwuFz1VLqMfXi4uAmcuuuRvLkbHeC7p1IAuLkaFLnS3iS66KI4uAJqSLkYLly6LfJsu0e2fLhdfpC5d0Kguo0GtLuiysS4uJLYudJW6LroGvy4AeMMuRunHLotazC7Ry9AuFz3VLl2u2S6hH94u55DiLi0C5y5zc+suuOTvLv5V9C5Ex/guijj9LujUAC+LDQMvLkYFL9B+By90twkvFvALL7ooDi9cYRAv/5kSL6LSFC9FCxcv6EMZL4p8Gy8utR0v0O0fL3QmIi8WXyQvuZcmL1zQKC//CCsvokEtL0V6Ly/osjEvi+szLy4kNi/QXDgvdJU6LxbOPC+5Bj8vXD9BL/93Qy+isEUvRelHL+ghSi+LWkwvLpNOL9DLUC9zBFMvFj1VL7l1Vy9crlkv/+ZbLw==",
          "dtype": "f4"
         },
         "y": {
          "bdata": "d4YEQXeGBEF3hgRBd4YEQXeGBEF3hgRBd4YEQXeGBEF3hgRBd4YEQXeGBEF3hgRBd4YEQXeGBEF3hgRBd4YEQXeGBEF3hgRBd4YEQXeGBEF3hgRBd4YEQXeGBEF3hgRBd4YEQXeGBEF3hgRBd4YEQXeGBEF3hgRBd4YEQXeGBEF3hgRBd4YEQXeGBEF3hgRBd4YEQXeGBEF3hgRBd4YEQXeGBEF3hgRBd4YEQXeGBEF3hgRBd4YEQXeGBEF3hgRBd4YEQXeGBEF3hgRBd4YEQXeGBEF3hgRBd4YEQXeGBEF3hgRBd4YEQXeGBEF3hgRBd4YEQXeGBEF3hgRBd4YEQXeGBEF3hgRBd4YEQXeGBEF3hgRBd4YEQXeGBEF3hgRBd4YEQXeGBEF3hgRBd4YEQXeGBEF3hgRBd4YEQXeGBEF3hgRBd4YEQXeGBEF3hgRBd4YEQXeGBEF3hgRBd4YEQXeGBEF3hgRBd4YEQXeGBEF3hgRBd4YEQXeGBEF3hgRBd4YEQXeGBEF3hgRBd4YEQQ==",
          "dtype": "f4"
         },
         "z": {
          "bdata": "FazV1immCd3iWEfdRK/O3DL9cF1/QGNehaT0XmjqVV/KZ6ZfgJ3vX4MiI2C02FRgBzuGYJOwpGD5dcVgMyzoYEw4BmFM7xhhVAksYY1WP2FSqVJhU9dlYfG6eGHkmIVhco+OYdg0l2FXf59hOGenYQnnrmED+7VhnKG8YeLZwmHTpMhhlgPOYVz40mGihddhAq7bYUN032H32uJhheTlYSOT6GHG6OphFOfsYXuP7mEY4+9h3OLwYZ6P8WHf6fFhIPLxYdGo8WFtHPFhnEjwYX8e72Enn+1h9cvrYfWl6WEsLudhx2XkYdRN4WG7591h3DTaYQ431mFS8NFhBWPNYfiRyGEXgMNh7TC+YR2ouGHo6bJhsfqsYUffpmG1nKBhRziaYZe3k2FeII1hgHiGYdOLf2E5HXJhNbFkYTdTV2G1Dkphau48YYf8L2FyQiNhm8gWYZ2WCmHhZf1gAEbmYC/Wz2DBHLpg6h2lYJ3bkGDQq3pglRVVYBjtMGCHJw5gDm3ZX7MSmV9gJDZfQB61Xg==",
          "dtype": "f4"
         }
        },
        {
         "line": {
          "cmax": 609580857281803700000,
          "cmin": -47443170274534490000,
          "color": {
           "bdata": "tvTO1jtQAd3Ofy/dHz1x3MfImV1DCXtezWYCX36CYF8gKa1fdQn4X8RIKGCkCVtgXeWJYA34qGAxZMpghsjtYM5fCWHbcBxh1eMvYfqGQ2GkKldhkaJqYRvHfWEPOohhk0WRYSH5mWF+SqJhoTGqYf+osWHfrLhh9ju/YbFVxWGl+8phnC/QYZX01GHdTdlh6z7dYXXL4GHk9uNhiMTmYW436WFPUuthhxftYTaJ7mEOqe9hhnjwYfb48GEuK/FhCRDxYTio8GGdBPBhXyDvYTzq7WFzY+xhYo3qYRhp6GGN9+VhrznjYVEw4GGC3NxhRT/ZYfxZ1WFBLtFh473MYTMLyGG1GMNhaOm9YXaAuGGw4bJh/RCtYcYSp2Gy66BhtqCaYSY3lGF2tI1hYx6HYbR6gGG1nnNhtERmYenyWGH+tEth7ZU+YUSgMWHQ3SRhb1cYYTsVDGElHgBhMfDoYL5P0mArYrxgqSynYP6xkmAC5n1g4NxXYHhCM2AsDRBgSF/cX/Yzm1+F1zhfEi64Xg==",
           "dtype": "f4"
          },
          "colorscale": [
           [
            0,
            "#440154"
           ],
           [
            0.1111111111111111,
            "#482878"
           ],
           [
            0.2222222222222222,
            "#3e4989"
           ],
           [
            0.3333333333333333,
            "#31688e"
           ],
           [
            0.4444444444444444,
            "#26828e"
           ],
           [
            0.5555555555555556,
            "#1f9e89"
           ],
           [
            0.6666666666666666,
            "#35b779"
           ],
           [
            0.7777777777777778,
            "#6ece58"
           ],
           [
            0.8888888888888888,
            "#b5de2b"
           ],
           [
            1,
            "#fde725"
           ]
          ],
          "showscale": false,
          "width": 4
         },
         "mode": "lines",
         "showlegend": false,
         "type": "scatter3d",
         "x": {
          "bdata": "AAAAALooDiy6KI4sFz3VLLooDi3osjEtFz1VLUbHeC26KI4t0e2fLeiysS0AeMMtFz3VLS4C5y1Gx/gtLkYFLrooDi5GCxcu0e0fLl3QKC7osjEudJU6LgB4Qy6LWkwuFz1VLqMfXi4uAmcuuuRvLkbHeC7p1IAuLkaFLnS3iS66KI4uAJqSLkYLly6LfJsu0e2fLhdfpC5d0Kguo0GtLuiysS4uJLYudJW6LroGvy4AeMMuRunHLotazC7Ry9AuFz3VLl2u2S6hH94u55DiLi0C5y5zc+suuOTvLv5V9C5Ex/guijj9LujUAC+LDQMvLkYFL9B+By90twkvFvALL7ooDi9cYRAv/5kSL6LSFC9FCxcv6EMZL4p8Gy8utR0v0O0fL3QmIi8WXyQvuZcmL1zQKC//CCsvokEtL0V6Ly/osjEvi+szLy4kNi/QXDgvdJU6LxbOPC+5Bj8vXD9BL/93Qy+isEUvRelHL+ghSi+LWkwvLpNOL9DLUC9zBFMvFj1VL7l1Vy9crlkv/+ZbLw==",
          "dtype": "f4"
         },
         "y": {
          "bdata": "8MEHQfDBB0HwwQdB8MEHQfDBB0HwwQdB8MEHQfDBB0HwwQdB8MEHQfDBB0HwwQdB8MEHQfDBB0HwwQdB8MEHQfDBB0HwwQdB8MEHQfDBB0HwwQdB8MEHQfDBB0HwwQdB8MEHQfDBB0HwwQdB8MEHQfDBB0HwwQdB8MEHQfDBB0HwwQdB8MEHQfDBB0HwwQdB8MEHQfDBB0HwwQdB8MEHQfDBB0HwwQdB8MEHQfDBB0HwwQdB8MEHQfDBB0HwwQdB8MEHQfDBB0HwwQdB8MEHQfDBB0HwwQdB8MEHQfDBB0HwwQdB8MEHQfDBB0HwwQdB8MEHQfDBB0HwwQdB8MEHQfDBB0HwwQdB8MEHQfDBB0HwwQdB8MEHQfDBB0HwwQdB8MEHQfDBB0HwwQdB8MEHQfDBB0HwwQdB8MEHQfDBB0HwwQdB8MEHQfDBB0HwwQdB8MEHQfDBB0HwwQdB8MEHQfDBB0HwwQdB8MEHQfDBB0HwwQdB8MEHQfDBB0HwwQdB8MEHQfDBB0HwwQdB8MEHQQ==",
          "dtype": "f4"
         },
         "z": {
          "bdata": "tvTO1jtQAd3Ofy/dHz1x3MfImV1DCXtezWYCX36CYF8gKa1fdQn4X8RIKGCkCVtgXeWJYA34qGAxZMpghsjtYM5fCWHbcBxh1eMvYfqGQ2GkKldhkaJqYRvHfWEPOohhk0WRYSH5mWF+SqJhoTGqYf+osWHfrLhh9ju/YbFVxWGl+8phnC/QYZX01GHdTdlh6z7dYXXL4GHk9uNhiMTmYW436WFPUuthhxftYTaJ7mEOqe9hhnjwYfb48GEuK/FhCRDxYTio8GGdBPBhXyDvYTzq7WFzY+xhYo3qYRhp6GGN9+VhrznjYVEw4GGC3NxhRT/ZYfxZ1WFBLtFh473MYTMLyGG1GMNhaOm9YXaAuGGw4bJh/RCtYcYSp2Gy66BhtqCaYSY3lGF2tI1hYx6HYbR6gGG1nnNhtERmYenyWGH+tEth7ZU+YUSgMWHQ3SRhb1cYYTsVDGElHgBhMfDoYL5P0mArYrxgqSynYP6xkmAC5n1g4NxXYHhCM2AsDRBgSF/cX/Yzm1+F1zhfEi64Xg==",
          "dtype": "f4"
         }
        },
        {
         "line": {
          "cmax": 609580857281803700000,
          "cmin": -47443170274534490000,
          "color": {
           "bdata": "CpvI1tIA8tzQ1RfdJY6N20uxul2ZQIle+VsKXzXsal+gybNfUyQAYGxRLWCVFGFg43eNYHEirWCcL89g/TvzYMhvDGG/1x9hqqAzYd2WR2HZiFthYEhvYQNWgWH5xophEOeTYbConGErAaVhKeisYf9XtGEFTbthIMbBYSnDx2E5Rs1htFHSYV7p1mFKEdthvM3eYUsj4mE9FuVhpKrnYV/k6WHfxuthPlXtYSmS7mHkf+9hcCDwYXl18GFGgPBh8kHwYWy772H8/+5hKgruYZfG7GGfNuthuFvpYeo252EoyeRhQhPiYcsV32GZ0dthTEfYYe131GGXZNBhwQ7MYUV4x2Eeo8Jh4ZG9YUNHuGGcxrJhYhOtYZIxp2F2JaFho/OaYSahlGEuM45hQ6+HYRAbgWHW+HRhprJnYRlvWmEGOk1hmx5AYbgnM2GCXyZhQM8ZYXl/DWGTdwFh0nvrYIKv1GBSkr5gQiqpYO16lGDwhYBgepVaYNiNNWCC7BFgWUrfX6NRnV8dhztfOjm7Xg==",
           "dtype": "f4"
          },
          "colorscale": [
           [
            0,
            "#440154"
           ],
           [
            0.1111111111111111,
            "#482878"
           ],
           [
            0.2222222222222222,
            "#3e4989"
           ],
           [
            0.3333333333333333,
            "#31688e"
           ],
           [
            0.4444444444444444,
            "#26828e"
           ],
           [
            0.5555555555555556,
            "#1f9e89"
           ],
           [
            0.6666666666666666,
            "#35b779"
           ],
           [
            0.7777777777777778,
            "#6ece58"
           ],
           [
            0.8888888888888888,
            "#b5de2b"
           ],
           [
            1,
            "#fde725"
           ]
          ],
          "showscale": false,
          "width": 4
         },
         "mode": "lines",
         "showlegend": false,
         "type": "scatter3d",
         "x": {
          "bdata": "AAAAALooDiy6KI4sFz3VLLooDi3osjEtFz1VLUbHeC26KI4t0e2fLeiysS0AeMMtFz3VLS4C5y1Gx/gtLkYFLrooDi5GCxcu0e0fLl3QKC7osjEudJU6LgB4Qy6LWkwuFz1VLqMfXi4uAmcuuuRvLkbHeC7p1IAuLkaFLnS3iS66KI4uAJqSLkYLly6LfJsu0e2fLhdfpC5d0Kguo0GtLuiysS4uJLYudJW6LroGvy4AeMMuRunHLotazC7Ry9AuFz3VLl2u2S6hH94u55DiLi0C5y5zc+suuOTvLv5V9C5Ex/guijj9LujUAC+LDQMvLkYFL9B+By90twkvFvALL7ooDi9cYRAv/5kSL6LSFC9FCxcv6EMZL4p8Gy8utR0v0O0fL3QmIi8WXyQvuZcmL1zQKC//CCsvokEtL0V6Ly/osjEvi+szLy4kNi/QXDgvdJU6LxbOPC+5Bj8vXD9BL/93Qy+isEUvRelHL+ghSi+LWkwvLpNOL9DLUC9zBFMvFj1VL7l1Vy9crlkv/+ZbLw==",
          "dtype": "f4"
         },
         "y": {
          "bdata": "av0KQWr9CkFq/QpBav0KQWr9CkFq/QpBav0KQWr9CkFq/QpBav0KQWr9CkFq/QpBav0KQWr9CkFq/QpBav0KQWr9CkFq/QpBav0KQWr9CkFq/QpBav0KQWr9CkFq/QpBav0KQWr9CkFq/QpBav0KQWr9CkFq/QpBav0KQWr9CkFq/QpBav0KQWr9CkFq/QpBav0KQWr9CkFq/QpBav0KQWr9CkFq/QpBav0KQWr9CkFq/QpBav0KQWr9CkFq/QpBav0KQWr9CkFq/QpBav0KQWr9CkFq/QpBav0KQWr9CkFq/QpBav0KQWr9CkFq/QpBav0KQWr9CkFq/QpBav0KQWr9CkFq/QpBav0KQWr9CkFq/QpBav0KQWr9CkFq/QpBav0KQWr9CkFq/QpBav0KQWr9CkFq/QpBav0KQWr9CkFq/QpBav0KQWr9CkFq/QpBav0KQWr9CkFq/QpBav0KQWr9CkFq/QpBav0KQWr9CkFq/QpBav0KQWr9CkFq/QpBav0KQWr9CkFq/QpBav0KQQ==",
          "dtype": "f4"
         },
         "z": {
          "bdata": "CpvI1tIA8tzQ1RfdJY6N20uxul2ZQIle+VsKXzXsal+gybNfUyQAYGxRLWCVFGFg43eNYHEirWCcL89g/TvzYMhvDGG/1x9hqqAzYd2WR2HZiFthYEhvYQNWgWH5xophEOeTYbConGErAaVhKeisYf9XtGEFTbthIMbBYSnDx2E5Rs1htFHSYV7p1mFKEdthvM3eYUsj4mE9FuVhpKrnYV/k6WHfxuthPlXtYSmS7mHkf+9hcCDwYXl18GFGgPBh8kHwYWy772H8/+5hKgruYZfG7GGfNuthuFvpYeo252EoyeRhQhPiYcsV32GZ0dthTEfYYe131GGXZNBhwQ7MYUV4x2Eeo8Jh4ZG9YUNHuGGcxrJhYhOtYZIxp2F2JaFho/OaYSahlGEuM45hQ6+HYRAbgWHW+HRhprJnYRlvWmEGOk1hmx5AYbgnM2GCXyZhQM8ZYXl/DWGTdwFh0nvrYIKv1GBSkr5gQiqpYO16lGDwhYBgepVaYNiNNWCC7BFgWUrfX6NRnV8dhztfOjm7Xg==",
          "dtype": "f4"
         }
        },
        {
         "line": {
          "cmax": 609580857281803700000,
          "cmin": -47443170274534490000,
          "color": {
           "bdata": "oKXC1vly4dwHYQDdnbjDW9Ex211Z0pRe3TASX8gmdV8QSbpffS0EYJI8MmDI+WZg3vKQYBswsWCt2NNgNof4YJloD2FxJCNhSEA3YbmGS2FwxF9hYMlzYSa1g2HlP41hKXSWYctDn2Geo6dhCYuvYTv0tmGa271hQkDEYWsiymGnhM9h+GnUYc/W2GH3z9xhklrgYfR742EpOeZhFZfoYUia6mHnRuxhq6DtYdmq7mE6aO9hNtvvYfgF8GEP6u9h4IjvYZfj7mGtD+5hTQftYe+062EWGuphaDjoYesQ5mGRpONhD/TgYdz/3WGLyNphek7XYU+S02HVlM9hEVfLYXLaxmGNIMJhfiu9YY39t2GXmbJhrwKtYWY8p2GbSqFhkjGbYf31lGHUnI5hXiuIYSGngWG3K3Zh9vpoYZLHW2F6nU5hCIhBYWGSNGHyxidhZy8bYajUDmGAvgJheeftYBD01mC6q8BgRxWrYBY1lmB6DYJgMT1dYELNN2DlwxNgnSviX8Vpn1+rMD5fGD2+Xg==",
           "dtype": "f4"
          },
          "colorscale": [
           [
            0,
            "#440154"
           ],
           [
            0.1111111111111111,
            "#482878"
           ],
           [
            0.2222222222222222,
            "#3e4989"
           ],
           [
            0.3333333333333333,
            "#31688e"
           ],
           [
            0.4444444444444444,
            "#26828e"
           ],
           [
            0.5555555555555556,
            "#1f9e89"
           ],
           [
            0.6666666666666666,
            "#35b779"
           ],
           [
            0.7777777777777778,
            "#6ece58"
           ],
           [
            0.8888888888888888,
            "#b5de2b"
           ],
           [
            1,
            "#fde725"
           ]
          ],
          "showscale": false,
          "width": 4
         },
         "mode": "lines",
         "showlegend": false,
         "type": "scatter3d",
         "x": {
          "bdata": "AAAAALooDiy6KI4sFz3VLLooDi3osjEtFz1VLUbHeC26KI4t0e2fLeiysS0AeMMtFz3VLS4C5y1Gx/gtLkYFLrooDi5GCxcu0e0fLl3QKC7osjEudJU6LgB4Qy6LWkwuFz1VLqMfXi4uAmcuuuRvLkbHeC7p1IAuLkaFLnS3iS66KI4uAJqSLkYLly6LfJsu0e2fLhdfpC5d0Kguo0GtLuiysS4uJLYudJW6LroGvy4AeMMuRunHLotazC7Ry9AuFz3VLl2u2S6hH94u55DiLi0C5y5zc+suuOTvLv5V9C5Ex/guijj9LujUAC+LDQMvLkYFL9B+By90twkvFvALL7ooDi9cYRAv/5kSL6LSFC9FCxcv6EMZL4p8Gy8utR0v0O0fL3QmIi8WXyQvuZcmL1zQKC//CCsvokEtL0V6Ly/osjEvi+szLy4kNi/QXDgvdJU6LxbOPC+5Bj8vXD9BL/93Qy+isEUvRelHL+ghSi+LWkwvLpNOL9DLUC9zBFMvFj1VL7l1Vy9crlkv/+ZbLw==",
          "dtype": "f4"
         },
         "y": {
          "bdata": "5DgOQeQ4DkHkOA5B5DgOQeQ4DkHkOA5B5DgOQeQ4DkHkOA5B5DgOQeQ4DkHkOA5B5DgOQeQ4DkHkOA5B5DgOQeQ4DkHkOA5B5DgOQeQ4DkHkOA5B5DgOQeQ4DkHkOA5B5DgOQeQ4DkHkOA5B5DgOQeQ4DkHkOA5B5DgOQeQ4DkHkOA5B5DgOQeQ4DkHkOA5B5DgOQeQ4DkHkOA5B5DgOQeQ4DkHkOA5B5DgOQeQ4DkHkOA5B5DgOQeQ4DkHkOA5B5DgOQeQ4DkHkOA5B5DgOQeQ4DkHkOA5B5DgOQeQ4DkHkOA5B5DgOQeQ4DkHkOA5B5DgOQeQ4DkHkOA5B5DgOQeQ4DkHkOA5B5DgOQeQ4DkHkOA5B5DgOQeQ4DkHkOA5B5DgOQeQ4DkHkOA5B5DgOQeQ4DkHkOA5B5DgOQeQ4DkHkOA5B5DgOQeQ4DkHkOA5B5DgOQeQ4DkHkOA5B5DgOQeQ4DkHkOA5B5DgOQeQ4DkHkOA5B5DgOQeQ4DkHkOA5B5DgOQeQ4DkHkOA5B5DgOQQ==",
          "dtype": "f4"
         },
         "z": {
          "bdata": "oKXC1vly4dwHYQDdnbjDW9Ex211Z0pRe3TASX8gmdV8QSbpffS0EYJI8MmDI+WZg3vKQYBswsWCt2NNgNof4YJloD2FxJCNhSEA3YbmGS2FwxF9hYMlzYSa1g2HlP41hKXSWYctDn2Geo6dhCYuvYTv0tmGa271hQkDEYWsiymGnhM9h+GnUYc/W2GH3z9xhklrgYfR742EpOeZhFZfoYUia6mHnRuxhq6DtYdmq7mE6aO9hNtvvYfgF8GEP6u9h4IjvYZfj7mGtD+5hTQftYe+062EWGuphaDjoYesQ5mGRpONhD/TgYdz/3WGLyNphek7XYU+S02HVlM9hEVfLYXLaxmGNIMJhfiu9YY39t2GXmbJhrwKtYWY8p2GbSqFhkjGbYf31lGHUnI5hXiuIYSGngWG3K3Zh9vpoYZLHW2F6nU5hCIhBYWGSNGHyxidhZy8bYajUDmGAvgJheeftYBD01mC6q8BgRxWrYBY1lmB6DYJgMT1dYELNN2DlwxNgnSviX8Vpn1+rMD5fGD2+Xg==",
          "dtype": "f4"
         }
        },
        {
         "line": {
          "cmax": 609580857281803700000,
          "cmin": -47443170274534490000,
          "color": {
           "bdata": "/xe91uf70NxnTtLcVkWEXNBE+11VOKBeseQZX5sxf19Ap8BfRCAIYG0KN2CZuWxglVaUYHMhtWD1X9hg26r9YKJKEmFdVyZhOcM6YR9XT2EE3mNhISZ4YUYBhmEepY9hK+2YYbLKoWEaMqphdRqyYeN9uWHMWMBhh6rGYZNzzGEDt9FhdXjWYe682mH8id5hdeXhYWnV5GG2X+dh4onpYTVZ62F70uxh9vntYYDT7mFZYu9hU6nvYfKq72Ecae9hduXuYWUh7mGXNO1htRjsYUa26mEMD+lhriTnYWb45GEWi+Jhf93fYfXv3GHXwtlhQlbWYaOq0mFqwM5hNZjKYRszxmFJksFhfbe8YXSkt2G3W7Jh49+sYSA0p2HqW6FhJ1ubYT82lWHa8Y5hC5OIYSsfgmGuN3dh2B1qYWT8XGE+309h+tFCYeLfNWG2EylhYnccYTAUEGFO8gNhxzHwYAcc2WAPrcJga+ysYDTfl2ByiINgzdFfYM7+OWCzkRVgfADlX256oV/R0UBfHTfBXg==",
           "dtype": "f4"
          },
          "colorscale": [
           [
            0,
            "#440154"
           ],
           [
            0.1111111111111111,
            "#482878"
           ],
           [
            0.2222222222222222,
            "#3e4989"
           ],
           [
            0.3333333333333333,
            "#31688e"
           ],
           [
            0.4444444444444444,
            "#26828e"
           ],
           [
            0.5555555555555556,
            "#1f9e89"
           ],
           [
            0.6666666666666666,
            "#35b779"
           ],
           [
            0.7777777777777778,
            "#6ece58"
           ],
           [
            0.8888888888888888,
            "#b5de2b"
           ],
           [
            1,
            "#fde725"
           ]
          ],
          "showscale": false,
          "width": 4
         },
         "mode": "lines",
         "showlegend": false,
         "type": "scatter3d",
         "x": {
          "bdata": "AAAAALooDiy6KI4sFz3VLLooDi3osjEtFz1VLUbHeC26KI4t0e2fLeiysS0AeMMtFz3VLS4C5y1Gx/gtLkYFLrooDi5GCxcu0e0fLl3QKC7osjEudJU6LgB4Qy6LWkwuFz1VLqMfXi4uAmcuuuRvLkbHeC7p1IAuLkaFLnS3iS66KI4uAJqSLkYLly6LfJsu0e2fLhdfpC5d0Kguo0GtLuiysS4uJLYudJW6LroGvy4AeMMuRunHLotazC7Ry9AuFz3VLl2u2S6hH94u55DiLi0C5y5zc+suuOTvLv5V9C5Ex/guijj9LujUAC+LDQMvLkYFL9B+By90twkvFvALL7ooDi9cYRAv/5kSL6LSFC9FCxcv6EMZL4p8Gy8utR0v0O0fL3QmIi8WXyQvuZcmL1zQKC//CCsvokEtL0V6Ly/osjEvi+szLy4kNi/QXDgvdJU6LxbOPC+5Bj8vXD9BL/93Qy+isEUvRelHL+ghSi+LWkwvLpNOL9DLUC9zBFMvFj1VL7l1Vy9crlkv/+ZbLw==",
          "dtype": "f4"
         },
         "y": {
          "bdata": "XXQRQV10EUFddBFBXXQRQV10EUFddBFBXXQRQV10EUFddBFBXXQRQV10EUFddBFBXXQRQV10EUFddBFBXXQRQV10EUFddBFBXXQRQV10EUFddBFBXXQRQV10EUFddBFBXXQRQV10EUFddBFBXXQRQV10EUFddBFBXXQRQV10EUFddBFBXXQRQV10EUFddBFBXXQRQV10EUFddBFBXXQRQV10EUFddBFBXXQRQV10EUFddBFBXXQRQV10EUFddBFBXXQRQV10EUFddBFBXXQRQV10EUFddBFBXXQRQV10EUFddBFBXXQRQV10EUFddBFBXXQRQV10EUFddBFBXXQRQV10EUFddBFBXXQRQV10EUFddBFBXXQRQV10EUFddBFBXXQRQV10EUFddBFBXXQRQV10EUFddBFBXXQRQV10EUFddBFBXXQRQV10EUFddBFBXXQRQV10EUFddBFBXXQRQV10EUFddBFBXXQRQV10EUFddBFBXXQRQV10EUFddBFBXXQRQV10EUFddBFBXXQRQQ==",
          "dtype": "f4"
         },
         "z": {
          "bdata": "/xe91uf70NxnTtLcVkWEXNBE+11VOKBeseQZX5sxf19Ap8BfRCAIYG0KN2CZuWxglVaUYHMhtWD1X9hg26r9YKJKEmFdVyZhOcM6YR9XT2EE3mNhISZ4YUYBhmEepY9hK+2YYbLKoWEaMqphdRqyYeN9uWHMWMBhh6rGYZNzzGEDt9FhdXjWYe682mH8id5hdeXhYWnV5GG2X+dh4onpYTVZ62F70uxh9vntYYDT7mFZYu9hU6nvYfKq72Ecae9hduXuYWUh7mGXNO1htRjsYUa26mEMD+lhriTnYWb45GEWi+Jhf93fYfXv3GHXwtlhQlbWYaOq0mFqwM5hNZjKYRszxmFJksFhfbe8YXSkt2G3W7Jh49+sYSA0p2HqW6FhJ1ubYT82lWHa8Y5hC5OIYSsfgmGuN3dh2B1qYWT8XGE+309h+tFCYeLfNWG2EylhYnccYTAUEGFO8gNhxzHwYAcc2WAPrcJga+ysYDTfl2ByiINgzdFfYM7+OWCzkRVgfADlX256oV/R0UBfHTfBXg==",
          "dtype": "f4"
         }
        },
        {
         "line": {
          "cmax": 609580857281803700000,
          "cmin": -47443170274534490000,
          "color": {
           "bdata": "AfO31v6fwNw/WqTcTpPWXOhyDV5Tcate9XYhXzOGhF895MZfx/wLYES7O2CMVHJgaqOXYPT2uGAUxtxg2FMBYVwWFWEMcSlhBSo+YaoIU2FB1mdhV198Ybc6iGEB95FhclKbYb09pGHlrKxht5a0YTP1u2HNxMJhAgXJYba2zmFj3dNhJn3YYbeb3GE7P+BhRm7jYZgv5mG9iehh7oLqYRAh7GGDae1hHGHuYSQM72FQbu9h24rvYZVk72Gw/e5hGFjuYV917WFJb+xhGT/rYXXL6WFWFuhhkCHmYXXu42H2feFh3dDeYWTn22HWwdhhGmDVYVvC0WG+6M1hn9PJYa+DxWG8+cBhJDe8YT09t2EoDrJhEqysYcAZp2FHWqFhNnGbYaBilWHeMo9hzuaIYZWDgmFZHXhhthtrYcQNXmFw/1BhX/xDYRIQN2F4RSphzKYdYaE9EWF1EgVhoVnyYDcm22ASlcRgd66uYBx4mWC59YRgUVFiYKggPGBhVBdga8bnX8SBo184aENf3iTEXg==",
           "dtype": "f4"
          },
          "colorscale": [
           [
            0,
            "#440154"
           ],
           [
            0.1111111111111111,
            "#482878"
           ],
           [
            0.2222222222222222,
            "#3e4989"
           ],
           [
            0.3333333333333333,
            "#31688e"
           ],
           [
            0.4444444444444444,
            "#26828e"
           ],
           [
            0.5555555555555556,
            "#1f9e89"
           ],
           [
            0.6666666666666666,
            "#35b779"
           ],
           [
            0.7777777777777778,
            "#6ece58"
           ],
           [
            0.8888888888888888,
            "#b5de2b"
           ],
           [
            1,
            "#fde725"
           ]
          ],
          "showscale": false,
          "width": 4
         },
         "mode": "lines",
         "showlegend": false,
         "type": "scatter3d",
         "x": {
          "bdata": "AAAAALooDiy6KI4sFz3VLLooDi3osjEtFz1VLUbHeC26KI4t0e2fLeiysS0AeMMtFz3VLS4C5y1Gx/gtLkYFLrooDi5GCxcu0e0fLl3QKC7osjEudJU6LgB4Qy6LWkwuFz1VLqMfXi4uAmcuuuRvLkbHeC7p1IAuLkaFLnS3iS66KI4uAJqSLkYLly6LfJsu0e2fLhdfpC5d0Kguo0GtLuiysS4uJLYudJW6LroGvy4AeMMuRunHLotazC7Ry9AuFz3VLl2u2S6hH94u55DiLi0C5y5zc+suuOTvLv5V9C5Ex/guijj9LujUAC+LDQMvLkYFL9B+By90twkvFvALL7ooDi9cYRAv/5kSL6LSFC9FCxcv6EMZL4p8Gy8utR0v0O0fL3QmIi8WXyQvuZcmL1zQKC//CCsvokEtL0V6Ly/osjEvi+szLy4kNi/QXDgvdJU6LxbOPC+5Bj8vXD9BL/93Qy+isEUvRelHL+ghSi+LWkwvLpNOL9DLUC9zBFMvFj1VL7l1Vy9crlkv/+ZbLw==",
          "dtype": "f4"
         },
         "y": {
          "bdata": "168UQdevFEHXrxRB168UQdevFEHXrxRB168UQdevFEHXrxRB168UQdevFEHXrxRB168UQdevFEHXrxRB168UQdevFEHXrxRB168UQdevFEHXrxRB168UQdevFEHXrxRB168UQdevFEHXrxRB168UQdevFEHXrxRB168UQdevFEHXrxRB168UQdevFEHXrxRB168UQdevFEHXrxRB168UQdevFEHXrxRB168UQdevFEHXrxRB168UQdevFEHXrxRB168UQdevFEHXrxRB168UQdevFEHXrxRB168UQdevFEHXrxRB168UQdevFEHXrxRB168UQdevFEHXrxRB168UQdevFEHXrxRB168UQdevFEHXrxRB168UQdevFEHXrxRB168UQdevFEHXrxRB168UQdevFEHXrxRB168UQdevFEHXrxRB168UQdevFEHXrxRB168UQdevFEHXrxRB168UQdevFEHXrxRB168UQdevFEHXrxRB168UQdevFEHXrxRB168UQdevFEHXrxRB168UQQ==",
          "dtype": "f4"
         },
         "z": {
          "bdata": "AfO31v6fwNw/WqTcTpPWXOhyDV5Tcate9XYhXzOGhF895MZfx/wLYES7O2CMVHJgaqOXYPT2uGAUxtxg2FMBYVwWFWEMcSlhBSo+YaoIU2FB1mdhV198Ybc6iGEB95FhclKbYb09pGHlrKxht5a0YTP1u2HNxMJhAgXJYba2zmFj3dNhJn3YYbeb3GE7P+BhRm7jYZgv5mG9iehh7oLqYRAh7GGDae1hHGHuYSQM72FQbu9h24rvYZVk72Gw/e5hGFjuYV917WFJb+xhGT/rYXXL6WFWFuhhkCHmYXXu42H2feFh3dDeYWTn22HWwdhhGmDVYVvC0WG+6M1hn9PJYa+DxWG8+cBhJDe8YT09t2EoDrJhEqysYcAZp2FHWqFhNnGbYaBilWHeMo9hzuaIYZWDgmFZHXhhthtrYcQNXmFw/1BhX/xDYRIQN2F4RSphzKYdYaE9EWF1EgVhoVnyYDcm22ASlcRgd66uYBx4mWC59YRgUVFiYKggPGBhVBdga8bnX8SBo184aENf3iTEXg==",
          "dtype": "f4"
         }
        },
        {
         "line": {
          "cmax": 609580857281803700000,
          "cmin": -47443170274534490000,
          "color": {
           "bdata": "EjWz1l9jsNxq3W3cWOUTXTsIHV41fLZeI+coX2BbiV/+/8xfJcMPYF9PQGAhy3dgt9maYB2xvGCiC+FgPL8DYTjMF2H7cSxhSXVBYfObVmHErWth1TqAYdJhimHgNZRhRqSdYTSdpmFFFK9hBgC3YVpavmG0H8Vh10/LYd7r0GG299VhAXjaYQNz3mGK7+Fh0PTkYT2K52H/tulh7YHrYYzx7GG/C+5hztXuYYNU72Hxi+9hrH/vYc4y72HUp+5h2eDtYa3f7GEJwOth3HrqYQH16GGjMOdhzS/lYfHz4mEqfuBhOM/dYVzn2mHHxtdhQ23UYcTa0GE5D81hqArJYYLNxGE4WMBhyKu7YTLJtmEfsrFhYmisYVXupmGvRqFhoXSbYeJ7lWGPYI9hOSeJYdjUgmF63XhhL/VrYSH8XmFL/lFhWAdFYeUiOGEVXCthX70eYZZQEmGHHgZhBF70YIkR3WCuYsZgQlqwYLL+mmBAVIZgu7lkYA4xPmBiChlg8nrqX/F9pV+f8UVfDwTHXg==",
           "dtype": "f4"
          },
          "colorscale": [
           [
            0,
            "#440154"
           ],
           [
            0.1111111111111111,
            "#482878"
           ],
           [
            0.2222222222222222,
            "#3e4989"
           ],
           [
            0.3333333333333333,
            "#31688e"
           ],
           [
            0.4444444444444444,
            "#26828e"
           ],
           [
            0.5555555555555556,
            "#1f9e89"
           ],
           [
            0.6666666666666666,
            "#35b779"
           ],
           [
            0.7777777777777778,
            "#6ece58"
           ],
           [
            0.8888888888888888,
            "#b5de2b"
           ],
           [
            1,
            "#fde725"
           ]
          ],
          "showscale": false,
          "width": 4
         },
         "mode": "lines",
         "showlegend": false,
         "type": "scatter3d",
         "x": {
          "bdata": "AAAAALooDiy6KI4sFz3VLLooDi3osjEtFz1VLUbHeC26KI4t0e2fLeiysS0AeMMtFz3VLS4C5y1Gx/gtLkYFLrooDi5GCxcu0e0fLl3QKC7osjEudJU6LgB4Qy6LWkwuFz1VLqMfXi4uAmcuuuRvLkbHeC7p1IAuLkaFLnS3iS66KI4uAJqSLkYLly6LfJsu0e2fLhdfpC5d0Kguo0GtLuiysS4uJLYudJW6LroGvy4AeMMuRunHLotazC7Ry9AuFz3VLl2u2S6hH94u55DiLi0C5y5zc+suuOTvLv5V9C5Ex/guijj9LujUAC+LDQMvLkYFL9B+By90twkvFvALL7ooDi9cYRAv/5kSL6LSFC9FCxcv6EMZL4p8Gy8utR0v0O0fL3QmIi8WXyQvuZcmL1zQKC//CCsvokEtL0V6Ly/osjEvi+szLy4kNi/QXDgvdJU6LxbOPC+5Bj8vXD9BL/93Qy+isEUvRelHL+ghSi+LWkwvLpNOL9DLUC9zBFMvFj1VL7l1Vy9crlkv/+ZbLw==",
          "dtype": "f4"
         },
         "y": {
          "bdata": "UOsXQVDrF0FQ6xdBUOsXQVDrF0FQ6xdBUOsXQVDrF0FQ6xdBUOsXQVDrF0FQ6xdBUOsXQVDrF0FQ6xdBUOsXQVDrF0FQ6xdBUOsXQVDrF0FQ6xdBUOsXQVDrF0FQ6xdBUOsXQVDrF0FQ6xdBUOsXQVDrF0FQ6xdBUOsXQVDrF0FQ6xdBUOsXQVDrF0FQ6xdBUOsXQVDrF0FQ6xdBUOsXQVDrF0FQ6xdBUOsXQVDrF0FQ6xdBUOsXQVDrF0FQ6xdBUOsXQVDrF0FQ6xdBUOsXQVDrF0FQ6xdBUOsXQVDrF0FQ6xdBUOsXQVDrF0FQ6xdBUOsXQVDrF0FQ6xdBUOsXQVDrF0FQ6xdBUOsXQVDrF0FQ6xdBUOsXQVDrF0FQ6xdBUOsXQVDrF0FQ6xdBUOsXQVDrF0FQ6xdBUOsXQVDrF0FQ6xdBUOsXQVDrF0FQ6xdBUOsXQVDrF0FQ6xdBUOsXQVDrF0FQ6xdBUOsXQVDrF0FQ6xdBUOsXQVDrF0FQ6xdBUOsXQVDrF0FQ6xdBUOsXQQ==",
          "dtype": "f4"
         },
         "z": {
          "bdata": "EjWz1l9jsNxq3W3cWOUTXTsIHV41fLZeI+coX2BbiV/+/8xfJcMPYF9PQGAhy3dgt9maYB2xvGCiC+FgPL8DYTjMF2H7cSxhSXVBYfObVmHErWth1TqAYdJhimHgNZRhRqSdYTSdpmFFFK9hBgC3YVpavmG0H8Vh10/LYd7r0GG299VhAXjaYQNz3mGK7+Fh0PTkYT2K52H/tulh7YHrYYzx7GG/C+5hztXuYYNU72Hxi+9hrH/vYc4y72HUp+5h2eDtYa3f7GEJwOth3HrqYQH16GGjMOdhzS/lYfHz4mEqfuBhOM/dYVzn2mHHxtdhQ23UYcTa0GE5D81hqArJYYLNxGE4WMBhyKu7YTLJtmEfsrFhYmisYVXupmGvRqFhoXSbYeJ7lWGPYI9hOSeJYdjUgmF63XhhL/VrYSH8XmFL/lFhWAdFYeUiOGEVXCthX70eYZZQEmGHHgZhBF70YIkR3WCuYsZgQlqwYLL+mmBAVIZgu7lkYA4xPmBiChlg8nrqX/F9pV+f8UVfDwTHXg==",
          "dtype": "f4"
         }
        },
        {
         "line": {
          "cmax": 609580857281803700000,
          "cmin": -47443170274534490000,
          "color": {
           "bdata": "xdqu1kRJoNypJRTcdvA7Xd9gLF5GWMFe/TQwX2AYjl+4+tJfnXMTYCrHRGDqHX1g5vmdYIFQwGBZMeVgCRgGYbVsGmHAWi9hnqVEYbsRWmFTZW9h8jSCYfx2jGEgYpZhC+OfYXHpqGGNaLFhqla5YY6twGHEacdhIIvNYRwT02ECBthh7WjcYbZC4GG/muNh13jmYQ3l6GEl5+phi4bsYUfK7WG8uO5hr1fvYT+s72Hguu9hdYfvYV0V72FLZ+5hpn/tYU5g7GEAJ+thOszpYTgz6GFkXuZh+k/kYaAJ4mGFjN9hgNncYePw2WHS0tZh/37TYTf1z2EsNcxhuz7IYQUSxGEpr79h1Ba7YaNJtmHpSLFhDRasYQmzpmE1IqFhYmabYfaClWG6e49hB1WJYZQTg2EgeXlhC6tsYR7IX2FG3FJhKPNFYYMYOWGRVyxh/rofYdpME2EwFgdhMj72YCnd3mDnFMhg2e6xYPVxnGAOo4dgQglnYFQuQGBMshpgvRvtXzxtp1/ia0hffdLJXg==",
           "dtype": "f4"
          },
          "colorscale": [
           [
            0,
            "#440154"
           ],
           [
            0.1111111111111111,
            "#482878"
           ],
           [
            0.2222222222222222,
            "#3e4989"
           ],
           [
            0.3333333333333333,
            "#31688e"
           ],
           [
            0.4444444444444444,
            "#26828e"
           ],
           [
            0.5555555555555556,
            "#1f9e89"
           ],
           [
            0.6666666666666666,
            "#35b779"
           ],
           [
            0.7777777777777778,
            "#6ece58"
           ],
           [
            0.8888888888888888,
            "#b5de2b"
           ],
           [
            1,
            "#fde725"
           ]
          ],
          "showscale": false,
          "width": 4
         },
         "mode": "lines",
         "showlegend": false,
         "type": "scatter3d",
         "x": {
          "bdata": "AAAAALooDiy6KI4sFz3VLLooDi3osjEtFz1VLUbHeC26KI4t0e2fLeiysS0AeMMtFz3VLS4C5y1Gx/gtLkYFLrooDi5GCxcu0e0fLl3QKC7osjEudJU6LgB4Qy6LWkwuFz1VLqMfXi4uAmcuuuRvLkbHeC7p1IAuLkaFLnS3iS66KI4uAJqSLkYLly6LfJsu0e2fLhdfpC5d0Kguo0GtLuiysS4uJLYudJW6LroGvy4AeMMuRunHLotazC7Ry9AuFz3VLl2u2S6hH94u55DiLi0C5y5zc+suuOTvLv5V9C5Ex/guijj9LujUAC+LDQMvLkYFL9B+By90twkvFvALL7ooDi9cYRAv/5kSL6LSFC9FCxcv6EMZL4p8Gy8utR0v0O0fL3QmIi8WXyQvuZcmL1zQKC//CCsvokEtL0V6Ly/osjEvi+szLy4kNi/QXDgvdJU6LxbOPC+5Bj8vXD9BL/93Qy+isEUvRelHL+ghSi+LWkwvLpNOL9DLUC9zBFMvFj1VL7l1Vy9crlkv/+ZbLw==",
          "dtype": "f4"
         },
         "y": {
          "bdata": "yiYbQcomG0HKJhtByiYbQcomG0HKJhtByiYbQcomG0HKJhtByiYbQcomG0HKJhtByiYbQcomG0HKJhtByiYbQcomG0HKJhtByiYbQcomG0HKJhtByiYbQcomG0HKJhtByiYbQcomG0HKJhtByiYbQcomG0HKJhtByiYbQcomG0HKJhtByiYbQcomG0HKJhtByiYbQcomG0HKJhtByiYbQcomG0HKJhtByiYbQcomG0HKJhtByiYbQcomG0HKJhtByiYbQcomG0HKJhtByiYbQcomG0HKJhtByiYbQcomG0HKJhtByiYbQcomG0HKJhtByiYbQcomG0HKJhtByiYbQcomG0HKJhtByiYbQcomG0HKJhtByiYbQcomG0HKJhtByiYbQcomG0HKJhtByiYbQcomG0HKJhtByiYbQcomG0HKJhtByiYbQcomG0HKJhtByiYbQcomG0HKJhtByiYbQcomG0HKJhtByiYbQcomG0HKJhtByiYbQcomG0HKJhtByiYbQcomG0HKJhtByiYbQQ==",
          "dtype": "f4"
         },
         "z": {
          "bdata": "xdqu1kRJoNypJRTcdvA7Xd9gLF5GWMFe/TQwX2AYjl+4+tJfnXMTYCrHRGDqHX1g5vmdYIFQwGBZMeVgCRgGYbVsGmHAWi9hnqVEYbsRWmFTZW9h8jSCYfx2jGEgYpZhC+OfYXHpqGGNaLFhqla5YY6twGHEacdhIIvNYRwT02ECBthh7WjcYbZC4GG/muNh13jmYQ3l6GEl5+phi4bsYUfK7WG8uO5hr1fvYT+s72Hguu9hdYfvYV0V72FLZ+5hpn/tYU5g7GEAJ+thOszpYTgz6GFkXuZh+k/kYaAJ4mGFjN9hgNncYePw2WHS0tZh/37TYTf1z2EsNcxhuz7IYQUSxGEpr79h1Ba7YaNJtmHpSLFhDRasYQmzpmE1IqFhYmabYfaClWG6e49hB1WJYZQTg2EgeXlhC6tsYR7IX2FG3FJhKPNFYYMYOWGRVyxh/rofYdpME2EwFgdhMj72YCnd3mDnFMhg2e6xYPVxnGAOo4dgQglnYFQuQGBMshpgvRvtXzxtp1/ia0hffdLJXg==",
          "dtype": "f4"
         }
        },
        {
         "line": {
          "cmax": 609580857281803700000,
          "cmin": -47443170274534490000,
          "color": {
           "bdata": "Gt+q1jlVkNwpcG7bhWVjXTV7O16lBMxeMWA3Xxy9kl+M1NhfXw4XYPkiSWC+JoFgXQShYJ/Vw2DiN+lgnl4IYUf4HGHiKzJhobtHYY9qXWGS/XJhVR6EYYd6jmEUfJhhFA+iYcIiq2EBqrNh3pq7YQ3vwmEMo8lh9LbPYXEs1WE8CNph2k/eYaUK4mGXQOVhC/rnYag/6mG9GexhRpDtYbiq7mH8b+9hK+bvYccS8GGW+u9htKHvYcwL72HBO+5hIDTtYQz362H9o+phLzPpYUKG52Hin+VhgoLjYfcv4WGfqd5hfvDbYd8E2WH35tVhYJbSYcwSz2HWW8thGHHHYXpSw2Hb/75hk3m6YeS/tWHQ07BhVrarYRJppmH77aBhiUebYch4lWE9hY9h9nCJYXNAg2Fr8XlhRz5tYYZyYGH2mVNhQ8BGYSnxOWEFOC1hqZ8gYU4yFGE7+Qdhh/n3YE+I4GDuqslgV2uzYADRnWBB4YhgLT5pYPIWQmDFShxgjKbvX/hNqV/y1EpfFo7MXg==",
           "dtype": "f4"
          },
          "colorscale": [
           [
            0,
            "#440154"
           ],
           [
            0.1111111111111111,
            "#482878"
           ],
           [
            0.2222222222222222,
            "#3e4989"
           ],
           [
            0.3333333333333333,
            "#31688e"
           ],
           [
            0.4444444444444444,
            "#26828e"
           ],
           [
            0.5555555555555556,
            "#1f9e89"
           ],
           [
            0.6666666666666666,
            "#35b779"
           ],
           [
            0.7777777777777778,
            "#6ece58"
           ],
           [
            0.8888888888888888,
            "#b5de2b"
           ],
           [
            1,
            "#fde725"
           ]
          ],
          "showscale": false,
          "width": 4
         },
         "mode": "lines",
         "showlegend": false,
         "type": "scatter3d",
         "x": {
          "bdata": "AAAAALooDiy6KI4sFz3VLLooDi3osjEtFz1VLUbHeC26KI4t0e2fLeiysS0AeMMtFz3VLS4C5y1Gx/gtLkYFLrooDi5GCxcu0e0fLl3QKC7osjEudJU6LgB4Qy6LWkwuFz1VLqMfXi4uAmcuuuRvLkbHeC7p1IAuLkaFLnS3iS66KI4uAJqSLkYLly6LfJsu0e2fLhdfpC5d0Kguo0GtLuiysS4uJLYudJW6LroGvy4AeMMuRunHLotazC7Ry9AuFz3VLl2u2S6hH94u55DiLi0C5y5zc+suuOTvLv5V9C5Ex/guijj9LujUAC+LDQMvLkYFL9B+By90twkvFvALL7ooDi9cYRAv/5kSL6LSFC9FCxcv6EMZL4p8Gy8utR0v0O0fL3QmIi8WXyQvuZcmL1zQKC//CCsvokEtL0V6Ly/osjEvi+szLy4kNi/QXDgvdJU6LxbOPC+5Bj8vXD9BL/93Qy+isEUvRelHL+ghSi+LWkwvLpNOL9DLUC9zBFMvFj1VL7l1Vy9crlkv/+ZbLw==",
          "dtype": "f4"
         },
         "y": {
          "bdata": "Q2IeQUNiHkFDYh5BQ2IeQUNiHkFDYh5BQ2IeQUNiHkFDYh5BQ2IeQUNiHkFDYh5BQ2IeQUNiHkFDYh5BQ2IeQUNiHkFDYh5BQ2IeQUNiHkFDYh5BQ2IeQUNiHkFDYh5BQ2IeQUNiHkFDYh5BQ2IeQUNiHkFDYh5BQ2IeQUNiHkFDYh5BQ2IeQUNiHkFDYh5BQ2IeQUNiHkFDYh5BQ2IeQUNiHkFDYh5BQ2IeQUNiHkFDYh5BQ2IeQUNiHkFDYh5BQ2IeQUNiHkFDYh5BQ2IeQUNiHkFDYh5BQ2IeQUNiHkFDYh5BQ2IeQUNiHkFDYh5BQ2IeQUNiHkFDYh5BQ2IeQUNiHkFDYh5BQ2IeQUNiHkFDYh5BQ2IeQUNiHkFDYh5BQ2IeQUNiHkFDYh5BQ2IeQUNiHkFDYh5BQ2IeQUNiHkFDYh5BQ2IeQUNiHkFDYh5BQ2IeQUNiHkFDYh5BQ2IeQUNiHkFDYh5BQ2IeQUNiHkFDYh5BQ2IeQUNiHkFDYh5BQ2IeQUNiHkFDYh5BQ2IeQQ==",
          "dtype": "f4"
         },
         "z": {
          "bdata": "Gt+q1jlVkNwpcG7bhWVjXTV7O16lBMxeMWA3Xxy9kl+M1NhfXw4XYPkiSWC+JoFgXQShYJ/Vw2DiN+lgnl4IYUf4HGHiKzJhobtHYY9qXWGS/XJhVR6EYYd6jmEUfJhhFA+iYcIiq2EBqrNh3pq7YQ3vwmEMo8lh9LbPYXEs1WE8CNph2k/eYaUK4mGXQOVhC/rnYag/6mG9GexhRpDtYbiq7mH8b+9hK+bvYccS8GGW+u9htKHvYcwL72HBO+5hIDTtYQz362H9o+phLzPpYUKG52Hin+VhgoLjYfcv4WGfqd5hfvDbYd8E2WH35tVhYJbSYcwSz2HWW8thGHHHYXpSw2Hb/75hk3m6YeS/tWHQ07BhVrarYRJppmH77aBhiUebYch4lWE9hY9h9nCJYXNAg2Fr8XlhRz5tYYZyYGH2mVNhQ8BGYSnxOWEFOC1hqZ8gYU4yFGE7+Qdhh/n3YE+I4GDuqslgV2uzYADRnWBB4YhgLT5pYPIWQmDFShxgjKbvX/hNqV/y1EpfFo7MXg==",
          "dtype": "f4"
         }
        }
       ],
       "layout": {
        "height": 700,
        "scene": {
         "xaxis": {
          "autorange": "reversed",
          "title": {
           "text": "Mass (m)"
          }
         },
         "yaxis": {
          "title": {
           "text": "Time (t)"
          }
         },
         "zaxis": {
          "title": {
           "text": "n(m, t)"
          }
         }
        },
        "template": {
         "data": {
          "bar": [
           {
            "error_x": {
             "color": "#2a3f5f"
            },
            "error_y": {
             "color": "#2a3f5f"
            },
            "marker": {
             "line": {
              "color": "#E5ECF6",
              "width": 0.5
             },
             "pattern": {
              "fillmode": "overlay",
              "size": 10,
              "solidity": 0.2
             }
            },
            "type": "bar"
           }
          ],
          "barpolar": [
           {
            "marker": {
             "line": {
              "color": "#E5ECF6",
              "width": 0.5
             },
             "pattern": {
              "fillmode": "overlay",
              "size": 10,
              "solidity": 0.2
             }
            },
            "type": "barpolar"
           }
          ],
          "carpet": [
           {
            "aaxis": {
             "endlinecolor": "#2a3f5f",
             "gridcolor": "white",
             "linecolor": "white",
             "minorgridcolor": "white",
             "startlinecolor": "#2a3f5f"
            },
            "baxis": {
             "endlinecolor": "#2a3f5f",
             "gridcolor": "white",
             "linecolor": "white",
             "minorgridcolor": "white",
             "startlinecolor": "#2a3f5f"
            },
            "type": "carpet"
           }
          ],
          "choropleth": [
           {
            "colorbar": {
             "outlinewidth": 0,
             "ticks": ""
            },
            "type": "choropleth"
           }
          ],
          "contour": [
           {
            "colorbar": {
             "outlinewidth": 0,
             "ticks": ""
            },
            "colorscale": [
             [
              0,
              "#0d0887"
             ],
             [
              0.1111111111111111,
              "#46039f"
             ],
             [
              0.2222222222222222,
              "#7201a8"
             ],
             [
              0.3333333333333333,
              "#9c179e"
             ],
             [
              0.4444444444444444,
              "#bd3786"
             ],
             [
              0.5555555555555556,
              "#d8576b"
             ],
             [
              0.6666666666666666,
              "#ed7953"
             ],
             [
              0.7777777777777778,
              "#fb9f3a"
             ],
             [
              0.8888888888888888,
              "#fdca26"
             ],
             [
              1,
              "#f0f921"
             ]
            ],
            "type": "contour"
           }
          ],
          "contourcarpet": [
           {
            "colorbar": {
             "outlinewidth": 0,
             "ticks": ""
            },
            "type": "contourcarpet"
           }
          ],
          "heatmap": [
           {
            "colorbar": {
             "outlinewidth": 0,
             "ticks": ""
            },
            "colorscale": [
             [
              0,
              "#0d0887"
             ],
             [
              0.1111111111111111,
              "#46039f"
             ],
             [
              0.2222222222222222,
              "#7201a8"
             ],
             [
              0.3333333333333333,
              "#9c179e"
             ],
             [
              0.4444444444444444,
              "#bd3786"
             ],
             [
              0.5555555555555556,
              "#d8576b"
             ],
             [
              0.6666666666666666,
              "#ed7953"
             ],
             [
              0.7777777777777778,
              "#fb9f3a"
             ],
             [
              0.8888888888888888,
              "#fdca26"
             ],
             [
              1,
              "#f0f921"
             ]
            ],
            "type": "heatmap"
           }
          ],
          "histogram": [
           {
            "marker": {
             "pattern": {
              "fillmode": "overlay",
              "size": 10,
              "solidity": 0.2
             }
            },
            "type": "histogram"
           }
          ],
          "histogram2d": [
           {
            "colorbar": {
             "outlinewidth": 0,
             "ticks": ""
            },
            "colorscale": [
             [
              0,
              "#0d0887"
             ],
             [
              0.1111111111111111,
              "#46039f"
             ],
             [
              0.2222222222222222,
              "#7201a8"
             ],
             [
              0.3333333333333333,
              "#9c179e"
             ],
             [
              0.4444444444444444,
              "#bd3786"
             ],
             [
              0.5555555555555556,
              "#d8576b"
             ],
             [
              0.6666666666666666,
              "#ed7953"
             ],
             [
              0.7777777777777778,
              "#fb9f3a"
             ],
             [
              0.8888888888888888,
              "#fdca26"
             ],
             [
              1,
              "#f0f921"
             ]
            ],
            "type": "histogram2d"
           }
          ],
          "histogram2dcontour": [
           {
            "colorbar": {
             "outlinewidth": 0,
             "ticks": ""
            },
            "colorscale": [
             [
              0,
              "#0d0887"
             ],
             [
              0.1111111111111111,
              "#46039f"
             ],
             [
              0.2222222222222222,
              "#7201a8"
             ],
             [
              0.3333333333333333,
              "#9c179e"
             ],
             [
              0.4444444444444444,
              "#bd3786"
             ],
             [
              0.5555555555555556,
              "#d8576b"
             ],
             [
              0.6666666666666666,
              "#ed7953"
             ],
             [
              0.7777777777777778,
              "#fb9f3a"
             ],
             [
              0.8888888888888888,
              "#fdca26"
             ],
             [
              1,
              "#f0f921"
             ]
            ],
            "type": "histogram2dcontour"
           }
          ],
          "mesh3d": [
           {
            "colorbar": {
             "outlinewidth": 0,
             "ticks": ""
            },
            "type": "mesh3d"
           }
          ],
          "parcoords": [
           {
            "line": {
             "colorbar": {
              "outlinewidth": 0,
              "ticks": ""
             }
            },
            "type": "parcoords"
           }
          ],
          "pie": [
           {
            "automargin": true,
            "type": "pie"
           }
          ],
          "scatter": [
           {
            "fillpattern": {
             "fillmode": "overlay",
             "size": 10,
             "solidity": 0.2
            },
            "type": "scatter"
           }
          ],
          "scatter3d": [
           {
            "line": {
             "colorbar": {
              "outlinewidth": 0,
              "ticks": ""
             }
            },
            "marker": {
             "colorbar": {
              "outlinewidth": 0,
              "ticks": ""
             }
            },
            "type": "scatter3d"
           }
          ],
          "scattercarpet": [
           {
            "marker": {
             "colorbar": {
              "outlinewidth": 0,
              "ticks": ""
             }
            },
            "type": "scattercarpet"
           }
          ],
          "scattergeo": [
           {
            "marker": {
             "colorbar": {
              "outlinewidth": 0,
              "ticks": ""
             }
            },
            "type": "scattergeo"
           }
          ],
          "scattergl": [
           {
            "marker": {
             "colorbar": {
              "outlinewidth": 0,
              "ticks": ""
             }
            },
            "type": "scattergl"
           }
          ],
          "scattermap": [
           {
            "marker": {
             "colorbar": {
              "outlinewidth": 0,
              "ticks": ""
             }
            },
            "type": "scattermap"
           }
          ],
          "scattermapbox": [
           {
            "marker": {
             "colorbar": {
              "outlinewidth": 0,
              "ticks": ""
             }
            },
            "type": "scattermapbox"
           }
          ],
          "scatterpolar": [
           {
            "marker": {
             "colorbar": {
              "outlinewidth": 0,
              "ticks": ""
             }
            },
            "type": "scatterpolar"
           }
          ],
          "scatterpolargl": [
           {
            "marker": {
             "colorbar": {
              "outlinewidth": 0,
              "ticks": ""
             }
            },
            "type": "scatterpolargl"
           }
          ],
          "scatterternary": [
           {
            "marker": {
             "colorbar": {
              "outlinewidth": 0,
              "ticks": ""
             }
            },
            "type": "scatterternary"
           }
          ],
          "surface": [
           {
            "colorbar": {
             "outlinewidth": 0,
             "ticks": ""
            },
            "colorscale": [
             [
              0,
              "#0d0887"
             ],
             [
              0.1111111111111111,
              "#46039f"
             ],
             [
              0.2222222222222222,
              "#7201a8"
             ],
             [
              0.3333333333333333,
              "#9c179e"
             ],
             [
              0.4444444444444444,
              "#bd3786"
             ],
             [
              0.5555555555555556,
              "#d8576b"
             ],
             [
              0.6666666666666666,
              "#ed7953"
             ],
             [
              0.7777777777777778,
              "#fb9f3a"
             ],
             [
              0.8888888888888888,
              "#fdca26"
             ],
             [
              1,
              "#f0f921"
             ]
            ],
            "type": "surface"
           }
          ],
          "table": [
           {
            "cells": {
             "fill": {
              "color": "#EBF0F8"
             },
             "line": {
              "color": "white"
             }
            },
            "header": {
             "fill": {
              "color": "#C8D4E3"
             },
             "line": {
              "color": "white"
             }
            },
            "type": "table"
           }
          ]
         },
         "layout": {
          "annotationdefaults": {
           "arrowcolor": "#2a3f5f",
           "arrowhead": 0,
           "arrowwidth": 1
          },
          "autotypenumbers": "strict",
          "coloraxis": {
           "colorbar": {
            "outlinewidth": 0,
            "ticks": ""
           }
          },
          "colorscale": {
           "diverging": [
            [
             0,
             "#8e0152"
            ],
            [
             0.1,
             "#c51b7d"
            ],
            [
             0.2,
             "#de77ae"
            ],
            [
             0.3,
             "#f1b6da"
            ],
            [
             0.4,
             "#fde0ef"
            ],
            [
             0.5,
             "#f7f7f7"
            ],
            [
             0.6,
             "#e6f5d0"
            ],
            [
             0.7,
             "#b8e186"
            ],
            [
             0.8,
             "#7fbc41"
            ],
            [
             0.9,
             "#4d9221"
            ],
            [
             1,
             "#276419"
            ]
           ],
           "sequential": [
            [
             0,
             "#0d0887"
            ],
            [
             0.1111111111111111,
             "#46039f"
            ],
            [
             0.2222222222222222,
             "#7201a8"
            ],
            [
             0.3333333333333333,
             "#9c179e"
            ],
            [
             0.4444444444444444,
             "#bd3786"
            ],
            [
             0.5555555555555556,
             "#d8576b"
            ],
            [
             0.6666666666666666,
             "#ed7953"
            ],
            [
             0.7777777777777778,
             "#fb9f3a"
            ],
            [
             0.8888888888888888,
             "#fdca26"
            ],
            [
             1,
             "#f0f921"
            ]
           ],
           "sequentialminus": [
            [
             0,
             "#0d0887"
            ],
            [
             0.1111111111111111,
             "#46039f"
            ],
            [
             0.2222222222222222,
             "#7201a8"
            ],
            [
             0.3333333333333333,
             "#9c179e"
            ],
            [
             0.4444444444444444,
             "#bd3786"
            ],
            [
             0.5555555555555556,
             "#d8576b"
            ],
            [
             0.6666666666666666,
             "#ed7953"
            ],
            [
             0.7777777777777778,
             "#fb9f3a"
            ],
            [
             0.8888888888888888,
             "#fdca26"
            ],
            [
             1,
             "#f0f921"
            ]
           ]
          },
          "colorway": [
           "#636efa",
           "#EF553B",
           "#00cc96",
           "#ab63fa",
           "#FFA15A",
           "#19d3f3",
           "#FF6692",
           "#B6E880",
           "#FF97FF",
           "#FECB52"
          ],
          "font": {
           "color": "#2a3f5f"
          },
          "geo": {
           "bgcolor": "white",
           "lakecolor": "white",
           "landcolor": "#E5ECF6",
           "showlakes": true,
           "showland": true,
           "subunitcolor": "white"
          },
          "hoverlabel": {
           "align": "left"
          },
          "hovermode": "closest",
          "mapbox": {
           "style": "light"
          },
          "paper_bgcolor": "white",
          "plot_bgcolor": "#E5ECF6",
          "polar": {
           "angularaxis": {
            "gridcolor": "white",
            "linecolor": "white",
            "ticks": ""
           },
           "bgcolor": "#E5ECF6",
           "radialaxis": {
            "gridcolor": "white",
            "linecolor": "white",
            "ticks": ""
           }
          },
          "scene": {
           "xaxis": {
            "backgroundcolor": "#E5ECF6",
            "gridcolor": "white",
            "gridwidth": 2,
            "linecolor": "white",
            "showbackground": true,
            "ticks": "",
            "zerolinecolor": "white"
           },
           "yaxis": {
            "backgroundcolor": "#E5ECF6",
            "gridcolor": "white",
            "gridwidth": 2,
            "linecolor": "white",
            "showbackground": true,
            "ticks": "",
            "zerolinecolor": "white"
           },
           "zaxis": {
            "backgroundcolor": "#E5ECF6",
            "gridcolor": "white",
            "gridwidth": 2,
            "linecolor": "white",
            "showbackground": true,
            "ticks": "",
            "zerolinecolor": "white"
           }
          },
          "shapedefaults": {
           "line": {
            "color": "#2a3f5f"
           }
          },
          "ternary": {
           "aaxis": {
            "gridcolor": "white",
            "linecolor": "white",
            "ticks": ""
           },
           "baxis": {
            "gridcolor": "white",
            "linecolor": "white",
            "ticks": ""
           },
           "bgcolor": "#E5ECF6",
           "caxis": {
            "gridcolor": "white",
            "linecolor": "white",
            "ticks": ""
           }
          },
          "title": {
           "x": 0.05
          },
          "xaxis": {
           "automargin": true,
           "gridcolor": "white",
           "linecolor": "white",
           "ticks": "",
           "title": {
            "standoff": 15
           },
           "zerolinecolor": "white",
           "zerolinewidth": 2
          },
          "yaxis": {
           "automargin": true,
           "gridcolor": "white",
           "linecolor": "white",
           "ticks": "",
           "title": {
            "standoff": 15
           },
           "zerolinecolor": "white",
           "zerolinewidth": 2
          }
         }
        },
        "title": {
         "text": ""
        },
        "width": 700
       }
      }
     },
     "metadata": {},
     "output_type": "display_data"
    },
    {
     "data": {
      "image/png": "[encoded data removed]",
      "text/plain": [
       "<Figure size 800x1000 with 3 Axes>"
      ]
     },
     "metadata": {},
     "output_type": "display_data"
    },
    {
     "data": {
      "image/png": "[encoded data removed]",
      "text/plain": [
       "<Figure size 1200x400 with 2 Axes>"
      ]
     },
     "metadata": {},
     "output_type": "display_data"
    }
   ],
   "source": [
    "\n",
    "\n",
    "# -----------------------------\n",
    "# 4. Error estimation\n",
    "# -----------------------------\n",
    "n_true = torch.tensor(Dataset_validation[0][\"n\"].T, dtype=torch.float32)   # (T, M)\n",
    "S_true = torch.tensor(Dataset_validation[0][\"S\"], dtype=torch.float32)     # (T,)\n",
    "\n",
    "# -----------------------------\n",
    "# 5. Plot biomass + substrate trajectory\n",
    "# -----------------------------\n",
    "plot_spaghetti(m,t_eval,n_pred.detach().numpy().T)\n",
    "biomass_pred = (n_pred * m) .sum(dim=1) * delta_m   # shape (T,)\n",
    "biomass_true = (n_true * m).sum(dim=1) * delta_m   # shape (T,)\n",
    "# -----------------------------\n",
    "# FIGURE 1: Trajectories + Heatmap\n",
    "# -----------------------------\n",
    "fig, axes = plt.subplots(2, 1, figsize=(8,10))\n",
    "\n",
    "# (1a) Biomass + substrate trajectories\n",
    "ax = axes[0]\n",
    "ax.plot(biomass_pred.numpy(), label=\"Predicted biomass\", linestyle=\"--\")\n",
    "ax.plot(biomass_true.numpy(), label=\"True biomass\", linestyle=\":\")\n",
    "ax.plot(S_pred.numpy(), label=\"Predicted substrate\")\n",
    "ax.plot(S_true.numpy(), label=\"True substrate\", linestyle=\"--\")\n",
    "ax.set_xlabel(\"Time step\")\n",
    "ax.set_ylabel(\"Value\")\n",
    "ax.set_title(\"Biomass and substrate trajectories\")\n",
    "ax.legend()\n",
    "\n",
    "# (1b) Relative error heatmap\n",
    "ax = axes[1]\n",
    "eps = 1e-12\n",
    "rel_err_matrix = ((n_pred - n_true) / (n_true + eps)).detach().cpu().numpy()\n",
    "im = ax.imshow(rel_err_matrix.T, aspect=\"auto\", origin=\"lower\",\n",
    "               extent=[0, T_val, m[0].item(), m[-1].item()],\n",
    "               cmap=\"bwr\", vmin=-0.5, vmax=0.5)\n",
    "fig.colorbar(im, ax=ax, label=\"Relative error\")\n",
    "ax.set_xlabel(\"Time step\")\n",
    "ax.set_ylabel(\"Mass m\")\n",
    "ax.set_title(\"Relative error of biomass distribution\")\n",
    "\n",
    "plt.tight_layout()\n",
    "plt.show()\n",
    "\n",
    "\n",
    "# -----------------------------\n",
    "# FIGURE 2: Singular values + Cumulative energy\n",
    "# -----------------------------\n",
    "fig, axes = plt.subplots(1, 2, figsize=(12, 4))\n",
    "\n",
    "# (2a) Singular values\n",
    "ax = axes[0]\n",
    "ax.semilogy(S.numpy(), 'o-')\n",
    "ax.axvline(r, color=\"red\", linestyle=\"--\", label=f\"r={r}\")\n",
    "ax.set_xlabel(\"Singular value index\")\n",
    "ax.set_ylabel(\"Singular value (log scale)\")\n",
    "ax.set_title(\"Singular values of X\")\n",
    "ax.legend()\n",
    "\n",
    "# (2b) Cumulative singular value energy\n",
    "ax = axes[1]\n",
    "sing_energy = torch.cumsum(S, dim=0) / torch.sum(S)\n",
    "ax.plot(sing_energy.numpy(), 'o-', label=\"Cumulative energy\")\n",
    "ax.axvline(r, color=\"blue\", linestyle=\"--\", label=f\"r={r}\")\n",
    "ax.set_xlabel(\"Number of singular values kept (r)\")\n",
    "ax.set_ylabel(\"Cumulative energy\")\n",
    "ax.set_title(\"Cumulative energy of singular values\")\n",
    "ax.legend()\n",
    "\n",
    "plt.tight_layout()\n",
    "plt.show()\n"
   ]
  },
  {
   "cell_type": "markdown",
   "id": "454203d5",
   "metadata": {},
   "source": [
    "## Error visualization for all validation sets\n",
    "Trying to find model bias by taking the error estimation for all datasets\n"
   ]
  },
  {
   "cell_type": "code",
   "execution_count": 50,
   "id": "3f3652b5",
   "metadata": {},
   "outputs": [
    {
     "name": "stdout",
     "output_type": "stream",
     "text": [
      "      id  initial_biomass  initial_substrate     err_n     err_S\n",
      "0      0            0.425           0.333333  0.716761  0.428116\n",
      "1      1            0.425           0.333333  0.496377  0.512302\n",
      "2      2            0.425           0.333333  0.467371  0.374766\n",
      "3      3            0.425           1.000000  0.614350  0.162112\n",
      "4      4            0.425           1.000000  0.328141  0.284657\n",
      "..   ...              ...                ...       ...       ...\n",
      "103  103            3.675           3.000000  0.272229  0.846002\n",
      "104  104            3.675           3.000000  0.426253  1.295383\n",
      "105  105            3.675           3.666667  0.716157  2.010087\n",
      "106  106            3.675           3.666667  0.249939  0.808096\n",
      "107  107            3.675           3.666667  0.407147  1.167357\n",
      "\n",
      "[108 rows x 5 columns]\n",
      "   id  initial_biomass  initial_substrate     err_n     err_S\n",
      "0   0            0.425           0.333333  0.716761  0.428116\n",
      "1   1            0.425           0.333333  0.496377  0.512302\n",
      "2   2            0.425           0.333333  0.467371  0.374766\n",
      "3   3            0.425           1.000000  0.614350  0.162112\n",
      "4   4            0.425           1.000000  0.328141  0.284657\n",
      "\n",
      "Error statistics:\n",
      "            err_n       err_S\n",
      "count  108.000000  108.000000\n",
      "mean     0.485462    1.606540\n",
      "std      0.215258    2.348315\n",
      "min      0.203299    0.162112\n",
      "25%      0.307485    0.412914\n",
      "50%      0.440204    0.836598\n",
      "75%      0.656046    1.751985\n",
      "max      1.170827   16.480930\n"
     ]
    },
    {
     "data": {
      "image/png": "[encoded data removed]",
      "text/plain": [
       "<Figure size 1800x500 with 6 Axes>"
      ]
     },
     "metadata": {},
     "output_type": "display_data"
    }
   ],
   "source": [
    "def dmd_rollout(entry, A, n_max, S_max,m,delta_m, U_r=None):\n",
    "    \"\"\"\n",
    "    Perform a DMD rollout for one dataset entry.\n",
    "\n",
    "    Parameters\n",
    "    ----------\n",
    "    entry : dict\n",
    "        One dataset entry containing fields:\n",
    "        - \"n\": biomass array (M x T)\n",
    "        - \"S\": substrate array (T,)\n",
    "        - \"initial_substrate\": float\n",
    "    A : torch.Tensor\n",
    "        Learned DMD operator (either full or reduced).\n",
    "    n_max : float\n",
    "        Normalization factor for biomass.\n",
    "    S_max : float\n",
    "        Normalization factor for substrate.\n",
    "    U_r : torch.Tensor, optional\n",
    "        Basis for reduced DMD (if using truncated SVD).\n",
    "        If None, assumes full DMD.\n",
    "\n",
    "    Returns\n",
    "    -------\n",
    "    n_pred : torch.Tensor (T, M)\n",
    "        Predicted biomass distribution.\n",
    "    S_pred : torch.Tensor (T,)\n",
    "        Predicted substrate trajectory.\n",
    "    err_n : float\n",
    "        Relative biomass error.\n",
    "    err_S : float\n",
    "        Relative substrate error.\n",
    "    \"\"\"\n",
    "\n",
    "    n_true = torch.tensor(entry[\"n\"].T, dtype=torch.float32)   # (T, M)\n",
    "    S_true = torch.tensor(entry[\"S\"], dtype=torch.float32)     # (T,)\n",
    "    T, M = n_true.shape\n",
    "\n",
    "    # initial condition\n",
    "    n0 = n_true[0]\n",
    "    S0 = S_true[0]\n",
    "\n",
    "    # normalize\n",
    "    x0_norm = torch.cat([n0 / n_max, (S0 / S_max).unsqueeze(0)], dim=0)  # (M+1,)\n",
    "    \n",
    "\n",
    "    if U_r is not None:\n",
    "        # project into reduced space\n",
    "        z0 = U_r.T @ x0_norm\n",
    "        z_pred = torch.zeros((T, len(z0)))\n",
    "        z_pred[0] = z0\n",
    "        for k in range(T-1):\n",
    "            z_pred[k+1] = A @ z_pred[k]\n",
    "        x_pred_norm = (U_r @ z_pred.T).T\n",
    "    else:\n",
    "        # full DMD\n",
    "        x_pred_norm = torch.zeros((T, M+1))\n",
    "        x_pred_norm[0] = x0_norm\n",
    "        for k in range(T-1):\n",
    "            x_pred_norm[k+1] = A @ x_pred_norm[k]\n",
    "\n",
    "    # rescale back\n",
    "    n_pred = x_pred_norm[:, :M] * n_max\n",
    "    S_pred = x_pred_norm[:, -1] * S_max\n",
    "   \n",
    "\n",
    "    n_pred = n_pred.to(torch.float64)\n",
    "    n_true = n_true.to(torch.float64)\n",
    "    # errors\n",
    "    eps = 1e-12\n",
    "    err_n = torch.norm((n_pred - n_true)*m*delta_m) / (torch.norm(n_true*m*delta_m)+eps)\n",
    "    err_S = torch.norm(S_pred - S_true) / (torch.norm(S_true) + eps)\n",
    "\n",
    "    return n_pred, S_pred, err_n.item(), err_S.item()\n",
    "\n",
    "\n",
    "\n",
    "\n",
    "# --- Run rollout over all validation datasets ---\n",
    "results = []\n",
    "\n",
    "for idx, entry in Dataset_error_est.items():\n",
    "    n_pred, S_pred, err_n, err_S = dmd_rollout(entry, A_tilde, n_max, S_max,m=m,delta_m=delta_m, U_r=U_r)  # or U_r=U_r if reduced\n",
    "\n",
    "    results.append({\n",
    "        \"id\": idx,\n",
    "        \"initial_biomass\": entry[\"initial biomass\"],\n",
    "        \"initial_substrate\": entry[\"initial_substrate\"],\n",
    "        \"err_n\": err_n,\n",
    "        \"err_S\": err_S\n",
    "    })\n",
    "\n",
    "# --- Put into DataFrame ---\n",
    "df_results = pd.DataFrame(results)\n",
    "print(df_results)\n",
    "print(df_results.head())\n",
    "print(\"\\nError statistics:\")\n",
    "print(df_results[[\"err_n\", \"err_S\"]].describe())\n",
    "\n",
    "\n",
    "# --- Aggregate across replicates (mean + std) ---\n",
    "pivot_n_mean = df_results.pivot_table(\n",
    "    index=\"initial_substrate\", columns=\"initial_biomass\",\n",
    "    values=\"err_n\", aggfunc=\"mean\"\n",
    ")\n",
    "pivot_S_mean = df_results.pivot_table(\n",
    "    index=\"initial_substrate\", columns=\"initial_biomass\",\n",
    "    values=\"err_S\", aggfunc=\"mean\"\n",
    ")\n",
    "\n",
    "pivot_n_std = df_results.pivot_table(\n",
    "    index=\"initial_substrate\", columns=\"initial_biomass\",\n",
    "    values=\"err_n\", aggfunc=\"std\"\n",
    ")\n",
    "pivot_S_std = df_results.pivot_table(\n",
    "    index=\"initial_substrate\", columns=\"initial_biomass\",\n",
    "    values=\"err_S\", aggfunc=\"std\"\n",
    ")\n",
    "\n",
    "# --- Aggregate biomass + substrate error together (normalized) ---\n",
    "df_results[\"err_combined\"] = (\n",
    "    df_results[\"err_n\"] / df_results[\"err_n\"].max()\n",
    "    + df_results[\"err_S\"] / df_results[\"err_S\"].max()\n",
    ")\n",
    "\n",
    "pivot_comb_mean_dmd = df_results.pivot_table(\n",
    "    index=\"initial_substrate\", columns=\"initial_biomass\",\n",
    "    values=\"err_combined\", aggfunc=\"mean\"\n",
    ")\n",
    "\n",
    "# --- Plot all three heatmaps ---\n",
    "fig, axes = plt.subplots(1, 3, figsize=(18,5))\n",
    "\n",
    "# (1) Distribution error\n",
    "im1 = axes[0].imshow(pivot_n_mean.values, origin=\"lower\", aspect=\"auto\",\n",
    "                     extent=[pivot_n_mean.columns.min(), pivot_n_mean.columns.max(),\n",
    "                             pivot_n_mean.index.min(), pivot_n_mean.index.max()],\n",
    "                     cmap=\"viridis\")\n",
    "axes[0].set_title(\"Biomass error (mean)\")\n",
    "axes[0].set_xlabel(\"Initial biomass B0\")\n",
    "axes[0].set_ylabel(\"Initial substrate S0\")\n",
    "fig.colorbar(im1, ax=axes[0], label=\"err_dist\")\n",
    "\n",
    "# (2) Substrate error\n",
    "im2 = axes[1].imshow(pivot_S_mean.values, origin=\"lower\", aspect=\"auto\",\n",
    "                     extent=[pivot_S_mean.columns.min(), pivot_S_mean.columns.max(),\n",
    "                             pivot_S_mean.index.min(), pivot_S_mean.index.max()],\n",
    "                     cmap=\"plasma\")\n",
    "axes[1].set_title(\"Substrate error (mean)\")\n",
    "axes[1].set_xlabel(\"Initial biomass B0\")\n",
    "axes[1].set_ylabel(\"Initial substrate S0\")\n",
    "fig.colorbar(im2, ax=axes[1], label=\"err_S\")\n",
    "\n",
    "# (3) Combined biomass + substrate error\n",
    "im3 = axes[2].imshow(pivot_comb_mean_dmd.values, origin=\"lower\", aspect=\"auto\",\n",
    "                     extent=[pivot_comb_mean_dmd.columns.min(), pivot_comb_mean_dmd.columns.max(),\n",
    "                             pivot_comb_mean_dmd.index.min(), pivot_comb_mean_dmd.index.max()],\n",
    "                     cmap=\"inferno\")\n",
    "axes[2].set_title(\"Combined biomass + substrate error\")\n",
    "axes[2].set_xlabel(\"Initial biomass B0\")\n",
    "axes[2].set_ylabel(\"Initial substrate S0\")\n",
    "fig.colorbar(im3, ax=axes[2], label=\"err_combined\")\n",
    "\n",
    "plt.tight_layout()\n",
    "plt.show()\n",
    "\n",
    "\n",
    "# # --- (Optional) Plot std heatmaps for uncertainty ---\n",
    "# fig, axes = plt.subplots(1, 2, figsize=(12,5))\n",
    "\n",
    "# im1 = axes[0].imshow(pivot_n_std.values, origin=\"lower\", aspect=\"auto\",\n",
    "#                      extent=[pivot_n_std.columns.min(), pivot_n_std.columns.max(),\n",
    "#                              pivot_n_std.index.min(), pivot_n_std.index.max()],\n",
    "#                      cmap=\"viridis\")\n",
    "# axes[0].set_title(\"Biomass error (std)\")\n",
    "# axes[0].set_xlabel(\"Initial biomass B0\")\n",
    "# axes[0].set_ylabel(\"Initial substrate S0\")\n",
    "# fig.colorbar(im1, ax=axes[0], label=\"err_n std\")\n",
    "\n",
    "# im2 = axes[1].imshow(pivot_S_std.values, origin=\"lower\", aspect=\"auto\",\n",
    "#                      extent=[pivot_S_std.columns.min(), pivot_S_std.columns.max(),\n",
    "#                              pivot_S_std.index.min(), pivot_S_std.index.max()],\n",
    "#                      cmap=\"plasma\")\n",
    "# axes[1].set_title(\"Substrate error (std)\")\n",
    "# axes[1].set_xlabel(\"Initial biomass B0\")\n",
    "# axes[1].set_ylabel(\"Initial substrate S0\")\n",
    "# fig.colorbar(im2, ax=axes[1], label=\"err_S std\")\n",
    "\n",
    "# plt.tight_layout()\n",
    "# plt.show()\n"
   ]
  },
  {
   "cell_type": "markdown",
   "id": "104700cd",
   "metadata": {},
   "source": [
    "# Extended DMD\n",
    "EDMD does **not** try to approximate a mapping directly in state space. Instead:\n",
    "\n",
    "1. **Feature map (dictionary):**  \n",
    "\n",
    "$$\n",
    "\\phi : \\mathbb{R}^d \\to \\mathbb{R}^D, \n",
    "\\quad \n",
    "\\phi(x) = \\begin{bmatrix}\n",
    "\\phi_1(x) \\\\\n",
    "\\phi_2(x) \\\\\n",
    "\\vdots \\\\\n",
    "\\phi_D(x)\n",
    "\\end{bmatrix},\n",
    "$$  \n",
    "\n",
    "e.g.  \n",
    "\n",
    "$$\n",
    "\\phi(x) = [\\,x_1, \\dots, x_d, x_1^2, \\dots, x_d^2, \\dots ]^\\top.\n",
    "$$  \n",
    "\n",
    "---\n",
    "\n",
    "2. **Linear dynamics in feature space:**  \n",
    "\n",
    "$$\n",
    "\\phi(x_{k+1}) \\;\\approx\\; K \\, \\phi(x_k),\n",
    "$$  \n",
    "\n",
    "where $ K \\in \\mathbb{R}^{D \\times D} $ is the EDMD approximation of the Koopman operator.  \n",
    "\n",
    "---\n",
    "\n",
    "3. **Fitting equation:**  \n",
    "Given lifted data matrices \n",
    "$$ \n",
    "\\Phi_X = \\phi(x_0), \\; \\phi(x_1), \\; \\dots, \\; \\phi(x_{m-1}),\n",
    "$$  \n",
    "\n",
    "$$\n",
    "\\Phi_Y = \\phi(x_1), \\; \\phi(x_2), \\; \\dots, \\; \\phi(x_m).\n",
    "$$  \n",
    "the least-squares solution is  \n",
    "\n",
    "$$\n",
    "K = \\Phi_Y \\, \\Phi_X^{+},\n",
    "$$  \n",
    "\n",
    "where \\( \\Phi_X^{+} \\) is the  pseudoinverse.  \n",
    "\n",
    "---\n",
    "\n",
    "## Prediction\n",
    "If the original state \\(x\\) is included as part of \\(\\phi(x)\\) (e.g. in the first \\(d\\) components), then after evolving in feature space  \n",
    "\n",
    "$$\n",
    "\\hat{\\phi}_{k+1} = K \\, \\hat{\\phi}_k,\n",
    "$$  \n",
    "\n",
    "the prediction for the physical state is obtained by projecting onto those components:  \n",
    "\n",
    "$$\n",
    "\\hat{x}_{k+1} \\;\\approx\\; \\big[\\, \\hat{\\phi}_{k+1} \\,\\big]_{1:d}.\n",
    "$$  "
   ]
  },
  {
   "cell_type": "code",
   "execution_count": 55,
   "id": "14212f67",
   "metadata": {},
   "outputs": [],
   "source": [
    "import pickle\n",
    "import torch\n",
    "import matplotlib.pyplot as plt\n",
    "\n",
    "# -----------------------------\n",
    "# 1. Load training data and build X, Y\n",
    "# -----------------------------\n",
    "# -----------------------------\n",
    "# 2. Feature lifting: [n, S, S*n]\n",
    "# ----------------------------\n",
    "\n",
    "degree=7\n",
    "\n",
    "Phi_X = EDMD_feature_space(X_train,degree=degree)  # (N, M + degree*(M+1))\n",
    "Phi_Y = EDMD_feature_space(Y_train,degree=degree)  # (N, M + degree*(M+1))\n",
    "\n",
    "# -----------------------------\n",
    "# 3. Compute EDMD operator\n",
    "# -----------------------------\n",
    "#Transpose so time is the column dimension\n",
    "Phi_XT = Phi_X.T    # (D, N)\n",
    "Phi_YT = Phi_Y.T    # (D, N)\n",
    "\n",
    "U, S, Vh = torch.linalg.svd(Phi_XT, full_matrices=False)\n",
    "\n",
    "# truncation rank\n",
    "r = 23\n",
    "U_r = U[:, :r]\n",
    "S_r = S[:r]\n",
    "Vh_r = Vh[:r, :]\n",
    "\n",
    "Sigma_r_inv = torch.diag(1.0 / S_r)\n",
    "\n",
    "K_tilde = U_r.T @ Phi_YT @ Vh_r.T @ Sigma_r_inv   # (r, r)\n",
    "\n",
    "# -----------------------------\n",
    "# 4. Validation rollout\n",
    "# -----------------------------\n",
    "\n",
    "# normalized initial state\n",
    "x0_norm = torch.cat([n0 / n_max, (S0 / S_max).unsqueeze(0)], dim=0) # (M+1,)\n",
    "\n",
    "# lifted initial condition\n",
    "phi0 = EDMD_feature_space(x0_norm.unsqueeze(0),degree=degree).squeeze(0)  # (2M+1,)\n",
    "\n",
    "# project to reduced space\n",
    "z0 = U_r.T @ phi0\n",
    "\n",
    "T_val = Dataset_validation[0][\"n\"].shape[1]\n",
    "z_pred = torch.zeros((T_val, r))\n",
    "z_pred[0] = z0\n",
    "\n",
    "for k in range(T_val - 1):\n",
    "    z_pred[k+1] = K_tilde @ z_pred[k]\n",
    "\n",
    "# lift back\n",
    "Phi_pred = (U_r @ z_pred.T).T   # (T, 2M+1)\n",
    "\n",
    "# -----------------------------\n",
    "# 5. Extract predictions\n",
    "# -----------------------------\n",
    "# from features: [n, S, S*n,...]\n",
    "n_pred = Phi_pred[:, :M] * n_max\n",
    "S_pred = Phi_pred[:, M] * S_max\n"
   ]
  },
  {
   "cell_type": "markdown",
   "id": "d0c68d20",
   "metadata": {},
   "source": [
    "## Plotting (+visualization of approximation)"
   ]
  },
  {
   "cell_type": "code",
   "execution_count": 56,
   "id": "2c5f1096",
   "metadata": {},
   "outputs": [
    {
     "name": "stdout",
     "output_type": "stream",
     "text": [
      "Relative error biomass: nan\n",
      "Relative error substrate: 4.350e-02\n"
     ]
    },
    {
     "data": {
      "application/vnd.plotly.v1+json": {
       "config": {
        "plotlyServerURL": "https://plot.ly"
       },
       "data": [
        {
         "line": {
          "cmax": 607840919713266800000,
          "cmin": -595483677853483000,
          "color": {
           "bdata": "AAAAAMkwx1xp41hbIuI53LxCydzQ4QHdVDkE3ZM4z9ytgz/cIdgTXFSDEV31h4hdFvrPXUHPDl6BSDheh49kXsMdil6SN6ReHpDBXnY+415pagVflNocXxS7OF/84FlfDoaAXwR5l1+ECrJfj4XQX2oK819Z5QxgtmkiYHAROmCA4lNgM9VvYET0hmCRCpdggSeoYO9FumBwX81gzWjhYKpW9mAECwZhb0cRYa7RHGGmlihhon80YZdyQGGPUExhu/hXYcNHY2G3rW1hyDB3YX4SgGEzLYRhjNKHYfnvimHidY1hgliPYVOQkGF/GZFh8fOQYSkikGGdqo5h4ZSMYaLqiWEat4ZhPAaDYbTHfWGGuXRhGPtqYV2lYGG/0VVhgZhKYSQTP2FuWzNheoonYe26G2FdBhBh5IUEYXyl8mDMBt1gUFrIYEDDtGCXXqJgwkCRYMl2gWAOBmZgOr9LYDr9M2DPlB5gCE8LYEHV8188RNRfNFm3X0mGnF9bRoNf20lWXwyLJ18Xu/NeYrWoXg==",
           "dtype": "f4"
          },
          "colorbar": {
           "title": {
            "text": "n(m, t)"
           }
          },
          "colorscale": [
           [
            0,
            "#440154"
           ],
           [
            0.1111111111111111,
            "#482878"
           ],
           [
            0.2222222222222222,
            "#3e4989"
           ],
           [
            0.3333333333333333,
            "#31688e"
           ],
           [
            0.4444444444444444,
            "#26828e"
           ],
           [
            0.5555555555555556,
            "#1f9e89"
           ],
           [
            0.6666666666666666,
            "#35b779"
           ],
           [
            0.7777777777777778,
            "#6ece58"
           ],
           [
            0.8888888888888888,
            "#b5de2b"
           ],
           [
            1,
            "#fde725"
           ]
          ],
          "showscale": true,
          "width": 4
         },
         "mode": "lines",
         "showlegend": false,
         "type": "scatter3d",
         "x": {
          "bdata": "AAAAALooDiy6KI4sFz3VLLooDi3osjEtFz1VLUbHeC26KI4t0e2fLeiysS0AeMMtFz3VLS4C5y1Gx/gtLkYFLrooDi5GCxcu0e0fLl3QKC7osjEudJU6LgB4Qy6LWkwuFz1VLqMfXi4uAmcuuuRvLkbHeC7p1IAuLkaFLnS3iS66KI4uAJqSLkYLly6LfJsu0e2fLhdfpC5d0Kguo0GtLuiysS4uJLYudJW6LroGvy4AeMMuRunHLotazC7Ry9AuFz3VLl2u2S6hH94u55DiLi0C5y5zc+suuOTvLv5V9C5Ex/guijj9LujUAC+LDQMvLkYFL9B+By90twkvFvALL7ooDi9cYRAv/5kSL6LSFC9FCxcv6EMZL4p8Gy8utR0v0O0fL3QmIi8WXyQvuZcmL1zQKC//CCsvokEtL0V6Ly/osjEvi+szLy4kNi/QXDgvdJU6LxbOPC+5Bj8vXD9BL/93Qy+isEUvRelHL+ghSi+LWkwvLpNOL9DLUC9zBFMvFj1VL7l1Vy9crlkv/+ZbLw==",
          "dtype": "f4"
         },
         "y": {
          "bdata": "AAAAAAAAAAAAAAAAAAAAAAAAAAAAAAAAAAAAAAAAAAAAAAAAAAAAAAAAAAAAAAAAAAAAAAAAAAAAAAAAAAAAAAAAAAAAAAAAAAAAAAAAAAAAAAAAAAAAAAAAAAAAAAAAAAAAAAAAAAAAAAAAAAAAAAAAAAAAAAAAAAAAAAAAAAAAAAAAAAAAAAAAAAAAAAAAAAAAAAAAAAAAAAAAAAAAAAAAAAAAAAAAAAAAAAAAAAAAAAAAAAAAAAAAAAAAAAAAAAAAAAAAAAAAAAAAAAAAAAAAAAAAAAAAAAAAAAAAAAAAAAAAAAAAAAAAAAAAAAAAAAAAAAAAAAAAAAAAAAAAAAAAAAAAAAAAAAAAAAAAAAAAAAAAAAAAAAAAAAAAAAAAAAAAAAAAAAAAAAAAAAAAAAAAAAAAAAAAAAAAAAAAAAAAAAAAAAAAAAAAAAAAAAAAAAAAAAAAAAAAAAAAAAAAAAAAAAAAAAAAAAAAAAAAAAAAAAAAAAAAAAAAAAAAAAAAAAAAAAAAAAAAAAAAAAAAAA==",
          "dtype": "f4"
         },
         "z": {
          "bdata": "AAAAAMkwx1xp41hbIuI53LxCydzQ4QHdVDkE3ZM4z9ytgz/cIdgTXFSDEV31h4hdFvrPXUHPDl6BSDheh49kXsMdil6SN6ReHpDBXnY+415pagVflNocXxS7OF/84FlfDoaAXwR5l1+ECrJfj4XQX2oK819Z5QxgtmkiYHAROmCA4lNgM9VvYET0hmCRCpdggSeoYO9FumBwX81gzWjhYKpW9mAECwZhb0cRYa7RHGGmlihhon80YZdyQGGPUExhu/hXYcNHY2G3rW1hyDB3YX4SgGEzLYRhjNKHYfnvimHidY1hgliPYVOQkGF/GZFh8fOQYSkikGGdqo5h4ZSMYaLqiWEat4ZhPAaDYbTHfWGGuXRhGPtqYV2lYGG/0VVhgZhKYSQTP2FuWzNheoonYe26G2FdBhBh5IUEYXyl8mDMBt1gUFrIYEDDtGCXXqJgwkCRYMl2gWAOBmZgOr9LYDr9M2DPlB5gCE8LYEHV8188RNRfNFm3X0mGnF9bRoNf20lWXwyLJ18Xu/NeYrWoXg==",
          "dtype": "f4"
         }
        },
        {
         "line": {
          "cmax": 607840919713266800000,
          "cmin": -595483677853483000,
          "color": {
           "bdata": "AAAAAAwYsFy6oSdcKZJgXDkGBF1ApJJdVoYJXm9RYl6KialexYvtXs8YHl+XOEpf7a96X6uIl1+ahLNfJTHRX2eD8F/jvghgnhkaYAtdLGAvnD9gFuJTYGw2aWBVn39gY4uLYP7Gl2ANc6RgZYCxYHjUvmDOWMxgz+7ZYFN352AW2fRgl/wAYZliB2H+lg1hPZUTYTBdGWHr8R5hylgkYS6bKWEewy5hSdszYRbvOGESCD5hXy5DYZpnSGGltE1hKxRTYUeAWGHUeV1hhxtiYb3UZmHdimthpyJwYVmBdGE+i3hhTCZ8YdY6f2Hg2YBhpL+BYQJHgmH0aoJhJCeCYeR4gWElX4BhmbN9YZTSeWE8H3VhrZ5vYQZYaWFyVGJhc55aYY5DUmHiU0lhIeE/YVQANmECyCthQlAhYTSzFmGICgxhpXABYSr87WBflNlgx9LFYEDbsmBDyaBgNLGPYF8/f2AhM2FgVTlFYBtAK2A+LBNgJbL5X0050F+ZkqlfMGCFXxiLRl+j1wVfKNqnXg==",
           "dtype": "f4"
          },
          "colorscale": [
           [
            0,
            "#440154"
           ],
           [
            0.1111111111111111,
            "#482878"
           ],
           [
            0.2222222222222222,
            "#3e4989"
           ],
           [
            0.3333333333333333,
            "#31688e"
           ],
           [
            0.4444444444444444,
            "#26828e"
           ],
           [
            0.5555555555555556,
            "#1f9e89"
           ],
           [
            0.6666666666666666,
            "#35b779"
           ],
           [
            0.7777777777777778,
            "#6ece58"
           ],
           [
            0.8888888888888888,
            "#b5de2b"
           ],
           [
            1,
            "#fde725"
           ]
          ],
          "showscale": false,
          "width": 4
         },
         "mode": "lines",
         "showlegend": false,
         "type": "scatter3d",
         "x": {
          "bdata": "AAAAALooDiy6KI4sFz3VLLooDi3osjEtFz1VLUbHeC26KI4t0e2fLeiysS0AeMMtFz3VLS4C5y1Gx/gtLkYFLrooDi5GCxcu0e0fLl3QKC7osjEudJU6LgB4Qy6LWkwuFz1VLqMfXi4uAmcuuuRvLkbHeC7p1IAuLkaFLnS3iS66KI4uAJqSLkYLly6LfJsu0e2fLhdfpC5d0Kguo0GtLuiysS4uJLYudJW6LroGvy4AeMMuRunHLotazC7Ry9AuFz3VLl2u2S6hH94u55DiLi0C5y5zc+suuOTvLv5V9C5Ex/guijj9LujUAC+LDQMvLkYFL9B+By90twkvFvALL7ooDi9cYRAv/5kSL6LSFC9FCxcv6EMZL4p8Gy8utR0v0O0fL3QmIi8WXyQvuZcmL1zQKC//CCsvokEtL0V6Ly/osjEvi+szLy4kNi/QXDgvdJU6LxbOPC+5Bj8vXD9BL/93Qy+isEUvRelHL+ghSi+LWkwvLpNOL9DLUC9zBFMvFj1VL7l1Vy9crlkv/+ZbLw==",
          "dtype": "f4"
         },
         "y": {
          "bdata": "Yt5OPmLeTj5i3k4+Yt5OPmLeTj5i3k4+Yt5OPmLeTj5i3k4+Yt5OPmLeTj5i3k4+Yt5OPmLeTj5i3k4+Yt5OPmLeTj5i3k4+Yt5OPmLeTj5i3k4+Yt5OPmLeTj5i3k4+Yt5OPmLeTj5i3k4+Yt5OPmLeTj5i3k4+Yt5OPmLeTj5i3k4+Yt5OPmLeTj5i3k4+Yt5OPmLeTj5i3k4+Yt5OPmLeTj5i3k4+Yt5OPmLeTj5i3k4+Yt5OPmLeTj5i3k4+Yt5OPmLeTj5i3k4+Yt5OPmLeTj5i3k4+Yt5OPmLeTj5i3k4+Yt5OPmLeTj5i3k4+Yt5OPmLeTj5i3k4+Yt5OPmLeTj5i3k4+Yt5OPmLeTj5i3k4+Yt5OPmLeTj5i3k4+Yt5OPmLeTj5i3k4+Yt5OPmLeTj5i3k4+Yt5OPmLeTj5i3k4+Yt5OPmLeTj5i3k4+Yt5OPmLeTj5i3k4+Yt5OPmLeTj5i3k4+Yt5OPmLeTj5i3k4+Yt5OPmLeTj5i3k4+Yt5OPmLeTj5i3k4+Yt5OPg==",
          "dtype": "f4"
         },
         "z": {
          "bdata": "AAAAAAwYsFy6oSdcKZJgXDkGBF1ApJJdVoYJXm9RYl6KialexYvtXs8YHl+XOEpf7a96X6uIl1+ahLNfJTHRX2eD8F/jvghgnhkaYAtdLGAvnD9gFuJTYGw2aWBVn39gY4uLYP7Gl2ANc6RgZYCxYHjUvmDOWMxgz+7ZYFN352AW2fRgl/wAYZliB2H+lg1hPZUTYTBdGWHr8R5hylgkYS6bKWEewy5hSdszYRbvOGESCD5hXy5DYZpnSGGltE1hKxRTYUeAWGHUeV1hhxtiYb3UZmHdimthpyJwYVmBdGE+i3hhTCZ8YdY6f2Hg2YBhpL+BYQJHgmH0aoJhJCeCYeR4gWElX4BhmbN9YZTSeWE8H3VhrZ5vYQZYaWFyVGJhc55aYY5DUmHiU0lhIeE/YVQANmECyCthQlAhYTSzFmGICgxhpXABYSr87WBflNlgx9LFYEDbsmBDyaBgNLGPYF8/f2AhM2FgVTlFYBtAK2A+LBNgJbL5X0050F+ZkqlfMGCFXxiLRl+j1wVfKNqnXg==",
          "dtype": "f4"
         }
        },
        {
         "line": {
          "cmax": 607840919713266800000,
          "cmin": -595483677853483000,
          "color": {
           "bdata": "AAAAAKFGh1ynBjVcN1rhXE8hk11EehpeceGJXoEY216aXSBfI/dcX9tSkV/cTLhfRQPjX2qICGCwDiFgnO86YK4OVmA9V3Jg8N2HYO4Yl2Dk2qZg8B63YFHdx2AlDtlgW6LqYIeG/GA0TwdhxWYQYdB1GWFmaSJhjSorYb2hM2EDujthi11DYQh7SmGwAlFhD+lWYZknXGEovGBhxahkYfv0Z2Gtq2phc9psYU+SbmEH5W9hyeVwYZ6ncWEdO3Jhz7ByYcYVc2HdHHNhJOZyYTPRcmHZ23JhQwJzYd8+c2Hhh3NhUdJzYZIRdGE5OHRhrzh0YZQEdGE6j3NhCMtyYSmrcWHaI3BhpSluYT6xa2F9sWhhpiFlYTf7YGFYOVxhCtlWYXjaUGEnQUphwhJDYQZZO2FkIDNh8HcqYfRxIWHrIRhhf50OYS76BGEJnPZg41vjYNVb0GDbvr1gqKOrYEMjmmABUYlgmXRyYCnNU2DZsDZgUBobYFb8AGAihdBfK6WhXzoyal88LhVfzjyqXg==",
           "dtype": "f4"
          },
          "colorscale": [
           [
            0,
            "#440154"
           ],
           [
            0.1111111111111111,
            "#482878"
           ],
           [
            0.2222222222222222,
            "#3e4989"
           ],
           [
            0.3333333333333333,
            "#31688e"
           ],
           [
            0.4444444444444444,
            "#26828e"
           ],
           [
            0.5555555555555556,
            "#1f9e89"
           ],
           [
            0.6666666666666666,
            "#35b779"
           ],
           [
            0.7777777777777778,
            "#6ece58"
           ],
           [
            0.8888888888888888,
            "#b5de2b"
           ],
           [
            1,
            "#fde725"
           ]
          ],
          "showscale": false,
          "width": 4
         },
         "mode": "lines",
         "showlegend": false,
         "type": "scatter3d",
         "x": {
          "bdata": "AAAAALooDiy6KI4sFz3VLLooDi3osjEtFz1VLUbHeC26KI4t0e2fLeiysS0AeMMtFz3VLS4C5y1Gx/gtLkYFLrooDi5GCxcu0e0fLl3QKC7osjEudJU6LgB4Qy6LWkwuFz1VLqMfXi4uAmcuuuRvLkbHeC7p1IAuLkaFLnS3iS66KI4uAJqSLkYLly6LfJsu0e2fLhdfpC5d0Kguo0GtLuiysS4uJLYudJW6LroGvy4AeMMuRunHLotazC7Ry9AuFz3VLl2u2S6hH94u55DiLi0C5y5zc+suuOTvLv5V9C5Ex/guijj9LujUAC+LDQMvLkYFL9B+By90twkvFvALL7ooDi9cYRAv/5kSL6LSFC9FCxcv6EMZL4p8Gy8utR0v0O0fL3QmIi8WXyQvuZcmL1zQKC//CCsvokEtL0V6Ly/osjEvi+szLy4kNi/QXDgvdJU6LxbOPC+5Bj8vXD9BL/93Qy+isEUvRelHL+ghSi+LWkwvLpNOL9DLUC9zBFMvFj1VL7l1Vy9crlkv/+ZbLw==",
          "dtype": "f4"
         },
         "y": {
          "bdata": "Yt7OPmLezj5i3s4+Yt7OPmLezj5i3s4+Yt7OPmLezj5i3s4+Yt7OPmLezj5i3s4+Yt7OPmLezj5i3s4+Yt7OPmLezj5i3s4+Yt7OPmLezj5i3s4+Yt7OPmLezj5i3s4+Yt7OPmLezj5i3s4+Yt7OPmLezj5i3s4+Yt7OPmLezj5i3s4+Yt7OPmLezj5i3s4+Yt7OPmLezj5i3s4+Yt7OPmLezj5i3s4+Yt7OPmLezj5i3s4+Yt7OPmLezj5i3s4+Yt7OPmLezj5i3s4+Yt7OPmLezj5i3s4+Yt7OPmLezj5i3s4+Yt7OPmLezj5i3s4+Yt7OPmLezj5i3s4+Yt7OPmLezj5i3s4+Yt7OPmLezj5i3s4+Yt7OPmLezj5i3s4+Yt7OPmLezj5i3s4+Yt7OPmLezj5i3s4+Yt7OPmLezj5i3s4+Yt7OPmLezj5i3s4+Yt7OPmLezj5i3s4+Yt7OPmLezj5i3s4+Yt7OPmLezj5i3s4+Yt7OPmLezj5i3s4+Yt7OPmLezj5i3s4+Yt7OPg==",
          "dtype": "f4"
         },
         "z": {
          "bdata": "AAAAAKFGh1ynBjVcN1rhXE8hk11EehpeceGJXoEY216aXSBfI/dcX9tSkV/cTLhfRQPjX2qICGCwDiFgnO86YK4OVmA9V3Jg8N2HYO4Yl2Dk2qZg8B63YFHdx2AlDtlgW6LqYIeG/GA0TwdhxWYQYdB1GWFmaSJhjSorYb2hM2EDujthi11DYQh7SmGwAlFhD+lWYZknXGEovGBhxahkYfv0Z2Gtq2phc9psYU+SbmEH5W9hyeVwYZ6ncWEdO3Jhz7ByYcYVc2HdHHNhJOZyYTPRcmHZ23JhQwJzYd8+c2Hhh3NhUdJzYZIRdGE5OHRhrzh0YZQEdGE6j3NhCMtyYSmrcWHaI3BhpSluYT6xa2F9sWhhpiFlYTf7YGFYOVxhCtlWYXjaUGEnQUphwhJDYQZZO2FkIDNh8HcqYfRxIWHrIRhhf50OYS76BGEJnPZg41vjYNVb0GDbvr1gqKOrYEMjmmABUYlgmXRyYCnNU2DZsDZgUBobYFb8AGAihdBfK6WhXzoyal88LhVfzjyqXg==",
          "dtype": "f4"
         }
        },
        {
         "line": {
          "cmax": 607840919713266800000,
          "cmin": -595483677853483000,
          "color": {
           "bdata": "AAAAADZYRVwqjS5c+S0YXUhU0V2GI1te5kDCXsiMGV+NGWBfKxyaX1uFyl+5XgBg3BceYCkhPmCcMWBgSwOCYEGylGCnDKhgL/27YOdw0GDbWeVgrKj6YEAmCGFPGxNhDykeYQBEKWG7XDRhP2Q/YTxGSmEV71RhR0dfYVM2aWF6pXJhWnx7YSrTgWF7h4Vh7tKIYU2vi2FDGI5hwQuQYUGKkWGJlpJh/DSTYXZsk2EBRZNhSMiSYfQAkmF/+ZBhXb2PYUpXjmG+u4xhKPiKYbkpiWF0V4dhv4eFYSnAg2G5A4JhtFSAYZtnfWEtQXphczN3YRk5dGFRTHFhbGRuYbF3a2GFe2hhGGRlYZgkYmHzsF5hZ/xaYaD7VmHno1Jhn+tNYYnLSGH4PkNh40I9YcjXNmFjADBhLsIoYZ4lIWHgNBlhrfwQYX+KCGGP2v9gR2juYObc3GBMVctg5+y5YC+8qGC62JdgdVSHYPB6bmDaPE9g4PswYJ2+E2ASCu9fBpG4X2/3g19hKSJfBQOsXg==",
           "dtype": "f4"
          },
          "colorscale": [
           [
            0,
            "#440154"
           ],
           [
            0.1111111111111111,
            "#482878"
           ],
           [
            0.2222222222222222,
            "#3e4989"
           ],
           [
            0.3333333333333333,
            "#31688e"
           ],
           [
            0.4444444444444444,
            "#26828e"
           ],
           [
            0.5555555555555556,
            "#1f9e89"
           ],
           [
            0.6666666666666666,
            "#35b779"
           ],
           [
            0.7777777777777778,
            "#6ece58"
           ],
           [
            0.8888888888888888,
            "#b5de2b"
           ],
           [
            1,
            "#fde725"
           ]
          ],
          "showscale": false,
          "width": 4
         },
         "mode": "lines",
         "showlegend": false,
         "type": "scatter3d",
         "x": {
          "bdata": "AAAAALooDiy6KI4sFz3VLLooDi3osjEtFz1VLUbHeC26KI4t0e2fLeiysS0AeMMtFz3VLS4C5y1Gx/gtLkYFLrooDi5GCxcu0e0fLl3QKC7osjEudJU6LgB4Qy6LWkwuFz1VLqMfXi4uAmcuuuRvLkbHeC7p1IAuLkaFLnS3iS66KI4uAJqSLkYLly6LfJsu0e2fLhdfpC5d0Kguo0GtLuiysS4uJLYudJW6LroGvy4AeMMuRunHLotazC7Ry9AuFz3VLl2u2S6hH94u55DiLi0C5y5zc+suuOTvLv5V9C5Ex/guijj9LujUAC+LDQMvLkYFL9B+By90twkvFvALL7ooDi9cYRAv/5kSL6LSFC9FCxcv6EMZL4p8Gy8utR0v0O0fL3QmIi8WXyQvuZcmL1zQKC//CCsvokEtL0V6Ly/osjEvi+szLy4kNi/QXDgvdJU6LxbOPC+5Bj8vXD9BL/93Qy+isEUvRelHL+ghSi+LWkwvLpNOL9DLUC9zBFMvFj1VL7l1Vy9crlkv/+ZbLw==",
          "dtype": "f4"
         },
         "y": {
          "bdata": "yiYbP8omGz/KJhs/yiYbP8omGz/KJhs/yiYbP8omGz/KJhs/yiYbP8omGz/KJhs/yiYbP8omGz/KJhs/yiYbP8omGz/KJhs/yiYbP8omGz/KJhs/yiYbP8omGz/KJhs/yiYbP8omGz/KJhs/yiYbP8omGz/KJhs/yiYbP8omGz/KJhs/yiYbP8omGz/KJhs/yiYbP8omGz/KJhs/yiYbP8omGz/KJhs/yiYbP8omGz/KJhs/yiYbP8omGz/KJhs/yiYbP8omGz/KJhs/yiYbP8omGz/KJhs/yiYbP8omGz/KJhs/yiYbP8omGz/KJhs/yiYbP8omGz/KJhs/yiYbP8omGz/KJhs/yiYbP8omGz/KJhs/yiYbP8omGz/KJhs/yiYbP8omGz/KJhs/yiYbP8omGz/KJhs/yiYbP8omGz/KJhs/yiYbP8omGz/KJhs/yiYbP8omGz/KJhs/yiYbP8omGz/KJhs/yiYbP8omGz/KJhs/yiYbP8omGz/KJhs/yiYbP8omGz/KJhs/yiYbPw==",
          "dtype": "f4"
         },
         "z": {
          "bdata": "AAAAADZYRVwqjS5c+S0YXUhU0V2GI1te5kDCXsiMGV+NGWBfKxyaX1uFyl+5XgBg3BceYCkhPmCcMWBgSwOCYEGylGCnDKhgL/27YOdw0GDbWeVgrKj6YEAmCGFPGxNhDykeYQBEKWG7XDRhP2Q/YTxGSmEV71RhR0dfYVM2aWF6pXJhWnx7YSrTgWF7h4Vh7tKIYU2vi2FDGI5hwQuQYUGKkWGJlpJh/DSTYXZsk2EBRZNhSMiSYfQAkmF/+ZBhXb2PYUpXjmG+u4xhKPiKYbkpiWF0V4dhv4eFYSnAg2G5A4JhtFSAYZtnfWEtQXphczN3YRk5dGFRTHFhbGRuYbF3a2GFe2hhGGRlYZgkYmHzsF5hZ/xaYaD7VmHno1Jhn+tNYYnLSGH4PkNh40I9YcjXNmFjADBhLsIoYZ4lIWHgNBlhrfwQYX+KCGGP2v9gR2juYObc3GBMVctg5+y5YC+8qGC62JdgdVSHYPB6bmDaPE9g4PswYJ2+E2ASCu9fBpG4X2/3g19hKSJfBQOsXg==",
          "dtype": "f4"
         }
        },
        {
         "line": {
          "cmax": 607840919713266800000,
          "cmin": -595483677853483000,
          "color": {
           "bdata": "AAAAABBcDVwbqytc9bk4XVeuAV7FqYdeLPrvXj+CPV8ZS4pfblK+X3ZZ+l/D3B5gX9pDYADAa2DXE4tgIVihYHN+uGCCXdBgA9DoYN7ZAGGCdg1hZDAaYVP6JmGRyTNhNJFAYflETWGU1VlhUTVmYflRcmFqGn5h97yEYV0timEmVI9h7SWUYdGYmGFhopxh1zmgYctXo2FC9qVhNBGoYbumqWE4t6phtkSrYblTq2Fd6qphuxCqYXnQqGGMM6dhikWlYeoRo2GYoqBhNgCeYXY0m2HbSZhhhEqVYR5AkmH4MY9h/yaMYZIkiWH8LoZhfkmDYdV1gGEaanthJg12YbDRcGHusmthUKpmYXCvYWHiuVxhsL9XYYa3UmGSl01hBlZIYVPqQmExTT1h23c3YcdlMWGIEythoX8kYbGqHWGblhZhZkcPYRLCB2E5DQBhkmDwYEFn4GCVP9BgN/u/YFyrr2DHYJ9g5SqPYIMvfmCjZ15gyRI/YMlBIGAzAQJgf7HIX6mVjl+qUCtfKHmsXg==",
           "dtype": "f4"
          },
          "colorscale": [
           [
            0,
            "#440154"
           ],
           [
            0.1111111111111111,
            "#482878"
           ],
           [
            0.2222222222222222,
            "#3e4989"
           ],
           [
            0.3333333333333333,
            "#31688e"
           ],
           [
            0.4444444444444444,
            "#26828e"
           ],
           [
            0.5555555555555556,
            "#1f9e89"
           ],
           [
            0.6666666666666666,
            "#35b779"
           ],
           [
            0.7777777777777778,
            "#6ece58"
           ],
           [
            0.8888888888888888,
            "#b5de2b"
           ],
           [
            1,
            "#fde725"
           ]
          ],
          "showscale": false,
          "width": 4
         },
         "mode": "lines",
         "showlegend": false,
         "type": "scatter3d",
         "x": {
          "bdata": "AAAAALooDiy6KI4sFz3VLLooDi3osjEtFz1VLUbHeC26KI4t0e2fLeiysS0AeMMtFz3VLS4C5y1Gx/gtLkYFLrooDi5GCxcu0e0fLl3QKC7osjEudJU6LgB4Qy6LWkwuFz1VLqMfXi4uAmcuuuRvLkbHeC7p1IAuLkaFLnS3iS66KI4uAJqSLkYLly6LfJsu0e2fLhdfpC5d0Kguo0GtLuiysS4uJLYudJW6LroGvy4AeMMuRunHLotazC7Ry9AuFz3VLl2u2S6hH94u55DiLi0C5y5zc+suuOTvLv5V9C5Ex/guijj9LujUAC+LDQMvLkYFL9B+By90twkvFvALL7ooDi9cYRAv/5kSL6LSFC9FCxcv6EMZL4p8Gy8utR0v0O0fL3QmIi8WXyQvuZcmL1zQKC//CCsvokEtL0V6Ly/osjEvi+szLy4kNi/QXDgvdJU6LxbOPC+5Bj8vXD9BL/93Qy+isEUvRelHL+ghSi+LWkwvLpNOL9DLUC9zBFMvFj1VL7l1Vy9crlkv/+ZbLw==",
          "dtype": "f4"
         },
         "y": {
          "bdata": "Yt5OP2LeTj9i3k4/Yt5OP2LeTj9i3k4/Yt5OP2LeTj9i3k4/Yt5OP2LeTj9i3k4/Yt5OP2LeTj9i3k4/Yt5OP2LeTj9i3k4/Yt5OP2LeTj9i3k4/Yt5OP2LeTj9i3k4/Yt5OP2LeTj9i3k4/Yt5OP2LeTj9i3k4/Yt5OP2LeTj9i3k4/Yt5OP2LeTj9i3k4/Yt5OP2LeTj9i3k4/Yt5OP2LeTj9i3k4/Yt5OP2LeTj9i3k4/Yt5OP2LeTj9i3k4/Yt5OP2LeTj9i3k4/Yt5OP2LeTj9i3k4/Yt5OP2LeTj9i3k4/Yt5OP2LeTj9i3k4/Yt5OP2LeTj9i3k4/Yt5OP2LeTj9i3k4/Yt5OP2LeTj9i3k4/Yt5OP2LeTj9i3k4/Yt5OP2LeTj9i3k4/Yt5OP2LeTj9i3k4/Yt5OP2LeTj9i3k4/Yt5OP2LeTj9i3k4/Yt5OP2LeTj9i3k4/Yt5OP2LeTj9i3k4/Yt5OP2LeTj9i3k4/Yt5OP2LeTj9i3k4/Yt5OP2LeTj9i3k4/Yt5OPw==",
          "dtype": "f4"
         },
         "z": {
          "bdata": "AAAAABBcDVwbqytc9bk4XVeuAV7FqYdeLPrvXj+CPV8ZS4pfblK+X3ZZ+l/D3B5gX9pDYADAa2DXE4tgIVihYHN+uGCCXdBgA9DoYN7ZAGGCdg1hZDAaYVP6JmGRyTNhNJFAYflETWGU1VlhUTVmYflRcmFqGn5h97yEYV0timEmVI9h7SWUYdGYmGFhopxh1zmgYctXo2FC9qVhNBGoYbumqWE4t6phtkSrYblTq2Fd6qphuxCqYXnQqGGMM6dhikWlYeoRo2GYoqBhNgCeYXY0m2HbSZhhhEqVYR5AkmH4MY9h/yaMYZIkiWH8LoZhfkmDYdV1gGEaanthJg12YbDRcGHusmthUKpmYXCvYWHiuVxhsL9XYYa3UmGSl01hBlZIYVPqQmExTT1h23c3YcdlMWGIEythoX8kYbGqHWGblhZhZkcPYRLCB2E5DQBhkmDwYEFn4GCVP9BgN/u/YFyrr2DHYJ9g5SqPYIMvfmCjZ15gyRI/YMlBIGAzAQJgf7HIX6mVjl+qUCtfKHmsXg==",
          "dtype": "f4"
         }
        },
        {
         "line": {
          "cmax": 607840919713266800000,
          "cmin": -595483677853483000,
          "color": {
           "bdata": "AAAAAHQDw1sLCitc1LVTXUrMFV6Yn5xe7V4KX7qIWl8Pk59fhdbbX37EEGDb9zdgMhZjYLLSiGAgk6FgII67YA6G1mAiQvJg2UYHYb6bFWH+CiRh64AyYTfrQGFPO09hVGFdYcZPa2EF93hhLCWDYduciWFL249h19eVYXWJm2Gw56Bh2uilYaeEqmHLsa5hYWiyYXqhtWEgV7hhBoW6YZMovGFAQb1hBdC9YQ7YvWEzXr1hQGm8YZUBu2EeMLlhbf+2YS16tGEeuLFhTr2uYR2Eq2FmF6hhsoGkYVPNoGG0Ap1hQyqZYTBLlWEUbJFhpZKNYXjDiWF/AoZhN1KCYYpofWEMU3Zh2mNvYRSZaGFw8GFhz2VbYQD1VGGamE5hOUpIYaIDQmF1vjthrHM1YQ4dL2E6tChhgjMiYUGWG2FY2BRhDfcNYWLwBmGMh/9gW+PwYNX34WAzytJgvGHDYBrHs2CCBKRgvSSUYD0zhGBAd2hgOpJIYPbMKGBQOwlgu9zTX6PnlV9GVjFfyr2rXg==",
           "dtype": "f4"
          },
          "colorscale": [
           [
            0,
            "#440154"
           ],
           [
            0.1111111111111111,
            "#482878"
           ],
           [
            0.2222222222222222,
            "#3e4989"
           ],
           [
            0.3333333333333333,
            "#31688e"
           ],
           [
            0.4444444444444444,
            "#26828e"
           ],
           [
            0.5555555555555556,
            "#1f9e89"
           ],
           [
            0.6666666666666666,
            "#35b779"
           ],
           [
            0.7777777777777778,
            "#6ece58"
           ],
           [
            0.8888888888888888,
            "#b5de2b"
           ],
           [
            1,
            "#fde725"
           ]
          ],
          "showscale": false,
          "width": 4
         },
         "mode": "lines",
         "showlegend": false,
         "type": "scatter3d",
         "x": {
          "bdata": "AAAAALooDiy6KI4sFz3VLLooDi3osjEtFz1VLUbHeC26KI4t0e2fLeiysS0AeMMtFz3VLS4C5y1Gx/gtLkYFLrooDi5GCxcu0e0fLl3QKC7osjEudJU6LgB4Qy6LWkwuFz1VLqMfXi4uAmcuuuRvLkbHeC7p1IAuLkaFLnS3iS66KI4uAJqSLkYLly6LfJsu0e2fLhdfpC5d0Kguo0GtLuiysS4uJLYudJW6LroGvy4AeMMuRunHLotazC7Ry9AuFz3VLl2u2S6hH94u55DiLi0C5y5zc+suuOTvLv5V9C5Ex/guijj9LujUAC+LDQMvLkYFL9B+By90twkvFvALL7ooDi9cYRAv/5kSL6LSFC9FCxcv6EMZL4p8Gy8utR0v0O0fL3QmIi8WXyQvuZcmL1zQKC//CCsvokEtL0V6Ly/osjEvi+szLy4kNi/QXDgvdJU6LxbOPC+5Bj8vXD9BL/93Qy+isEUvRelHL+ghSi+LWkwvLpNOL9DLUC9zBFMvFj1VL7l1Vy9crlkv/+ZbLw==",
          "dtype": "f4"
         },
         "y": {
          "bdata": "/UqBP/1KgT/9SoE//UqBP/1KgT/9SoE//UqBP/1KgT/9SoE//UqBP/1KgT/9SoE//UqBP/1KgT/9SoE//UqBP/1KgT/9SoE//UqBP/1KgT/9SoE//UqBP/1KgT/9SoE//UqBP/1KgT/9SoE//UqBP/1KgT/9SoE//UqBP/1KgT/9SoE//UqBP/1KgT/9SoE//UqBP/1KgT/9SoE//UqBP/1KgT/9SoE//UqBP/1KgT/9SoE//UqBP/1KgT/9SoE//UqBP/1KgT/9SoE//UqBP/1KgT/9SoE//UqBP/1KgT/9SoE//UqBP/1KgT/9SoE//UqBP/1KgT/9SoE//UqBP/1KgT/9SoE//UqBP/1KgT/9SoE//UqBP/1KgT/9SoE//UqBP/1KgT/9SoE//UqBP/1KgT/9SoE//UqBP/1KgT/9SoE//UqBP/1KgT/9SoE//UqBP/1KgT/9SoE//UqBP/1KgT/9SoE//UqBP/1KgT/9SoE//UqBP/1KgT/9SoE//UqBP/1KgT/9SoE//UqBPw==",
          "dtype": "f4"
         },
         "z": {
          "bdata": "AAAAAHQDw1sLCitc1LVTXUrMFV6Yn5xe7V4KX7qIWl8Pk59fhdbbX37EEGDb9zdgMhZjYLLSiGAgk6FgII67YA6G1mAiQvJg2UYHYb6bFWH+CiRh64AyYTfrQGFPO09hVGFdYcZPa2EF93hhLCWDYduciWFL249h19eVYXWJm2Gw56Bh2uilYaeEqmHLsa5hYWiyYXqhtWEgV7hhBoW6YZMovGFAQb1hBdC9YQ7YvWEzXr1hQGm8YZUBu2EeMLlhbf+2YS16tGEeuLFhTr2uYR2Eq2FmF6hhsoGkYVPNoGG0Ap1hQyqZYTBLlWEUbJFhpZKNYXjDiWF/AoZhN1KCYYpofWEMU3Zh2mNvYRSZaGFw8GFhz2VbYQD1VGGamE5hOUpIYaIDQmF1vjthrHM1YQ4dL2E6tChhgjMiYUGWG2FY2BRhDfcNYWLwBmGMh/9gW+PwYNX34WAzytJgvGHDYBrHs2CCBKRgvSSUYD0zhGBAd2hgOpJIYPbMKGBQOwlgu9zTX6PnlV9GVjFfyr2rXg==",
          "dtype": "f4"
         }
        },
        {
         "line": {
          "cmax": 607840919713266800000,
          "cmin": -595483677853483000,
          "color": {
           "bdata": "AAAAAG28b1v0oCdc9c9oXeiuJV4XT61eSRAZXx/UcV/rt7Bf6LTzX8qrIGDZa0xgcZ98YFFemGAEGLRgZjPRYP1l72DoNAdhW/4WYQLwJmGl7jZhvuBGYdquVmE7RmZhnZN1YbJDgmFhiIlhg5GQYY1Xl2Et1J1h8/+jYX7TqWEKSK9hu1W0YSj2uGGxIb1hIdLAYe8BxGFIrMZh6s3IYcRkymHFcMthH/PLYcXuy2FuaMthPmbKYffvyGGsDcdhy8jEYf8qwmEUU79h1EG8YdDnuGGlTrVheH+xYViDrWHDYalhqCKlYRnNoGEEaJxh7fmXYbKIk2HsGY9hObKKYbNVhmH2B4Jh+pd7Yf9Hc2EbJGthiS5jYfJoW2Fg01Nh72tMYfgvRWF7Gz5huSg3YV9RMGG+jSlhtNUiYSAhHGGTZxVhRaEOYezGB2Fb0gBhBn3zYN4P5WDkWNZg7lbHYLELuGDpe6hgeq6YYJasiGAAAnFg8W5QYPG4L2At+Q5gO4/cX2J0m1/HjzVfbjGqXg==",
           "dtype": "f4"
          },
          "colorscale": [
           [
            0,
            "#440154"
           ],
           [
            0.1111111111111111,
            "#482878"
           ],
           [
            0.2222222222222222,
            "#3e4989"
           ],
           [
            0.3333333333333333,
            "#31688e"
           ],
           [
            0.4444444444444444,
            "#26828e"
           ],
           [
            0.5555555555555556,
            "#1f9e89"
           ],
           [
            0.6666666666666666,
            "#35b779"
           ],
           [
            0.7777777777777778,
            "#6ece58"
           ],
           [
            0.8888888888888888,
            "#b5de2b"
           ],
           [
            1,
            "#fde725"
           ]
          ],
          "showscale": false,
          "width": 4
         },
         "mode": "lines",
         "showlegend": false,
         "type": "scatter3d",
         "x": {
          "bdata": "AAAAALooDiy6KI4sFz3VLLooDi3osjEtFz1VLUbHeC26KI4t0e2fLeiysS0AeMMtFz3VLS4C5y1Gx/gtLkYFLrooDi5GCxcu0e0fLl3QKC7osjEudJU6LgB4Qy6LWkwuFz1VLqMfXi4uAmcuuuRvLkbHeC7p1IAuLkaFLnS3iS66KI4uAJqSLkYLly6LfJsu0e2fLhdfpC5d0Kguo0GtLuiysS4uJLYudJW6LroGvy4AeMMuRunHLotazC7Ry9AuFz3VLl2u2S6hH94u55DiLi0C5y5zc+suuOTvLv5V9C5Ex/guijj9LujUAC+LDQMvLkYFL9B+By90twkvFvALL7ooDi9cYRAv/5kSL6LSFC9FCxcv6EMZL4p8Gy8utR0v0O0fL3QmIi8WXyQvuZcmL1zQKC//CCsvokEtL0V6Ly/osjEvi+szLy4kNi/QXDgvdJU6LxbOPC+5Bj8vXD9BL/93Qy+isEUvRelHL+ghSi+LWkwvLpNOL9DLUC9zBFMvFj1VL7l1Vy9crlkv/+ZbLw==",
          "dtype": "f4"
         },
         "y": {
          "bdata": "yiabP8ommz/KJps/yiabP8ommz/KJps/yiabP8ommz/KJps/yiabP8ommz/KJps/yiabP8ommz/KJps/yiabP8ommz/KJps/yiabP8ommz/KJps/yiabP8ommz/KJps/yiabP8ommz/KJps/yiabP8ommz/KJps/yiabP8ommz/KJps/yiabP8ommz/KJps/yiabP8ommz/KJps/yiabP8ommz/KJps/yiabP8ommz/KJps/yiabP8ommz/KJps/yiabP8ommz/KJps/yiabP8ommz/KJps/yiabP8ommz/KJps/yiabP8ommz/KJps/yiabP8ommz/KJps/yiabP8ommz/KJps/yiabP8ommz/KJps/yiabP8ommz/KJps/yiabP8ommz/KJps/yiabP8ommz/KJps/yiabP8ommz/KJps/yiabP8ommz/KJps/yiabP8ommz/KJps/yiabP8ommz/KJps/yiabP8ommz/KJps/yiabP8ommz/KJps/yiabP8ommz/KJps/yiabPw==",
          "dtype": "f4"
         },
         "z": {
          "bdata": "AAAAAG28b1v0oCdc9c9oXeiuJV4XT61eSRAZXx/UcV/rt7Bf6LTzX8qrIGDZa0xgcZ98YFFemGAEGLRgZjPRYP1l72DoNAdhW/4WYQLwJmGl7jZhvuBGYdquVmE7RmZhnZN1YbJDgmFhiIlhg5GQYY1Xl2Et1J1h8/+jYX7TqWEKSK9hu1W0YSj2uGGxIb1hIdLAYe8BxGFIrMZh6s3IYcRkymHFcMthH/PLYcXuy2FuaMthPmbKYffvyGGsDcdhy8jEYf8qwmEUU79h1EG8YdDnuGGlTrVheH+xYViDrWHDYalhqCKlYRnNoGEEaJxh7fmXYbKIk2HsGY9hObKKYbNVhmH2B4Jh+pd7Yf9Hc2EbJGthiS5jYfJoW2Fg01Nh72tMYfgvRWF7Gz5huSg3YV9RMGG+jSlhtNUiYSAhHGGTZxVhRaEOYezGB2Fb0gBhBn3zYN4P5WDkWNZg7lbHYLELuGDpe6hgeq6YYJasiGAAAnFg8W5QYPG4L2At+Q5gO4/cX2J0m1/HjzVfbjGqXg==",
          "dtype": "f4"
         }
        },
        {
         "line": {
          "cmax": 607840919713266800000,
          "cmin": -595483677853483000,
          "color": {
           "bdata": "AAAAAFP+0FrZ6B9cxHZ4XRgMMl52g7penMckX1g/gl8mgb5foXoDYKiILWAwAl1gzbGIYKgLpWBMPcNgtfTiYLPuAWFV0xJhqQEkYb1UNWG9q0Zh8OdXYQ3taGFPpHlhW/uEYQjpjGHUkZRh4e6bYZ/4omELqalhefmvYYLjtWHEYbth5m3AYSYDxWGrG8lhCbPMYXvFz2HZT9JheVDUYbLG1WGTs9ZhYxnXYcv71mH0X9ZhM0zVYR3I02Fl29Fhqo7PYZnqzGFdEMphz/7GYY+hw2FaAMBhRSK8YV4OuGFDyrNhcFyvYcXKqmGOG6ZhElWhYZB9nGFwm5dhrbSSYTHPjWHW8IhhJR+EYTy+fmGAa3VhME5sYXhtY2GUzlphD3RSYepeSmGFjUJhyvs6YaujM2G2fCxhA30lYauZHmHmxhdh1fgQYfojCmGdPQNhp3j4YBQx6mC6mNtgLqjMYBFcvWBVta1glLidYPJtjWCawHlgKzlYYK1iNmCqWxRg3YTkX2JnoF8GJTlf8WOoXg==",
           "dtype": "f4"
          },
          "colorscale": [
           [
            0,
            "#440154"
           ],
           [
            0.1111111111111111,
            "#482878"
           ],
           [
            0.2222222222222222,
            "#3e4989"
           ],
           [
            0.3333333333333333,
            "#31688e"
           ],
           [
            0.4444444444444444,
            "#26828e"
           ],
           [
            0.5555555555555556,
            "#1f9e89"
           ],
           [
            0.6666666666666666,
            "#35b779"
           ],
           [
            0.7777777777777778,
            "#6ece58"
           ],
           [
            0.8888888888888888,
            "#b5de2b"
           ],
           [
            1,
            "#fde725"
           ]
          ],
          "showscale": false,
          "width": 4
         },
         "mode": "lines",
         "showlegend": false,
         "type": "scatter3d",
         "x": {
          "bdata": "AAAAALooDiy6KI4sFz3VLLooDi3osjEtFz1VLUbHeC26KI4t0e2fLeiysS0AeMMtFz3VLS4C5y1Gx/gtLkYFLrooDi5GCxcu0e0fLl3QKC7osjEudJU6LgB4Qy6LWkwuFz1VLqMfXi4uAmcuuuRvLkbHeC7p1IAuLkaFLnS3iS66KI4uAJqSLkYLly6LfJsu0e2fLhdfpC5d0Kguo0GtLuiysS4uJLYudJW6LroGvy4AeMMuRunHLotazC7Ry9AuFz3VLl2u2S6hH94u55DiLi0C5y5zc+suuOTvLv5V9C5Ex/guijj9LujUAC+LDQMvLkYFL9B+By90twkvFvALL7ooDi9cYRAv/5kSL6LSFC9FCxcv6EMZL4p8Gy8utR0v0O0fL3QmIi8WXyQvuZcmL1zQKC//CCsvokEtL0V6Ly/osjEvi+szLy4kNi/QXDgvdJU6LxbOPC+5Bj8vXD9BL/93Qy+isEUvRelHL+ghSi+LWkwvLpNOL9DLUC9zBFMvFj1VL7l1Vy9crlkv/+ZbLw==",
          "dtype": "f4"
         },
         "y": {
          "bdata": "lgK1P5YCtT+WArU/lgK1P5YCtT+WArU/lgK1P5YCtT+WArU/lgK1P5YCtT+WArU/lgK1P5YCtT+WArU/lgK1P5YCtT+WArU/lgK1P5YCtT+WArU/lgK1P5YCtT+WArU/lgK1P5YCtT+WArU/lgK1P5YCtT+WArU/lgK1P5YCtT+WArU/lgK1P5YCtT+WArU/lgK1P5YCtT+WArU/lgK1P5YCtT+WArU/lgK1P5YCtT+WArU/lgK1P5YCtT+WArU/lgK1P5YCtT+WArU/lgK1P5YCtT+WArU/lgK1P5YCtT+WArU/lgK1P5YCtT+WArU/lgK1P5YCtT+WArU/lgK1P5YCtT+WArU/lgK1P5YCtT+WArU/lgK1P5YCtT+WArU/lgK1P5YCtT+WArU/lgK1P5YCtT+WArU/lgK1P5YCtT+WArU/lgK1P5YCtT+WArU/lgK1P5YCtT+WArU/lgK1P5YCtT+WArU/lgK1P5YCtT+WArU/lgK1P5YCtT+WArU/lgK1P5YCtT+WArU/lgK1Pw==",
          "dtype": "f4"
         },
         "z": {
          "bdata": "AAAAAFP+0FrZ6B9cxHZ4XRgMMl52g7penMckX1g/gl8mgb5foXoDYKiILWAwAl1gzbGIYKgLpWBMPcNgtfTiYLPuAWFV0xJhqQEkYb1UNWG9q0Zh8OdXYQ3taGFPpHlhW/uEYQjpjGHUkZRh4e6bYZ/4omELqalhefmvYYLjtWHEYbth5m3AYSYDxWGrG8lhCbPMYXvFz2HZT9JheVDUYbLG1WGTs9ZhYxnXYcv71mH0X9ZhM0zVYR3I02Fl29Fhqo7PYZnqzGFdEMphz/7GYY+hw2FaAMBhRSK8YV4OuGFDyrNhcFyvYcXKqmGOG6ZhElWhYZB9nGFwm5dhrbSSYTHPjWHW8IhhJR+EYTy+fmGAa3VhME5sYXhtY2GUzlphD3RSYepeSmGFjUJhyvs6YaujM2G2fCxhA30lYauZHmHmxhdh1fgQYfojCmGdPQNhp3j4YBQx6mC6mNtgLqjMYBFcvWBVta1glLidYPJtjWCawHlgKzlYYK1iNmCqWxRg3YTkX2JnoF8GJTlf8WOoXg==",
          "dtype": "f4"
         }
        },
        {
         "line": {
          "cmax": 607840919713266800000,
          "cmin": -595483677853483000,
          "color": {
           "bdata": "AAAAAEKDc9lRfRVcAu2BXVejO15t8cRejxwuX023iV+CkclfqTgLYGnmN2DpZmpgXhiRYAFTr2B2jM9gXWzxYE1LCmEjWRxhy7QuYc40QWHBs1NhfA5mYZckeGGt7YRhLoyNYVLjlWGH6J1hK5SlYS7erGF7wLNhkTS6YZ80wGEPvMVhpsXKYQBOz2G+UNNhEMvWYf+62WESH9xhZvfdYepE32FFCuBhF0vgYSMM4GGGU99hESjeYaCR3GHZl9ph20LYYZGa1WF0v9Jhf6/PYepUzGF9tchhHNbEYaW7wGG6abxh++S3Yb8xs2FBVa5hIVWpYYI3pGEuA59hD7+ZYXNylGENJY9hjd6JYWmmhGFfCH9hDP10YQI3a2EiwGFh0p5YYXnXT2GXakdhdlU/YVGSN2H6FzBh89ooYeLNIWH/4Rph3gcUYU8wDWG6TAZh/J/+YDde8GBcwuFg+b/SYN1Pw2B/cLNgEiWjYJV1kmCzbYFgRzhgYLMjPWD2wRlgUG/sX7hPpV+NyDxf/PimXg==",
           "dtype": "f4"
          },
          "colorscale": [
           [
            0,
            "#440154"
           ],
           [
            0.1111111111111111,
            "#482878"
           ],
           [
            0.2222222222222222,
            "#3e4989"
           ],
           [
            0.3333333333333333,
            "#31688e"
           ],
           [
            0.4444444444444444,
            "#26828e"
           ],
           [
            0.5555555555555556,
            "#1f9e89"
           ],
           [
            0.6666666666666666,
            "#35b779"
           ],
           [
            0.7777777777777778,
            "#6ece58"
           ],
           [
            0.8888888888888888,
            "#b5de2b"
           ],
           [
            1,
            "#fde725"
           ]
          ],
          "showscale": false,
          "width": 4
         },
         "mode": "lines",
         "showlegend": false,
         "type": "scatter3d",
         "x": {
          "bdata": "AAAAALooDiy6KI4sFz3VLLooDi3osjEtFz1VLUbHeC26KI4t0e2fLeiysS0AeMMtFz3VLS4C5y1Gx/gtLkYFLrooDi5GCxcu0e0fLl3QKC7osjEudJU6LgB4Qy6LWkwuFz1VLqMfXi4uAmcuuuRvLkbHeC7p1IAuLkaFLnS3iS66KI4uAJqSLkYLly6LfJsu0e2fLhdfpC5d0Kguo0GtLuiysS4uJLYudJW6LroGvy4AeMMuRunHLotazC7Ry9AuFz3VLl2u2S6hH94u55DiLi0C5y5zc+suuOTvLv5V9C5Ex/guijj9LujUAC+LDQMvLkYFL9B+By90twkvFvALL7ooDi9cYRAv/5kSL6LSFC9FCxcv6EMZL4p8Gy8utR0v0O0fL3QmIi8WXyQvuZcmL1zQKC//CCsvokEtL0V6Ly/osjEvi+szLy4kNi/QXDgvdJU6LxbOPC+5Bj8vXD9BL/93Qy+isEUvRelHL+ghSi+LWkwvLpNOL9DLUC9zBFMvFj1VL7l1Vy9crlkv/+ZbLw==",
          "dtype": "f4"
         },
         "y": {
          "bdata": "Yt7OP2Lezj9i3s4/Yt7OP2Lezj9i3s4/Yt7OP2Lezj9i3s4/Yt7OP2Lezj9i3s4/Yt7OP2Lezj9i3s4/Yt7OP2Lezj9i3s4/Yt7OP2Lezj9i3s4/Yt7OP2Lezj9i3s4/Yt7OP2Lezj9i3s4/Yt7OP2Lezj9i3s4/Yt7OP2Lezj9i3s4/Yt7OP2Lezj9i3s4/Yt7OP2Lezj9i3s4/Yt7OP2Lezj9i3s4/Yt7OP2Lezj9i3s4/Yt7OP2Lezj9i3s4/Yt7OP2Lezj9i3s4/Yt7OP2Lezj9i3s4/Yt7OP2Lezj9i3s4/Yt7OP2Lezj9i3s4/Yt7OP2Lezj9i3s4/Yt7OP2Lezj9i3s4/Yt7OP2Lezj9i3s4/Yt7OP2Lezj9i3s4/Yt7OP2Lezj9i3s4/Yt7OP2Lezj9i3s4/Yt7OP2Lezj9i3s4/Yt7OP2Lezj9i3s4/Yt7OP2Lezj9i3s4/Yt7OP2Lezj9i3s4/Yt7OP2Lezj9i3s4/Yt7OP2Lezj9i3s4/Yt7OP2Lezj9i3s4/Yt7OPw==",
          "dtype": "f4"
         },
         "z": {
          "bdata": "AAAAAEKDc9lRfRVcAu2BXVejO15t8cRejxwuX023iV+CkclfqTgLYGnmN2DpZmpgXhiRYAFTr2B2jM9gXWzxYE1LCmEjWRxhy7QuYc40QWHBs1NhfA5mYZckeGGt7YRhLoyNYVLjlWGH6J1hK5SlYS7erGF7wLNhkTS6YZ80wGEPvMVhpsXKYQBOz2G+UNNhEMvWYf+62WESH9xhZvfdYepE32FFCuBhF0vgYSMM4GGGU99hESjeYaCR3GHZl9ph20LYYZGa1WF0v9Jhf6/PYepUzGF9tchhHNbEYaW7wGG6abxh++S3Yb8xs2FBVa5hIVWpYYI3pGEuA59hD7+ZYXNylGENJY9hjd6JYWmmhGFfCH9hDP10YQI3a2EiwGFh0p5YYXnXT2GXakdhdlU/YVGSN2H6FzBh89ooYeLNIWH/4Rph3gcUYU8wDWG6TAZh/J/+YDde8GBcwuFg+b/SYN1Pw2B/cLNgEiWjYJV1kmCzbYFgRzhgYLMjPWD2wRlgUG/sX7hPpV+NyDxf/PimXg==",
          "dtype": "f4"
         }
        },
        {
         "line": {
          "cmax": 607840919713266800000,
          "cmin": -595483677853483000,
          "color": {
           "bdata": "AAAAAAoa59qp6QpcgCiGXTQgQ14pL81ewYc1Xwasj1/6Z9Jfx2kRYOkyQGDEInVg/9WXYIKVt2AMddlgtRf9YO8NEWE9ESRhn2c3YSvkSmHNXV5h161xYS1YgmGpo4thmKqUYRthnWF1u6VhEbGtYSs5tWFHTbxhu+bCYd3/yGGUlM5hTqDTYZYg2GFCEtxh33PfYetE4mGDheRhcDfmYTld52EG++dh/xXoYQ6052Ff3OZhl5blYeLq42Eg4eFhJIHfYVPS3GHF8tlhWuDWYfeF02GY589hOAjMYZvqx2F8kMNhsPy+YQoyumGKNLVhEwmwYXO1qmGnQKVhO7KfYaASmmEPa5RhF8WOYUIqiWFYpINhqHh8YeL0cWFWy2dh7AVeYearVGG0v0th2T9DYcwmO2GsajNhlP4rYf/SJGFr1h1hRfYWYRcgEGHSQQlhDUsCYYFb9mCxvOdg4ajYYJsVyWAT/7hgZmeoYI5Wl2AP2YVgqf5nYC25Q2BkCx9geD/0X48+ql/pu0Bf6nqmXg==",
           "dtype": "f4"
          },
          "colorscale": [
           [
            0,
            "#440154"
           ],
           [
            0.1111111111111111,
            "#482878"
           ],
           [
            0.2222222222222222,
            "#3e4989"
           ],
           [
            0.3333333333333333,
            "#31688e"
           ],
           [
            0.4444444444444444,
            "#26828e"
           ],
           [
            0.5555555555555556,
            "#1f9e89"
           ],
           [
            0.6666666666666666,
            "#35b779"
           ],
           [
            0.7777777777777778,
            "#6ece58"
           ],
           [
            0.8888888888888888,
            "#b5de2b"
           ],
           [
            1,
            "#fde725"
           ]
          ],
          "showscale": false,
          "width": 4
         },
         "mode": "lines",
         "showlegend": false,
         "type": "scatter3d",
         "x": {
          "bdata": "AAAAALooDiy6KI4sFz3VLLooDi3osjEtFz1VLUbHeC26KI4t0e2fLeiysS0AeMMtFz3VLS4C5y1Gx/gtLkYFLrooDi5GCxcu0e0fLl3QKC7osjEudJU6LgB4Qy6LWkwuFz1VLqMfXi4uAmcuuuRvLkbHeC7p1IAuLkaFLnS3iS66KI4uAJqSLkYLly6LfJsu0e2fLhdfpC5d0Kguo0GtLuiysS4uJLYudJW6LroGvy4AeMMuRunHLotazC7Ry9AuFz3VLl2u2S6hH94u55DiLi0C5y5zc+suuOTvLv5V9C5Ex/guijj9LujUAC+LDQMvLkYFL9B+By90twkvFvALL7ooDi9cYRAv/5kSL6LSFC9FCxcv6EMZL4p8Gy8utR0v0O0fL3QmIi8WXyQvuZcmL1zQKC//CCsvokEtL0V6Ly/osjEvi+szLy4kNi/QXDgvdJU6LxbOPC+5Bj8vXD9BL/93Qy+isEUvRelHL+ghSi+LWkwvLpNOL9DLUC9zBFMvFj1VL7l1Vy9crlkv/+ZbLw==",
          "dtype": "f4"
         },
         "y": {
          "bdata": "LrroPy666D8uuug/LrroPy666D8uuug/LrroPy666D8uuug/LrroPy666D8uuug/LrroPy666D8uuug/LrroPy666D8uuug/LrroPy666D8uuug/LrroPy666D8uuug/LrroPy666D8uuug/LrroPy666D8uuug/LrroPy666D8uuug/LrroPy666D8uuug/LrroPy666D8uuug/LrroPy666D8uuug/LrroPy666D8uuug/LrroPy666D8uuug/LrroPy666D8uuug/LrroPy666D8uuug/LrroPy666D8uuug/LrroPy666D8uuug/LrroPy666D8uuug/LrroPy666D8uuug/LrroPy666D8uuug/LrroPy666D8uuug/LrroPy666D8uuug/LrroPy666D8uuug/LrroPy666D8uuug/LrroPy666D8uuug/LrroPy666D8uuug/LrroPy666D8uuug/LrroPy666D8uuug/LrroPy666D8uuug/LrroPy666D8uuug/LrroPw==",
          "dtype": "f4"
         },
         "z": {
          "bdata": "AAAAAAoa59qp6QpcgCiGXTQgQ14pL81ewYc1Xwasj1/6Z9Jfx2kRYOkyQGDEInVg/9WXYIKVt2AMddlgtRf9YO8NEWE9ESRhn2c3YSvkSmHNXV5h161xYS1YgmGpo4thmKqUYRthnWF1u6VhEbGtYSs5tWFHTbxhu+bCYd3/yGGUlM5hTqDTYZYg2GFCEtxh33PfYetE4mGDheRhcDfmYTld52EG++dh/xXoYQ6052Ff3OZhl5blYeLq42Eg4eFhJIHfYVPS3GHF8tlhWuDWYfeF02GY589hOAjMYZvqx2F8kMNhsPy+YQoyumGKNLVhEwmwYXO1qmGnQKVhO7KfYaASmmEPa5RhF8WOYUIqiWFYpINhqHh8YeL0cWFWy2dh7AVeYearVGG0v0th2T9DYcwmO2GsajNhlP4rYf/SJGFr1h1hRfYWYRcgEGHSQQlhDUsCYYFb9mCxvOdg4ajYYJsVyWAT/7hgZmeoYI5Wl2AP2YVgqf5nYC25Q2BkCx9geD/0X48+ql/pu0Bf6nqmXg==",
          "dtype": "f4"
         }
        },
        {
         "line": {
          "cmax": 607840919713266800000,
          "cmin": -595483677853483000,
          "color": {
           "bdata": "AAAAAIznQduOPQJctX2JXSYOSV6VttNeSmo7X+ZllF/Catlf51IWYIPHRmCjpX1gry6dYIwjvmDeU+Fgwi8DYX9wFmFhOiph8Vw+YbGoUmHH8WZhxA57YXRsh2HEF5FhMXmaYaWDo2FHKqxhlGO0YfslvGFyasNhACrKYc5e0GH2BNZhSRjbYe2W32GHfuNhs87mYSKI6WE3rOthLD7tYe5B7mEHve5h9bXuYdEz7mHNPu1hUN/rYQ0e6mEiA+hhUZblYaje4mEz999hFd7cYf5/2WFq39Vhu/3RYevbzWETeslhc9nEYWr7v2H/4rphJJS1YV0UsGGoaqphBJ+kYbu6nmFDyJhhsNKSYUnljGG+C4dh81CBYQF+d2FZvWxh4GxiYWaWWGEjPk9hwWNGYQMCPmG8DjZh0XsuYQ84J2G4LyBhnE0ZYXJ8EmFHpwthwroEYWJM+2Aut+xg/aDdYCb8zWCIwr1g4vSsYKeam2CswIlgx/BuYFetSWDF5CNgsoz7XzwAr1+r8ERfeDanXg==",
           "dtype": "f4"
          },
          "colorscale": [
           [
            0,
            "#440154"
           ],
           [
            0.1111111111111111,
            "#482878"
           ],
           [
            0.2222222222222222,
            "#3e4989"
           ],
           [
            0.3333333333333333,
            "#31688e"
           ],
           [
            0.4444444444444444,
            "#26828e"
           ],
           [
            0.5555555555555556,
            "#1f9e89"
           ],
           [
            0.6666666666666666,
            "#35b779"
           ],
           [
            0.7777777777777778,
            "#6ece58"
           ],
           [
            0.8888888888888888,
            "#b5de2b"
           ],
           [
            1,
            "#fde725"
           ]
          ],
          "showscale": false,
          "width": 4
         },
         "mode": "lines",
         "showlegend": false,
         "type": "scatter3d",
         "x": {
          "bdata": "AAAAALooDiy6KI4sFz3VLLooDi3osjEtFz1VLUbHeC26KI4t0e2fLeiysS0AeMMtFz3VLS4C5y1Gx/gtLkYFLrooDi5GCxcu0e0fLl3QKC7osjEudJU6LgB4Qy6LWkwuFz1VLqMfXi4uAmcuuuRvLkbHeC7p1IAuLkaFLnS3iS66KI4uAJqSLkYLly6LfJsu0e2fLhdfpC5d0Kguo0GtLuiysS4uJLYudJW6LroGvy4AeMMuRunHLotazC7Ry9AuFz3VLl2u2S6hH94u55DiLi0C5y5zc+suuOTvLv5V9C5Ex/guijj9LujUAC+LDQMvLkYFL9B+By90twkvFvALL7ooDi9cYRAv/5kSL6LSFC9FCxcv6EMZL4p8Gy8utR0v0O0fL3QmIi8WXyQvuZcmL1zQKC//CCsvokEtL0V6Ly/osjEvi+szLy4kNi/QXDgvdJU6LxbOPC+5Bj8vXD9BL/93Qy+isEUvRelHL+ghSi+LWkwvLpNOL9DLUC9zBFMvFj1VL7l1Vy9crlkv/+ZbLw==",
          "dtype": "f4"
         },
         "y": {
          "bdata": "/UoBQP1KAUD9SgFA/UoBQP1KAUD9SgFA/UoBQP1KAUD9SgFA/UoBQP1KAUD9SgFA/UoBQP1KAUD9SgFA/UoBQP1KAUD9SgFA/UoBQP1KAUD9SgFA/UoBQP1KAUD9SgFA/UoBQP1KAUD9SgFA/UoBQP1KAUD9SgFA/UoBQP1KAUD9SgFA/UoBQP1KAUD9SgFA/UoBQP1KAUD9SgFA/UoBQP1KAUD9SgFA/UoBQP1KAUD9SgFA/UoBQP1KAUD9SgFA/UoBQP1KAUD9SgFA/UoBQP1KAUD9SgFA/UoBQP1KAUD9SgFA/UoBQP1KAUD9SgFA/UoBQP1KAUD9SgFA/UoBQP1KAUD9SgFA/UoBQP1KAUD9SgFA/UoBQP1KAUD9SgFA/UoBQP1KAUD9SgFA/UoBQP1KAUD9SgFA/UoBQP1KAUD9SgFA/UoBQP1KAUD9SgFA/UoBQP1KAUD9SgFA/UoBQP1KAUD9SgFA/UoBQP1KAUD9SgFA/UoBQP1KAUD9SgFA/UoBQP1KAUD9SgFA/UoBQA==",
          "dtype": "f4"
         },
         "z": {
          "bdata": "AAAAAIznQduOPQJctX2JXSYOSV6VttNeSmo7X+ZllF/Catlf51IWYIPHRmCjpX1gry6dYIwjvmDeU+Fgwi8DYX9wFmFhOiph8Vw+YbGoUmHH8WZhxA57YXRsh2HEF5FhMXmaYaWDo2FHKqxhlGO0YfslvGFyasNhACrKYc5e0GH2BNZhSRjbYe2W32GHfuNhs87mYSKI6WE3rOthLD7tYe5B7mEHve5h9bXuYdEz7mHNPu1hUN/rYQ0e6mEiA+hhUZblYaje4mEz999hFd7cYf5/2WFq39Vhu/3RYevbzWETeslhc9nEYWr7v2H/4rphJJS1YV0UsGGoaqphBJ+kYbu6nmFDyJhhsNKSYUnljGG+C4dh81CBYQF+d2FZvWxh4GxiYWaWWGEjPk9hwWNGYQMCPmG8DjZh0XsuYQ84J2G4LyBhnE0ZYXJ8EmFHpwthwroEYWJM+2Aut+xg/aDdYCb8zWCIwr1g4vSsYKeam2CswIlgx/BuYFetSWDF5CNgsoz7XzwAr1+r8ERfeDanXg==",
          "dtype": "f4"
         }
        },
        {
         "line": {
          "cmax": 607840919713266800000,
          "cmin": -595483677853483000,
          "color": {
           "bdata": "AAAAAOI9etu8eflbaFmMXdrdTV6s7dhefRZAX9EimF/A8d5fmC8aYMjxS2CdKIJgHl6hYDxEw2CIe+dg3dAGYUinGmG9DS9hG9JDYQbDWGGjsm1hwjqBYWBxi2HGa5VhyhifYU9qqGGNUrFhKce5Yci9wWHkLslh9BLQYQFk1mEPHtxhFj3hYY+/5WGxo+lh2ensYYOT72Eso/FhEx3zYVkG9GGiZfRhiUL0YTCl82GwlvJhICDxYb5K72H5Hu1hjqTqYWfi52Gd8ORh0M3hYb5o3mHAwtph+tvWYR200mHrSc5hYZ3JYbauxGHrf79hTxS6YetwtGGmnK5hv5+oYRKEomH5VJxhpB6WYa/tj2FEz4lh0c+DYdb1e2GjtXBhc+5lYW+sW2Fv9VFhTcpIYWYmQGFu/zdh1UYwYTjqKGFd1CFhIe4aYSUgFGEnUw1hfHEGYWXQ/mBcTvBgNUThYBGh0WA8XMFgm3SwYGrwnmDr24xgWJF0YEqYTmCe/CdgkfAAYNBLs19gLElfcC+pXg==",
           "dtype": "f4"
          },
          "colorscale": [
           [
            0,
            "#440154"
           ],
           [
            0.1111111111111111,
            "#482878"
           ],
           [
            0.2222222222222222,
            "#3e4989"
           ],
           [
            0.3333333333333333,
            "#31688e"
           ],
           [
            0.4444444444444444,
            "#26828e"
           ],
           [
            0.5555555555555556,
            "#1f9e89"
           ],
           [
            0.6666666666666666,
            "#35b779"
           ],
           [
            0.7777777777777778,
            "#6ece58"
           ],
           [
            0.8888888888888888,
            "#b5de2b"
           ],
           [
            1,
            "#fde725"
           ]
          ],
          "showscale": false,
          "width": 4
         },
         "mode": "lines",
         "showlegend": false,
         "type": "scatter3d",
         "x": {
          "bdata": "AAAAALooDiy6KI4sFz3VLLooDi3osjEtFz1VLUbHeC26KI4t0e2fLeiysS0AeMMtFz3VLS4C5y1Gx/gtLkYFLrooDi5GCxcu0e0fLl3QKC7osjEudJU6LgB4Qy6LWkwuFz1VLqMfXi4uAmcuuuRvLkbHeC7p1IAuLkaFLnS3iS66KI4uAJqSLkYLly6LfJsu0e2fLhdfpC5d0Kguo0GtLuiysS4uJLYudJW6LroGvy4AeMMuRunHLotazC7Ry9AuFz3VLl2u2S6hH94u55DiLi0C5y5zc+suuOTvLv5V9C5Ex/guijj9LujUAC+LDQMvLkYFL9B+By90twkvFvALL7ooDi9cYRAv/5kSL6LSFC9FCxcv6EMZL4p8Gy8utR0v0O0fL3QmIi8WXyQvuZcmL1zQKC//CCsvokEtL0V6Ly/osjEvi+szLy4kNi/QXDgvdJU6LxbOPC+5Bj8vXD9BL/93Qy+isEUvRelHL+ghSi+LWkwvLpNOL9DLUC9zBFMvFj1VL7l1Vy9crlkv/+ZbLw==",
          "dtype": "f4"
         },
         "y": {
          "bdata": "4zgOQOM4DkDjOA5A4zgOQOM4DkDjOA5A4zgOQOM4DkDjOA5A4zgOQOM4DkDjOA5A4zgOQOM4DkDjOA5A4zgOQOM4DkDjOA5A4zgOQOM4DkDjOA5A4zgOQOM4DkDjOA5A4zgOQOM4DkDjOA5A4zgOQOM4DkDjOA5A4zgOQOM4DkDjOA5A4zgOQOM4DkDjOA5A4zgOQOM4DkDjOA5A4zgOQOM4DkDjOA5A4zgOQOM4DkDjOA5A4zgOQOM4DkDjOA5A4zgOQOM4DkDjOA5A4zgOQOM4DkDjOA5A4zgOQOM4DkDjOA5A4zgOQOM4DkDjOA5A4zgOQOM4DkDjOA5A4zgOQOM4DkDjOA5A4zgOQOM4DkDjOA5A4zgOQOM4DkDjOA5A4zgOQOM4DkDjOA5A4zgOQOM4DkDjOA5A4zgOQOM4DkDjOA5A4zgOQOM4DkDjOA5A4zgOQOM4DkDjOA5A4zgOQOM4DkDjOA5A4zgOQOM4DkDjOA5A4zgOQOM4DkDjOA5A4zgOQOM4DkDjOA5A4zgOQA==",
          "dtype": "f4"
         },
         "z": {
          "bdata": "AAAAAOI9etu8eflbaFmMXdrdTV6s7dhefRZAX9EimF/A8d5fmC8aYMjxS2CdKIJgHl6hYDxEw2CIe+dg3dAGYUinGmG9DS9hG9JDYQbDWGGjsm1hwjqBYWBxi2HGa5VhyhifYU9qqGGNUrFhKce5Yci9wWHkLslh9BLQYQFk1mEPHtxhFj3hYY+/5WGxo+lh2ensYYOT72Eso/FhEx3zYVkG9GGiZfRhiUL0YTCl82GwlvJhICDxYb5K72H5Hu1hjqTqYWfi52Gd8ORh0M3hYb5o3mHAwtph+tvWYR200mHrSc5hYZ3JYbauxGHrf79hTxS6YetwtGGmnK5hv5+oYRKEomH5VJxhpB6WYa/tj2FEz4lh0c+DYdb1e2GjtXBhc+5lYW+sW2Fv9VFhTcpIYWYmQGFu/zdh1UYwYTjqKGFd1CFhIe4aYSUgFGEnUw1hfHEGYWXQ/mBcTvBgNUThYBGh0WA8XMFgm3SwYGrwnmDr24xgWJF0YEqYTmCe/CdgkfAAYNBLs19gLElfcC+pXg==",
          "dtype": "f4"
         }
        },
        {
         "line": {
          "cmax": 607840919713266800000,
          "cmin": -595483677853483000,
          "color": {
           "bdata": "AAAAAHAzj9sfQfZbdRGPXXDvUV4GLt1eftVDX/wZm1/PS+NfgDUdYO73T2A9v4RgAJukYCQ5x2DhOOxgOpsJYevjHWEhwjJhpQJIYcpyXWFf43JhvxOEYVqKjmFYw5hhxayiYb43rGG3VbVhqPu9YaQexmGEts1hcrvUYRwn22Fi9eBhQSLmYV+s6mE8ku5hrdTxYdB19GG9ePZhieL3YSa5+GENBPlhu8v4YRIZ+GHe9fZh32v1YbOE82EnSfFhDMHuYVfz62G99ehhQ8flYZVY4mFmqt5hB7zaYUGM1mH4GNJhPWHNYWJkyGG1I8Nh06G9YVvjt2EF77FhE82rYaeHpWGaKp9h08KYYctdkmGhCYxh4tOFYVuSf2HB6XNhar9oYUEhXmG2FlRhzqFKYbq+QWGdYzlh4oExYccGKmFb3CJhZuobYT4YFWEkTQ5hwHEHYXlxAGEIdfJgzn3jYHDp02COrMNgr8OyYEMzoWAdBo9gwpl4YCg5UmBdGitgmXADYEjftl/1JE1fmCysXg==",
           "dtype": "f4"
          },
          "colorscale": [
           [
            0,
            "#440154"
           ],
           [
            0.1111111111111111,
            "#482878"
           ],
           [
            0.2222222222222222,
            "#3e4989"
           ],
           [
            0.3333333333333333,
            "#31688e"
           ],
           [
            0.4444444444444444,
            "#26828e"
           ],
           [
            0.5555555555555556,
            "#1f9e89"
           ],
           [
            0.6666666666666666,
            "#35b779"
           ],
           [
            0.7777777777777778,
            "#6ece58"
           ],
           [
            0.8888888888888888,
            "#b5de2b"
           ],
           [
            1,
            "#fde725"
           ]
          ],
          "showscale": false,
          "width": 4
         },
         "mode": "lines",
         "showlegend": false,
         "type": "scatter3d",
         "x": {
          "bdata": "AAAAALooDiy6KI4sFz3VLLooDi3osjEtFz1VLUbHeC26KI4t0e2fLeiysS0AeMMtFz3VLS4C5y1Gx/gtLkYFLrooDi5GCxcu0e0fLl3QKC7osjEudJU6LgB4Qy6LWkwuFz1VLqMfXi4uAmcuuuRvLkbHeC7p1IAuLkaFLnS3iS66KI4uAJqSLkYLly6LfJsu0e2fLhdfpC5d0Kguo0GtLuiysS4uJLYudJW6LroGvy4AeMMuRunHLotazC7Ry9AuFz3VLl2u2S6hH94u55DiLi0C5y5zc+suuOTvLv5V9C5Ex/guijj9LujUAC+LDQMvLkYFL9B+By90twkvFvALL7ooDi9cYRAv/5kSL6LSFC9FCxcv6EMZL4p8Gy8utR0v0O0fL3QmIi8WXyQvuZcmL1zQKC//CCsvokEtL0V6Ly/osjEvi+szLy4kNi/QXDgvdJU6LxbOPC+5Bj8vXD9BL/93Qy+isEUvRelHL+ghSi+LWkwvLpNOL9DLUC9zBFMvFj1VL7l1Vy9crlkv/+ZbLw==",
          "dtype": "f4"
         },
         "y": {
          "bdata": "yiYbQMomG0DKJhtAyiYbQMomG0DKJhtAyiYbQMomG0DKJhtAyiYbQMomG0DKJhtAyiYbQMomG0DKJhtAyiYbQMomG0DKJhtAyiYbQMomG0DKJhtAyiYbQMomG0DKJhtAyiYbQMomG0DKJhtAyiYbQMomG0DKJhtAyiYbQMomG0DKJhtAyiYbQMomG0DKJhtAyiYbQMomG0DKJhtAyiYbQMomG0DKJhtAyiYbQMomG0DKJhtAyiYbQMomG0DKJhtAyiYbQMomG0DKJhtAyiYbQMomG0DKJhtAyiYbQMomG0DKJhtAyiYbQMomG0DKJhtAyiYbQMomG0DKJhtAyiYbQMomG0DKJhtAyiYbQMomG0DKJhtAyiYbQMomG0DKJhtAyiYbQMomG0DKJhtAyiYbQMomG0DKJhtAyiYbQMomG0DKJhtAyiYbQMomG0DKJhtAyiYbQMomG0DKJhtAyiYbQMomG0DKJhtAyiYbQMomG0DKJhtAyiYbQMomG0DKJhtAyiYbQMomG0DKJhtAyiYbQA==",
          "dtype": "f4"
         },
         "z": {
          "bdata": "AAAAAHAzj9sfQfZbdRGPXXDvUV4GLt1eftVDX/wZm1/PS+NfgDUdYO73T2A9v4RgAJukYCQ5x2DhOOxgOpsJYevjHWEhwjJhpQJIYcpyXWFf43JhvxOEYVqKjmFYw5hhxayiYb43rGG3VbVhqPu9YaQexmGEts1hcrvUYRwn22Fi9eBhQSLmYV+s6mE8ku5hrdTxYdB19GG9ePZhieL3YSa5+GENBPlhu8v4YRIZ+GHe9fZh32v1YbOE82EnSfFhDMHuYVfz62G99ehhQ8flYZVY4mFmqt5hB7zaYUGM1mH4GNJhPWHNYWJkyGG1I8Nh06G9YVvjt2EF77FhE82rYaeHpWGaKp9h08KYYctdkmGhCYxh4tOFYVuSf2HB6XNhar9oYUEhXmG2FlRhzqFKYbq+QWGdYzlh4oExYccGKmFb3CJhZuobYT4YFWEkTQ5hwHEHYXlxAGEIdfJgzn3jYHDp02COrMNgr8OyYEMzoWAdBo9gwpl4YCg5UmBdGitgmXADYEjftl/1JE1fmCysXg==",
          "dtype": "f4"
         }
        },
        {
         "line": {
          "cmax": 607840919713266800000,
          "cmin": -595483677853483000,
          "color": {
           "bdata": "AAAAAHGAmNsfzvtbGvCRXZaYVV7Qx+BezuhGXw59nV/Iv+Zf95QfYHsZU2ALv4ZgShenYJQ+ymAq0+9gJ7gLYVJVIGEKjDVhTShLYaH2YGHjxnZhmDWGYQ7ckGEhRJthTlulYTUSr2G5WbhhWCbBYapsyWEkJNFhl0TYYXPH3mF4qORhk+PpYWN37mGgYvJhWKb1YfJE+GH2Qfph+KL7YV1u/GE8rPxhjmX8YbSj+2EHcfphrNf4YZ/h9mHvl/RhoQLyYawo72FXHuxhAePoYbxo5WH3r+FhpLfdYR5+2WHjANVhcj7QYZs1y2ET58VhDFXAYbODumF6ebRhej6uYc7cp2F1YKFhldaaYQlNlGFz0o1h+XSHYdtBgWFQinZhlRBrYdslYGHO0lVhsxpMYbL6QmG9aTph1lkyYY24KmEAcCNhxGccYceGFWGWsw5h/NUHYV3YAGFsT/NgqGnkYAjp1GCDv8RgN+ezYDNiomA0OZBgOfZ6YAl3VGDHIi1guysFYMGLuV/Ck1Bf6c+vXg==",
           "dtype": "f4"
          },
          "colorscale": [
           [
            0,
            "#440154"
           ],
           [
            0.1111111111111111,
            "#482878"
           ],
           [
            0.2222222222222222,
            "#3e4989"
           ],
           [
            0.3333333333333333,
            "#31688e"
           ],
           [
            0.4444444444444444,
            "#26828e"
           ],
           [
            0.5555555555555556,
            "#1f9e89"
           ],
           [
            0.6666666666666666,
            "#35b779"
           ],
           [
            0.7777777777777778,
            "#6ece58"
           ],
           [
            0.8888888888888888,
            "#b5de2b"
           ],
           [
            1,
            "#fde725"
           ]
          ],
          "showscale": false,
          "width": 4
         },
         "mode": "lines",
         "showlegend": false,
         "type": "scatter3d",
         "x": {
          "bdata": "AAAAALooDiy6KI4sFz3VLLooDi3osjEtFz1VLUbHeC26KI4t0e2fLeiysS0AeMMtFz3VLS4C5y1Gx/gtLkYFLrooDi5GCxcu0e0fLl3QKC7osjEudJU6LgB4Qy6LWkwuFz1VLqMfXi4uAmcuuuRvLkbHeC7p1IAuLkaFLnS3iS66KI4uAJqSLkYLly6LfJsu0e2fLhdfpC5d0Kguo0GtLuiysS4uJLYudJW6LroGvy4AeMMuRunHLotazC7Ry9AuFz3VLl2u2S6hH94u55DiLi0C5y5zc+suuOTvLv5V9C5Ex/guijj9LujUAC+LDQMvLkYFL9B+By90twkvFvALL7ooDi9cYRAv/5kSL6LSFC9FCxcv6EMZL4p8Gy8utR0v0O0fL3QmIi8WXyQvuZcmL1zQKC//CCsvokEtL0V6Ly/osjEvi+szLy4kNi/QXDgvdJU6LxbOPC+5Bj8vXD9BL/93Qy+isEUvRelHL+ghSi+LWkwvLpNOL9DLUC9zBFMvFj1VL7l1Vy9crlkv/+ZbLw==",
          "dtype": "f4"
         },
         "y": {
          "bdata": "sBQoQLAUKECwFChAsBQoQLAUKECwFChAsBQoQLAUKECwFChAsBQoQLAUKECwFChAsBQoQLAUKECwFChAsBQoQLAUKECwFChAsBQoQLAUKECwFChAsBQoQLAUKECwFChAsBQoQLAUKECwFChAsBQoQLAUKECwFChAsBQoQLAUKECwFChAsBQoQLAUKECwFChAsBQoQLAUKECwFChAsBQoQLAUKECwFChAsBQoQLAUKECwFChAsBQoQLAUKECwFChAsBQoQLAUKECwFChAsBQoQLAUKECwFChAsBQoQLAUKECwFChAsBQoQLAUKECwFChAsBQoQLAUKECwFChAsBQoQLAUKECwFChAsBQoQLAUKECwFChAsBQoQLAUKECwFChAsBQoQLAUKECwFChAsBQoQLAUKECwFChAsBQoQLAUKECwFChAsBQoQLAUKECwFChAsBQoQLAUKECwFChAsBQoQLAUKECwFChAsBQoQLAUKECwFChAsBQoQLAUKECwFChAsBQoQLAUKECwFChAsBQoQA==",
          "dtype": "f4"
         },
         "z": {
          "bdata": "AAAAAHGAmNsfzvtbGvCRXZaYVV7Qx+BezuhGXw59nV/Iv+Zf95QfYHsZU2ALv4ZgShenYJQ+ymAq0+9gJ7gLYVJVIGEKjDVhTShLYaH2YGHjxnZhmDWGYQ7ckGEhRJthTlulYTUSr2G5WbhhWCbBYapsyWEkJNFhl0TYYXPH3mF4qORhk+PpYWN37mGgYvJhWKb1YfJE+GH2Qfph+KL7YV1u/GE8rPxhjmX8YbSj+2EHcfphrNf4YZ/h9mHvl/RhoQLyYawo72FXHuxhAePoYbxo5WH3r+FhpLfdYR5+2WHjANVhcj7QYZs1y2ET58VhDFXAYbODumF6ebRhej6uYc7cp2F1YKFhldaaYQlNlGFz0o1h+XSHYdtBgWFQinZhlRBrYdslYGHO0lVhsxpMYbL6QmG9aTph1lkyYY24KmEAcCNhxGccYceGFWGWsw5h/NUHYV3YAGFsT/NgqGnkYAjp1GCDv8RgN+ezYDNiomA0OZBgOfZ6YAl3VGDHIi1guysFYMGLuV/Ck1Bf6c+vXg==",
          "dtype": "f4"
         }
        },
        {
         "line": {
          "cmax": 607840919713266800000,
          "cmin": -595483677853483000,
          "color": {
           "bdata": "AAAAAD5TmtvgewVcjTeVXRglWV48AeRerolJXzd3n1+Mi+lfQHghYCCOVWClS4hgTP+oYGSKzGCGivJgE00NYYAmImEFnDdhJnlNYdWJY2FdnXlhocKHYbiKkmHzE51he0unYaAhsWHthrphlm/DYe3Py2Ewn9Nh89TaYYRq4WF0W+dhrqPsYc9B8WGONPVhEX34Yesd+2G6Gv1hTnn+YUZA/2Hnd/9heCn/YY5e/mG4If1haH37Ycd7+WEXJvdhi4T0YU6e8WH7hu5hOT7rYfG252GZ8eNhPu3fYUWo22EYINdhHFPSYd0/zWHc5sdh4EnCYdRsvGHRVbZhmAywYQabqWHnDKNhPG+cYdvPlWFoPY9hKMaIYY53gmH1u3hhbwZtYbneYWGOTldhQFpNYRoARGEbODthYPUyYV4mK2H9tSNhaYwcYe6QFWFCqg5hCsAHYUe8AGG9FvNglzrkYLXL1GDCucRgavyzYC2TomBDhJBgWbh7YLNYVWDpEy5ghxkGYGM4u1+uQFNfga+zXg==",
           "dtype": "f4"
          },
          "colorscale": [
           [
            0,
            "#440154"
           ],
           [
            0.1111111111111111,
            "#482878"
           ],
           [
            0.2222222222222222,
            "#3e4989"
           ],
           [
            0.3333333333333333,
            "#31688e"
           ],
           [
            0.4444444444444444,
            "#26828e"
           ],
           [
            0.5555555555555556,
            "#1f9e89"
           ],
           [
            0.6666666666666666,
            "#35b779"
           ],
           [
            0.7777777777777778,
            "#6ece58"
           ],
           [
            0.8888888888888888,
            "#b5de2b"
           ],
           [
            1,
            "#fde725"
           ]
          ],
          "showscale": false,
          "width": 4
         },
         "mode": "lines",
         "showlegend": false,
         "type": "scatter3d",
         "x": {
          "bdata": "AAAAALooDiy6KI4sFz3VLLooDi3osjEtFz1VLUbHeC26KI4t0e2fLeiysS0AeMMtFz3VLS4C5y1Gx/gtLkYFLrooDi5GCxcu0e0fLl3QKC7osjEudJU6LgB4Qy6LWkwuFz1VLqMfXi4uAmcuuuRvLkbHeC7p1IAuLkaFLnS3iS66KI4uAJqSLkYLly6LfJsu0e2fLhdfpC5d0Kguo0GtLuiysS4uJLYudJW6LroGvy4AeMMuRunHLotazC7Ry9AuFz3VLl2u2S6hH94u55DiLi0C5y5zc+suuOTvLv5V9C5Ex/guijj9LujUAC+LDQMvLkYFL9B+By90twkvFvALL7ooDi9cYRAv/5kSL6LSFC9FCxcv6EMZL4p8Gy8utR0v0O0fL3QmIi8WXyQvuZcmL1zQKC//CCsvokEtL0V6Ly/osjEvi+szLy4kNi/QXDgvdJU6LxbOPC+5Bj8vXD9BL/93Qy+isEUvRelHL+ghSi+LWkwvLpNOL9DLUC9zBFMvFj1VL7l1Vy9crlkv/+ZbLw==",
          "dtype": "f4"
         },
         "y": {
          "bdata": "lgI1QJYCNUCWAjVAlgI1QJYCNUCWAjVAlgI1QJYCNUCWAjVAlgI1QJYCNUCWAjVAlgI1QJYCNUCWAjVAlgI1QJYCNUCWAjVAlgI1QJYCNUCWAjVAlgI1QJYCNUCWAjVAlgI1QJYCNUCWAjVAlgI1QJYCNUCWAjVAlgI1QJYCNUCWAjVAlgI1QJYCNUCWAjVAlgI1QJYCNUCWAjVAlgI1QJYCNUCWAjVAlgI1QJYCNUCWAjVAlgI1QJYCNUCWAjVAlgI1QJYCNUCWAjVAlgI1QJYCNUCWAjVAlgI1QJYCNUCWAjVAlgI1QJYCNUCWAjVAlgI1QJYCNUCWAjVAlgI1QJYCNUCWAjVAlgI1QJYCNUCWAjVAlgI1QJYCNUCWAjVAlgI1QJYCNUCWAjVAlgI1QJYCNUCWAjVAlgI1QJYCNUCWAjVAlgI1QJYCNUCWAjVAlgI1QJYCNUCWAjVAlgI1QJYCNUCWAjVAlgI1QJYCNUCWAjVAlgI1QJYCNUCWAjVAlgI1QJYCNUCWAjVAlgI1QA==",
          "dtype": "f4"
         },
         "z": {
          "bdata": "AAAAAD5TmtvgewVcjTeVXRglWV48AeRerolJXzd3n1+Mi+lfQHghYCCOVWClS4hgTP+oYGSKzGCGivJgE00NYYAmImEFnDdhJnlNYdWJY2FdnXlhocKHYbiKkmHzE51he0unYaAhsWHthrphlm/DYe3Py2Ewn9Nh89TaYYRq4WF0W+dhrqPsYc9B8WGONPVhEX34Yesd+2G6Gv1hTnn+YUZA/2Hnd/9heCn/YY5e/mG4If1haH37Ycd7+WEXJvdhi4T0YU6e8WH7hu5hOT7rYfG252GZ8eNhPu3fYUWo22EYINdhHFPSYd0/zWHc5sdh4EnCYdRsvGHRVbZhmAywYQabqWHnDKNhPG+cYdvPlWFoPY9hKMaIYY53gmH1u3hhbwZtYbneYWGOTldhQFpNYRoARGEbODthYPUyYV4mK2H9tSNhaYwcYe6QFWFCqg5hCsAHYUe8AGG9FvNglzrkYLXL1GDCucRgavyzYC2TomBDhJBgWbh7YLNYVWDpEy5ghxkGYGM4u1+uQFNfga+zXg==",
          "dtype": "f4"
         }
        },
        {
         "line": {
          "cmax": 607840919713266800000,
          "cmin": -595483677853483000,
          "color": {
           "bdata": "AAAAAJzNldsjNhJcPR+ZXfjTXF6DFOdegudLX3AsoV+d4utftAIjYK2EV2Ajg4lgsniqYLpKzmBGlvRgj3oOYS99I2EXHTlhhSVPYQJiZWGDoXthndqIYVu4k2HKVp5h+qKoYQuNsmFpBbxhOwDFYZ9xzWHeUNVhZJXcYXo442G1Nelh8IjuYcIw82HkK/dhdXv6Yfsh/WETI/9hP0IAYmumAGIrwgBiFZoAYv0yAGJHJP9hjHn9YfBv+2HmEPlhtGT2Yb9y82HgTvBh1/jsYcBj6WGAkOVhgX7hYZss3WGJmNhh4MDTYVGkzmFKQ8lhep/DYX68vWEfoLdhtVGxYavaqmFZRqRhTKGdYeP4lmFrW5Bh29aJYX94g2E5mXphK7puYXNkY2FtolhhWXlOYaLoRGGg6TthwHAzYeNtK2FQzSNhb3gcYZpXFWFgUg5h6VAHYYA9AGH4CPJg0SrjYO7G02Ady8NgzyyzYPnooWAkA5BgJQp7YBj7VGC0/i1ggUAGYMTgu19YB1Vf72i3Xg==",
           "dtype": "f4"
          },
          "colorscale": [
           [
            0,
            "#440154"
           ],
           [
            0.1111111111111111,
            "#482878"
           ],
           [
            0.2222222222222222,
            "#3e4989"
           ],
           [
            0.3333333333333333,
            "#31688e"
           ],
           [
            0.4444444444444444,
            "#26828e"
           ],
           [
            0.5555555555555556,
            "#1f9e89"
           ],
           [
            0.6666666666666666,
            "#35b779"
           ],
           [
            0.7777777777777778,
            "#6ece58"
           ],
           [
            0.8888888888888888,
            "#b5de2b"
           ],
           [
            1,
            "#fde725"
           ]
          ],
          "showscale": false,
          "width": 4
         },
         "mode": "lines",
         "showlegend": false,
         "type": "scatter3d",
         "x": {
          "bdata": "AAAAALooDiy6KI4sFz3VLLooDi3osjEtFz1VLUbHeC26KI4t0e2fLeiysS0AeMMtFz3VLS4C5y1Gx/gtLkYFLrooDi5GCxcu0e0fLl3QKC7osjEudJU6LgB4Qy6LWkwuFz1VLqMfXi4uAmcuuuRvLkbHeC7p1IAuLkaFLnS3iS66KI4uAJqSLkYLly6LfJsu0e2fLhdfpC5d0Kguo0GtLuiysS4uJLYudJW6LroGvy4AeMMuRunHLotazC7Ry9AuFz3VLl2u2S6hH94u55DiLi0C5y5zc+suuOTvLv5V9C5Ex/guijj9LujUAC+LDQMvLkYFL9B+By90twkvFvALL7ooDi9cYRAv/5kSL6LSFC9FCxcv6EMZL4p8Gy8utR0v0O0fL3QmIi8WXyQvuZcmL1zQKC//CCsvokEtL0V6Ly/osjEvi+szLy4kNi/QXDgvdJU6LxbOPC+5Bj8vXD9BL/93Qy+isEUvRelHL+ghSi+LWkwvLpNOL9DLUC9zBFMvFj1VL7l1Vy9crlkv/+ZbLw==",
          "dtype": "f4"
         },
         "y": {
          "bdata": "fPBBQHzwQUB88EFAfPBBQHzwQUB88EFAfPBBQHzwQUB88EFAfPBBQHzwQUB88EFAfPBBQHzwQUB88EFAfPBBQHzwQUB88EFAfPBBQHzwQUB88EFAfPBBQHzwQUB88EFAfPBBQHzwQUB88EFAfPBBQHzwQUB88EFAfPBBQHzwQUB88EFAfPBBQHzwQUB88EFAfPBBQHzwQUB88EFAfPBBQHzwQUB88EFAfPBBQHzwQUB88EFAfPBBQHzwQUB88EFAfPBBQHzwQUB88EFAfPBBQHzwQUB88EFAfPBBQHzwQUB88EFAfPBBQHzwQUB88EFAfPBBQHzwQUB88EFAfPBBQHzwQUB88EFAfPBBQHzwQUB88EFAfPBBQHzwQUB88EFAfPBBQHzwQUB88EFAfPBBQHzwQUB88EFAfPBBQHzwQUB88EFAfPBBQHzwQUB88EFAfPBBQHzwQUB88EFAfPBBQHzwQUB88EFAfPBBQHzwQUB88EFAfPBBQHzwQUB88EFAfPBBQHzwQUB88EFAfPBBQA==",
          "dtype": "f4"
         },
         "z": {
          "bdata": "AAAAAJzNldsjNhJcPR+ZXfjTXF6DFOdegudLX3AsoV+d4utftAIjYK2EV2Ajg4lgsniqYLpKzmBGlvRgj3oOYS99I2EXHTlhhSVPYQJiZWGDoXthndqIYVu4k2HKVp5h+qKoYQuNsmFpBbxhOwDFYZ9xzWHeUNVhZJXcYXo442G1Nelh8IjuYcIw82HkK/dhdXv6Yfsh/WETI/9hP0IAYmumAGIrwgBiFZoAYv0yAGJHJP9hjHn9YfBv+2HmEPlhtGT2Yb9y82HgTvBh1/jsYcBj6WGAkOVhgX7hYZss3WGJmNhh4MDTYVGkzmFKQ8lhep/DYX68vWEfoLdhtVGxYavaqmFZRqRhTKGdYeP4lmFrW5Bh29aJYX94g2E5mXphK7puYXNkY2FtolhhWXlOYaLoRGGg6TthwHAzYeNtK2FQzSNhb3gcYZpXFWFgUg5h6VAHYYA9AGH4CPJg0SrjYO7G02Ady8NgzyyzYPnooWAkA5BgJQp7YBj7VGC0/i1ggUAGYMTgu19YB1Vf72i3Xg==",
          "dtype": "f4"
         }
        },
        {
         "line": {
          "cmax": 607840919713266800000,
          "cmin": -595483677853483000,
          "color": {
           "bdata": "AAAAADLii9taRSRcXM+dXWfUYF4CLupeJidOX9+4ol/A7e1fi1AkYL8iWWDbfYpgJ6KrYG6lz2AhJPZgwVsPYQ95JGHFMzph1FZQYZKtZmG1Bn1hpZmJYVSDlGExLZ9hRISpYap4s2Hb+rxhBP/FYWV5zmFDYdZhN67dYZZZ5GEIX+phfbrvYYJq9GHTbfhhhcX7Ye9z/mFGPgBicvIAYqlZAWLndwFin1EBYnvrAGKpSgBikOj+Ycza/GFfdfphrMD3YU/E9GH0lPFheDLuYYSP6mG0reZhJI3iYUst3mGUjNlhFarUYd2Ez2GJHcph2HXEYTqRvmEndbhhjCiyYTu0q2HpIqVhaYCeYWjZl2GEO5FhErSKYdxPhGGYNXxhGz1wYdfGZGGT3VlhN4dPYU3ERWGGjzxh5N4zYQSkK2HxzCNh1EQcYZj1FGE1yA1h8KUGYbfz/mBuYfBgRHThYPYR0mADJ8JgCKexYKGMoGCw2I5gLCR5YIGJU2BcAS1gbLIFYKWRu18l2FVf4ay6Xg==",
           "dtype": "f4"
          },
          "colorscale": [
           [
            0,
            "#440154"
           ],
           [
            0.1111111111111111,
            "#482878"
           ],
           [
            0.2222222222222222,
            "#3e4989"
           ],
           [
            0.3333333333333333,
            "#31688e"
           ],
           [
            0.4444444444444444,
            "#26828e"
           ],
           [
            0.5555555555555556,
            "#1f9e89"
           ],
           [
            0.6666666666666666,
            "#35b779"
           ],
           [
            0.7777777777777778,
            "#6ece58"
           ],
           [
            0.8888888888888888,
            "#b5de2b"
           ],
           [
            1,
            "#fde725"
           ]
          ],
          "showscale": false,
          "width": 4
         },
         "mode": "lines",
         "showlegend": false,
         "type": "scatter3d",
         "x": {
          "bdata": "AAAAALooDiy6KI4sFz3VLLooDi3osjEtFz1VLUbHeC26KI4t0e2fLeiysS0AeMMtFz3VLS4C5y1Gx/gtLkYFLrooDi5GCxcu0e0fLl3QKC7osjEudJU6LgB4Qy6LWkwuFz1VLqMfXi4uAmcuuuRvLkbHeC7p1IAuLkaFLnS3iS66KI4uAJqSLkYLly6LfJsu0e2fLhdfpC5d0Kguo0GtLuiysS4uJLYudJW6LroGvy4AeMMuRunHLotazC7Ry9AuFz3VLl2u2S6hH94u55DiLi0C5y5zc+suuOTvLv5V9C5Ex/guijj9LujUAC+LDQMvLkYFL9B+By90twkvFvALL7ooDi9cYRAv/5kSL6LSFC9FCxcv6EMZL4p8Gy8utR0v0O0fL3QmIi8WXyQvuZcmL1zQKC//CCsvokEtL0V6Ly/osjEvi+szLy4kNi/QXDgvdJU6LxbOPC+5Bj8vXD9BL/93Qy+isEUvRelHL+ghSi+LWkwvLpNOL9DLUC9zBFMvFj1VL7l1Vy9crlkv/+ZbLw==",
          "dtype": "f4"
         },
         "y": {
          "bdata": "Yt5OQGLeTkBi3k5AYt5OQGLeTkBi3k5AYt5OQGLeTkBi3k5AYt5OQGLeTkBi3k5AYt5OQGLeTkBi3k5AYt5OQGLeTkBi3k5AYt5OQGLeTkBi3k5AYt5OQGLeTkBi3k5AYt5OQGLeTkBi3k5AYt5OQGLeTkBi3k5AYt5OQGLeTkBi3k5AYt5OQGLeTkBi3k5AYt5OQGLeTkBi3k5AYt5OQGLeTkBi3k5AYt5OQGLeTkBi3k5AYt5OQGLeTkBi3k5AYt5OQGLeTkBi3k5AYt5OQGLeTkBi3k5AYt5OQGLeTkBi3k5AYt5OQGLeTkBi3k5AYt5OQGLeTkBi3k5AYt5OQGLeTkBi3k5AYt5OQGLeTkBi3k5AYt5OQGLeTkBi3k5AYt5OQGLeTkBi3k5AYt5OQGLeTkBi3k5AYt5OQGLeTkBi3k5AYt5OQGLeTkBi3k5AYt5OQGLeTkBi3k5AYt5OQGLeTkBi3k5AYt5OQGLeTkBi3k5AYt5OQGLeTkBi3k5AYt5OQGLeTkBi3k5AYt5OQA==",
          "dtype": "f4"
         },
         "z": {
          "bdata": "AAAAADLii9taRSRcXM+dXWfUYF4CLupeJidOX9+4ol/A7e1fi1AkYL8iWWDbfYpgJ6KrYG6lz2AhJPZgwVsPYQ95JGHFMzph1FZQYZKtZmG1Bn1hpZmJYVSDlGExLZ9hRISpYap4s2Hb+rxhBP/FYWV5zmFDYdZhN67dYZZZ5GEIX+phfbrvYYJq9GHTbfhhhcX7Ye9z/mFGPgBicvIAYqlZAWLndwFin1EBYnvrAGKpSgBikOj+Ycza/GFfdfphrMD3YU/E9GH0lPFheDLuYYSP6mG0reZhJI3iYUst3mGUjNlhFarUYd2Ez2GJHcph2HXEYTqRvmEndbhhjCiyYTu0q2HpIqVhaYCeYWjZl2GEO5FhErSKYdxPhGGYNXxhGz1wYdfGZGGT3VlhN4dPYU3ERWGGjzxh5N4zYQSkK2HxzCNh1EQcYZj1FGE1yA1h8KUGYbfz/mBuYfBgRHThYPYR0mADJ8JgCKexYKGMoGCw2I5gLCR5YIGJU2BcAS1gbLIFYKWRu18l2FVf4ay6Xg==",
          "dtype": "f4"
         }
        },
        {
         "line": {
          "cmax": 607840919713266800000,
          "cmin": -595483677853483000,
          "color": {
           "bdata": "AAAAAGC7etssoztcsl2jXZlEZV4NbO1evGJQXywxpF96y+9fJXclYECFWmCxTotgvJOsYFi40GCIWPdgdAYQYcgzJWHF/TphKS9RYQ+TZ2EH+H1hgheKYa0FlWFQs59hiQ2qYYkEtGH3iL1hII/GYXoLz2GM9dZhKkXeYdTz5GFr/eph+F3wYScU9WGxHvlhjn78Yfs1/2EVpABiJV0BYi3JAWLq6wFimMkBYqlmAWIOyABid+X/YTHX/WGGbvth3bP4YeWu9WG/dfJhIQjvYf1X62GwZ+dhPzjjYQzK3mFKHNph4y7VYWwB0GH2lMphXevEYQ8Iv2FJ8LhhdqqyYc8+rGE/t6Vhvx6fYROBmGHo6pFhvmiLYZQGhWGAn31hAJtxYdoPZmHbCFtheYxQYTKcRmENND1hvks0YcvWK2FExSNhXAQcYQaAFGH7Ig1hENgFYRYX/WD8Ve5g+EzfYMnhz2A5AMBgfpqvYDGpnmC7Ko1gd0Z2YGU3UWBxQitg8ogEYPlkul+QtlVfCUS9Xg==",
           "dtype": "f4"
          },
          "colorscale": [
           [
            0,
            "#440154"
           ],
           [
            0.1111111111111111,
            "#482878"
           ],
           [
            0.2222222222222222,
            "#3e4989"
           ],
           [
            0.3333333333333333,
            "#31688e"
           ],
           [
            0.4444444444444444,
            "#26828e"
           ],
           [
            0.5555555555555556,
            "#1f9e89"
           ],
           [
            0.6666666666666666,
            "#35b779"
           ],
           [
            0.7777777777777778,
            "#6ece58"
           ],
           [
            0.8888888888888888,
            "#b5de2b"
           ],
           [
            1,
            "#fde725"
           ]
          ],
          "showscale": false,
          "width": 4
         },
         "mode": "lines",
         "showlegend": false,
         "type": "scatter3d",
         "x": {
          "bdata": "AAAAALooDiy6KI4sFz3VLLooDi3osjEtFz1VLUbHeC26KI4t0e2fLeiysS0AeMMtFz3VLS4C5y1Gx/gtLkYFLrooDi5GCxcu0e0fLl3QKC7osjEudJU6LgB4Qy6LWkwuFz1VLqMfXi4uAmcuuuRvLkbHeC7p1IAuLkaFLnS3iS66KI4uAJqSLkYLly6LfJsu0e2fLhdfpC5d0Kguo0GtLuiysS4uJLYudJW6LroGvy4AeMMuRunHLotazC7Ry9AuFz3VLl2u2S6hH94u55DiLi0C5y5zc+suuOTvLv5V9C5Ex/guijj9LujUAC+LDQMvLkYFL9B+By90twkvFvALL7ooDi9cYRAv/5kSL6LSFC9FCxcv6EMZL4p8Gy8utR0v0O0fL3QmIi8WXyQvuZcmL1zQKC//CCsvokEtL0V6Ly/osjEvi+szLy4kNi/QXDgvdJU6LxbOPC+5Bj8vXD9BL/93Qy+isEUvRelHL+ghSi+LWkwvLpNOL9DLUC9zBFMvFj1VL7l1Vy9crlkv/+ZbLw==",
          "dtype": "f4"
         },
         "y": {
          "bdata": "SMxbQEjMW0BIzFtASMxbQEjMW0BIzFtASMxbQEjMW0BIzFtASMxbQEjMW0BIzFtASMxbQEjMW0BIzFtASMxbQEjMW0BIzFtASMxbQEjMW0BIzFtASMxbQEjMW0BIzFtASMxbQEjMW0BIzFtASMxbQEjMW0BIzFtASMxbQEjMW0BIzFtASMxbQEjMW0BIzFtASMxbQEjMW0BIzFtASMxbQEjMW0BIzFtASMxbQEjMW0BIzFtASMxbQEjMW0BIzFtASMxbQEjMW0BIzFtASMxbQEjMW0BIzFtASMxbQEjMW0BIzFtASMxbQEjMW0BIzFtASMxbQEjMW0BIzFtASMxbQEjMW0BIzFtASMxbQEjMW0BIzFtASMxbQEjMW0BIzFtASMxbQEjMW0BIzFtASMxbQEjMW0BIzFtASMxbQEjMW0BIzFtASMxbQEjMW0BIzFtASMxbQEjMW0BIzFtASMxbQEjMW0BIzFtASMxbQEjMW0BIzFtASMxbQEjMW0BIzFtASMxbQEjMW0BIzFtASMxbQA==",
          "dtype": "f4"
         },
         "z": {
          "bdata": "AAAAAGC7etssoztcsl2jXZlEZV4NbO1evGJQXywxpF96y+9fJXclYECFWmCxTotgvJOsYFi40GCIWPdgdAYQYcgzJWHF/TphKS9RYQ+TZ2EH+H1hgheKYa0FlWFQs59hiQ2qYYkEtGH3iL1hII/GYXoLz2GM9dZhKkXeYdTz5GFr/eph+F3wYScU9WGxHvlhjn78Yfs1/2EVpABiJV0BYi3JAWLq6wFimMkBYqlmAWIOyABid+X/YTHX/WGGbvth3bP4YeWu9WG/dfJhIQjvYf1X62GwZ+dhPzjjYQzK3mFKHNph4y7VYWwB0GH2lMphXevEYQ8Iv2FJ8LhhdqqyYc8+rGE/t6Vhvx6fYROBmGHo6pFhvmiLYZQGhWGAn31hAJtxYdoPZmHbCFtheYxQYTKcRmENND1hvks0YcvWK2FExSNhXAQcYQaAFGH7Ig1hENgFYRYX/WD8Ve5g+EzfYMnhz2A5AMBgfpqvYDGpnmC7Ko1gd0Z2YGU3UWBxQitg8ogEYPlkul+QtlVfCUS9Xg==",
          "dtype": "f4"
         }
        },
        {
         "line": {
          "cmax": 607840919713266800000,
          "cmin": -595483677853483000,
          "color": {
           "bdata": "AAAAAELoVdvdC1hcq82pXfUxal7I3/BexKpSXzSjpV8BkfFf4YUmYFPBW2CmA4xgdl+tYCma0WBMT/hgeYsQYVvBJWGOkjthlslRYWAxaGFUmH5hrWeKYetUlWGsAKBhPliqYfpLtGG0zL1hEM/GYcZHz2G1LtdhDHzeYY8p5WF6M+thCZbwYRFQ9WFMYPlhs8f8YVWI/2GH0gBiXJEBYmQDAmIbLAJiZw8CYnKxAWLdFgFiaEQAYnB9/mGfFPxhq1b5YUtL9mFSCvNhRZPvYRrX62ED2edhA5vjYYYe32HJY9phjWvVYSw20GFIxcph/hrFYdo6v2HWKblhA+6yYeWOrGGjFaZhN4yfYWP9mGHCdJJhz/2LYZ2jhWFy4X5hlNtyYSRFZ2G9KFxhG41RYZV0R2GB3D1hKr40YRAPLGFuwSNht8QbYQYHFGEwdQxh3PsEYaIR+2CYFexgN+XcYN5mzWA6hr1gizStYMponGBEH4tgIbNyYMQ7TmDw7Chgb+ICYOx9uF/RtVRfXw+/Xg==",
           "dtype": "f4"
          },
          "colorscale": [
           [
            0,
            "#440154"
           ],
           [
            0.1111111111111111,
            "#482878"
           ],
           [
            0.2222222222222222,
            "#3e4989"
           ],
           [
            0.3333333333333333,
            "#31688e"
           ],
           [
            0.4444444444444444,
            "#26828e"
           ],
           [
            0.5555555555555556,
            "#1f9e89"
           ],
           [
            0.6666666666666666,
            "#35b779"
           ],
           [
            0.7777777777777778,
            "#6ece58"
           ],
           [
            0.8888888888888888,
            "#b5de2b"
           ],
           [
            1,
            "#fde725"
           ]
          ],
          "showscale": false,
          "width": 4
         },
         "mode": "lines",
         "showlegend": false,
         "type": "scatter3d",
         "x": {
          "bdata": "AAAAALooDiy6KI4sFz3VLLooDi3osjEtFz1VLUbHeC26KI4t0e2fLeiysS0AeMMtFz3VLS4C5y1Gx/gtLkYFLrooDi5GCxcu0e0fLl3QKC7osjEudJU6LgB4Qy6LWkwuFz1VLqMfXi4uAmcuuuRvLkbHeC7p1IAuLkaFLnS3iS66KI4uAJqSLkYLly6LfJsu0e2fLhdfpC5d0Kguo0GtLuiysS4uJLYudJW6LroGvy4AeMMuRunHLotazC7Ry9AuFz3VLl2u2S6hH94u55DiLi0C5y5zc+suuOTvLv5V9C5Ex/guijj9LujUAC+LDQMvLkYFL9B+By90twkvFvALL7ooDi9cYRAv/5kSL6LSFC9FCxcv6EMZL4p8Gy8utR0v0O0fL3QmIi8WXyQvuZcmL1zQKC//CCsvokEtL0V6Ly/osjEvi+szLy4kNi/QXDgvdJU6LxbOPC+5Bj8vXD9BL/93Qy+isEUvRelHL+ghSi+LWkwvLpNOL9DLUC9zBFMvFj1VL7l1Vy9crlkv/+ZbLw==",
          "dtype": "f4"
         },
         "y": {
          "bdata": "LrpoQC66aEAuumhALrpoQC66aEAuumhALrpoQC66aEAuumhALrpoQC66aEAuumhALrpoQC66aEAuumhALrpoQC66aEAuumhALrpoQC66aEAuumhALrpoQC66aEAuumhALrpoQC66aEAuumhALrpoQC66aEAuumhALrpoQC66aEAuumhALrpoQC66aEAuumhALrpoQC66aEAuumhALrpoQC66aEAuumhALrpoQC66aEAuumhALrpoQC66aEAuumhALrpoQC66aEAuumhALrpoQC66aEAuumhALrpoQC66aEAuumhALrpoQC66aEAuumhALrpoQC66aEAuumhALrpoQC66aEAuumhALrpoQC66aEAuumhALrpoQC66aEAuumhALrpoQC66aEAuumhALrpoQC66aEAuumhALrpoQC66aEAuumhALrpoQC66aEAuumhALrpoQC66aEAuumhALrpoQC66aEAuumhALrpoQC66aEAuumhALrpoQC66aEAuumhALrpoQC66aEAuumhALrpoQA==",
          "dtype": "f4"
         },
         "z": {
          "bdata": "AAAAAELoVdvdC1hcq82pXfUxal7I3/BexKpSXzSjpV8BkfFf4YUmYFPBW2CmA4xgdl+tYCma0WBMT/hgeYsQYVvBJWGOkjthlslRYWAxaGFUmH5hrWeKYetUlWGsAKBhPliqYfpLtGG0zL1hEM/GYcZHz2G1LtdhDHzeYY8p5WF6M+thCZbwYRFQ9WFMYPlhs8f8YVWI/2GH0gBiXJEBYmQDAmIbLAJiZw8CYnKxAWLdFgFiaEQAYnB9/mGfFPxhq1b5YUtL9mFSCvNhRZPvYRrX62ED2edhA5vjYYYe32HJY9phjWvVYSw20GFIxcph/hrFYdo6v2HWKblhA+6yYeWOrGGjFaZhN4yfYWP9mGHCdJJhz/2LYZ2jhWFy4X5hlNtyYSRFZ2G9KFxhG41RYZV0R2GB3D1hKr40YRAPLGFuwSNht8QbYQYHFGEwdQxh3PsEYaIR+2CYFexgN+XcYN5mzWA6hr1gizStYMponGBEH4tgIbNyYMQ7TmDw7Chgb+ICYOx9uF/RtVRfXw+/Xg==",
          "dtype": "f4"
         }
        },
        {
         "line": {
          "cmax": 607840919713266800000,
          "cmin": -595483677853483000,
          "color": {
           "bdata": "AAAAAJOHKttCCHlczRKxXe6bb15Wj/RezgdVX0gXp18dTPNfJIcnYLDlXGC3poxgaxKuYIBb0mAjHflgbvcQYeEwJmHyAzxh4zpSYXSgaGHjAn9hhpmKYSWClWE0KKBhG3mqYWdltGE33r1hfdjGYVFJz2H9KNdhDHDeYc4Y5WG2H+thboHwYes89WEcUflh7b78YTqI/2HU1wBiz5wBYoYVAmIgRQJiNC8CYonXAWJsQgFiRHQAYgbj/mHkfPxhNL75YcWu9mEWaPNhdenvYboi7GH+F+hhQczjYQlC32Gketph3HfVYdg60GHixcphghvFYWQ/v2FrNrlhPQazYcy1rGFnTaZhEdafYXZZmWES4pJhSHqMYR4shmFBAYBhUQN0YT1paGF0Pl1h0IlSYVhOSGFzij5hEjk1YZNRLGFXyCNhHY8bYUaWE2HfzAthiSEEYZMH+WByx+lgPmbaYI/LymBN47pgU56qYHXymWA62ohgGKpuYCPNSmC5LCZgRd8AYPYEtl+g9FJfbQXAXg==",
           "dtype": "f4"
          },
          "colorscale": [
           [
            0,
            "#440154"
           ],
           [
            0.1111111111111111,
            "#482878"
           ],
           [
            0.2222222222222222,
            "#3e4989"
           ],
           [
            0.3333333333333333,
            "#31688e"
           ],
           [
            0.4444444444444444,
            "#26828e"
           ],
           [
            0.5555555555555556,
            "#1f9e89"
           ],
           [
            0.6666666666666666,
            "#35b779"
           ],
           [
            0.7777777777777778,
            "#6ece58"
           ],
           [
            0.8888888888888888,
            "#b5de2b"
           ],
           [
            1,
            "#fde725"
           ]
          ],
          "showscale": false,
          "width": 4
         },
         "mode": "lines",
         "showlegend": false,
         "type": "scatter3d",
         "x": {
          "bdata": "AAAAALooDiy6KI4sFz3VLLooDi3osjEtFz1VLUbHeC26KI4t0e2fLeiysS0AeMMtFz3VLS4C5y1Gx/gtLkYFLrooDi5GCxcu0e0fLl3QKC7osjEudJU6LgB4Qy6LWkwuFz1VLqMfXi4uAmcuuuRvLkbHeC7p1IAuLkaFLnS3iS66KI4uAJqSLkYLly6LfJsu0e2fLhdfpC5d0Kguo0GtLuiysS4uJLYudJW6LroGvy4AeMMuRunHLotazC7Ry9AuFz3VLl2u2S6hH94u55DiLi0C5y5zc+suuOTvLv5V9C5Ex/guijj9LujUAC+LDQMvLkYFL9B+By90twkvFvALL7ooDi9cYRAv/5kSL6LSFC9FCxcv6EMZL4p8Gy8utR0v0O0fL3QmIi8WXyQvuZcmL1zQKC//CCsvokEtL0V6Ly/osjEvi+szLy4kNi/QXDgvdJU6LxbOPC+5Bj8vXD9BL/93Qy+isEUvRelHL+ghSi+LWkwvLpNOL9DLUC9zBFMvFj1VL7l1Vy9crlkv/+ZbLw==",
          "dtype": "f4"
         },
         "y": {
          "bdata": "FKh1QBSodUAUqHVAFKh1QBSodUAUqHVAFKh1QBSodUAUqHVAFKh1QBSodUAUqHVAFKh1QBSodUAUqHVAFKh1QBSodUAUqHVAFKh1QBSodUAUqHVAFKh1QBSodUAUqHVAFKh1QBSodUAUqHVAFKh1QBSodUAUqHVAFKh1QBSodUAUqHVAFKh1QBSodUAUqHVAFKh1QBSodUAUqHVAFKh1QBSodUAUqHVAFKh1QBSodUAUqHVAFKh1QBSodUAUqHVAFKh1QBSodUAUqHVAFKh1QBSodUAUqHVAFKh1QBSodUAUqHVAFKh1QBSodUAUqHVAFKh1QBSodUAUqHVAFKh1QBSodUAUqHVAFKh1QBSodUAUqHVAFKh1QBSodUAUqHVAFKh1QBSodUAUqHVAFKh1QBSodUAUqHVAFKh1QBSodUAUqHVAFKh1QBSodUAUqHVAFKh1QBSodUAUqHVAFKh1QBSodUAUqHVAFKh1QBSodUAUqHVAFKh1QBSodUAUqHVAFKh1QBSodUAUqHVAFKh1QA==",
          "dtype": "f4"
         },
         "z": {
          "bdata": "AAAAAJOHKttCCHlczRKxXe6bb15Wj/RezgdVX0gXp18dTPNfJIcnYLDlXGC3poxgaxKuYIBb0mAjHflgbvcQYeEwJmHyAzxh4zpSYXSgaGHjAn9hhpmKYSWClWE0KKBhG3mqYWdltGE33r1hfdjGYVFJz2H9KNdhDHDeYc4Y5WG2H+thboHwYes89WEcUflh7b78YTqI/2HU1wBiz5wBYoYVAmIgRQJiNC8CYonXAWJsQgFiRHQAYgbj/mHkfPxhNL75YcWu9mEWaPNhdenvYboi7GH+F+hhQczjYQlC32Gketph3HfVYdg60GHixcphghvFYWQ/v2FrNrlhPQazYcy1rGFnTaZhEdafYXZZmWES4pJhSHqMYR4shmFBAYBhUQN0YT1paGF0Pl1h0IlSYVhOSGFzij5hEjk1YZNRLGFXyCNhHY8bYUaWE2HfzAthiSEEYZMH+WByx+lgPmbaYI/LymBN47pgU56qYHXymWA62ohgGKpuYCPNSmC5LCZgRd8AYPYEtl+g9FJfbQXAXg==",
          "dtype": "f4"
         }
        },
        {
         "line": {
          "cmax": 607840919713266800000,
          "cmin": -595483677853483000,
          "color": {
           "bdata": "AAAAAEFp89of+45cohO5Xax2dV77d/he3ntXXySRqF90BPVfN4EoYND7XWCNPo1ggbWuYOoH02CX0PlgRlMRYUCNJmHsXjxhaZJSYRnyaGExTH9hsbiKYYWalWGLOKBhT4CqYZBitGG00L1hC8DGYRUmz2GQ+9ZhgDneYaHa5GHk2+phUDrwYSL19GFxC/lhP378YUVP/2F4wABimosBYj0LAmI2QgJivDMCYjfjAWKTVAFi24sAYmUa/2FWufxhV/z5YR7r9mG/oPNhZRzwYbhM7GGuNuhhVt7jYTtH32HOc9ph2GbVYXUi0GGOqcphN//EYT4nv2GNJrlhdgKzYV3BrGHEaqZhyAagYfqdmWG8OZNhTOOMYaSjhmGBg4BhLhR1YUh8aWHtSF5h7oBTYb8nSWHQPD9hc7w1YdCfLGFc3SNhAGkbYWw1E2HiMwthE1UDYaEU92BziudghPHXYN8yyGA1O7hgY/unYINol2DPe4ZgwGVqYGYeR2DUKyNg6z79Xz4ks1/xmFBfSS7AXg==",
           "dtype": "f4"
          },
          "colorscale": [
           [
            0,
            "#440154"
           ],
           [
            0.1111111111111111,
            "#482878"
           ],
           [
            0.2222222222222222,
            "#3e4989"
           ],
           [
            0.3333333333333333,
            "#31688e"
           ],
           [
            0.4444444444444444,
            "#26828e"
           ],
           [
            0.5555555555555556,
            "#1f9e89"
           ],
           [
            0.6666666666666666,
            "#35b779"
           ],
           [
            0.7777777777777778,
            "#6ece58"
           ],
           [
            0.8888888888888888,
            "#b5de2b"
           ],
           [
            1,
            "#fde725"
           ]
          ],
          "showscale": false,
          "width": 4
         },
         "mode": "lines",
         "showlegend": false,
         "type": "scatter3d",
         "x": {
          "bdata": "AAAAALooDiy6KI4sFz3VLLooDi3osjEtFz1VLUbHeC26KI4t0e2fLeiysS0AeMMtFz3VLS4C5y1Gx/gtLkYFLrooDi5GCxcu0e0fLl3QKC7osjEudJU6LgB4Qy6LWkwuFz1VLqMfXi4uAmcuuuRvLkbHeC7p1IAuLkaFLnS3iS66KI4uAJqSLkYLly6LfJsu0e2fLhdfpC5d0Kguo0GtLuiysS4uJLYudJW6LroGvy4AeMMuRunHLotazC7Ry9AuFz3VLl2u2S6hH94u55DiLi0C5y5zc+suuOTvLv5V9C5Ex/guijj9LujUAC+LDQMvLkYFL9B+By90twkvFvALL7ooDi9cYRAv/5kSL6LSFC9FCxcv6EMZL4p8Gy8utR0v0O0fL3QmIi8WXyQvuZcmL1zQKC//CCsvokEtL0V6Ly/osjEvi+szLy4kNi/QXDgvdJU6LxbOPC+5Bj8vXD9BL/93Qy+isEUvRelHL+ghSi+LWkwvLpNOL9DLUC9zBFMvFj1VL7l1Vy9crlkv/+ZbLw==",
          "dtype": "f4"
         },
         "y": {
          "bdata": "/UqBQP1KgUD9SoFA/UqBQP1KgUD9SoFA/UqBQP1KgUD9SoFA/UqBQP1KgUD9SoFA/UqBQP1KgUD9SoFA/UqBQP1KgUD9SoFA/UqBQP1KgUD9SoFA/UqBQP1KgUD9SoFA/UqBQP1KgUD9SoFA/UqBQP1KgUD9SoFA/UqBQP1KgUD9SoFA/UqBQP1KgUD9SoFA/UqBQP1KgUD9SoFA/UqBQP1KgUD9SoFA/UqBQP1KgUD9SoFA/UqBQP1KgUD9SoFA/UqBQP1KgUD9SoFA/UqBQP1KgUD9SoFA/UqBQP1KgUD9SoFA/UqBQP1KgUD9SoFA/UqBQP1KgUD9SoFA/UqBQP1KgUD9SoFA/UqBQP1KgUD9SoFA/UqBQP1KgUD9SoFA/UqBQP1KgUD9SoFA/UqBQP1KgUD9SoFA/UqBQP1KgUD9SoFA/UqBQP1KgUD9SoFA/UqBQP1KgUD9SoFA/UqBQP1KgUD9SoFA/UqBQP1KgUD9SoFA/UqBQP1KgUD9SoFA/UqBQP1KgUD9SoFA/UqBQA==",
          "dtype": "f4"
         },
         "z": {
          "bdata": "AAAAAEFp89of+45cohO5Xax2dV77d/he3ntXXySRqF90BPVfN4EoYND7XWCNPo1ggbWuYOoH02CX0PlgRlMRYUCNJmHsXjxhaZJSYRnyaGExTH9hsbiKYYWalWGLOKBhT4CqYZBitGG00L1hC8DGYRUmz2GQ+9ZhgDneYaHa5GHk2+phUDrwYSL19GFxC/lhP378YUVP/2F4wABimosBYj0LAmI2QgJivDMCYjfjAWKTVAFi24sAYmUa/2FWufxhV/z5YR7r9mG/oPNhZRzwYbhM7GGuNuhhVt7jYTtH32HOc9ph2GbVYXUi0GGOqcphN//EYT4nv2GNJrlhdgKzYV3BrGHEaqZhyAagYfqdmWG8OZNhTOOMYaSjhmGBg4BhLhR1YUh8aWHtSF5h7oBTYb8nSWHQPD9hc7w1YdCfLGFc3SNhAGkbYWw1E2HiMwthE1UDYaEU92BziudghPHXYN8yyGA1O7hgY/unYINol2DPe4ZgwGVqYGYeR2DUKyNg6z79Xz4ks1/xmFBfSS7AXg==",
          "dtype": "f4"
         }
        },
        {
         "line": {
          "cmax": 607840919713266800000,
          "cmin": -595483677853483000,
          "color": {
           "bdata": "AAAAANjFiNplD6Nc7a7BXQ2ve14fkfxesQRaX2gRql8/vfZfj3cpYFsJX2Bbz41gkE6vYB+n02CQc/pgO6URYQjeJmGqrDxh9tpSYRYzaWEHg39hrc2KYbanlWGfPKBhDXqqYfNQtGH/sr1h1pXGYWLvzmHYuNZhxuvdYVuD5GEIfephO9bvYZCO9GFfpfhhsRv8YT7z/mEflwBiHWgBYpLuAWICLQJiQCYCYlbdAWLHVQFiRJMAYi0z/2Ei2fxh0x/6YdYO92GnwvNhNjrwYTJj7GFgQ+hhsN/jYbk832EJXtphXkfVYcX7z2HefsphP9TEYQgAv2EbB7lhju6yYU68rGEwd6ZhZCagYYbRmWHdgJNhjTyNYYkMh2Ge+IBhYQ52YeJ8amGkRV9hQG9UYYn9SWGk8D9hJ0Y2YdT4LGEAASRhq1QbYanoEmFcsAphfZ4CYW1M9WBxdeVgX6DVYCK4xWB9qrVgqWilYH7nlGBTH4RgrxhmYH9cQ2A5ECBgf4H4X60EsF8AzE1fH5+/Xg==",
           "dtype": "f4"
          },
          "colorscale": [
           [
            0,
            "#440154"
           ],
           [
            0.1111111111111111,
            "#482878"
           ],
           [
            0.2222222222222222,
            "#3e4989"
           ],
           [
            0.3333333333333333,
            "#31688e"
           ],
           [
            0.4444444444444444,
            "#26828e"
           ],
           [
            0.5555555555555556,
            "#1f9e89"
           ],
           [
            0.6666666666666666,
            "#35b779"
           ],
           [
            0.7777777777777778,
            "#6ece58"
           ],
           [
            0.8888888888888888,
            "#b5de2b"
           ],
           [
            1,
            "#fde725"
           ]
          ],
          "showscale": false,
          "width": 4
         },
         "mode": "lines",
         "showlegend": false,
         "type": "scatter3d",
         "x": {
          "bdata": "AAAAALooDiy6KI4sFz3VLLooDi3osjEtFz1VLUbHeC26KI4t0e2fLeiysS0AeMMtFz3VLS4C5y1Gx/gtLkYFLrooDi5GCxcu0e0fLl3QKC7osjEudJU6LgB4Qy6LWkwuFz1VLqMfXi4uAmcuuuRvLkbHeC7p1IAuLkaFLnS3iS66KI4uAJqSLkYLly6LfJsu0e2fLhdfpC5d0Kguo0GtLuiysS4uJLYudJW6LroGvy4AeMMuRunHLotazC7Ry9AuFz3VLl2u2S6hH94u55DiLi0C5y5zc+suuOTvLv5V9C5Ex/guijj9LujUAC+LDQMvLkYFL9B+By90twkvFvALL7ooDi9cYRAv/5kSL6LSFC9FCxcv6EMZL4p8Gy8utR0v0O0fL3QmIi8WXyQvuZcmL1zQKC//CCsvokEtL0V6Ly/osjEvi+szLy4kNi/QXDgvdJU6LxbOPC+5Bj8vXD9BL/93Qy+isEUvRelHL+ghSi+LWkwvLpNOL9DLUC9zBFMvFj1VL7l1Vy9crlkv/+ZbLw==",
          "dtype": "f4"
         },
         "y": {
          "bdata": "8MGHQPDBh0DwwYdA8MGHQPDBh0DwwYdA8MGHQPDBh0DwwYdA8MGHQPDBh0DwwYdA8MGHQPDBh0DwwYdA8MGHQPDBh0DwwYdA8MGHQPDBh0DwwYdA8MGHQPDBh0DwwYdA8MGHQPDBh0DwwYdA8MGHQPDBh0DwwYdA8MGHQPDBh0DwwYdA8MGHQPDBh0DwwYdA8MGHQPDBh0DwwYdA8MGHQPDBh0DwwYdA8MGHQPDBh0DwwYdA8MGHQPDBh0DwwYdA8MGHQPDBh0DwwYdA8MGHQPDBh0DwwYdA8MGHQPDBh0DwwYdA8MGHQPDBh0DwwYdA8MGHQPDBh0DwwYdA8MGHQPDBh0DwwYdA8MGHQPDBh0DwwYdA8MGHQPDBh0DwwYdA8MGHQPDBh0DwwYdA8MGHQPDBh0DwwYdA8MGHQPDBh0DwwYdA8MGHQPDBh0DwwYdA8MGHQPDBh0DwwYdA8MGHQPDBh0DwwYdA8MGHQPDBh0DwwYdA8MGHQPDBh0DwwYdA8MGHQPDBh0DwwYdA8MGHQA==",
          "dtype": "f4"
         },
         "z": {
          "bdata": "AAAAANjFiNplD6Nc7a7BXQ2ve14fkfxesQRaX2gRql8/vfZfj3cpYFsJX2Bbz41gkE6vYB+n02CQc/pgO6URYQjeJmGqrDxh9tpSYRYzaWEHg39hrc2KYbanlWGfPKBhDXqqYfNQtGH/sr1h1pXGYWLvzmHYuNZhxuvdYVuD5GEIfephO9bvYZCO9GFfpfhhsRv8YT7z/mEflwBiHWgBYpLuAWICLQJiQCYCYlbdAWLHVQFiRJMAYi0z/2Ei2fxh0x/6YdYO92GnwvNhNjrwYTJj7GFgQ+hhsN/jYbk832EJXtphXkfVYcX7z2HefsphP9TEYQgAv2EbB7lhju6yYU68rGEwd6ZhZCagYYbRmWHdgJNhjTyNYYkMh2Ge+IBhYQ52YeJ8amGkRV9hQG9UYYn9SWGk8D9hJ0Y2YdT4LGEAASRhq1QbYanoEmFcsAphfZ4CYW1M9WBxdeVgX6DVYCK4xWB9qrVgqWilYH7nlGBTH4RgrxhmYH9cQ2A5ECBgf4H4X60EsF8AzE1fH5+/Xg==",
          "dtype": "f4"
         }
        },
        {
         "line": {
          "cmax": 607840919713266800000,
          "cmin": -595483677853483000,
          "color": {
           "bdata": "AAAAADJ0NtnDXrhcdb7KXaYWgV4bZwBf1JxcX3eWq193dvhfTmsqYA4RYGBnW45g9+CvYMY91GAqDPtgL/ERYRsoJ2Ea8zxhuhtTYedraWFnsX9hUt6KYXKwlWESPKBh/G6qYUA6tGHSj71hq2XGYROyzmG/btZhqZXdYZki5GF3E+phJWbvYZka9GF9MPhh8qj7YcSF/mF5ZABi4DoBYszHAWJ6DQJiZQ4CYjTNAWIDTQFiI5EAYgk6/2Fl6PxhbTT6YWkl92H32PNh1k3wYfVw7GHFSOhhB9vjYVQt32EuRNphVCTVYabRz2GMUMphIKXEYc/TvmGL4bhhTdOyYZOurGGbeaZh0DqgYeH4mWEWu5NhkYiNYUNoh2EQYYFhNfF2Ye9oa2FqMWBh/1BVYZPLSmHuoUBhrdI2YfBZLWG6MSRh5VEbYT+xEmEqRQphSQICYR2782Bpl+Nga4TTYAFvw2BWRrNgQ/yiYL2FkmCb2oFgK+xhYPqsP2BU+hxgebrzX4/LrF/Ktkpfs3W+Xg==",
           "dtype": "f4"
          },
          "colorscale": [
           [
            0,
            "#440154"
           ],
           [
            0.1111111111111111,
            "#482878"
           ],
           [
            0.2222222222222222,
            "#3e4989"
           ],
           [
            0.3333333333333333,
            "#31688e"
           ],
           [
            0.4444444444444444,
            "#26828e"
           ],
           [
            0.5555555555555556,
            "#1f9e89"
           ],
           [
            0.6666666666666666,
            "#35b779"
           ],
           [
            0.7777777777777778,
            "#6ece58"
           ],
           [
            0.8888888888888888,
            "#b5de2b"
           ],
           [
            1,
            "#fde725"
           ]
          ],
          "showscale": false,
          "width": 4
         },
         "mode": "lines",
         "showlegend": false,
         "type": "scatter3d",
         "x": {
          "bdata": "AAAAALooDiy6KI4sFz3VLLooDi3osjEtFz1VLUbHeC26KI4t0e2fLeiysS0AeMMtFz3VLS4C5y1Gx/gtLkYFLrooDi5GCxcu0e0fLl3QKC7osjEudJU6LgB4Qy6LWkwuFz1VLqMfXi4uAmcuuuRvLkbHeC7p1IAuLkaFLnS3iS66KI4uAJqSLkYLly6LfJsu0e2fLhdfpC5d0Kguo0GtLuiysS4uJLYudJW6LroGvy4AeMMuRunHLotazC7Ry9AuFz3VLl2u2S6hH94u55DiLi0C5y5zc+suuOTvLv5V9C5Ex/guijj9LujUAC+LDQMvLkYFL9B+By90twkvFvALL7ooDi9cYRAv/5kSL6LSFC9FCxcv6EMZL4p8Gy8utR0v0O0fL3QmIi8WXyQvuZcmL1zQKC//CCsvokEtL0V6Ly/osjEvi+szLy4kNi/QXDgvdJU6LxbOPC+5Bj8vXD9BL/93Qy+isEUvRelHL+ghSi+LWkwvLpNOL9DLUC9zBFMvFj1VL7l1Vy9crlkv/+ZbLw==",
          "dtype": "f4"
         },
         "y": {
          "bdata": "4ziOQOM4jkDjOI5A4ziOQOM4jkDjOI5A4ziOQOM4jkDjOI5A4ziOQOM4jkDjOI5A4ziOQOM4jkDjOI5A4ziOQOM4jkDjOI5A4ziOQOM4jkDjOI5A4ziOQOM4jkDjOI5A4ziOQOM4jkDjOI5A4ziOQOM4jkDjOI5A4ziOQOM4jkDjOI5A4ziOQOM4jkDjOI5A4ziOQOM4jkDjOI5A4ziOQOM4jkDjOI5A4ziOQOM4jkDjOI5A4ziOQOM4jkDjOI5A4ziOQOM4jkDjOI5A4ziOQOM4jkDjOI5A4ziOQOM4jkDjOI5A4ziOQOM4jkDjOI5A4ziOQOM4jkDjOI5A4ziOQOM4jkDjOI5A4ziOQOM4jkDjOI5A4ziOQOM4jkDjOI5A4ziOQOM4jkDjOI5A4ziOQOM4jkDjOI5A4ziOQOM4jkDjOI5A4ziOQOM4jkDjOI5A4ziOQOM4jkDjOI5A4ziOQOM4jkDjOI5A4ziOQOM4jkDjOI5A4ziOQOM4jkDjOI5A4ziOQOM4jkDjOI5A4ziOQA==",
          "dtype": "f4"
         },
         "z": {
          "bdata": "AAAAADJ0NtnDXrhcdb7KXaYWgV4bZwBf1JxcX3eWq193dvhfTmsqYA4RYGBnW45g9+CvYMY91GAqDPtgL/ERYRsoJ2Ea8zxhuhtTYedraWFnsX9hUt6KYXKwlWESPKBh/G6qYUA6tGHSj71hq2XGYROyzmG/btZhqZXdYZki5GF3E+phJWbvYZka9GF9MPhh8qj7YcSF/mF5ZABi4DoBYszHAWJ6DQJiZQ4CYjTNAWIDTQFiI5EAYgk6/2Fl6PxhbTT6YWkl92H32PNh1k3wYfVw7GHFSOhhB9vjYVQt32EuRNphVCTVYabRz2GMUMphIKXEYc/TvmGL4bhhTdOyYZOurGGbeaZh0DqgYeH4mWEWu5NhkYiNYUNoh2EQYYFhNfF2Ye9oa2FqMWBh/1BVYZPLSmHuoUBhrdI2YfBZLWG6MSRh5VEbYT+xEmEqRQphSQICYR2782Bpl+Nga4TTYAFvw2BWRrNgQ/yiYL2FkmCb2oFgK+xhYPqsP2BU+hxgebrzX4/LrF/Ktkpfs3W+Xg==",
          "dtype": "f4"
         }
        },
        {
         "line": {
          "cmax": 607840919713266800000,
          "cmin": -595483677853483000,
          "color": {
           "bdata": "AAAAAE0oQloJic5cJhvUXflrhF5vkAJfMj1fX0wdrV84LvpfP1wrYJgTYWCn445gXG6wYFzO1GDhnftgZTkSYVRuJ2HKNT1hCFlTYcuhaWGX3X9hTe6KYQW5lWHtO6Bh2mSqYQEltGGNbr1huTfGYTV3zmEaJ9Zh6EHdYdPD42FPq+lhsvbuYVmm82E8uvdhsDP7YYcU/mFWLwBijQoBYnKdAWL06QFiQfIBYp+4AWLJPwFitYoAYuo4/2GZ8PxhFkP6YWw392Hy6/NhRV/wYc597GGKTuhhBNjjYaYg32HgLdphTAXVYamrz2EKJsphE3nEYYqpvmGCvLhh17ayYbydrGHxdqZhNUigYWsXmmH36pNhD8mNYbi3h2EAvYFhmLt3YTI+bGEiCWFhUiJWYa+NS2FsTEFh8V03YYm/LWGdbCRhs14bYU6OEmGe8glhDoIBYW5m8mCi+OFgOqjRYCRkwWD/HLFgocWgYF1TkGDUe39g2v9dYFctPGBQBBpgKBXvXxSZqV+Vf0dfZNS8Xg==",
           "dtype": "f4"
          },
          "colorscale": [
           [
            0,
            "#440154"
           ],
           [
            0.1111111111111111,
            "#482878"
           ],
           [
            0.2222222222222222,
            "#3e4989"
           ],
           [
            0.3333333333333333,
            "#31688e"
           ],
           [
            0.4444444444444444,
            "#26828e"
           ],
           [
            0.5555555555555556,
            "#1f9e89"
           ],
           [
            0.6666666666666666,
            "#35b779"
           ],
           [
            0.7777777777777778,
            "#6ece58"
           ],
           [
            0.8888888888888888,
            "#b5de2b"
           ],
           [
            1,
            "#fde725"
           ]
          ],
          "showscale": false,
          "width": 4
         },
         "mode": "lines",
         "showlegend": false,
         "type": "scatter3d",
         "x": {
          "bdata": "AAAAALooDiy6KI4sFz3VLLooDi3osjEtFz1VLUbHeC26KI4t0e2fLeiysS0AeMMtFz3VLS4C5y1Gx/gtLkYFLrooDi5GCxcu0e0fLl3QKC7osjEudJU6LgB4Qy6LWkwuFz1VLqMfXi4uAmcuuuRvLkbHeC7p1IAuLkaFLnS3iS66KI4uAJqSLkYLly6LfJsu0e2fLhdfpC5d0Kguo0GtLuiysS4uJLYudJW6LroGvy4AeMMuRunHLotazC7Ry9AuFz3VLl2u2S6hH94u55DiLi0C5y5zc+suuOTvLv5V9C5Ex/guijj9LujUAC+LDQMvLkYFL9B+By90twkvFvALL7ooDi9cYRAv/5kSL6LSFC9FCxcv6EMZL4p8Gy8utR0v0O0fL3QmIi8WXyQvuZcmL1zQKC//CCsvokEtL0V6Ly/osjEvi+szLy4kNi/QXDgvdJU6LxbOPC+5Bj8vXD9BL/93Qy+isEUvRelHL+ghSi+LWkwvLpNOL9DLUC9zBFMvFj1VL7l1Vy9crlkv/+ZbLw==",
          "dtype": "f4"
         },
         "y": {
          "bdata": "1q+UQNavlEDWr5RA1q+UQNavlEDWr5RA1q+UQNavlEDWr5RA1q+UQNavlEDWr5RA1q+UQNavlEDWr5RA1q+UQNavlEDWr5RA1q+UQNavlEDWr5RA1q+UQNavlEDWr5RA1q+UQNavlEDWr5RA1q+UQNavlEDWr5RA1q+UQNavlEDWr5RA1q+UQNavlEDWr5RA1q+UQNavlEDWr5RA1q+UQNavlEDWr5RA1q+UQNavlEDWr5RA1q+UQNavlEDWr5RA1q+UQNavlEDWr5RA1q+UQNavlEDWr5RA1q+UQNavlEDWr5RA1q+UQNavlEDWr5RA1q+UQNavlEDWr5RA1q+UQNavlEDWr5RA1q+UQNavlEDWr5RA1q+UQNavlEDWr5RA1q+UQNavlEDWr5RA1q+UQNavlEDWr5RA1q+UQNavlEDWr5RA1q+UQNavlEDWr5RA1q+UQNavlEDWr5RA1q+UQNavlEDWr5RA1q+UQNavlEDWr5RA1q+UQNavlEDWr5RA1q+UQNavlEDWr5RA1q+UQA==",
          "dtype": "f4"
         },
         "z": {
          "bdata": "AAAAAE0oQloJic5cJhvUXflrhF5vkAJfMj1fX0wdrV84LvpfP1wrYJgTYWCn445gXG6wYFzO1GDhnftgZTkSYVRuJ2HKNT1hCFlTYcuhaWGX3X9hTe6KYQW5lWHtO6Bh2mSqYQEltGGNbr1huTfGYTV3zmEaJ9Zh6EHdYdPD42FPq+lhsvbuYVmm82E8uvdhsDP7YYcU/mFWLwBijQoBYnKdAWL06QFiQfIBYp+4AWLJPwFitYoAYuo4/2GZ8PxhFkP6YWw392Hy6/NhRV/wYc597GGKTuhhBNjjYaYg32HgLdphTAXVYamrz2EKJsphE3nEYYqpvmGCvLhh17ayYbydrGHxdqZhNUigYWsXmmH36pNhD8mNYbi3h2EAvYFhmLt3YTI+bGEiCWFhUiJWYa+NS2FsTEFh8V03YYm/LWGdbCRhs14bYU6OEmGe8glhDoIBYW5m8mCi+OFgOqjRYCRkwWD/HLFgocWgYF1TkGDUe39g2v9dYFctPGBQBBpgKBXvXxSZqV+Vf0dfZNS8Xg==",
          "dtype": "f4"
         }
        },
        {
         "line": {
          "cmax": 607840919713266800000,
          "cmin": -595483677853483000,
          "color": {
           "bdata": "AAAAAM+z3Vo7NOVcg5/dXfvKh15KvQRfO95hX1eirl9z4ftfUUksYIEQYmA4aI9gTPewYOJZ1WA0Kvxg8H4SYRuyJ2GAdj1hJZVTYYzXaWF4BYBhrP+KYeXDlWETP6BhD1+qYS8VtGG+U71hNhHGYaFEzmFw6NVhmvfcYc9u42HwTOlhzpDuYS0782FWTPdh18X6YaGp/WGQ+f9hM9wAYnp0AWJExwFiddYBYgKkAWJOMgFi64MAYj43/2Gx+PxhX1L6YQNL92FfAfRh93PwYe2O7GG4Wehhh9vjYYYb32HaH9phCu/UYX+Oz2H+A8phsVTEYa+FvmE5nLhhJ52yYXaNrGF6cqZhaFGgYXkvmmFHEpRhO/+NYZD7h2GADIJhn2x4YdD6bGEgymFh8d9WYRVATGEO7EFh3OM3YaolLmEWriRh/HcbYW59EmEqtwlhKh0BYRBP8WDPm+BgcBDQYPCdv2CKNq9gKs6eYMVajmB8qHtg32laYPfyOGDSQRdgPrPqX2OHpl8FSERf1966Xg==",
           "dtype": "f4"
          },
          "colorscale": [
           [
            0,
            "#440154"
           ],
           [
            0.1111111111111111,
            "#482878"
           ],
           [
            0.2222222222222222,
            "#3e4989"
           ],
           [
            0.3333333333333333,
            "#31688e"
           ],
           [
            0.4444444444444444,
            "#26828e"
           ],
           [
            0.5555555555555556,
            "#1f9e89"
           ],
           [
            0.6666666666666666,
            "#35b779"
           ],
           [
            0.7777777777777778,
            "#6ece58"
           ],
           [
            0.8888888888888888,
            "#b5de2b"
           ],
           [
            1,
            "#fde725"
           ]
          ],
          "showscale": false,
          "width": 4
         },
         "mode": "lines",
         "showlegend": false,
         "type": "scatter3d",
         "x": {
          "bdata": "AAAAALooDiy6KI4sFz3VLLooDi3osjEtFz1VLUbHeC26KI4t0e2fLeiysS0AeMMtFz3VLS4C5y1Gx/gtLkYFLrooDi5GCxcu0e0fLl3QKC7osjEudJU6LgB4Qy6LWkwuFz1VLqMfXi4uAmcuuuRvLkbHeC7p1IAuLkaFLnS3iS66KI4uAJqSLkYLly6LfJsu0e2fLhdfpC5d0Kguo0GtLuiysS4uJLYudJW6LroGvy4AeMMuRunHLotazC7Ry9AuFz3VLl2u2S6hH94u55DiLi0C5y5zc+suuOTvLv5V9C5Ex/guijj9LujUAC+LDQMvLkYFL9B+By90twkvFvALL7ooDi9cYRAv/5kSL6LSFC9FCxcv6EMZL4p8Gy8utR0v0O0fL3QmIi8WXyQvuZcmL1zQKC//CCsvokEtL0V6Ly/osjEvi+szLy4kNi/QXDgvdJU6LxbOPC+5Bj8vXD9BL/93Qy+isEUvRelHL+ghSi+LWkwvLpNOL9DLUC9zBFMvFj1VL7l1Vy9crlkv/+ZbLw==",
          "dtype": "f4"
         },
         "y": {
          "bdata": "yiabQMomm0DKJptAyiabQMomm0DKJptAyiabQMomm0DKJptAyiabQMomm0DKJptAyiabQMomm0DKJptAyiabQMomm0DKJptAyiabQMomm0DKJptAyiabQMomm0DKJptAyiabQMomm0DKJptAyiabQMomm0DKJptAyiabQMomm0DKJptAyiabQMomm0DKJptAyiabQMomm0DKJptAyiabQMomm0DKJptAyiabQMomm0DKJptAyiabQMomm0DKJptAyiabQMomm0DKJptAyiabQMomm0DKJptAyiabQMomm0DKJptAyiabQMomm0DKJptAyiabQMomm0DKJptAyiabQMomm0DKJptAyiabQMomm0DKJptAyiabQMomm0DKJptAyiabQMomm0DKJptAyiabQMomm0DKJptAyiabQMomm0DKJptAyiabQMomm0DKJptAyiabQMomm0DKJptAyiabQMomm0DKJptAyiabQMomm0DKJptAyiabQMomm0DKJptAyiabQMomm0DKJptAyiabQA==",
          "dtype": "f4"
         },
         "z": {
          "bdata": "AAAAAM+z3Vo7NOVcg5/dXfvKh15KvQRfO95hX1eirl9z4ftfUUksYIEQYmA4aI9gTPewYOJZ1WA0Kvxg8H4SYRuyJ2GAdj1hJZVTYYzXaWF4BYBhrP+KYeXDlWETP6BhD1+qYS8VtGG+U71hNhHGYaFEzmFw6NVhmvfcYc9u42HwTOlhzpDuYS0782FWTPdh18X6YaGp/WGQ+f9hM9wAYnp0AWJExwFiddYBYgKkAWJOMgFi64MAYj43/2Gx+PxhX1L6YQNL92FfAfRh93PwYe2O7GG4Wehhh9vjYYYb32HaH9phCu/UYX+Oz2H+A8phsVTEYa+FvmE5nLhhJ52yYXaNrGF6cqZhaFGgYXkvmmFHEpRhO/+NYZD7h2GADIJhn2x4YdD6bGEgymFh8d9WYRVATGEO7EFh3OM3YaolLmEWriRh/HcbYW59EmEqtwlhKh0BYRBP8WDPm+BgcBDQYPCdv2CKNq9gKs6eYMVajmB8qHtg32laYPfyOGDSQRdgPrPqX2OHpl8FSERf1966Xg==",
          "dtype": "f4"
         }
        },
        {
         "line": {
          "cmax": 607840919713266800000,
          "cmin": -595483677853483000,
          "color": {
           "bdata": "AAAAAI8KL1szEPxcUCnnXSgoi17O5gZfpXhkX/ohsF/JjP1fDzEtYKMGY2C56I9gm3uxYHDg1WBssfxgEsISYeLzJ2HctT1h4dBTYSkOamFlHYBhQBOLYRfSlWHNRqBhNV+qYbIMtGG0Qb1h5fTFYYwdzmF8ttVh/rrcYT0o42F//ehhGDruYRTf8mEm7fZhGWb6YfBL/WGVoP9hV7MAYlZQAWLHqAFiS74BYoeSAWKKJwFikX8AYiQ6/2FhBf1hnWb6YTBk92HpHPRhSo/wYXWn7GE/behhVOjjYYgg32GyHNphBOTUYaR8z2Hj7MlhZjrEYahqvmEUg7hhhoiyYd9/rGEpbqZhKVigYYZCmmE7MpRh+CuOYUk0iGG9T4Jh5QN5Ya+dbWGDcmJhW4dXYczfTGF0fUJht2A4YYWILmFV8iRhKpobYVl7EmH0jwlhVdEAYdZx8GAvf99g2rzOYM0dvmDWla1gFhqdYE6hjGCJR3hgvzdXYL8LNmBCwBRg9KzmX1Oqo1//K0FfS7e4Xg==",
           "dtype": "f4"
          },
          "colorscale": [
           [
            0,
            "#440154"
           ],
           [
            0.1111111111111111,
            "#482878"
           ],
           [
            0.2222222222222222,
            "#3e4989"
           ],
           [
            0.3333333333333333,
            "#31688e"
           ],
           [
            0.4444444444444444,
            "#26828e"
           ],
           [
            0.5555555555555556,
            "#1f9e89"
           ],
           [
            0.6666666666666666,
            "#35b779"
           ],
           [
            0.7777777777777778,
            "#6ece58"
           ],
           [
            0.8888888888888888,
            "#b5de2b"
           ],
           [
            1,
            "#fde725"
           ]
          ],
          "showscale": false,
          "width": 4
         },
         "mode": "lines",
         "showlegend": false,
         "type": "scatter3d",
         "x": {
          "bdata": "AAAAALooDiy6KI4sFz3VLLooDi3osjEtFz1VLUbHeC26KI4t0e2fLeiysS0AeMMtFz3VLS4C5y1Gx/gtLkYFLrooDi5GCxcu0e0fLl3QKC7osjEudJU6LgB4Qy6LWkwuFz1VLqMfXi4uAmcuuuRvLkbHeC7p1IAuLkaFLnS3iS66KI4uAJqSLkYLly6LfJsu0e2fLhdfpC5d0Kguo0GtLuiysS4uJLYudJW6LroGvy4AeMMuRunHLotazC7Ry9AuFz3VLl2u2S6hH94u55DiLi0C5y5zc+suuOTvLv5V9C5Ex/guijj9LujUAC+LDQMvLkYFL9B+By90twkvFvALL7ooDi9cYRAv/5kSL6LSFC9FCxcv6EMZL4p8Gy8utR0v0O0fL3QmIi8WXyQvuZcmL1zQKC//CCsvokEtL0V6Ly/osjEvi+szLy4kNi/QXDgvdJU6LxbOPC+5Bj8vXD9BL/93Qy+isEUvRelHL+ghSi+LWkwvLpNOL9DLUC9zBFMvFj1VL7l1Vy9crlkv/+ZbLw==",
          "dtype": "f4"
         },
         "y": {
          "bdata": "vZ2hQL2doUC9naFAvZ2hQL2doUC9naFAvZ2hQL2doUC9naFAvZ2hQL2doUC9naFAvZ2hQL2doUC9naFAvZ2hQL2doUC9naFAvZ2hQL2doUC9naFAvZ2hQL2doUC9naFAvZ2hQL2doUC9naFAvZ2hQL2doUC9naFAvZ2hQL2doUC9naFAvZ2hQL2doUC9naFAvZ2hQL2doUC9naFAvZ2hQL2doUC9naFAvZ2hQL2doUC9naFAvZ2hQL2doUC9naFAvZ2hQL2doUC9naFAvZ2hQL2doUC9naFAvZ2hQL2doUC9naFAvZ2hQL2doUC9naFAvZ2hQL2doUC9naFAvZ2hQL2doUC9naFAvZ2hQL2doUC9naFAvZ2hQL2doUC9naFAvZ2hQL2doUC9naFAvZ2hQL2doUC9naFAvZ2hQL2doUC9naFAvZ2hQL2doUC9naFAvZ2hQL2doUC9naFAvZ2hQL2doUC9naFAvZ2hQL2doUC9naFAvZ2hQL2doUC9naFAvZ2hQL2doUC9naFAvZ2hQA==",
          "dtype": "f4"
         },
         "z": {
          "bdata": "AAAAAI8KL1szEPxcUCnnXSgoi17O5gZfpXhkX/ohsF/JjP1fDzEtYKMGY2C56I9gm3uxYHDg1WBssfxgEsISYeLzJ2HctT1h4dBTYSkOamFlHYBhQBOLYRfSlWHNRqBhNV+qYbIMtGG0Qb1h5fTFYYwdzmF8ttVh/rrcYT0o42F//ehhGDruYRTf8mEm7fZhGWb6YfBL/WGVoP9hV7MAYlZQAWLHqAFiS74BYoeSAWKKJwFikX8AYiQ6/2FhBf1hnWb6YTBk92HpHPRhSo/wYXWn7GE/behhVOjjYYgg32GyHNphBOTUYaR8z2Hj7MlhZjrEYahqvmEUg7hhhoiyYd9/rGEpbqZhKVigYYZCmmE7MpRh+CuOYUk0iGG9T4Jh5QN5Ya+dbWGDcmJhW4dXYczfTGF0fUJht2A4YYWILmFV8iRhKpobYVl7EmH0jwlhVdEAYdZx8GAvf99g2rzOYM0dvmDWla1gFhqdYE6hjGCJR3hgvzdXYL8LNmBCwBRg9KzmX1Oqo1//K0FfS7e4Xg==",
          "dtype": "f4"
         }
        },
        {
         "line": {
          "cmax": 607840919713266800000,
          "cmin": -595483677853483000,
          "color": {
           "bdata": "AAAAAL61cFtbbAldhZvwXbB5jl4QBwlf9AVnX+KYsV/4LP9f8REuYLD0Y2CZZJBgzPqxYIxh1mAvM/1gowITYXIzKGGr8z1hAwxUYYJFamGCNoBhCymLYbLjlWFGU6BhmmWqYQwMtGEoOb1ht+PFYTkDzmHEktVh/43cYWby4mG1v+hhkfXtYXyV8mFpoPZhbBj6Ya3//GEoWP9hLZIAYkszAWK9kAFi7KsBYjuGAWJuIQFidn8AYvJE/2GvGf1hdIL6YT2F92GOQPRh9bLwYdbI7GFMiuhheP/jYZow32EwJdphBeXUYdB2z2Fu4clh/CrEYUlZvmHycbhh5nmyYft1rGEHa6Zhd12gYYlRmmGpS5RhAFCOYXRiiGEHh4JhkYF5YVombmFsAWNhGRdYYcdqTWEO/kJhl9E4YcTkLmHJNSVhjMEbYVqEEmFteQlhRJsAYeHI72Ddnd5guanNYC3hvGCYOaxgWambYBooi2BpXXVggG9UYN1+M2BYhxJgiBHjX5sPoV83QT5frHy2Xg==",
           "dtype": "f4"
          },
          "colorscale": [
           [
            0,
            "#440154"
           ],
           [
            0.1111111111111111,
            "#482878"
           ],
           [
            0.2222222222222222,
            "#3e4989"
           ],
           [
            0.3333333333333333,
            "#31688e"
           ],
           [
            0.4444444444444444,
            "#26828e"
           ],
           [
            0.5555555555555556,
            "#1f9e89"
           ],
           [
            0.6666666666666666,
            "#35b779"
           ],
           [
            0.7777777777777778,
            "#6ece58"
           ],
           [
            0.8888888888888888,
            "#b5de2b"
           ],
           [
            1,
            "#fde725"
           ]
          ],
          "showscale": false,
          "width": 4
         },
         "mode": "lines",
         "showlegend": false,
         "type": "scatter3d",
         "x": {
          "bdata": "AAAAALooDiy6KI4sFz3VLLooDi3osjEtFz1VLUbHeC26KI4t0e2fLeiysS0AeMMtFz3VLS4C5y1Gx/gtLkYFLrooDi5GCxcu0e0fLl3QKC7osjEudJU6LgB4Qy6LWkwuFz1VLqMfXi4uAmcuuuRvLkbHeC7p1IAuLkaFLnS3iS66KI4uAJqSLkYLly6LfJsu0e2fLhdfpC5d0Kguo0GtLuiysS4uJLYudJW6LroGvy4AeMMuRunHLotazC7Ry9AuFz3VLl2u2S6hH94u55DiLi0C5y5zc+suuOTvLv5V9C5Ex/guijj9LujUAC+LDQMvLkYFL9B+By90twkvFvALL7ooDi9cYRAv/5kSL6LSFC9FCxcv6EMZL4p8Gy8utR0v0O0fL3QmIi8WXyQvuZcmL1zQKC//CCsvokEtL0V6Ly/osjEvi+szLy4kNi/QXDgvdJU6LxbOPC+5Bj8vXD9BL/93Qy+isEUvRelHL+ghSi+LWkwvLpNOL9DLUC9zBFMvFj1VL7l1Vy9crlkv/+ZbLw==",
          "dtype": "f4"
         },
         "y": {
          "bdata": "sBSoQLAUqECwFKhAsBSoQLAUqECwFKhAsBSoQLAUqECwFKhAsBSoQLAUqECwFKhAsBSoQLAUqECwFKhAsBSoQLAUqECwFKhAsBSoQLAUqECwFKhAsBSoQLAUqECwFKhAsBSoQLAUqECwFKhAsBSoQLAUqECwFKhAsBSoQLAUqECwFKhAsBSoQLAUqECwFKhAsBSoQLAUqECwFKhAsBSoQLAUqECwFKhAsBSoQLAUqECwFKhAsBSoQLAUqECwFKhAsBSoQLAUqECwFKhAsBSoQLAUqECwFKhAsBSoQLAUqECwFKhAsBSoQLAUqECwFKhAsBSoQLAUqECwFKhAsBSoQLAUqECwFKhAsBSoQLAUqECwFKhAsBSoQLAUqECwFKhAsBSoQLAUqECwFKhAsBSoQLAUqECwFKhAsBSoQLAUqECwFKhAsBSoQLAUqECwFKhAsBSoQLAUqECwFKhAsBSoQLAUqECwFKhAsBSoQLAUqECwFKhAsBSoQLAUqECwFKhAsBSoQLAUqECwFKhAsBSoQA==",
          "dtype": "f4"
         },
         "z": {
          "bdata": "AAAAAL61cFtbbAldhZvwXbB5jl4QBwlf9AVnX+KYsV/4LP9f8REuYLD0Y2CZZJBgzPqxYIxh1mAvM/1gowITYXIzKGGr8z1hAwxUYYJFamGCNoBhCymLYbLjlWFGU6BhmmWqYQwMtGEoOb1ht+PFYTkDzmHEktVh/43cYWby4mG1v+hhkfXtYXyV8mFpoPZhbBj6Ya3//GEoWP9hLZIAYkszAWK9kAFi7KsBYjuGAWJuIQFidn8AYvJE/2GvGf1hdIL6YT2F92GOQPRh9bLwYdbI7GFMiuhheP/jYZow32EwJdphBeXUYdB2z2Fu4clh/CrEYUlZvmHycbhh5nmyYft1rGEHa6Zhd12gYYlRmmGpS5RhAFCOYXRiiGEHh4JhkYF5YVombmFsAWNhGRdYYcdqTWEO/kJhl9E4YcTkLmHJNSVhjMEbYVqEEmFteQlhRJsAYeHI72Ddnd5guanNYC3hvGCYOaxgWambYBooi2BpXXVggG9UYN1+M2BYhxJgiBHjX5sPoV83QT5frHy2Xg==",
          "dtype": "f4"
         }
        },
        {
         "line": {
          "cmax": 607840919713266800000,
          "cmin": -595483677853483000,
          "color": {
           "bdata": "AAAAAFjCmVvOqhRdId75XWm3kV40GQtfx4BpX0EEs1+jXwBgreouYFHZZGAv25BgMnSyYIHc1mCmrv1gJkATYURwKGFELz5hxEVUYal8amFMUIBheECLYRX4lWHeY6BhmXGqYaIStGGLOb1hP93FYWH1zWE4fdVhtnDcYa/N4mEslOhhKcTtYZJf8mGTZ/ZhjN75YcnG/GFbIv9h4XkAYogeAWJXgAFiiaABYkWAAWIRIQFikoQAYltZ/2ESN/1hEaf6YQuv92HmbPRhU9/wYTfz7GHZsOhhrCDkYVdL32HVONphdvHUYXF8z2Eb4clhASbEYTVRvmGZaLhhPnGyYetvrGFZaaZhwWGgYQZdmmEvX5Rh7muOYaaGiGHfsoJhZeZ5YVGVbmHBdmNhoI5YYfjfTWFGbENhSzQ5YcA3L2FYdSVho+obYb+UEmHDbwlhIHcAYcFM72Dl8N1gt9DMYKDiu2BqHatgqXiaYADtiWDh53Jg+BBSYNVNMWDymRBgYejfX0+/nl8XlztfTkm0Xg==",
           "dtype": "f4"
          },
          "colorscale": [
           [
            0,
            "#440154"
           ],
           [
            0.1111111111111111,
            "#482878"
           ],
           [
            0.2222222222222222,
            "#3e4989"
           ],
           [
            0.3333333333333333,
            "#31688e"
           ],
           [
            0.4444444444444444,
            "#26828e"
           ],
           [
            0.5555555555555556,
            "#1f9e89"
           ],
           [
            0.6666666666666666,
            "#35b779"
           ],
           [
            0.7777777777777778,
            "#6ece58"
           ],
           [
            0.8888888888888888,
            "#b5de2b"
           ],
           [
            1,
            "#fde725"
           ]
          ],
          "showscale": false,
          "width": 4
         },
         "mode": "lines",
         "showlegend": false,
         "type": "scatter3d",
         "x": {
          "bdata": "AAAAALooDiy6KI4sFz3VLLooDi3osjEtFz1VLUbHeC26KI4t0e2fLeiysS0AeMMtFz3VLS4C5y1Gx/gtLkYFLrooDi5GCxcu0e0fLl3QKC7osjEudJU6LgB4Qy6LWkwuFz1VLqMfXi4uAmcuuuRvLkbHeC7p1IAuLkaFLnS3iS66KI4uAJqSLkYLly6LfJsu0e2fLhdfpC5d0Kguo0GtLuiysS4uJLYudJW6LroGvy4AeMMuRunHLotazC7Ry9AuFz3VLl2u2S6hH94u55DiLi0C5y5zc+suuOTvLv5V9C5Ex/guijj9LujUAC+LDQMvLkYFL9B+By90twkvFvALL7ooDi9cYRAv/5kSL6LSFC9FCxcv6EMZL4p8Gy8utR0v0O0fL3QmIi8WXyQvuZcmL1zQKC//CCsvokEtL0V6Ly/osjEvi+szLy4kNi/QXDgvdJU6LxbOPC+5Bj8vXD9BL/93Qy+isEUvRelHL+ghSi+LWkwvLpNOL9DLUC9zBFMvFj1VL7l1Vy9crlkv/+ZbLw==",
          "dtype": "f4"
         },
         "y": {
          "bdata": "o4uuQKOLrkCji65Ao4uuQKOLrkCji65Ao4uuQKOLrkCji65Ao4uuQKOLrkCji65Ao4uuQKOLrkCji65Ao4uuQKOLrkCji65Ao4uuQKOLrkCji65Ao4uuQKOLrkCji65Ao4uuQKOLrkCji65Ao4uuQKOLrkCji65Ao4uuQKOLrkCji65Ao4uuQKOLrkCji65Ao4uuQKOLrkCji65Ao4uuQKOLrkCji65Ao4uuQKOLrkCji65Ao4uuQKOLrkCji65Ao4uuQKOLrkCji65Ao4uuQKOLrkCji65Ao4uuQKOLrkCji65Ao4uuQKOLrkCji65Ao4uuQKOLrkCji65Ao4uuQKOLrkCji65Ao4uuQKOLrkCji65Ao4uuQKOLrkCji65Ao4uuQKOLrkCji65Ao4uuQKOLrkCji65Ao4uuQKOLrkCji65Ao4uuQKOLrkCji65Ao4uuQKOLrkCji65Ao4uuQKOLrkCji65Ao4uuQKOLrkCji65Ao4uuQKOLrkCji65Ao4uuQKOLrkCji65Ao4uuQA==",
          "dtype": "f4"
         },
         "z": {
          "bdata": "AAAAAFjCmVvOqhRdId75XWm3kV40GQtfx4BpX0EEs1+jXwBgreouYFHZZGAv25BgMnSyYIHc1mCmrv1gJkATYURwKGFELz5hxEVUYal8amFMUIBheECLYRX4lWHeY6BhmXGqYaIStGGLOb1hP93FYWH1zWE4fdVhtnDcYa/N4mEslOhhKcTtYZJf8mGTZ/ZhjN75YcnG/GFbIv9h4XkAYogeAWJXgAFiiaABYkWAAWIRIQFikoQAYltZ/2ESN/1hEaf6YQuv92HmbPRhU9/wYTfz7GHZsOhhrCDkYVdL32HVONphdvHUYXF8z2Eb4clhASbEYTVRvmGZaLhhPnGyYetvrGFZaaZhwWGgYQZdmmEvX5Rh7muOYaaGiGHfsoJhZeZ5YVGVbmHBdmNhoI5YYfjfTWFGbENhSzQ5YcA3L2FYdSVho+obYb+UEmHDbwlhIHcAYcFM72Dl8N1gt9DMYKDiu2BqHatgqXiaYADtiWDh53Jg+BBSYNVNMWDymRBgYejfX0+/nl8XlztfTkm0Xg==",
          "dtype": "f4"
         }
        },
        {
         "line": {
          "cmax": 607840919713266800000,
          "cmin": -595483677853483000,
          "color": {
           "bdata": "AAAAAEuau1t5rh9dnW8BXkfblF6bGQ1fLeVrXyNitF/UIAFgO7ovYJOzZWD/S5FgSueyYLRQ12AdI/5gJXoTYbmpKGHlZz5hNH1UYXOyamEOaoBhsliLYVEOlmGMd6BhE4KqYUQftGGoQb1hPeDFYcTyzWGsdNVhHGLcYSm54mEbeuhhTqXtYfI88mF6QvZhh7j5YZWh/GG9//5hwGoAYnESAWIIeAFimZwBYh2BAWLfJgFiR48AYgF4/2HnXf1hltT6YX/h92GlofRh5hPxYeAl7WH73+hh3UrkYYFv32FFVtph8AfVYSWMz2GZ6slhNCrEYV5RvmE7Zrhh5W2yYUNtrGH7aKZhHGWgYU5lmmFJbZRhXoCOYZWhiGEC1IJhwjN6YarrbmFk02NhWu5YYT4/TmFex0Nhh4c5YY9/L2GJriVheBIcYRmpEmEpbwlh5mAAYT317mAlcN1gFSrMYOYau2DIOqpgaIKZYGPriGDw33BgOhdQYLx1L2Dz9g5gVjLdX6G8nF9ENzlfUzKyXg==",
           "dtype": "f4"
          },
          "colorscale": [
           [
            0,
            "#440154"
           ],
           [
            0.1111111111111111,
            "#482878"
           ],
           [
            0.2222222222222222,
            "#3e4989"
           ],
           [
            0.3333333333333333,
            "#31688e"
           ],
           [
            0.4444444444444444,
            "#26828e"
           ],
           [
            0.5555555555555556,
            "#1f9e89"
           ],
           [
            0.6666666666666666,
            "#35b779"
           ],
           [
            0.7777777777777778,
            "#6ece58"
           ],
           [
            0.8888888888888888,
            "#b5de2b"
           ],
           [
            1,
            "#fde725"
           ]
          ],
          "showscale": false,
          "width": 4
         },
         "mode": "lines",
         "showlegend": false,
         "type": "scatter3d",
         "x": {
          "bdata": "AAAAALooDiy6KI4sFz3VLLooDi3osjEtFz1VLUbHeC26KI4t0e2fLeiysS0AeMMtFz3VLS4C5y1Gx/gtLkYFLrooDi5GCxcu0e0fLl3QKC7osjEudJU6LgB4Qy6LWkwuFz1VLqMfXi4uAmcuuuRvLkbHeC7p1IAuLkaFLnS3iS66KI4uAJqSLkYLly6LfJsu0e2fLhdfpC5d0Kguo0GtLuiysS4uJLYudJW6LroGvy4AeMMuRunHLotazC7Ry9AuFz3VLl2u2S6hH94u55DiLi0C5y5zc+suuOTvLv5V9C5Ex/guijj9LujUAC+LDQMvLkYFL9B+By90twkvFvALL7ooDi9cYRAv/5kSL6LSFC9FCxcv6EMZL4p8Gy8utR0v0O0fL3QmIi8WXyQvuZcmL1zQKC//CCsvokEtL0V6Ly/osjEvi+szLy4kNi/QXDgvdJU6LxbOPC+5Bj8vXD9BL/93Qy+isEUvRelHL+ghSi+LWkwvLpNOL9DLUC9zBFMvFj1VL7l1Vy9crlkv/+ZbLw==",
          "dtype": "f4"
         },
         "y": {
          "bdata": "lgK1QJYCtUCWArVAlgK1QJYCtUCWArVAlgK1QJYCtUCWArVAlgK1QJYCtUCWArVAlgK1QJYCtUCWArVAlgK1QJYCtUCWArVAlgK1QJYCtUCWArVAlgK1QJYCtUCWArVAlgK1QJYCtUCWArVAlgK1QJYCtUCWArVAlgK1QJYCtUCWArVAlgK1QJYCtUCWArVAlgK1QJYCtUCWArVAlgK1QJYCtUCWArVAlgK1QJYCtUCWArVAlgK1QJYCtUCWArVAlgK1QJYCtUCWArVAlgK1QJYCtUCWArVAlgK1QJYCtUCWArVAlgK1QJYCtUCWArVAlgK1QJYCtUCWArVAlgK1QJYCtUCWArVAlgK1QJYCtUCWArVAlgK1QJYCtUCWArVAlgK1QJYCtUCWArVAlgK1QJYCtUCWArVAlgK1QJYCtUCWArVAlgK1QJYCtUCWArVAlgK1QJYCtUCWArVAlgK1QJYCtUCWArVAlgK1QJYCtUCWArVAlgK1QJYCtUCWArVAlgK1QJYCtUCWArVAlgK1QA==",
          "dtype": "f4"
         },
         "z": {
          "bdata": "AAAAAEuau1t5rh9dnW8BXkfblF6bGQ1fLeVrXyNitF/UIAFgO7ovYJOzZWD/S5FgSueyYLRQ12AdI/5gJXoTYbmpKGHlZz5hNH1UYXOyamEOaoBhsliLYVEOlmGMd6BhE4KqYUQftGGoQb1hPeDFYcTyzWGsdNVhHGLcYSm54mEbeuhhTqXtYfI88mF6QvZhh7j5YZWh/GG9//5hwGoAYnESAWIIeAFimZwBYh2BAWLfJgFiR48AYgF4/2HnXf1hltT6YX/h92GlofRh5hPxYeAl7WH73+hh3UrkYYFv32FFVtph8AfVYSWMz2GZ6slhNCrEYV5RvmE7Zrhh5W2yYUNtrGH7aKZhHGWgYU5lmmFJbZRhXoCOYZWhiGEC1IJhwjN6YarrbmFk02NhWu5YYT4/TmFex0Nhh4c5YY9/L2GJriVheBIcYRmpEmEpbwlh5mAAYT317mAlcN1gFSrMYOYau2DIOqpgaIKZYGPriGDw33BgOhdQYLx1L2Dz9g5gVjLdX6G8nF9ENzlfUzKyXg==",
          "dtype": "f4"
         }
        },
        {
         "line": {
          "cmax": 607840919713266800000,
          "cmin": -595483677853483000,
          "color": {
           "bdata": "AAAAAMfG3VsgaCpdEckFXhvhl17YBQ9fjTBuXxuxtV9j2QFg+H8wYMiCZmCqtpFgnlOzYKO912Dbj/5gI7ATYTHfKGG4nD5hP7FUYYzlamH8goBhzHCLYUsllmEGjaBhnJWqYVwwtGHRT71h7+rFYZD5zWE/d9VhRGDcYeyy4mHFb+hhXJftYSAs8mHWL/ZhQqX5YRGP/GF77/5hg2QAYssOAWKmdwFi/p8BYqmIAWK+MgFieJ8AYoug/2G2jf1hcAr7Ycsb+GHZ3fRhkE/xYYxf7WE4FulhZ3zkYVeb32Gue9phkSbVYfajz2EF/Mlh3zXEYURYvmF2abhh026yYUJtrGF1aaZhX2egYYJqmmFedpRh942OYQm0iGFS64Jhbmt6YSErb2HPGGRhZDdZYUSJTmF9D0Rhwco5YQe7L2GC3yVhlTYcYVq+EmEgdAlhs1QAYRG67mALE91gNq3LYLqBumDhialgeL+YYAIdiGD1Om9gy3lOYE3wLWAvmg1g+OraX68Gm18xJjdfeEewXg==",
           "dtype": "f4"
          },
          "colorscale": [
           [
            0,
            "#440154"
           ],
           [
            0.1111111111111111,
            "#482878"
           ],
           [
            0.2222222222222222,
            "#3e4989"
           ],
           [
            0.3333333333333333,
            "#31688e"
           ],
           [
            0.4444444444444444,
            "#26828e"
           ],
           [
            0.5555555555555556,
            "#1f9e89"
           ],
           [
            0.6666666666666666,
            "#35b779"
           ],
           [
            0.7777777777777778,
            "#6ece58"
           ],
           [
            0.8888888888888888,
            "#b5de2b"
           ],
           [
            1,
            "#fde725"
           ]
          ],
          "showscale": false,
          "width": 4
         },
         "mode": "lines",
         "showlegend": false,
         "type": "scatter3d",
         "x": {
          "bdata": "AAAAALooDiy6KI4sFz3VLLooDi3osjEtFz1VLUbHeC26KI4t0e2fLeiysS0AeMMtFz3VLS4C5y1Gx/gtLkYFLrooDi5GCxcu0e0fLl3QKC7osjEudJU6LgB4Qy6LWkwuFz1VLqMfXi4uAmcuuuRvLkbHeC7p1IAuLkaFLnS3iS66KI4uAJqSLkYLly6LfJsu0e2fLhdfpC5d0Kguo0GtLuiysS4uJLYudJW6LroGvy4AeMMuRunHLotazC7Ry9AuFz3VLl2u2S6hH94u55DiLi0C5y5zc+suuOTvLv5V9C5Ex/guijj9LujUAC+LDQMvLkYFL9B+By90twkvFvALL7ooDi9cYRAv/5kSL6LSFC9FCxcv6EMZL4p8Gy8utR0v0O0fL3QmIi8WXyQvuZcmL1zQKC//CCsvokEtL0V6Ly/osjEvi+szLy4kNi/QXDgvdJU6LxbOPC+5Bj8vXD9BL/93Qy+isEUvRelHL+ghSi+LWkwvLpNOL9DLUC9zBFMvFj1VL7l1Vy9crlkv/+ZbLw==",
          "dtype": "f4"
         },
         "y": {
          "bdata": "iXm7QIl5u0CJebtAiXm7QIl5u0CJebtAiXm7QIl5u0CJebtAiXm7QIl5u0CJebtAiXm7QIl5u0CJebtAiXm7QIl5u0CJebtAiXm7QIl5u0CJebtAiXm7QIl5u0CJebtAiXm7QIl5u0CJebtAiXm7QIl5u0CJebtAiXm7QIl5u0CJebtAiXm7QIl5u0CJebtAiXm7QIl5u0CJebtAiXm7QIl5u0CJebtAiXm7QIl5u0CJebtAiXm7QIl5u0CJebtAiXm7QIl5u0CJebtAiXm7QIl5u0CJebtAiXm7QIl5u0CJebtAiXm7QIl5u0CJebtAiXm7QIl5u0CJebtAiXm7QIl5u0CJebtAiXm7QIl5u0CJebtAiXm7QIl5u0CJebtAiXm7QIl5u0CJebtAiXm7QIl5u0CJebtAiXm7QIl5u0CJebtAiXm7QIl5u0CJebtAiXm7QIl5u0CJebtAiXm7QIl5u0CJebtAiXm7QIl5u0CJebtAiXm7QIl5u0CJebtAiXm7QIl5u0CJebtAiXm7QA==",
          "dtype": "f4"
         },
         "z": {
          "bdata": "AAAAAMfG3VsgaCpdEckFXhvhl17YBQ9fjTBuXxuxtV9j2QFg+H8wYMiCZmCqtpFgnlOzYKO912Dbj/5gI7ATYTHfKGG4nD5hP7FUYYzlamH8goBhzHCLYUsllmEGjaBhnJWqYVwwtGHRT71h7+rFYZD5zWE/d9VhRGDcYeyy4mHFb+hhXJftYSAs8mHWL/ZhQqX5YRGP/GF77/5hg2QAYssOAWKmdwFi/p8BYqmIAWK+MgFieJ8AYoug/2G2jf1hcAr7Ycsb+GHZ3fRhkE/xYYxf7WE4FulhZ3zkYVeb32Gue9phkSbVYfajz2EF/Mlh3zXEYURYvmF2abhh026yYUJtrGF1aaZhX2egYYJqmmFedpRh942OYQm0iGFS64Jhbmt6YSErb2HPGGRhZDdZYUSJTmF9D0Rhwco5YQe7L2GC3yVhlTYcYVq+EmEgdAlhs1QAYRG67mALE91gNq3LYLqBumDhialgeL+YYAIdiGD1Om9gy3lOYE3wLWAvmg1g+OraX68Gm18xJjdfeEewXg==",
          "dtype": "f4"
         }
        },
        {
         "line": {
          "cmax": 607840919713266800000,
          "cmin": -595483677853483000,
          "color": {
           "bdata": "AAAAAN0YAFxEzjRdo/cJXpDGml6F3BBfiWFwX5Lwtl8OiQJgnjsxYLRGZ2AQG5JgB7mzYPoi2GBj9P5g0eETYTEQKWERzT5hBeFUYccUa2FVmoBh1YeLYeQ7lmEEo6BhuKqqYUBEtGEgYr1hSPvFYZkHzmGrgtVh5mjcYbK44mHScuhh/ZftYeYq8mGBLfZhuaL5YW2N/GHu7/5hZmYAYvMSAWKafgFiMaoBYm2WAWI/RAFis7QAYg/S/2GIxf1hgUf7Ybdc+GEWIPVh3JDxYZue7WHVUelhcrPkYdXM32H0ptphLkvVYdrBz2FUE8phE0fEYRBkvmHJcLhhwXKyYf9urGExaqZhTWigYbdsmmHOepRhWpWOYdy+iGHN+YJhno96YeVVb2EESWRhgWtZYVy/TmFmRURhOf45YbDpL2ElByZhIFUcYQ3SEmGYewlh/k4AYWGT7mA90dxgh1HLYHUOumBaAqlg/CeYYLJ6h2BX7G1gAy5NYPW0LGBIfQxgBwrZX3qZmV8KZDVfT5OuXg==",
           "dtype": "f4"
          },
          "colorscale": [
           [
            0,
            "#440154"
           ],
           [
            0.1111111111111111,
            "#482878"
           ],
           [
            0.2222222222222222,
            "#3e4989"
           ],
           [
            0.3333333333333333,
            "#31688e"
           ],
           [
            0.4444444444444444,
            "#26828e"
           ],
           [
            0.5555555555555556,
            "#1f9e89"
           ],
           [
            0.6666666666666666,
            "#35b779"
           ],
           [
            0.7777777777777778,
            "#6ece58"
           ],
           [
            0.8888888888888888,
            "#b5de2b"
           ],
           [
            1,
            "#fde725"
           ]
          ],
          "showscale": false,
          "width": 4
         },
         "mode": "lines",
         "showlegend": false,
         "type": "scatter3d",
         "x": {
          "bdata": "AAAAALooDiy6KI4sFz3VLLooDi3osjEtFz1VLUbHeC26KI4t0e2fLeiysS0AeMMtFz3VLS4C5y1Gx/gtLkYFLrooDi5GCxcu0e0fLl3QKC7osjEudJU6LgB4Qy6LWkwuFz1VLqMfXi4uAmcuuuRvLkbHeC7p1IAuLkaFLnS3iS66KI4uAJqSLkYLly6LfJsu0e2fLhdfpC5d0Kguo0GtLuiysS4uJLYudJW6LroGvy4AeMMuRunHLotazC7Ry9AuFz3VLl2u2S6hH94u55DiLi0C5y5zc+suuOTvLv5V9C5Ex/guijj9LujUAC+LDQMvLkYFL9B+By90twkvFvALL7ooDi9cYRAv/5kSL6LSFC9FCxcv6EMZL4p8Gy8utR0v0O0fL3QmIi8WXyQvuZcmL1zQKC//CCsvokEtL0V6Ly/osjEvi+szLy4kNi/QXDgvdJU6LxbOPC+5Bj8vXD9BL/93Qy+isEUvRelHL+ghSi+LWkwvLpNOL9DLUC9zBFMvFj1VL7l1Vy9crlkv/+ZbLw==",
          "dtype": "f4"
         },
         "y": {
          "bdata": "fPDBQHzwwUB88MFAfPDBQHzwwUB88MFAfPDBQHzwwUB88MFAfPDBQHzwwUB88MFAfPDBQHzwwUB88MFAfPDBQHzwwUB88MFAfPDBQHzwwUB88MFAfPDBQHzwwUB88MFAfPDBQHzwwUB88MFAfPDBQHzwwUB88MFAfPDBQHzwwUB88MFAfPDBQHzwwUB88MFAfPDBQHzwwUB88MFAfPDBQHzwwUB88MFAfPDBQHzwwUB88MFAfPDBQHzwwUB88MFAfPDBQHzwwUB88MFAfPDBQHzwwUB88MFAfPDBQHzwwUB88MFAfPDBQHzwwUB88MFAfPDBQHzwwUB88MFAfPDBQHzwwUB88MFAfPDBQHzwwUB88MFAfPDBQHzwwUB88MFAfPDBQHzwwUB88MFAfPDBQHzwwUB88MFAfPDBQHzwwUB88MFAfPDBQHzwwUB88MFAfPDBQHzwwUB88MFAfPDBQHzwwUB88MFAfPDBQHzwwUB88MFAfPDBQHzwwUB88MFAfPDBQHzwwUB88MFAfPDBQA==",
          "dtype": "f4"
         },
         "z": {
          "bdata": "AAAAAN0YAFxEzjRdo/cJXpDGml6F3BBfiWFwX5Lwtl8OiQJgnjsxYLRGZ2AQG5JgB7mzYPoi2GBj9P5g0eETYTEQKWERzT5hBeFUYccUa2FVmoBh1YeLYeQ7lmEEo6BhuKqqYUBEtGEgYr1hSPvFYZkHzmGrgtVh5mjcYbK44mHScuhh/ZftYeYq8mGBLfZhuaL5YW2N/GHu7/5hZmYAYvMSAWKafgFiMaoBYm2WAWI/RAFis7QAYg/S/2GIxf1hgUf7Ybdc+GEWIPVh3JDxYZue7WHVUelhcrPkYdXM32H0ptphLkvVYdrBz2FUE8phE0fEYRBkvmHJcLhhwXKyYf9urGExaqZhTWigYbdsmmHOepRhWpWOYdy+iGHN+YJhno96YeVVb2EESWRhgWtZYVy/TmFmRURhOf45YbDpL2ElByZhIFUcYQ3SEmGYewlh/k4AYWGT7mA90dxgh1HLYHUOumBaAqlg/CeYYLJ6h2BX7G1gAy5NYPW0LGBIfQxgBwrZX3qZmV8KZDVfT5OuXg==",
          "dtype": "f4"
         }
        },
        {
         "line": {
          "cmax": 607840919713266800000,
          "cmin": -595483677853483000,
          "color": {
           "bdata": "AAAAAKRkEVwe3D5dsvkNXr+KnV5ZnRJf5HdyX4IguF/bLwNgTe0xYHf/Z2A6eZJggxe0YK2A2GCQUP9g8w4UYWA8KWFo+D5hwQtVYSg/a2F4r4Bh/ZyLYSBRlmFLuKBh+b+qYVJZtGHJdr1hUA/GYbUazmGblNVhf3ncYd3H4mGZgOhhj6TtYZs28mHiOPZhda75YVWa/GHr/v5haG8AYvQdAWIGjAFiaLoBYqypAWKsWgFiSc4AYpwFAGIEBP5hYIr7YcOi+GHXZvVhHdbxYVrh7WEAkelhA+7kYfcB4GH41dphsnPVYZrjz2FvLsph2lvEYQZzvmGqerhha3iyYXpxrGGNaqZhm2egYf9rmmH7epRhM5eOYfTCiGGJAINhq6J6YWRub2FpZmRh1YxZYVTjTmF4akRhoyI6YasLMGHcJCZh32wcYUriEmEMgwlhsEwAYSB67mD9otxg0Q7LYLO4uWDfm6hg5LOXYOT8hmBs5mxg8SdMYMi5K2B+mAtgjYTXX7xumF937TNfxRutXg==",
           "dtype": "f4"
          },
          "colorscale": [
           [
            0,
            "#440154"
           ],
           [
            0.1111111111111111,
            "#482878"
           ],
           [
            0.2222222222222222,
            "#3e4989"
           ],
           [
            0.3333333333333333,
            "#31688e"
           ],
           [
            0.4444444444444444,
            "#26828e"
           ],
           [
            0.5555555555555556,
            "#1f9e89"
           ],
           [
            0.6666666666666666,
            "#35b779"
           ],
           [
            0.7777777777777778,
            "#6ece58"
           ],
           [
            0.8888888888888888,
            "#b5de2b"
           ],
           [
            1,
            "#fde725"
           ]
          ],
          "showscale": false,
          "width": 4
         },
         "mode": "lines",
         "showlegend": false,
         "type": "scatter3d",
         "x": {
          "bdata": "AAAAALooDiy6KI4sFz3VLLooDi3osjEtFz1VLUbHeC26KI4t0e2fLeiysS0AeMMtFz3VLS4C5y1Gx/gtLkYFLrooDi5GCxcu0e0fLl3QKC7osjEudJU6LgB4Qy6LWkwuFz1VLqMfXi4uAmcuuuRvLkbHeC7p1IAuLkaFLnS3iS66KI4uAJqSLkYLly6LfJsu0e2fLhdfpC5d0Kguo0GtLuiysS4uJLYudJW6LroGvy4AeMMuRunHLotazC7Ry9AuFz3VLl2u2S6hH94u55DiLi0C5y5zc+suuOTvLv5V9C5Ex/guijj9LujUAC+LDQMvLkYFL9B+By90twkvFvALL7ooDi9cYRAv/5kSL6LSFC9FCxcv6EMZL4p8Gy8utR0v0O0fL3QmIi8WXyQvuZcmL1zQKC//CCsvokEtL0V6Ly/osjEvi+szLy4kNi/QXDgvdJU6LxbOPC+5Bj8vXD9BL/93Qy+isEUvRelHL+ghSi+LWkwvLpNOL9DLUC9zBFMvFj1VL7l1Vy9crlkv/+ZbLw==",
          "dtype": "f4"
         },
         "y": {
          "bdata": "cGfIQHBnyEBwZ8hAcGfIQHBnyEBwZ8hAcGfIQHBnyEBwZ8hAcGfIQHBnyEBwZ8hAcGfIQHBnyEBwZ8hAcGfIQHBnyEBwZ8hAcGfIQHBnyEBwZ8hAcGfIQHBnyEBwZ8hAcGfIQHBnyEBwZ8hAcGfIQHBnyEBwZ8hAcGfIQHBnyEBwZ8hAcGfIQHBnyEBwZ8hAcGfIQHBnyEBwZ8hAcGfIQHBnyEBwZ8hAcGfIQHBnyEBwZ8hAcGfIQHBnyEBwZ8hAcGfIQHBnyEBwZ8hAcGfIQHBnyEBwZ8hAcGfIQHBnyEBwZ8hAcGfIQHBnyEBwZ8hAcGfIQHBnyEBwZ8hAcGfIQHBnyEBwZ8hAcGfIQHBnyEBwZ8hAcGfIQHBnyEBwZ8hAcGfIQHBnyEBwZ8hAcGfIQHBnyEBwZ8hAcGfIQHBnyEBwZ8hAcGfIQHBnyEBwZ8hAcGfIQHBnyEBwZ8hAcGfIQHBnyEBwZ8hAcGfIQHBnyEBwZ8hAcGfIQHBnyEBwZ8hAcGfIQHBnyEBwZ8hAcGfIQA==",
          "dtype": "f4"
         },
         "z": {
          "bdata": "AAAAAKRkEVwe3D5dsvkNXr+KnV5ZnRJf5HdyX4IguF/bLwNgTe0xYHf/Z2A6eZJggxe0YK2A2GCQUP9g8w4UYWA8KWFo+D5hwQtVYSg/a2F4r4Bh/ZyLYSBRlmFLuKBh+b+qYVJZtGHJdr1hUA/GYbUazmGblNVhf3ncYd3H4mGZgOhhj6TtYZs28mHiOPZhda75YVWa/GHr/v5haG8AYvQdAWIGjAFiaLoBYqypAWKsWgFiSc4AYpwFAGIEBP5hYIr7YcOi+GHXZvVhHdbxYVrh7WEAkelhA+7kYfcB4GH41dphsnPVYZrjz2FvLsph2lvEYQZzvmGqerhha3iyYXpxrGGNaqZhm2egYf9rmmH7epRhM5eOYfTCiGGJAINhq6J6YWRub2FpZmRh1YxZYVTjTmF4akRhoyI6YasLMGHcJCZh32wcYUriEmEMgwlhsEwAYSB67mD9otxg0Q7LYLO4uWDfm6hg5LOXYOT8hmBs5mxg8SdMYMi5K2B+mAtgjYTXX7xumF937TNfxRutXg==",
          "dtype": "f4"
         }
        },
        {
         "line": {
          "cmax": 607840919713266800000,
          "cmin": -595483677853483000,
          "color": {
           "bdata": "AAAAALO/IlwCkUhdb88RXhMuoF6+SBRfWnR0X21BuV8czgNgaZUyYIOtaGBm0ZJgTm+0YOfW2GBxpP9giTcUYZpjKWGDHj9hAjFVYfdja2HhwYBhoK+LYSpklmHgy6BhKNSqYSButGEojL1hFyXGYcYwzmHSqtVhrI/cYerd4mF+luhhYrrtYZZM8mFPT/Zh0MX5YTaz/GH2Gf9hXn4AYrYuAWLongFisc8BYo3BAWI5dQFieOsAYkYlAGK0R/5hk9H7YWfs+GGJsPVhyB3yYSQm7mH20elhUSrlYdQ44GHNBtthC57VYU4H0GFsS8phXXLEYXiDvmGihbhhqX6yYdRzrGH2aaZhD2WgYWxommFId5RhKZSOYUDBiGGiAINhFKd6YT53b2GOc2RhxZ1ZYUP3TmFagERhNjk6YY8hMGGiOCZhIX0cYbftEmF+iAlhRUsAYTto7mBugdxgpd3KYK94uWCHTqhgcVuXYDCchmB3G2xgYVtLYFP0KmBq4wpgIE7WX7N+l1+ovDJfw+KrXg==",
           "dtype": "f4"
          },
          "colorscale": [
           [
            0,
            "#440154"
           ],
           [
            0.1111111111111111,
            "#482878"
           ],
           [
            0.2222222222222222,
            "#3e4989"
           ],
           [
            0.3333333333333333,
            "#31688e"
           ],
           [
            0.4444444444444444,
            "#26828e"
           ],
           [
            0.5555555555555556,
            "#1f9e89"
           ],
           [
            0.6666666666666666,
            "#35b779"
           ],
           [
            0.7777777777777778,
            "#6ece58"
           ],
           [
            0.8888888888888888,
            "#b5de2b"
           ],
           [
            1,
            "#fde725"
           ]
          ],
          "showscale": false,
          "width": 4
         },
         "mode": "lines",
         "showlegend": false,
         "type": "scatter3d",
         "x": {
          "bdata": "AAAAALooDiy6KI4sFz3VLLooDi3osjEtFz1VLUbHeC26KI4t0e2fLeiysS0AeMMtFz3VLS4C5y1Gx/gtLkYFLrooDi5GCxcu0e0fLl3QKC7osjEudJU6LgB4Qy6LWkwuFz1VLqMfXi4uAmcuuuRvLkbHeC7p1IAuLkaFLnS3iS66KI4uAJqSLkYLly6LfJsu0e2fLhdfpC5d0Kguo0GtLuiysS4uJLYudJW6LroGvy4AeMMuRunHLotazC7Ry9AuFz3VLl2u2S6hH94u55DiLi0C5y5zc+suuOTvLv5V9C5Ex/guijj9LujUAC+LDQMvLkYFL9B+By90twkvFvALL7ooDi9cYRAv/5kSL6LSFC9FCxcv6EMZL4p8Gy8utR0v0O0fL3QmIi8WXyQvuZcmL1zQKC//CCsvokEtL0V6Ly/osjEvi+szLy4kNi/QXDgvdJU6LxbOPC+5Bj8vXD9BL/93Qy+isEUvRelHL+ghSi+LWkwvLpNOL9DLUC9zBFMvFj1VL7l1Vy9crlkv/+ZbLw==",
          "dtype": "f4"
         },
         "y": {
          "bdata": "Yt7OQGLezkBi3s5AYt7OQGLezkBi3s5AYt7OQGLezkBi3s5AYt7OQGLezkBi3s5AYt7OQGLezkBi3s5AYt7OQGLezkBi3s5AYt7OQGLezkBi3s5AYt7OQGLezkBi3s5AYt7OQGLezkBi3s5AYt7OQGLezkBi3s5AYt7OQGLezkBi3s5AYt7OQGLezkBi3s5AYt7OQGLezkBi3s5AYt7OQGLezkBi3s5AYt7OQGLezkBi3s5AYt7OQGLezkBi3s5AYt7OQGLezkBi3s5AYt7OQGLezkBi3s5AYt7OQGLezkBi3s5AYt7OQGLezkBi3s5AYt7OQGLezkBi3s5AYt7OQGLezkBi3s5AYt7OQGLezkBi3s5AYt7OQGLezkBi3s5AYt7OQGLezkBi3s5AYt7OQGLezkBi3s5AYt7OQGLezkBi3s5AYt7OQGLezkBi3s5AYt7OQGLezkBi3s5AYt7OQGLezkBi3s5AYt7OQGLezkBi3s5AYt7OQGLezkBi3s5AYt7OQGLezkBi3s5AYt7OQA==",
          "dtype": "f4"
         },
         "z": {
          "bdata": "AAAAALO/IlwCkUhdb88RXhMuoF6+SBRfWnR0X21BuV8czgNgaZUyYIOtaGBm0ZJgTm+0YOfW2GBxpP9giTcUYZpjKWGDHj9hAjFVYfdja2HhwYBhoK+LYSpklmHgy6BhKNSqYSButGEojL1hFyXGYcYwzmHSqtVhrI/cYerd4mF+luhhYrrtYZZM8mFPT/Zh0MX5YTaz/GH2Gf9hXn4AYrYuAWLongFisc8BYo3BAWI5dQFieOsAYkYlAGK0R/5hk9H7YWfs+GGJsPVhyB3yYSQm7mH20elhUSrlYdQ44GHNBtthC57VYU4H0GFsS8phXXLEYXiDvmGihbhhqX6yYdRzrGH2aaZhD2WgYWxommFId5RhKZSOYUDBiGGiAINhFKd6YT53b2GOc2RhxZ1ZYUP3TmFagERhNjk6YY8hMGGiOCZhIX0cYbftEmF+iAlhRUsAYTto7mBugdxgpd3KYK94uWCHTqhgcVuXYDCchmB3G2xgYVtLYFP0KmBq4wpgIE7WX7N+l1+ovDJfw+KrXg==",
          "dtype": "f4"
         }
        },
        {
         "line": {
          "cmax": 607840919713266800000,
          "cmin": -595483677853483000,
          "color": {
           "bdata": "AAAAAHQkNFwy71FdfHoVXvuxol653xVfSVh2XypUul9gZARgkDQzYIxRaWD2I5NgxsC0YP8l2WBS8P9gp1sUYeuFKWE2Pz9hf1BVYcqCa2E80YBhQL+LYV50lmHr3KBhQeaqYXCBtGHDoL1hBTvGYflHzmExw9VhJ6ncYW344mH1sehh2NbtYRhq8mEabvZhJub5YW3V/GGOPv9hF5IAYhlEAWIttgFiCukBYhbdAWIBkwFibgsBYj1HAGIVj/5hoRv8YSc4+WGy+/VhWmbyYWNr7mElE+phq2blYbRv4GGjN9thdsjVYRkr0GGZaMphB4nEYfaTvmFqkLhhY4SyYT91rGHpZ6ZhbWCgYRhimmEccJRh7oyOYZy6iGEp+4JhP596Yfxyb2EHc2Rh1qBZYXT9TmEBiURhdkM6YVgsMGHdQiZhq4UcYX/zEmGHiglhuUgAYb5Y7mDCZtxgjbfKYIFHuWAyE6hgeBeXYKZRhmBkfmtgbLxKYDpaKmB6VQpgvFnVX9nAll8FyjFf8eaqXg==",
           "dtype": "f4"
          },
          "colorscale": [
           [
            0,
            "#440154"
           ],
           [
            0.1111111111111111,
            "#482878"
           ],
           [
            0.2222222222222222,
            "#3e4989"
           ],
           [
            0.3333333333333333,
            "#31688e"
           ],
           [
            0.4444444444444444,
            "#26828e"
           ],
           [
            0.5555555555555556,
            "#1f9e89"
           ],
           [
            0.6666666666666666,
            "#35b779"
           ],
           [
            0.7777777777777778,
            "#6ece58"
           ],
           [
            0.8888888888888888,
            "#b5de2b"
           ],
           [
            1,
            "#fde725"
           ]
          ],
          "showscale": false,
          "width": 4
         },
         "mode": "lines",
         "showlegend": false,
         "type": "scatter3d",
         "x": {
          "bdata": "AAAAALooDiy6KI4sFz3VLLooDi3osjEtFz1VLUbHeC26KI4t0e2fLeiysS0AeMMtFz3VLS4C5y1Gx/gtLkYFLrooDi5GCxcu0e0fLl3QKC7osjEudJU6LgB4Qy6LWkwuFz1VLqMfXi4uAmcuuuRvLkbHeC7p1IAuLkaFLnS3iS66KI4uAJqSLkYLly6LfJsu0e2fLhdfpC5d0Kguo0GtLuiysS4uJLYudJW6LroGvy4AeMMuRunHLotazC7Ry9AuFz3VLl2u2S6hH94u55DiLi0C5y5zc+suuOTvLv5V9C5Ex/guijj9LujUAC+LDQMvLkYFL9B+By90twkvFvALL7ooDi9cYRAv/5kSL6LSFC9FCxcv6EMZL4p8Gy8utR0v0O0fL3QmIi8WXyQvuZcmL1zQKC//CCsvokEtL0V6Ly/osjEvi+szLy4kNi/QXDgvdJU6LxbOPC+5Bj8vXD9BL/93Qy+isEUvRelHL+ghSi+LWkwvLpNOL9DLUC9zBFMvFj1VL7l1Vy9crlkv/+ZbLw==",
          "dtype": "f4"
         },
         "y": {
          "bdata": "VlXVQFZV1UBWVdVAVlXVQFZV1UBWVdVAVlXVQFZV1UBWVdVAVlXVQFZV1UBWVdVAVlXVQFZV1UBWVdVAVlXVQFZV1UBWVdVAVlXVQFZV1UBWVdVAVlXVQFZV1UBWVdVAVlXVQFZV1UBWVdVAVlXVQFZV1UBWVdVAVlXVQFZV1UBWVdVAVlXVQFZV1UBWVdVAVlXVQFZV1UBWVdVAVlXVQFZV1UBWVdVAVlXVQFZV1UBWVdVAVlXVQFZV1UBWVdVAVlXVQFZV1UBWVdVAVlXVQFZV1UBWVdVAVlXVQFZV1UBWVdVAVlXVQFZV1UBWVdVAVlXVQFZV1UBWVdVAVlXVQFZV1UBWVdVAVlXVQFZV1UBWVdVAVlXVQFZV1UBWVdVAVlXVQFZV1UBWVdVAVlXVQFZV1UBWVdVAVlXVQFZV1UBWVdVAVlXVQFZV1UBWVdVAVlXVQFZV1UBWVdVAVlXVQFZV1UBWVdVAVlXVQFZV1UBWVdVAVlXVQFZV1UBWVdVAVlXVQFZV1UBWVdVAVlXVQA==",
          "dtype": "f4"
         },
         "z": {
          "bdata": "AAAAAHQkNFwy71FdfHoVXvuxol653xVfSVh2XypUul9gZARgkDQzYIxRaWD2I5NgxsC0YP8l2WBS8P9gp1sUYeuFKWE2Pz9hf1BVYcqCa2E80YBhQL+LYV50lmHr3KBhQeaqYXCBtGHDoL1hBTvGYflHzmExw9VhJ6ncYW344mH1sehh2NbtYRhq8mEabvZhJub5YW3V/GGOPv9hF5IAYhlEAWIttgFiCukBYhbdAWIBkwFibgsBYj1HAGIVj/5hoRv8YSc4+WGy+/VhWmbyYWNr7mElE+phq2blYbRv4GGjN9thdsjVYRkr0GGZaMphB4nEYfaTvmFqkLhhY4SyYT91rGHpZ6ZhbWCgYRhimmEccJRh7oyOYZy6iGEp+4JhP596Yfxyb2EHc2Rh1qBZYXT9TmEBiURhdkM6YVgsMGHdQiZhq4UcYX/zEmGHiglhuUgAYb5Y7mDCZtxgjbfKYIFHuWAyE6hgeBeXYKZRhmBkfmtgbLxKYDpaKmB6VQpgvFnVX9nAll8FyjFf8eaqXg==",
          "dtype": "f4"
         }
        },
        {
         "line": {
          "cmax": 607840919713266800000,
          "cmin": -595483677853483000,
          "color": {
           "bdata": "AAAAAFKORVx0+1pddP0YXp4YpV7NYxdfqSV4X/pZu19X8wRgjcszYHvsaWBtcZNgewy1YI5u2WBdGgBhh3sUYXejKWGkWj9hQWpVYW+ba2Ff3YBhlMuLYVCBlmHY6qBhhvWqYVGStGF5s71hvU/GYbtezmEN3NVhDsTcYUwV42HF0Ohhk/ftYceM8mG/kvZh9Qz6YZL+/GFLav9haKkAYgBdAWLN0AFiewUCYmz7AWIxswFiZC0BYsZqAGLB2P5hKGf8Ya6E+WH7RvZhha7yYdav7mE4U+phvaHlYTWl4GEbZ9thkvHVYaJN0GGKhMphg57EYUSjvmH+mbhhyIiyYSN1rGEOZKZhm1mgYStZmmHgZZRhJYKOYfCviGEr8YJhh416YSNkb2FmZ2RhfZhZYTb4TmF0hkRh/0I6YTgtMGFBRCZhsoYcYUTzEmE7iAlho0MAYdJH7mBLTtxgLpfKYEofuWCv46dgq+GWYAcXhmBUA2tgDUBKYLnhKWCB5glgpJrUX3wsll8CDTFfcySqXg==",
           "dtype": "f4"
          },
          "colorscale": [
           [
            0,
            "#440154"
           ],
           [
            0.1111111111111111,
            "#482878"
           ],
           [
            0.2222222222222222,
            "#3e4989"
           ],
           [
            0.3333333333333333,
            "#31688e"
           ],
           [
            0.4444444444444444,
            "#26828e"
           ],
           [
            0.5555555555555556,
            "#1f9e89"
           ],
           [
            0.6666666666666666,
            "#35b779"
           ],
           [
            0.7777777777777778,
            "#6ece58"
           ],
           [
            0.8888888888888888,
            "#b5de2b"
           ],
           [
            1,
            "#fde725"
           ]
          ],
          "showscale": false,
          "width": 4
         },
         "mode": "lines",
         "showlegend": false,
         "type": "scatter3d",
         "x": {
          "bdata": "AAAAALooDiy6KI4sFz3VLLooDi3osjEtFz1VLUbHeC26KI4t0e2fLeiysS0AeMMtFz3VLS4C5y1Gx/gtLkYFLrooDi5GCxcu0e0fLl3QKC7osjEudJU6LgB4Qy6LWkwuFz1VLqMfXi4uAmcuuuRvLkbHeC7p1IAuLkaFLnS3iS66KI4uAJqSLkYLly6LfJsu0e2fLhdfpC5d0Kguo0GtLuiysS4uJLYudJW6LroGvy4AeMMuRunHLotazC7Ry9AuFz3VLl2u2S6hH94u55DiLi0C5y5zc+suuOTvLv5V9C5Ex/guijj9LujUAC+LDQMvLkYFL9B+By90twkvFvALL7ooDi9cYRAv/5kSL6LSFC9FCxcv6EMZL4p8Gy8utR0v0O0fL3QmIi8WXyQvuZcmL1zQKC//CCsvokEtL0V6Ly/osjEvi+szLy4kNi/QXDgvdJU6LxbOPC+5Bj8vXD9BL/93Qy+isEUvRelHL+ghSi+LWkwvLpNOL9DLUC9zBFMvFj1VL7l1Vy9crlkv/+ZbLw==",
          "dtype": "f4"
         },
         "y": {
          "bdata": "SMzbQEjM20BIzNtASMzbQEjM20BIzNtASMzbQEjM20BIzNtASMzbQEjM20BIzNtASMzbQEjM20BIzNtASMzbQEjM20BIzNtASMzbQEjM20BIzNtASMzbQEjM20BIzNtASMzbQEjM20BIzNtASMzbQEjM20BIzNtASMzbQEjM20BIzNtASMzbQEjM20BIzNtASMzbQEjM20BIzNtASMzbQEjM20BIzNtASMzbQEjM20BIzNtASMzbQEjM20BIzNtASMzbQEjM20BIzNtASMzbQEjM20BIzNtASMzbQEjM20BIzNtASMzbQEjM20BIzNtASMzbQEjM20BIzNtASMzbQEjM20BIzNtASMzbQEjM20BIzNtASMzbQEjM20BIzNtASMzbQEjM20BIzNtASMzbQEjM20BIzNtASMzbQEjM20BIzNtASMzbQEjM20BIzNtASMzbQEjM20BIzNtASMzbQEjM20BIzNtASMzbQEjM20BIzNtASMzbQEjM20BIzNtASMzbQEjM20BIzNtASMzbQA==",
          "dtype": "f4"
         },
         "z": {
          "bdata": "AAAAAFKORVx0+1pddP0YXp4YpV7NYxdfqSV4X/pZu19X8wRgjcszYHvsaWBtcZNgewy1YI5u2WBdGgBhh3sUYXejKWGkWj9hQWpVYW+ba2Ff3YBhlMuLYVCBlmHY6qBhhvWqYVGStGF5s71hvU/GYbtezmEN3NVhDsTcYUwV42HF0Ohhk/ftYceM8mG/kvZh9Qz6YZL+/GFLav9haKkAYgBdAWLN0AFiewUCYmz7AWIxswFiZC0BYsZqAGLB2P5hKGf8Ya6E+WH7RvZhha7yYdav7mE4U+phvaHlYTWl4GEbZ9thkvHVYaJN0GGKhMphg57EYUSjvmH+mbhhyIiyYSN1rGEOZKZhm1mgYStZmmHgZZRhJYKOYfCviGEr8YJhh416YSNkb2FmZ2RhfZhZYTb4TmF0hkRh/0I6YTgtMGFBRCZhsoYcYUTzEmE7iAlho0MAYdJH7mBLTtxgLpfKYEofuWCv46dgq+GWYAcXhmBUA2tgDUBKYLnhKWCB5glgpJrUX3wsll8CDTFfcySqXg==",
          "dtype": "f4"
         }
        },
        {
         "line": {
          "cmax": 607840919713266800000,
          "cmin": -595483677853483000,
          "color": {
           "bdata": "AAAAABT6VlwTvGNdslscXpJkp17Q1hhftN55XzFUvF/NewVgVVs0YFN/amBRupNgBlO1YCyx2WAuOQBhiJcUYZS8KWEWcT9hcX5VYQGua2FE5oBhhtSLYcSKlmFS9aBhdgGrYSGgtGF/w71hNWLGYeBzzmHz89Vhw97cYdUy42EV8ehhlBruYXyy8mEju/ZhAzj6YW0s/WEEm/9hPcMAYmd4AWLQ7QFiISQCYq8bAmIA1QFimlABYjWPAGJ3I/9hBLP8YdnQ+WFRkfZhRPXyYXHy7mEpkephdNrlYTvY4GETlNthNBjWYcZt0GExnsph1rHEYYGwvmGPobhhM4uyYQZzrGEdXqZhmFCgYdZNmmH6WJRhZnSOYQeiiGGh44JhEnR6YQZNb2EHU2RhFIdZYcHpTmGzekRhjTk6YZYlMGHFPSZhroAcYQrtEmEbgQlhBzsAYaUy7mB3NNxgS3jKYEv7uGDbuqdgs7SWYPrmhWDJn2pgddxJYP6BKWDrjglg1ATUXzK5lV+6fDBfrZWpXg==",
           "dtype": "f4"
          },
          "colorscale": [
           [
            0,
            "#440154"
           ],
           [
            0.1111111111111111,
            "#482878"
           ],
           [
            0.2222222222222222,
            "#3e4989"
           ],
           [
            0.3333333333333333,
            "#31688e"
           ],
           [
            0.4444444444444444,
            "#26828e"
           ],
           [
            0.5555555555555556,
            "#1f9e89"
           ],
           [
            0.6666666666666666,
            "#35b779"
           ],
           [
            0.7777777777777778,
            "#6ece58"
           ],
           [
            0.8888888888888888,
            "#b5de2b"
           ],
           [
            1,
            "#fde725"
           ]
          ],
          "showscale": false,
          "width": 4
         },
         "mode": "lines",
         "showlegend": false,
         "type": "scatter3d",
         "x": {
          "bdata": "AAAAALooDiy6KI4sFz3VLLooDi3osjEtFz1VLUbHeC26KI4t0e2fLeiysS0AeMMtFz3VLS4C5y1Gx/gtLkYFLrooDi5GCxcu0e0fLl3QKC7osjEudJU6LgB4Qy6LWkwuFz1VLqMfXi4uAmcuuuRvLkbHeC7p1IAuLkaFLnS3iS66KI4uAJqSLkYLly6LfJsu0e2fLhdfpC5d0Kguo0GtLuiysS4uJLYudJW6LroGvy4AeMMuRunHLotazC7Ry9AuFz3VLl2u2S6hH94u55DiLi0C5y5zc+suuOTvLv5V9C5Ex/guijj9LujUAC+LDQMvLkYFL9B+By90twkvFvALL7ooDi9cYRAv/5kSL6LSFC9FCxcv6EMZL4p8Gy8utR0v0O0fL3QmIi8WXyQvuZcmL1zQKC//CCsvokEtL0V6Ly/osjEvi+szLy4kNi/QXDgvdJU6LxbOPC+5Bj8vXD9BL/93Qy+isEUvRelHL+ghSi+LWkwvLpNOL9DLUC9zBFMvFj1VL7l1Vy9crlkv/+ZbLw==",
          "dtype": "f4"
         },
         "y": {
          "bdata": "PEPiQDxD4kA8Q+JAPEPiQDxD4kA8Q+JAPEPiQDxD4kA8Q+JAPEPiQDxD4kA8Q+JAPEPiQDxD4kA8Q+JAPEPiQDxD4kA8Q+JAPEPiQDxD4kA8Q+JAPEPiQDxD4kA8Q+JAPEPiQDxD4kA8Q+JAPEPiQDxD4kA8Q+JAPEPiQDxD4kA8Q+JAPEPiQDxD4kA8Q+JAPEPiQDxD4kA8Q+JAPEPiQDxD4kA8Q+JAPEPiQDxD4kA8Q+JAPEPiQDxD4kA8Q+JAPEPiQDxD4kA8Q+JAPEPiQDxD4kA8Q+JAPEPiQDxD4kA8Q+JAPEPiQDxD4kA8Q+JAPEPiQDxD4kA8Q+JAPEPiQDxD4kA8Q+JAPEPiQDxD4kA8Q+JAPEPiQDxD4kA8Q+JAPEPiQDxD4kA8Q+JAPEPiQDxD4kA8Q+JAPEPiQDxD4kA8Q+JAPEPiQDxD4kA8Q+JAPEPiQDxD4kA8Q+JAPEPiQDxD4kA8Q+JAPEPiQDxD4kA8Q+JAPEPiQDxD4kA8Q+JAPEPiQDxD4kA8Q+JAPEPiQA==",
          "dtype": "f4"
         },
         "z": {
          "bdata": "AAAAABT6VlwTvGNdslscXpJkp17Q1hhftN55XzFUvF/NewVgVVs0YFN/amBRupNgBlO1YCyx2WAuOQBhiJcUYZS8KWEWcT9hcX5VYQGua2FE5oBhhtSLYcSKlmFS9aBhdgGrYSGgtGF/w71hNWLGYeBzzmHz89Vhw97cYdUy42EV8ehhlBruYXyy8mEju/ZhAzj6YW0s/WEEm/9hPcMAYmd4AWLQ7QFiISQCYq8bAmIA1QFimlABYjWPAGJ3I/9hBLP8YdnQ+WFRkfZhRPXyYXHy7mEpkephdNrlYTvY4GETlNthNBjWYcZt0GExnsph1rHEYYGwvmGPobhhM4uyYQZzrGEdXqZhmFCgYdZNmmH6WJRhZnSOYQeiiGGh44JhEnR6YQZNb2EHU2RhFIdZYcHpTmGzekRhjTk6YZYlMGHFPSZhroAcYQrtEmEbgQlhBzsAYaUy7mB3NNxgS3jKYEv7uGDbuqdgs7SWYPrmhWDJn2pgddxJYP6BKWDrjglg1ATUXzK5lV+6fDBfrZWpXg==",
          "dtype": "f4"
         }
        },
        {
         "line": {
          "cmax": 607840919713266800000,
          "cmin": -595483677853483000,
          "color": {
           "bdata": "AAAAAHpkaFweOGxd5pgfXrCYqV6cOhpf14V7XzZEvV+Y/gVg0eQ0YCoLa2BF/5NgCpW1YJnu2WD1VABhA7AUYaTRKWHlgj9hZo1VYcu6a2H664BhFNqLYbGQlmEp/KBhxgmrYWyqtGE00L1hs3HGYXmGzmHUCdZhDvjcYY1P42FAEelhLD7uYWDZ8mFV5fZhcGX6YQZd/WHAzv9hst4AYmaVAWJaDAJiJEQCYh49AmK69wFidnQBYu+zAGIhbv9hKv78Ya0b+mHR2fZhtznzYWcy72EnzOphCRDmYQEI4WG5vdthgzvWYbaK0GHItMphPsLEYf+6vmGOprhhMYuyYZxurGHxVaZhYEWgYUtAmmHSSZRhSmSOYZORiGFb04JhylR6Yagvb2EROGRhwW5ZYSTUTmGpZ0Rh2Cg6YcsWMGF0MCZhTHQcYRDhEmEJdQlhYC4AYWoX7mC7FtxgsFfKYMTXuGCelKdgOIyWYAS9hWD4SmpgQolJYFgzKWAKSAlgeY3TXylflV9wEDBf8DOpXg==",
           "dtype": "f4"
          },
          "colorscale": [
           [
            0,
            "#440154"
           ],
           [
            0.1111111111111111,
            "#482878"
           ],
           [
            0.2222222222222222,
            "#3e4989"
           ],
           [
            0.3333333333333333,
            "#31688e"
           ],
           [
            0.4444444444444444,
            "#26828e"
           ],
           [
            0.5555555555555556,
            "#1f9e89"
           ],
           [
            0.6666666666666666,
            "#35b779"
           ],
           [
            0.7777777777777778,
            "#6ece58"
           ],
           [
            0.8888888888888888,
            "#b5de2b"
           ],
           [
            1,
            "#fde725"
           ]
          ],
          "showscale": false,
          "width": 4
         },
         "mode": "lines",
         "showlegend": false,
         "type": "scatter3d",
         "x": {
          "bdata": "AAAAALooDiy6KI4sFz3VLLooDi3osjEtFz1VLUbHeC26KI4t0e2fLeiysS0AeMMtFz3VLS4C5y1Gx/gtLkYFLrooDi5GCxcu0e0fLl3QKC7osjEudJU6LgB4Qy6LWkwuFz1VLqMfXi4uAmcuuuRvLkbHeC7p1IAuLkaFLnS3iS66KI4uAJqSLkYLly6LfJsu0e2fLhdfpC5d0Kguo0GtLuiysS4uJLYudJW6LroGvy4AeMMuRunHLotazC7Ry9AuFz3VLl2u2S6hH94u55DiLi0C5y5zc+suuOTvLv5V9C5Ex/guijj9LujUAC+LDQMvLkYFL9B+By90twkvFvALL7ooDi9cYRAv/5kSL6LSFC9FCxcv6EMZL4p8Gy8utR0v0O0fL3QmIi8WXyQvuZcmL1zQKC//CCsvokEtL0V6Ly/osjEvi+szLy4kNi/QXDgvdJU6LxbOPC+5Bj8vXD9BL/93Qy+isEUvRelHL+ghSi+LWkwvLpNOL9DLUC9zBFMvFj1VL7l1Vy9crlkv/+ZbLw==",
          "dtype": "f4"
         },
         "y": {
          "bdata": "LrroQC666EAuuuhALrroQC666EAuuuhALrroQC666EAuuuhALrroQC666EAuuuhALrroQC666EAuuuhALrroQC666EAuuuhALrroQC666EAuuuhALrroQC666EAuuuhALrroQC666EAuuuhALrroQC666EAuuuhALrroQC666EAuuuhALrroQC666EAuuuhALrroQC666EAuuuhALrroQC666EAuuuhALrroQC666EAuuuhALrroQC666EAuuuhALrroQC666EAuuuhALrroQC666EAuuuhALrroQC666EAuuuhALrroQC666EAuuuhALrroQC666EAuuuhALrroQC666EAuuuhALrroQC666EAuuuhALrroQC666EAuuuhALrroQC666EAuuuhALrroQC666EAuuuhALrroQC666EAuuuhALrroQC666EAuuuhALrroQC666EAuuuhALrroQC666EAuuuhALrroQC666EAuuuhALrroQC666EAuuuhALrroQC666EAuuuhALrroQA==",
          "dtype": "f4"
         },
         "z": {
          "bdata": "AAAAAHpkaFweOGxd5pgfXrCYqV6cOhpf14V7XzZEvV+Y/gVg0eQ0YCoLa2BF/5NgCpW1YJnu2WD1VABhA7AUYaTRKWHlgj9hZo1VYcu6a2H664BhFNqLYbGQlmEp/KBhxgmrYWyqtGE00L1hs3HGYXmGzmHUCdZhDvjcYY1P42FAEelhLD7uYWDZ8mFV5fZhcGX6YQZd/WHAzv9hst4AYmaVAWJaDAJiJEQCYh49AmK69wFidnQBYu+zAGIhbv9hKv78Ya0b+mHR2fZhtznzYWcy72EnzOphCRDmYQEI4WG5vdthgzvWYbaK0GHItMphPsLEYf+6vmGOprhhMYuyYZxurGHxVaZhYEWgYUtAmmHSSZRhSmSOYZORiGFb04JhylR6Yagvb2EROGRhwW5ZYSTUTmGpZ0Rh2Cg6YcsWMGF0MCZhTHQcYRDhEmEJdQlhYC4AYWoX7mC7FtxgsFfKYMTXuGCelKdgOIyWYAS9hWD4SmpgQolJYFgzKWAKSAlgeY3TXylflV9wEDBf8DOpXg==",
          "dtype": "f4"
         }
        },
        {
         "line": {
          "cmax": 607840919713266800000,
          "cmin": -595483677853483000,
          "color": {
           "bdata": "AAAAAEDLeVz8dnRd3rgiXtK3q14kkRtfXh19X3Urvl+EfAZg52g1YAORa2DaQJRgKtO1YIMn2mAcbgBhZ8UUYRvjKWGHkD9hm5dVYT/Ca2G87oBhZNyLYSeTlmFn/6BhZA6rYQSxtGFT2b1h0H3GYeyVzmHzHNZh/g7dYXdq42EjMOlhCWHuYSQA82HgD/dhsZP6YdGO/WH9AQBi8foAYjuzAWKtKwJi3WQCYhZfAmLJGgJiZJgBYn/YAGLht/9h1kf9YX9k+mHPH/dhS3vzYSlv72GqA+th9UHmYfoz4WGK49thDFvWYfaj0GHQx8phQs/EYVrCvmGkqLhhg4iyYcBnrGGGS6ZhEzigYcUwmmG/OJRhS1KOYTF/iGEawYJhUTF6YdsNb2FWGGRhXVFZYS25TmEPT0RhahI6YT8CMGFsHSZhZGIcYeHPEmEtZAlhgR0AYRr17WBr89tgMzPKYAmyuGDcbadg1mSWYJ+VhWDC/Wlgjj9JYFjvKGAvDAlgLCvTX3EXlV/2vy9fAvioXg==",
           "dtype": "f4"
          },
          "colorscale": [
           [
            0,
            "#440154"
           ],
           [
            0.1111111111111111,
            "#482878"
           ],
           [
            0.2222222222222222,
            "#3e4989"
           ],
           [
            0.3333333333333333,
            "#31688e"
           ],
           [
            0.4444444444444444,
            "#26828e"
           ],
           [
            0.5555555555555556,
            "#1f9e89"
           ],
           [
            0.6666666666666666,
            "#35b779"
           ],
           [
            0.7777777777777778,
            "#6ece58"
           ],
           [
            0.8888888888888888,
            "#b5de2b"
           ],
           [
            1,
            "#fde725"
           ]
          ],
          "showscale": false,
          "width": 4
         },
         "mode": "lines",
         "showlegend": false,
         "type": "scatter3d",
         "x": {
          "bdata": "AAAAALooDiy6KI4sFz3VLLooDi3osjEtFz1VLUbHeC26KI4t0e2fLeiysS0AeMMtFz3VLS4C5y1Gx/gtLkYFLrooDi5GCxcu0e0fLl3QKC7osjEudJU6LgB4Qy6LWkwuFz1VLqMfXi4uAmcuuuRvLkbHeC7p1IAuLkaFLnS3iS66KI4uAJqSLkYLly6LfJsu0e2fLhdfpC5d0Kguo0GtLuiysS4uJLYudJW6LroGvy4AeMMuRunHLotazC7Ry9AuFz3VLl2u2S6hH94u55DiLi0C5y5zc+suuOTvLv5V9C5Ex/guijj9LujUAC+LDQMvLkYFL9B+By90twkvFvALL7ooDi9cYRAv/5kSL6LSFC9FCxcv6EMZL4p8Gy8utR0v0O0fL3QmIi8WXyQvuZcmL1zQKC//CCsvokEtL0V6Ly/osjEvi+szLy4kNi/QXDgvdJU6LxbOPC+5Bj8vXD9BL/93Qy+isEUvRelHL+ghSi+LWkwvLpNOL9DLUC9zBFMvFj1VL7l1Vy9crlkv/+ZbLw==",
          "dtype": "f4"
         },
         "y": {
          "bdata": "IjHvQCIx70AiMe9AIjHvQCIx70AiMe9AIjHvQCIx70AiMe9AIjHvQCIx70AiMe9AIjHvQCIx70AiMe9AIjHvQCIx70AiMe9AIjHvQCIx70AiMe9AIjHvQCIx70AiMe9AIjHvQCIx70AiMe9AIjHvQCIx70AiMe9AIjHvQCIx70AiMe9AIjHvQCIx70AiMe9AIjHvQCIx70AiMe9AIjHvQCIx70AiMe9AIjHvQCIx70AiMe9AIjHvQCIx70AiMe9AIjHvQCIx70AiMe9AIjHvQCIx70AiMe9AIjHvQCIx70AiMe9AIjHvQCIx70AiMe9AIjHvQCIx70AiMe9AIjHvQCIx70AiMe9AIjHvQCIx70AiMe9AIjHvQCIx70AiMe9AIjHvQCIx70AiMe9AIjHvQCIx70AiMe9AIjHvQCIx70AiMe9AIjHvQCIx70AiMe9AIjHvQCIx70AiMe9AIjHvQCIx70AiMe9AIjHvQCIx70AiMe9AIjHvQCIx70AiMe9AIjHvQCIx70AiMe9AIjHvQA==",
          "dtype": "f4"
         },
         "z": {
          "bdata": "AAAAAEDLeVz8dnRd3rgiXtK3q14kkRtfXh19X3Urvl+EfAZg52g1YAORa2DaQJRgKtO1YIMn2mAcbgBhZ8UUYRvjKWGHkD9hm5dVYT/Ca2G87oBhZNyLYSeTlmFn/6BhZA6rYQSxtGFT2b1h0H3GYeyVzmHzHNZh/g7dYXdq42EjMOlhCWHuYSQA82HgD/dhsZP6YdGO/WH9AQBi8foAYjuzAWKtKwJi3WQCYhZfAmLJGgJiZJgBYn/YAGLht/9h1kf9YX9k+mHPH/dhS3vzYSlv72GqA+th9UHmYfoz4WGK49thDFvWYfaj0GHQx8phQs/EYVrCvmGkqLhhg4iyYcBnrGGGS6ZhEzigYcUwmmG/OJRhS1KOYTF/iGEawYJhUTF6YdsNb2FWGGRhXVFZYS25TmEPT0RhahI6YT8CMGFsHSZhZGIcYeHPEmEtZAlhgR0AYRr17WBr89tgMzPKYAmyuGDcbadg1mSWYJ+VhWDC/Wlgjj9JYFjvKGAvDAlgLCvTX3EXlV/2vy9fAvioXg==",
          "dtype": "f4"
         }
        },
        {
         "line": {
          "cmax": 607840919713266800000,
          "cmin": -595483677853483000,
          "color": {
           "bdata": "AAAAADyWhVwngHxdX78lXtrErV5L3Bxfpad+X0cLv19c9gZgjOg1YPURbGCnf5RgIA62YLBc2mAPhQBhLdgUYXfxKWGLmj9hmZ1VYdPEa2HF7oBhttuLYWOSlmEw/6BhaQ+rYe2ztGG/3r1hTYbGYe+hzmHTLNZhByPdYdSC42HrTOlhNYLuYaol82GgOfdhfMH6YYTA/WGwHABiYRcBYkrRAWIySwJiuIUCYheBAmK3PQJi/7sBYoP8AGIGAABidI/9Ycmq+mHmYvdhn7nzYV2o72FuN+th6m/mYe9b4WFLBdxhjnbWYUO50GEU18phudjEYWXGvmGsp7hhFIOyYWperGHpPqZh0SigYYYfmmEcJpRh1j6OYXJriGF6rYJhBQt6YQ/pbmFw9WNhijBZYXqaTmF0MkRhsfc5YTTpL2HFBSZh00scYRe6EmHpTglhhggAYVzL7WCsydtgaAnKYE2IuGBsRKdgHTyWYChuhWCrsmlg5PlIYNewKGCy1ghgEtbSXxPclF/ggy9fkdqoXg==",
           "dtype": "f4"
          },
          "colorscale": [
           [
            0,
            "#440154"
           ],
           [
            0.1111111111111111,
            "#482878"
           ],
           [
            0.2222222222222222,
            "#3e4989"
           ],
           [
            0.3333333333333333,
            "#31688e"
           ],
           [
            0.4444444444444444,
            "#26828e"
           ],
           [
            0.5555555555555556,
            "#1f9e89"
           ],
           [
            0.6666666666666666,
            "#35b779"
           ],
           [
            0.7777777777777778,
            "#6ece58"
           ],
           [
            0.8888888888888888,
            "#b5de2b"
           ],
           [
            1,
            "#fde725"
           ]
          ],
          "showscale": false,
          "width": 4
         },
         "mode": "lines",
         "showlegend": false,
         "type": "scatter3d",
         "x": {
          "bdata": "AAAAALooDiy6KI4sFz3VLLooDi3osjEtFz1VLUbHeC26KI4t0e2fLeiysS0AeMMtFz3VLS4C5y1Gx/gtLkYFLrooDi5GCxcu0e0fLl3QKC7osjEudJU6LgB4Qy6LWkwuFz1VLqMfXi4uAmcuuuRvLkbHeC7p1IAuLkaFLnS3iS66KI4uAJqSLkYLly6LfJsu0e2fLhdfpC5d0Kguo0GtLuiysS4uJLYudJW6LroGvy4AeMMuRunHLotazC7Ry9AuFz3VLl2u2S6hH94u55DiLi0C5y5zc+suuOTvLv5V9C5Ex/guijj9LujUAC+LDQMvLkYFL9B+By90twkvFvALL7ooDi9cYRAv/5kSL6LSFC9FCxcv6EMZL4p8Gy8utR0v0O0fL3QmIi8WXyQvuZcmL1zQKC//CCsvokEtL0V6Ly/osjEvi+szLy4kNi/QXDgvdJU6LxbOPC+5Bj8vXD9BL/93Qy+isEUvRelHL+ghSi+LWkwvLpNOL9DLUC9zBFMvFj1VL7l1Vy9crlkv/+ZbLw==",
          "dtype": "f4"
         },
         "y": {
          "bdata": "Faj1QBWo9UAVqPVAFaj1QBWo9UAVqPVAFaj1QBWo9UAVqPVAFaj1QBWo9UAVqPVAFaj1QBWo9UAVqPVAFaj1QBWo9UAVqPVAFaj1QBWo9UAVqPVAFaj1QBWo9UAVqPVAFaj1QBWo9UAVqPVAFaj1QBWo9UAVqPVAFaj1QBWo9UAVqPVAFaj1QBWo9UAVqPVAFaj1QBWo9UAVqPVAFaj1QBWo9UAVqPVAFaj1QBWo9UAVqPVAFaj1QBWo9UAVqPVAFaj1QBWo9UAVqPVAFaj1QBWo9UAVqPVAFaj1QBWo9UAVqPVAFaj1QBWo9UAVqPVAFaj1QBWo9UAVqPVAFaj1QBWo9UAVqPVAFaj1QBWo9UAVqPVAFaj1QBWo9UAVqPVAFaj1QBWo9UAVqPVAFaj1QBWo9UAVqPVAFaj1QBWo9UAVqPVAFaj1QBWo9UAVqPVAFaj1QBWo9UAVqPVAFaj1QBWo9UAVqPVAFaj1QBWo9UAVqPVAFaj1QBWo9UAVqPVAFaj1QBWo9UAVqPVAFaj1QA==",
          "dtype": "f4"
         },
         "z": {
          "bdata": "AAAAADyWhVwngHxdX78lXtrErV5L3Bxfpad+X0cLv19c9gZgjOg1YPURbGCnf5RgIA62YLBc2mAPhQBhLdgUYXfxKWGLmj9hmZ1VYdPEa2HF7oBhttuLYWOSlmEw/6BhaQ+rYe2ztGG/3r1hTYbGYe+hzmHTLNZhByPdYdSC42HrTOlhNYLuYaol82GgOfdhfMH6YYTA/WGwHABiYRcBYkrRAWIySwJiuIUCYheBAmK3PQJi/7sBYoP8AGIGAABidI/9Ycmq+mHmYvdhn7nzYV2o72FuN+th6m/mYe9b4WFLBdxhjnbWYUO50GEU18phudjEYWXGvmGsp7hhFIOyYWperGHpPqZh0SigYYYfmmEcJpRh1j6OYXJriGF6rYJhBQt6YQ/pbmFw9WNhijBZYXqaTmF0MkRhsfc5YTTpL2HFBSZh00scYRe6EmHpTglhhggAYVzL7WCsydtgaAnKYE2IuGBsRKdgHTyWYChuhWCrsmlg5PlIYNewKGCy1ghgEtbSXxPclF/ggy9fkdqoXg==",
          "dtype": "f4"
         }
        },
        {
         "line": {
          "cmax": 607840919713266800000,
          "cmin": -595483677853483000,
          "color": {
           "bdata": "AAAAAO1CjlwdLYJdyK8oXkfCr17AHR5fWBOAX9nkv1/PbAdgf2Q2YMmObGAlvJRgbUa2YMSO2mAlmgBhuegUYS39KWFloT9h459VYSbDa2Fi7IBhUtiLYZ2OlmG++6BhAw2rYUiztGGG4L1hHovGYViqzmE/OdZh0jPdYTWY42H/ZulhCKHuYTBJ82G2Yfdh+u36YTTx/WH8NgBigDMBYhHvAWJ4agJiRKYCYrCiAmIiYAJi9N4BYqwfAWIVIwBioNT9YTnu+mHPovdhhfTzYejd72FPZ+th4JnmYcJ/4WHpItxh943WYZTK0GGC4sphl97EYRbHvmGno7hh53qyYalSrGE2MKZhyRegYcUMmmE0EpRhTyqOYblWiGH6mIJhB+N5YYHCbmGY0GNhjQ1ZYVZ5TmESE0Rh7tk5YdDML2GF6iVheDEcYW2gEmG9NQlhcN//YFua7WBAmdtgqdnJYIFZuGDtFqdgXxCWYLtEhWC6ZWlgMrRIYN1zKGDoowhg3ofSXyGolF/KVS9fstSoXg==",
           "dtype": "f4"
          },
          "colorscale": [
           [
            0,
            "#440154"
           ],
           [
            0.1111111111111111,
            "#482878"
           ],
           [
            0.2222222222222222,
            "#3e4989"
           ],
           [
            0.3333333333333333,
            "#31688e"
           ],
           [
            0.4444444444444444,
            "#26828e"
           ],
           [
            0.5555555555555556,
            "#1f9e89"
           ],
           [
            0.6666666666666666,
            "#35b779"
           ],
           [
            0.7777777777777778,
            "#6ece58"
           ],
           [
            0.8888888888888888,
            "#b5de2b"
           ],
           [
            1,
            "#fde725"
           ]
          ],
          "showscale": false,
          "width": 4
         },
         "mode": "lines",
         "showlegend": false,
         "type": "scatter3d",
         "x": {
          "bdata": "AAAAALooDiy6KI4sFz3VLLooDi3osjEtFz1VLUbHeC26KI4t0e2fLeiysS0AeMMtFz3VLS4C5y1Gx/gtLkYFLrooDi5GCxcu0e0fLl3QKC7osjEudJU6LgB4Qy6LWkwuFz1VLqMfXi4uAmcuuuRvLkbHeC7p1IAuLkaFLnS3iS66KI4uAJqSLkYLly6LfJsu0e2fLhdfpC5d0Kguo0GtLuiysS4uJLYudJW6LroGvy4AeMMuRunHLotazC7Ry9AuFz3VLl2u2S6hH94u55DiLi0C5y5zc+suuOTvLv5V9C5Ex/guijj9LujUAC+LDQMvLkYFL9B+By90twkvFvALL7ooDi9cYRAv/5kSL6LSFC9FCxcv6EMZL4p8Gy8utR0v0O0fL3QmIi8WXyQvuZcmL1zQKC//CCsvokEtL0V6Ly/osjEvi+szLy4kNi/QXDgvdJU6LxbOPC+5Bj8vXD9BL/93Qy+isEUvRelHL+ghSi+LWkwvLpNOL9DLUC9zBFMvFj1VL7l1Vy9crlkv/+ZbLw==",
          "dtype": "f4"
         },
         "y": {
          "bdata": "CB/8QAgf/EAIH/xACB/8QAgf/EAIH/xACB/8QAgf/EAIH/xACB/8QAgf/EAIH/xACB/8QAgf/EAIH/xACB/8QAgf/EAIH/xACB/8QAgf/EAIH/xACB/8QAgf/EAIH/xACB/8QAgf/EAIH/xACB/8QAgf/EAIH/xACB/8QAgf/EAIH/xACB/8QAgf/EAIH/xACB/8QAgf/EAIH/xACB/8QAgf/EAIH/xACB/8QAgf/EAIH/xACB/8QAgf/EAIH/xACB/8QAgf/EAIH/xACB/8QAgf/EAIH/xACB/8QAgf/EAIH/xACB/8QAgf/EAIH/xACB/8QAgf/EAIH/xACB/8QAgf/EAIH/xACB/8QAgf/EAIH/xACB/8QAgf/EAIH/xACB/8QAgf/EAIH/xACB/8QAgf/EAIH/xACB/8QAgf/EAIH/xACB/8QAgf/EAIH/xACB/8QAgf/EAIH/xACB/8QAgf/EAIH/xACB/8QAgf/EAIH/xACB/8QAgf/EAIH/xACB/8QAgf/EAIH/xACB/8QA==",
          "dtype": "f4"
         },
         "z": {
          "bdata": "AAAAAO1CjlwdLYJdyK8oXkfCr17AHR5fWBOAX9nkv1/PbAdgf2Q2YMmObGAlvJRgbUa2YMSO2mAlmgBhuegUYS39KWFloT9h459VYSbDa2Fi7IBhUtiLYZ2OlmG++6BhAw2rYUiztGGG4L1hHovGYViqzmE/OdZh0jPdYTWY42H/ZulhCKHuYTBJ82G2Yfdh+u36YTTx/WH8NgBigDMBYhHvAWJ4agJiRKYCYrCiAmIiYAJi9N4BYqwfAWIVIwBioNT9YTnu+mHPovdhhfTzYejd72FPZ+th4JnmYcJ/4WHpItxh943WYZTK0GGC4sphl97EYRbHvmGno7hh53qyYalSrGE2MKZhyRegYcUMmmE0EpRhTyqOYblWiGH6mIJhB+N5YYHCbmGY0GNhjQ1ZYVZ5TmESE0Rh7tk5YdDML2GF6iVheDEcYW2gEmG9NQlhcN//YFua7WBAmdtgqdnJYIFZuGDtFqdgXxCWYLtEhWC6ZWlgMrRIYN1zKGDoowhg3ofSXyGolF/KVS9fstSoXg==",
          "dtype": "f4"
         }
        },
        {
         "line": {
          "cmax": 607840919713266800000,
          "cmin": -595483677853483000,
          "color": {
           "bdata": "AAAAAO3qllzkBYZdVo0rXnuysV78Vh9fM86AX1C5wF974Adgdd02YGIIbWDW9pRgpHy2YGC+2mDCrQBhfvcUYbUGKmGgpT9hFp9VYda9a2Ho54BhjdKLYTSIlmFq9aBhfgerYVevtGHg3r1heIzGYUSvzmFBQtZhSUHdYWqq42EhfulhJL3uYUBq82Gmh/dhkxj7YTcg/mGOUABi+E4BYjwMAmIeiQJiL8YCYpzDAmLGgQJiAgECYtJBAWL4RABiHhf+Ya0u+2F23/dh9iv0YdQP8GFnk+th77/mYaKf4WGJPNxhb6HWYQzY0GFD6sph/uDEYZDEvmHDnLhhLXCyYbBErGGcH6ZhLwWgYb74mWFI/ZNh+hSOYWVBiGH2g4JhI7p5YRSbbmHHqmNhZulYYdJWTmEF8kNhHLo5YRGuL2GXzCVhLhQcYZiDEmFCGQlhGKf/YKhi7WBkYttg5qPJYD8luGCp5KZgq+CVYDIYhWBEFGlgqmtIYJM1KGAicQhgxTvSX7V3lF9VMC9f/d+oXg==",
           "dtype": "f4"
          },
          "colorscale": [
           [
            0,
            "#440154"
           ],
           [
            0.1111111111111111,
            "#482878"
           ],
           [
            0.2222222222222222,
            "#3e4989"
           ],
           [
            0.3333333333333333,
            "#31688e"
           ],
           [
            0.4444444444444444,
            "#26828e"
           ],
           [
            0.5555555555555556,
            "#1f9e89"
           ],
           [
            0.6666666666666666,
            "#35b779"
           ],
           [
            0.7777777777777778,
            "#6ece58"
           ],
           [
            0.8888888888888888,
            "#b5de2b"
           ],
           [
            1,
            "#fde725"
           ]
          ],
          "showscale": false,
          "width": 4
         },
         "mode": "lines",
         "showlegend": false,
         "type": "scatter3d",
         "x": {
          "bdata": "AAAAALooDiy6KI4sFz3VLLooDi3osjEtFz1VLUbHeC26KI4t0e2fLeiysS0AeMMtFz3VLS4C5y1Gx/gtLkYFLrooDi5GCxcu0e0fLl3QKC7osjEudJU6LgB4Qy6LWkwuFz1VLqMfXi4uAmcuuuRvLkbHeC7p1IAuLkaFLnS3iS66KI4uAJqSLkYLly6LfJsu0e2fLhdfpC5d0Kguo0GtLuiysS4uJLYudJW6LroGvy4AeMMuRunHLotazC7Ry9AuFz3VLl2u2S6hH94u55DiLi0C5y5zc+suuOTvLv5V9C5Ex/guijj9LujUAC+LDQMvLkYFL9B+By90twkvFvALL7ooDi9cYRAv/5kSL6LSFC9FCxcv6EMZL4p8Gy8utR0v0O0fL3QmIi8WXyQvuZcmL1zQKC//CCsvokEtL0V6Ly/osjEvi+szLy4kNi/QXDgvdJU6LxbOPC+5Bj8vXD9BL/93Qy+isEUvRelHL+ghSi+LWkwvLpNOL9DLUC9zBFMvFj1VL7l1Vy9crlkv/+ZbLw==",
          "dtype": "f4"
         },
         "y": {
          "bdata": "/koBQf5KAUH+SgFB/koBQf5KAUH+SgFB/koBQf5KAUH+SgFB/koBQf5KAUH+SgFB/koBQf5KAUH+SgFB/koBQf5KAUH+SgFB/koBQf5KAUH+SgFB/koBQf5KAUH+SgFB/koBQf5KAUH+SgFB/koBQf5KAUH+SgFB/koBQf5KAUH+SgFB/koBQf5KAUH+SgFB/koBQf5KAUH+SgFB/koBQf5KAUH+SgFB/koBQf5KAUH+SgFB/koBQf5KAUH+SgFB/koBQf5KAUH+SgFB/koBQf5KAUH+SgFB/koBQf5KAUH+SgFB/koBQf5KAUH+SgFB/koBQf5KAUH+SgFB/koBQf5KAUH+SgFB/koBQf5KAUH+SgFB/koBQf5KAUH+SgFB/koBQf5KAUH+SgFB/koBQf5KAUH+SgFB/koBQf5KAUH+SgFB/koBQf5KAUH+SgFB/koBQf5KAUH+SgFB/koBQf5KAUH+SgFB/koBQf5KAUH+SgFB/koBQf5KAUH+SgFB/koBQf5KAUH+SgFB/koBQQ==",
          "dtype": "f4"
         },
         "z": {
          "bdata": "AAAAAO3qllzkBYZdVo0rXnuysV78Vh9fM86AX1C5wF974Adgdd02YGIIbWDW9pRgpHy2YGC+2mDCrQBhfvcUYbUGKmGgpT9hFp9VYda9a2Ho54BhjdKLYTSIlmFq9aBhfgerYVevtGHg3r1heIzGYUSvzmFBQtZhSUHdYWqq42EhfulhJL3uYUBq82Gmh/dhkxj7YTcg/mGOUABi+E4BYjwMAmIeiQJiL8YCYpzDAmLGgQJiAgECYtJBAWL4RABiHhf+Ya0u+2F23/dh9iv0YdQP8GFnk+th77/mYaKf4WGJPNxhb6HWYQzY0GFD6sph/uDEYZDEvmHDnLhhLXCyYbBErGGcH6ZhLwWgYb74mWFI/ZNh+hSOYWVBiGH2g4JhI7p5YRSbbmHHqmNhZulYYdJWTmEF8kNhHLo5YRGuL2GXzCVhLhQcYZiDEmFCGQlhGKf/YKhi7WBkYttg5qPJYD8luGCp5KZgq+CVYDIYhWBEFGlgqmtIYJM1KGAicQhgxTvSX7V3lF9VMC9f/d+oXg==",
          "dtype": "f4"
         }
        },
        {
         "line": {
          "cmax": 607840919713266800000,
          "cmin": -595483677853483000,
          "color": {
           "bdata": "AAAAAHGNn1wNzYldvVouXn6Xs15liSBfKIWBX4mJwV/vUQhgDlQ3YHF/bWAfMJVgP7G2YBDs2mA3wABh1QQVYX8OKmG+pz9ht5tVYYe1a2Gq4YBhxsqLYYZ/lmGK7KBhO/+qYXSotGEo2r1hmIrGYeSwzmH2R9ZhgEvdYXe542E7kulhZtbuYaqI82EXq/dh5kD7YSBN/mEsaQBii2kBYo0oAmL1pgJiReUCYqrjAmJ+ogJiDiICYtpiAWKbZQBi3lb+YSFs+2HrGPhhDWD0YUE+8GHmu+thTOLmYcG74WF3UtxhP7HWYfrh0GGh7sphO+DEYSG/vmEzk7hhGWOyYbY0rGFcDaZhPPGfYarjmWGa55NhHf+NYbcriGG/boJh/pB5YW5zbmG8hGNh5sRYYbQzTmEY0ENhJpk5YcyNL2HPrCVhsfQbYUlkEmEV+ghhEWn/YB0l7WCxJdtgeGjJYJ/rt2B7raZgm6yVYPPnhGDIvGhgjR5IYBr0J2CAPAhgSu7RX+RHlF84Dy9fz/aoXg==",
           "dtype": "f4"
          },
          "colorscale": [
           [
            0,
            "#440154"
           ],
           [
            0.1111111111111111,
            "#482878"
           ],
           [
            0.2222222222222222,
            "#3e4989"
           ],
           [
            0.3333333333333333,
            "#31688e"
           ],
           [
            0.4444444444444444,
            "#26828e"
           ],
           [
            0.5555555555555556,
            "#1f9e89"
           ],
           [
            0.6666666666666666,
            "#35b779"
           ],
           [
            0.7777777777777778,
            "#6ece58"
           ],
           [
            0.8888888888888888,
            "#b5de2b"
           ],
           [
            1,
            "#fde725"
           ]
          ],
          "showscale": false,
          "width": 4
         },
         "mode": "lines",
         "showlegend": false,
         "type": "scatter3d",
         "x": {
          "bdata": "AAAAALooDiy6KI4sFz3VLLooDi3osjEtFz1VLUbHeC26KI4t0e2fLeiysS0AeMMtFz3VLS4C5y1Gx/gtLkYFLrooDi5GCxcu0e0fLl3QKC7osjEudJU6LgB4Qy6LWkwuFz1VLqMfXi4uAmcuuuRvLkbHeC7p1IAuLkaFLnS3iS66KI4uAJqSLkYLly6LfJsu0e2fLhdfpC5d0Kguo0GtLuiysS4uJLYudJW6LroGvy4AeMMuRunHLotazC7Ry9AuFz3VLl2u2S6hH94u55DiLi0C5y5zc+suuOTvLv5V9C5Ex/guijj9LujUAC+LDQMvLkYFL9B+By90twkvFvALL7ooDi9cYRAv/5kSL6LSFC9FCxcv6EMZL4p8Gy8utR0v0O0fL3QmIi8WXyQvuZcmL1zQKC//CCsvokEtL0V6Ly/osjEvi+szLy4kNi/QXDgvdJU6LxbOPC+5Bj8vXD9BL/93Qy+isEUvRelHL+ghSi+LWkwvLpNOL9DLUC9zBFMvFj1VL7l1Vy9crlkv/+ZbLw==",
          "dtype": "f4"
         },
         "y": {
          "bdata": "d4YEQXeGBEF3hgRBd4YEQXeGBEF3hgRBd4YEQXeGBEF3hgRBd4YEQXeGBEF3hgRBd4YEQXeGBEF3hgRBd4YEQXeGBEF3hgRBd4YEQXeGBEF3hgRBd4YEQXeGBEF3hgRBd4YEQXeGBEF3hgRBd4YEQXeGBEF3hgRBd4YEQXeGBEF3hgRBd4YEQXeGBEF3hgRBd4YEQXeGBEF3hgRBd4YEQXeGBEF3hgRBd4YEQXeGBEF3hgRBd4YEQXeGBEF3hgRBd4YEQXeGBEF3hgRBd4YEQXeGBEF3hgRBd4YEQXeGBEF3hgRBd4YEQXeGBEF3hgRBd4YEQXeGBEF3hgRBd4YEQXeGBEF3hgRBd4YEQXeGBEF3hgRBd4YEQXeGBEF3hgRBd4YEQXeGBEF3hgRBd4YEQXeGBEF3hgRBd4YEQXeGBEF3hgRBd4YEQXeGBEF3hgRBd4YEQXeGBEF3hgRBd4YEQXeGBEF3hgRBd4YEQXeGBEF3hgRBd4YEQXeGBEF3hgRBd4YEQXeGBEF3hgRBd4YEQQ==",
          "dtype": "f4"
         },
         "z": {
          "bdata": "AAAAAHGNn1wNzYldvVouXn6Xs15liSBfKIWBX4mJwV/vUQhgDlQ3YHF/bWAfMJVgP7G2YBDs2mA3wABh1QQVYX8OKmG+pz9ht5tVYYe1a2Gq4YBhxsqLYYZ/lmGK7KBhO/+qYXSotGEo2r1hmIrGYeSwzmH2R9ZhgEvdYXe542E7kulhZtbuYaqI82EXq/dh5kD7YSBN/mEsaQBii2kBYo0oAmL1pgJiReUCYqrjAmJ+ogJiDiICYtpiAWKbZQBi3lb+YSFs+2HrGPhhDWD0YUE+8GHmu+thTOLmYcG74WF3UtxhP7HWYfrh0GGh7sphO+DEYSG/vmEzk7hhGWOyYbY0rGFcDaZhPPGfYarjmWGa55NhHf+NYbcriGG/boJh/pB5YW5zbmG8hGNh5sRYYbQzTmEY0ENhJpk5YcyNL2HPrCVhsfQbYUlkEmEV+ghhEWn/YB0l7WCxJdtgeGjJYJ/rt2B7raZgm6yVYPPnhGDIvGhgjR5IYBr0J2CAPAhgSu7RX+RHlF84Dy9fz/aoXg==",
          "dtype": "f4"
         }
        },
        {
         "line": {
          "cmax": 607840919713266800000,
          "cmin": -595483677853483000,
          "color": {
           "bdata": "AAAAAJYpqFzhhI1dRxoxXvJytV4DtiFf2ziCX0ZWwl+LwQhgxMg3YH70bWBOaJVgnuS2YE8Y22DG0QBhFBEVYfMUKmEyqD9hUZZVYbqqa2H02YBhS8GLYet0lmGE4aBhlfSqYfuetGGp0r1h1IXGYY+vzmGeStZhrFLdYYDF42Flo+lh0+zuYVyk82H6y/dhzGb7Yc13/mG1gABiGIMBYuRDAmLSwwJiYwMDYrkCA2IqwgJiAUICYrGCAWL4hABi35P+Yaam+2FQT/hh/5D0YW5p8GEO4ethRwHnYX7U4WH8ZNxhvb3WYbLo0GHx78phk9zEYQ63vmFKh7hh8lOyYfYirGGh+aVhIdyfYbrNmWFP0ZNh4eiNYd0ViGF9WYJh+Wd5YQNMbmHoXmNhgqBYYYcQTmHirUNhm3c5YaRsL2HQiyVhr9MbYStDEmHW2AhhcSb/YLPi7GDs49pg+CfJYBCtt2CdcaZgOXSVYNizhGCrXmhg/stHYG2uJ2DfBAhgLZ3RX50WlF8Y7y5fXRSpXg==",
           "dtype": "f4"
          },
          "colorscale": [
           [
            0,
            "#440154"
           ],
           [
            0.1111111111111111,
            "#482878"
           ],
           [
            0.2222222222222222,
            "#3e4989"
           ],
           [
            0.3333333333333333,
            "#31688e"
           ],
           [
            0.4444444444444444,
            "#26828e"
           ],
           [
            0.5555555555555556,
            "#1f9e89"
           ],
           [
            0.6666666666666666,
            "#35b779"
           ],
           [
            0.7777777777777778,
            "#6ece58"
           ],
           [
            0.8888888888888888,
            "#b5de2b"
           ],
           [
            1,
            "#fde725"
           ]
          ],
          "showscale": false,
          "width": 4
         },
         "mode": "lines",
         "showlegend": false,
         "type": "scatter3d",
         "x": {
          "bdata": "AAAAALooDiy6KI4sFz3VLLooDi3osjEtFz1VLUbHeC26KI4t0e2fLeiysS0AeMMtFz3VLS4C5y1Gx/gtLkYFLrooDi5GCxcu0e0fLl3QKC7osjEudJU6LgB4Qy6LWkwuFz1VLqMfXi4uAmcuuuRvLkbHeC7p1IAuLkaFLnS3iS66KI4uAJqSLkYLly6LfJsu0e2fLhdfpC5d0Kguo0GtLuiysS4uJLYudJW6LroGvy4AeMMuRunHLotazC7Ry9AuFz3VLl2u2S6hH94u55DiLi0C5y5zc+suuOTvLv5V9C5Ex/guijj9LujUAC+LDQMvLkYFL9B+By90twkvFvALL7ooDi9cYRAv/5kSL6LSFC9FCxcv6EMZL4p8Gy8utR0v0O0fL3QmIi8WXyQvuZcmL1zQKC//CCsvokEtL0V6Ly/osjEvi+szLy4kNi/QXDgvdJU6LxbOPC+5Bj8vXD9BL/93Qy+isEUvRelHL+ghSi+LWkwvLpNOL9DLUC9zBFMvFj1VL7l1Vy9crlkv/+ZbLw==",
          "dtype": "f4"
         },
         "y": {
          "bdata": "8MEHQfDBB0HwwQdB8MEHQfDBB0HwwQdB8MEHQfDBB0HwwQdB8MEHQfDBB0HwwQdB8MEHQfDBB0HwwQdB8MEHQfDBB0HwwQdB8MEHQfDBB0HwwQdB8MEHQfDBB0HwwQdB8MEHQfDBB0HwwQdB8MEHQfDBB0HwwQdB8MEHQfDBB0HwwQdB8MEHQfDBB0HwwQdB8MEHQfDBB0HwwQdB8MEHQfDBB0HwwQdB8MEHQfDBB0HwwQdB8MEHQfDBB0HwwQdB8MEHQfDBB0HwwQdB8MEHQfDBB0HwwQdB8MEHQfDBB0HwwQdB8MEHQfDBB0HwwQdB8MEHQfDBB0HwwQdB8MEHQfDBB0HwwQdB8MEHQfDBB0HwwQdB8MEHQfDBB0HwwQdB8MEHQfDBB0HwwQdB8MEHQfDBB0HwwQdB8MEHQfDBB0HwwQdB8MEHQfDBB0HwwQdB8MEHQfDBB0HwwQdB8MEHQfDBB0HwwQdB8MEHQfDBB0HwwQdB8MEHQfDBB0HwwQdB8MEHQfDBB0HwwQdB8MEHQQ==",
          "dtype": "f4"
         },
         "z": {
          "bdata": "AAAAAJYpqFzhhI1dRxoxXvJytV4DtiFf2ziCX0ZWwl+LwQhgxMg3YH70bWBOaJVgnuS2YE8Y22DG0QBhFBEVYfMUKmEyqD9hUZZVYbqqa2H02YBhS8GLYet0lmGE4aBhlfSqYfuetGGp0r1h1IXGYY+vzmGeStZhrFLdYYDF42Flo+lh0+zuYVyk82H6y/dhzGb7Yc13/mG1gABiGIMBYuRDAmLSwwJiYwMDYrkCA2IqwgJiAUICYrGCAWL4hABi35P+Yaam+2FQT/hh/5D0YW5p8GEO4ethRwHnYX7U4WH8ZNxhvb3WYbLo0GHx78phk9zEYQ63vmFKh7hh8lOyYfYirGGh+aVhIdyfYbrNmWFP0ZNh4eiNYd0ViGF9WYJh+Wd5YQNMbmHoXmNhgqBYYYcQTmHirUNhm3c5YaRsL2HQiyVhr9MbYStDEmHW2AhhcSb/YLPi7GDs49pg+CfJYBCtt2CdcaZgOXSVYNizhGCrXmhg/stHYG2uJ2DfBAhgLZ3RX50WlF8Y7y5fXRSpXg==",
          "dtype": "f4"
         }
        },
        {
         "line": {
          "cmax": 607840919713266800000,
          "cmin": -595483677853483000,
          "color": {
           "bdata": "AAAAAJW+sFwzL5Fd1s0zXjxGt1613SJf1emCXyEgw1+tLwlg8zs4YPlnbmCqn5VgExe3YHpD22Cw4gBhhhwVYVoaKmFVpz9hVo9VYf+da2EY0YBhcbaLYblolmG01KBh8ueqYViTtGHRyL1hkX7GYZWrzmGUStZhF1fdYcfO42HRselhjADvYW+982Fa6vdhSIr7YSig/mEllwBikpsBYjFeAmKq3wJieSADYsAgA2LG4AJi1WACYl+hAWIcowBiR87+YW3e+2HfgvhhBL/0YaOR8GE7A+xhQh3nYTzq4WGOdNxhW8fWYZ7s0GGd7sphc9bEYbusvmFZebhhBkOyYbkPrGGv5KVhE8afYRq3mWGUupNha9KNYfL/h2FSRIJhUz95YRMlbmGSOWNhjnxYYbHtTWHMi0Nh91U5YR5LL2ElaiVhtbEbYckgEmEStghhWeD+YHKc7GARntpgOuPIYD5qt2CXMaZg4zeVYBd8hGAI+mdg0HNHYCNkJ2CzyQdgJEfRX5Hik1+fzS5fvDSpXg==",
           "dtype": "f4"
          },
          "colorscale": [
           [
            0,
            "#440154"
           ],
           [
            0.1111111111111111,
            "#482878"
           ],
           [
            0.2222222222222222,
            "#3e4989"
           ],
           [
            0.3333333333333333,
            "#31688e"
           ],
           [
            0.4444444444444444,
            "#26828e"
           ],
           [
            0.5555555555555556,
            "#1f9e89"
           ],
           [
            0.6666666666666666,
            "#35b779"
           ],
           [
            0.7777777777777778,
            "#6ece58"
           ],
           [
            0.8888888888888888,
            "#b5de2b"
           ],
           [
            1,
            "#fde725"
           ]
          ],
          "showscale": false,
          "width": 4
         },
         "mode": "lines",
         "showlegend": false,
         "type": "scatter3d",
         "x": {
          "bdata": "AAAAALooDiy6KI4sFz3VLLooDi3osjEtFz1VLUbHeC26KI4t0e2fLeiysS0AeMMtFz3VLS4C5y1Gx/gtLkYFLrooDi5GCxcu0e0fLl3QKC7osjEudJU6LgB4Qy6LWkwuFz1VLqMfXi4uAmcuuuRvLkbHeC7p1IAuLkaFLnS3iS66KI4uAJqSLkYLly6LfJsu0e2fLhdfpC5d0Kguo0GtLuiysS4uJLYudJW6LroGvy4AeMMuRunHLotazC7Ry9AuFz3VLl2u2S6hH94u55DiLi0C5y5zc+suuOTvLv5V9C5Ex/guijj9LujUAC+LDQMvLkYFL9B+By90twkvFvALL7ooDi9cYRAv/5kSL6LSFC9FCxcv6EMZL4p8Gy8utR0v0O0fL3QmIi8WXyQvuZcmL1zQKC//CCsvokEtL0V6Ly/osjEvi+szLy4kNi/QXDgvdJU6LxbOPC+5Bj8vXD9BL/93Qy+isEUvRelHL+ghSi+LWkwvLpNOL9DLUC9zBFMvFj1VL7l1Vy9crlkv/+ZbLw==",
          "dtype": "f4"
         },
         "y": {
          "bdata": "av0KQWr9CkFq/QpBav0KQWr9CkFq/QpBav0KQWr9CkFq/QpBav0KQWr9CkFq/QpBav0KQWr9CkFq/QpBav0KQWr9CkFq/QpBav0KQWr9CkFq/QpBav0KQWr9CkFq/QpBav0KQWr9CkFq/QpBav0KQWr9CkFq/QpBav0KQWr9CkFq/QpBav0KQWr9CkFq/QpBav0KQWr9CkFq/QpBav0KQWr9CkFq/QpBav0KQWr9CkFq/QpBav0KQWr9CkFq/QpBav0KQWr9CkFq/QpBav0KQWr9CkFq/QpBav0KQWr9CkFq/QpBav0KQWr9CkFq/QpBav0KQWr9CkFq/QpBav0KQWr9CkFq/QpBav0KQWr9CkFq/QpBav0KQWr9CkFq/QpBav0KQWr9CkFq/QpBav0KQWr9CkFq/QpBav0KQWr9CkFq/QpBav0KQWr9CkFq/QpBav0KQWr9CkFq/QpBav0KQWr9CkFq/QpBav0KQWr9CkFq/QpBav0KQWr9CkFq/QpBav0KQWr9CkFq/QpBav0KQQ==",
          "dtype": "f4"
         },
         "z": {
          "bdata": "AAAAAJW+sFwzL5Fd1s0zXjxGt1613SJf1emCXyEgw1+tLwlg8zs4YPlnbmCqn5VgExe3YHpD22Cw4gBhhhwVYVoaKmFVpz9hVo9VYf+da2EY0YBhcbaLYblolmG01KBh8ueqYViTtGHRyL1hkX7GYZWrzmGUStZhF1fdYcfO42HRselhjADvYW+982Fa6vdhSIr7YSig/mEllwBikpsBYjFeAmKq3wJieSADYsAgA2LG4AJi1WACYl+hAWIcowBiR87+YW3e+2HfgvhhBL/0YaOR8GE7A+xhQh3nYTzq4WGOdNxhW8fWYZ7s0GGd7sphc9bEYbusvmFZebhhBkOyYbkPrGGv5KVhE8afYRq3mWGUupNha9KNYfL/h2FSRIJhUz95YRMlbmGSOWNhjnxYYbHtTWHMi0Nh91U5YR5LL2ElaiVhtbEbYckgEmEStghhWeD+YHKc7GARntpgOuPIYD5qt2CXMaZg4zeVYBd8hGAI+mdg0HNHYCNkJ2CzyQdgJEfRX5Hik1+fzS5fvDSpXg==",
          "dtype": "f4"
         }
        },
        {
         "line": {
          "cmax": 607840919713266800000,
          "cmin": -595483677853483000,
          "color": {
           "bdata": "AAAAAL5LuVyMzZRd3XY2XmcSuV4nASRfeJiDX4Xnw1+TnAlg7604YEXabmBp1pVg2ki3YORt22Al8wBhXycVYQsfKmGSpT9hKYdVYc+Pa2Fcx4BhjKqLYUtblmF6xqBhsNmqYeaFtGECvb1hNnXGYWqlzmE5SNZhIFndYaHV42HOvelh2hHvYSLU82FgBvhhe6v7YUjG/mF/rABiA7MBYnh3AmJ/+gJijDwDYr49A2JU/gJilH4CYuy+AWIUwABiQwb/YbYT/GHYs/hhd+r0YT+38GHIIuxhoTbnYWj94WGcgdxhfc7WYTfu0GES68phSc7EYYOgvmG8abhhqjCyYT/7q2HBzqVhQa+fYfKfmWGFo5NhzruNYQnqh2FGL4JhGhd5YbT+bWHbFGNhOFlYYV3LTWETakNhgDQ5YYwpL2E1SCVhNI8bYaP9EWFJkghhzZf+YFpT7GAaVdpgLZvIYP8jt2Ah7qVgM/iUYCZBhGCGj2dgahZHYGAVJ2DnigdgtOvQXxCrk184qS5f5VSpXg==",
           "dtype": "f4"
          },
          "colorscale": [
           [
            0,
            "#440154"
           ],
           [
            0.1111111111111111,
            "#482878"
           ],
           [
            0.2222222222222222,
            "#3e4989"
           ],
           [
            0.3333333333333333,
            "#31688e"
           ],
           [
            0.4444444444444444,
            "#26828e"
           ],
           [
            0.5555555555555556,
            "#1f9e89"
           ],
           [
            0.6666666666666666,
            "#35b779"
           ],
           [
            0.7777777777777778,
            "#6ece58"
           ],
           [
            0.8888888888888888,
            "#b5de2b"
           ],
           [
            1,
            "#fde725"
           ]
          ],
          "showscale": false,
          "width": 4
         },
         "mode": "lines",
         "showlegend": false,
         "type": "scatter3d",
         "x": {
          "bdata": "AAAAALooDiy6KI4sFz3VLLooDi3osjEtFz1VLUbHeC26KI4t0e2fLeiysS0AeMMtFz3VLS4C5y1Gx/gtLkYFLrooDi5GCxcu0e0fLl3QKC7osjEudJU6LgB4Qy6LWkwuFz1VLqMfXi4uAmcuuuRvLkbHeC7p1IAuLkaFLnS3iS66KI4uAJqSLkYLly6LfJsu0e2fLhdfpC5d0Kguo0GtLuiysS4uJLYudJW6LroGvy4AeMMuRunHLotazC7Ry9AuFz3VLl2u2S6hH94u55DiLi0C5y5zc+suuOTvLv5V9C5Ex/guijj9LujUAC+LDQMvLkYFL9B+By90twkvFvALL7ooDi9cYRAv/5kSL6LSFC9FCxcv6EMZL4p8Gy8utR0v0O0fL3QmIi8WXyQvuZcmL1zQKC//CCsvokEtL0V6Ly/osjEvi+szLy4kNi/QXDgvdJU6LxbOPC+5Bj8vXD9BL/93Qy+isEUvRelHL+ghSi+LWkwvLpNOL9DLUC9zBFMvFj1VL7l1Vy9crlkv/+ZbLw==",
          "dtype": "f4"
         },
         "y": {
          "bdata": "5DgOQeQ4DkHkOA5B5DgOQeQ4DkHkOA5B5DgOQeQ4DkHkOA5B5DgOQeQ4DkHkOA5B5DgOQeQ4DkHkOA5B5DgOQeQ4DkHkOA5B5DgOQeQ4DkHkOA5B5DgOQeQ4DkHkOA5B5DgOQeQ4DkHkOA5B5DgOQeQ4DkHkOA5B5DgOQeQ4DkHkOA5B5DgOQeQ4DkHkOA5B5DgOQeQ4DkHkOA5B5DgOQeQ4DkHkOA5B5DgOQeQ4DkHkOA5B5DgOQeQ4DkHkOA5B5DgOQeQ4DkHkOA5B5DgOQeQ4DkHkOA5B5DgOQeQ4DkHkOA5B5DgOQeQ4DkHkOA5B5DgOQeQ4DkHkOA5B5DgOQeQ4DkHkOA5B5DgOQeQ4DkHkOA5B5DgOQeQ4DkHkOA5B5DgOQeQ4DkHkOA5B5DgOQeQ4DkHkOA5B5DgOQeQ4DkHkOA5B5DgOQeQ4DkHkOA5B5DgOQeQ4DkHkOA5B5DgOQeQ4DkHkOA5B5DgOQeQ4DkHkOA5B5DgOQeQ4DkHkOA5B5DgOQeQ4DkHkOA5B5DgOQQ==",
          "dtype": "f4"
         },
         "z": {
          "bdata": "AAAAAL5LuVyMzZRd3XY2XmcSuV4nASRfeJiDX4Xnw1+TnAlg7604YEXabmBp1pVg2ki3YORt22Al8wBhXycVYQsfKmGSpT9hKYdVYc+Pa2Fcx4BhjKqLYUtblmF6xqBhsNmqYeaFtGECvb1hNnXGYWqlzmE5SNZhIFndYaHV42HOvelh2hHvYSLU82FgBvhhe6v7YUjG/mF/rABiA7MBYnh3AmJ/+gJijDwDYr49A2JU/gJilH4CYuy+AWIUwABiQwb/YbYT/GHYs/hhd+r0YT+38GHIIuxhoTbnYWj94WGcgdxhfc7WYTfu0GES68phSc7EYYOgvmG8abhhqjCyYT/7q2HBzqVhQa+fYfKfmWGFo5NhzruNYQnqh2FGL4JhGhd5YbT+bWHbFGNhOFlYYV3LTWETakNhgDQ5YYwpL2E1SCVhNI8bYaP9EWFJkghhzZf+YFpT7GAaVdpgLZvIYP8jt2Ah7qVgM/iUYCZBhGCGj2dgahZHYGAVJ2DnigdgtOvQXxCrk184qS5f5VSpXg==",
          "dtype": "f4"
         }
        },
        {
         "line": {
          "cmax": 607840919713266800000,
          "cmin": -595483677853483000,
          "color": {
           "bdata": "AAAAAFPQwVz9YJhdiBY5XkXYul7aICVfDkWEX9esxF9vCApg5x45YKJLb2C1DJZgLXq3YMiX22BOAwFh3TEVYT8jKmE0oz9hMH5VYZuAa2H4vIBh3Z2LYexMlmEjt6BhL8qqYQt3tGGpr71hI2rGYWSdzmH1Q9ZhIlndYWna42Gxx+lhCSHvYbDo82FNIPhhocr7YV7q/mHbwABid8kBYsWPAmJcFANiqVcDYsJZA2LnGgNiT5sCYnPbAWL72wBiCzz/YbFG/GGG4vhhoBP1YZza8GEeQOxhyE3nYWoO4mGRjNxhpNPWYebt0GG35cphdMTEYc+SvmHIWLhhJB2yYdLlq2ELuKVh3pefYWKImWE3jJNhG6WNYS7Uh2FlGoJhWu94YeXYbWG/8GJhfTZYYZapTWHbSENhYBM5YS0IL2FKJiVhhmwbYRraEWHtbQhhtE3+YGgI7GD6CdpgvFDIYDvbtmAKqKVg37WUYKMDhGAiIGdgi7RGYKbCJmDHSAdgC4vQX+9vk1/1gC5finKpXg==",
           "dtype": "f4"
          },
          "colorscale": [
           [
            0,
            "#440154"
           ],
           [
            0.1111111111111111,
            "#482878"
           ],
           [
            0.2222222222222222,
            "#3e4989"
           ],
           [
            0.3333333333333333,
            "#31688e"
           ],
           [
            0.4444444444444444,
            "#26828e"
           ],
           [
            0.5555555555555556,
            "#1f9e89"
           ],
           [
            0.6666666666666666,
            "#35b779"
           ],
           [
            0.7777777777777778,
            "#6ece58"
           ],
           [
            0.8888888888888888,
            "#b5de2b"
           ],
           [
            1,
            "#fde725"
           ]
          ],
          "showscale": false,
          "width": 4
         },
         "mode": "lines",
         "showlegend": false,
         "type": "scatter3d",
         "x": {
          "bdata": "AAAAALooDiy6KI4sFz3VLLooDi3osjEtFz1VLUbHeC26KI4t0e2fLeiysS0AeMMtFz3VLS4C5y1Gx/gtLkYFLrooDi5GCxcu0e0fLl3QKC7osjEudJU6LgB4Qy6LWkwuFz1VLqMfXi4uAmcuuuRvLkbHeC7p1IAuLkaFLnS3iS66KI4uAJqSLkYLly6LfJsu0e2fLhdfpC5d0Kguo0GtLuiysS4uJLYudJW6LroGvy4AeMMuRunHLotazC7Ry9AuFz3VLl2u2S6hH94u55DiLi0C5y5zc+suuOTvLv5V9C5Ex/guijj9LujUAC+LDQMvLkYFL9B+By90twkvFvALL7ooDi9cYRAv/5kSL6LSFC9FCxcv6EMZL4p8Gy8utR0v0O0fL3QmIi8WXyQvuZcmL1zQKC//CCsvokEtL0V6Ly/osjEvi+szLy4kNi/QXDgvdJU6LxbOPC+5Bj8vXD9BL/93Qy+isEUvRelHL+ghSi+LWkwvLpNOL9DLUC9zBFMvFj1VL7l1Vy9crlkv/+ZbLw==",
          "dtype": "f4"
         },
         "y": {
          "bdata": "XXQRQV10EUFddBFBXXQRQV10EUFddBFBXXQRQV10EUFddBFBXXQRQV10EUFddBFBXXQRQV10EUFddBFBXXQRQV10EUFddBFBXXQRQV10EUFddBFBXXQRQV10EUFddBFBXXQRQV10EUFddBFBXXQRQV10EUFddBFBXXQRQV10EUFddBFBXXQRQV10EUFddBFBXXQRQV10EUFddBFBXXQRQV10EUFddBFBXXQRQV10EUFddBFBXXQRQV10EUFddBFBXXQRQV10EUFddBFBXXQRQV10EUFddBFBXXQRQV10EUFddBFBXXQRQV10EUFddBFBXXQRQV10EUFddBFBXXQRQV10EUFddBFBXXQRQV10EUFddBFBXXQRQV10EUFddBFBXXQRQV10EUFddBFBXXQRQV10EUFddBFBXXQRQV10EUFddBFBXXQRQV10EUFddBFBXXQRQV10EUFddBFBXXQRQV10EUFddBFBXXQRQV10EUFddBFBXXQRQV10EUFddBFBXXQRQV10EUFddBFBXXQRQQ==",
          "dtype": "f4"
         },
         "z": {
          "bdata": "AAAAAFPQwVz9YJhdiBY5XkXYul7aICVfDkWEX9esxF9vCApg5x45YKJLb2C1DJZgLXq3YMiX22BOAwFh3TEVYT8jKmE0oz9hMH5VYZuAa2H4vIBh3Z2LYexMlmEjt6BhL8qqYQt3tGGpr71hI2rGYWSdzmH1Q9ZhIlndYWna42Gxx+lhCSHvYbDo82FNIPhhocr7YV7q/mHbwABid8kBYsWPAmJcFANiqVcDYsJZA2LnGgNiT5sCYnPbAWL72wBiCzz/YbFG/GGG4vhhoBP1YZza8GEeQOxhyE3nYWoO4mGRjNxhpNPWYebt0GG35cphdMTEYc+SvmHIWLhhJB2yYdLlq2ELuKVh3pefYWKImWE3jJNhG6WNYS7Uh2FlGoJhWu94YeXYbWG/8GJhfTZYYZapTWHbSENhYBM5YS0IL2FKJiVhhmwbYRraEWHtbQhhtE3+YGgI7GD6CdpgvFDIYDvbtmAKqKVg37WUYKMDhGAiIGdgi7RGYKbCJmDHSAdgC4vQX+9vk1/1gC5finKpXg==",
          "dtype": "f4"
         }
        },
        {
         "line": {
          "cmax": 607840919713266800000,
          "cmin": -595483677853483000,
          "color": {
           "bdata": "AAAAAEpLylwo6ptdf607XlGYvF4YPSZfwe+EXy1wxV9acwpg/445YCS8b2CfQpZgKqu3YFfB22BFEwFhHDwVYSQnKmFkoD9hqXRVYbNwa2EhsoBhnZCLYd49lmH7pqBhtbmqYRVntGENob1hul3GYeqTzmEYPtZhfFfdYXnd42HJz+lhaS7vYXH782FqOPhh8+f7YagM/2FP1ABiBt8BYiunAmJRLQNi3nEDYt10A2KMNgNiH7cCYgH3AWLm9gBi2m//Ya53/GE3D/lh0zr1YQz88GGNW+xhJGPnYaYd4mHYldxhLNfWYRDs0GH73sphXrnEYfiDvmHWRrhhwgiyYazPq2HFoKVhDICfYYVwmWG8dJNhV46NYVy+h2GfBYJh+cd4YYuzbWElzWJhShRYYVmITWEXKENhrPI4YRznLmGMBCVh4kkbYXq2EWFSSQhh2wL+YG2862CXvdlg1gTIYMmQtmAsYKVgrXGUYDrEg2AMrWZgHU9GYLBsJmDVAwdgwyXQX1sxk1+KVC5fJIypXg==",
           "dtype": "f4"
          },
          "colorscale": [
           [
            0,
            "#440154"
           ],
           [
            0.1111111111111111,
            "#482878"
           ],
           [
            0.2222222222222222,
            "#3e4989"
           ],
           [
            0.3333333333333333,
            "#31688e"
           ],
           [
            0.4444444444444444,
            "#26828e"
           ],
           [
            0.5555555555555556,
            "#1f9e89"
           ],
           [
            0.6666666666666666,
            "#35b779"
           ],
           [
            0.7777777777777778,
            "#6ece58"
           ],
           [
            0.8888888888888888,
            "#b5de2b"
           ],
           [
            1,
            "#fde725"
           ]
          ],
          "showscale": false,
          "width": 4
         },
         "mode": "lines",
         "showlegend": false,
         "type": "scatter3d",
         "x": {
          "bdata": "AAAAALooDiy6KI4sFz3VLLooDi3osjEtFz1VLUbHeC26KI4t0e2fLeiysS0AeMMtFz3VLS4C5y1Gx/gtLkYFLrooDi5GCxcu0e0fLl3QKC7osjEudJU6LgB4Qy6LWkwuFz1VLqMfXi4uAmcuuuRvLkbHeC7p1IAuLkaFLnS3iS66KI4uAJqSLkYLly6LfJsu0e2fLhdfpC5d0Kguo0GtLuiysS4uJLYudJW6LroGvy4AeMMuRunHLotazC7Ry9AuFz3VLl2u2S6hH94u55DiLi0C5y5zc+suuOTvLv5V9C5Ex/guijj9LujUAC+LDQMvLkYFL9B+By90twkvFvALL7ooDi9cYRAv/5kSL6LSFC9FCxcv6EMZL4p8Gy8utR0v0O0fL3QmIi8WXyQvuZcmL1zQKC//CCsvokEtL0V6Ly/osjEvi+szLy4kNi/QXDgvdJU6LxbOPC+5Bj8vXD9BL/93Qy+isEUvRelHL+ghSi+LWkwvLpNOL9DLUC9zBFMvFj1VL7l1Vy9crlkv/+ZbLw==",
          "dtype": "f4"
         },
         "y": {
          "bdata": "168UQdevFEHXrxRB168UQdevFEHXrxRB168UQdevFEHXrxRB168UQdevFEHXrxRB168UQdevFEHXrxRB168UQdevFEHXrxRB168UQdevFEHXrxRB168UQdevFEHXrxRB168UQdevFEHXrxRB168UQdevFEHXrxRB168UQdevFEHXrxRB168UQdevFEHXrxRB168UQdevFEHXrxRB168UQdevFEHXrxRB168UQdevFEHXrxRB168UQdevFEHXrxRB168UQdevFEHXrxRB168UQdevFEHXrxRB168UQdevFEHXrxRB168UQdevFEHXrxRB168UQdevFEHXrxRB168UQdevFEHXrxRB168UQdevFEHXrxRB168UQdevFEHXrxRB168UQdevFEHXrxRB168UQdevFEHXrxRB168UQdevFEHXrxRB168UQdevFEHXrxRB168UQdevFEHXrxRB168UQdevFEHXrxRB168UQdevFEHXrxRB168UQdevFEHXrxRB168UQdevFEHXrxRB168UQQ==",
          "dtype": "f4"
         },
         "z": {
          "bdata": "AAAAAEpLylwo6ptdf607XlGYvF4YPSZfwe+EXy1wxV9acwpg/445YCS8b2CfQpZgKqu3YFfB22BFEwFhHDwVYSQnKmFkoD9hqXRVYbNwa2EhsoBhnZCLYd49lmH7pqBhtbmqYRVntGENob1hul3GYeqTzmEYPtZhfFfdYXnd42HJz+lhaS7vYXH782FqOPhh8+f7YagM/2FP1ABiBt8BYiunAmJRLQNi3nEDYt10A2KMNgNiH7cCYgH3AWLm9gBi2m//Ya53/GE3D/lh0zr1YQz88GGNW+xhJGPnYaYd4mHYldxhLNfWYRDs0GH73sphXrnEYfiDvmHWRrhhwgiyYazPq2HFoKVhDICfYYVwmWG8dJNhV46NYVy+h2GfBYJh+cd4YYuzbWElzWJhShRYYVmITWEXKENhrPI4YRznLmGMBCVh4kkbYXq2EWFSSQhh2wL+YG2862CXvdlg1gTIYMmQtmAsYKVgrXGUYDrEg2AMrWZgHU9GYLBsJmDVAwdgwyXQX1sxk1+KVC5fJIypXg==",
          "dtype": "f4"
         }
        },
        {
         "line": {
          "cmax": 607840919713266800000,
          "cmin": -595483677853483000,
          "color": {
           "bdata": "AAAAAAm80lyaaZ9dUjw+XuVSvl4eVidfrpiFX7oxxl9g3QpgQ/45YPorcGA/eJZg4du3YK3q22AhIwFhP0YVYeQqKmFknT9h0mpVYVlga2EDp4Bh/4KLYVkulmFClqBhkaiqYVlWtGGUkb1hSVDGYVaJzmELN9ZhkFTdYS3f42F71ulhVTrvYbUM9GH4TvhhtAP8YWIt/2H+5gBiyPMBYse9AmJ8RQNiRIsDYiqPA2JeUQNiFNICYrsRAmL5EAFi6KH/YfGm/GE1OvlhYGD1Ydwb8WF+dexhBnfnYYUr4mHTndxhhNnWYR/p0GE918phW63EYU10vmEqNLhhx/OxYQe5q2EWiaVh6mefYXBYmWEhXZNhhXeNYYmoh2Hq8IFh0KB4YX+ObWHsqWJhdfJXYYBnTWG9B0NhU9I4YWDGLmET4yRhdicbYfiSEWHGJAhh6bf9YChw62C2cNlgOrjHYINFtmBPF6VgZCyUYKSDg2CAN2ZgQOdFYGIUJmC8vAZgv7zPX9Dvkl8CJC5fvaCpXg==",
           "dtype": "f4"
          },
          "colorscale": [
           [
            0,
            "#440154"
           ],
           [
            0.1111111111111111,
            "#482878"
           ],
           [
            0.2222222222222222,
            "#3e4989"
           ],
           [
            0.3333333333333333,
            "#31688e"
           ],
           [
            0.4444444444444444,
            "#26828e"
           ],
           [
            0.5555555555555556,
            "#1f9e89"
           ],
           [
            0.6666666666666666,
            "#35b779"
           ],
           [
            0.7777777777777778,
            "#6ece58"
           ],
           [
            0.8888888888888888,
            "#b5de2b"
           ],
           [
            1,
            "#fde725"
           ]
          ],
          "showscale": false,
          "width": 4
         },
         "mode": "lines",
         "showlegend": false,
         "type": "scatter3d",
         "x": {
          "bdata": "AAAAALooDiy6KI4sFz3VLLooDi3osjEtFz1VLUbHeC26KI4t0e2fLeiysS0AeMMtFz3VLS4C5y1Gx/gtLkYFLrooDi5GCxcu0e0fLl3QKC7osjEudJU6LgB4Qy6LWkwuFz1VLqMfXi4uAmcuuuRvLkbHeC7p1IAuLkaFLnS3iS66KI4uAJqSLkYLly6LfJsu0e2fLhdfpC5d0Kguo0GtLuiysS4uJLYudJW6LroGvy4AeMMuRunHLotazC7Ry9AuFz3VLl2u2S6hH94u55DiLi0C5y5zc+suuOTvLv5V9C5Ex/guijj9LujUAC+LDQMvLkYFL9B+By90twkvFvALL7ooDi9cYRAv/5kSL6LSFC9FCxcv6EMZL4p8Gy8utR0v0O0fL3QmIi8WXyQvuZcmL1zQKC//CCsvokEtL0V6Ly/osjEvi+szLy4kNi/QXDgvdJU6LxbOPC+5Bj8vXD9BL/93Qy+isEUvRelHL+ghSi+LWkwvLpNOL9DLUC9zBFMvFj1VL7l1Vy9crlkv/+ZbLw==",
          "dtype": "f4"
         },
         "y": {
          "bdata": "UOsXQVDrF0FQ6xdBUOsXQVDrF0FQ6xdBUOsXQVDrF0FQ6xdBUOsXQVDrF0FQ6xdBUOsXQVDrF0FQ6xdBUOsXQVDrF0FQ6xdBUOsXQVDrF0FQ6xdBUOsXQVDrF0FQ6xdBUOsXQVDrF0FQ6xdBUOsXQVDrF0FQ6xdBUOsXQVDrF0FQ6xdBUOsXQVDrF0FQ6xdBUOsXQVDrF0FQ6xdBUOsXQVDrF0FQ6xdBUOsXQVDrF0FQ6xdBUOsXQVDrF0FQ6xdBUOsXQVDrF0FQ6xdBUOsXQVDrF0FQ6xdBUOsXQVDrF0FQ6xdBUOsXQVDrF0FQ6xdBUOsXQVDrF0FQ6xdBUOsXQVDrF0FQ6xdBUOsXQVDrF0FQ6xdBUOsXQVDrF0FQ6xdBUOsXQVDrF0FQ6xdBUOsXQVDrF0FQ6xdBUOsXQVDrF0FQ6xdBUOsXQVDrF0FQ6xdBUOsXQVDrF0FQ6xdBUOsXQVDrF0FQ6xdBUOsXQVDrF0FQ6xdBUOsXQVDrF0FQ6xdBUOsXQVDrF0FQ6xdBUOsXQQ==",
          "dtype": "f4"
         },
         "z": {
          "bdata": "AAAAAAm80lyaaZ9dUjw+XuVSvl4eVidfrpiFX7oxxl9g3QpgQ/45YPorcGA/eJZg4du3YK3q22AhIwFhP0YVYeQqKmFknT9h0mpVYVlga2EDp4Bh/4KLYVkulmFClqBhkaiqYVlWtGGUkb1hSVDGYVaJzmELN9ZhkFTdYS3f42F71ulhVTrvYbUM9GH4TvhhtAP8YWIt/2H+5gBiyPMBYse9AmJ8RQNiRIsDYiqPA2JeUQNiFNICYrsRAmL5EAFi6KH/YfGm/GE1OvlhYGD1Ydwb8WF+dexhBnfnYYUr4mHTndxhhNnWYR/p0GE918phW63EYU10vmEqNLhhx/OxYQe5q2EWiaVh6mefYXBYmWEhXZNhhXeNYYmoh2Hq8IFh0KB4YX+ObWHsqWJhdfJXYYBnTWG9B0NhU9I4YWDGLmET4yRhdicbYfiSEWHGJAhh6bf9YChw62C2cNlgOrjHYINFtmBPF6VgZCyUYKSDg2CAN2ZgQOdFYGIUJmC8vAZgv7zPX9Dvkl8CJC5fvaCpXg==",
          "dtype": "f4"
         }
        },
        {
         "line": {
          "cmax": 607840919713266800000,
          "cmin": -595483677853483000,
          "color": {
           "bdata": "AAAAAM8h21yH36JdPsNAXjkIwF75ayhf3z+GX3fxxl+LRgtgwGw6YB2bcGCWrZZgZgy4YN4T3GDxMgFhWFAVYZcuKmFHmj9h5GBVYdNPa2G+m4BhLHWLYYwelmEwhaBh/JaqYRRFtGFygb1hJELGYex9zmEbL9ZhtlDdYdTf42EQ3OlhGUXvYcEc9GFQZPhhNR78YcxM/2H7+ABi3gcCYrLTAmL1XANi9qMDYryoA2J1awNiTuwCYrArAmJNKgFif9L/Yb3U/GHDY/lhk4T1YWo68WEqjuxhxonnYVY44mHUpNxh+NrWYWfl0GHJzsphvaDEYSBkvmETIbhhat6xYRGiq2EocaVhlU+fYTZAmWFrRZNhomCNYbCSh2E23IFht3l4YYtpbWHVhmJh2dBXYeJGTWGg50JhQbI4YeulLmHlwSRhTgUbYbtvEWFuAAhhUG39YCQk62D8I9lgqmvHYCH6tWAzzqRgtuaTYI9Cg2DCwGVgD35FYKy6JWA1dAZgC1HPX+qrkl+87y1f4K+pXg==",
           "dtype": "f4"
          },
          "colorscale": [
           [
            0,
            "#440154"
           ],
           [
            0.1111111111111111,
            "#482878"
           ],
           [
            0.2222222222222222,
            "#3e4989"
           ],
           [
            0.3333333333333333,
            "#31688e"
           ],
           [
            0.4444444444444444,
            "#26828e"
           ],
           [
            0.5555555555555556,
            "#1f9e89"
           ],
           [
            0.6666666666666666,
            "#35b779"
           ],
           [
            0.7777777777777778,
            "#6ece58"
           ],
           [
            0.8888888888888888,
            "#b5de2b"
           ],
           [
            1,
            "#fde725"
           ]
          ],
          "showscale": false,
          "width": 4
         },
         "mode": "lines",
         "showlegend": false,
         "type": "scatter3d",
         "x": {
          "bdata": "AAAAALooDiy6KI4sFz3VLLooDi3osjEtFz1VLUbHeC26KI4t0e2fLeiysS0AeMMtFz3VLS4C5y1Gx/gtLkYFLrooDi5GCxcu0e0fLl3QKC7osjEudJU6LgB4Qy6LWkwuFz1VLqMfXi4uAmcuuuRvLkbHeC7p1IAuLkaFLnS3iS66KI4uAJqSLkYLly6LfJsu0e2fLhdfpC5d0Kguo0GtLuiysS4uJLYudJW6LroGvy4AeMMuRunHLotazC7Ry9AuFz3VLl2u2S6hH94u55DiLi0C5y5zc+suuOTvLv5V9C5Ex/guijj9LujUAC+LDQMvLkYFL9B+By90twkvFvALL7ooDi9cYRAv/5kSL6LSFC9FCxcv6EMZL4p8Gy8utR0v0O0fL3QmIi8WXyQvuZcmL1zQKC//CCsvokEtL0V6Ly/osjEvi+szLy4kNi/QXDgvdJU6LxbOPC+5Bj8vXD9BL/93Qy+isEUvRelHL+ghSi+LWkwvLpNOL9DLUC9zBFMvFj1VL7l1Vy9crlkv/+ZbLw==",
          "dtype": "f4"
         },
         "y": {
          "bdata": "yiYbQcomG0HKJhtByiYbQcomG0HKJhtByiYbQcomG0HKJhtByiYbQcomG0HKJhtByiYbQcomG0HKJhtByiYbQcomG0HKJhtByiYbQcomG0HKJhtByiYbQcomG0HKJhtByiYbQcomG0HKJhtByiYbQcomG0HKJhtByiYbQcomG0HKJhtByiYbQcomG0HKJhtByiYbQcomG0HKJhtByiYbQcomG0HKJhtByiYbQcomG0HKJhtByiYbQcomG0HKJhtByiYbQcomG0HKJhtByiYbQcomG0HKJhtByiYbQcomG0HKJhtByiYbQcomG0HKJhtByiYbQcomG0HKJhtByiYbQcomG0HKJhtByiYbQcomG0HKJhtByiYbQcomG0HKJhtByiYbQcomG0HKJhtByiYbQcomG0HKJhtByiYbQcomG0HKJhtByiYbQcomG0HKJhtByiYbQcomG0HKJhtByiYbQcomG0HKJhtByiYbQcomG0HKJhtByiYbQcomG0HKJhtByiYbQcomG0HKJhtByiYbQQ==",
          "dtype": "f4"
         },
         "z": {
          "bdata": "AAAAAM8h21yH36JdPsNAXjkIwF75ayhf3z+GX3fxxl+LRgtgwGw6YB2bcGCWrZZgZgy4YN4T3GDxMgFhWFAVYZcuKmFHmj9h5GBVYdNPa2G+m4BhLHWLYYwelmEwhaBh/JaqYRRFtGFygb1hJELGYex9zmEbL9ZhtlDdYdTf42EQ3OlhGUXvYcEc9GFQZPhhNR78YcxM/2H7+ABi3gcCYrLTAmL1XANi9qMDYryoA2J1awNiTuwCYrArAmJNKgFif9L/Yb3U/GHDY/lhk4T1YWo68WEqjuxhxonnYVY44mHUpNxh+NrWYWfl0GHJzsphvaDEYSBkvmETIbhhat6xYRGiq2EocaVhlU+fYTZAmWFrRZNhomCNYbCSh2E23IFht3l4YYtpbWHVhmJh2dBXYeJGTWGg50JhQbI4YeulLmHlwSRhTgUbYbtvEWFuAAhhUG39YCQk62D8I9lgqmvHYCH6tWAzzqRgtuaTYI9Cg2DCwGVgD35FYKy6JWA1dAZgC1HPX+qrkl+87y1f4K+pXg==",
          "dtype": "f4"
         }
        },
        {
         "line": {
          "cmax": 607840919713266800000,
          "cmin": -595483677853483000,
          "color": {
           "bdata": "AAAAAJF741zpS6ZdXEJDXj64wV6sfilfUeWGX2ivx1/Rrgtgb9o6YI8JcWCp4pZgvDy4YPY83GC+QgFhdloVYVEyKmE8lz9h/FZVYUI/a2FvkIBhRWeLYaAOlmHsc6BhI4WqYXgztGHscL1hgzPGYfhxzmGCJtZhGkzdYbrf42HV4Olh9U7vYdwr9GGuePhhrTf8YStr/2FxCgFiZhsCYgnpAmLScwNiCrwDYq/BA2LnhANi4wUDYgNFAmL4QgFi5wAAYj4B/WEZjPlhnaf1YehX8WHspexhq5vnYWZE4mEwq9xh39vWYTXh0GHzxcphyZPEYadTvmG/Dbhh4MixYfeKq2EaWaVhJzefYeQnmWGeLZNhq0mNYcV8h2Fxx4Fhf1J4YX9EbWGuY2JhNq9XYUkmTWGcx0JhUpI4YaiFLmHzoCRhceMaYdBMEWF23AdhdSP9YN3Y6mDu19hgtR/HYDuvtWB4haRgTKGTYJgBg2D7SWVglBRFYHVgJWAEKwZgzePOX2Fmkl9WuC1fgbmpXg==",
           "dtype": "f4"
          },
          "colorscale": [
           [
            0,
            "#440154"
           ],
           [
            0.1111111111111111,
            "#482878"
           ],
           [
            0.2222222222222222,
            "#3e4989"
           ],
           [
            0.3333333333333333,
            "#31688e"
           ],
           [
            0.4444444444444444,
            "#26828e"
           ],
           [
            0.5555555555555556,
            "#1f9e89"
           ],
           [
            0.6666666666666666,
            "#35b779"
           ],
           [
            0.7777777777777778,
            "#6ece58"
           ],
           [
            0.8888888888888888,
            "#b5de2b"
           ],
           [
            1,
            "#fde725"
           ]
          ],
          "showscale": false,
          "width": 4
         },
         "mode": "lines",
         "showlegend": false,
         "type": "scatter3d",
         "x": {
          "bdata": "AAAAALooDiy6KI4sFz3VLLooDi3osjEtFz1VLUbHeC26KI4t0e2fLeiysS0AeMMtFz3VLS4C5y1Gx/gtLkYFLrooDi5GCxcu0e0fLl3QKC7osjEudJU6LgB4Qy6LWkwuFz1VLqMfXi4uAmcuuuRvLkbHeC7p1IAuLkaFLnS3iS66KI4uAJqSLkYLly6LfJsu0e2fLhdfpC5d0Kguo0GtLuiysS4uJLYudJW6LroGvy4AeMMuRunHLotazC7Ry9AuFz3VLl2u2S6hH94u55DiLi0C5y5zc+suuOTvLv5V9C5Ex/guijj9LujUAC+LDQMvLkYFL9B+By90twkvFvALL7ooDi9cYRAv/5kSL6LSFC9FCxcv6EMZL4p8Gy8utR0v0O0fL3QmIi8WXyQvuZcmL1zQKC//CCsvokEtL0V6Ly/osjEvi+szLy4kNi/QXDgvdJU6LxbOPC+5Bj8vXD9BL/93Qy+isEUvRelHL+ghSi+LWkwvLpNOL9DLUC9zBFMvFj1VL7l1Vy9crlkv/+ZbLw==",
          "dtype": "f4"
         },
         "y": {
          "bdata": "Q2IeQUNiHkFDYh5BQ2IeQUNiHkFDYh5BQ2IeQUNiHkFDYh5BQ2IeQUNiHkFDYh5BQ2IeQUNiHkFDYh5BQ2IeQUNiHkFDYh5BQ2IeQUNiHkFDYh5BQ2IeQUNiHkFDYh5BQ2IeQUNiHkFDYh5BQ2IeQUNiHkFDYh5BQ2IeQUNiHkFDYh5BQ2IeQUNiHkFDYh5BQ2IeQUNiHkFDYh5BQ2IeQUNiHkFDYh5BQ2IeQUNiHkFDYh5BQ2IeQUNiHkFDYh5BQ2IeQUNiHkFDYh5BQ2IeQUNiHkFDYh5BQ2IeQUNiHkFDYh5BQ2IeQUNiHkFDYh5BQ2IeQUNiHkFDYh5BQ2IeQUNiHkFDYh5BQ2IeQUNiHkFDYh5BQ2IeQUNiHkFDYh5BQ2IeQUNiHkFDYh5BQ2IeQUNiHkFDYh5BQ2IeQUNiHkFDYh5BQ2IeQUNiHkFDYh5BQ2IeQUNiHkFDYh5BQ2IeQUNiHkFDYh5BQ2IeQUNiHkFDYh5BQ2IeQUNiHkFDYh5BQ2IeQUNiHkFDYh5BQ2IeQQ==",
          "dtype": "f4"
         },
         "z": {
          "bdata": "AAAAAJF741zpS6ZdXEJDXj64wV6sfilfUeWGX2ivx1/Rrgtgb9o6YI8JcWCp4pZgvDy4YPY83GC+QgFhdloVYVEyKmE8lz9h/FZVYUI/a2FvkIBhRWeLYaAOlmHsc6BhI4WqYXgztGHscL1hgzPGYfhxzmGCJtZhGkzdYbrf42HV4Olh9U7vYdwr9GGuePhhrTf8YStr/2FxCgFiZhsCYgnpAmLScwNiCrwDYq/BA2LnhANi4wUDYgNFAmL4QgFi5wAAYj4B/WEZjPlhnaf1YehX8WHspexhq5vnYWZE4mEwq9xh39vWYTXh0GHzxcphyZPEYadTvmG/Dbhh4MixYfeKq2EaWaVhJzefYeQnmWGeLZNhq0mNYcV8h2Fxx4Fhf1J4YX9EbWGuY2JhNq9XYUkmTWGcx0JhUpI4YaiFLmHzoCRhceMaYdBMEWF23AdhdSP9YN3Y6mDu19hgtR/HYDuvtWB4haRgTKGTYJgBg2D7SWVglBRFYHVgJWAEKwZgzePOX2Fmkl9WuC1fgbmpXg==",
          "dtype": "f4"
         }
        }
       ],
       "layout": {
        "height": 700,
        "scene": {
         "xaxis": {
          "autorange": "reversed",
          "title": {
           "text": "Mass (m)"
          }
         },
         "yaxis": {
          "title": {
           "text": "Time (t)"
          }
         },
         "zaxis": {
          "title": {
           "text": "n(m, t)"
          }
         }
        },
        "template": {
         "data": {
          "bar": [
           {
            "error_x": {
             "color": "#2a3f5f"
            },
            "error_y": {
             "color": "#2a3f5f"
            },
            "marker": {
             "line": {
              "color": "#E5ECF6",
              "width": 0.5
             },
             "pattern": {
              "fillmode": "overlay",
              "size": 10,
              "solidity": 0.2
             }
            },
            "type": "bar"
           }
          ],
          "barpolar": [
           {
            "marker": {
             "line": {
              "color": "#E5ECF6",
              "width": 0.5
             },
             "pattern": {
              "fillmode": "overlay",
              "size": 10,
              "solidity": 0.2
             }
            },
            "type": "barpolar"
           }
          ],
          "carpet": [
           {
            "aaxis": {
             "endlinecolor": "#2a3f5f",
             "gridcolor": "white",
             "linecolor": "white",
             "minorgridcolor": "white",
             "startlinecolor": "#2a3f5f"
            },
            "baxis": {
             "endlinecolor": "#2a3f5f",
             "gridcolor": "white",
             "linecolor": "white",
             "minorgridcolor": "white",
             "startlinecolor": "#2a3f5f"
            },
            "type": "carpet"
           }
          ],
          "choropleth": [
           {
            "colorbar": {
             "outlinewidth": 0,
             "ticks": ""
            },
            "type": "choropleth"
           }
          ],
          "contour": [
           {
            "colorbar": {
             "outlinewidth": 0,
             "ticks": ""
            },
            "colorscale": [
             [
              0,
              "#0d0887"
             ],
             [
              0.1111111111111111,
              "#46039f"
             ],
             [
              0.2222222222222222,
              "#7201a8"
             ],
             [
              0.3333333333333333,
              "#9c179e"
             ],
             [
              0.4444444444444444,
              "#bd3786"
             ],
             [
              0.5555555555555556,
              "#d8576b"
             ],
             [
              0.6666666666666666,
              "#ed7953"
             ],
             [
              0.7777777777777778,
              "#fb9f3a"
             ],
             [
              0.8888888888888888,
              "#fdca26"
             ],
             [
              1,
              "#f0f921"
             ]
            ],
            "type": "contour"
           }
          ],
          "contourcarpet": [
           {
            "colorbar": {
             "outlinewidth": 0,
             "ticks": ""
            },
            "type": "contourcarpet"
           }
          ],
          "heatmap": [
           {
            "colorbar": {
             "outlinewidth": 0,
             "ticks": ""
            },
            "colorscale": [
             [
              0,
              "#0d0887"
             ],
             [
              0.1111111111111111,
              "#46039f"
             ],
             [
              0.2222222222222222,
              "#7201a8"
             ],
             [
              0.3333333333333333,
              "#9c179e"
             ],
             [
              0.4444444444444444,
              "#bd3786"
             ],
             [
              0.5555555555555556,
              "#d8576b"
             ],
             [
              0.6666666666666666,
              "#ed7953"
             ],
             [
              0.7777777777777778,
              "#fb9f3a"
             ],
             [
              0.8888888888888888,
              "#fdca26"
             ],
             [
              1,
              "#f0f921"
             ]
            ],
            "type": "heatmap"
           }
          ],
          "histogram": [
           {
            "marker": {
             "pattern": {
              "fillmode": "overlay",
              "size": 10,
              "solidity": 0.2
             }
            },
            "type": "histogram"
           }
          ],
          "histogram2d": [
           {
            "colorbar": {
             "outlinewidth": 0,
             "ticks": ""
            },
            "colorscale": [
             [
              0,
              "#0d0887"
             ],
             [
              0.1111111111111111,
              "#46039f"
             ],
             [
              0.2222222222222222,
              "#7201a8"
             ],
             [
              0.3333333333333333,
              "#9c179e"
             ],
             [
              0.4444444444444444,
              "#bd3786"
             ],
             [
              0.5555555555555556,
              "#d8576b"
             ],
             [
              0.6666666666666666,
              "#ed7953"
             ],
             [
              0.7777777777777778,
              "#fb9f3a"
             ],
             [
              0.8888888888888888,
              "#fdca26"
             ],
             [
              1,
              "#f0f921"
             ]
            ],
            "type": "histogram2d"
           }
          ],
          "histogram2dcontour": [
           {
            "colorbar": {
             "outlinewidth": 0,
             "ticks": ""
            },
            "colorscale": [
             [
              0,
              "#0d0887"
             ],
             [
              0.1111111111111111,
              "#46039f"
             ],
             [
              0.2222222222222222,
              "#7201a8"
             ],
             [
              0.3333333333333333,
              "#9c179e"
             ],
             [
              0.4444444444444444,
              "#bd3786"
             ],
             [
              0.5555555555555556,
              "#d8576b"
             ],
             [
              0.6666666666666666,
              "#ed7953"
             ],
             [
              0.7777777777777778,
              "#fb9f3a"
             ],
             [
              0.8888888888888888,
              "#fdca26"
             ],
             [
              1,
              "#f0f921"
             ]
            ],
            "type": "histogram2dcontour"
           }
          ],
          "mesh3d": [
           {
            "colorbar": {
             "outlinewidth": 0,
             "ticks": ""
            },
            "type": "mesh3d"
           }
          ],
          "parcoords": [
           {
            "line": {
             "colorbar": {
              "outlinewidth": 0,
              "ticks": ""
             }
            },
            "type": "parcoords"
           }
          ],
          "pie": [
           {
            "automargin": true,
            "type": "pie"
           }
          ],
          "scatter": [
           {
            "fillpattern": {
             "fillmode": "overlay",
             "size": 10,
             "solidity": 0.2
            },
            "type": "scatter"
           }
          ],
          "scatter3d": [
           {
            "line": {
             "colorbar": {
              "outlinewidth": 0,
              "ticks": ""
             }
            },
            "marker": {
             "colorbar": {
              "outlinewidth": 0,
              "ticks": ""
             }
            },
            "type": "scatter3d"
           }
          ],
          "scattercarpet": [
           {
            "marker": {
             "colorbar": {
              "outlinewidth": 0,
              "ticks": ""
             }
            },
            "type": "scattercarpet"
           }
          ],
          "scattergeo": [
           {
            "marker": {
             "colorbar": {
              "outlinewidth": 0,
              "ticks": ""
             }
            },
            "type": "scattergeo"
           }
          ],
          "scattergl": [
           {
            "marker": {
             "colorbar": {
              "outlinewidth": 0,
              "ticks": ""
             }
            },
            "type": "scattergl"
           }
          ],
          "scattermap": [
           {
            "marker": {
             "colorbar": {
              "outlinewidth": 0,
              "ticks": ""
             }
            },
            "type": "scattermap"
           }
          ],
          "scattermapbox": [
           {
            "marker": {
             "colorbar": {
              "outlinewidth": 0,
              "ticks": ""
             }
            },
            "type": "scattermapbox"
           }
          ],
          "scatterpolar": [
           {
            "marker": {
             "colorbar": {
              "outlinewidth": 0,
              "ticks": ""
             }
            },
            "type": "scatterpolar"
           }
          ],
          "scatterpolargl": [
           {
            "marker": {
             "colorbar": {
              "outlinewidth": 0,
              "ticks": ""
             }
            },
            "type": "scatterpolargl"
           }
          ],
          "scatterternary": [
           {
            "marker": {
             "colorbar": {
              "outlinewidth": 0,
              "ticks": ""
             }
            },
            "type": "scatterternary"
           }
          ],
          "surface": [
           {
            "colorbar": {
             "outlinewidth": 0,
             "ticks": ""
            },
            "colorscale": [
             [
              0,
              "#0d0887"
             ],
             [
              0.1111111111111111,
              "#46039f"
             ],
             [
              0.2222222222222222,
              "#7201a8"
             ],
             [
              0.3333333333333333,
              "#9c179e"
             ],
             [
              0.4444444444444444,
              "#bd3786"
             ],
             [
              0.5555555555555556,
              "#d8576b"
             ],
             [
              0.6666666666666666,
              "#ed7953"
             ],
             [
              0.7777777777777778,
              "#fb9f3a"
             ],
             [
              0.8888888888888888,
              "#fdca26"
             ],
             [
              1,
              "#f0f921"
             ]
            ],
            "type": "surface"
           }
          ],
          "table": [
           {
            "cells": {
             "fill": {
              "color": "#EBF0F8"
             },
             "line": {
              "color": "white"
             }
            },
            "header": {
             "fill": {
              "color": "#C8D4E3"
             },
             "line": {
              "color": "white"
             }
            },
            "type": "table"
           }
          ]
         },
         "layout": {
          "annotationdefaults": {
           "arrowcolor": "#2a3f5f",
           "arrowhead": 0,
           "arrowwidth": 1
          },
          "autotypenumbers": "strict",
          "coloraxis": {
           "colorbar": {
            "outlinewidth": 0,
            "ticks": ""
           }
          },
          "colorscale": {
           "diverging": [
            [
             0,
             "#8e0152"
            ],
            [
             0.1,
             "#c51b7d"
            ],
            [
             0.2,
             "#de77ae"
            ],
            [
             0.3,
             "#f1b6da"
            ],
            [
             0.4,
             "#fde0ef"
            ],
            [
             0.5,
             "#f7f7f7"
            ],
            [
             0.6,
             "#e6f5d0"
            ],
            [
             0.7,
             "#b8e186"
            ],
            [
             0.8,
             "#7fbc41"
            ],
            [
             0.9,
             "#4d9221"
            ],
            [
             1,
             "#276419"
            ]
           ],
           "sequential": [
            [
             0,
             "#0d0887"
            ],
            [
             0.1111111111111111,
             "#46039f"
            ],
            [
             0.2222222222222222,
             "#7201a8"
            ],
            [
             0.3333333333333333,
             "#9c179e"
            ],
            [
             0.4444444444444444,
             "#bd3786"
            ],
            [
             0.5555555555555556,
             "#d8576b"
            ],
            [
             0.6666666666666666,
             "#ed7953"
            ],
            [
             0.7777777777777778,
             "#fb9f3a"
            ],
            [
             0.8888888888888888,
             "#fdca26"
            ],
            [
             1,
             "#f0f921"
            ]
           ],
           "sequentialminus": [
            [
             0,
             "#0d0887"
            ],
            [
             0.1111111111111111,
             "#46039f"
            ],
            [
             0.2222222222222222,
             "#7201a8"
            ],
            [
             0.3333333333333333,
             "#9c179e"
            ],
            [
             0.4444444444444444,
             "#bd3786"
            ],
            [
             0.5555555555555556,
             "#d8576b"
            ],
            [
             0.6666666666666666,
             "#ed7953"
            ],
            [
             0.7777777777777778,
             "#fb9f3a"
            ],
            [
             0.8888888888888888,
             "#fdca26"
            ],
            [
             1,
             "#f0f921"
            ]
           ]
          },
          "colorway": [
           "#636efa",
           "#EF553B",
           "#00cc96",
           "#ab63fa",
           "#FFA15A",
           "#19d3f3",
           "#FF6692",
           "#B6E880",
           "#FF97FF",
           "#FECB52"
          ],
          "font": {
           "color": "#2a3f5f"
          },
          "geo": {
           "bgcolor": "white",
           "lakecolor": "white",
           "landcolor": "#E5ECF6",
           "showlakes": true,
           "showland": true,
           "subunitcolor": "white"
          },
          "hoverlabel": {
           "align": "left"
          },
          "hovermode": "closest",
          "mapbox": {
           "style": "light"
          },
          "paper_bgcolor": "white",
          "plot_bgcolor": "#E5ECF6",
          "polar": {
           "angularaxis": {
            "gridcolor": "white",
            "linecolor": "white",
            "ticks": ""
           },
           "bgcolor": "#E5ECF6",
           "radialaxis": {
            "gridcolor": "white",
            "linecolor": "white",
            "ticks": ""
           }
          },
          "scene": {
           "xaxis": {
            "backgroundcolor": "#E5ECF6",
            "gridcolor": "white",
            "gridwidth": 2,
            "linecolor": "white",
            "showbackground": true,
            "ticks": "",
            "zerolinecolor": "white"
           },
           "yaxis": {
            "backgroundcolor": "#E5ECF6",
            "gridcolor": "white",
            "gridwidth": 2,
            "linecolor": "white",
            "showbackground": true,
            "ticks": "",
            "zerolinecolor": "white"
           },
           "zaxis": {
            "backgroundcolor": "#E5ECF6",
            "gridcolor": "white",
            "gridwidth": 2,
            "linecolor": "white",
            "showbackground": true,
            "ticks": "",
            "zerolinecolor": "white"
           }
          },
          "shapedefaults": {
           "line": {
            "color": "#2a3f5f"
           }
          },
          "ternary": {
           "aaxis": {
            "gridcolor": "white",
            "linecolor": "white",
            "ticks": ""
           },
           "baxis": {
            "gridcolor": "white",
            "linecolor": "white",
            "ticks": ""
           },
           "bgcolor": "#E5ECF6",
           "caxis": {
            "gridcolor": "white",
            "linecolor": "white",
            "ticks": ""
           }
          },
          "title": {
           "x": 0.05
          },
          "xaxis": {
           "automargin": true,
           "gridcolor": "white",
           "linecolor": "white",
           "ticks": "",
           "title": {
            "standoff": 15
           },
           "zerolinecolor": "white",
           "zerolinewidth": 2
          },
          "yaxis": {
           "automargin": true,
           "gridcolor": "white",
           "linecolor": "white",
           "ticks": "",
           "title": {
            "standoff": 15
           },
           "zerolinecolor": "white",
           "zerolinewidth": 2
          }
         }
        },
        "title": {
         "text": ""
        },
        "width": 700
       }
      }
     },
     "metadata": {},
     "output_type": "display_data"
    },
    {
     "data": {
      "image/png": "[encoded data removed]",
      "text/plain": [
       "<Figure size 1000x600 with 3 Axes>"
      ]
     },
     "metadata": {},
     "output_type": "display_data"
    },
    {
     "data": {
      "image/png": "[encoded data removed]",
      "text/plain": [
       "<Figure size 1200x400 with 2 Axes>"
      ]
     },
     "metadata": {},
     "output_type": "display_data"
    }
   ],
   "source": [
    "#plotting\n",
    "n_true = torch.tensor(Dataset_validation[0][\"n\"].T, dtype=torch.float32)   # (T, M)\n",
    "S_true = torch.tensor(Dataset_validation[0][\"S\"], dtype=torch.float32)     # (T,)\n",
    "\n",
    "err_n = torch.norm(n_pred - n_true) / torch.norm(n_true)\n",
    "err_S = torch.norm(S_pred - S_true) / torch.norm(S_true)\n",
    "\n",
    "print(f\"Relative error biomass: {err_n:.3e}\")\n",
    "print(f\"Relative error substrate: {err_S:.3e}\")\n",
    "\n",
    "# -----------------------------\n",
    "# 6. Plot results\n",
    "# -----------------------------\n",
    "plot_spaghetti(m,t_eval, n_pred.detach().numpy().T)\n",
    "fig, axes = plt.subplots(1, 2, figsize=(10,6))\n",
    "\n",
    "# (1a) Biomass + substrate trajectories\n",
    "biomass_pred = (n_pred * m) .sum(dim=1) * delta_m   # shape (T,)\n",
    "biomass_true = (n_true * m).sum(dim=1) * delta_m   # shape (T,)\n",
    "ax = axes[0]\n",
    "ax.plot(biomass_pred.numpy(), label=\"Predicted biomass\", linestyle=\"--\")\n",
    "ax.plot(biomass_true.numpy(), label=\"True biomass\", linestyle=\":\")\n",
    "ax.plot(S_pred.numpy(), label=\"Predicted substrate\")\n",
    "ax.plot(S_true.numpy(), label=\"True substrate\", linestyle=\"--\")\n",
    "ax.set_xlabel(\"Time step\")\n",
    "ax.set_ylabel(\"Value\")\n",
    "ax.set_title(\"Biomass and substrate trajectories\")\n",
    "ax.legend()\n",
    "\n",
    "# (1b) Relative error heatmap\n",
    "ax = axes[1]\n",
    "eps = 1e-12\n",
    "rel_err_matrix = ((n_pred - n_true) / (n_true + eps)).detach().cpu().numpy()\n",
    "im = ax.imshow(rel_err_matrix.T, aspect=\"auto\", origin=\"lower\",\n",
    "               extent=[0, T_val, m[0].item(), m[-1].item()],\n",
    "               cmap=\"bwr\", vmin=-0.5, vmax=0.5)\n",
    "fig.colorbar(im, ax=ax, label=\"Relative error\")\n",
    "ax.set_xlabel(\"Time step\")\n",
    "ax.set_ylabel(\"Mass m\")\n",
    "ax.set_title(\"Relative error of biomass distribution\")\n",
    "\n",
    "plt.tight_layout()\n",
    "plt.show()\n",
    "\n",
    "\n",
    "# -----------------------------\n",
    "# FIGURE 2: Singular values + Cumulative energy\n",
    "# -----------------------------\n",
    "fig, axes = plt.subplots(1, 2, figsize=(12, 4))\n",
    "\n",
    "# (2a) Singular values\n",
    "ax = axes[0]\n",
    "ax.semilogy(S.numpy(), 'o-')\n",
    "ax.axvline(r, color=\"red\", linestyle=\"--\", label=f\"r={r}\")\n",
    "ax.set_xlabel(\"Singular value index\")\n",
    "ax.set_ylabel(\"Singular value (log scale)\")\n",
    "ax.set_title(\"Singular values of X\")\n",
    "ax.legend()\n",
    "\n",
    "# (2b) Cumulative singular value energy\n",
    "ax = axes[1]\n",
    "sing_energy = torch.cumsum(S, dim=0) / torch.sum(S)\n",
    "ax.plot(sing_energy.numpy(), 'o-', label=\"Cumulative energy\")\n",
    "ax.axvline(r, color=\"blue\", linestyle=\"--\", label=f\"r={r}\")\n",
    "ax.set_xlabel(\"Number of singular values kept (r)\")\n",
    "ax.set_ylabel(\"Cumulative energy\")\n",
    "ax.set_title(\"Cumulative energy of singular values\")\n",
    "ax.legend()\n",
    "\n",
    "plt.tight_layout()\n",
    "plt.show()\n",
    "\n"
   ]
  },
  {
   "cell_type": "markdown",
   "id": "8d8750fa",
   "metadata": {},
   "source": [
    "## Error evaluation Extended DMD\n",
    "in this part we will perform the same evaluation, as for DMD, but use the EDMD instead\n"
   ]
  },
  {
   "cell_type": "code",
   "execution_count": 67,
   "id": "7f9a8193",
   "metadata": {},
   "outputs": [
    {
     "name": "stdout",
     "output_type": "stream",
     "text": [
      "initial_biomass       0.425     1.075     1.725     2.375     3.025     3.675\n",
      "initial_substrate                                                            \n",
      "0.333333           0.409605  0.073916  0.225013  0.326983  0.390124  0.447649\n",
      "1.000000           0.240743  0.134875  0.279589  0.306931  0.257474  0.186302\n",
      "1.666667           0.137280  0.237014  0.340554  0.327423  0.234702  0.114662\n",
      "2.333333           0.111987  0.305438  0.364952  0.304711  0.163039  0.083765\n",
      "3.000000           0.160136  0.359909  0.364176  0.242071  0.047050  0.257593\n",
      "3.666667           0.266547  0.436104  0.367098  0.160797  0.159306  0.533721\n"
     ]
    },
    {
     "data": {
      "image/png": "[encoded data removed]",
      "text/plain": [
       "<Figure size 1800x500 with 6 Axes>"
      ]
     },
     "metadata": {},
     "output_type": "display_data"
    }
   ],
   "source": [
    "def edmd_rollout(entry, K_tilde, n_max, S_max, U_r, feature_fn, degree=3, delta_m=None, m=None):\n",
    "    \"\"\"\n",
    "    Perform an EDMD rollout for one dataset entry.\n",
    "\n",
    "    Parameters\n",
    "    ----------\n",
    "    entry : dict\n",
    "        One dataset entry containing:\n",
    "        - \"n\": biomass array (M x T)\n",
    "        - \"S\": substrate array (T,)\n",
    "    K_tilde : torch.Tensor\n",
    "        Reduced EDMD operator (r x r).\n",
    "    n_max : float\n",
    "        Normalization factor for biomass.\n",
    "    S_max : float\n",
    "        Normalization factor for substrate.\n",
    "    U_r : torch.Tensor\n",
    "        Reduced basis (columns are singular vectors).\n",
    "    feature_fn : function\n",
    "        Function mapping X -> Phi(X) (the feature map).\n",
    "    degree : int\n",
    "        Polynomial degree (if applicable for feature_fn).\n",
    "    delta_m : float, optional\n",
    "        Mass grid spacing (needed if biomass error is requested).\n",
    "    m : torch.Tensor, optional\n",
    "        Mass grid vector (needed if biomass error is requested).\n",
    "\n",
    "    Returns\n",
    "    -------\n",
    "    n_pred : torch.Tensor (T, M)\n",
    "        Predicted biomass distribution.\n",
    "    S_pred : torch.Tensor (T,)\n",
    "        Predicted substrate trajectory.\n",
    "    err_dist : float\n",
    "        Relative distribution error.\n",
    "    err_biomass : float\n",
    "        Relative biomass error.\n",
    "    err_S : float\n",
    "        Relative substrate error.\n",
    "    \"\"\"\n",
    "\n",
    "    n_true = torch.tensor(entry[\"n\"].T, dtype=torch.float32)   # (T, M)\n",
    "    S_true = torch.tensor(entry[\"S\"], dtype=torch.float32)     # (T,)\n",
    "    T, M = n_true.shape\n",
    "\n",
    "    # initial condition\n",
    "    n0 = n_true[0]\n",
    "    S0 = S_true[0]\n",
    "\n",
    "    # normalize\n",
    "    x0_norm = torch.cat([n0 / n_max, (S0 / S_max).unsqueeze(0)], dim=0)  # (M+1,)\n",
    "\n",
    "    # lift initial condition\n",
    "    phi0 = feature_fn(x0_norm.unsqueeze(0), degree=degree).squeeze(0)  # (feature_dim,)\n",
    "\n",
    "    # project into reduced space\n",
    "    z0 = U_r.T @ phi0\n",
    "    z_pred = torch.zeros((T, len(z0)))\n",
    "    z_pred[0] = z0\n",
    "\n",
    "    # rollout\n",
    "    for k in range(T - 1):\n",
    "        z_pred[k+1] = K_tilde @ z_pred[k]\n",
    "\n",
    "    # lift back\n",
    "    Phi_pred = (U_r @ z_pred.T).T   # (T, feature_dim)\n",
    "\n",
    "    # extract predictions from features (assuming [n, S, interactions...])\n",
    "    n_pred = Phi_pred[:, :M] * n_max\n",
    "    S_pred = Phi_pred[:, M] * S_max\n",
    "\n",
    "    # --- Error metrics ---\n",
    "    eps = 1e-12\n",
    "    n_pred = n_pred.to(torch.float64)\n",
    "    n_true = n_true.to(torch.float64)\n",
    "\n",
    "    # distribution error\n",
    "    err_dist = torch.norm(n_pred - n_true) / (torch.norm(n_true) + eps)\n",
    "\n",
    "    # biomass error (requires m, delta_m)\n",
    "    if (m is not None) and (delta_m is not None):\n",
    "        err_biomass = torch.norm((n_pred - n_true) * m * delta_m) / \\\n",
    "                      (torch.norm(n_true * m * delta_m) + eps)\n",
    "    else:\n",
    "        err_biomass = float(\"nan\")\n",
    "\n",
    "    # substrate error\n",
    "    err_S = torch.norm(S_pred - S_true) / (torch.norm(S_true) + eps)\n",
    "\n",
    "    return n_pred, S_pred, err_dist.item(), err_biomass.item(), err_S.item()\n",
    "\n",
    "# --- Run EDMD rollout over all validation datasets ---\n",
    "results_edmd = []\n",
    "\n",
    "for idx, entry in Dataset_error_est.items():\n",
    "    n_pred, S_pred, err_dist, err_biomass, err_S = edmd_rollout(\n",
    "        entry,\n",
    "        K_tilde,           # reduced EDMD operator\n",
    "        n_max, S_max,\n",
    "        U_r,               # reduced basis\n",
    "        feature_fn=EDMD_feature_space,  # <-- your feature function\n",
    "        degree=degree,  # polynomial degree for the feature space used in training\n",
    "        delta_m=delta_m,\n",
    "        m=m\n",
    "    )\n",
    "\n",
    "    results_edmd.append({\n",
    "        \"id\": idx,\n",
    "        \"initial_biomass\": entry[\"initial biomass\"],\n",
    "        \"initial_substrate\": entry[\"initial_substrate\"],\n",
    "        \"err_dist\": err_dist,\n",
    "        \"err_biomass\": err_biomass,\n",
    "        \"err_S\": err_S\n",
    "    })\n",
    "\n",
    "# --- Put into DataFrame ---\n",
    "df_edmd = pd.DataFrame(results_edmd)\n",
    "# print(df_edmd.head())\n",
    "# print(\"\\nError statistics:\")\n",
    "# print(df_edmd[[\"err_dist\", \"err_biomass\", \"err_S\"]].describe())\n",
    "\n",
    "# --- Aggregate across replicates (mean + std) ---\n",
    "pivot_dist_mean = df_edmd.pivot_table(\n",
    "    index=\"initial_substrate\", columns=\"initial_biomass\",\n",
    "    values=\"err_dist\", aggfunc=\"mean\"\n",
    ")\n",
    "pivot_S_mean = df_edmd.pivot_table(\n",
    "    index=\"initial_substrate\", columns=\"initial_biomass\",\n",
    "    values=\"err_S\", aggfunc=\"mean\"\n",
    ")\n",
    "print(pivot_S_mean)\n",
    "\n",
    "pivot_dist_std = df_edmd.pivot_table(\n",
    "    index=\"initial_substrate\", columns=\"initial_biomass\",\n",
    "    values=\"err_dist\", aggfunc=\"std\"\n",
    ")\n",
    "pivot_S_std = df_edmd.pivot_table(\n",
    "    index=\"initial_substrate\", columns=\"initial_biomass\",\n",
    "    values=\"err_S\", aggfunc=\"std\"\n",
    ")\n",
    "\n",
    "# --- Aggregate biomass + substrate error together (normalized) ---\n",
    "df_edmd[\"err_combined\"] = (\n",
    "    df_edmd[\"err_biomass\"] / df_edmd[\"err_biomass\"].max()\n",
    "    + df_edmd[\"err_S\"] / df_edmd[\"err_S\"].max()\n",
    ")\n",
    "\n",
    "pivot_comb_mean = df_edmd.pivot_table(\n",
    "    index=\"initial_substrate\", columns=\"initial_biomass\",\n",
    "    values=\"err_combined\", aggfunc=\"mean\"\n",
    ")\n",
    "\n",
    "# --- Plot all three heatmaps ---\n",
    "fig, axes = plt.subplots(1, 3, figsize=(18,5))\n",
    "\n",
    "# (1) Distribution error\n",
    "im1 = axes[0].imshow(pivot_dist_mean.values, origin=\"lower\", aspect=\"auto\",\n",
    "                     extent=[pivot_dist_mean.columns.min(), pivot_dist_mean.columns.max(),\n",
    "                             pivot_dist_mean.index.min(), pivot_dist_mean.index.max()],\n",
    "                     cmap=\"viridis\")\n",
    "axes[0].set_title(\"Biomass error (mean)\")\n",
    "axes[0].set_xlabel(\"Initial biomass B0\")\n",
    "axes[0].set_ylabel(\"Initial substrate S0\")\n",
    "fig.colorbar(im1, ax=axes[0], label=\"err_dist\")\n",
    "\n",
    "# (2) Substrate error\n",
    "im2 = axes[1].imshow(pivot_S_mean.values, origin=\"lower\", aspect=\"auto\",\n",
    "                     extent=[pivot_S_mean.columns.min(), pivot_S_mean.columns.max(),\n",
    "                             pivot_S_mean.index.min(), pivot_S_mean.index.max()],\n",
    "                     cmap=\"plasma\")\n",
    "axes[1].set_title(\"Substrate error (mean)\")\n",
    "axes[1].set_xlabel(\"Initial biomass B0\")\n",
    "axes[1].set_ylabel(\"Initial substrate S0\")\n",
    "fig.colorbar(im2, ax=axes[1], label=\"err_S\")\n",
    "\n",
    "# (3) Combined biomass + substrate error\n",
    "im3 = axes[2].imshow(pivot_comb_mean.values, origin=\"lower\", aspect=\"auto\",\n",
    "                     extent=[pivot_comb_mean.columns.min(), pivot_comb_mean.columns.max(),\n",
    "                             pivot_comb_mean.index.min(), pivot_comb_mean.index.max()],\n",
    "                     cmap=\"inferno\")\n",
    "axes[2].set_title(\"Combined biomass + substrate error\")\n",
    "axes[2].set_xlabel(\"Initial biomass B0\")\n",
    "axes[2].set_ylabel(\"Initial substrate S0\")\n",
    "fig.colorbar(im3, ax=axes[2], label=\"err_combined\")\n",
    "\n",
    "plt.tight_layout()\n",
    "plt.show()\n",
    "\n",
    "\n"
   ]
  }
 ],
 "metadata": {
  "kernelspec": {
   "display_name": "Python 3",
   "language": "python",
   "name": "python3"
  },
  "language_info": {
   "codemirror_mode": {
    "name": "ipython",
    "version": 3
   },
   "file_extension": ".py",
   "mimetype": "text/x-python",
   "name": "python",
   "nbconvert_exporter": "python",
   "pygments_lexer": "ipython3",
   "version": "3.10.6"
  }
 },
 "nbformat": 4,
 "nbformat_minor": 5
}
