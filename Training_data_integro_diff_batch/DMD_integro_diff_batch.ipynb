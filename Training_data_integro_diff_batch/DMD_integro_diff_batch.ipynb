{
 "cells": [
  {
   "cell_type": "markdown",
   "id": "d3c6b748",
   "metadata": {},
   "source": [
    "# DMD (for batch)\n",
    "similar to the easy model setup it will be attempted to create a DMD model for the System dynamics. \n",
    "However this time, DMD might be a lot better suited, since the system dimension is also a lot bigger than for the \"simple\" bioreactor model\n",
    "The data is used to find a best fit linear operator for the approximation of the nonlinear system such that\n",
    "$$x_{k+1}=A\\cdot x_{k}$$\n",
    "\n",
    "The practical computation uses the singular value decomposition of the snapshot matrices  \n",
    "SVD of $X = U \\Sigma V^T$ and $X' = A X = A U \\Sigma V^T$\n",
    "\n",
    "To solve for $A$, use the pseudoinverse:\n",
    "$$\n",
    "A = X' V \\Sigma^{-1} U^T\n",
    "$$\n",
    "\n",
    "Where:\n",
    "- $X = [x_1, ..., x_{m-1}]$ (data matrix of snapshots)\n",
    "- $X' = [x_2, ..., x_m]$ (data matrix shifted by one step)\n",
    "- $U, \\Sigma, V^T$ are from the SVD of $X$.\n",
    "\n",
    "This gives the best-fit linear operator $A$ such that $x_{k+1} \\approx A x_k$.\n"
   ]
  },
  {
   "cell_type": "code",
   "execution_count": 1,
   "id": "dab9b83a",
   "metadata": {},
   "outputs": [],
   "source": [
    "#imports\n",
    "import numpy as np\n",
    "from scipy.integrate import solve_ivp\n",
    "import matplotlib.pyplot as plt\n",
    "import math\n",
    "from functools import partial\n",
    "import pickle\n",
    "import torch\n",
    "import torch.nn as nn\n",
    "from Training_helper import *\n",
    "import pandas as pd\n",
    "%load_ext autoreload\n",
    "%autoreload 2\n",
    "\n"
   ]
  },
  {
   "cell_type": "markdown",
   "id": "87ea9b1b",
   "metadata": {},
   "source": [
    "# Data import"
   ]
  },
  {
   "cell_type": "code",
   "execution_count": 2,
   "id": "a20de635",
   "metadata": {},
   "outputs": [],
   "source": [
    "\n",
    "with open(\"Dataset_training_integro_diff_Batch.pkl\", \"rb\") as f:\n",
    "    Dataset = pickle.load(f)\n",
    "\n",
    "\n",
    "first = next(iter(Dataset.values()))\n",
    "M, T = first[\"n\"].shape\n",
    "dim=M+1  # +1 for S\n",
    "t_span=(0,0.1*T)\n",
    "t_eval= torch.linspace(*t_span,T)\n",
    "m=torch.linspace(0,2e-10,M, dtype=torch.float32)\n",
    "delta_m=(m[1]-m[0]).item()\n",
    "m_max=m[-1]\n",
    "\n",
    "n_max = max(torch.tensor(entry[\"n\"], dtype=torch.float32).max() for entry in Dataset.values())\n",
    "S_max = 5   #max possible substrate\n",
    "\n",
    "X_all, Y_all = [], []\n",
    "\n",
    "for entry in Dataset.values():\n",
    "    n = torch.tensor(entry[\"n\"], dtype=torch.float32)  # (M, T)\n",
    "    s = torch.tensor(entry[\"S\"], dtype=torch.float32)  # (T,)\n",
    "\n",
    "    n_norm = n / n_max#torch.log1p(n) / log_n_max                # log scaling\n",
    "    s_norm = s / S_max         \n",
    "\n",
    "    # X_t = [n(t), s(t)]\n",
    "    X = torch.cat([n_norm[:, :-1], s_norm[:-1].unsqueeze(0)], dim=0).T   # shape (T-1, M+1)\n",
    "    # Y_t = [n(t+1), s(t+1)]\n",
    "    Y = torch.cat([n_norm[:, 1:],  s_norm[1:].unsqueeze(0)], dim=0).T    # shape (T-1, M+1)\n",
    "\n",
    "    X_all.append(X)\n",
    "    Y_all.append(Y)\n",
    "\n",
    "# final stacked tensors\n",
    "X_train = torch.cat(X_all, dim=0)  # shape: (total_samples, M+1)\n",
    "Y_train = torch.cat(Y_all, dim=0)  # shape: (total_samples, M+1)\n",
    "\n",
    "\n",
    "#validation set containing 1 dataset used for plotting\n",
    "with open(\"Dataset_validation_integro_diff_Batch_for_plots.pkl\", \"rb\") as f:\n",
    "    Dataset_validation = pickle.load(f)\n",
    "\n",
    "n0 = torch.tensor(Dataset_validation[0][\"n\"][:, 0], dtype=torch.float32)   # (M,)\n",
    "S0 = torch.tensor(Dataset_validation[0][\"initial_substrate\"], dtype=torch.float32)\n",
    "\n",
    "#validation set containing 147 datasets used for error estimation over a broad range of parameters\n",
    "with open(\"Dataset_validation_integro_diff_Batch.pkl\",\"rb\") as f:\n",
    "    Dataset_error_est=pickle.load(f)\n"
   ]
  },
  {
   "cell_type": "markdown",
   "id": "3d9383b6",
   "metadata": {},
   "source": [
    "# DMD"
   ]
  },
  {
   "cell_type": "code",
   "execution_count": 3,
   "id": "81e81e35",
   "metadata": {},
   "outputs": [],
   "source": [
    "\n",
    "#snapshot matrices\n",
    "X_DMD = X_train.T       # shape: (d, N)\n",
    "Y = Y_train.T           # shape: (d, N)\n",
    "\n",
    "#Singular Value Decomposition\n",
    "U, S, Vh = torch.linalg.svd(X_DMD, full_matrices=False)\n",
    "\n",
    "# choose truncation rank\n",
    "r = 20\n",
    "\n",
    "#reduced matrices\n",
    "U_r = U[:, :r]\n",
    "S_r = S[:r]\n",
    "Vh_r = Vh[:r, :]\n",
    "\n",
    "Sigma_r_inv = torch.diag(1.0 / S_r)\n",
    "\n",
    "# reduced operator (r x r)\n",
    "A_tilde = U_r.T @ Y @ Vh_r.T @ Sigma_r_inv\n",
    "\n",
    "#------------Validation rollout ---------------\n",
    "\n",
    "\n",
    "# normalized initial state\n",
    "x0_norm = torch.cat([n0 / n_max, (S0 / S_max).unsqueeze(0)], dim=0)  # (M+1,)\n",
    "\n",
    "# project into reduced space\n",
    "z0 = U_r.T @ x0_norm   # (r,)\n",
    "\n",
    "# allocate reduced trajectory\n",
    "T_val = Dataset_validation[0][\"n\"].shape[1]\n",
    "z_pred = torch.zeros((T_val, r))\n",
    "z_pred[0] = z0\n",
    "\n",
    "for k in range(T_val - 1):\n",
    "    z_pred[k+1] = A_tilde @ z_pred[k]\n",
    "\n",
    "# lift back to full space\n",
    "x_pred_norm = (U_r @ z_pred.T).T   # (T, M+1)\n",
    "\n",
    "# rescale\n",
    "n_pred = x_pred_norm[:, :M] * n_max\n",
    "S_pred = x_pred_norm[:, -1] * S_max\n",
    "\n",
    "\n"
   ]
  },
  {
   "cell_type": "markdown",
   "id": "d669cc00",
   "metadata": {},
   "source": [
    "## Plotting (+visualization of validation example)"
   ]
  },
  {
   "cell_type": "code",
   "execution_count": 4,
   "id": "c2e65336",
   "metadata": {},
   "outputs": [
    {
     "data": {
      "application/vnd.plotly.v1+json": {
       "config": {
        "plotlyServerURL": "https://plot.ly"
       },
       "data": [
        {
         "line": {
          "cmax": 609594438449430000000,
          "cmin": -47443623273325130000,
          "color": {
           "bdata": "oksr2BsR59nyJJxbRdkXXG7JWFxuDo5cj+i2XIvb7FxSdRpd8sdJXcAlg131zqhd4QDXXYFNB16CmCheQTJQXg0Zf16tUJtewAa8XqCV4l4A3gdf3z8iX4DmQF9oV2RfYYuGX1rWnV/HR7hfDCvWX9Cy918ujw5gR1MjYO87OmAZYFNgmc9uYF5JhmAFV5Zg3o2nYMjmuWDrVM1gTcbhYMch92D/pAZhlwwSYUKzHWHMgClhi1s1YT0oQWE4yUxh7CBYYWcRY2FefG1hU0x3YckugGHLQYRhN9SHYSXfimEjWo1h1juPYZN7kGF+E5FhggGRYcpGkGHk5o5hX+eMYTxPimHMJodh9neDYdScfmH/bXVhRIBrYUTyYGHO41VhBHVKYQHFPmFb8jJhvBknYbJVG2Gevg9hlWoEYX/a8mAVr91gl2/JYI0ztmAUDaRg5wiTYAYvg2CABWlg7QVOYE1VNWAP4x5gwJgKYNO08F8QENBfVv2yX2UymV/YZ4JfKcdcX9YjOl9baB1f7iYDXw==",
           "dtype": "f4"
          },
          "colorbar": {
           "title": {
            "text": "n(m, t)"
           }
          },
          "colorscale": [
           [
            0,
            "#440154"
           ],
           [
            0.1111111111111111,
            "#482878"
           ],
           [
            0.2222222222222222,
            "#3e4989"
           ],
           [
            0.3333333333333333,
            "#31688e"
           ],
           [
            0.4444444444444444,
            "#26828e"
           ],
           [
            0.5555555555555556,
            "#1f9e89"
           ],
           [
            0.6666666666666666,
            "#35b779"
           ],
           [
            0.7777777777777778,
            "#6ece58"
           ],
           [
            0.8888888888888888,
            "#b5de2b"
           ],
           [
            1,
            "#fde725"
           ]
          ],
          "showscale": true,
          "width": 4
         },
         "mode": "lines",
         "showlegend": false,
         "type": "scatter3d",
         "x": {
          "bdata": "AAAAALooDiy6KI4sFz3VLLooDi3osjEtFz1VLUbHeC26KI4t0e2fLeiysS0AeMMtFz3VLS4C5y1Gx/gtLkYFLrooDi5GCxcu0e0fLl3QKC7osjEudJU6LgB4Qy6LWkwuFz1VLqMfXi4uAmcuuuRvLkbHeC7p1IAuLkaFLnS3iS66KI4uAJqSLkYLly6LfJsu0e2fLhdfpC5d0Kguo0GtLuiysS4uJLYudJW6LroGvy4AeMMuRunHLotazC7Ry9AuFz3VLl2u2S6hH94u55DiLi0C5y5zc+suuOTvLv5V9C5Ex/guijj9LujUAC+LDQMvLkYFL9B+By90twkvFvALL7ooDi9cYRAv/5kSL6LSFC9FCxcv6EMZL4p8Gy8utR0v0O0fL3QmIi8WXyQvuZcmL1zQKC//CCsvokEtL0V6Ly/osjEvi+szLy4kNi/QXDgvdJU6LxbOPC+5Bj8vXD9BL/93Qy+isEUvRelHL+ghSi+LWkwvLpNOL9DLUC9zBFMvFj1VL7l1Vy9crlkv/+ZbLw==",
          "dtype": "f4"
         },
         "y": {
          "bdata": "AAAAAAAAAAAAAAAAAAAAAAAAAAAAAAAAAAAAAAAAAAAAAAAAAAAAAAAAAAAAAAAAAAAAAAAAAAAAAAAAAAAAAAAAAAAAAAAAAAAAAAAAAAAAAAAAAAAAAAAAAAAAAAAAAAAAAAAAAAAAAAAAAAAAAAAAAAAAAAAAAAAAAAAAAAAAAAAAAAAAAAAAAAAAAAAAAAAAAAAAAAAAAAAAAAAAAAAAAAAAAAAAAAAAAAAAAAAAAAAAAAAAAAAAAAAAAAAAAAAAAAAAAAAAAAAAAAAAAAAAAAAAAAAAAAAAAAAAAAAAAAAAAAAAAAAAAAAAAAAAAAAAAAAAAAAAAAAAAAAAAAAAAAAAAAAAAAAAAAAAAAAAAAAAAAAAAAAAAAAAAAAAAAAAAAAAAAAAAAAAAAAAAAAAAAAAAAAAAAAAAAAAAAAAAAAAAAAAAAAAAAAAAAAAAAAAAAAAAAAAAAAAAAAAAAAAAAAAAAAAAAAAAAAAAAAAAAAAAAAAAAAAAAAAAAAAAAAAAAAAAAAAAAAAAAAAAA==",
          "dtype": "f4"
         },
         "z": {
          "bdata": "oksr2BsR59nyJJxbRdkXXG7JWFxuDo5cj+i2XIvb7FxSdRpd8sdJXcAlg131zqhd4QDXXYFNB16CmCheQTJQXg0Zf16tUJtewAa8XqCV4l4A3gdf3z8iX4DmQF9oV2RfYYuGX1rWnV/HR7hfDCvWX9Cy918ujw5gR1MjYO87OmAZYFNgmc9uYF5JhmAFV5Zg3o2nYMjmuWDrVM1gTcbhYMch92D/pAZhlwwSYUKzHWHMgClhi1s1YT0oQWE4yUxh7CBYYWcRY2FefG1hU0x3YckugGHLQYRhN9SHYSXfimEjWo1h1juPYZN7kGF+E5FhggGRYcpGkGHk5o5hX+eMYTxPimHMJodh9neDYdScfmH/bXVhRIBrYUTyYGHO41VhBHVKYQHFPmFb8jJhvBknYbJVG2Gevg9hlWoEYX/a8mAVr91gl2/JYI0ztmAUDaRg5wiTYAYvg2CABWlg7QVOYE1VNWAP4x5gwJgKYNO08F8QENBfVv2yX2UymV/YZ4JfKcdcX9YjOl9baB1f7iYDXw==",
          "dtype": "f4"
         }
        },
        {
         "line": {
          "cmax": 609594438449430000000,
          "cmin": -47443623273325130000,
          "color": {
           "bdata": "w5R41w7pPdxJTtjcucwz3Xbjg91nKLXdpnDv3ShOGt6uNkPerw9z3kgLld74/7PeW+HV3jTf+d6nWA/fq1sh3wr4Md9+/T/fwCJK3z31Tt8LBE3fvMlC38LQLt8xrQ/fWyPI3ltBK96ShehdTuDoXqHcW1+e36lfBCHuXw5RHWCrm0dgxcZ1YArKk2DMWa5gS1/KYP6c52Bg5QJhWEsSYe3SIWGYSzFh+4FAYZ9CT2FOWl1hr5hqYRXSdmE/8IBh8tKFYX8GimE8VY1h79uPYQ3VkWGZNJNhuveTYSgklGEnxZNhoOmSYX+ikWFtAZBhVReOYabyi2HtnYlhbB+HYfZ4hGGUqIFh1FJ9YQ7qdmEnCHBhbJ9oYWOkYGGMD1hhZd5OYeITRWF1uTph2d4vYaqZJGH6BBlhZkANYcpuAWF8aetgJm7UYKYyvmBU+KhgJviUYLtggmBZqWJgTdNDYEVQKGAGGBBg6hX2X9zo0V+RHrNf9BKZXxISg18Ax2BfSrBAX3bAJF+xWwxfEHzpXg==",
           "dtype": "f4"
          },
          "colorscale": [
           [
            0,
            "#440154"
           ],
           [
            0.1111111111111111,
            "#482878"
           ],
           [
            0.2222222222222222,
            "#3e4989"
           ],
           [
            0.3333333333333333,
            "#31688e"
           ],
           [
            0.4444444444444444,
            "#26828e"
           ],
           [
            0.5555555555555556,
            "#1f9e89"
           ],
           [
            0.6666666666666666,
            "#35b779"
           ],
           [
            0.7777777777777778,
            "#6ece58"
           ],
           [
            0.8888888888888888,
            "#b5de2b"
           ],
           [
            1,
            "#fde725"
           ]
          ],
          "showscale": false,
          "width": 4
         },
         "mode": "lines",
         "showlegend": false,
         "type": "scatter3d",
         "x": {
          "bdata": "AAAAALooDiy6KI4sFz3VLLooDi3osjEtFz1VLUbHeC26KI4t0e2fLeiysS0AeMMtFz3VLS4C5y1Gx/gtLkYFLrooDi5GCxcu0e0fLl3QKC7osjEudJU6LgB4Qy6LWkwuFz1VLqMfXi4uAmcuuuRvLkbHeC7p1IAuLkaFLnS3iS66KI4uAJqSLkYLly6LfJsu0e2fLhdfpC5d0Kguo0GtLuiysS4uJLYudJW6LroGvy4AeMMuRunHLotazC7Ry9AuFz3VLl2u2S6hH94u55DiLi0C5y5zc+suuOTvLv5V9C5Ex/guijj9LujUAC+LDQMvLkYFL9B+By90twkvFvALL7ooDi9cYRAv/5kSL6LSFC9FCxcv6EMZL4p8Gy8utR0v0O0fL3QmIi8WXyQvuZcmL1zQKC//CCsvokEtL0V6Ly/osjEvi+szLy4kNi/QXDgvdJU6LxbOPC+5Bj8vXD9BL/93Qy+isEUvRelHL+ghSi+LWkwvLpNOL9DLUC9zBFMvFj1VL7l1Vy9crlkv/+ZbLw==",
          "dtype": "f4"
         },
         "y": {
          "bdata": "Yt5OPmLeTj5i3k4+Yt5OPmLeTj5i3k4+Yt5OPmLeTj5i3k4+Yt5OPmLeTj5i3k4+Yt5OPmLeTj5i3k4+Yt5OPmLeTj5i3k4+Yt5OPmLeTj5i3k4+Yt5OPmLeTj5i3k4+Yt5OPmLeTj5i3k4+Yt5OPmLeTj5i3k4+Yt5OPmLeTj5i3k4+Yt5OPmLeTj5i3k4+Yt5OPmLeTj5i3k4+Yt5OPmLeTj5i3k4+Yt5OPmLeTj5i3k4+Yt5OPmLeTj5i3k4+Yt5OPmLeTj5i3k4+Yt5OPmLeTj5i3k4+Yt5OPmLeTj5i3k4+Yt5OPmLeTj5i3k4+Yt5OPmLeTj5i3k4+Yt5OPmLeTj5i3k4+Yt5OPmLeTj5i3k4+Yt5OPmLeTj5i3k4+Yt5OPmLeTj5i3k4+Yt5OPmLeTj5i3k4+Yt5OPmLeTj5i3k4+Yt5OPmLeTj5i3k4+Yt5OPmLeTj5i3k4+Yt5OPmLeTj5i3k4+Yt5OPmLeTj5i3k4+Yt5OPmLeTj5i3k4+Yt5OPmLeTj5i3k4+Yt5OPg==",
          "dtype": "f4"
         },
         "z": {
          "bdata": "w5R41w7pPdxJTtjcucwz3Xbjg91nKLXdpnDv3ShOGt6uNkPerw9z3kgLld74/7PeW+HV3jTf+d6nWA/fq1sh3wr4Md9+/T/fwCJK3z31Tt8LBE3fvMlC38LQLt8xrQ/fWyPI3ltBK96ShehdTuDoXqHcW1+e36lfBCHuXw5RHWCrm0dgxcZ1YArKk2DMWa5gS1/KYP6c52Bg5QJhWEsSYe3SIWGYSzFh+4FAYZ9CT2FOWl1hr5hqYRXSdmE/8IBh8tKFYX8GimE8VY1h79uPYQ3VkWGZNJNhuveTYSgklGEnxZNhoOmSYX+ikWFtAZBhVReOYabyi2HtnYlhbB+HYfZ4hGGUqIFh1FJ9YQ7qdmEnCHBhbJ9oYWOkYGGMD1hhZd5OYeITRWF1uTph2d4vYaqZJGH6BBlhZkANYcpuAWF8aetgJm7UYKYyvmBU+KhgJviUYLtggmBZqWJgTdNDYEVQKGAGGBBg6hX2X9zo0V+RHrNf9BKZXxISg18Ax2BfSrBAX3bAJF+xWwxfEHzpXg==",
          "dtype": "f4"
         }
        },
        {
         "line": {
          "cmax": 609594438449430000000,
          "cmin": -47443623273325130000,
          "color": {
           "bdata": "QBHj1lfvvdx8nG/dt2nI3bLhEN44RUPeRI193q8Yod4wxsneW7j53tO2GN+GaTjfZJJb3268gN8Yf5TfjVWo3yNZu99sfczfm53a3wp+5N984ejfxYrm365O3N9UGsnfr/+r3yQ6hN8OcSLfBL0U3iU0317P6I1f6HfvX0L+LWDYZGlgA7+UYMnetmA4wNpgVwIAYSEhE2EYgiZh7+U5YV0JTWHSpl9hiHdxYSgbgWGT0IhhAL6PYb/JlWFd35ph3fCeYVX3oWHfn6NhuRWkYYDFo2GHuKJhn/2gYZyonmGB0ZthApSYYRoOlWFQXpFhNqGNYe/uiWELWYZhtOmCYZhGf2FxAnlhvvFyYej2bGGO7mZhebNgYXEhWmEfGFNhcn1LYTY/Q2HEVDphcr8wYYWKJmG1yhthOZ0QYf4lBWGQG/NgDADcYENRxWBlY69gPYOaYKHyhmDVy2lgNARJYOi3K2Bf8BFgADH3X8b+0F9wurBfq6+VX7Qifl8mDFhfqWs3X8+4Gl+0xABfA7LQXg==",
           "dtype": "f4"
          },
          "colorscale": [
           [
            0,
            "#440154"
           ],
           [
            0.1111111111111111,
            "#482878"
           ],
           [
            0.2222222222222222,
            "#3e4989"
           ],
           [
            0.3333333333333333,
            "#31688e"
           ],
           [
            0.4444444444444444,
            "#26828e"
           ],
           [
            0.5555555555555556,
            "#1f9e89"
           ],
           [
            0.6666666666666666,
            "#35b779"
           ],
           [
            0.7777777777777778,
            "#6ece58"
           ],
           [
            0.8888888888888888,
            "#b5de2b"
           ],
           [
            1,
            "#fde725"
           ]
          ],
          "showscale": false,
          "width": 4
         },
         "mode": "lines",
         "showlegend": false,
         "type": "scatter3d",
         "x": {
          "bdata": "AAAAALooDiy6KI4sFz3VLLooDi3osjEtFz1VLUbHeC26KI4t0e2fLeiysS0AeMMtFz3VLS4C5y1Gx/gtLkYFLrooDi5GCxcu0e0fLl3QKC7osjEudJU6LgB4Qy6LWkwuFz1VLqMfXi4uAmcuuuRvLkbHeC7p1IAuLkaFLnS3iS66KI4uAJqSLkYLly6LfJsu0e2fLhdfpC5d0Kguo0GtLuiysS4uJLYudJW6LroGvy4AeMMuRunHLotazC7Ry9AuFz3VLl2u2S6hH94u55DiLi0C5y5zc+suuOTvLv5V9C5Ex/guijj9LujUAC+LDQMvLkYFL9B+By90twkvFvALL7ooDi9cYRAv/5kSL6LSFC9FCxcv6EMZL4p8Gy8utR0v0O0fL3QmIi8WXyQvuZcmL1zQKC//CCsvokEtL0V6Ly/osjEvi+szLy4kNi/QXDgvdJU6LxbOPC+5Bj8vXD9BL/93Qy+isEUvRelHL+ghSi+LWkwvLpNOL9DLUC9zBFMvFj1VL7l1Vy9crlkv/+ZbLw==",
          "dtype": "f4"
         },
         "y": {
          "bdata": "Yt7OPmLezj5i3s4+Yt7OPmLezj5i3s4+Yt7OPmLezj5i3s4+Yt7OPmLezj5i3s4+Yt7OPmLezj5i3s4+Yt7OPmLezj5i3s4+Yt7OPmLezj5i3s4+Yt7OPmLezj5i3s4+Yt7OPmLezj5i3s4+Yt7OPmLezj5i3s4+Yt7OPmLezj5i3s4+Yt7OPmLezj5i3s4+Yt7OPmLezj5i3s4+Yt7OPmLezj5i3s4+Yt7OPmLezj5i3s4+Yt7OPmLezj5i3s4+Yt7OPmLezj5i3s4+Yt7OPmLezj5i3s4+Yt7OPmLezj5i3s4+Yt7OPmLezj5i3s4+Yt7OPmLezj5i3s4+Yt7OPmLezj5i3s4+Yt7OPmLezj5i3s4+Yt7OPmLezj5i3s4+Yt7OPmLezj5i3s4+Yt7OPmLezj5i3s4+Yt7OPmLezj5i3s4+Yt7OPmLezj5i3s4+Yt7OPmLezj5i3s4+Yt7OPmLezj5i3s4+Yt7OPmLezj5i3s4+Yt7OPmLezj5i3s4+Yt7OPmLezj5i3s4+Yt7OPg==",
          "dtype": "f4"
         },
         "z": {
          "bdata": "QBHj1lfvvdx8nG/dt2nI3bLhEN44RUPeRI193q8Yod4wxsneW7j53tO2GN+GaTjfZJJb3268gN8Yf5TfjVWo3yNZu99sfczfm53a3wp+5N984ejfxYrm365O3N9UGsnfr/+r3yQ6hN8OcSLfBL0U3iU0317P6I1f6HfvX0L+LWDYZGlgA7+UYMnetmA4wNpgVwIAYSEhE2EYgiZh7+U5YV0JTWHSpl9hiHdxYSgbgWGT0IhhAL6PYb/JlWFd35ph3fCeYVX3oWHfn6NhuRWkYYDFo2GHuKJhn/2gYZyonmGB0ZthApSYYRoOlWFQXpFhNqGNYe/uiWELWYZhtOmCYZhGf2FxAnlhvvFyYej2bGGO7mZhebNgYXEhWmEfGFNhcn1LYTY/Q2HEVDphcr8wYYWKJmG1yhthOZ0QYf4lBWGQG/NgDADcYENRxWBlY69gPYOaYKHyhmDVy2lgNARJYOi3K2Bf8BFgADH3X8b+0F9wurBfq6+VX7Qifl8mDFhfqWs3X8+4Gl+0xABfA7LQXg==",
          "dtype": "f4"
         }
        },
        {
         "line": {
          "cmax": 609594438449430000000,
          "cmin": -47443623273325130000,
          "color": {
           "bdata": "KKmb1l8tCd3ez7Ddg14T3m3aUt4HMYzem2mz3onO4N7zCAvfakkq36iQTt9x5HffxOmS3xS5q98/psXfyLnf36fB+N9IrQfgdP8Q4JqHF+CPdBrgmvgY4FFTEuA/2AXgO+zl3252st9faWHfAFKB3r6j+l4n+atfcYMTYM94V2CnppBgiCi4YPja4WAQpQZhTPocYQmnM2EAYEphqtVgYWi1dmG+1YVhK7KPYdLHmGEk8aBhtQyoYar+rWH3sbJhdhm2YdswuGG1lbhhOXq3YVdktWExabJhu6SuYeE3qmH0RqVh5vifYbl1mmHf5JRhqmqPYQ8mimFELoVh5ZGAYYiseGEx8HBhv9hpYUVEY2H9B11hn/RWYbbZUGFwiUphXttDYQqvPGHS7TRhFYwsYVmJI2Em8BlhMdUPYapVBWHaKvVgXHnfYJLryWB91bRgOYagYCFEjWA8k3ZgA4ZVYCWaN2Cu6Rxg4W8FYA8X4l8cBr9fhRGhX82Ah1/mEmNfS7Y8Xy5cGl+4UfVedHK9Xg==",
           "dtype": "f4"
          },
          "colorscale": [
           [
            0,
            "#440154"
           ],
           [
            0.1111111111111111,
            "#482878"
           ],
           [
            0.2222222222222222,
            "#3e4989"
           ],
           [
            0.3333333333333333,
            "#31688e"
           ],
           [
            0.4444444444444444,
            "#26828e"
           ],
           [
            0.5555555555555556,
            "#1f9e89"
           ],
           [
            0.6666666666666666,
            "#35b779"
           ],
           [
            0.7777777777777778,
            "#6ece58"
           ],
           [
            0.8888888888888888,
            "#b5de2b"
           ],
           [
            1,
            "#fde725"
           ]
          ],
          "showscale": false,
          "width": 4
         },
         "mode": "lines",
         "showlegend": false,
         "type": "scatter3d",
         "x": {
          "bdata": "AAAAALooDiy6KI4sFz3VLLooDi3osjEtFz1VLUbHeC26KI4t0e2fLeiysS0AeMMtFz3VLS4C5y1Gx/gtLkYFLrooDi5GCxcu0e0fLl3QKC7osjEudJU6LgB4Qy6LWkwuFz1VLqMfXi4uAmcuuuRvLkbHeC7p1IAuLkaFLnS3iS66KI4uAJqSLkYLly6LfJsu0e2fLhdfpC5d0Kguo0GtLuiysS4uJLYudJW6LroGvy4AeMMuRunHLotazC7Ry9AuFz3VLl2u2S6hH94u55DiLi0C5y5zc+suuOTvLv5V9C5Ex/guijj9LujUAC+LDQMvLkYFL9B+By90twkvFvALL7ooDi9cYRAv/5kSL6LSFC9FCxcv6EMZL4p8Gy8utR0v0O0fL3QmIi8WXyQvuZcmL1zQKC//CCsvokEtL0V6Ly/osjEvi+szLy4kNi/QXDgvdJU6LxbOPC+5Bj8vXD9BL/93Qy+isEUvRelHL+ghSi+LWkwvLpNOL9DLUC9zBFMvFj1VL7l1Vy9crlkv/+ZbLw==",
          "dtype": "f4"
         },
         "y": {
          "bdata": "yiYbP8omGz/KJhs/yiYbP8omGz/KJhs/yiYbP8omGz/KJhs/yiYbP8omGz/KJhs/yiYbP8omGz/KJhs/yiYbP8omGz/KJhs/yiYbP8omGz/KJhs/yiYbP8omGz/KJhs/yiYbP8omGz/KJhs/yiYbP8omGz/KJhs/yiYbP8omGz/KJhs/yiYbP8omGz/KJhs/yiYbP8omGz/KJhs/yiYbP8omGz/KJhs/yiYbP8omGz/KJhs/yiYbP8omGz/KJhs/yiYbP8omGz/KJhs/yiYbP8omGz/KJhs/yiYbP8omGz/KJhs/yiYbP8omGz/KJhs/yiYbP8omGz/KJhs/yiYbP8omGz/KJhs/yiYbP8omGz/KJhs/yiYbP8omGz/KJhs/yiYbP8omGz/KJhs/yiYbP8omGz/KJhs/yiYbP8omGz/KJhs/yiYbP8omGz/KJhs/yiYbP8omGz/KJhs/yiYbP8omGz/KJhs/yiYbP8omGz/KJhs/yiYbP8omGz/KJhs/yiYbP8omGz/KJhs/yiYbPw==",
          "dtype": "f4"
         },
         "z": {
          "bdata": "KKmb1l8tCd3ez7Ddg14T3m3aUt4HMYzem2mz3onO4N7zCAvfakkq36iQTt9x5HffxOmS3xS5q98/psXfyLnf36fB+N9IrQfgdP8Q4JqHF+CPdBrgmvgY4FFTEuA/2AXgO+zl3252st9faWHfAFKB3r6j+l4n+atfcYMTYM94V2CnppBgiCi4YPja4WAQpQZhTPocYQmnM2EAYEphqtVgYWi1dmG+1YVhK7KPYdLHmGEk8aBhtQyoYar+rWH3sbJhdhm2YdswuGG1lbhhOXq3YVdktWExabJhu6SuYeE3qmH0RqVh5vifYbl1mmHf5JRhqmqPYQ8mimFELoVh5ZGAYYiseGEx8HBhv9hpYUVEY2H9B11hn/RWYbbZUGFwiUphXttDYQqvPGHS7TRhFYwsYVmJI2Em8BlhMdUPYapVBWHaKvVgXHnfYJLryWB91bRgOYagYCFEjWA8k3ZgA4ZVYCWaN2Cu6Rxg4W8FYA8X4l8cBr9fhRGhX82Ah1/mEmNfS7Y8Xy5cGl+4UfVedHK9Xg==",
          "dtype": "f4"
         }
        },
        {
         "line": {
          "cmax": 609594438449430000000,
          "cmin": -47443623273325130000,
          "color": {
           "bdata": "uazL1lc2Kt1wvtvdDwc23oHqgN5dPanea3XV3qu8A98DnyDfKjRC3wgBad8rjorf1Qqj38V2vd/eA9nfrpv035txB+AAIxPgZ4Mc4JmlIuBnmiTguXch4DVjGOBYmwjgHf7i35wnpd/KKi7fm8NvXXrsbF+BXfVfXrNBYE/bh2A9AbJgYd7eYLP6BmGtXR9h80s4YftzUWGCf2phUoqBYYxrjWEXtZhhPTmjYWDMrGEoRrVh8YK8YW9lwmHe18ZhTc3JYW9Cy2Fiy8phr57IYXZQxWGJ+sBhIL+7YYbGtWH+PK9hWlGoYfAyoWHkD5phnBKTYYpfjGEOE4ZhakCAYSzidWF1SmxhyKhjYVneW2FiwVRhayFOYafKR2EfikFhfDA7YeiUNGFoly1hHCImYfopHmG7rhVhjLoMYZNgA2G9dvNg1dXfYBYlzGA1rbhgDbWlYKR9k2AzP4JgRk1kYA2oRmDGsytgjnoTYOTZ+1/nydVf/VK0X47lll96u3lfwBlLX8mIIF+DhPFesVivXg==",
           "dtype": "f4"
          },
          "colorscale": [
           [
            0,
            "#440154"
           ],
           [
            0.1111111111111111,
            "#482878"
           ],
           [
            0.2222222222222222,
            "#3e4989"
           ],
           [
            0.3333333333333333,
            "#31688e"
           ],
           [
            0.4444444444444444,
            "#26828e"
           ],
           [
            0.5555555555555556,
            "#1f9e89"
           ],
           [
            0.6666666666666666,
            "#35b779"
           ],
           [
            0.7777777777777778,
            "#6ece58"
           ],
           [
            0.8888888888888888,
            "#b5de2b"
           ],
           [
            1,
            "#fde725"
           ]
          ],
          "showscale": false,
          "width": 4
         },
         "mode": "lines",
         "showlegend": false,
         "type": "scatter3d",
         "x": {
          "bdata": "AAAAALooDiy6KI4sFz3VLLooDi3osjEtFz1VLUbHeC26KI4t0e2fLeiysS0AeMMtFz3VLS4C5y1Gx/gtLkYFLrooDi5GCxcu0e0fLl3QKC7osjEudJU6LgB4Qy6LWkwuFz1VLqMfXi4uAmcuuuRvLkbHeC7p1IAuLkaFLnS3iS66KI4uAJqSLkYLly6LfJsu0e2fLhdfpC5d0Kguo0GtLuiysS4uJLYudJW6LroGvy4AeMMuRunHLotazC7Ry9AuFz3VLl2u2S6hH94u55DiLi0C5y5zc+suuOTvLv5V9C5Ex/guijj9LujUAC+LDQMvLkYFL9B+By90twkvFvALL7ooDi9cYRAv/5kSL6LSFC9FCxcv6EMZL4p8Gy8utR0v0O0fL3QmIi8WXyQvuZcmL1zQKC//CCsvokEtL0V6Ly/osjEvi+szLy4kNi/QXDgvdJU6LxbOPC+5Bj8vXD9BL/93Qy+isEUvRelHL+ghSi+LWkwvLpNOL9DLUC9zBFMvFj1VL7l1Vy9crlkv/+ZbLw==",
          "dtype": "f4"
         },
         "y": {
          "bdata": "Yt5OP2LeTj9i3k4/Yt5OP2LeTj9i3k4/Yt5OP2LeTj9i3k4/Yt5OP2LeTj9i3k4/Yt5OP2LeTj9i3k4/Yt5OP2LeTj9i3k4/Yt5OP2LeTj9i3k4/Yt5OP2LeTj9i3k4/Yt5OP2LeTj9i3k4/Yt5OP2LeTj9i3k4/Yt5OP2LeTj9i3k4/Yt5OP2LeTj9i3k4/Yt5OP2LeTj9i3k4/Yt5OP2LeTj9i3k4/Yt5OP2LeTj9i3k4/Yt5OP2LeTj9i3k4/Yt5OP2LeTj9i3k4/Yt5OP2LeTj9i3k4/Yt5OP2LeTj9i3k4/Yt5OP2LeTj9i3k4/Yt5OP2LeTj9i3k4/Yt5OP2LeTj9i3k4/Yt5OP2LeTj9i3k4/Yt5OP2LeTj9i3k4/Yt5OP2LeTj9i3k4/Yt5OP2LeTj9i3k4/Yt5OP2LeTj9i3k4/Yt5OP2LeTj9i3k4/Yt5OP2LeTj9i3k4/Yt5OP2LeTj9i3k4/Yt5OP2LeTj9i3k4/Yt5OP2LeTj9i3k4/Yt5OP2LeTj9i3k4/Yt5OPw==",
          "dtype": "f4"
         },
         "z": {
          "bdata": "uazL1lc2Kt1wvtvdDwc23oHqgN5dPanea3XV3qu8A98DnyDfKjRC3wgBad8rjorf1Qqj38V2vd/eA9nfrpv035txB+AAIxPgZ4Mc4JmlIuBnmiTguXch4DVjGOBYmwjgHf7i35wnpd/KKi7fm8NvXXrsbF+BXfVfXrNBYE/bh2A9AbJgYd7eYLP6BmGtXR9h80s4YftzUWGCf2phUoqBYYxrjWEXtZhhPTmjYWDMrGEoRrVh8YK8YW9lwmHe18ZhTc3JYW9Cy2Fiy8phr57IYXZQxWGJ+sBhIL+7YYbGtWH+PK9hWlGoYfAyoWHkD5phnBKTYYpfjGEOE4ZhakCAYSzidWF1SmxhyKhjYVneW2FiwVRhayFOYafKR2EfikFhfDA7YeiUNGFoly1hHCImYfopHmG7rhVhjLoMYZNgA2G9dvNg1dXfYBYlzGA1rbhgDbWlYKR9k2AzP4JgRk1kYA2oRmDGsytgjnoTYOTZ+1/nydVf/VK0X47lll96u3lfwBlLX8mIIF+DhPFesVivXg==",
          "dtype": "f4"
         }
        },
        {
         "line": {
          "cmax": 609594438449430000000,
          "cmin": -47443623273325130000,
          "color": {
           "bdata": "vj4e1y5/RN0ZtvzdcelP3iDKkd7m9Lzep8jq3nmVDt95FCvfysZL3/dFcd823Y3fMl+l36Spvt/u6Njf1fry3z+5BeD+URDgRFsY4JLYHOAcyxzgozkX4Dc8C+DoDPDfRN+536znZd+beVXeKFAeXzRfyl+qMCtg6Rx5YFAlp2Dh9NRgDsECYaIgHGF9TDZhYvFQYR23a2GUIINh/xeQYRiRnGFlW6hhRkezYZYnvWGc0sVh0yPNYS790mF0SNdhmPjZYWoK22GaC9phXTTXYX8g02Go681hRLrHYZm3wGFlE7lhagCxYRmyqGGtWqBhpyiYYapEkGFhz4hhceCBYZULd2HKh2thxyxhYeriV2FQhk9hz+pHYSHfQGHYMDphPa8zYREuLWE1iCZh4qAfYd1kGGGJyhBh+tEIYeWDAGHO4O9g3VreYAGqzGB0BrtgM6mpYIPImGASlYhgVW9yYPyeVWDe4jpgGE8iYCfjC2ANF+9foUjKX3b4qF8VsIpfEdhdXzlHKl+VPvNep2ylXg==",
           "dtype": "f4"
          },
          "colorscale": [
           [
            0,
            "#440154"
           ],
           [
            0.1111111111111111,
            "#482878"
           ],
           [
            0.2222222222222222,
            "#3e4989"
           ],
           [
            0.3333333333333333,
            "#31688e"
           ],
           [
            0.4444444444444444,
            "#26828e"
           ],
           [
            0.5555555555555556,
            "#1f9e89"
           ],
           [
            0.6666666666666666,
            "#35b779"
           ],
           [
            0.7777777777777778,
            "#6ece58"
           ],
           [
            0.8888888888888888,
            "#b5de2b"
           ],
           [
            1,
            "#fde725"
           ]
          ],
          "showscale": false,
          "width": 4
         },
         "mode": "lines",
         "showlegend": false,
         "type": "scatter3d",
         "x": {
          "bdata": "AAAAALooDiy6KI4sFz3VLLooDi3osjEtFz1VLUbHeC26KI4t0e2fLeiysS0AeMMtFz3VLS4C5y1Gx/gtLkYFLrooDi5GCxcu0e0fLl3QKC7osjEudJU6LgB4Qy6LWkwuFz1VLqMfXi4uAmcuuuRvLkbHeC7p1IAuLkaFLnS3iS66KI4uAJqSLkYLly6LfJsu0e2fLhdfpC5d0Kguo0GtLuiysS4uJLYudJW6LroGvy4AeMMuRunHLotazC7Ry9AuFz3VLl2u2S6hH94u55DiLi0C5y5zc+suuOTvLv5V9C5Ex/guijj9LujUAC+LDQMvLkYFL9B+By90twkvFvALL7ooDi9cYRAv/5kSL6LSFC9FCxcv6EMZL4p8Gy8utR0v0O0fL3QmIi8WXyQvuZcmL1zQKC//CCsvokEtL0V6Ly/osjEvi+szLy4kNi/QXDgvdJU6LxbOPC+5Bj8vXD9BL/93Qy+isEUvRelHL+ghSi+LWkwvLpNOL9DLUC9zBFMvFj1VL7l1Vy9crlkv/+ZbLw==",
          "dtype": "f4"
         },
         "y": {
          "bdata": "/UqBP/1KgT/9SoE//UqBP/1KgT/9SoE//UqBP/1KgT/9SoE//UqBP/1KgT/9SoE//UqBP/1KgT/9SoE//UqBP/1KgT/9SoE//UqBP/1KgT/9SoE//UqBP/1KgT/9SoE//UqBP/1KgT/9SoE//UqBP/1KgT/9SoE//UqBP/1KgT/9SoE//UqBP/1KgT/9SoE//UqBP/1KgT/9SoE//UqBP/1KgT/9SoE//UqBP/1KgT/9SoE//UqBP/1KgT/9SoE//UqBP/1KgT/9SoE//UqBP/1KgT/9SoE//UqBP/1KgT/9SoE//UqBP/1KgT/9SoE//UqBP/1KgT/9SoE//UqBP/1KgT/9SoE//UqBP/1KgT/9SoE//UqBP/1KgT/9SoE//UqBP/1KgT/9SoE//UqBP/1KgT/9SoE//UqBP/1KgT/9SoE//UqBP/1KgT/9SoE//UqBP/1KgT/9SoE//UqBP/1KgT/9SoE//UqBP/1KgT/9SoE//UqBP/1KgT/9SoE//UqBP/1KgT/9SoE//UqBPw==",
          "dtype": "f4"
         },
         "z": {
          "bdata": "vj4e1y5/RN0ZtvzdcelP3iDKkd7m9Lzep8jq3nmVDt95FCvfysZL3/dFcd823Y3fMl+l36Spvt/u6Njf1fry3z+5BeD+URDgRFsY4JLYHOAcyxzgozkX4Dc8C+DoDPDfRN+536znZd+beVXeKFAeXzRfyl+qMCtg6Rx5YFAlp2Dh9NRgDsECYaIgHGF9TDZhYvFQYR23a2GUIINh/xeQYRiRnGFlW6hhRkezYZYnvWGc0sVh0yPNYS790mF0SNdhmPjZYWoK22GaC9phXTTXYX8g02Go681hRLrHYZm3wGFlE7lhagCxYRmyqGGtWqBhpyiYYapEkGFhz4hhceCBYZULd2HKh2thxyxhYeriV2FQhk9hz+pHYSHfQGHYMDphPa8zYREuLWE1iCZh4qAfYd1kGGGJyhBh+tEIYeWDAGHO4O9g3VreYAGqzGB0BrtgM6mpYIPImGASlYhgVW9yYPyeVWDe4jpgGE8iYCfjC2ANF+9foUjKX3b4qF8VsIpfEdhdXzlHKl+VPvNep2ylXg==",
          "dtype": "f4"
         }
        },
        {
         "line": {
          "cmax": 609594438449430000000,
          "cmin": -47443623273325130000,
          "color": {
           "bdata": "yNha12wsWt0lkwveiBtk3pBpnt7HvMretBn43iEkFN8jqi7f5Y1M35t4bt+ZUorfql+f3yzrtd+XJc3fge3j3/XS+N/IEQXghv4K4DUtDeDKmArgmUEC4PZz5t8bY7nf3fR338z7tN5xks1efh2mXzRTFWBUKWBgRYSZYEibxmD06PZgifQUYXeDL2E60EphtYNmYR4hgWE31o5hQzCcYcX9qGG2DbVhMTDAYfM3ymFM+9Jhw1XaYV0p4GHPX+Rh6evmYUDK52G+hOZhFFPjYXnT3mGkIdlhFWLSYUjAymGibMJh35q5YdB/sGFyT6dhaDqeYeBrlWGsB41hBymFYQDEe2HYdm5h8mpiYauRV2Fhz01hQv9EYQb2PGF5hTVhS38uYZ63J2G2ByFhH08aYTR1E2FNaQxhNyMFYeBE+2Cm2utg7x/cYKg1zGBCQrxgAm+sYNjknGA7yo1goIF+YP/HYmADkEhgffIvYOD4GGD2nQNgQZ/fXyjhul90tZhf8YVxX31RNV9gBvhezJeeXg==",
           "dtype": "f4"
          },
          "colorscale": [
           [
            0,
            "#440154"
           ],
           [
            0.1111111111111111,
            "#482878"
           ],
           [
            0.2222222222222222,
            "#3e4989"
           ],
           [
            0.3333333333333333,
            "#31688e"
           ],
           [
            0.4444444444444444,
            "#26828e"
           ],
           [
            0.5555555555555556,
            "#1f9e89"
           ],
           [
            0.6666666666666666,
            "#35b779"
           ],
           [
            0.7777777777777778,
            "#6ece58"
           ],
           [
            0.8888888888888888,
            "#b5de2b"
           ],
           [
            1,
            "#fde725"
           ]
          ],
          "showscale": false,
          "width": 4
         },
         "mode": "lines",
         "showlegend": false,
         "type": "scatter3d",
         "x": {
          "bdata": "AAAAALooDiy6KI4sFz3VLLooDi3osjEtFz1VLUbHeC26KI4t0e2fLeiysS0AeMMtFz3VLS4C5y1Gx/gtLkYFLrooDi5GCxcu0e0fLl3QKC7osjEudJU6LgB4Qy6LWkwuFz1VLqMfXi4uAmcuuuRvLkbHeC7p1IAuLkaFLnS3iS66KI4uAJqSLkYLly6LfJsu0e2fLhdfpC5d0Kguo0GtLuiysS4uJLYudJW6LroGvy4AeMMuRunHLotazC7Ry9AuFz3VLl2u2S6hH94u55DiLi0C5y5zc+suuOTvLv5V9C5Ex/guijj9LujUAC+LDQMvLkYFL9B+By90twkvFvALL7ooDi9cYRAv/5kSL6LSFC9FCxcv6EMZL4p8Gy8utR0v0O0fL3QmIi8WXyQvuZcmL1zQKC//CCsvokEtL0V6Ly/osjEvi+szLy4kNi/QXDgvdJU6LxbOPC+5Bj8vXD9BL/93Qy+isEUvRelHL+ghSi+LWkwvLpNOL9DLUC9zBFMvFj1VL7l1Vy9crlkv/+ZbLw==",
          "dtype": "f4"
         },
         "y": {
          "bdata": "yiabP8ommz/KJps/yiabP8ommz/KJps/yiabP8ommz/KJps/yiabP8ommz/KJps/yiabP8ommz/KJps/yiabP8ommz/KJps/yiabP8ommz/KJps/yiabP8ommz/KJps/yiabP8ommz/KJps/yiabP8ommz/KJps/yiabP8ommz/KJps/yiabP8ommz/KJps/yiabP8ommz/KJps/yiabP8ommz/KJps/yiabP8ommz/KJps/yiabP8ommz/KJps/yiabP8ommz/KJps/yiabP8ommz/KJps/yiabP8ommz/KJps/yiabP8ommz/KJps/yiabP8ommz/KJps/yiabP8ommz/KJps/yiabP8ommz/KJps/yiabP8ommz/KJps/yiabP8ommz/KJps/yiabP8ommz/KJps/yiabP8ommz/KJps/yiabP8ommz/KJps/yiabP8ommz/KJps/yiabP8ommz/KJps/yiabP8ommz/KJps/yiabP8ommz/KJps/yiabP8ommz/KJps/yiabPw==",
          "dtype": "f4"
         },
         "z": {
          "bdata": "yNha12wsWt0lkwveiBtk3pBpnt7HvMretBn43iEkFN8jqi7f5Y1M35t4bt+ZUorfql+f3yzrtd+XJc3fge3j3/XS+N/IEQXghv4K4DUtDeDKmArgmUEC4PZz5t8bY7nf3fR338z7tN5xks1efh2mXzRTFWBUKWBgRYSZYEibxmD06PZgifQUYXeDL2E60EphtYNmYR4hgWE31o5hQzCcYcX9qGG2DbVhMTDAYfM3ymFM+9Jhw1XaYV0p4GHPX+Rh6evmYUDK52G+hOZhFFPjYXnT3mGkIdlhFWLSYUjAymGibMJh35q5YdB/sGFyT6dhaDqeYeBrlWGsB41hBymFYQDEe2HYdm5h8mpiYauRV2Fhz01hQv9EYQb2PGF5hTVhS38uYZ63J2G2ByFhH08aYTR1E2FNaQxhNyMFYeBE+2Cm2utg7x/cYKg1zGBCQrxgAm+sYNjknGA7yo1goIF+YP/HYmADkEhgffIvYOD4GGD2nQNgQZ/fXyjhul90tZhf8YVxX31RNV9gBvhezJeeXg==",
          "dtype": "f4"
         }
        },
        {
         "line": {
          "cmax": 609594438449430000000,
          "cmin": -47443623273325130000,
          "color": {
           "bdata": "VBOG100nbN1oPxbeiuxz3urPp94PGdTe4ZH/3gjpFd98aS3fUDxH3yMXZN/qI4LfIciT38uLpt9WqrnfTAzM37NJ3N/itejfbnLv3x187t+2yePf1VvN3yZXqd/POGzfvl/J3uCui166O4pfAd0BYFiJR2DV4Ypg2vy1YC+z5GBMRwthuoIlYSO/QGFVqVxhkuh4YRuQimE1eJhh2/ulYffpsmE6Er9hk0XKYcBX1GEGIN1hwXrkYZ9K6mG0ee5ht/rwYeHJ8WGBb/BheyHtYb186GGQm+Jh8KDbYde202FWDMthMNTBYadCuGGZi65hHeCkYYNsm2F/VpJh+LuJYVCygWG8jHRhX/lmYRGlWmFifU9hNWZFYew7PGHb1jNhgg0sYQu3JGHUrR1hidAWYbMDEGEkMglhok0CYdmc9mB+ZehgV/zZYPhwy2An2bxgr06uYPrsn2BJz5Fgqg6EYJGBbWD/7VNgKXs7YFQ3JGB3Jg5gdYbyX4L/yl8wjqVfOP2BX2ceQF8RAP5e7t2ZXg==",
           "dtype": "f4"
          },
          "colorscale": [
           [
            0,
            "#440154"
           ],
           [
            0.1111111111111111,
            "#482878"
           ],
           [
            0.2222222222222222,
            "#3e4989"
           ],
           [
            0.3333333333333333,
            "#31688e"
           ],
           [
            0.4444444444444444,
            "#26828e"
           ],
           [
            0.5555555555555556,
            "#1f9e89"
           ],
           [
            0.6666666666666666,
            "#35b779"
           ],
           [
            0.7777777777777778,
            "#6ece58"
           ],
           [
            0.8888888888888888,
            "#b5de2b"
           ],
           [
            1,
            "#fde725"
           ]
          ],
          "showscale": false,
          "width": 4
         },
         "mode": "lines",
         "showlegend": false,
         "type": "scatter3d",
         "x": {
          "bdata": "AAAAALooDiy6KI4sFz3VLLooDi3osjEtFz1VLUbHeC26KI4t0e2fLeiysS0AeMMtFz3VLS4C5y1Gx/gtLkYFLrooDi5GCxcu0e0fLl3QKC7osjEudJU6LgB4Qy6LWkwuFz1VLqMfXi4uAmcuuuRvLkbHeC7p1IAuLkaFLnS3iS66KI4uAJqSLkYLly6LfJsu0e2fLhdfpC5d0Kguo0GtLuiysS4uJLYudJW6LroGvy4AeMMuRunHLotazC7Ry9AuFz3VLl2u2S6hH94u55DiLi0C5y5zc+suuOTvLv5V9C5Ex/guijj9LujUAC+LDQMvLkYFL9B+By90twkvFvALL7ooDi9cYRAv/5kSL6LSFC9FCxcv6EMZL4p8Gy8utR0v0O0fL3QmIi8WXyQvuZcmL1zQKC//CCsvokEtL0V6Ly/osjEvi+szLy4kNi/QXDgvdJU6LxbOPC+5Bj8vXD9BL/93Qy+isEUvRelHL+ghSi+LWkwvLpNOL9DLUC9zBFMvFj1VL7l1Vy9crlkv/+ZbLw==",
          "dtype": "f4"
         },
         "y": {
          "bdata": "lgK1P5YCtT+WArU/lgK1P5YCtT+WArU/lgK1P5YCtT+WArU/lgK1P5YCtT+WArU/lgK1P5YCtT+WArU/lgK1P5YCtT+WArU/lgK1P5YCtT+WArU/lgK1P5YCtT+WArU/lgK1P5YCtT+WArU/lgK1P5YCtT+WArU/lgK1P5YCtT+WArU/lgK1P5YCtT+WArU/lgK1P5YCtT+WArU/lgK1P5YCtT+WArU/lgK1P5YCtT+WArU/lgK1P5YCtT+WArU/lgK1P5YCtT+WArU/lgK1P5YCtT+WArU/lgK1P5YCtT+WArU/lgK1P5YCtT+WArU/lgK1P5YCtT+WArU/lgK1P5YCtT+WArU/lgK1P5YCtT+WArU/lgK1P5YCtT+WArU/lgK1P5YCtT+WArU/lgK1P5YCtT+WArU/lgK1P5YCtT+WArU/lgK1P5YCtT+WArU/lgK1P5YCtT+WArU/lgK1P5YCtT+WArU/lgK1P5YCtT+WArU/lgK1P5YCtT+WArU/lgK1P5YCtT+WArU/lgK1Pw==",
          "dtype": "f4"
         },
         "z": {
          "bdata": "VBOG100nbN1oPxbeiuxz3urPp94PGdTe4ZH/3gjpFd98aS3fUDxH3yMXZN/qI4LfIciT38uLpt9WqrnfTAzM37NJ3N/itejfbnLv3x187t+2yePf1VvN3yZXqd/POGzfvl/J3uCui166O4pfAd0BYFiJR2DV4Ypg2vy1YC+z5GBMRwthuoIlYSO/QGFVqVxhkuh4YRuQimE1eJhh2/ulYffpsmE6Er9hk0XKYcBX1GEGIN1hwXrkYZ9K6mG0ee5ht/rwYeHJ8WGBb/BheyHtYb186GGQm+Jh8KDbYde202FWDMthMNTBYadCuGGZi65hHeCkYYNsm2F/VpJh+LuJYVCygWG8jHRhX/lmYRGlWmFifU9hNWZFYew7PGHb1jNhgg0sYQu3JGHUrR1hidAWYbMDEGEkMglhok0CYdmc9mB+ZehgV/zZYPhwy2An2bxgr06uYPrsn2BJz5Fgqg6EYJGBbWD/7VNgKXs7YFQ3JGB3Jg5gdYbyX4L/yl8wjqVfOP2BX2ceQF8RAP5e7t2ZXg==",
          "dtype": "f4"
         }
        },
        {
         "line": {
          "cmax": 609594438449430000000,
          "cmin": -47443623273325130000,
          "color": {
           "bdata": "kr6W1/f5et0oyB7eKg2A3rySrt4m6NnenDgB37DEFN/ihSjfhmw93ys4VN/JSW3fdz6E35CLkt/f16Dfhhyu344Bud9m6b/fZgPB32dYut8t6qnf1sKN308fSN+t56zec1FwXpxScV9KJ+VfD84xYC/UeWB1IKVg/z3RYHxuAGE8whlhNlQ0Yc3WT2Fv9mthQy2EYZVTkmH4PqBhur+tYQ6mumE5w8Zh0unRYVDv22GerORhi//rYd3L8WFQ/PVhuoP4Ydhd+WEXE/hhx9b0YQ1C8GH0bOphwXfjYcOJ22Fgz9JhBHnJYeW4v2FowbVhzsKrYVrpoWGFW5hh4ziPYWiZhmFlGn1hcDluYSSTYGEUHlRhEcdIYQJzPmG/ATVhElAsYe45JGHFnBxhgFgVYSlRDmFKbwdh2qAAYQKy82CuH+ZgNITYYMbgymDJPL1gNqSvYO4lomAy0pRgJbmHYHvTdWD04VxgObJEYOJSLWAwzBZgeyABYJSY2F8kjrBfqAeKX6DISV/D+AFfMnqWXg==",
           "dtype": "f4"
          },
          "colorscale": [
           [
            0,
            "#440154"
           ],
           [
            0.1111111111111111,
            "#482878"
           ],
           [
            0.2222222222222222,
            "#3e4989"
           ],
           [
            0.3333333333333333,
            "#31688e"
           ],
           [
            0.4444444444444444,
            "#26828e"
           ],
           [
            0.5555555555555556,
            "#1f9e89"
           ],
           [
            0.6666666666666666,
            "#35b779"
           ],
           [
            0.7777777777777778,
            "#6ece58"
           ],
           [
            0.8888888888888888,
            "#b5de2b"
           ],
           [
            1,
            "#fde725"
           ]
          ],
          "showscale": false,
          "width": 4
         },
         "mode": "lines",
         "showlegend": false,
         "type": "scatter3d",
         "x": {
          "bdata": "AAAAALooDiy6KI4sFz3VLLooDi3osjEtFz1VLUbHeC26KI4t0e2fLeiysS0AeMMtFz3VLS4C5y1Gx/gtLkYFLrooDi5GCxcu0e0fLl3QKC7osjEudJU6LgB4Qy6LWkwuFz1VLqMfXi4uAmcuuuRvLkbHeC7p1IAuLkaFLnS3iS66KI4uAJqSLkYLly6LfJsu0e2fLhdfpC5d0Kguo0GtLuiysS4uJLYudJW6LroGvy4AeMMuRunHLotazC7Ry9AuFz3VLl2u2S6hH94u55DiLi0C5y5zc+suuOTvLv5V9C5Ex/guijj9LujUAC+LDQMvLkYFL9B+By90twkvFvALL7ooDi9cYRAv/5kSL6LSFC9FCxcv6EMZL4p8Gy8utR0v0O0fL3QmIi8WXyQvuZcmL1zQKC//CCsvokEtL0V6Ly/osjEvi+szLy4kNi/QXDgvdJU6LxbOPC+5Bj8vXD9BL/93Qy+isEUvRelHL+ghSi+LWkwvLpNOL9DLUC9zBFMvFj1VL7l1Vy9crlkv/+ZbLw==",
          "dtype": "f4"
         },
         "y": {
          "bdata": "Yt7OP2Lezj9i3s4/Yt7OP2Lezj9i3s4/Yt7OP2Lezj9i3s4/Yt7OP2Lezj9i3s4/Yt7OP2Lezj9i3s4/Yt7OP2Lezj9i3s4/Yt7OP2Lezj9i3s4/Yt7OP2Lezj9i3s4/Yt7OP2Lezj9i3s4/Yt7OP2Lezj9i3s4/Yt7OP2Lezj9i3s4/Yt7OP2Lezj9i3s4/Yt7OP2Lezj9i3s4/Yt7OP2Lezj9i3s4/Yt7OP2Lezj9i3s4/Yt7OP2Lezj9i3s4/Yt7OP2Lezj9i3s4/Yt7OP2Lezj9i3s4/Yt7OP2Lezj9i3s4/Yt7OP2Lezj9i3s4/Yt7OP2Lezj9i3s4/Yt7OP2Lezj9i3s4/Yt7OP2Lezj9i3s4/Yt7OP2Lezj9i3s4/Yt7OP2Lezj9i3s4/Yt7OP2Lezj9i3s4/Yt7OP2Lezj9i3s4/Yt7OP2Lezj9i3s4/Yt7OP2Lezj9i3s4/Yt7OP2Lezj9i3s4/Yt7OP2Lezj9i3s4/Yt7OP2Lezj9i3s4/Yt7OP2Lezj9i3s4/Yt7OPw==",
          "dtype": "f4"
         },
         "z": {
          "bdata": "kr6W1/f5et0oyB7eKg2A3rySrt4m6NnenDgB37DEFN/ihSjfhmw93ys4VN/JSW3fdz6E35CLkt/f16Dfhhyu344Bud9m6b/fZgPB32dYut8t6qnf1sKN308fSN+t56zec1FwXpxScV9KJ+VfD84xYC/UeWB1IKVg/z3RYHxuAGE8whlhNlQ0Yc3WT2Fv9mthQy2EYZVTkmH4PqBhur+tYQ6mumE5w8Zh0unRYVDv22GerORhi//rYd3L8WFQ/PVhuoP4Ydhd+WEXE/hhx9b0YQ1C8GH0bOphwXfjYcOJ22Fgz9JhBHnJYeW4v2FowbVhzsKrYVrpoWGFW5hh4ziPYWiZhmFlGn1hcDluYSSTYGEUHlRhEcdIYQJzPmG/ATVhElAsYe45JGHFnBxhgFgVYSlRDmFKbwdh2qAAYQKy82CuH+ZgNITYYMbgymDJPL1gNqSvYO4lomAy0pRgJbmHYHvTdWD04VxgObJEYOJSLWAwzBZgeyABYJSY2F8kjrBfqAeKX6DISV/D+AFfMnqWXg==",
          "dtype": "f4"
         }
        },
        {
         "line": {
          "cmax": 609594438449430000000,
          "cmin": -47443623273325130000,
          "color": {
           "bdata": "A5+f1wSMg93SgCXe85yE3mUls94u0tzextIA35pbEd8W3iDfvkUw3/5ZQN/PjlHffttj36Sodt9/WoTfyQ6M3xcvkd+HM5LfhWCN34vSgN+zO1XfjboR3yVmTt7fcZBeszxkX6Ea0V+OxSBgUL9hYGOjlWCBeb5gUhTrYGqGDWG49CZh945BYfEHXWHrDHlhYqOKYdetmGHxd6ZhqdOzYSWTwGHCicxhX4zXYaty4WGqF+phA1vxYfIh92EUWPthhvD9Yazm/mFDxP1ho7n6YYda9mEhvPBhm/vpYcA84mFuqNlhumvQYe+1xmHstrxhIJ2yYc6TqGFEwZ5h70WVYXM7jGGEtINh0Xl3YQi0aGGlFlthFJdOYa4iQ2E7oThhe/YuYS0EJmEurB1hL9EVYXlYDmE8KgdhmTIAYSPD8mASVuVgWw3YYCLfymAZx71gtMWwYNXeo2DNGJdgM3uKYBIcfGBasmNgFMdLYNNlNGAilx1goWAHYDeJ41+ihLlfPKyQXwfoUV/plARfS+OTXg==",
           "dtype": "f4"
          },
          "colorscale": [
           [
            0,
            "#440154"
           ],
           [
            0.1111111111111111,
            "#482878"
           ],
           [
            0.2222222222222222,
            "#3e4989"
           ],
           [
            0.3333333333333333,
            "#31688e"
           ],
           [
            0.4444444444444444,
            "#26828e"
           ],
           [
            0.5555555555555556,
            "#1f9e89"
           ],
           [
            0.6666666666666666,
            "#35b779"
           ],
           [
            0.7777777777777778,
            "#6ece58"
           ],
           [
            0.8888888888888888,
            "#b5de2b"
           ],
           [
            1,
            "#fde725"
           ]
          ],
          "showscale": false,
          "width": 4
         },
         "mode": "lines",
         "showlegend": false,
         "type": "scatter3d",
         "x": {
          "bdata": "AAAAALooDiy6KI4sFz3VLLooDi3osjEtFz1VLUbHeC26KI4t0e2fLeiysS0AeMMtFz3VLS4C5y1Gx/gtLkYFLrooDi5GCxcu0e0fLl3QKC7osjEudJU6LgB4Qy6LWkwuFz1VLqMfXi4uAmcuuuRvLkbHeC7p1IAuLkaFLnS3iS66KI4uAJqSLkYLly6LfJsu0e2fLhdfpC5d0Kguo0GtLuiysS4uJLYudJW6LroGvy4AeMMuRunHLotazC7Ry9AuFz3VLl2u2S6hH94u55DiLi0C5y5zc+suuOTvLv5V9C5Ex/guijj9LujUAC+LDQMvLkYFL9B+By90twkvFvALL7ooDi9cYRAv/5kSL6LSFC9FCxcv6EMZL4p8Gy8utR0v0O0fL3QmIi8WXyQvuZcmL1zQKC//CCsvokEtL0V6Ly/osjEvi+szLy4kNi/QXDgvdJU6LxbOPC+5Bj8vXD9BL/93Qy+isEUvRelHL+ghSi+LWkwvLpNOL9DLUC9zBFMvFj1VL7l1Vy9crlkv/+ZbLw==",
          "dtype": "f4"
         },
         "y": {
          "bdata": "LrroPy666D8uuug/LrroPy666D8uuug/LrroPy666D8uuug/LrroPy666D8uuug/LrroPy666D8uuug/LrroPy666D8uuug/LrroPy666D8uuug/LrroPy666D8uuug/LrroPy666D8uuug/LrroPy666D8uuug/LrroPy666D8uuug/LrroPy666D8uuug/LrroPy666D8uuug/LrroPy666D8uuug/LrroPy666D8uuug/LrroPy666D8uuug/LrroPy666D8uuug/LrroPy666D8uuug/LrroPy666D8uuug/LrroPy666D8uuug/LrroPy666D8uuug/LrroPy666D8uuug/LrroPy666D8uuug/LrroPy666D8uuug/LrroPy666D8uuug/LrroPy666D8uuug/LrroPy666D8uuug/LrroPy666D8uuug/LrroPy666D8uuug/LrroPy666D8uuug/LrroPy666D8uuug/LrroPy666D8uuug/LrroPy666D8uuug/LrroPw==",
          "dtype": "f4"
         },
         "z": {
          "bdata": "A5+f1wSMg93SgCXe85yE3mUls94u0tzextIA35pbEd8W3iDfvkUw3/5ZQN/PjlHffttj36Sodt9/WoTfyQ6M3xcvkd+HM5LfhWCN34vSgN+zO1XfjboR3yVmTt7fcZBeszxkX6Ea0V+OxSBgUL9hYGOjlWCBeb5gUhTrYGqGDWG49CZh945BYfEHXWHrDHlhYqOKYdetmGHxd6ZhqdOzYSWTwGHCicxhX4zXYaty4WGqF+phA1vxYfIh92EUWPthhvD9Yazm/mFDxP1ho7n6YYda9mEhvPBhm/vpYcA84mFuqNlhumvQYe+1xmHstrxhIJ2yYc6TqGFEwZ5h70WVYXM7jGGEtINh0Xl3YQi0aGGlFlthFJdOYa4iQ2E7oThhe/YuYS0EJmEurB1hL9EVYXlYDmE8KgdhmTIAYSPD8mASVuVgWw3YYCLfymAZx71gtMWwYNXeo2DNGJdgM3uKYBIcfGBasmNgFMdLYNNlNGAilx1goWAHYDeJ41+ihLlfPKyQXwfoUV/plARfS+OTXg==",
          "dtype": "f4"
         }
        },
        {
         "line": {
          "cmax": 609594438449430000000,
          "cmin": -47443623273325130000,
          "color": {
           "bdata": "Z+2h13VtiN0tpyreQtyH3onbtd7DT93eVNf93vkgDN/FDBffWJMg33SCKd+kYDLfA0I73w61Q9/GpErfRV9O3ziUTN/gaELfy5os3+KUB9/4X5/e0ZCm28rozV4oA2xfyCDIX11WFWCGCk9gI5iIYFXIrWBo4NZgLckBYZ27GWE1CzNhoHJNYfelaGEmKoJhbhSQYW7mnWEGdKthSpG4YaISxWH/zdBhy5rbYURT5WHV1O1hNgH1YVq/+mHu+/5hQ9UAYhRjAWKE7QBiRxb/YRQF+2HEufVh903vYZ7h52Gomd9hUp/WYToezWE0Q8NhEzq5YWQsr2GeP6VhM5SbYdBEkmEDZolhKwaBYfBbcmErwWNhVDlWYdC5SWEgMj5hNI0zYRCzKWGuiiBhpfoXYbDqD2EgRAhh0PIAYZnK82DiGeZgB7zYYBCfy2Dstb5gxvexYHtfpWDF6phgfZmMYAZtgGCqz2hgoxlRYDm+OWBOwyJgWS4MYEoH7F/BjMBfs/CVX4hpWF+ErgZfWcKRXg==",
           "dtype": "f4"
          },
          "colorscale": [
           [
            0,
            "#440154"
           ],
           [
            0.1111111111111111,
            "#482878"
           ],
           [
            0.2222222222222222,
            "#3e4989"
           ],
           [
            0.3333333333333333,
            "#31688e"
           ],
           [
            0.4444444444444444,
            "#26828e"
           ],
           [
            0.5555555555555556,
            "#1f9e89"
           ],
           [
            0.6666666666666666,
            "#35b779"
           ],
           [
            0.7777777777777778,
            "#6ece58"
           ],
           [
            0.8888888888888888,
            "#b5de2b"
           ],
           [
            1,
            "#fde725"
           ]
          ],
          "showscale": false,
          "width": 4
         },
         "mode": "lines",
         "showlegend": false,
         "type": "scatter3d",
         "x": {
          "bdata": "AAAAALooDiy6KI4sFz3VLLooDi3osjEtFz1VLUbHeC26KI4t0e2fLeiysS0AeMMtFz3VLS4C5y1Gx/gtLkYFLrooDi5GCxcu0e0fLl3QKC7osjEudJU6LgB4Qy6LWkwuFz1VLqMfXi4uAmcuuuRvLkbHeC7p1IAuLkaFLnS3iS66KI4uAJqSLkYLly6LfJsu0e2fLhdfpC5d0Kguo0GtLuiysS4uJLYudJW6LroGvy4AeMMuRunHLotazC7Ry9AuFz3VLl2u2S6hH94u55DiLi0C5y5zc+suuOTvLv5V9C5Ex/guijj9LujUAC+LDQMvLkYFL9B+By90twkvFvALL7ooDi9cYRAv/5kSL6LSFC9FCxcv6EMZL4p8Gy8utR0v0O0fL3QmIi8WXyQvuZcmL1zQKC//CCsvokEtL0V6Ly/osjEvi+szLy4kNi/QXDgvdJU6LxbOPC+5Bj8vXD9BL/93Qy+isEUvRelHL+ghSi+LWkwvLpNOL9DLUC9zBFMvFj1VL7l1Vy9crlkv/+ZbLw==",
          "dtype": "f4"
         },
         "y": {
          "bdata": "/UoBQP1KAUD9SgFA/UoBQP1KAUD9SgFA/UoBQP1KAUD9SgFA/UoBQP1KAUD9SgFA/UoBQP1KAUD9SgFA/UoBQP1KAUD9SgFA/UoBQP1KAUD9SgFA/UoBQP1KAUD9SgFA/UoBQP1KAUD9SgFA/UoBQP1KAUD9SgFA/UoBQP1KAUD9SgFA/UoBQP1KAUD9SgFA/UoBQP1KAUD9SgFA/UoBQP1KAUD9SgFA/UoBQP1KAUD9SgFA/UoBQP1KAUD9SgFA/UoBQP1KAUD9SgFA/UoBQP1KAUD9SgFA/UoBQP1KAUD9SgFA/UoBQP1KAUD9SgFA/UoBQP1KAUD9SgFA/UoBQP1KAUD9SgFA/UoBQP1KAUD9SgFA/UoBQP1KAUD9SgFA/UoBQP1KAUD9SgFA/UoBQP1KAUD9SgFA/UoBQP1KAUD9SgFA/UoBQP1KAUD9SgFA/UoBQP1KAUD9SgFA/UoBQP1KAUD9SgFA/UoBQP1KAUD9SgFA/UoBQP1KAUD9SgFA/UoBQP1KAUD9SgFA/UoBQA==",
          "dtype": "f4"
         },
         "z": {
          "bdata": "Z+2h13VtiN0tpyreQtyH3onbtd7DT93eVNf93vkgDN/FDBffWJMg33SCKd+kYDLfA0I73w61Q9/GpErfRV9O3ziUTN/gaELfy5os3+KUB9/4X5/e0ZCm28rozV4oA2xfyCDIX11WFWCGCk9gI5iIYFXIrWBo4NZgLckBYZ27GWE1CzNhoHJNYfelaGEmKoJhbhSQYW7mnWEGdKthSpG4YaISxWH/zdBhy5rbYURT5WHV1O1hNgH1YVq/+mHu+/5hQ9UAYhRjAWKE7QBiRxb/YRQF+2HEufVh903vYZ7h52Gomd9hUp/WYToezWE0Q8NhEzq5YWQsr2GeP6VhM5SbYdBEkmEDZolhKwaBYfBbcmErwWNhVDlWYdC5SWEgMj5hNI0zYRCzKWGuiiBhpfoXYbDqD2EgRAhh0PIAYZnK82DiGeZgB7zYYBCfy2Dstb5gxvexYHtfpWDF6phgfZmMYAZtgGCqz2hgoxlRYDm+OWBOwyJgWS4MYEoH7F/BjMBfs/CVX4hpWF+ErgZfWcKRXg==",
          "dtype": "f4"
         }
        },
        {
         "line": {
          "cmax": 609594438449430000000,
          "cmin": -47443623273325130000,
          "color": {
           "bdata": "aUWf12xDjN2qaC7e7fKJ3r3xtt5ht9vePX733udlBd/KfQvfG+IO35xlEN+soBDftcQP336HDd82Awnfi7sA3xUz5d5D/Lfeg4tn3r/TDt05SWleH0cTX/iRgl9bV8lfAooPYIVHQmDaFn1g6fufYLRYxWAibO5gWnQNYWU0JWHsOj5hIERYYQkGc2EaGYdhcbuUYW1AomEDfq9hkkq8YRZ9yGEm7tNh63feYWH352F1TPBhI1v3YRkM/WGjpgBiZwkCYr2rAmJnVQJiUxsBYveA/mExmflhdpXzYc6R7GEOr+RhSRLcYUHj0mE2S8lhJXO/YUKCtWGonKthOuKhYQhumGHYVY9hD6qGYQDsfGEHgG1hehRfYQ+mUWGXK0Vh55Y5YV/WLmFv1iRhHoIbYXTEEmHfiAphNLwCYY2Z9mCtVehgRJHaYAw1zWCDLcBg+mqzYBjhpmCOhppgh1SOYGVGgmDCsmxgRBhVYPa8PWAvoiZgyMoPYI908l9l6cVfXvyZXydtXV/AQAhfIuaPXg==",
           "dtype": "f4"
          },
          "colorscale": [
           [
            0,
            "#440154"
           ],
           [
            0.1111111111111111,
            "#482878"
           ],
           [
            0.2222222222222222,
            "#3e4989"
           ],
           [
            0.3333333333333333,
            "#31688e"
           ],
           [
            0.4444444444444444,
            "#26828e"
           ],
           [
            0.5555555555555556,
            "#1f9e89"
           ],
           [
            0.6666666666666666,
            "#35b779"
           ],
           [
            0.7777777777777778,
            "#6ece58"
           ],
           [
            0.8888888888888888,
            "#b5de2b"
           ],
           [
            1,
            "#fde725"
           ]
          ],
          "showscale": false,
          "width": 4
         },
         "mode": "lines",
         "showlegend": false,
         "type": "scatter3d",
         "x": {
          "bdata": "AAAAALooDiy6KI4sFz3VLLooDi3osjEtFz1VLUbHeC26KI4t0e2fLeiysS0AeMMtFz3VLS4C5y1Gx/gtLkYFLrooDi5GCxcu0e0fLl3QKC7osjEudJU6LgB4Qy6LWkwuFz1VLqMfXi4uAmcuuuRvLkbHeC7p1IAuLkaFLnS3iS66KI4uAJqSLkYLly6LfJsu0e2fLhdfpC5d0Kguo0GtLuiysS4uJLYudJW6LroGvy4AeMMuRunHLotazC7Ry9AuFz3VLl2u2S6hH94u55DiLi0C5y5zc+suuOTvLv5V9C5Ex/guijj9LujUAC+LDQMvLkYFL9B+By90twkvFvALL7ooDi9cYRAv/5kSL6LSFC9FCxcv6EMZL4p8Gy8utR0v0O0fL3QmIi8WXyQvuZcmL1zQKC//CCsvokEtL0V6Ly/osjEvi+szLy4kNi/QXDgvdJU6LxbOPC+5Bj8vXD9BL/93Qy+isEUvRelHL+ghSi+LWkwvLpNOL9DLUC9zBFMvFj1VL7l1Vy9crlkv/+ZbLw==",
          "dtype": "f4"
         },
         "y": {
          "bdata": "4zgOQOM4DkDjOA5A4zgOQOM4DkDjOA5A4zgOQOM4DkDjOA5A4zgOQOM4DkDjOA5A4zgOQOM4DkDjOA5A4zgOQOM4DkDjOA5A4zgOQOM4DkDjOA5A4zgOQOM4DkDjOA5A4zgOQOM4DkDjOA5A4zgOQOM4DkDjOA5A4zgOQOM4DkDjOA5A4zgOQOM4DkDjOA5A4zgOQOM4DkDjOA5A4zgOQOM4DkDjOA5A4zgOQOM4DkDjOA5A4zgOQOM4DkDjOA5A4zgOQOM4DkDjOA5A4zgOQOM4DkDjOA5A4zgOQOM4DkDjOA5A4zgOQOM4DkDjOA5A4zgOQOM4DkDjOA5A4zgOQOM4DkDjOA5A4zgOQOM4DkDjOA5A4zgOQOM4DkDjOA5A4zgOQOM4DkDjOA5A4zgOQOM4DkDjOA5A4zgOQOM4DkDjOA5A4zgOQOM4DkDjOA5A4zgOQOM4DkDjOA5A4zgOQOM4DkDjOA5A4zgOQOM4DkDjOA5A4zgOQOM4DkDjOA5A4zgOQOM4DkDjOA5A4zgOQA==",
          "dtype": "f4"
         },
         "z": {
          "bdata": "aUWf12xDjN2qaC7e7fKJ3r3xtt5ht9vePX733udlBd/KfQvfG+IO35xlEN+soBDftcQP336HDd82Awnfi7sA3xUz5d5D/Lfeg4tn3r/TDt05SWleH0cTX/iRgl9bV8lfAooPYIVHQmDaFn1g6fufYLRYxWAibO5gWnQNYWU0JWHsOj5hIERYYQkGc2EaGYdhcbuUYW1AomEDfq9hkkq8YRZ9yGEm7tNh63feYWH352F1TPBhI1v3YRkM/WGjpgBiZwkCYr2rAmJnVQJiUxsBYveA/mExmflhdpXzYc6R7GEOr+RhSRLcYUHj0mE2S8lhJXO/YUKCtWGonKthOuKhYQhumGHYVY9hD6qGYQDsfGEHgG1hehRfYQ+mUWGXK0Vh55Y5YV/WLmFv1iRhHoIbYXTEEmHfiAphNLwCYY2Z9mCtVehgRJHaYAw1zWCDLcBg+mqzYBjhpmCOhppgh1SOYGVGgmDCsmxgRBhVYPa8PWAvoiZgyMoPYI908l9l6cVfXvyZXydtXV/AQAhfIuaPXg==",
          "dtype": "f4"
         }
        },
        {
         "line": {
          "cmax": 609594438449430000000,
          "cmin": -47443623273325130000,
          "color": {
           "bdata": "yUKZ1yoqj92K6jDeaAGL3vWYtt44Ttje1Pju3iTT+t4xCP3eUjr33ncW694179neYGHE3qgoqt7D2onewt5B3qTKrt0lylRdIf1uXkoy8V4qDEdfZiWVX2qq0l/LsA5giyw7YKwkb2BcY5VgoAe3YAxi3GCkngJhnKYYYSIXMGGLtkhh8kJiYeN0fGFsgIthPsyYYUP2pWGn1rJhOka/YZgey2ERO9ZhmXjgYeG26WFr2PFhasP4YWli/mFLUgFiW78CYsJ1A2JDPwNiJS8CYqKEAGIUjPxhkPn2YfNp8GEH+uhhxcrgYff/12Eyv85hSC7FYepxu2FdrLFhk/ynYXd9nmF8RZVheGaMYdftg2EfyXdhfZ9oYQtiWmEjDk1hGZxAYWwANWHtLCphVxEgYXCcFmFvvA1h518FYQbs+mDI3etgyHfdYJifz2CiPcJgOj21YKiMqGAMHZxgGuKPYPTRg2A4ym9gCSxYYALCQGDshylgbHwSYMJA91/u7MlflwWdX+UsYV8oWglfHTeOXg==",
           "dtype": "f4"
          },
          "colorscale": [
           [
            0,
            "#440154"
           ],
           [
            0.1111111111111111,
            "#482878"
           ],
           [
            0.2222222222222222,
            "#3e4989"
           ],
           [
            0.3333333333333333,
            "#31688e"
           ],
           [
            0.4444444444444444,
            "#26828e"
           ],
           [
            0.5555555555555556,
            "#1f9e89"
           ],
           [
            0.6666666666666666,
            "#35b779"
           ],
           [
            0.7777777777777778,
            "#6ece58"
           ],
           [
            0.8888888888888888,
            "#b5de2b"
           ],
           [
            1,
            "#fde725"
           ]
          ],
          "showscale": false,
          "width": 4
         },
         "mode": "lines",
         "showlegend": false,
         "type": "scatter3d",
         "x": {
          "bdata": "AAAAALooDiy6KI4sFz3VLLooDi3osjEtFz1VLUbHeC26KI4t0e2fLeiysS0AeMMtFz3VLS4C5y1Gx/gtLkYFLrooDi5GCxcu0e0fLl3QKC7osjEudJU6LgB4Qy6LWkwuFz1VLqMfXi4uAmcuuuRvLkbHeC7p1IAuLkaFLnS3iS66KI4uAJqSLkYLly6LfJsu0e2fLhdfpC5d0Kguo0GtLuiysS4uJLYudJW6LroGvy4AeMMuRunHLotazC7Ry9AuFz3VLl2u2S6hH94u55DiLi0C5y5zc+suuOTvLv5V9C5Ex/guijj9LujUAC+LDQMvLkYFL9B+By90twkvFvALL7ooDi9cYRAv/5kSL6LSFC9FCxcv6EMZL4p8Gy8utR0v0O0fL3QmIi8WXyQvuZcmL1zQKC//CCsvokEtL0V6Ly/osjEvi+szLy4kNi/QXDgvdJU6LxbOPC+5Bj8vXD9BL/93Qy+isEUvRelHL+ghSi+LWkwvLpNOL9DLUC9zBFMvFj1VL7l1Vy9crlkv/+ZbLw==",
          "dtype": "f4"
         },
         "y": {
          "bdata": "yiYbQMomG0DKJhtAyiYbQMomG0DKJhtAyiYbQMomG0DKJhtAyiYbQMomG0DKJhtAyiYbQMomG0DKJhtAyiYbQMomG0DKJhtAyiYbQMomG0DKJhtAyiYbQMomG0DKJhtAyiYbQMomG0DKJhtAyiYbQMomG0DKJhtAyiYbQMomG0DKJhtAyiYbQMomG0DKJhtAyiYbQMomG0DKJhtAyiYbQMomG0DKJhtAyiYbQMomG0DKJhtAyiYbQMomG0DKJhtAyiYbQMomG0DKJhtAyiYbQMomG0DKJhtAyiYbQMomG0DKJhtAyiYbQMomG0DKJhtAyiYbQMomG0DKJhtAyiYbQMomG0DKJhtAyiYbQMomG0DKJhtAyiYbQMomG0DKJhtAyiYbQMomG0DKJhtAyiYbQMomG0DKJhtAyiYbQMomG0DKJhtAyiYbQMomG0DKJhtAyiYbQMomG0DKJhtAyiYbQMomG0DKJhtAyiYbQMomG0DKJhtAyiYbQMomG0DKJhtAyiYbQMomG0DKJhtAyiYbQA==",
          "dtype": "f4"
         },
         "z": {
          "bdata": "yUKZ1yoqj92K6jDeaAGL3vWYtt44Ttje1Pju3iTT+t4xCP3eUjr33ncW694179neYGHE3qgoqt7D2onewt5B3qTKrt0lylRdIf1uXkoy8V4qDEdfZiWVX2qq0l/LsA5giyw7YKwkb2BcY5VgoAe3YAxi3GCkngJhnKYYYSIXMGGLtkhh8kJiYeN0fGFsgIthPsyYYUP2pWGn1rJhOka/YZgey2ERO9ZhmXjgYeG26WFr2PFhasP4YWli/mFLUgFiW78CYsJ1A2JDPwNiJS8CYqKEAGIUjPxhkPn2YfNp8GEH+uhhxcrgYff/12Eyv85hSC7FYepxu2FdrLFhk/ynYXd9nmF8RZVheGaMYdftg2EfyXdhfZ9oYQtiWmEjDk1hGZxAYWwANWHtLCphVxEgYXCcFmFvvA1h518FYQbs+mDI3etgyHfdYJifz2CiPcJgOj21YKiMqGAMHZxgGuKPYPTRg2A4ym9gCSxYYALCQGDshylgbHwSYMJA91/u7MlflwWdX+UsYV8oWglfHTeOXg==",
          "dtype": "f4"
         }
        },
        {
         "line": {
          "cmax": 609594438449430000000,
          "cmin": -47443623273325130000,
          "color": {
           "bdata": "XEmR1wc7kd15TjLe6CSL3uD8tN5MUdPeFpnk3vHD6N5jy+DeTjvO3unFst6s3Y/eELBM3nkB2d3DhDhbkKMFXnMXkV7ZefBeG/0yX/iie1+Mj6pfajPhX/CQEWDhxzhg37tmYNrgjWDzAKxgG7vNYPvx8mCQuA1hIncjYWCEOmF8qFJh9KNrYQ2ZgmFRhY9hdnGcYeo3qWEZs7VhQL7BYZY1zWEh99dhh+LhYSLa6mHawvJhJIX5YVoN/2HvpQFiHBsDYozjA2JMywNiGeQCYkNpAWLFv/5htp/5YQmH82G/juxh4tPkYV523GEvmNNh7lvKYZ3jwGGFT7dhRb2tYUxHpGFABJth7waSYUteiWFrFYFh4WdyYWt8Y2G4a1Vh5jNIYQvPO2E5NDBhv1clYVIsG2E9oxFhaK0IYW87AGE8fPBgm03hYDHP0mAL58RgPX23YFV8qmA80Z1gWWuRYIE8hWAccnJgUa9aYFsiQ2AjwStgYIUUYB7Y+l9E6sxfCkafXyDsY1/AEgpf3K2MXg==",
           "dtype": "f4"
          },
          "colorscale": [
           [
            0,
            "#440154"
           ],
           [
            0.1111111111111111,
            "#482878"
           ],
           [
            0.2222222222222222,
            "#3e4989"
           ],
           [
            0.3333333333333333,
            "#31688e"
           ],
           [
            0.4444444444444444,
            "#26828e"
           ],
           [
            0.5555555555555556,
            "#1f9e89"
           ],
           [
            0.6666666666666666,
            "#35b779"
           ],
           [
            0.7777777777777778,
            "#6ece58"
           ],
           [
            0.8888888888888888,
            "#b5de2b"
           ],
           [
            1,
            "#fde725"
           ]
          ],
          "showscale": false,
          "width": 4
         },
         "mode": "lines",
         "showlegend": false,
         "type": "scatter3d",
         "x": {
          "bdata": "AAAAALooDiy6KI4sFz3VLLooDi3osjEtFz1VLUbHeC26KI4t0e2fLeiysS0AeMMtFz3VLS4C5y1Gx/gtLkYFLrooDi5GCxcu0e0fLl3QKC7osjEudJU6LgB4Qy6LWkwuFz1VLqMfXi4uAmcuuuRvLkbHeC7p1IAuLkaFLnS3iS66KI4uAJqSLkYLly6LfJsu0e2fLhdfpC5d0Kguo0GtLuiysS4uJLYudJW6LroGvy4AeMMuRunHLotazC7Ry9AuFz3VLl2u2S6hH94u55DiLi0C5y5zc+suuOTvLv5V9C5Ex/guijj9LujUAC+LDQMvLkYFL9B+By90twkvFvALL7ooDi9cYRAv/5kSL6LSFC9FCxcv6EMZL4p8Gy8utR0v0O0fL3QmIi8WXyQvuZcmL1zQKC//CCsvokEtL0V6Ly/osjEvi+szLy4kNi/QXDgvdJU6LxbOPC+5Bj8vXD9BL/93Qy+isEUvRelHL+ghSi+LWkwvLpNOL9DLUC9zBFMvFj1VL7l1Vy9crlkv/+ZbLw==",
          "dtype": "f4"
         },
         "y": {
          "bdata": "sBQoQLAUKECwFChAsBQoQLAUKECwFChAsBQoQLAUKECwFChAsBQoQLAUKECwFChAsBQoQLAUKECwFChAsBQoQLAUKECwFChAsBQoQLAUKECwFChAsBQoQLAUKECwFChAsBQoQLAUKECwFChAsBQoQLAUKECwFChAsBQoQLAUKECwFChAsBQoQLAUKECwFChAsBQoQLAUKECwFChAsBQoQLAUKECwFChAsBQoQLAUKECwFChAsBQoQLAUKECwFChAsBQoQLAUKECwFChAsBQoQLAUKECwFChAsBQoQLAUKECwFChAsBQoQLAUKECwFChAsBQoQLAUKECwFChAsBQoQLAUKECwFChAsBQoQLAUKECwFChAsBQoQLAUKECwFChAsBQoQLAUKECwFChAsBQoQLAUKECwFChAsBQoQLAUKECwFChAsBQoQLAUKECwFChAsBQoQLAUKECwFChAsBQoQLAUKECwFChAsBQoQLAUKECwFChAsBQoQLAUKECwFChAsBQoQLAUKECwFChAsBQoQA==",
          "dtype": "f4"
         },
         "z": {
          "bdata": "XEmR1wc7kd15TjLe6CSL3uD8tN5MUdPeFpnk3vHD6N5jy+DeTjvO3unFst6s3Y/eELBM3nkB2d3DhDhbkKMFXnMXkV7ZefBeG/0yX/iie1+Mj6pfajPhX/CQEWDhxzhg37tmYNrgjWDzAKxgG7vNYPvx8mCQuA1hIncjYWCEOmF8qFJh9KNrYQ2ZgmFRhY9hdnGcYeo3qWEZs7VhQL7BYZY1zWEh99dhh+LhYSLa6mHawvJhJIX5YVoN/2HvpQFiHBsDYozjA2JMywNiGeQCYkNpAWLFv/5htp/5YQmH82G/juxh4tPkYV523GEvmNNh7lvKYZ3jwGGFT7dhRb2tYUxHpGFABJth7waSYUteiWFrFYFh4WdyYWt8Y2G4a1Vh5jNIYQvPO2E5NDBhv1clYVIsG2E9oxFhaK0IYW87AGE8fPBgm03hYDHP0mAL58RgPX23YFV8qmA80Z1gWWuRYIE8hWAccnJgUa9aYFsiQ2AjwStgYIUUYB7Y+l9E6sxfCkafXyDsY1/AEgpf3K2MXg==",
          "dtype": "f4"
         }
        },
        {
         "line": {
          "cmax": 609594438449430000000,
          "cmin": -47443623273325130000,
          "color": {
           "bdata": "gnCI1xCNkt2rszLeeXiK3q5Fst4F+Mzer6jY3rn91N7xvsLeeGCj3kMvcd4m6Qfe2W1Q3LiJ/V12Yo5eJR/oXimnJ19jz2NfR2GVX5+Iv18YtPFfb58WYK+4OWDrs2JgQgKJYOb7o2CpWMJgPhTkYK2IBGFljhhhWfctYdyURGFeMVxh5o90YW23hmGrRJNhRsyfYb0qrGG5PLhh3N/DYd/yzmFMVtlhW+ziYe6Z62FCRvNhztv5YaNI/2E3vwFiqzkDYhkRBGINFARix1IDYrUEAmLhLQBioKn7YYgE9mEGgu9hhTvoYVhN4GEA1tdh+/TOYaDJxWEVcrxhjAqzYZasqWG8bqBhVGSXYWSdjmGmJoZhcBN8YZSabGHi6l1hmgdQYePvQmGQnzZhTA8rYZw1IGEQBxZhHncMYTh4A2He+PVgWOvlYCas1mBbIMhgRy66YA2+rGCquZ9gTA2TYGinhmDY8XRgYepcYNgjRWBoji1gqR4WYHCa/V/ULM9f2vOgX07tZV+ZhQpfAEyLXg==",
           "dtype": "f4"
          },
          "colorscale": [
           [
            0,
            "#440154"
           ],
           [
            0.1111111111111111,
            "#482878"
           ],
           [
            0.2222222222222222,
            "#3e4989"
           ],
           [
            0.3333333333333333,
            "#31688e"
           ],
           [
            0.4444444444444444,
            "#26828e"
           ],
           [
            0.5555555555555556,
            "#1f9e89"
           ],
           [
            0.6666666666666666,
            "#35b779"
           ],
           [
            0.7777777777777778,
            "#6ece58"
           ],
           [
            0.8888888888888888,
            "#b5de2b"
           ],
           [
            1,
            "#fde725"
           ]
          ],
          "showscale": false,
          "width": 4
         },
         "mode": "lines",
         "showlegend": false,
         "type": "scatter3d",
         "x": {
          "bdata": "AAAAALooDiy6KI4sFz3VLLooDi3osjEtFz1VLUbHeC26KI4t0e2fLeiysS0AeMMtFz3VLS4C5y1Gx/gtLkYFLrooDi5GCxcu0e0fLl3QKC7osjEudJU6LgB4Qy6LWkwuFz1VLqMfXi4uAmcuuuRvLkbHeC7p1IAuLkaFLnS3iS66KI4uAJqSLkYLly6LfJsu0e2fLhdfpC5d0Kguo0GtLuiysS4uJLYudJW6LroGvy4AeMMuRunHLotazC7Ry9AuFz3VLl2u2S6hH94u55DiLi0C5y5zc+suuOTvLv5V9C5Ex/guijj9LujUAC+LDQMvLkYFL9B+By90twkvFvALL7ooDi9cYRAv/5kSL6LSFC9FCxcv6EMZL4p8Gy8utR0v0O0fL3QmIi8WXyQvuZcmL1zQKC//CCsvokEtL0V6Ly/osjEvi+szLy4kNi/QXDgvdJU6LxbOPC+5Bj8vXD9BL/93Qy+isEUvRelHL+ghSi+LWkwvLpNOL9DLUC9zBFMvFj1VL7l1Vy9crlkv/+ZbLw==",
          "dtype": "f4"
         },
         "y": {
          "bdata": "lgI1QJYCNUCWAjVAlgI1QJYCNUCWAjVAlgI1QJYCNUCWAjVAlgI1QJYCNUCWAjVAlgI1QJYCNUCWAjVAlgI1QJYCNUCWAjVAlgI1QJYCNUCWAjVAlgI1QJYCNUCWAjVAlgI1QJYCNUCWAjVAlgI1QJYCNUCWAjVAlgI1QJYCNUCWAjVAlgI1QJYCNUCWAjVAlgI1QJYCNUCWAjVAlgI1QJYCNUCWAjVAlgI1QJYCNUCWAjVAlgI1QJYCNUCWAjVAlgI1QJYCNUCWAjVAlgI1QJYCNUCWAjVAlgI1QJYCNUCWAjVAlgI1QJYCNUCWAjVAlgI1QJYCNUCWAjVAlgI1QJYCNUCWAjVAlgI1QJYCNUCWAjVAlgI1QJYCNUCWAjVAlgI1QJYCNUCWAjVAlgI1QJYCNUCWAjVAlgI1QJYCNUCWAjVAlgI1QJYCNUCWAjVAlgI1QJYCNUCWAjVAlgI1QJYCNUCWAjVAlgI1QJYCNUCWAjVAlgI1QJYCNUCWAjVAlgI1QJYCNUCWAjVAlgI1QA==",
          "dtype": "f4"
         },
         "z": {
          "bdata": "gnCI1xCNkt2rszLeeXiK3q5Fst4F+Mzer6jY3rn91N7xvsLeeGCj3kMvcd4m6Qfe2W1Q3LiJ/V12Yo5eJR/oXimnJ19jz2NfR2GVX5+Iv18YtPFfb58WYK+4OWDrs2JgQgKJYOb7o2CpWMJgPhTkYK2IBGFljhhhWfctYdyURGFeMVxh5o90YW23hmGrRJNhRsyfYb0qrGG5PLhh3N/DYd/yzmFMVtlhW+ziYe6Z62FCRvNhztv5YaNI/2E3vwFiqzkDYhkRBGINFARix1IDYrUEAmLhLQBioKn7YYgE9mEGgu9hhTvoYVhN4GEA1tdh+/TOYaDJxWEVcrxhjAqzYZasqWG8bqBhVGSXYWSdjmGmJoZhcBN8YZSabGHi6l1hmgdQYePvQmGQnzZhTA8rYZw1IGEQBxZhHncMYTh4A2He+PVgWOvlYCas1mBbIMhgRy66YA2+rGCquZ9gTA2TYGinhmDY8XRgYepcYNgjRWBoji1gqR4WYHCa/V/ULM9f2vOgX07tZV+ZhQpfAEyLXg==",
          "dtype": "f4"
         }
        },
        {
         "line": {
          "cmax": 609594438449430000000,
          "cmin": -47443623273325130000,
          "color": {
           "bdata": "BQh/14c1k91QNzLeWBWJ3m2Yrt4LdcXe9GnL3m3Vv967TaPeulxu3pe49N0ue5BcZ2U0Xo6ttV7V3g1frMlGXy1Zg1/PladfcRTRX9x8AGDKPBxgbmc8YJuSYWDvH4ZgT2yeYEvRuWBbXthgEQ76YMlhD2GMJiNh2DI4YdZZTmFYaGVhOSR9YX6nimGi05ZhCPWiYT/qrmEYkrphgszFYYZ60GEWf9phzb7jYc4g7GFxjvNhK/T5YYtB/2G4tAFiYTEDYjUUBGJnLgRi3Y4DYjRpAmKKwABibzT9YUH792EN6PFh8RDrYfWO42GAfdthDPnSYWceymGRCcFhJ9W3YcKZrmF5baVh0GOcYX+Nk2Ft+IphyK+CYS94dWEIR2ZhqdNXYZ8hSmH3MD1hX/4wYfKDJWFtuRph55QQYfQKB2FTHvxg/SjrYDQb22Ay2stgsEu9YH9Wr2DS4qFgm9qUYNEpiGBnfXdgwhNfYKv8RmAeIy9gvXYXYGPX/1/D9NBfYD6iX25sZ1/pzApfXReKXg==",
           "dtype": "f4"
          },
          "colorscale": [
           [
            0,
            "#440154"
           ],
           [
            0.1111111111111111,
            "#482878"
           ],
           [
            0.2222222222222222,
            "#3e4989"
           ],
           [
            0.3333333333333333,
            "#31688e"
           ],
           [
            0.4444444444444444,
            "#26828e"
           ],
           [
            0.5555555555555556,
            "#1f9e89"
           ],
           [
            0.6666666666666666,
            "#35b779"
           ],
           [
            0.7777777777777778,
            "#6ece58"
           ],
           [
            0.8888888888888888,
            "#b5de2b"
           ],
           [
            1,
            "#fde725"
           ]
          ],
          "showscale": false,
          "width": 4
         },
         "mode": "lines",
         "showlegend": false,
         "type": "scatter3d",
         "x": {
          "bdata": "AAAAALooDiy6KI4sFz3VLLooDi3osjEtFz1VLUbHeC26KI4t0e2fLeiysS0AeMMtFz3VLS4C5y1Gx/gtLkYFLrooDi5GCxcu0e0fLl3QKC7osjEudJU6LgB4Qy6LWkwuFz1VLqMfXi4uAmcuuuRvLkbHeC7p1IAuLkaFLnS3iS66KI4uAJqSLkYLly6LfJsu0e2fLhdfpC5d0Kguo0GtLuiysS4uJLYudJW6LroGvy4AeMMuRunHLotazC7Ry9AuFz3VLl2u2S6hH94u55DiLi0C5y5zc+suuOTvLv5V9C5Ex/guijj9LujUAC+LDQMvLkYFL9B+By90twkvFvALL7ooDi9cYRAv/5kSL6LSFC9FCxcv6EMZL4p8Gy8utR0v0O0fL3QmIi8WXyQvuZcmL1zQKC//CCsvokEtL0V6Ly/osjEvi+szLy4kNi/QXDgvdJU6LxbOPC+5Bj8vXD9BL/93Qy+isEUvRelHL+ghSi+LWkwvLpNOL9DLUC9zBFMvFj1VL7l1Vy9crlkv/+ZbLw==",
          "dtype": "f4"
         },
         "y": {
          "bdata": "fPBBQHzwQUB88EFAfPBBQHzwQUB88EFAfPBBQHzwQUB88EFAfPBBQHzwQUB88EFAfPBBQHzwQUB88EFAfPBBQHzwQUB88EFAfPBBQHzwQUB88EFAfPBBQHzwQUB88EFAfPBBQHzwQUB88EFAfPBBQHzwQUB88EFAfPBBQHzwQUB88EFAfPBBQHzwQUB88EFAfPBBQHzwQUB88EFAfPBBQHzwQUB88EFAfPBBQHzwQUB88EFAfPBBQHzwQUB88EFAfPBBQHzwQUB88EFAfPBBQHzwQUB88EFAfPBBQHzwQUB88EFAfPBBQHzwQUB88EFAfPBBQHzwQUB88EFAfPBBQHzwQUB88EFAfPBBQHzwQUB88EFAfPBBQHzwQUB88EFAfPBBQHzwQUB88EFAfPBBQHzwQUB88EFAfPBBQHzwQUB88EFAfPBBQHzwQUB88EFAfPBBQHzwQUB88EFAfPBBQHzwQUB88EFAfPBBQHzwQUB88EFAfPBBQHzwQUB88EFAfPBBQHzwQUB88EFAfPBBQA==",
          "dtype": "f4"
         },
         "z": {
          "bdata": "BQh/14c1k91QNzLeWBWJ3m2Yrt4LdcXe9GnL3m3Vv967TaPeulxu3pe49N0ue5BcZ2U0Xo6ttV7V3g1frMlGXy1Zg1/PladfcRTRX9x8AGDKPBxgbmc8YJuSYWDvH4ZgT2yeYEvRuWBbXthgEQ76YMlhD2GMJiNh2DI4YdZZTmFYaGVhOSR9YX6nimGi05ZhCPWiYT/qrmEYkrphgszFYYZ60GEWf9phzb7jYc4g7GFxjvNhK/T5YYtB/2G4tAFiYTEDYjUUBGJnLgRi3Y4DYjRpAmKKwABibzT9YUH792EN6PFh8RDrYfWO42GAfdthDPnSYWceymGRCcFhJ9W3YcKZrmF5baVh0GOcYX+Nk2Ft+IphyK+CYS94dWEIR2ZhqdNXYZ8hSmH3MD1hX/4wYfKDJWFtuRph55QQYfQKB2FTHvxg/SjrYDQb22Ay2stgsEu9YH9Wr2DS4qFgm9qUYNEpiGBnfXdgwhNfYKv8RmAeIy9gvXYXYGPX/1/D9NBfYD6iX25sZ1/pzApfXReKXg==",
          "dtype": "f4"
         }
        },
        {
         "line": {
          "cmax": 609594438449430000000,
          "cmin": -47443623273325130000,
          "color": {
           "bdata": "5xpu169Hk91p9DDerhKH3gwXqt4Q9rze4xe93jqVqd6204LeRSsU3hvICNt06CxerAm7XmvgFV+hQFRf34KMXwKGsl8J0dxfFB0GYEDhIGC4PT9gqL9hYCp3hGBjn5pgI4izYJpQz2DqBe5g7tAHYf8DGmE4hC1hoDBCYW/eV2HqXG5hbrqCYYN1jmHEQJphlvylYYaJsWF5yLxhd5vHYcDl0WFxjNthTXbkYX6M7GFcuvNh++35YWsY/2HLlgFihBIDYvX8A2IQKgRicKcDYgGlAmIeJQFiaVj+YeKA+WF/0/NhnmPtYVFH5mEkl95h22zWYdrizWEjE8Vhmha8Yc4Es2Ey86lhLPWgYcwbmGHIdY9hcA+HYXvlfWH3Tm5hfGZfYUgzUWEGuUNh/vc2YZDtKmFtlB9hR+UUYdnWCmF+XgFh6+DwYJkA4GBAAtBg0svAYNtDsmCYUaRgsd2WYGrSiWAmOHpgS1JhYNHUSGA3pjBgr7EYYCbnAGBCdtJf7UyjX7acaF/7/wpfJReJXg==",
           "dtype": "f4"
          },
          "colorscale": [
           [
            0,
            "#440154"
           ],
           [
            0.1111111111111111,
            "#482878"
           ],
           [
            0.2222222222222222,
            "#3e4989"
           ],
           [
            0.3333333333333333,
            "#31688e"
           ],
           [
            0.4444444444444444,
            "#26828e"
           ],
           [
            0.5555555555555556,
            "#1f9e89"
           ],
           [
            0.6666666666666666,
            "#35b779"
           ],
           [
            0.7777777777777778,
            "#6ece58"
           ],
           [
            0.8888888888888888,
            "#b5de2b"
           ],
           [
            1,
            "#fde725"
           ]
          ],
          "showscale": false,
          "width": 4
         },
         "mode": "lines",
         "showlegend": false,
         "type": "scatter3d",
         "x": {
          "bdata": "AAAAALooDiy6KI4sFz3VLLooDi3osjEtFz1VLUbHeC26KI4t0e2fLeiysS0AeMMtFz3VLS4C5y1Gx/gtLkYFLrooDi5GCxcu0e0fLl3QKC7osjEudJU6LgB4Qy6LWkwuFz1VLqMfXi4uAmcuuuRvLkbHeC7p1IAuLkaFLnS3iS66KI4uAJqSLkYLly6LfJsu0e2fLhdfpC5d0Kguo0GtLuiysS4uJLYudJW6LroGvy4AeMMuRunHLotazC7Ry9AuFz3VLl2u2S6hH94u55DiLi0C5y5zc+suuOTvLv5V9C5Ex/guijj9LujUAC+LDQMvLkYFL9B+By90twkvFvALL7ooDi9cYRAv/5kSL6LSFC9FCxcv6EMZL4p8Gy8utR0v0O0fL3QmIi8WXyQvuZcmL1zQKC//CCsvokEtL0V6Ly/osjEvi+szLy4kNi/QXDgvdJU6LxbOPC+5Bj8vXD9BL/93Qy+isEUvRelHL+ghSi+LWkwvLpNOL9DLUC9zBFMvFj1VL7l1Vy9crlkv/+ZbLw==",
          "dtype": "f4"
         },
         "y": {
          "bdata": "Yt5OQGLeTkBi3k5AYt5OQGLeTkBi3k5AYt5OQGLeTkBi3k5AYt5OQGLeTkBi3k5AYt5OQGLeTkBi3k5AYt5OQGLeTkBi3k5AYt5OQGLeTkBi3k5AYt5OQGLeTkBi3k5AYt5OQGLeTkBi3k5AYt5OQGLeTkBi3k5AYt5OQGLeTkBi3k5AYt5OQGLeTkBi3k5AYt5OQGLeTkBi3k5AYt5OQGLeTkBi3k5AYt5OQGLeTkBi3k5AYt5OQGLeTkBi3k5AYt5OQGLeTkBi3k5AYt5OQGLeTkBi3k5AYt5OQGLeTkBi3k5AYt5OQGLeTkBi3k5AYt5OQGLeTkBi3k5AYt5OQGLeTkBi3k5AYt5OQGLeTkBi3k5AYt5OQGLeTkBi3k5AYt5OQGLeTkBi3k5AYt5OQGLeTkBi3k5AYt5OQGLeTkBi3k5AYt5OQGLeTkBi3k5AYt5OQGLeTkBi3k5AYt5OQGLeTkBi3k5AYt5OQGLeTkBi3k5AYt5OQGLeTkBi3k5AYt5OQGLeTkBi3k5AYt5OQA==",
          "dtype": "f4"
         },
         "z": {
          "bdata": "5xpu169Hk91p9DDerhKH3gwXqt4Q9rze4xe93jqVqd6204LeRSsU3hvICNt06CxerAm7XmvgFV+hQFRf34KMXwKGsl8J0dxfFB0GYEDhIGC4PT9gqL9hYCp3hGBjn5pgI4izYJpQz2DqBe5g7tAHYf8DGmE4hC1hoDBCYW/eV2HqXG5hbrqCYYN1jmHEQJphlvylYYaJsWF5yLxhd5vHYcDl0WFxjNthTXbkYX6M7GFcuvNh++35YWsY/2HLlgFihBIDYvX8A2IQKgRicKcDYgGlAmIeJQFiaVj+YeKA+WF/0/NhnmPtYVFH5mEkl95h22zWYdrizWEjE8Vhmha8Yc4Es2Ey86lhLPWgYcwbmGHIdY9hcA+HYXvlfWH3Tm5hfGZfYUgzUWEGuUNh/vc2YZDtKmFtlB9hR+UUYdnWCmF+XgFh6+DwYJkA4GBAAtBg0svAYNtDsmCYUaRgsd2WYGrSiWAmOHpgS1JhYNHUSGA3pjBgr7EYYCbnAGBCdtJf7UyjX7acaF/7/wpfJReJXg==",
          "dtype": "f4"
         }
        },
        {
         "line": {
          "cmax": 609594438449430000000,
          "cmin": -47443623273325130000,
          "color": {
           "bdata": "GMFe1wbVkt2rAy/et4WE3jXgpN7Uo7PeTeat3kx9kt7JPUPepaBj3Yg47V22zKNehbMNX7l0UF9N+IxfkCi1X38a4V/6qQhgGkQjYJLKQGDetGFg/z+DYGTSl2Ddxa5gDkXIYIJr5GAZogFhC2QSYcRtJGFDqDdhOPRLYfIoYWFdGHdhEceGYSgpkmFJlZ1hqO2oYbsUtGFb7b5hjlvJYZZE02GCj9xhCCXlYTDw7GHy3fNh9t35YYni/mFKcAFiIugCYn7WA2IaEgRiaKcDYsLCAmLuZQFiGCn/Yain+mEvVfVhlELvYWeD6GGvLeFhyFjZYdMc0WHekchhSs+/YWvrtmHv+q1h6RClYYE+nGHXkpNhCBuLYR7igmFU4nVhS55mYXECWGGKFUph3do8YblSMGGCeiRhYk0ZYS7EDmEa1gRhovH2YBJC5WBRhdRgTqLEYPR/tWBlBadguRqZYDmpi2DoN31gwL9jYBnISmDLMzJgSOoZYLrXAWDw2dNf0j6kX8mnaV9GMgtfFFKIXg==",
           "dtype": "f4"
          },
          "colorscale": [
           [
            0,
            "#440154"
           ],
           [
            0.1111111111111111,
            "#482878"
           ],
           [
            0.2222222222222222,
            "#3e4989"
           ],
           [
            0.3333333333333333,
            "#31688e"
           ],
           [
            0.4444444444444444,
            "#26828e"
           ],
           [
            0.5555555555555556,
            "#1f9e89"
           ],
           [
            0.6666666666666666,
            "#35b779"
           ],
           [
            0.7777777777777778,
            "#6ece58"
           ],
           [
            0.8888888888888888,
            "#b5de2b"
           ],
           [
            1,
            "#fde725"
           ]
          ],
          "showscale": false,
          "width": 4
         },
         "mode": "lines",
         "showlegend": false,
         "type": "scatter3d",
         "x": {
          "bdata": "AAAAALooDiy6KI4sFz3VLLooDi3osjEtFz1VLUbHeC26KI4t0e2fLeiysS0AeMMtFz3VLS4C5y1Gx/gtLkYFLrooDi5GCxcu0e0fLl3QKC7osjEudJU6LgB4Qy6LWkwuFz1VLqMfXi4uAmcuuuRvLkbHeC7p1IAuLkaFLnS3iS66KI4uAJqSLkYLly6LfJsu0e2fLhdfpC5d0Kguo0GtLuiysS4uJLYudJW6LroGvy4AeMMuRunHLotazC7Ry9AuFz3VLl2u2S6hH94u55DiLi0C5y5zc+suuOTvLv5V9C5Ex/guijj9LujUAC+LDQMvLkYFL9B+By90twkvFvALL7ooDi9cYRAv/5kSL6LSFC9FCxcv6EMZL4p8Gy8utR0v0O0fL3QmIi8WXyQvuZcmL1zQKC//CCsvokEtL0V6Ly/osjEvi+szLy4kNi/QXDgvdJU6LxbOPC+5Bj8vXD9BL/93Qy+isEUvRelHL+ghSi+LWkwvLpNOL9DLUC9zBFMvFj1VL7l1Vy9crlkv/+ZbLw==",
          "dtype": "f4"
         },
         "y": {
          "bdata": "SMxbQEjMW0BIzFtASMxbQEjMW0BIzFtASMxbQEjMW0BIzFtASMxbQEjMW0BIzFtASMxbQEjMW0BIzFtASMxbQEjMW0BIzFtASMxbQEjMW0BIzFtASMxbQEjMW0BIzFtASMxbQEjMW0BIzFtASMxbQEjMW0BIzFtASMxbQEjMW0BIzFtASMxbQEjMW0BIzFtASMxbQEjMW0BIzFtASMxbQEjMW0BIzFtASMxbQEjMW0BIzFtASMxbQEjMW0BIzFtASMxbQEjMW0BIzFtASMxbQEjMW0BIzFtASMxbQEjMW0BIzFtASMxbQEjMW0BIzFtASMxbQEjMW0BIzFtASMxbQEjMW0BIzFtASMxbQEjMW0BIzFtASMxbQEjMW0BIzFtASMxbQEjMW0BIzFtASMxbQEjMW0BIzFtASMxbQEjMW0BIzFtASMxbQEjMW0BIzFtASMxbQEjMW0BIzFtASMxbQEjMW0BIzFtASMxbQEjMW0BIzFtASMxbQEjMW0BIzFtASMxbQEjMW0BIzFtASMxbQA==",
          "dtype": "f4"
         },
         "z": {
          "bdata": "GMFe1wbVkt2rAy/et4WE3jXgpN7Uo7PeTeat3kx9kt7JPUPepaBj3Yg47V22zKNehbMNX7l0UF9N+IxfkCi1X38a4V/6qQhgGkQjYJLKQGDetGFg/z+DYGTSl2Ddxa5gDkXIYIJr5GAZogFhC2QSYcRtJGFDqDdhOPRLYfIoYWFdGHdhEceGYSgpkmFJlZ1hqO2oYbsUtGFb7b5hjlvJYZZE02GCj9xhCCXlYTDw7GHy3fNh9t35YYni/mFKcAFiIugCYn7WA2IaEgRiaKcDYsLCAmLuZQFiGCn/Yain+mEvVfVhlELvYWeD6GGvLeFhyFjZYdMc0WHekchhSs+/YWvrtmHv+q1h6RClYYE+nGHXkpNhCBuLYR7igmFU4nVhS55mYXECWGGKFUph3do8YblSMGGCeiRhYk0ZYS7EDmEa1gRhovH2YBJC5WBRhdRgTqLEYPR/tWBlBadguRqZYDmpi2DoN31gwL9jYBnISmDLMzJgSOoZYLrXAWDw2dNf0j6kX8mnaV9GMgtfFFKIXg==",
          "dtype": "f4"
         }
        },
        {
         "line": {
          "cmax": 609594438449430000000,
          "cmin": -47443623273325130000,
          "color": {
           "bdata": "4U5R1x3tkd1AeyzeQYGB3sQOn965oaneSAGe3gSGdd5yu//dOVsLXdMyb16cq/Bev2o9X1UohV9lUa9fWyvdX9pzB2DDdSJgA+Q/YCEcYGBYwoFgYEWVYGbMqmB2hcJgUJbcYOMW+WALCAxhGb0cYS+dLmFfkkFhAH9VYZE8amGon39hcruKYcfGlWFk1qBhQc6rYayStmFLCMFhCxXLYeqf1GHVkd1hItXlYYJW7WF0BPRh5c/5YUms/mG0RwFiALkCYtenA2LM7QNiNpYDYgbKAmKSigFit7X/Yah++2G+e/Zh2bvwYWpQ6mE9TeNhhcfbYXDV02E9jcthwATDYR5RumEohrFhcLaoYfjyn2EOS5dhRcyOYWKChmHB7nxhsWZtYT55XmG1L1Bh6o9CYaycNWHNVSlhrrgdYS7AEmFIZQhhdz79YPXH6mDjUNlgp8HIYCYCuWAH+qlgaJGbYFGxjWAbRIBgjmtmYHToTGD33jNgfzMbYAfPAmBRPtVfISylX12ual9ccwtfqc2HXg==",
           "dtype": "f4"
          },
          "colorscale": [
           [
            0,
            "#440154"
           ],
           [
            0.1111111111111111,
            "#482878"
           ],
           [
            0.2222222222222222,
            "#3e4989"
           ],
           [
            0.3333333333333333,
            "#31688e"
           ],
           [
            0.4444444444444444,
            "#26828e"
           ],
           [
            0.5555555555555556,
            "#1f9e89"
           ],
           [
            0.6666666666666666,
            "#35b779"
           ],
           [
            0.7777777777777778,
            "#6ece58"
           ],
           [
            0.8888888888888888,
            "#b5de2b"
           ],
           [
            1,
            "#fde725"
           ]
          ],
          "showscale": false,
          "width": 4
         },
         "mode": "lines",
         "showlegend": false,
         "type": "scatter3d",
         "x": {
          "bdata": "AAAAALooDiy6KI4sFz3VLLooDi3osjEtFz1VLUbHeC26KI4t0e2fLeiysS0AeMMtFz3VLS4C5y1Gx/gtLkYFLrooDi5GCxcu0e0fLl3QKC7osjEudJU6LgB4Qy6LWkwuFz1VLqMfXi4uAmcuuuRvLkbHeC7p1IAuLkaFLnS3iS66KI4uAJqSLkYLly6LfJsu0e2fLhdfpC5d0Kguo0GtLuiysS4uJLYudJW6LroGvy4AeMMuRunHLotazC7Ry9AuFz3VLl2u2S6hH94u55DiLi0C5y5zc+suuOTvLv5V9C5Ex/guijj9LujUAC+LDQMvLkYFL9B+By90twkvFvALL7ooDi9cYRAv/5kSL6LSFC9FCxcv6EMZL4p8Gy8utR0v0O0fL3QmIi8WXyQvuZcmL1zQKC//CCsvokEtL0V6Ly/osjEvi+szLy4kNi/QXDgvdJU6LxbOPC+5Bj8vXD9BL/93Qy+isEUvRelHL+ghSi+LWkwvLpNOL9DLUC9zBFMvFj1VL7l1Vy9crlkv/+ZbLw==",
          "dtype": "f4"
         },
         "y": {
          "bdata": "LrpoQC66aEAuumhALrpoQC66aEAuumhALrpoQC66aEAuumhALrpoQC66aEAuumhALrpoQC66aEAuumhALrpoQC66aEAuumhALrpoQC66aEAuumhALrpoQC66aEAuumhALrpoQC66aEAuumhALrpoQC66aEAuumhALrpoQC66aEAuumhALrpoQC66aEAuumhALrpoQC66aEAuumhALrpoQC66aEAuumhALrpoQC66aEAuumhALrpoQC66aEAuumhALrpoQC66aEAuumhALrpoQC66aEAuumhALrpoQC66aEAuumhALrpoQC66aEAuumhALrpoQC66aEAuumhALrpoQC66aEAuumhALrpoQC66aEAuumhALrpoQC66aEAuumhALrpoQC66aEAuumhALrpoQC66aEAuumhALrpoQC66aEAuumhALrpoQC66aEAuumhALrpoQC66aEAuumhALrpoQC66aEAuumhALrpoQC66aEAuumhALrpoQC66aEAuumhALrpoQC66aEAuumhALrpoQA==",
          "dtype": "f4"
         },
         "z": {
          "bdata": "4U5R1x3tkd1AeyzeQYGB3sQOn965oaneSAGe3gSGdd5yu//dOVsLXdMyb16cq/Bev2o9X1UohV9lUa9fWyvdX9pzB2DDdSJgA+Q/YCEcYGBYwoFgYEWVYGbMqmB2hcJgUJbcYOMW+WALCAxhGb0cYS+dLmFfkkFhAH9VYZE8amGon39hcruKYcfGlWFk1qBhQc6rYayStmFLCMFhCxXLYeqf1GHVkd1hItXlYYJW7WF0BPRh5c/5YUms/mG0RwFiALkCYtenA2LM7QNiNpYDYgbKAmKSigFit7X/Yah++2G+e/Zh2bvwYWpQ6mE9TeNhhcfbYXDV02E9jcthwATDYR5RumEohrFhcLaoYfjyn2EOS5dhRcyOYWKChmHB7nxhsWZtYT55XmG1L1Bh6o9CYaycNWHNVSlhrrgdYS7AEmFIZQhhdz79YPXH6mDjUNlgp8HIYCYCuWAH+qlgaJGbYFGxjWAbRIBgjmtmYHToTGD33jNgfzMbYAfPAmBRPtVfISylX12ual9ccwtfqc2HXg==",
          "dtype": "f4"
         }
        },
        {
         "line": {
          "cmax": 609594438449430000000,
          "cmin": -47443623273325130000,
          "color": {
           "bdata": "VNtF15edkN3Tbine3yt83ju6mN7pDZ/ez42N3kMkRd7Nsm/deDr9XfyNs17hYh5fIIBsX0eioV//ENFf4zYCYJvmHWBgujtgEepbYD7CfmB3TJJgu+WmYBxbvWCS1NVg/3LwYGWlBmFzMRZhedkmYXuQOGGsQUthENFeYWcac2Fv+oNhB5mOYT9QmWFTBqRh9qCuYTAGuWFkHMNhMcvMYUP71WEOl95hgormYbPD7WFnMvRhwMj5YSR7/mEUIAFigIgCYsx0A2JSwQNibHgDYsq/AmJxmAFi5AQAYvIR/GGzU/dhNNzxYRi762FNAuVhKMXdYQ4Y1mGMD85hFMDFYZQ9vWH2mrRhNOqrYe47o2Fxn5phfCKSYU3RiWF8toFh5LVzYdGLZGEU+lVhlQhIYT68OmH2Fi5hJBgiYYq8FmHY/gth29cBYcB98GDcU95gXBzNYILAvGD4KK1gcj6eYDDqj2BiFoJgSV1pYC1AT2CuszVg5ZkcYEDZA2AyudZfjSamXwfJa1/7zgtfuI2HXg==",
           "dtype": "f4"
          },
          "colorscale": [
           [
            0,
            "#440154"
           ],
           [
            0.1111111111111111,
            "#482878"
           ],
           [
            0.2222222222222222,
            "#3e4989"
           ],
           [
            0.3333333333333333,
            "#31688e"
           ],
           [
            0.4444444444444444,
            "#26828e"
           ],
           [
            0.5555555555555556,
            "#1f9e89"
           ],
           [
            0.6666666666666666,
            "#35b779"
           ],
           [
            0.7777777777777778,
            "#6ece58"
           ],
           [
            0.8888888888888888,
            "#b5de2b"
           ],
           [
            1,
            "#fde725"
           ]
          ],
          "showscale": false,
          "width": 4
         },
         "mode": "lines",
         "showlegend": false,
         "type": "scatter3d",
         "x": {
          "bdata": "AAAAALooDiy6KI4sFz3VLLooDi3osjEtFz1VLUbHeC26KI4t0e2fLeiysS0AeMMtFz3VLS4C5y1Gx/gtLkYFLrooDi5GCxcu0e0fLl3QKC7osjEudJU6LgB4Qy6LWkwuFz1VLqMfXi4uAmcuuuRvLkbHeC7p1IAuLkaFLnS3iS66KI4uAJqSLkYLly6LfJsu0e2fLhdfpC5d0Kguo0GtLuiysS4uJLYudJW6LroGvy4AeMMuRunHLotazC7Ry9AuFz3VLl2u2S6hH94u55DiLi0C5y5zc+suuOTvLv5V9C5Ex/guijj9LujUAC+LDQMvLkYFL9B+By90twkvFvALL7ooDi9cYRAv/5kSL6LSFC9FCxcv6EMZL4p8Gy8utR0v0O0fL3QmIi8WXyQvuZcmL1zQKC//CCsvokEtL0V6Ly/osjEvi+szLy4kNi/QXDgvdJU6LxbOPC+5Bj8vXD9BL/93Qy+isEUvRelHL+ghSi+LWkwvLpNOL9DLUC9zBFMvFj1VL7l1Vy9crlkv/+ZbLw==",
          "dtype": "f4"
         },
         "y": {
          "bdata": "FKh1QBSodUAUqHVAFKh1QBSodUAUqHVAFKh1QBSodUAUqHVAFKh1QBSodUAUqHVAFKh1QBSodUAUqHVAFKh1QBSodUAUqHVAFKh1QBSodUAUqHVAFKh1QBSodUAUqHVAFKh1QBSodUAUqHVAFKh1QBSodUAUqHVAFKh1QBSodUAUqHVAFKh1QBSodUAUqHVAFKh1QBSodUAUqHVAFKh1QBSodUAUqHVAFKh1QBSodUAUqHVAFKh1QBSodUAUqHVAFKh1QBSodUAUqHVAFKh1QBSodUAUqHVAFKh1QBSodUAUqHVAFKh1QBSodUAUqHVAFKh1QBSodUAUqHVAFKh1QBSodUAUqHVAFKh1QBSodUAUqHVAFKh1QBSodUAUqHVAFKh1QBSodUAUqHVAFKh1QBSodUAUqHVAFKh1QBSodUAUqHVAFKh1QBSodUAUqHVAFKh1QBSodUAUqHVAFKh1QBSodUAUqHVAFKh1QBSodUAUqHVAFKh1QBSodUAUqHVAFKh1QBSodUAUqHVAFKh1QA==",
          "dtype": "f4"
         },
         "z": {
          "bdata": "VNtF15edkN3Tbine3yt83ju6mN7pDZ/ez42N3kMkRd7Nsm/deDr9XfyNs17hYh5fIIBsX0eioV//ENFf4zYCYJvmHWBgujtgEepbYD7CfmB3TJJgu+WmYBxbvWCS1NVg/3LwYGWlBmFzMRZhedkmYXuQOGGsQUthENFeYWcac2Fv+oNhB5mOYT9QmWFTBqRh9qCuYTAGuWFkHMNhMcvMYUP71WEOl95hgormYbPD7WFnMvRhwMj5YSR7/mEUIAFigIgCYsx0A2JSwQNibHgDYsq/AmJxmAFi5AQAYvIR/GGzU/dhNNzxYRi762FNAuVhKMXdYQ4Y1mGMD85hFMDFYZQ9vWH2mrRhNOqrYe47o2Fxn5phfCKSYU3RiWF8toFh5LVzYdGLZGEU+lVhlQhIYT68OmH2Fi5hJBgiYYq8FmHY/gth29cBYcB98GDcU95gXBzNYILAvGD4KK1gcj6eYDDqj2BiFoJgSV1pYC1AT2CuszVg5ZkcYEDZA2AyudZfjSamXwfJa1/7zgtfuI2HXg==",
          "dtype": "f4"
         }
        },
        {
         "line": {
          "cmax": 609594438449430000000,
          "cmin": -47443623273325130000,
          "color": {
           "bdata": "qlI812Hyjt2S7yXeMqR03pz2kd7GAZTeL1R53rkaFN5KdgRcMBVaXvT87l7p80Nf0WuNX+2YvV9nJvJf1W4VYMDbM2BKbVRgJ0t3YK9YjmDicqJgGhu4YKp4z2CJrehg6uoBYUSBEGFPHCBhjLcwYX5GQmFqtVRhFOpnYW3Ce2EkDIhhGGCSYeTFnGFuJadhEmaxYX9vu2HBKcVh+H3OYWVW12Hpnt9hz0TnYWc37mGmZ/RhqMj5YaxP/mH3+QBillcCYsA+A2KTjgNigFADYhinAmImkwFi2RYAYg9r/GGN5/dh+67yYXDP7GFIWeZhNF7fYfrw12G8JNBhhgzIYSq7v2GeQrdhJLSuYegfpmH9lJ1hKCGVYdLQjGH9roRhLop5YR02amGHblthDT1NYVuoP2EatDJheWEmYeSuGmG6mA9hOhkFYTFS9mApf+NgsKXRYNSwwGCTirBgoxyhYO1QkmD3EYRgr5ZsYMTTUWBhuDdgDCUeYEb+BGB2WdhfmjqnX4oJbV+iTQxfbpSHXg==",
           "dtype": "f4"
          },
          "colorscale": [
           [
            0,
            "#440154"
           ],
           [
            0.1111111111111111,
            "#482878"
           ],
           [
            0.2222222222222222,
            "#3e4989"
           ],
           [
            0.3333333333333333,
            "#31688e"
           ],
           [
            0.4444444444444444,
            "#26828e"
           ],
           [
            0.5555555555555556,
            "#1f9e89"
           ],
           [
            0.6666666666666666,
            "#35b779"
           ],
           [
            0.7777777777777778,
            "#6ece58"
           ],
           [
            0.8888888888888888,
            "#b5de2b"
           ],
           [
            1,
            "#fde725"
           ]
          ],
          "showscale": false,
          "width": 4
         },
         "mode": "lines",
         "showlegend": false,
         "type": "scatter3d",
         "x": {
          "bdata": "AAAAALooDiy6KI4sFz3VLLooDi3osjEtFz1VLUbHeC26KI4t0e2fLeiysS0AeMMtFz3VLS4C5y1Gx/gtLkYFLrooDi5GCxcu0e0fLl3QKC7osjEudJU6LgB4Qy6LWkwuFz1VLqMfXi4uAmcuuuRvLkbHeC7p1IAuLkaFLnS3iS66KI4uAJqSLkYLly6LfJsu0e2fLhdfpC5d0Kguo0GtLuiysS4uJLYudJW6LroGvy4AeMMuRunHLotazC7Ry9AuFz3VLl2u2S6hH94u55DiLi0C5y5zc+suuOTvLv5V9C5Ex/guijj9LujUAC+LDQMvLkYFL9B+By90twkvFvALL7ooDi9cYRAv/5kSL6LSFC9FCxcv6EMZL4p8Gy8utR0v0O0fL3QmIi8WXyQvuZcmL1zQKC//CCsvokEtL0V6Ly/osjEvi+szLy4kNi/QXDgvdJU6LxbOPC+5Bj8vXD9BL/93Qy+isEUvRelHL+ghSi+LWkwvLpNOL9DLUC9zBFMvFj1VL7l1Vy9crlkv/+ZbLw==",
          "dtype": "f4"
         },
         "y": {
          "bdata": "/UqBQP1KgUD9SoFA/UqBQP1KgUD9SoFA/UqBQP1KgUD9SoFA/UqBQP1KgUD9SoFA/UqBQP1KgUD9SoFA/UqBQP1KgUD9SoFA/UqBQP1KgUD9SoFA/UqBQP1KgUD9SoFA/UqBQP1KgUD9SoFA/UqBQP1KgUD9SoFA/UqBQP1KgUD9SoFA/UqBQP1KgUD9SoFA/UqBQP1KgUD9SoFA/UqBQP1KgUD9SoFA/UqBQP1KgUD9SoFA/UqBQP1KgUD9SoFA/UqBQP1KgUD9SoFA/UqBQP1KgUD9SoFA/UqBQP1KgUD9SoFA/UqBQP1KgUD9SoFA/UqBQP1KgUD9SoFA/UqBQP1KgUD9SoFA/UqBQP1KgUD9SoFA/UqBQP1KgUD9SoFA/UqBQP1KgUD9SoFA/UqBQP1KgUD9SoFA/UqBQP1KgUD9SoFA/UqBQP1KgUD9SoFA/UqBQP1KgUD9SoFA/UqBQP1KgUD9SoFA/UqBQP1KgUD9SoFA/UqBQP1KgUD9SoFA/UqBQP1KgUD9SoFA/UqBQA==",
          "dtype": "f4"
         },
         "z": {
          "bdata": "qlI812Hyjt2S7yXeMqR03pz2kd7GAZTeL1R53rkaFN5KdgRcMBVaXvT87l7p80Nf0WuNX+2YvV9nJvJf1W4VYMDbM2BKbVRgJ0t3YK9YjmDicqJgGhu4YKp4z2CJrehg6uoBYUSBEGFPHCBhjLcwYX5GQmFqtVRhFOpnYW3Ce2EkDIhhGGCSYeTFnGFuJadhEmaxYX9vu2HBKcVh+H3OYWVW12Hpnt9hz0TnYWc37mGmZ/RhqMj5YaxP/mH3+QBillcCYsA+A2KTjgNigFADYhinAmImkwFi2RYAYg9r/GGN5/dh+67yYXDP7GFIWeZhNF7fYfrw12G8JNBhhgzIYSq7v2GeQrdhJLSuYegfpmH9lJ1hKCGVYdLQjGH9roRhLop5YR02amGHblthDT1NYVuoP2EatDJheWEmYeSuGmG6mA9hOhkFYTFS9mApf+NgsKXRYNSwwGCTirBgoxyhYO1QkmD3EYRgr5ZsYMTTUWBhuDdgDCUeYEb+BGB2WdhfmjqnX4oJbV+iTQxfbpSHXg==",
          "dtype": "f4"
         }
        },
        {
         "line": {
          "cmax": 609594438449430000000,
          "cmin": -47443623273325130000,
          "color": {
           "bdata": "GYU019r1jN1bDCLeSoRs3vnUit6AkojeaN1W3vE/xd37B5ldmYCaXizjFF+J+GhfPTCkX6oD2V9kRAlg8DgoYH5OSWCQiWxgFwGJYB/ynGDmMrJg2+LIYIgi4WD4DftgVF4LYRceGmHKxylhplY6YaW+S2Em7V1hn8lwYRcagmGqBIxhNBCWYR8noGHcMqphbhy0YRnNvWF1LsdhHyvQYbyu2GF+puBh4gDoYWOu7mHwoPRhgMz5YR4n/mFJ1ABihiUCYnEFA2LZVQNiVR8DYnmBAmL1fAFisxMAYl6R/GEIQPhhGD7zYWaY7WHoXedh6Z7gYdNs2WFk2dFhcvbJYajVwWEaiLlhQh6xYb+nqGFKM6Bhe86XYcCFj2FMZIdhved+YbJ5b2FijGBhuSpSYb5cRGGjJzdhHI4qYRyQHmGFKxNhA1wIYUQ3/GDExehgGVLWYC7JxGC5FrRgvyWkYCbhlGAoNIZgbBVwYIWjVGBk7zlgrtgfYJxCBmBTKNpfeXCoX+57bl/y9AxfZuKHXg==",
           "dtype": "f4"
          },
          "colorscale": [
           [
            0,
            "#440154"
           ],
           [
            0.1111111111111111,
            "#482878"
           ],
           [
            0.2222222222222222,
            "#3e4989"
           ],
           [
            0.3333333333333333,
            "#31688e"
           ],
           [
            0.4444444444444444,
            "#26828e"
           ],
           [
            0.5555555555555556,
            "#1f9e89"
           ],
           [
            0.6666666666666666,
            "#35b779"
           ],
           [
            0.7777777777777778,
            "#6ece58"
           ],
           [
            0.8888888888888888,
            "#b5de2b"
           ],
           [
            1,
            "#fde725"
           ]
          ],
          "showscale": false,
          "width": 4
         },
         "mode": "lines",
         "showlegend": false,
         "type": "scatter3d",
         "x": {
          "bdata": "AAAAALooDiy6KI4sFz3VLLooDi3osjEtFz1VLUbHeC26KI4t0e2fLeiysS0AeMMtFz3VLS4C5y1Gx/gtLkYFLrooDi5GCxcu0e0fLl3QKC7osjEudJU6LgB4Qy6LWkwuFz1VLqMfXi4uAmcuuuRvLkbHeC7p1IAuLkaFLnS3iS66KI4uAJqSLkYLly6LfJsu0e2fLhdfpC5d0Kguo0GtLuiysS4uJLYudJW6LroGvy4AeMMuRunHLotazC7Ry9AuFz3VLl2u2S6hH94u55DiLi0C5y5zc+suuOTvLv5V9C5Ex/guijj9LujUAC+LDQMvLkYFL9B+By90twkvFvALL7ooDi9cYRAv/5kSL6LSFC9FCxcv6EMZL4p8Gy8utR0v0O0fL3QmIi8WXyQvuZcmL1zQKC//CCsvokEtL0V6Ly/osjEvi+szLy4kNi/QXDgvdJU6LxbOPC+5Bj8vXD9BL/93Qy+isEUvRelHL+ghSi+LWkwvLpNOL9DLUC9zBFMvFj1VL7l1Vy9crlkv/+ZbLw==",
          "dtype": "f4"
         },
         "y": {
          "bdata": "8MGHQPDBh0DwwYdA8MGHQPDBh0DwwYdA8MGHQPDBh0DwwYdA8MGHQPDBh0DwwYdA8MGHQPDBh0DwwYdA8MGHQPDBh0DwwYdA8MGHQPDBh0DwwYdA8MGHQPDBh0DwwYdA8MGHQPDBh0DwwYdA8MGHQPDBh0DwwYdA8MGHQPDBh0DwwYdA8MGHQPDBh0DwwYdA8MGHQPDBh0DwwYdA8MGHQPDBh0DwwYdA8MGHQPDBh0DwwYdA8MGHQPDBh0DwwYdA8MGHQPDBh0DwwYdA8MGHQPDBh0DwwYdA8MGHQPDBh0DwwYdA8MGHQPDBh0DwwYdA8MGHQPDBh0DwwYdA8MGHQPDBh0DwwYdA8MGHQPDBh0DwwYdA8MGHQPDBh0DwwYdA8MGHQPDBh0DwwYdA8MGHQPDBh0DwwYdA8MGHQPDBh0DwwYdA8MGHQPDBh0DwwYdA8MGHQPDBh0DwwYdA8MGHQPDBh0DwwYdA8MGHQPDBh0DwwYdA8MGHQPDBh0DwwYdA8MGHQPDBh0DwwYdA8MGHQA==",
          "dtype": "f4"
         },
         "z": {
          "bdata": "GYU019r1jN1bDCLeSoRs3vnUit6AkojeaN1W3vE/xd37B5ldmYCaXizjFF+J+GhfPTCkX6oD2V9kRAlg8DgoYH5OSWCQiWxgFwGJYB/ynGDmMrJg2+LIYIgi4WD4DftgVF4LYRceGmHKxylhplY6YaW+S2Em7V1hn8lwYRcagmGqBIxhNBCWYR8noGHcMqphbhy0YRnNvWF1LsdhHyvQYbyu2GF+puBh4gDoYWOu7mHwoPRhgMz5YR4n/mFJ1ABihiUCYnEFA2LZVQNiVR8DYnmBAmL1fAFisxMAYl6R/GEIQPhhGD7zYWaY7WHoXedh6Z7gYdNs2WFk2dFhcvbJYajVwWEaiLlhQh6xYb+nqGFKM6Bhe86XYcCFj2FMZIdhved+YbJ5b2FijGBhuSpSYb5cRGGjJzdhHI4qYRyQHmGFKxNhA1wIYUQ3/GDExehgGVLWYC7JxGC5FrRgvyWkYCbhlGAoNIZgbBVwYIWjVGBk7zlgrtgfYJxCBmBTKNpfeXCoX+57bl/y9AxfZuKHXg==",
          "dtype": "f4"
         }
        },
        {
         "line": {
          "cmax": 609594438449430000000,
          "cmin": -47443623273325130000,
          "color": {
           "bdata": "qzIu1wGxit0k0h3eZOFj3qljg94Co3nex94z3mB4Q91OnhBeqJvHXirrMV/Xs4ZfVom6X/He81+RGhlg9ZM6YN49XmA4B4JgRgeWYEAtq2B0jMFg/zzZYMVY8mAJewZh45MUYQx8I2EWNDNh7bZDYQ/5VGHW6GZhe295YZg3hmGK449hpaiZYdpyo2EwLa1hMsK2YbIcwGG8J8lhWc/RYXsA2mGNqeFhM7roYdkj72Fb2fRhf8/5YfD8/WH/rABioPABYp3HAmJqFgNiyuQCYoNPAmIsVwFiC/v/YYKK/GFAZPhhCZLzYaof7mHvGuhh5ZLhYbiX2mH2OdNhRIrLYUWZw2Ebd7thijOzYYTdqmFTg6JhQzKaYaP2kWGo24lhOuuBYQ9cdGHUVmVhnNJWYZrYSGE2bzthd5ouYaxbImENshZhrJoLYd4QAWHIHO5gRRfbYFcAyWBoxbdgHFOnYJ+Vl2AheYhgj9RzYNesV2AWWDxgubUhYDioB2C6KtxfCc2pX7UncF86yA1f43aIXg==",
           "dtype": "f4"
          },
          "colorscale": [
           [
            0,
            "#440154"
           ],
           [
            0.1111111111111111,
            "#482878"
           ],
           [
            0.2222222222222222,
            "#3e4989"
           ],
           [
            0.3333333333333333,
            "#31688e"
           ],
           [
            0.4444444444444444,
            "#26828e"
           ],
           [
            0.5555555555555556,
            "#1f9e89"
           ],
           [
            0.6666666666666666,
            "#35b779"
           ],
           [
            0.7777777777777778,
            "#6ece58"
           ],
           [
            0.8888888888888888,
            "#b5de2b"
           ],
           [
            1,
            "#fde725"
           ]
          ],
          "showscale": false,
          "width": 4
         },
         "mode": "lines",
         "showlegend": false,
         "type": "scatter3d",
         "x": {
          "bdata": "AAAAALooDiy6KI4sFz3VLLooDi3osjEtFz1VLUbHeC26KI4t0e2fLeiysS0AeMMtFz3VLS4C5y1Gx/gtLkYFLrooDi5GCxcu0e0fLl3QKC7osjEudJU6LgB4Qy6LWkwuFz1VLqMfXi4uAmcuuuRvLkbHeC7p1IAuLkaFLnS3iS66KI4uAJqSLkYLly6LfJsu0e2fLhdfpC5d0Kguo0GtLuiysS4uJLYudJW6LroGvy4AeMMuRunHLotazC7Ry9AuFz3VLl2u2S6hH94u55DiLi0C5y5zc+suuOTvLv5V9C5Ex/guijj9LujUAC+LDQMvLkYFL9B+By90twkvFvALL7ooDi9cYRAv/5kSL6LSFC9FCxcv6EMZL4p8Gy8utR0v0O0fL3QmIi8WXyQvuZcmL1zQKC//CCsvokEtL0V6Ly/osjEvi+szLy4kNi/QXDgvdJU6LxbOPC+5Bj8vXD9BL/93Qy+isEUvRelHL+ghSi+LWkwvLpNOL9DLUC9zBFMvFj1VL7l1Vy9crlkv/+ZbLw==",
          "dtype": "f4"
         },
         "y": {
          "bdata": "4ziOQOM4jkDjOI5A4ziOQOM4jkDjOI5A4ziOQOM4jkDjOI5A4ziOQOM4jkDjOI5A4ziOQOM4jkDjOI5A4ziOQOM4jkDjOI5A4ziOQOM4jkDjOI5A4ziOQOM4jkDjOI5A4ziOQOM4jkDjOI5A4ziOQOM4jkDjOI5A4ziOQOM4jkDjOI5A4ziOQOM4jkDjOI5A4ziOQOM4jkDjOI5A4ziOQOM4jkDjOI5A4ziOQOM4jkDjOI5A4ziOQOM4jkDjOI5A4ziOQOM4jkDjOI5A4ziOQOM4jkDjOI5A4ziOQOM4jkDjOI5A4ziOQOM4jkDjOI5A4ziOQOM4jkDjOI5A4ziOQOM4jkDjOI5A4ziOQOM4jkDjOI5A4ziOQOM4jkDjOI5A4ziOQOM4jkDjOI5A4ziOQOM4jkDjOI5A4ziOQOM4jkDjOI5A4ziOQOM4jkDjOI5A4ziOQOM4jkDjOI5A4ziOQOM4jkDjOI5A4ziOQOM4jkDjOI5A4ziOQOM4jkDjOI5A4ziOQOM4jkDjOI5A4ziOQA==",
          "dtype": "f4"
         },
         "z": {
          "bdata": "qzIu1wGxit0k0h3eZOFj3qljg94Co3nex94z3mB4Q91OnhBeqJvHXirrMV/Xs4ZfVom6X/He81+RGhlg9ZM6YN49XmA4B4JgRgeWYEAtq2B0jMFg/zzZYMVY8mAJewZh45MUYQx8I2EWNDNh7bZDYQ/5VGHW6GZhe295YZg3hmGK449hpaiZYdpyo2EwLa1hMsK2YbIcwGG8J8lhWc/RYXsA2mGNqeFhM7roYdkj72Fb2fRhf8/5YfD8/WH/rABioPABYp3HAmJqFgNiyuQCYoNPAmIsVwFiC/v/YYKK/GFAZPhhCZLzYaof7mHvGuhh5ZLhYbiX2mH2OdNhRIrLYUWZw2Ebd7thijOzYYTdqmFTg6JhQzKaYaP2kWGo24lhOuuBYQ9cdGHUVmVhnNJWYZrYSGE2bzthd5ouYaxbImENshZhrJoLYd4QAWHIHO5gRRfbYFcAyWBoxbdgHFOnYJ+Vl2AheYhgj9RzYNesV2AWWDxgubUhYDioB2C6KtxfCc2pX7UncF86yA1f43aIXg==",
          "dtype": "f4"
         }
        },
        {
         "line": {
          "cmax": 609594438449430000000,
          "cmin": -47443623273325130000,
          "color": {
           "bdata": "FBQp14kriN3vSxnefs1a3nRdd95BmmHejncQ3peVhVoYeFRejU70Xj+RTl/qnphfTXbQX5wVB2B5lihgNoFMYLCrcmAhf41gibmiYKsLuWBWgdBgdyvpYLuOAWH9Mw9hqYwdYTScLGE4YjxhW9lMYX/2XWEOqW9h7e2AYZ45imFmqJNhwCidYRCopmHpErBhXVW5YcBbwmF+EsthBGfTYYFH22GAo+Jht2vpYXeS72F4C/VhL8z5Yd7L/WGqgQBivrYBYoiDAmIDzwJiNKACYi4RAmJ5IgFic6v/Ydha/GEGWvhhBrLzYb5t7mH4mehhq0TiYeh822EYUtRh29PMYdMRxWE9G71hDP+0YZHLrGGSjqRh91ScYdYqlGFGG4xhNDCEYfPkeGFT02lhKzhbYYIdTWHCij9hFoUyYfgOJmHlKBphLtEOYW8EBGEre/NgeezfYPVNzWAOj7tgHJ6qYMhommB13IpgeM13YDDrWmDi7z5gIrsjYDcvCWBqYt5flVKrX7kQcl/1yA5fBlCJXg==",
           "dtype": "f4"
          },
          "colorscale": [
           [
            0,
            "#440154"
           ],
           [
            0.1111111111111111,
            "#482878"
           ],
           [
            0.2222222222222222,
            "#3e4989"
           ],
           [
            0.3333333333333333,
            "#31688e"
           ],
           [
            0.4444444444444444,
            "#26828e"
           ],
           [
            0.5555555555555556,
            "#1f9e89"
           ],
           [
            0.6666666666666666,
            "#35b779"
           ],
           [
            0.7777777777777778,
            "#6ece58"
           ],
           [
            0.8888888888888888,
            "#b5de2b"
           ],
           [
            1,
            "#fde725"
           ]
          ],
          "showscale": false,
          "width": 4
         },
         "mode": "lines",
         "showlegend": false,
         "type": "scatter3d",
         "x": {
          "bdata": "AAAAALooDiy6KI4sFz3VLLooDi3osjEtFz1VLUbHeC26KI4t0e2fLeiysS0AeMMtFz3VLS4C5y1Gx/gtLkYFLrooDi5GCxcu0e0fLl3QKC7osjEudJU6LgB4Qy6LWkwuFz1VLqMfXi4uAmcuuuRvLkbHeC7p1IAuLkaFLnS3iS66KI4uAJqSLkYLly6LfJsu0e2fLhdfpC5d0Kguo0GtLuiysS4uJLYudJW6LroGvy4AeMMuRunHLotazC7Ry9AuFz3VLl2u2S6hH94u55DiLi0C5y5zc+suuOTvLv5V9C5Ex/guijj9LujUAC+LDQMvLkYFL9B+By90twkvFvALL7ooDi9cYRAv/5kSL6LSFC9FCxcv6EMZL4p8Gy8utR0v0O0fL3QmIi8WXyQvuZcmL1zQKC//CCsvokEtL0V6Ly/osjEvi+szLy4kNi/QXDgvdJU6LxbOPC+5Bj8vXD9BL/93Qy+isEUvRelHL+ghSi+LWkwvLpNOL9DLUC9zBFMvFj1VL7l1Vy9crlkv/+ZbLw==",
          "dtype": "f4"
         },
         "y": {
          "bdata": "1q+UQNavlEDWr5RA1q+UQNavlEDWr5RA1q+UQNavlEDWr5RA1q+UQNavlEDWr5RA1q+UQNavlEDWr5RA1q+UQNavlEDWr5RA1q+UQNavlEDWr5RA1q+UQNavlEDWr5RA1q+UQNavlEDWr5RA1q+UQNavlEDWr5RA1q+UQNavlEDWr5RA1q+UQNavlEDWr5RA1q+UQNavlEDWr5RA1q+UQNavlEDWr5RA1q+UQNavlEDWr5RA1q+UQNavlEDWr5RA1q+UQNavlEDWr5RA1q+UQNavlEDWr5RA1q+UQNavlEDWr5RA1q+UQNavlEDWr5RA1q+UQNavlEDWr5RA1q+UQNavlEDWr5RA1q+UQNavlEDWr5RA1q+UQNavlEDWr5RA1q+UQNavlEDWr5RA1q+UQNavlEDWr5RA1q+UQNavlEDWr5RA1q+UQNavlEDWr5RA1q+UQNavlEDWr5RA1q+UQNavlEDWr5RA1q+UQNavlEDWr5RA1q+UQNavlEDWr5RA1q+UQNavlEDWr5RA1q+UQA==",
          "dtype": "f4"
         },
         "z": {
          "bdata": "FBQp14kriN3vSxnefs1a3nRdd95BmmHejncQ3peVhVoYeFRejU70Xj+RTl/qnphfTXbQX5wVB2B5lihgNoFMYLCrcmAhf41gibmiYKsLuWBWgdBgdyvpYLuOAWH9Mw9hqYwdYTScLGE4YjxhW9lMYX/2XWEOqW9h7e2AYZ45imFmqJNhwCidYRCopmHpErBhXVW5YcBbwmF+EsthBGfTYYFH22GAo+Jht2vpYXeS72F4C/VhL8z5Yd7L/WGqgQBivrYBYoiDAmIDzwJiNKACYi4RAmJ5IgFic6v/Ydha/GEGWvhhBrLzYb5t7mH4mehhq0TiYeh822EYUtRh29PMYdMRxWE9G71hDP+0YZHLrGGSjqRh91ScYdYqlGFGG4xhNDCEYfPkeGFT02lhKzhbYYIdTWHCij9hFoUyYfgOJmHlKBphLtEOYW8EBGEre/NgeezfYPVNzWAOj7tgHJ6qYMhommB13IpgeM13YDDrWmDi7z5gIrsjYDcvCWBqYt5flVKrX7kQcl/1yA5fBlCJXg==",
          "dtype": "f4"
         }
        },
        {
         "line": {
          "cmax": 609594438449430000000,
          "cmin": -47443623273325130000,
          "color": {
           "bdata": "meEk11Rshd1wgxTeT1hR3hmBZ94XI0nel4PZ3QgJTF1A/YteIUgQX6jSal8wPapfGPjlX1P1E2DvuTdgOwNeYJRNg2BqrphgGBqvYNiPxmAyFN9gHbH4YM25CWFisxdhM0omYReANWGoU0VhP79VYRm4ZmGlLnhhpAeFYTUgjmEHU5dh7o+gYczFqWGt4rJhItS7YeWHxGHk68xhw+7UYet/3GEBkONhtRDqYTr172ERMvVhUb35YdGO/WHnTwBiu3UBYmI3AmJJfgJiuVACYjHGAWI13wBiqzr/YcMF/GEcJvhhJKTzYfGJ7mFr4+hhkL3iYWwm3GFrLNVhJd7NYU9KxmFLf75hQou2Ydh7rmFKXqZhBj+eYdgplmGhKY5hQUiGYSkdfWGyCG5hPGBfYXcuUWGte0Nh8002YdGoKWHkjR1hrfwRYfLyBmGr2fhgGcrkYJ+q0WCqbL9gZgCuYBhVnWB/WY1gvPh7YP1YXmDTskFgf+YlYGfWCmC3zuBffwGtXzE4dF8c9w9fBWuKXg==",
           "dtype": "f4"
          },
          "colorscale": [
           [
            0,
            "#440154"
           ],
           [
            0.1111111111111111,
            "#482878"
           ],
           [
            0.2222222222222222,
            "#3e4989"
           ],
           [
            0.3333333333333333,
            "#31688e"
           ],
           [
            0.4444444444444444,
            "#26828e"
           ],
           [
            0.5555555555555556,
            "#1f9e89"
           ],
           [
            0.6666666666666666,
            "#35b779"
           ],
           [
            0.7777777777777778,
            "#6ece58"
           ],
           [
            0.8888888888888888,
            "#b5de2b"
           ],
           [
            1,
            "#fde725"
           ]
          ],
          "showscale": false,
          "width": 4
         },
         "mode": "lines",
         "showlegend": false,
         "type": "scatter3d",
         "x": {
          "bdata": "AAAAALooDiy6KI4sFz3VLLooDi3osjEtFz1VLUbHeC26KI4t0e2fLeiysS0AeMMtFz3VLS4C5y1Gx/gtLkYFLrooDi5GCxcu0e0fLl3QKC7osjEudJU6LgB4Qy6LWkwuFz1VLqMfXi4uAmcuuuRvLkbHeC7p1IAuLkaFLnS3iS66KI4uAJqSLkYLly6LfJsu0e2fLhdfpC5d0Kguo0GtLuiysS4uJLYudJW6LroGvy4AeMMuRunHLotazC7Ry9AuFz3VLl2u2S6hH94u55DiLi0C5y5zc+suuOTvLv5V9C5Ex/guijj9LujUAC+LDQMvLkYFL9B+By90twkvFvALL7ooDi9cYRAv/5kSL6LSFC9FCxcv6EMZL4p8Gy8utR0v0O0fL3QmIi8WXyQvuZcmL1zQKC//CCsvokEtL0V6Ly/osjEvi+szLy4kNi/QXDgvdJU6LxbOPC+5Bj8vXD9BL/93Qy+isEUvRelHL+ghSi+LWkwvLpNOL9DLUC9zBFMvFj1VL7l1Vy9crlkv/+ZbLw==",
          "dtype": "f4"
         },
         "y": {
          "bdata": "yiabQMomm0DKJptAyiabQMomm0DKJptAyiabQMomm0DKJptAyiabQMomm0DKJptAyiabQMomm0DKJptAyiabQMomm0DKJptAyiabQMomm0DKJptAyiabQMomm0DKJptAyiabQMomm0DKJptAyiabQMomm0DKJptAyiabQMomm0DKJptAyiabQMomm0DKJptAyiabQMomm0DKJptAyiabQMomm0DKJptAyiabQMomm0DKJptAyiabQMomm0DKJptAyiabQMomm0DKJptAyiabQMomm0DKJptAyiabQMomm0DKJptAyiabQMomm0DKJptAyiabQMomm0DKJptAyiabQMomm0DKJptAyiabQMomm0DKJptAyiabQMomm0DKJptAyiabQMomm0DKJptAyiabQMomm0DKJptAyiabQMomm0DKJptAyiabQMomm0DKJptAyiabQMomm0DKJptAyiabQMomm0DKJptAyiabQMomm0DKJptAyiabQMomm0DKJptAyiabQMomm0DKJptAyiabQA==",
          "dtype": "f4"
         },
         "z": {
          "bdata": "meEk11Rshd1wgxTeT1hR3hmBZ94XI0nel4PZ3QgJTF1A/YteIUgQX6jSal8wPapfGPjlX1P1E2DvuTdgOwNeYJRNg2BqrphgGBqvYNiPxmAyFN9gHbH4YM25CWFisxdhM0omYReANWGoU0VhP79VYRm4ZmGlLnhhpAeFYTUgjmEHU5dh7o+gYczFqWGt4rJhItS7YeWHxGHk68xhw+7UYet/3GEBkONhtRDqYTr172ERMvVhUb35YdGO/WHnTwBiu3UBYmI3AmJJfgJiuVACYjHGAWI13wBiqzr/YcMF/GEcJvhhJKTzYfGJ7mFr4+hhkL3iYWwm3GFrLNVhJd7NYU9KxmFLf75hQou2Ydh7rmFKXqZhBj+eYdgplmGhKY5hQUiGYSkdfWGyCG5hPGBfYXcuUWGte0Nh8002YdGoKWHkjR1hrfwRYfLyBmGr2fhgGcrkYJ+q0WCqbL9gZgCuYBhVnWB/WY1gvPh7YP1YXmDTskFgf+YlYGfWCmC3zuBffwGtXzE4dF8c9w9fBWuKXg==",
          "dtype": "f4"
         }
        },
        {
         "line": {
          "cmax": 609594438449430000000,
          "cmin": -47443623273325130000,
          "color": {
           "bdata": "xFch12J5gt0XgQ/eS49H3s5DV969UTDe86SR3aTmyV3Diq1ezi0mX1hXg19+j7tf4xD7X3aQIGCQh0ZgXR1vYDcIjWCMl6NgvCu7YOG802BzSO1gwegDYXavEWEk+x9hcs4uYZkpPmE7Ck5hTWpeYWk/b2F5PYBhYgWJYafrkWF345ph/t2jYYHLrGGMm7VhGz2+YWyfxmGwsc5h4GPWYZGm3WF/a+RhQqXqYfRH8GHMSPVhip75YXdB/WGlFQBiuysBYpzhAWL+IgJih/UBYjtuAWKcjQBiSar+YRKO+2GIzPdhim3zYXt67mF8/uhhowXjYRCd3GEs0tVhuLLOYXZMx2H6rL9hp+G3YW/3r2H/+qdhTPifYcD6l2H9DJBhuDiIYcqGgGEH/nFhLFBjYUUPVWE3REdh9PU5YfIoLWHS3yBhKBsVYdrZCWFXMv5g5qnpYP4P1mAKWMNgJHSxYENVoGCq649gUyeAYCLwYWBhnERgmzQoYMibDGBzbeNfxtiuXzyddl+cURFfasSLXg==",
           "dtype": "f4"
          },
          "colorscale": [
           [
            0,
            "#440154"
           ],
           [
            0.1111111111111111,
            "#482878"
           ],
           [
            0.2222222222222222,
            "#3e4989"
           ],
           [
            0.3333333333333333,
            "#31688e"
           ],
           [
            0.4444444444444444,
            "#26828e"
           ],
           [
            0.5555555555555556,
            "#1f9e89"
           ],
           [
            0.6666666666666666,
            "#35b779"
           ],
           [
            0.7777777777777778,
            "#6ece58"
           ],
           [
            0.8888888888888888,
            "#b5de2b"
           ],
           [
            1,
            "#fde725"
           ]
          ],
          "showscale": false,
          "width": 4
         },
         "mode": "lines",
         "showlegend": false,
         "type": "scatter3d",
         "x": {
          "bdata": "AAAAALooDiy6KI4sFz3VLLooDi3osjEtFz1VLUbHeC26KI4t0e2fLeiysS0AeMMtFz3VLS4C5y1Gx/gtLkYFLrooDi5GCxcu0e0fLl3QKC7osjEudJU6LgB4Qy6LWkwuFz1VLqMfXi4uAmcuuuRvLkbHeC7p1IAuLkaFLnS3iS66KI4uAJqSLkYLly6LfJsu0e2fLhdfpC5d0Kguo0GtLuiysS4uJLYudJW6LroGvy4AeMMuRunHLotazC7Ry9AuFz3VLl2u2S6hH94u55DiLi0C5y5zc+suuOTvLv5V9C5Ex/guijj9LujUAC+LDQMvLkYFL9B+By90twkvFvALL7ooDi9cYRAv/5kSL6LSFC9FCxcv6EMZL4p8Gy8utR0v0O0fL3QmIi8WXyQvuZcmL1zQKC//CCsvokEtL0V6Ly/osjEvi+szLy4kNi/QXDgvdJU6LxbOPC+5Bj8vXD9BL/93Qy+isEUvRelHL+ghSi+LWkwvLpNOL9DLUC9zBFMvFj1VL7l1Vy9crlkv/+ZbLw==",
          "dtype": "f4"
         },
         "y": {
          "bdata": "vZ2hQL2doUC9naFAvZ2hQL2doUC9naFAvZ2hQL2doUC9naFAvZ2hQL2doUC9naFAvZ2hQL2doUC9naFAvZ2hQL2doUC9naFAvZ2hQL2doUC9naFAvZ2hQL2doUC9naFAvZ2hQL2doUC9naFAvZ2hQL2doUC9naFAvZ2hQL2doUC9naFAvZ2hQL2doUC9naFAvZ2hQL2doUC9naFAvZ2hQL2doUC9naFAvZ2hQL2doUC9naFAvZ2hQL2doUC9naFAvZ2hQL2doUC9naFAvZ2hQL2doUC9naFAvZ2hQL2doUC9naFAvZ2hQL2doUC9naFAvZ2hQL2doUC9naFAvZ2hQL2doUC9naFAvZ2hQL2doUC9naFAvZ2hQL2doUC9naFAvZ2hQL2doUC9naFAvZ2hQL2doUC9naFAvZ2hQL2doUC9naFAvZ2hQL2doUC9naFAvZ2hQL2doUC9naFAvZ2hQL2doUC9naFAvZ2hQL2doUC9naFAvZ2hQL2doUC9naFAvZ2hQL2doUC9naFAvZ2hQA==",
          "dtype": "f4"
         },
         "z": {
          "bdata": "xFch12J5gt0XgQ/eS49H3s5DV969UTDe86SR3aTmyV3Diq1ezi0mX1hXg19+j7tf4xD7X3aQIGCQh0ZgXR1vYDcIjWCMl6NgvCu7YOG802BzSO1gwegDYXavEWEk+x9hcs4uYZkpPmE7Ck5hTWpeYWk/b2F5PYBhYgWJYafrkWF345ph/t2jYYHLrGGMm7VhGz2+YWyfxmGwsc5h4GPWYZGm3WF/a+RhQqXqYfRH8GHMSPVhip75YXdB/WGlFQBiuysBYpzhAWL+IgJih/UBYjtuAWKcjQBiSar+YRKO+2GIzPdhim3zYXt67mF8/uhhowXjYRCd3GEs0tVhuLLOYXZMx2H6rL9hp+G3YW/3r2H/+qdhTPifYcD6l2H9DJBhuDiIYcqGgGEH/nFhLFBjYUUPVWE3REdh9PU5YfIoLWHS3yBhKBsVYdrZCWFXMv5g5qnpYP4P1mAKWMNgJHSxYENVoGCq649gUyeAYCLwYWBhnERgmzQoYMibDGBzbeNfxtiuXzyddl+cURFfasSLXg==",
          "dtype": "f4"
         }
        },
        {
         "line": {
          "cmax": 609594438449430000000,
          "cmin": -47443623273325130000,
          "color": {
           "bdata": "uToe1xKwft0/TAreNn493vu0Rt6yNxfeRu4S3RLOFl4V3s5egtY7X78SkV8bl8xfp+EHYA7pLGAeAlVgN9N/YPSHlmAGPa5gU/HGYPOV4GCAIftgMkgLYapxGWE+DShhbxs3YcqaRmHqh1ZhbNxmYTSOd2HAR4Rh0eeMYXWclWEJWp5hABOnYQC5r2EJPbhhiY/AYSGhyGFhYtBhgMTXYUK53mFvM+VhlCbrYZuH8GF+TPVhjGz5YaHg/GHMov9hadcAYgWBAWJFvAFiG44BYigJAWLxLQBix/v9YSv2+mGmUPdhjRLzYaNE7mFA8ehhuCPjYTHo3GFFS9ZhyVnPYbEgyGGtrMBhcwq5YUdGsWE4bKlhxYehYe2jmWEDy5FhjQaKYUxfgmEbunVhRw1nYbbDWGHm5kphcn49YaCPMGEJHiRhPCsYYS+3DGE5wAFhmIbuYHx42mCgS8dgCPS0YGpko2CSjpJg3WOCYG6qZWCep0dg1aEqYNJ8DmBlO+ZfjNawX5s9eV+Z1hJfQViNXg==",
           "dtype": "f4"
          },
          "colorscale": [
           [
            0,
            "#440154"
           ],
           [
            0.1111111111111111,
            "#482878"
           ],
           [
            0.2222222222222222,
            "#3e4989"
           ],
           [
            0.3333333333333333,
            "#31688e"
           ],
           [
            0.4444444444444444,
            "#26828e"
           ],
           [
            0.5555555555555556,
            "#1f9e89"
           ],
           [
            0.6666666666666666,
            "#35b779"
           ],
           [
            0.7777777777777778,
            "#6ece58"
           ],
           [
            0.8888888888888888,
            "#b5de2b"
           ],
           [
            1,
            "#fde725"
           ]
          ],
          "showscale": false,
          "width": 4
         },
         "mode": "lines",
         "showlegend": false,
         "type": "scatter3d",
         "x": {
          "bdata": "AAAAALooDiy6KI4sFz3VLLooDi3osjEtFz1VLUbHeC26KI4t0e2fLeiysS0AeMMtFz3VLS4C5y1Gx/gtLkYFLrooDi5GCxcu0e0fLl3QKC7osjEudJU6LgB4Qy6LWkwuFz1VLqMfXi4uAmcuuuRvLkbHeC7p1IAuLkaFLnS3iS66KI4uAJqSLkYLly6LfJsu0e2fLhdfpC5d0Kguo0GtLuiysS4uJLYudJW6LroGvy4AeMMuRunHLotazC7Ry9AuFz3VLl2u2S6hH94u55DiLi0C5y5zc+suuOTvLv5V9C5Ex/guijj9LujUAC+LDQMvLkYFL9B+By90twkvFvALL7ooDi9cYRAv/5kSL6LSFC9FCxcv6EMZL4p8Gy8utR0v0O0fL3QmIi8WXyQvuZcmL1zQKC//CCsvokEtL0V6Ly/osjEvi+szLy4kNi/QXDgvdJU6LxbOPC+5Bj8vXD9BL/93Qy+isEUvRelHL+ghSi+LWkwvLpNOL9DLUC9zBFMvFj1VL7l1Vy9crlkv/+ZbLw==",
          "dtype": "f4"
         },
         "y": {
          "bdata": "sBSoQLAUqECwFKhAsBSoQLAUqECwFKhAsBSoQLAUqECwFKhAsBSoQLAUqECwFKhAsBSoQLAUqECwFKhAsBSoQLAUqECwFKhAsBSoQLAUqECwFKhAsBSoQLAUqECwFKhAsBSoQLAUqECwFKhAsBSoQLAUqECwFKhAsBSoQLAUqECwFKhAsBSoQLAUqECwFKhAsBSoQLAUqECwFKhAsBSoQLAUqECwFKhAsBSoQLAUqECwFKhAsBSoQLAUqECwFKhAsBSoQLAUqECwFKhAsBSoQLAUqECwFKhAsBSoQLAUqECwFKhAsBSoQLAUqECwFKhAsBSoQLAUqECwFKhAsBSoQLAUqECwFKhAsBSoQLAUqECwFKhAsBSoQLAUqECwFKhAsBSoQLAUqECwFKhAsBSoQLAUqECwFKhAsBSoQLAUqECwFKhAsBSoQLAUqECwFKhAsBSoQLAUqECwFKhAsBSoQLAUqECwFKhAsBSoQLAUqECwFKhAsBSoQLAUqECwFKhAsBSoQLAUqECwFKhAsBSoQA==",
          "dtype": "f4"
         },
         "z": {
          "bdata": "uToe1xKwft0/TAreNn493vu0Rt6yNxfeRu4S3RLOFl4V3s5egtY7X78SkV8bl8xfp+EHYA7pLGAeAlVgN9N/YPSHlmAGPa5gU/HGYPOV4GCAIftgMkgLYapxGWE+DShhbxs3YcqaRmHqh1ZhbNxmYTSOd2HAR4Rh0eeMYXWclWEJWp5hABOnYQC5r2EJPbhhiY/AYSGhyGFhYtBhgMTXYUK53mFvM+VhlCbrYZuH8GF+TPVhjGz5YaHg/GHMov9hadcAYgWBAWJFvAFiG44BYigJAWLxLQBix/v9YSv2+mGmUPdhjRLzYaNE7mFA8ehhuCPjYTHo3GFFS9ZhyVnPYbEgyGGtrMBhcwq5YUdGsWE4bKlhxYehYe2jmWEDy5FhjQaKYUxfgmEbunVhRw1nYbbDWGHm5kphcn49YaCPMGEJHiRhPCsYYS+3DGE5wAFhmIbuYHx42mCgS8dgCPS0YGpko2CSjpJg3WOCYG6qZWCep0dg1aEqYNJ8DmBlO+ZfjNawX5s9eV+Z1hJfQViNXg==",
          "dtype": "f4"
         }
        },
        {
         "line": {
          "cmax": 609594438449430000000,
          "cmin": -47443623273325130000,
          "color": {
           "bdata": "FVgb11YaeN2M6wTeni8z3ijiNd4cyfvd2fUM2ieESF7G8e9ezEBRX6ybnl8mVd1f2QgSYPYAOWA1LGNgBxSIYMHOn2A+obhgiG3SYAce7WBLUQRhkngSYS4CIWGS6y9hEDM/YYzVTmGlzl5hhBdvYUmmf2ECN4hhta+QYU0zmWFLt6FhWS+qYYmOsmEzx7phPcvCYaKMymFV/dFhvA/ZYdW232Fq5uVhC5PrYWuy8GE7O/VhcyX5YWFq/GGEBP9h83cAYgYVAWKvSQFiQBoBYgqXAGI9gf9hsjD9YVpA+mF6tfZh55byYcrs7WHKwOhhYh3jYe8N3WE3ntZhHNrPYdrNyGFThcFhfQy6YftusmFJuKphWfOiYcUqm2GPaJNhA7aLYbobhGH6QnlhVJxqYWRPXGElZk5hy+hAYVPdM2EzSCdh5CsbYWOJD2ELYARhtlvzYF/f3mCkQstgX3u4YBl+pmAyPpVgbK6EYNqBaWCxz0pgZyotYLx2EGC8NOlfTPiyXxgWfF+lgxRfQCKPXg==",
           "dtype": "f4"
          },
          "colorscale": [
           [
            0,
            "#440154"
           ],
           [
            0.1111111111111111,
            "#482878"
           ],
           [
            0.2222222222222222,
            "#3e4989"
           ],
           [
            0.3333333333333333,
            "#31688e"
           ],
           [
            0.4444444444444444,
            "#26828e"
           ],
           [
            0.5555555555555556,
            "#1f9e89"
           ],
           [
            0.6666666666666666,
            "#35b779"
           ],
           [
            0.7777777777777778,
            "#6ece58"
           ],
           [
            0.8888888888888888,
            "#b5de2b"
           ],
           [
            1,
            "#fde725"
           ]
          ],
          "showscale": false,
          "width": 4
         },
         "mode": "lines",
         "showlegend": false,
         "type": "scatter3d",
         "x": {
          "bdata": "AAAAALooDiy6KI4sFz3VLLooDi3osjEtFz1VLUbHeC26KI4t0e2fLeiysS0AeMMtFz3VLS4C5y1Gx/gtLkYFLrooDi5GCxcu0e0fLl3QKC7osjEudJU6LgB4Qy6LWkwuFz1VLqMfXi4uAmcuuuRvLkbHeC7p1IAuLkaFLnS3iS66KI4uAJqSLkYLly6LfJsu0e2fLhdfpC5d0Kguo0GtLuiysS4uJLYudJW6LroGvy4AeMMuRunHLotazC7Ry9AuFz3VLl2u2S6hH94u55DiLi0C5y5zc+suuOTvLv5V9C5Ex/guijj9LujUAC+LDQMvLkYFL9B+By90twkvFvALL7ooDi9cYRAv/5kSL6LSFC9FCxcv6EMZL4p8Gy8utR0v0O0fL3QmIi8WXyQvuZcmL1zQKC//CCsvokEtL0V6Ly/osjEvi+szLy4kNi/QXDgvdJU6LxbOPC+5Bj8vXD9BL/93Qy+isEUvRelHL+ghSi+LWkwvLpNOL9DLUC9zBFMvFj1VL7l1Vy9crlkv/+ZbLw==",
          "dtype": "f4"
         },
         "y": {
          "bdata": "o4uuQKOLrkCji65Ao4uuQKOLrkCji65Ao4uuQKOLrkCji65Ao4uuQKOLrkCji65Ao4uuQKOLrkCji65Ao4uuQKOLrkCji65Ao4uuQKOLrkCji65Ao4uuQKOLrkCji65Ao4uuQKOLrkCji65Ao4uuQKOLrkCji65Ao4uuQKOLrkCji65Ao4uuQKOLrkCji65Ao4uuQKOLrkCji65Ao4uuQKOLrkCji65Ao4uuQKOLrkCji65Ao4uuQKOLrkCji65Ao4uuQKOLrkCji65Ao4uuQKOLrkCji65Ao4uuQKOLrkCji65Ao4uuQKOLrkCji65Ao4uuQKOLrkCji65Ao4uuQKOLrkCji65Ao4uuQKOLrkCji65Ao4uuQKOLrkCji65Ao4uuQKOLrkCji65Ao4uuQKOLrkCji65Ao4uuQKOLrkCji65Ao4uuQKOLrkCji65Ao4uuQKOLrkCji65Ao4uuQKOLrkCji65Ao4uuQKOLrkCji65Ao4uuQKOLrkCji65Ao4uuQKOLrkCji65Ao4uuQA==",
          "dtype": "f4"
         },
         "z": {
          "bdata": "FVgb11YaeN2M6wTeni8z3ijiNd4cyfvd2fUM2ieESF7G8e9ezEBRX6ybnl8mVd1f2QgSYPYAOWA1LGNgBxSIYMHOn2A+obhgiG3SYAce7WBLUQRhkngSYS4CIWGS6y9hEDM/YYzVTmGlzl5hhBdvYUmmf2ECN4hhta+QYU0zmWFLt6FhWS+qYYmOsmEzx7phPcvCYaKMymFV/dFhvA/ZYdW232Fq5uVhC5PrYWuy8GE7O/VhcyX5YWFq/GGEBP9h83cAYgYVAWKvSQFiQBoBYgqXAGI9gf9hsjD9YVpA+mF6tfZh55byYcrs7WHKwOhhYh3jYe8N3WE3ntZhHNrPYdrNyGFThcFhfQy6YftusmFJuKphWfOiYcUqm2GPaJNhA7aLYbobhGH6QnlhVJxqYWRPXGElZk5hy+hAYVPdM2EzSCdh5CsbYWOJD2ELYARhtlvzYF/f3mCkQstgX3u4YBl+pmAyPpVgbK6EYNqBaWCxz0pgZyotYLx2EGC8NOlfTPiyXxgWfF+lgxRfQCKPXg==",
          "dtype": "f4"
         }
        },
        {
         "line": {
          "cmax": 609594438449430000000,
          "cmin": -47443623273325130000,
          "color": {
           "bdata": "0YcY11Q6cd3Jyf7dzqwo3oTXJN4jzMjdyawOXWMIel5iYAhfUmtmXzjyq1/Ayu1fHv8bYNzZRGAlCHFgbQ+QYG3eqGBDxsJgwqLdYMlX+WBU5wphdHsZYa5iKGHclzdhHxdHYbjbVmFC4GZhaR13YcHEg2EpDIxh712UYQqxnGEE/KRhyDOtYblMtWGUOr1hofDEYTtizGGjgtNhlkXaYSSf4GE6hOZhSerrYenH8GGCFPVhpMj4YTHe+2H7T/5hMA0AYoWdAGJHywBiLJoAYlQYAGKVjP5hxEr8Ydtu+WHD/fVh3/3xYbt27WFNcehhTvfiYU0T3WE70NZhKznQYYhZyWF5PMJhTe26Yed2s2FB5Kthyj+kYbKTnGGd6ZRhmEqNYRm/hWGhnXxhUAFuYV21X2EUxFFhOzZEYX4SN2ESXiphWBweYTJPEmH+9gZhdyX4YJZA42DcOM9gBAa8YF2eqWDi9pdgwwOHYNJwbWDyD05gmcovYLSGEmBdVexfPzu1X+wif18IVhZf8B2RXg==",
           "dtype": "f4"
          },
          "colorscale": [
           [
            0,
            "#440154"
           ],
           [
            0.1111111111111111,
            "#482878"
           ],
           [
            0.2222222222222222,
            "#3e4989"
           ],
           [
            0.3333333333333333,
            "#31688e"
           ],
           [
            0.4444444444444444,
            "#26828e"
           ],
           [
            0.5555555555555556,
            "#1f9e89"
           ],
           [
            0.6666666666666666,
            "#35b779"
           ],
           [
            0.7777777777777778,
            "#6ece58"
           ],
           [
            0.8888888888888888,
            "#b5de2b"
           ],
           [
            1,
            "#fde725"
           ]
          ],
          "showscale": false,
          "width": 4
         },
         "mode": "lines",
         "showlegend": false,
         "type": "scatter3d",
         "x": {
          "bdata": "AAAAALooDiy6KI4sFz3VLLooDi3osjEtFz1VLUbHeC26KI4t0e2fLeiysS0AeMMtFz3VLS4C5y1Gx/gtLkYFLrooDi5GCxcu0e0fLl3QKC7osjEudJU6LgB4Qy6LWkwuFz1VLqMfXi4uAmcuuuRvLkbHeC7p1IAuLkaFLnS3iS66KI4uAJqSLkYLly6LfJsu0e2fLhdfpC5d0Kguo0GtLuiysS4uJLYudJW6LroGvy4AeMMuRunHLotazC7Ry9AuFz3VLl2u2S6hH94u55DiLi0C5y5zc+suuOTvLv5V9C5Ex/guijj9LujUAC+LDQMvLkYFL9B+By90twkvFvALL7ooDi9cYRAv/5kSL6LSFC9FCxcv6EMZL4p8Gy8utR0v0O0fL3QmIi8WXyQvuZcmL1zQKC//CCsvokEtL0V6Ly/osjEvi+szLy4kNi/QXDgvdJU6LxbOPC+5Bj8vXD9BL/93Qy+isEUvRelHL+ghSi+LWkwvLpNOL9DLUC9zBFMvFj1VL7l1Vy9crlkv/+ZbLw==",
          "dtype": "f4"
         },
         "y": {
          "bdata": "lgK1QJYCtUCWArVAlgK1QJYCtUCWArVAlgK1QJYCtUCWArVAlgK1QJYCtUCWArVAlgK1QJYCtUCWArVAlgK1QJYCtUCWArVAlgK1QJYCtUCWArVAlgK1QJYCtUCWArVAlgK1QJYCtUCWArVAlgK1QJYCtUCWArVAlgK1QJYCtUCWArVAlgK1QJYCtUCWArVAlgK1QJYCtUCWArVAlgK1QJYCtUCWArVAlgK1QJYCtUCWArVAlgK1QJYCtUCWArVAlgK1QJYCtUCWArVAlgK1QJYCtUCWArVAlgK1QJYCtUCWArVAlgK1QJYCtUCWArVAlgK1QJYCtUCWArVAlgK1QJYCtUCWArVAlgK1QJYCtUCWArVAlgK1QJYCtUCWArVAlgK1QJYCtUCWArVAlgK1QJYCtUCWArVAlgK1QJYCtUCWArVAlgK1QJYCtUCWArVAlgK1QJYCtUCWArVAlgK1QJYCtUCWArVAlgK1QJYCtUCWArVAlgK1QJYCtUCWArVAlgK1QJYCtUCWArVAlgK1QA==",
          "dtype": "f4"
         },
         "z": {
          "bdata": "0YcY11Q6cd3Jyf7dzqwo3oTXJN4jzMjdyawOXWMIel5iYAhfUmtmXzjyq1/Ayu1fHv8bYNzZRGAlCHFgbQ+QYG3eqGBDxsJgwqLdYMlX+WBU5wphdHsZYa5iKGHclzdhHxdHYbjbVmFC4GZhaR13YcHEg2EpDIxh712UYQqxnGEE/KRhyDOtYblMtWGUOr1hofDEYTtizGGjgtNhlkXaYSSf4GE6hOZhSerrYenH8GGCFPVhpMj4YTHe+2H7T/5hMA0AYoWdAGJHywBiLJoAYlQYAGKVjP5hxEr8Ydtu+WHD/fVh3/3xYbt27WFNcehhTvfiYU0T3WE70NZhKznQYYhZyWF5PMJhTe26Yed2s2FB5Kthyj+kYbKTnGGd6ZRhmEqNYRm/hWGhnXxhUAFuYV21X2EUxFFhOzZEYX4SN2ESXiphWBweYTJPEmH+9gZhdyX4YJZA42DcOM9gBAa8YF2eqWDi9pdgwwOHYNJwbWDyD05gmcovYLSGEmBdVexfPzu1X+wif18IVhZf8B2RXg==",
          "dtype": "f4"
         }
        },
        {
         "line": {
          "cmax": 609594438449430000000,
          "cmin": -47443623273325130000,
          "color": {
           "bdata": "RawV104Yat1ie/PdaP4d3jegE94wkpXdFb+PXUenlV7/ohhff1R7Xz8WuV+C+P1fPsUlYA11UGC4l35g/dyXYG64sWDcrcxgAJPoYLmiAmEPVBFhLlIgYZqUL2GaEz9hLclOYf2uXmF5vm5h5O9+YdSch2EfyI9hdPOXYZ0WoGEyKahhSyGwYZL0t2EmmL9hpgDHYdUizmFI89Rh8GbbYQ1z4WGcDedhCC3sYcnI8GH+2PRh4Fb4Yco8+2H5hf1hGi//YQAbAGKiQQBijQ4AYoYb/2Gzf/1hCUz7YQGE+GErLPVhbErxYbXl7GFaBuhhSLXiYUv83GF35dZhMXvQYQjIyWF41sJhELG7YSVitGEU9KxhznClYRbinWE7UZZhBceOYbxLh2EDzn9hZD9xYfD3YmFLAlVhuWdHYXcvOmFyXy1h3fsgYYEHFWGugwlho+D8YJaY52CfKtNgU5C/YLTBrGBftZpg8WCJYCpycWADZFFg4H4yYPupFGAome9fdJy3XwYwgV/TShhf00aTXg==",
           "dtype": "f4"
          },
          "colorscale": [
           [
            0,
            "#440154"
           ],
           [
            0.1111111111111111,
            "#482878"
           ],
           [
            0.2222222222222222,
            "#3e4989"
           ],
           [
            0.3333333333333333,
            "#31688e"
           ],
           [
            0.4444444444444444,
            "#26828e"
           ],
           [
            0.5555555555555556,
            "#1f9e89"
           ],
           [
            0.6666666666666666,
            "#35b779"
           ],
           [
            0.7777777777777778,
            "#6ece58"
           ],
           [
            0.8888888888888888,
            "#b5de2b"
           ],
           [
            1,
            "#fde725"
           ]
          ],
          "showscale": false,
          "width": 4
         },
         "mode": "lines",
         "showlegend": false,
         "type": "scatter3d",
         "x": {
          "bdata": "AAAAALooDiy6KI4sFz3VLLooDi3osjEtFz1VLUbHeC26KI4t0e2fLeiysS0AeMMtFz3VLS4C5y1Gx/gtLkYFLrooDi5GCxcu0e0fLl3QKC7osjEudJU6LgB4Qy6LWkwuFz1VLqMfXi4uAmcuuuRvLkbHeC7p1IAuLkaFLnS3iS66KI4uAJqSLkYLly6LfJsu0e2fLhdfpC5d0Kguo0GtLuiysS4uJLYudJW6LroGvy4AeMMuRunHLotazC7Ry9AuFz3VLl2u2S6hH94u55DiLi0C5y5zc+suuOTvLv5V9C5Ex/guijj9LujUAC+LDQMvLkYFL9B+By90twkvFvALL7ooDi9cYRAv/5kSL6LSFC9FCxcv6EMZL4p8Gy8utR0v0O0fL3QmIi8WXyQvuZcmL1zQKC//CCsvokEtL0V6Ly/osjEvi+szLy4kNi/QXDgvdJU6LxbOPC+5Bj8vXD9BL/93Qy+isEUvRelHL+ghSi+LWkwvLpNOL9DLUC9zBFMvFj1VL7l1Vy9crlkv/+ZbLw==",
          "dtype": "f4"
         },
         "y": {
          "bdata": "iXm7QIl5u0CJebtAiXm7QIl5u0CJebtAiXm7QIl5u0CJebtAiXm7QIl5u0CJebtAiXm7QIl5u0CJebtAiXm7QIl5u0CJebtAiXm7QIl5u0CJebtAiXm7QIl5u0CJebtAiXm7QIl5u0CJebtAiXm7QIl5u0CJebtAiXm7QIl5u0CJebtAiXm7QIl5u0CJebtAiXm7QIl5u0CJebtAiXm7QIl5u0CJebtAiXm7QIl5u0CJebtAiXm7QIl5u0CJebtAiXm7QIl5u0CJebtAiXm7QIl5u0CJebtAiXm7QIl5u0CJebtAiXm7QIl5u0CJebtAiXm7QIl5u0CJebtAiXm7QIl5u0CJebtAiXm7QIl5u0CJebtAiXm7QIl5u0CJebtAiXm7QIl5u0CJebtAiXm7QIl5u0CJebtAiXm7QIl5u0CJebtAiXm7QIl5u0CJebtAiXm7QIl5u0CJebtAiXm7QIl5u0CJebtAiXm7QIl5u0CJebtAiXm7QIl5u0CJebtAiXm7QIl5u0CJebtAiXm7QA==",
          "dtype": "f4"
         },
         "z": {
          "bdata": "RawV104Yat1ie/PdaP4d3jegE94wkpXdFb+PXUenlV7/ohhff1R7Xz8WuV+C+P1fPsUlYA11UGC4l35g/dyXYG64sWDcrcxgAJPoYLmiAmEPVBFhLlIgYZqUL2GaEz9hLclOYf2uXmF5vm5h5O9+YdSch2EfyI9hdPOXYZ0WoGEyKahhSyGwYZL0t2EmmL9hpgDHYdUizmFI89Rh8GbbYQ1z4WGcDedhCC3sYcnI8GH+2PRh4Fb4Yco8+2H5hf1hGi//YQAbAGKiQQBijQ4AYoYb/2Gzf/1hCUz7YQGE+GErLPVhbErxYbXl7GFaBuhhSLXiYUv83GF35dZhMXvQYQjIyWF41sJhELG7YSVitGEU9KxhznClYRbinWE7UZZhBceOYbxLh2EDzn9hZD9xYfD3YmFLAlVhuWdHYXcvOmFyXy1h3fsgYYEHFWGugwlho+D8YJaY52CfKtNgU5C/YLTBrGBftZpg8WCJYCpycWADZFFg4H4yYPupFGAome9fdJy3XwYwgV/TShhf00aTXg==",
          "dtype": "f4"
         }
        },
        {
         "line": {
          "cmax": 609594438449430000000,
          "cmin": -47443623273325130000,
          "color": {
           "bdata": "eLES1/e7Yt3h9efdUywT3ppGAt6yZkTd2AbYXT0lrl4fvihfMv2HX08Hxl9N7wZgsVsvYGLTW2Ag7oVglX2fYOZdumBRWdZg0z/zYGN0CGF3mBdhyf0mYRCZNmELYEZhkUpWYbFQZmHHanZhQEiDYTZci2HPa5NhNnGbYQxlo2HlP6thAPmyYUaHumEu4cFhsPzIYevPz2G1UNZhUHXcYSU04mE5hOdhAF3sYcK28GFxivRh2dH3YeaH+mFKqPxh5i/+YcIc/2FdW/9hvvD+Yd/w/WHGXPxh3Db6YUmC92FHQ/RhO3/wYY087GHagudhUFriYfnL3GEj4dZhaKPQYZocymF2VsNh7Vq8YbMztWGW6q1hCommYWUYn2GdoZdhOS2QYU/DiGFja4FhsVh0YboYZmHZIVhhxH1KYUA0PWHoSzBhtskjYUSxF2HNBAxhJsUAYULk62C5FNdgFBfDYAblr2C+dp1gSsOLYC+BdWDmx1Rg7UM1YOTdFmAb/PJf7hi6X53kgl8HXxpfZZiVXg==",
           "dtype": "f4"
          },
          "colorscale": [
           [
            0,
            "#440154"
           ],
           [
            0.1111111111111111,
            "#482878"
           ],
           [
            0.2222222222222222,
            "#3e4989"
           ],
           [
            0.3333333333333333,
            "#31688e"
           ],
           [
            0.4444444444444444,
            "#26828e"
           ],
           [
            0.5555555555555556,
            "#1f9e89"
           ],
           [
            0.6666666666666666,
            "#35b779"
           ],
           [
            0.7777777777777778,
            "#6ece58"
           ],
           [
            0.8888888888888888,
            "#b5de2b"
           ],
           [
            1,
            "#fde725"
           ]
          ],
          "showscale": false,
          "width": 4
         },
         "mode": "lines",
         "showlegend": false,
         "type": "scatter3d",
         "x": {
          "bdata": "AAAAALooDiy6KI4sFz3VLLooDi3osjEtFz1VLUbHeC26KI4t0e2fLeiysS0AeMMtFz3VLS4C5y1Gx/gtLkYFLrooDi5GCxcu0e0fLl3QKC7osjEudJU6LgB4Qy6LWkwuFz1VLqMfXi4uAmcuuuRvLkbHeC7p1IAuLkaFLnS3iS66KI4uAJqSLkYLly6LfJsu0e2fLhdfpC5d0Kguo0GtLuiysS4uJLYudJW6LroGvy4AeMMuRunHLotazC7Ry9AuFz3VLl2u2S6hH94u55DiLi0C5y5zc+suuOTvLv5V9C5Ex/guijj9LujUAC+LDQMvLkYFL9B+By90twkvFvALL7ooDi9cYRAv/5kSL6LSFC9FCxcv6EMZL4p8Gy8utR0v0O0fL3QmIi8WXyQvuZcmL1zQKC//CCsvokEtL0V6Ly/osjEvi+szLy4kNi/QXDgvdJU6LxbOPC+5Bj8vXD9BL/93Qy+isEUvRelHL+ghSi+LWkwvLpNOL9DLUC9zBFMvFj1VL7l1Vy9crlkv/+ZbLw==",
          "dtype": "f4"
         },
         "y": {
          "bdata": "fPDBQHzwwUB88MFAfPDBQHzwwUB88MFAfPDBQHzwwUB88MFAfPDBQHzwwUB88MFAfPDBQHzwwUB88MFAfPDBQHzwwUB88MFAfPDBQHzwwUB88MFAfPDBQHzwwUB88MFAfPDBQHzwwUB88MFAfPDBQHzwwUB88MFAfPDBQHzwwUB88MFAfPDBQHzwwUB88MFAfPDBQHzwwUB88MFAfPDBQHzwwUB88MFAfPDBQHzwwUB88MFAfPDBQHzwwUB88MFAfPDBQHzwwUB88MFAfPDBQHzwwUB88MFAfPDBQHzwwUB88MFAfPDBQHzwwUB88MFAfPDBQHzwwUB88MFAfPDBQHzwwUB88MFAfPDBQHzwwUB88MFAfPDBQHzwwUB88MFAfPDBQHzwwUB88MFAfPDBQHzwwUB88MFAfPDBQHzwwUB88MFAfPDBQHzwwUB88MFAfPDBQHzwwUB88MFAfPDBQHzwwUB88MFAfPDBQHzwwUB88MFAfPDBQHzwwUB88MFAfPDBQHzwwUB88MFAfPDBQA==",
          "dtype": "f4"
         },
         "z": {
          "bdata": "eLES1/e7Yt3h9efdUywT3ppGAt6yZkTd2AbYXT0lrl4fvihfMv2HX08Hxl9N7wZgsVsvYGLTW2Ag7oVglX2fYOZdumBRWdZg0z/zYGN0CGF3mBdhyf0mYRCZNmELYEZhkUpWYbFQZmHHanZhQEiDYTZci2HPa5NhNnGbYQxlo2HlP6thAPmyYUaHumEu4cFhsPzIYevPz2G1UNZhUHXcYSU04mE5hOdhAF3sYcK28GFxivRh2dH3YeaH+mFKqPxh5i/+YcIc/2FdW/9hvvD+Yd/w/WHGXPxh3Db6YUmC92FHQ/RhO3/wYY087GHagudhUFriYfnL3GEj4dZhaKPQYZocymF2VsNh7Vq8YbMztWGW6q1hCommYWUYn2GdoZdhOS2QYU/DiGFja4FhsVh0YboYZmHZIVhhxH1KYUA0PWHoSzBhtskjYUSxF2HNBAxhJsUAYULk62C5FNdgFBfDYAblr2C+dp1gSsOLYC+BdWDmx1Rg7UM1YOTdFmAb/PJf7hi6X53kgl8HXxpfZZiVXg==",
          "dtype": "f4"
         }
        },
        {
         "line": {
          "cmax": 609594438449430000000,
          "cmin": -47443623273325130000,
          "color": {
           "bdata": "HowP11wsW91eQtzdwz0I3meo4d2xF7vc0goQXgx4xl4grzhfhS2SX87E0l+Fvg5gucI4YHv1ZmBha4xg6vGmYKvPwmC2yd9gZ6r9YI8hDmFStR1hKX8tYQZxPWEqfk1hYZxdYQ3CbWF35n1hXwCHYbMDj2ES+JZhLtieYWmdpmFOQa5hNby1YUkGvWE+F8RhcebKYUZr0WHxnNdh2HLdYaHk4mFl6udhmXzsYV6U8GFsK/RhPTz3YUnC+WGcufthdx/9YRTy/WGcIf5h/bH9YUWz/GF/Jvth2Q35YUps9mGpRfNh657vYdZ962Fd6eZh9ujhYeWE3GG2xdZhPLTQYZJZymHDvsNhGe28YarttWG/ya5hT4qnYUU4oGE73JhhdX6RYd0mimHX3IJhdk53YZAYaWE6I1theHhNYZ0gQGHsIjNhEoUmYXVLGmEmeQ5h5A8DYcAg8GBE9NpgapfGYJEFs2BsOKBgdiiOYK6ZeWDuN1hgqhY4YPgfGWBMevZfyK28XyKthF+ijxxfRw6YXg==",
           "dtype": "f4"
          },
          "colorscale": [
           [
            0,
            "#440154"
           ],
           [
            0.1111111111111111,
            "#482878"
           ],
           [
            0.2222222222222222,
            "#3e4989"
           ],
           [
            0.3333333333333333,
            "#31688e"
           ],
           [
            0.4444444444444444,
            "#26828e"
           ],
           [
            0.5555555555555556,
            "#1f9e89"
           ],
           [
            0.6666666666666666,
            "#35b779"
           ],
           [
            0.7777777777777778,
            "#6ece58"
           ],
           [
            0.8888888888888888,
            "#b5de2b"
           ],
           [
            1,
            "#fde725"
           ]
          ],
          "showscale": false,
          "width": 4
         },
         "mode": "lines",
         "showlegend": false,
         "type": "scatter3d",
         "x": {
          "bdata": "AAAAALooDiy6KI4sFz3VLLooDi3osjEtFz1VLUbHeC26KI4t0e2fLeiysS0AeMMtFz3VLS4C5y1Gx/gtLkYFLrooDi5GCxcu0e0fLl3QKC7osjEudJU6LgB4Qy6LWkwuFz1VLqMfXi4uAmcuuuRvLkbHeC7p1IAuLkaFLnS3iS66KI4uAJqSLkYLly6LfJsu0e2fLhdfpC5d0Kguo0GtLuiysS4uJLYudJW6LroGvy4AeMMuRunHLotazC7Ry9AuFz3VLl2u2S6hH94u55DiLi0C5y5zc+suuOTvLv5V9C5Ex/guijj9LujUAC+LDQMvLkYFL9B+By90twkvFvALL7ooDi9cYRAv/5kSL6LSFC9FCxcv6EMZL4p8Gy8utR0v0O0fL3QmIi8WXyQvuZcmL1zQKC//CCsvokEtL0V6Ly/osjEvi+szLy4kNi/QXDgvdJU6LxbOPC+5Bj8vXD9BL/93Qy+isEUvRelHL+ghSi+LWkwvLpNOL9DLUC9zBFMvFj1VL7l1Vy9crlkv/+ZbLw==",
          "dtype": "f4"
         },
         "y": {
          "bdata": "cGfIQHBnyEBwZ8hAcGfIQHBnyEBwZ8hAcGfIQHBnyEBwZ8hAcGfIQHBnyEBwZ8hAcGfIQHBnyEBwZ8hAcGfIQHBnyEBwZ8hAcGfIQHBnyEBwZ8hAcGfIQHBnyEBwZ8hAcGfIQHBnyEBwZ8hAcGfIQHBnyEBwZ8hAcGfIQHBnyEBwZ8hAcGfIQHBnyEBwZ8hAcGfIQHBnyEBwZ8hAcGfIQHBnyEBwZ8hAcGfIQHBnyEBwZ8hAcGfIQHBnyEBwZ8hAcGfIQHBnyEBwZ8hAcGfIQHBnyEBwZ8hAcGfIQHBnyEBwZ8hAcGfIQHBnyEBwZ8hAcGfIQHBnyEBwZ8hAcGfIQHBnyEBwZ8hAcGfIQHBnyEBwZ8hAcGfIQHBnyEBwZ8hAcGfIQHBnyEBwZ8hAcGfIQHBnyEBwZ8hAcGfIQHBnyEBwZ8hAcGfIQHBnyEBwZ8hAcGfIQHBnyEBwZ8hAcGfIQHBnyEBwZ8hAcGfIQHBnyEBwZ8hAcGfIQHBnyEBwZ8hAcGfIQHBnyEBwZ8hAcGfIQA==",
          "dtype": "f4"
         },
         "z": {
          "bdata": "HowP11wsW91eQtzdwz0I3meo4d2xF7vc0goQXgx4xl4grzhfhS2SX87E0l+Fvg5gucI4YHv1ZmBha4xg6vGmYKvPwmC2yd9gZ6r9YI8hDmFStR1hKX8tYQZxPWEqfk1hYZxdYQ3CbWF35n1hXwCHYbMDj2ES+JZhLtieYWmdpmFOQa5hNby1YUkGvWE+F8RhcebKYUZr0WHxnNdh2HLdYaHk4mFl6udhmXzsYV6U8GFsK/RhPTz3YUnC+WGcufthdx/9YRTy/WGcIf5h/bH9YUWz/GF/Jvth2Q35YUps9mGpRfNh657vYdZ962Fd6eZh9ujhYeWE3GG2xdZhPLTQYZJZymHDvsNhGe28YarttWG/ya5hT4qnYUU4oGE73JhhdX6RYd0mimHX3IJhdk53YZAYaWE6I1theHhNYZ0gQGHsIjNhEoUmYXVLGmEmeQ5h5A8DYcAg8GBE9NpgapfGYJEFs2BsOKBgdiiOYK6ZeWDuN1hgqhY4YPgfGWBMevZfyK28XyKthF+ijxxfRw6YXg==",
          "dtype": "f4"
         }
        },
        {
         "line": {
          "cmax": 609594438449430000000,
          "cmin": -47443623273325130000,
          "color": {
           "bdata": "QzgM11twU914adDdK3P63Sukvt0eERRbGeozXuyZ3l48c0hf/TmcX9ZN31+daRZgVfpBYJvbcWDaw5JgXTquYEwOy2DA/+hgz+kDYcOqE2EyqyNh6dYzYSsdRGHOblRhg79kYQsEdWFTmYJh5aCKYQCUkmGzbZphQSmiYbvAqWGcLrFhR2y4YRpzv2EUPMZhz7/MYQX30mEy2thh/WHeYS+H42H3Quhhy47sYbBk8GElv/NhTpn2YS/v+GFKvfphKwH8YTy5/GE22fxhAGT8Yd5l+2HQ3/lh5tP3YcpE9WEANvJh+qvuYe+r6mEmPOZhXWPhYRYp3GEYldZhfK/QYaeAymHzEMRhBWm9YWKRtmHIkq9hsnWoYaVCoWHkAZphbLuSYfB2i2G+O4RhOyF6Ybj3a2FXBl5hiFdQYRD0QmHF4zVhBy0pYf7UHGGO3xBhSk8FYYJL9GClxt5gxw7KYNggtmAU+KJgSo6QYM63fWDBsFtgRfQ6YORtG2ANEPpfMFi/X4KHhl+s2R5fMqSaXg==",
           "dtype": "f4"
          },
          "colorscale": [
           [
            0,
            "#440154"
           ],
           [
            0.1111111111111111,
            "#482878"
           ],
           [
            0.2222222222222222,
            "#3e4989"
           ],
           [
            0.3333333333333333,
            "#31688e"
           ],
           [
            0.4444444444444444,
            "#26828e"
           ],
           [
            0.5555555555555556,
            "#1f9e89"
           ],
           [
            0.6666666666666666,
            "#35b779"
           ],
           [
            0.7777777777777778,
            "#6ece58"
           ],
           [
            0.8888888888888888,
            "#b5de2b"
           ],
           [
            1,
            "#fde725"
           ]
          ],
          "showscale": false,
          "width": 4
         },
         "mode": "lines",
         "showlegend": false,
         "type": "scatter3d",
         "x": {
          "bdata": "AAAAALooDiy6KI4sFz3VLLooDi3osjEtFz1VLUbHeC26KI4t0e2fLeiysS0AeMMtFz3VLS4C5y1Gx/gtLkYFLrooDi5GCxcu0e0fLl3QKC7osjEudJU6LgB4Qy6LWkwuFz1VLqMfXi4uAmcuuuRvLkbHeC7p1IAuLkaFLnS3iS66KI4uAJqSLkYLly6LfJsu0e2fLhdfpC5d0Kguo0GtLuiysS4uJLYudJW6LroGvy4AeMMuRunHLotazC7Ry9AuFz3VLl2u2S6hH94u55DiLi0C5y5zc+suuOTvLv5V9C5Ex/guijj9LujUAC+LDQMvLkYFL9B+By90twkvFvALL7ooDi9cYRAv/5kSL6LSFC9FCxcv6EMZL4p8Gy8utR0v0O0fL3QmIi8WXyQvuZcmL1zQKC//CCsvokEtL0V6Ly/osjEvi+szLy4kNi/QXDgvdJU6LxbOPC+5Bj8vXD9BL/93Qy+isEUvRelHL+ghSi+LWkwvLpNOL9DLUC9zBFMvFj1VL7l1Vy9crlkv/+ZbLw==",
          "dtype": "f4"
         },
         "y": {
          "bdata": "Yt7OQGLezkBi3s5AYt7OQGLezkBi3s5AYt7OQGLezkBi3s5AYt7OQGLezkBi3s5AYt7OQGLezkBi3s5AYt7OQGLezkBi3s5AYt7OQGLezkBi3s5AYt7OQGLezkBi3s5AYt7OQGLezkBi3s5AYt7OQGLezkBi3s5AYt7OQGLezkBi3s5AYt7OQGLezkBi3s5AYt7OQGLezkBi3s5AYt7OQGLezkBi3s5AYt7OQGLezkBi3s5AYt7OQGLezkBi3s5AYt7OQGLezkBi3s5AYt7OQGLezkBi3s5AYt7OQGLezkBi3s5AYt7OQGLezkBi3s5AYt7OQGLezkBi3s5AYt7OQGLezkBi3s5AYt7OQGLezkBi3s5AYt7OQGLezkBi3s5AYt7OQGLezkBi3s5AYt7OQGLezkBi3s5AYt7OQGLezkBi3s5AYt7OQGLezkBi3s5AYt7OQGLezkBi3s5AYt7OQGLezkBi3s5AYt7OQGLezkBi3s5AYt7OQGLezkBi3s5AYt7OQGLezkBi3s5AYt7OQA==",
          "dtype": "f4"
         },
         "z": {
          "bdata": "QzgM11twU914adDdK3P63Sukvt0eERRbGeozXuyZ3l48c0hf/TmcX9ZN31+daRZgVfpBYJvbcWDaw5JgXTquYEwOy2DA/+hgz+kDYcOqE2EyqyNh6dYzYSsdRGHOblRhg79kYQsEdWFTmYJh5aCKYQCUkmGzbZphQSmiYbvAqWGcLrFhR2y4YRpzv2EUPMZhz7/MYQX30mEy2thh/WHeYS+H42H3Quhhy47sYbBk8GElv/NhTpn2YS/v+GFKvfphKwH8YTy5/GE22fxhAGT8Yd5l+2HQ3/lh5tP3YcpE9WEANvJh+qvuYe+r6mEmPOZhXWPhYRYp3GEYldZhfK/QYaeAymHzEMRhBWm9YWKRtmHIkq9hsnWoYaVCoWHkAZphbLuSYfB2i2G+O4RhOyF6Ybj3a2FXBl5hiFdQYRD0QmHF4zVhBy0pYf7UHGGO3xBhSk8FYYJL9GClxt5gxw7KYNggtmAU+KJgSo6QYM63fWDBsFtgRfQ6YORtG2ANEPpfMFi/X4KHhl+s2R5fMqSaXg==",
          "dtype": "f4"
         }
        },
        {
         "line": {
          "cmax": 609594438449430000000,
          "cmin": -47443623273325130000,
          "color": {
           "bdata": "0rcI1zeOS90Cc8TdGEzk3SeRm91wsN9cJJZXXhyF9l64B1hfbSGmX3eh619M8B1gbgJLYNqFfGC895hgO1e1YDMa02D0+/FgDd4IYVoQGWGHeilhlAU6YRqeSmGUMlthp7RrYYwXfGEkKIZhYSqOYb0NlmF9zZ1hVGWlYQzQrGH8CLRhkwq7YUzPwWFkUchhxIrOYV111GH3CtphbEXfYbAe5GENkehh5ZbsYS8r8GEwSfNhvOz1YWES+GEft/lhwdj6YfN1+2HThfthTwr7YQwM+mH6i/hhCIz2YaYO9GHqFvFh3KjtYRXJ6WE8feVhWcvgYS2622HGUNZhfZbQYQGTymEMTsRhn8+9YaUft2FbRrBhxEupYf83omHyEpthVeSTYa6zjGEgiIVh4dB8Yc61bmG4ymBhRBpTYbetRWF7jThhhMArYcFMH2HVNhNhH4IHYQdi+GBmieJgxHrNYJo0uWCRs6Vg1fKSYATsgGBNL19gFNo9YHDFHWDVuf1faRXCX7ZxiF9HOiFfDFadXg==",
           "dtype": "f4"
          },
          "colorscale": [
           [
            0,
            "#440154"
           ],
           [
            0.1111111111111111,
            "#482878"
           ],
           [
            0.2222222222222222,
            "#3e4989"
           ],
           [
            0.3333333333333333,
            "#31688e"
           ],
           [
            0.4444444444444444,
            "#26828e"
           ],
           [
            0.5555555555555556,
            "#1f9e89"
           ],
           [
            0.6666666666666666,
            "#35b779"
           ],
           [
            0.7777777777777778,
            "#6ece58"
           ],
           [
            0.8888888888888888,
            "#b5de2b"
           ],
           [
            1,
            "#fde725"
           ]
          ],
          "showscale": false,
          "width": 4
         },
         "mode": "lines",
         "showlegend": false,
         "type": "scatter3d",
         "x": {
          "bdata": "AAAAALooDiy6KI4sFz3VLLooDi3osjEtFz1VLUbHeC26KI4t0e2fLeiysS0AeMMtFz3VLS4C5y1Gx/gtLkYFLrooDi5GCxcu0e0fLl3QKC7osjEudJU6LgB4Qy6LWkwuFz1VLqMfXi4uAmcuuuRvLkbHeC7p1IAuLkaFLnS3iS66KI4uAJqSLkYLly6LfJsu0e2fLhdfpC5d0Kguo0GtLuiysS4uJLYudJW6LroGvy4AeMMuRunHLotazC7Ry9AuFz3VLl2u2S6hH94u55DiLi0C5y5zc+suuOTvLv5V9C5Ex/guijj9LujUAC+LDQMvLkYFL9B+By90twkvFvALL7ooDi9cYRAv/5kSL6LSFC9FCxcv6EMZL4p8Gy8utR0v0O0fL3QmIi8WXyQvuZcmL1zQKC//CCsvokEtL0V6Ly/osjEvi+szLy4kNi/QXDgvdJU6LxbOPC+5Bj8vXD9BL/93Qy+isEUvRelHL+ghSi+LWkwvLpNOL9DLUC9zBFMvFj1VL7l1Vy9crlkv/+ZbLw==",
          "dtype": "f4"
         },
         "y": {
          "bdata": "VlXVQFZV1UBWVdVAVlXVQFZV1UBWVdVAVlXVQFZV1UBWVdVAVlXVQFZV1UBWVdVAVlXVQFZV1UBWVdVAVlXVQFZV1UBWVdVAVlXVQFZV1UBWVdVAVlXVQFZV1UBWVdVAVlXVQFZV1UBWVdVAVlXVQFZV1UBWVdVAVlXVQFZV1UBWVdVAVlXVQFZV1UBWVdVAVlXVQFZV1UBWVdVAVlXVQFZV1UBWVdVAVlXVQFZV1UBWVdVAVlXVQFZV1UBWVdVAVlXVQFZV1UBWVdVAVlXVQFZV1UBWVdVAVlXVQFZV1UBWVdVAVlXVQFZV1UBWVdVAVlXVQFZV1UBWVdVAVlXVQFZV1UBWVdVAVlXVQFZV1UBWVdVAVlXVQFZV1UBWVdVAVlXVQFZV1UBWVdVAVlXVQFZV1UBWVdVAVlXVQFZV1UBWVdVAVlXVQFZV1UBWVdVAVlXVQFZV1UBWVdVAVlXVQFZV1UBWVdVAVlXVQFZV1UBWVdVAVlXVQFZV1UBWVdVAVlXVQFZV1UBWVdVAVlXVQA==",
          "dtype": "f4"
         },
         "z": {
          "bdata": "0rcI1zeOS90Cc8TdGEzk3SeRm91wsN9cJJZXXhyF9l64B1hfbSGmX3eh619M8B1gbgJLYNqFfGC895hgO1e1YDMa02D0+/FgDd4IYVoQGWGHeilhlAU6YRqeSmGUMlthp7RrYYwXfGEkKIZhYSqOYb0NlmF9zZ1hVGWlYQzQrGH8CLRhkwq7YUzPwWFkUchhxIrOYV111GH3CtphbEXfYbAe5GENkehh5ZbsYS8r8GEwSfNhvOz1YWES+GEft/lhwdj6YfN1+2HThfthTwr7YQwM+mH6i/hhCIz2YaYO9GHqFvFh3KjtYRXJ6WE8feVhWcvgYS2622HGUNZhfZbQYQGTymEMTsRhn8+9YaUft2FbRrBhxEupYf83omHyEpthVeSTYa6zjGEgiIVh4dB8Yc61bmG4ymBhRBpTYbetRWF7jThhhMArYcFMH2HVNhNhH4IHYQdi+GBmieJgxHrNYJo0uWCRs6Vg1fKSYATsgGBNL19gFNo9YHDFHWDVuf1faRXCX7ZxiF9HOiFfDFadXg==",
          "dtype": "f4"
         }
        },
        {
         "line": {
          "cmax": 609594438449430000000,
          "cmin": -47443623273325130000,
          "color": {
           "bdata": "IhEF1/GLQ91zZrjdJhLO3bT+cN0ME1ZdQgR7XgYaB1/LaWdfh+KvX5m+918fUiVgrNpTYA56g2AQB59gqki8YKDz2mCivvpgJLINYZ5SHmGhIy9hdwtAYTP0UGH3yWFhbXxyYZV+gWEWoIlhUZ2RYYFxmWESGKFhMo2oYUzMr2GQ0bZhZZi9YWMcxGH/WMphS0nQYY7o1WG7Mdth5B/gYSuu5GHR1+hhUJjsYXfr72FVzfJhaDr1Ydov92ENq/hhNar5YSIs+mFPK/phoqj5YVup+GFgLvdhdjn1YcfM8mEa6+9h+ZfsYXTX6GGPruRhmyLgYaM522H8+dVhRmrQYYORymG/dsRhaSG+YdWYt2HA5LBhsgyqYWEYo2FdD5xhGfmUYeXcjWG/wYZhwlx/YSlScWF8b2Nhwr9VYZ5MSGH5HjthdD4uYZexIWHKfRVhL6cJYfBh/GA7OuZgKNnQYLQ+vGDuaKhgSVSVYJD7gmCtsGJgpsVAYIwkIGAiugBg0uLEX75pil+criNf8B+gXg==",
           "dtype": "f4"
          },
          "colorscale": [
           [
            0,
            "#440154"
           ],
           [
            0.1111111111111111,
            "#482878"
           ],
           [
            0.2222222222222222,
            "#3e4989"
           ],
           [
            0.3333333333333333,
            "#31688e"
           ],
           [
            0.4444444444444444,
            "#26828e"
           ],
           [
            0.5555555555555556,
            "#1f9e89"
           ],
           [
            0.6666666666666666,
            "#35b779"
           ],
           [
            0.7777777777777778,
            "#6ece58"
           ],
           [
            0.8888888888888888,
            "#b5de2b"
           ],
           [
            1,
            "#fde725"
           ]
          ],
          "showscale": false,
          "width": 4
         },
         "mode": "lines",
         "showlegend": false,
         "type": "scatter3d",
         "x": {
          "bdata": "AAAAALooDiy6KI4sFz3VLLooDi3osjEtFz1VLUbHeC26KI4t0e2fLeiysS0AeMMtFz3VLS4C5y1Gx/gtLkYFLrooDi5GCxcu0e0fLl3QKC7osjEudJU6LgB4Qy6LWkwuFz1VLqMfXi4uAmcuuuRvLkbHeC7p1IAuLkaFLnS3iS66KI4uAJqSLkYLly6LfJsu0e2fLhdfpC5d0Kguo0GtLuiysS4uJLYudJW6LroGvy4AeMMuRunHLotazC7Ry9AuFz3VLl2u2S6hH94u55DiLi0C5y5zc+suuOTvLv5V9C5Ex/guijj9LujUAC+LDQMvLkYFL9B+By90twkvFvALL7ooDi9cYRAv/5kSL6LSFC9FCxcv6EMZL4p8Gy8utR0v0O0fL3QmIi8WXyQvuZcmL1zQKC//CCsvokEtL0V6Ly/osjEvi+szLy4kNi/QXDgvdJU6LxbOPC+5Bj8vXD9BL/93Qy+isEUvRelHL+ghSi+LWkwvLpNOL9DLUC9zBFMvFj1VL7l1Vy9crlkv/+ZbLw==",
          "dtype": "f4"
         },
         "y": {
          "bdata": "SMzbQEjM20BIzNtASMzbQEjM20BIzNtASMzbQEjM20BIzNtASMzbQEjM20BIzNtASMzbQEjM20BIzNtASMzbQEjM20BIzNtASMzbQEjM20BIzNtASMzbQEjM20BIzNtASMzbQEjM20BIzNtASMzbQEjM20BIzNtASMzbQEjM20BIzNtASMzbQEjM20BIzNtASMzbQEjM20BIzNtASMzbQEjM20BIzNtASMzbQEjM20BIzNtASMzbQEjM20BIzNtASMzbQEjM20BIzNtASMzbQEjM20BIzNtASMzbQEjM20BIzNtASMzbQEjM20BIzNtASMzbQEjM20BIzNtASMzbQEjM20BIzNtASMzbQEjM20BIzNtASMzbQEjM20BIzNtASMzbQEjM20BIzNtASMzbQEjM20BIzNtASMzbQEjM20BIzNtASMzbQEjM20BIzNtASMzbQEjM20BIzNtASMzbQEjM20BIzNtASMzbQEjM20BIzNtASMzbQEjM20BIzNtASMzbQEjM20BIzNtASMzbQA==",
          "dtype": "f4"
         },
         "z": {
          "bdata": "IhEF1/GLQ91zZrjdJhLO3bT+cN0ME1ZdQgR7XgYaB1/LaWdfh+KvX5m+918fUiVgrNpTYA56g2AQB59gqki8YKDz2mCivvpgJLINYZ5SHmGhIy9hdwtAYTP0UGH3yWFhbXxyYZV+gWEWoIlhUZ2RYYFxmWESGKFhMo2oYUzMr2GQ0bZhZZi9YWMcxGH/WMphS0nQYY7o1WG7Mdth5B/gYSuu5GHR1+hhUJjsYXfr72FVzfJhaDr1Ydov92ENq/hhNar5YSIs+mFPK/phoqj5YVup+GFgLvdhdjn1YcfM8mEa6+9h+ZfsYXTX6GGPruRhmyLgYaM522H8+dVhRmrQYYORymG/dsRhaSG+YdWYt2HA5LBhsgyqYWEYo2FdD5xhGfmUYeXcjWG/wYZhwlx/YSlScWF8b2Nhwr9VYZ5MSGH5HjthdD4uYZexIWHKfRVhL6cJYfBh/GA7OuZgKNnQYLQ+vGDuaKhgSVSVYJD7gmCtsGJgpsVAYIwkIGAiugBg0uLEX75pil+criNf8B+gXg==",
          "dtype": "f4"
         }
        },
        {
         "line": {
          "cmax": 609594438449430000000,
          "cmin": -47443623273325130000,
          "color": {
           "bdata": "jk0B1ytvO92qSqzdStC33bb6Kt0b551dTRWPXsLQEl/tlnZfI3y5XxnSAWC6jixg44JcYCiTiGDo8aRgzg7DYMia4mAUpAFhTGYSYcdxI2HIpjRh8+hFYeMfV2FuNWhhVBd5YcfahGGDAY1hIvqUYcq/nGEaTqRhnKGrYWS2smFliblh+hbAYdlbxmGLVMxhXP3RYcVS12HzUNxhH/TgYYg45WGGGulhgZbsYSup72FXT/JhRYb0YZdL9mEvnfdhl3n4Ydbf+GGOzfhhz0L4YXtB92F3yvVhXd/zYSWC8WFCte5hwHvrYTXZ52H60eNhvmrfYdKo2mHUkdVhtyvQYdd8ymGRi8Rhwl6+YS39t2EEbrFhbbiqYafjo2Hu9pxhbfmVYTryjmE06Idh++GAYbvLc2Gh82Vh6UZYYZvPSmEhlz1hnaUwYUsCJGE6sxdhU70LYX4kAGHr1ulg2ifUYDA9v2BPFqtg8bCXYAIJhWAsMmZgmLRDYDuJImAKngJgzr3HX6xtjF/sMyZfIP6iXg==",
           "dtype": "f4"
          },
          "colorscale": [
           [
            0,
            "#440154"
           ],
           [
            0.1111111111111111,
            "#482878"
           ],
           [
            0.2222222222222222,
            "#3e4989"
           ],
           [
            0.3333333333333333,
            "#31688e"
           ],
           [
            0.4444444444444444,
            "#26828e"
           ],
           [
            0.5555555555555556,
            "#1f9e89"
           ],
           [
            0.6666666666666666,
            "#35b779"
           ],
           [
            0.7777777777777778,
            "#6ece58"
           ],
           [
            0.8888888888888888,
            "#b5de2b"
           ],
           [
            1,
            "#fde725"
           ]
          ],
          "showscale": false,
          "width": 4
         },
         "mode": "lines",
         "showlegend": false,
         "type": "scatter3d",
         "x": {
          "bdata": "AAAAALooDiy6KI4sFz3VLLooDi3osjEtFz1VLUbHeC26KI4t0e2fLeiysS0AeMMtFz3VLS4C5y1Gx/gtLkYFLrooDi5GCxcu0e0fLl3QKC7osjEudJU6LgB4Qy6LWkwuFz1VLqMfXi4uAmcuuuRvLkbHeC7p1IAuLkaFLnS3iS66KI4uAJqSLkYLly6LfJsu0e2fLhdfpC5d0Kguo0GtLuiysS4uJLYudJW6LroGvy4AeMMuRunHLotazC7Ry9AuFz3VLl2u2S6hH94u55DiLi0C5y5zc+suuOTvLv5V9C5Ex/guijj9LujUAC+LDQMvLkYFL9B+By90twkvFvALL7ooDi9cYRAv/5kSL6LSFC9FCxcv6EMZL4p8Gy8utR0v0O0fL3QmIi8WXyQvuZcmL1zQKC//CCsvokEtL0V6Ly/osjEvi+szLy4kNi/QXDgvdJU6LxbOPC+5Bj8vXD9BL/93Qy+isEUvRelHL+ghSi+LWkwvLpNOL9DLUC9zBFMvFj1VL7l1Vy9crlkv/+ZbLw==",
          "dtype": "f4"
         },
         "y": {
          "bdata": "PEPiQDxD4kA8Q+JAPEPiQDxD4kA8Q+JAPEPiQDxD4kA8Q+JAPEPiQDxD4kA8Q+JAPEPiQDxD4kA8Q+JAPEPiQDxD4kA8Q+JAPEPiQDxD4kA8Q+JAPEPiQDxD4kA8Q+JAPEPiQDxD4kA8Q+JAPEPiQDxD4kA8Q+JAPEPiQDxD4kA8Q+JAPEPiQDxD4kA8Q+JAPEPiQDxD4kA8Q+JAPEPiQDxD4kA8Q+JAPEPiQDxD4kA8Q+JAPEPiQDxD4kA8Q+JAPEPiQDxD4kA8Q+JAPEPiQDxD4kA8Q+JAPEPiQDxD4kA8Q+JAPEPiQDxD4kA8Q+JAPEPiQDxD4kA8Q+JAPEPiQDxD4kA8Q+JAPEPiQDxD4kA8Q+JAPEPiQDxD4kA8Q+JAPEPiQDxD4kA8Q+JAPEPiQDxD4kA8Q+JAPEPiQDxD4kA8Q+JAPEPiQDxD4kA8Q+JAPEPiQDxD4kA8Q+JAPEPiQDxD4kA8Q+JAPEPiQDxD4kA8Q+JAPEPiQDxD4kA8Q+JAPEPiQDxD4kA8Q+JAPEPiQA==",
          "dtype": "f4"
         },
         "z": {
          "bdata": "jk0B1ytvO92qSqzdStC33bb6Kt0b551dTRWPXsLQEl/tlnZfI3y5XxnSAWC6jixg44JcYCiTiGDo8aRgzg7DYMia4mAUpAFhTGYSYcdxI2HIpjRh8+hFYeMfV2FuNWhhVBd5YcfahGGDAY1hIvqUYcq/nGEaTqRhnKGrYWS2smFliblh+hbAYdlbxmGLVMxhXP3RYcVS12HzUNxhH/TgYYg45WGGGulhgZbsYSup72FXT/JhRYb0YZdL9mEvnfdhl3n4Ydbf+GGOzfhhz0L4YXtB92F3yvVhXd/zYSWC8WFCte5hwHvrYTXZ52H60eNhvmrfYdKo2mHUkdVhtyvQYdd8ymGRi8Rhwl6+YS39t2EEbrFhbbiqYafjo2Hu9pxhbfmVYTryjmE06Idh++GAYbvLc2Gh82Vh6UZYYZvPSmEhlz1hnaUwYUsCJGE6sxdhU70LYX4kAGHr1ulg2ifUYDA9v2BPFqtg8bCXYAIJhWAsMmZgmLRDYDuJImAKngJgzr3HX6xtjF/sMyZfIP6iXg==",
          "dtype": "f4"
         }
        },
        {
         "line": {
          "cmax": 609594438449430000000,
          "cmin": -47443623273325130000,
          "color": {
           "bdata": "pfD61i89M90RJqDd0ZCh3Wpkytz7c9BdzH+gXjdkHl9OxoJfFu3CX5moB2CspTNgu/pkYCGOjWA3uKpgsqnJYNgP6mBYzAVho/oWYQVuKGEwBDphRp5LYW8hXWFNdW5htYV/YZcgiGG2TJBhK0GYYQr5n2EUcKdhOaOuYRePtWFxMbxhfofCYf2OyGGRRc5huqjTYQq22GHfat1hosThYZrA5WEqXOlhsJTsYbdn72Hf0vFhDtTzYXFp9WFykfZh10r3Ye6U92FxcPdhhtz2YfDX9WGQY/Rh6YDyYa4x8GEHeO1hmVbqYXLQ5mFY6eJhTqXeYfwI2mFbGdVhpNvPYY1VymHgjMRh2Ie+YbVMuGEk4rFhyU6rYYyZpGFIyZ1h3uSWYTHzj2Hz+ohhsQKCYV4hdmHmVWhhfK5aYW01TWGg9D9hwPQyYaE9JmH41RlhW8MNYXAKAmFOXe1gyGTXYBYuwmDnua1gJweaYN0Sh2AvsWlgnqRGYIfxJGAJhwRg1aPKX5F7jl+NxyhfAO2lXg==",
           "dtype": "f4"
          },
          "colorscale": [
           [
            0,
            "#440154"
           ],
           [
            0.1111111111111111,
            "#482878"
           ],
           [
            0.2222222222222222,
            "#3e4989"
           ],
           [
            0.3333333333333333,
            "#31688e"
           ],
           [
            0.4444444444444444,
            "#26828e"
           ],
           [
            0.5555555555555556,
            "#1f9e89"
           ],
           [
            0.6666666666666666,
            "#35b779"
           ],
           [
            0.7777777777777778,
            "#6ece58"
           ],
           [
            0.8888888888888888,
            "#b5de2b"
           ],
           [
            1,
            "#fde725"
           ]
          ],
          "showscale": false,
          "width": 4
         },
         "mode": "lines",
         "showlegend": false,
         "type": "scatter3d",
         "x": {
          "bdata": "AAAAALooDiy6KI4sFz3VLLooDi3osjEtFz1VLUbHeC26KI4t0e2fLeiysS0AeMMtFz3VLS4C5y1Gx/gtLkYFLrooDi5GCxcu0e0fLl3QKC7osjEudJU6LgB4Qy6LWkwuFz1VLqMfXi4uAmcuuuRvLkbHeC7p1IAuLkaFLnS3iS66KI4uAJqSLkYLly6LfJsu0e2fLhdfpC5d0Kguo0GtLuiysS4uJLYudJW6LroGvy4AeMMuRunHLotazC7Ry9AuFz3VLl2u2S6hH94u55DiLi0C5y5zc+suuOTvLv5V9C5Ex/guijj9LujUAC+LDQMvLkYFL9B+By90twkvFvALL7ooDi9cYRAv/5kSL6LSFC9FCxcv6EMZL4p8Gy8utR0v0O0fL3QmIi8WXyQvuZcmL1zQKC//CCsvokEtL0V6Ly/osjEvi+szLy4kNi/QXDgvdJU6LxbOPC+5Bj8vXD9BL/93Qy+isEUvRelHL+ghSi+LWkwvLpNOL9DLUC9zBFMvFj1VL7l1Vy9crlkv/+ZbLw==",
          "dtype": "f4"
         },
         "y": {
          "bdata": "LrroQC666EAuuuhALrroQC666EAuuuhALrroQC666EAuuuhALrroQC666EAuuuhALrroQC666EAuuuhALrroQC666EAuuuhALrroQC666EAuuuhALrroQC666EAuuuhALrroQC666EAuuuhALrroQC666EAuuuhALrroQC666EAuuuhALrroQC666EAuuuhALrroQC666EAuuuhALrroQC666EAuuuhALrroQC666EAuuuhALrroQC666EAuuuhALrroQC666EAuuuhALrroQC666EAuuuhALrroQC666EAuuuhALrroQC666EAuuuhALrroQC666EAuuuhALrroQC666EAuuuhALrroQC666EAuuuhALrroQC666EAuuuhALrroQC666EAuuuhALrroQC666EAuuuhALrroQC666EAuuuhALrroQC666EAuuuhALrroQC666EAuuuhALrroQC666EAuuuhALrroQC666EAuuuhALrroQC666EAuuuhALrroQC666EAuuuhALrroQA==",
          "dtype": "f4"
         },
         "z": {
          "bdata": "pfD61i89M90RJqDd0ZCh3Wpkytz7c9BdzH+gXjdkHl9OxoJfFu3CX5moB2CspTNgu/pkYCGOjWA3uKpgsqnJYNgP6mBYzAVho/oWYQVuKGEwBDphRp5LYW8hXWFNdW5htYV/YZcgiGG2TJBhK0GYYQr5n2EUcKdhOaOuYRePtWFxMbxhfofCYf2OyGGRRc5huqjTYQq22GHfat1hosThYZrA5WEqXOlhsJTsYbdn72Hf0vFhDtTzYXFp9WFykfZh10r3Ye6U92FxcPdhhtz2YfDX9WGQY/Rh6YDyYa4x8GEHeO1hmVbqYXLQ5mFY6eJhTqXeYfwI2mFbGdVhpNvPYY1VymHgjMRh2Ie+YbVMuGEk4rFhyU6rYYyZpGFIyZ1h3uSWYTHzj2Hz+ohhsQKCYV4hdmHmVWhhfK5aYW01TWGg9D9hwPQyYaE9JmH41RlhW8MNYXAKAmFOXe1gyGTXYBYuwmDnua1gJweaYN0Sh2AvsWlgnqRGYIfxJGAJhwRg1aPKX5F7jl+NxyhfAO2lXg==",
          "dtype": "f4"
         }
        },
        {
         "line": {
          "cmax": 609594438449430000000,
          "cmin": -47443623273325130000,
          "color": {
           "bdata": "ljrz1sz6Kt2A/pPdD12L3Tjx/duIUAFeZb2xXj3SKV9SJIpfRTTMX2ViDWChljpgA0JtYPlqkmAPWrBgeBnQYPlS8WBF2AlhXW8bYZFHLWEkPD9htCtRYSj5YmHxiXRhCuSCYUJQi2H1gZNhw3KbYacdo2GAfqphmZKxYRpXuGGDyr5h6erEYf+2ymF+LdBh9EzVYSoU2mGZgd5htZPiYeRI5mGAn+lh15XsYVQq72FLW/FhSCfzYQ6N9GF4i/VhqSH2YR9P9mGQF/ZhV3n1YTJw9GH//PJhJyHxYTfe7mEFNuxh1irpYTu/5WFw9uFh0tPdYW9b2WGYkdRh1XrPYUkcymEbe8Rh8Jy+YX6HuGH+QLJhmM+rYcQ5pWENhp5hBruXYU/fkGF1+Ylh7Q+DYd5ReGEZlWphM/VcYdZ8T2FANkJhpCo1YV9iKGHM5BthIrgPYbPhA2E/y/Bg743aYI8PxWD8UbBgVVWcYKsXiWATK21ge5NJYIFbJ2CAcwZgVpLNX4GRkF/UZitfKumoXg==",
           "dtype": "f4"
          },
          "colorscale": [
           [
            0,
            "#440154"
           ],
           [
            0.1111111111111111,
            "#482878"
           ],
           [
            0.2222222222222222,
            "#3e4989"
           ],
           [
            0.3333333333333333,
            "#31688e"
           ],
           [
            0.4444444444444444,
            "#26828e"
           ],
           [
            0.5555555555555556,
            "#1f9e89"
           ],
           [
            0.6666666666666666,
            "#35b779"
           ],
           [
            0.7777777777777778,
            "#6ece58"
           ],
           [
            0.8888888888888888,
            "#b5de2b"
           ],
           [
            1,
            "#fde725"
           ]
          ],
          "showscale": false,
          "width": 4
         },
         "mode": "lines",
         "showlegend": false,
         "type": "scatter3d",
         "x": {
          "bdata": "AAAAALooDiy6KI4sFz3VLLooDi3osjEtFz1VLUbHeC26KI4t0e2fLeiysS0AeMMtFz3VLS4C5y1Gx/gtLkYFLrooDi5GCxcu0e0fLl3QKC7osjEudJU6LgB4Qy6LWkwuFz1VLqMfXi4uAmcuuuRvLkbHeC7p1IAuLkaFLnS3iS66KI4uAJqSLkYLly6LfJsu0e2fLhdfpC5d0Kguo0GtLuiysS4uJLYudJW6LroGvy4AeMMuRunHLotazC7Ry9AuFz3VLl2u2S6hH94u55DiLi0C5y5zc+suuOTvLv5V9C5Ex/guijj9LujUAC+LDQMvLkYFL9B+By90twkvFvALL7ooDi9cYRAv/5kSL6LSFC9FCxcv6EMZL4p8Gy8utR0v0O0fL3QmIi8WXyQvuZcmL1zQKC//CCsvokEtL0V6Ly/osjEvi+szLy4kNi/QXDgvdJU6LxbOPC+5Bj8vXD9BL/93Qy+isEUvRelHL+ghSi+LWkwvLpNOL9DLUC9zBFMvFj1VL7l1Vy9crlkv/+ZbLw==",
          "dtype": "f4"
         },
         "y": {
          "bdata": "IjHvQCIx70AiMe9AIjHvQCIx70AiMe9AIjHvQCIx70AiMe9AIjHvQCIx70AiMe9AIjHvQCIx70AiMe9AIjHvQCIx70AiMe9AIjHvQCIx70AiMe9AIjHvQCIx70AiMe9AIjHvQCIx70AiMe9AIjHvQCIx70AiMe9AIjHvQCIx70AiMe9AIjHvQCIx70AiMe9AIjHvQCIx70AiMe9AIjHvQCIx70AiMe9AIjHvQCIx70AiMe9AIjHvQCIx70AiMe9AIjHvQCIx70AiMe9AIjHvQCIx70AiMe9AIjHvQCIx70AiMe9AIjHvQCIx70AiMe9AIjHvQCIx70AiMe9AIjHvQCIx70AiMe9AIjHvQCIx70AiMe9AIjHvQCIx70AiMe9AIjHvQCIx70AiMe9AIjHvQCIx70AiMe9AIjHvQCIx70AiMe9AIjHvQCIx70AiMe9AIjHvQCIx70AiMe9AIjHvQCIx70AiMe9AIjHvQCIx70AiMe9AIjHvQCIx70AiMe9AIjHvQCIx70AiMe9AIjHvQA==",
          "dtype": "f4"
         },
         "z": {
          "bdata": "ljrz1sz6Kt2A/pPdD12L3Tjx/duIUAFeZb2xXj3SKV9SJIpfRTTMX2ViDWChljpgA0JtYPlqkmAPWrBgeBnQYPlS8WBF2AlhXW8bYZFHLWEkPD9htCtRYSj5YmHxiXRhCuSCYUJQi2H1gZNhw3KbYacdo2GAfqphmZKxYRpXuGGDyr5h6erEYf+2ymF+LdBh9EzVYSoU2mGZgd5htZPiYeRI5mGAn+lh15XsYVQq72FLW/FhSCfzYQ6N9GF4i/VhqSH2YR9P9mGQF/ZhV3n1YTJw9GH//PJhJyHxYTfe7mEFNuxh1irpYTu/5WFw9uFh0tPdYW9b2WGYkdRh1XrPYUkcymEbe8Rh8Jy+YX6HuGH+QLJhmM+rYcQ5pWENhp5hBruXYU/fkGF1+Ylh7Q+DYd5ReGEZlWphM/VcYdZ8T2FANkJhpCo1YV9iKGHM5BthIrgPYbPhA2E/y/Bg743aYI8PxWD8UbBgVVWcYKsXiWATK21ge5NJYIFbJ2CAcwZgVpLNX4GRkF/UZitfKumoXg==",
          "dtype": "f4"
         }
        },
        {
         "line": {
          "cmax": 609594438449430000000,
          "cmin": -47443623273325130000,
          "color": {
           "bdata": "qpDr1rKsIt2C2Yfdjntq3bomFVznLxpeC8rCXqYYNV94ZJFf3lDVXxf/EmBTYUFgl1h1YK4pl2CJ17VgVF7WYHVk+GAFyA1hqMQfYaD+MWHSTkRhipFWYVinaGGxc3phXu+FYf9pjmGAoZZhNY+eYfUtpmHFea1hPXC0YRAPu2FcVcFhFULHYeHUzGF0DdJhduvWYcRu22Hmlt9hYGPjYajT5mEJ5+lhrJzsYdbz7mGY6/BhGoPyYbO582GpjvRhdwH1YdgR9WFZxvRhmRz0YXYN82HUmfFhEcPvYYOK7WHI8ephyfrnYamn5GEU++Bh5vfcYYmh2GGm+9NhNQrPYbXRyWG4VsRhVp6+Yb2tuGGkirJhvDqsYSDEpWH0LJ9he3uYYSO2kWE+44phKQmEYSRcemEOsGxh7BlfYZ6kUWHNWkRhFUY3YV5vKmGT3h1hipoRYTWpBWG5HvRgZaHdYL/fx2DX3LJg5pmeYAUWi2BUnXBg8n5MYETFKWDcYQhgyobQX5Stkl8xDy5fWO+rXg==",
           "dtype": "f4"
          },
          "colorscale": [
           [
            0,
            "#440154"
           ],
           [
            0.1111111111111111,
            "#482878"
           ],
           [
            0.2222222222222222,
            "#3e4989"
           ],
           [
            0.3333333333333333,
            "#31688e"
           ],
           [
            0.4444444444444444,
            "#26828e"
           ],
           [
            0.5555555555555556,
            "#1f9e89"
           ],
           [
            0.6666666666666666,
            "#35b779"
           ],
           [
            0.7777777777777778,
            "#6ece58"
           ],
           [
            0.8888888888888888,
            "#b5de2b"
           ],
           [
            1,
            "#fde725"
           ]
          ],
          "showscale": false,
          "width": 4
         },
         "mode": "lines",
         "showlegend": false,
         "type": "scatter3d",
         "x": {
          "bdata": "AAAAALooDiy6KI4sFz3VLLooDi3osjEtFz1VLUbHeC26KI4t0e2fLeiysS0AeMMtFz3VLS4C5y1Gx/gtLkYFLrooDi5GCxcu0e0fLl3QKC7osjEudJU6LgB4Qy6LWkwuFz1VLqMfXi4uAmcuuuRvLkbHeC7p1IAuLkaFLnS3iS66KI4uAJqSLkYLly6LfJsu0e2fLhdfpC5d0Kguo0GtLuiysS4uJLYudJW6LroGvy4AeMMuRunHLotazC7Ry9AuFz3VLl2u2S6hH94u55DiLi0C5y5zc+suuOTvLv5V9C5Ex/guijj9LujUAC+LDQMvLkYFL9B+By90twkvFvALL7ooDi9cYRAv/5kSL6LSFC9FCxcv6EMZL4p8Gy8utR0v0O0fL3QmIi8WXyQvuZcmL1zQKC//CCsvokEtL0V6Ly/osjEvi+szLy4kNi/QXDgvdJU6LxbOPC+5Bj8vXD9BL/93Qy+isEUvRelHL+ghSi+LWkwvLpNOL9DLUC9zBFMvFj1VL7l1Vy9crlkv/+ZbLw==",
          "dtype": "f4"
         },
         "y": {
          "bdata": "Faj1QBWo9UAVqPVAFaj1QBWo9UAVqPVAFaj1QBWo9UAVqPVAFaj1QBWo9UAVqPVAFaj1QBWo9UAVqPVAFaj1QBWo9UAVqPVAFaj1QBWo9UAVqPVAFaj1QBWo9UAVqPVAFaj1QBWo9UAVqPVAFaj1QBWo9UAVqPVAFaj1QBWo9UAVqPVAFaj1QBWo9UAVqPVAFaj1QBWo9UAVqPVAFaj1QBWo9UAVqPVAFaj1QBWo9UAVqPVAFaj1QBWo9UAVqPVAFaj1QBWo9UAVqPVAFaj1QBWo9UAVqPVAFaj1QBWo9UAVqPVAFaj1QBWo9UAVqPVAFaj1QBWo9UAVqPVAFaj1QBWo9UAVqPVAFaj1QBWo9UAVqPVAFaj1QBWo9UAVqPVAFaj1QBWo9UAVqPVAFaj1QBWo9UAVqPVAFaj1QBWo9UAVqPVAFaj1QBWo9UAVqPVAFaj1QBWo9UAVqPVAFaj1QBWo9UAVqPVAFaj1QBWo9UAVqPVAFaj1QBWo9UAVqPVAFaj1QBWo9UAVqPVAFaj1QA==",
          "dtype": "f4"
         },
         "z": {
          "bdata": "qpDr1rKsIt2C2Yfdjntq3bomFVznLxpeC8rCXqYYNV94ZJFf3lDVXxf/EmBTYUFgl1h1YK4pl2CJ17VgVF7WYHVk+GAFyA1hqMQfYaD+MWHSTkRhipFWYVinaGGxc3phXu+FYf9pjmGAoZZhNY+eYfUtpmHFea1hPXC0YRAPu2FcVcFhFULHYeHUzGF0DdJhduvWYcRu22Hmlt9hYGPjYajT5mEJ5+lhrJzsYdbz7mGY6/BhGoPyYbO582GpjvRhdwH1YdgR9WFZxvRhmRz0YXYN82HUmfFhEcPvYYOK7WHI8ephyfrnYamn5GEU++Bh5vfcYYmh2GGm+9NhNQrPYbXRyWG4VsRhVp6+Yb2tuGGkirJhvDqsYSDEpWH0LJ9he3uYYSO2kWE+44phKQmEYSRcemEOsGxh7BlfYZ6kUWHNWkRhFUY3YV5vKmGT3h1hipoRYTWpBWG5HvRgZaHdYL/fx2DX3LJg5pmeYAUWi2BUnXBg8n5MYETFKWDcYQhgyobQX5Stkl8xDy5fWO+rXg==",
          "dtype": "f4"
         }
        },
        {
         "line": {
          "cmax": 609594438449430000000,
          "cmin": -47443623273325130000,
          "color": {
           "bdata": "CQnk1hNXGt1EeHfdE3Y+3bqf01y10TJeJ6LTXqg1QF/jhZhfCkLeX2B+GGCPBUhgaz59YE3Km2DEMLtge3jcYJlE/2DJmxFhwvojYX2TNmGbPElhGdBbYWQsbmF4GYBhD+WIYQJukWGaq5lhw5ahYUwqqWFBYrBhlDy3YWq3vWGS0sNhvY3JYXnpzmF95tNhaYXYYSDH3GFIrOBhXzXkYdBi52HRNOphc6vsYbbG7mFthvBhUerxYUTy8mH3nfNhRu3zYSHg82HXf/NhUcnyYa2y8WHpPPBhUmnuYSI57GGzrelhpcjmYbSL42Eb+d9hIhPcYaTc12GzWNNhuIrOYZh2yWFSIMRhfIy+YbC/uGEwv7JhPZCsYYA4pmHCvZ9h+SWZYU13kmHkt4th7+2EYSg/fGG1pW5hgBthYaqrU2EhYUZh8EU5YXpjLGEywh9hfGkTYexfB2G8VfdgP53gYNycymDNWLVgTtOgYH0MjWBiBXRgvmRPYNosLGB9UApgm37TX97NlF8OvjBfXvyuXg==",
           "dtype": "f4"
          },
          "colorscale": [
           [
            0,
            "#440154"
           ],
           [
            0.1111111111111111,
            "#482878"
           ],
           [
            0.2222222222222222,
            "#3e4989"
           ],
           [
            0.3333333333333333,
            "#31688e"
           ],
           [
            0.4444444444444444,
            "#26828e"
           ],
           [
            0.5555555555555556,
            "#1f9e89"
           ],
           [
            0.6666666666666666,
            "#35b779"
           ],
           [
            0.7777777777777778,
            "#6ece58"
           ],
           [
            0.8888888888888888,
            "#b5de2b"
           ],
           [
            1,
            "#fde725"
           ]
          ],
          "showscale": false,
          "width": 4
         },
         "mode": "lines",
         "showlegend": false,
         "type": "scatter3d",
         "x": {
          "bdata": "AAAAALooDiy6KI4sFz3VLLooDi3osjEtFz1VLUbHeC26KI4t0e2fLeiysS0AeMMtFz3VLS4C5y1Gx/gtLkYFLrooDi5GCxcu0e0fLl3QKC7osjEudJU6LgB4Qy6LWkwuFz1VLqMfXi4uAmcuuuRvLkbHeC7p1IAuLkaFLnS3iS66KI4uAJqSLkYLly6LfJsu0e2fLhdfpC5d0Kguo0GtLuiysS4uJLYudJW6LroGvy4AeMMuRunHLotazC7Ry9AuFz3VLl2u2S6hH94u55DiLi0C5y5zc+suuOTvLv5V9C5Ex/guijj9LujUAC+LDQMvLkYFL9B+By90twkvFvALL7ooDi9cYRAv/5kSL6LSFC9FCxcv6EMZL4p8Gy8utR0v0O0fL3QmIi8WXyQvuZcmL1zQKC//CCsvokEtL0V6Ly/osjEvi+szLy4kNi/QXDgvdJU6LxbOPC+5Bj8vXD9BL/93Qy+isEUvRelHL+ghSi+LWkwvLpNOL9DLUC9zBFMvFj1VL7l1Vy9crlkv/+ZbLw==",
          "dtype": "f4"
         },
         "y": {
          "bdata": "CB/8QAgf/EAIH/xACB/8QAgf/EAIH/xACB/8QAgf/EAIH/xACB/8QAgf/EAIH/xACB/8QAgf/EAIH/xACB/8QAgf/EAIH/xACB/8QAgf/EAIH/xACB/8QAgf/EAIH/xACB/8QAgf/EAIH/xACB/8QAgf/EAIH/xACB/8QAgf/EAIH/xACB/8QAgf/EAIH/xACB/8QAgf/EAIH/xACB/8QAgf/EAIH/xACB/8QAgf/EAIH/xACB/8QAgf/EAIH/xACB/8QAgf/EAIH/xACB/8QAgf/EAIH/xACB/8QAgf/EAIH/xACB/8QAgf/EAIH/xACB/8QAgf/EAIH/xACB/8QAgf/EAIH/xACB/8QAgf/EAIH/xACB/8QAgf/EAIH/xACB/8QAgf/EAIH/xACB/8QAgf/EAIH/xACB/8QAgf/EAIH/xACB/8QAgf/EAIH/xACB/8QAgf/EAIH/xACB/8QAgf/EAIH/xACB/8QAgf/EAIH/xACB/8QAgf/EAIH/xACB/8QAgf/EAIH/xACB/8QA==",
          "dtype": "f4"
         },
         "z": {
          "bdata": "CQnk1hNXGt1EeHfdE3Y+3bqf01y10TJeJ6LTXqg1QF/jhZhfCkLeX2B+GGCPBUhgaz59YE3Km2DEMLtge3jcYJlE/2DJmxFhwvojYX2TNmGbPElhGdBbYWQsbmF4GYBhD+WIYQJukWGaq5lhw5ahYUwqqWFBYrBhlDy3YWq3vWGS0sNhvY3JYXnpzmF95tNhaYXYYSDH3GFIrOBhXzXkYdBi52HRNOphc6vsYbbG7mFthvBhUerxYUTy8mH3nfNhRu3zYSHg82HXf/NhUcnyYa2y8WHpPPBhUmnuYSI57GGzrelhpcjmYbSL42Eb+d9hIhPcYaTc12GzWNNhuIrOYZh2yWFSIMRhfIy+YbC/uGEwv7JhPZCsYYA4pmHCvZ9h+SWZYU13kmHkt4th7+2EYSg/fGG1pW5hgBthYaqrU2EhYUZh8EU5YXpjLGEywh9hfGkTYexfB2G8VfdgP53gYNycymDNWLVgTtOgYH0MjWBiBXRgvmRPYNosLGB9UApgm37TX97NlF8OvjBfXvyuXg==",
          "dtype": "f4"
         }
        },
        {
         "line": {
          "cmax": 609594438449430000000,
          "cmin": -47443623273325130000,
          "color": {
           "bdata": "SLfc1tz9Ed3rVV/dKLgS3RfBLV0vMEtemkLkXp8nS1/Ph59fNgfnXwzgHWBMg05gynmCYPhMoGD7ZcBgM2jiYOj5AmHRUxVh8REoYXEGO2HFBU5hu+dgYa2Ic2EI5IJhUsWLYYxclGF2oJxhs4mkYecSrGFBOLNh8fe5YZVQwGGbQsZhcM7LYXz10GFYudVhrxvaYV0e3mH7wuFhCQvlYeD352GYiuphEcTsYQml7mH2LfBhNl/xYS858mHzu/JhsefyYaK88mGuRvJhJILxYYFi8GHW6O5hcRbtYXLs6mEEbOhhiJblYVlt4mFG8t5hHifbYSwO12EFqtJhdP3NYdgLyWGm2MNh6We+YcK9uGHx3rJhQtCsYfKWpmFyOKBhXLqZYZoik2EYd4xh572FYRr6fWE2dXBhCvliYf2QVWE4SEhhLik7Yao9LmGdjiFh+CMVYdgECWFPbvpgmH/jYB5FzWAqxLdg/v+iYKL5jmCwYHdgoEJSYFOQLmDFPQxgK3fWX2rwll/XcDNfNw2yXg==",
           "dtype": "f4"
          },
          "colorscale": [
           [
            0,
            "#440154"
           ],
           [
            0.1111111111111111,
            "#482878"
           ],
           [
            0.2222222222222222,
            "#3e4989"
           ],
           [
            0.3333333333333333,
            "#31688e"
           ],
           [
            0.4444444444444444,
            "#26828e"
           ],
           [
            0.5555555555555556,
            "#1f9e89"
           ],
           [
            0.6666666666666666,
            "#35b779"
           ],
           [
            0.7777777777777778,
            "#6ece58"
           ],
           [
            0.8888888888888888,
            "#b5de2b"
           ],
           [
            1,
            "#fde725"
           ]
          ],
          "showscale": false,
          "width": 4
         },
         "mode": "lines",
         "showlegend": false,
         "type": "scatter3d",
         "x": {
          "bdata": "AAAAALooDiy6KI4sFz3VLLooDi3osjEtFz1VLUbHeC26KI4t0e2fLeiysS0AeMMtFz3VLS4C5y1Gx/gtLkYFLrooDi5GCxcu0e0fLl3QKC7osjEudJU6LgB4Qy6LWkwuFz1VLqMfXi4uAmcuuuRvLkbHeC7p1IAuLkaFLnS3iS66KI4uAJqSLkYLly6LfJsu0e2fLhdfpC5d0Kguo0GtLuiysS4uJLYudJW6LroGvy4AeMMuRunHLotazC7Ry9AuFz3VLl2u2S6hH94u55DiLi0C5y5zc+suuOTvLv5V9C5Ex/guijj9LujUAC+LDQMvLkYFL9B+By90twkvFvALL7ooDi9cYRAv/5kSL6LSFC9FCxcv6EMZL4p8Gy8utR0v0O0fL3QmIi8WXyQvuZcmL1zQKC//CCsvokEtL0V6Ly/osjEvi+szLy4kNi/QXDgvdJU6LxbOPC+5Bj8vXD9BL/93Qy+isEUvRelHL+ghSi+LWkwvLpNOL9DLUC9zBFMvFj1VL7l1Vy9crlkv/+ZbLw==",
          "dtype": "f4"
         },
         "y": {
          "bdata": "/koBQf5KAUH+SgFB/koBQf5KAUH+SgFB/koBQf5KAUH+SgFB/koBQf5KAUH+SgFB/koBQf5KAUH+SgFB/koBQf5KAUH+SgFB/koBQf5KAUH+SgFB/koBQf5KAUH+SgFB/koBQf5KAUH+SgFB/koBQf5KAUH+SgFB/koBQf5KAUH+SgFB/koBQf5KAUH+SgFB/koBQf5KAUH+SgFB/koBQf5KAUH+SgFB/koBQf5KAUH+SgFB/koBQf5KAUH+SgFB/koBQf5KAUH+SgFB/koBQf5KAUH+SgFB/koBQf5KAUH+SgFB/koBQf5KAUH+SgFB/koBQf5KAUH+SgFB/koBQf5KAUH+SgFB/koBQf5KAUH+SgFB/koBQf5KAUH+SgFB/koBQf5KAUH+SgFB/koBQf5KAUH+SgFB/koBQf5KAUH+SgFB/koBQf5KAUH+SgFB/koBQf5KAUH+SgFB/koBQf5KAUH+SgFB/koBQf5KAUH+SgFB/koBQf5KAUH+SgFB/koBQf5KAUH+SgFB/koBQQ==",
          "dtype": "f4"
         },
         "z": {
          "bdata": "SLfc1tz9Ed3rVV/dKLgS3RfBLV0vMEtemkLkXp8nS1/Ph59fNgfnXwzgHWBMg05gynmCYPhMoGD7ZcBgM2jiYOj5AmHRUxVh8REoYXEGO2HFBU5hu+dgYa2Ic2EI5IJhUsWLYYxclGF2oJxhs4mkYecSrGFBOLNh8fe5YZVQwGGbQsZhcM7LYXz10GFYudVhrxvaYV0e3mH7wuFhCQvlYeD352GYiuphEcTsYQml7mH2LfBhNl/xYS858mHzu/JhsefyYaK88mGuRvJhJILxYYFi8GHW6O5hcRbtYXLs6mEEbOhhiJblYVlt4mFG8t5hHifbYSwO12EFqtJhdP3NYdgLyWGm2MNh6We+YcK9uGHx3rJhQtCsYfKWpmFyOKBhXLqZYZoik2EYd4xh572FYRr6fWE2dXBhCvliYf2QVWE4SEhhLik7Yao9LmGdjiFh+CMVYdgECWFPbvpgmH/jYB5FzWAqxLdg/v+iYKL5jmCwYHdgoEJSYFOQLmDFPQxgK3fWX2rwll/XcDNfNw2yXg==",
          "dtype": "f4"
         }
        },
        {
         "line": {
          "cmax": 609594438449430000000,
          "cmin": -47443623273325130000,
          "color": {
           "bdata": "GKzV1o+kCd1CVEfdk53O3P8LcV0oRmNepqj0XjvtVV+waaZf8Z/vXwskI2CU2lRgLDyGYOyxpGCHd8Vg/i3oYFE5BmFu8BhhlQosYe5XP2HOqlJh69hlYaS8eGHHmYVhY5COYdI1l2FXgJ9hPminYRLormEQ/LVhsaK8YfbawmHkpchhpATOYWr50mGwhtdhCq/bYUZ132H32+JhguXlYRiU6GG66ephA+jsYWSQ7mEC5O9hwOPwYX6Q8WG56vFh+fLxYaSp8WE9HfFhZUnwYUQf72Hmn+1hsszrYa6m6WHeLudhd2bkYX5O4WFd6N1hfDXaYaU31mHn8NFhlGPNYYCSyGGbgMNhazG+YZaouGFe6rJhIvusYbTfpmEcnaBhrDiaYfi3k2G5II1h2HiGYX6Mf2HaHXJhy7FkYcZTV2E+D0ph7e48YQL9L2HnQiNhB8kWYQSXCmGhZv1gsEbmYNPWz2BZHbpgch6lYBXckGCorHpgURZVYLntMGAIKA5g3G3ZX0cTmV8QJTZf8B61Xg==",
           "dtype": "f4"
          },
          "colorscale": [
           [
            0,
            "#440154"
           ],
           [
            0.1111111111111111,
            "#482878"
           ],
           [
            0.2222222222222222,
            "#3e4989"
           ],
           [
            0.3333333333333333,
            "#31688e"
           ],
           [
            0.4444444444444444,
            "#26828e"
           ],
           [
            0.5555555555555556,
            "#1f9e89"
           ],
           [
            0.6666666666666666,
            "#35b779"
           ],
           [
            0.7777777777777778,
            "#6ece58"
           ],
           [
            0.8888888888888888,
            "#b5de2b"
           ],
           [
            1,
            "#fde725"
           ]
          ],
          "showscale": false,
          "width": 4
         },
         "mode": "lines",
         "showlegend": false,
         "type": "scatter3d",
         "x": {
          "bdata": "AAAAALooDiy6KI4sFz3VLLooDi3osjEtFz1VLUbHeC26KI4t0e2fLeiysS0AeMMtFz3VLS4C5y1Gx/gtLkYFLrooDi5GCxcu0e0fLl3QKC7osjEudJU6LgB4Qy6LWkwuFz1VLqMfXi4uAmcuuuRvLkbHeC7p1IAuLkaFLnS3iS66KI4uAJqSLkYLly6LfJsu0e2fLhdfpC5d0Kguo0GtLuiysS4uJLYudJW6LroGvy4AeMMuRunHLotazC7Ry9AuFz3VLl2u2S6hH94u55DiLi0C5y5zc+suuOTvLv5V9C5Ex/guijj9LujUAC+LDQMvLkYFL9B+By90twkvFvALL7ooDi9cYRAv/5kSL6LSFC9FCxcv6EMZL4p8Gy8utR0v0O0fL3QmIi8WXyQvuZcmL1zQKC//CCsvokEtL0V6Ly/osjEvi+szLy4kNi/QXDgvdJU6LxbOPC+5Bj8vXD9BL/93Qy+isEUvRelHL+ghSi+LWkwvLpNOL9DLUC9zBFMvFj1VL7l1Vy9crlkv/+ZbLw==",
          "dtype": "f4"
         },
         "y": {
          "bdata": "d4YEQXeGBEF3hgRBd4YEQXeGBEF3hgRBd4YEQXeGBEF3hgRBd4YEQXeGBEF3hgRBd4YEQXeGBEF3hgRBd4YEQXeGBEF3hgRBd4YEQXeGBEF3hgRBd4YEQXeGBEF3hgRBd4YEQXeGBEF3hgRBd4YEQXeGBEF3hgRBd4YEQXeGBEF3hgRBd4YEQXeGBEF3hgRBd4YEQXeGBEF3hgRBd4YEQXeGBEF3hgRBd4YEQXeGBEF3hgRBd4YEQXeGBEF3hgRBd4YEQXeGBEF3hgRBd4YEQXeGBEF3hgRBd4YEQXeGBEF3hgRBd4YEQXeGBEF3hgRBd4YEQXeGBEF3hgRBd4YEQXeGBEF3hgRBd4YEQXeGBEF3hgRBd4YEQXeGBEF3hgRBd4YEQXeGBEF3hgRBd4YEQXeGBEF3hgRBd4YEQXeGBEF3hgRBd4YEQXeGBEF3hgRBd4YEQXeGBEF3hgRBd4YEQXeGBEF3hgRBd4YEQXeGBEF3hgRBd4YEQXeGBEF3hgRBd4YEQXeGBEF3hgRBd4YEQQ==",
          "dtype": "f4"
         },
         "z": {
          "bdata": "GKzV1o+kCd1CVEfdk53O3P8LcV0oRmNepqj0XjvtVV+waaZf8Z/vXwskI2CU2lRgLDyGYOyxpGCHd8Vg/i3oYFE5BmFu8BhhlQosYe5XP2HOqlJh69hlYaS8eGHHmYVhY5COYdI1l2FXgJ9hPminYRLormEQ/LVhsaK8YfbawmHkpchhpATOYWr50mGwhtdhCq/bYUZ132H32+JhguXlYRiU6GG66ephA+jsYWSQ7mEC5O9hwOPwYX6Q8WG56vFh+fLxYaSp8WE9HfFhZUnwYUQf72Hmn+1hsszrYa6m6WHeLudhd2bkYX5O4WFd6N1hfDXaYaU31mHn8NFhlGPNYYCSyGGbgMNhazG+YZaouGFe6rJhIvusYbTfpmEcnaBhrDiaYfi3k2G5II1h2HiGYX6Mf2HaHXJhy7FkYcZTV2E+D0ph7e48YQL9L2HnQiNhB8kWYQSXCmGhZv1gsEbmYNPWz2BZHbpgch6lYBXckGCorHpgURZVYLntMGAIKA5g3G3ZX0cTmV8QJTZf8B61Xg==",
          "dtype": "f4"
         }
        },
        {
         "line": {
          "cmax": 609594438449430000000,
          "cmin": -47443623273325130000,
          "color": {
           "bdata": "wfTO1oNOAd0Eey/dORhx3GnQmV0XD3te52gCX2GFYF8KK61f7Qv4X09KKGCMC1tgf+aJYGX5qGDBZcpgTsrtYM9gCWH6cRxhFeUvYViIQ2EfLFdhJ6RqYcjIfWHyOohhgUaRYRX6mWF7S6JhpTKqYQeqsWHrrbhhAj2/YcFWxWGz/MphqzDQYaD11GHlTtlh8D/dYXbM4GHg9+Nhg8XmYWI46WE9U+thcxjtYRyK7mHuqe9hZXnwYcz58GH/K/Fh2RDxYQKp8GFlBfBhICHvYfvq7WEsZOxhGY7qYchp6GE6+OVhVDrjYfMw4GEe3dxh2j/ZYY1a1WHKLtFhaL7MYbYLyGEvGcNh4um9YeqAuGEg4rJhaBGtYSwTp2ET7KBhFKGaYYE3lGHMtI1htR6HYQJ7gGFMn3NhREVmYXHzWGF+tUthaZY+YbugMWE93iRh11cYYZ4VDGGAHgBh1fDoYFZQ0mC7YrxgKi2nYHGykmDQ5n1gk91XYBFDM2CpDRBgDmDcX4M0m18o2DhfuC64Xg==",
           "dtype": "f4"
          },
          "colorscale": [
           [
            0,
            "#440154"
           ],
           [
            0.1111111111111111,
            "#482878"
           ],
           [
            0.2222222222222222,
            "#3e4989"
           ],
           [
            0.3333333333333333,
            "#31688e"
           ],
           [
            0.4444444444444444,
            "#26828e"
           ],
           [
            0.5555555555555556,
            "#1f9e89"
           ],
           [
            0.6666666666666666,
            "#35b779"
           ],
           [
            0.7777777777777778,
            "#6ece58"
           ],
           [
            0.8888888888888888,
            "#b5de2b"
           ],
           [
            1,
            "#fde725"
           ]
          ],
          "showscale": false,
          "width": 4
         },
         "mode": "lines",
         "showlegend": false,
         "type": "scatter3d",
         "x": {
          "bdata": "AAAAALooDiy6KI4sFz3VLLooDi3osjEtFz1VLUbHeC26KI4t0e2fLeiysS0AeMMtFz3VLS4C5y1Gx/gtLkYFLrooDi5GCxcu0e0fLl3QKC7osjEudJU6LgB4Qy6LWkwuFz1VLqMfXi4uAmcuuuRvLkbHeC7p1IAuLkaFLnS3iS66KI4uAJqSLkYLly6LfJsu0e2fLhdfpC5d0Kguo0GtLuiysS4uJLYudJW6LroGvy4AeMMuRunHLotazC7Ry9AuFz3VLl2u2S6hH94u55DiLi0C5y5zc+suuOTvLv5V9C5Ex/guijj9LujUAC+LDQMvLkYFL9B+By90twkvFvALL7ooDi9cYRAv/5kSL6LSFC9FCxcv6EMZL4p8Gy8utR0v0O0fL3QmIi8WXyQvuZcmL1zQKC//CCsvokEtL0V6Ly/osjEvi+szLy4kNi/QXDgvdJU6LxbOPC+5Bj8vXD9BL/93Qy+isEUvRelHL+ghSi+LWkwvLpNOL9DLUC9zBFMvFj1VL7l1Vy9crlkv/+ZbLw==",
          "dtype": "f4"
         },
         "y": {
          "bdata": "8MEHQfDBB0HwwQdB8MEHQfDBB0HwwQdB8MEHQfDBB0HwwQdB8MEHQfDBB0HwwQdB8MEHQfDBB0HwwQdB8MEHQfDBB0HwwQdB8MEHQfDBB0HwwQdB8MEHQfDBB0HwwQdB8MEHQfDBB0HwwQdB8MEHQfDBB0HwwQdB8MEHQfDBB0HwwQdB8MEHQfDBB0HwwQdB8MEHQfDBB0HwwQdB8MEHQfDBB0HwwQdB8MEHQfDBB0HwwQdB8MEHQfDBB0HwwQdB8MEHQfDBB0HwwQdB8MEHQfDBB0HwwQdB8MEHQfDBB0HwwQdB8MEHQfDBB0HwwQdB8MEHQfDBB0HwwQdB8MEHQfDBB0HwwQdB8MEHQfDBB0HwwQdB8MEHQfDBB0HwwQdB8MEHQfDBB0HwwQdB8MEHQfDBB0HwwQdB8MEHQfDBB0HwwQdB8MEHQfDBB0HwwQdB8MEHQfDBB0HwwQdB8MEHQfDBB0HwwQdB8MEHQfDBB0HwwQdB8MEHQfDBB0HwwQdB8MEHQfDBB0HwwQdB8MEHQQ==",
          "dtype": "f4"
         },
         "z": {
          "bdata": "wfTO1oNOAd0Eey/dORhx3GnQmV0XD3te52gCX2GFYF8KK61f7Qv4X09KKGCMC1tgf+aJYGX5qGDBZcpgTsrtYM9gCWH6cRxhFeUvYViIQ2EfLFdhJ6RqYcjIfWHyOohhgUaRYRX6mWF7S6JhpTKqYQeqsWHrrbhhAj2/YcFWxWGz/MphqzDQYaD11GHlTtlh8D/dYXbM4GHg9+Nhg8XmYWI46WE9U+thcxjtYRyK7mHuqe9hZXnwYcz58GH/K/Fh2RDxYQKp8GFlBfBhICHvYfvq7WEsZOxhGY7qYchp6GE6+OVhVDrjYfMw4GEe3dxh2j/ZYY1a1WHKLtFhaL7MYbYLyGEvGcNh4um9YeqAuGEg4rJhaBGtYSwTp2ET7KBhFKGaYYE3lGHMtI1htR6HYQJ7gGFMn3NhREVmYXHzWGF+tUthaZY+YbugMWE93iRh11cYYZ4VDGGAHgBh1fDoYFZQ0mC7YrxgKi2nYHGykmDQ5n1gk91XYBFDM2CpDRBgDmDcX4M0m18o2DhfuC64Xg==",
          "dtype": "f4"
         }
        },
        {
         "line": {
          "cmax": 609594438449430000000,
          "cmin": -47443623273325130000,
          "color": {
           "bdata": "GpvI1nH98dz00BfddUWN2864ul13Q4leB14KXwbval99y7NfhiUAYOxSLWBpFmFg+3iNYL4jrWAfMc9gtD3zYMBwDGHX2B9h3aEzYSqYR2FFilth6klvYdNWgWHTx4ph9OeTYZ6pnGEhAqVhI+msYf5YtGEFTrthJMfBYS3Ex2E6R81htlLSYWLq1mFEEtthuM7eYUIk4mEuF+VhkqvnYUfl6WHEx+thG1btYQKT7mG8gO9hQCHwYUd28GENgfBhuELwYS2872G4AO9h4QruYUfH7GFQN+thYVzpYY8352HHyeRh2hPiYV8W32El0tth1kfYYXF41GEXZdBhPQ/MYbh4x2GOo8JhUZK9YatHuGEAx7JhwROtYe8xp2HOJaFh+fOaYXmhlGF+M45hjq+HYVcbgWFh+XRhKLNnYZdvWmF7Ok1hCx9AYSMoM2HoXyZhns8ZYdJ/DWHmdwFhbXzrYBCw1GDYkr5guSqpYFl7lGBQhoBgI5ZaYGaONWD57BFgEUvfXyVSnV+4hztf2zm7Xg==",
           "dtype": "f4"
          },
          "colorscale": [
           [
            0,
            "#440154"
           ],
           [
            0.1111111111111111,
            "#482878"
           ],
           [
            0.2222222222222222,
            "#3e4989"
           ],
           [
            0.3333333333333333,
            "#31688e"
           ],
           [
            0.4444444444444444,
            "#26828e"
           ],
           [
            0.5555555555555556,
            "#1f9e89"
           ],
           [
            0.6666666666666666,
            "#35b779"
           ],
           [
            0.7777777777777778,
            "#6ece58"
           ],
           [
            0.8888888888888888,
            "#b5de2b"
           ],
           [
            1,
            "#fde725"
           ]
          ],
          "showscale": false,
          "width": 4
         },
         "mode": "lines",
         "showlegend": false,
         "type": "scatter3d",
         "x": {
          "bdata": "AAAAALooDiy6KI4sFz3VLLooDi3osjEtFz1VLUbHeC26KI4t0e2fLeiysS0AeMMtFz3VLS4C5y1Gx/gtLkYFLrooDi5GCxcu0e0fLl3QKC7osjEudJU6LgB4Qy6LWkwuFz1VLqMfXi4uAmcuuuRvLkbHeC7p1IAuLkaFLnS3iS66KI4uAJqSLkYLly6LfJsu0e2fLhdfpC5d0Kguo0GtLuiysS4uJLYudJW6LroGvy4AeMMuRunHLotazC7Ry9AuFz3VLl2u2S6hH94u55DiLi0C5y5zc+suuOTvLv5V9C5Ex/guijj9LujUAC+LDQMvLkYFL9B+By90twkvFvALL7ooDi9cYRAv/5kSL6LSFC9FCxcv6EMZL4p8Gy8utR0v0O0fL3QmIi8WXyQvuZcmL1zQKC//CCsvokEtL0V6Ly/osjEvi+szLy4kNi/QXDgvdJU6LxbOPC+5Bj8vXD9BL/93Qy+isEUvRelHL+ghSi+LWkwvLpNOL9DLUC9zBFMvFj1VL7l1Vy9crlkv/+ZbLw==",
          "dtype": "f4"
         },
         "y": {
          "bdata": "av0KQWr9CkFq/QpBav0KQWr9CkFq/QpBav0KQWr9CkFq/QpBav0KQWr9CkFq/QpBav0KQWr9CkFq/QpBav0KQWr9CkFq/QpBav0KQWr9CkFq/QpBav0KQWr9CkFq/QpBav0KQWr9CkFq/QpBav0KQWr9CkFq/QpBav0KQWr9CkFq/QpBav0KQWr9CkFq/QpBav0KQWr9CkFq/QpBav0KQWr9CkFq/QpBav0KQWr9CkFq/QpBav0KQWr9CkFq/QpBav0KQWr9CkFq/QpBav0KQWr9CkFq/QpBav0KQWr9CkFq/QpBav0KQWr9CkFq/QpBav0KQWr9CkFq/QpBav0KQWr9CkFq/QpBav0KQWr9CkFq/QpBav0KQWr9CkFq/QpBav0KQWr9CkFq/QpBav0KQWr9CkFq/QpBav0KQWr9CkFq/QpBav0KQWr9CkFq/QpBav0KQWr9CkFq/QpBav0KQWr9CkFq/QpBav0KQWr9CkFq/QpBav0KQWr9CkFq/QpBav0KQWr9CkFq/QpBav0KQQ==",
          "dtype": "f4"
         },
         "z": {
          "bdata": "GpvI1nH98dz00BfddUWN2864ul13Q4leB14KXwbval99y7NfhiUAYOxSLWBpFmFg+3iNYL4jrWAfMc9gtD3zYMBwDGHX2B9h3aEzYSqYR2FFilth6klvYdNWgWHTx4ph9OeTYZ6pnGEhAqVhI+msYf5YtGEFTrthJMfBYS3Ex2E6R81htlLSYWLq1mFEEtthuM7eYUIk4mEuF+VhkqvnYUfl6WHEx+thG1btYQKT7mG8gO9hQCHwYUd28GENgfBhuELwYS2872G4AO9h4QruYUfH7GFQN+thYVzpYY8352HHyeRh2hPiYV8W32El0tth1kfYYXF41GEXZdBhPQ/MYbh4x2GOo8JhUZK9YatHuGEAx7JhwROtYe8xp2HOJaFh+fOaYXmhlGF+M45hjq+HYVcbgWFh+XRhKLNnYZdvWmF7Ok1hCx9AYSMoM2HoXyZhns8ZYdJ/DWHmdwFhbXzrYBCw1GDYkr5guSqpYFl7lGBQhoBgI5ZaYGaONWD57BFgEUvfXyVSnV+4hztf2zm7Xg==",
          "dtype": "f4"
         }
        },
        {
         "line": {
          "cmax": 609594438449430000000,
          "cmin": -47443623273325130000,
          "color": {
           "bdata": "saXC1n9v4dwdXADdbALEW24521041ZRe5zISX5QpdV/nSrpfri4EYA4+MmCT+2Zg8POQYF8xsWAm2tNg5oj4YIxpD2GAJSNhdEE3YQCIS2HTxV9h2cpzYfK1g2G6QI1hCXWWYbFEn2GNpKdh+4uvYTX1tmGV3L1hPUHEYWgjymGjhc9h8mrUYcfX2GHu0NxhhVvgYeF842ETOuZh+ZfoYSeb6mHAR+xhgaHtYaqr7mEFae9h/9vvYb0G8GHM6u9hnInvYUvk7mFiEO5h+wftYZW162G4GuphBjnoYYQR5mEgpeNhnPTgYWYA3mERydph+E7XYcqS02FKlc9hgVfLYd/axmH2IMJh4yu9Ye39t2H1mbJhCAOtYbw8p2HuSqFh4DGbYUj2lGEdnY5hpCuIYWSngWE2LHZhcvtoYQbIW2HqnU5hdYhBYcOSNGFQxydhwC8bYfvUDmHOvgJhCOjtYJb01mA3rMBguhWrYHw1lmDTDYJgyT1dYMfNN2BUxBNgSiziX0Bqn19DMT5fsD2+Xg==",
           "dtype": "f4"
          },
          "colorscale": [
           [
            0,
            "#440154"
           ],
           [
            0.1111111111111111,
            "#482878"
           ],
           [
            0.2222222222222222,
            "#3e4989"
           ],
           [
            0.3333333333333333,
            "#31688e"
           ],
           [
            0.4444444444444444,
            "#26828e"
           ],
           [
            0.5555555555555556,
            "#1f9e89"
           ],
           [
            0.6666666666666666,
            "#35b779"
           ],
           [
            0.7777777777777778,
            "#6ece58"
           ],
           [
            0.8888888888888888,
            "#b5de2b"
           ],
           [
            1,
            "#fde725"
           ]
          ],
          "showscale": false,
          "width": 4
         },
         "mode": "lines",
         "showlegend": false,
         "type": "scatter3d",
         "x": {
          "bdata": "AAAAALooDiy6KI4sFz3VLLooDi3osjEtFz1VLUbHeC26KI4t0e2fLeiysS0AeMMtFz3VLS4C5y1Gx/gtLkYFLrooDi5GCxcu0e0fLl3QKC7osjEudJU6LgB4Qy6LWkwuFz1VLqMfXi4uAmcuuuRvLkbHeC7p1IAuLkaFLnS3iS66KI4uAJqSLkYLly6LfJsu0e2fLhdfpC5d0Kguo0GtLuiysS4uJLYudJW6LroGvy4AeMMuRunHLotazC7Ry9AuFz3VLl2u2S6hH94u55DiLi0C5y5zc+suuOTvLv5V9C5Ex/guijj9LujUAC+LDQMvLkYFL9B+By90twkvFvALL7ooDi9cYRAv/5kSL6LSFC9FCxcv6EMZL4p8Gy8utR0v0O0fL3QmIi8WXyQvuZcmL1zQKC//CCsvokEtL0V6Ly/osjEvi+szLy4kNi/QXDgvdJU6LxbOPC+5Bj8vXD9BL/93Qy+isEUvRelHL+ghSi+LWkwvLpNOL9DLUC9zBFMvFj1VL7l1Vy9crlkv/+ZbLw==",
          "dtype": "f4"
         },
         "y": {
          "bdata": "5DgOQeQ4DkHkOA5B5DgOQeQ4DkHkOA5B5DgOQeQ4DkHkOA5B5DgOQeQ4DkHkOA5B5DgOQeQ4DkHkOA5B5DgOQeQ4DkHkOA5B5DgOQeQ4DkHkOA5B5DgOQeQ4DkHkOA5B5DgOQeQ4DkHkOA5B5DgOQeQ4DkHkOA5B5DgOQeQ4DkHkOA5B5DgOQeQ4DkHkOA5B5DgOQeQ4DkHkOA5B5DgOQeQ4DkHkOA5B5DgOQeQ4DkHkOA5B5DgOQeQ4DkHkOA5B5DgOQeQ4DkHkOA5B5DgOQeQ4DkHkOA5B5DgOQeQ4DkHkOA5B5DgOQeQ4DkHkOA5B5DgOQeQ4DkHkOA5B5DgOQeQ4DkHkOA5B5DgOQeQ4DkHkOA5B5DgOQeQ4DkHkOA5B5DgOQeQ4DkHkOA5B5DgOQeQ4DkHkOA5B5DgOQeQ4DkHkOA5B5DgOQeQ4DkHkOA5B5DgOQeQ4DkHkOA5B5DgOQeQ4DkHkOA5B5DgOQeQ4DkHkOA5B5DgOQeQ4DkHkOA5B5DgOQeQ4DkHkOA5B5DgOQQ==",
          "dtype": "f4"
         },
         "z": {
          "bdata": "saXC1n9v4dwdXADdbALEW24521041ZRe5zISX5QpdV/nSrpfri4EYA4+MmCT+2Zg8POQYF8xsWAm2tNg5oj4YIxpD2GAJSNhdEE3YQCIS2HTxV9h2cpzYfK1g2G6QI1hCXWWYbFEn2GNpKdh+4uvYTX1tmGV3L1hPUHEYWgjymGjhc9h8mrUYcfX2GHu0NxhhVvgYeF842ETOuZh+ZfoYSeb6mHAR+xhgaHtYaqr7mEFae9h/9vvYb0G8GHM6u9hnInvYUvk7mFiEO5h+wftYZW162G4GuphBjnoYYQR5mEgpeNhnPTgYWYA3mERydph+E7XYcqS02FKlc9hgVfLYd/axmH2IMJh4yu9Ye39t2H1mbJhCAOtYbw8p2HuSqFh4DGbYUj2lGEdnY5hpCuIYWSngWE2LHZhcvtoYQbIW2HqnU5hdYhBYcOSNGFQxydhwC8bYfvUDmHOvgJhCOjtYJb01mA3rMBguhWrYHw1lmDTDYJgyT1dYMfNN2BUxBNgSiziX0Bqn19DMT5fsD2+Xg==",
          "dtype": "f4"
         }
        },
        {
         "line": {
          "cmax": 609594438449430000000,
          "cmin": -47443623273325130000,
          "color": {
           "bdata": "Fhi91mD40Nx0RNLc+FeEXHJM+10zO6Beu+YZX2A0f18WqcBfbyEIYOILN2Bcu2xgo1eUYK4itWBlYdhggaz9YI9LEmFnWCZhW8Q6YWFYT2Fe32Nhkyd4YQwChmHupY9hBe6YYZbLoWEDM6phZRuyYdZ+uWHAWcBhfavGYYt0zGH9t9FhaXnWYd+92mHtit5hX+bhYU3W5GGWYOdhv4rpYQta62FQ0+xhw/rtYUvU7mEcY+9hEKrvYaur72HRae9hJebuYRAi7mE7Ne1hWBnsYee26mGkD+lhRCXnYfT45GGgi+JhBd7fYXbw3GFSw9lht1bWYROr0mHXwM5hnJjKYX8zxmGpksFh17e8Ycukt2ELXLJhNeCsYW40p2E1XKFhcVubYYU2lWEd8o5hS5OIYWofgmElOHdhSx5qYc78XGGl309hWtJCYT7gNWENFClhtnccYX8UEGGW8gNhUDLwYIQc2WCErcJg1OysYJTfl2DHiINgXtJfYE3/OWAdkhVgIQHlX+N6oV9f0kBfqDfBXg==",
           "dtype": "f4"
          },
          "colorscale": [
           [
            0,
            "#440154"
           ],
           [
            0.1111111111111111,
            "#482878"
           ],
           [
            0.2222222222222222,
            "#3e4989"
           ],
           [
            0.3333333333333333,
            "#31688e"
           ],
           [
            0.4444444444444444,
            "#26828e"
           ],
           [
            0.5555555555555556,
            "#1f9e89"
           ],
           [
            0.6666666666666666,
            "#35b779"
           ],
           [
            0.7777777777777778,
            "#6ece58"
           ],
           [
            0.8888888888888888,
            "#b5de2b"
           ],
           [
            1,
            "#fde725"
           ]
          ],
          "showscale": false,
          "width": 4
         },
         "mode": "lines",
         "showlegend": false,
         "type": "scatter3d",
         "x": {
          "bdata": "AAAAALooDiy6KI4sFz3VLLooDi3osjEtFz1VLUbHeC26KI4t0e2fLeiysS0AeMMtFz3VLS4C5y1Gx/gtLkYFLrooDi5GCxcu0e0fLl3QKC7osjEudJU6LgB4Qy6LWkwuFz1VLqMfXi4uAmcuuuRvLkbHeC7p1IAuLkaFLnS3iS66KI4uAJqSLkYLly6LfJsu0e2fLhdfpC5d0Kguo0GtLuiysS4uJLYudJW6LroGvy4AeMMuRunHLotazC7Ry9AuFz3VLl2u2S6hH94u55DiLi0C5y5zc+suuOTvLv5V9C5Ex/guijj9LujUAC+LDQMvLkYFL9B+By90twkvFvALL7ooDi9cYRAv/5kSL6LSFC9FCxcv6EMZL4p8Gy8utR0v0O0fL3QmIi8WXyQvuZcmL1zQKC//CCsvokEtL0V6Ly/osjEvi+szLy4kNi/QXDgvdJU6LxbOPC+5Bj8vXD9BL/93Qy+isEUvRelHL+ghSi+LWkwvLpNOL9DLUC9zBFMvFj1VL7l1Vy9crlkv/+ZbLw==",
          "dtype": "f4"
         },
         "y": {
          "bdata": "XXQRQV10EUFddBFBXXQRQV10EUFddBFBXXQRQV10EUFddBFBXXQRQV10EUFddBFBXXQRQV10EUFddBFBXXQRQV10EUFddBFBXXQRQV10EUFddBFBXXQRQV10EUFddBFBXXQRQV10EUFddBFBXXQRQV10EUFddBFBXXQRQV10EUFddBFBXXQRQV10EUFddBFBXXQRQV10EUFddBFBXXQRQV10EUFddBFBXXQRQV10EUFddBFBXXQRQV10EUFddBFBXXQRQV10EUFddBFBXXQRQV10EUFddBFBXXQRQV10EUFddBFBXXQRQV10EUFddBFBXXQRQV10EUFddBFBXXQRQV10EUFddBFBXXQRQV10EUFddBFBXXQRQV10EUFddBFBXXQRQV10EUFddBFBXXQRQV10EUFddBFBXXQRQV10EUFddBFBXXQRQV10EUFddBFBXXQRQV10EUFddBFBXXQRQV10EUFddBFBXXQRQV10EUFddBFBXXQRQV10EUFddBFBXXQRQV10EUFddBFBXXQRQQ==",
          "dtype": "f4"
         },
         "z": {
          "bdata": "Fhi91mD40Nx0RNLc+FeEXHJM+10zO6Beu+YZX2A0f18WqcBfbyEIYOILN2Bcu2xgo1eUYK4itWBlYdhggaz9YI9LEmFnWCZhW8Q6YWFYT2Fe32Nhkyd4YQwChmHupY9hBe6YYZbLoWEDM6phZRuyYdZ+uWHAWcBhfavGYYt0zGH9t9FhaXnWYd+92mHtit5hX+bhYU3W5GGWYOdhv4rpYQta62FQ0+xhw/rtYUvU7mEcY+9hEKrvYaur72HRae9hJebuYRAi7mE7Ne1hWBnsYee26mGkD+lhRCXnYfT45GGgi+JhBd7fYXbw3GFSw9lht1bWYROr0mHXwM5hnJjKYX8zxmGpksFh17e8Ycukt2ELXLJhNeCsYW40p2E1XKFhcVubYYU2lWEd8o5hS5OIYWofgmElOHdhSx5qYc78XGGl309hWtJCYT7gNWENFClhtnccYX8UEGGW8gNhUDLwYIQc2WCErcJg1OysYJTfl2DHiINgXtJfYE3/OWAdkhVgIQHlX+N6oV9f0kBfqDfBXg==",
          "dtype": "f4"
         }
        },
        {
         "line": {
          "cmax": 609594438449430000000,
          "cmin": -47443623273325130000,
          "color": {
           "bdata": "EfO31kqcwNzvT6TclabWXMh2DV4+dKteAnkhX5WHhF8P5sZf8f0LYLq8O2BPVnJgeaSXYDL4uGB+x9xgq1QBYUkXFWEScilhKSs+YeQJU2GV12dhxWB8YXo7iGHO95FhSVObYZo+pGHLraxhoZe0YR/2u2G9xcJh8wXJYaa3zmFU3tNhFH7YYaOc3GEjQOBhLW/jYXYw5mGYiuhhxYPqYeEh7GFTau1h5WHuYecM72ERb+9hkYvvYUZl72Fi/u5hwFjuYQJ27WHpb+xhtD/rYQjM6WHpFuhhHCLmYfnu42F3fuFhWdHeYdvn22FJwthhiGDVYcPC0WEi6c1h/tPJYQuExWEV+sBhdze8YY09t2F3DrJhXKysYQgap2GLWqFheHGbYd1ilWEaM49hCeeIYc2DgmHDHXhhHhxrYScOXmHN/1Bhu/xDYWcQN2HKRSphGacdYeg9EWG5EgVhHFryYKom22B+lcRg2K6uYHR4mWAI9oRg3FFiYCAhPGDCVBdgAsfnXzKCo1+7aENfYyXEXg==",
           "dtype": "f4"
          },
          "colorscale": [
           [
            0,
            "#440154"
           ],
           [
            0.1111111111111111,
            "#482878"
           ],
           [
            0.2222222222222222,
            "#3e4989"
           ],
           [
            0.3333333333333333,
            "#31688e"
           ],
           [
            0.4444444444444444,
            "#26828e"
           ],
           [
            0.5555555555555556,
            "#1f9e89"
           ],
           [
            0.6666666666666666,
            "#35b779"
           ],
           [
            0.7777777777777778,
            "#6ece58"
           ],
           [
            0.8888888888888888,
            "#b5de2b"
           ],
           [
            1,
            "#fde725"
           ]
          ],
          "showscale": false,
          "width": 4
         },
         "mode": "lines",
         "showlegend": false,
         "type": "scatter3d",
         "x": {
          "bdata": "AAAAALooDiy6KI4sFz3VLLooDi3osjEtFz1VLUbHeC26KI4t0e2fLeiysS0AeMMtFz3VLS4C5y1Gx/gtLkYFLrooDi5GCxcu0e0fLl3QKC7osjEudJU6LgB4Qy6LWkwuFz1VLqMfXi4uAmcuuuRvLkbHeC7p1IAuLkaFLnS3iS66KI4uAJqSLkYLly6LfJsu0e2fLhdfpC5d0Kguo0GtLuiysS4uJLYudJW6LroGvy4AeMMuRunHLotazC7Ry9AuFz3VLl2u2S6hH94u55DiLi0C5y5zc+suuOTvLv5V9C5Ex/guijj9LujUAC+LDQMvLkYFL9B+By90twkvFvALL7ooDi9cYRAv/5kSL6LSFC9FCxcv6EMZL4p8Gy8utR0v0O0fL3QmIi8WXyQvuZcmL1zQKC//CCsvokEtL0V6Ly/osjEvi+szLy4kNi/QXDgvdJU6LxbOPC+5Bj8vXD9BL/93Qy+isEUvRelHL+ghSi+LWkwvLpNOL9DLUC9zBFMvFj1VL7l1Vy9crlkv/+ZbLw==",
          "dtype": "f4"
         },
         "y": {
          "bdata": "168UQdevFEHXrxRB168UQdevFEHXrxRB168UQdevFEHXrxRB168UQdevFEHXrxRB168UQdevFEHXrxRB168UQdevFEHXrxRB168UQdevFEHXrxRB168UQdevFEHXrxRB168UQdevFEHXrxRB168UQdevFEHXrxRB168UQdevFEHXrxRB168UQdevFEHXrxRB168UQdevFEHXrxRB168UQdevFEHXrxRB168UQdevFEHXrxRB168UQdevFEHXrxRB168UQdevFEHXrxRB168UQdevFEHXrxRB168UQdevFEHXrxRB168UQdevFEHXrxRB168UQdevFEHXrxRB168UQdevFEHXrxRB168UQdevFEHXrxRB168UQdevFEHXrxRB168UQdevFEHXrxRB168UQdevFEHXrxRB168UQdevFEHXrxRB168UQdevFEHXrxRB168UQdevFEHXrxRB168UQdevFEHXrxRB168UQdevFEHXrxRB168UQdevFEHXrxRB168UQdevFEHXrxRB168UQQ==",
          "dtype": "f4"
         },
         "z": {
          "bdata": "EfO31kqcwNzvT6TclabWXMh2DV4+dKteAnkhX5WHhF8P5sZf8f0LYLq8O2BPVnJgeaSXYDL4uGB+x9xgq1QBYUkXFWEScilhKSs+YeQJU2GV12dhxWB8YXo7iGHO95FhSVObYZo+pGHLraxhoZe0YR/2u2G9xcJh8wXJYaa3zmFU3tNhFH7YYaOc3GEjQOBhLW/jYXYw5mGYiuhhxYPqYeEh7GFTau1h5WHuYecM72ERb+9hkYvvYUZl72Fi/u5hwFjuYQJ27WHpb+xhtD/rYQjM6WHpFuhhHCLmYfnu42F3fuFhWdHeYdvn22FJwthhiGDVYcPC0WEi6c1h/tPJYQuExWEV+sBhdze8YY09t2F3DrJhXKysYQgap2GLWqFheHGbYd1ilWEaM49hCeeIYc2DgmHDHXhhHhxrYScOXmHN/1Bhu/xDYWcQN2HKRSphGacdYeg9EWG5EgVhHFryYKom22B+lcRg2K6uYHR4mWAI9oRg3FFiYCAhPGDCVBdgAsfnXzKCo1+7aENfYyXEXg==",
          "dtype": "f4"
         }
        },
        {
         "line": {
          "cmax": 609594438449430000000,
          "cmin": -47443623273325130000,
          "color": {
           "bdata": "JjWz1p9fsNy0yG3c7u4TXRYMHV4cf7ZeK+koX8FciV/HAc1fS8QPYMxQQGDUzHdgv9qaYFCyvGAGDeFgCMADYR3NF2H6cixhYHZBYSudVmERr2thhzuAYZBiimGpNpRhFqWdYQyepmEjFa9h6AC3YUFbvmGfIMVhwVDLYcfs0GGk+NVh6XjaYelz3mFs8OFhrfXkYReL52HSt+lhvoLrYVfy7GGFDO5hjdbuYUBV72GqjO9hXIDvYXoz72F5qO5hfuHtYUng7GGlwOthcHvqYY/16GEuMedhUTDlYXH04mGlfuBhrM/dYc3n2mExx9dhqm3UYSfb0GGVD81hAQvJYdnNxGGNWMBhGKy7YXrJtmFnsrFhpmisYZfupmHtRqFh3XSbYR18lWHIYI9hbyeJYQrVgmHe3XhhjvVrYXz8XmGh/lFhqwdFYTMjOGFhXCthp70eYdhQEmHHHgZheF70YPkR3WARY8ZgoFqwYAT/mmCJVIZgQbpkYH0xPmC9Chlgg3vqX1t+pV8b8kVfiQTHXg==",
           "dtype": "f4"
          },
          "colorscale": [
           [
            0,
            "#440154"
           ],
           [
            0.1111111111111111,
            "#482878"
           ],
           [
            0.2222222222222222,
            "#3e4989"
           ],
           [
            0.3333333333333333,
            "#31688e"
           ],
           [
            0.4444444444444444,
            "#26828e"
           ],
           [
            0.5555555555555556,
            "#1f9e89"
           ],
           [
            0.6666666666666666,
            "#35b779"
           ],
           [
            0.7777777777777778,
            "#6ece58"
           ],
           [
            0.8888888888888888,
            "#b5de2b"
           ],
           [
            1,
            "#fde725"
           ]
          ],
          "showscale": false,
          "width": 4
         },
         "mode": "lines",
         "showlegend": false,
         "type": "scatter3d",
         "x": {
          "bdata": "AAAAALooDiy6KI4sFz3VLLooDi3osjEtFz1VLUbHeC26KI4t0e2fLeiysS0AeMMtFz3VLS4C5y1Gx/gtLkYFLrooDi5GCxcu0e0fLl3QKC7osjEudJU6LgB4Qy6LWkwuFz1VLqMfXi4uAmcuuuRvLkbHeC7p1IAuLkaFLnS3iS66KI4uAJqSLkYLly6LfJsu0e2fLhdfpC5d0Kguo0GtLuiysS4uJLYudJW6LroGvy4AeMMuRunHLotazC7Ry9AuFz3VLl2u2S6hH94u55DiLi0C5y5zc+suuOTvLv5V9C5Ex/guijj9LujUAC+LDQMvLkYFL9B+By90twkvFvALL7ooDi9cYRAv/5kSL6LSFC9FCxcv6EMZL4p8Gy8utR0v0O0fL3QmIi8WXyQvuZcmL1zQKC//CCsvokEtL0V6Ly/osjEvi+szLy4kNi/QXDgvdJU6LxbOPC+5Bj8vXD9BL/93Qy+isEUvRelHL+ghSi+LWkwvLpNOL9DLUC9zBFMvFj1VL7l1Vy9crlkv/+ZbLw==",
          "dtype": "f4"
         },
         "y": {
          "bdata": "UOsXQVDrF0FQ6xdBUOsXQVDrF0FQ6xdBUOsXQVDrF0FQ6xdBUOsXQVDrF0FQ6xdBUOsXQVDrF0FQ6xdBUOsXQVDrF0FQ6xdBUOsXQVDrF0FQ6xdBUOsXQVDrF0FQ6xdBUOsXQVDrF0FQ6xdBUOsXQVDrF0FQ6xdBUOsXQVDrF0FQ6xdBUOsXQVDrF0FQ6xdBUOsXQVDrF0FQ6xdBUOsXQVDrF0FQ6xdBUOsXQVDrF0FQ6xdBUOsXQVDrF0FQ6xdBUOsXQVDrF0FQ6xdBUOsXQVDrF0FQ6xdBUOsXQVDrF0FQ6xdBUOsXQVDrF0FQ6xdBUOsXQVDrF0FQ6xdBUOsXQVDrF0FQ6xdBUOsXQVDrF0FQ6xdBUOsXQVDrF0FQ6xdBUOsXQVDrF0FQ6xdBUOsXQVDrF0FQ6xdBUOsXQVDrF0FQ6xdBUOsXQVDrF0FQ6xdBUOsXQVDrF0FQ6xdBUOsXQVDrF0FQ6xdBUOsXQVDrF0FQ6xdBUOsXQVDrF0FQ6xdBUOsXQVDrF0FQ6xdBUOsXQQ==",
          "dtype": "f4"
         },
         "z": {
          "bdata": "JjWz1p9fsNy0yG3c7u4TXRYMHV4cf7ZeK+koX8FciV/HAc1fS8QPYMxQQGDUzHdgv9qaYFCyvGAGDeFgCMADYR3NF2H6cixhYHZBYSudVmERr2thhzuAYZBiimGpNpRhFqWdYQyepmEjFa9h6AC3YUFbvmGfIMVhwVDLYcfs0GGk+NVh6XjaYelz3mFs8OFhrfXkYReL52HSt+lhvoLrYVfy7GGFDO5hjdbuYUBV72GqjO9hXIDvYXoz72F5qO5hfuHtYUng7GGlwOthcHvqYY/16GEuMedhUTDlYXH04mGlfuBhrM/dYc3n2mExx9dhqm3UYSfb0GGVD81hAQvJYdnNxGGNWMBhGKy7YXrJtmFnsrFhpmisYZfupmHtRqFh3XSbYR18lWHIYI9hbyeJYQrVgmHe3XhhjvVrYXz8XmGh/lFhqwdFYTMjOGFhXCthp70eYdhQEmHHHgZheF70YPkR3WARY8ZgoFqwYAT/mmCJVIZgQbpkYH0xPmC9Chlgg3vqX1t+pV8b8kVfiQTHXg==",
          "dtype": "f4"
         }
        },
        {
         "line": {
          "cmax": 609594438449430000000,
          "cmin": -47443623273325130000,
          "color": {
           "bdata": "3Nqu1plFoNxGERTc2/k7XaNkLF4XW8Fe+zYwX7QZjl9y/NJfunQTYIrIRGCWH31g4/qdYKlRwGCyMuVgzRgGYZNtGmG2Wy9hrKZEYeISWmGSZm9hnDWCYbF3jGHfYpZh0+OfYUHqqGFkabFhhFe5YW6uwGGlasdhAYzNYQIU02HkBthhzGncYZVD4GGXm+NhrXnmYdrl6GHz5+phU4fsYQrL7WF2ue5hZVjvYfSs72GPu+9hHojvYf4V72HrZ+5hP4DtYeBg7GGPJ+thxczpYb8z6GHmXuZhd1DkYRMK4mH2jN9h69ncYUrx2WE109ZhW3/TYY/1z2F+NcxhDT/IYU8SxGFzr79hGhe7YeZJtmEoSbFhSxasYUWzpmFtIqFhmWabYSuDlWHre49hNlWJYcETg2F3eXlhYqtsYXDIX2GW3FJhc/NFYcoYOWHWVyxhPrsfYRhNE2FoFgdhmz72YIzd3mBCFchgL++xYEFynGBSo4dgtwlnYLouQGCishpgQBztX5xtp19YbEhf7tLJXg==",
           "dtype": "f4"
          },
          "colorscale": [
           [
            0,
            "#440154"
           ],
           [
            0.1111111111111111,
            "#482878"
           ],
           [
            0.2222222222222222,
            "#3e4989"
           ],
           [
            0.3333333333333333,
            "#31688e"
           ],
           [
            0.4444444444444444,
            "#26828e"
           ],
           [
            0.5555555555555556,
            "#1f9e89"
           ],
           [
            0.6666666666666666,
            "#35b779"
           ],
           [
            0.7777777777777778,
            "#6ece58"
           ],
           [
            0.8888888888888888,
            "#b5de2b"
           ],
           [
            1,
            "#fde725"
           ]
          ],
          "showscale": false,
          "width": 4
         },
         "mode": "lines",
         "showlegend": false,
         "type": "scatter3d",
         "x": {
          "bdata": "AAAAALooDiy6KI4sFz3VLLooDi3osjEtFz1VLUbHeC26KI4t0e2fLeiysS0AeMMtFz3VLS4C5y1Gx/gtLkYFLrooDi5GCxcu0e0fLl3QKC7osjEudJU6LgB4Qy6LWkwuFz1VLqMfXi4uAmcuuuRvLkbHeC7p1IAuLkaFLnS3iS66KI4uAJqSLkYLly6LfJsu0e2fLhdfpC5d0Kguo0GtLuiysS4uJLYudJW6LroGvy4AeMMuRunHLotazC7Ry9AuFz3VLl2u2S6hH94u55DiLi0C5y5zc+suuOTvLv5V9C5Ex/guijj9LujUAC+LDQMvLkYFL9B+By90twkvFvALL7ooDi9cYRAv/5kSL6LSFC9FCxcv6EMZL4p8Gy8utR0v0O0fL3QmIi8WXyQvuZcmL1zQKC//CCsvokEtL0V6Ly/osjEvi+szLy4kNi/QXDgvdJU6LxbOPC+5Bj8vXD9BL/93Qy+isEUvRelHL+ghSi+LWkwvLpNOL9DLUC9zBFMvFj1VL7l1Vy9crlkv/+ZbLw==",
          "dtype": "f4"
         },
         "y": {
          "bdata": "yiYbQcomG0HKJhtByiYbQcomG0HKJhtByiYbQcomG0HKJhtByiYbQcomG0HKJhtByiYbQcomG0HKJhtByiYbQcomG0HKJhtByiYbQcomG0HKJhtByiYbQcomG0HKJhtByiYbQcomG0HKJhtByiYbQcomG0HKJhtByiYbQcomG0HKJhtByiYbQcomG0HKJhtByiYbQcomG0HKJhtByiYbQcomG0HKJhtByiYbQcomG0HKJhtByiYbQcomG0HKJhtByiYbQcomG0HKJhtByiYbQcomG0HKJhtByiYbQcomG0HKJhtByiYbQcomG0HKJhtByiYbQcomG0HKJhtByiYbQcomG0HKJhtByiYbQcomG0HKJhtByiYbQcomG0HKJhtByiYbQcomG0HKJhtByiYbQcomG0HKJhtByiYbQcomG0HKJhtByiYbQcomG0HKJhtByiYbQcomG0HKJhtByiYbQcomG0HKJhtByiYbQcomG0HKJhtByiYbQcomG0HKJhtByiYbQcomG0HKJhtByiYbQQ==",
          "dtype": "f4"
         },
         "z": {
          "bdata": "3Nqu1plFoNxGERTc2/k7XaNkLF4XW8Fe+zYwX7QZjl9y/NJfunQTYIrIRGCWH31g4/qdYKlRwGCyMuVgzRgGYZNtGmG2Wy9hrKZEYeISWmGSZm9hnDWCYbF3jGHfYpZh0+OfYUHqqGFkabFhhFe5YW6uwGGlasdhAYzNYQIU02HkBthhzGncYZVD4GGXm+NhrXnmYdrl6GHz5+phU4fsYQrL7WF2ue5hZVjvYfSs72GPu+9hHojvYf4V72HrZ+5hP4DtYeBg7GGPJ+thxczpYb8z6GHmXuZhd1DkYRMK4mH2jN9h69ncYUrx2WE109ZhW3/TYY/1z2F+NcxhDT/IYU8SxGFzr79hGhe7YeZJtmEoSbFhSxasYUWzpmFtIqFhmWabYSuDlWHre49hNlWJYcETg2F3eXlhYqtsYXDIX2GW3FJhc/NFYcoYOWHWVyxhPrsfYRhNE2FoFgdhmz72YIzd3mBCFchgL++xYEFynGBSo4dgtwlnYLouQGCishpgQBztX5xtp19YbEhf7tLJXg==",
          "dtype": "f4"
         }
        },
        {
         "line": {
          "cmax": 609594438449430000000,
          "cmin": -47443623273325130000,
          "color": {
           "bdata": "M9+q1qVRkNwPIW7bnW5jXd1+O15eB8xeHmI3X2e+kl811thfbQ8XYEkkSWCHJ4FgTwWhYLjWw2AqOelgV18IYRn5HGHMLDJhn7xHYahrXWG8/nJh9x6EYTR7jmHKfJhh0Q+iYYYjq2HMqrNhrZu7Yd3vwmHjo8lhy7fPYUct1WESCdphrVDeYXQL4mFhQeVh1PrnYWxA6mGAGuxhAJHtYXCr7mGtcO9h2ObvYW0T8GE5++9hUqLvYWMM72FSPO5hrTTtYZP362GApOphrjPpYbyG52FVoOVh8oLjYWMw4WEDqt5h3fDbYToF2WFO59Vhs5bSYRoTz2EgXMthYXHHYb9Sw2EdAL9hz3m6YSDAtWEI1LBhjLarYUVppmEs7qBht0ebYfZ4lWFohY9hIHGJYZxAg2G38XlhlD5tYdJyYGE6mlNhhsBGYWjxOWFBOC1h4Z8gYYUyFGFv+Qdh5vn3YKiI4GBDq8lgpGuzYETRnWB/4Yhglz5pYFEXQmASSxxgBafvX1BOqV9a1UpfgY7MXg==",
           "dtype": "f4"
          },
          "colorscale": [
           [
            0,
            "#440154"
           ],
           [
            0.1111111111111111,
            "#482878"
           ],
           [
            0.2222222222222222,
            "#3e4989"
           ],
           [
            0.3333333333333333,
            "#31688e"
           ],
           [
            0.4444444444444444,
            "#26828e"
           ],
           [
            0.5555555555555556,
            "#1f9e89"
           ],
           [
            0.6666666666666666,
            "#35b779"
           ],
           [
            0.7777777777777778,
            "#6ece58"
           ],
           [
            0.8888888888888888,
            "#b5de2b"
           ],
           [
            1,
            "#fde725"
           ]
          ],
          "showscale": false,
          "width": 4
         },
         "mode": "lines",
         "showlegend": false,
         "type": "scatter3d",
         "x": {
          "bdata": "AAAAALooDiy6KI4sFz3VLLooDi3osjEtFz1VLUbHeC26KI4t0e2fLeiysS0AeMMtFz3VLS4C5y1Gx/gtLkYFLrooDi5GCxcu0e0fLl3QKC7osjEudJU6LgB4Qy6LWkwuFz1VLqMfXi4uAmcuuuRvLkbHeC7p1IAuLkaFLnS3iS66KI4uAJqSLkYLly6LfJsu0e2fLhdfpC5d0Kguo0GtLuiysS4uJLYudJW6LroGvy4AeMMuRunHLotazC7Ry9AuFz3VLl2u2S6hH94u55DiLi0C5y5zc+suuOTvLv5V9C5Ex/guijj9LujUAC+LDQMvLkYFL9B+By90twkvFvALL7ooDi9cYRAv/5kSL6LSFC9FCxcv6EMZL4p8Gy8utR0v0O0fL3QmIi8WXyQvuZcmL1zQKC//CCsvokEtL0V6Ly/osjEvi+szLy4kNi/QXDgvdJU6LxbOPC+5Bj8vXD9BL/93Qy+isEUvRelHL+ghSi+LWkwvLpNOL9DLUC9zBFMvFj1VL7l1Vy9crlkv/+ZbLw==",
          "dtype": "f4"
         },
         "y": {
          "bdata": "Q2IeQUNiHkFDYh5BQ2IeQUNiHkFDYh5BQ2IeQUNiHkFDYh5BQ2IeQUNiHkFDYh5BQ2IeQUNiHkFDYh5BQ2IeQUNiHkFDYh5BQ2IeQUNiHkFDYh5BQ2IeQUNiHkFDYh5BQ2IeQUNiHkFDYh5BQ2IeQUNiHkFDYh5BQ2IeQUNiHkFDYh5BQ2IeQUNiHkFDYh5BQ2IeQUNiHkFDYh5BQ2IeQUNiHkFDYh5BQ2IeQUNiHkFDYh5BQ2IeQUNiHkFDYh5BQ2IeQUNiHkFDYh5BQ2IeQUNiHkFDYh5BQ2IeQUNiHkFDYh5BQ2IeQUNiHkFDYh5BQ2IeQUNiHkFDYh5BQ2IeQUNiHkFDYh5BQ2IeQUNiHkFDYh5BQ2IeQUNiHkFDYh5BQ2IeQUNiHkFDYh5BQ2IeQUNiHkFDYh5BQ2IeQUNiHkFDYh5BQ2IeQUNiHkFDYh5BQ2IeQUNiHkFDYh5BQ2IeQUNiHkFDYh5BQ2IeQUNiHkFDYh5BQ2IeQUNiHkFDYh5BQ2IeQUNiHkFDYh5BQ2IeQQ==",
          "dtype": "f4"
         },
         "z": {
          "bdata": "M9+q1qVRkNwPIW7bnW5jXd1+O15eB8xeHmI3X2e+kl811thfbQ8XYEkkSWCHJ4FgTwWhYLjWw2AqOelgV18IYRn5HGHMLDJhn7xHYahrXWG8/nJh9x6EYTR7jmHKfJhh0Q+iYYYjq2HMqrNhrZu7Yd3vwmHjo8lhy7fPYUct1WESCdphrVDeYXQL4mFhQeVh1PrnYWxA6mGAGuxhAJHtYXCr7mGtcO9h2ObvYW0T8GE5++9hUqLvYWMM72FSPO5hrTTtYZP362GApOphrjPpYbyG52FVoOVh8oLjYWMw4WEDqt5h3fDbYToF2WFO59Vhs5bSYRoTz2EgXMthYXHHYb9Sw2EdAL9hz3m6YSDAtWEI1LBhjLarYUVppmEs7qBht0ebYfZ4lWFohY9hIHGJYZxAg2G38XlhlD5tYdJyYGE6mlNhhsBGYWjxOWFBOC1h4Z8gYYUyFGFv+Qdh5vn3YKiI4GBDq8lgpGuzYETRnWB/4Yhglz5pYFEXQmASSxxgBafvX1BOqV9a1UpfgY7MXg==",
          "dtype": "f4"
         }
        }
       ],
       "layout": {
        "height": 700,
        "scene": {
         "xaxis": {
          "autorange": "reversed",
          "title": {
           "text": "Mass (m)"
          }
         },
         "yaxis": {
          "title": {
           "text": "Time (t)"
          }
         },
         "zaxis": {
          "title": {
           "text": "n(m, t)"
          }
         }
        },
        "template": {
         "data": {
          "bar": [
           {
            "error_x": {
             "color": "#2a3f5f"
            },
            "error_y": {
             "color": "#2a3f5f"
            },
            "marker": {
             "line": {
              "color": "#E5ECF6",
              "width": 0.5
             },
             "pattern": {
              "fillmode": "overlay",
              "size": 10,
              "solidity": 0.2
             }
            },
            "type": "bar"
           }
          ],
          "barpolar": [
           {
            "marker": {
             "line": {
              "color": "#E5ECF6",
              "width": 0.5
             },
             "pattern": {
              "fillmode": "overlay",
              "size": 10,
              "solidity": 0.2
             }
            },
            "type": "barpolar"
           }
          ],
          "carpet": [
           {
            "aaxis": {
             "endlinecolor": "#2a3f5f",
             "gridcolor": "white",
             "linecolor": "white",
             "minorgridcolor": "white",
             "startlinecolor": "#2a3f5f"
            },
            "baxis": {
             "endlinecolor": "#2a3f5f",
             "gridcolor": "white",
             "linecolor": "white",
             "minorgridcolor": "white",
             "startlinecolor": "#2a3f5f"
            },
            "type": "carpet"
           }
          ],
          "choropleth": [
           {
            "colorbar": {
             "outlinewidth": 0,
             "ticks": ""
            },
            "type": "choropleth"
           }
          ],
          "contour": [
           {
            "colorbar": {
             "outlinewidth": 0,
             "ticks": ""
            },
            "colorscale": [
             [
              0,
              "#0d0887"
             ],
             [
              0.1111111111111111,
              "#46039f"
             ],
             [
              0.2222222222222222,
              "#7201a8"
             ],
             [
              0.3333333333333333,
              "#9c179e"
             ],
             [
              0.4444444444444444,
              "#bd3786"
             ],
             [
              0.5555555555555556,
              "#d8576b"
             ],
             [
              0.6666666666666666,
              "#ed7953"
             ],
             [
              0.7777777777777778,
              "#fb9f3a"
             ],
             [
              0.8888888888888888,
              "#fdca26"
             ],
             [
              1,
              "#f0f921"
             ]
            ],
            "type": "contour"
           }
          ],
          "contourcarpet": [
           {
            "colorbar": {
             "outlinewidth": 0,
             "ticks": ""
            },
            "type": "contourcarpet"
           }
          ],
          "heatmap": [
           {
            "colorbar": {
             "outlinewidth": 0,
             "ticks": ""
            },
            "colorscale": [
             [
              0,
              "#0d0887"
             ],
             [
              0.1111111111111111,
              "#46039f"
             ],
             [
              0.2222222222222222,
              "#7201a8"
             ],
             [
              0.3333333333333333,
              "#9c179e"
             ],
             [
              0.4444444444444444,
              "#bd3786"
             ],
             [
              0.5555555555555556,
              "#d8576b"
             ],
             [
              0.6666666666666666,
              "#ed7953"
             ],
             [
              0.7777777777777778,
              "#fb9f3a"
             ],
             [
              0.8888888888888888,
              "#fdca26"
             ],
             [
              1,
              "#f0f921"
             ]
            ],
            "type": "heatmap"
           }
          ],
          "histogram": [
           {
            "marker": {
             "pattern": {
              "fillmode": "overlay",
              "size": 10,
              "solidity": 0.2
             }
            },
            "type": "histogram"
           }
          ],
          "histogram2d": [
           {
            "colorbar": {
             "outlinewidth": 0,
             "ticks": ""
            },
            "colorscale": [
             [
              0,
              "#0d0887"
             ],
             [
              0.1111111111111111,
              "#46039f"
             ],
             [
              0.2222222222222222,
              "#7201a8"
             ],
             [
              0.3333333333333333,
              "#9c179e"
             ],
             [
              0.4444444444444444,
              "#bd3786"
             ],
             [
              0.5555555555555556,
              "#d8576b"
             ],
             [
              0.6666666666666666,
              "#ed7953"
             ],
             [
              0.7777777777777778,
              "#fb9f3a"
             ],
             [
              0.8888888888888888,
              "#fdca26"
             ],
             [
              1,
              "#f0f921"
             ]
            ],
            "type": "histogram2d"
           }
          ],
          "histogram2dcontour": [
           {
            "colorbar": {
             "outlinewidth": 0,
             "ticks": ""
            },
            "colorscale": [
             [
              0,
              "#0d0887"
             ],
             [
              0.1111111111111111,
              "#46039f"
             ],
             [
              0.2222222222222222,
              "#7201a8"
             ],
             [
              0.3333333333333333,
              "#9c179e"
             ],
             [
              0.4444444444444444,
              "#bd3786"
             ],
             [
              0.5555555555555556,
              "#d8576b"
             ],
             [
              0.6666666666666666,
              "#ed7953"
             ],
             [
              0.7777777777777778,
              "#fb9f3a"
             ],
             [
              0.8888888888888888,
              "#fdca26"
             ],
             [
              1,
              "#f0f921"
             ]
            ],
            "type": "histogram2dcontour"
           }
          ],
          "mesh3d": [
           {
            "colorbar": {
             "outlinewidth": 0,
             "ticks": ""
            },
            "type": "mesh3d"
           }
          ],
          "parcoords": [
           {
            "line": {
             "colorbar": {
              "outlinewidth": 0,
              "ticks": ""
             }
            },
            "type": "parcoords"
           }
          ],
          "pie": [
           {
            "automargin": true,
            "type": "pie"
           }
          ],
          "scatter": [
           {
            "fillpattern": {
             "fillmode": "overlay",
             "size": 10,
             "solidity": 0.2
            },
            "type": "scatter"
           }
          ],
          "scatter3d": [
           {
            "line": {
             "colorbar": {
              "outlinewidth": 0,
              "ticks": ""
             }
            },
            "marker": {
             "colorbar": {
              "outlinewidth": 0,
              "ticks": ""
             }
            },
            "type": "scatter3d"
           }
          ],
          "scattercarpet": [
           {
            "marker": {
             "colorbar": {
              "outlinewidth": 0,
              "ticks": ""
             }
            },
            "type": "scattercarpet"
           }
          ],
          "scattergeo": [
           {
            "marker": {
             "colorbar": {
              "outlinewidth": 0,
              "ticks": ""
             }
            },
            "type": "scattergeo"
           }
          ],
          "scattergl": [
           {
            "marker": {
             "colorbar": {
              "outlinewidth": 0,
              "ticks": ""
             }
            },
            "type": "scattergl"
           }
          ],
          "scattermap": [
           {
            "marker": {
             "colorbar": {
              "outlinewidth": 0,
              "ticks": ""
             }
            },
            "type": "scattermap"
           }
          ],
          "scattermapbox": [
           {
            "marker": {
             "colorbar": {
              "outlinewidth": 0,
              "ticks": ""
             }
            },
            "type": "scattermapbox"
           }
          ],
          "scatterpolar": [
           {
            "marker": {
             "colorbar": {
              "outlinewidth": 0,
              "ticks": ""
             }
            },
            "type": "scatterpolar"
           }
          ],
          "scatterpolargl": [
           {
            "marker": {
             "colorbar": {
              "outlinewidth": 0,
              "ticks": ""
             }
            },
            "type": "scatterpolargl"
           }
          ],
          "scatterternary": [
           {
            "marker": {
             "colorbar": {
              "outlinewidth": 0,
              "ticks": ""
             }
            },
            "type": "scatterternary"
           }
          ],
          "surface": [
           {
            "colorbar": {
             "outlinewidth": 0,
             "ticks": ""
            },
            "colorscale": [
             [
              0,
              "#0d0887"
             ],
             [
              0.1111111111111111,
              "#46039f"
             ],
             [
              0.2222222222222222,
              "#7201a8"
             ],
             [
              0.3333333333333333,
              "#9c179e"
             ],
             [
              0.4444444444444444,
              "#bd3786"
             ],
             [
              0.5555555555555556,
              "#d8576b"
             ],
             [
              0.6666666666666666,
              "#ed7953"
             ],
             [
              0.7777777777777778,
              "#fb9f3a"
             ],
             [
              0.8888888888888888,
              "#fdca26"
             ],
             [
              1,
              "#f0f921"
             ]
            ],
            "type": "surface"
           }
          ],
          "table": [
           {
            "cells": {
             "fill": {
              "color": "#EBF0F8"
             },
             "line": {
              "color": "white"
             }
            },
            "header": {
             "fill": {
              "color": "#C8D4E3"
             },
             "line": {
              "color": "white"
             }
            },
            "type": "table"
           }
          ]
         },
         "layout": {
          "annotationdefaults": {
           "arrowcolor": "#2a3f5f",
           "arrowhead": 0,
           "arrowwidth": 1
          },
          "autotypenumbers": "strict",
          "coloraxis": {
           "colorbar": {
            "outlinewidth": 0,
            "ticks": ""
           }
          },
          "colorscale": {
           "diverging": [
            [
             0,
             "#8e0152"
            ],
            [
             0.1,
             "#c51b7d"
            ],
            [
             0.2,
             "#de77ae"
            ],
            [
             0.3,
             "#f1b6da"
            ],
            [
             0.4,
             "#fde0ef"
            ],
            [
             0.5,
             "#f7f7f7"
            ],
            [
             0.6,
             "#e6f5d0"
            ],
            [
             0.7,
             "#b8e186"
            ],
            [
             0.8,
             "#7fbc41"
            ],
            [
             0.9,
             "#4d9221"
            ],
            [
             1,
             "#276419"
            ]
           ],
           "sequential": [
            [
             0,
             "#0d0887"
            ],
            [
             0.1111111111111111,
             "#46039f"
            ],
            [
             0.2222222222222222,
             "#7201a8"
            ],
            [
             0.3333333333333333,
             "#9c179e"
            ],
            [
             0.4444444444444444,
             "#bd3786"
            ],
            [
             0.5555555555555556,
             "#d8576b"
            ],
            [
             0.6666666666666666,
             "#ed7953"
            ],
            [
             0.7777777777777778,
             "#fb9f3a"
            ],
            [
             0.8888888888888888,
             "#fdca26"
            ],
            [
             1,
             "#f0f921"
            ]
           ],
           "sequentialminus": [
            [
             0,
             "#0d0887"
            ],
            [
             0.1111111111111111,
             "#46039f"
            ],
            [
             0.2222222222222222,
             "#7201a8"
            ],
            [
             0.3333333333333333,
             "#9c179e"
            ],
            [
             0.4444444444444444,
             "#bd3786"
            ],
            [
             0.5555555555555556,
             "#d8576b"
            ],
            [
             0.6666666666666666,
             "#ed7953"
            ],
            [
             0.7777777777777778,
             "#fb9f3a"
            ],
            [
             0.8888888888888888,
             "#fdca26"
            ],
            [
             1,
             "#f0f921"
            ]
           ]
          },
          "colorway": [
           "#636efa",
           "#EF553B",
           "#00cc96",
           "#ab63fa",
           "#FFA15A",
           "#19d3f3",
           "#FF6692",
           "#B6E880",
           "#FF97FF",
           "#FECB52"
          ],
          "font": {
           "color": "#2a3f5f"
          },
          "geo": {
           "bgcolor": "white",
           "lakecolor": "white",
           "landcolor": "#E5ECF6",
           "showlakes": true,
           "showland": true,
           "subunitcolor": "white"
          },
          "hoverlabel": {
           "align": "left"
          },
          "hovermode": "closest",
          "mapbox": {
           "style": "light"
          },
          "paper_bgcolor": "white",
          "plot_bgcolor": "#E5ECF6",
          "polar": {
           "angularaxis": {
            "gridcolor": "white",
            "linecolor": "white",
            "ticks": ""
           },
           "bgcolor": "#E5ECF6",
           "radialaxis": {
            "gridcolor": "white",
            "linecolor": "white",
            "ticks": ""
           }
          },
          "scene": {
           "xaxis": {
            "backgroundcolor": "#E5ECF6",
            "gridcolor": "white",
            "gridwidth": 2,
            "linecolor": "white",
            "showbackground": true,
            "ticks": "",
            "zerolinecolor": "white"
           },
           "yaxis": {
            "backgroundcolor": "#E5ECF6",
            "gridcolor": "white",
            "gridwidth": 2,
            "linecolor": "white",
            "showbackground": true,
            "ticks": "",
            "zerolinecolor": "white"
           },
           "zaxis": {
            "backgroundcolor": "#E5ECF6",
            "gridcolor": "white",
            "gridwidth": 2,
            "linecolor": "white",
            "showbackground": true,
            "ticks": "",
            "zerolinecolor": "white"
           }
          },
          "shapedefaults": {
           "line": {
            "color": "#2a3f5f"
           }
          },
          "ternary": {
           "aaxis": {
            "gridcolor": "white",
            "linecolor": "white",
            "ticks": ""
           },
           "baxis": {
            "gridcolor": "white",
            "linecolor": "white",
            "ticks": ""
           },
           "bgcolor": "#E5ECF6",
           "caxis": {
            "gridcolor": "white",
            "linecolor": "white",
            "ticks": ""
           }
          },
          "title": {
           "x": 0.05
          },
          "xaxis": {
           "automargin": true,
           "gridcolor": "white",
           "linecolor": "white",
           "ticks": "",
           "title": {
            "standoff": 15
           },
           "zerolinecolor": "white",
           "zerolinewidth": 2
          },
          "yaxis": {
           "automargin": true,
           "gridcolor": "white",
           "linecolor": "white",
           "ticks": "",
           "title": {
            "standoff": 15
           },
           "zerolinecolor": "white",
           "zerolinewidth": 2
          }
         }
        },
        "title": {
         "text": ""
        },
        "width": 700
       }
      }
     },
     "metadata": {},
     "output_type": "display_data"
    },
    {
     "data": {
      "image/png": "[encoded data removed]",
      "text/plain": [
       "<Figure size 800x1000 with 3 Axes>"
      ]
     },
     "metadata": {},
     "output_type": "display_data"
    },
    {
     "data": {
      "image/png": "[encoded data removed]",
      "text/plain": [
       "<Figure size 1200x400 with 2 Axes>"
      ]
     },
     "metadata": {},
     "output_type": "display_data"
    }
   ],
   "source": [
    "\n",
    "\n",
    "# -----------------------------\n",
    "# 4. Error estimation\n",
    "# -----------------------------\n",
    "n_true = torch.tensor(Dataset_validation[0][\"n\"].T, dtype=torch.float32)   # (T, M)\n",
    "S_true = torch.tensor(Dataset_validation[0][\"S\"], dtype=torch.float32)     # (T,)\n",
    "\n",
    "# -----------------------------\n",
    "# 5. Plot biomass + substrate trajectory\n",
    "# -----------------------------\n",
    "plot_spaghetti(m,t_eval,n_pred.detach().numpy().T)\n",
    "biomass_pred = (n_pred * m) .sum(dim=1) * delta_m   # shape (T,)\n",
    "biomass_true = (n_true * m).sum(dim=1) * delta_m   # shape (T,)\n",
    "# -----------------------------\n",
    "# FIGURE 1: Trajectories + Heatmap\n",
    "# -----------------------------\n",
    "fig, axes = plt.subplots(2, 1, figsize=(8,10))\n",
    "\n",
    "# (1a) Biomass + substrate trajectories\n",
    "ax = axes[0]\n",
    "ax.plot(biomass_pred.numpy(), label=\"Predicted biomass\", linestyle=\"--\")\n",
    "ax.plot(biomass_true.numpy(), label=\"True biomass\", linestyle=\":\")\n",
    "ax.plot(S_pred.numpy(), label=\"Predicted substrate\")\n",
    "ax.plot(S_true.numpy(), label=\"True substrate\", linestyle=\"--\")\n",
    "ax.set_xlabel(\"Time step\")\n",
    "ax.set_ylabel(\"Value\")\n",
    "ax.set_title(\"Biomass and substrate trajectories\")\n",
    "ax.legend()\n",
    "\n",
    "# (1b) Relative error heatmap\n",
    "ax = axes[1]\n",
    "eps = 1e-12\n",
    "rel_err_matrix = ((n_pred - n_true) / (n_true + eps)).detach().cpu().numpy()\n",
    "im = ax.imshow(rel_err_matrix.T, aspect=\"auto\", origin=\"lower\",\n",
    "               extent=[0, T_val, m[0].item(), m[-1].item()],\n",
    "               cmap=\"bwr\", vmin=-0.5, vmax=0.5)\n",
    "fig.colorbar(im, ax=ax, label=\"Relative error\")\n",
    "ax.set_xlabel(\"Time step\")\n",
    "ax.set_ylabel(\"Mass m\")\n",
    "ax.set_title(\"Relative error of biomass distribution\")\n",
    "\n",
    "plt.tight_layout()\n",
    "plt.show()\n",
    "\n",
    "\n",
    "# -----------------------------\n",
    "# FIGURE 2: Singular values + Cumulative energy\n",
    "# -----------------------------\n",
    "fig, axes = plt.subplots(1, 2, figsize=(12, 4))\n",
    "\n",
    "# (2a) Singular values\n",
    "ax = axes[0]\n",
    "ax.semilogy(S.numpy(), 'o-')\n",
    "ax.axvline(r, color=\"red\", linestyle=\"--\", label=f\"r={r}\")\n",
    "ax.set_xlabel(\"Singular value index\")\n",
    "ax.set_ylabel(\"Singular value (log scale)\")\n",
    "ax.set_title(\"Singular values of X\")\n",
    "ax.legend()\n",
    "\n",
    "# (2b) Cumulative singular value energy\n",
    "ax = axes[1]\n",
    "sing_energy = torch.cumsum(S, dim=0) / torch.sum(S)\n",
    "ax.plot(sing_energy.numpy(), 'o-', label=\"Cumulative energy\")\n",
    "ax.axvline(r, color=\"blue\", linestyle=\"--\", label=f\"r={r}\")\n",
    "ax.set_xlabel(\"Number of singular values kept (r)\")\n",
    "ax.set_ylabel(\"Cumulative energy\")\n",
    "ax.set_title(\"Cumulative energy of singular values\")\n",
    "ax.legend()\n",
    "\n",
    "plt.tight_layout()\n",
    "plt.show()\n"
   ]
  },
  {
   "cell_type": "markdown",
   "id": "454203d5",
   "metadata": {},
   "source": [
    "## Error visualization for all validation sets\n",
    "Trying to find model bias by taking the error estimation for all datasets\n"
   ]
  },
  {
   "cell_type": "code",
   "execution_count": 5,
   "id": "3f3652b5",
   "metadata": {},
   "outputs": [
    {
     "name": "stdout",
     "output_type": "stream",
     "text": [
      "      id  initial_biomass  initial_substrate     err_n     err_S\n",
      "0      0            0.425           0.333333  0.716897  0.428030\n",
      "1      1            0.425           0.333333  0.496449  0.512324\n",
      "2      2            0.425           0.333333  0.467389  0.374756\n",
      "3      3            0.425           1.000000  0.614427  0.162095\n",
      "4      4            0.425           1.000000  0.328191  0.284662\n",
      "..   ...              ...                ...       ...       ...\n",
      "103  103            3.675           3.000000  0.272247  0.846001\n",
      "104  104            3.675           3.000000  0.426273  1.295365\n",
      "105  105            3.675           3.666667  0.716178  2.009965\n",
      "106  106            3.675           3.666667  0.249947  0.808090\n",
      "107  107            3.675           3.666667  0.407166  1.167342\n",
      "\n",
      "[108 rows x 5 columns]\n",
      "   id  initial_biomass  initial_substrate     err_n     err_S\n",
      "0   0            0.425           0.333333  0.716897  0.428030\n",
      "1   1            0.425           0.333333  0.496449  0.512324\n",
      "2   2            0.425           0.333333  0.467389  0.374756\n",
      "3   3            0.425           1.000000  0.614427  0.162095\n",
      "4   4            0.425           1.000000  0.328191  0.284662\n",
      "\n",
      "Error statistics:\n",
      "            err_n       err_S\n",
      "count  108.000000  108.000000\n",
      "mean     0.485494    1.606459\n",
      "std      0.215285    2.348083\n",
      "min      0.203300    0.162095\n",
      "25%      0.307497    0.412907\n",
      "50%      0.440226    0.836607\n",
      "75%      0.656073    1.751888\n",
      "max      1.170988   16.479092\n"
     ]
    },
    {
     "data": {
      "image/png": "[encoded data removed]",
      "text/plain": [
       "<Figure size 1800x500 with 6 Axes>"
      ]
     },
     "metadata": {},
     "output_type": "display_data"
    }
   ],
   "source": [
    "def dmd_rollout(entry, A, n_max, S_max,m,delta_m, U_r=None):\n",
    "    \"\"\"\n",
    "    Perform a DMD rollout for one dataset entry.\n",
    "\n",
    "    Parameters\n",
    "    ----------\n",
    "    entry : dict\n",
    "        One dataset entry containing fields:\n",
    "        - \"n\": biomass array (M x T)\n",
    "        - \"S\": substrate array (T,)\n",
    "        - \"initial_substrate\": float\n",
    "    A : torch.Tensor\n",
    "        Learned DMD operator (either full or reduced).\n",
    "    n_max : float\n",
    "        Normalization factor for biomass.\n",
    "    S_max : float\n",
    "        Normalization factor for substrate.\n",
    "    U_r : torch.Tensor, optional\n",
    "        Basis for reduced DMD (if using truncated SVD).\n",
    "        If None, assumes full DMD.\n",
    "\n",
    "    Returns\n",
    "    -------\n",
    "    n_pred : torch.Tensor (T, M)\n",
    "        Predicted biomass distribution.\n",
    "    S_pred : torch.Tensor (T,)\n",
    "        Predicted substrate trajectory.\n",
    "    err_n : float\n",
    "        Relative biomass error.\n",
    "    err_S : float\n",
    "        Relative substrate error.\n",
    "    \"\"\"\n",
    "\n",
    "    n_true = torch.tensor(entry[\"n\"].T, dtype=torch.float32)   # (T, M)\n",
    "    S_true = torch.tensor(entry[\"S\"], dtype=torch.float32)     # (T,)\n",
    "    T, M = n_true.shape\n",
    "\n",
    "    # initial condition\n",
    "    n0 = n_true[0]\n",
    "    S0 = S_true[0]\n",
    "\n",
    "    # normalize\n",
    "    x0_norm = torch.cat([n0 / n_max, (S0 / S_max).unsqueeze(0)], dim=0)  # (M+1,)\n",
    "    \n",
    "\n",
    "    if U_r is not None:\n",
    "        # project into reduced space\n",
    "        z0 = U_r.T @ x0_norm\n",
    "        z_pred = torch.zeros((T, len(z0)))\n",
    "        z_pred[0] = z0\n",
    "        for k in range(T-1):\n",
    "            z_pred[k+1] = A @ z_pred[k]\n",
    "        x_pred_norm = (U_r @ z_pred.T).T\n",
    "    else:\n",
    "        # full DMD\n",
    "        x_pred_norm = torch.zeros((T, M+1))\n",
    "        x_pred_norm[0] = x0_norm\n",
    "        for k in range(T-1):\n",
    "            x_pred_norm[k+1] = A @ x_pred_norm[k]\n",
    "\n",
    "    # rescale back\n",
    "    n_pred = x_pred_norm[:, :M] * n_max\n",
    "    S_pred = x_pred_norm[:, -1] * S_max\n",
    "   \n",
    "\n",
    "    n_pred = n_pred.to(torch.float64)\n",
    "    n_true = n_true.to(torch.float64)\n",
    "    # errors\n",
    "    eps = 1e-12\n",
    "    err_n = torch.norm((n_pred - n_true)*m*delta_m) / (torch.norm(n_true*m*delta_m)+eps)\n",
    "    err_S = torch.norm(S_pred - S_true) / (torch.norm(S_true) + eps)\n",
    "\n",
    "    return n_pred, S_pred, err_n.item(), err_S.item()\n",
    "\n",
    "\n",
    "\n",
    "\n",
    "# --- Run rollout over all validation datasets ---\n",
    "results = []\n",
    "\n",
    "for idx, entry in Dataset_error_est.items():\n",
    "    n_pred, S_pred, err_n, err_S = dmd_rollout(entry, A_tilde, n_max, S_max,m=m,delta_m=delta_m, U_r=U_r)  # or U_r=U_r if reduced\n",
    "\n",
    "    results.append({\n",
    "        \"id\": idx,\n",
    "        \"initial_biomass\": entry[\"initial biomass\"],\n",
    "        \"initial_substrate\": entry[\"initial_substrate\"],\n",
    "        \"err_n\": err_n,\n",
    "        \"err_S\": err_S\n",
    "    })\n",
    "\n",
    "# --- Put into DataFrame ---\n",
    "df_results = pd.DataFrame(results)\n",
    "print(df_results)\n",
    "print(df_results.head())\n",
    "print(\"\\nError statistics:\")\n",
    "print(df_results[[\"err_n\", \"err_S\"]].describe())\n",
    "\n",
    "\n",
    "# --- Aggregate across replicates (mean + std) ---\n",
    "pivot_n_mean = df_results.pivot_table(\n",
    "    index=\"initial_substrate\", columns=\"initial_biomass\",\n",
    "    values=\"err_n\", aggfunc=\"mean\"\n",
    ")\n",
    "pivot_S_mean = df_results.pivot_table(\n",
    "    index=\"initial_substrate\", columns=\"initial_biomass\",\n",
    "    values=\"err_S\", aggfunc=\"mean\"\n",
    ")\n",
    "\n",
    "pivot_n_std = df_results.pivot_table(\n",
    "    index=\"initial_substrate\", columns=\"initial_biomass\",\n",
    "    values=\"err_n\", aggfunc=\"std\"\n",
    ")\n",
    "pivot_S_std = df_results.pivot_table(\n",
    "    index=\"initial_substrate\", columns=\"initial_biomass\",\n",
    "    values=\"err_S\", aggfunc=\"std\"\n",
    ")\n",
    "\n",
    "# --- Aggregate biomass + substrate error together (normalized) ---\n",
    "df_results[\"err_combined\"] = (\n",
    "    df_results[\"err_n\"] / df_results[\"err_n\"].max()\n",
    "    + df_results[\"err_S\"] / df_results[\"err_S\"].max()\n",
    ")\n",
    "\n",
    "pivot_comb_mean_dmd = df_results.pivot_table(\n",
    "    index=\"initial_substrate\", columns=\"initial_biomass\",\n",
    "    values=\"err_combined\", aggfunc=\"mean\"\n",
    ")\n",
    "\n",
    "# --- Plot all three heatmaps ---\n",
    "fig, axes = plt.subplots(1, 3, figsize=(18,5))\n",
    "\n",
    "# (1) Distribution error\n",
    "im1 = axes[0].imshow(pivot_n_mean.values, origin=\"lower\", aspect=\"auto\",\n",
    "                     extent=[pivot_n_mean.columns.min(), pivot_n_mean.columns.max(),\n",
    "                             pivot_n_mean.index.min(), pivot_n_mean.index.max()],\n",
    "                     cmap=\"viridis\")\n",
    "axes[0].set_title(\"Biomass error (mean)\")\n",
    "axes[0].set_xlabel(\"Initial biomass B0\")\n",
    "axes[0].set_ylabel(\"Initial substrate S0\")\n",
    "fig.colorbar(im1, ax=axes[0], label=\"err_dist\")\n",
    "\n",
    "# (2) Substrate error\n",
    "im2 = axes[1].imshow(pivot_S_mean.values, origin=\"lower\", aspect=\"auto\",\n",
    "                     extent=[pivot_S_mean.columns.min(), pivot_S_mean.columns.max(),\n",
    "                             pivot_S_mean.index.min(), pivot_S_mean.index.max()],\n",
    "                     cmap=\"plasma\")\n",
    "axes[1].set_title(\"Substrate error (mean)\")\n",
    "axes[1].set_xlabel(\"Initial biomass B0\")\n",
    "axes[1].set_ylabel(\"Initial substrate S0\")\n",
    "fig.colorbar(im2, ax=axes[1], label=\"err_S\")\n",
    "\n",
    "# (3) Combined biomass + substrate error\n",
    "im3 = axes[2].imshow(pivot_comb_mean_dmd.values, origin=\"lower\", aspect=\"auto\",\n",
    "                     extent=[pivot_comb_mean_dmd.columns.min(), pivot_comb_mean_dmd.columns.max(),\n",
    "                             pivot_comb_mean_dmd.index.min(), pivot_comb_mean_dmd.index.max()],\n",
    "                     cmap=\"inferno\")\n",
    "axes[2].set_title(\"Combined biomass + substrate error\")\n",
    "axes[2].set_xlabel(\"Initial biomass B0\")\n",
    "axes[2].set_ylabel(\"Initial substrate S0\")\n",
    "fig.colorbar(im3, ax=axes[2], label=\"err_combined\")\n",
    "\n",
    "plt.tight_layout()\n",
    "plt.show()\n",
    "\n",
    "\n",
    "# # --- (Optional) Plot std heatmaps for uncertainty ---\n",
    "# fig, axes = plt.subplots(1, 2, figsize=(12,5))\n",
    "\n",
    "# im1 = axes[0].imshow(pivot_n_std.values, origin=\"lower\", aspect=\"auto\",\n",
    "#                      extent=[pivot_n_std.columns.min(), pivot_n_std.columns.max(),\n",
    "#                              pivot_n_std.index.min(), pivot_n_std.index.max()],\n",
    "#                      cmap=\"viridis\")\n",
    "# axes[0].set_title(\"Biomass error (std)\")\n",
    "# axes[0].set_xlabel(\"Initial biomass B0\")\n",
    "# axes[0].set_ylabel(\"Initial substrate S0\")\n",
    "# fig.colorbar(im1, ax=axes[0], label=\"err_n std\")\n",
    "\n",
    "# im2 = axes[1].imshow(pivot_S_std.values, origin=\"lower\", aspect=\"auto\",\n",
    "#                      extent=[pivot_S_std.columns.min(), pivot_S_std.columns.max(),\n",
    "#                              pivot_S_std.index.min(), pivot_S_std.index.max()],\n",
    "#                      cmap=\"plasma\")\n",
    "# axes[1].set_title(\"Substrate error (std)\")\n",
    "# axes[1].set_xlabel(\"Initial biomass B0\")\n",
    "# axes[1].set_ylabel(\"Initial substrate S0\")\n",
    "# fig.colorbar(im2, ax=axes[1], label=\"err_S std\")\n",
    "\n",
    "# plt.tight_layout()\n",
    "# plt.show()\n"
   ]
  },
  {
   "cell_type": "markdown",
   "id": "104700cd",
   "metadata": {},
   "source": [
    "# Extended DMD\n",
    "EDMD does **not** try to approximate a mapping directly in state space. Instead:\n",
    "\n",
    "1. **Feature map (dictionary):**  \n",
    "\n",
    "$$\n",
    "\\phi : \\mathbb{R}^d \\to \\mathbb{R}^D, \n",
    "\\quad \n",
    "\\phi(x) = \\begin{bmatrix}\n",
    "\\phi_1(x) \\\\\n",
    "\\phi_2(x) \\\\\n",
    "\\vdots \\\\\n",
    "\\phi_D(x)\n",
    "\\end{bmatrix},\n",
    "$$  \n",
    "\n",
    "e.g.  \n",
    "\n",
    "$$\n",
    "\\phi(x) = [\\,x_1, \\dots, x_d, x_1^2, \\dots, x_d^2, \\dots ]^\\top.\n",
    "$$  \n",
    "\n",
    "---\n",
    "\n",
    "2. **Linear dynamics in feature space:**  \n",
    "\n",
    "$$\n",
    "\\phi(x_{k+1}) \\;\\approx\\; K \\, \\phi(x_k),\n",
    "$$  \n",
    "\n",
    "where $ K \\in \\mathbb{R}^{D \\times D} $ is the EDMD approximation of the Koopman operator.  \n",
    "\n",
    "---\n",
    "\n",
    "3. **Fitting equation:**  \n",
    "Given lifted data matrices \n",
    "$$ \n",
    "\\Phi_X = \\phi(x_0), \\; \\phi(x_1), \\; \\dots, \\; \\phi(x_{m-1}),\n",
    "$$  \n",
    "\n",
    "$$\n",
    "\\Phi_Y = \\phi(x_1), \\; \\phi(x_2), \\; \\dots, \\; \\phi(x_m).\n",
    "$$  \n",
    "the least-squares solution is  \n",
    "\n",
    "$$\n",
    "K = \\Phi_Y \\, \\Phi_X^{+},\n",
    "$$  \n",
    "\n",
    "where \\( \\Phi_X^{+} \\) is the  pseudoinverse.  \n",
    "\n",
    "---\n",
    "\n",
    "## Prediction\n",
    "If the original state \\(x\\) is included as part of \\(\\phi(x)\\) (e.g. in the first \\(d\\) components), then after evolving in feature space  \n",
    "\n",
    "$$\n",
    "\\hat{\\phi}_{k+1} = K \\, \\hat{\\phi}_k,\n",
    "$$  \n",
    "\n",
    "the prediction for the physical state is obtained by projecting onto those components:  \n",
    "\n",
    "$$\n",
    "\\hat{x}_{k+1} \\;\\approx\\; \\big[\\, \\hat{\\phi}_{k+1} \\,\\big]_{1:d}.\n",
    "$$  "
   ]
  },
  {
   "cell_type": "code",
   "execution_count": null,
   "id": "14212f67",
   "metadata": {},
   "outputs": [],
   "source": [
    "import pickle\n",
    "import torch\n",
    "import matplotlib.pyplot as plt\n",
    "\n",
    "# -----------------------------\n",
    "# 1. Load training data and build X, Y\n",
    "# -----------------------------\n",
    "# -----------------------------\n",
    "# 2. Feature lifting: [n, S, S*n]\n",
    "# ----------------------------\n",
    "\n",
    "degree=7\n",
    "\n",
    "Phi_X = EDMD_feature_space(X_train,degree=degree)  # (N, M + degree*(M+1))\n",
    "Phi_Y = EDMD_feature_space(Y_train,degree=degree)  # (N, M + degree*(M+1))\n",
    "\n",
    "# -----------------------------\n",
    "# 3. Compute EDMD operator\n",
    "# -----------------------------\n",
    "#Transpose so time is the column dimension\n",
    "Phi_XT = Phi_X.T    # (D, N)\n",
    "Phi_YT = Phi_Y.T    # (D, N)\n",
    "\n",
    "U, S, Vh = torch.linalg.svd(Phi_XT, full_matrices=False)\n",
    "\n",
    "# truncation rank\n",
    "r = 23\n",
    "U_r = U[:, :r]\n",
    "S_r = S[:r]\n",
    "Vh_r = Vh[:r, :]\n",
    "\n",
    "Sigma_r_inv = torch.diag(1.0 / S_r)\n",
    "\n",
    "K_tilde = U_r.T @ Phi_YT @ Vh_r.T @ Sigma_r_inv   # (r, r)\n",
    "\n",
    "# -----------------------------\n",
    "# 4. Validation rollout\n",
    "# -----------------------------\n",
    "\n",
    "# normalized initial state\n",
    "x0_norm = torch.cat([n0 / n_max, (S0 / S_max).unsqueeze(0)], dim=0) # (M+1,)\n",
    "\n",
    "# lifted initial condition\n",
    "phi0 = EDMD_feature_space(x0_norm.unsqueeze(0),degree=degree).squeeze(0)  # (M + degree*(M+1),)\n",
    "\n",
    "# project to reduced space\n",
    "z0 = U_r.T @ phi0\n",
    "\n",
    "T_val = Dataset_validation[0][\"n\"].shape[1]\n",
    "z_pred = torch.zeros((T_val, r))\n",
    "z_pred[0] = z0\n",
    "\n",
    "for k in range(T_val - 1):\n",
    "    z_pred[k+1] = K_tilde @ z_pred[k]\n",
    "\n",
    "# lift back\n",
    "Phi_pred = (U_r @ z_pred.T).T   # (T, M + degree*(M+1))\n",
    "\n",
    "# -----------------------------\n",
    "# 5. Extract predictions\n",
    "# -----------------------------\n",
    "# from features: [n, S, S*n,...]\n",
    "n_pred = Phi_pred[:, :M] * n_max\n",
    "S_pred = Phi_pred[:, M] * S_max\n",
    "\n",
    "# #store matrices\n",
    "# EDMD_matrices={\"K_tilde\":K_tilde,\n",
    "#                \"U_r\"    :   U_r,\n",
    "#                \"degree\" : degree\n",
    "#                }\n",
    "# torch.save(EDMD_matrices, \"EDMD_matrices.pth\")\n"
   ]
  },
  {
   "cell_type": "markdown",
   "id": "d0c68d20",
   "metadata": {},
   "source": [
    "## Plotting (+visualization of approximation)"
   ]
  },
  {
   "cell_type": "code",
   "execution_count": 7,
   "id": "2c5f1096",
   "metadata": {},
   "outputs": [
    {
     "name": "stdout",
     "output_type": "stream",
     "text": [
      "Relative error biomass: nan\n",
      "Relative error substrate: 4.350e-02\n"
     ]
    },
    {
     "data": {
      "application/vnd.plotly.v1+json": {
       "config": {
        "plotlyServerURL": "https://plot.ly"
       },
       "data": [
        {
         "line": {
          "cmax": 607840919713266800000,
          "cmin": -595483677853483000,
          "color": {
           "bdata": "AAAAAMkwx1xp41hbIuI53LxCydzQ4QHdVDkE3ZM4z9ytgz/cIdgTXFSDEV31h4hdFvrPXUHPDl6BSDheh49kXsMdil6SN6ReHpDBXnY+415pagVflNocXxS7OF/84FlfDoaAXwR5l1+ECrJfj4XQX2oK819Z5QxgtmkiYHAROmCA4lNgM9VvYET0hmCRCpdggSeoYO9FumBwX81gzWjhYKpW9mAECwZhb0cRYa7RHGGmlihhon80YZdyQGGPUExhu/hXYcNHY2G3rW1hyDB3YX4SgGEzLYRhjNKHYfnvimHidY1hgliPYVOQkGF/GZFh8fOQYSkikGGdqo5h4ZSMYaLqiWEat4ZhPAaDYbTHfWGGuXRhGPtqYV2lYGG/0VVhgZhKYSQTP2FuWzNheoonYe26G2FdBhBh5IUEYXyl8mDMBt1gUFrIYEDDtGCXXqJgwkCRYMl2gWAOBmZgOr9LYDr9M2DPlB5gCE8LYEHV8188RNRfNFm3X0mGnF9bRoNf20lWXwyLJ18Xu/NeYrWoXg==",
           "dtype": "f4"
          },
          "colorbar": {
           "title": {
            "text": "n(m, t)"
           }
          },
          "colorscale": [
           [
            0,
            "#440154"
           ],
           [
            0.1111111111111111,
            "#482878"
           ],
           [
            0.2222222222222222,
            "#3e4989"
           ],
           [
            0.3333333333333333,
            "#31688e"
           ],
           [
            0.4444444444444444,
            "#26828e"
           ],
           [
            0.5555555555555556,
            "#1f9e89"
           ],
           [
            0.6666666666666666,
            "#35b779"
           ],
           [
            0.7777777777777778,
            "#6ece58"
           ],
           [
            0.8888888888888888,
            "#b5de2b"
           ],
           [
            1,
            "#fde725"
           ]
          ],
          "showscale": true,
          "width": 4
         },
         "mode": "lines",
         "showlegend": false,
         "type": "scatter3d",
         "x": {
          "bdata": "AAAAALooDiy6KI4sFz3VLLooDi3osjEtFz1VLUbHeC26KI4t0e2fLeiysS0AeMMtFz3VLS4C5y1Gx/gtLkYFLrooDi5GCxcu0e0fLl3QKC7osjEudJU6LgB4Qy6LWkwuFz1VLqMfXi4uAmcuuuRvLkbHeC7p1IAuLkaFLnS3iS66KI4uAJqSLkYLly6LfJsu0e2fLhdfpC5d0Kguo0GtLuiysS4uJLYudJW6LroGvy4AeMMuRunHLotazC7Ry9AuFz3VLl2u2S6hH94u55DiLi0C5y5zc+suuOTvLv5V9C5Ex/guijj9LujUAC+LDQMvLkYFL9B+By90twkvFvALL7ooDi9cYRAv/5kSL6LSFC9FCxcv6EMZL4p8Gy8utR0v0O0fL3QmIi8WXyQvuZcmL1zQKC//CCsvokEtL0V6Ly/osjEvi+szLy4kNi/QXDgvdJU6LxbOPC+5Bj8vXD9BL/93Qy+isEUvRelHL+ghSi+LWkwvLpNOL9DLUC9zBFMvFj1VL7l1Vy9crlkv/+ZbLw==",
          "dtype": "f4"
         },
         "y": {
          "bdata": "AAAAAAAAAAAAAAAAAAAAAAAAAAAAAAAAAAAAAAAAAAAAAAAAAAAAAAAAAAAAAAAAAAAAAAAAAAAAAAAAAAAAAAAAAAAAAAAAAAAAAAAAAAAAAAAAAAAAAAAAAAAAAAAAAAAAAAAAAAAAAAAAAAAAAAAAAAAAAAAAAAAAAAAAAAAAAAAAAAAAAAAAAAAAAAAAAAAAAAAAAAAAAAAAAAAAAAAAAAAAAAAAAAAAAAAAAAAAAAAAAAAAAAAAAAAAAAAAAAAAAAAAAAAAAAAAAAAAAAAAAAAAAAAAAAAAAAAAAAAAAAAAAAAAAAAAAAAAAAAAAAAAAAAAAAAAAAAAAAAAAAAAAAAAAAAAAAAAAAAAAAAAAAAAAAAAAAAAAAAAAAAAAAAAAAAAAAAAAAAAAAAAAAAAAAAAAAAAAAAAAAAAAAAAAAAAAAAAAAAAAAAAAAAAAAAAAAAAAAAAAAAAAAAAAAAAAAAAAAAAAAAAAAAAAAAAAAAAAAAAAAAAAAAAAAAAAAAAAAAAAAAAAAAAAAAAAA==",
          "dtype": "f4"
         },
         "z": {
          "bdata": "AAAAAMkwx1xp41hbIuI53LxCydzQ4QHdVDkE3ZM4z9ytgz/cIdgTXFSDEV31h4hdFvrPXUHPDl6BSDheh49kXsMdil6SN6ReHpDBXnY+415pagVflNocXxS7OF/84FlfDoaAXwR5l1+ECrJfj4XQX2oK819Z5QxgtmkiYHAROmCA4lNgM9VvYET0hmCRCpdggSeoYO9FumBwX81gzWjhYKpW9mAECwZhb0cRYa7RHGGmlihhon80YZdyQGGPUExhu/hXYcNHY2G3rW1hyDB3YX4SgGEzLYRhjNKHYfnvimHidY1hgliPYVOQkGF/GZFh8fOQYSkikGGdqo5h4ZSMYaLqiWEat4ZhPAaDYbTHfWGGuXRhGPtqYV2lYGG/0VVhgZhKYSQTP2FuWzNheoonYe26G2FdBhBh5IUEYXyl8mDMBt1gUFrIYEDDtGCXXqJgwkCRYMl2gWAOBmZgOr9LYDr9M2DPlB5gCE8LYEHV8188RNRfNFm3X0mGnF9bRoNf20lWXwyLJ18Xu/NeYrWoXg==",
          "dtype": "f4"
         }
        },
        {
         "line": {
          "cmax": 607840919713266800000,
          "cmin": -595483677853483000,
          "color": {
           "bdata": "AAAAAAwYsFy6oSdcKZJgXDkGBF1ApJJdVoYJXm9RYl6KialexYvtXs8YHl+XOEpf7a96X6uIl1+ahLNfJTHRX2eD8F/jvghgnhkaYAtdLGAvnD9gFuJTYGw2aWBVn39gY4uLYP7Gl2ANc6RgZYCxYHjUvmDOWMxgz+7ZYFN352AW2fRgl/wAYZliB2H+lg1hPZUTYTBdGWHr8R5hylgkYS6bKWEewy5hSdszYRbvOGESCD5hXy5DYZpnSGGltE1hKxRTYUeAWGHUeV1hhxtiYb3UZmHdimthpyJwYVmBdGE+i3hhTCZ8YdY6f2Hg2YBhpL+BYQJHgmH0aoJhJCeCYeR4gWElX4BhmbN9YZTSeWE8H3VhrZ5vYQZYaWFyVGJhc55aYY5DUmHiU0lhIeE/YVQANmECyCthQlAhYTSzFmGICgxhpXABYSr87WBflNlgx9LFYEDbsmBDyaBgNLGPYF8/f2AhM2FgVTlFYBtAK2A+LBNgJbL5X0050F+ZkqlfMGCFXxiLRl+j1wVfKNqnXg==",
           "dtype": "f4"
          },
          "colorscale": [
           [
            0,
            "#440154"
           ],
           [
            0.1111111111111111,
            "#482878"
           ],
           [
            0.2222222222222222,
            "#3e4989"
           ],
           [
            0.3333333333333333,
            "#31688e"
           ],
           [
            0.4444444444444444,
            "#26828e"
           ],
           [
            0.5555555555555556,
            "#1f9e89"
           ],
           [
            0.6666666666666666,
            "#35b779"
           ],
           [
            0.7777777777777778,
            "#6ece58"
           ],
           [
            0.8888888888888888,
            "#b5de2b"
           ],
           [
            1,
            "#fde725"
           ]
          ],
          "showscale": false,
          "width": 4
         },
         "mode": "lines",
         "showlegend": false,
         "type": "scatter3d",
         "x": {
          "bdata": "AAAAALooDiy6KI4sFz3VLLooDi3osjEtFz1VLUbHeC26KI4t0e2fLeiysS0AeMMtFz3VLS4C5y1Gx/gtLkYFLrooDi5GCxcu0e0fLl3QKC7osjEudJU6LgB4Qy6LWkwuFz1VLqMfXi4uAmcuuuRvLkbHeC7p1IAuLkaFLnS3iS66KI4uAJqSLkYLly6LfJsu0e2fLhdfpC5d0Kguo0GtLuiysS4uJLYudJW6LroGvy4AeMMuRunHLotazC7Ry9AuFz3VLl2u2S6hH94u55DiLi0C5y5zc+suuOTvLv5V9C5Ex/guijj9LujUAC+LDQMvLkYFL9B+By90twkvFvALL7ooDi9cYRAv/5kSL6LSFC9FCxcv6EMZL4p8Gy8utR0v0O0fL3QmIi8WXyQvuZcmL1zQKC//CCsvokEtL0V6Ly/osjEvi+szLy4kNi/QXDgvdJU6LxbOPC+5Bj8vXD9BL/93Qy+isEUvRelHL+ghSi+LWkwvLpNOL9DLUC9zBFMvFj1VL7l1Vy9crlkv/+ZbLw==",
          "dtype": "f4"
         },
         "y": {
          "bdata": "Yt5OPmLeTj5i3k4+Yt5OPmLeTj5i3k4+Yt5OPmLeTj5i3k4+Yt5OPmLeTj5i3k4+Yt5OPmLeTj5i3k4+Yt5OPmLeTj5i3k4+Yt5OPmLeTj5i3k4+Yt5OPmLeTj5i3k4+Yt5OPmLeTj5i3k4+Yt5OPmLeTj5i3k4+Yt5OPmLeTj5i3k4+Yt5OPmLeTj5i3k4+Yt5OPmLeTj5i3k4+Yt5OPmLeTj5i3k4+Yt5OPmLeTj5i3k4+Yt5OPmLeTj5i3k4+Yt5OPmLeTj5i3k4+Yt5OPmLeTj5i3k4+Yt5OPmLeTj5i3k4+Yt5OPmLeTj5i3k4+Yt5OPmLeTj5i3k4+Yt5OPmLeTj5i3k4+Yt5OPmLeTj5i3k4+Yt5OPmLeTj5i3k4+Yt5OPmLeTj5i3k4+Yt5OPmLeTj5i3k4+Yt5OPmLeTj5i3k4+Yt5OPmLeTj5i3k4+Yt5OPmLeTj5i3k4+Yt5OPmLeTj5i3k4+Yt5OPmLeTj5i3k4+Yt5OPmLeTj5i3k4+Yt5OPmLeTj5i3k4+Yt5OPg==",
          "dtype": "f4"
         },
         "z": {
          "bdata": "AAAAAAwYsFy6oSdcKZJgXDkGBF1ApJJdVoYJXm9RYl6KialexYvtXs8YHl+XOEpf7a96X6uIl1+ahLNfJTHRX2eD8F/jvghgnhkaYAtdLGAvnD9gFuJTYGw2aWBVn39gY4uLYP7Gl2ANc6RgZYCxYHjUvmDOWMxgz+7ZYFN352AW2fRgl/wAYZliB2H+lg1hPZUTYTBdGWHr8R5hylgkYS6bKWEewy5hSdszYRbvOGESCD5hXy5DYZpnSGGltE1hKxRTYUeAWGHUeV1hhxtiYb3UZmHdimthpyJwYVmBdGE+i3hhTCZ8YdY6f2Hg2YBhpL+BYQJHgmH0aoJhJCeCYeR4gWElX4BhmbN9YZTSeWE8H3VhrZ5vYQZYaWFyVGJhc55aYY5DUmHiU0lhIeE/YVQANmECyCthQlAhYTSzFmGICgxhpXABYSr87WBflNlgx9LFYEDbsmBDyaBgNLGPYF8/f2AhM2FgVTlFYBtAK2A+LBNgJbL5X0050F+ZkqlfMGCFXxiLRl+j1wVfKNqnXg==",
          "dtype": "f4"
         }
        },
        {
         "line": {
          "cmax": 607840919713266800000,
          "cmin": -595483677853483000,
          "color": {
           "bdata": "AAAAAKFGh1ynBjVcN1rhXE8hk11EehpeceGJXoEY216aXSBfI/dcX9tSkV/cTLhfRQPjX2qICGCwDiFgnO86YK4OVmA9V3Jg8N2HYO4Yl2Dk2qZg8B63YFHdx2AlDtlgW6LqYIeG/GA0TwdhxWYQYdB1GWFmaSJhjSorYb2hM2EDujthi11DYQh7SmGwAlFhD+lWYZknXGEovGBhxahkYfv0Z2Gtq2phc9psYU+SbmEH5W9hyeVwYZ6ncWEdO3Jhz7ByYcYVc2HdHHNhJOZyYTPRcmHZ23JhQwJzYd8+c2Hhh3NhUdJzYZIRdGE5OHRhrzh0YZQEdGE6j3NhCMtyYSmrcWHaI3BhpSluYT6xa2F9sWhhpiFlYTf7YGFYOVxhCtlWYXjaUGEnQUphwhJDYQZZO2FkIDNh8HcqYfRxIWHrIRhhf50OYS76BGEJnPZg41vjYNVb0GDbvr1gqKOrYEMjmmABUYlgmXRyYCnNU2DZsDZgUBobYFb8AGAihdBfK6WhXzoyal88LhVfzjyqXg==",
           "dtype": "f4"
          },
          "colorscale": [
           [
            0,
            "#440154"
           ],
           [
            0.1111111111111111,
            "#482878"
           ],
           [
            0.2222222222222222,
            "#3e4989"
           ],
           [
            0.3333333333333333,
            "#31688e"
           ],
           [
            0.4444444444444444,
            "#26828e"
           ],
           [
            0.5555555555555556,
            "#1f9e89"
           ],
           [
            0.6666666666666666,
            "#35b779"
           ],
           [
            0.7777777777777778,
            "#6ece58"
           ],
           [
            0.8888888888888888,
            "#b5de2b"
           ],
           [
            1,
            "#fde725"
           ]
          ],
          "showscale": false,
          "width": 4
         },
         "mode": "lines",
         "showlegend": false,
         "type": "scatter3d",
         "x": {
          "bdata": "AAAAALooDiy6KI4sFz3VLLooDi3osjEtFz1VLUbHeC26KI4t0e2fLeiysS0AeMMtFz3VLS4C5y1Gx/gtLkYFLrooDi5GCxcu0e0fLl3QKC7osjEudJU6LgB4Qy6LWkwuFz1VLqMfXi4uAmcuuuRvLkbHeC7p1IAuLkaFLnS3iS66KI4uAJqSLkYLly6LfJsu0e2fLhdfpC5d0Kguo0GtLuiysS4uJLYudJW6LroGvy4AeMMuRunHLotazC7Ry9AuFz3VLl2u2S6hH94u55DiLi0C5y5zc+suuOTvLv5V9C5Ex/guijj9LujUAC+LDQMvLkYFL9B+By90twkvFvALL7ooDi9cYRAv/5kSL6LSFC9FCxcv6EMZL4p8Gy8utR0v0O0fL3QmIi8WXyQvuZcmL1zQKC//CCsvokEtL0V6Ly/osjEvi+szLy4kNi/QXDgvdJU6LxbOPC+5Bj8vXD9BL/93Qy+isEUvRelHL+ghSi+LWkwvLpNOL9DLUC9zBFMvFj1VL7l1Vy9crlkv/+ZbLw==",
          "dtype": "f4"
         },
         "y": {
          "bdata": "Yt7OPmLezj5i3s4+Yt7OPmLezj5i3s4+Yt7OPmLezj5i3s4+Yt7OPmLezj5i3s4+Yt7OPmLezj5i3s4+Yt7OPmLezj5i3s4+Yt7OPmLezj5i3s4+Yt7OPmLezj5i3s4+Yt7OPmLezj5i3s4+Yt7OPmLezj5i3s4+Yt7OPmLezj5i3s4+Yt7OPmLezj5i3s4+Yt7OPmLezj5i3s4+Yt7OPmLezj5i3s4+Yt7OPmLezj5i3s4+Yt7OPmLezj5i3s4+Yt7OPmLezj5i3s4+Yt7OPmLezj5i3s4+Yt7OPmLezj5i3s4+Yt7OPmLezj5i3s4+Yt7OPmLezj5i3s4+Yt7OPmLezj5i3s4+Yt7OPmLezj5i3s4+Yt7OPmLezj5i3s4+Yt7OPmLezj5i3s4+Yt7OPmLezj5i3s4+Yt7OPmLezj5i3s4+Yt7OPmLezj5i3s4+Yt7OPmLezj5i3s4+Yt7OPmLezj5i3s4+Yt7OPmLezj5i3s4+Yt7OPmLezj5i3s4+Yt7OPmLezj5i3s4+Yt7OPg==",
          "dtype": "f4"
         },
         "z": {
          "bdata": "AAAAAKFGh1ynBjVcN1rhXE8hk11EehpeceGJXoEY216aXSBfI/dcX9tSkV/cTLhfRQPjX2qICGCwDiFgnO86YK4OVmA9V3Jg8N2HYO4Yl2Dk2qZg8B63YFHdx2AlDtlgW6LqYIeG/GA0TwdhxWYQYdB1GWFmaSJhjSorYb2hM2EDujthi11DYQh7SmGwAlFhD+lWYZknXGEovGBhxahkYfv0Z2Gtq2phc9psYU+SbmEH5W9hyeVwYZ6ncWEdO3Jhz7ByYcYVc2HdHHNhJOZyYTPRcmHZ23JhQwJzYd8+c2Hhh3NhUdJzYZIRdGE5OHRhrzh0YZQEdGE6j3NhCMtyYSmrcWHaI3BhpSluYT6xa2F9sWhhpiFlYTf7YGFYOVxhCtlWYXjaUGEnQUphwhJDYQZZO2FkIDNh8HcqYfRxIWHrIRhhf50OYS76BGEJnPZg41vjYNVb0GDbvr1gqKOrYEMjmmABUYlgmXRyYCnNU2DZsDZgUBobYFb8AGAihdBfK6WhXzoyal88LhVfzjyqXg==",
          "dtype": "f4"
         }
        },
        {
         "line": {
          "cmax": 607840919713266800000,
          "cmin": -595483677853483000,
          "color": {
           "bdata": "AAAAADZYRVwqjS5c+S0YXUhU0V2GI1te5kDCXsiMGV+NGWBfKxyaX1uFyl+5XgBg3BceYCkhPmCcMWBgSwOCYEGylGCnDKhgL/27YOdw0GDbWeVgrKj6YEAmCGFPGxNhDykeYQBEKWG7XDRhP2Q/YTxGSmEV71RhR0dfYVM2aWF6pXJhWnx7YSrTgWF7h4Vh7tKIYU2vi2FDGI5hwQuQYUGKkWGJlpJh/DSTYXZsk2EBRZNhSMiSYfQAkmF/+ZBhXb2PYUpXjmG+u4xhKPiKYbkpiWF0V4dhv4eFYSnAg2G5A4JhtFSAYZtnfWEtQXphczN3YRk5dGFRTHFhbGRuYbF3a2GFe2hhGGRlYZgkYmHzsF5hZ/xaYaD7VmHno1Jhn+tNYYnLSGH4PkNh40I9YcjXNmFjADBhLsIoYZ4lIWHgNBlhrfwQYX+KCGGP2v9gR2juYObc3GBMVctg5+y5YC+8qGC62JdgdVSHYPB6bmDaPE9g4PswYJ2+E2ASCu9fBpG4X2/3g19hKSJfBQOsXg==",
           "dtype": "f4"
          },
          "colorscale": [
           [
            0,
            "#440154"
           ],
           [
            0.1111111111111111,
            "#482878"
           ],
           [
            0.2222222222222222,
            "#3e4989"
           ],
           [
            0.3333333333333333,
            "#31688e"
           ],
           [
            0.4444444444444444,
            "#26828e"
           ],
           [
            0.5555555555555556,
            "#1f9e89"
           ],
           [
            0.6666666666666666,
            "#35b779"
           ],
           [
            0.7777777777777778,
            "#6ece58"
           ],
           [
            0.8888888888888888,
            "#b5de2b"
           ],
           [
            1,
            "#fde725"
           ]
          ],
          "showscale": false,
          "width": 4
         },
         "mode": "lines",
         "showlegend": false,
         "type": "scatter3d",
         "x": {
          "bdata": "AAAAALooDiy6KI4sFz3VLLooDi3osjEtFz1VLUbHeC26KI4t0e2fLeiysS0AeMMtFz3VLS4C5y1Gx/gtLkYFLrooDi5GCxcu0e0fLl3QKC7osjEudJU6LgB4Qy6LWkwuFz1VLqMfXi4uAmcuuuRvLkbHeC7p1IAuLkaFLnS3iS66KI4uAJqSLkYLly6LfJsu0e2fLhdfpC5d0Kguo0GtLuiysS4uJLYudJW6LroGvy4AeMMuRunHLotazC7Ry9AuFz3VLl2u2S6hH94u55DiLi0C5y5zc+suuOTvLv5V9C5Ex/guijj9LujUAC+LDQMvLkYFL9B+By90twkvFvALL7ooDi9cYRAv/5kSL6LSFC9FCxcv6EMZL4p8Gy8utR0v0O0fL3QmIi8WXyQvuZcmL1zQKC//CCsvokEtL0V6Ly/osjEvi+szLy4kNi/QXDgvdJU6LxbOPC+5Bj8vXD9BL/93Qy+isEUvRelHL+ghSi+LWkwvLpNOL9DLUC9zBFMvFj1VL7l1Vy9crlkv/+ZbLw==",
          "dtype": "f4"
         },
         "y": {
          "bdata": "yiYbP8omGz/KJhs/yiYbP8omGz/KJhs/yiYbP8omGz/KJhs/yiYbP8omGz/KJhs/yiYbP8omGz/KJhs/yiYbP8omGz/KJhs/yiYbP8omGz/KJhs/yiYbP8omGz/KJhs/yiYbP8omGz/KJhs/yiYbP8omGz/KJhs/yiYbP8omGz/KJhs/yiYbP8omGz/KJhs/yiYbP8omGz/KJhs/yiYbP8omGz/KJhs/yiYbP8omGz/KJhs/yiYbP8omGz/KJhs/yiYbP8omGz/KJhs/yiYbP8omGz/KJhs/yiYbP8omGz/KJhs/yiYbP8omGz/KJhs/yiYbP8omGz/KJhs/yiYbP8omGz/KJhs/yiYbP8omGz/KJhs/yiYbP8omGz/KJhs/yiYbP8omGz/KJhs/yiYbP8omGz/KJhs/yiYbP8omGz/KJhs/yiYbP8omGz/KJhs/yiYbP8omGz/KJhs/yiYbP8omGz/KJhs/yiYbP8omGz/KJhs/yiYbP8omGz/KJhs/yiYbP8omGz/KJhs/yiYbPw==",
          "dtype": "f4"
         },
         "z": {
          "bdata": "AAAAADZYRVwqjS5c+S0YXUhU0V2GI1te5kDCXsiMGV+NGWBfKxyaX1uFyl+5XgBg3BceYCkhPmCcMWBgSwOCYEGylGCnDKhgL/27YOdw0GDbWeVgrKj6YEAmCGFPGxNhDykeYQBEKWG7XDRhP2Q/YTxGSmEV71RhR0dfYVM2aWF6pXJhWnx7YSrTgWF7h4Vh7tKIYU2vi2FDGI5hwQuQYUGKkWGJlpJh/DSTYXZsk2EBRZNhSMiSYfQAkmF/+ZBhXb2PYUpXjmG+u4xhKPiKYbkpiWF0V4dhv4eFYSnAg2G5A4JhtFSAYZtnfWEtQXphczN3YRk5dGFRTHFhbGRuYbF3a2GFe2hhGGRlYZgkYmHzsF5hZ/xaYaD7VmHno1Jhn+tNYYnLSGH4PkNh40I9YcjXNmFjADBhLsIoYZ4lIWHgNBlhrfwQYX+KCGGP2v9gR2juYObc3GBMVctg5+y5YC+8qGC62JdgdVSHYPB6bmDaPE9g4PswYJ2+E2ASCu9fBpG4X2/3g19hKSJfBQOsXg==",
          "dtype": "f4"
         }
        },
        {
         "line": {
          "cmax": 607840919713266800000,
          "cmin": -595483677853483000,
          "color": {
           "bdata": "AAAAABBcDVwbqytc9bk4XVeuAV7FqYdeLPrvXj+CPV8ZS4pfblK+X3ZZ+l/D3B5gX9pDYADAa2DXE4tgIVihYHN+uGCCXdBgA9DoYN7ZAGGCdg1hZDAaYVP6JmGRyTNhNJFAYflETWGU1VlhUTVmYflRcmFqGn5h97yEYV0timEmVI9h7SWUYdGYmGFhopxh1zmgYctXo2FC9qVhNBGoYbumqWE4t6phtkSrYblTq2Fd6qphuxCqYXnQqGGMM6dhikWlYeoRo2GYoqBhNgCeYXY0m2HbSZhhhEqVYR5AkmH4MY9h/yaMYZIkiWH8LoZhfkmDYdV1gGEaanthJg12YbDRcGHusmthUKpmYXCvYWHiuVxhsL9XYYa3UmGSl01hBlZIYVPqQmExTT1h23c3YcdlMWGIEythoX8kYbGqHWGblhZhZkcPYRLCB2E5DQBhkmDwYEFn4GCVP9BgN/u/YFyrr2DHYJ9g5SqPYIMvfmCjZ15gyRI/YMlBIGAzAQJgf7HIX6mVjl+qUCtfKHmsXg==",
           "dtype": "f4"
          },
          "colorscale": [
           [
            0,
            "#440154"
           ],
           [
            0.1111111111111111,
            "#482878"
           ],
           [
            0.2222222222222222,
            "#3e4989"
           ],
           [
            0.3333333333333333,
            "#31688e"
           ],
           [
            0.4444444444444444,
            "#26828e"
           ],
           [
            0.5555555555555556,
            "#1f9e89"
           ],
           [
            0.6666666666666666,
            "#35b779"
           ],
           [
            0.7777777777777778,
            "#6ece58"
           ],
           [
            0.8888888888888888,
            "#b5de2b"
           ],
           [
            1,
            "#fde725"
           ]
          ],
          "showscale": false,
          "width": 4
         },
         "mode": "lines",
         "showlegend": false,
         "type": "scatter3d",
         "x": {
          "bdata": "AAAAALooDiy6KI4sFz3VLLooDi3osjEtFz1VLUbHeC26KI4t0e2fLeiysS0AeMMtFz3VLS4C5y1Gx/gtLkYFLrooDi5GCxcu0e0fLl3QKC7osjEudJU6LgB4Qy6LWkwuFz1VLqMfXi4uAmcuuuRvLkbHeC7p1IAuLkaFLnS3iS66KI4uAJqSLkYLly6LfJsu0e2fLhdfpC5d0Kguo0GtLuiysS4uJLYudJW6LroGvy4AeMMuRunHLotazC7Ry9AuFz3VLl2u2S6hH94u55DiLi0C5y5zc+suuOTvLv5V9C5Ex/guijj9LujUAC+LDQMvLkYFL9B+By90twkvFvALL7ooDi9cYRAv/5kSL6LSFC9FCxcv6EMZL4p8Gy8utR0v0O0fL3QmIi8WXyQvuZcmL1zQKC//CCsvokEtL0V6Ly/osjEvi+szLy4kNi/QXDgvdJU6LxbOPC+5Bj8vXD9BL/93Qy+isEUvRelHL+ghSi+LWkwvLpNOL9DLUC9zBFMvFj1VL7l1Vy9crlkv/+ZbLw==",
          "dtype": "f4"
         },
         "y": {
          "bdata": "Yt5OP2LeTj9i3k4/Yt5OP2LeTj9i3k4/Yt5OP2LeTj9i3k4/Yt5OP2LeTj9i3k4/Yt5OP2LeTj9i3k4/Yt5OP2LeTj9i3k4/Yt5OP2LeTj9i3k4/Yt5OP2LeTj9i3k4/Yt5OP2LeTj9i3k4/Yt5OP2LeTj9i3k4/Yt5OP2LeTj9i3k4/Yt5OP2LeTj9i3k4/Yt5OP2LeTj9i3k4/Yt5OP2LeTj9i3k4/Yt5OP2LeTj9i3k4/Yt5OP2LeTj9i3k4/Yt5OP2LeTj9i3k4/Yt5OP2LeTj9i3k4/Yt5OP2LeTj9i3k4/Yt5OP2LeTj9i3k4/Yt5OP2LeTj9i3k4/Yt5OP2LeTj9i3k4/Yt5OP2LeTj9i3k4/Yt5OP2LeTj9i3k4/Yt5OP2LeTj9i3k4/Yt5OP2LeTj9i3k4/Yt5OP2LeTj9i3k4/Yt5OP2LeTj9i3k4/Yt5OP2LeTj9i3k4/Yt5OP2LeTj9i3k4/Yt5OP2LeTj9i3k4/Yt5OP2LeTj9i3k4/Yt5OP2LeTj9i3k4/Yt5OPw==",
          "dtype": "f4"
         },
         "z": {
          "bdata": "AAAAABBcDVwbqytc9bk4XVeuAV7FqYdeLPrvXj+CPV8ZS4pfblK+X3ZZ+l/D3B5gX9pDYADAa2DXE4tgIVihYHN+uGCCXdBgA9DoYN7ZAGGCdg1hZDAaYVP6JmGRyTNhNJFAYflETWGU1VlhUTVmYflRcmFqGn5h97yEYV0timEmVI9h7SWUYdGYmGFhopxh1zmgYctXo2FC9qVhNBGoYbumqWE4t6phtkSrYblTq2Fd6qphuxCqYXnQqGGMM6dhikWlYeoRo2GYoqBhNgCeYXY0m2HbSZhhhEqVYR5AkmH4MY9h/yaMYZIkiWH8LoZhfkmDYdV1gGEaanthJg12YbDRcGHusmthUKpmYXCvYWHiuVxhsL9XYYa3UmGSl01hBlZIYVPqQmExTT1h23c3YcdlMWGIEythoX8kYbGqHWGblhZhZkcPYRLCB2E5DQBhkmDwYEFn4GCVP9BgN/u/YFyrr2DHYJ9g5SqPYIMvfmCjZ15gyRI/YMlBIGAzAQJgf7HIX6mVjl+qUCtfKHmsXg==",
          "dtype": "f4"
         }
        },
        {
         "line": {
          "cmax": 607840919713266800000,
          "cmin": -595483677853483000,
          "color": {
           "bdata": "AAAAAHQDw1sLCitc1LVTXUrMFV6Yn5xe7V4KX7qIWl8Pk59fhdbbX37EEGDb9zdgMhZjYLLSiGAgk6FgII67YA6G1mAiQvJg2UYHYb6bFWH+CiRh64AyYTfrQGFPO09hVGFdYcZPa2EF93hhLCWDYduciWFL249h19eVYXWJm2Gw56Bh2uilYaeEqmHLsa5hYWiyYXqhtWEgV7hhBoW6YZMovGFAQb1hBdC9YQ7YvWEzXr1hQGm8YZUBu2EeMLlhbf+2YS16tGEeuLFhTr2uYR2Eq2FmF6hhsoGkYVPNoGG0Ap1hQyqZYTBLlWEUbJFhpZKNYXjDiWF/AoZhN1KCYYpofWEMU3Zh2mNvYRSZaGFw8GFhz2VbYQD1VGGamE5hOUpIYaIDQmF1vjthrHM1YQ4dL2E6tChhgjMiYUGWG2FY2BRhDfcNYWLwBmGMh/9gW+PwYNX34WAzytJgvGHDYBrHs2CCBKRgvSSUYD0zhGBAd2hgOpJIYPbMKGBQOwlgu9zTX6PnlV9GVjFfyr2rXg==",
           "dtype": "f4"
          },
          "colorscale": [
           [
            0,
            "#440154"
           ],
           [
            0.1111111111111111,
            "#482878"
           ],
           [
            0.2222222222222222,
            "#3e4989"
           ],
           [
            0.3333333333333333,
            "#31688e"
           ],
           [
            0.4444444444444444,
            "#26828e"
           ],
           [
            0.5555555555555556,
            "#1f9e89"
           ],
           [
            0.6666666666666666,
            "#35b779"
           ],
           [
            0.7777777777777778,
            "#6ece58"
           ],
           [
            0.8888888888888888,
            "#b5de2b"
           ],
           [
            1,
            "#fde725"
           ]
          ],
          "showscale": false,
          "width": 4
         },
         "mode": "lines",
         "showlegend": false,
         "type": "scatter3d",
         "x": {
          "bdata": "AAAAALooDiy6KI4sFz3VLLooDi3osjEtFz1VLUbHeC26KI4t0e2fLeiysS0AeMMtFz3VLS4C5y1Gx/gtLkYFLrooDi5GCxcu0e0fLl3QKC7osjEudJU6LgB4Qy6LWkwuFz1VLqMfXi4uAmcuuuRvLkbHeC7p1IAuLkaFLnS3iS66KI4uAJqSLkYLly6LfJsu0e2fLhdfpC5d0Kguo0GtLuiysS4uJLYudJW6LroGvy4AeMMuRunHLotazC7Ry9AuFz3VLl2u2S6hH94u55DiLi0C5y5zc+suuOTvLv5V9C5Ex/guijj9LujUAC+LDQMvLkYFL9B+By90twkvFvALL7ooDi9cYRAv/5kSL6LSFC9FCxcv6EMZL4p8Gy8utR0v0O0fL3QmIi8WXyQvuZcmL1zQKC//CCsvokEtL0V6Ly/osjEvi+szLy4kNi/QXDgvdJU6LxbOPC+5Bj8vXD9BL/93Qy+isEUvRelHL+ghSi+LWkwvLpNOL9DLUC9zBFMvFj1VL7l1Vy9crlkv/+ZbLw==",
          "dtype": "f4"
         },
         "y": {
          "bdata": "/UqBP/1KgT/9SoE//UqBP/1KgT/9SoE//UqBP/1KgT/9SoE//UqBP/1KgT/9SoE//UqBP/1KgT/9SoE//UqBP/1KgT/9SoE//UqBP/1KgT/9SoE//UqBP/1KgT/9SoE//UqBP/1KgT/9SoE//UqBP/1KgT/9SoE//UqBP/1KgT/9SoE//UqBP/1KgT/9SoE//UqBP/1KgT/9SoE//UqBP/1KgT/9SoE//UqBP/1KgT/9SoE//UqBP/1KgT/9SoE//UqBP/1KgT/9SoE//UqBP/1KgT/9SoE//UqBP/1KgT/9SoE//UqBP/1KgT/9SoE//UqBP/1KgT/9SoE//UqBP/1KgT/9SoE//UqBP/1KgT/9SoE//UqBP/1KgT/9SoE//UqBP/1KgT/9SoE//UqBP/1KgT/9SoE//UqBP/1KgT/9SoE//UqBP/1KgT/9SoE//UqBP/1KgT/9SoE//UqBP/1KgT/9SoE//UqBP/1KgT/9SoE//UqBP/1KgT/9SoE//UqBP/1KgT/9SoE//UqBPw==",
          "dtype": "f4"
         },
         "z": {
          "bdata": "AAAAAHQDw1sLCitc1LVTXUrMFV6Yn5xe7V4KX7qIWl8Pk59fhdbbX37EEGDb9zdgMhZjYLLSiGAgk6FgII67YA6G1mAiQvJg2UYHYb6bFWH+CiRh64AyYTfrQGFPO09hVGFdYcZPa2EF93hhLCWDYduciWFL249h19eVYXWJm2Gw56Bh2uilYaeEqmHLsa5hYWiyYXqhtWEgV7hhBoW6YZMovGFAQb1hBdC9YQ7YvWEzXr1hQGm8YZUBu2EeMLlhbf+2YS16tGEeuLFhTr2uYR2Eq2FmF6hhsoGkYVPNoGG0Ap1hQyqZYTBLlWEUbJFhpZKNYXjDiWF/AoZhN1KCYYpofWEMU3Zh2mNvYRSZaGFw8GFhz2VbYQD1VGGamE5hOUpIYaIDQmF1vjthrHM1YQ4dL2E6tChhgjMiYUGWG2FY2BRhDfcNYWLwBmGMh/9gW+PwYNX34WAzytJgvGHDYBrHs2CCBKRgvSSUYD0zhGBAd2hgOpJIYPbMKGBQOwlgu9zTX6PnlV9GVjFfyr2rXg==",
          "dtype": "f4"
         }
        },
        {
         "line": {
          "cmax": 607840919713266800000,
          "cmin": -595483677853483000,
          "color": {
           "bdata": "AAAAAG28b1v0oCdc9c9oXeiuJV4XT61eSRAZXx/UcV/rt7Bf6LTzX8qrIGDZa0xgcZ98YFFemGAEGLRgZjPRYP1l72DoNAdhW/4WYQLwJmGl7jZhvuBGYdquVmE7RmZhnZN1YbJDgmFhiIlhg5GQYY1Xl2Et1J1h8/+jYX7TqWEKSK9hu1W0YSj2uGGxIb1hIdLAYe8BxGFIrMZh6s3IYcRkymHFcMthH/PLYcXuy2FuaMthPmbKYffvyGGsDcdhy8jEYf8qwmEUU79h1EG8YdDnuGGlTrVheH+xYViDrWHDYalhqCKlYRnNoGEEaJxh7fmXYbKIk2HsGY9hObKKYbNVhmH2B4Jh+pd7Yf9Hc2EbJGthiS5jYfJoW2Fg01Nh72tMYfgvRWF7Gz5huSg3YV9RMGG+jSlhtNUiYSAhHGGTZxVhRaEOYezGB2Fb0gBhBn3zYN4P5WDkWNZg7lbHYLELuGDpe6hgeq6YYJasiGAAAnFg8W5QYPG4L2At+Q5gO4/cX2J0m1/HjzVfbjGqXg==",
           "dtype": "f4"
          },
          "colorscale": [
           [
            0,
            "#440154"
           ],
           [
            0.1111111111111111,
            "#482878"
           ],
           [
            0.2222222222222222,
            "#3e4989"
           ],
           [
            0.3333333333333333,
            "#31688e"
           ],
           [
            0.4444444444444444,
            "#26828e"
           ],
           [
            0.5555555555555556,
            "#1f9e89"
           ],
           [
            0.6666666666666666,
            "#35b779"
           ],
           [
            0.7777777777777778,
            "#6ece58"
           ],
           [
            0.8888888888888888,
            "#b5de2b"
           ],
           [
            1,
            "#fde725"
           ]
          ],
          "showscale": false,
          "width": 4
         },
         "mode": "lines",
         "showlegend": false,
         "type": "scatter3d",
         "x": {
          "bdata": "AAAAALooDiy6KI4sFz3VLLooDi3osjEtFz1VLUbHeC26KI4t0e2fLeiysS0AeMMtFz3VLS4C5y1Gx/gtLkYFLrooDi5GCxcu0e0fLl3QKC7osjEudJU6LgB4Qy6LWkwuFz1VLqMfXi4uAmcuuuRvLkbHeC7p1IAuLkaFLnS3iS66KI4uAJqSLkYLly6LfJsu0e2fLhdfpC5d0Kguo0GtLuiysS4uJLYudJW6LroGvy4AeMMuRunHLotazC7Ry9AuFz3VLl2u2S6hH94u55DiLi0C5y5zc+suuOTvLv5V9C5Ex/guijj9LujUAC+LDQMvLkYFL9B+By90twkvFvALL7ooDi9cYRAv/5kSL6LSFC9FCxcv6EMZL4p8Gy8utR0v0O0fL3QmIi8WXyQvuZcmL1zQKC//CCsvokEtL0V6Ly/osjEvi+szLy4kNi/QXDgvdJU6LxbOPC+5Bj8vXD9BL/93Qy+isEUvRelHL+ghSi+LWkwvLpNOL9DLUC9zBFMvFj1VL7l1Vy9crlkv/+ZbLw==",
          "dtype": "f4"
         },
         "y": {
          "bdata": "yiabP8ommz/KJps/yiabP8ommz/KJps/yiabP8ommz/KJps/yiabP8ommz/KJps/yiabP8ommz/KJps/yiabP8ommz/KJps/yiabP8ommz/KJps/yiabP8ommz/KJps/yiabP8ommz/KJps/yiabP8ommz/KJps/yiabP8ommz/KJps/yiabP8ommz/KJps/yiabP8ommz/KJps/yiabP8ommz/KJps/yiabP8ommz/KJps/yiabP8ommz/KJps/yiabP8ommz/KJps/yiabP8ommz/KJps/yiabP8ommz/KJps/yiabP8ommz/KJps/yiabP8ommz/KJps/yiabP8ommz/KJps/yiabP8ommz/KJps/yiabP8ommz/KJps/yiabP8ommz/KJps/yiabP8ommz/KJps/yiabP8ommz/KJps/yiabP8ommz/KJps/yiabP8ommz/KJps/yiabP8ommz/KJps/yiabP8ommz/KJps/yiabP8ommz/KJps/yiabP8ommz/KJps/yiabPw==",
          "dtype": "f4"
         },
         "z": {
          "bdata": "AAAAAG28b1v0oCdc9c9oXeiuJV4XT61eSRAZXx/UcV/rt7Bf6LTzX8qrIGDZa0xgcZ98YFFemGAEGLRgZjPRYP1l72DoNAdhW/4WYQLwJmGl7jZhvuBGYdquVmE7RmZhnZN1YbJDgmFhiIlhg5GQYY1Xl2Et1J1h8/+jYX7TqWEKSK9hu1W0YSj2uGGxIb1hIdLAYe8BxGFIrMZh6s3IYcRkymHFcMthH/PLYcXuy2FuaMthPmbKYffvyGGsDcdhy8jEYf8qwmEUU79h1EG8YdDnuGGlTrVheH+xYViDrWHDYalhqCKlYRnNoGEEaJxh7fmXYbKIk2HsGY9hObKKYbNVhmH2B4Jh+pd7Yf9Hc2EbJGthiS5jYfJoW2Fg01Nh72tMYfgvRWF7Gz5huSg3YV9RMGG+jSlhtNUiYSAhHGGTZxVhRaEOYezGB2Fb0gBhBn3zYN4P5WDkWNZg7lbHYLELuGDpe6hgeq6YYJasiGAAAnFg8W5QYPG4L2At+Q5gO4/cX2J0m1/HjzVfbjGqXg==",
          "dtype": "f4"
         }
        },
        {
         "line": {
          "cmax": 607840919713266800000,
          "cmin": -595483677853483000,
          "color": {
           "bdata": "AAAAAFP+0FrZ6B9cxHZ4XRgMMl52g7penMckX1g/gl8mgb5foXoDYKiILWAwAl1gzbGIYKgLpWBMPcNgtfTiYLPuAWFV0xJhqQEkYb1UNWG9q0Zh8OdXYQ3taGFPpHlhW/uEYQjpjGHUkZRh4e6bYZ/4omELqalhefmvYYLjtWHEYbth5m3AYSYDxWGrG8lhCbPMYXvFz2HZT9JheVDUYbLG1WGTs9ZhYxnXYcv71mH0X9ZhM0zVYR3I02Fl29Fhqo7PYZnqzGFdEMphz/7GYY+hw2FaAMBhRSK8YV4OuGFDyrNhcFyvYcXKqmGOG6ZhElWhYZB9nGFwm5dhrbSSYTHPjWHW8IhhJR+EYTy+fmGAa3VhME5sYXhtY2GUzlphD3RSYepeSmGFjUJhyvs6YaujM2G2fCxhA30lYauZHmHmxhdh1fgQYfojCmGdPQNhp3j4YBQx6mC6mNtgLqjMYBFcvWBVta1glLidYPJtjWCawHlgKzlYYK1iNmCqWxRg3YTkX2JnoF8GJTlf8WOoXg==",
           "dtype": "f4"
          },
          "colorscale": [
           [
            0,
            "#440154"
           ],
           [
            0.1111111111111111,
            "#482878"
           ],
           [
            0.2222222222222222,
            "#3e4989"
           ],
           [
            0.3333333333333333,
            "#31688e"
           ],
           [
            0.4444444444444444,
            "#26828e"
           ],
           [
            0.5555555555555556,
            "#1f9e89"
           ],
           [
            0.6666666666666666,
            "#35b779"
           ],
           [
            0.7777777777777778,
            "#6ece58"
           ],
           [
            0.8888888888888888,
            "#b5de2b"
           ],
           [
            1,
            "#fde725"
           ]
          ],
          "showscale": false,
          "width": 4
         },
         "mode": "lines",
         "showlegend": false,
         "type": "scatter3d",
         "x": {
          "bdata": "AAAAALooDiy6KI4sFz3VLLooDi3osjEtFz1VLUbHeC26KI4t0e2fLeiysS0AeMMtFz3VLS4C5y1Gx/gtLkYFLrooDi5GCxcu0e0fLl3QKC7osjEudJU6LgB4Qy6LWkwuFz1VLqMfXi4uAmcuuuRvLkbHeC7p1IAuLkaFLnS3iS66KI4uAJqSLkYLly6LfJsu0e2fLhdfpC5d0Kguo0GtLuiysS4uJLYudJW6LroGvy4AeMMuRunHLotazC7Ry9AuFz3VLl2u2S6hH94u55DiLi0C5y5zc+suuOTvLv5V9C5Ex/guijj9LujUAC+LDQMvLkYFL9B+By90twkvFvALL7ooDi9cYRAv/5kSL6LSFC9FCxcv6EMZL4p8Gy8utR0v0O0fL3QmIi8WXyQvuZcmL1zQKC//CCsvokEtL0V6Ly/osjEvi+szLy4kNi/QXDgvdJU6LxbOPC+5Bj8vXD9BL/93Qy+isEUvRelHL+ghSi+LWkwvLpNOL9DLUC9zBFMvFj1VL7l1Vy9crlkv/+ZbLw==",
          "dtype": "f4"
         },
         "y": {
          "bdata": "lgK1P5YCtT+WArU/lgK1P5YCtT+WArU/lgK1P5YCtT+WArU/lgK1P5YCtT+WArU/lgK1P5YCtT+WArU/lgK1P5YCtT+WArU/lgK1P5YCtT+WArU/lgK1P5YCtT+WArU/lgK1P5YCtT+WArU/lgK1P5YCtT+WArU/lgK1P5YCtT+WArU/lgK1P5YCtT+WArU/lgK1P5YCtT+WArU/lgK1P5YCtT+WArU/lgK1P5YCtT+WArU/lgK1P5YCtT+WArU/lgK1P5YCtT+WArU/lgK1P5YCtT+WArU/lgK1P5YCtT+WArU/lgK1P5YCtT+WArU/lgK1P5YCtT+WArU/lgK1P5YCtT+WArU/lgK1P5YCtT+WArU/lgK1P5YCtT+WArU/lgK1P5YCtT+WArU/lgK1P5YCtT+WArU/lgK1P5YCtT+WArU/lgK1P5YCtT+WArU/lgK1P5YCtT+WArU/lgK1P5YCtT+WArU/lgK1P5YCtT+WArU/lgK1P5YCtT+WArU/lgK1P5YCtT+WArU/lgK1Pw==",
          "dtype": "f4"
         },
         "z": {
          "bdata": "AAAAAFP+0FrZ6B9cxHZ4XRgMMl52g7penMckX1g/gl8mgb5foXoDYKiILWAwAl1gzbGIYKgLpWBMPcNgtfTiYLPuAWFV0xJhqQEkYb1UNWG9q0Zh8OdXYQ3taGFPpHlhW/uEYQjpjGHUkZRh4e6bYZ/4omELqalhefmvYYLjtWHEYbth5m3AYSYDxWGrG8lhCbPMYXvFz2HZT9JheVDUYbLG1WGTs9ZhYxnXYcv71mH0X9ZhM0zVYR3I02Fl29Fhqo7PYZnqzGFdEMphz/7GYY+hw2FaAMBhRSK8YV4OuGFDyrNhcFyvYcXKqmGOG6ZhElWhYZB9nGFwm5dhrbSSYTHPjWHW8IhhJR+EYTy+fmGAa3VhME5sYXhtY2GUzlphD3RSYepeSmGFjUJhyvs6YaujM2G2fCxhA30lYauZHmHmxhdh1fgQYfojCmGdPQNhp3j4YBQx6mC6mNtgLqjMYBFcvWBVta1glLidYPJtjWCawHlgKzlYYK1iNmCqWxRg3YTkX2JnoF8GJTlf8WOoXg==",
          "dtype": "f4"
         }
        },
        {
         "line": {
          "cmax": 607840919713266800000,
          "cmin": -595483677853483000,
          "color": {
           "bdata": "AAAAAEKDc9lRfRVcAu2BXVejO15t8cRejxwuX023iV+CkclfqTgLYGnmN2DpZmpgXhiRYAFTr2B2jM9gXWzxYE1LCmEjWRxhy7QuYc40QWHBs1NhfA5mYZckeGGt7YRhLoyNYVLjlWGH6J1hK5SlYS7erGF7wLNhkTS6YZ80wGEPvMVhpsXKYQBOz2G+UNNhEMvWYf+62WESH9xhZvfdYepE32FFCuBhF0vgYSMM4GGGU99hESjeYaCR3GHZl9ph20LYYZGa1WF0v9Jhf6/PYepUzGF9tchhHNbEYaW7wGG6abxh++S3Yb8xs2FBVa5hIVWpYYI3pGEuA59hD7+ZYXNylGENJY9hjd6JYWmmhGFfCH9hDP10YQI3a2EiwGFh0p5YYXnXT2GXakdhdlU/YVGSN2H6FzBh89ooYeLNIWH/4Rph3gcUYU8wDWG6TAZh/J/+YDde8GBcwuFg+b/SYN1Pw2B/cLNgEiWjYJV1kmCzbYFgRzhgYLMjPWD2wRlgUG/sX7hPpV+NyDxf/PimXg==",
           "dtype": "f4"
          },
          "colorscale": [
           [
            0,
            "#440154"
           ],
           [
            0.1111111111111111,
            "#482878"
           ],
           [
            0.2222222222222222,
            "#3e4989"
           ],
           [
            0.3333333333333333,
            "#31688e"
           ],
           [
            0.4444444444444444,
            "#26828e"
           ],
           [
            0.5555555555555556,
            "#1f9e89"
           ],
           [
            0.6666666666666666,
            "#35b779"
           ],
           [
            0.7777777777777778,
            "#6ece58"
           ],
           [
            0.8888888888888888,
            "#b5de2b"
           ],
           [
            1,
            "#fde725"
           ]
          ],
          "showscale": false,
          "width": 4
         },
         "mode": "lines",
         "showlegend": false,
         "type": "scatter3d",
         "x": {
          "bdata": "AAAAALooDiy6KI4sFz3VLLooDi3osjEtFz1VLUbHeC26KI4t0e2fLeiysS0AeMMtFz3VLS4C5y1Gx/gtLkYFLrooDi5GCxcu0e0fLl3QKC7osjEudJU6LgB4Qy6LWkwuFz1VLqMfXi4uAmcuuuRvLkbHeC7p1IAuLkaFLnS3iS66KI4uAJqSLkYLly6LfJsu0e2fLhdfpC5d0Kguo0GtLuiysS4uJLYudJW6LroGvy4AeMMuRunHLotazC7Ry9AuFz3VLl2u2S6hH94u55DiLi0C5y5zc+suuOTvLv5V9C5Ex/guijj9LujUAC+LDQMvLkYFL9B+By90twkvFvALL7ooDi9cYRAv/5kSL6LSFC9FCxcv6EMZL4p8Gy8utR0v0O0fL3QmIi8WXyQvuZcmL1zQKC//CCsvokEtL0V6Ly/osjEvi+szLy4kNi/QXDgvdJU6LxbOPC+5Bj8vXD9BL/93Qy+isEUvRelHL+ghSi+LWkwvLpNOL9DLUC9zBFMvFj1VL7l1Vy9crlkv/+ZbLw==",
          "dtype": "f4"
         },
         "y": {
          "bdata": "Yt7OP2Lezj9i3s4/Yt7OP2Lezj9i3s4/Yt7OP2Lezj9i3s4/Yt7OP2Lezj9i3s4/Yt7OP2Lezj9i3s4/Yt7OP2Lezj9i3s4/Yt7OP2Lezj9i3s4/Yt7OP2Lezj9i3s4/Yt7OP2Lezj9i3s4/Yt7OP2Lezj9i3s4/Yt7OP2Lezj9i3s4/Yt7OP2Lezj9i3s4/Yt7OP2Lezj9i3s4/Yt7OP2Lezj9i3s4/Yt7OP2Lezj9i3s4/Yt7OP2Lezj9i3s4/Yt7OP2Lezj9i3s4/Yt7OP2Lezj9i3s4/Yt7OP2Lezj9i3s4/Yt7OP2Lezj9i3s4/Yt7OP2Lezj9i3s4/Yt7OP2Lezj9i3s4/Yt7OP2Lezj9i3s4/Yt7OP2Lezj9i3s4/Yt7OP2Lezj9i3s4/Yt7OP2Lezj9i3s4/Yt7OP2Lezj9i3s4/Yt7OP2Lezj9i3s4/Yt7OP2Lezj9i3s4/Yt7OP2Lezj9i3s4/Yt7OP2Lezj9i3s4/Yt7OP2Lezj9i3s4/Yt7OP2Lezj9i3s4/Yt7OPw==",
          "dtype": "f4"
         },
         "z": {
          "bdata": "AAAAAEKDc9lRfRVcAu2BXVejO15t8cRejxwuX023iV+CkclfqTgLYGnmN2DpZmpgXhiRYAFTr2B2jM9gXWzxYE1LCmEjWRxhy7QuYc40QWHBs1NhfA5mYZckeGGt7YRhLoyNYVLjlWGH6J1hK5SlYS7erGF7wLNhkTS6YZ80wGEPvMVhpsXKYQBOz2G+UNNhEMvWYf+62WESH9xhZvfdYepE32FFCuBhF0vgYSMM4GGGU99hESjeYaCR3GHZl9ph20LYYZGa1WF0v9Jhf6/PYepUzGF9tchhHNbEYaW7wGG6abxh++S3Yb8xs2FBVa5hIVWpYYI3pGEuA59hD7+ZYXNylGENJY9hjd6JYWmmhGFfCH9hDP10YQI3a2EiwGFh0p5YYXnXT2GXakdhdlU/YVGSN2H6FzBh89ooYeLNIWH/4Rph3gcUYU8wDWG6TAZh/J/+YDde8GBcwuFg+b/SYN1Pw2B/cLNgEiWjYJV1kmCzbYFgRzhgYLMjPWD2wRlgUG/sX7hPpV+NyDxf/PimXg==",
          "dtype": "f4"
         }
        },
        {
         "line": {
          "cmax": 607840919713266800000,
          "cmin": -595483677853483000,
          "color": {
           "bdata": "AAAAAAoa59qp6QpcgCiGXTQgQ14pL81ewYc1Xwasj1/6Z9Jfx2kRYOkyQGDEInVg/9WXYIKVt2AMddlgtRf9YO8NEWE9ESRhn2c3YSvkSmHNXV5h161xYS1YgmGpo4thmKqUYRthnWF1u6VhEbGtYSs5tWFHTbxhu+bCYd3/yGGUlM5hTqDTYZYg2GFCEtxh33PfYetE4mGDheRhcDfmYTld52EG++dh/xXoYQ6052Ff3OZhl5blYeLq42Eg4eFhJIHfYVPS3GHF8tlhWuDWYfeF02GY589hOAjMYZvqx2F8kMNhsPy+YQoyumGKNLVhEwmwYXO1qmGnQKVhO7KfYaASmmEPa5RhF8WOYUIqiWFYpINhqHh8YeL0cWFWy2dh7AVeYearVGG0v0th2T9DYcwmO2GsajNhlP4rYf/SJGFr1h1hRfYWYRcgEGHSQQlhDUsCYYFb9mCxvOdg4ajYYJsVyWAT/7hgZmeoYI5Wl2AP2YVgqf5nYC25Q2BkCx9geD/0X48+ql/pu0Bf6nqmXg==",
           "dtype": "f4"
          },
          "colorscale": [
           [
            0,
            "#440154"
           ],
           [
            0.1111111111111111,
            "#482878"
           ],
           [
            0.2222222222222222,
            "#3e4989"
           ],
           [
            0.3333333333333333,
            "#31688e"
           ],
           [
            0.4444444444444444,
            "#26828e"
           ],
           [
            0.5555555555555556,
            "#1f9e89"
           ],
           [
            0.6666666666666666,
            "#35b779"
           ],
           [
            0.7777777777777778,
            "#6ece58"
           ],
           [
            0.8888888888888888,
            "#b5de2b"
           ],
           [
            1,
            "#fde725"
           ]
          ],
          "showscale": false,
          "width": 4
         },
         "mode": "lines",
         "showlegend": false,
         "type": "scatter3d",
         "x": {
          "bdata": "AAAAALooDiy6KI4sFz3VLLooDi3osjEtFz1VLUbHeC26KI4t0e2fLeiysS0AeMMtFz3VLS4C5y1Gx/gtLkYFLrooDi5GCxcu0e0fLl3QKC7osjEudJU6LgB4Qy6LWkwuFz1VLqMfXi4uAmcuuuRvLkbHeC7p1IAuLkaFLnS3iS66KI4uAJqSLkYLly6LfJsu0e2fLhdfpC5d0Kguo0GtLuiysS4uJLYudJW6LroGvy4AeMMuRunHLotazC7Ry9AuFz3VLl2u2S6hH94u55DiLi0C5y5zc+suuOTvLv5V9C5Ex/guijj9LujUAC+LDQMvLkYFL9B+By90twkvFvALL7ooDi9cYRAv/5kSL6LSFC9FCxcv6EMZL4p8Gy8utR0v0O0fL3QmIi8WXyQvuZcmL1zQKC//CCsvokEtL0V6Ly/osjEvi+szLy4kNi/QXDgvdJU6LxbOPC+5Bj8vXD9BL/93Qy+isEUvRelHL+ghSi+LWkwvLpNOL9DLUC9zBFMvFj1VL7l1Vy9crlkv/+ZbLw==",
          "dtype": "f4"
         },
         "y": {
          "bdata": "LrroPy666D8uuug/LrroPy666D8uuug/LrroPy666D8uuug/LrroPy666D8uuug/LrroPy666D8uuug/LrroPy666D8uuug/LrroPy666D8uuug/LrroPy666D8uuug/LrroPy666D8uuug/LrroPy666D8uuug/LrroPy666D8uuug/LrroPy666D8uuug/LrroPy666D8uuug/LrroPy666D8uuug/LrroPy666D8uuug/LrroPy666D8uuug/LrroPy666D8uuug/LrroPy666D8uuug/LrroPy666D8uuug/LrroPy666D8uuug/LrroPy666D8uuug/LrroPy666D8uuug/LrroPy666D8uuug/LrroPy666D8uuug/LrroPy666D8uuug/LrroPy666D8uuug/LrroPy666D8uuug/LrroPy666D8uuug/LrroPy666D8uuug/LrroPy666D8uuug/LrroPy666D8uuug/LrroPy666D8uuug/LrroPy666D8uuug/LrroPw==",
          "dtype": "f4"
         },
         "z": {
          "bdata": "AAAAAAoa59qp6QpcgCiGXTQgQ14pL81ewYc1Xwasj1/6Z9Jfx2kRYOkyQGDEInVg/9WXYIKVt2AMddlgtRf9YO8NEWE9ESRhn2c3YSvkSmHNXV5h161xYS1YgmGpo4thmKqUYRthnWF1u6VhEbGtYSs5tWFHTbxhu+bCYd3/yGGUlM5hTqDTYZYg2GFCEtxh33PfYetE4mGDheRhcDfmYTld52EG++dh/xXoYQ6052Ff3OZhl5blYeLq42Eg4eFhJIHfYVPS3GHF8tlhWuDWYfeF02GY589hOAjMYZvqx2F8kMNhsPy+YQoyumGKNLVhEwmwYXO1qmGnQKVhO7KfYaASmmEPa5RhF8WOYUIqiWFYpINhqHh8YeL0cWFWy2dh7AVeYearVGG0v0th2T9DYcwmO2GsajNhlP4rYf/SJGFr1h1hRfYWYRcgEGHSQQlhDUsCYYFb9mCxvOdg4ajYYJsVyWAT/7hgZmeoYI5Wl2AP2YVgqf5nYC25Q2BkCx9geD/0X48+ql/pu0Bf6nqmXg==",
          "dtype": "f4"
         }
        },
        {
         "line": {
          "cmax": 607840919713266800000,
          "cmin": -595483677853483000,
          "color": {
           "bdata": "AAAAAIznQduOPQJctX2JXSYOSV6VttNeSmo7X+ZllF/Catlf51IWYIPHRmCjpX1gry6dYIwjvmDeU+Fgwi8DYX9wFmFhOiph8Vw+YbGoUmHH8WZhxA57YXRsh2HEF5FhMXmaYaWDo2FHKqxhlGO0YfslvGFyasNhACrKYc5e0GH2BNZhSRjbYe2W32GHfuNhs87mYSKI6WE3rOthLD7tYe5B7mEHve5h9bXuYdEz7mHNPu1hUN/rYQ0e6mEiA+hhUZblYaje4mEz999hFd7cYf5/2WFq39Vhu/3RYevbzWETeslhc9nEYWr7v2H/4rphJJS1YV0UsGGoaqphBJ+kYbu6nmFDyJhhsNKSYUnljGG+C4dh81CBYQF+d2FZvWxh4GxiYWaWWGEjPk9hwWNGYQMCPmG8DjZh0XsuYQ84J2G4LyBhnE0ZYXJ8EmFHpwthwroEYWJM+2Aut+xg/aDdYCb8zWCIwr1g4vSsYKeam2CswIlgx/BuYFetSWDF5CNgsoz7XzwAr1+r8ERfeDanXg==",
           "dtype": "f4"
          },
          "colorscale": [
           [
            0,
            "#440154"
           ],
           [
            0.1111111111111111,
            "#482878"
           ],
           [
            0.2222222222222222,
            "#3e4989"
           ],
           [
            0.3333333333333333,
            "#31688e"
           ],
           [
            0.4444444444444444,
            "#26828e"
           ],
           [
            0.5555555555555556,
            "#1f9e89"
           ],
           [
            0.6666666666666666,
            "#35b779"
           ],
           [
            0.7777777777777778,
            "#6ece58"
           ],
           [
            0.8888888888888888,
            "#b5de2b"
           ],
           [
            1,
            "#fde725"
           ]
          ],
          "showscale": false,
          "width": 4
         },
         "mode": "lines",
         "showlegend": false,
         "type": "scatter3d",
         "x": {
          "bdata": "AAAAALooDiy6KI4sFz3VLLooDi3osjEtFz1VLUbHeC26KI4t0e2fLeiysS0AeMMtFz3VLS4C5y1Gx/gtLkYFLrooDi5GCxcu0e0fLl3QKC7osjEudJU6LgB4Qy6LWkwuFz1VLqMfXi4uAmcuuuRvLkbHeC7p1IAuLkaFLnS3iS66KI4uAJqSLkYLly6LfJsu0e2fLhdfpC5d0Kguo0GtLuiysS4uJLYudJW6LroGvy4AeMMuRunHLotazC7Ry9AuFz3VLl2u2S6hH94u55DiLi0C5y5zc+suuOTvLv5V9C5Ex/guijj9LujUAC+LDQMvLkYFL9B+By90twkvFvALL7ooDi9cYRAv/5kSL6LSFC9FCxcv6EMZL4p8Gy8utR0v0O0fL3QmIi8WXyQvuZcmL1zQKC//CCsvokEtL0V6Ly/osjEvi+szLy4kNi/QXDgvdJU6LxbOPC+5Bj8vXD9BL/93Qy+isEUvRelHL+ghSi+LWkwvLpNOL9DLUC9zBFMvFj1VL7l1Vy9crlkv/+ZbLw==",
          "dtype": "f4"
         },
         "y": {
          "bdata": "/UoBQP1KAUD9SgFA/UoBQP1KAUD9SgFA/UoBQP1KAUD9SgFA/UoBQP1KAUD9SgFA/UoBQP1KAUD9SgFA/UoBQP1KAUD9SgFA/UoBQP1KAUD9SgFA/UoBQP1KAUD9SgFA/UoBQP1KAUD9SgFA/UoBQP1KAUD9SgFA/UoBQP1KAUD9SgFA/UoBQP1KAUD9SgFA/UoBQP1KAUD9SgFA/UoBQP1KAUD9SgFA/UoBQP1KAUD9SgFA/UoBQP1KAUD9SgFA/UoBQP1KAUD9SgFA/UoBQP1KAUD9SgFA/UoBQP1KAUD9SgFA/UoBQP1KAUD9SgFA/UoBQP1KAUD9SgFA/UoBQP1KAUD9SgFA/UoBQP1KAUD9SgFA/UoBQP1KAUD9SgFA/UoBQP1KAUD9SgFA/UoBQP1KAUD9SgFA/UoBQP1KAUD9SgFA/UoBQP1KAUD9SgFA/UoBQP1KAUD9SgFA/UoBQP1KAUD9SgFA/UoBQP1KAUD9SgFA/UoBQP1KAUD9SgFA/UoBQP1KAUD9SgFA/UoBQA==",
          "dtype": "f4"
         },
         "z": {
          "bdata": "AAAAAIznQduOPQJctX2JXSYOSV6VttNeSmo7X+ZllF/Catlf51IWYIPHRmCjpX1gry6dYIwjvmDeU+Fgwi8DYX9wFmFhOiph8Vw+YbGoUmHH8WZhxA57YXRsh2HEF5FhMXmaYaWDo2FHKqxhlGO0YfslvGFyasNhACrKYc5e0GH2BNZhSRjbYe2W32GHfuNhs87mYSKI6WE3rOthLD7tYe5B7mEHve5h9bXuYdEz7mHNPu1hUN/rYQ0e6mEiA+hhUZblYaje4mEz999hFd7cYf5/2WFq39Vhu/3RYevbzWETeslhc9nEYWr7v2H/4rphJJS1YV0UsGGoaqphBJ+kYbu6nmFDyJhhsNKSYUnljGG+C4dh81CBYQF+d2FZvWxh4GxiYWaWWGEjPk9hwWNGYQMCPmG8DjZh0XsuYQ84J2G4LyBhnE0ZYXJ8EmFHpwthwroEYWJM+2Aut+xg/aDdYCb8zWCIwr1g4vSsYKeam2CswIlgx/BuYFetSWDF5CNgsoz7XzwAr1+r8ERfeDanXg==",
          "dtype": "f4"
         }
        },
        {
         "line": {
          "cmax": 607840919713266800000,
          "cmin": -595483677853483000,
          "color": {
           "bdata": "AAAAAOI9etu8eflbaFmMXdrdTV6s7dhefRZAX9EimF/A8d5fmC8aYMjxS2CdKIJgHl6hYDxEw2CIe+dg3dAGYUinGmG9DS9hG9JDYQbDWGGjsm1hwjqBYWBxi2HGa5VhyhifYU9qqGGNUrFhKce5Yci9wWHkLslh9BLQYQFk1mEPHtxhFj3hYY+/5WGxo+lh2ensYYOT72Eso/FhEx3zYVkG9GGiZfRhiUL0YTCl82GwlvJhICDxYb5K72H5Hu1hjqTqYWfi52Gd8ORh0M3hYb5o3mHAwtph+tvWYR200mHrSc5hYZ3JYbauxGHrf79hTxS6YetwtGGmnK5hv5+oYRKEomH5VJxhpB6WYa/tj2FEz4lh0c+DYdb1e2GjtXBhc+5lYW+sW2Fv9VFhTcpIYWYmQGFu/zdh1UYwYTjqKGFd1CFhIe4aYSUgFGEnUw1hfHEGYWXQ/mBcTvBgNUThYBGh0WA8XMFgm3SwYGrwnmDr24xgWJF0YEqYTmCe/CdgkfAAYNBLs19gLElfcC+pXg==",
           "dtype": "f4"
          },
          "colorscale": [
           [
            0,
            "#440154"
           ],
           [
            0.1111111111111111,
            "#482878"
           ],
           [
            0.2222222222222222,
            "#3e4989"
           ],
           [
            0.3333333333333333,
            "#31688e"
           ],
           [
            0.4444444444444444,
            "#26828e"
           ],
           [
            0.5555555555555556,
            "#1f9e89"
           ],
           [
            0.6666666666666666,
            "#35b779"
           ],
           [
            0.7777777777777778,
            "#6ece58"
           ],
           [
            0.8888888888888888,
            "#b5de2b"
           ],
           [
            1,
            "#fde725"
           ]
          ],
          "showscale": false,
          "width": 4
         },
         "mode": "lines",
         "showlegend": false,
         "type": "scatter3d",
         "x": {
          "bdata": "AAAAALooDiy6KI4sFz3VLLooDi3osjEtFz1VLUbHeC26KI4t0e2fLeiysS0AeMMtFz3VLS4C5y1Gx/gtLkYFLrooDi5GCxcu0e0fLl3QKC7osjEudJU6LgB4Qy6LWkwuFz1VLqMfXi4uAmcuuuRvLkbHeC7p1IAuLkaFLnS3iS66KI4uAJqSLkYLly6LfJsu0e2fLhdfpC5d0Kguo0GtLuiysS4uJLYudJW6LroGvy4AeMMuRunHLotazC7Ry9AuFz3VLl2u2S6hH94u55DiLi0C5y5zc+suuOTvLv5V9C5Ex/guijj9LujUAC+LDQMvLkYFL9B+By90twkvFvALL7ooDi9cYRAv/5kSL6LSFC9FCxcv6EMZL4p8Gy8utR0v0O0fL3QmIi8WXyQvuZcmL1zQKC//CCsvokEtL0V6Ly/osjEvi+szLy4kNi/QXDgvdJU6LxbOPC+5Bj8vXD9BL/93Qy+isEUvRelHL+ghSi+LWkwvLpNOL9DLUC9zBFMvFj1VL7l1Vy9crlkv/+ZbLw==",
          "dtype": "f4"
         },
         "y": {
          "bdata": "4zgOQOM4DkDjOA5A4zgOQOM4DkDjOA5A4zgOQOM4DkDjOA5A4zgOQOM4DkDjOA5A4zgOQOM4DkDjOA5A4zgOQOM4DkDjOA5A4zgOQOM4DkDjOA5A4zgOQOM4DkDjOA5A4zgOQOM4DkDjOA5A4zgOQOM4DkDjOA5A4zgOQOM4DkDjOA5A4zgOQOM4DkDjOA5A4zgOQOM4DkDjOA5A4zgOQOM4DkDjOA5A4zgOQOM4DkDjOA5A4zgOQOM4DkDjOA5A4zgOQOM4DkDjOA5A4zgOQOM4DkDjOA5A4zgOQOM4DkDjOA5A4zgOQOM4DkDjOA5A4zgOQOM4DkDjOA5A4zgOQOM4DkDjOA5A4zgOQOM4DkDjOA5A4zgOQOM4DkDjOA5A4zgOQOM4DkDjOA5A4zgOQOM4DkDjOA5A4zgOQOM4DkDjOA5A4zgOQOM4DkDjOA5A4zgOQOM4DkDjOA5A4zgOQOM4DkDjOA5A4zgOQOM4DkDjOA5A4zgOQOM4DkDjOA5A4zgOQOM4DkDjOA5A4zgOQA==",
          "dtype": "f4"
         },
         "z": {
          "bdata": "AAAAAOI9etu8eflbaFmMXdrdTV6s7dhefRZAX9EimF/A8d5fmC8aYMjxS2CdKIJgHl6hYDxEw2CIe+dg3dAGYUinGmG9DS9hG9JDYQbDWGGjsm1hwjqBYWBxi2HGa5VhyhifYU9qqGGNUrFhKce5Yci9wWHkLslh9BLQYQFk1mEPHtxhFj3hYY+/5WGxo+lh2ensYYOT72Eso/FhEx3zYVkG9GGiZfRhiUL0YTCl82GwlvJhICDxYb5K72H5Hu1hjqTqYWfi52Gd8ORh0M3hYb5o3mHAwtph+tvWYR200mHrSc5hYZ3JYbauxGHrf79hTxS6YetwtGGmnK5hv5+oYRKEomH5VJxhpB6WYa/tj2FEz4lh0c+DYdb1e2GjtXBhc+5lYW+sW2Fv9VFhTcpIYWYmQGFu/zdh1UYwYTjqKGFd1CFhIe4aYSUgFGEnUw1hfHEGYWXQ/mBcTvBgNUThYBGh0WA8XMFgm3SwYGrwnmDr24xgWJF0YEqYTmCe/CdgkfAAYNBLs19gLElfcC+pXg==",
          "dtype": "f4"
         }
        },
        {
         "line": {
          "cmax": 607840919713266800000,
          "cmin": -595483677853483000,
          "color": {
           "bdata": "AAAAAHAzj9sfQfZbdRGPXXDvUV4GLt1eftVDX/wZm1/PS+NfgDUdYO73T2A9v4RgAJukYCQ5x2DhOOxgOpsJYevjHWEhwjJhpQJIYcpyXWFf43JhvxOEYVqKjmFYw5hhxayiYb43rGG3VbVhqPu9YaQexmGEts1hcrvUYRwn22Fi9eBhQSLmYV+s6mE8ku5hrdTxYdB19GG9ePZhieL3YSa5+GENBPlhu8v4YRIZ+GHe9fZh32v1YbOE82EnSfFhDMHuYVfz62G99ehhQ8flYZVY4mFmqt5hB7zaYUGM1mH4GNJhPWHNYWJkyGG1I8Nh06G9YVvjt2EF77FhE82rYaeHpWGaKp9h08KYYctdkmGhCYxh4tOFYVuSf2HB6XNhar9oYUEhXmG2FlRhzqFKYbq+QWGdYzlh4oExYccGKmFb3CJhZuobYT4YFWEkTQ5hwHEHYXlxAGEIdfJgzn3jYHDp02COrMNgr8OyYEMzoWAdBo9gwpl4YCg5UmBdGitgmXADYEjftl/1JE1fmCysXg==",
           "dtype": "f4"
          },
          "colorscale": [
           [
            0,
            "#440154"
           ],
           [
            0.1111111111111111,
            "#482878"
           ],
           [
            0.2222222222222222,
            "#3e4989"
           ],
           [
            0.3333333333333333,
            "#31688e"
           ],
           [
            0.4444444444444444,
            "#26828e"
           ],
           [
            0.5555555555555556,
            "#1f9e89"
           ],
           [
            0.6666666666666666,
            "#35b779"
           ],
           [
            0.7777777777777778,
            "#6ece58"
           ],
           [
            0.8888888888888888,
            "#b5de2b"
           ],
           [
            1,
            "#fde725"
           ]
          ],
          "showscale": false,
          "width": 4
         },
         "mode": "lines",
         "showlegend": false,
         "type": "scatter3d",
         "x": {
          "bdata": "AAAAALooDiy6KI4sFz3VLLooDi3osjEtFz1VLUbHeC26KI4t0e2fLeiysS0AeMMtFz3VLS4C5y1Gx/gtLkYFLrooDi5GCxcu0e0fLl3QKC7osjEudJU6LgB4Qy6LWkwuFz1VLqMfXi4uAmcuuuRvLkbHeC7p1IAuLkaFLnS3iS66KI4uAJqSLkYLly6LfJsu0e2fLhdfpC5d0Kguo0GtLuiysS4uJLYudJW6LroGvy4AeMMuRunHLotazC7Ry9AuFz3VLl2u2S6hH94u55DiLi0C5y5zc+suuOTvLv5V9C5Ex/guijj9LujUAC+LDQMvLkYFL9B+By90twkvFvALL7ooDi9cYRAv/5kSL6LSFC9FCxcv6EMZL4p8Gy8utR0v0O0fL3QmIi8WXyQvuZcmL1zQKC//CCsvokEtL0V6Ly/osjEvi+szLy4kNi/QXDgvdJU6LxbOPC+5Bj8vXD9BL/93Qy+isEUvRelHL+ghSi+LWkwvLpNOL9DLUC9zBFMvFj1VL7l1Vy9crlkv/+ZbLw==",
          "dtype": "f4"
         },
         "y": {
          "bdata": "yiYbQMomG0DKJhtAyiYbQMomG0DKJhtAyiYbQMomG0DKJhtAyiYbQMomG0DKJhtAyiYbQMomG0DKJhtAyiYbQMomG0DKJhtAyiYbQMomG0DKJhtAyiYbQMomG0DKJhtAyiYbQMomG0DKJhtAyiYbQMomG0DKJhtAyiYbQMomG0DKJhtAyiYbQMomG0DKJhtAyiYbQMomG0DKJhtAyiYbQMomG0DKJhtAyiYbQMomG0DKJhtAyiYbQMomG0DKJhtAyiYbQMomG0DKJhtAyiYbQMomG0DKJhtAyiYbQMomG0DKJhtAyiYbQMomG0DKJhtAyiYbQMomG0DKJhtAyiYbQMomG0DKJhtAyiYbQMomG0DKJhtAyiYbQMomG0DKJhtAyiYbQMomG0DKJhtAyiYbQMomG0DKJhtAyiYbQMomG0DKJhtAyiYbQMomG0DKJhtAyiYbQMomG0DKJhtAyiYbQMomG0DKJhtAyiYbQMomG0DKJhtAyiYbQMomG0DKJhtAyiYbQMomG0DKJhtAyiYbQA==",
          "dtype": "f4"
         },
         "z": {
          "bdata": "AAAAAHAzj9sfQfZbdRGPXXDvUV4GLt1eftVDX/wZm1/PS+NfgDUdYO73T2A9v4RgAJukYCQ5x2DhOOxgOpsJYevjHWEhwjJhpQJIYcpyXWFf43JhvxOEYVqKjmFYw5hhxayiYb43rGG3VbVhqPu9YaQexmGEts1hcrvUYRwn22Fi9eBhQSLmYV+s6mE8ku5hrdTxYdB19GG9ePZhieL3YSa5+GENBPlhu8v4YRIZ+GHe9fZh32v1YbOE82EnSfFhDMHuYVfz62G99ehhQ8flYZVY4mFmqt5hB7zaYUGM1mH4GNJhPWHNYWJkyGG1I8Nh06G9YVvjt2EF77FhE82rYaeHpWGaKp9h08KYYctdkmGhCYxh4tOFYVuSf2HB6XNhar9oYUEhXmG2FlRhzqFKYbq+QWGdYzlh4oExYccGKmFb3CJhZuobYT4YFWEkTQ5hwHEHYXlxAGEIdfJgzn3jYHDp02COrMNgr8OyYEMzoWAdBo9gwpl4YCg5UmBdGitgmXADYEjftl/1JE1fmCysXg==",
          "dtype": "f4"
         }
        },
        {
         "line": {
          "cmax": 607840919713266800000,
          "cmin": -595483677853483000,
          "color": {
           "bdata": "AAAAAHGAmNsfzvtbGvCRXZaYVV7Qx+BezuhGXw59nV/Iv+Zf95QfYHsZU2ALv4ZgShenYJQ+ymAq0+9gJ7gLYVJVIGEKjDVhTShLYaH2YGHjxnZhmDWGYQ7ckGEhRJthTlulYTUSr2G5WbhhWCbBYapsyWEkJNFhl0TYYXPH3mF4qORhk+PpYWN37mGgYvJhWKb1YfJE+GH2Qfph+KL7YV1u/GE8rPxhjmX8YbSj+2EHcfphrNf4YZ/h9mHvl/RhoQLyYawo72FXHuxhAePoYbxo5WH3r+FhpLfdYR5+2WHjANVhcj7QYZs1y2ET58VhDFXAYbODumF6ebRhej6uYc7cp2F1YKFhldaaYQlNlGFz0o1h+XSHYdtBgWFQinZhlRBrYdslYGHO0lVhsxpMYbL6QmG9aTph1lkyYY24KmEAcCNhxGccYceGFWGWsw5h/NUHYV3YAGFsT/NgqGnkYAjp1GCDv8RgN+ezYDNiomA0OZBgOfZ6YAl3VGDHIi1guysFYMGLuV/Ck1Bf6c+vXg==",
           "dtype": "f4"
          },
          "colorscale": [
           [
            0,
            "#440154"
           ],
           [
            0.1111111111111111,
            "#482878"
           ],
           [
            0.2222222222222222,
            "#3e4989"
           ],
           [
            0.3333333333333333,
            "#31688e"
           ],
           [
            0.4444444444444444,
            "#26828e"
           ],
           [
            0.5555555555555556,
            "#1f9e89"
           ],
           [
            0.6666666666666666,
            "#35b779"
           ],
           [
            0.7777777777777778,
            "#6ece58"
           ],
           [
            0.8888888888888888,
            "#b5de2b"
           ],
           [
            1,
            "#fde725"
           ]
          ],
          "showscale": false,
          "width": 4
         },
         "mode": "lines",
         "showlegend": false,
         "type": "scatter3d",
         "x": {
          "bdata": "AAAAALooDiy6KI4sFz3VLLooDi3osjEtFz1VLUbHeC26KI4t0e2fLeiysS0AeMMtFz3VLS4C5y1Gx/gtLkYFLrooDi5GCxcu0e0fLl3QKC7osjEudJU6LgB4Qy6LWkwuFz1VLqMfXi4uAmcuuuRvLkbHeC7p1IAuLkaFLnS3iS66KI4uAJqSLkYLly6LfJsu0e2fLhdfpC5d0Kguo0GtLuiysS4uJLYudJW6LroGvy4AeMMuRunHLotazC7Ry9AuFz3VLl2u2S6hH94u55DiLi0C5y5zc+suuOTvLv5V9C5Ex/guijj9LujUAC+LDQMvLkYFL9B+By90twkvFvALL7ooDi9cYRAv/5kSL6LSFC9FCxcv6EMZL4p8Gy8utR0v0O0fL3QmIi8WXyQvuZcmL1zQKC//CCsvokEtL0V6Ly/osjEvi+szLy4kNi/QXDgvdJU6LxbOPC+5Bj8vXD9BL/93Qy+isEUvRelHL+ghSi+LWkwvLpNOL9DLUC9zBFMvFj1VL7l1Vy9crlkv/+ZbLw==",
          "dtype": "f4"
         },
         "y": {
          "bdata": "sBQoQLAUKECwFChAsBQoQLAUKECwFChAsBQoQLAUKECwFChAsBQoQLAUKECwFChAsBQoQLAUKECwFChAsBQoQLAUKECwFChAsBQoQLAUKECwFChAsBQoQLAUKECwFChAsBQoQLAUKECwFChAsBQoQLAUKECwFChAsBQoQLAUKECwFChAsBQoQLAUKECwFChAsBQoQLAUKECwFChAsBQoQLAUKECwFChAsBQoQLAUKECwFChAsBQoQLAUKECwFChAsBQoQLAUKECwFChAsBQoQLAUKECwFChAsBQoQLAUKECwFChAsBQoQLAUKECwFChAsBQoQLAUKECwFChAsBQoQLAUKECwFChAsBQoQLAUKECwFChAsBQoQLAUKECwFChAsBQoQLAUKECwFChAsBQoQLAUKECwFChAsBQoQLAUKECwFChAsBQoQLAUKECwFChAsBQoQLAUKECwFChAsBQoQLAUKECwFChAsBQoQLAUKECwFChAsBQoQLAUKECwFChAsBQoQLAUKECwFChAsBQoQA==",
          "dtype": "f4"
         },
         "z": {
          "bdata": "AAAAAHGAmNsfzvtbGvCRXZaYVV7Qx+BezuhGXw59nV/Iv+Zf95QfYHsZU2ALv4ZgShenYJQ+ymAq0+9gJ7gLYVJVIGEKjDVhTShLYaH2YGHjxnZhmDWGYQ7ckGEhRJthTlulYTUSr2G5WbhhWCbBYapsyWEkJNFhl0TYYXPH3mF4qORhk+PpYWN37mGgYvJhWKb1YfJE+GH2Qfph+KL7YV1u/GE8rPxhjmX8YbSj+2EHcfphrNf4YZ/h9mHvl/RhoQLyYawo72FXHuxhAePoYbxo5WH3r+FhpLfdYR5+2WHjANVhcj7QYZs1y2ET58VhDFXAYbODumF6ebRhej6uYc7cp2F1YKFhldaaYQlNlGFz0o1h+XSHYdtBgWFQinZhlRBrYdslYGHO0lVhsxpMYbL6QmG9aTph1lkyYY24KmEAcCNhxGccYceGFWGWsw5h/NUHYV3YAGFsT/NgqGnkYAjp1GCDv8RgN+ezYDNiomA0OZBgOfZ6YAl3VGDHIi1guysFYMGLuV/Ck1Bf6c+vXg==",
          "dtype": "f4"
         }
        },
        {
         "line": {
          "cmax": 607840919713266800000,
          "cmin": -595483677853483000,
          "color": {
           "bdata": "AAAAAD5TmtvgewVcjTeVXRglWV48AeRerolJXzd3n1+Mi+lfQHghYCCOVWClS4hgTP+oYGSKzGCGivJgE00NYYAmImEFnDdhJnlNYdWJY2FdnXlhocKHYbiKkmHzE51he0unYaAhsWHthrphlm/DYe3Py2Ewn9Nh89TaYYRq4WF0W+dhrqPsYc9B8WGONPVhEX34Yesd+2G6Gv1hTnn+YUZA/2Hnd/9heCn/YY5e/mG4If1haH37Ycd7+WEXJvdhi4T0YU6e8WH7hu5hOT7rYfG252GZ8eNhPu3fYUWo22EYINdhHFPSYd0/zWHc5sdh4EnCYdRsvGHRVbZhmAywYQabqWHnDKNhPG+cYdvPlWFoPY9hKMaIYY53gmH1u3hhbwZtYbneYWGOTldhQFpNYRoARGEbODthYPUyYV4mK2H9tSNhaYwcYe6QFWFCqg5hCsAHYUe8AGG9FvNglzrkYLXL1GDCucRgavyzYC2TomBDhJBgWbh7YLNYVWDpEy5ghxkGYGM4u1+uQFNfga+zXg==",
           "dtype": "f4"
          },
          "colorscale": [
           [
            0,
            "#440154"
           ],
           [
            0.1111111111111111,
            "#482878"
           ],
           [
            0.2222222222222222,
            "#3e4989"
           ],
           [
            0.3333333333333333,
            "#31688e"
           ],
           [
            0.4444444444444444,
            "#26828e"
           ],
           [
            0.5555555555555556,
            "#1f9e89"
           ],
           [
            0.6666666666666666,
            "#35b779"
           ],
           [
            0.7777777777777778,
            "#6ece58"
           ],
           [
            0.8888888888888888,
            "#b5de2b"
           ],
           [
            1,
            "#fde725"
           ]
          ],
          "showscale": false,
          "width": 4
         },
         "mode": "lines",
         "showlegend": false,
         "type": "scatter3d",
         "x": {
          "bdata": "AAAAALooDiy6KI4sFz3VLLooDi3osjEtFz1VLUbHeC26KI4t0e2fLeiysS0AeMMtFz3VLS4C5y1Gx/gtLkYFLrooDi5GCxcu0e0fLl3QKC7osjEudJU6LgB4Qy6LWkwuFz1VLqMfXi4uAmcuuuRvLkbHeC7p1IAuLkaFLnS3iS66KI4uAJqSLkYLly6LfJsu0e2fLhdfpC5d0Kguo0GtLuiysS4uJLYudJW6LroGvy4AeMMuRunHLotazC7Ry9AuFz3VLl2u2S6hH94u55DiLi0C5y5zc+suuOTvLv5V9C5Ex/guijj9LujUAC+LDQMvLkYFL9B+By90twkvFvALL7ooDi9cYRAv/5kSL6LSFC9FCxcv6EMZL4p8Gy8utR0v0O0fL3QmIi8WXyQvuZcmL1zQKC//CCsvokEtL0V6Ly/osjEvi+szLy4kNi/QXDgvdJU6LxbOPC+5Bj8vXD9BL/93Qy+isEUvRelHL+ghSi+LWkwvLpNOL9DLUC9zBFMvFj1VL7l1Vy9crlkv/+ZbLw==",
          "dtype": "f4"
         },
         "y": {
          "bdata": "lgI1QJYCNUCWAjVAlgI1QJYCNUCWAjVAlgI1QJYCNUCWAjVAlgI1QJYCNUCWAjVAlgI1QJYCNUCWAjVAlgI1QJYCNUCWAjVAlgI1QJYCNUCWAjVAlgI1QJYCNUCWAjVAlgI1QJYCNUCWAjVAlgI1QJYCNUCWAjVAlgI1QJYCNUCWAjVAlgI1QJYCNUCWAjVAlgI1QJYCNUCWAjVAlgI1QJYCNUCWAjVAlgI1QJYCNUCWAjVAlgI1QJYCNUCWAjVAlgI1QJYCNUCWAjVAlgI1QJYCNUCWAjVAlgI1QJYCNUCWAjVAlgI1QJYCNUCWAjVAlgI1QJYCNUCWAjVAlgI1QJYCNUCWAjVAlgI1QJYCNUCWAjVAlgI1QJYCNUCWAjVAlgI1QJYCNUCWAjVAlgI1QJYCNUCWAjVAlgI1QJYCNUCWAjVAlgI1QJYCNUCWAjVAlgI1QJYCNUCWAjVAlgI1QJYCNUCWAjVAlgI1QJYCNUCWAjVAlgI1QJYCNUCWAjVAlgI1QJYCNUCWAjVAlgI1QA==",
          "dtype": "f4"
         },
         "z": {
          "bdata": "AAAAAD5TmtvgewVcjTeVXRglWV48AeRerolJXzd3n1+Mi+lfQHghYCCOVWClS4hgTP+oYGSKzGCGivJgE00NYYAmImEFnDdhJnlNYdWJY2FdnXlhocKHYbiKkmHzE51he0unYaAhsWHthrphlm/DYe3Py2Ewn9Nh89TaYYRq4WF0W+dhrqPsYc9B8WGONPVhEX34Yesd+2G6Gv1hTnn+YUZA/2Hnd/9heCn/YY5e/mG4If1haH37Ycd7+WEXJvdhi4T0YU6e8WH7hu5hOT7rYfG252GZ8eNhPu3fYUWo22EYINdhHFPSYd0/zWHc5sdh4EnCYdRsvGHRVbZhmAywYQabqWHnDKNhPG+cYdvPlWFoPY9hKMaIYY53gmH1u3hhbwZtYbneYWGOTldhQFpNYRoARGEbODthYPUyYV4mK2H9tSNhaYwcYe6QFWFCqg5hCsAHYUe8AGG9FvNglzrkYLXL1GDCucRgavyzYC2TomBDhJBgWbh7YLNYVWDpEy5ghxkGYGM4u1+uQFNfga+zXg==",
          "dtype": "f4"
         }
        },
        {
         "line": {
          "cmax": 607840919713266800000,
          "cmin": -595483677853483000,
          "color": {
           "bdata": "AAAAAJzNldsjNhJcPR+ZXfjTXF6DFOdegudLX3AsoV+d4utftAIjYK2EV2Ajg4lgsniqYLpKzmBGlvRgj3oOYS99I2EXHTlhhSVPYQJiZWGDoXthndqIYVu4k2HKVp5h+qKoYQuNsmFpBbxhOwDFYZ9xzWHeUNVhZJXcYXo442G1Nelh8IjuYcIw82HkK/dhdXv6Yfsh/WETI/9hP0IAYmumAGIrwgBiFZoAYv0yAGJHJP9hjHn9YfBv+2HmEPlhtGT2Yb9y82HgTvBh1/jsYcBj6WGAkOVhgX7hYZss3WGJmNhh4MDTYVGkzmFKQ8lhep/DYX68vWEfoLdhtVGxYavaqmFZRqRhTKGdYeP4lmFrW5Bh29aJYX94g2E5mXphK7puYXNkY2FtolhhWXlOYaLoRGGg6TthwHAzYeNtK2FQzSNhb3gcYZpXFWFgUg5h6VAHYYA9AGH4CPJg0SrjYO7G02Ady8NgzyyzYPnooWAkA5BgJQp7YBj7VGC0/i1ggUAGYMTgu19YB1Vf72i3Xg==",
           "dtype": "f4"
          },
          "colorscale": [
           [
            0,
            "#440154"
           ],
           [
            0.1111111111111111,
            "#482878"
           ],
           [
            0.2222222222222222,
            "#3e4989"
           ],
           [
            0.3333333333333333,
            "#31688e"
           ],
           [
            0.4444444444444444,
            "#26828e"
           ],
           [
            0.5555555555555556,
            "#1f9e89"
           ],
           [
            0.6666666666666666,
            "#35b779"
           ],
           [
            0.7777777777777778,
            "#6ece58"
           ],
           [
            0.8888888888888888,
            "#b5de2b"
           ],
           [
            1,
            "#fde725"
           ]
          ],
          "showscale": false,
          "width": 4
         },
         "mode": "lines",
         "showlegend": false,
         "type": "scatter3d",
         "x": {
          "bdata": "AAAAALooDiy6KI4sFz3VLLooDi3osjEtFz1VLUbHeC26KI4t0e2fLeiysS0AeMMtFz3VLS4C5y1Gx/gtLkYFLrooDi5GCxcu0e0fLl3QKC7osjEudJU6LgB4Qy6LWkwuFz1VLqMfXi4uAmcuuuRvLkbHeC7p1IAuLkaFLnS3iS66KI4uAJqSLkYLly6LfJsu0e2fLhdfpC5d0Kguo0GtLuiysS4uJLYudJW6LroGvy4AeMMuRunHLotazC7Ry9AuFz3VLl2u2S6hH94u55DiLi0C5y5zc+suuOTvLv5V9C5Ex/guijj9LujUAC+LDQMvLkYFL9B+By90twkvFvALL7ooDi9cYRAv/5kSL6LSFC9FCxcv6EMZL4p8Gy8utR0v0O0fL3QmIi8WXyQvuZcmL1zQKC//CCsvokEtL0V6Ly/osjEvi+szLy4kNi/QXDgvdJU6LxbOPC+5Bj8vXD9BL/93Qy+isEUvRelHL+ghSi+LWkwvLpNOL9DLUC9zBFMvFj1VL7l1Vy9crlkv/+ZbLw==",
          "dtype": "f4"
         },
         "y": {
          "bdata": "fPBBQHzwQUB88EFAfPBBQHzwQUB88EFAfPBBQHzwQUB88EFAfPBBQHzwQUB88EFAfPBBQHzwQUB88EFAfPBBQHzwQUB88EFAfPBBQHzwQUB88EFAfPBBQHzwQUB88EFAfPBBQHzwQUB88EFAfPBBQHzwQUB88EFAfPBBQHzwQUB88EFAfPBBQHzwQUB88EFAfPBBQHzwQUB88EFAfPBBQHzwQUB88EFAfPBBQHzwQUB88EFAfPBBQHzwQUB88EFAfPBBQHzwQUB88EFAfPBBQHzwQUB88EFAfPBBQHzwQUB88EFAfPBBQHzwQUB88EFAfPBBQHzwQUB88EFAfPBBQHzwQUB88EFAfPBBQHzwQUB88EFAfPBBQHzwQUB88EFAfPBBQHzwQUB88EFAfPBBQHzwQUB88EFAfPBBQHzwQUB88EFAfPBBQHzwQUB88EFAfPBBQHzwQUB88EFAfPBBQHzwQUB88EFAfPBBQHzwQUB88EFAfPBBQHzwQUB88EFAfPBBQHzwQUB88EFAfPBBQA==",
          "dtype": "f4"
         },
         "z": {
          "bdata": "AAAAAJzNldsjNhJcPR+ZXfjTXF6DFOdegudLX3AsoV+d4utftAIjYK2EV2Ajg4lgsniqYLpKzmBGlvRgj3oOYS99I2EXHTlhhSVPYQJiZWGDoXthndqIYVu4k2HKVp5h+qKoYQuNsmFpBbxhOwDFYZ9xzWHeUNVhZJXcYXo442G1Nelh8IjuYcIw82HkK/dhdXv6Yfsh/WETI/9hP0IAYmumAGIrwgBiFZoAYv0yAGJHJP9hjHn9YfBv+2HmEPlhtGT2Yb9y82HgTvBh1/jsYcBj6WGAkOVhgX7hYZss3WGJmNhh4MDTYVGkzmFKQ8lhep/DYX68vWEfoLdhtVGxYavaqmFZRqRhTKGdYeP4lmFrW5Bh29aJYX94g2E5mXphK7puYXNkY2FtolhhWXlOYaLoRGGg6TthwHAzYeNtK2FQzSNhb3gcYZpXFWFgUg5h6VAHYYA9AGH4CPJg0SrjYO7G02Ady8NgzyyzYPnooWAkA5BgJQp7YBj7VGC0/i1ggUAGYMTgu19YB1Vf72i3Xg==",
          "dtype": "f4"
         }
        },
        {
         "line": {
          "cmax": 607840919713266800000,
          "cmin": -595483677853483000,
          "color": {
           "bdata": "AAAAADLii9taRSRcXM+dXWfUYF4CLupeJidOX9+4ol/A7e1fi1AkYL8iWWDbfYpgJ6KrYG6lz2AhJPZgwVsPYQ95JGHFMzph1FZQYZKtZmG1Bn1hpZmJYVSDlGExLZ9hRISpYap4s2Hb+rxhBP/FYWV5zmFDYdZhN67dYZZZ5GEIX+phfbrvYYJq9GHTbfhhhcX7Ye9z/mFGPgBicvIAYqlZAWLndwFin1EBYnvrAGKpSgBikOj+Ycza/GFfdfphrMD3YU/E9GH0lPFheDLuYYSP6mG0reZhJI3iYUst3mGUjNlhFarUYd2Ez2GJHcph2HXEYTqRvmEndbhhjCiyYTu0q2HpIqVhaYCeYWjZl2GEO5FhErSKYdxPhGGYNXxhGz1wYdfGZGGT3VlhN4dPYU3ERWGGjzxh5N4zYQSkK2HxzCNh1EQcYZj1FGE1yA1h8KUGYbfz/mBuYfBgRHThYPYR0mADJ8JgCKexYKGMoGCw2I5gLCR5YIGJU2BcAS1gbLIFYKWRu18l2FVf4ay6Xg==",
           "dtype": "f4"
          },
          "colorscale": [
           [
            0,
            "#440154"
           ],
           [
            0.1111111111111111,
            "#482878"
           ],
           [
            0.2222222222222222,
            "#3e4989"
           ],
           [
            0.3333333333333333,
            "#31688e"
           ],
           [
            0.4444444444444444,
            "#26828e"
           ],
           [
            0.5555555555555556,
            "#1f9e89"
           ],
           [
            0.6666666666666666,
            "#35b779"
           ],
           [
            0.7777777777777778,
            "#6ece58"
           ],
           [
            0.8888888888888888,
            "#b5de2b"
           ],
           [
            1,
            "#fde725"
           ]
          ],
          "showscale": false,
          "width": 4
         },
         "mode": "lines",
         "showlegend": false,
         "type": "scatter3d",
         "x": {
          "bdata": "AAAAALooDiy6KI4sFz3VLLooDi3osjEtFz1VLUbHeC26KI4t0e2fLeiysS0AeMMtFz3VLS4C5y1Gx/gtLkYFLrooDi5GCxcu0e0fLl3QKC7osjEudJU6LgB4Qy6LWkwuFz1VLqMfXi4uAmcuuuRvLkbHeC7p1IAuLkaFLnS3iS66KI4uAJqSLkYLly6LfJsu0e2fLhdfpC5d0Kguo0GtLuiysS4uJLYudJW6LroGvy4AeMMuRunHLotazC7Ry9AuFz3VLl2u2S6hH94u55DiLi0C5y5zc+suuOTvLv5V9C5Ex/guijj9LujUAC+LDQMvLkYFL9B+By90twkvFvALL7ooDi9cYRAv/5kSL6LSFC9FCxcv6EMZL4p8Gy8utR0v0O0fL3QmIi8WXyQvuZcmL1zQKC//CCsvokEtL0V6Ly/osjEvi+szLy4kNi/QXDgvdJU6LxbOPC+5Bj8vXD9BL/93Qy+isEUvRelHL+ghSi+LWkwvLpNOL9DLUC9zBFMvFj1VL7l1Vy9crlkv/+ZbLw==",
          "dtype": "f4"
         },
         "y": {
          "bdata": "Yt5OQGLeTkBi3k5AYt5OQGLeTkBi3k5AYt5OQGLeTkBi3k5AYt5OQGLeTkBi3k5AYt5OQGLeTkBi3k5AYt5OQGLeTkBi3k5AYt5OQGLeTkBi3k5AYt5OQGLeTkBi3k5AYt5OQGLeTkBi3k5AYt5OQGLeTkBi3k5AYt5OQGLeTkBi3k5AYt5OQGLeTkBi3k5AYt5OQGLeTkBi3k5AYt5OQGLeTkBi3k5AYt5OQGLeTkBi3k5AYt5OQGLeTkBi3k5AYt5OQGLeTkBi3k5AYt5OQGLeTkBi3k5AYt5OQGLeTkBi3k5AYt5OQGLeTkBi3k5AYt5OQGLeTkBi3k5AYt5OQGLeTkBi3k5AYt5OQGLeTkBi3k5AYt5OQGLeTkBi3k5AYt5OQGLeTkBi3k5AYt5OQGLeTkBi3k5AYt5OQGLeTkBi3k5AYt5OQGLeTkBi3k5AYt5OQGLeTkBi3k5AYt5OQGLeTkBi3k5AYt5OQGLeTkBi3k5AYt5OQGLeTkBi3k5AYt5OQGLeTkBi3k5AYt5OQA==",
          "dtype": "f4"
         },
         "z": {
          "bdata": "AAAAADLii9taRSRcXM+dXWfUYF4CLupeJidOX9+4ol/A7e1fi1AkYL8iWWDbfYpgJ6KrYG6lz2AhJPZgwVsPYQ95JGHFMzph1FZQYZKtZmG1Bn1hpZmJYVSDlGExLZ9hRISpYap4s2Hb+rxhBP/FYWV5zmFDYdZhN67dYZZZ5GEIX+phfbrvYYJq9GHTbfhhhcX7Ye9z/mFGPgBicvIAYqlZAWLndwFin1EBYnvrAGKpSgBikOj+Ycza/GFfdfphrMD3YU/E9GH0lPFheDLuYYSP6mG0reZhJI3iYUst3mGUjNlhFarUYd2Ez2GJHcph2HXEYTqRvmEndbhhjCiyYTu0q2HpIqVhaYCeYWjZl2GEO5FhErSKYdxPhGGYNXxhGz1wYdfGZGGT3VlhN4dPYU3ERWGGjzxh5N4zYQSkK2HxzCNh1EQcYZj1FGE1yA1h8KUGYbfz/mBuYfBgRHThYPYR0mADJ8JgCKexYKGMoGCw2I5gLCR5YIGJU2BcAS1gbLIFYKWRu18l2FVf4ay6Xg==",
          "dtype": "f4"
         }
        },
        {
         "line": {
          "cmax": 607840919713266800000,
          "cmin": -595483677853483000,
          "color": {
           "bdata": "AAAAAGC7etssoztcsl2jXZlEZV4NbO1evGJQXywxpF96y+9fJXclYECFWmCxTotgvJOsYFi40GCIWPdgdAYQYcgzJWHF/TphKS9RYQ+TZ2EH+H1hgheKYa0FlWFQs59hiQ2qYYkEtGH3iL1hII/GYXoLz2GM9dZhKkXeYdTz5GFr/eph+F3wYScU9WGxHvlhjn78Yfs1/2EVpABiJV0BYi3JAWLq6wFimMkBYqlmAWIOyABid+X/YTHX/WGGbvth3bP4YeWu9WG/dfJhIQjvYf1X62GwZ+dhPzjjYQzK3mFKHNph4y7VYWwB0GH2lMphXevEYQ8Iv2FJ8LhhdqqyYc8+rGE/t6Vhvx6fYROBmGHo6pFhvmiLYZQGhWGAn31hAJtxYdoPZmHbCFtheYxQYTKcRmENND1hvks0YcvWK2FExSNhXAQcYQaAFGH7Ig1hENgFYRYX/WD8Ve5g+EzfYMnhz2A5AMBgfpqvYDGpnmC7Ko1gd0Z2YGU3UWBxQitg8ogEYPlkul+QtlVfCUS9Xg==",
           "dtype": "f4"
          },
          "colorscale": [
           [
            0,
            "#440154"
           ],
           [
            0.1111111111111111,
            "#482878"
           ],
           [
            0.2222222222222222,
            "#3e4989"
           ],
           [
            0.3333333333333333,
            "#31688e"
           ],
           [
            0.4444444444444444,
            "#26828e"
           ],
           [
            0.5555555555555556,
            "#1f9e89"
           ],
           [
            0.6666666666666666,
            "#35b779"
           ],
           [
            0.7777777777777778,
            "#6ece58"
           ],
           [
            0.8888888888888888,
            "#b5de2b"
           ],
           [
            1,
            "#fde725"
           ]
          ],
          "showscale": false,
          "width": 4
         },
         "mode": "lines",
         "showlegend": false,
         "type": "scatter3d",
         "x": {
          "bdata": "AAAAALooDiy6KI4sFz3VLLooDi3osjEtFz1VLUbHeC26KI4t0e2fLeiysS0AeMMtFz3VLS4C5y1Gx/gtLkYFLrooDi5GCxcu0e0fLl3QKC7osjEudJU6LgB4Qy6LWkwuFz1VLqMfXi4uAmcuuuRvLkbHeC7p1IAuLkaFLnS3iS66KI4uAJqSLkYLly6LfJsu0e2fLhdfpC5d0Kguo0GtLuiysS4uJLYudJW6LroGvy4AeMMuRunHLotazC7Ry9AuFz3VLl2u2S6hH94u55DiLi0C5y5zc+suuOTvLv5V9C5Ex/guijj9LujUAC+LDQMvLkYFL9B+By90twkvFvALL7ooDi9cYRAv/5kSL6LSFC9FCxcv6EMZL4p8Gy8utR0v0O0fL3QmIi8WXyQvuZcmL1zQKC//CCsvokEtL0V6Ly/osjEvi+szLy4kNi/QXDgvdJU6LxbOPC+5Bj8vXD9BL/93Qy+isEUvRelHL+ghSi+LWkwvLpNOL9DLUC9zBFMvFj1VL7l1Vy9crlkv/+ZbLw==",
          "dtype": "f4"
         },
         "y": {
          "bdata": "SMxbQEjMW0BIzFtASMxbQEjMW0BIzFtASMxbQEjMW0BIzFtASMxbQEjMW0BIzFtASMxbQEjMW0BIzFtASMxbQEjMW0BIzFtASMxbQEjMW0BIzFtASMxbQEjMW0BIzFtASMxbQEjMW0BIzFtASMxbQEjMW0BIzFtASMxbQEjMW0BIzFtASMxbQEjMW0BIzFtASMxbQEjMW0BIzFtASMxbQEjMW0BIzFtASMxbQEjMW0BIzFtASMxbQEjMW0BIzFtASMxbQEjMW0BIzFtASMxbQEjMW0BIzFtASMxbQEjMW0BIzFtASMxbQEjMW0BIzFtASMxbQEjMW0BIzFtASMxbQEjMW0BIzFtASMxbQEjMW0BIzFtASMxbQEjMW0BIzFtASMxbQEjMW0BIzFtASMxbQEjMW0BIzFtASMxbQEjMW0BIzFtASMxbQEjMW0BIzFtASMxbQEjMW0BIzFtASMxbQEjMW0BIzFtASMxbQEjMW0BIzFtASMxbQEjMW0BIzFtASMxbQEjMW0BIzFtASMxbQA==",
          "dtype": "f4"
         },
         "z": {
          "bdata": "AAAAAGC7etssoztcsl2jXZlEZV4NbO1evGJQXywxpF96y+9fJXclYECFWmCxTotgvJOsYFi40GCIWPdgdAYQYcgzJWHF/TphKS9RYQ+TZ2EH+H1hgheKYa0FlWFQs59hiQ2qYYkEtGH3iL1hII/GYXoLz2GM9dZhKkXeYdTz5GFr/eph+F3wYScU9WGxHvlhjn78Yfs1/2EVpABiJV0BYi3JAWLq6wFimMkBYqlmAWIOyABid+X/YTHX/WGGbvth3bP4YeWu9WG/dfJhIQjvYf1X62GwZ+dhPzjjYQzK3mFKHNph4y7VYWwB0GH2lMphXevEYQ8Iv2FJ8LhhdqqyYc8+rGE/t6Vhvx6fYROBmGHo6pFhvmiLYZQGhWGAn31hAJtxYdoPZmHbCFtheYxQYTKcRmENND1hvks0YcvWK2FExSNhXAQcYQaAFGH7Ig1hENgFYRYX/WD8Ve5g+EzfYMnhz2A5AMBgfpqvYDGpnmC7Ko1gd0Z2YGU3UWBxQitg8ogEYPlkul+QtlVfCUS9Xg==",
          "dtype": "f4"
         }
        },
        {
         "line": {
          "cmax": 607840919713266800000,
          "cmin": -595483677853483000,
          "color": {
           "bdata": "AAAAAELoVdvdC1hcq82pXfUxal7I3/BexKpSXzSjpV8BkfFf4YUmYFPBW2CmA4xgdl+tYCma0WBMT/hgeYsQYVvBJWGOkjthlslRYWAxaGFUmH5hrWeKYetUlWGsAKBhPliqYfpLtGG0zL1hEM/GYcZHz2G1LtdhDHzeYY8p5WF6M+thCZbwYRFQ9WFMYPlhs8f8YVWI/2GH0gBiXJEBYmQDAmIbLAJiZw8CYnKxAWLdFgFiaEQAYnB9/mGfFPxhq1b5YUtL9mFSCvNhRZPvYRrX62ED2edhA5vjYYYe32HJY9phjWvVYSw20GFIxcph/hrFYdo6v2HWKblhA+6yYeWOrGGjFaZhN4yfYWP9mGHCdJJhz/2LYZ2jhWFy4X5hlNtyYSRFZ2G9KFxhG41RYZV0R2GB3D1hKr40YRAPLGFuwSNht8QbYQYHFGEwdQxh3PsEYaIR+2CYFexgN+XcYN5mzWA6hr1gizStYMponGBEH4tgIbNyYMQ7TmDw7Chgb+ICYOx9uF/RtVRfXw+/Xg==",
           "dtype": "f4"
          },
          "colorscale": [
           [
            0,
            "#440154"
           ],
           [
            0.1111111111111111,
            "#482878"
           ],
           [
            0.2222222222222222,
            "#3e4989"
           ],
           [
            0.3333333333333333,
            "#31688e"
           ],
           [
            0.4444444444444444,
            "#26828e"
           ],
           [
            0.5555555555555556,
            "#1f9e89"
           ],
           [
            0.6666666666666666,
            "#35b779"
           ],
           [
            0.7777777777777778,
            "#6ece58"
           ],
           [
            0.8888888888888888,
            "#b5de2b"
           ],
           [
            1,
            "#fde725"
           ]
          ],
          "showscale": false,
          "width": 4
         },
         "mode": "lines",
         "showlegend": false,
         "type": "scatter3d",
         "x": {
          "bdata": "AAAAALooDiy6KI4sFz3VLLooDi3osjEtFz1VLUbHeC26KI4t0e2fLeiysS0AeMMtFz3VLS4C5y1Gx/gtLkYFLrooDi5GCxcu0e0fLl3QKC7osjEudJU6LgB4Qy6LWkwuFz1VLqMfXi4uAmcuuuRvLkbHeC7p1IAuLkaFLnS3iS66KI4uAJqSLkYLly6LfJsu0e2fLhdfpC5d0Kguo0GtLuiysS4uJLYudJW6LroGvy4AeMMuRunHLotazC7Ry9AuFz3VLl2u2S6hH94u55DiLi0C5y5zc+suuOTvLv5V9C5Ex/guijj9LujUAC+LDQMvLkYFL9B+By90twkvFvALL7ooDi9cYRAv/5kSL6LSFC9FCxcv6EMZL4p8Gy8utR0v0O0fL3QmIi8WXyQvuZcmL1zQKC//CCsvokEtL0V6Ly/osjEvi+szLy4kNi/QXDgvdJU6LxbOPC+5Bj8vXD9BL/93Qy+isEUvRelHL+ghSi+LWkwvLpNOL9DLUC9zBFMvFj1VL7l1Vy9crlkv/+ZbLw==",
          "dtype": "f4"
         },
         "y": {
          "bdata": "LrpoQC66aEAuumhALrpoQC66aEAuumhALrpoQC66aEAuumhALrpoQC66aEAuumhALrpoQC66aEAuumhALrpoQC66aEAuumhALrpoQC66aEAuumhALrpoQC66aEAuumhALrpoQC66aEAuumhALrpoQC66aEAuumhALrpoQC66aEAuumhALrpoQC66aEAuumhALrpoQC66aEAuumhALrpoQC66aEAuumhALrpoQC66aEAuumhALrpoQC66aEAuumhALrpoQC66aEAuumhALrpoQC66aEAuumhALrpoQC66aEAuumhALrpoQC66aEAuumhALrpoQC66aEAuumhALrpoQC66aEAuumhALrpoQC66aEAuumhALrpoQC66aEAuumhALrpoQC66aEAuumhALrpoQC66aEAuumhALrpoQC66aEAuumhALrpoQC66aEAuumhALrpoQC66aEAuumhALrpoQC66aEAuumhALrpoQC66aEAuumhALrpoQC66aEAuumhALrpoQC66aEAuumhALrpoQA==",
          "dtype": "f4"
         },
         "z": {
          "bdata": "AAAAAELoVdvdC1hcq82pXfUxal7I3/BexKpSXzSjpV8BkfFf4YUmYFPBW2CmA4xgdl+tYCma0WBMT/hgeYsQYVvBJWGOkjthlslRYWAxaGFUmH5hrWeKYetUlWGsAKBhPliqYfpLtGG0zL1hEM/GYcZHz2G1LtdhDHzeYY8p5WF6M+thCZbwYRFQ9WFMYPlhs8f8YVWI/2GH0gBiXJEBYmQDAmIbLAJiZw8CYnKxAWLdFgFiaEQAYnB9/mGfFPxhq1b5YUtL9mFSCvNhRZPvYRrX62ED2edhA5vjYYYe32HJY9phjWvVYSw20GFIxcph/hrFYdo6v2HWKblhA+6yYeWOrGGjFaZhN4yfYWP9mGHCdJJhz/2LYZ2jhWFy4X5hlNtyYSRFZ2G9KFxhG41RYZV0R2GB3D1hKr40YRAPLGFuwSNht8QbYQYHFGEwdQxh3PsEYaIR+2CYFexgN+XcYN5mzWA6hr1gizStYMponGBEH4tgIbNyYMQ7TmDw7Chgb+ICYOx9uF/RtVRfXw+/Xg==",
          "dtype": "f4"
         }
        },
        {
         "line": {
          "cmax": 607840919713266800000,
          "cmin": -595483677853483000,
          "color": {
           "bdata": "AAAAAJOHKttCCHlczRKxXe6bb15Wj/RezgdVX0gXp18dTPNfJIcnYLDlXGC3poxgaxKuYIBb0mAjHflgbvcQYeEwJmHyAzxh4zpSYXSgaGHjAn9hhpmKYSWClWE0KKBhG3mqYWdltGE33r1hfdjGYVFJz2H9KNdhDHDeYc4Y5WG2H+thboHwYes89WEcUflh7b78YTqI/2HU1wBiz5wBYoYVAmIgRQJiNC8CYonXAWJsQgFiRHQAYgbj/mHkfPxhNL75YcWu9mEWaPNhdenvYboi7GH+F+hhQczjYQlC32Gketph3HfVYdg60GHixcphghvFYWQ/v2FrNrlhPQazYcy1rGFnTaZhEdafYXZZmWES4pJhSHqMYR4shmFBAYBhUQN0YT1paGF0Pl1h0IlSYVhOSGFzij5hEjk1YZNRLGFXyCNhHY8bYUaWE2HfzAthiSEEYZMH+WByx+lgPmbaYI/LymBN47pgU56qYHXymWA62ohgGKpuYCPNSmC5LCZgRd8AYPYEtl+g9FJfbQXAXg==",
           "dtype": "f4"
          },
          "colorscale": [
           [
            0,
            "#440154"
           ],
           [
            0.1111111111111111,
            "#482878"
           ],
           [
            0.2222222222222222,
            "#3e4989"
           ],
           [
            0.3333333333333333,
            "#31688e"
           ],
           [
            0.4444444444444444,
            "#26828e"
           ],
           [
            0.5555555555555556,
            "#1f9e89"
           ],
           [
            0.6666666666666666,
            "#35b779"
           ],
           [
            0.7777777777777778,
            "#6ece58"
           ],
           [
            0.8888888888888888,
            "#b5de2b"
           ],
           [
            1,
            "#fde725"
           ]
          ],
          "showscale": false,
          "width": 4
         },
         "mode": "lines",
         "showlegend": false,
         "type": "scatter3d",
         "x": {
          "bdata": "AAAAALooDiy6KI4sFz3VLLooDi3osjEtFz1VLUbHeC26KI4t0e2fLeiysS0AeMMtFz3VLS4C5y1Gx/gtLkYFLrooDi5GCxcu0e0fLl3QKC7osjEudJU6LgB4Qy6LWkwuFz1VLqMfXi4uAmcuuuRvLkbHeC7p1IAuLkaFLnS3iS66KI4uAJqSLkYLly6LfJsu0e2fLhdfpC5d0Kguo0GtLuiysS4uJLYudJW6LroGvy4AeMMuRunHLotazC7Ry9AuFz3VLl2u2S6hH94u55DiLi0C5y5zc+suuOTvLv5V9C5Ex/guijj9LujUAC+LDQMvLkYFL9B+By90twkvFvALL7ooDi9cYRAv/5kSL6LSFC9FCxcv6EMZL4p8Gy8utR0v0O0fL3QmIi8WXyQvuZcmL1zQKC//CCsvokEtL0V6Ly/osjEvi+szLy4kNi/QXDgvdJU6LxbOPC+5Bj8vXD9BL/93Qy+isEUvRelHL+ghSi+LWkwvLpNOL9DLUC9zBFMvFj1VL7l1Vy9crlkv/+ZbLw==",
          "dtype": "f4"
         },
         "y": {
          "bdata": "FKh1QBSodUAUqHVAFKh1QBSodUAUqHVAFKh1QBSodUAUqHVAFKh1QBSodUAUqHVAFKh1QBSodUAUqHVAFKh1QBSodUAUqHVAFKh1QBSodUAUqHVAFKh1QBSodUAUqHVAFKh1QBSodUAUqHVAFKh1QBSodUAUqHVAFKh1QBSodUAUqHVAFKh1QBSodUAUqHVAFKh1QBSodUAUqHVAFKh1QBSodUAUqHVAFKh1QBSodUAUqHVAFKh1QBSodUAUqHVAFKh1QBSodUAUqHVAFKh1QBSodUAUqHVAFKh1QBSodUAUqHVAFKh1QBSodUAUqHVAFKh1QBSodUAUqHVAFKh1QBSodUAUqHVAFKh1QBSodUAUqHVAFKh1QBSodUAUqHVAFKh1QBSodUAUqHVAFKh1QBSodUAUqHVAFKh1QBSodUAUqHVAFKh1QBSodUAUqHVAFKh1QBSodUAUqHVAFKh1QBSodUAUqHVAFKh1QBSodUAUqHVAFKh1QBSodUAUqHVAFKh1QBSodUAUqHVAFKh1QA==",
          "dtype": "f4"
         },
         "z": {
          "bdata": "AAAAAJOHKttCCHlczRKxXe6bb15Wj/RezgdVX0gXp18dTPNfJIcnYLDlXGC3poxgaxKuYIBb0mAjHflgbvcQYeEwJmHyAzxh4zpSYXSgaGHjAn9hhpmKYSWClWE0KKBhG3mqYWdltGE33r1hfdjGYVFJz2H9KNdhDHDeYc4Y5WG2H+thboHwYes89WEcUflh7b78YTqI/2HU1wBiz5wBYoYVAmIgRQJiNC8CYonXAWJsQgFiRHQAYgbj/mHkfPxhNL75YcWu9mEWaPNhdenvYboi7GH+F+hhQczjYQlC32Gketph3HfVYdg60GHixcphghvFYWQ/v2FrNrlhPQazYcy1rGFnTaZhEdafYXZZmWES4pJhSHqMYR4shmFBAYBhUQN0YT1paGF0Pl1h0IlSYVhOSGFzij5hEjk1YZNRLGFXyCNhHY8bYUaWE2HfzAthiSEEYZMH+WByx+lgPmbaYI/LymBN47pgU56qYHXymWA62ohgGKpuYCPNSmC5LCZgRd8AYPYEtl+g9FJfbQXAXg==",
          "dtype": "f4"
         }
        },
        {
         "line": {
          "cmax": 607840919713266800000,
          "cmin": -595483677853483000,
          "color": {
           "bdata": "AAAAAEFp89of+45cohO5Xax2dV77d/he3ntXXySRqF90BPVfN4EoYND7XWCNPo1ggbWuYOoH02CX0PlgRlMRYUCNJmHsXjxhaZJSYRnyaGExTH9hsbiKYYWalWGLOKBhT4CqYZBitGG00L1hC8DGYRUmz2GQ+9ZhgDneYaHa5GHk2+phUDrwYSL19GFxC/lhP378YUVP/2F4wABimosBYj0LAmI2QgJivDMCYjfjAWKTVAFi24sAYmUa/2FWufxhV/z5YR7r9mG/oPNhZRzwYbhM7GGuNuhhVt7jYTtH32HOc9ph2GbVYXUi0GGOqcphN//EYT4nv2GNJrlhdgKzYV3BrGHEaqZhyAagYfqdmWG8OZNhTOOMYaSjhmGBg4BhLhR1YUh8aWHtSF5h7oBTYb8nSWHQPD9hc7w1YdCfLGFc3SNhAGkbYWw1E2HiMwthE1UDYaEU92BziudghPHXYN8yyGA1O7hgY/unYINol2DPe4ZgwGVqYGYeR2DUKyNg6z79Xz4ks1/xmFBfSS7AXg==",
           "dtype": "f4"
          },
          "colorscale": [
           [
            0,
            "#440154"
           ],
           [
            0.1111111111111111,
            "#482878"
           ],
           [
            0.2222222222222222,
            "#3e4989"
           ],
           [
            0.3333333333333333,
            "#31688e"
           ],
           [
            0.4444444444444444,
            "#26828e"
           ],
           [
            0.5555555555555556,
            "#1f9e89"
           ],
           [
            0.6666666666666666,
            "#35b779"
           ],
           [
            0.7777777777777778,
            "#6ece58"
           ],
           [
            0.8888888888888888,
            "#b5de2b"
           ],
           [
            1,
            "#fde725"
           ]
          ],
          "showscale": false,
          "width": 4
         },
         "mode": "lines",
         "showlegend": false,
         "type": "scatter3d",
         "x": {
          "bdata": "AAAAALooDiy6KI4sFz3VLLooDi3osjEtFz1VLUbHeC26KI4t0e2fLeiysS0AeMMtFz3VLS4C5y1Gx/gtLkYFLrooDi5GCxcu0e0fLl3QKC7osjEudJU6LgB4Qy6LWkwuFz1VLqMfXi4uAmcuuuRvLkbHeC7p1IAuLkaFLnS3iS66KI4uAJqSLkYLly6LfJsu0e2fLhdfpC5d0Kguo0GtLuiysS4uJLYudJW6LroGvy4AeMMuRunHLotazC7Ry9AuFz3VLl2u2S6hH94u55DiLi0C5y5zc+suuOTvLv5V9C5Ex/guijj9LujUAC+LDQMvLkYFL9B+By90twkvFvALL7ooDi9cYRAv/5kSL6LSFC9FCxcv6EMZL4p8Gy8utR0v0O0fL3QmIi8WXyQvuZcmL1zQKC//CCsvokEtL0V6Ly/osjEvi+szLy4kNi/QXDgvdJU6LxbOPC+5Bj8vXD9BL/93Qy+isEUvRelHL+ghSi+LWkwvLpNOL9DLUC9zBFMvFj1VL7l1Vy9crlkv/+ZbLw==",
          "dtype": "f4"
         },
         "y": {
          "bdata": "/UqBQP1KgUD9SoFA/UqBQP1KgUD9SoFA/UqBQP1KgUD9SoFA/UqBQP1KgUD9SoFA/UqBQP1KgUD9SoFA/UqBQP1KgUD9SoFA/UqBQP1KgUD9SoFA/UqBQP1KgUD9SoFA/UqBQP1KgUD9SoFA/UqBQP1KgUD9SoFA/UqBQP1KgUD9SoFA/UqBQP1KgUD9SoFA/UqBQP1KgUD9SoFA/UqBQP1KgUD9SoFA/UqBQP1KgUD9SoFA/UqBQP1KgUD9SoFA/UqBQP1KgUD9SoFA/UqBQP1KgUD9SoFA/UqBQP1KgUD9SoFA/UqBQP1KgUD9SoFA/UqBQP1KgUD9SoFA/UqBQP1KgUD9SoFA/UqBQP1KgUD9SoFA/UqBQP1KgUD9SoFA/UqBQP1KgUD9SoFA/UqBQP1KgUD9SoFA/UqBQP1KgUD9SoFA/UqBQP1KgUD9SoFA/UqBQP1KgUD9SoFA/UqBQP1KgUD9SoFA/UqBQP1KgUD9SoFA/UqBQP1KgUD9SoFA/UqBQP1KgUD9SoFA/UqBQA==",
          "dtype": "f4"
         },
         "z": {
          "bdata": "AAAAAEFp89of+45cohO5Xax2dV77d/he3ntXXySRqF90BPVfN4EoYND7XWCNPo1ggbWuYOoH02CX0PlgRlMRYUCNJmHsXjxhaZJSYRnyaGExTH9hsbiKYYWalWGLOKBhT4CqYZBitGG00L1hC8DGYRUmz2GQ+9ZhgDneYaHa5GHk2+phUDrwYSL19GFxC/lhP378YUVP/2F4wABimosBYj0LAmI2QgJivDMCYjfjAWKTVAFi24sAYmUa/2FWufxhV/z5YR7r9mG/oPNhZRzwYbhM7GGuNuhhVt7jYTtH32HOc9ph2GbVYXUi0GGOqcphN//EYT4nv2GNJrlhdgKzYV3BrGHEaqZhyAagYfqdmWG8OZNhTOOMYaSjhmGBg4BhLhR1YUh8aWHtSF5h7oBTYb8nSWHQPD9hc7w1YdCfLGFc3SNhAGkbYWw1E2HiMwthE1UDYaEU92BziudghPHXYN8yyGA1O7hgY/unYINol2DPe4ZgwGVqYGYeR2DUKyNg6z79Xz4ks1/xmFBfSS7AXg==",
          "dtype": "f4"
         }
        },
        {
         "line": {
          "cmax": 607840919713266800000,
          "cmin": -595483677853483000,
          "color": {
           "bdata": "AAAAANjFiNplD6Nc7a7BXQ2ve14fkfxesQRaX2gRql8/vfZfj3cpYFsJX2Bbz41gkE6vYB+n02CQc/pgO6URYQjeJmGqrDxh9tpSYRYzaWEHg39hrc2KYbanlWGfPKBhDXqqYfNQtGH/sr1h1pXGYWLvzmHYuNZhxuvdYVuD5GEIfephO9bvYZCO9GFfpfhhsRv8YT7z/mEflwBiHWgBYpLuAWICLQJiQCYCYlbdAWLHVQFiRJMAYi0z/2Ei2fxh0x/6YdYO92GnwvNhNjrwYTJj7GFgQ+hhsN/jYbk832EJXtphXkfVYcX7z2HefsphP9TEYQgAv2EbB7lhju6yYU68rGEwd6ZhZCagYYbRmWHdgJNhjTyNYYkMh2Ge+IBhYQ52YeJ8amGkRV9hQG9UYYn9SWGk8D9hJ0Y2YdT4LGEAASRhq1QbYanoEmFcsAphfZ4CYW1M9WBxdeVgX6DVYCK4xWB9qrVgqWilYH7nlGBTH4RgrxhmYH9cQ2A5ECBgf4H4X60EsF8AzE1fH5+/Xg==",
           "dtype": "f4"
          },
          "colorscale": [
           [
            0,
            "#440154"
           ],
           [
            0.1111111111111111,
            "#482878"
           ],
           [
            0.2222222222222222,
            "#3e4989"
           ],
           [
            0.3333333333333333,
            "#31688e"
           ],
           [
            0.4444444444444444,
            "#26828e"
           ],
           [
            0.5555555555555556,
            "#1f9e89"
           ],
           [
            0.6666666666666666,
            "#35b779"
           ],
           [
            0.7777777777777778,
            "#6ece58"
           ],
           [
            0.8888888888888888,
            "#b5de2b"
           ],
           [
            1,
            "#fde725"
           ]
          ],
          "showscale": false,
          "width": 4
         },
         "mode": "lines",
         "showlegend": false,
         "type": "scatter3d",
         "x": {
          "bdata": "AAAAALooDiy6KI4sFz3VLLooDi3osjEtFz1VLUbHeC26KI4t0e2fLeiysS0AeMMtFz3VLS4C5y1Gx/gtLkYFLrooDi5GCxcu0e0fLl3QKC7osjEudJU6LgB4Qy6LWkwuFz1VLqMfXi4uAmcuuuRvLkbHeC7p1IAuLkaFLnS3iS66KI4uAJqSLkYLly6LfJsu0e2fLhdfpC5d0Kguo0GtLuiysS4uJLYudJW6LroGvy4AeMMuRunHLotazC7Ry9AuFz3VLl2u2S6hH94u55DiLi0C5y5zc+suuOTvLv5V9C5Ex/guijj9LujUAC+LDQMvLkYFL9B+By90twkvFvALL7ooDi9cYRAv/5kSL6LSFC9FCxcv6EMZL4p8Gy8utR0v0O0fL3QmIi8WXyQvuZcmL1zQKC//CCsvokEtL0V6Ly/osjEvi+szLy4kNi/QXDgvdJU6LxbOPC+5Bj8vXD9BL/93Qy+isEUvRelHL+ghSi+LWkwvLpNOL9DLUC9zBFMvFj1VL7l1Vy9crlkv/+ZbLw==",
          "dtype": "f4"
         },
         "y": {
          "bdata": "8MGHQPDBh0DwwYdA8MGHQPDBh0DwwYdA8MGHQPDBh0DwwYdA8MGHQPDBh0DwwYdA8MGHQPDBh0DwwYdA8MGHQPDBh0DwwYdA8MGHQPDBh0DwwYdA8MGHQPDBh0DwwYdA8MGHQPDBh0DwwYdA8MGHQPDBh0DwwYdA8MGHQPDBh0DwwYdA8MGHQPDBh0DwwYdA8MGHQPDBh0DwwYdA8MGHQPDBh0DwwYdA8MGHQPDBh0DwwYdA8MGHQPDBh0DwwYdA8MGHQPDBh0DwwYdA8MGHQPDBh0DwwYdA8MGHQPDBh0DwwYdA8MGHQPDBh0DwwYdA8MGHQPDBh0DwwYdA8MGHQPDBh0DwwYdA8MGHQPDBh0DwwYdA8MGHQPDBh0DwwYdA8MGHQPDBh0DwwYdA8MGHQPDBh0DwwYdA8MGHQPDBh0DwwYdA8MGHQPDBh0DwwYdA8MGHQPDBh0DwwYdA8MGHQPDBh0DwwYdA8MGHQPDBh0DwwYdA8MGHQPDBh0DwwYdA8MGHQPDBh0DwwYdA8MGHQA==",
          "dtype": "f4"
         },
         "z": {
          "bdata": "AAAAANjFiNplD6Nc7a7BXQ2ve14fkfxesQRaX2gRql8/vfZfj3cpYFsJX2Bbz41gkE6vYB+n02CQc/pgO6URYQjeJmGqrDxh9tpSYRYzaWEHg39hrc2KYbanlWGfPKBhDXqqYfNQtGH/sr1h1pXGYWLvzmHYuNZhxuvdYVuD5GEIfephO9bvYZCO9GFfpfhhsRv8YT7z/mEflwBiHWgBYpLuAWICLQJiQCYCYlbdAWLHVQFiRJMAYi0z/2Ei2fxh0x/6YdYO92GnwvNhNjrwYTJj7GFgQ+hhsN/jYbk832EJXtphXkfVYcX7z2HefsphP9TEYQgAv2EbB7lhju6yYU68rGEwd6ZhZCagYYbRmWHdgJNhjTyNYYkMh2Ge+IBhYQ52YeJ8amGkRV9hQG9UYYn9SWGk8D9hJ0Y2YdT4LGEAASRhq1QbYanoEmFcsAphfZ4CYW1M9WBxdeVgX6DVYCK4xWB9qrVgqWilYH7nlGBTH4RgrxhmYH9cQ2A5ECBgf4H4X60EsF8AzE1fH5+/Xg==",
          "dtype": "f4"
         }
        },
        {
         "line": {
          "cmax": 607840919713266800000,
          "cmin": -595483677853483000,
          "color": {
           "bdata": "AAAAADJ0NtnDXrhcdb7KXaYWgV4bZwBf1JxcX3eWq193dvhfTmsqYA4RYGBnW45g9+CvYMY91GAqDPtgL/ERYRsoJ2Ea8zxhuhtTYedraWFnsX9hUt6KYXKwlWESPKBh/G6qYUA6tGHSj71hq2XGYROyzmG/btZhqZXdYZki5GF3E+phJWbvYZka9GF9MPhh8qj7YcSF/mF5ZABi4DoBYszHAWJ6DQJiZQ4CYjTNAWIDTQFiI5EAYgk6/2Fl6PxhbTT6YWkl92H32PNh1k3wYfVw7GHFSOhhB9vjYVQt32EuRNphVCTVYabRz2GMUMphIKXEYc/TvmGL4bhhTdOyYZOurGGbeaZh0DqgYeH4mWEWu5NhkYiNYUNoh2EQYYFhNfF2Ye9oa2FqMWBh/1BVYZPLSmHuoUBhrdI2YfBZLWG6MSRh5VEbYT+xEmEqRQphSQICYR2782Bpl+Nga4TTYAFvw2BWRrNgQ/yiYL2FkmCb2oFgK+xhYPqsP2BU+hxgebrzX4/LrF/Ktkpfs3W+Xg==",
           "dtype": "f4"
          },
          "colorscale": [
           [
            0,
            "#440154"
           ],
           [
            0.1111111111111111,
            "#482878"
           ],
           [
            0.2222222222222222,
            "#3e4989"
           ],
           [
            0.3333333333333333,
            "#31688e"
           ],
           [
            0.4444444444444444,
            "#26828e"
           ],
           [
            0.5555555555555556,
            "#1f9e89"
           ],
           [
            0.6666666666666666,
            "#35b779"
           ],
           [
            0.7777777777777778,
            "#6ece58"
           ],
           [
            0.8888888888888888,
            "#b5de2b"
           ],
           [
            1,
            "#fde725"
           ]
          ],
          "showscale": false,
          "width": 4
         },
         "mode": "lines",
         "showlegend": false,
         "type": "scatter3d",
         "x": {
          "bdata": "AAAAALooDiy6KI4sFz3VLLooDi3osjEtFz1VLUbHeC26KI4t0e2fLeiysS0AeMMtFz3VLS4C5y1Gx/gtLkYFLrooDi5GCxcu0e0fLl3QKC7osjEudJU6LgB4Qy6LWkwuFz1VLqMfXi4uAmcuuuRvLkbHeC7p1IAuLkaFLnS3iS66KI4uAJqSLkYLly6LfJsu0e2fLhdfpC5d0Kguo0GtLuiysS4uJLYudJW6LroGvy4AeMMuRunHLotazC7Ry9AuFz3VLl2u2S6hH94u55DiLi0C5y5zc+suuOTvLv5V9C5Ex/guijj9LujUAC+LDQMvLkYFL9B+By90twkvFvALL7ooDi9cYRAv/5kSL6LSFC9FCxcv6EMZL4p8Gy8utR0v0O0fL3QmIi8WXyQvuZcmL1zQKC//CCsvokEtL0V6Ly/osjEvi+szLy4kNi/QXDgvdJU6LxbOPC+5Bj8vXD9BL/93Qy+isEUvRelHL+ghSi+LWkwvLpNOL9DLUC9zBFMvFj1VL7l1Vy9crlkv/+ZbLw==",
          "dtype": "f4"
         },
         "y": {
          "bdata": "4ziOQOM4jkDjOI5A4ziOQOM4jkDjOI5A4ziOQOM4jkDjOI5A4ziOQOM4jkDjOI5A4ziOQOM4jkDjOI5A4ziOQOM4jkDjOI5A4ziOQOM4jkDjOI5A4ziOQOM4jkDjOI5A4ziOQOM4jkDjOI5A4ziOQOM4jkDjOI5A4ziOQOM4jkDjOI5A4ziOQOM4jkDjOI5A4ziOQOM4jkDjOI5A4ziOQOM4jkDjOI5A4ziOQOM4jkDjOI5A4ziOQOM4jkDjOI5A4ziOQOM4jkDjOI5A4ziOQOM4jkDjOI5A4ziOQOM4jkDjOI5A4ziOQOM4jkDjOI5A4ziOQOM4jkDjOI5A4ziOQOM4jkDjOI5A4ziOQOM4jkDjOI5A4ziOQOM4jkDjOI5A4ziOQOM4jkDjOI5A4ziOQOM4jkDjOI5A4ziOQOM4jkDjOI5A4ziOQOM4jkDjOI5A4ziOQOM4jkDjOI5A4ziOQOM4jkDjOI5A4ziOQOM4jkDjOI5A4ziOQOM4jkDjOI5A4ziOQOM4jkDjOI5A4ziOQA==",
          "dtype": "f4"
         },
         "z": {
          "bdata": "AAAAADJ0NtnDXrhcdb7KXaYWgV4bZwBf1JxcX3eWq193dvhfTmsqYA4RYGBnW45g9+CvYMY91GAqDPtgL/ERYRsoJ2Ea8zxhuhtTYedraWFnsX9hUt6KYXKwlWESPKBh/G6qYUA6tGHSj71hq2XGYROyzmG/btZhqZXdYZki5GF3E+phJWbvYZka9GF9MPhh8qj7YcSF/mF5ZABi4DoBYszHAWJ6DQJiZQ4CYjTNAWIDTQFiI5EAYgk6/2Fl6PxhbTT6YWkl92H32PNh1k3wYfVw7GHFSOhhB9vjYVQt32EuRNphVCTVYabRz2GMUMphIKXEYc/TvmGL4bhhTdOyYZOurGGbeaZh0DqgYeH4mWEWu5NhkYiNYUNoh2EQYYFhNfF2Ye9oa2FqMWBh/1BVYZPLSmHuoUBhrdI2YfBZLWG6MSRh5VEbYT+xEmEqRQphSQICYR2782Bpl+Nga4TTYAFvw2BWRrNgQ/yiYL2FkmCb2oFgK+xhYPqsP2BU+hxgebrzX4/LrF/Ktkpfs3W+Xg==",
          "dtype": "f4"
         }
        },
        {
         "line": {
          "cmax": 607840919713266800000,
          "cmin": -595483677853483000,
          "color": {
           "bdata": "AAAAAE0oQloJic5cJhvUXflrhF5vkAJfMj1fX0wdrV84LvpfP1wrYJgTYWCn445gXG6wYFzO1GDhnftgZTkSYVRuJ2HKNT1hCFlTYcuhaWGX3X9hTe6KYQW5lWHtO6Bh2mSqYQEltGGNbr1huTfGYTV3zmEaJ9Zh6EHdYdPD42FPq+lhsvbuYVmm82E8uvdhsDP7YYcU/mFWLwBijQoBYnKdAWL06QFiQfIBYp+4AWLJPwFitYoAYuo4/2GZ8PxhFkP6YWw392Hy6/NhRV/wYc597GGKTuhhBNjjYaYg32HgLdphTAXVYamrz2EKJsphE3nEYYqpvmGCvLhh17ayYbydrGHxdqZhNUigYWsXmmH36pNhD8mNYbi3h2EAvYFhmLt3YTI+bGEiCWFhUiJWYa+NS2FsTEFh8V03YYm/LWGdbCRhs14bYU6OEmGe8glhDoIBYW5m8mCi+OFgOqjRYCRkwWD/HLFgocWgYF1TkGDUe39g2v9dYFctPGBQBBpgKBXvXxSZqV+Vf0dfZNS8Xg==",
           "dtype": "f4"
          },
          "colorscale": [
           [
            0,
            "#440154"
           ],
           [
            0.1111111111111111,
            "#482878"
           ],
           [
            0.2222222222222222,
            "#3e4989"
           ],
           [
            0.3333333333333333,
            "#31688e"
           ],
           [
            0.4444444444444444,
            "#26828e"
           ],
           [
            0.5555555555555556,
            "#1f9e89"
           ],
           [
            0.6666666666666666,
            "#35b779"
           ],
           [
            0.7777777777777778,
            "#6ece58"
           ],
           [
            0.8888888888888888,
            "#b5de2b"
           ],
           [
            1,
            "#fde725"
           ]
          ],
          "showscale": false,
          "width": 4
         },
         "mode": "lines",
         "showlegend": false,
         "type": "scatter3d",
         "x": {
          "bdata": "AAAAALooDiy6KI4sFz3VLLooDi3osjEtFz1VLUbHeC26KI4t0e2fLeiysS0AeMMtFz3VLS4C5y1Gx/gtLkYFLrooDi5GCxcu0e0fLl3QKC7osjEudJU6LgB4Qy6LWkwuFz1VLqMfXi4uAmcuuuRvLkbHeC7p1IAuLkaFLnS3iS66KI4uAJqSLkYLly6LfJsu0e2fLhdfpC5d0Kguo0GtLuiysS4uJLYudJW6LroGvy4AeMMuRunHLotazC7Ry9AuFz3VLl2u2S6hH94u55DiLi0C5y5zc+suuOTvLv5V9C5Ex/guijj9LujUAC+LDQMvLkYFL9B+By90twkvFvALL7ooDi9cYRAv/5kSL6LSFC9FCxcv6EMZL4p8Gy8utR0v0O0fL3QmIi8WXyQvuZcmL1zQKC//CCsvokEtL0V6Ly/osjEvi+szLy4kNi/QXDgvdJU6LxbOPC+5Bj8vXD9BL/93Qy+isEUvRelHL+ghSi+LWkwvLpNOL9DLUC9zBFMvFj1VL7l1Vy9crlkv/+ZbLw==",
          "dtype": "f4"
         },
         "y": {
          "bdata": "1q+UQNavlEDWr5RA1q+UQNavlEDWr5RA1q+UQNavlEDWr5RA1q+UQNavlEDWr5RA1q+UQNavlEDWr5RA1q+UQNavlEDWr5RA1q+UQNavlEDWr5RA1q+UQNavlEDWr5RA1q+UQNavlEDWr5RA1q+UQNavlEDWr5RA1q+UQNavlEDWr5RA1q+UQNavlEDWr5RA1q+UQNavlEDWr5RA1q+UQNavlEDWr5RA1q+UQNavlEDWr5RA1q+UQNavlEDWr5RA1q+UQNavlEDWr5RA1q+UQNavlEDWr5RA1q+UQNavlEDWr5RA1q+UQNavlEDWr5RA1q+UQNavlEDWr5RA1q+UQNavlEDWr5RA1q+UQNavlEDWr5RA1q+UQNavlEDWr5RA1q+UQNavlEDWr5RA1q+UQNavlEDWr5RA1q+UQNavlEDWr5RA1q+UQNavlEDWr5RA1q+UQNavlEDWr5RA1q+UQNavlEDWr5RA1q+UQNavlEDWr5RA1q+UQNavlEDWr5RA1q+UQNavlEDWr5RA1q+UQA==",
          "dtype": "f4"
         },
         "z": {
          "bdata": "AAAAAE0oQloJic5cJhvUXflrhF5vkAJfMj1fX0wdrV84LvpfP1wrYJgTYWCn445gXG6wYFzO1GDhnftgZTkSYVRuJ2HKNT1hCFlTYcuhaWGX3X9hTe6KYQW5lWHtO6Bh2mSqYQEltGGNbr1huTfGYTV3zmEaJ9Zh6EHdYdPD42FPq+lhsvbuYVmm82E8uvdhsDP7YYcU/mFWLwBijQoBYnKdAWL06QFiQfIBYp+4AWLJPwFitYoAYuo4/2GZ8PxhFkP6YWw392Hy6/NhRV/wYc597GGKTuhhBNjjYaYg32HgLdphTAXVYamrz2EKJsphE3nEYYqpvmGCvLhh17ayYbydrGHxdqZhNUigYWsXmmH36pNhD8mNYbi3h2EAvYFhmLt3YTI+bGEiCWFhUiJWYa+NS2FsTEFh8V03YYm/LWGdbCRhs14bYU6OEmGe8glhDoIBYW5m8mCi+OFgOqjRYCRkwWD/HLFgocWgYF1TkGDUe39g2v9dYFctPGBQBBpgKBXvXxSZqV+Vf0dfZNS8Xg==",
          "dtype": "f4"
         }
        },
        {
         "line": {
          "cmax": 607840919713266800000,
          "cmin": -595483677853483000,
          "color": {
           "bdata": "AAAAAM+z3Vo7NOVcg5/dXfvKh15KvQRfO95hX1eirl9z4ftfUUksYIEQYmA4aI9gTPewYOJZ1WA0Kvxg8H4SYRuyJ2GAdj1hJZVTYYzXaWF4BYBhrP+KYeXDlWETP6BhD1+qYS8VtGG+U71hNhHGYaFEzmFw6NVhmvfcYc9u42HwTOlhzpDuYS0782FWTPdh18X6YaGp/WGQ+f9hM9wAYnp0AWJExwFiddYBYgKkAWJOMgFi64MAYj43/2Gx+PxhX1L6YQNL92FfAfRh93PwYe2O7GG4Wehhh9vjYYYb32HaH9phCu/UYX+Oz2H+A8phsVTEYa+FvmE5nLhhJ52yYXaNrGF6cqZhaFGgYXkvmmFHEpRhO/+NYZD7h2GADIJhn2x4YdD6bGEgymFh8d9WYRVATGEO7EFh3OM3YaolLmEWriRh/HcbYW59EmEqtwlhKh0BYRBP8WDPm+BgcBDQYPCdv2CKNq9gKs6eYMVajmB8qHtg32laYPfyOGDSQRdgPrPqX2OHpl8FSERf1966Xg==",
           "dtype": "f4"
          },
          "colorscale": [
           [
            0,
            "#440154"
           ],
           [
            0.1111111111111111,
            "#482878"
           ],
           [
            0.2222222222222222,
            "#3e4989"
           ],
           [
            0.3333333333333333,
            "#31688e"
           ],
           [
            0.4444444444444444,
            "#26828e"
           ],
           [
            0.5555555555555556,
            "#1f9e89"
           ],
           [
            0.6666666666666666,
            "#35b779"
           ],
           [
            0.7777777777777778,
            "#6ece58"
           ],
           [
            0.8888888888888888,
            "#b5de2b"
           ],
           [
            1,
            "#fde725"
           ]
          ],
          "showscale": false,
          "width": 4
         },
         "mode": "lines",
         "showlegend": false,
         "type": "scatter3d",
         "x": {
          "bdata": "AAAAALooDiy6KI4sFz3VLLooDi3osjEtFz1VLUbHeC26KI4t0e2fLeiysS0AeMMtFz3VLS4C5y1Gx/gtLkYFLrooDi5GCxcu0e0fLl3QKC7osjEudJU6LgB4Qy6LWkwuFz1VLqMfXi4uAmcuuuRvLkbHeC7p1IAuLkaFLnS3iS66KI4uAJqSLkYLly6LfJsu0e2fLhdfpC5d0Kguo0GtLuiysS4uJLYudJW6LroGvy4AeMMuRunHLotazC7Ry9AuFz3VLl2u2S6hH94u55DiLi0C5y5zc+suuOTvLv5V9C5Ex/guijj9LujUAC+LDQMvLkYFL9B+By90twkvFvALL7ooDi9cYRAv/5kSL6LSFC9FCxcv6EMZL4p8Gy8utR0v0O0fL3QmIi8WXyQvuZcmL1zQKC//CCsvokEtL0V6Ly/osjEvi+szLy4kNi/QXDgvdJU6LxbOPC+5Bj8vXD9BL/93Qy+isEUvRelHL+ghSi+LWkwvLpNOL9DLUC9zBFMvFj1VL7l1Vy9crlkv/+ZbLw==",
          "dtype": "f4"
         },
         "y": {
          "bdata": "yiabQMomm0DKJptAyiabQMomm0DKJptAyiabQMomm0DKJptAyiabQMomm0DKJptAyiabQMomm0DKJptAyiabQMomm0DKJptAyiabQMomm0DKJptAyiabQMomm0DKJptAyiabQMomm0DKJptAyiabQMomm0DKJptAyiabQMomm0DKJptAyiabQMomm0DKJptAyiabQMomm0DKJptAyiabQMomm0DKJptAyiabQMomm0DKJptAyiabQMomm0DKJptAyiabQMomm0DKJptAyiabQMomm0DKJptAyiabQMomm0DKJptAyiabQMomm0DKJptAyiabQMomm0DKJptAyiabQMomm0DKJptAyiabQMomm0DKJptAyiabQMomm0DKJptAyiabQMomm0DKJptAyiabQMomm0DKJptAyiabQMomm0DKJptAyiabQMomm0DKJptAyiabQMomm0DKJptAyiabQMomm0DKJptAyiabQMomm0DKJptAyiabQMomm0DKJptAyiabQMomm0DKJptAyiabQA==",
          "dtype": "f4"
         },
         "z": {
          "bdata": "AAAAAM+z3Vo7NOVcg5/dXfvKh15KvQRfO95hX1eirl9z4ftfUUksYIEQYmA4aI9gTPewYOJZ1WA0Kvxg8H4SYRuyJ2GAdj1hJZVTYYzXaWF4BYBhrP+KYeXDlWETP6BhD1+qYS8VtGG+U71hNhHGYaFEzmFw6NVhmvfcYc9u42HwTOlhzpDuYS0782FWTPdh18X6YaGp/WGQ+f9hM9wAYnp0AWJExwFiddYBYgKkAWJOMgFi64MAYj43/2Gx+PxhX1L6YQNL92FfAfRh93PwYe2O7GG4Wehhh9vjYYYb32HaH9phCu/UYX+Oz2H+A8phsVTEYa+FvmE5nLhhJ52yYXaNrGF6cqZhaFGgYXkvmmFHEpRhO/+NYZD7h2GADIJhn2x4YdD6bGEgymFh8d9WYRVATGEO7EFh3OM3YaolLmEWriRh/HcbYW59EmEqtwlhKh0BYRBP8WDPm+BgcBDQYPCdv2CKNq9gKs6eYMVajmB8qHtg32laYPfyOGDSQRdgPrPqX2OHpl8FSERf1966Xg==",
          "dtype": "f4"
         }
        },
        {
         "line": {
          "cmax": 607840919713266800000,
          "cmin": -595483677853483000,
          "color": {
           "bdata": "AAAAAI8KL1szEPxcUCnnXSgoi17O5gZfpXhkX/ohsF/JjP1fDzEtYKMGY2C56I9gm3uxYHDg1WBssfxgEsISYeLzJ2HctT1h4dBTYSkOamFlHYBhQBOLYRfSlWHNRqBhNV+qYbIMtGG0Qb1h5fTFYYwdzmF8ttVh/rrcYT0o42F//ehhGDruYRTf8mEm7fZhGWb6YfBL/WGVoP9hV7MAYlZQAWLHqAFiS74BYoeSAWKKJwFikX8AYiQ6/2FhBf1hnWb6YTBk92HpHPRhSo/wYXWn7GE/behhVOjjYYgg32GyHNphBOTUYaR8z2Hj7MlhZjrEYahqvmEUg7hhhoiyYd9/rGEpbqZhKVigYYZCmmE7MpRh+CuOYUk0iGG9T4Jh5QN5Ya+dbWGDcmJhW4dXYczfTGF0fUJht2A4YYWILmFV8iRhKpobYVl7EmH0jwlhVdEAYdZx8GAvf99g2rzOYM0dvmDWla1gFhqdYE6hjGCJR3hgvzdXYL8LNmBCwBRg9KzmX1Oqo1//K0FfS7e4Xg==",
           "dtype": "f4"
          },
          "colorscale": [
           [
            0,
            "#440154"
           ],
           [
            0.1111111111111111,
            "#482878"
           ],
           [
            0.2222222222222222,
            "#3e4989"
           ],
           [
            0.3333333333333333,
            "#31688e"
           ],
           [
            0.4444444444444444,
            "#26828e"
           ],
           [
            0.5555555555555556,
            "#1f9e89"
           ],
           [
            0.6666666666666666,
            "#35b779"
           ],
           [
            0.7777777777777778,
            "#6ece58"
           ],
           [
            0.8888888888888888,
            "#b5de2b"
           ],
           [
            1,
            "#fde725"
           ]
          ],
          "showscale": false,
          "width": 4
         },
         "mode": "lines",
         "showlegend": false,
         "type": "scatter3d",
         "x": {
          "bdata": "AAAAALooDiy6KI4sFz3VLLooDi3osjEtFz1VLUbHeC26KI4t0e2fLeiysS0AeMMtFz3VLS4C5y1Gx/gtLkYFLrooDi5GCxcu0e0fLl3QKC7osjEudJU6LgB4Qy6LWkwuFz1VLqMfXi4uAmcuuuRvLkbHeC7p1IAuLkaFLnS3iS66KI4uAJqSLkYLly6LfJsu0e2fLhdfpC5d0Kguo0GtLuiysS4uJLYudJW6LroGvy4AeMMuRunHLotazC7Ry9AuFz3VLl2u2S6hH94u55DiLi0C5y5zc+suuOTvLv5V9C5Ex/guijj9LujUAC+LDQMvLkYFL9B+By90twkvFvALL7ooDi9cYRAv/5kSL6LSFC9FCxcv6EMZL4p8Gy8utR0v0O0fL3QmIi8WXyQvuZcmL1zQKC//CCsvokEtL0V6Ly/osjEvi+szLy4kNi/QXDgvdJU6LxbOPC+5Bj8vXD9BL/93Qy+isEUvRelHL+ghSi+LWkwvLpNOL9DLUC9zBFMvFj1VL7l1Vy9crlkv/+ZbLw==",
          "dtype": "f4"
         },
         "y": {
          "bdata": "vZ2hQL2doUC9naFAvZ2hQL2doUC9naFAvZ2hQL2doUC9naFAvZ2hQL2doUC9naFAvZ2hQL2doUC9naFAvZ2hQL2doUC9naFAvZ2hQL2doUC9naFAvZ2hQL2doUC9naFAvZ2hQL2doUC9naFAvZ2hQL2doUC9naFAvZ2hQL2doUC9naFAvZ2hQL2doUC9naFAvZ2hQL2doUC9naFAvZ2hQL2doUC9naFAvZ2hQL2doUC9naFAvZ2hQL2doUC9naFAvZ2hQL2doUC9naFAvZ2hQL2doUC9naFAvZ2hQL2doUC9naFAvZ2hQL2doUC9naFAvZ2hQL2doUC9naFAvZ2hQL2doUC9naFAvZ2hQL2doUC9naFAvZ2hQL2doUC9naFAvZ2hQL2doUC9naFAvZ2hQL2doUC9naFAvZ2hQL2doUC9naFAvZ2hQL2doUC9naFAvZ2hQL2doUC9naFAvZ2hQL2doUC9naFAvZ2hQL2doUC9naFAvZ2hQL2doUC9naFAvZ2hQL2doUC9naFAvZ2hQA==",
          "dtype": "f4"
         },
         "z": {
          "bdata": "AAAAAI8KL1szEPxcUCnnXSgoi17O5gZfpXhkX/ohsF/JjP1fDzEtYKMGY2C56I9gm3uxYHDg1WBssfxgEsISYeLzJ2HctT1h4dBTYSkOamFlHYBhQBOLYRfSlWHNRqBhNV+qYbIMtGG0Qb1h5fTFYYwdzmF8ttVh/rrcYT0o42F//ehhGDruYRTf8mEm7fZhGWb6YfBL/WGVoP9hV7MAYlZQAWLHqAFiS74BYoeSAWKKJwFikX8AYiQ6/2FhBf1hnWb6YTBk92HpHPRhSo/wYXWn7GE/behhVOjjYYgg32GyHNphBOTUYaR8z2Hj7MlhZjrEYahqvmEUg7hhhoiyYd9/rGEpbqZhKVigYYZCmmE7MpRh+CuOYUk0iGG9T4Jh5QN5Ya+dbWGDcmJhW4dXYczfTGF0fUJht2A4YYWILmFV8iRhKpobYVl7EmH0jwlhVdEAYdZx8GAvf99g2rzOYM0dvmDWla1gFhqdYE6hjGCJR3hgvzdXYL8LNmBCwBRg9KzmX1Oqo1//K0FfS7e4Xg==",
          "dtype": "f4"
         }
        },
        {
         "line": {
          "cmax": 607840919713266800000,
          "cmin": -595483677853483000,
          "color": {
           "bdata": "AAAAAL61cFtbbAldhZvwXbB5jl4QBwlf9AVnX+KYsV/4LP9f8REuYLD0Y2CZZJBgzPqxYIxh1mAvM/1gowITYXIzKGGr8z1hAwxUYYJFamGCNoBhCymLYbLjlWFGU6BhmmWqYQwMtGEoOb1ht+PFYTkDzmHEktVh/43cYWby4mG1v+hhkfXtYXyV8mFpoPZhbBj6Ya3//GEoWP9hLZIAYkszAWK9kAFi7KsBYjuGAWJuIQFidn8AYvJE/2GvGf1hdIL6YT2F92GOQPRh9bLwYdbI7GFMiuhheP/jYZow32EwJdphBeXUYdB2z2Fu4clh/CrEYUlZvmHycbhh5nmyYft1rGEHa6Zhd12gYYlRmmGpS5RhAFCOYXRiiGEHh4JhkYF5YVombmFsAWNhGRdYYcdqTWEO/kJhl9E4YcTkLmHJNSVhjMEbYVqEEmFteQlhRJsAYeHI72Ddnd5guanNYC3hvGCYOaxgWambYBooi2BpXXVggG9UYN1+M2BYhxJgiBHjX5sPoV83QT5frHy2Xg==",
           "dtype": "f4"
          },
          "colorscale": [
           [
            0,
            "#440154"
           ],
           [
            0.1111111111111111,
            "#482878"
           ],
           [
            0.2222222222222222,
            "#3e4989"
           ],
           [
            0.3333333333333333,
            "#31688e"
           ],
           [
            0.4444444444444444,
            "#26828e"
           ],
           [
            0.5555555555555556,
            "#1f9e89"
           ],
           [
            0.6666666666666666,
            "#35b779"
           ],
           [
            0.7777777777777778,
            "#6ece58"
           ],
           [
            0.8888888888888888,
            "#b5de2b"
           ],
           [
            1,
            "#fde725"
           ]
          ],
          "showscale": false,
          "width": 4
         },
         "mode": "lines",
         "showlegend": false,
         "type": "scatter3d",
         "x": {
          "bdata": "AAAAALooDiy6KI4sFz3VLLooDi3osjEtFz1VLUbHeC26KI4t0e2fLeiysS0AeMMtFz3VLS4C5y1Gx/gtLkYFLrooDi5GCxcu0e0fLl3QKC7osjEudJU6LgB4Qy6LWkwuFz1VLqMfXi4uAmcuuuRvLkbHeC7p1IAuLkaFLnS3iS66KI4uAJqSLkYLly6LfJsu0e2fLhdfpC5d0Kguo0GtLuiysS4uJLYudJW6LroGvy4AeMMuRunHLotazC7Ry9AuFz3VLl2u2S6hH94u55DiLi0C5y5zc+suuOTvLv5V9C5Ex/guijj9LujUAC+LDQMvLkYFL9B+By90twkvFvALL7ooDi9cYRAv/5kSL6LSFC9FCxcv6EMZL4p8Gy8utR0v0O0fL3QmIi8WXyQvuZcmL1zQKC//CCsvokEtL0V6Ly/osjEvi+szLy4kNi/QXDgvdJU6LxbOPC+5Bj8vXD9BL/93Qy+isEUvRelHL+ghSi+LWkwvLpNOL9DLUC9zBFMvFj1VL7l1Vy9crlkv/+ZbLw==",
          "dtype": "f4"
         },
         "y": {
          "bdata": "sBSoQLAUqECwFKhAsBSoQLAUqECwFKhAsBSoQLAUqECwFKhAsBSoQLAUqECwFKhAsBSoQLAUqECwFKhAsBSoQLAUqECwFKhAsBSoQLAUqECwFKhAsBSoQLAUqECwFKhAsBSoQLAUqECwFKhAsBSoQLAUqECwFKhAsBSoQLAUqECwFKhAsBSoQLAUqECwFKhAsBSoQLAUqECwFKhAsBSoQLAUqECwFKhAsBSoQLAUqECwFKhAsBSoQLAUqECwFKhAsBSoQLAUqECwFKhAsBSoQLAUqECwFKhAsBSoQLAUqECwFKhAsBSoQLAUqECwFKhAsBSoQLAUqECwFKhAsBSoQLAUqECwFKhAsBSoQLAUqECwFKhAsBSoQLAUqECwFKhAsBSoQLAUqECwFKhAsBSoQLAUqECwFKhAsBSoQLAUqECwFKhAsBSoQLAUqECwFKhAsBSoQLAUqECwFKhAsBSoQLAUqECwFKhAsBSoQLAUqECwFKhAsBSoQLAUqECwFKhAsBSoQLAUqECwFKhAsBSoQA==",
          "dtype": "f4"
         },
         "z": {
          "bdata": "AAAAAL61cFtbbAldhZvwXbB5jl4QBwlf9AVnX+KYsV/4LP9f8REuYLD0Y2CZZJBgzPqxYIxh1mAvM/1gowITYXIzKGGr8z1hAwxUYYJFamGCNoBhCymLYbLjlWFGU6BhmmWqYQwMtGEoOb1ht+PFYTkDzmHEktVh/43cYWby4mG1v+hhkfXtYXyV8mFpoPZhbBj6Ya3//GEoWP9hLZIAYkszAWK9kAFi7KsBYjuGAWJuIQFidn8AYvJE/2GvGf1hdIL6YT2F92GOQPRh9bLwYdbI7GFMiuhheP/jYZow32EwJdphBeXUYdB2z2Fu4clh/CrEYUlZvmHycbhh5nmyYft1rGEHa6Zhd12gYYlRmmGpS5RhAFCOYXRiiGEHh4JhkYF5YVombmFsAWNhGRdYYcdqTWEO/kJhl9E4YcTkLmHJNSVhjMEbYVqEEmFteQlhRJsAYeHI72Ddnd5guanNYC3hvGCYOaxgWambYBooi2BpXXVggG9UYN1+M2BYhxJgiBHjX5sPoV83QT5frHy2Xg==",
          "dtype": "f4"
         }
        },
        {
         "line": {
          "cmax": 607840919713266800000,
          "cmin": -595483677853483000,
          "color": {
           "bdata": "AAAAAFjCmVvOqhRdId75XWm3kV40GQtfx4BpX0EEs1+jXwBgreouYFHZZGAv25BgMnSyYIHc1mCmrv1gJkATYURwKGFELz5hxEVUYal8amFMUIBheECLYRX4lWHeY6BhmXGqYaIStGGLOb1hP93FYWH1zWE4fdVhtnDcYa/N4mEslOhhKcTtYZJf8mGTZ/ZhjN75YcnG/GFbIv9h4XkAYogeAWJXgAFiiaABYkWAAWIRIQFikoQAYltZ/2ESN/1hEaf6YQuv92HmbPRhU9/wYTfz7GHZsOhhrCDkYVdL32HVONphdvHUYXF8z2Eb4clhASbEYTVRvmGZaLhhPnGyYetvrGFZaaZhwWGgYQZdmmEvX5Rh7muOYaaGiGHfsoJhZeZ5YVGVbmHBdmNhoI5YYfjfTWFGbENhSzQ5YcA3L2FYdSVho+obYb+UEmHDbwlhIHcAYcFM72Dl8N1gt9DMYKDiu2BqHatgqXiaYADtiWDh53Jg+BBSYNVNMWDymRBgYejfX0+/nl8XlztfTkm0Xg==",
           "dtype": "f4"
          },
          "colorscale": [
           [
            0,
            "#440154"
           ],
           [
            0.1111111111111111,
            "#482878"
           ],
           [
            0.2222222222222222,
            "#3e4989"
           ],
           [
            0.3333333333333333,
            "#31688e"
           ],
           [
            0.4444444444444444,
            "#26828e"
           ],
           [
            0.5555555555555556,
            "#1f9e89"
           ],
           [
            0.6666666666666666,
            "#35b779"
           ],
           [
            0.7777777777777778,
            "#6ece58"
           ],
           [
            0.8888888888888888,
            "#b5de2b"
           ],
           [
            1,
            "#fde725"
           ]
          ],
          "showscale": false,
          "width": 4
         },
         "mode": "lines",
         "showlegend": false,
         "type": "scatter3d",
         "x": {
          "bdata": "AAAAALooDiy6KI4sFz3VLLooDi3osjEtFz1VLUbHeC26KI4t0e2fLeiysS0AeMMtFz3VLS4C5y1Gx/gtLkYFLrooDi5GCxcu0e0fLl3QKC7osjEudJU6LgB4Qy6LWkwuFz1VLqMfXi4uAmcuuuRvLkbHeC7p1IAuLkaFLnS3iS66KI4uAJqSLkYLly6LfJsu0e2fLhdfpC5d0Kguo0GtLuiysS4uJLYudJW6LroGvy4AeMMuRunHLotazC7Ry9AuFz3VLl2u2S6hH94u55DiLi0C5y5zc+suuOTvLv5V9C5Ex/guijj9LujUAC+LDQMvLkYFL9B+By90twkvFvALL7ooDi9cYRAv/5kSL6LSFC9FCxcv6EMZL4p8Gy8utR0v0O0fL3QmIi8WXyQvuZcmL1zQKC//CCsvokEtL0V6Ly/osjEvi+szLy4kNi/QXDgvdJU6LxbOPC+5Bj8vXD9BL/93Qy+isEUvRelHL+ghSi+LWkwvLpNOL9DLUC9zBFMvFj1VL7l1Vy9crlkv/+ZbLw==",
          "dtype": "f4"
         },
         "y": {
          "bdata": "o4uuQKOLrkCji65Ao4uuQKOLrkCji65Ao4uuQKOLrkCji65Ao4uuQKOLrkCji65Ao4uuQKOLrkCji65Ao4uuQKOLrkCji65Ao4uuQKOLrkCji65Ao4uuQKOLrkCji65Ao4uuQKOLrkCji65Ao4uuQKOLrkCji65Ao4uuQKOLrkCji65Ao4uuQKOLrkCji65Ao4uuQKOLrkCji65Ao4uuQKOLrkCji65Ao4uuQKOLrkCji65Ao4uuQKOLrkCji65Ao4uuQKOLrkCji65Ao4uuQKOLrkCji65Ao4uuQKOLrkCji65Ao4uuQKOLrkCji65Ao4uuQKOLrkCji65Ao4uuQKOLrkCji65Ao4uuQKOLrkCji65Ao4uuQKOLrkCji65Ao4uuQKOLrkCji65Ao4uuQKOLrkCji65Ao4uuQKOLrkCji65Ao4uuQKOLrkCji65Ao4uuQKOLrkCji65Ao4uuQKOLrkCji65Ao4uuQKOLrkCji65Ao4uuQKOLrkCji65Ao4uuQKOLrkCji65Ao4uuQA==",
          "dtype": "f4"
         },
         "z": {
          "bdata": "AAAAAFjCmVvOqhRdId75XWm3kV40GQtfx4BpX0EEs1+jXwBgreouYFHZZGAv25BgMnSyYIHc1mCmrv1gJkATYURwKGFELz5hxEVUYal8amFMUIBheECLYRX4lWHeY6BhmXGqYaIStGGLOb1hP93FYWH1zWE4fdVhtnDcYa/N4mEslOhhKcTtYZJf8mGTZ/ZhjN75YcnG/GFbIv9h4XkAYogeAWJXgAFiiaABYkWAAWIRIQFikoQAYltZ/2ESN/1hEaf6YQuv92HmbPRhU9/wYTfz7GHZsOhhrCDkYVdL32HVONphdvHUYXF8z2Eb4clhASbEYTVRvmGZaLhhPnGyYetvrGFZaaZhwWGgYQZdmmEvX5Rh7muOYaaGiGHfsoJhZeZ5YVGVbmHBdmNhoI5YYfjfTWFGbENhSzQ5YcA3L2FYdSVho+obYb+UEmHDbwlhIHcAYcFM72Dl8N1gt9DMYKDiu2BqHatgqXiaYADtiWDh53Jg+BBSYNVNMWDymRBgYejfX0+/nl8XlztfTkm0Xg==",
          "dtype": "f4"
         }
        },
        {
         "line": {
          "cmax": 607840919713266800000,
          "cmin": -595483677853483000,
          "color": {
           "bdata": "AAAAAEuau1t5rh9dnW8BXkfblF6bGQ1fLeVrXyNitF/UIAFgO7ovYJOzZWD/S5FgSueyYLRQ12AdI/5gJXoTYbmpKGHlZz5hNH1UYXOyamEOaoBhsliLYVEOlmGMd6BhE4KqYUQftGGoQb1hPeDFYcTyzWGsdNVhHGLcYSm54mEbeuhhTqXtYfI88mF6QvZhh7j5YZWh/GG9//5hwGoAYnESAWIIeAFimZwBYh2BAWLfJgFiR48AYgF4/2HnXf1hltT6YX/h92GlofRh5hPxYeAl7WH73+hh3UrkYYFv32FFVtph8AfVYSWMz2GZ6slhNCrEYV5RvmE7Zrhh5W2yYUNtrGH7aKZhHGWgYU5lmmFJbZRhXoCOYZWhiGEC1IJhwjN6YarrbmFk02NhWu5YYT4/TmFex0Nhh4c5YY9/L2GJriVheBIcYRmpEmEpbwlh5mAAYT317mAlcN1gFSrMYOYau2DIOqpgaIKZYGPriGDw33BgOhdQYLx1L2Dz9g5gVjLdX6G8nF9ENzlfUzKyXg==",
           "dtype": "f4"
          },
          "colorscale": [
           [
            0,
            "#440154"
           ],
           [
            0.1111111111111111,
            "#482878"
           ],
           [
            0.2222222222222222,
            "#3e4989"
           ],
           [
            0.3333333333333333,
            "#31688e"
           ],
           [
            0.4444444444444444,
            "#26828e"
           ],
           [
            0.5555555555555556,
            "#1f9e89"
           ],
           [
            0.6666666666666666,
            "#35b779"
           ],
           [
            0.7777777777777778,
            "#6ece58"
           ],
           [
            0.8888888888888888,
            "#b5de2b"
           ],
           [
            1,
            "#fde725"
           ]
          ],
          "showscale": false,
          "width": 4
         },
         "mode": "lines",
         "showlegend": false,
         "type": "scatter3d",
         "x": {
          "bdata": "AAAAALooDiy6KI4sFz3VLLooDi3osjEtFz1VLUbHeC26KI4t0e2fLeiysS0AeMMtFz3VLS4C5y1Gx/gtLkYFLrooDi5GCxcu0e0fLl3QKC7osjEudJU6LgB4Qy6LWkwuFz1VLqMfXi4uAmcuuuRvLkbHeC7p1IAuLkaFLnS3iS66KI4uAJqSLkYLly6LfJsu0e2fLhdfpC5d0Kguo0GtLuiysS4uJLYudJW6LroGvy4AeMMuRunHLotazC7Ry9AuFz3VLl2u2S6hH94u55DiLi0C5y5zc+suuOTvLv5V9C5Ex/guijj9LujUAC+LDQMvLkYFL9B+By90twkvFvALL7ooDi9cYRAv/5kSL6LSFC9FCxcv6EMZL4p8Gy8utR0v0O0fL3QmIi8WXyQvuZcmL1zQKC//CCsvokEtL0V6Ly/osjEvi+szLy4kNi/QXDgvdJU6LxbOPC+5Bj8vXD9BL/93Qy+isEUvRelHL+ghSi+LWkwvLpNOL9DLUC9zBFMvFj1VL7l1Vy9crlkv/+ZbLw==",
          "dtype": "f4"
         },
         "y": {
          "bdata": "lgK1QJYCtUCWArVAlgK1QJYCtUCWArVAlgK1QJYCtUCWArVAlgK1QJYCtUCWArVAlgK1QJYCtUCWArVAlgK1QJYCtUCWArVAlgK1QJYCtUCWArVAlgK1QJYCtUCWArVAlgK1QJYCtUCWArVAlgK1QJYCtUCWArVAlgK1QJYCtUCWArVAlgK1QJYCtUCWArVAlgK1QJYCtUCWArVAlgK1QJYCtUCWArVAlgK1QJYCtUCWArVAlgK1QJYCtUCWArVAlgK1QJYCtUCWArVAlgK1QJYCtUCWArVAlgK1QJYCtUCWArVAlgK1QJYCtUCWArVAlgK1QJYCtUCWArVAlgK1QJYCtUCWArVAlgK1QJYCtUCWArVAlgK1QJYCtUCWArVAlgK1QJYCtUCWArVAlgK1QJYCtUCWArVAlgK1QJYCtUCWArVAlgK1QJYCtUCWArVAlgK1QJYCtUCWArVAlgK1QJYCtUCWArVAlgK1QJYCtUCWArVAlgK1QJYCtUCWArVAlgK1QJYCtUCWArVAlgK1QA==",
          "dtype": "f4"
         },
         "z": {
          "bdata": "AAAAAEuau1t5rh9dnW8BXkfblF6bGQ1fLeVrXyNitF/UIAFgO7ovYJOzZWD/S5FgSueyYLRQ12AdI/5gJXoTYbmpKGHlZz5hNH1UYXOyamEOaoBhsliLYVEOlmGMd6BhE4KqYUQftGGoQb1hPeDFYcTyzWGsdNVhHGLcYSm54mEbeuhhTqXtYfI88mF6QvZhh7j5YZWh/GG9//5hwGoAYnESAWIIeAFimZwBYh2BAWLfJgFiR48AYgF4/2HnXf1hltT6YX/h92GlofRh5hPxYeAl7WH73+hh3UrkYYFv32FFVtph8AfVYSWMz2GZ6slhNCrEYV5RvmE7Zrhh5W2yYUNtrGH7aKZhHGWgYU5lmmFJbZRhXoCOYZWhiGEC1IJhwjN6YarrbmFk02NhWu5YYT4/TmFex0Nhh4c5YY9/L2GJriVheBIcYRmpEmEpbwlh5mAAYT317mAlcN1gFSrMYOYau2DIOqpgaIKZYGPriGDw33BgOhdQYLx1L2Dz9g5gVjLdX6G8nF9ENzlfUzKyXg==",
          "dtype": "f4"
         }
        },
        {
         "line": {
          "cmax": 607840919713266800000,
          "cmin": -595483677853483000,
          "color": {
           "bdata": "AAAAAMfG3VsgaCpdEckFXhvhl17YBQ9fjTBuXxuxtV9j2QFg+H8wYMiCZmCqtpFgnlOzYKO912Dbj/5gI7ATYTHfKGG4nD5hP7FUYYzlamH8goBhzHCLYUsllmEGjaBhnJWqYVwwtGHRT71h7+rFYZD5zWE/d9VhRGDcYeyy4mHFb+hhXJftYSAs8mHWL/ZhQqX5YRGP/GF77/5hg2QAYssOAWKmdwFi/p8BYqmIAWK+MgFieJ8AYoug/2G2jf1hcAr7Ycsb+GHZ3fRhkE/xYYxf7WE4FulhZ3zkYVeb32Gue9phkSbVYfajz2EF/Mlh3zXEYURYvmF2abhh026yYUJtrGF1aaZhX2egYYJqmmFedpRh942OYQm0iGFS64Jhbmt6YSErb2HPGGRhZDdZYUSJTmF9D0Rhwco5YQe7L2GC3yVhlTYcYVq+EmEgdAlhs1QAYRG67mALE91gNq3LYLqBumDhialgeL+YYAIdiGD1Om9gy3lOYE3wLWAvmg1g+OraX68Gm18xJjdfeEewXg==",
           "dtype": "f4"
          },
          "colorscale": [
           [
            0,
            "#440154"
           ],
           [
            0.1111111111111111,
            "#482878"
           ],
           [
            0.2222222222222222,
            "#3e4989"
           ],
           [
            0.3333333333333333,
            "#31688e"
           ],
           [
            0.4444444444444444,
            "#26828e"
           ],
           [
            0.5555555555555556,
            "#1f9e89"
           ],
           [
            0.6666666666666666,
            "#35b779"
           ],
           [
            0.7777777777777778,
            "#6ece58"
           ],
           [
            0.8888888888888888,
            "#b5de2b"
           ],
           [
            1,
            "#fde725"
           ]
          ],
          "showscale": false,
          "width": 4
         },
         "mode": "lines",
         "showlegend": false,
         "type": "scatter3d",
         "x": {
          "bdata": "AAAAALooDiy6KI4sFz3VLLooDi3osjEtFz1VLUbHeC26KI4t0e2fLeiysS0AeMMtFz3VLS4C5y1Gx/gtLkYFLrooDi5GCxcu0e0fLl3QKC7osjEudJU6LgB4Qy6LWkwuFz1VLqMfXi4uAmcuuuRvLkbHeC7p1IAuLkaFLnS3iS66KI4uAJqSLkYLly6LfJsu0e2fLhdfpC5d0Kguo0GtLuiysS4uJLYudJW6LroGvy4AeMMuRunHLotazC7Ry9AuFz3VLl2u2S6hH94u55DiLi0C5y5zc+suuOTvLv5V9C5Ex/guijj9LujUAC+LDQMvLkYFL9B+By90twkvFvALL7ooDi9cYRAv/5kSL6LSFC9FCxcv6EMZL4p8Gy8utR0v0O0fL3QmIi8WXyQvuZcmL1zQKC//CCsvokEtL0V6Ly/osjEvi+szLy4kNi/QXDgvdJU6LxbOPC+5Bj8vXD9BL/93Qy+isEUvRelHL+ghSi+LWkwvLpNOL9DLUC9zBFMvFj1VL7l1Vy9crlkv/+ZbLw==",
          "dtype": "f4"
         },
         "y": {
          "bdata": "iXm7QIl5u0CJebtAiXm7QIl5u0CJebtAiXm7QIl5u0CJebtAiXm7QIl5u0CJebtAiXm7QIl5u0CJebtAiXm7QIl5u0CJebtAiXm7QIl5u0CJebtAiXm7QIl5u0CJebtAiXm7QIl5u0CJebtAiXm7QIl5u0CJebtAiXm7QIl5u0CJebtAiXm7QIl5u0CJebtAiXm7QIl5u0CJebtAiXm7QIl5u0CJebtAiXm7QIl5u0CJebtAiXm7QIl5u0CJebtAiXm7QIl5u0CJebtAiXm7QIl5u0CJebtAiXm7QIl5u0CJebtAiXm7QIl5u0CJebtAiXm7QIl5u0CJebtAiXm7QIl5u0CJebtAiXm7QIl5u0CJebtAiXm7QIl5u0CJebtAiXm7QIl5u0CJebtAiXm7QIl5u0CJebtAiXm7QIl5u0CJebtAiXm7QIl5u0CJebtAiXm7QIl5u0CJebtAiXm7QIl5u0CJebtAiXm7QIl5u0CJebtAiXm7QIl5u0CJebtAiXm7QIl5u0CJebtAiXm7QA==",
          "dtype": "f4"
         },
         "z": {
          "bdata": "AAAAAMfG3VsgaCpdEckFXhvhl17YBQ9fjTBuXxuxtV9j2QFg+H8wYMiCZmCqtpFgnlOzYKO912Dbj/5gI7ATYTHfKGG4nD5hP7FUYYzlamH8goBhzHCLYUsllmEGjaBhnJWqYVwwtGHRT71h7+rFYZD5zWE/d9VhRGDcYeyy4mHFb+hhXJftYSAs8mHWL/ZhQqX5YRGP/GF77/5hg2QAYssOAWKmdwFi/p8BYqmIAWK+MgFieJ8AYoug/2G2jf1hcAr7Ycsb+GHZ3fRhkE/xYYxf7WE4FulhZ3zkYVeb32Gue9phkSbVYfajz2EF/Mlh3zXEYURYvmF2abhh026yYUJtrGF1aaZhX2egYYJqmmFedpRh942OYQm0iGFS64Jhbmt6YSErb2HPGGRhZDdZYUSJTmF9D0Rhwco5YQe7L2GC3yVhlTYcYVq+EmEgdAlhs1QAYRG67mALE91gNq3LYLqBumDhialgeL+YYAIdiGD1Om9gy3lOYE3wLWAvmg1g+OraX68Gm18xJjdfeEewXg==",
          "dtype": "f4"
         }
        },
        {
         "line": {
          "cmax": 607840919713266800000,
          "cmin": -595483677853483000,
          "color": {
           "bdata": "AAAAAN0YAFxEzjRdo/cJXpDGml6F3BBfiWFwX5Lwtl8OiQJgnjsxYLRGZ2AQG5JgB7mzYPoi2GBj9P5g0eETYTEQKWERzT5hBeFUYccUa2FVmoBh1YeLYeQ7lmEEo6BhuKqqYUBEtGEgYr1hSPvFYZkHzmGrgtVh5mjcYbK44mHScuhh/ZftYeYq8mGBLfZhuaL5YW2N/GHu7/5hZmYAYvMSAWKafgFiMaoBYm2WAWI/RAFis7QAYg/S/2GIxf1hgUf7Ybdc+GEWIPVh3JDxYZue7WHVUelhcrPkYdXM32H0ptphLkvVYdrBz2FUE8phE0fEYRBkvmHJcLhhwXKyYf9urGExaqZhTWigYbdsmmHOepRhWpWOYdy+iGHN+YJhno96YeVVb2EESWRhgWtZYVy/TmFmRURhOf45YbDpL2ElByZhIFUcYQ3SEmGYewlh/k4AYWGT7mA90dxgh1HLYHUOumBaAqlg/CeYYLJ6h2BX7G1gAy5NYPW0LGBIfQxgBwrZX3qZmV8KZDVfT5OuXg==",
           "dtype": "f4"
          },
          "colorscale": [
           [
            0,
            "#440154"
           ],
           [
            0.1111111111111111,
            "#482878"
           ],
           [
            0.2222222222222222,
            "#3e4989"
           ],
           [
            0.3333333333333333,
            "#31688e"
           ],
           [
            0.4444444444444444,
            "#26828e"
           ],
           [
            0.5555555555555556,
            "#1f9e89"
           ],
           [
            0.6666666666666666,
            "#35b779"
           ],
           [
            0.7777777777777778,
            "#6ece58"
           ],
           [
            0.8888888888888888,
            "#b5de2b"
           ],
           [
            1,
            "#fde725"
           ]
          ],
          "showscale": false,
          "width": 4
         },
         "mode": "lines",
         "showlegend": false,
         "type": "scatter3d",
         "x": {
          "bdata": "AAAAALooDiy6KI4sFz3VLLooDi3osjEtFz1VLUbHeC26KI4t0e2fLeiysS0AeMMtFz3VLS4C5y1Gx/gtLkYFLrooDi5GCxcu0e0fLl3QKC7osjEudJU6LgB4Qy6LWkwuFz1VLqMfXi4uAmcuuuRvLkbHeC7p1IAuLkaFLnS3iS66KI4uAJqSLkYLly6LfJsu0e2fLhdfpC5d0Kguo0GtLuiysS4uJLYudJW6LroGvy4AeMMuRunHLotazC7Ry9AuFz3VLl2u2S6hH94u55DiLi0C5y5zc+suuOTvLv5V9C5Ex/guijj9LujUAC+LDQMvLkYFL9B+By90twkvFvALL7ooDi9cYRAv/5kSL6LSFC9FCxcv6EMZL4p8Gy8utR0v0O0fL3QmIi8WXyQvuZcmL1zQKC//CCsvokEtL0V6Ly/osjEvi+szLy4kNi/QXDgvdJU6LxbOPC+5Bj8vXD9BL/93Qy+isEUvRelHL+ghSi+LWkwvLpNOL9DLUC9zBFMvFj1VL7l1Vy9crlkv/+ZbLw==",
          "dtype": "f4"
         },
         "y": {
          "bdata": "fPDBQHzwwUB88MFAfPDBQHzwwUB88MFAfPDBQHzwwUB88MFAfPDBQHzwwUB88MFAfPDBQHzwwUB88MFAfPDBQHzwwUB88MFAfPDBQHzwwUB88MFAfPDBQHzwwUB88MFAfPDBQHzwwUB88MFAfPDBQHzwwUB88MFAfPDBQHzwwUB88MFAfPDBQHzwwUB88MFAfPDBQHzwwUB88MFAfPDBQHzwwUB88MFAfPDBQHzwwUB88MFAfPDBQHzwwUB88MFAfPDBQHzwwUB88MFAfPDBQHzwwUB88MFAfPDBQHzwwUB88MFAfPDBQHzwwUB88MFAfPDBQHzwwUB88MFAfPDBQHzwwUB88MFAfPDBQHzwwUB88MFAfPDBQHzwwUB88MFAfPDBQHzwwUB88MFAfPDBQHzwwUB88MFAfPDBQHzwwUB88MFAfPDBQHzwwUB88MFAfPDBQHzwwUB88MFAfPDBQHzwwUB88MFAfPDBQHzwwUB88MFAfPDBQHzwwUB88MFAfPDBQHzwwUB88MFAfPDBQA==",
          "dtype": "f4"
         },
         "z": {
          "bdata": "AAAAAN0YAFxEzjRdo/cJXpDGml6F3BBfiWFwX5Lwtl8OiQJgnjsxYLRGZ2AQG5JgB7mzYPoi2GBj9P5g0eETYTEQKWERzT5hBeFUYccUa2FVmoBh1YeLYeQ7lmEEo6BhuKqqYUBEtGEgYr1hSPvFYZkHzmGrgtVh5mjcYbK44mHScuhh/ZftYeYq8mGBLfZhuaL5YW2N/GHu7/5hZmYAYvMSAWKafgFiMaoBYm2WAWI/RAFis7QAYg/S/2GIxf1hgUf7Ybdc+GEWIPVh3JDxYZue7WHVUelhcrPkYdXM32H0ptphLkvVYdrBz2FUE8phE0fEYRBkvmHJcLhhwXKyYf9urGExaqZhTWigYbdsmmHOepRhWpWOYdy+iGHN+YJhno96YeVVb2EESWRhgWtZYVy/TmFmRURhOf45YbDpL2ElByZhIFUcYQ3SEmGYewlh/k4AYWGT7mA90dxgh1HLYHUOumBaAqlg/CeYYLJ6h2BX7G1gAy5NYPW0LGBIfQxgBwrZX3qZmV8KZDVfT5OuXg==",
          "dtype": "f4"
         }
        },
        {
         "line": {
          "cmax": 607840919713266800000,
          "cmin": -595483677853483000,
          "color": {
           "bdata": "AAAAAKRkEVwe3D5dsvkNXr+KnV5ZnRJf5HdyX4IguF/bLwNgTe0xYHf/Z2A6eZJggxe0YK2A2GCQUP9g8w4UYWA8KWFo+D5hwQtVYSg/a2F4r4Bh/ZyLYSBRlmFLuKBh+b+qYVJZtGHJdr1hUA/GYbUazmGblNVhf3ncYd3H4mGZgOhhj6TtYZs28mHiOPZhda75YVWa/GHr/v5haG8AYvQdAWIGjAFiaLoBYqypAWKsWgFiSc4AYpwFAGIEBP5hYIr7YcOi+GHXZvVhHdbxYVrh7WEAkelhA+7kYfcB4GH41dphsnPVYZrjz2FvLsph2lvEYQZzvmGqerhha3iyYXpxrGGNaqZhm2egYf9rmmH7epRhM5eOYfTCiGGJAINhq6J6YWRub2FpZmRh1YxZYVTjTmF4akRhoyI6YasLMGHcJCZh32wcYUriEmEMgwlhsEwAYSB67mD9otxg0Q7LYLO4uWDfm6hg5LOXYOT8hmBs5mxg8SdMYMi5K2B+mAtgjYTXX7xumF937TNfxRutXg==",
           "dtype": "f4"
          },
          "colorscale": [
           [
            0,
            "#440154"
           ],
           [
            0.1111111111111111,
            "#482878"
           ],
           [
            0.2222222222222222,
            "#3e4989"
           ],
           [
            0.3333333333333333,
            "#31688e"
           ],
           [
            0.4444444444444444,
            "#26828e"
           ],
           [
            0.5555555555555556,
            "#1f9e89"
           ],
           [
            0.6666666666666666,
            "#35b779"
           ],
           [
            0.7777777777777778,
            "#6ece58"
           ],
           [
            0.8888888888888888,
            "#b5de2b"
           ],
           [
            1,
            "#fde725"
           ]
          ],
          "showscale": false,
          "width": 4
         },
         "mode": "lines",
         "showlegend": false,
         "type": "scatter3d",
         "x": {
          "bdata": "AAAAALooDiy6KI4sFz3VLLooDi3osjEtFz1VLUbHeC26KI4t0e2fLeiysS0AeMMtFz3VLS4C5y1Gx/gtLkYFLrooDi5GCxcu0e0fLl3QKC7osjEudJU6LgB4Qy6LWkwuFz1VLqMfXi4uAmcuuuRvLkbHeC7p1IAuLkaFLnS3iS66KI4uAJqSLkYLly6LfJsu0e2fLhdfpC5d0Kguo0GtLuiysS4uJLYudJW6LroGvy4AeMMuRunHLotazC7Ry9AuFz3VLl2u2S6hH94u55DiLi0C5y5zc+suuOTvLv5V9C5Ex/guijj9LujUAC+LDQMvLkYFL9B+By90twkvFvALL7ooDi9cYRAv/5kSL6LSFC9FCxcv6EMZL4p8Gy8utR0v0O0fL3QmIi8WXyQvuZcmL1zQKC//CCsvokEtL0V6Ly/osjEvi+szLy4kNi/QXDgvdJU6LxbOPC+5Bj8vXD9BL/93Qy+isEUvRelHL+ghSi+LWkwvLpNOL9DLUC9zBFMvFj1VL7l1Vy9crlkv/+ZbLw==",
          "dtype": "f4"
         },
         "y": {
          "bdata": "cGfIQHBnyEBwZ8hAcGfIQHBnyEBwZ8hAcGfIQHBnyEBwZ8hAcGfIQHBnyEBwZ8hAcGfIQHBnyEBwZ8hAcGfIQHBnyEBwZ8hAcGfIQHBnyEBwZ8hAcGfIQHBnyEBwZ8hAcGfIQHBnyEBwZ8hAcGfIQHBnyEBwZ8hAcGfIQHBnyEBwZ8hAcGfIQHBnyEBwZ8hAcGfIQHBnyEBwZ8hAcGfIQHBnyEBwZ8hAcGfIQHBnyEBwZ8hAcGfIQHBnyEBwZ8hAcGfIQHBnyEBwZ8hAcGfIQHBnyEBwZ8hAcGfIQHBnyEBwZ8hAcGfIQHBnyEBwZ8hAcGfIQHBnyEBwZ8hAcGfIQHBnyEBwZ8hAcGfIQHBnyEBwZ8hAcGfIQHBnyEBwZ8hAcGfIQHBnyEBwZ8hAcGfIQHBnyEBwZ8hAcGfIQHBnyEBwZ8hAcGfIQHBnyEBwZ8hAcGfIQHBnyEBwZ8hAcGfIQHBnyEBwZ8hAcGfIQHBnyEBwZ8hAcGfIQHBnyEBwZ8hAcGfIQHBnyEBwZ8hAcGfIQA==",
          "dtype": "f4"
         },
         "z": {
          "bdata": "AAAAAKRkEVwe3D5dsvkNXr+KnV5ZnRJf5HdyX4IguF/bLwNgTe0xYHf/Z2A6eZJggxe0YK2A2GCQUP9g8w4UYWA8KWFo+D5hwQtVYSg/a2F4r4Bh/ZyLYSBRlmFLuKBh+b+qYVJZtGHJdr1hUA/GYbUazmGblNVhf3ncYd3H4mGZgOhhj6TtYZs28mHiOPZhda75YVWa/GHr/v5haG8AYvQdAWIGjAFiaLoBYqypAWKsWgFiSc4AYpwFAGIEBP5hYIr7YcOi+GHXZvVhHdbxYVrh7WEAkelhA+7kYfcB4GH41dphsnPVYZrjz2FvLsph2lvEYQZzvmGqerhha3iyYXpxrGGNaqZhm2egYf9rmmH7epRhM5eOYfTCiGGJAINhq6J6YWRub2FpZmRh1YxZYVTjTmF4akRhoyI6YasLMGHcJCZh32wcYUriEmEMgwlhsEwAYSB67mD9otxg0Q7LYLO4uWDfm6hg5LOXYOT8hmBs5mxg8SdMYMi5K2B+mAtgjYTXX7xumF937TNfxRutXg==",
          "dtype": "f4"
         }
        },
        {
         "line": {
          "cmax": 607840919713266800000,
          "cmin": -595483677853483000,
          "color": {
           "bdata": "AAAAALO/IlwCkUhdb88RXhMuoF6+SBRfWnR0X21BuV8czgNgaZUyYIOtaGBm0ZJgTm+0YOfW2GBxpP9giTcUYZpjKWGDHj9hAjFVYfdja2HhwYBhoK+LYSpklmHgy6BhKNSqYSButGEojL1hFyXGYcYwzmHSqtVhrI/cYerd4mF+luhhYrrtYZZM8mFPT/Zh0MX5YTaz/GH2Gf9hXn4AYrYuAWLongFisc8BYo3BAWI5dQFieOsAYkYlAGK0R/5hk9H7YWfs+GGJsPVhyB3yYSQm7mH20elhUSrlYdQ44GHNBtthC57VYU4H0GFsS8phXXLEYXiDvmGihbhhqX6yYdRzrGH2aaZhD2WgYWxommFId5RhKZSOYUDBiGGiAINhFKd6YT53b2GOc2RhxZ1ZYUP3TmFagERhNjk6YY8hMGGiOCZhIX0cYbftEmF+iAlhRUsAYTto7mBugdxgpd3KYK94uWCHTqhgcVuXYDCchmB3G2xgYVtLYFP0KmBq4wpgIE7WX7N+l1+ovDJfw+KrXg==",
           "dtype": "f4"
          },
          "colorscale": [
           [
            0,
            "#440154"
           ],
           [
            0.1111111111111111,
            "#482878"
           ],
           [
            0.2222222222222222,
            "#3e4989"
           ],
           [
            0.3333333333333333,
            "#31688e"
           ],
           [
            0.4444444444444444,
            "#26828e"
           ],
           [
            0.5555555555555556,
            "#1f9e89"
           ],
           [
            0.6666666666666666,
            "#35b779"
           ],
           [
            0.7777777777777778,
            "#6ece58"
           ],
           [
            0.8888888888888888,
            "#b5de2b"
           ],
           [
            1,
            "#fde725"
           ]
          ],
          "showscale": false,
          "width": 4
         },
         "mode": "lines",
         "showlegend": false,
         "type": "scatter3d",
         "x": {
          "bdata": "AAAAALooDiy6KI4sFz3VLLooDi3osjEtFz1VLUbHeC26KI4t0e2fLeiysS0AeMMtFz3VLS4C5y1Gx/gtLkYFLrooDi5GCxcu0e0fLl3QKC7osjEudJU6LgB4Qy6LWkwuFz1VLqMfXi4uAmcuuuRvLkbHeC7p1IAuLkaFLnS3iS66KI4uAJqSLkYLly6LfJsu0e2fLhdfpC5d0Kguo0GtLuiysS4uJLYudJW6LroGvy4AeMMuRunHLotazC7Ry9AuFz3VLl2u2S6hH94u55DiLi0C5y5zc+suuOTvLv5V9C5Ex/guijj9LujUAC+LDQMvLkYFL9B+By90twkvFvALL7ooDi9cYRAv/5kSL6LSFC9FCxcv6EMZL4p8Gy8utR0v0O0fL3QmIi8WXyQvuZcmL1zQKC//CCsvokEtL0V6Ly/osjEvi+szLy4kNi/QXDgvdJU6LxbOPC+5Bj8vXD9BL/93Qy+isEUvRelHL+ghSi+LWkwvLpNOL9DLUC9zBFMvFj1VL7l1Vy9crlkv/+ZbLw==",
          "dtype": "f4"
         },
         "y": {
          "bdata": "Yt7OQGLezkBi3s5AYt7OQGLezkBi3s5AYt7OQGLezkBi3s5AYt7OQGLezkBi3s5AYt7OQGLezkBi3s5AYt7OQGLezkBi3s5AYt7OQGLezkBi3s5AYt7OQGLezkBi3s5AYt7OQGLezkBi3s5AYt7OQGLezkBi3s5AYt7OQGLezkBi3s5AYt7OQGLezkBi3s5AYt7OQGLezkBi3s5AYt7OQGLezkBi3s5AYt7OQGLezkBi3s5AYt7OQGLezkBi3s5AYt7OQGLezkBi3s5AYt7OQGLezkBi3s5AYt7OQGLezkBi3s5AYt7OQGLezkBi3s5AYt7OQGLezkBi3s5AYt7OQGLezkBi3s5AYt7OQGLezkBi3s5AYt7OQGLezkBi3s5AYt7OQGLezkBi3s5AYt7OQGLezkBi3s5AYt7OQGLezkBi3s5AYt7OQGLezkBi3s5AYt7OQGLezkBi3s5AYt7OQGLezkBi3s5AYt7OQGLezkBi3s5AYt7OQGLezkBi3s5AYt7OQGLezkBi3s5AYt7OQA==",
          "dtype": "f4"
         },
         "z": {
          "bdata": "AAAAALO/IlwCkUhdb88RXhMuoF6+SBRfWnR0X21BuV8czgNgaZUyYIOtaGBm0ZJgTm+0YOfW2GBxpP9giTcUYZpjKWGDHj9hAjFVYfdja2HhwYBhoK+LYSpklmHgy6BhKNSqYSButGEojL1hFyXGYcYwzmHSqtVhrI/cYerd4mF+luhhYrrtYZZM8mFPT/Zh0MX5YTaz/GH2Gf9hXn4AYrYuAWLongFisc8BYo3BAWI5dQFieOsAYkYlAGK0R/5hk9H7YWfs+GGJsPVhyB3yYSQm7mH20elhUSrlYdQ44GHNBtthC57VYU4H0GFsS8phXXLEYXiDvmGihbhhqX6yYdRzrGH2aaZhD2WgYWxommFId5RhKZSOYUDBiGGiAINhFKd6YT53b2GOc2RhxZ1ZYUP3TmFagERhNjk6YY8hMGGiOCZhIX0cYbftEmF+iAlhRUsAYTto7mBugdxgpd3KYK94uWCHTqhgcVuXYDCchmB3G2xgYVtLYFP0KmBq4wpgIE7WX7N+l1+ovDJfw+KrXg==",
          "dtype": "f4"
         }
        },
        {
         "line": {
          "cmax": 607840919713266800000,
          "cmin": -595483677853483000,
          "color": {
           "bdata": "AAAAAHQkNFwy71FdfHoVXvuxol653xVfSVh2XypUul9gZARgkDQzYIxRaWD2I5NgxsC0YP8l2WBS8P9gp1sUYeuFKWE2Pz9hf1BVYcqCa2E80YBhQL+LYV50lmHr3KBhQeaqYXCBtGHDoL1hBTvGYflHzmExw9VhJ6ncYW344mH1sehh2NbtYRhq8mEabvZhJub5YW3V/GGOPv9hF5IAYhlEAWIttgFiCukBYhbdAWIBkwFibgsBYj1HAGIVj/5hoRv8YSc4+WGy+/VhWmbyYWNr7mElE+phq2blYbRv4GGjN9thdsjVYRkr0GGZaMphB4nEYfaTvmFqkLhhY4SyYT91rGHpZ6ZhbWCgYRhimmEccJRh7oyOYZy6iGEp+4JhP596Yfxyb2EHc2Rh1qBZYXT9TmEBiURhdkM6YVgsMGHdQiZhq4UcYX/zEmGHiglhuUgAYb5Y7mDCZtxgjbfKYIFHuWAyE6hgeBeXYKZRhmBkfmtgbLxKYDpaKmB6VQpgvFnVX9nAll8FyjFf8eaqXg==",
           "dtype": "f4"
          },
          "colorscale": [
           [
            0,
            "#440154"
           ],
           [
            0.1111111111111111,
            "#482878"
           ],
           [
            0.2222222222222222,
            "#3e4989"
           ],
           [
            0.3333333333333333,
            "#31688e"
           ],
           [
            0.4444444444444444,
            "#26828e"
           ],
           [
            0.5555555555555556,
            "#1f9e89"
           ],
           [
            0.6666666666666666,
            "#35b779"
           ],
           [
            0.7777777777777778,
            "#6ece58"
           ],
           [
            0.8888888888888888,
            "#b5de2b"
           ],
           [
            1,
            "#fde725"
           ]
          ],
          "showscale": false,
          "width": 4
         },
         "mode": "lines",
         "showlegend": false,
         "type": "scatter3d",
         "x": {
          "bdata": "AAAAALooDiy6KI4sFz3VLLooDi3osjEtFz1VLUbHeC26KI4t0e2fLeiysS0AeMMtFz3VLS4C5y1Gx/gtLkYFLrooDi5GCxcu0e0fLl3QKC7osjEudJU6LgB4Qy6LWkwuFz1VLqMfXi4uAmcuuuRvLkbHeC7p1IAuLkaFLnS3iS66KI4uAJqSLkYLly6LfJsu0e2fLhdfpC5d0Kguo0GtLuiysS4uJLYudJW6LroGvy4AeMMuRunHLotazC7Ry9AuFz3VLl2u2S6hH94u55DiLi0C5y5zc+suuOTvLv5V9C5Ex/guijj9LujUAC+LDQMvLkYFL9B+By90twkvFvALL7ooDi9cYRAv/5kSL6LSFC9FCxcv6EMZL4p8Gy8utR0v0O0fL3QmIi8WXyQvuZcmL1zQKC//CCsvokEtL0V6Ly/osjEvi+szLy4kNi/QXDgvdJU6LxbOPC+5Bj8vXD9BL/93Qy+isEUvRelHL+ghSi+LWkwvLpNOL9DLUC9zBFMvFj1VL7l1Vy9crlkv/+ZbLw==",
          "dtype": "f4"
         },
         "y": {
          "bdata": "VlXVQFZV1UBWVdVAVlXVQFZV1UBWVdVAVlXVQFZV1UBWVdVAVlXVQFZV1UBWVdVAVlXVQFZV1UBWVdVAVlXVQFZV1UBWVdVAVlXVQFZV1UBWVdVAVlXVQFZV1UBWVdVAVlXVQFZV1UBWVdVAVlXVQFZV1UBWVdVAVlXVQFZV1UBWVdVAVlXVQFZV1UBWVdVAVlXVQFZV1UBWVdVAVlXVQFZV1UBWVdVAVlXVQFZV1UBWVdVAVlXVQFZV1UBWVdVAVlXVQFZV1UBWVdVAVlXVQFZV1UBWVdVAVlXVQFZV1UBWVdVAVlXVQFZV1UBWVdVAVlXVQFZV1UBWVdVAVlXVQFZV1UBWVdVAVlXVQFZV1UBWVdVAVlXVQFZV1UBWVdVAVlXVQFZV1UBWVdVAVlXVQFZV1UBWVdVAVlXVQFZV1UBWVdVAVlXVQFZV1UBWVdVAVlXVQFZV1UBWVdVAVlXVQFZV1UBWVdVAVlXVQFZV1UBWVdVAVlXVQFZV1UBWVdVAVlXVQFZV1UBWVdVAVlXVQA==",
          "dtype": "f4"
         },
         "z": {
          "bdata": "AAAAAHQkNFwy71FdfHoVXvuxol653xVfSVh2XypUul9gZARgkDQzYIxRaWD2I5NgxsC0YP8l2WBS8P9gp1sUYeuFKWE2Pz9hf1BVYcqCa2E80YBhQL+LYV50lmHr3KBhQeaqYXCBtGHDoL1hBTvGYflHzmExw9VhJ6ncYW344mH1sehh2NbtYRhq8mEabvZhJub5YW3V/GGOPv9hF5IAYhlEAWIttgFiCukBYhbdAWIBkwFibgsBYj1HAGIVj/5hoRv8YSc4+WGy+/VhWmbyYWNr7mElE+phq2blYbRv4GGjN9thdsjVYRkr0GGZaMphB4nEYfaTvmFqkLhhY4SyYT91rGHpZ6ZhbWCgYRhimmEccJRh7oyOYZy6iGEp+4JhP596Yfxyb2EHc2Rh1qBZYXT9TmEBiURhdkM6YVgsMGHdQiZhq4UcYX/zEmGHiglhuUgAYb5Y7mDCZtxgjbfKYIFHuWAyE6hgeBeXYKZRhmBkfmtgbLxKYDpaKmB6VQpgvFnVX9nAll8FyjFf8eaqXg==",
          "dtype": "f4"
         }
        },
        {
         "line": {
          "cmax": 607840919713266800000,
          "cmin": -595483677853483000,
          "color": {
           "bdata": "AAAAAFKORVx0+1pddP0YXp4YpV7NYxdfqSV4X/pZu19X8wRgjcszYHvsaWBtcZNgewy1YI5u2WBdGgBhh3sUYXejKWGkWj9hQWpVYW+ba2Ff3YBhlMuLYVCBlmHY6qBhhvWqYVGStGF5s71hvU/GYbtezmEN3NVhDsTcYUwV42HF0Ohhk/ftYceM8mG/kvZh9Qz6YZL+/GFLav9haKkAYgBdAWLN0AFiewUCYmz7AWIxswFiZC0BYsZqAGLB2P5hKGf8Ya6E+WH7RvZhha7yYdav7mE4U+phvaHlYTWl4GEbZ9thkvHVYaJN0GGKhMphg57EYUSjvmH+mbhhyIiyYSN1rGEOZKZhm1mgYStZmmHgZZRhJYKOYfCviGEr8YJhh416YSNkb2FmZ2RhfZhZYTb4TmF0hkRh/0I6YTgtMGFBRCZhsoYcYUTzEmE7iAlho0MAYdJH7mBLTtxgLpfKYEofuWCv46dgq+GWYAcXhmBUA2tgDUBKYLnhKWCB5glgpJrUX3wsll8CDTFfcySqXg==",
           "dtype": "f4"
          },
          "colorscale": [
           [
            0,
            "#440154"
           ],
           [
            0.1111111111111111,
            "#482878"
           ],
           [
            0.2222222222222222,
            "#3e4989"
           ],
           [
            0.3333333333333333,
            "#31688e"
           ],
           [
            0.4444444444444444,
            "#26828e"
           ],
           [
            0.5555555555555556,
            "#1f9e89"
           ],
           [
            0.6666666666666666,
            "#35b779"
           ],
           [
            0.7777777777777778,
            "#6ece58"
           ],
           [
            0.8888888888888888,
            "#b5de2b"
           ],
           [
            1,
            "#fde725"
           ]
          ],
          "showscale": false,
          "width": 4
         },
         "mode": "lines",
         "showlegend": false,
         "type": "scatter3d",
         "x": {
          "bdata": "AAAAALooDiy6KI4sFz3VLLooDi3osjEtFz1VLUbHeC26KI4t0e2fLeiysS0AeMMtFz3VLS4C5y1Gx/gtLkYFLrooDi5GCxcu0e0fLl3QKC7osjEudJU6LgB4Qy6LWkwuFz1VLqMfXi4uAmcuuuRvLkbHeC7p1IAuLkaFLnS3iS66KI4uAJqSLkYLly6LfJsu0e2fLhdfpC5d0Kguo0GtLuiysS4uJLYudJW6LroGvy4AeMMuRunHLotazC7Ry9AuFz3VLl2u2S6hH94u55DiLi0C5y5zc+suuOTvLv5V9C5Ex/guijj9LujUAC+LDQMvLkYFL9B+By90twkvFvALL7ooDi9cYRAv/5kSL6LSFC9FCxcv6EMZL4p8Gy8utR0v0O0fL3QmIi8WXyQvuZcmL1zQKC//CCsvokEtL0V6Ly/osjEvi+szLy4kNi/QXDgvdJU6LxbOPC+5Bj8vXD9BL/93Qy+isEUvRelHL+ghSi+LWkwvLpNOL9DLUC9zBFMvFj1VL7l1Vy9crlkv/+ZbLw==",
          "dtype": "f4"
         },
         "y": {
          "bdata": "SMzbQEjM20BIzNtASMzbQEjM20BIzNtASMzbQEjM20BIzNtASMzbQEjM20BIzNtASMzbQEjM20BIzNtASMzbQEjM20BIzNtASMzbQEjM20BIzNtASMzbQEjM20BIzNtASMzbQEjM20BIzNtASMzbQEjM20BIzNtASMzbQEjM20BIzNtASMzbQEjM20BIzNtASMzbQEjM20BIzNtASMzbQEjM20BIzNtASMzbQEjM20BIzNtASMzbQEjM20BIzNtASMzbQEjM20BIzNtASMzbQEjM20BIzNtASMzbQEjM20BIzNtASMzbQEjM20BIzNtASMzbQEjM20BIzNtASMzbQEjM20BIzNtASMzbQEjM20BIzNtASMzbQEjM20BIzNtASMzbQEjM20BIzNtASMzbQEjM20BIzNtASMzbQEjM20BIzNtASMzbQEjM20BIzNtASMzbQEjM20BIzNtASMzbQEjM20BIzNtASMzbQEjM20BIzNtASMzbQEjM20BIzNtASMzbQEjM20BIzNtASMzbQA==",
          "dtype": "f4"
         },
         "z": {
          "bdata": "AAAAAFKORVx0+1pddP0YXp4YpV7NYxdfqSV4X/pZu19X8wRgjcszYHvsaWBtcZNgewy1YI5u2WBdGgBhh3sUYXejKWGkWj9hQWpVYW+ba2Ff3YBhlMuLYVCBlmHY6qBhhvWqYVGStGF5s71hvU/GYbtezmEN3NVhDsTcYUwV42HF0Ohhk/ftYceM8mG/kvZh9Qz6YZL+/GFLav9haKkAYgBdAWLN0AFiewUCYmz7AWIxswFiZC0BYsZqAGLB2P5hKGf8Ya6E+WH7RvZhha7yYdav7mE4U+phvaHlYTWl4GEbZ9thkvHVYaJN0GGKhMphg57EYUSjvmH+mbhhyIiyYSN1rGEOZKZhm1mgYStZmmHgZZRhJYKOYfCviGEr8YJhh416YSNkb2FmZ2RhfZhZYTb4TmF0hkRh/0I6YTgtMGFBRCZhsoYcYUTzEmE7iAlho0MAYdJH7mBLTtxgLpfKYEofuWCv46dgq+GWYAcXhmBUA2tgDUBKYLnhKWCB5glgpJrUX3wsll8CDTFfcySqXg==",
          "dtype": "f4"
         }
        },
        {
         "line": {
          "cmax": 607840919713266800000,
          "cmin": -595483677853483000,
          "color": {
           "bdata": "AAAAABT6VlwTvGNdslscXpJkp17Q1hhftN55XzFUvF/NewVgVVs0YFN/amBRupNgBlO1YCyx2WAuOQBhiJcUYZS8KWEWcT9hcX5VYQGua2FE5oBhhtSLYcSKlmFS9aBhdgGrYSGgtGF/w71hNWLGYeBzzmHz89Vhw97cYdUy42EV8ehhlBruYXyy8mEju/ZhAzj6YW0s/WEEm/9hPcMAYmd4AWLQ7QFiISQCYq8bAmIA1QFimlABYjWPAGJ3I/9hBLP8YdnQ+WFRkfZhRPXyYXHy7mEpkephdNrlYTvY4GETlNthNBjWYcZt0GExnsph1rHEYYGwvmGPobhhM4uyYQZzrGEdXqZhmFCgYdZNmmH6WJRhZnSOYQeiiGGh44JhEnR6YQZNb2EHU2RhFIdZYcHpTmGzekRhjTk6YZYlMGHFPSZhroAcYQrtEmEbgQlhBzsAYaUy7mB3NNxgS3jKYEv7uGDbuqdgs7SWYPrmhWDJn2pgddxJYP6BKWDrjglg1ATUXzK5lV+6fDBfrZWpXg==",
           "dtype": "f4"
          },
          "colorscale": [
           [
            0,
            "#440154"
           ],
           [
            0.1111111111111111,
            "#482878"
           ],
           [
            0.2222222222222222,
            "#3e4989"
           ],
           [
            0.3333333333333333,
            "#31688e"
           ],
           [
            0.4444444444444444,
            "#26828e"
           ],
           [
            0.5555555555555556,
            "#1f9e89"
           ],
           [
            0.6666666666666666,
            "#35b779"
           ],
           [
            0.7777777777777778,
            "#6ece58"
           ],
           [
            0.8888888888888888,
            "#b5de2b"
           ],
           [
            1,
            "#fde725"
           ]
          ],
          "showscale": false,
          "width": 4
         },
         "mode": "lines",
         "showlegend": false,
         "type": "scatter3d",
         "x": {
          "bdata": "AAAAALooDiy6KI4sFz3VLLooDi3osjEtFz1VLUbHeC26KI4t0e2fLeiysS0AeMMtFz3VLS4C5y1Gx/gtLkYFLrooDi5GCxcu0e0fLl3QKC7osjEudJU6LgB4Qy6LWkwuFz1VLqMfXi4uAmcuuuRvLkbHeC7p1IAuLkaFLnS3iS66KI4uAJqSLkYLly6LfJsu0e2fLhdfpC5d0Kguo0GtLuiysS4uJLYudJW6LroGvy4AeMMuRunHLotazC7Ry9AuFz3VLl2u2S6hH94u55DiLi0C5y5zc+suuOTvLv5V9C5Ex/guijj9LujUAC+LDQMvLkYFL9B+By90twkvFvALL7ooDi9cYRAv/5kSL6LSFC9FCxcv6EMZL4p8Gy8utR0v0O0fL3QmIi8WXyQvuZcmL1zQKC//CCsvokEtL0V6Ly/osjEvi+szLy4kNi/QXDgvdJU6LxbOPC+5Bj8vXD9BL/93Qy+isEUvRelHL+ghSi+LWkwvLpNOL9DLUC9zBFMvFj1VL7l1Vy9crlkv/+ZbLw==",
          "dtype": "f4"
         },
         "y": {
          "bdata": "PEPiQDxD4kA8Q+JAPEPiQDxD4kA8Q+JAPEPiQDxD4kA8Q+JAPEPiQDxD4kA8Q+JAPEPiQDxD4kA8Q+JAPEPiQDxD4kA8Q+JAPEPiQDxD4kA8Q+JAPEPiQDxD4kA8Q+JAPEPiQDxD4kA8Q+JAPEPiQDxD4kA8Q+JAPEPiQDxD4kA8Q+JAPEPiQDxD4kA8Q+JAPEPiQDxD4kA8Q+JAPEPiQDxD4kA8Q+JAPEPiQDxD4kA8Q+JAPEPiQDxD4kA8Q+JAPEPiQDxD4kA8Q+JAPEPiQDxD4kA8Q+JAPEPiQDxD4kA8Q+JAPEPiQDxD4kA8Q+JAPEPiQDxD4kA8Q+JAPEPiQDxD4kA8Q+JAPEPiQDxD4kA8Q+JAPEPiQDxD4kA8Q+JAPEPiQDxD4kA8Q+JAPEPiQDxD4kA8Q+JAPEPiQDxD4kA8Q+JAPEPiQDxD4kA8Q+JAPEPiQDxD4kA8Q+JAPEPiQDxD4kA8Q+JAPEPiQDxD4kA8Q+JAPEPiQDxD4kA8Q+JAPEPiQDxD4kA8Q+JAPEPiQA==",
          "dtype": "f4"
         },
         "z": {
          "bdata": "AAAAABT6VlwTvGNdslscXpJkp17Q1hhftN55XzFUvF/NewVgVVs0YFN/amBRupNgBlO1YCyx2WAuOQBhiJcUYZS8KWEWcT9hcX5VYQGua2FE5oBhhtSLYcSKlmFS9aBhdgGrYSGgtGF/w71hNWLGYeBzzmHz89Vhw97cYdUy42EV8ehhlBruYXyy8mEju/ZhAzj6YW0s/WEEm/9hPcMAYmd4AWLQ7QFiISQCYq8bAmIA1QFimlABYjWPAGJ3I/9hBLP8YdnQ+WFRkfZhRPXyYXHy7mEpkephdNrlYTvY4GETlNthNBjWYcZt0GExnsph1rHEYYGwvmGPobhhM4uyYQZzrGEdXqZhmFCgYdZNmmH6WJRhZnSOYQeiiGGh44JhEnR6YQZNb2EHU2RhFIdZYcHpTmGzekRhjTk6YZYlMGHFPSZhroAcYQrtEmEbgQlhBzsAYaUy7mB3NNxgS3jKYEv7uGDbuqdgs7SWYPrmhWDJn2pgddxJYP6BKWDrjglg1ATUXzK5lV+6fDBfrZWpXg==",
          "dtype": "f4"
         }
        },
        {
         "line": {
          "cmax": 607840919713266800000,
          "cmin": -595483677853483000,
          "color": {
           "bdata": "AAAAAHpkaFweOGxd5pgfXrCYqV6cOhpf14V7XzZEvV+Y/gVg0eQ0YCoLa2BF/5NgCpW1YJnu2WD1VABhA7AUYaTRKWHlgj9hZo1VYcu6a2H664BhFNqLYbGQlmEp/KBhxgmrYWyqtGE00L1hs3HGYXmGzmHUCdZhDvjcYY1P42FAEelhLD7uYWDZ8mFV5fZhcGX6YQZd/WHAzv9hst4AYmaVAWJaDAJiJEQCYh49AmK69wFidnQBYu+zAGIhbv9hKv78Ya0b+mHR2fZhtznzYWcy72EnzOphCRDmYQEI4WG5vdthgzvWYbaK0GHItMphPsLEYf+6vmGOprhhMYuyYZxurGHxVaZhYEWgYUtAmmHSSZRhSmSOYZORiGFb04JhylR6Yagvb2EROGRhwW5ZYSTUTmGpZ0Rh2Cg6YcsWMGF0MCZhTHQcYRDhEmEJdQlhYC4AYWoX7mC7FtxgsFfKYMTXuGCelKdgOIyWYAS9hWD4SmpgQolJYFgzKWAKSAlgeY3TXylflV9wEDBf8DOpXg==",
           "dtype": "f4"
          },
          "colorscale": [
           [
            0,
            "#440154"
           ],
           [
            0.1111111111111111,
            "#482878"
           ],
           [
            0.2222222222222222,
            "#3e4989"
           ],
           [
            0.3333333333333333,
            "#31688e"
           ],
           [
            0.4444444444444444,
            "#26828e"
           ],
           [
            0.5555555555555556,
            "#1f9e89"
           ],
           [
            0.6666666666666666,
            "#35b779"
           ],
           [
            0.7777777777777778,
            "#6ece58"
           ],
           [
            0.8888888888888888,
            "#b5de2b"
           ],
           [
            1,
            "#fde725"
           ]
          ],
          "showscale": false,
          "width": 4
         },
         "mode": "lines",
         "showlegend": false,
         "type": "scatter3d",
         "x": {
          "bdata": "AAAAALooDiy6KI4sFz3VLLooDi3osjEtFz1VLUbHeC26KI4t0e2fLeiysS0AeMMtFz3VLS4C5y1Gx/gtLkYFLrooDi5GCxcu0e0fLl3QKC7osjEudJU6LgB4Qy6LWkwuFz1VLqMfXi4uAmcuuuRvLkbHeC7p1IAuLkaFLnS3iS66KI4uAJqSLkYLly6LfJsu0e2fLhdfpC5d0Kguo0GtLuiysS4uJLYudJW6LroGvy4AeMMuRunHLotazC7Ry9AuFz3VLl2u2S6hH94u55DiLi0C5y5zc+suuOTvLv5V9C5Ex/guijj9LujUAC+LDQMvLkYFL9B+By90twkvFvALL7ooDi9cYRAv/5kSL6LSFC9FCxcv6EMZL4p8Gy8utR0v0O0fL3QmIi8WXyQvuZcmL1zQKC//CCsvokEtL0V6Ly/osjEvi+szLy4kNi/QXDgvdJU6LxbOPC+5Bj8vXD9BL/93Qy+isEUvRelHL+ghSi+LWkwvLpNOL9DLUC9zBFMvFj1VL7l1Vy9crlkv/+ZbLw==",
          "dtype": "f4"
         },
         "y": {
          "bdata": "LrroQC666EAuuuhALrroQC666EAuuuhALrroQC666EAuuuhALrroQC666EAuuuhALrroQC666EAuuuhALrroQC666EAuuuhALrroQC666EAuuuhALrroQC666EAuuuhALrroQC666EAuuuhALrroQC666EAuuuhALrroQC666EAuuuhALrroQC666EAuuuhALrroQC666EAuuuhALrroQC666EAuuuhALrroQC666EAuuuhALrroQC666EAuuuhALrroQC666EAuuuhALrroQC666EAuuuhALrroQC666EAuuuhALrroQC666EAuuuhALrroQC666EAuuuhALrroQC666EAuuuhALrroQC666EAuuuhALrroQC666EAuuuhALrroQC666EAuuuhALrroQC666EAuuuhALrroQC666EAuuuhALrroQC666EAuuuhALrroQC666EAuuuhALrroQC666EAuuuhALrroQC666EAuuuhALrroQC666EAuuuhALrroQC666EAuuuhALrroQA==",
          "dtype": "f4"
         },
         "z": {
          "bdata": "AAAAAHpkaFweOGxd5pgfXrCYqV6cOhpf14V7XzZEvV+Y/gVg0eQ0YCoLa2BF/5NgCpW1YJnu2WD1VABhA7AUYaTRKWHlgj9hZo1VYcu6a2H664BhFNqLYbGQlmEp/KBhxgmrYWyqtGE00L1hs3HGYXmGzmHUCdZhDvjcYY1P42FAEelhLD7uYWDZ8mFV5fZhcGX6YQZd/WHAzv9hst4AYmaVAWJaDAJiJEQCYh49AmK69wFidnQBYu+zAGIhbv9hKv78Ya0b+mHR2fZhtznzYWcy72EnzOphCRDmYQEI4WG5vdthgzvWYbaK0GHItMphPsLEYf+6vmGOprhhMYuyYZxurGHxVaZhYEWgYUtAmmHSSZRhSmSOYZORiGFb04JhylR6Yagvb2EROGRhwW5ZYSTUTmGpZ0Rh2Cg6YcsWMGF0MCZhTHQcYRDhEmEJdQlhYC4AYWoX7mC7FtxgsFfKYMTXuGCelKdgOIyWYAS9hWD4SmpgQolJYFgzKWAKSAlgeY3TXylflV9wEDBf8DOpXg==",
          "dtype": "f4"
         }
        },
        {
         "line": {
          "cmax": 607840919713266800000,
          "cmin": -595483677853483000,
          "color": {
           "bdata": "AAAAAEDLeVz8dnRd3rgiXtK3q14kkRtfXh19X3Urvl+EfAZg52g1YAORa2DaQJRgKtO1YIMn2mAcbgBhZ8UUYRvjKWGHkD9hm5dVYT/Ca2G87oBhZNyLYSeTlmFn/6BhZA6rYQSxtGFT2b1h0H3GYeyVzmHzHNZh/g7dYXdq42EjMOlhCWHuYSQA82HgD/dhsZP6YdGO/WH9AQBi8foAYjuzAWKtKwJi3WQCYhZfAmLJGgJiZJgBYn/YAGLht/9h1kf9YX9k+mHPH/dhS3vzYSlv72GqA+th9UHmYfoz4WGK49thDFvWYfaj0GHQx8phQs/EYVrCvmGkqLhhg4iyYcBnrGGGS6ZhEzigYcUwmmG/OJRhS1KOYTF/iGEawYJhUTF6YdsNb2FWGGRhXVFZYS25TmEPT0RhahI6YT8CMGFsHSZhZGIcYeHPEmEtZAlhgR0AYRr17WBr89tgMzPKYAmyuGDcbadg1mSWYJ+VhWDC/Wlgjj9JYFjvKGAvDAlgLCvTX3EXlV/2vy9fAvioXg==",
           "dtype": "f4"
          },
          "colorscale": [
           [
            0,
            "#440154"
           ],
           [
            0.1111111111111111,
            "#482878"
           ],
           [
            0.2222222222222222,
            "#3e4989"
           ],
           [
            0.3333333333333333,
            "#31688e"
           ],
           [
            0.4444444444444444,
            "#26828e"
           ],
           [
            0.5555555555555556,
            "#1f9e89"
           ],
           [
            0.6666666666666666,
            "#35b779"
           ],
           [
            0.7777777777777778,
            "#6ece58"
           ],
           [
            0.8888888888888888,
            "#b5de2b"
           ],
           [
            1,
            "#fde725"
           ]
          ],
          "showscale": false,
          "width": 4
         },
         "mode": "lines",
         "showlegend": false,
         "type": "scatter3d",
         "x": {
          "bdata": "AAAAALooDiy6KI4sFz3VLLooDi3osjEtFz1VLUbHeC26KI4t0e2fLeiysS0AeMMtFz3VLS4C5y1Gx/gtLkYFLrooDi5GCxcu0e0fLl3QKC7osjEudJU6LgB4Qy6LWkwuFz1VLqMfXi4uAmcuuuRvLkbHeC7p1IAuLkaFLnS3iS66KI4uAJqSLkYLly6LfJsu0e2fLhdfpC5d0Kguo0GtLuiysS4uJLYudJW6LroGvy4AeMMuRunHLotazC7Ry9AuFz3VLl2u2S6hH94u55DiLi0C5y5zc+suuOTvLv5V9C5Ex/guijj9LujUAC+LDQMvLkYFL9B+By90twkvFvALL7ooDi9cYRAv/5kSL6LSFC9FCxcv6EMZL4p8Gy8utR0v0O0fL3QmIi8WXyQvuZcmL1zQKC//CCsvokEtL0V6Ly/osjEvi+szLy4kNi/QXDgvdJU6LxbOPC+5Bj8vXD9BL/93Qy+isEUvRelHL+ghSi+LWkwvLpNOL9DLUC9zBFMvFj1VL7l1Vy9crlkv/+ZbLw==",
          "dtype": "f4"
         },
         "y": {
          "bdata": "IjHvQCIx70AiMe9AIjHvQCIx70AiMe9AIjHvQCIx70AiMe9AIjHvQCIx70AiMe9AIjHvQCIx70AiMe9AIjHvQCIx70AiMe9AIjHvQCIx70AiMe9AIjHvQCIx70AiMe9AIjHvQCIx70AiMe9AIjHvQCIx70AiMe9AIjHvQCIx70AiMe9AIjHvQCIx70AiMe9AIjHvQCIx70AiMe9AIjHvQCIx70AiMe9AIjHvQCIx70AiMe9AIjHvQCIx70AiMe9AIjHvQCIx70AiMe9AIjHvQCIx70AiMe9AIjHvQCIx70AiMe9AIjHvQCIx70AiMe9AIjHvQCIx70AiMe9AIjHvQCIx70AiMe9AIjHvQCIx70AiMe9AIjHvQCIx70AiMe9AIjHvQCIx70AiMe9AIjHvQCIx70AiMe9AIjHvQCIx70AiMe9AIjHvQCIx70AiMe9AIjHvQCIx70AiMe9AIjHvQCIx70AiMe9AIjHvQCIx70AiMe9AIjHvQCIx70AiMe9AIjHvQCIx70AiMe9AIjHvQA==",
          "dtype": "f4"
         },
         "z": {
          "bdata": "AAAAAEDLeVz8dnRd3rgiXtK3q14kkRtfXh19X3Urvl+EfAZg52g1YAORa2DaQJRgKtO1YIMn2mAcbgBhZ8UUYRvjKWGHkD9hm5dVYT/Ca2G87oBhZNyLYSeTlmFn/6BhZA6rYQSxtGFT2b1h0H3GYeyVzmHzHNZh/g7dYXdq42EjMOlhCWHuYSQA82HgD/dhsZP6YdGO/WH9AQBi8foAYjuzAWKtKwJi3WQCYhZfAmLJGgJiZJgBYn/YAGLht/9h1kf9YX9k+mHPH/dhS3vzYSlv72GqA+th9UHmYfoz4WGK49thDFvWYfaj0GHQx8phQs/EYVrCvmGkqLhhg4iyYcBnrGGGS6ZhEzigYcUwmmG/OJRhS1KOYTF/iGEawYJhUTF6YdsNb2FWGGRhXVFZYS25TmEPT0RhahI6YT8CMGFsHSZhZGIcYeHPEmEtZAlhgR0AYRr17WBr89tgMzPKYAmyuGDcbadg1mSWYJ+VhWDC/Wlgjj9JYFjvKGAvDAlgLCvTX3EXlV/2vy9fAvioXg==",
          "dtype": "f4"
         }
        },
        {
         "line": {
          "cmax": 607840919713266800000,
          "cmin": -595483677853483000,
          "color": {
           "bdata": "AAAAADyWhVwngHxdX78lXtrErV5L3Bxfpad+X0cLv19c9gZgjOg1YPURbGCnf5RgIA62YLBc2mAPhQBhLdgUYXfxKWGLmj9hmZ1VYdPEa2HF7oBhttuLYWOSlmEw/6BhaQ+rYe2ztGG/3r1hTYbGYe+hzmHTLNZhByPdYdSC42HrTOlhNYLuYaol82GgOfdhfMH6YYTA/WGwHABiYRcBYkrRAWIySwJiuIUCYheBAmK3PQJi/7sBYoP8AGIGAABidI/9Ycmq+mHmYvdhn7nzYV2o72FuN+th6m/mYe9b4WFLBdxhjnbWYUO50GEU18phudjEYWXGvmGsp7hhFIOyYWperGHpPqZh0SigYYYfmmEcJpRh1j6OYXJriGF6rYJhBQt6YQ/pbmFw9WNhijBZYXqaTmF0MkRhsfc5YTTpL2HFBSZh00scYRe6EmHpTglhhggAYVzL7WCsydtgaAnKYE2IuGBsRKdgHTyWYChuhWCrsmlg5PlIYNewKGCy1ghgEtbSXxPclF/ggy9fkdqoXg==",
           "dtype": "f4"
          },
          "colorscale": [
           [
            0,
            "#440154"
           ],
           [
            0.1111111111111111,
            "#482878"
           ],
           [
            0.2222222222222222,
            "#3e4989"
           ],
           [
            0.3333333333333333,
            "#31688e"
           ],
           [
            0.4444444444444444,
            "#26828e"
           ],
           [
            0.5555555555555556,
            "#1f9e89"
           ],
           [
            0.6666666666666666,
            "#35b779"
           ],
           [
            0.7777777777777778,
            "#6ece58"
           ],
           [
            0.8888888888888888,
            "#b5de2b"
           ],
           [
            1,
            "#fde725"
           ]
          ],
          "showscale": false,
          "width": 4
         },
         "mode": "lines",
         "showlegend": false,
         "type": "scatter3d",
         "x": {
          "bdata": "AAAAALooDiy6KI4sFz3VLLooDi3osjEtFz1VLUbHeC26KI4t0e2fLeiysS0AeMMtFz3VLS4C5y1Gx/gtLkYFLrooDi5GCxcu0e0fLl3QKC7osjEudJU6LgB4Qy6LWkwuFz1VLqMfXi4uAmcuuuRvLkbHeC7p1IAuLkaFLnS3iS66KI4uAJqSLkYLly6LfJsu0e2fLhdfpC5d0Kguo0GtLuiysS4uJLYudJW6LroGvy4AeMMuRunHLotazC7Ry9AuFz3VLl2u2S6hH94u55DiLi0C5y5zc+suuOTvLv5V9C5Ex/guijj9LujUAC+LDQMvLkYFL9B+By90twkvFvALL7ooDi9cYRAv/5kSL6LSFC9FCxcv6EMZL4p8Gy8utR0v0O0fL3QmIi8WXyQvuZcmL1zQKC//CCsvokEtL0V6Ly/osjEvi+szLy4kNi/QXDgvdJU6LxbOPC+5Bj8vXD9BL/93Qy+isEUvRelHL+ghSi+LWkwvLpNOL9DLUC9zBFMvFj1VL7l1Vy9crlkv/+ZbLw==",
          "dtype": "f4"
         },
         "y": {
          "bdata": "Faj1QBWo9UAVqPVAFaj1QBWo9UAVqPVAFaj1QBWo9UAVqPVAFaj1QBWo9UAVqPVAFaj1QBWo9UAVqPVAFaj1QBWo9UAVqPVAFaj1QBWo9UAVqPVAFaj1QBWo9UAVqPVAFaj1QBWo9UAVqPVAFaj1QBWo9UAVqPVAFaj1QBWo9UAVqPVAFaj1QBWo9UAVqPVAFaj1QBWo9UAVqPVAFaj1QBWo9UAVqPVAFaj1QBWo9UAVqPVAFaj1QBWo9UAVqPVAFaj1QBWo9UAVqPVAFaj1QBWo9UAVqPVAFaj1QBWo9UAVqPVAFaj1QBWo9UAVqPVAFaj1QBWo9UAVqPVAFaj1QBWo9UAVqPVAFaj1QBWo9UAVqPVAFaj1QBWo9UAVqPVAFaj1QBWo9UAVqPVAFaj1QBWo9UAVqPVAFaj1QBWo9UAVqPVAFaj1QBWo9UAVqPVAFaj1QBWo9UAVqPVAFaj1QBWo9UAVqPVAFaj1QBWo9UAVqPVAFaj1QBWo9UAVqPVAFaj1QBWo9UAVqPVAFaj1QA==",
          "dtype": "f4"
         },
         "z": {
          "bdata": "AAAAADyWhVwngHxdX78lXtrErV5L3Bxfpad+X0cLv19c9gZgjOg1YPURbGCnf5RgIA62YLBc2mAPhQBhLdgUYXfxKWGLmj9hmZ1VYdPEa2HF7oBhttuLYWOSlmEw/6BhaQ+rYe2ztGG/3r1hTYbGYe+hzmHTLNZhByPdYdSC42HrTOlhNYLuYaol82GgOfdhfMH6YYTA/WGwHABiYRcBYkrRAWIySwJiuIUCYheBAmK3PQJi/7sBYoP8AGIGAABidI/9Ycmq+mHmYvdhn7nzYV2o72FuN+th6m/mYe9b4WFLBdxhjnbWYUO50GEU18phudjEYWXGvmGsp7hhFIOyYWperGHpPqZh0SigYYYfmmEcJpRh1j6OYXJriGF6rYJhBQt6YQ/pbmFw9WNhijBZYXqaTmF0MkRhsfc5YTTpL2HFBSZh00scYRe6EmHpTglhhggAYVzL7WCsydtgaAnKYE2IuGBsRKdgHTyWYChuhWCrsmlg5PlIYNewKGCy1ghgEtbSXxPclF/ggy9fkdqoXg==",
          "dtype": "f4"
         }
        },
        {
         "line": {
          "cmax": 607840919713266800000,
          "cmin": -595483677853483000,
          "color": {
           "bdata": "AAAAAO1CjlwdLYJdyK8oXkfCr17AHR5fWBOAX9nkv1/PbAdgf2Q2YMmObGAlvJRgbUa2YMSO2mAlmgBhuegUYS39KWFloT9h459VYSbDa2Fi7IBhUtiLYZ2OlmG++6BhAw2rYUiztGGG4L1hHovGYViqzmE/OdZh0jPdYTWY42H/ZulhCKHuYTBJ82G2Yfdh+u36YTTx/WH8NgBigDMBYhHvAWJ4agJiRKYCYrCiAmIiYAJi9N4BYqwfAWIVIwBioNT9YTnu+mHPovdhhfTzYejd72FPZ+th4JnmYcJ/4WHpItxh943WYZTK0GGC4sphl97EYRbHvmGno7hh53qyYalSrGE2MKZhyRegYcUMmmE0EpRhTyqOYblWiGH6mIJhB+N5YYHCbmGY0GNhjQ1ZYVZ5TmESE0Rh7tk5YdDML2GF6iVheDEcYW2gEmG9NQlhcN//YFua7WBAmdtgqdnJYIFZuGDtFqdgXxCWYLtEhWC6ZWlgMrRIYN1zKGDoowhg3ofSXyGolF/KVS9fstSoXg==",
           "dtype": "f4"
          },
          "colorscale": [
           [
            0,
            "#440154"
           ],
           [
            0.1111111111111111,
            "#482878"
           ],
           [
            0.2222222222222222,
            "#3e4989"
           ],
           [
            0.3333333333333333,
            "#31688e"
           ],
           [
            0.4444444444444444,
            "#26828e"
           ],
           [
            0.5555555555555556,
            "#1f9e89"
           ],
           [
            0.6666666666666666,
            "#35b779"
           ],
           [
            0.7777777777777778,
            "#6ece58"
           ],
           [
            0.8888888888888888,
            "#b5de2b"
           ],
           [
            1,
            "#fde725"
           ]
          ],
          "showscale": false,
          "width": 4
         },
         "mode": "lines",
         "showlegend": false,
         "type": "scatter3d",
         "x": {
          "bdata": "AAAAALooDiy6KI4sFz3VLLooDi3osjEtFz1VLUbHeC26KI4t0e2fLeiysS0AeMMtFz3VLS4C5y1Gx/gtLkYFLrooDi5GCxcu0e0fLl3QKC7osjEudJU6LgB4Qy6LWkwuFz1VLqMfXi4uAmcuuuRvLkbHeC7p1IAuLkaFLnS3iS66KI4uAJqSLkYLly6LfJsu0e2fLhdfpC5d0Kguo0GtLuiysS4uJLYudJW6LroGvy4AeMMuRunHLotazC7Ry9AuFz3VLl2u2S6hH94u55DiLi0C5y5zc+suuOTvLv5V9C5Ex/guijj9LujUAC+LDQMvLkYFL9B+By90twkvFvALL7ooDi9cYRAv/5kSL6LSFC9FCxcv6EMZL4p8Gy8utR0v0O0fL3QmIi8WXyQvuZcmL1zQKC//CCsvokEtL0V6Ly/osjEvi+szLy4kNi/QXDgvdJU6LxbOPC+5Bj8vXD9BL/93Qy+isEUvRelHL+ghSi+LWkwvLpNOL9DLUC9zBFMvFj1VL7l1Vy9crlkv/+ZbLw==",
          "dtype": "f4"
         },
         "y": {
          "bdata": "CB/8QAgf/EAIH/xACB/8QAgf/EAIH/xACB/8QAgf/EAIH/xACB/8QAgf/EAIH/xACB/8QAgf/EAIH/xACB/8QAgf/EAIH/xACB/8QAgf/EAIH/xACB/8QAgf/EAIH/xACB/8QAgf/EAIH/xACB/8QAgf/EAIH/xACB/8QAgf/EAIH/xACB/8QAgf/EAIH/xACB/8QAgf/EAIH/xACB/8QAgf/EAIH/xACB/8QAgf/EAIH/xACB/8QAgf/EAIH/xACB/8QAgf/EAIH/xACB/8QAgf/EAIH/xACB/8QAgf/EAIH/xACB/8QAgf/EAIH/xACB/8QAgf/EAIH/xACB/8QAgf/EAIH/xACB/8QAgf/EAIH/xACB/8QAgf/EAIH/xACB/8QAgf/EAIH/xACB/8QAgf/EAIH/xACB/8QAgf/EAIH/xACB/8QAgf/EAIH/xACB/8QAgf/EAIH/xACB/8QAgf/EAIH/xACB/8QAgf/EAIH/xACB/8QAgf/EAIH/xACB/8QAgf/EAIH/xACB/8QA==",
          "dtype": "f4"
         },
         "z": {
          "bdata": "AAAAAO1CjlwdLYJdyK8oXkfCr17AHR5fWBOAX9nkv1/PbAdgf2Q2YMmObGAlvJRgbUa2YMSO2mAlmgBhuegUYS39KWFloT9h459VYSbDa2Fi7IBhUtiLYZ2OlmG++6BhAw2rYUiztGGG4L1hHovGYViqzmE/OdZh0jPdYTWY42H/ZulhCKHuYTBJ82G2Yfdh+u36YTTx/WH8NgBigDMBYhHvAWJ4agJiRKYCYrCiAmIiYAJi9N4BYqwfAWIVIwBioNT9YTnu+mHPovdhhfTzYejd72FPZ+th4JnmYcJ/4WHpItxh943WYZTK0GGC4sphl97EYRbHvmGno7hh53qyYalSrGE2MKZhyRegYcUMmmE0EpRhTyqOYblWiGH6mIJhB+N5YYHCbmGY0GNhjQ1ZYVZ5TmESE0Rh7tk5YdDML2GF6iVheDEcYW2gEmG9NQlhcN//YFua7WBAmdtgqdnJYIFZuGDtFqdgXxCWYLtEhWC6ZWlgMrRIYN1zKGDoowhg3ofSXyGolF/KVS9fstSoXg==",
          "dtype": "f4"
         }
        },
        {
         "line": {
          "cmax": 607840919713266800000,
          "cmin": -595483677853483000,
          "color": {
           "bdata": "AAAAAO3qllzkBYZdVo0rXnuysV78Vh9fM86AX1C5wF974Adgdd02YGIIbWDW9pRgpHy2YGC+2mDCrQBhfvcUYbUGKmGgpT9hFp9VYda9a2Ho54BhjdKLYTSIlmFq9aBhfgerYVevtGHg3r1heIzGYUSvzmFBQtZhSUHdYWqq42EhfulhJL3uYUBq82Gmh/dhkxj7YTcg/mGOUABi+E4BYjwMAmIeiQJiL8YCYpzDAmLGgQJiAgECYtJBAWL4RABiHhf+Ya0u+2F23/dh9iv0YdQP8GFnk+th77/mYaKf4WGJPNxhb6HWYQzY0GFD6sph/uDEYZDEvmHDnLhhLXCyYbBErGGcH6ZhLwWgYb74mWFI/ZNh+hSOYWVBiGH2g4JhI7p5YRSbbmHHqmNhZulYYdJWTmEF8kNhHLo5YRGuL2GXzCVhLhQcYZiDEmFCGQlhGKf/YKhi7WBkYttg5qPJYD8luGCp5KZgq+CVYDIYhWBEFGlgqmtIYJM1KGAicQhgxTvSX7V3lF9VMC9f/d+oXg==",
           "dtype": "f4"
          },
          "colorscale": [
           [
            0,
            "#440154"
           ],
           [
            0.1111111111111111,
            "#482878"
           ],
           [
            0.2222222222222222,
            "#3e4989"
           ],
           [
            0.3333333333333333,
            "#31688e"
           ],
           [
            0.4444444444444444,
            "#26828e"
           ],
           [
            0.5555555555555556,
            "#1f9e89"
           ],
           [
            0.6666666666666666,
            "#35b779"
           ],
           [
            0.7777777777777778,
            "#6ece58"
           ],
           [
            0.8888888888888888,
            "#b5de2b"
           ],
           [
            1,
            "#fde725"
           ]
          ],
          "showscale": false,
          "width": 4
         },
         "mode": "lines",
         "showlegend": false,
         "type": "scatter3d",
         "x": {
          "bdata": "AAAAALooDiy6KI4sFz3VLLooDi3osjEtFz1VLUbHeC26KI4t0e2fLeiysS0AeMMtFz3VLS4C5y1Gx/gtLkYFLrooDi5GCxcu0e0fLl3QKC7osjEudJU6LgB4Qy6LWkwuFz1VLqMfXi4uAmcuuuRvLkbHeC7p1IAuLkaFLnS3iS66KI4uAJqSLkYLly6LfJsu0e2fLhdfpC5d0Kguo0GtLuiysS4uJLYudJW6LroGvy4AeMMuRunHLotazC7Ry9AuFz3VLl2u2S6hH94u55DiLi0C5y5zc+suuOTvLv5V9C5Ex/guijj9LujUAC+LDQMvLkYFL9B+By90twkvFvALL7ooDi9cYRAv/5kSL6LSFC9FCxcv6EMZL4p8Gy8utR0v0O0fL3QmIi8WXyQvuZcmL1zQKC//CCsvokEtL0V6Ly/osjEvi+szLy4kNi/QXDgvdJU6LxbOPC+5Bj8vXD9BL/93Qy+isEUvRelHL+ghSi+LWkwvLpNOL9DLUC9zBFMvFj1VL7l1Vy9crlkv/+ZbLw==",
          "dtype": "f4"
         },
         "y": {
          "bdata": "/koBQf5KAUH+SgFB/koBQf5KAUH+SgFB/koBQf5KAUH+SgFB/koBQf5KAUH+SgFB/koBQf5KAUH+SgFB/koBQf5KAUH+SgFB/koBQf5KAUH+SgFB/koBQf5KAUH+SgFB/koBQf5KAUH+SgFB/koBQf5KAUH+SgFB/koBQf5KAUH+SgFB/koBQf5KAUH+SgFB/koBQf5KAUH+SgFB/koBQf5KAUH+SgFB/koBQf5KAUH+SgFB/koBQf5KAUH+SgFB/koBQf5KAUH+SgFB/koBQf5KAUH+SgFB/koBQf5KAUH+SgFB/koBQf5KAUH+SgFB/koBQf5KAUH+SgFB/koBQf5KAUH+SgFB/koBQf5KAUH+SgFB/koBQf5KAUH+SgFB/koBQf5KAUH+SgFB/koBQf5KAUH+SgFB/koBQf5KAUH+SgFB/koBQf5KAUH+SgFB/koBQf5KAUH+SgFB/koBQf5KAUH+SgFB/koBQf5KAUH+SgFB/koBQf5KAUH+SgFB/koBQf5KAUH+SgFB/koBQQ==",
          "dtype": "f4"
         },
         "z": {
          "bdata": "AAAAAO3qllzkBYZdVo0rXnuysV78Vh9fM86AX1C5wF974Adgdd02YGIIbWDW9pRgpHy2YGC+2mDCrQBhfvcUYbUGKmGgpT9hFp9VYda9a2Ho54BhjdKLYTSIlmFq9aBhfgerYVevtGHg3r1heIzGYUSvzmFBQtZhSUHdYWqq42EhfulhJL3uYUBq82Gmh/dhkxj7YTcg/mGOUABi+E4BYjwMAmIeiQJiL8YCYpzDAmLGgQJiAgECYtJBAWL4RABiHhf+Ya0u+2F23/dh9iv0YdQP8GFnk+th77/mYaKf4WGJPNxhb6HWYQzY0GFD6sph/uDEYZDEvmHDnLhhLXCyYbBErGGcH6ZhLwWgYb74mWFI/ZNh+hSOYWVBiGH2g4JhI7p5YRSbbmHHqmNhZulYYdJWTmEF8kNhHLo5YRGuL2GXzCVhLhQcYZiDEmFCGQlhGKf/YKhi7WBkYttg5qPJYD8luGCp5KZgq+CVYDIYhWBEFGlgqmtIYJM1KGAicQhgxTvSX7V3lF9VMC9f/d+oXg==",
          "dtype": "f4"
         }
        },
        {
         "line": {
          "cmax": 607840919713266800000,
          "cmin": -595483677853483000,
          "color": {
           "bdata": "AAAAAHGNn1wNzYldvVouXn6Xs15liSBfKIWBX4mJwV/vUQhgDlQ3YHF/bWAfMJVgP7G2YBDs2mA3wABh1QQVYX8OKmG+pz9ht5tVYYe1a2Gq4YBhxsqLYYZ/lmGK7KBhO/+qYXSotGEo2r1hmIrGYeSwzmH2R9ZhgEvdYXe542E7kulhZtbuYaqI82EXq/dh5kD7YSBN/mEsaQBii2kBYo0oAmL1pgJiReUCYqrjAmJ+ogJiDiICYtpiAWKbZQBi3lb+YSFs+2HrGPhhDWD0YUE+8GHmu+thTOLmYcG74WF3UtxhP7HWYfrh0GGh7sphO+DEYSG/vmEzk7hhGWOyYbY0rGFcDaZhPPGfYarjmWGa55NhHf+NYbcriGG/boJh/pB5YW5zbmG8hGNh5sRYYbQzTmEY0ENhJpk5YcyNL2HPrCVhsfQbYUlkEmEV+ghhEWn/YB0l7WCxJdtgeGjJYJ/rt2B7raZgm6yVYPPnhGDIvGhgjR5IYBr0J2CAPAhgSu7RX+RHlF84Dy9fz/aoXg==",
           "dtype": "f4"
          },
          "colorscale": [
           [
            0,
            "#440154"
           ],
           [
            0.1111111111111111,
            "#482878"
           ],
           [
            0.2222222222222222,
            "#3e4989"
           ],
           [
            0.3333333333333333,
            "#31688e"
           ],
           [
            0.4444444444444444,
            "#26828e"
           ],
           [
            0.5555555555555556,
            "#1f9e89"
           ],
           [
            0.6666666666666666,
            "#35b779"
           ],
           [
            0.7777777777777778,
            "#6ece58"
           ],
           [
            0.8888888888888888,
            "#b5de2b"
           ],
           [
            1,
            "#fde725"
           ]
          ],
          "showscale": false,
          "width": 4
         },
         "mode": "lines",
         "showlegend": false,
         "type": "scatter3d",
         "x": {
          "bdata": "AAAAALooDiy6KI4sFz3VLLooDi3osjEtFz1VLUbHeC26KI4t0e2fLeiysS0AeMMtFz3VLS4C5y1Gx/gtLkYFLrooDi5GCxcu0e0fLl3QKC7osjEudJU6LgB4Qy6LWkwuFz1VLqMfXi4uAmcuuuRvLkbHeC7p1IAuLkaFLnS3iS66KI4uAJqSLkYLly6LfJsu0e2fLhdfpC5d0Kguo0GtLuiysS4uJLYudJW6LroGvy4AeMMuRunHLotazC7Ry9AuFz3VLl2u2S6hH94u55DiLi0C5y5zc+suuOTvLv5V9C5Ex/guijj9LujUAC+LDQMvLkYFL9B+By90twkvFvALL7ooDi9cYRAv/5kSL6LSFC9FCxcv6EMZL4p8Gy8utR0v0O0fL3QmIi8WXyQvuZcmL1zQKC//CCsvokEtL0V6Ly/osjEvi+szLy4kNi/QXDgvdJU6LxbOPC+5Bj8vXD9BL/93Qy+isEUvRelHL+ghSi+LWkwvLpNOL9DLUC9zBFMvFj1VL7l1Vy9crlkv/+ZbLw==",
          "dtype": "f4"
         },
         "y": {
          "bdata": "d4YEQXeGBEF3hgRBd4YEQXeGBEF3hgRBd4YEQXeGBEF3hgRBd4YEQXeGBEF3hgRBd4YEQXeGBEF3hgRBd4YEQXeGBEF3hgRBd4YEQXeGBEF3hgRBd4YEQXeGBEF3hgRBd4YEQXeGBEF3hgRBd4YEQXeGBEF3hgRBd4YEQXeGBEF3hgRBd4YEQXeGBEF3hgRBd4YEQXeGBEF3hgRBd4YEQXeGBEF3hgRBd4YEQXeGBEF3hgRBd4YEQXeGBEF3hgRBd4YEQXeGBEF3hgRBd4YEQXeGBEF3hgRBd4YEQXeGBEF3hgRBd4YEQXeGBEF3hgRBd4YEQXeGBEF3hgRBd4YEQXeGBEF3hgRBd4YEQXeGBEF3hgRBd4YEQXeGBEF3hgRBd4YEQXeGBEF3hgRBd4YEQXeGBEF3hgRBd4YEQXeGBEF3hgRBd4YEQXeGBEF3hgRBd4YEQXeGBEF3hgRBd4YEQXeGBEF3hgRBd4YEQXeGBEF3hgRBd4YEQXeGBEF3hgRBd4YEQXeGBEF3hgRBd4YEQQ==",
          "dtype": "f4"
         },
         "z": {
          "bdata": "AAAAAHGNn1wNzYldvVouXn6Xs15liSBfKIWBX4mJwV/vUQhgDlQ3YHF/bWAfMJVgP7G2YBDs2mA3wABh1QQVYX8OKmG+pz9ht5tVYYe1a2Gq4YBhxsqLYYZ/lmGK7KBhO/+qYXSotGEo2r1hmIrGYeSwzmH2R9ZhgEvdYXe542E7kulhZtbuYaqI82EXq/dh5kD7YSBN/mEsaQBii2kBYo0oAmL1pgJiReUCYqrjAmJ+ogJiDiICYtpiAWKbZQBi3lb+YSFs+2HrGPhhDWD0YUE+8GHmu+thTOLmYcG74WF3UtxhP7HWYfrh0GGh7sphO+DEYSG/vmEzk7hhGWOyYbY0rGFcDaZhPPGfYarjmWGa55NhHf+NYbcriGG/boJh/pB5YW5zbmG8hGNh5sRYYbQzTmEY0ENhJpk5YcyNL2HPrCVhsfQbYUlkEmEV+ghhEWn/YB0l7WCxJdtgeGjJYJ/rt2B7raZgm6yVYPPnhGDIvGhgjR5IYBr0J2CAPAhgSu7RX+RHlF84Dy9fz/aoXg==",
          "dtype": "f4"
         }
        },
        {
         "line": {
          "cmax": 607840919713266800000,
          "cmin": -595483677853483000,
          "color": {
           "bdata": "AAAAAJYpqFzhhI1dRxoxXvJytV4DtiFf2ziCX0ZWwl+LwQhgxMg3YH70bWBOaJVgnuS2YE8Y22DG0QBhFBEVYfMUKmEyqD9hUZZVYbqqa2H02YBhS8GLYet0lmGE4aBhlfSqYfuetGGp0r1h1IXGYY+vzmGeStZhrFLdYYDF42Flo+lh0+zuYVyk82H6y/dhzGb7Yc13/mG1gABiGIMBYuRDAmLSwwJiYwMDYrkCA2IqwgJiAUICYrGCAWL4hABi35P+Yaam+2FQT/hh/5D0YW5p8GEO4ethRwHnYX7U4WH8ZNxhvb3WYbLo0GHx78phk9zEYQ63vmFKh7hh8lOyYfYirGGh+aVhIdyfYbrNmWFP0ZNh4eiNYd0ViGF9WYJh+Wd5YQNMbmHoXmNhgqBYYYcQTmHirUNhm3c5YaRsL2HQiyVhr9MbYStDEmHW2AhhcSb/YLPi7GDs49pg+CfJYBCtt2CdcaZgOXSVYNizhGCrXmhg/stHYG2uJ2DfBAhgLZ3RX50WlF8Y7y5fXRSpXg==",
           "dtype": "f4"
          },
          "colorscale": [
           [
            0,
            "#440154"
           ],
           [
            0.1111111111111111,
            "#482878"
           ],
           [
            0.2222222222222222,
            "#3e4989"
           ],
           [
            0.3333333333333333,
            "#31688e"
           ],
           [
            0.4444444444444444,
            "#26828e"
           ],
           [
            0.5555555555555556,
            "#1f9e89"
           ],
           [
            0.6666666666666666,
            "#35b779"
           ],
           [
            0.7777777777777778,
            "#6ece58"
           ],
           [
            0.8888888888888888,
            "#b5de2b"
           ],
           [
            1,
            "#fde725"
           ]
          ],
          "showscale": false,
          "width": 4
         },
         "mode": "lines",
         "showlegend": false,
         "type": "scatter3d",
         "x": {
          "bdata": "AAAAALooDiy6KI4sFz3VLLooDi3osjEtFz1VLUbHeC26KI4t0e2fLeiysS0AeMMtFz3VLS4C5y1Gx/gtLkYFLrooDi5GCxcu0e0fLl3QKC7osjEudJU6LgB4Qy6LWkwuFz1VLqMfXi4uAmcuuuRvLkbHeC7p1IAuLkaFLnS3iS66KI4uAJqSLkYLly6LfJsu0e2fLhdfpC5d0Kguo0GtLuiysS4uJLYudJW6LroGvy4AeMMuRunHLotazC7Ry9AuFz3VLl2u2S6hH94u55DiLi0C5y5zc+suuOTvLv5V9C5Ex/guijj9LujUAC+LDQMvLkYFL9B+By90twkvFvALL7ooDi9cYRAv/5kSL6LSFC9FCxcv6EMZL4p8Gy8utR0v0O0fL3QmIi8WXyQvuZcmL1zQKC//CCsvokEtL0V6Ly/osjEvi+szLy4kNi/QXDgvdJU6LxbOPC+5Bj8vXD9BL/93Qy+isEUvRelHL+ghSi+LWkwvLpNOL9DLUC9zBFMvFj1VL7l1Vy9crlkv/+ZbLw==",
          "dtype": "f4"
         },
         "y": {
          "bdata": "8MEHQfDBB0HwwQdB8MEHQfDBB0HwwQdB8MEHQfDBB0HwwQdB8MEHQfDBB0HwwQdB8MEHQfDBB0HwwQdB8MEHQfDBB0HwwQdB8MEHQfDBB0HwwQdB8MEHQfDBB0HwwQdB8MEHQfDBB0HwwQdB8MEHQfDBB0HwwQdB8MEHQfDBB0HwwQdB8MEHQfDBB0HwwQdB8MEHQfDBB0HwwQdB8MEHQfDBB0HwwQdB8MEHQfDBB0HwwQdB8MEHQfDBB0HwwQdB8MEHQfDBB0HwwQdB8MEHQfDBB0HwwQdB8MEHQfDBB0HwwQdB8MEHQfDBB0HwwQdB8MEHQfDBB0HwwQdB8MEHQfDBB0HwwQdB8MEHQfDBB0HwwQdB8MEHQfDBB0HwwQdB8MEHQfDBB0HwwQdB8MEHQfDBB0HwwQdB8MEHQfDBB0HwwQdB8MEHQfDBB0HwwQdB8MEHQfDBB0HwwQdB8MEHQfDBB0HwwQdB8MEHQfDBB0HwwQdB8MEHQfDBB0HwwQdB8MEHQfDBB0HwwQdB8MEHQQ==",
          "dtype": "f4"
         },
         "z": {
          "bdata": "AAAAAJYpqFzhhI1dRxoxXvJytV4DtiFf2ziCX0ZWwl+LwQhgxMg3YH70bWBOaJVgnuS2YE8Y22DG0QBhFBEVYfMUKmEyqD9hUZZVYbqqa2H02YBhS8GLYet0lmGE4aBhlfSqYfuetGGp0r1h1IXGYY+vzmGeStZhrFLdYYDF42Flo+lh0+zuYVyk82H6y/dhzGb7Yc13/mG1gABiGIMBYuRDAmLSwwJiYwMDYrkCA2IqwgJiAUICYrGCAWL4hABi35P+Yaam+2FQT/hh/5D0YW5p8GEO4ethRwHnYX7U4WH8ZNxhvb3WYbLo0GHx78phk9zEYQ63vmFKh7hh8lOyYfYirGGh+aVhIdyfYbrNmWFP0ZNh4eiNYd0ViGF9WYJh+Wd5YQNMbmHoXmNhgqBYYYcQTmHirUNhm3c5YaRsL2HQiyVhr9MbYStDEmHW2AhhcSb/YLPi7GDs49pg+CfJYBCtt2CdcaZgOXSVYNizhGCrXmhg/stHYG2uJ2DfBAhgLZ3RX50WlF8Y7y5fXRSpXg==",
          "dtype": "f4"
         }
        },
        {
         "line": {
          "cmax": 607840919713266800000,
          "cmin": -595483677853483000,
          "color": {
           "bdata": "AAAAAJW+sFwzL5Fd1s0zXjxGt1613SJf1emCXyEgw1+tLwlg8zs4YPlnbmCqn5VgExe3YHpD22Cw4gBhhhwVYVoaKmFVpz9hVo9VYf+da2EY0YBhcbaLYblolmG01KBh8ueqYViTtGHRyL1hkX7GYZWrzmGUStZhF1fdYcfO42HRselhjADvYW+982Fa6vdhSIr7YSig/mEllwBikpsBYjFeAmKq3wJieSADYsAgA2LG4AJi1WACYl+hAWIcowBiR87+YW3e+2HfgvhhBL/0YaOR8GE7A+xhQh3nYTzq4WGOdNxhW8fWYZ7s0GGd7sphc9bEYbusvmFZebhhBkOyYbkPrGGv5KVhE8afYRq3mWGUupNha9KNYfL/h2FSRIJhUz95YRMlbmGSOWNhjnxYYbHtTWHMi0Nh91U5YR5LL2ElaiVhtbEbYckgEmEStghhWeD+YHKc7GARntpgOuPIYD5qt2CXMaZg4zeVYBd8hGAI+mdg0HNHYCNkJ2CzyQdgJEfRX5Hik1+fzS5fvDSpXg==",
           "dtype": "f4"
          },
          "colorscale": [
           [
            0,
            "#440154"
           ],
           [
            0.1111111111111111,
            "#482878"
           ],
           [
            0.2222222222222222,
            "#3e4989"
           ],
           [
            0.3333333333333333,
            "#31688e"
           ],
           [
            0.4444444444444444,
            "#26828e"
           ],
           [
            0.5555555555555556,
            "#1f9e89"
           ],
           [
            0.6666666666666666,
            "#35b779"
           ],
           [
            0.7777777777777778,
            "#6ece58"
           ],
           [
            0.8888888888888888,
            "#b5de2b"
           ],
           [
            1,
            "#fde725"
           ]
          ],
          "showscale": false,
          "width": 4
         },
         "mode": "lines",
         "showlegend": false,
         "type": "scatter3d",
         "x": {
          "bdata": "AAAAALooDiy6KI4sFz3VLLooDi3osjEtFz1VLUbHeC26KI4t0e2fLeiysS0AeMMtFz3VLS4C5y1Gx/gtLkYFLrooDi5GCxcu0e0fLl3QKC7osjEudJU6LgB4Qy6LWkwuFz1VLqMfXi4uAmcuuuRvLkbHeC7p1IAuLkaFLnS3iS66KI4uAJqSLkYLly6LfJsu0e2fLhdfpC5d0Kguo0GtLuiysS4uJLYudJW6LroGvy4AeMMuRunHLotazC7Ry9AuFz3VLl2u2S6hH94u55DiLi0C5y5zc+suuOTvLv5V9C5Ex/guijj9LujUAC+LDQMvLkYFL9B+By90twkvFvALL7ooDi9cYRAv/5kSL6LSFC9FCxcv6EMZL4p8Gy8utR0v0O0fL3QmIi8WXyQvuZcmL1zQKC//CCsvokEtL0V6Ly/osjEvi+szLy4kNi/QXDgvdJU6LxbOPC+5Bj8vXD9BL/93Qy+isEUvRelHL+ghSi+LWkwvLpNOL9DLUC9zBFMvFj1VL7l1Vy9crlkv/+ZbLw==",
          "dtype": "f4"
         },
         "y": {
          "bdata": "av0KQWr9CkFq/QpBav0KQWr9CkFq/QpBav0KQWr9CkFq/QpBav0KQWr9CkFq/QpBav0KQWr9CkFq/QpBav0KQWr9CkFq/QpBav0KQWr9CkFq/QpBav0KQWr9CkFq/QpBav0KQWr9CkFq/QpBav0KQWr9CkFq/QpBav0KQWr9CkFq/QpBav0KQWr9CkFq/QpBav0KQWr9CkFq/QpBav0KQWr9CkFq/QpBav0KQWr9CkFq/QpBav0KQWr9CkFq/QpBav0KQWr9CkFq/QpBav0KQWr9CkFq/QpBav0KQWr9CkFq/QpBav0KQWr9CkFq/QpBav0KQWr9CkFq/QpBav0KQWr9CkFq/QpBav0KQWr9CkFq/QpBav0KQWr9CkFq/QpBav0KQWr9CkFq/QpBav0KQWr9CkFq/QpBav0KQWr9CkFq/QpBav0KQWr9CkFq/QpBav0KQWr9CkFq/QpBav0KQWr9CkFq/QpBav0KQWr9CkFq/QpBav0KQWr9CkFq/QpBav0KQWr9CkFq/QpBav0KQQ==",
          "dtype": "f4"
         },
         "z": {
          "bdata": "AAAAAJW+sFwzL5Fd1s0zXjxGt1613SJf1emCXyEgw1+tLwlg8zs4YPlnbmCqn5VgExe3YHpD22Cw4gBhhhwVYVoaKmFVpz9hVo9VYf+da2EY0YBhcbaLYblolmG01KBh8ueqYViTtGHRyL1hkX7GYZWrzmGUStZhF1fdYcfO42HRselhjADvYW+982Fa6vdhSIr7YSig/mEllwBikpsBYjFeAmKq3wJieSADYsAgA2LG4AJi1WACYl+hAWIcowBiR87+YW3e+2HfgvhhBL/0YaOR8GE7A+xhQh3nYTzq4WGOdNxhW8fWYZ7s0GGd7sphc9bEYbusvmFZebhhBkOyYbkPrGGv5KVhE8afYRq3mWGUupNha9KNYfL/h2FSRIJhUz95YRMlbmGSOWNhjnxYYbHtTWHMi0Nh91U5YR5LL2ElaiVhtbEbYckgEmEStghhWeD+YHKc7GARntpgOuPIYD5qt2CXMaZg4zeVYBd8hGAI+mdg0HNHYCNkJ2CzyQdgJEfRX5Hik1+fzS5fvDSpXg==",
          "dtype": "f4"
         }
        },
        {
         "line": {
          "cmax": 607840919713266800000,
          "cmin": -595483677853483000,
          "color": {
           "bdata": "AAAAAL5LuVyMzZRd3XY2XmcSuV4nASRfeJiDX4Xnw1+TnAlg7604YEXabmBp1pVg2ki3YORt22Al8wBhXycVYQsfKmGSpT9hKYdVYc+Pa2Fcx4BhjKqLYUtblmF6xqBhsNmqYeaFtGECvb1hNnXGYWqlzmE5SNZhIFndYaHV42HOvelh2hHvYSLU82FgBvhhe6v7YUjG/mF/rABiA7MBYnh3AmJ/+gJijDwDYr49A2JU/gJilH4CYuy+AWIUwABiQwb/YbYT/GHYs/hhd+r0YT+38GHIIuxhoTbnYWj94WGcgdxhfc7WYTfu0GES68phSc7EYYOgvmG8abhhqjCyYT/7q2HBzqVhQa+fYfKfmWGFo5NhzruNYQnqh2FGL4JhGhd5YbT+bWHbFGNhOFlYYV3LTWETakNhgDQ5YYwpL2E1SCVhNI8bYaP9EWFJkghhzZf+YFpT7GAaVdpgLZvIYP8jt2Ah7qVgM/iUYCZBhGCGj2dgahZHYGAVJ2DnigdgtOvQXxCrk184qS5f5VSpXg==",
           "dtype": "f4"
          },
          "colorscale": [
           [
            0,
            "#440154"
           ],
           [
            0.1111111111111111,
            "#482878"
           ],
           [
            0.2222222222222222,
            "#3e4989"
           ],
           [
            0.3333333333333333,
            "#31688e"
           ],
           [
            0.4444444444444444,
            "#26828e"
           ],
           [
            0.5555555555555556,
            "#1f9e89"
           ],
           [
            0.6666666666666666,
            "#35b779"
           ],
           [
            0.7777777777777778,
            "#6ece58"
           ],
           [
            0.8888888888888888,
            "#b5de2b"
           ],
           [
            1,
            "#fde725"
           ]
          ],
          "showscale": false,
          "width": 4
         },
         "mode": "lines",
         "showlegend": false,
         "type": "scatter3d",
         "x": {
          "bdata": "AAAAALooDiy6KI4sFz3VLLooDi3osjEtFz1VLUbHeC26KI4t0e2fLeiysS0AeMMtFz3VLS4C5y1Gx/gtLkYFLrooDi5GCxcu0e0fLl3QKC7osjEudJU6LgB4Qy6LWkwuFz1VLqMfXi4uAmcuuuRvLkbHeC7p1IAuLkaFLnS3iS66KI4uAJqSLkYLly6LfJsu0e2fLhdfpC5d0Kguo0GtLuiysS4uJLYudJW6LroGvy4AeMMuRunHLotazC7Ry9AuFz3VLl2u2S6hH94u55DiLi0C5y5zc+suuOTvLv5V9C5Ex/guijj9LujUAC+LDQMvLkYFL9B+By90twkvFvALL7ooDi9cYRAv/5kSL6LSFC9FCxcv6EMZL4p8Gy8utR0v0O0fL3QmIi8WXyQvuZcmL1zQKC//CCsvokEtL0V6Ly/osjEvi+szLy4kNi/QXDgvdJU6LxbOPC+5Bj8vXD9BL/93Qy+isEUvRelHL+ghSi+LWkwvLpNOL9DLUC9zBFMvFj1VL7l1Vy9crlkv/+ZbLw==",
          "dtype": "f4"
         },
         "y": {
          "bdata": "5DgOQeQ4DkHkOA5B5DgOQeQ4DkHkOA5B5DgOQeQ4DkHkOA5B5DgOQeQ4DkHkOA5B5DgOQeQ4DkHkOA5B5DgOQeQ4DkHkOA5B5DgOQeQ4DkHkOA5B5DgOQeQ4DkHkOA5B5DgOQeQ4DkHkOA5B5DgOQeQ4DkHkOA5B5DgOQeQ4DkHkOA5B5DgOQeQ4DkHkOA5B5DgOQeQ4DkHkOA5B5DgOQeQ4DkHkOA5B5DgOQeQ4DkHkOA5B5DgOQeQ4DkHkOA5B5DgOQeQ4DkHkOA5B5DgOQeQ4DkHkOA5B5DgOQeQ4DkHkOA5B5DgOQeQ4DkHkOA5B5DgOQeQ4DkHkOA5B5DgOQeQ4DkHkOA5B5DgOQeQ4DkHkOA5B5DgOQeQ4DkHkOA5B5DgOQeQ4DkHkOA5B5DgOQeQ4DkHkOA5B5DgOQeQ4DkHkOA5B5DgOQeQ4DkHkOA5B5DgOQeQ4DkHkOA5B5DgOQeQ4DkHkOA5B5DgOQeQ4DkHkOA5B5DgOQeQ4DkHkOA5B5DgOQeQ4DkHkOA5B5DgOQQ==",
          "dtype": "f4"
         },
         "z": {
          "bdata": "AAAAAL5LuVyMzZRd3XY2XmcSuV4nASRfeJiDX4Xnw1+TnAlg7604YEXabmBp1pVg2ki3YORt22Al8wBhXycVYQsfKmGSpT9hKYdVYc+Pa2Fcx4BhjKqLYUtblmF6xqBhsNmqYeaFtGECvb1hNnXGYWqlzmE5SNZhIFndYaHV42HOvelh2hHvYSLU82FgBvhhe6v7YUjG/mF/rABiA7MBYnh3AmJ/+gJijDwDYr49A2JU/gJilH4CYuy+AWIUwABiQwb/YbYT/GHYs/hhd+r0YT+38GHIIuxhoTbnYWj94WGcgdxhfc7WYTfu0GES68phSc7EYYOgvmG8abhhqjCyYT/7q2HBzqVhQa+fYfKfmWGFo5NhzruNYQnqh2FGL4JhGhd5YbT+bWHbFGNhOFlYYV3LTWETakNhgDQ5YYwpL2E1SCVhNI8bYaP9EWFJkghhzZf+YFpT7GAaVdpgLZvIYP8jt2Ah7qVgM/iUYCZBhGCGj2dgahZHYGAVJ2DnigdgtOvQXxCrk184qS5f5VSpXg==",
          "dtype": "f4"
         }
        },
        {
         "line": {
          "cmax": 607840919713266800000,
          "cmin": -595483677853483000,
          "color": {
           "bdata": "AAAAAFPQwVz9YJhdiBY5XkXYul7aICVfDkWEX9esxF9vCApg5x45YKJLb2C1DJZgLXq3YMiX22BOAwFh3TEVYT8jKmE0oz9hMH5VYZuAa2H4vIBh3Z2LYexMlmEjt6BhL8qqYQt3tGGpr71hI2rGYWSdzmH1Q9ZhIlndYWna42Gxx+lhCSHvYbDo82FNIPhhocr7YV7q/mHbwABid8kBYsWPAmJcFANiqVcDYsJZA2LnGgNiT5sCYnPbAWL72wBiCzz/YbFG/GGG4vhhoBP1YZza8GEeQOxhyE3nYWoO4mGRjNxhpNPWYebt0GG35cphdMTEYc+SvmHIWLhhJB2yYdLlq2ELuKVh3pefYWKImWE3jJNhG6WNYS7Uh2FlGoJhWu94YeXYbWG/8GJhfTZYYZapTWHbSENhYBM5YS0IL2FKJiVhhmwbYRraEWHtbQhhtE3+YGgI7GD6CdpgvFDIYDvbtmAKqKVg37WUYKMDhGAiIGdgi7RGYKbCJmDHSAdgC4vQX+9vk1/1gC5finKpXg==",
           "dtype": "f4"
          },
          "colorscale": [
           [
            0,
            "#440154"
           ],
           [
            0.1111111111111111,
            "#482878"
           ],
           [
            0.2222222222222222,
            "#3e4989"
           ],
           [
            0.3333333333333333,
            "#31688e"
           ],
           [
            0.4444444444444444,
            "#26828e"
           ],
           [
            0.5555555555555556,
            "#1f9e89"
           ],
           [
            0.6666666666666666,
            "#35b779"
           ],
           [
            0.7777777777777778,
            "#6ece58"
           ],
           [
            0.8888888888888888,
            "#b5de2b"
           ],
           [
            1,
            "#fde725"
           ]
          ],
          "showscale": false,
          "width": 4
         },
         "mode": "lines",
         "showlegend": false,
         "type": "scatter3d",
         "x": {
          "bdata": "AAAAALooDiy6KI4sFz3VLLooDi3osjEtFz1VLUbHeC26KI4t0e2fLeiysS0AeMMtFz3VLS4C5y1Gx/gtLkYFLrooDi5GCxcu0e0fLl3QKC7osjEudJU6LgB4Qy6LWkwuFz1VLqMfXi4uAmcuuuRvLkbHeC7p1IAuLkaFLnS3iS66KI4uAJqSLkYLly6LfJsu0e2fLhdfpC5d0Kguo0GtLuiysS4uJLYudJW6LroGvy4AeMMuRunHLotazC7Ry9AuFz3VLl2u2S6hH94u55DiLi0C5y5zc+suuOTvLv5V9C5Ex/guijj9LujUAC+LDQMvLkYFL9B+By90twkvFvALL7ooDi9cYRAv/5kSL6LSFC9FCxcv6EMZL4p8Gy8utR0v0O0fL3QmIi8WXyQvuZcmL1zQKC//CCsvokEtL0V6Ly/osjEvi+szLy4kNi/QXDgvdJU6LxbOPC+5Bj8vXD9BL/93Qy+isEUvRelHL+ghSi+LWkwvLpNOL9DLUC9zBFMvFj1VL7l1Vy9crlkv/+ZbLw==",
          "dtype": "f4"
         },
         "y": {
          "bdata": "XXQRQV10EUFddBFBXXQRQV10EUFddBFBXXQRQV10EUFddBFBXXQRQV10EUFddBFBXXQRQV10EUFddBFBXXQRQV10EUFddBFBXXQRQV10EUFddBFBXXQRQV10EUFddBFBXXQRQV10EUFddBFBXXQRQV10EUFddBFBXXQRQV10EUFddBFBXXQRQV10EUFddBFBXXQRQV10EUFddBFBXXQRQV10EUFddBFBXXQRQV10EUFddBFBXXQRQV10EUFddBFBXXQRQV10EUFddBFBXXQRQV10EUFddBFBXXQRQV10EUFddBFBXXQRQV10EUFddBFBXXQRQV10EUFddBFBXXQRQV10EUFddBFBXXQRQV10EUFddBFBXXQRQV10EUFddBFBXXQRQV10EUFddBFBXXQRQV10EUFddBFBXXQRQV10EUFddBFBXXQRQV10EUFddBFBXXQRQV10EUFddBFBXXQRQV10EUFddBFBXXQRQV10EUFddBFBXXQRQV10EUFddBFBXXQRQV10EUFddBFBXXQRQQ==",
          "dtype": "f4"
         },
         "z": {
          "bdata": "AAAAAFPQwVz9YJhdiBY5XkXYul7aICVfDkWEX9esxF9vCApg5x45YKJLb2C1DJZgLXq3YMiX22BOAwFh3TEVYT8jKmE0oz9hMH5VYZuAa2H4vIBh3Z2LYexMlmEjt6BhL8qqYQt3tGGpr71hI2rGYWSdzmH1Q9ZhIlndYWna42Gxx+lhCSHvYbDo82FNIPhhocr7YV7q/mHbwABid8kBYsWPAmJcFANiqVcDYsJZA2LnGgNiT5sCYnPbAWL72wBiCzz/YbFG/GGG4vhhoBP1YZza8GEeQOxhyE3nYWoO4mGRjNxhpNPWYebt0GG35cphdMTEYc+SvmHIWLhhJB2yYdLlq2ELuKVh3pefYWKImWE3jJNhG6WNYS7Uh2FlGoJhWu94YeXYbWG/8GJhfTZYYZapTWHbSENhYBM5YS0IL2FKJiVhhmwbYRraEWHtbQhhtE3+YGgI7GD6CdpgvFDIYDvbtmAKqKVg37WUYKMDhGAiIGdgi7RGYKbCJmDHSAdgC4vQX+9vk1/1gC5finKpXg==",
          "dtype": "f4"
         }
        },
        {
         "line": {
          "cmax": 607840919713266800000,
          "cmin": -595483677853483000,
          "color": {
           "bdata": "AAAAAEpLylwo6ptdf607XlGYvF4YPSZfwe+EXy1wxV9acwpg/445YCS8b2CfQpZgKqu3YFfB22BFEwFhHDwVYSQnKmFkoD9hqXRVYbNwa2EhsoBhnZCLYd49lmH7pqBhtbmqYRVntGENob1hul3GYeqTzmEYPtZhfFfdYXnd42HJz+lhaS7vYXH782FqOPhh8+f7YagM/2FP1ABiBt8BYiunAmJRLQNi3nEDYt10A2KMNgNiH7cCYgH3AWLm9gBi2m//Ya53/GE3D/lh0zr1YQz88GGNW+xhJGPnYaYd4mHYldxhLNfWYRDs0GH73sphXrnEYfiDvmHWRrhhwgiyYazPq2HFoKVhDICfYYVwmWG8dJNhV46NYVy+h2GfBYJh+cd4YYuzbWElzWJhShRYYVmITWEXKENhrPI4YRznLmGMBCVh4kkbYXq2EWFSSQhh2wL+YG2862CXvdlg1gTIYMmQtmAsYKVgrXGUYDrEg2AMrWZgHU9GYLBsJmDVAwdgwyXQX1sxk1+KVC5fJIypXg==",
           "dtype": "f4"
          },
          "colorscale": [
           [
            0,
            "#440154"
           ],
           [
            0.1111111111111111,
            "#482878"
           ],
           [
            0.2222222222222222,
            "#3e4989"
           ],
           [
            0.3333333333333333,
            "#31688e"
           ],
           [
            0.4444444444444444,
            "#26828e"
           ],
           [
            0.5555555555555556,
            "#1f9e89"
           ],
           [
            0.6666666666666666,
            "#35b779"
           ],
           [
            0.7777777777777778,
            "#6ece58"
           ],
           [
            0.8888888888888888,
            "#b5de2b"
           ],
           [
            1,
            "#fde725"
           ]
          ],
          "showscale": false,
          "width": 4
         },
         "mode": "lines",
         "showlegend": false,
         "type": "scatter3d",
         "x": {
          "bdata": "AAAAALooDiy6KI4sFz3VLLooDi3osjEtFz1VLUbHeC26KI4t0e2fLeiysS0AeMMtFz3VLS4C5y1Gx/gtLkYFLrooDi5GCxcu0e0fLl3QKC7osjEudJU6LgB4Qy6LWkwuFz1VLqMfXi4uAmcuuuRvLkbHeC7p1IAuLkaFLnS3iS66KI4uAJqSLkYLly6LfJsu0e2fLhdfpC5d0Kguo0GtLuiysS4uJLYudJW6LroGvy4AeMMuRunHLotazC7Ry9AuFz3VLl2u2S6hH94u55DiLi0C5y5zc+suuOTvLv5V9C5Ex/guijj9LujUAC+LDQMvLkYFL9B+By90twkvFvALL7ooDi9cYRAv/5kSL6LSFC9FCxcv6EMZL4p8Gy8utR0v0O0fL3QmIi8WXyQvuZcmL1zQKC//CCsvokEtL0V6Ly/osjEvi+szLy4kNi/QXDgvdJU6LxbOPC+5Bj8vXD9BL/93Qy+isEUvRelHL+ghSi+LWkwvLpNOL9DLUC9zBFMvFj1VL7l1Vy9crlkv/+ZbLw==",
          "dtype": "f4"
         },
         "y": {
          "bdata": "168UQdevFEHXrxRB168UQdevFEHXrxRB168UQdevFEHXrxRB168UQdevFEHXrxRB168UQdevFEHXrxRB168UQdevFEHXrxRB168UQdevFEHXrxRB168UQdevFEHXrxRB168UQdevFEHXrxRB168UQdevFEHXrxRB168UQdevFEHXrxRB168UQdevFEHXrxRB168UQdevFEHXrxRB168UQdevFEHXrxRB168UQdevFEHXrxRB168UQdevFEHXrxRB168UQdevFEHXrxRB168UQdevFEHXrxRB168UQdevFEHXrxRB168UQdevFEHXrxRB168UQdevFEHXrxRB168UQdevFEHXrxRB168UQdevFEHXrxRB168UQdevFEHXrxRB168UQdevFEHXrxRB168UQdevFEHXrxRB168UQdevFEHXrxRB168UQdevFEHXrxRB168UQdevFEHXrxRB168UQdevFEHXrxRB168UQdevFEHXrxRB168UQdevFEHXrxRB168UQdevFEHXrxRB168UQQ==",
          "dtype": "f4"
         },
         "z": {
          "bdata": "AAAAAEpLylwo6ptdf607XlGYvF4YPSZfwe+EXy1wxV9acwpg/445YCS8b2CfQpZgKqu3YFfB22BFEwFhHDwVYSQnKmFkoD9hqXRVYbNwa2EhsoBhnZCLYd49lmH7pqBhtbmqYRVntGENob1hul3GYeqTzmEYPtZhfFfdYXnd42HJz+lhaS7vYXH782FqOPhh8+f7YagM/2FP1ABiBt8BYiunAmJRLQNi3nEDYt10A2KMNgNiH7cCYgH3AWLm9gBi2m//Ya53/GE3D/lh0zr1YQz88GGNW+xhJGPnYaYd4mHYldxhLNfWYRDs0GH73sphXrnEYfiDvmHWRrhhwgiyYazPq2HFoKVhDICfYYVwmWG8dJNhV46NYVy+h2GfBYJh+cd4YYuzbWElzWJhShRYYVmITWEXKENhrPI4YRznLmGMBCVh4kkbYXq2EWFSSQhh2wL+YG2862CXvdlg1gTIYMmQtmAsYKVgrXGUYDrEg2AMrWZgHU9GYLBsJmDVAwdgwyXQX1sxk1+KVC5fJIypXg==",
          "dtype": "f4"
         }
        },
        {
         "line": {
          "cmax": 607840919713266800000,
          "cmin": -595483677853483000,
          "color": {
           "bdata": "AAAAAAm80lyaaZ9dUjw+XuVSvl4eVidfrpiFX7oxxl9g3QpgQ/45YPorcGA/eJZg4du3YK3q22AhIwFhP0YVYeQqKmFknT9h0mpVYVlga2EDp4Bh/4KLYVkulmFClqBhkaiqYVlWtGGUkb1hSVDGYVaJzmELN9ZhkFTdYS3f42F71ulhVTrvYbUM9GH4TvhhtAP8YWIt/2H+5gBiyPMBYse9AmJ8RQNiRIsDYiqPA2JeUQNiFNICYrsRAmL5EAFi6KH/YfGm/GE1OvlhYGD1Ydwb8WF+dexhBnfnYYUr4mHTndxhhNnWYR/p0GE918phW63EYU10vmEqNLhhx/OxYQe5q2EWiaVh6mefYXBYmWEhXZNhhXeNYYmoh2Hq8IFh0KB4YX+ObWHsqWJhdfJXYYBnTWG9B0NhU9I4YWDGLmET4yRhdicbYfiSEWHGJAhh6bf9YChw62C2cNlgOrjHYINFtmBPF6VgZCyUYKSDg2CAN2ZgQOdFYGIUJmC8vAZgv7zPX9Dvkl8CJC5fvaCpXg==",
           "dtype": "f4"
          },
          "colorscale": [
           [
            0,
            "#440154"
           ],
           [
            0.1111111111111111,
            "#482878"
           ],
           [
            0.2222222222222222,
            "#3e4989"
           ],
           [
            0.3333333333333333,
            "#31688e"
           ],
           [
            0.4444444444444444,
            "#26828e"
           ],
           [
            0.5555555555555556,
            "#1f9e89"
           ],
           [
            0.6666666666666666,
            "#35b779"
           ],
           [
            0.7777777777777778,
            "#6ece58"
           ],
           [
            0.8888888888888888,
            "#b5de2b"
           ],
           [
            1,
            "#fde725"
           ]
          ],
          "showscale": false,
          "width": 4
         },
         "mode": "lines",
         "showlegend": false,
         "type": "scatter3d",
         "x": {
          "bdata": "AAAAALooDiy6KI4sFz3VLLooDi3osjEtFz1VLUbHeC26KI4t0e2fLeiysS0AeMMtFz3VLS4C5y1Gx/gtLkYFLrooDi5GCxcu0e0fLl3QKC7osjEudJU6LgB4Qy6LWkwuFz1VLqMfXi4uAmcuuuRvLkbHeC7p1IAuLkaFLnS3iS66KI4uAJqSLkYLly6LfJsu0e2fLhdfpC5d0Kguo0GtLuiysS4uJLYudJW6LroGvy4AeMMuRunHLotazC7Ry9AuFz3VLl2u2S6hH94u55DiLi0C5y5zc+suuOTvLv5V9C5Ex/guijj9LujUAC+LDQMvLkYFL9B+By90twkvFvALL7ooDi9cYRAv/5kSL6LSFC9FCxcv6EMZL4p8Gy8utR0v0O0fL3QmIi8WXyQvuZcmL1zQKC//CCsvokEtL0V6Ly/osjEvi+szLy4kNi/QXDgvdJU6LxbOPC+5Bj8vXD9BL/93Qy+isEUvRelHL+ghSi+LWkwvLpNOL9DLUC9zBFMvFj1VL7l1Vy9crlkv/+ZbLw==",
          "dtype": "f4"
         },
         "y": {
          "bdata": "UOsXQVDrF0FQ6xdBUOsXQVDrF0FQ6xdBUOsXQVDrF0FQ6xdBUOsXQVDrF0FQ6xdBUOsXQVDrF0FQ6xdBUOsXQVDrF0FQ6xdBUOsXQVDrF0FQ6xdBUOsXQVDrF0FQ6xdBUOsXQVDrF0FQ6xdBUOsXQVDrF0FQ6xdBUOsXQVDrF0FQ6xdBUOsXQVDrF0FQ6xdBUOsXQVDrF0FQ6xdBUOsXQVDrF0FQ6xdBUOsXQVDrF0FQ6xdBUOsXQVDrF0FQ6xdBUOsXQVDrF0FQ6xdBUOsXQVDrF0FQ6xdBUOsXQVDrF0FQ6xdBUOsXQVDrF0FQ6xdBUOsXQVDrF0FQ6xdBUOsXQVDrF0FQ6xdBUOsXQVDrF0FQ6xdBUOsXQVDrF0FQ6xdBUOsXQVDrF0FQ6xdBUOsXQVDrF0FQ6xdBUOsXQVDrF0FQ6xdBUOsXQVDrF0FQ6xdBUOsXQVDrF0FQ6xdBUOsXQVDrF0FQ6xdBUOsXQVDrF0FQ6xdBUOsXQVDrF0FQ6xdBUOsXQVDrF0FQ6xdBUOsXQQ==",
          "dtype": "f4"
         },
         "z": {
          "bdata": "AAAAAAm80lyaaZ9dUjw+XuVSvl4eVidfrpiFX7oxxl9g3QpgQ/45YPorcGA/eJZg4du3YK3q22AhIwFhP0YVYeQqKmFknT9h0mpVYVlga2EDp4Bh/4KLYVkulmFClqBhkaiqYVlWtGGUkb1hSVDGYVaJzmELN9ZhkFTdYS3f42F71ulhVTrvYbUM9GH4TvhhtAP8YWIt/2H+5gBiyPMBYse9AmJ8RQNiRIsDYiqPA2JeUQNiFNICYrsRAmL5EAFi6KH/YfGm/GE1OvlhYGD1Ydwb8WF+dexhBnfnYYUr4mHTndxhhNnWYR/p0GE918phW63EYU10vmEqNLhhx/OxYQe5q2EWiaVh6mefYXBYmWEhXZNhhXeNYYmoh2Hq8IFh0KB4YX+ObWHsqWJhdfJXYYBnTWG9B0NhU9I4YWDGLmET4yRhdicbYfiSEWHGJAhh6bf9YChw62C2cNlgOrjHYINFtmBPF6VgZCyUYKSDg2CAN2ZgQOdFYGIUJmC8vAZgv7zPX9Dvkl8CJC5fvaCpXg==",
          "dtype": "f4"
         }
        },
        {
         "line": {
          "cmax": 607840919713266800000,
          "cmin": -595483677853483000,
          "color": {
           "bdata": "AAAAAM8h21yH36JdPsNAXjkIwF75ayhf3z+GX3fxxl+LRgtgwGw6YB2bcGCWrZZgZgy4YN4T3GDxMgFhWFAVYZcuKmFHmj9h5GBVYdNPa2G+m4BhLHWLYYwelmEwhaBh/JaqYRRFtGFygb1hJELGYex9zmEbL9ZhtlDdYdTf42EQ3OlhGUXvYcEc9GFQZPhhNR78YcxM/2H7+ABi3gcCYrLTAmL1XANi9qMDYryoA2J1awNiTuwCYrArAmJNKgFif9L/Yb3U/GHDY/lhk4T1YWo68WEqjuxhxonnYVY44mHUpNxh+NrWYWfl0GHJzsphvaDEYSBkvmETIbhhat6xYRGiq2EocaVhlU+fYTZAmWFrRZNhomCNYbCSh2E23IFht3l4YYtpbWHVhmJh2dBXYeJGTWGg50JhQbI4YeulLmHlwSRhTgUbYbtvEWFuAAhhUG39YCQk62D8I9lgqmvHYCH6tWAzzqRgtuaTYI9Cg2DCwGVgD35FYKy6JWA1dAZgC1HPX+qrkl+87y1f4K+pXg==",
           "dtype": "f4"
          },
          "colorscale": [
           [
            0,
            "#440154"
           ],
           [
            0.1111111111111111,
            "#482878"
           ],
           [
            0.2222222222222222,
            "#3e4989"
           ],
           [
            0.3333333333333333,
            "#31688e"
           ],
           [
            0.4444444444444444,
            "#26828e"
           ],
           [
            0.5555555555555556,
            "#1f9e89"
           ],
           [
            0.6666666666666666,
            "#35b779"
           ],
           [
            0.7777777777777778,
            "#6ece58"
           ],
           [
            0.8888888888888888,
            "#b5de2b"
           ],
           [
            1,
            "#fde725"
           ]
          ],
          "showscale": false,
          "width": 4
         },
         "mode": "lines",
         "showlegend": false,
         "type": "scatter3d",
         "x": {
          "bdata": "AAAAALooDiy6KI4sFz3VLLooDi3osjEtFz1VLUbHeC26KI4t0e2fLeiysS0AeMMtFz3VLS4C5y1Gx/gtLkYFLrooDi5GCxcu0e0fLl3QKC7osjEudJU6LgB4Qy6LWkwuFz1VLqMfXi4uAmcuuuRvLkbHeC7p1IAuLkaFLnS3iS66KI4uAJqSLkYLly6LfJsu0e2fLhdfpC5d0Kguo0GtLuiysS4uJLYudJW6LroGvy4AeMMuRunHLotazC7Ry9AuFz3VLl2u2S6hH94u55DiLi0C5y5zc+suuOTvLv5V9C5Ex/guijj9LujUAC+LDQMvLkYFL9B+By90twkvFvALL7ooDi9cYRAv/5kSL6LSFC9FCxcv6EMZL4p8Gy8utR0v0O0fL3QmIi8WXyQvuZcmL1zQKC//CCsvokEtL0V6Ly/osjEvi+szLy4kNi/QXDgvdJU6LxbOPC+5Bj8vXD9BL/93Qy+isEUvRelHL+ghSi+LWkwvLpNOL9DLUC9zBFMvFj1VL7l1Vy9crlkv/+ZbLw==",
          "dtype": "f4"
         },
         "y": {
          "bdata": "yiYbQcomG0HKJhtByiYbQcomG0HKJhtByiYbQcomG0HKJhtByiYbQcomG0HKJhtByiYbQcomG0HKJhtByiYbQcomG0HKJhtByiYbQcomG0HKJhtByiYbQcomG0HKJhtByiYbQcomG0HKJhtByiYbQcomG0HKJhtByiYbQcomG0HKJhtByiYbQcomG0HKJhtByiYbQcomG0HKJhtByiYbQcomG0HKJhtByiYbQcomG0HKJhtByiYbQcomG0HKJhtByiYbQcomG0HKJhtByiYbQcomG0HKJhtByiYbQcomG0HKJhtByiYbQcomG0HKJhtByiYbQcomG0HKJhtByiYbQcomG0HKJhtByiYbQcomG0HKJhtByiYbQcomG0HKJhtByiYbQcomG0HKJhtByiYbQcomG0HKJhtByiYbQcomG0HKJhtByiYbQcomG0HKJhtByiYbQcomG0HKJhtByiYbQcomG0HKJhtByiYbQcomG0HKJhtByiYbQcomG0HKJhtByiYbQcomG0HKJhtByiYbQQ==",
          "dtype": "f4"
         },
         "z": {
          "bdata": "AAAAAM8h21yH36JdPsNAXjkIwF75ayhf3z+GX3fxxl+LRgtgwGw6YB2bcGCWrZZgZgy4YN4T3GDxMgFhWFAVYZcuKmFHmj9h5GBVYdNPa2G+m4BhLHWLYYwelmEwhaBh/JaqYRRFtGFygb1hJELGYex9zmEbL9ZhtlDdYdTf42EQ3OlhGUXvYcEc9GFQZPhhNR78YcxM/2H7+ABi3gcCYrLTAmL1XANi9qMDYryoA2J1awNiTuwCYrArAmJNKgFif9L/Yb3U/GHDY/lhk4T1YWo68WEqjuxhxonnYVY44mHUpNxh+NrWYWfl0GHJzsphvaDEYSBkvmETIbhhat6xYRGiq2EocaVhlU+fYTZAmWFrRZNhomCNYbCSh2E23IFht3l4YYtpbWHVhmJh2dBXYeJGTWGg50JhQbI4YeulLmHlwSRhTgUbYbtvEWFuAAhhUG39YCQk62D8I9lgqmvHYCH6tWAzzqRgtuaTYI9Cg2DCwGVgD35FYKy6JWA1dAZgC1HPX+qrkl+87y1f4K+pXg==",
          "dtype": "f4"
         }
        },
        {
         "line": {
          "cmax": 607840919713266800000,
          "cmin": -595483677853483000,
          "color": {
           "bdata": "AAAAAJF741zpS6ZdXEJDXj64wV6sfilfUeWGX2ivx1/Rrgtgb9o6YI8JcWCp4pZgvDy4YPY83GC+QgFhdloVYVEyKmE8lz9h/FZVYUI/a2FvkIBhRWeLYaAOlmHsc6BhI4WqYXgztGHscL1hgzPGYfhxzmGCJtZhGkzdYbrf42HV4Olh9U7vYdwr9GGuePhhrTf8YStr/2FxCgFiZhsCYgnpAmLScwNiCrwDYq/BA2LnhANi4wUDYgNFAmL4QgFi5wAAYj4B/WEZjPlhnaf1YehX8WHspexhq5vnYWZE4mEwq9xh39vWYTXh0GHzxcphyZPEYadTvmG/Dbhh4MixYfeKq2EaWaVhJzefYeQnmWGeLZNhq0mNYcV8h2Fxx4Fhf1J4YX9EbWGuY2JhNq9XYUkmTWGcx0JhUpI4YaiFLmHzoCRhceMaYdBMEWF23AdhdSP9YN3Y6mDu19hgtR/HYDuvtWB4haRgTKGTYJgBg2D7SWVglBRFYHVgJWAEKwZgzePOX2Fmkl9WuC1fgbmpXg==",
           "dtype": "f4"
          },
          "colorscale": [
           [
            0,
            "#440154"
           ],
           [
            0.1111111111111111,
            "#482878"
           ],
           [
            0.2222222222222222,
            "#3e4989"
           ],
           [
            0.3333333333333333,
            "#31688e"
           ],
           [
            0.4444444444444444,
            "#26828e"
           ],
           [
            0.5555555555555556,
            "#1f9e89"
           ],
           [
            0.6666666666666666,
            "#35b779"
           ],
           [
            0.7777777777777778,
            "#6ece58"
           ],
           [
            0.8888888888888888,
            "#b5de2b"
           ],
           [
            1,
            "#fde725"
           ]
          ],
          "showscale": false,
          "width": 4
         },
         "mode": "lines",
         "showlegend": false,
         "type": "scatter3d",
         "x": {
          "bdata": "AAAAALooDiy6KI4sFz3VLLooDi3osjEtFz1VLUbHeC26KI4t0e2fLeiysS0AeMMtFz3VLS4C5y1Gx/gtLkYFLrooDi5GCxcu0e0fLl3QKC7osjEudJU6LgB4Qy6LWkwuFz1VLqMfXi4uAmcuuuRvLkbHeC7p1IAuLkaFLnS3iS66KI4uAJqSLkYLly6LfJsu0e2fLhdfpC5d0Kguo0GtLuiysS4uJLYudJW6LroGvy4AeMMuRunHLotazC7Ry9AuFz3VLl2u2S6hH94u55DiLi0C5y5zc+suuOTvLv5V9C5Ex/guijj9LujUAC+LDQMvLkYFL9B+By90twkvFvALL7ooDi9cYRAv/5kSL6LSFC9FCxcv6EMZL4p8Gy8utR0v0O0fL3QmIi8WXyQvuZcmL1zQKC//CCsvokEtL0V6Ly/osjEvi+szLy4kNi/QXDgvdJU6LxbOPC+5Bj8vXD9BL/93Qy+isEUvRelHL+ghSi+LWkwvLpNOL9DLUC9zBFMvFj1VL7l1Vy9crlkv/+ZbLw==",
          "dtype": "f4"
         },
         "y": {
          "bdata": "Q2IeQUNiHkFDYh5BQ2IeQUNiHkFDYh5BQ2IeQUNiHkFDYh5BQ2IeQUNiHkFDYh5BQ2IeQUNiHkFDYh5BQ2IeQUNiHkFDYh5BQ2IeQUNiHkFDYh5BQ2IeQUNiHkFDYh5BQ2IeQUNiHkFDYh5BQ2IeQUNiHkFDYh5BQ2IeQUNiHkFDYh5BQ2IeQUNiHkFDYh5BQ2IeQUNiHkFDYh5BQ2IeQUNiHkFDYh5BQ2IeQUNiHkFDYh5BQ2IeQUNiHkFDYh5BQ2IeQUNiHkFDYh5BQ2IeQUNiHkFDYh5BQ2IeQUNiHkFDYh5BQ2IeQUNiHkFDYh5BQ2IeQUNiHkFDYh5BQ2IeQUNiHkFDYh5BQ2IeQUNiHkFDYh5BQ2IeQUNiHkFDYh5BQ2IeQUNiHkFDYh5BQ2IeQUNiHkFDYh5BQ2IeQUNiHkFDYh5BQ2IeQUNiHkFDYh5BQ2IeQUNiHkFDYh5BQ2IeQUNiHkFDYh5BQ2IeQUNiHkFDYh5BQ2IeQUNiHkFDYh5BQ2IeQUNiHkFDYh5BQ2IeQQ==",
          "dtype": "f4"
         },
         "z": {
          "bdata": "AAAAAJF741zpS6ZdXEJDXj64wV6sfilfUeWGX2ivx1/Rrgtgb9o6YI8JcWCp4pZgvDy4YPY83GC+QgFhdloVYVEyKmE8lz9h/FZVYUI/a2FvkIBhRWeLYaAOlmHsc6BhI4WqYXgztGHscL1hgzPGYfhxzmGCJtZhGkzdYbrf42HV4Olh9U7vYdwr9GGuePhhrTf8YStr/2FxCgFiZhsCYgnpAmLScwNiCrwDYq/BA2LnhANi4wUDYgNFAmL4QgFi5wAAYj4B/WEZjPlhnaf1YehX8WHspexhq5vnYWZE4mEwq9xh39vWYTXh0GHzxcphyZPEYadTvmG/Dbhh4MixYfeKq2EaWaVhJzefYeQnmWGeLZNhq0mNYcV8h2Fxx4Fhf1J4YX9EbWGuY2JhNq9XYUkmTWGcx0JhUpI4YaiFLmHzoCRhceMaYdBMEWF23AdhdSP9YN3Y6mDu19hgtR/HYDuvtWB4haRgTKGTYJgBg2D7SWVglBRFYHVgJWAEKwZgzePOX2Fmkl9WuC1fgbmpXg==",
          "dtype": "f4"
         }
        }
       ],
       "layout": {
        "height": 700,
        "scene": {
         "xaxis": {
          "autorange": "reversed",
          "title": {
           "text": "Mass (m)"
          }
         },
         "yaxis": {
          "title": {
           "text": "Time (t)"
          }
         },
         "zaxis": {
          "title": {
           "text": "n(m, t)"
          }
         }
        },
        "template": {
         "data": {
          "bar": [
           {
            "error_x": {
             "color": "#2a3f5f"
            },
            "error_y": {
             "color": "#2a3f5f"
            },
            "marker": {
             "line": {
              "color": "#E5ECF6",
              "width": 0.5
             },
             "pattern": {
              "fillmode": "overlay",
              "size": 10,
              "solidity": 0.2
             }
            },
            "type": "bar"
           }
          ],
          "barpolar": [
           {
            "marker": {
             "line": {
              "color": "#E5ECF6",
              "width": 0.5
             },
             "pattern": {
              "fillmode": "overlay",
              "size": 10,
              "solidity": 0.2
             }
            },
            "type": "barpolar"
           }
          ],
          "carpet": [
           {
            "aaxis": {
             "endlinecolor": "#2a3f5f",
             "gridcolor": "white",
             "linecolor": "white",
             "minorgridcolor": "white",
             "startlinecolor": "#2a3f5f"
            },
            "baxis": {
             "endlinecolor": "#2a3f5f",
             "gridcolor": "white",
             "linecolor": "white",
             "minorgridcolor": "white",
             "startlinecolor": "#2a3f5f"
            },
            "type": "carpet"
           }
          ],
          "choropleth": [
           {
            "colorbar": {
             "outlinewidth": 0,
             "ticks": ""
            },
            "type": "choropleth"
           }
          ],
          "contour": [
           {
            "colorbar": {
             "outlinewidth": 0,
             "ticks": ""
            },
            "colorscale": [
             [
              0,
              "#0d0887"
             ],
             [
              0.1111111111111111,
              "#46039f"
             ],
             [
              0.2222222222222222,
              "#7201a8"
             ],
             [
              0.3333333333333333,
              "#9c179e"
             ],
             [
              0.4444444444444444,
              "#bd3786"
             ],
             [
              0.5555555555555556,
              "#d8576b"
             ],
             [
              0.6666666666666666,
              "#ed7953"
             ],
             [
              0.7777777777777778,
              "#fb9f3a"
             ],
             [
              0.8888888888888888,
              "#fdca26"
             ],
             [
              1,
              "#f0f921"
             ]
            ],
            "type": "contour"
           }
          ],
          "contourcarpet": [
           {
            "colorbar": {
             "outlinewidth": 0,
             "ticks": ""
            },
            "type": "contourcarpet"
           }
          ],
          "heatmap": [
           {
            "colorbar": {
             "outlinewidth": 0,
             "ticks": ""
            },
            "colorscale": [
             [
              0,
              "#0d0887"
             ],
             [
              0.1111111111111111,
              "#46039f"
             ],
             [
              0.2222222222222222,
              "#7201a8"
             ],
             [
              0.3333333333333333,
              "#9c179e"
             ],
             [
              0.4444444444444444,
              "#bd3786"
             ],
             [
              0.5555555555555556,
              "#d8576b"
             ],
             [
              0.6666666666666666,
              "#ed7953"
             ],
             [
              0.7777777777777778,
              "#fb9f3a"
             ],
             [
              0.8888888888888888,
              "#fdca26"
             ],
             [
              1,
              "#f0f921"
             ]
            ],
            "type": "heatmap"
           }
          ],
          "histogram": [
           {
            "marker": {
             "pattern": {
              "fillmode": "overlay",
              "size": 10,
              "solidity": 0.2
             }
            },
            "type": "histogram"
           }
          ],
          "histogram2d": [
           {
            "colorbar": {
             "outlinewidth": 0,
             "ticks": ""
            },
            "colorscale": [
             [
              0,
              "#0d0887"
             ],
             [
              0.1111111111111111,
              "#46039f"
             ],
             [
              0.2222222222222222,
              "#7201a8"
             ],
             [
              0.3333333333333333,
              "#9c179e"
             ],
             [
              0.4444444444444444,
              "#bd3786"
             ],
             [
              0.5555555555555556,
              "#d8576b"
             ],
             [
              0.6666666666666666,
              "#ed7953"
             ],
             [
              0.7777777777777778,
              "#fb9f3a"
             ],
             [
              0.8888888888888888,
              "#fdca26"
             ],
             [
              1,
              "#f0f921"
             ]
            ],
            "type": "histogram2d"
           }
          ],
          "histogram2dcontour": [
           {
            "colorbar": {
             "outlinewidth": 0,
             "ticks": ""
            },
            "colorscale": [
             [
              0,
              "#0d0887"
             ],
             [
              0.1111111111111111,
              "#46039f"
             ],
             [
              0.2222222222222222,
              "#7201a8"
             ],
             [
              0.3333333333333333,
              "#9c179e"
             ],
             [
              0.4444444444444444,
              "#bd3786"
             ],
             [
              0.5555555555555556,
              "#d8576b"
             ],
             [
              0.6666666666666666,
              "#ed7953"
             ],
             [
              0.7777777777777778,
              "#fb9f3a"
             ],
             [
              0.8888888888888888,
              "#fdca26"
             ],
             [
              1,
              "#f0f921"
             ]
            ],
            "type": "histogram2dcontour"
           }
          ],
          "mesh3d": [
           {
            "colorbar": {
             "outlinewidth": 0,
             "ticks": ""
            },
            "type": "mesh3d"
           }
          ],
          "parcoords": [
           {
            "line": {
             "colorbar": {
              "outlinewidth": 0,
              "ticks": ""
             }
            },
            "type": "parcoords"
           }
          ],
          "pie": [
           {
            "automargin": true,
            "type": "pie"
           }
          ],
          "scatter": [
           {
            "fillpattern": {
             "fillmode": "overlay",
             "size": 10,
             "solidity": 0.2
            },
            "type": "scatter"
           }
          ],
          "scatter3d": [
           {
            "line": {
             "colorbar": {
              "outlinewidth": 0,
              "ticks": ""
             }
            },
            "marker": {
             "colorbar": {
              "outlinewidth": 0,
              "ticks": ""
             }
            },
            "type": "scatter3d"
           }
          ],
          "scattercarpet": [
           {
            "marker": {
             "colorbar": {
              "outlinewidth": 0,
              "ticks": ""
             }
            },
            "type": "scattercarpet"
           }
          ],
          "scattergeo": [
           {
            "marker": {
             "colorbar": {
              "outlinewidth": 0,
              "ticks": ""
             }
            },
            "type": "scattergeo"
           }
          ],
          "scattergl": [
           {
            "marker": {
             "colorbar": {
              "outlinewidth": 0,
              "ticks": ""
             }
            },
            "type": "scattergl"
           }
          ],
          "scattermap": [
           {
            "marker": {
             "colorbar": {
              "outlinewidth": 0,
              "ticks": ""
             }
            },
            "type": "scattermap"
           }
          ],
          "scattermapbox": [
           {
            "marker": {
             "colorbar": {
              "outlinewidth": 0,
              "ticks": ""
             }
            },
            "type": "scattermapbox"
           }
          ],
          "scatterpolar": [
           {
            "marker": {
             "colorbar": {
              "outlinewidth": 0,
              "ticks": ""
             }
            },
            "type": "scatterpolar"
           }
          ],
          "scatterpolargl": [
           {
            "marker": {
             "colorbar": {
              "outlinewidth": 0,
              "ticks": ""
             }
            },
            "type": "scatterpolargl"
           }
          ],
          "scatterternary": [
           {
            "marker": {
             "colorbar": {
              "outlinewidth": 0,
              "ticks": ""
             }
            },
            "type": "scatterternary"
           }
          ],
          "surface": [
           {
            "colorbar": {
             "outlinewidth": 0,
             "ticks": ""
            },
            "colorscale": [
             [
              0,
              "#0d0887"
             ],
             [
              0.1111111111111111,
              "#46039f"
             ],
             [
              0.2222222222222222,
              "#7201a8"
             ],
             [
              0.3333333333333333,
              "#9c179e"
             ],
             [
              0.4444444444444444,
              "#bd3786"
             ],
             [
              0.5555555555555556,
              "#d8576b"
             ],
             [
              0.6666666666666666,
              "#ed7953"
             ],
             [
              0.7777777777777778,
              "#fb9f3a"
             ],
             [
              0.8888888888888888,
              "#fdca26"
             ],
             [
              1,
              "#f0f921"
             ]
            ],
            "type": "surface"
           }
          ],
          "table": [
           {
            "cells": {
             "fill": {
              "color": "#EBF0F8"
             },
             "line": {
              "color": "white"
             }
            },
            "header": {
             "fill": {
              "color": "#C8D4E3"
             },
             "line": {
              "color": "white"
             }
            },
            "type": "table"
           }
          ]
         },
         "layout": {
          "annotationdefaults": {
           "arrowcolor": "#2a3f5f",
           "arrowhead": 0,
           "arrowwidth": 1
          },
          "autotypenumbers": "strict",
          "coloraxis": {
           "colorbar": {
            "outlinewidth": 0,
            "ticks": ""
           }
          },
          "colorscale": {
           "diverging": [
            [
             0,
             "#8e0152"
            ],
            [
             0.1,
             "#c51b7d"
            ],
            [
             0.2,
             "#de77ae"
            ],
            [
             0.3,
             "#f1b6da"
            ],
            [
             0.4,
             "#fde0ef"
            ],
            [
             0.5,
             "#f7f7f7"
            ],
            [
             0.6,
             "#e6f5d0"
            ],
            [
             0.7,
             "#b8e186"
            ],
            [
             0.8,
             "#7fbc41"
            ],
            [
             0.9,
             "#4d9221"
            ],
            [
             1,
             "#276419"
            ]
           ],
           "sequential": [
            [
             0,
             "#0d0887"
            ],
            [
             0.1111111111111111,
             "#46039f"
            ],
            [
             0.2222222222222222,
             "#7201a8"
            ],
            [
             0.3333333333333333,
             "#9c179e"
            ],
            [
             0.4444444444444444,
             "#bd3786"
            ],
            [
             0.5555555555555556,
             "#d8576b"
            ],
            [
             0.6666666666666666,
             "#ed7953"
            ],
            [
             0.7777777777777778,
             "#fb9f3a"
            ],
            [
             0.8888888888888888,
             "#fdca26"
            ],
            [
             1,
             "#f0f921"
            ]
           ],
           "sequentialminus": [
            [
             0,
             "#0d0887"
            ],
            [
             0.1111111111111111,
             "#46039f"
            ],
            [
             0.2222222222222222,
             "#7201a8"
            ],
            [
             0.3333333333333333,
             "#9c179e"
            ],
            [
             0.4444444444444444,
             "#bd3786"
            ],
            [
             0.5555555555555556,
             "#d8576b"
            ],
            [
             0.6666666666666666,
             "#ed7953"
            ],
            [
             0.7777777777777778,
             "#fb9f3a"
            ],
            [
             0.8888888888888888,
             "#fdca26"
            ],
            [
             1,
             "#f0f921"
            ]
           ]
          },
          "colorway": [
           "#636efa",
           "#EF553B",
           "#00cc96",
           "#ab63fa",
           "#FFA15A",
           "#19d3f3",
           "#FF6692",
           "#B6E880",
           "#FF97FF",
           "#FECB52"
          ],
          "font": {
           "color": "#2a3f5f"
          },
          "geo": {
           "bgcolor": "white",
           "lakecolor": "white",
           "landcolor": "#E5ECF6",
           "showlakes": true,
           "showland": true,
           "subunitcolor": "white"
          },
          "hoverlabel": {
           "align": "left"
          },
          "hovermode": "closest",
          "mapbox": {
           "style": "light"
          },
          "paper_bgcolor": "white",
          "plot_bgcolor": "#E5ECF6",
          "polar": {
           "angularaxis": {
            "gridcolor": "white",
            "linecolor": "white",
            "ticks": ""
           },
           "bgcolor": "#E5ECF6",
           "radialaxis": {
            "gridcolor": "white",
            "linecolor": "white",
            "ticks": ""
           }
          },
          "scene": {
           "xaxis": {
            "backgroundcolor": "#E5ECF6",
            "gridcolor": "white",
            "gridwidth": 2,
            "linecolor": "white",
            "showbackground": true,
            "ticks": "",
            "zerolinecolor": "white"
           },
           "yaxis": {
            "backgroundcolor": "#E5ECF6",
            "gridcolor": "white",
            "gridwidth": 2,
            "linecolor": "white",
            "showbackground": true,
            "ticks": "",
            "zerolinecolor": "white"
           },
           "zaxis": {
            "backgroundcolor": "#E5ECF6",
            "gridcolor": "white",
            "gridwidth": 2,
            "linecolor": "white",
            "showbackground": true,
            "ticks": "",
            "zerolinecolor": "white"
           }
          },
          "shapedefaults": {
           "line": {
            "color": "#2a3f5f"
           }
          },
          "ternary": {
           "aaxis": {
            "gridcolor": "white",
            "linecolor": "white",
            "ticks": ""
           },
           "baxis": {
            "gridcolor": "white",
            "linecolor": "white",
            "ticks": ""
           },
           "bgcolor": "#E5ECF6",
           "caxis": {
            "gridcolor": "white",
            "linecolor": "white",
            "ticks": ""
           }
          },
          "title": {
           "x": 0.05
          },
          "xaxis": {
           "automargin": true,
           "gridcolor": "white",
           "linecolor": "white",
           "ticks": "",
           "title": {
            "standoff": 15
           },
           "zerolinecolor": "white",
           "zerolinewidth": 2
          },
          "yaxis": {
           "automargin": true,
           "gridcolor": "white",
           "linecolor": "white",
           "ticks": "",
           "title": {
            "standoff": 15
           },
           "zerolinecolor": "white",
           "zerolinewidth": 2
          }
         }
        },
        "title": {
         "text": ""
        },
        "width": 700
       }
      }
     },
     "metadata": {},
     "output_type": "display_data"
    },
    {
     "data": {
      "image/png": "[encoded data removed]",
      "text/plain": [
       "<Figure size 1000x600 with 3 Axes>"
      ]
     },
     "metadata": {},
     "output_type": "display_data"
    },
    {
     "data": {
      "image/png": "[encoded data removed]",
      "text/plain": [
       "<Figure size 1200x400 with 2 Axes>"
      ]
     },
     "metadata": {},
     "output_type": "display_data"
    }
   ],
   "source": [
    "#plotting\n",
    "n_true = torch.tensor(Dataset_validation[0][\"n\"].T, dtype=torch.float32)   # (T, M)\n",
    "S_true = torch.tensor(Dataset_validation[0][\"S\"], dtype=torch.float32)     # (T,)\n",
    "\n",
    "err_n = torch.norm(n_pred - n_true) / torch.norm(n_true)\n",
    "err_S = torch.norm(S_pred - S_true) / torch.norm(S_true)\n",
    "\n",
    "print(f\"Relative error biomass: {err_n:.3e}\")\n",
    "print(f\"Relative error substrate: {err_S:.3e}\")\n",
    "\n",
    "# -----------------------------\n",
    "# 6. Plot results\n",
    "# -----------------------------\n",
    "plot_spaghetti(m,t_eval, n_pred.detach().numpy().T)\n",
    "fig, axes = plt.subplots(1, 2, figsize=(10,6))\n",
    "\n",
    "# (1a) Biomass + substrate trajectories\n",
    "biomass_pred = (n_pred * m) .sum(dim=1) * delta_m   # shape (T,)\n",
    "biomass_true = (n_true * m).sum(dim=1) * delta_m   # shape (T,)\n",
    "ax = axes[0]\n",
    "ax.plot(biomass_pred.numpy(), label=\"Predicted biomass\", linestyle=\"--\")\n",
    "ax.plot(biomass_true.numpy(), label=\"True biomass\", linestyle=\":\")\n",
    "ax.plot(S_pred.numpy(), label=\"Predicted substrate\")\n",
    "ax.plot(S_true.numpy(), label=\"True substrate\", linestyle=\"--\")\n",
    "ax.set_xlabel(\"Time step\")\n",
    "ax.set_ylabel(\"Value\")\n",
    "ax.set_title(\"Biomass and substrate trajectories\")\n",
    "ax.legend()\n",
    "\n",
    "# (1b) Relative error heatmap\n",
    "ax = axes[1]\n",
    "eps = 1e-12\n",
    "rel_err_matrix = ((n_pred - n_true) / (n_true + eps)).detach().cpu().numpy()\n",
    "im = ax.imshow(rel_err_matrix.T, aspect=\"auto\", origin=\"lower\",\n",
    "               extent=[0, T_val, m[0].item(), m[-1].item()],\n",
    "               cmap=\"bwr\", vmin=-0.5, vmax=0.5)\n",
    "fig.colorbar(im, ax=ax, label=\"Relative error\")\n",
    "ax.set_xlabel(\"Time step\")\n",
    "ax.set_ylabel(\"Mass m\")\n",
    "ax.set_title(\"Relative error of biomass distribution\")\n",
    "\n",
    "plt.tight_layout()\n",
    "plt.show()\n",
    "\n",
    "\n",
    "# -----------------------------\n",
    "# FIGURE 2: Singular values + Cumulative energy\n",
    "# -----------------------------\n",
    "fig, axes = plt.subplots(1, 2, figsize=(12, 4))\n",
    "\n",
    "# (2a) Singular values\n",
    "ax = axes[0]\n",
    "ax.semilogy(S.numpy(), 'o-')\n",
    "ax.axvline(r, color=\"red\", linestyle=\"--\", label=f\"r={r}\")\n",
    "ax.set_xlabel(\"Singular value index\")\n",
    "ax.set_ylabel(\"Singular value (log scale)\")\n",
    "ax.set_title(\"Singular values of X\")\n",
    "ax.legend()\n",
    "\n",
    "# (2b) Cumulative singular value energy\n",
    "ax = axes[1]\n",
    "sing_energy = torch.cumsum(S, dim=0) / torch.sum(S)\n",
    "ax.plot(sing_energy.numpy(), 'o-', label=\"Cumulative energy\")\n",
    "ax.axvline(r, color=\"blue\", linestyle=\"--\", label=f\"r={r}\")\n",
    "ax.set_xlabel(\"Number of singular values kept (r)\")\n",
    "ax.set_ylabel(\"Cumulative energy\")\n",
    "ax.set_title(\"Cumulative energy of singular values\")\n",
    "ax.legend()\n",
    "\n",
    "plt.tight_layout()\n",
    "plt.show()\n",
    "\n"
   ]
  },
  {
   "cell_type": "markdown",
   "id": "8d8750fa",
   "metadata": {},
   "source": [
    "## Error evaluation Extended DMD\n",
    "in this part we will perform the same evaluation, as for DMD, but use the EDMD instead\n"
   ]
  },
  {
   "cell_type": "code",
   "execution_count": 8,
   "id": "7f9a8193",
   "metadata": {},
   "outputs": [
    {
     "name": "stdout",
     "output_type": "stream",
     "text": [
      "initial_biomass       0.425     1.075     1.725     2.375     3.025     3.675\n",
      "initial_substrate                                                            \n",
      "0.333333           0.409605  0.073916  0.225013  0.326983  0.390124  0.447649\n",
      "1.000000           0.240743  0.134875  0.279589  0.306931  0.257474  0.186302\n",
      "1.666667           0.137280  0.237014  0.340554  0.327423  0.234702  0.114662\n",
      "2.333333           0.111987  0.305438  0.364952  0.304711  0.163039  0.083765\n",
      "3.000000           0.160136  0.359909  0.364176  0.242071  0.047050  0.257593\n",
      "3.666667           0.266547  0.436104  0.367098  0.160797  0.159306  0.533721\n"
     ]
    },
    {
     "data": {
      "image/png": "[encoded data removed]",
      "text/plain": [
       "<Figure size 1800x500 with 6 Axes>"
      ]
     },
     "metadata": {},
     "output_type": "display_data"
    }
   ],
   "source": [
    "def edmd_rollout(entry, K_tilde, n_max, S_max, U_r, feature_fn, degree=3, delta_m=None, m=None):\n",
    "    \"\"\"\n",
    "    Perform an EDMD rollout for one dataset entry.\n",
    "\n",
    "    Parameters\n",
    "    ----------\n",
    "    entry : dict\n",
    "        One dataset entry containing:\n",
    "        - \"n\": biomass array (M x T)\n",
    "        - \"S\": substrate array (T,)\n",
    "    K_tilde : torch.Tensor\n",
    "        Reduced EDMD operator (r x r).\n",
    "    n_max : float\n",
    "        Normalization factor for biomass.\n",
    "    S_max : float\n",
    "        Normalization factor for substrate.\n",
    "    U_r : torch.Tensor\n",
    "        Reduced basis (columns are singular vectors).\n",
    "    feature_fn : function\n",
    "        Function mapping X -> Phi(X) (the feature map).\n",
    "    degree : int\n",
    "        Polynomial degree (if applicable for feature_fn).\n",
    "    delta_m : float, optional\n",
    "        Mass grid spacing (needed if biomass error is requested).\n",
    "    m : torch.Tensor, optional\n",
    "        Mass grid vector (needed if biomass error is requested).\n",
    "\n",
    "    Returns\n",
    "    -------\n",
    "    n_pred : torch.Tensor (T, M)\n",
    "        Predicted biomass distribution.\n",
    "    S_pred : torch.Tensor (T,)\n",
    "        Predicted substrate trajectory.\n",
    "    err_dist : float\n",
    "        Relative distribution error.\n",
    "    err_biomass : float\n",
    "        Relative biomass error.\n",
    "    err_S : float\n",
    "        Relative substrate error.\n",
    "    \"\"\"\n",
    "\n",
    "    n_true = torch.tensor(entry[\"n\"].T, dtype=torch.float32)   # (T, M)\n",
    "    S_true = torch.tensor(entry[\"S\"], dtype=torch.float32)     # (T,)\n",
    "    T, M = n_true.shape\n",
    "\n",
    "    # initial condition\n",
    "    n0 = n_true[0]\n",
    "    S0 = S_true[0]\n",
    "\n",
    "    # normalize\n",
    "    x0_norm = torch.cat([n0 / n_max, (S0 / S_max).unsqueeze(0)], dim=0)  # (M+1,)\n",
    "\n",
    "    # lift initial condition\n",
    "    phi0 = feature_fn(x0_norm.unsqueeze(0), degree=degree).squeeze(0)  # (feature_dim,)\n",
    "\n",
    "    # project into reduced space\n",
    "    z0 = U_r.T @ phi0\n",
    "    z_pred = torch.zeros((T, len(z0)))\n",
    "    z_pred[0] = z0\n",
    "\n",
    "    # rollout\n",
    "    for k in range(T - 1):\n",
    "        z_pred[k+1] = K_tilde @ z_pred[k]\n",
    "\n",
    "    # lift back\n",
    "    Phi_pred = (U_r @ z_pred.T).T   # (T, feature_dim)\n",
    "\n",
    "    # extract predictions from features (assuming [n, S, interactions...])\n",
    "    n_pred = Phi_pred[:, :M] * n_max\n",
    "    S_pred = Phi_pred[:, M] * S_max\n",
    "\n",
    "    # --- Error metrics ---\n",
    "    eps = 1e-12\n",
    "    n_pred = n_pred.to(torch.float64)\n",
    "    n_true = n_true.to(torch.float64)\n",
    "\n",
    "    # distribution error\n",
    "    err_dist = torch.norm(n_pred - n_true) / (torch.norm(n_true) + eps)\n",
    "\n",
    "    # biomass error (requires m, delta_m)\n",
    "    if (m is not None) and (delta_m is not None):\n",
    "        err_biomass = torch.norm((n_pred - n_true) * m * delta_m) / \\\n",
    "                      (torch.norm(n_true * m * delta_m) + eps)\n",
    "    else:\n",
    "        err_biomass = float(\"nan\")\n",
    "\n",
    "    # substrate error\n",
    "    err_S = torch.norm(S_pred - S_true) / (torch.norm(S_true) + eps)\n",
    "\n",
    "    return n_pred, S_pred, err_dist.item(), err_biomass.item(), err_S.item()\n",
    "\n",
    "# --- Run EDMD rollout over all validation datasets ---\n",
    "results_edmd = []\n",
    "\n",
    "for idx, entry in Dataset_error_est.items():\n",
    "    n_pred, S_pred, err_dist, err_biomass, err_S = edmd_rollout(\n",
    "        entry,\n",
    "        K_tilde,           # reduced EDMD operator\n",
    "        n_max, S_max,\n",
    "        U_r,               # reduced basis\n",
    "        feature_fn=EDMD_feature_space,  # <-- your feature function\n",
    "        degree=degree,  # polynomial degree for the feature space used in training\n",
    "        delta_m=delta_m,\n",
    "        m=m\n",
    "    )\n",
    "\n",
    "    results_edmd.append({\n",
    "        \"id\": idx,\n",
    "        \"initial_biomass\": entry[\"initial biomass\"],\n",
    "        \"initial_substrate\": entry[\"initial_substrate\"],\n",
    "        \"err_dist\": err_dist,\n",
    "        \"err_biomass\": err_biomass,\n",
    "        \"err_S\": err_S\n",
    "    })\n",
    "\n",
    "# --- Put into DataFrame ---\n",
    "df_edmd = pd.DataFrame(results_edmd)\n",
    "# print(df_edmd.head())\n",
    "# print(\"\\nError statistics:\")\n",
    "# print(df_edmd[[\"err_dist\", \"err_biomass\", \"err_S\"]].describe())\n",
    "\n",
    "# --- Aggregate across replicates (mean + std) ---\n",
    "pivot_dist_mean = df_edmd.pivot_table(\n",
    "    index=\"initial_substrate\", columns=\"initial_biomass\",\n",
    "    values=\"err_dist\", aggfunc=\"mean\"\n",
    ")\n",
    "pivot_S_mean = df_edmd.pivot_table(\n",
    "    index=\"initial_substrate\", columns=\"initial_biomass\",\n",
    "    values=\"err_S\", aggfunc=\"mean\"\n",
    ")\n",
    "print(pivot_S_mean)\n",
    "\n",
    "pivot_dist_std = df_edmd.pivot_table(\n",
    "    index=\"initial_substrate\", columns=\"initial_biomass\",\n",
    "    values=\"err_dist\", aggfunc=\"std\"\n",
    ")\n",
    "pivot_S_std = df_edmd.pivot_table(\n",
    "    index=\"initial_substrate\", columns=\"initial_biomass\",\n",
    "    values=\"err_S\", aggfunc=\"std\"\n",
    ")\n",
    "\n",
    "# --- Aggregate biomass + substrate error together (normalized) ---\n",
    "df_edmd[\"err_combined\"] = (\n",
    "    df_edmd[\"err_biomass\"] / df_edmd[\"err_biomass\"].max()\n",
    "    + df_edmd[\"err_S\"] / df_edmd[\"err_S\"].max()\n",
    ")\n",
    "\n",
    "pivot_comb_mean = df_edmd.pivot_table(\n",
    "    index=\"initial_substrate\", columns=\"initial_biomass\",\n",
    "    values=\"err_combined\", aggfunc=\"mean\"\n",
    ")\n",
    "\n",
    "# --- Plot all three heatmaps ---\n",
    "fig, axes = plt.subplots(1, 3, figsize=(18,5))\n",
    "\n",
    "# (1) Distribution error\n",
    "im1 = axes[0].imshow(pivot_dist_mean.values, origin=\"lower\", aspect=\"auto\",\n",
    "                     extent=[pivot_dist_mean.columns.min(), pivot_dist_mean.columns.max(),\n",
    "                             pivot_dist_mean.index.min(), pivot_dist_mean.index.max()],\n",
    "                     cmap=\"viridis\")\n",
    "axes[0].set_title(\"Biomass error (mean)\")\n",
    "axes[0].set_xlabel(\"Initial biomass B0\")\n",
    "axes[0].set_ylabel(\"Initial substrate S0\")\n",
    "fig.colorbar(im1, ax=axes[0], label=\"err_dist\")\n",
    "\n",
    "# (2) Substrate error\n",
    "im2 = axes[1].imshow(pivot_S_mean.values, origin=\"lower\", aspect=\"auto\",\n",
    "                     extent=[pivot_S_mean.columns.min(), pivot_S_mean.columns.max(),\n",
    "                             pivot_S_mean.index.min(), pivot_S_mean.index.max()],\n",
    "                     cmap=\"plasma\")\n",
    "axes[1].set_title(\"Substrate error (mean)\")\n",
    "axes[1].set_xlabel(\"Initial biomass B0\")\n",
    "axes[1].set_ylabel(\"Initial substrate S0\")\n",
    "fig.colorbar(im2, ax=axes[1], label=\"err_S\")\n",
    "\n",
    "# (3) Combined biomass + substrate error\n",
    "im3 = axes[2].imshow(pivot_comb_mean.values, origin=\"lower\", aspect=\"auto\",\n",
    "                     extent=[pivot_comb_mean.columns.min(), pivot_comb_mean.columns.max(),\n",
    "                             pivot_comb_mean.index.min(), pivot_comb_mean.index.max()],\n",
    "                     cmap=\"inferno\")\n",
    "axes[2].set_title(\"Combined biomass + substrate error\")\n",
    "axes[2].set_xlabel(\"Initial biomass B0\")\n",
    "axes[2].set_ylabel(\"Initial substrate S0\")\n",
    "fig.colorbar(im3, ax=axes[2], label=\"err_combined\")\n",
    "\n",
    "plt.tight_layout()\n",
    "plt.show()\n",
    "\n",
    "\n"
   ]
  }
 ],
 "metadata": {
  "kernelspec": {
   "display_name": ".venv",
   "language": "python",
   "name": "python3"
  },
  "language_info": {
   "codemirror_mode": {
    "name": "ipython",
    "version": 3
   },
   "file_extension": ".py",
   "mimetype": "text/x-python",
   "name": "python",
   "nbconvert_exporter": "python",
   "pygments_lexer": "ipython3",
   "version": "3.10.5"
  }
 },
 "nbformat": 4,
 "nbformat_minor": 5
}
