{
 "cells": [
  {
   "cell_type": "markdown",
   "id": "d3c6b748",
   "metadata": {},
   "source": [
    "# DMD (for batch)\n",
    "similar to the easy model setup it will be attempted to create a DMD model for the System dynamics. \n",
    "However this time, DMD might be a lot better suited, since the system dimension is also a lot bigger than for the \"simple\" bioreactor model\n",
    "The data is used to find a best fit linear operator for the approximation of the nonlinear system such that\n",
    "$$x_{k+1}=A\\cdot x_{k}$$\n",
    "\n",
    "The practical computation uses the singular value decomposition of the snapshot matrices  \n",
    "SVD of $X = U \\Sigma V^T$ and $X' = A X = A U \\Sigma V^T$\n",
    "\n",
    "To solve for $A$, use the pseudoinverse:\n",
    "$$\n",
    "A = X' V \\Sigma^{-1} U^T\n",
    "$$\n",
    "\n",
    "Where:\n",
    "- $X = [x_1, ..., x_{m-1}]$ (data matrix of snapshots)\n",
    "- $X' = [x_2, ..., x_m]$ (data matrix shifted by one step)\n",
    "- $U, \\Sigma, V^T$ are from the SVD of $X$.\n",
    "\n",
    "This gives the best-fit linear operator $A$ such that $x_{k+1} \\approx A x_k$.\n"
   ]
  },
  {
   "cell_type": "code",
   "execution_count": 33,
   "id": "dab9b83a",
   "metadata": {},
   "outputs": [
    {
     "name": "stdout",
     "output_type": "stream",
     "text": [
      "The autoreload extension is already loaded. To reload it, use:\n",
      "  %reload_ext autoreload\n"
     ]
    }
   ],
   "source": [
    "#imports\n",
    "import numpy as np\n",
    "from scipy.integrate import solve_ivp\n",
    "import matplotlib.pyplot as plt\n",
    "import math\n",
    "from functools import partial\n",
    "import pickle\n",
    "import torch\n",
    "import torch.nn as nn\n",
    "from Training_helper import *\n",
    "import pandas as pd\n",
    "%load_ext autoreload\n",
    "%autoreload 2\n",
    "\n"
   ]
  },
  {
   "cell_type": "markdown",
   "id": "87ea9b1b",
   "metadata": {},
   "source": [
    "# Data import"
   ]
  },
  {
   "cell_type": "code",
   "execution_count": 34,
   "id": "a20de635",
   "metadata": {},
   "outputs": [],
   "source": [
    "\n",
    "with open(\"Dataset_training_integro_diff_Batch.pkl\", \"rb\") as f:\n",
    "    Dataset = pickle.load(f)\n",
    "\n",
    "\n",
    "first = next(iter(Dataset.values()))\n",
    "M, T = first[\"n\"].shape\n",
    "dim=M+1  # +1 for S\n",
    "t_span=(0,0.1*T)\n",
    "t_eval= torch.linspace(*t_span,T)\n",
    "m=torch.linspace(0,2e-10,M, dtype=torch.float32)\n",
    "delta_m=(m[1]-m[0]).item()\n",
    "m_max=m[-1]\n",
    "\n",
    "n_max = max(torch.tensor(entry[\"n\"], dtype=torch.float32).max() for entry in Dataset.values())\n",
    "S_max = 5   #max possible substrate\n",
    "\n",
    "X_all, Y_all = [], []\n",
    "\n",
    "for entry in Dataset.values():\n",
    "    n = torch.tensor(entry[\"n\"], dtype=torch.float32)  # (M, T)\n",
    "    s = torch.tensor(entry[\"S\"], dtype=torch.float32)  # (T,)\n",
    "\n",
    "    n_norm = n / n_max#torch.log1p(n) / log_n_max                # log scaling\n",
    "    s_norm = s / S_max         \n",
    "\n",
    "    # X_t = [n(t), s(t)]\n",
    "    X = torch.cat([n_norm[:, :-1], s_norm[:-1].unsqueeze(0)], dim=0).T   # shape (T-1, M+1)\n",
    "    # Y_t = [n(t+1), s(t+1)]\n",
    "    Y = torch.cat([n_norm[:, 1:],  s_norm[1:].unsqueeze(0)], dim=0).T    # shape (T-1, M+1)\n",
    "\n",
    "    X_all.append(X)\n",
    "    Y_all.append(Y)\n",
    "\n",
    "# final stacked tensors\n",
    "X_train = torch.cat(X_all, dim=0)  # shape: (total_samples, M+1)\n",
    "Y_train = torch.cat(Y_all, dim=0)  # shape: (total_samples, M+1)\n",
    "\n",
    "\n",
    "#validation set containing 1 dataset used for plotting\n",
    "with open(\"Dataset_validation_integro_diff_Batch_for_plots.pkl\", \"rb\") as f:\n",
    "    Dataset_validation = pickle.load(f)\n",
    "\n",
    "n0 = torch.tensor(Dataset_validation[0][\"n\"][:, 0], dtype=torch.float32)   # (M,)\n",
    "S0 = torch.tensor(Dataset_validation[0][\"initial_substrate\"], dtype=torch.float32)\n",
    "\n",
    "#validation set containing 147 datasets used for error estimation over a broad range of parameters\n",
    "with open(\"Dataset_validation_integro_diff_Batch.pkl\",\"rb\") as f:\n",
    "    Dataset_error_est=pickle.load(f)\n"
   ]
  },
  {
   "cell_type": "markdown",
   "id": "3d9383b6",
   "metadata": {},
   "source": [
    "# DMD"
   ]
  },
  {
   "cell_type": "code",
   "execution_count": 35,
   "id": "81e81e35",
   "metadata": {},
   "outputs": [],
   "source": [
    "\n",
    "#snapshot matrices\n",
    "X_DMD = X_train.T       # shape: (d, N)\n",
    "Y = Y_train.T           # shape: (d, N)\n",
    "\n",
    "#Singular Value Decomposition\n",
    "U, S, Vh = torch.linalg.svd(X_DMD, full_matrices=False)\n",
    "\n",
    "# choose truncation rank\n",
    "r = 20\n",
    "\n",
    "#reduced matrices\n",
    "U_r = U[:, :r]\n",
    "S_r = S[:r]\n",
    "Vh_r = Vh[:r, :]\n",
    "\n",
    "Sigma_r_inv = torch.diag(1.0 / S_r)\n",
    "\n",
    "# reduced operator (r x r)\n",
    "A_tilde = U_r.T @ Y @ Vh_r.T @ Sigma_r_inv\n",
    "\n",
    "#------------Validation rollout ---------------\n",
    "\n",
    "\n",
    "# normalized initial state\n",
    "x0_norm = torch.cat([n0 / n_max, (S0 / S_max).unsqueeze(0)], dim=0)  # (M+1,)\n",
    "\n",
    "# project into reduced space\n",
    "z0 = U_r.T @ x0_norm   # (r,)\n",
    "\n",
    "# allocate reduced trajectory\n",
    "T_val = Dataset_validation[0][\"n\"].shape[1]\n",
    "z_pred = torch.zeros((T_val, r))\n",
    "z_pred[0] = z0\n",
    "\n",
    "for k in range(T_val - 1):\n",
    "    z_pred[k+1] = A_tilde @ z_pred[k]\n",
    "\n",
    "# lift back to full space\n",
    "x_pred_norm = (U_r @ z_pred.T).T   # (T, M+1)\n",
    "\n",
    "# rescale\n",
    "n_pred = x_pred_norm[:, :M] * n_max\n",
    "S_pred = x_pred_norm[:, -1] * S_max\n",
    "\n",
    "\n"
   ]
  },
  {
   "cell_type": "markdown",
   "id": "d669cc00",
   "metadata": {},
   "source": [
    "## Plotting (+visualization of validation example)"
   ]
  },
  {
   "cell_type": "code",
   "execution_count": 36,
   "id": "c2e65336",
   "metadata": {},
   "outputs": [
    {
     "data": {
      "application/vnd.plotly.v1+json": {
       "config": {
        "plotlyServerURL": "https://plot.ly"
       },
       "data": [
        {
         "line": {
          "cmax": 609594438449430000000,
          "cmin": -47443623273325130000,
          "color": {
           "bdata": "oksr2BsR59nyJJxbRdkXXG7JWFxuDo5cj+i2XIvb7FxSdRpd8sdJXcAlg131zqhd4QDXXYFNB16CmCheQTJQXg0Zf16tUJtewAa8XqCV4l4A3gdf3z8iX4DmQF9oV2RfYYuGX1rWnV/HR7hfDCvWX9Cy918ujw5gR1MjYO87OmAZYFNgmc9uYF5JhmAFV5Zg3o2nYMjmuWDrVM1gTcbhYMch92D/pAZhlwwSYUKzHWHMgClhi1s1YT0oQWE4yUxh7CBYYWcRY2FefG1hU0x3YckugGHLQYRhN9SHYSXfimEjWo1h1juPYZN7kGF+E5FhggGRYcpGkGHk5o5hX+eMYTxPimHMJodh9neDYdScfmH/bXVhRIBrYUTyYGHO41VhBHVKYQHFPmFb8jJhvBknYbJVG2Gevg9hlWoEYX/a8mAVr91gl2/JYI0ztmAUDaRg5wiTYAYvg2CABWlg7QVOYE1VNWAP4x5gwJgKYNO08F8QENBfVv2yX2UymV/YZ4JfKcdcX9YjOl9baB1f7iYDXw==",
           "dtype": "f4"
          },
          "colorbar": {
           "title": {
            "text": "n(m, t)"
           }
          },
          "colorscale": [
           [
            0,
            "#440154"
           ],
           [
            0.1111111111111111,
            "#482878"
           ],
           [
            0.2222222222222222,
            "#3e4989"
           ],
           [
            0.3333333333333333,
            "#31688e"
           ],
           [
            0.4444444444444444,
            "#26828e"
           ],
           [
            0.5555555555555556,
            "#1f9e89"
           ],
           [
            0.6666666666666666,
            "#35b779"
           ],
           [
            0.7777777777777778,
            "#6ece58"
           ],
           [
            0.8888888888888888,
            "#b5de2b"
           ],
           [
            1,
            "#fde725"
           ]
          ],
          "showscale": true,
          "width": 4
         },
         "mode": "lines",
         "showlegend": false,
         "type": "scatter3d",
         "x": {
          "bdata": "AAAAALooDiy6KI4sFz3VLLooDi3osjEtFz1VLUbHeC26KI4t0e2fLeiysS0AeMMtFz3VLS4C5y1Gx/gtLkYFLrooDi5GCxcu0e0fLl3QKC7osjEudJU6LgB4Qy6LWkwuFz1VLqMfXi4uAmcuuuRvLkbHeC7p1IAuLkaFLnS3iS66KI4uAJqSLkYLly6LfJsu0e2fLhdfpC5d0Kguo0GtLuiysS4uJLYudJW6LroGvy4AeMMuRunHLotazC7Ry9AuFz3VLl2u2S6hH94u55DiLi0C5y5zc+suuOTvLv5V9C5Ex/guijj9LujUAC+LDQMvLkYFL9B+By90twkvFvALL7ooDi9cYRAv/5kSL6LSFC9FCxcv6EMZL4p8Gy8utR0v0O0fL3QmIi8WXyQvuZcmL1zQKC//CCsvokEtL0V6Ly/osjEvi+szLy4kNi/QXDgvdJU6LxbOPC+5Bj8vXD9BL/93Qy+isEUvRelHL+ghSi+LWkwvLpNOL9DLUC9zBFMvFj1VL7l1Vy9crlkv/+ZbLw==",
          "dtype": "f4"
         },
         "y": {
          "bdata": "AAAAAAAAAAAAAAAAAAAAAAAAAAAAAAAAAAAAAAAAAAAAAAAAAAAAAAAAAAAAAAAAAAAAAAAAAAAAAAAAAAAAAAAAAAAAAAAAAAAAAAAAAAAAAAAAAAAAAAAAAAAAAAAAAAAAAAAAAAAAAAAAAAAAAAAAAAAAAAAAAAAAAAAAAAAAAAAAAAAAAAAAAAAAAAAAAAAAAAAAAAAAAAAAAAAAAAAAAAAAAAAAAAAAAAAAAAAAAAAAAAAAAAAAAAAAAAAAAAAAAAAAAAAAAAAAAAAAAAAAAAAAAAAAAAAAAAAAAAAAAAAAAAAAAAAAAAAAAAAAAAAAAAAAAAAAAAAAAAAAAAAAAAAAAAAAAAAAAAAAAAAAAAAAAAAAAAAAAAAAAAAAAAAAAAAAAAAAAAAAAAAAAAAAAAAAAAAAAAAAAAAAAAAAAAAAAAAAAAAAAAAAAAAAAAAAAAAAAAAAAAAAAAAAAAAAAAAAAAAAAAAAAAAAAAAAAAAAAAAAAAAAAAAAAAAAAAAAAAAAAAAAAAAAAAAAAA==",
          "dtype": "f4"
         },
         "z": {
          "bdata": "oksr2BsR59nyJJxbRdkXXG7JWFxuDo5cj+i2XIvb7FxSdRpd8sdJXcAlg131zqhd4QDXXYFNB16CmCheQTJQXg0Zf16tUJtewAa8XqCV4l4A3gdf3z8iX4DmQF9oV2RfYYuGX1rWnV/HR7hfDCvWX9Cy918ujw5gR1MjYO87OmAZYFNgmc9uYF5JhmAFV5Zg3o2nYMjmuWDrVM1gTcbhYMch92D/pAZhlwwSYUKzHWHMgClhi1s1YT0oQWE4yUxh7CBYYWcRY2FefG1hU0x3YckugGHLQYRhN9SHYSXfimEjWo1h1juPYZN7kGF+E5FhggGRYcpGkGHk5o5hX+eMYTxPimHMJodh9neDYdScfmH/bXVhRIBrYUTyYGHO41VhBHVKYQHFPmFb8jJhvBknYbJVG2Gevg9hlWoEYX/a8mAVr91gl2/JYI0ztmAUDaRg5wiTYAYvg2CABWlg7QVOYE1VNWAP4x5gwJgKYNO08F8QENBfVv2yX2UymV/YZ4JfKcdcX9YjOl9baB1f7iYDXw==",
          "dtype": "f4"
         }
        },
        {
         "line": {
          "cmax": 609594438449430000000,
          "cmin": -47443623273325130000,
          "color": {
           "bdata": "w5R41w7pPdxJTtjcucwz3Xbjg91nKLXdpnDv3ShOGt6uNkPerw9z3kgLld74/7PeW+HV3jTf+d6nWA/fq1sh3wr4Md9+/T/fwCJK3z31Tt8LBE3fvMlC38LQLt8xrQ/fWyPI3ltBK96ShehdTuDoXqHcW1+e36lfBCHuXw5RHWCrm0dgxcZ1YArKk2DMWa5gS1/KYP6c52Bg5QJhWEsSYe3SIWGYSzFh+4FAYZ9CT2FOWl1hr5hqYRXSdmE/8IBh8tKFYX8GimE8VY1h79uPYQ3VkWGZNJNhuveTYSgklGEnxZNhoOmSYX+ikWFtAZBhVReOYabyi2HtnYlhbB+HYfZ4hGGUqIFh1FJ9YQ7qdmEnCHBhbJ9oYWOkYGGMD1hhZd5OYeITRWF1uTph2d4vYaqZJGH6BBlhZkANYcpuAWF8aetgJm7UYKYyvmBU+KhgJviUYLtggmBZqWJgTdNDYEVQKGAGGBBg6hX2X9zo0V+RHrNf9BKZXxISg18Ax2BfSrBAX3bAJF+xWwxfEHzpXg==",
           "dtype": "f4"
          },
          "colorscale": [
           [
            0,
            "#440154"
           ],
           [
            0.1111111111111111,
            "#482878"
           ],
           [
            0.2222222222222222,
            "#3e4989"
           ],
           [
            0.3333333333333333,
            "#31688e"
           ],
           [
            0.4444444444444444,
            "#26828e"
           ],
           [
            0.5555555555555556,
            "#1f9e89"
           ],
           [
            0.6666666666666666,
            "#35b779"
           ],
           [
            0.7777777777777778,
            "#6ece58"
           ],
           [
            0.8888888888888888,
            "#b5de2b"
           ],
           [
            1,
            "#fde725"
           ]
          ],
          "showscale": false,
          "width": 4
         },
         "mode": "lines",
         "showlegend": false,
         "type": "scatter3d",
         "x": {
          "bdata": "AAAAALooDiy6KI4sFz3VLLooDi3osjEtFz1VLUbHeC26KI4t0e2fLeiysS0AeMMtFz3VLS4C5y1Gx/gtLkYFLrooDi5GCxcu0e0fLl3QKC7osjEudJU6LgB4Qy6LWkwuFz1VLqMfXi4uAmcuuuRvLkbHeC7p1IAuLkaFLnS3iS66KI4uAJqSLkYLly6LfJsu0e2fLhdfpC5d0Kguo0GtLuiysS4uJLYudJW6LroGvy4AeMMuRunHLotazC7Ry9AuFz3VLl2u2S6hH94u55DiLi0C5y5zc+suuOTvLv5V9C5Ex/guijj9LujUAC+LDQMvLkYFL9B+By90twkvFvALL7ooDi9cYRAv/5kSL6LSFC9FCxcv6EMZL4p8Gy8utR0v0O0fL3QmIi8WXyQvuZcmL1zQKC//CCsvokEtL0V6Ly/osjEvi+szLy4kNi/QXDgvdJU6LxbOPC+5Bj8vXD9BL/93Qy+isEUvRelHL+ghSi+LWkwvLpNOL9DLUC9zBFMvFj1VL7l1Vy9crlkv/+ZbLw==",
          "dtype": "f4"
         },
         "y": {
          "bdata": "Yt5OPmLeTj5i3k4+Yt5OPmLeTj5i3k4+Yt5OPmLeTj5i3k4+Yt5OPmLeTj5i3k4+Yt5OPmLeTj5i3k4+Yt5OPmLeTj5i3k4+Yt5OPmLeTj5i3k4+Yt5OPmLeTj5i3k4+Yt5OPmLeTj5i3k4+Yt5OPmLeTj5i3k4+Yt5OPmLeTj5i3k4+Yt5OPmLeTj5i3k4+Yt5OPmLeTj5i3k4+Yt5OPmLeTj5i3k4+Yt5OPmLeTj5i3k4+Yt5OPmLeTj5i3k4+Yt5OPmLeTj5i3k4+Yt5OPmLeTj5i3k4+Yt5OPmLeTj5i3k4+Yt5OPmLeTj5i3k4+Yt5OPmLeTj5i3k4+Yt5OPmLeTj5i3k4+Yt5OPmLeTj5i3k4+Yt5OPmLeTj5i3k4+Yt5OPmLeTj5i3k4+Yt5OPmLeTj5i3k4+Yt5OPmLeTj5i3k4+Yt5OPmLeTj5i3k4+Yt5OPmLeTj5i3k4+Yt5OPmLeTj5i3k4+Yt5OPmLeTj5i3k4+Yt5OPmLeTj5i3k4+Yt5OPmLeTj5i3k4+Yt5OPg==",
          "dtype": "f4"
         },
         "z": {
          "bdata": "w5R41w7pPdxJTtjcucwz3Xbjg91nKLXdpnDv3ShOGt6uNkPerw9z3kgLld74/7PeW+HV3jTf+d6nWA/fq1sh3wr4Md9+/T/fwCJK3z31Tt8LBE3fvMlC38LQLt8xrQ/fWyPI3ltBK96ShehdTuDoXqHcW1+e36lfBCHuXw5RHWCrm0dgxcZ1YArKk2DMWa5gS1/KYP6c52Bg5QJhWEsSYe3SIWGYSzFh+4FAYZ9CT2FOWl1hr5hqYRXSdmE/8IBh8tKFYX8GimE8VY1h79uPYQ3VkWGZNJNhuveTYSgklGEnxZNhoOmSYX+ikWFtAZBhVReOYabyi2HtnYlhbB+HYfZ4hGGUqIFh1FJ9YQ7qdmEnCHBhbJ9oYWOkYGGMD1hhZd5OYeITRWF1uTph2d4vYaqZJGH6BBlhZkANYcpuAWF8aetgJm7UYKYyvmBU+KhgJviUYLtggmBZqWJgTdNDYEVQKGAGGBBg6hX2X9zo0V+RHrNf9BKZXxISg18Ax2BfSrBAX3bAJF+xWwxfEHzpXg==",
          "dtype": "f4"
         }
        },
        {
         "line": {
          "cmax": 609594438449430000000,
          "cmin": -47443623273325130000,
          "color": {
           "bdata": "QBHj1lfvvdx8nG/dt2nI3bLhEN44RUPeRI193q8Yod4wxsneW7j53tO2GN+GaTjfZJJb3268gN8Yf5TfjVWo3yNZu99sfczfm53a3wp+5N984ejfxYrm365O3N9UGsnfr/+r3yQ6hN8OcSLfBL0U3iU0317P6I1f6HfvX0L+LWDYZGlgA7+UYMnetmA4wNpgVwIAYSEhE2EYgiZh7+U5YV0JTWHSpl9hiHdxYSgbgWGT0IhhAL6PYb/JlWFd35ph3fCeYVX3oWHfn6NhuRWkYYDFo2GHuKJhn/2gYZyonmGB0ZthApSYYRoOlWFQXpFhNqGNYe/uiWELWYZhtOmCYZhGf2FxAnlhvvFyYej2bGGO7mZhebNgYXEhWmEfGFNhcn1LYTY/Q2HEVDphcr8wYYWKJmG1yhthOZ0QYf4lBWGQG/NgDADcYENRxWBlY69gPYOaYKHyhmDVy2lgNARJYOi3K2Bf8BFgADH3X8b+0F9wurBfq6+VX7Qifl8mDFhfqWs3X8+4Gl+0xABfA7LQXg==",
           "dtype": "f4"
          },
          "colorscale": [
           [
            0,
            "#440154"
           ],
           [
            0.1111111111111111,
            "#482878"
           ],
           [
            0.2222222222222222,
            "#3e4989"
           ],
           [
            0.3333333333333333,
            "#31688e"
           ],
           [
            0.4444444444444444,
            "#26828e"
           ],
           [
            0.5555555555555556,
            "#1f9e89"
           ],
           [
            0.6666666666666666,
            "#35b779"
           ],
           [
            0.7777777777777778,
            "#6ece58"
           ],
           [
            0.8888888888888888,
            "#b5de2b"
           ],
           [
            1,
            "#fde725"
           ]
          ],
          "showscale": false,
          "width": 4
         },
         "mode": "lines",
         "showlegend": false,
         "type": "scatter3d",
         "x": {
          "bdata": "AAAAALooDiy6KI4sFz3VLLooDi3osjEtFz1VLUbHeC26KI4t0e2fLeiysS0AeMMtFz3VLS4C5y1Gx/gtLkYFLrooDi5GCxcu0e0fLl3QKC7osjEudJU6LgB4Qy6LWkwuFz1VLqMfXi4uAmcuuuRvLkbHeC7p1IAuLkaFLnS3iS66KI4uAJqSLkYLly6LfJsu0e2fLhdfpC5d0Kguo0GtLuiysS4uJLYudJW6LroGvy4AeMMuRunHLotazC7Ry9AuFz3VLl2u2S6hH94u55DiLi0C5y5zc+suuOTvLv5V9C5Ex/guijj9LujUAC+LDQMvLkYFL9B+By90twkvFvALL7ooDi9cYRAv/5kSL6LSFC9FCxcv6EMZL4p8Gy8utR0v0O0fL3QmIi8WXyQvuZcmL1zQKC//CCsvokEtL0V6Ly/osjEvi+szLy4kNi/QXDgvdJU6LxbOPC+5Bj8vXD9BL/93Qy+isEUvRelHL+ghSi+LWkwvLpNOL9DLUC9zBFMvFj1VL7l1Vy9crlkv/+ZbLw==",
          "dtype": "f4"
         },
         "y": {
          "bdata": "Yt7OPmLezj5i3s4+Yt7OPmLezj5i3s4+Yt7OPmLezj5i3s4+Yt7OPmLezj5i3s4+Yt7OPmLezj5i3s4+Yt7OPmLezj5i3s4+Yt7OPmLezj5i3s4+Yt7OPmLezj5i3s4+Yt7OPmLezj5i3s4+Yt7OPmLezj5i3s4+Yt7OPmLezj5i3s4+Yt7OPmLezj5i3s4+Yt7OPmLezj5i3s4+Yt7OPmLezj5i3s4+Yt7OPmLezj5i3s4+Yt7OPmLezj5i3s4+Yt7OPmLezj5i3s4+Yt7OPmLezj5i3s4+Yt7OPmLezj5i3s4+Yt7OPmLezj5i3s4+Yt7OPmLezj5i3s4+Yt7OPmLezj5i3s4+Yt7OPmLezj5i3s4+Yt7OPmLezj5i3s4+Yt7OPmLezj5i3s4+Yt7OPmLezj5i3s4+Yt7OPmLezj5i3s4+Yt7OPmLezj5i3s4+Yt7OPmLezj5i3s4+Yt7OPmLezj5i3s4+Yt7OPmLezj5i3s4+Yt7OPmLezj5i3s4+Yt7OPmLezj5i3s4+Yt7OPg==",
          "dtype": "f4"
         },
         "z": {
          "bdata": "QBHj1lfvvdx8nG/dt2nI3bLhEN44RUPeRI193q8Yod4wxsneW7j53tO2GN+GaTjfZJJb3268gN8Yf5TfjVWo3yNZu99sfczfm53a3wp+5N984ejfxYrm365O3N9UGsnfr/+r3yQ6hN8OcSLfBL0U3iU0317P6I1f6HfvX0L+LWDYZGlgA7+UYMnetmA4wNpgVwIAYSEhE2EYgiZh7+U5YV0JTWHSpl9hiHdxYSgbgWGT0IhhAL6PYb/JlWFd35ph3fCeYVX3oWHfn6NhuRWkYYDFo2GHuKJhn/2gYZyonmGB0ZthApSYYRoOlWFQXpFhNqGNYe/uiWELWYZhtOmCYZhGf2FxAnlhvvFyYej2bGGO7mZhebNgYXEhWmEfGFNhcn1LYTY/Q2HEVDphcr8wYYWKJmG1yhthOZ0QYf4lBWGQG/NgDADcYENRxWBlY69gPYOaYKHyhmDVy2lgNARJYOi3K2Bf8BFgADH3X8b+0F9wurBfq6+VX7Qifl8mDFhfqWs3X8+4Gl+0xABfA7LQXg==",
          "dtype": "f4"
         }
        },
        {
         "line": {
          "cmax": 609594438449430000000,
          "cmin": -47443623273325130000,
          "color": {
           "bdata": "KKmb1l8tCd3ez7Ddg14T3m3aUt4HMYzem2mz3onO4N7zCAvfakkq36iQTt9x5HffxOmS3xS5q98/psXfyLnf36fB+N9IrQfgdP8Q4JqHF+CPdBrgmvgY4FFTEuA/2AXgO+zl3252st9faWHfAFKB3r6j+l4n+atfcYMTYM94V2CnppBgiCi4YPja4WAQpQZhTPocYQmnM2EAYEphqtVgYWi1dmG+1YVhK7KPYdLHmGEk8aBhtQyoYar+rWH3sbJhdhm2YdswuGG1lbhhOXq3YVdktWExabJhu6SuYeE3qmH0RqVh5vifYbl1mmHf5JRhqmqPYQ8mimFELoVh5ZGAYYiseGEx8HBhv9hpYUVEY2H9B11hn/RWYbbZUGFwiUphXttDYQqvPGHS7TRhFYwsYVmJI2Em8BlhMdUPYapVBWHaKvVgXHnfYJLryWB91bRgOYagYCFEjWA8k3ZgA4ZVYCWaN2Cu6Rxg4W8FYA8X4l8cBr9fhRGhX82Ah1/mEmNfS7Y8Xy5cGl+4UfVedHK9Xg==",
           "dtype": "f4"
          },
          "colorscale": [
           [
            0,
            "#440154"
           ],
           [
            0.1111111111111111,
            "#482878"
           ],
           [
            0.2222222222222222,
            "#3e4989"
           ],
           [
            0.3333333333333333,
            "#31688e"
           ],
           [
            0.4444444444444444,
            "#26828e"
           ],
           [
            0.5555555555555556,
            "#1f9e89"
           ],
           [
            0.6666666666666666,
            "#35b779"
           ],
           [
            0.7777777777777778,
            "#6ece58"
           ],
           [
            0.8888888888888888,
            "#b5de2b"
           ],
           [
            1,
            "#fde725"
           ]
          ],
          "showscale": false,
          "width": 4
         },
         "mode": "lines",
         "showlegend": false,
         "type": "scatter3d",
         "x": {
          "bdata": "AAAAALooDiy6KI4sFz3VLLooDi3osjEtFz1VLUbHeC26KI4t0e2fLeiysS0AeMMtFz3VLS4C5y1Gx/gtLkYFLrooDi5GCxcu0e0fLl3QKC7osjEudJU6LgB4Qy6LWkwuFz1VLqMfXi4uAmcuuuRvLkbHeC7p1IAuLkaFLnS3iS66KI4uAJqSLkYLly6LfJsu0e2fLhdfpC5d0Kguo0GtLuiysS4uJLYudJW6LroGvy4AeMMuRunHLotazC7Ry9AuFz3VLl2u2S6hH94u55DiLi0C5y5zc+suuOTvLv5V9C5Ex/guijj9LujUAC+LDQMvLkYFL9B+By90twkvFvALL7ooDi9cYRAv/5kSL6LSFC9FCxcv6EMZL4p8Gy8utR0v0O0fL3QmIi8WXyQvuZcmL1zQKC//CCsvokEtL0V6Ly/osjEvi+szLy4kNi/QXDgvdJU6LxbOPC+5Bj8vXD9BL/93Qy+isEUvRelHL+ghSi+LWkwvLpNOL9DLUC9zBFMvFj1VL7l1Vy9crlkv/+ZbLw==",
          "dtype": "f4"
         },
         "y": {
          "bdata": "yiYbP8omGz/KJhs/yiYbP8omGz/KJhs/yiYbP8omGz/KJhs/yiYbP8omGz/KJhs/yiYbP8omGz/KJhs/yiYbP8omGz/KJhs/yiYbP8omGz/KJhs/yiYbP8omGz/KJhs/yiYbP8omGz/KJhs/yiYbP8omGz/KJhs/yiYbP8omGz/KJhs/yiYbP8omGz/KJhs/yiYbP8omGz/KJhs/yiYbP8omGz/KJhs/yiYbP8omGz/KJhs/yiYbP8omGz/KJhs/yiYbP8omGz/KJhs/yiYbP8omGz/KJhs/yiYbP8omGz/KJhs/yiYbP8omGz/KJhs/yiYbP8omGz/KJhs/yiYbP8omGz/KJhs/yiYbP8omGz/KJhs/yiYbP8omGz/KJhs/yiYbP8omGz/KJhs/yiYbP8omGz/KJhs/yiYbP8omGz/KJhs/yiYbP8omGz/KJhs/yiYbP8omGz/KJhs/yiYbP8omGz/KJhs/yiYbP8omGz/KJhs/yiYbP8omGz/KJhs/yiYbP8omGz/KJhs/yiYbPw==",
          "dtype": "f4"
         },
         "z": {
          "bdata": "KKmb1l8tCd3ez7Ddg14T3m3aUt4HMYzem2mz3onO4N7zCAvfakkq36iQTt9x5HffxOmS3xS5q98/psXfyLnf36fB+N9IrQfgdP8Q4JqHF+CPdBrgmvgY4FFTEuA/2AXgO+zl3252st9faWHfAFKB3r6j+l4n+atfcYMTYM94V2CnppBgiCi4YPja4WAQpQZhTPocYQmnM2EAYEphqtVgYWi1dmG+1YVhK7KPYdLHmGEk8aBhtQyoYar+rWH3sbJhdhm2YdswuGG1lbhhOXq3YVdktWExabJhu6SuYeE3qmH0RqVh5vifYbl1mmHf5JRhqmqPYQ8mimFELoVh5ZGAYYiseGEx8HBhv9hpYUVEY2H9B11hn/RWYbbZUGFwiUphXttDYQqvPGHS7TRhFYwsYVmJI2Em8BlhMdUPYapVBWHaKvVgXHnfYJLryWB91bRgOYagYCFEjWA8k3ZgA4ZVYCWaN2Cu6Rxg4W8FYA8X4l8cBr9fhRGhX82Ah1/mEmNfS7Y8Xy5cGl+4UfVedHK9Xg==",
          "dtype": "f4"
         }
        },
        {
         "line": {
          "cmax": 609594438449430000000,
          "cmin": -47443623273325130000,
          "color": {
           "bdata": "uazL1lc2Kt1wvtvdDwc23oHqgN5dPanea3XV3qu8A98DnyDfKjRC3wgBad8rjorf1Qqj38V2vd/eA9nfrpv035txB+AAIxPgZ4Mc4JmlIuBnmiTguXch4DVjGOBYmwjgHf7i35wnpd/KKi7fm8NvXXrsbF+BXfVfXrNBYE/bh2A9AbJgYd7eYLP6BmGtXR9h80s4YftzUWGCf2phUoqBYYxrjWEXtZhhPTmjYWDMrGEoRrVh8YK8YW9lwmHe18ZhTc3JYW9Cy2Fiy8phr57IYXZQxWGJ+sBhIL+7YYbGtWH+PK9hWlGoYfAyoWHkD5phnBKTYYpfjGEOE4ZhakCAYSzidWF1SmxhyKhjYVneW2FiwVRhayFOYafKR2EfikFhfDA7YeiUNGFoly1hHCImYfopHmG7rhVhjLoMYZNgA2G9dvNg1dXfYBYlzGA1rbhgDbWlYKR9k2AzP4JgRk1kYA2oRmDGsytgjnoTYOTZ+1/nydVf/VK0X47lll96u3lfwBlLX8mIIF+DhPFesVivXg==",
           "dtype": "f4"
          },
          "colorscale": [
           [
            0,
            "#440154"
           ],
           [
            0.1111111111111111,
            "#482878"
           ],
           [
            0.2222222222222222,
            "#3e4989"
           ],
           [
            0.3333333333333333,
            "#31688e"
           ],
           [
            0.4444444444444444,
            "#26828e"
           ],
           [
            0.5555555555555556,
            "#1f9e89"
           ],
           [
            0.6666666666666666,
            "#35b779"
           ],
           [
            0.7777777777777778,
            "#6ece58"
           ],
           [
            0.8888888888888888,
            "#b5de2b"
           ],
           [
            1,
            "#fde725"
           ]
          ],
          "showscale": false,
          "width": 4
         },
         "mode": "lines",
         "showlegend": false,
         "type": "scatter3d",
         "x": {
          "bdata": "AAAAALooDiy6KI4sFz3VLLooDi3osjEtFz1VLUbHeC26KI4t0e2fLeiysS0AeMMtFz3VLS4C5y1Gx/gtLkYFLrooDi5GCxcu0e0fLl3QKC7osjEudJU6LgB4Qy6LWkwuFz1VLqMfXi4uAmcuuuRvLkbHeC7p1IAuLkaFLnS3iS66KI4uAJqSLkYLly6LfJsu0e2fLhdfpC5d0Kguo0GtLuiysS4uJLYudJW6LroGvy4AeMMuRunHLotazC7Ry9AuFz3VLl2u2S6hH94u55DiLi0C5y5zc+suuOTvLv5V9C5Ex/guijj9LujUAC+LDQMvLkYFL9B+By90twkvFvALL7ooDi9cYRAv/5kSL6LSFC9FCxcv6EMZL4p8Gy8utR0v0O0fL3QmIi8WXyQvuZcmL1zQKC//CCsvokEtL0V6Ly/osjEvi+szLy4kNi/QXDgvdJU6LxbOPC+5Bj8vXD9BL/93Qy+isEUvRelHL+ghSi+LWkwvLpNOL9DLUC9zBFMvFj1VL7l1Vy9crlkv/+ZbLw==",
          "dtype": "f4"
         },
         "y": {
          "bdata": "Yt5OP2LeTj9i3k4/Yt5OP2LeTj9i3k4/Yt5OP2LeTj9i3k4/Yt5OP2LeTj9i3k4/Yt5OP2LeTj9i3k4/Yt5OP2LeTj9i3k4/Yt5OP2LeTj9i3k4/Yt5OP2LeTj9i3k4/Yt5OP2LeTj9i3k4/Yt5OP2LeTj9i3k4/Yt5OP2LeTj9i3k4/Yt5OP2LeTj9i3k4/Yt5OP2LeTj9i3k4/Yt5OP2LeTj9i3k4/Yt5OP2LeTj9i3k4/Yt5OP2LeTj9i3k4/Yt5OP2LeTj9i3k4/Yt5OP2LeTj9i3k4/Yt5OP2LeTj9i3k4/Yt5OP2LeTj9i3k4/Yt5OP2LeTj9i3k4/Yt5OP2LeTj9i3k4/Yt5OP2LeTj9i3k4/Yt5OP2LeTj9i3k4/Yt5OP2LeTj9i3k4/Yt5OP2LeTj9i3k4/Yt5OP2LeTj9i3k4/Yt5OP2LeTj9i3k4/Yt5OP2LeTj9i3k4/Yt5OP2LeTj9i3k4/Yt5OP2LeTj9i3k4/Yt5OP2LeTj9i3k4/Yt5OP2LeTj9i3k4/Yt5OPw==",
          "dtype": "f4"
         },
         "z": {
          "bdata": "uazL1lc2Kt1wvtvdDwc23oHqgN5dPanea3XV3qu8A98DnyDfKjRC3wgBad8rjorf1Qqj38V2vd/eA9nfrpv035txB+AAIxPgZ4Mc4JmlIuBnmiTguXch4DVjGOBYmwjgHf7i35wnpd/KKi7fm8NvXXrsbF+BXfVfXrNBYE/bh2A9AbJgYd7eYLP6BmGtXR9h80s4YftzUWGCf2phUoqBYYxrjWEXtZhhPTmjYWDMrGEoRrVh8YK8YW9lwmHe18ZhTc3JYW9Cy2Fiy8phr57IYXZQxWGJ+sBhIL+7YYbGtWH+PK9hWlGoYfAyoWHkD5phnBKTYYpfjGEOE4ZhakCAYSzidWF1SmxhyKhjYVneW2FiwVRhayFOYafKR2EfikFhfDA7YeiUNGFoly1hHCImYfopHmG7rhVhjLoMYZNgA2G9dvNg1dXfYBYlzGA1rbhgDbWlYKR9k2AzP4JgRk1kYA2oRmDGsytgjnoTYOTZ+1/nydVf/VK0X47lll96u3lfwBlLX8mIIF+DhPFesVivXg==",
          "dtype": "f4"
         }
        },
        {
         "line": {
          "cmax": 609594438449430000000,
          "cmin": -47443623273325130000,
          "color": {
           "bdata": "vj4e1y5/RN0ZtvzdcelP3iDKkd7m9Lzep8jq3nmVDt95FCvfysZL3/dFcd823Y3fMl+l36Spvt/u6Njf1fry3z+5BeD+URDgRFsY4JLYHOAcyxzgozkX4Dc8C+DoDPDfRN+536znZd+beVXeKFAeXzRfyl+qMCtg6Rx5YFAlp2Dh9NRgDsECYaIgHGF9TDZhYvFQYR23a2GUIINh/xeQYRiRnGFlW6hhRkezYZYnvWGc0sVh0yPNYS790mF0SNdhmPjZYWoK22GaC9phXTTXYX8g02Go681hRLrHYZm3wGFlE7lhagCxYRmyqGGtWqBhpyiYYapEkGFhz4hhceCBYZULd2HKh2thxyxhYeriV2FQhk9hz+pHYSHfQGHYMDphPa8zYREuLWE1iCZh4qAfYd1kGGGJyhBh+tEIYeWDAGHO4O9g3VreYAGqzGB0BrtgM6mpYIPImGASlYhgVW9yYPyeVWDe4jpgGE8iYCfjC2ANF+9foUjKX3b4qF8VsIpfEdhdXzlHKl+VPvNep2ylXg==",
           "dtype": "f4"
          },
          "colorscale": [
           [
            0,
            "#440154"
           ],
           [
            0.1111111111111111,
            "#482878"
           ],
           [
            0.2222222222222222,
            "#3e4989"
           ],
           [
            0.3333333333333333,
            "#31688e"
           ],
           [
            0.4444444444444444,
            "#26828e"
           ],
           [
            0.5555555555555556,
            "#1f9e89"
           ],
           [
            0.6666666666666666,
            "#35b779"
           ],
           [
            0.7777777777777778,
            "#6ece58"
           ],
           [
            0.8888888888888888,
            "#b5de2b"
           ],
           [
            1,
            "#fde725"
           ]
          ],
          "showscale": false,
          "width": 4
         },
         "mode": "lines",
         "showlegend": false,
         "type": "scatter3d",
         "x": {
          "bdata": "AAAAALooDiy6KI4sFz3VLLooDi3osjEtFz1VLUbHeC26KI4t0e2fLeiysS0AeMMtFz3VLS4C5y1Gx/gtLkYFLrooDi5GCxcu0e0fLl3QKC7osjEudJU6LgB4Qy6LWkwuFz1VLqMfXi4uAmcuuuRvLkbHeC7p1IAuLkaFLnS3iS66KI4uAJqSLkYLly6LfJsu0e2fLhdfpC5d0Kguo0GtLuiysS4uJLYudJW6LroGvy4AeMMuRunHLotazC7Ry9AuFz3VLl2u2S6hH94u55DiLi0C5y5zc+suuOTvLv5V9C5Ex/guijj9LujUAC+LDQMvLkYFL9B+By90twkvFvALL7ooDi9cYRAv/5kSL6LSFC9FCxcv6EMZL4p8Gy8utR0v0O0fL3QmIi8WXyQvuZcmL1zQKC//CCsvokEtL0V6Ly/osjEvi+szLy4kNi/QXDgvdJU6LxbOPC+5Bj8vXD9BL/93Qy+isEUvRelHL+ghSi+LWkwvLpNOL9DLUC9zBFMvFj1VL7l1Vy9crlkv/+ZbLw==",
          "dtype": "f4"
         },
         "y": {
          "bdata": "/UqBP/1KgT/9SoE//UqBP/1KgT/9SoE//UqBP/1KgT/9SoE//UqBP/1KgT/9SoE//UqBP/1KgT/9SoE//UqBP/1KgT/9SoE//UqBP/1KgT/9SoE//UqBP/1KgT/9SoE//UqBP/1KgT/9SoE//UqBP/1KgT/9SoE//UqBP/1KgT/9SoE//UqBP/1KgT/9SoE//UqBP/1KgT/9SoE//UqBP/1KgT/9SoE//UqBP/1KgT/9SoE//UqBP/1KgT/9SoE//UqBP/1KgT/9SoE//UqBP/1KgT/9SoE//UqBP/1KgT/9SoE//UqBP/1KgT/9SoE//UqBP/1KgT/9SoE//UqBP/1KgT/9SoE//UqBP/1KgT/9SoE//UqBP/1KgT/9SoE//UqBP/1KgT/9SoE//UqBP/1KgT/9SoE//UqBP/1KgT/9SoE//UqBP/1KgT/9SoE//UqBP/1KgT/9SoE//UqBP/1KgT/9SoE//UqBP/1KgT/9SoE//UqBP/1KgT/9SoE//UqBP/1KgT/9SoE//UqBPw==",
          "dtype": "f4"
         },
         "z": {
          "bdata": "vj4e1y5/RN0ZtvzdcelP3iDKkd7m9Lzep8jq3nmVDt95FCvfysZL3/dFcd823Y3fMl+l36Spvt/u6Njf1fry3z+5BeD+URDgRFsY4JLYHOAcyxzgozkX4Dc8C+DoDPDfRN+536znZd+beVXeKFAeXzRfyl+qMCtg6Rx5YFAlp2Dh9NRgDsECYaIgHGF9TDZhYvFQYR23a2GUIINh/xeQYRiRnGFlW6hhRkezYZYnvWGc0sVh0yPNYS790mF0SNdhmPjZYWoK22GaC9phXTTXYX8g02Go681hRLrHYZm3wGFlE7lhagCxYRmyqGGtWqBhpyiYYapEkGFhz4hhceCBYZULd2HKh2thxyxhYeriV2FQhk9hz+pHYSHfQGHYMDphPa8zYREuLWE1iCZh4qAfYd1kGGGJyhBh+tEIYeWDAGHO4O9g3VreYAGqzGB0BrtgM6mpYIPImGASlYhgVW9yYPyeVWDe4jpgGE8iYCfjC2ANF+9foUjKX3b4qF8VsIpfEdhdXzlHKl+VPvNep2ylXg==",
          "dtype": "f4"
         }
        },
        {
         "line": {
          "cmax": 609594438449430000000,
          "cmin": -47443623273325130000,
          "color": {
           "bdata": "yNha12wsWt0lkwveiBtk3pBpnt7HvMretBn43iEkFN8jqi7f5Y1M35t4bt+ZUorfql+f3yzrtd+XJc3fge3j3/XS+N/IEQXghv4K4DUtDeDKmArgmUEC4PZz5t8bY7nf3fR338z7tN5xks1efh2mXzRTFWBUKWBgRYSZYEibxmD06PZgifQUYXeDL2E60EphtYNmYR4hgWE31o5hQzCcYcX9qGG2DbVhMTDAYfM3ymFM+9Jhw1XaYV0p4GHPX+Rh6evmYUDK52G+hOZhFFPjYXnT3mGkIdlhFWLSYUjAymGibMJh35q5YdB/sGFyT6dhaDqeYeBrlWGsB41hBymFYQDEe2HYdm5h8mpiYauRV2Fhz01hQv9EYQb2PGF5hTVhS38uYZ63J2G2ByFhH08aYTR1E2FNaQxhNyMFYeBE+2Cm2utg7x/cYKg1zGBCQrxgAm+sYNjknGA7yo1goIF+YP/HYmADkEhgffIvYOD4GGD2nQNgQZ/fXyjhul90tZhf8YVxX31RNV9gBvhezJeeXg==",
           "dtype": "f4"
          },
          "colorscale": [
           [
            0,
            "#440154"
           ],
           [
            0.1111111111111111,
            "#482878"
           ],
           [
            0.2222222222222222,
            "#3e4989"
           ],
           [
            0.3333333333333333,
            "#31688e"
           ],
           [
            0.4444444444444444,
            "#26828e"
           ],
           [
            0.5555555555555556,
            "#1f9e89"
           ],
           [
            0.6666666666666666,
            "#35b779"
           ],
           [
            0.7777777777777778,
            "#6ece58"
           ],
           [
            0.8888888888888888,
            "#b5de2b"
           ],
           [
            1,
            "#fde725"
           ]
          ],
          "showscale": false,
          "width": 4
         },
         "mode": "lines",
         "showlegend": false,
         "type": "scatter3d",
         "x": {
          "bdata": "AAAAALooDiy6KI4sFz3VLLooDi3osjEtFz1VLUbHeC26KI4t0e2fLeiysS0AeMMtFz3VLS4C5y1Gx/gtLkYFLrooDi5GCxcu0e0fLl3QKC7osjEudJU6LgB4Qy6LWkwuFz1VLqMfXi4uAmcuuuRvLkbHeC7p1IAuLkaFLnS3iS66KI4uAJqSLkYLly6LfJsu0e2fLhdfpC5d0Kguo0GtLuiysS4uJLYudJW6LroGvy4AeMMuRunHLotazC7Ry9AuFz3VLl2u2S6hH94u55DiLi0C5y5zc+suuOTvLv5V9C5Ex/guijj9LujUAC+LDQMvLkYFL9B+By90twkvFvALL7ooDi9cYRAv/5kSL6LSFC9FCxcv6EMZL4p8Gy8utR0v0O0fL3QmIi8WXyQvuZcmL1zQKC//CCsvokEtL0V6Ly/osjEvi+szLy4kNi/QXDgvdJU6LxbOPC+5Bj8vXD9BL/93Qy+isEUvRelHL+ghSi+LWkwvLpNOL9DLUC9zBFMvFj1VL7l1Vy9crlkv/+ZbLw==",
          "dtype": "f4"
         },
         "y": {
          "bdata": "yiabP8ommz/KJps/yiabP8ommz/KJps/yiabP8ommz/KJps/yiabP8ommz/KJps/yiabP8ommz/KJps/yiabP8ommz/KJps/yiabP8ommz/KJps/yiabP8ommz/KJps/yiabP8ommz/KJps/yiabP8ommz/KJps/yiabP8ommz/KJps/yiabP8ommz/KJps/yiabP8ommz/KJps/yiabP8ommz/KJps/yiabP8ommz/KJps/yiabP8ommz/KJps/yiabP8ommz/KJps/yiabP8ommz/KJps/yiabP8ommz/KJps/yiabP8ommz/KJps/yiabP8ommz/KJps/yiabP8ommz/KJps/yiabP8ommz/KJps/yiabP8ommz/KJps/yiabP8ommz/KJps/yiabP8ommz/KJps/yiabP8ommz/KJps/yiabP8ommz/KJps/yiabP8ommz/KJps/yiabP8ommz/KJps/yiabP8ommz/KJps/yiabP8ommz/KJps/yiabP8ommz/KJps/yiabPw==",
          "dtype": "f4"
         },
         "z": {
          "bdata": "yNha12wsWt0lkwveiBtk3pBpnt7HvMretBn43iEkFN8jqi7f5Y1M35t4bt+ZUorfql+f3yzrtd+XJc3fge3j3/XS+N/IEQXghv4K4DUtDeDKmArgmUEC4PZz5t8bY7nf3fR338z7tN5xks1efh2mXzRTFWBUKWBgRYSZYEibxmD06PZgifQUYXeDL2E60EphtYNmYR4hgWE31o5hQzCcYcX9qGG2DbVhMTDAYfM3ymFM+9Jhw1XaYV0p4GHPX+Rh6evmYUDK52G+hOZhFFPjYXnT3mGkIdlhFWLSYUjAymGibMJh35q5YdB/sGFyT6dhaDqeYeBrlWGsB41hBymFYQDEe2HYdm5h8mpiYauRV2Fhz01hQv9EYQb2PGF5hTVhS38uYZ63J2G2ByFhH08aYTR1E2FNaQxhNyMFYeBE+2Cm2utg7x/cYKg1zGBCQrxgAm+sYNjknGA7yo1goIF+YP/HYmADkEhgffIvYOD4GGD2nQNgQZ/fXyjhul90tZhf8YVxX31RNV9gBvhezJeeXg==",
          "dtype": "f4"
         }
        },
        {
         "line": {
          "cmax": 609594438449430000000,
          "cmin": -47443623273325130000,
          "color": {
           "bdata": "VBOG100nbN1oPxbeiuxz3urPp94PGdTe4ZH/3gjpFd98aS3fUDxH3yMXZN/qI4LfIciT38uLpt9WqrnfTAzM37NJ3N/itejfbnLv3x187t+2yePf1VvN3yZXqd/POGzfvl/J3uCui166O4pfAd0BYFiJR2DV4Ypg2vy1YC+z5GBMRwthuoIlYSO/QGFVqVxhkuh4YRuQimE1eJhh2/ulYffpsmE6Er9hk0XKYcBX1GEGIN1hwXrkYZ9K6mG0ee5ht/rwYeHJ8WGBb/BheyHtYb186GGQm+Jh8KDbYde202FWDMthMNTBYadCuGGZi65hHeCkYYNsm2F/VpJh+LuJYVCygWG8jHRhX/lmYRGlWmFifU9hNWZFYew7PGHb1jNhgg0sYQu3JGHUrR1hidAWYbMDEGEkMglhok0CYdmc9mB+ZehgV/zZYPhwy2An2bxgr06uYPrsn2BJz5Fgqg6EYJGBbWD/7VNgKXs7YFQ3JGB3Jg5gdYbyX4L/yl8wjqVfOP2BX2ceQF8RAP5e7t2ZXg==",
           "dtype": "f4"
          },
          "colorscale": [
           [
            0,
            "#440154"
           ],
           [
            0.1111111111111111,
            "#482878"
           ],
           [
            0.2222222222222222,
            "#3e4989"
           ],
           [
            0.3333333333333333,
            "#31688e"
           ],
           [
            0.4444444444444444,
            "#26828e"
           ],
           [
            0.5555555555555556,
            "#1f9e89"
           ],
           [
            0.6666666666666666,
            "#35b779"
           ],
           [
            0.7777777777777778,
            "#6ece58"
           ],
           [
            0.8888888888888888,
            "#b5de2b"
           ],
           [
            1,
            "#fde725"
           ]
          ],
          "showscale": false,
          "width": 4
         },
         "mode": "lines",
         "showlegend": false,
         "type": "scatter3d",
         "x": {
          "bdata": "AAAAALooDiy6KI4sFz3VLLooDi3osjEtFz1VLUbHeC26KI4t0e2fLeiysS0AeMMtFz3VLS4C5y1Gx/gtLkYFLrooDi5GCxcu0e0fLl3QKC7osjEudJU6LgB4Qy6LWkwuFz1VLqMfXi4uAmcuuuRvLkbHeC7p1IAuLkaFLnS3iS66KI4uAJqSLkYLly6LfJsu0e2fLhdfpC5d0Kguo0GtLuiysS4uJLYudJW6LroGvy4AeMMuRunHLotazC7Ry9AuFz3VLl2u2S6hH94u55DiLi0C5y5zc+suuOTvLv5V9C5Ex/guijj9LujUAC+LDQMvLkYFL9B+By90twkvFvALL7ooDi9cYRAv/5kSL6LSFC9FCxcv6EMZL4p8Gy8utR0v0O0fL3QmIi8WXyQvuZcmL1zQKC//CCsvokEtL0V6Ly/osjEvi+szLy4kNi/QXDgvdJU6LxbOPC+5Bj8vXD9BL/93Qy+isEUvRelHL+ghSi+LWkwvLpNOL9DLUC9zBFMvFj1VL7l1Vy9crlkv/+ZbLw==",
          "dtype": "f4"
         },
         "y": {
          "bdata": "lgK1P5YCtT+WArU/lgK1P5YCtT+WArU/lgK1P5YCtT+WArU/lgK1P5YCtT+WArU/lgK1P5YCtT+WArU/lgK1P5YCtT+WArU/lgK1P5YCtT+WArU/lgK1P5YCtT+WArU/lgK1P5YCtT+WArU/lgK1P5YCtT+WArU/lgK1P5YCtT+WArU/lgK1P5YCtT+WArU/lgK1P5YCtT+WArU/lgK1P5YCtT+WArU/lgK1P5YCtT+WArU/lgK1P5YCtT+WArU/lgK1P5YCtT+WArU/lgK1P5YCtT+WArU/lgK1P5YCtT+WArU/lgK1P5YCtT+WArU/lgK1P5YCtT+WArU/lgK1P5YCtT+WArU/lgK1P5YCtT+WArU/lgK1P5YCtT+WArU/lgK1P5YCtT+WArU/lgK1P5YCtT+WArU/lgK1P5YCtT+WArU/lgK1P5YCtT+WArU/lgK1P5YCtT+WArU/lgK1P5YCtT+WArU/lgK1P5YCtT+WArU/lgK1P5YCtT+WArU/lgK1P5YCtT+WArU/lgK1Pw==",
          "dtype": "f4"
         },
         "z": {
          "bdata": "VBOG100nbN1oPxbeiuxz3urPp94PGdTe4ZH/3gjpFd98aS3fUDxH3yMXZN/qI4LfIciT38uLpt9WqrnfTAzM37NJ3N/itejfbnLv3x187t+2yePf1VvN3yZXqd/POGzfvl/J3uCui166O4pfAd0BYFiJR2DV4Ypg2vy1YC+z5GBMRwthuoIlYSO/QGFVqVxhkuh4YRuQimE1eJhh2/ulYffpsmE6Er9hk0XKYcBX1GEGIN1hwXrkYZ9K6mG0ee5ht/rwYeHJ8WGBb/BheyHtYb186GGQm+Jh8KDbYde202FWDMthMNTBYadCuGGZi65hHeCkYYNsm2F/VpJh+LuJYVCygWG8jHRhX/lmYRGlWmFifU9hNWZFYew7PGHb1jNhgg0sYQu3JGHUrR1hidAWYbMDEGEkMglhok0CYdmc9mB+ZehgV/zZYPhwy2An2bxgr06uYPrsn2BJz5Fgqg6EYJGBbWD/7VNgKXs7YFQ3JGB3Jg5gdYbyX4L/yl8wjqVfOP2BX2ceQF8RAP5e7t2ZXg==",
          "dtype": "f4"
         }
        },
        {
         "line": {
          "cmax": 609594438449430000000,
          "cmin": -47443623273325130000,
          "color": {
           "bdata": "kr6W1/f5et0oyB7eKg2A3rySrt4m6NnenDgB37DEFN/ihSjfhmw93ys4VN/JSW3fdz6E35CLkt/f16Dfhhyu344Bud9m6b/fZgPB32dYut8t6qnf1sKN308fSN+t56zec1FwXpxScV9KJ+VfD84xYC/UeWB1IKVg/z3RYHxuAGE8whlhNlQ0Yc3WT2Fv9mthQy2EYZVTkmH4PqBhur+tYQ6mumE5w8Zh0unRYVDv22GerORhi//rYd3L8WFQ/PVhuoP4Ydhd+WEXE/hhx9b0YQ1C8GH0bOphwXfjYcOJ22Fgz9JhBHnJYeW4v2FowbVhzsKrYVrpoWGFW5hh4ziPYWiZhmFlGn1hcDluYSSTYGEUHlRhEcdIYQJzPmG/ATVhElAsYe45JGHFnBxhgFgVYSlRDmFKbwdh2qAAYQKy82CuH+ZgNITYYMbgymDJPL1gNqSvYO4lomAy0pRgJbmHYHvTdWD04VxgObJEYOJSLWAwzBZgeyABYJSY2F8kjrBfqAeKX6DISV/D+AFfMnqWXg==",
           "dtype": "f4"
          },
          "colorscale": [
           [
            0,
            "#440154"
           ],
           [
            0.1111111111111111,
            "#482878"
           ],
           [
            0.2222222222222222,
            "#3e4989"
           ],
           [
            0.3333333333333333,
            "#31688e"
           ],
           [
            0.4444444444444444,
            "#26828e"
           ],
           [
            0.5555555555555556,
            "#1f9e89"
           ],
           [
            0.6666666666666666,
            "#35b779"
           ],
           [
            0.7777777777777778,
            "#6ece58"
           ],
           [
            0.8888888888888888,
            "#b5de2b"
           ],
           [
            1,
            "#fde725"
           ]
          ],
          "showscale": false,
          "width": 4
         },
         "mode": "lines",
         "showlegend": false,
         "type": "scatter3d",
         "x": {
          "bdata": "AAAAALooDiy6KI4sFz3VLLooDi3osjEtFz1VLUbHeC26KI4t0e2fLeiysS0AeMMtFz3VLS4C5y1Gx/gtLkYFLrooDi5GCxcu0e0fLl3QKC7osjEudJU6LgB4Qy6LWkwuFz1VLqMfXi4uAmcuuuRvLkbHeC7p1IAuLkaFLnS3iS66KI4uAJqSLkYLly6LfJsu0e2fLhdfpC5d0Kguo0GtLuiysS4uJLYudJW6LroGvy4AeMMuRunHLotazC7Ry9AuFz3VLl2u2S6hH94u55DiLi0C5y5zc+suuOTvLv5V9C5Ex/guijj9LujUAC+LDQMvLkYFL9B+By90twkvFvALL7ooDi9cYRAv/5kSL6LSFC9FCxcv6EMZL4p8Gy8utR0v0O0fL3QmIi8WXyQvuZcmL1zQKC//CCsvokEtL0V6Ly/osjEvi+szLy4kNi/QXDgvdJU6LxbOPC+5Bj8vXD9BL/93Qy+isEUvRelHL+ghSi+LWkwvLpNOL9DLUC9zBFMvFj1VL7l1Vy9crlkv/+ZbLw==",
          "dtype": "f4"
         },
         "y": {
          "bdata": "Yt7OP2Lezj9i3s4/Yt7OP2Lezj9i3s4/Yt7OP2Lezj9i3s4/Yt7OP2Lezj9i3s4/Yt7OP2Lezj9i3s4/Yt7OP2Lezj9i3s4/Yt7OP2Lezj9i3s4/Yt7OP2Lezj9i3s4/Yt7OP2Lezj9i3s4/Yt7OP2Lezj9i3s4/Yt7OP2Lezj9i3s4/Yt7OP2Lezj9i3s4/Yt7OP2Lezj9i3s4/Yt7OP2Lezj9i3s4/Yt7OP2Lezj9i3s4/Yt7OP2Lezj9i3s4/Yt7OP2Lezj9i3s4/Yt7OP2Lezj9i3s4/Yt7OP2Lezj9i3s4/Yt7OP2Lezj9i3s4/Yt7OP2Lezj9i3s4/Yt7OP2Lezj9i3s4/Yt7OP2Lezj9i3s4/Yt7OP2Lezj9i3s4/Yt7OP2Lezj9i3s4/Yt7OP2Lezj9i3s4/Yt7OP2Lezj9i3s4/Yt7OP2Lezj9i3s4/Yt7OP2Lezj9i3s4/Yt7OP2Lezj9i3s4/Yt7OP2Lezj9i3s4/Yt7OP2Lezj9i3s4/Yt7OP2Lezj9i3s4/Yt7OPw==",
          "dtype": "f4"
         },
         "z": {
          "bdata": "kr6W1/f5et0oyB7eKg2A3rySrt4m6NnenDgB37DEFN/ihSjfhmw93ys4VN/JSW3fdz6E35CLkt/f16Dfhhyu344Bud9m6b/fZgPB32dYut8t6qnf1sKN308fSN+t56zec1FwXpxScV9KJ+VfD84xYC/UeWB1IKVg/z3RYHxuAGE8whlhNlQ0Yc3WT2Fv9mthQy2EYZVTkmH4PqBhur+tYQ6mumE5w8Zh0unRYVDv22GerORhi//rYd3L8WFQ/PVhuoP4Ydhd+WEXE/hhx9b0YQ1C8GH0bOphwXfjYcOJ22Fgz9JhBHnJYeW4v2FowbVhzsKrYVrpoWGFW5hh4ziPYWiZhmFlGn1hcDluYSSTYGEUHlRhEcdIYQJzPmG/ATVhElAsYe45JGHFnBxhgFgVYSlRDmFKbwdh2qAAYQKy82CuH+ZgNITYYMbgymDJPL1gNqSvYO4lomAy0pRgJbmHYHvTdWD04VxgObJEYOJSLWAwzBZgeyABYJSY2F8kjrBfqAeKX6DISV/D+AFfMnqWXg==",
          "dtype": "f4"
         }
        },
        {
         "line": {
          "cmax": 609594438449430000000,
          "cmin": -47443623273325130000,
          "color": {
           "bdata": "A5+f1wSMg93SgCXe85yE3mUls94u0tzextIA35pbEd8W3iDfvkUw3/5ZQN/PjlHffttj36Sodt9/WoTfyQ6M3xcvkd+HM5LfhWCN34vSgN+zO1XfjboR3yVmTt7fcZBeszxkX6Ea0V+OxSBgUL9hYGOjlWCBeb5gUhTrYGqGDWG49CZh945BYfEHXWHrDHlhYqOKYdetmGHxd6ZhqdOzYSWTwGHCicxhX4zXYaty4WGqF+phA1vxYfIh92EUWPthhvD9Yazm/mFDxP1ho7n6YYda9mEhvPBhm/vpYcA84mFuqNlhumvQYe+1xmHstrxhIJ2yYc6TqGFEwZ5h70WVYXM7jGGEtINh0Xl3YQi0aGGlFlthFJdOYa4iQ2E7oThhe/YuYS0EJmEurB1hL9EVYXlYDmE8KgdhmTIAYSPD8mASVuVgWw3YYCLfymAZx71gtMWwYNXeo2DNGJdgM3uKYBIcfGBasmNgFMdLYNNlNGAilx1goWAHYDeJ41+ihLlfPKyQXwfoUV/plARfS+OTXg==",
           "dtype": "f4"
          },
          "colorscale": [
           [
            0,
            "#440154"
           ],
           [
            0.1111111111111111,
            "#482878"
           ],
           [
            0.2222222222222222,
            "#3e4989"
           ],
           [
            0.3333333333333333,
            "#31688e"
           ],
           [
            0.4444444444444444,
            "#26828e"
           ],
           [
            0.5555555555555556,
            "#1f9e89"
           ],
           [
            0.6666666666666666,
            "#35b779"
           ],
           [
            0.7777777777777778,
            "#6ece58"
           ],
           [
            0.8888888888888888,
            "#b5de2b"
           ],
           [
            1,
            "#fde725"
           ]
          ],
          "showscale": false,
          "width": 4
         },
         "mode": "lines",
         "showlegend": false,
         "type": "scatter3d",
         "x": {
          "bdata": "AAAAALooDiy6KI4sFz3VLLooDi3osjEtFz1VLUbHeC26KI4t0e2fLeiysS0AeMMtFz3VLS4C5y1Gx/gtLkYFLrooDi5GCxcu0e0fLl3QKC7osjEudJU6LgB4Qy6LWkwuFz1VLqMfXi4uAmcuuuRvLkbHeC7p1IAuLkaFLnS3iS66KI4uAJqSLkYLly6LfJsu0e2fLhdfpC5d0Kguo0GtLuiysS4uJLYudJW6LroGvy4AeMMuRunHLotazC7Ry9AuFz3VLl2u2S6hH94u55DiLi0C5y5zc+suuOTvLv5V9C5Ex/guijj9LujUAC+LDQMvLkYFL9B+By90twkvFvALL7ooDi9cYRAv/5kSL6LSFC9FCxcv6EMZL4p8Gy8utR0v0O0fL3QmIi8WXyQvuZcmL1zQKC//CCsvokEtL0V6Ly/osjEvi+szLy4kNi/QXDgvdJU6LxbOPC+5Bj8vXD9BL/93Qy+isEUvRelHL+ghSi+LWkwvLpNOL9DLUC9zBFMvFj1VL7l1Vy9crlkv/+ZbLw==",
          "dtype": "f4"
         },
         "y": {
          "bdata": "LrroPy666D8uuug/LrroPy666D8uuug/LrroPy666D8uuug/LrroPy666D8uuug/LrroPy666D8uuug/LrroPy666D8uuug/LrroPy666D8uuug/LrroPy666D8uuug/LrroPy666D8uuug/LrroPy666D8uuug/LrroPy666D8uuug/LrroPy666D8uuug/LrroPy666D8uuug/LrroPy666D8uuug/LrroPy666D8uuug/LrroPy666D8uuug/LrroPy666D8uuug/LrroPy666D8uuug/LrroPy666D8uuug/LrroPy666D8uuug/LrroPy666D8uuug/LrroPy666D8uuug/LrroPy666D8uuug/LrroPy666D8uuug/LrroPy666D8uuug/LrroPy666D8uuug/LrroPy666D8uuug/LrroPy666D8uuug/LrroPy666D8uuug/LrroPy666D8uuug/LrroPy666D8uuug/LrroPy666D8uuug/LrroPy666D8uuug/LrroPw==",
          "dtype": "f4"
         },
         "z": {
          "bdata": "A5+f1wSMg93SgCXe85yE3mUls94u0tzextIA35pbEd8W3iDfvkUw3/5ZQN/PjlHffttj36Sodt9/WoTfyQ6M3xcvkd+HM5LfhWCN34vSgN+zO1XfjboR3yVmTt7fcZBeszxkX6Ea0V+OxSBgUL9hYGOjlWCBeb5gUhTrYGqGDWG49CZh945BYfEHXWHrDHlhYqOKYdetmGHxd6ZhqdOzYSWTwGHCicxhX4zXYaty4WGqF+phA1vxYfIh92EUWPthhvD9Yazm/mFDxP1ho7n6YYda9mEhvPBhm/vpYcA84mFuqNlhumvQYe+1xmHstrxhIJ2yYc6TqGFEwZ5h70WVYXM7jGGEtINh0Xl3YQi0aGGlFlthFJdOYa4iQ2E7oThhe/YuYS0EJmEurB1hL9EVYXlYDmE8KgdhmTIAYSPD8mASVuVgWw3YYCLfymAZx71gtMWwYNXeo2DNGJdgM3uKYBIcfGBasmNgFMdLYNNlNGAilx1goWAHYDeJ41+ihLlfPKyQXwfoUV/plARfS+OTXg==",
          "dtype": "f4"
         }
        },
        {
         "line": {
          "cmax": 609594438449430000000,
          "cmin": -47443623273325130000,
          "color": {
           "bdata": "Z+2h13VtiN0tpyreQtyH3onbtd7DT93eVNf93vkgDN/FDBffWJMg33SCKd+kYDLfA0I73w61Q9/GpErfRV9O3ziUTN/gaELfy5os3+KUB9/4X5/e0ZCm28rozV4oA2xfyCDIX11WFWCGCk9gI5iIYFXIrWBo4NZgLckBYZ27GWE1CzNhoHJNYfelaGEmKoJhbhSQYW7mnWEGdKthSpG4YaISxWH/zdBhy5rbYURT5WHV1O1hNgH1YVq/+mHu+/5hQ9UAYhRjAWKE7QBiRxb/YRQF+2HEufVh903vYZ7h52Gomd9hUp/WYToezWE0Q8NhEzq5YWQsr2GeP6VhM5SbYdBEkmEDZolhKwaBYfBbcmErwWNhVDlWYdC5SWEgMj5hNI0zYRCzKWGuiiBhpfoXYbDqD2EgRAhh0PIAYZnK82DiGeZgB7zYYBCfy2Dstb5gxvexYHtfpWDF6phgfZmMYAZtgGCqz2hgoxlRYDm+OWBOwyJgWS4MYEoH7F/BjMBfs/CVX4hpWF+ErgZfWcKRXg==",
           "dtype": "f4"
          },
          "colorscale": [
           [
            0,
            "#440154"
           ],
           [
            0.1111111111111111,
            "#482878"
           ],
           [
            0.2222222222222222,
            "#3e4989"
           ],
           [
            0.3333333333333333,
            "#31688e"
           ],
           [
            0.4444444444444444,
            "#26828e"
           ],
           [
            0.5555555555555556,
            "#1f9e89"
           ],
           [
            0.6666666666666666,
            "#35b779"
           ],
           [
            0.7777777777777778,
            "#6ece58"
           ],
           [
            0.8888888888888888,
            "#b5de2b"
           ],
           [
            1,
            "#fde725"
           ]
          ],
          "showscale": false,
          "width": 4
         },
         "mode": "lines",
         "showlegend": false,
         "type": "scatter3d",
         "x": {
          "bdata": "AAAAALooDiy6KI4sFz3VLLooDi3osjEtFz1VLUbHeC26KI4t0e2fLeiysS0AeMMtFz3VLS4C5y1Gx/gtLkYFLrooDi5GCxcu0e0fLl3QKC7osjEudJU6LgB4Qy6LWkwuFz1VLqMfXi4uAmcuuuRvLkbHeC7p1IAuLkaFLnS3iS66KI4uAJqSLkYLly6LfJsu0e2fLhdfpC5d0Kguo0GtLuiysS4uJLYudJW6LroGvy4AeMMuRunHLotazC7Ry9AuFz3VLl2u2S6hH94u55DiLi0C5y5zc+suuOTvLv5V9C5Ex/guijj9LujUAC+LDQMvLkYFL9B+By90twkvFvALL7ooDi9cYRAv/5kSL6LSFC9FCxcv6EMZL4p8Gy8utR0v0O0fL3QmIi8WXyQvuZcmL1zQKC//CCsvokEtL0V6Ly/osjEvi+szLy4kNi/QXDgvdJU6LxbOPC+5Bj8vXD9BL/93Qy+isEUvRelHL+ghSi+LWkwvLpNOL9DLUC9zBFMvFj1VL7l1Vy9crlkv/+ZbLw==",
          "dtype": "f4"
         },
         "y": {
          "bdata": "/UoBQP1KAUD9SgFA/UoBQP1KAUD9SgFA/UoBQP1KAUD9SgFA/UoBQP1KAUD9SgFA/UoBQP1KAUD9SgFA/UoBQP1KAUD9SgFA/UoBQP1KAUD9SgFA/UoBQP1KAUD9SgFA/UoBQP1KAUD9SgFA/UoBQP1KAUD9SgFA/UoBQP1KAUD9SgFA/UoBQP1KAUD9SgFA/UoBQP1KAUD9SgFA/UoBQP1KAUD9SgFA/UoBQP1KAUD9SgFA/UoBQP1KAUD9SgFA/UoBQP1KAUD9SgFA/UoBQP1KAUD9SgFA/UoBQP1KAUD9SgFA/UoBQP1KAUD9SgFA/UoBQP1KAUD9SgFA/UoBQP1KAUD9SgFA/UoBQP1KAUD9SgFA/UoBQP1KAUD9SgFA/UoBQP1KAUD9SgFA/UoBQP1KAUD9SgFA/UoBQP1KAUD9SgFA/UoBQP1KAUD9SgFA/UoBQP1KAUD9SgFA/UoBQP1KAUD9SgFA/UoBQP1KAUD9SgFA/UoBQP1KAUD9SgFA/UoBQP1KAUD9SgFA/UoBQA==",
          "dtype": "f4"
         },
         "z": {
          "bdata": "Z+2h13VtiN0tpyreQtyH3onbtd7DT93eVNf93vkgDN/FDBffWJMg33SCKd+kYDLfA0I73w61Q9/GpErfRV9O3ziUTN/gaELfy5os3+KUB9/4X5/e0ZCm28rozV4oA2xfyCDIX11WFWCGCk9gI5iIYFXIrWBo4NZgLckBYZ27GWE1CzNhoHJNYfelaGEmKoJhbhSQYW7mnWEGdKthSpG4YaISxWH/zdBhy5rbYURT5WHV1O1hNgH1YVq/+mHu+/5hQ9UAYhRjAWKE7QBiRxb/YRQF+2HEufVh903vYZ7h52Gomd9hUp/WYToezWE0Q8NhEzq5YWQsr2GeP6VhM5SbYdBEkmEDZolhKwaBYfBbcmErwWNhVDlWYdC5SWEgMj5hNI0zYRCzKWGuiiBhpfoXYbDqD2EgRAhh0PIAYZnK82DiGeZgB7zYYBCfy2Dstb5gxvexYHtfpWDF6phgfZmMYAZtgGCqz2hgoxlRYDm+OWBOwyJgWS4MYEoH7F/BjMBfs/CVX4hpWF+ErgZfWcKRXg==",
          "dtype": "f4"
         }
        },
        {
         "line": {
          "cmax": 609594438449430000000,
          "cmin": -47443623273325130000,
          "color": {
           "bdata": "aUWf12xDjN2qaC7e7fKJ3r3xtt5ht9vePX733udlBd/KfQvfG+IO35xlEN+soBDftcQP336HDd82Awnfi7sA3xUz5d5D/Lfeg4tn3r/TDt05SWleH0cTX/iRgl9bV8lfAooPYIVHQmDaFn1g6fufYLRYxWAibO5gWnQNYWU0JWHsOj5hIERYYQkGc2EaGYdhcbuUYW1AomEDfq9hkkq8YRZ9yGEm7tNh63feYWH352F1TPBhI1v3YRkM/WGjpgBiZwkCYr2rAmJnVQJiUxsBYveA/mExmflhdpXzYc6R7GEOr+RhSRLcYUHj0mE2S8lhJXO/YUKCtWGonKthOuKhYQhumGHYVY9hD6qGYQDsfGEHgG1hehRfYQ+mUWGXK0Vh55Y5YV/WLmFv1iRhHoIbYXTEEmHfiAphNLwCYY2Z9mCtVehgRJHaYAw1zWCDLcBg+mqzYBjhpmCOhppgh1SOYGVGgmDCsmxgRBhVYPa8PWAvoiZgyMoPYI908l9l6cVfXvyZXydtXV/AQAhfIuaPXg==",
           "dtype": "f4"
          },
          "colorscale": [
           [
            0,
            "#440154"
           ],
           [
            0.1111111111111111,
            "#482878"
           ],
           [
            0.2222222222222222,
            "#3e4989"
           ],
           [
            0.3333333333333333,
            "#31688e"
           ],
           [
            0.4444444444444444,
            "#26828e"
           ],
           [
            0.5555555555555556,
            "#1f9e89"
           ],
           [
            0.6666666666666666,
            "#35b779"
           ],
           [
            0.7777777777777778,
            "#6ece58"
           ],
           [
            0.8888888888888888,
            "#b5de2b"
           ],
           [
            1,
            "#fde725"
           ]
          ],
          "showscale": false,
          "width": 4
         },
         "mode": "lines",
         "showlegend": false,
         "type": "scatter3d",
         "x": {
          "bdata": "AAAAALooDiy6KI4sFz3VLLooDi3osjEtFz1VLUbHeC26KI4t0e2fLeiysS0AeMMtFz3VLS4C5y1Gx/gtLkYFLrooDi5GCxcu0e0fLl3QKC7osjEudJU6LgB4Qy6LWkwuFz1VLqMfXi4uAmcuuuRvLkbHeC7p1IAuLkaFLnS3iS66KI4uAJqSLkYLly6LfJsu0e2fLhdfpC5d0Kguo0GtLuiysS4uJLYudJW6LroGvy4AeMMuRunHLotazC7Ry9AuFz3VLl2u2S6hH94u55DiLi0C5y5zc+suuOTvLv5V9C5Ex/guijj9LujUAC+LDQMvLkYFL9B+By90twkvFvALL7ooDi9cYRAv/5kSL6LSFC9FCxcv6EMZL4p8Gy8utR0v0O0fL3QmIi8WXyQvuZcmL1zQKC//CCsvokEtL0V6Ly/osjEvi+szLy4kNi/QXDgvdJU6LxbOPC+5Bj8vXD9BL/93Qy+isEUvRelHL+ghSi+LWkwvLpNOL9DLUC9zBFMvFj1VL7l1Vy9crlkv/+ZbLw==",
          "dtype": "f4"
         },
         "y": {
          "bdata": "4zgOQOM4DkDjOA5A4zgOQOM4DkDjOA5A4zgOQOM4DkDjOA5A4zgOQOM4DkDjOA5A4zgOQOM4DkDjOA5A4zgOQOM4DkDjOA5A4zgOQOM4DkDjOA5A4zgOQOM4DkDjOA5A4zgOQOM4DkDjOA5A4zgOQOM4DkDjOA5A4zgOQOM4DkDjOA5A4zgOQOM4DkDjOA5A4zgOQOM4DkDjOA5A4zgOQOM4DkDjOA5A4zgOQOM4DkDjOA5A4zgOQOM4DkDjOA5A4zgOQOM4DkDjOA5A4zgOQOM4DkDjOA5A4zgOQOM4DkDjOA5A4zgOQOM4DkDjOA5A4zgOQOM4DkDjOA5A4zgOQOM4DkDjOA5A4zgOQOM4DkDjOA5A4zgOQOM4DkDjOA5A4zgOQOM4DkDjOA5A4zgOQOM4DkDjOA5A4zgOQOM4DkDjOA5A4zgOQOM4DkDjOA5A4zgOQOM4DkDjOA5A4zgOQOM4DkDjOA5A4zgOQOM4DkDjOA5A4zgOQOM4DkDjOA5A4zgOQOM4DkDjOA5A4zgOQA==",
          "dtype": "f4"
         },
         "z": {
          "bdata": "aUWf12xDjN2qaC7e7fKJ3r3xtt5ht9vePX733udlBd/KfQvfG+IO35xlEN+soBDftcQP336HDd82Awnfi7sA3xUz5d5D/Lfeg4tn3r/TDt05SWleH0cTX/iRgl9bV8lfAooPYIVHQmDaFn1g6fufYLRYxWAibO5gWnQNYWU0JWHsOj5hIERYYQkGc2EaGYdhcbuUYW1AomEDfq9hkkq8YRZ9yGEm7tNh63feYWH352F1TPBhI1v3YRkM/WGjpgBiZwkCYr2rAmJnVQJiUxsBYveA/mExmflhdpXzYc6R7GEOr+RhSRLcYUHj0mE2S8lhJXO/YUKCtWGonKthOuKhYQhumGHYVY9hD6qGYQDsfGEHgG1hehRfYQ+mUWGXK0Vh55Y5YV/WLmFv1iRhHoIbYXTEEmHfiAphNLwCYY2Z9mCtVehgRJHaYAw1zWCDLcBg+mqzYBjhpmCOhppgh1SOYGVGgmDCsmxgRBhVYPa8PWAvoiZgyMoPYI908l9l6cVfXvyZXydtXV/AQAhfIuaPXg==",
          "dtype": "f4"
         }
        },
        {
         "line": {
          "cmax": 609594438449430000000,
          "cmin": -47443623273325130000,
          "color": {
           "bdata": "yUKZ1yoqj92K6jDeaAGL3vWYtt44Ttje1Pju3iTT+t4xCP3eUjr33ncW694179neYGHE3qgoqt7D2onewt5B3qTKrt0lylRdIf1uXkoy8V4qDEdfZiWVX2qq0l/LsA5giyw7YKwkb2BcY5VgoAe3YAxi3GCkngJhnKYYYSIXMGGLtkhh8kJiYeN0fGFsgIthPsyYYUP2pWGn1rJhOka/YZgey2ERO9ZhmXjgYeG26WFr2PFhasP4YWli/mFLUgFiW78CYsJ1A2JDPwNiJS8CYqKEAGIUjPxhkPn2YfNp8GEH+uhhxcrgYff/12Eyv85hSC7FYepxu2FdrLFhk/ynYXd9nmF8RZVheGaMYdftg2EfyXdhfZ9oYQtiWmEjDk1hGZxAYWwANWHtLCphVxEgYXCcFmFvvA1h518FYQbs+mDI3etgyHfdYJifz2CiPcJgOj21YKiMqGAMHZxgGuKPYPTRg2A4ym9gCSxYYALCQGDshylgbHwSYMJA91/u7MlflwWdX+UsYV8oWglfHTeOXg==",
           "dtype": "f4"
          },
          "colorscale": [
           [
            0,
            "#440154"
           ],
           [
            0.1111111111111111,
            "#482878"
           ],
           [
            0.2222222222222222,
            "#3e4989"
           ],
           [
            0.3333333333333333,
            "#31688e"
           ],
           [
            0.4444444444444444,
            "#26828e"
           ],
           [
            0.5555555555555556,
            "#1f9e89"
           ],
           [
            0.6666666666666666,
            "#35b779"
           ],
           [
            0.7777777777777778,
            "#6ece58"
           ],
           [
            0.8888888888888888,
            "#b5de2b"
           ],
           [
            1,
            "#fde725"
           ]
          ],
          "showscale": false,
          "width": 4
         },
         "mode": "lines",
         "showlegend": false,
         "type": "scatter3d",
         "x": {
          "bdata": "AAAAALooDiy6KI4sFz3VLLooDi3osjEtFz1VLUbHeC26KI4t0e2fLeiysS0AeMMtFz3VLS4C5y1Gx/gtLkYFLrooDi5GCxcu0e0fLl3QKC7osjEudJU6LgB4Qy6LWkwuFz1VLqMfXi4uAmcuuuRvLkbHeC7p1IAuLkaFLnS3iS66KI4uAJqSLkYLly6LfJsu0e2fLhdfpC5d0Kguo0GtLuiysS4uJLYudJW6LroGvy4AeMMuRunHLotazC7Ry9AuFz3VLl2u2S6hH94u55DiLi0C5y5zc+suuOTvLv5V9C5Ex/guijj9LujUAC+LDQMvLkYFL9B+By90twkvFvALL7ooDi9cYRAv/5kSL6LSFC9FCxcv6EMZL4p8Gy8utR0v0O0fL3QmIi8WXyQvuZcmL1zQKC//CCsvokEtL0V6Ly/osjEvi+szLy4kNi/QXDgvdJU6LxbOPC+5Bj8vXD9BL/93Qy+isEUvRelHL+ghSi+LWkwvLpNOL9DLUC9zBFMvFj1VL7l1Vy9crlkv/+ZbLw==",
          "dtype": "f4"
         },
         "y": {
          "bdata": "yiYbQMomG0DKJhtAyiYbQMomG0DKJhtAyiYbQMomG0DKJhtAyiYbQMomG0DKJhtAyiYbQMomG0DKJhtAyiYbQMomG0DKJhtAyiYbQMomG0DKJhtAyiYbQMomG0DKJhtAyiYbQMomG0DKJhtAyiYbQMomG0DKJhtAyiYbQMomG0DKJhtAyiYbQMomG0DKJhtAyiYbQMomG0DKJhtAyiYbQMomG0DKJhtAyiYbQMomG0DKJhtAyiYbQMomG0DKJhtAyiYbQMomG0DKJhtAyiYbQMomG0DKJhtAyiYbQMomG0DKJhtAyiYbQMomG0DKJhtAyiYbQMomG0DKJhtAyiYbQMomG0DKJhtAyiYbQMomG0DKJhtAyiYbQMomG0DKJhtAyiYbQMomG0DKJhtAyiYbQMomG0DKJhtAyiYbQMomG0DKJhtAyiYbQMomG0DKJhtAyiYbQMomG0DKJhtAyiYbQMomG0DKJhtAyiYbQMomG0DKJhtAyiYbQMomG0DKJhtAyiYbQMomG0DKJhtAyiYbQA==",
          "dtype": "f4"
         },
         "z": {
          "bdata": "yUKZ1yoqj92K6jDeaAGL3vWYtt44Ttje1Pju3iTT+t4xCP3eUjr33ncW694179neYGHE3qgoqt7D2onewt5B3qTKrt0lylRdIf1uXkoy8V4qDEdfZiWVX2qq0l/LsA5giyw7YKwkb2BcY5VgoAe3YAxi3GCkngJhnKYYYSIXMGGLtkhh8kJiYeN0fGFsgIthPsyYYUP2pWGn1rJhOka/YZgey2ERO9ZhmXjgYeG26WFr2PFhasP4YWli/mFLUgFiW78CYsJ1A2JDPwNiJS8CYqKEAGIUjPxhkPn2YfNp8GEH+uhhxcrgYff/12Eyv85hSC7FYepxu2FdrLFhk/ynYXd9nmF8RZVheGaMYdftg2EfyXdhfZ9oYQtiWmEjDk1hGZxAYWwANWHtLCphVxEgYXCcFmFvvA1h518FYQbs+mDI3etgyHfdYJifz2CiPcJgOj21YKiMqGAMHZxgGuKPYPTRg2A4ym9gCSxYYALCQGDshylgbHwSYMJA91/u7MlflwWdX+UsYV8oWglfHTeOXg==",
          "dtype": "f4"
         }
        },
        {
         "line": {
          "cmax": 609594438449430000000,
          "cmin": -47443623273325130000,
          "color": {
           "bdata": "XEmR1wc7kd15TjLe6CSL3uD8tN5MUdPeFpnk3vHD6N5jy+DeTjvO3unFst6s3Y/eELBM3nkB2d3DhDhbkKMFXnMXkV7ZefBeG/0yX/iie1+Mj6pfajPhX/CQEWDhxzhg37tmYNrgjWDzAKxgG7vNYPvx8mCQuA1hIncjYWCEOmF8qFJh9KNrYQ2ZgmFRhY9hdnGcYeo3qWEZs7VhQL7BYZY1zWEh99dhh+LhYSLa6mHawvJhJIX5YVoN/2HvpQFiHBsDYozjA2JMywNiGeQCYkNpAWLFv/5htp/5YQmH82G/juxh4tPkYV523GEvmNNh7lvKYZ3jwGGFT7dhRb2tYUxHpGFABJth7waSYUteiWFrFYFh4WdyYWt8Y2G4a1Vh5jNIYQvPO2E5NDBhv1clYVIsG2E9oxFhaK0IYW87AGE8fPBgm03hYDHP0mAL58RgPX23YFV8qmA80Z1gWWuRYIE8hWAccnJgUa9aYFsiQ2AjwStgYIUUYB7Y+l9E6sxfCkafXyDsY1/AEgpf3K2MXg==",
           "dtype": "f4"
          },
          "colorscale": [
           [
            0,
            "#440154"
           ],
           [
            0.1111111111111111,
            "#482878"
           ],
           [
            0.2222222222222222,
            "#3e4989"
           ],
           [
            0.3333333333333333,
            "#31688e"
           ],
           [
            0.4444444444444444,
            "#26828e"
           ],
           [
            0.5555555555555556,
            "#1f9e89"
           ],
           [
            0.6666666666666666,
            "#35b779"
           ],
           [
            0.7777777777777778,
            "#6ece58"
           ],
           [
            0.8888888888888888,
            "#b5de2b"
           ],
           [
            1,
            "#fde725"
           ]
          ],
          "showscale": false,
          "width": 4
         },
         "mode": "lines",
         "showlegend": false,
         "type": "scatter3d",
         "x": {
          "bdata": "AAAAALooDiy6KI4sFz3VLLooDi3osjEtFz1VLUbHeC26KI4t0e2fLeiysS0AeMMtFz3VLS4C5y1Gx/gtLkYFLrooDi5GCxcu0e0fLl3QKC7osjEudJU6LgB4Qy6LWkwuFz1VLqMfXi4uAmcuuuRvLkbHeC7p1IAuLkaFLnS3iS66KI4uAJqSLkYLly6LfJsu0e2fLhdfpC5d0Kguo0GtLuiysS4uJLYudJW6LroGvy4AeMMuRunHLotazC7Ry9AuFz3VLl2u2S6hH94u55DiLi0C5y5zc+suuOTvLv5V9C5Ex/guijj9LujUAC+LDQMvLkYFL9B+By90twkvFvALL7ooDi9cYRAv/5kSL6LSFC9FCxcv6EMZL4p8Gy8utR0v0O0fL3QmIi8WXyQvuZcmL1zQKC//CCsvokEtL0V6Ly/osjEvi+szLy4kNi/QXDgvdJU6LxbOPC+5Bj8vXD9BL/93Qy+isEUvRelHL+ghSi+LWkwvLpNOL9DLUC9zBFMvFj1VL7l1Vy9crlkv/+ZbLw==",
          "dtype": "f4"
         },
         "y": {
          "bdata": "sBQoQLAUKECwFChAsBQoQLAUKECwFChAsBQoQLAUKECwFChAsBQoQLAUKECwFChAsBQoQLAUKECwFChAsBQoQLAUKECwFChAsBQoQLAUKECwFChAsBQoQLAUKECwFChAsBQoQLAUKECwFChAsBQoQLAUKECwFChAsBQoQLAUKECwFChAsBQoQLAUKECwFChAsBQoQLAUKECwFChAsBQoQLAUKECwFChAsBQoQLAUKECwFChAsBQoQLAUKECwFChAsBQoQLAUKECwFChAsBQoQLAUKECwFChAsBQoQLAUKECwFChAsBQoQLAUKECwFChAsBQoQLAUKECwFChAsBQoQLAUKECwFChAsBQoQLAUKECwFChAsBQoQLAUKECwFChAsBQoQLAUKECwFChAsBQoQLAUKECwFChAsBQoQLAUKECwFChAsBQoQLAUKECwFChAsBQoQLAUKECwFChAsBQoQLAUKECwFChAsBQoQLAUKECwFChAsBQoQLAUKECwFChAsBQoQLAUKECwFChAsBQoQA==",
          "dtype": "f4"
         },
         "z": {
          "bdata": "XEmR1wc7kd15TjLe6CSL3uD8tN5MUdPeFpnk3vHD6N5jy+DeTjvO3unFst6s3Y/eELBM3nkB2d3DhDhbkKMFXnMXkV7ZefBeG/0yX/iie1+Mj6pfajPhX/CQEWDhxzhg37tmYNrgjWDzAKxgG7vNYPvx8mCQuA1hIncjYWCEOmF8qFJh9KNrYQ2ZgmFRhY9hdnGcYeo3qWEZs7VhQL7BYZY1zWEh99dhh+LhYSLa6mHawvJhJIX5YVoN/2HvpQFiHBsDYozjA2JMywNiGeQCYkNpAWLFv/5htp/5YQmH82G/juxh4tPkYV523GEvmNNh7lvKYZ3jwGGFT7dhRb2tYUxHpGFABJth7waSYUteiWFrFYFh4WdyYWt8Y2G4a1Vh5jNIYQvPO2E5NDBhv1clYVIsG2E9oxFhaK0IYW87AGE8fPBgm03hYDHP0mAL58RgPX23YFV8qmA80Z1gWWuRYIE8hWAccnJgUa9aYFsiQ2AjwStgYIUUYB7Y+l9E6sxfCkafXyDsY1/AEgpf3K2MXg==",
          "dtype": "f4"
         }
        },
        {
         "line": {
          "cmax": 609594438449430000000,
          "cmin": -47443623273325130000,
          "color": {
           "bdata": "gnCI1xCNkt2rszLeeXiK3q5Fst4F+Mzer6jY3rn91N7xvsLeeGCj3kMvcd4m6Qfe2W1Q3LiJ/V12Yo5eJR/oXimnJ19jz2NfR2GVX5+Iv18YtPFfb58WYK+4OWDrs2JgQgKJYOb7o2CpWMJgPhTkYK2IBGFljhhhWfctYdyURGFeMVxh5o90YW23hmGrRJNhRsyfYb0qrGG5PLhh3N/DYd/yzmFMVtlhW+ziYe6Z62FCRvNhztv5YaNI/2E3vwFiqzkDYhkRBGINFARix1IDYrUEAmLhLQBioKn7YYgE9mEGgu9hhTvoYVhN4GEA1tdh+/TOYaDJxWEVcrxhjAqzYZasqWG8bqBhVGSXYWSdjmGmJoZhcBN8YZSabGHi6l1hmgdQYePvQmGQnzZhTA8rYZw1IGEQBxZhHncMYTh4A2He+PVgWOvlYCas1mBbIMhgRy66YA2+rGCquZ9gTA2TYGinhmDY8XRgYepcYNgjRWBoji1gqR4WYHCa/V/ULM9f2vOgX07tZV+ZhQpfAEyLXg==",
           "dtype": "f4"
          },
          "colorscale": [
           [
            0,
            "#440154"
           ],
           [
            0.1111111111111111,
            "#482878"
           ],
           [
            0.2222222222222222,
            "#3e4989"
           ],
           [
            0.3333333333333333,
            "#31688e"
           ],
           [
            0.4444444444444444,
            "#26828e"
           ],
           [
            0.5555555555555556,
            "#1f9e89"
           ],
           [
            0.6666666666666666,
            "#35b779"
           ],
           [
            0.7777777777777778,
            "#6ece58"
           ],
           [
            0.8888888888888888,
            "#b5de2b"
           ],
           [
            1,
            "#fde725"
           ]
          ],
          "showscale": false,
          "width": 4
         },
         "mode": "lines",
         "showlegend": false,
         "type": "scatter3d",
         "x": {
          "bdata": "AAAAALooDiy6KI4sFz3VLLooDi3osjEtFz1VLUbHeC26KI4t0e2fLeiysS0AeMMtFz3VLS4C5y1Gx/gtLkYFLrooDi5GCxcu0e0fLl3QKC7osjEudJU6LgB4Qy6LWkwuFz1VLqMfXi4uAmcuuuRvLkbHeC7p1IAuLkaFLnS3iS66KI4uAJqSLkYLly6LfJsu0e2fLhdfpC5d0Kguo0GtLuiysS4uJLYudJW6LroGvy4AeMMuRunHLotazC7Ry9AuFz3VLl2u2S6hH94u55DiLi0C5y5zc+suuOTvLv5V9C5Ex/guijj9LujUAC+LDQMvLkYFL9B+By90twkvFvALL7ooDi9cYRAv/5kSL6LSFC9FCxcv6EMZL4p8Gy8utR0v0O0fL3QmIi8WXyQvuZcmL1zQKC//CCsvokEtL0V6Ly/osjEvi+szLy4kNi/QXDgvdJU6LxbOPC+5Bj8vXD9BL/93Qy+isEUvRelHL+ghSi+LWkwvLpNOL9DLUC9zBFMvFj1VL7l1Vy9crlkv/+ZbLw==",
          "dtype": "f4"
         },
         "y": {
          "bdata": "lgI1QJYCNUCWAjVAlgI1QJYCNUCWAjVAlgI1QJYCNUCWAjVAlgI1QJYCNUCWAjVAlgI1QJYCNUCWAjVAlgI1QJYCNUCWAjVAlgI1QJYCNUCWAjVAlgI1QJYCNUCWAjVAlgI1QJYCNUCWAjVAlgI1QJYCNUCWAjVAlgI1QJYCNUCWAjVAlgI1QJYCNUCWAjVAlgI1QJYCNUCWAjVAlgI1QJYCNUCWAjVAlgI1QJYCNUCWAjVAlgI1QJYCNUCWAjVAlgI1QJYCNUCWAjVAlgI1QJYCNUCWAjVAlgI1QJYCNUCWAjVAlgI1QJYCNUCWAjVAlgI1QJYCNUCWAjVAlgI1QJYCNUCWAjVAlgI1QJYCNUCWAjVAlgI1QJYCNUCWAjVAlgI1QJYCNUCWAjVAlgI1QJYCNUCWAjVAlgI1QJYCNUCWAjVAlgI1QJYCNUCWAjVAlgI1QJYCNUCWAjVAlgI1QJYCNUCWAjVAlgI1QJYCNUCWAjVAlgI1QJYCNUCWAjVAlgI1QJYCNUCWAjVAlgI1QA==",
          "dtype": "f4"
         },
         "z": {
          "bdata": "gnCI1xCNkt2rszLeeXiK3q5Fst4F+Mzer6jY3rn91N7xvsLeeGCj3kMvcd4m6Qfe2W1Q3LiJ/V12Yo5eJR/oXimnJ19jz2NfR2GVX5+Iv18YtPFfb58WYK+4OWDrs2JgQgKJYOb7o2CpWMJgPhTkYK2IBGFljhhhWfctYdyURGFeMVxh5o90YW23hmGrRJNhRsyfYb0qrGG5PLhh3N/DYd/yzmFMVtlhW+ziYe6Z62FCRvNhztv5YaNI/2E3vwFiqzkDYhkRBGINFARix1IDYrUEAmLhLQBioKn7YYgE9mEGgu9hhTvoYVhN4GEA1tdh+/TOYaDJxWEVcrxhjAqzYZasqWG8bqBhVGSXYWSdjmGmJoZhcBN8YZSabGHi6l1hmgdQYePvQmGQnzZhTA8rYZw1IGEQBxZhHncMYTh4A2He+PVgWOvlYCas1mBbIMhgRy66YA2+rGCquZ9gTA2TYGinhmDY8XRgYepcYNgjRWBoji1gqR4WYHCa/V/ULM9f2vOgX07tZV+ZhQpfAEyLXg==",
          "dtype": "f4"
         }
        },
        {
         "line": {
          "cmax": 609594438449430000000,
          "cmin": -47443623273325130000,
          "color": {
           "bdata": "BQh/14c1k91QNzLeWBWJ3m2Yrt4LdcXe9GnL3m3Vv967TaPeulxu3pe49N0ue5BcZ2U0Xo6ttV7V3g1frMlGXy1Zg1/PladfcRTRX9x8AGDKPBxgbmc8YJuSYWDvH4ZgT2yeYEvRuWBbXthgEQ76YMlhD2GMJiNh2DI4YdZZTmFYaGVhOSR9YX6nimGi05ZhCPWiYT/qrmEYkrphgszFYYZ60GEWf9phzb7jYc4g7GFxjvNhK/T5YYtB/2G4tAFiYTEDYjUUBGJnLgRi3Y4DYjRpAmKKwABibzT9YUH792EN6PFh8RDrYfWO42GAfdthDPnSYWceymGRCcFhJ9W3YcKZrmF5baVh0GOcYX+Nk2Ft+IphyK+CYS94dWEIR2ZhqdNXYZ8hSmH3MD1hX/4wYfKDJWFtuRph55QQYfQKB2FTHvxg/SjrYDQb22Ay2stgsEu9YH9Wr2DS4qFgm9qUYNEpiGBnfXdgwhNfYKv8RmAeIy9gvXYXYGPX/1/D9NBfYD6iX25sZ1/pzApfXReKXg==",
           "dtype": "f4"
          },
          "colorscale": [
           [
            0,
            "#440154"
           ],
           [
            0.1111111111111111,
            "#482878"
           ],
           [
            0.2222222222222222,
            "#3e4989"
           ],
           [
            0.3333333333333333,
            "#31688e"
           ],
           [
            0.4444444444444444,
            "#26828e"
           ],
           [
            0.5555555555555556,
            "#1f9e89"
           ],
           [
            0.6666666666666666,
            "#35b779"
           ],
           [
            0.7777777777777778,
            "#6ece58"
           ],
           [
            0.8888888888888888,
            "#b5de2b"
           ],
           [
            1,
            "#fde725"
           ]
          ],
          "showscale": false,
          "width": 4
         },
         "mode": "lines",
         "showlegend": false,
         "type": "scatter3d",
         "x": {
          "bdata": "AAAAALooDiy6KI4sFz3VLLooDi3osjEtFz1VLUbHeC26KI4t0e2fLeiysS0AeMMtFz3VLS4C5y1Gx/gtLkYFLrooDi5GCxcu0e0fLl3QKC7osjEudJU6LgB4Qy6LWkwuFz1VLqMfXi4uAmcuuuRvLkbHeC7p1IAuLkaFLnS3iS66KI4uAJqSLkYLly6LfJsu0e2fLhdfpC5d0Kguo0GtLuiysS4uJLYudJW6LroGvy4AeMMuRunHLotazC7Ry9AuFz3VLl2u2S6hH94u55DiLi0C5y5zc+suuOTvLv5V9C5Ex/guijj9LujUAC+LDQMvLkYFL9B+By90twkvFvALL7ooDi9cYRAv/5kSL6LSFC9FCxcv6EMZL4p8Gy8utR0v0O0fL3QmIi8WXyQvuZcmL1zQKC//CCsvokEtL0V6Ly/osjEvi+szLy4kNi/QXDgvdJU6LxbOPC+5Bj8vXD9BL/93Qy+isEUvRelHL+ghSi+LWkwvLpNOL9DLUC9zBFMvFj1VL7l1Vy9crlkv/+ZbLw==",
          "dtype": "f4"
         },
         "y": {
          "bdata": "fPBBQHzwQUB88EFAfPBBQHzwQUB88EFAfPBBQHzwQUB88EFAfPBBQHzwQUB88EFAfPBBQHzwQUB88EFAfPBBQHzwQUB88EFAfPBBQHzwQUB88EFAfPBBQHzwQUB88EFAfPBBQHzwQUB88EFAfPBBQHzwQUB88EFAfPBBQHzwQUB88EFAfPBBQHzwQUB88EFAfPBBQHzwQUB88EFAfPBBQHzwQUB88EFAfPBBQHzwQUB88EFAfPBBQHzwQUB88EFAfPBBQHzwQUB88EFAfPBBQHzwQUB88EFAfPBBQHzwQUB88EFAfPBBQHzwQUB88EFAfPBBQHzwQUB88EFAfPBBQHzwQUB88EFAfPBBQHzwQUB88EFAfPBBQHzwQUB88EFAfPBBQHzwQUB88EFAfPBBQHzwQUB88EFAfPBBQHzwQUB88EFAfPBBQHzwQUB88EFAfPBBQHzwQUB88EFAfPBBQHzwQUB88EFAfPBBQHzwQUB88EFAfPBBQHzwQUB88EFAfPBBQHzwQUB88EFAfPBBQA==",
          "dtype": "f4"
         },
         "z": {
          "bdata": "BQh/14c1k91QNzLeWBWJ3m2Yrt4LdcXe9GnL3m3Vv967TaPeulxu3pe49N0ue5BcZ2U0Xo6ttV7V3g1frMlGXy1Zg1/PladfcRTRX9x8AGDKPBxgbmc8YJuSYWDvH4ZgT2yeYEvRuWBbXthgEQ76YMlhD2GMJiNh2DI4YdZZTmFYaGVhOSR9YX6nimGi05ZhCPWiYT/qrmEYkrphgszFYYZ60GEWf9phzb7jYc4g7GFxjvNhK/T5YYtB/2G4tAFiYTEDYjUUBGJnLgRi3Y4DYjRpAmKKwABibzT9YUH792EN6PFh8RDrYfWO42GAfdthDPnSYWceymGRCcFhJ9W3YcKZrmF5baVh0GOcYX+Nk2Ft+IphyK+CYS94dWEIR2ZhqdNXYZ8hSmH3MD1hX/4wYfKDJWFtuRph55QQYfQKB2FTHvxg/SjrYDQb22Ay2stgsEu9YH9Wr2DS4qFgm9qUYNEpiGBnfXdgwhNfYKv8RmAeIy9gvXYXYGPX/1/D9NBfYD6iX25sZ1/pzApfXReKXg==",
          "dtype": "f4"
         }
        },
        {
         "line": {
          "cmax": 609594438449430000000,
          "cmin": -47443623273325130000,
          "color": {
           "bdata": "5xpu169Hk91p9DDerhKH3gwXqt4Q9rze4xe93jqVqd6204LeRSsU3hvICNt06CxerAm7XmvgFV+hQFRf34KMXwKGsl8J0dxfFB0GYEDhIGC4PT9gqL9hYCp3hGBjn5pgI4izYJpQz2DqBe5g7tAHYf8DGmE4hC1hoDBCYW/eV2HqXG5hbrqCYYN1jmHEQJphlvylYYaJsWF5yLxhd5vHYcDl0WFxjNthTXbkYX6M7GFcuvNh++35YWsY/2HLlgFihBIDYvX8A2IQKgRicKcDYgGlAmIeJQFiaVj+YeKA+WF/0/NhnmPtYVFH5mEkl95h22zWYdrizWEjE8Vhmha8Yc4Es2Ey86lhLPWgYcwbmGHIdY9hcA+HYXvlfWH3Tm5hfGZfYUgzUWEGuUNh/vc2YZDtKmFtlB9hR+UUYdnWCmF+XgFh6+DwYJkA4GBAAtBg0svAYNtDsmCYUaRgsd2WYGrSiWAmOHpgS1JhYNHUSGA3pjBgr7EYYCbnAGBCdtJf7UyjX7acaF/7/wpfJReJXg==",
           "dtype": "f4"
          },
          "colorscale": [
           [
            0,
            "#440154"
           ],
           [
            0.1111111111111111,
            "#482878"
           ],
           [
            0.2222222222222222,
            "#3e4989"
           ],
           [
            0.3333333333333333,
            "#31688e"
           ],
           [
            0.4444444444444444,
            "#26828e"
           ],
           [
            0.5555555555555556,
            "#1f9e89"
           ],
           [
            0.6666666666666666,
            "#35b779"
           ],
           [
            0.7777777777777778,
            "#6ece58"
           ],
           [
            0.8888888888888888,
            "#b5de2b"
           ],
           [
            1,
            "#fde725"
           ]
          ],
          "showscale": false,
          "width": 4
         },
         "mode": "lines",
         "showlegend": false,
         "type": "scatter3d",
         "x": {
          "bdata": "AAAAALooDiy6KI4sFz3VLLooDi3osjEtFz1VLUbHeC26KI4t0e2fLeiysS0AeMMtFz3VLS4C5y1Gx/gtLkYFLrooDi5GCxcu0e0fLl3QKC7osjEudJU6LgB4Qy6LWkwuFz1VLqMfXi4uAmcuuuRvLkbHeC7p1IAuLkaFLnS3iS66KI4uAJqSLkYLly6LfJsu0e2fLhdfpC5d0Kguo0GtLuiysS4uJLYudJW6LroGvy4AeMMuRunHLotazC7Ry9AuFz3VLl2u2S6hH94u55DiLi0C5y5zc+suuOTvLv5V9C5Ex/guijj9LujUAC+LDQMvLkYFL9B+By90twkvFvALL7ooDi9cYRAv/5kSL6LSFC9FCxcv6EMZL4p8Gy8utR0v0O0fL3QmIi8WXyQvuZcmL1zQKC//CCsvokEtL0V6Ly/osjEvi+szLy4kNi/QXDgvdJU6LxbOPC+5Bj8vXD9BL/93Qy+isEUvRelHL+ghSi+LWkwvLpNOL9DLUC9zBFMvFj1VL7l1Vy9crlkv/+ZbLw==",
          "dtype": "f4"
         },
         "y": {
          "bdata": "Yt5OQGLeTkBi3k5AYt5OQGLeTkBi3k5AYt5OQGLeTkBi3k5AYt5OQGLeTkBi3k5AYt5OQGLeTkBi3k5AYt5OQGLeTkBi3k5AYt5OQGLeTkBi3k5AYt5OQGLeTkBi3k5AYt5OQGLeTkBi3k5AYt5OQGLeTkBi3k5AYt5OQGLeTkBi3k5AYt5OQGLeTkBi3k5AYt5OQGLeTkBi3k5AYt5OQGLeTkBi3k5AYt5OQGLeTkBi3k5AYt5OQGLeTkBi3k5AYt5OQGLeTkBi3k5AYt5OQGLeTkBi3k5AYt5OQGLeTkBi3k5AYt5OQGLeTkBi3k5AYt5OQGLeTkBi3k5AYt5OQGLeTkBi3k5AYt5OQGLeTkBi3k5AYt5OQGLeTkBi3k5AYt5OQGLeTkBi3k5AYt5OQGLeTkBi3k5AYt5OQGLeTkBi3k5AYt5OQGLeTkBi3k5AYt5OQGLeTkBi3k5AYt5OQGLeTkBi3k5AYt5OQGLeTkBi3k5AYt5OQGLeTkBi3k5AYt5OQGLeTkBi3k5AYt5OQA==",
          "dtype": "f4"
         },
         "z": {
          "bdata": "5xpu169Hk91p9DDerhKH3gwXqt4Q9rze4xe93jqVqd6204LeRSsU3hvICNt06CxerAm7XmvgFV+hQFRf34KMXwKGsl8J0dxfFB0GYEDhIGC4PT9gqL9hYCp3hGBjn5pgI4izYJpQz2DqBe5g7tAHYf8DGmE4hC1hoDBCYW/eV2HqXG5hbrqCYYN1jmHEQJphlvylYYaJsWF5yLxhd5vHYcDl0WFxjNthTXbkYX6M7GFcuvNh++35YWsY/2HLlgFihBIDYvX8A2IQKgRicKcDYgGlAmIeJQFiaVj+YeKA+WF/0/NhnmPtYVFH5mEkl95h22zWYdrizWEjE8Vhmha8Yc4Es2Ey86lhLPWgYcwbmGHIdY9hcA+HYXvlfWH3Tm5hfGZfYUgzUWEGuUNh/vc2YZDtKmFtlB9hR+UUYdnWCmF+XgFh6+DwYJkA4GBAAtBg0svAYNtDsmCYUaRgsd2WYGrSiWAmOHpgS1JhYNHUSGA3pjBgr7EYYCbnAGBCdtJf7UyjX7acaF/7/wpfJReJXg==",
          "dtype": "f4"
         }
        },
        {
         "line": {
          "cmax": 609594438449430000000,
          "cmin": -47443623273325130000,
          "color": {
           "bdata": "GMFe1wbVkt2rAy/et4WE3jXgpN7Uo7PeTeat3kx9kt7JPUPepaBj3Yg47V22zKNehbMNX7l0UF9N+IxfkCi1X38a4V/6qQhgGkQjYJLKQGDetGFg/z+DYGTSl2Ddxa5gDkXIYIJr5GAZogFhC2QSYcRtJGFDqDdhOPRLYfIoYWFdGHdhEceGYSgpkmFJlZ1hqO2oYbsUtGFb7b5hjlvJYZZE02GCj9xhCCXlYTDw7GHy3fNh9t35YYni/mFKcAFiIugCYn7WA2IaEgRiaKcDYsLCAmLuZQFiGCn/Yain+mEvVfVhlELvYWeD6GGvLeFhyFjZYdMc0WHekchhSs+/YWvrtmHv+q1h6RClYYE+nGHXkpNhCBuLYR7igmFU4nVhS55mYXECWGGKFUph3do8YblSMGGCeiRhYk0ZYS7EDmEa1gRhovH2YBJC5WBRhdRgTqLEYPR/tWBlBadguRqZYDmpi2DoN31gwL9jYBnISmDLMzJgSOoZYLrXAWDw2dNf0j6kX8mnaV9GMgtfFFKIXg==",
           "dtype": "f4"
          },
          "colorscale": [
           [
            0,
            "#440154"
           ],
           [
            0.1111111111111111,
            "#482878"
           ],
           [
            0.2222222222222222,
            "#3e4989"
           ],
           [
            0.3333333333333333,
            "#31688e"
           ],
           [
            0.4444444444444444,
            "#26828e"
           ],
           [
            0.5555555555555556,
            "#1f9e89"
           ],
           [
            0.6666666666666666,
            "#35b779"
           ],
           [
            0.7777777777777778,
            "#6ece58"
           ],
           [
            0.8888888888888888,
            "#b5de2b"
           ],
           [
            1,
            "#fde725"
           ]
          ],
          "showscale": false,
          "width": 4
         },
         "mode": "lines",
         "showlegend": false,
         "type": "scatter3d",
         "x": {
          "bdata": "AAAAALooDiy6KI4sFz3VLLooDi3osjEtFz1VLUbHeC26KI4t0e2fLeiysS0AeMMtFz3VLS4C5y1Gx/gtLkYFLrooDi5GCxcu0e0fLl3QKC7osjEudJU6LgB4Qy6LWkwuFz1VLqMfXi4uAmcuuuRvLkbHeC7p1IAuLkaFLnS3iS66KI4uAJqSLkYLly6LfJsu0e2fLhdfpC5d0Kguo0GtLuiysS4uJLYudJW6LroGvy4AeMMuRunHLotazC7Ry9AuFz3VLl2u2S6hH94u55DiLi0C5y5zc+suuOTvLv5V9C5Ex/guijj9LujUAC+LDQMvLkYFL9B+By90twkvFvALL7ooDi9cYRAv/5kSL6LSFC9FCxcv6EMZL4p8Gy8utR0v0O0fL3QmIi8WXyQvuZcmL1zQKC//CCsvokEtL0V6Ly/osjEvi+szLy4kNi/QXDgvdJU6LxbOPC+5Bj8vXD9BL/93Qy+isEUvRelHL+ghSi+LWkwvLpNOL9DLUC9zBFMvFj1VL7l1Vy9crlkv/+ZbLw==",
          "dtype": "f4"
         },
         "y": {
          "bdata": "SMxbQEjMW0BIzFtASMxbQEjMW0BIzFtASMxbQEjMW0BIzFtASMxbQEjMW0BIzFtASMxbQEjMW0BIzFtASMxbQEjMW0BIzFtASMxbQEjMW0BIzFtASMxbQEjMW0BIzFtASMxbQEjMW0BIzFtASMxbQEjMW0BIzFtASMxbQEjMW0BIzFtASMxbQEjMW0BIzFtASMxbQEjMW0BIzFtASMxbQEjMW0BIzFtASMxbQEjMW0BIzFtASMxbQEjMW0BIzFtASMxbQEjMW0BIzFtASMxbQEjMW0BIzFtASMxbQEjMW0BIzFtASMxbQEjMW0BIzFtASMxbQEjMW0BIzFtASMxbQEjMW0BIzFtASMxbQEjMW0BIzFtASMxbQEjMW0BIzFtASMxbQEjMW0BIzFtASMxbQEjMW0BIzFtASMxbQEjMW0BIzFtASMxbQEjMW0BIzFtASMxbQEjMW0BIzFtASMxbQEjMW0BIzFtASMxbQEjMW0BIzFtASMxbQEjMW0BIzFtASMxbQEjMW0BIzFtASMxbQA==",
          "dtype": "f4"
         },
         "z": {
          "bdata": "GMFe1wbVkt2rAy/et4WE3jXgpN7Uo7PeTeat3kx9kt7JPUPepaBj3Yg47V22zKNehbMNX7l0UF9N+IxfkCi1X38a4V/6qQhgGkQjYJLKQGDetGFg/z+DYGTSl2Ddxa5gDkXIYIJr5GAZogFhC2QSYcRtJGFDqDdhOPRLYfIoYWFdGHdhEceGYSgpkmFJlZ1hqO2oYbsUtGFb7b5hjlvJYZZE02GCj9xhCCXlYTDw7GHy3fNh9t35YYni/mFKcAFiIugCYn7WA2IaEgRiaKcDYsLCAmLuZQFiGCn/Yain+mEvVfVhlELvYWeD6GGvLeFhyFjZYdMc0WHekchhSs+/YWvrtmHv+q1h6RClYYE+nGHXkpNhCBuLYR7igmFU4nVhS55mYXECWGGKFUph3do8YblSMGGCeiRhYk0ZYS7EDmEa1gRhovH2YBJC5WBRhdRgTqLEYPR/tWBlBadguRqZYDmpi2DoN31gwL9jYBnISmDLMzJgSOoZYLrXAWDw2dNf0j6kX8mnaV9GMgtfFFKIXg==",
          "dtype": "f4"
         }
        },
        {
         "line": {
          "cmax": 609594438449430000000,
          "cmin": -47443623273325130000,
          "color": {
           "bdata": "4U5R1x3tkd1AeyzeQYGB3sQOn965oaneSAGe3gSGdd5yu//dOVsLXdMyb16cq/Bev2o9X1UohV9lUa9fWyvdX9pzB2DDdSJgA+Q/YCEcYGBYwoFgYEWVYGbMqmB2hcJgUJbcYOMW+WALCAxhGb0cYS+dLmFfkkFhAH9VYZE8amGon39hcruKYcfGlWFk1qBhQc6rYayStmFLCMFhCxXLYeqf1GHVkd1hItXlYYJW7WF0BPRh5c/5YUms/mG0RwFiALkCYtenA2LM7QNiNpYDYgbKAmKSigFit7X/Yah++2G+e/Zh2bvwYWpQ6mE9TeNhhcfbYXDV02E9jcthwATDYR5RumEohrFhcLaoYfjyn2EOS5dhRcyOYWKChmHB7nxhsWZtYT55XmG1L1Bh6o9CYaycNWHNVSlhrrgdYS7AEmFIZQhhdz79YPXH6mDjUNlgp8HIYCYCuWAH+qlgaJGbYFGxjWAbRIBgjmtmYHToTGD33jNgfzMbYAfPAmBRPtVfISylX12ual9ccwtfqc2HXg==",
           "dtype": "f4"
          },
          "colorscale": [
           [
            0,
            "#440154"
           ],
           [
            0.1111111111111111,
            "#482878"
           ],
           [
            0.2222222222222222,
            "#3e4989"
           ],
           [
            0.3333333333333333,
            "#31688e"
           ],
           [
            0.4444444444444444,
            "#26828e"
           ],
           [
            0.5555555555555556,
            "#1f9e89"
           ],
           [
            0.6666666666666666,
            "#35b779"
           ],
           [
            0.7777777777777778,
            "#6ece58"
           ],
           [
            0.8888888888888888,
            "#b5de2b"
           ],
           [
            1,
            "#fde725"
           ]
          ],
          "showscale": false,
          "width": 4
         },
         "mode": "lines",
         "showlegend": false,
         "type": "scatter3d",
         "x": {
          "bdata": "AAAAALooDiy6KI4sFz3VLLooDi3osjEtFz1VLUbHeC26KI4t0e2fLeiysS0AeMMtFz3VLS4C5y1Gx/gtLkYFLrooDi5GCxcu0e0fLl3QKC7osjEudJU6LgB4Qy6LWkwuFz1VLqMfXi4uAmcuuuRvLkbHeC7p1IAuLkaFLnS3iS66KI4uAJqSLkYLly6LfJsu0e2fLhdfpC5d0Kguo0GtLuiysS4uJLYudJW6LroGvy4AeMMuRunHLotazC7Ry9AuFz3VLl2u2S6hH94u55DiLi0C5y5zc+suuOTvLv5V9C5Ex/guijj9LujUAC+LDQMvLkYFL9B+By90twkvFvALL7ooDi9cYRAv/5kSL6LSFC9FCxcv6EMZL4p8Gy8utR0v0O0fL3QmIi8WXyQvuZcmL1zQKC//CCsvokEtL0V6Ly/osjEvi+szLy4kNi/QXDgvdJU6LxbOPC+5Bj8vXD9BL/93Qy+isEUvRelHL+ghSi+LWkwvLpNOL9DLUC9zBFMvFj1VL7l1Vy9crlkv/+ZbLw==",
          "dtype": "f4"
         },
         "y": {
          "bdata": "LrpoQC66aEAuumhALrpoQC66aEAuumhALrpoQC66aEAuumhALrpoQC66aEAuumhALrpoQC66aEAuumhALrpoQC66aEAuumhALrpoQC66aEAuumhALrpoQC66aEAuumhALrpoQC66aEAuumhALrpoQC66aEAuumhALrpoQC66aEAuumhALrpoQC66aEAuumhALrpoQC66aEAuumhALrpoQC66aEAuumhALrpoQC66aEAuumhALrpoQC66aEAuumhALrpoQC66aEAuumhALrpoQC66aEAuumhALrpoQC66aEAuumhALrpoQC66aEAuumhALrpoQC66aEAuumhALrpoQC66aEAuumhALrpoQC66aEAuumhALrpoQC66aEAuumhALrpoQC66aEAuumhALrpoQC66aEAuumhALrpoQC66aEAuumhALrpoQC66aEAuumhALrpoQC66aEAuumhALrpoQC66aEAuumhALrpoQC66aEAuumhALrpoQC66aEAuumhALrpoQC66aEAuumhALrpoQA==",
          "dtype": "f4"
         },
         "z": {
          "bdata": "4U5R1x3tkd1AeyzeQYGB3sQOn965oaneSAGe3gSGdd5yu//dOVsLXdMyb16cq/Bev2o9X1UohV9lUa9fWyvdX9pzB2DDdSJgA+Q/YCEcYGBYwoFgYEWVYGbMqmB2hcJgUJbcYOMW+WALCAxhGb0cYS+dLmFfkkFhAH9VYZE8amGon39hcruKYcfGlWFk1qBhQc6rYayStmFLCMFhCxXLYeqf1GHVkd1hItXlYYJW7WF0BPRh5c/5YUms/mG0RwFiALkCYtenA2LM7QNiNpYDYgbKAmKSigFit7X/Yah++2G+e/Zh2bvwYWpQ6mE9TeNhhcfbYXDV02E9jcthwATDYR5RumEohrFhcLaoYfjyn2EOS5dhRcyOYWKChmHB7nxhsWZtYT55XmG1L1Bh6o9CYaycNWHNVSlhrrgdYS7AEmFIZQhhdz79YPXH6mDjUNlgp8HIYCYCuWAH+qlgaJGbYFGxjWAbRIBgjmtmYHToTGD33jNgfzMbYAfPAmBRPtVfISylX12ual9ccwtfqc2HXg==",
          "dtype": "f4"
         }
        },
        {
         "line": {
          "cmax": 609594438449430000000,
          "cmin": -47443623273325130000,
          "color": {
           "bdata": "VNtF15edkN3Tbine3yt83ju6mN7pDZ/ez42N3kMkRd7Nsm/deDr9XfyNs17hYh5fIIBsX0eioV//ENFf4zYCYJvmHWBgujtgEepbYD7CfmB3TJJgu+WmYBxbvWCS1NVg/3LwYGWlBmFzMRZhedkmYXuQOGGsQUthENFeYWcac2Fv+oNhB5mOYT9QmWFTBqRh9qCuYTAGuWFkHMNhMcvMYUP71WEOl95hgormYbPD7WFnMvRhwMj5YSR7/mEUIAFigIgCYsx0A2JSwQNibHgDYsq/AmJxmAFi5AQAYvIR/GGzU/dhNNzxYRi762FNAuVhKMXdYQ4Y1mGMD85hFMDFYZQ9vWH2mrRhNOqrYe47o2Fxn5phfCKSYU3RiWF8toFh5LVzYdGLZGEU+lVhlQhIYT68OmH2Fi5hJBgiYYq8FmHY/gth29cBYcB98GDcU95gXBzNYILAvGD4KK1gcj6eYDDqj2BiFoJgSV1pYC1AT2CuszVg5ZkcYEDZA2AyudZfjSamXwfJa1/7zgtfuI2HXg==",
           "dtype": "f4"
          },
          "colorscale": [
           [
            0,
            "#440154"
           ],
           [
            0.1111111111111111,
            "#482878"
           ],
           [
            0.2222222222222222,
            "#3e4989"
           ],
           [
            0.3333333333333333,
            "#31688e"
           ],
           [
            0.4444444444444444,
            "#26828e"
           ],
           [
            0.5555555555555556,
            "#1f9e89"
           ],
           [
            0.6666666666666666,
            "#35b779"
           ],
           [
            0.7777777777777778,
            "#6ece58"
           ],
           [
            0.8888888888888888,
            "#b5de2b"
           ],
           [
            1,
            "#fde725"
           ]
          ],
          "showscale": false,
          "width": 4
         },
         "mode": "lines",
         "showlegend": false,
         "type": "scatter3d",
         "x": {
          "bdata": "AAAAALooDiy6KI4sFz3VLLooDi3osjEtFz1VLUbHeC26KI4t0e2fLeiysS0AeMMtFz3VLS4C5y1Gx/gtLkYFLrooDi5GCxcu0e0fLl3QKC7osjEudJU6LgB4Qy6LWkwuFz1VLqMfXi4uAmcuuuRvLkbHeC7p1IAuLkaFLnS3iS66KI4uAJqSLkYLly6LfJsu0e2fLhdfpC5d0Kguo0GtLuiysS4uJLYudJW6LroGvy4AeMMuRunHLotazC7Ry9AuFz3VLl2u2S6hH94u55DiLi0C5y5zc+suuOTvLv5V9C5Ex/guijj9LujUAC+LDQMvLkYFL9B+By90twkvFvALL7ooDi9cYRAv/5kSL6LSFC9FCxcv6EMZL4p8Gy8utR0v0O0fL3QmIi8WXyQvuZcmL1zQKC//CCsvokEtL0V6Ly/osjEvi+szLy4kNi/QXDgvdJU6LxbOPC+5Bj8vXD9BL/93Qy+isEUvRelHL+ghSi+LWkwvLpNOL9DLUC9zBFMvFj1VL7l1Vy9crlkv/+ZbLw==",
          "dtype": "f4"
         },
         "y": {
          "bdata": "FKh1QBSodUAUqHVAFKh1QBSodUAUqHVAFKh1QBSodUAUqHVAFKh1QBSodUAUqHVAFKh1QBSodUAUqHVAFKh1QBSodUAUqHVAFKh1QBSodUAUqHVAFKh1QBSodUAUqHVAFKh1QBSodUAUqHVAFKh1QBSodUAUqHVAFKh1QBSodUAUqHVAFKh1QBSodUAUqHVAFKh1QBSodUAUqHVAFKh1QBSodUAUqHVAFKh1QBSodUAUqHVAFKh1QBSodUAUqHVAFKh1QBSodUAUqHVAFKh1QBSodUAUqHVAFKh1QBSodUAUqHVAFKh1QBSodUAUqHVAFKh1QBSodUAUqHVAFKh1QBSodUAUqHVAFKh1QBSodUAUqHVAFKh1QBSodUAUqHVAFKh1QBSodUAUqHVAFKh1QBSodUAUqHVAFKh1QBSodUAUqHVAFKh1QBSodUAUqHVAFKh1QBSodUAUqHVAFKh1QBSodUAUqHVAFKh1QBSodUAUqHVAFKh1QBSodUAUqHVAFKh1QBSodUAUqHVAFKh1QA==",
          "dtype": "f4"
         },
         "z": {
          "bdata": "VNtF15edkN3Tbine3yt83ju6mN7pDZ/ez42N3kMkRd7Nsm/deDr9XfyNs17hYh5fIIBsX0eioV//ENFf4zYCYJvmHWBgujtgEepbYD7CfmB3TJJgu+WmYBxbvWCS1NVg/3LwYGWlBmFzMRZhedkmYXuQOGGsQUthENFeYWcac2Fv+oNhB5mOYT9QmWFTBqRh9qCuYTAGuWFkHMNhMcvMYUP71WEOl95hgormYbPD7WFnMvRhwMj5YSR7/mEUIAFigIgCYsx0A2JSwQNibHgDYsq/AmJxmAFi5AQAYvIR/GGzU/dhNNzxYRi762FNAuVhKMXdYQ4Y1mGMD85hFMDFYZQ9vWH2mrRhNOqrYe47o2Fxn5phfCKSYU3RiWF8toFh5LVzYdGLZGEU+lVhlQhIYT68OmH2Fi5hJBgiYYq8FmHY/gth29cBYcB98GDcU95gXBzNYILAvGD4KK1gcj6eYDDqj2BiFoJgSV1pYC1AT2CuszVg5ZkcYEDZA2AyudZfjSamXwfJa1/7zgtfuI2HXg==",
          "dtype": "f4"
         }
        },
        {
         "line": {
          "cmax": 609594438449430000000,
          "cmin": -47443623273325130000,
          "color": {
           "bdata": "qlI812Hyjt2S7yXeMqR03pz2kd7GAZTeL1R53rkaFN5KdgRcMBVaXvT87l7p80Nf0WuNX+2YvV9nJvJf1W4VYMDbM2BKbVRgJ0t3YK9YjmDicqJgGhu4YKp4z2CJrehg6uoBYUSBEGFPHCBhjLcwYX5GQmFqtVRhFOpnYW3Ce2EkDIhhGGCSYeTFnGFuJadhEmaxYX9vu2HBKcVh+H3OYWVW12Hpnt9hz0TnYWc37mGmZ/RhqMj5YaxP/mH3+QBillcCYsA+A2KTjgNigFADYhinAmImkwFi2RYAYg9r/GGN5/dh+67yYXDP7GFIWeZhNF7fYfrw12G8JNBhhgzIYSq7v2GeQrdhJLSuYegfpmH9lJ1hKCGVYdLQjGH9roRhLop5YR02amGHblthDT1NYVuoP2EatDJheWEmYeSuGmG6mA9hOhkFYTFS9mApf+NgsKXRYNSwwGCTirBgoxyhYO1QkmD3EYRgr5ZsYMTTUWBhuDdgDCUeYEb+BGB2WdhfmjqnX4oJbV+iTQxfbpSHXg==",
           "dtype": "f4"
          },
          "colorscale": [
           [
            0,
            "#440154"
           ],
           [
            0.1111111111111111,
            "#482878"
           ],
           [
            0.2222222222222222,
            "#3e4989"
           ],
           [
            0.3333333333333333,
            "#31688e"
           ],
           [
            0.4444444444444444,
            "#26828e"
           ],
           [
            0.5555555555555556,
            "#1f9e89"
           ],
           [
            0.6666666666666666,
            "#35b779"
           ],
           [
            0.7777777777777778,
            "#6ece58"
           ],
           [
            0.8888888888888888,
            "#b5de2b"
           ],
           [
            1,
            "#fde725"
           ]
          ],
          "showscale": false,
          "width": 4
         },
         "mode": "lines",
         "showlegend": false,
         "type": "scatter3d",
         "x": {
          "bdata": "AAAAALooDiy6KI4sFz3VLLooDi3osjEtFz1VLUbHeC26KI4t0e2fLeiysS0AeMMtFz3VLS4C5y1Gx/gtLkYFLrooDi5GCxcu0e0fLl3QKC7osjEudJU6LgB4Qy6LWkwuFz1VLqMfXi4uAmcuuuRvLkbHeC7p1IAuLkaFLnS3iS66KI4uAJqSLkYLly6LfJsu0e2fLhdfpC5d0Kguo0GtLuiysS4uJLYudJW6LroGvy4AeMMuRunHLotazC7Ry9AuFz3VLl2u2S6hH94u55DiLi0C5y5zc+suuOTvLv5V9C5Ex/guijj9LujUAC+LDQMvLkYFL9B+By90twkvFvALL7ooDi9cYRAv/5kSL6LSFC9FCxcv6EMZL4p8Gy8utR0v0O0fL3QmIi8WXyQvuZcmL1zQKC//CCsvokEtL0V6Ly/osjEvi+szLy4kNi/QXDgvdJU6LxbOPC+5Bj8vXD9BL/93Qy+isEUvRelHL+ghSi+LWkwvLpNOL9DLUC9zBFMvFj1VL7l1Vy9crlkv/+ZbLw==",
          "dtype": "f4"
         },
         "y": {
          "bdata": "/UqBQP1KgUD9SoFA/UqBQP1KgUD9SoFA/UqBQP1KgUD9SoFA/UqBQP1KgUD9SoFA/UqBQP1KgUD9SoFA/UqBQP1KgUD9SoFA/UqBQP1KgUD9SoFA/UqBQP1KgUD9SoFA/UqBQP1KgUD9SoFA/UqBQP1KgUD9SoFA/UqBQP1KgUD9SoFA/UqBQP1KgUD9SoFA/UqBQP1KgUD9SoFA/UqBQP1KgUD9SoFA/UqBQP1KgUD9SoFA/UqBQP1KgUD9SoFA/UqBQP1KgUD9SoFA/UqBQP1KgUD9SoFA/UqBQP1KgUD9SoFA/UqBQP1KgUD9SoFA/UqBQP1KgUD9SoFA/UqBQP1KgUD9SoFA/UqBQP1KgUD9SoFA/UqBQP1KgUD9SoFA/UqBQP1KgUD9SoFA/UqBQP1KgUD9SoFA/UqBQP1KgUD9SoFA/UqBQP1KgUD9SoFA/UqBQP1KgUD9SoFA/UqBQP1KgUD9SoFA/UqBQP1KgUD9SoFA/UqBQP1KgUD9SoFA/UqBQP1KgUD9SoFA/UqBQA==",
          "dtype": "f4"
         },
         "z": {
          "bdata": "qlI812Hyjt2S7yXeMqR03pz2kd7GAZTeL1R53rkaFN5KdgRcMBVaXvT87l7p80Nf0WuNX+2YvV9nJvJf1W4VYMDbM2BKbVRgJ0t3YK9YjmDicqJgGhu4YKp4z2CJrehg6uoBYUSBEGFPHCBhjLcwYX5GQmFqtVRhFOpnYW3Ce2EkDIhhGGCSYeTFnGFuJadhEmaxYX9vu2HBKcVh+H3OYWVW12Hpnt9hz0TnYWc37mGmZ/RhqMj5YaxP/mH3+QBillcCYsA+A2KTjgNigFADYhinAmImkwFi2RYAYg9r/GGN5/dh+67yYXDP7GFIWeZhNF7fYfrw12G8JNBhhgzIYSq7v2GeQrdhJLSuYegfpmH9lJ1hKCGVYdLQjGH9roRhLop5YR02amGHblthDT1NYVuoP2EatDJheWEmYeSuGmG6mA9hOhkFYTFS9mApf+NgsKXRYNSwwGCTirBgoxyhYO1QkmD3EYRgr5ZsYMTTUWBhuDdgDCUeYEb+BGB2WdhfmjqnX4oJbV+iTQxfbpSHXg==",
          "dtype": "f4"
         }
        },
        {
         "line": {
          "cmax": 609594438449430000000,
          "cmin": -47443623273325130000,
          "color": {
           "bdata": "GYU019r1jN1bDCLeSoRs3vnUit6AkojeaN1W3vE/xd37B5ldmYCaXizjFF+J+GhfPTCkX6oD2V9kRAlg8DgoYH5OSWCQiWxgFwGJYB/ynGDmMrJg2+LIYIgi4WD4DftgVF4LYRceGmHKxylhplY6YaW+S2Em7V1hn8lwYRcagmGqBIxhNBCWYR8noGHcMqphbhy0YRnNvWF1LsdhHyvQYbyu2GF+puBh4gDoYWOu7mHwoPRhgMz5YR4n/mFJ1ABihiUCYnEFA2LZVQNiVR8DYnmBAmL1fAFisxMAYl6R/GEIQPhhGD7zYWaY7WHoXedh6Z7gYdNs2WFk2dFhcvbJYajVwWEaiLlhQh6xYb+nqGFKM6Bhe86XYcCFj2FMZIdhved+YbJ5b2FijGBhuSpSYb5cRGGjJzdhHI4qYRyQHmGFKxNhA1wIYUQ3/GDExehgGVLWYC7JxGC5FrRgvyWkYCbhlGAoNIZgbBVwYIWjVGBk7zlgrtgfYJxCBmBTKNpfeXCoX+57bl/y9AxfZuKHXg==",
           "dtype": "f4"
          },
          "colorscale": [
           [
            0,
            "#440154"
           ],
           [
            0.1111111111111111,
            "#482878"
           ],
           [
            0.2222222222222222,
            "#3e4989"
           ],
           [
            0.3333333333333333,
            "#31688e"
           ],
           [
            0.4444444444444444,
            "#26828e"
           ],
           [
            0.5555555555555556,
            "#1f9e89"
           ],
           [
            0.6666666666666666,
            "#35b779"
           ],
           [
            0.7777777777777778,
            "#6ece58"
           ],
           [
            0.8888888888888888,
            "#b5de2b"
           ],
           [
            1,
            "#fde725"
           ]
          ],
          "showscale": false,
          "width": 4
         },
         "mode": "lines",
         "showlegend": false,
         "type": "scatter3d",
         "x": {
          "bdata": "AAAAALooDiy6KI4sFz3VLLooDi3osjEtFz1VLUbHeC26KI4t0e2fLeiysS0AeMMtFz3VLS4C5y1Gx/gtLkYFLrooDi5GCxcu0e0fLl3QKC7osjEudJU6LgB4Qy6LWkwuFz1VLqMfXi4uAmcuuuRvLkbHeC7p1IAuLkaFLnS3iS66KI4uAJqSLkYLly6LfJsu0e2fLhdfpC5d0Kguo0GtLuiysS4uJLYudJW6LroGvy4AeMMuRunHLotazC7Ry9AuFz3VLl2u2S6hH94u55DiLi0C5y5zc+suuOTvLv5V9C5Ex/guijj9LujUAC+LDQMvLkYFL9B+By90twkvFvALL7ooDi9cYRAv/5kSL6LSFC9FCxcv6EMZL4p8Gy8utR0v0O0fL3QmIi8WXyQvuZcmL1zQKC//CCsvokEtL0V6Ly/osjEvi+szLy4kNi/QXDgvdJU6LxbOPC+5Bj8vXD9BL/93Qy+isEUvRelHL+ghSi+LWkwvLpNOL9DLUC9zBFMvFj1VL7l1Vy9crlkv/+ZbLw==",
          "dtype": "f4"
         },
         "y": {
          "bdata": "8MGHQPDBh0DwwYdA8MGHQPDBh0DwwYdA8MGHQPDBh0DwwYdA8MGHQPDBh0DwwYdA8MGHQPDBh0DwwYdA8MGHQPDBh0DwwYdA8MGHQPDBh0DwwYdA8MGHQPDBh0DwwYdA8MGHQPDBh0DwwYdA8MGHQPDBh0DwwYdA8MGHQPDBh0DwwYdA8MGHQPDBh0DwwYdA8MGHQPDBh0DwwYdA8MGHQPDBh0DwwYdA8MGHQPDBh0DwwYdA8MGHQPDBh0DwwYdA8MGHQPDBh0DwwYdA8MGHQPDBh0DwwYdA8MGHQPDBh0DwwYdA8MGHQPDBh0DwwYdA8MGHQPDBh0DwwYdA8MGHQPDBh0DwwYdA8MGHQPDBh0DwwYdA8MGHQPDBh0DwwYdA8MGHQPDBh0DwwYdA8MGHQPDBh0DwwYdA8MGHQPDBh0DwwYdA8MGHQPDBh0DwwYdA8MGHQPDBh0DwwYdA8MGHQPDBh0DwwYdA8MGHQPDBh0DwwYdA8MGHQPDBh0DwwYdA8MGHQPDBh0DwwYdA8MGHQA==",
          "dtype": "f4"
         },
         "z": {
          "bdata": "GYU019r1jN1bDCLeSoRs3vnUit6AkojeaN1W3vE/xd37B5ldmYCaXizjFF+J+GhfPTCkX6oD2V9kRAlg8DgoYH5OSWCQiWxgFwGJYB/ynGDmMrJg2+LIYIgi4WD4DftgVF4LYRceGmHKxylhplY6YaW+S2Em7V1hn8lwYRcagmGqBIxhNBCWYR8noGHcMqphbhy0YRnNvWF1LsdhHyvQYbyu2GF+puBh4gDoYWOu7mHwoPRhgMz5YR4n/mFJ1ABihiUCYnEFA2LZVQNiVR8DYnmBAmL1fAFisxMAYl6R/GEIQPhhGD7zYWaY7WHoXedh6Z7gYdNs2WFk2dFhcvbJYajVwWEaiLlhQh6xYb+nqGFKM6Bhe86XYcCFj2FMZIdhved+YbJ5b2FijGBhuSpSYb5cRGGjJzdhHI4qYRyQHmGFKxNhA1wIYUQ3/GDExehgGVLWYC7JxGC5FrRgvyWkYCbhlGAoNIZgbBVwYIWjVGBk7zlgrtgfYJxCBmBTKNpfeXCoX+57bl/y9AxfZuKHXg==",
          "dtype": "f4"
         }
        },
        {
         "line": {
          "cmax": 609594438449430000000,
          "cmin": -47443623273325130000,
          "color": {
           "bdata": "qzIu1wGxit0k0h3eZOFj3qljg94Co3nex94z3mB4Q91OnhBeqJvHXirrMV/Xs4ZfVom6X/He81+RGhlg9ZM6YN49XmA4B4JgRgeWYEAtq2B0jMFg/zzZYMVY8mAJewZh45MUYQx8I2EWNDNh7bZDYQ/5VGHW6GZhe295YZg3hmGK449hpaiZYdpyo2EwLa1hMsK2YbIcwGG8J8lhWc/RYXsA2mGNqeFhM7roYdkj72Fb2fRhf8/5YfD8/WH/rABioPABYp3HAmJqFgNiyuQCYoNPAmIsVwFiC/v/YYKK/GFAZPhhCZLzYaof7mHvGuhh5ZLhYbiX2mH2OdNhRIrLYUWZw2Ebd7thijOzYYTdqmFTg6JhQzKaYaP2kWGo24lhOuuBYQ9cdGHUVmVhnNJWYZrYSGE2bzthd5ouYaxbImENshZhrJoLYd4QAWHIHO5gRRfbYFcAyWBoxbdgHFOnYJ+Vl2AheYhgj9RzYNesV2AWWDxgubUhYDioB2C6KtxfCc2pX7UncF86yA1f43aIXg==",
           "dtype": "f4"
          },
          "colorscale": [
           [
            0,
            "#440154"
           ],
           [
            0.1111111111111111,
            "#482878"
           ],
           [
            0.2222222222222222,
            "#3e4989"
           ],
           [
            0.3333333333333333,
            "#31688e"
           ],
           [
            0.4444444444444444,
            "#26828e"
           ],
           [
            0.5555555555555556,
            "#1f9e89"
           ],
           [
            0.6666666666666666,
            "#35b779"
           ],
           [
            0.7777777777777778,
            "#6ece58"
           ],
           [
            0.8888888888888888,
            "#b5de2b"
           ],
           [
            1,
            "#fde725"
           ]
          ],
          "showscale": false,
          "width": 4
         },
         "mode": "lines",
         "showlegend": false,
         "type": "scatter3d",
         "x": {
          "bdata": "AAAAALooDiy6KI4sFz3VLLooDi3osjEtFz1VLUbHeC26KI4t0e2fLeiysS0AeMMtFz3VLS4C5y1Gx/gtLkYFLrooDi5GCxcu0e0fLl3QKC7osjEudJU6LgB4Qy6LWkwuFz1VLqMfXi4uAmcuuuRvLkbHeC7p1IAuLkaFLnS3iS66KI4uAJqSLkYLly6LfJsu0e2fLhdfpC5d0Kguo0GtLuiysS4uJLYudJW6LroGvy4AeMMuRunHLotazC7Ry9AuFz3VLl2u2S6hH94u55DiLi0C5y5zc+suuOTvLv5V9C5Ex/guijj9LujUAC+LDQMvLkYFL9B+By90twkvFvALL7ooDi9cYRAv/5kSL6LSFC9FCxcv6EMZL4p8Gy8utR0v0O0fL3QmIi8WXyQvuZcmL1zQKC//CCsvokEtL0V6Ly/osjEvi+szLy4kNi/QXDgvdJU6LxbOPC+5Bj8vXD9BL/93Qy+isEUvRelHL+ghSi+LWkwvLpNOL9DLUC9zBFMvFj1VL7l1Vy9crlkv/+ZbLw==",
          "dtype": "f4"
         },
         "y": {
          "bdata": "4ziOQOM4jkDjOI5A4ziOQOM4jkDjOI5A4ziOQOM4jkDjOI5A4ziOQOM4jkDjOI5A4ziOQOM4jkDjOI5A4ziOQOM4jkDjOI5A4ziOQOM4jkDjOI5A4ziOQOM4jkDjOI5A4ziOQOM4jkDjOI5A4ziOQOM4jkDjOI5A4ziOQOM4jkDjOI5A4ziOQOM4jkDjOI5A4ziOQOM4jkDjOI5A4ziOQOM4jkDjOI5A4ziOQOM4jkDjOI5A4ziOQOM4jkDjOI5A4ziOQOM4jkDjOI5A4ziOQOM4jkDjOI5A4ziOQOM4jkDjOI5A4ziOQOM4jkDjOI5A4ziOQOM4jkDjOI5A4ziOQOM4jkDjOI5A4ziOQOM4jkDjOI5A4ziOQOM4jkDjOI5A4ziOQOM4jkDjOI5A4ziOQOM4jkDjOI5A4ziOQOM4jkDjOI5A4ziOQOM4jkDjOI5A4ziOQOM4jkDjOI5A4ziOQOM4jkDjOI5A4ziOQOM4jkDjOI5A4ziOQOM4jkDjOI5A4ziOQOM4jkDjOI5A4ziOQA==",
          "dtype": "f4"
         },
         "z": {
          "bdata": "qzIu1wGxit0k0h3eZOFj3qljg94Co3nex94z3mB4Q91OnhBeqJvHXirrMV/Xs4ZfVom6X/He81+RGhlg9ZM6YN49XmA4B4JgRgeWYEAtq2B0jMFg/zzZYMVY8mAJewZh45MUYQx8I2EWNDNh7bZDYQ/5VGHW6GZhe295YZg3hmGK449hpaiZYdpyo2EwLa1hMsK2YbIcwGG8J8lhWc/RYXsA2mGNqeFhM7roYdkj72Fb2fRhf8/5YfD8/WH/rABioPABYp3HAmJqFgNiyuQCYoNPAmIsVwFiC/v/YYKK/GFAZPhhCZLzYaof7mHvGuhh5ZLhYbiX2mH2OdNhRIrLYUWZw2Ebd7thijOzYYTdqmFTg6JhQzKaYaP2kWGo24lhOuuBYQ9cdGHUVmVhnNJWYZrYSGE2bzthd5ouYaxbImENshZhrJoLYd4QAWHIHO5gRRfbYFcAyWBoxbdgHFOnYJ+Vl2AheYhgj9RzYNesV2AWWDxgubUhYDioB2C6KtxfCc2pX7UncF86yA1f43aIXg==",
          "dtype": "f4"
         }
        },
        {
         "line": {
          "cmax": 609594438449430000000,
          "cmin": -47443623273325130000,
          "color": {
           "bdata": "FBQp14kriN3vSxnefs1a3nRdd95BmmHejncQ3peVhVoYeFRejU70Xj+RTl/qnphfTXbQX5wVB2B5lihgNoFMYLCrcmAhf41gibmiYKsLuWBWgdBgdyvpYLuOAWH9Mw9hqYwdYTScLGE4YjxhW9lMYX/2XWEOqW9h7e2AYZ45imFmqJNhwCidYRCopmHpErBhXVW5YcBbwmF+EsthBGfTYYFH22GAo+Jht2vpYXeS72F4C/VhL8z5Yd7L/WGqgQBivrYBYoiDAmIDzwJiNKACYi4RAmJ5IgFic6v/Ydha/GEGWvhhBrLzYb5t7mH4mehhq0TiYeh822EYUtRh29PMYdMRxWE9G71hDP+0YZHLrGGSjqRh91ScYdYqlGFGG4xhNDCEYfPkeGFT02lhKzhbYYIdTWHCij9hFoUyYfgOJmHlKBphLtEOYW8EBGEre/NgeezfYPVNzWAOj7tgHJ6qYMhommB13IpgeM13YDDrWmDi7z5gIrsjYDcvCWBqYt5flVKrX7kQcl/1yA5fBlCJXg==",
           "dtype": "f4"
          },
          "colorscale": [
           [
            0,
            "#440154"
           ],
           [
            0.1111111111111111,
            "#482878"
           ],
           [
            0.2222222222222222,
            "#3e4989"
           ],
           [
            0.3333333333333333,
            "#31688e"
           ],
           [
            0.4444444444444444,
            "#26828e"
           ],
           [
            0.5555555555555556,
            "#1f9e89"
           ],
           [
            0.6666666666666666,
            "#35b779"
           ],
           [
            0.7777777777777778,
            "#6ece58"
           ],
           [
            0.8888888888888888,
            "#b5de2b"
           ],
           [
            1,
            "#fde725"
           ]
          ],
          "showscale": false,
          "width": 4
         },
         "mode": "lines",
         "showlegend": false,
         "type": "scatter3d",
         "x": {
          "bdata": "AAAAALooDiy6KI4sFz3VLLooDi3osjEtFz1VLUbHeC26KI4t0e2fLeiysS0AeMMtFz3VLS4C5y1Gx/gtLkYFLrooDi5GCxcu0e0fLl3QKC7osjEudJU6LgB4Qy6LWkwuFz1VLqMfXi4uAmcuuuRvLkbHeC7p1IAuLkaFLnS3iS66KI4uAJqSLkYLly6LfJsu0e2fLhdfpC5d0Kguo0GtLuiysS4uJLYudJW6LroGvy4AeMMuRunHLotazC7Ry9AuFz3VLl2u2S6hH94u55DiLi0C5y5zc+suuOTvLv5V9C5Ex/guijj9LujUAC+LDQMvLkYFL9B+By90twkvFvALL7ooDi9cYRAv/5kSL6LSFC9FCxcv6EMZL4p8Gy8utR0v0O0fL3QmIi8WXyQvuZcmL1zQKC//CCsvokEtL0V6Ly/osjEvi+szLy4kNi/QXDgvdJU6LxbOPC+5Bj8vXD9BL/93Qy+isEUvRelHL+ghSi+LWkwvLpNOL9DLUC9zBFMvFj1VL7l1Vy9crlkv/+ZbLw==",
          "dtype": "f4"
         },
         "y": {
          "bdata": "1q+UQNavlEDWr5RA1q+UQNavlEDWr5RA1q+UQNavlEDWr5RA1q+UQNavlEDWr5RA1q+UQNavlEDWr5RA1q+UQNavlEDWr5RA1q+UQNavlEDWr5RA1q+UQNavlEDWr5RA1q+UQNavlEDWr5RA1q+UQNavlEDWr5RA1q+UQNavlEDWr5RA1q+UQNavlEDWr5RA1q+UQNavlEDWr5RA1q+UQNavlEDWr5RA1q+UQNavlEDWr5RA1q+UQNavlEDWr5RA1q+UQNavlEDWr5RA1q+UQNavlEDWr5RA1q+UQNavlEDWr5RA1q+UQNavlEDWr5RA1q+UQNavlEDWr5RA1q+UQNavlEDWr5RA1q+UQNavlEDWr5RA1q+UQNavlEDWr5RA1q+UQNavlEDWr5RA1q+UQNavlEDWr5RA1q+UQNavlEDWr5RA1q+UQNavlEDWr5RA1q+UQNavlEDWr5RA1q+UQNavlEDWr5RA1q+UQNavlEDWr5RA1q+UQNavlEDWr5RA1q+UQNavlEDWr5RA1q+UQA==",
          "dtype": "f4"
         },
         "z": {
          "bdata": "FBQp14kriN3vSxnefs1a3nRdd95BmmHejncQ3peVhVoYeFRejU70Xj+RTl/qnphfTXbQX5wVB2B5lihgNoFMYLCrcmAhf41gibmiYKsLuWBWgdBgdyvpYLuOAWH9Mw9hqYwdYTScLGE4YjxhW9lMYX/2XWEOqW9h7e2AYZ45imFmqJNhwCidYRCopmHpErBhXVW5YcBbwmF+EsthBGfTYYFH22GAo+Jht2vpYXeS72F4C/VhL8z5Yd7L/WGqgQBivrYBYoiDAmIDzwJiNKACYi4RAmJ5IgFic6v/Ydha/GEGWvhhBrLzYb5t7mH4mehhq0TiYeh822EYUtRh29PMYdMRxWE9G71hDP+0YZHLrGGSjqRh91ScYdYqlGFGG4xhNDCEYfPkeGFT02lhKzhbYYIdTWHCij9hFoUyYfgOJmHlKBphLtEOYW8EBGEre/NgeezfYPVNzWAOj7tgHJ6qYMhommB13IpgeM13YDDrWmDi7z5gIrsjYDcvCWBqYt5flVKrX7kQcl/1yA5fBlCJXg==",
          "dtype": "f4"
         }
        },
        {
         "line": {
          "cmax": 609594438449430000000,
          "cmin": -47443623273325130000,
          "color": {
           "bdata": "meEk11Rshd1wgxTeT1hR3hmBZ94XI0nel4PZ3QgJTF1A/YteIUgQX6jSal8wPapfGPjlX1P1E2DvuTdgOwNeYJRNg2BqrphgGBqvYNiPxmAyFN9gHbH4YM25CWFisxdhM0omYReANWGoU0VhP79VYRm4ZmGlLnhhpAeFYTUgjmEHU5dh7o+gYczFqWGt4rJhItS7YeWHxGHk68xhw+7UYet/3GEBkONhtRDqYTr172ERMvVhUb35YdGO/WHnTwBiu3UBYmI3AmJJfgJiuVACYjHGAWI13wBiqzr/YcMF/GEcJvhhJKTzYfGJ7mFr4+hhkL3iYWwm3GFrLNVhJd7NYU9KxmFLf75hQou2Ydh7rmFKXqZhBj+eYdgplmGhKY5hQUiGYSkdfWGyCG5hPGBfYXcuUWGte0Nh8002YdGoKWHkjR1hrfwRYfLyBmGr2fhgGcrkYJ+q0WCqbL9gZgCuYBhVnWB/WY1gvPh7YP1YXmDTskFgf+YlYGfWCmC3zuBffwGtXzE4dF8c9w9fBWuKXg==",
           "dtype": "f4"
          },
          "colorscale": [
           [
            0,
            "#440154"
           ],
           [
            0.1111111111111111,
            "#482878"
           ],
           [
            0.2222222222222222,
            "#3e4989"
           ],
           [
            0.3333333333333333,
            "#31688e"
           ],
           [
            0.4444444444444444,
            "#26828e"
           ],
           [
            0.5555555555555556,
            "#1f9e89"
           ],
           [
            0.6666666666666666,
            "#35b779"
           ],
           [
            0.7777777777777778,
            "#6ece58"
           ],
           [
            0.8888888888888888,
            "#b5de2b"
           ],
           [
            1,
            "#fde725"
           ]
          ],
          "showscale": false,
          "width": 4
         },
         "mode": "lines",
         "showlegend": false,
         "type": "scatter3d",
         "x": {
          "bdata": "AAAAALooDiy6KI4sFz3VLLooDi3osjEtFz1VLUbHeC26KI4t0e2fLeiysS0AeMMtFz3VLS4C5y1Gx/gtLkYFLrooDi5GCxcu0e0fLl3QKC7osjEudJU6LgB4Qy6LWkwuFz1VLqMfXi4uAmcuuuRvLkbHeC7p1IAuLkaFLnS3iS66KI4uAJqSLkYLly6LfJsu0e2fLhdfpC5d0Kguo0GtLuiysS4uJLYudJW6LroGvy4AeMMuRunHLotazC7Ry9AuFz3VLl2u2S6hH94u55DiLi0C5y5zc+suuOTvLv5V9C5Ex/guijj9LujUAC+LDQMvLkYFL9B+By90twkvFvALL7ooDi9cYRAv/5kSL6LSFC9FCxcv6EMZL4p8Gy8utR0v0O0fL3QmIi8WXyQvuZcmL1zQKC//CCsvokEtL0V6Ly/osjEvi+szLy4kNi/QXDgvdJU6LxbOPC+5Bj8vXD9BL/93Qy+isEUvRelHL+ghSi+LWkwvLpNOL9DLUC9zBFMvFj1VL7l1Vy9crlkv/+ZbLw==",
          "dtype": "f4"
         },
         "y": {
          "bdata": "yiabQMomm0DKJptAyiabQMomm0DKJptAyiabQMomm0DKJptAyiabQMomm0DKJptAyiabQMomm0DKJptAyiabQMomm0DKJptAyiabQMomm0DKJptAyiabQMomm0DKJptAyiabQMomm0DKJptAyiabQMomm0DKJptAyiabQMomm0DKJptAyiabQMomm0DKJptAyiabQMomm0DKJptAyiabQMomm0DKJptAyiabQMomm0DKJptAyiabQMomm0DKJptAyiabQMomm0DKJptAyiabQMomm0DKJptAyiabQMomm0DKJptAyiabQMomm0DKJptAyiabQMomm0DKJptAyiabQMomm0DKJptAyiabQMomm0DKJptAyiabQMomm0DKJptAyiabQMomm0DKJptAyiabQMomm0DKJptAyiabQMomm0DKJptAyiabQMomm0DKJptAyiabQMomm0DKJptAyiabQMomm0DKJptAyiabQMomm0DKJptAyiabQMomm0DKJptAyiabQMomm0DKJptAyiabQA==",
          "dtype": "f4"
         },
         "z": {
          "bdata": "meEk11Rshd1wgxTeT1hR3hmBZ94XI0nel4PZ3QgJTF1A/YteIUgQX6jSal8wPapfGPjlX1P1E2DvuTdgOwNeYJRNg2BqrphgGBqvYNiPxmAyFN9gHbH4YM25CWFisxdhM0omYReANWGoU0VhP79VYRm4ZmGlLnhhpAeFYTUgjmEHU5dh7o+gYczFqWGt4rJhItS7YeWHxGHk68xhw+7UYet/3GEBkONhtRDqYTr172ERMvVhUb35YdGO/WHnTwBiu3UBYmI3AmJJfgJiuVACYjHGAWI13wBiqzr/YcMF/GEcJvhhJKTzYfGJ7mFr4+hhkL3iYWwm3GFrLNVhJd7NYU9KxmFLf75hQou2Ydh7rmFKXqZhBj+eYdgplmGhKY5hQUiGYSkdfWGyCG5hPGBfYXcuUWGte0Nh8002YdGoKWHkjR1hrfwRYfLyBmGr2fhgGcrkYJ+q0WCqbL9gZgCuYBhVnWB/WY1gvPh7YP1YXmDTskFgf+YlYGfWCmC3zuBffwGtXzE4dF8c9w9fBWuKXg==",
          "dtype": "f4"
         }
        },
        {
         "line": {
          "cmax": 609594438449430000000,
          "cmin": -47443623273325130000,
          "color": {
           "bdata": "xFch12J5gt0XgQ/eS49H3s5DV969UTDe86SR3aTmyV3Diq1ezi0mX1hXg19+j7tf4xD7X3aQIGCQh0ZgXR1vYDcIjWCMl6NgvCu7YOG802BzSO1gwegDYXavEWEk+x9hcs4uYZkpPmE7Ck5hTWpeYWk/b2F5PYBhYgWJYafrkWF345ph/t2jYYHLrGGMm7VhGz2+YWyfxmGwsc5h4GPWYZGm3WF/a+RhQqXqYfRH8GHMSPVhip75YXdB/WGlFQBiuysBYpzhAWL+IgJih/UBYjtuAWKcjQBiSar+YRKO+2GIzPdhim3zYXt67mF8/uhhowXjYRCd3GEs0tVhuLLOYXZMx2H6rL9hp+G3YW/3r2H/+qdhTPifYcD6l2H9DJBhuDiIYcqGgGEH/nFhLFBjYUUPVWE3REdh9PU5YfIoLWHS3yBhKBsVYdrZCWFXMv5g5qnpYP4P1mAKWMNgJHSxYENVoGCq649gUyeAYCLwYWBhnERgmzQoYMibDGBzbeNfxtiuXzyddl+cURFfasSLXg==",
           "dtype": "f4"
          },
          "colorscale": [
           [
            0,
            "#440154"
           ],
           [
            0.1111111111111111,
            "#482878"
           ],
           [
            0.2222222222222222,
            "#3e4989"
           ],
           [
            0.3333333333333333,
            "#31688e"
           ],
           [
            0.4444444444444444,
            "#26828e"
           ],
           [
            0.5555555555555556,
            "#1f9e89"
           ],
           [
            0.6666666666666666,
            "#35b779"
           ],
           [
            0.7777777777777778,
            "#6ece58"
           ],
           [
            0.8888888888888888,
            "#b5de2b"
           ],
           [
            1,
            "#fde725"
           ]
          ],
          "showscale": false,
          "width": 4
         },
         "mode": "lines",
         "showlegend": false,
         "type": "scatter3d",
         "x": {
          "bdata": "AAAAALooDiy6KI4sFz3VLLooDi3osjEtFz1VLUbHeC26KI4t0e2fLeiysS0AeMMtFz3VLS4C5y1Gx/gtLkYFLrooDi5GCxcu0e0fLl3QKC7osjEudJU6LgB4Qy6LWkwuFz1VLqMfXi4uAmcuuuRvLkbHeC7p1IAuLkaFLnS3iS66KI4uAJqSLkYLly6LfJsu0e2fLhdfpC5d0Kguo0GtLuiysS4uJLYudJW6LroGvy4AeMMuRunHLotazC7Ry9AuFz3VLl2u2S6hH94u55DiLi0C5y5zc+suuOTvLv5V9C5Ex/guijj9LujUAC+LDQMvLkYFL9B+By90twkvFvALL7ooDi9cYRAv/5kSL6LSFC9FCxcv6EMZL4p8Gy8utR0v0O0fL3QmIi8WXyQvuZcmL1zQKC//CCsvokEtL0V6Ly/osjEvi+szLy4kNi/QXDgvdJU6LxbOPC+5Bj8vXD9BL/93Qy+isEUvRelHL+ghSi+LWkwvLpNOL9DLUC9zBFMvFj1VL7l1Vy9crlkv/+ZbLw==",
          "dtype": "f4"
         },
         "y": {
          "bdata": "vZ2hQL2doUC9naFAvZ2hQL2doUC9naFAvZ2hQL2doUC9naFAvZ2hQL2doUC9naFAvZ2hQL2doUC9naFAvZ2hQL2doUC9naFAvZ2hQL2doUC9naFAvZ2hQL2doUC9naFAvZ2hQL2doUC9naFAvZ2hQL2doUC9naFAvZ2hQL2doUC9naFAvZ2hQL2doUC9naFAvZ2hQL2doUC9naFAvZ2hQL2doUC9naFAvZ2hQL2doUC9naFAvZ2hQL2doUC9naFAvZ2hQL2doUC9naFAvZ2hQL2doUC9naFAvZ2hQL2doUC9naFAvZ2hQL2doUC9naFAvZ2hQL2doUC9naFAvZ2hQL2doUC9naFAvZ2hQL2doUC9naFAvZ2hQL2doUC9naFAvZ2hQL2doUC9naFAvZ2hQL2doUC9naFAvZ2hQL2doUC9naFAvZ2hQL2doUC9naFAvZ2hQL2doUC9naFAvZ2hQL2doUC9naFAvZ2hQL2doUC9naFAvZ2hQL2doUC9naFAvZ2hQL2doUC9naFAvZ2hQA==",
          "dtype": "f4"
         },
         "z": {
          "bdata": "xFch12J5gt0XgQ/eS49H3s5DV969UTDe86SR3aTmyV3Diq1ezi0mX1hXg19+j7tf4xD7X3aQIGCQh0ZgXR1vYDcIjWCMl6NgvCu7YOG802BzSO1gwegDYXavEWEk+x9hcs4uYZkpPmE7Ck5hTWpeYWk/b2F5PYBhYgWJYafrkWF345ph/t2jYYHLrGGMm7VhGz2+YWyfxmGwsc5h4GPWYZGm3WF/a+RhQqXqYfRH8GHMSPVhip75YXdB/WGlFQBiuysBYpzhAWL+IgJih/UBYjtuAWKcjQBiSar+YRKO+2GIzPdhim3zYXt67mF8/uhhowXjYRCd3GEs0tVhuLLOYXZMx2H6rL9hp+G3YW/3r2H/+qdhTPifYcD6l2H9DJBhuDiIYcqGgGEH/nFhLFBjYUUPVWE3REdh9PU5YfIoLWHS3yBhKBsVYdrZCWFXMv5g5qnpYP4P1mAKWMNgJHSxYENVoGCq649gUyeAYCLwYWBhnERgmzQoYMibDGBzbeNfxtiuXzyddl+cURFfasSLXg==",
          "dtype": "f4"
         }
        },
        {
         "line": {
          "cmax": 609594438449430000000,
          "cmin": -47443623273325130000,
          "color": {
           "bdata": "uToe1xKwft0/TAreNn493vu0Rt6yNxfeRu4S3RLOFl4V3s5egtY7X78SkV8bl8xfp+EHYA7pLGAeAlVgN9N/YPSHlmAGPa5gU/HGYPOV4GCAIftgMkgLYapxGWE+DShhbxs3YcqaRmHqh1ZhbNxmYTSOd2HAR4Rh0eeMYXWclWEJWp5hABOnYQC5r2EJPbhhiY/AYSGhyGFhYtBhgMTXYUK53mFvM+VhlCbrYZuH8GF+TPVhjGz5YaHg/GHMov9hadcAYgWBAWJFvAFiG44BYigJAWLxLQBix/v9YSv2+mGmUPdhjRLzYaNE7mFA8ehhuCPjYTHo3GFFS9ZhyVnPYbEgyGGtrMBhcwq5YUdGsWE4bKlhxYehYe2jmWEDy5FhjQaKYUxfgmEbunVhRw1nYbbDWGHm5kphcn49YaCPMGEJHiRhPCsYYS+3DGE5wAFhmIbuYHx42mCgS8dgCPS0YGpko2CSjpJg3WOCYG6qZWCep0dg1aEqYNJ8DmBlO+ZfjNawX5s9eV+Z1hJfQViNXg==",
           "dtype": "f4"
          },
          "colorscale": [
           [
            0,
            "#440154"
           ],
           [
            0.1111111111111111,
            "#482878"
           ],
           [
            0.2222222222222222,
            "#3e4989"
           ],
           [
            0.3333333333333333,
            "#31688e"
           ],
           [
            0.4444444444444444,
            "#26828e"
           ],
           [
            0.5555555555555556,
            "#1f9e89"
           ],
           [
            0.6666666666666666,
            "#35b779"
           ],
           [
            0.7777777777777778,
            "#6ece58"
           ],
           [
            0.8888888888888888,
            "#b5de2b"
           ],
           [
            1,
            "#fde725"
           ]
          ],
          "showscale": false,
          "width": 4
         },
         "mode": "lines",
         "showlegend": false,
         "type": "scatter3d",
         "x": {
          "bdata": "AAAAALooDiy6KI4sFz3VLLooDi3osjEtFz1VLUbHeC26KI4t0e2fLeiysS0AeMMtFz3VLS4C5y1Gx/gtLkYFLrooDi5GCxcu0e0fLl3QKC7osjEudJU6LgB4Qy6LWkwuFz1VLqMfXi4uAmcuuuRvLkbHeC7p1IAuLkaFLnS3iS66KI4uAJqSLkYLly6LfJsu0e2fLhdfpC5d0Kguo0GtLuiysS4uJLYudJW6LroGvy4AeMMuRunHLotazC7Ry9AuFz3VLl2u2S6hH94u55DiLi0C5y5zc+suuOTvLv5V9C5Ex/guijj9LujUAC+LDQMvLkYFL9B+By90twkvFvALL7ooDi9cYRAv/5kSL6LSFC9FCxcv6EMZL4p8Gy8utR0v0O0fL3QmIi8WXyQvuZcmL1zQKC//CCsvokEtL0V6Ly/osjEvi+szLy4kNi/QXDgvdJU6LxbOPC+5Bj8vXD9BL/93Qy+isEUvRelHL+ghSi+LWkwvLpNOL9DLUC9zBFMvFj1VL7l1Vy9crlkv/+ZbLw==",
          "dtype": "f4"
         },
         "y": {
          "bdata": "sBSoQLAUqECwFKhAsBSoQLAUqECwFKhAsBSoQLAUqECwFKhAsBSoQLAUqECwFKhAsBSoQLAUqECwFKhAsBSoQLAUqECwFKhAsBSoQLAUqECwFKhAsBSoQLAUqECwFKhAsBSoQLAUqECwFKhAsBSoQLAUqECwFKhAsBSoQLAUqECwFKhAsBSoQLAUqECwFKhAsBSoQLAUqECwFKhAsBSoQLAUqECwFKhAsBSoQLAUqECwFKhAsBSoQLAUqECwFKhAsBSoQLAUqECwFKhAsBSoQLAUqECwFKhAsBSoQLAUqECwFKhAsBSoQLAUqECwFKhAsBSoQLAUqECwFKhAsBSoQLAUqECwFKhAsBSoQLAUqECwFKhAsBSoQLAUqECwFKhAsBSoQLAUqECwFKhAsBSoQLAUqECwFKhAsBSoQLAUqECwFKhAsBSoQLAUqECwFKhAsBSoQLAUqECwFKhAsBSoQLAUqECwFKhAsBSoQLAUqECwFKhAsBSoQLAUqECwFKhAsBSoQLAUqECwFKhAsBSoQA==",
          "dtype": "f4"
         },
         "z": {
          "bdata": "uToe1xKwft0/TAreNn493vu0Rt6yNxfeRu4S3RLOFl4V3s5egtY7X78SkV8bl8xfp+EHYA7pLGAeAlVgN9N/YPSHlmAGPa5gU/HGYPOV4GCAIftgMkgLYapxGWE+DShhbxs3YcqaRmHqh1ZhbNxmYTSOd2HAR4Rh0eeMYXWclWEJWp5hABOnYQC5r2EJPbhhiY/AYSGhyGFhYtBhgMTXYUK53mFvM+VhlCbrYZuH8GF+TPVhjGz5YaHg/GHMov9hadcAYgWBAWJFvAFiG44BYigJAWLxLQBix/v9YSv2+mGmUPdhjRLzYaNE7mFA8ehhuCPjYTHo3GFFS9ZhyVnPYbEgyGGtrMBhcwq5YUdGsWE4bKlhxYehYe2jmWEDy5FhjQaKYUxfgmEbunVhRw1nYbbDWGHm5kphcn49YaCPMGEJHiRhPCsYYS+3DGE5wAFhmIbuYHx42mCgS8dgCPS0YGpko2CSjpJg3WOCYG6qZWCep0dg1aEqYNJ8DmBlO+ZfjNawX5s9eV+Z1hJfQViNXg==",
          "dtype": "f4"
         }
        },
        {
         "line": {
          "cmax": 609594438449430000000,
          "cmin": -47443623273325130000,
          "color": {
           "bdata": "FVgb11YaeN2M6wTeni8z3ijiNd4cyfvd2fUM2ieESF7G8e9ezEBRX6ybnl8mVd1f2QgSYPYAOWA1LGNgBxSIYMHOn2A+obhgiG3SYAce7WBLUQRhkngSYS4CIWGS6y9hEDM/YYzVTmGlzl5hhBdvYUmmf2ECN4hhta+QYU0zmWFLt6FhWS+qYYmOsmEzx7phPcvCYaKMymFV/dFhvA/ZYdW232Fq5uVhC5PrYWuy8GE7O/VhcyX5YWFq/GGEBP9h83cAYgYVAWKvSQFiQBoBYgqXAGI9gf9hsjD9YVpA+mF6tfZh55byYcrs7WHKwOhhYh3jYe8N3WE3ntZhHNrPYdrNyGFThcFhfQy6YftusmFJuKphWfOiYcUqm2GPaJNhA7aLYbobhGH6QnlhVJxqYWRPXGElZk5hy+hAYVPdM2EzSCdh5CsbYWOJD2ELYARhtlvzYF/f3mCkQstgX3u4YBl+pmAyPpVgbK6EYNqBaWCxz0pgZyotYLx2EGC8NOlfTPiyXxgWfF+lgxRfQCKPXg==",
           "dtype": "f4"
          },
          "colorscale": [
           [
            0,
            "#440154"
           ],
           [
            0.1111111111111111,
            "#482878"
           ],
           [
            0.2222222222222222,
            "#3e4989"
           ],
           [
            0.3333333333333333,
            "#31688e"
           ],
           [
            0.4444444444444444,
            "#26828e"
           ],
           [
            0.5555555555555556,
            "#1f9e89"
           ],
           [
            0.6666666666666666,
            "#35b779"
           ],
           [
            0.7777777777777778,
            "#6ece58"
           ],
           [
            0.8888888888888888,
            "#b5de2b"
           ],
           [
            1,
            "#fde725"
           ]
          ],
          "showscale": false,
          "width": 4
         },
         "mode": "lines",
         "showlegend": false,
         "type": "scatter3d",
         "x": {
          "bdata": "AAAAALooDiy6KI4sFz3VLLooDi3osjEtFz1VLUbHeC26KI4t0e2fLeiysS0AeMMtFz3VLS4C5y1Gx/gtLkYFLrooDi5GCxcu0e0fLl3QKC7osjEudJU6LgB4Qy6LWkwuFz1VLqMfXi4uAmcuuuRvLkbHeC7p1IAuLkaFLnS3iS66KI4uAJqSLkYLly6LfJsu0e2fLhdfpC5d0Kguo0GtLuiysS4uJLYudJW6LroGvy4AeMMuRunHLotazC7Ry9AuFz3VLl2u2S6hH94u55DiLi0C5y5zc+suuOTvLv5V9C5Ex/guijj9LujUAC+LDQMvLkYFL9B+By90twkvFvALL7ooDi9cYRAv/5kSL6LSFC9FCxcv6EMZL4p8Gy8utR0v0O0fL3QmIi8WXyQvuZcmL1zQKC//CCsvokEtL0V6Ly/osjEvi+szLy4kNi/QXDgvdJU6LxbOPC+5Bj8vXD9BL/93Qy+isEUvRelHL+ghSi+LWkwvLpNOL9DLUC9zBFMvFj1VL7l1Vy9crlkv/+ZbLw==",
          "dtype": "f4"
         },
         "y": {
          "bdata": "o4uuQKOLrkCji65Ao4uuQKOLrkCji65Ao4uuQKOLrkCji65Ao4uuQKOLrkCji65Ao4uuQKOLrkCji65Ao4uuQKOLrkCji65Ao4uuQKOLrkCji65Ao4uuQKOLrkCji65Ao4uuQKOLrkCji65Ao4uuQKOLrkCji65Ao4uuQKOLrkCji65Ao4uuQKOLrkCji65Ao4uuQKOLrkCji65Ao4uuQKOLrkCji65Ao4uuQKOLrkCji65Ao4uuQKOLrkCji65Ao4uuQKOLrkCji65Ao4uuQKOLrkCji65Ao4uuQKOLrkCji65Ao4uuQKOLrkCji65Ao4uuQKOLrkCji65Ao4uuQKOLrkCji65Ao4uuQKOLrkCji65Ao4uuQKOLrkCji65Ao4uuQKOLrkCji65Ao4uuQKOLrkCji65Ao4uuQKOLrkCji65Ao4uuQKOLrkCji65Ao4uuQKOLrkCji65Ao4uuQKOLrkCji65Ao4uuQKOLrkCji65Ao4uuQKOLrkCji65Ao4uuQKOLrkCji65Ao4uuQA==",
          "dtype": "f4"
         },
         "z": {
          "bdata": "FVgb11YaeN2M6wTeni8z3ijiNd4cyfvd2fUM2ieESF7G8e9ezEBRX6ybnl8mVd1f2QgSYPYAOWA1LGNgBxSIYMHOn2A+obhgiG3SYAce7WBLUQRhkngSYS4CIWGS6y9hEDM/YYzVTmGlzl5hhBdvYUmmf2ECN4hhta+QYU0zmWFLt6FhWS+qYYmOsmEzx7phPcvCYaKMymFV/dFhvA/ZYdW232Fq5uVhC5PrYWuy8GE7O/VhcyX5YWFq/GGEBP9h83cAYgYVAWKvSQFiQBoBYgqXAGI9gf9hsjD9YVpA+mF6tfZh55byYcrs7WHKwOhhYh3jYe8N3WE3ntZhHNrPYdrNyGFThcFhfQy6YftusmFJuKphWfOiYcUqm2GPaJNhA7aLYbobhGH6QnlhVJxqYWRPXGElZk5hy+hAYVPdM2EzSCdh5CsbYWOJD2ELYARhtlvzYF/f3mCkQstgX3u4YBl+pmAyPpVgbK6EYNqBaWCxz0pgZyotYLx2EGC8NOlfTPiyXxgWfF+lgxRfQCKPXg==",
          "dtype": "f4"
         }
        },
        {
         "line": {
          "cmax": 609594438449430000000,
          "cmin": -47443623273325130000,
          "color": {
           "bdata": "0YcY11Q6cd3Jyf7dzqwo3oTXJN4jzMjdyawOXWMIel5iYAhfUmtmXzjyq1/Ayu1fHv8bYNzZRGAlCHFgbQ+QYG3eqGBDxsJgwqLdYMlX+WBU5wphdHsZYa5iKGHclzdhHxdHYbjbVmFC4GZhaR13YcHEg2EpDIxh712UYQqxnGEE/KRhyDOtYblMtWGUOr1hofDEYTtizGGjgtNhlkXaYSSf4GE6hOZhSerrYenH8GGCFPVhpMj4YTHe+2H7T/5hMA0AYoWdAGJHywBiLJoAYlQYAGKVjP5hxEr8Ydtu+WHD/fVh3/3xYbt27WFNcehhTvfiYU0T3WE70NZhKznQYYhZyWF5PMJhTe26Yed2s2FB5Kthyj+kYbKTnGGd6ZRhmEqNYRm/hWGhnXxhUAFuYV21X2EUxFFhOzZEYX4SN2ESXiphWBweYTJPEmH+9gZhdyX4YJZA42DcOM9gBAa8YF2eqWDi9pdgwwOHYNJwbWDyD05gmcovYLSGEmBdVexfPzu1X+wif18IVhZf8B2RXg==",
           "dtype": "f4"
          },
          "colorscale": [
           [
            0,
            "#440154"
           ],
           [
            0.1111111111111111,
            "#482878"
           ],
           [
            0.2222222222222222,
            "#3e4989"
           ],
           [
            0.3333333333333333,
            "#31688e"
           ],
           [
            0.4444444444444444,
            "#26828e"
           ],
           [
            0.5555555555555556,
            "#1f9e89"
           ],
           [
            0.6666666666666666,
            "#35b779"
           ],
           [
            0.7777777777777778,
            "#6ece58"
           ],
           [
            0.8888888888888888,
            "#b5de2b"
           ],
           [
            1,
            "#fde725"
           ]
          ],
          "showscale": false,
          "width": 4
         },
         "mode": "lines",
         "showlegend": false,
         "type": "scatter3d",
         "x": {
          "bdata": "AAAAALooDiy6KI4sFz3VLLooDi3osjEtFz1VLUbHeC26KI4t0e2fLeiysS0AeMMtFz3VLS4C5y1Gx/gtLkYFLrooDi5GCxcu0e0fLl3QKC7osjEudJU6LgB4Qy6LWkwuFz1VLqMfXi4uAmcuuuRvLkbHeC7p1IAuLkaFLnS3iS66KI4uAJqSLkYLly6LfJsu0e2fLhdfpC5d0Kguo0GtLuiysS4uJLYudJW6LroGvy4AeMMuRunHLotazC7Ry9AuFz3VLl2u2S6hH94u55DiLi0C5y5zc+suuOTvLv5V9C5Ex/guijj9LujUAC+LDQMvLkYFL9B+By90twkvFvALL7ooDi9cYRAv/5kSL6LSFC9FCxcv6EMZL4p8Gy8utR0v0O0fL3QmIi8WXyQvuZcmL1zQKC//CCsvokEtL0V6Ly/osjEvi+szLy4kNi/QXDgvdJU6LxbOPC+5Bj8vXD9BL/93Qy+isEUvRelHL+ghSi+LWkwvLpNOL9DLUC9zBFMvFj1VL7l1Vy9crlkv/+ZbLw==",
          "dtype": "f4"
         },
         "y": {
          "bdata": "lgK1QJYCtUCWArVAlgK1QJYCtUCWArVAlgK1QJYCtUCWArVAlgK1QJYCtUCWArVAlgK1QJYCtUCWArVAlgK1QJYCtUCWArVAlgK1QJYCtUCWArVAlgK1QJYCtUCWArVAlgK1QJYCtUCWArVAlgK1QJYCtUCWArVAlgK1QJYCtUCWArVAlgK1QJYCtUCWArVAlgK1QJYCtUCWArVAlgK1QJYCtUCWArVAlgK1QJYCtUCWArVAlgK1QJYCtUCWArVAlgK1QJYCtUCWArVAlgK1QJYCtUCWArVAlgK1QJYCtUCWArVAlgK1QJYCtUCWArVAlgK1QJYCtUCWArVAlgK1QJYCtUCWArVAlgK1QJYCtUCWArVAlgK1QJYCtUCWArVAlgK1QJYCtUCWArVAlgK1QJYCtUCWArVAlgK1QJYCtUCWArVAlgK1QJYCtUCWArVAlgK1QJYCtUCWArVAlgK1QJYCtUCWArVAlgK1QJYCtUCWArVAlgK1QJYCtUCWArVAlgK1QJYCtUCWArVAlgK1QA==",
          "dtype": "f4"
         },
         "z": {
          "bdata": "0YcY11Q6cd3Jyf7dzqwo3oTXJN4jzMjdyawOXWMIel5iYAhfUmtmXzjyq1/Ayu1fHv8bYNzZRGAlCHFgbQ+QYG3eqGBDxsJgwqLdYMlX+WBU5wphdHsZYa5iKGHclzdhHxdHYbjbVmFC4GZhaR13YcHEg2EpDIxh712UYQqxnGEE/KRhyDOtYblMtWGUOr1hofDEYTtizGGjgtNhlkXaYSSf4GE6hOZhSerrYenH8GGCFPVhpMj4YTHe+2H7T/5hMA0AYoWdAGJHywBiLJoAYlQYAGKVjP5hxEr8Ydtu+WHD/fVh3/3xYbt27WFNcehhTvfiYU0T3WE70NZhKznQYYhZyWF5PMJhTe26Yed2s2FB5Kthyj+kYbKTnGGd6ZRhmEqNYRm/hWGhnXxhUAFuYV21X2EUxFFhOzZEYX4SN2ESXiphWBweYTJPEmH+9gZhdyX4YJZA42DcOM9gBAa8YF2eqWDi9pdgwwOHYNJwbWDyD05gmcovYLSGEmBdVexfPzu1X+wif18IVhZf8B2RXg==",
          "dtype": "f4"
         }
        },
        {
         "line": {
          "cmax": 609594438449430000000,
          "cmin": -47443623273325130000,
          "color": {
           "bdata": "RawV104Yat1ie/PdaP4d3jegE94wkpXdFb+PXUenlV7/ohhff1R7Xz8WuV+C+P1fPsUlYA11UGC4l35g/dyXYG64sWDcrcxgAJPoYLmiAmEPVBFhLlIgYZqUL2GaEz9hLclOYf2uXmF5vm5h5O9+YdSch2EfyI9hdPOXYZ0WoGEyKahhSyGwYZL0t2EmmL9hpgDHYdUizmFI89Rh8GbbYQ1z4WGcDedhCC3sYcnI8GH+2PRh4Fb4Yco8+2H5hf1hGi//YQAbAGKiQQBijQ4AYoYb/2Gzf/1hCUz7YQGE+GErLPVhbErxYbXl7GFaBuhhSLXiYUv83GF35dZhMXvQYQjIyWF41sJhELG7YSVitGEU9KxhznClYRbinWE7UZZhBceOYbxLh2EDzn9hZD9xYfD3YmFLAlVhuWdHYXcvOmFyXy1h3fsgYYEHFWGugwlho+D8YJaY52CfKtNgU5C/YLTBrGBftZpg8WCJYCpycWADZFFg4H4yYPupFGAome9fdJy3XwYwgV/TShhf00aTXg==",
           "dtype": "f4"
          },
          "colorscale": [
           [
            0,
            "#440154"
           ],
           [
            0.1111111111111111,
            "#482878"
           ],
           [
            0.2222222222222222,
            "#3e4989"
           ],
           [
            0.3333333333333333,
            "#31688e"
           ],
           [
            0.4444444444444444,
            "#26828e"
           ],
           [
            0.5555555555555556,
            "#1f9e89"
           ],
           [
            0.6666666666666666,
            "#35b779"
           ],
           [
            0.7777777777777778,
            "#6ece58"
           ],
           [
            0.8888888888888888,
            "#b5de2b"
           ],
           [
            1,
            "#fde725"
           ]
          ],
          "showscale": false,
          "width": 4
         },
         "mode": "lines",
         "showlegend": false,
         "type": "scatter3d",
         "x": {
          "bdata": "AAAAALooDiy6KI4sFz3VLLooDi3osjEtFz1VLUbHeC26KI4t0e2fLeiysS0AeMMtFz3VLS4C5y1Gx/gtLkYFLrooDi5GCxcu0e0fLl3QKC7osjEudJU6LgB4Qy6LWkwuFz1VLqMfXi4uAmcuuuRvLkbHeC7p1IAuLkaFLnS3iS66KI4uAJqSLkYLly6LfJsu0e2fLhdfpC5d0Kguo0GtLuiysS4uJLYudJW6LroGvy4AeMMuRunHLotazC7Ry9AuFz3VLl2u2S6hH94u55DiLi0C5y5zc+suuOTvLv5V9C5Ex/guijj9LujUAC+LDQMvLkYFL9B+By90twkvFvALL7ooDi9cYRAv/5kSL6LSFC9FCxcv6EMZL4p8Gy8utR0v0O0fL3QmIi8WXyQvuZcmL1zQKC//CCsvokEtL0V6Ly/osjEvi+szLy4kNi/QXDgvdJU6LxbOPC+5Bj8vXD9BL/93Qy+isEUvRelHL+ghSi+LWkwvLpNOL9DLUC9zBFMvFj1VL7l1Vy9crlkv/+ZbLw==",
          "dtype": "f4"
         },
         "y": {
          "bdata": "iXm7QIl5u0CJebtAiXm7QIl5u0CJebtAiXm7QIl5u0CJebtAiXm7QIl5u0CJebtAiXm7QIl5u0CJebtAiXm7QIl5u0CJebtAiXm7QIl5u0CJebtAiXm7QIl5u0CJebtAiXm7QIl5u0CJebtAiXm7QIl5u0CJebtAiXm7QIl5u0CJebtAiXm7QIl5u0CJebtAiXm7QIl5u0CJebtAiXm7QIl5u0CJebtAiXm7QIl5u0CJebtAiXm7QIl5u0CJebtAiXm7QIl5u0CJebtAiXm7QIl5u0CJebtAiXm7QIl5u0CJebtAiXm7QIl5u0CJebtAiXm7QIl5u0CJebtAiXm7QIl5u0CJebtAiXm7QIl5u0CJebtAiXm7QIl5u0CJebtAiXm7QIl5u0CJebtAiXm7QIl5u0CJebtAiXm7QIl5u0CJebtAiXm7QIl5u0CJebtAiXm7QIl5u0CJebtAiXm7QIl5u0CJebtAiXm7QIl5u0CJebtAiXm7QIl5u0CJebtAiXm7QIl5u0CJebtAiXm7QA==",
          "dtype": "f4"
         },
         "z": {
          "bdata": "RawV104Yat1ie/PdaP4d3jegE94wkpXdFb+PXUenlV7/ohhff1R7Xz8WuV+C+P1fPsUlYA11UGC4l35g/dyXYG64sWDcrcxgAJPoYLmiAmEPVBFhLlIgYZqUL2GaEz9hLclOYf2uXmF5vm5h5O9+YdSch2EfyI9hdPOXYZ0WoGEyKahhSyGwYZL0t2EmmL9hpgDHYdUizmFI89Rh8GbbYQ1z4WGcDedhCC3sYcnI8GH+2PRh4Fb4Yco8+2H5hf1hGi//YQAbAGKiQQBijQ4AYoYb/2Gzf/1hCUz7YQGE+GErLPVhbErxYbXl7GFaBuhhSLXiYUv83GF35dZhMXvQYQjIyWF41sJhELG7YSVitGEU9KxhznClYRbinWE7UZZhBceOYbxLh2EDzn9hZD9xYfD3YmFLAlVhuWdHYXcvOmFyXy1h3fsgYYEHFWGugwlho+D8YJaY52CfKtNgU5C/YLTBrGBftZpg8WCJYCpycWADZFFg4H4yYPupFGAome9fdJy3XwYwgV/TShhf00aTXg==",
          "dtype": "f4"
         }
        },
        {
         "line": {
          "cmax": 609594438449430000000,
          "cmin": -47443623273325130000,
          "color": {
           "bdata": "eLES1/e7Yt3h9efdUywT3ppGAt6yZkTd2AbYXT0lrl4fvihfMv2HX08Hxl9N7wZgsVsvYGLTW2Ag7oVglX2fYOZdumBRWdZg0z/zYGN0CGF3mBdhyf0mYRCZNmELYEZhkUpWYbFQZmHHanZhQEiDYTZci2HPa5NhNnGbYQxlo2HlP6thAPmyYUaHumEu4cFhsPzIYevPz2G1UNZhUHXcYSU04mE5hOdhAF3sYcK28GFxivRh2dH3YeaH+mFKqPxh5i/+YcIc/2FdW/9hvvD+Yd/w/WHGXPxh3Db6YUmC92FHQ/RhO3/wYY087GHagudhUFriYfnL3GEj4dZhaKPQYZocymF2VsNh7Vq8YbMztWGW6q1hCommYWUYn2GdoZdhOS2QYU/DiGFja4FhsVh0YboYZmHZIVhhxH1KYUA0PWHoSzBhtskjYUSxF2HNBAxhJsUAYULk62C5FNdgFBfDYAblr2C+dp1gSsOLYC+BdWDmx1Rg7UM1YOTdFmAb/PJf7hi6X53kgl8HXxpfZZiVXg==",
           "dtype": "f4"
          },
          "colorscale": [
           [
            0,
            "#440154"
           ],
           [
            0.1111111111111111,
            "#482878"
           ],
           [
            0.2222222222222222,
            "#3e4989"
           ],
           [
            0.3333333333333333,
            "#31688e"
           ],
           [
            0.4444444444444444,
            "#26828e"
           ],
           [
            0.5555555555555556,
            "#1f9e89"
           ],
           [
            0.6666666666666666,
            "#35b779"
           ],
           [
            0.7777777777777778,
            "#6ece58"
           ],
           [
            0.8888888888888888,
            "#b5de2b"
           ],
           [
            1,
            "#fde725"
           ]
          ],
          "showscale": false,
          "width": 4
         },
         "mode": "lines",
         "showlegend": false,
         "type": "scatter3d",
         "x": {
          "bdata": "AAAAALooDiy6KI4sFz3VLLooDi3osjEtFz1VLUbHeC26KI4t0e2fLeiysS0AeMMtFz3VLS4C5y1Gx/gtLkYFLrooDi5GCxcu0e0fLl3QKC7osjEudJU6LgB4Qy6LWkwuFz1VLqMfXi4uAmcuuuRvLkbHeC7p1IAuLkaFLnS3iS66KI4uAJqSLkYLly6LfJsu0e2fLhdfpC5d0Kguo0GtLuiysS4uJLYudJW6LroGvy4AeMMuRunHLotazC7Ry9AuFz3VLl2u2S6hH94u55DiLi0C5y5zc+suuOTvLv5V9C5Ex/guijj9LujUAC+LDQMvLkYFL9B+By90twkvFvALL7ooDi9cYRAv/5kSL6LSFC9FCxcv6EMZL4p8Gy8utR0v0O0fL3QmIi8WXyQvuZcmL1zQKC//CCsvokEtL0V6Ly/osjEvi+szLy4kNi/QXDgvdJU6LxbOPC+5Bj8vXD9BL/93Qy+isEUvRelHL+ghSi+LWkwvLpNOL9DLUC9zBFMvFj1VL7l1Vy9crlkv/+ZbLw==",
          "dtype": "f4"
         },
         "y": {
          "bdata": "fPDBQHzwwUB88MFAfPDBQHzwwUB88MFAfPDBQHzwwUB88MFAfPDBQHzwwUB88MFAfPDBQHzwwUB88MFAfPDBQHzwwUB88MFAfPDBQHzwwUB88MFAfPDBQHzwwUB88MFAfPDBQHzwwUB88MFAfPDBQHzwwUB88MFAfPDBQHzwwUB88MFAfPDBQHzwwUB88MFAfPDBQHzwwUB88MFAfPDBQHzwwUB88MFAfPDBQHzwwUB88MFAfPDBQHzwwUB88MFAfPDBQHzwwUB88MFAfPDBQHzwwUB88MFAfPDBQHzwwUB88MFAfPDBQHzwwUB88MFAfPDBQHzwwUB88MFAfPDBQHzwwUB88MFAfPDBQHzwwUB88MFAfPDBQHzwwUB88MFAfPDBQHzwwUB88MFAfPDBQHzwwUB88MFAfPDBQHzwwUB88MFAfPDBQHzwwUB88MFAfPDBQHzwwUB88MFAfPDBQHzwwUB88MFAfPDBQHzwwUB88MFAfPDBQHzwwUB88MFAfPDBQHzwwUB88MFAfPDBQA==",
          "dtype": "f4"
         },
         "z": {
          "bdata": "eLES1/e7Yt3h9efdUywT3ppGAt6yZkTd2AbYXT0lrl4fvihfMv2HX08Hxl9N7wZgsVsvYGLTW2Ag7oVglX2fYOZdumBRWdZg0z/zYGN0CGF3mBdhyf0mYRCZNmELYEZhkUpWYbFQZmHHanZhQEiDYTZci2HPa5NhNnGbYQxlo2HlP6thAPmyYUaHumEu4cFhsPzIYevPz2G1UNZhUHXcYSU04mE5hOdhAF3sYcK28GFxivRh2dH3YeaH+mFKqPxh5i/+YcIc/2FdW/9hvvD+Yd/w/WHGXPxh3Db6YUmC92FHQ/RhO3/wYY087GHagudhUFriYfnL3GEj4dZhaKPQYZocymF2VsNh7Vq8YbMztWGW6q1hCommYWUYn2GdoZdhOS2QYU/DiGFja4FhsVh0YboYZmHZIVhhxH1KYUA0PWHoSzBhtskjYUSxF2HNBAxhJsUAYULk62C5FNdgFBfDYAblr2C+dp1gSsOLYC+BdWDmx1Rg7UM1YOTdFmAb/PJf7hi6X53kgl8HXxpfZZiVXg==",
          "dtype": "f4"
         }
        },
        {
         "line": {
          "cmax": 609594438449430000000,
          "cmin": -47443623273325130000,
          "color": {
           "bdata": "HowP11wsW91eQtzdwz0I3meo4d2xF7vc0goQXgx4xl4grzhfhS2SX87E0l+Fvg5gucI4YHv1ZmBha4xg6vGmYKvPwmC2yd9gZ6r9YI8hDmFStR1hKX8tYQZxPWEqfk1hYZxdYQ3CbWF35n1hXwCHYbMDj2ES+JZhLtieYWmdpmFOQa5hNby1YUkGvWE+F8RhcebKYUZr0WHxnNdh2HLdYaHk4mFl6udhmXzsYV6U8GFsK/RhPTz3YUnC+WGcufthdx/9YRTy/WGcIf5h/bH9YUWz/GF/Jvth2Q35YUps9mGpRfNh657vYdZ962Fd6eZh9ujhYeWE3GG2xdZhPLTQYZJZymHDvsNhGe28YarttWG/ya5hT4qnYUU4oGE73JhhdX6RYd0mimHX3IJhdk53YZAYaWE6I1theHhNYZ0gQGHsIjNhEoUmYXVLGmEmeQ5h5A8DYcAg8GBE9NpgapfGYJEFs2BsOKBgdiiOYK6ZeWDuN1hgqhY4YPgfGWBMevZfyK28XyKthF+ijxxfRw6YXg==",
           "dtype": "f4"
          },
          "colorscale": [
           [
            0,
            "#440154"
           ],
           [
            0.1111111111111111,
            "#482878"
           ],
           [
            0.2222222222222222,
            "#3e4989"
           ],
           [
            0.3333333333333333,
            "#31688e"
           ],
           [
            0.4444444444444444,
            "#26828e"
           ],
           [
            0.5555555555555556,
            "#1f9e89"
           ],
           [
            0.6666666666666666,
            "#35b779"
           ],
           [
            0.7777777777777778,
            "#6ece58"
           ],
           [
            0.8888888888888888,
            "#b5de2b"
           ],
           [
            1,
            "#fde725"
           ]
          ],
          "showscale": false,
          "width": 4
         },
         "mode": "lines",
         "showlegend": false,
         "type": "scatter3d",
         "x": {
          "bdata": "AAAAALooDiy6KI4sFz3VLLooDi3osjEtFz1VLUbHeC26KI4t0e2fLeiysS0AeMMtFz3VLS4C5y1Gx/gtLkYFLrooDi5GCxcu0e0fLl3QKC7osjEudJU6LgB4Qy6LWkwuFz1VLqMfXi4uAmcuuuRvLkbHeC7p1IAuLkaFLnS3iS66KI4uAJqSLkYLly6LfJsu0e2fLhdfpC5d0Kguo0GtLuiysS4uJLYudJW6LroGvy4AeMMuRunHLotazC7Ry9AuFz3VLl2u2S6hH94u55DiLi0C5y5zc+suuOTvLv5V9C5Ex/guijj9LujUAC+LDQMvLkYFL9B+By90twkvFvALL7ooDi9cYRAv/5kSL6LSFC9FCxcv6EMZL4p8Gy8utR0v0O0fL3QmIi8WXyQvuZcmL1zQKC//CCsvokEtL0V6Ly/osjEvi+szLy4kNi/QXDgvdJU6LxbOPC+5Bj8vXD9BL/93Qy+isEUvRelHL+ghSi+LWkwvLpNOL9DLUC9zBFMvFj1VL7l1Vy9crlkv/+ZbLw==",
          "dtype": "f4"
         },
         "y": {
          "bdata": "cGfIQHBnyEBwZ8hAcGfIQHBnyEBwZ8hAcGfIQHBnyEBwZ8hAcGfIQHBnyEBwZ8hAcGfIQHBnyEBwZ8hAcGfIQHBnyEBwZ8hAcGfIQHBnyEBwZ8hAcGfIQHBnyEBwZ8hAcGfIQHBnyEBwZ8hAcGfIQHBnyEBwZ8hAcGfIQHBnyEBwZ8hAcGfIQHBnyEBwZ8hAcGfIQHBnyEBwZ8hAcGfIQHBnyEBwZ8hAcGfIQHBnyEBwZ8hAcGfIQHBnyEBwZ8hAcGfIQHBnyEBwZ8hAcGfIQHBnyEBwZ8hAcGfIQHBnyEBwZ8hAcGfIQHBnyEBwZ8hAcGfIQHBnyEBwZ8hAcGfIQHBnyEBwZ8hAcGfIQHBnyEBwZ8hAcGfIQHBnyEBwZ8hAcGfIQHBnyEBwZ8hAcGfIQHBnyEBwZ8hAcGfIQHBnyEBwZ8hAcGfIQHBnyEBwZ8hAcGfIQHBnyEBwZ8hAcGfIQHBnyEBwZ8hAcGfIQHBnyEBwZ8hAcGfIQHBnyEBwZ8hAcGfIQHBnyEBwZ8hAcGfIQA==",
          "dtype": "f4"
         },
         "z": {
          "bdata": "HowP11wsW91eQtzdwz0I3meo4d2xF7vc0goQXgx4xl4grzhfhS2SX87E0l+Fvg5gucI4YHv1ZmBha4xg6vGmYKvPwmC2yd9gZ6r9YI8hDmFStR1hKX8tYQZxPWEqfk1hYZxdYQ3CbWF35n1hXwCHYbMDj2ES+JZhLtieYWmdpmFOQa5hNby1YUkGvWE+F8RhcebKYUZr0WHxnNdh2HLdYaHk4mFl6udhmXzsYV6U8GFsK/RhPTz3YUnC+WGcufthdx/9YRTy/WGcIf5h/bH9YUWz/GF/Jvth2Q35YUps9mGpRfNh657vYdZ962Fd6eZh9ujhYeWE3GG2xdZhPLTQYZJZymHDvsNhGe28YarttWG/ya5hT4qnYUU4oGE73JhhdX6RYd0mimHX3IJhdk53YZAYaWE6I1theHhNYZ0gQGHsIjNhEoUmYXVLGmEmeQ5h5A8DYcAg8GBE9NpgapfGYJEFs2BsOKBgdiiOYK6ZeWDuN1hgqhY4YPgfGWBMevZfyK28XyKthF+ijxxfRw6YXg==",
          "dtype": "f4"
         }
        },
        {
         "line": {
          "cmax": 609594438449430000000,
          "cmin": -47443623273325130000,
          "color": {
           "bdata": "QzgM11twU914adDdK3P63Sukvt0eERRbGeozXuyZ3l48c0hf/TmcX9ZN31+daRZgVfpBYJvbcWDaw5JgXTquYEwOy2DA/+hgz+kDYcOqE2EyqyNh6dYzYSsdRGHOblRhg79kYQsEdWFTmYJh5aCKYQCUkmGzbZphQSmiYbvAqWGcLrFhR2y4YRpzv2EUPMZhz7/MYQX30mEy2thh/WHeYS+H42H3Quhhy47sYbBk8GElv/NhTpn2YS/v+GFKvfphKwH8YTy5/GE22fxhAGT8Yd5l+2HQ3/lh5tP3YcpE9WEANvJh+qvuYe+r6mEmPOZhXWPhYRYp3GEYldZhfK/QYaeAymHzEMRhBWm9YWKRtmHIkq9hsnWoYaVCoWHkAZphbLuSYfB2i2G+O4RhOyF6Ybj3a2FXBl5hiFdQYRD0QmHF4zVhBy0pYf7UHGGO3xBhSk8FYYJL9GClxt5gxw7KYNggtmAU+KJgSo6QYM63fWDBsFtgRfQ6YORtG2ANEPpfMFi/X4KHhl+s2R5fMqSaXg==",
           "dtype": "f4"
          },
          "colorscale": [
           [
            0,
            "#440154"
           ],
           [
            0.1111111111111111,
            "#482878"
           ],
           [
            0.2222222222222222,
            "#3e4989"
           ],
           [
            0.3333333333333333,
            "#31688e"
           ],
           [
            0.4444444444444444,
            "#26828e"
           ],
           [
            0.5555555555555556,
            "#1f9e89"
           ],
           [
            0.6666666666666666,
            "#35b779"
           ],
           [
            0.7777777777777778,
            "#6ece58"
           ],
           [
            0.8888888888888888,
            "#b5de2b"
           ],
           [
            1,
            "#fde725"
           ]
          ],
          "showscale": false,
          "width": 4
         },
         "mode": "lines",
         "showlegend": false,
         "type": "scatter3d",
         "x": {
          "bdata": "AAAAALooDiy6KI4sFz3VLLooDi3osjEtFz1VLUbHeC26KI4t0e2fLeiysS0AeMMtFz3VLS4C5y1Gx/gtLkYFLrooDi5GCxcu0e0fLl3QKC7osjEudJU6LgB4Qy6LWkwuFz1VLqMfXi4uAmcuuuRvLkbHeC7p1IAuLkaFLnS3iS66KI4uAJqSLkYLly6LfJsu0e2fLhdfpC5d0Kguo0GtLuiysS4uJLYudJW6LroGvy4AeMMuRunHLotazC7Ry9AuFz3VLl2u2S6hH94u55DiLi0C5y5zc+suuOTvLv5V9C5Ex/guijj9LujUAC+LDQMvLkYFL9B+By90twkvFvALL7ooDi9cYRAv/5kSL6LSFC9FCxcv6EMZL4p8Gy8utR0v0O0fL3QmIi8WXyQvuZcmL1zQKC//CCsvokEtL0V6Ly/osjEvi+szLy4kNi/QXDgvdJU6LxbOPC+5Bj8vXD9BL/93Qy+isEUvRelHL+ghSi+LWkwvLpNOL9DLUC9zBFMvFj1VL7l1Vy9crlkv/+ZbLw==",
          "dtype": "f4"
         },
         "y": {
          "bdata": "Yt7OQGLezkBi3s5AYt7OQGLezkBi3s5AYt7OQGLezkBi3s5AYt7OQGLezkBi3s5AYt7OQGLezkBi3s5AYt7OQGLezkBi3s5AYt7OQGLezkBi3s5AYt7OQGLezkBi3s5AYt7OQGLezkBi3s5AYt7OQGLezkBi3s5AYt7OQGLezkBi3s5AYt7OQGLezkBi3s5AYt7OQGLezkBi3s5AYt7OQGLezkBi3s5AYt7OQGLezkBi3s5AYt7OQGLezkBi3s5AYt7OQGLezkBi3s5AYt7OQGLezkBi3s5AYt7OQGLezkBi3s5AYt7OQGLezkBi3s5AYt7OQGLezkBi3s5AYt7OQGLezkBi3s5AYt7OQGLezkBi3s5AYt7OQGLezkBi3s5AYt7OQGLezkBi3s5AYt7OQGLezkBi3s5AYt7OQGLezkBi3s5AYt7OQGLezkBi3s5AYt7OQGLezkBi3s5AYt7OQGLezkBi3s5AYt7OQGLezkBi3s5AYt7OQGLezkBi3s5AYt7OQGLezkBi3s5AYt7OQA==",
          "dtype": "f4"
         },
         "z": {
          "bdata": "QzgM11twU914adDdK3P63Sukvt0eERRbGeozXuyZ3l48c0hf/TmcX9ZN31+daRZgVfpBYJvbcWDaw5JgXTquYEwOy2DA/+hgz+kDYcOqE2EyqyNh6dYzYSsdRGHOblRhg79kYQsEdWFTmYJh5aCKYQCUkmGzbZphQSmiYbvAqWGcLrFhR2y4YRpzv2EUPMZhz7/MYQX30mEy2thh/WHeYS+H42H3Quhhy47sYbBk8GElv/NhTpn2YS/v+GFKvfphKwH8YTy5/GE22fxhAGT8Yd5l+2HQ3/lh5tP3YcpE9WEANvJh+qvuYe+r6mEmPOZhXWPhYRYp3GEYldZhfK/QYaeAymHzEMRhBWm9YWKRtmHIkq9hsnWoYaVCoWHkAZphbLuSYfB2i2G+O4RhOyF6Ybj3a2FXBl5hiFdQYRD0QmHF4zVhBy0pYf7UHGGO3xBhSk8FYYJL9GClxt5gxw7KYNggtmAU+KJgSo6QYM63fWDBsFtgRfQ6YORtG2ANEPpfMFi/X4KHhl+s2R5fMqSaXg==",
          "dtype": "f4"
         }
        },
        {
         "line": {
          "cmax": 609594438449430000000,
          "cmin": -47443623273325130000,
          "color": {
           "bdata": "0rcI1zeOS90Cc8TdGEzk3SeRm91wsN9cJJZXXhyF9l64B1hfbSGmX3eh619M8B1gbgJLYNqFfGC895hgO1e1YDMa02D0+/FgDd4IYVoQGWGHeilhlAU6YRqeSmGUMlthp7RrYYwXfGEkKIZhYSqOYb0NlmF9zZ1hVGWlYQzQrGH8CLRhkwq7YUzPwWFkUchhxIrOYV111GH3CtphbEXfYbAe5GENkehh5ZbsYS8r8GEwSfNhvOz1YWES+GEft/lhwdj6YfN1+2HThfthTwr7YQwM+mH6i/hhCIz2YaYO9GHqFvFh3KjtYRXJ6WE8feVhWcvgYS2622HGUNZhfZbQYQGTymEMTsRhn8+9YaUft2FbRrBhxEupYf83omHyEpthVeSTYa6zjGEgiIVh4dB8Yc61bmG4ymBhRBpTYbetRWF7jThhhMArYcFMH2HVNhNhH4IHYQdi+GBmieJgxHrNYJo0uWCRs6Vg1fKSYATsgGBNL19gFNo9YHDFHWDVuf1faRXCX7ZxiF9HOiFfDFadXg==",
           "dtype": "f4"
          },
          "colorscale": [
           [
            0,
            "#440154"
           ],
           [
            0.1111111111111111,
            "#482878"
           ],
           [
            0.2222222222222222,
            "#3e4989"
           ],
           [
            0.3333333333333333,
            "#31688e"
           ],
           [
            0.4444444444444444,
            "#26828e"
           ],
           [
            0.5555555555555556,
            "#1f9e89"
           ],
           [
            0.6666666666666666,
            "#35b779"
           ],
           [
            0.7777777777777778,
            "#6ece58"
           ],
           [
            0.8888888888888888,
            "#b5de2b"
           ],
           [
            1,
            "#fde725"
           ]
          ],
          "showscale": false,
          "width": 4
         },
         "mode": "lines",
         "showlegend": false,
         "type": "scatter3d",
         "x": {
          "bdata": "AAAAALooDiy6KI4sFz3VLLooDi3osjEtFz1VLUbHeC26KI4t0e2fLeiysS0AeMMtFz3VLS4C5y1Gx/gtLkYFLrooDi5GCxcu0e0fLl3QKC7osjEudJU6LgB4Qy6LWkwuFz1VLqMfXi4uAmcuuuRvLkbHeC7p1IAuLkaFLnS3iS66KI4uAJqSLkYLly6LfJsu0e2fLhdfpC5d0Kguo0GtLuiysS4uJLYudJW6LroGvy4AeMMuRunHLotazC7Ry9AuFz3VLl2u2S6hH94u55DiLi0C5y5zc+suuOTvLv5V9C5Ex/guijj9LujUAC+LDQMvLkYFL9B+By90twkvFvALL7ooDi9cYRAv/5kSL6LSFC9FCxcv6EMZL4p8Gy8utR0v0O0fL3QmIi8WXyQvuZcmL1zQKC//CCsvokEtL0V6Ly/osjEvi+szLy4kNi/QXDgvdJU6LxbOPC+5Bj8vXD9BL/93Qy+isEUvRelHL+ghSi+LWkwvLpNOL9DLUC9zBFMvFj1VL7l1Vy9crlkv/+ZbLw==",
          "dtype": "f4"
         },
         "y": {
          "bdata": "VlXVQFZV1UBWVdVAVlXVQFZV1UBWVdVAVlXVQFZV1UBWVdVAVlXVQFZV1UBWVdVAVlXVQFZV1UBWVdVAVlXVQFZV1UBWVdVAVlXVQFZV1UBWVdVAVlXVQFZV1UBWVdVAVlXVQFZV1UBWVdVAVlXVQFZV1UBWVdVAVlXVQFZV1UBWVdVAVlXVQFZV1UBWVdVAVlXVQFZV1UBWVdVAVlXVQFZV1UBWVdVAVlXVQFZV1UBWVdVAVlXVQFZV1UBWVdVAVlXVQFZV1UBWVdVAVlXVQFZV1UBWVdVAVlXVQFZV1UBWVdVAVlXVQFZV1UBWVdVAVlXVQFZV1UBWVdVAVlXVQFZV1UBWVdVAVlXVQFZV1UBWVdVAVlXVQFZV1UBWVdVAVlXVQFZV1UBWVdVAVlXVQFZV1UBWVdVAVlXVQFZV1UBWVdVAVlXVQFZV1UBWVdVAVlXVQFZV1UBWVdVAVlXVQFZV1UBWVdVAVlXVQFZV1UBWVdVAVlXVQFZV1UBWVdVAVlXVQFZV1UBWVdVAVlXVQA==",
          "dtype": "f4"
         },
         "z": {
          "bdata": "0rcI1zeOS90Cc8TdGEzk3SeRm91wsN9cJJZXXhyF9l64B1hfbSGmX3eh619M8B1gbgJLYNqFfGC895hgO1e1YDMa02D0+/FgDd4IYVoQGWGHeilhlAU6YRqeSmGUMlthp7RrYYwXfGEkKIZhYSqOYb0NlmF9zZ1hVGWlYQzQrGH8CLRhkwq7YUzPwWFkUchhxIrOYV111GH3CtphbEXfYbAe5GENkehh5ZbsYS8r8GEwSfNhvOz1YWES+GEft/lhwdj6YfN1+2HThfthTwr7YQwM+mH6i/hhCIz2YaYO9GHqFvFh3KjtYRXJ6WE8feVhWcvgYS2622HGUNZhfZbQYQGTymEMTsRhn8+9YaUft2FbRrBhxEupYf83omHyEpthVeSTYa6zjGEgiIVh4dB8Yc61bmG4ymBhRBpTYbetRWF7jThhhMArYcFMH2HVNhNhH4IHYQdi+GBmieJgxHrNYJo0uWCRs6Vg1fKSYATsgGBNL19gFNo9YHDFHWDVuf1faRXCX7ZxiF9HOiFfDFadXg==",
          "dtype": "f4"
         }
        },
        {
         "line": {
          "cmax": 609594438449430000000,
          "cmin": -47443623273325130000,
          "color": {
           "bdata": "IhEF1/GLQ91zZrjdJhLO3bT+cN0ME1ZdQgR7XgYaB1/LaWdfh+KvX5m+918fUiVgrNpTYA56g2AQB59gqki8YKDz2mCivvpgJLINYZ5SHmGhIy9hdwtAYTP0UGH3yWFhbXxyYZV+gWEWoIlhUZ2RYYFxmWESGKFhMo2oYUzMr2GQ0bZhZZi9YWMcxGH/WMphS0nQYY7o1WG7Mdth5B/gYSuu5GHR1+hhUJjsYXfr72FVzfJhaDr1Ydov92ENq/hhNar5YSIs+mFPK/phoqj5YVup+GFgLvdhdjn1YcfM8mEa6+9h+ZfsYXTX6GGPruRhmyLgYaM522H8+dVhRmrQYYORymG/dsRhaSG+YdWYt2HA5LBhsgyqYWEYo2FdD5xhGfmUYeXcjWG/wYZhwlx/YSlScWF8b2Nhwr9VYZ5MSGH5HjthdD4uYZexIWHKfRVhL6cJYfBh/GA7OuZgKNnQYLQ+vGDuaKhgSVSVYJD7gmCtsGJgpsVAYIwkIGAiugBg0uLEX75pil+criNf8B+gXg==",
           "dtype": "f4"
          },
          "colorscale": [
           [
            0,
            "#440154"
           ],
           [
            0.1111111111111111,
            "#482878"
           ],
           [
            0.2222222222222222,
            "#3e4989"
           ],
           [
            0.3333333333333333,
            "#31688e"
           ],
           [
            0.4444444444444444,
            "#26828e"
           ],
           [
            0.5555555555555556,
            "#1f9e89"
           ],
           [
            0.6666666666666666,
            "#35b779"
           ],
           [
            0.7777777777777778,
            "#6ece58"
           ],
           [
            0.8888888888888888,
            "#b5de2b"
           ],
           [
            1,
            "#fde725"
           ]
          ],
          "showscale": false,
          "width": 4
         },
         "mode": "lines",
         "showlegend": false,
         "type": "scatter3d",
         "x": {
          "bdata": "AAAAALooDiy6KI4sFz3VLLooDi3osjEtFz1VLUbHeC26KI4t0e2fLeiysS0AeMMtFz3VLS4C5y1Gx/gtLkYFLrooDi5GCxcu0e0fLl3QKC7osjEudJU6LgB4Qy6LWkwuFz1VLqMfXi4uAmcuuuRvLkbHeC7p1IAuLkaFLnS3iS66KI4uAJqSLkYLly6LfJsu0e2fLhdfpC5d0Kguo0GtLuiysS4uJLYudJW6LroGvy4AeMMuRunHLotazC7Ry9AuFz3VLl2u2S6hH94u55DiLi0C5y5zc+suuOTvLv5V9C5Ex/guijj9LujUAC+LDQMvLkYFL9B+By90twkvFvALL7ooDi9cYRAv/5kSL6LSFC9FCxcv6EMZL4p8Gy8utR0v0O0fL3QmIi8WXyQvuZcmL1zQKC//CCsvokEtL0V6Ly/osjEvi+szLy4kNi/QXDgvdJU6LxbOPC+5Bj8vXD9BL/93Qy+isEUvRelHL+ghSi+LWkwvLpNOL9DLUC9zBFMvFj1VL7l1Vy9crlkv/+ZbLw==",
          "dtype": "f4"
         },
         "y": {
          "bdata": "SMzbQEjM20BIzNtASMzbQEjM20BIzNtASMzbQEjM20BIzNtASMzbQEjM20BIzNtASMzbQEjM20BIzNtASMzbQEjM20BIzNtASMzbQEjM20BIzNtASMzbQEjM20BIzNtASMzbQEjM20BIzNtASMzbQEjM20BIzNtASMzbQEjM20BIzNtASMzbQEjM20BIzNtASMzbQEjM20BIzNtASMzbQEjM20BIzNtASMzbQEjM20BIzNtASMzbQEjM20BIzNtASMzbQEjM20BIzNtASMzbQEjM20BIzNtASMzbQEjM20BIzNtASMzbQEjM20BIzNtASMzbQEjM20BIzNtASMzbQEjM20BIzNtASMzbQEjM20BIzNtASMzbQEjM20BIzNtASMzbQEjM20BIzNtASMzbQEjM20BIzNtASMzbQEjM20BIzNtASMzbQEjM20BIzNtASMzbQEjM20BIzNtASMzbQEjM20BIzNtASMzbQEjM20BIzNtASMzbQEjM20BIzNtASMzbQEjM20BIzNtASMzbQA==",
          "dtype": "f4"
         },
         "z": {
          "bdata": "IhEF1/GLQ91zZrjdJhLO3bT+cN0ME1ZdQgR7XgYaB1/LaWdfh+KvX5m+918fUiVgrNpTYA56g2AQB59gqki8YKDz2mCivvpgJLINYZ5SHmGhIy9hdwtAYTP0UGH3yWFhbXxyYZV+gWEWoIlhUZ2RYYFxmWESGKFhMo2oYUzMr2GQ0bZhZZi9YWMcxGH/WMphS0nQYY7o1WG7Mdth5B/gYSuu5GHR1+hhUJjsYXfr72FVzfJhaDr1Ydov92ENq/hhNar5YSIs+mFPK/phoqj5YVup+GFgLvdhdjn1YcfM8mEa6+9h+ZfsYXTX6GGPruRhmyLgYaM522H8+dVhRmrQYYORymG/dsRhaSG+YdWYt2HA5LBhsgyqYWEYo2FdD5xhGfmUYeXcjWG/wYZhwlx/YSlScWF8b2Nhwr9VYZ5MSGH5HjthdD4uYZexIWHKfRVhL6cJYfBh/GA7OuZgKNnQYLQ+vGDuaKhgSVSVYJD7gmCtsGJgpsVAYIwkIGAiugBg0uLEX75pil+criNf8B+gXg==",
          "dtype": "f4"
         }
        },
        {
         "line": {
          "cmax": 609594438449430000000,
          "cmin": -47443623273325130000,
          "color": {
           "bdata": "jk0B1ytvO92qSqzdStC33bb6Kt0b551dTRWPXsLQEl/tlnZfI3y5XxnSAWC6jixg44JcYCiTiGDo8aRgzg7DYMia4mAUpAFhTGYSYcdxI2HIpjRh8+hFYeMfV2FuNWhhVBd5YcfahGGDAY1hIvqUYcq/nGEaTqRhnKGrYWS2smFliblh+hbAYdlbxmGLVMxhXP3RYcVS12HzUNxhH/TgYYg45WGGGulhgZbsYSup72FXT/JhRYb0YZdL9mEvnfdhl3n4Ydbf+GGOzfhhz0L4YXtB92F3yvVhXd/zYSWC8WFCte5hwHvrYTXZ52H60eNhvmrfYdKo2mHUkdVhtyvQYdd8ymGRi8Rhwl6+YS39t2EEbrFhbbiqYafjo2Hu9pxhbfmVYTryjmE06Idh++GAYbvLc2Gh82Vh6UZYYZvPSmEhlz1hnaUwYUsCJGE6sxdhU70LYX4kAGHr1ulg2ifUYDA9v2BPFqtg8bCXYAIJhWAsMmZgmLRDYDuJImAKngJgzr3HX6xtjF/sMyZfIP6iXg==",
           "dtype": "f4"
          },
          "colorscale": [
           [
            0,
            "#440154"
           ],
           [
            0.1111111111111111,
            "#482878"
           ],
           [
            0.2222222222222222,
            "#3e4989"
           ],
           [
            0.3333333333333333,
            "#31688e"
           ],
           [
            0.4444444444444444,
            "#26828e"
           ],
           [
            0.5555555555555556,
            "#1f9e89"
           ],
           [
            0.6666666666666666,
            "#35b779"
           ],
           [
            0.7777777777777778,
            "#6ece58"
           ],
           [
            0.8888888888888888,
            "#b5de2b"
           ],
           [
            1,
            "#fde725"
           ]
          ],
          "showscale": false,
          "width": 4
         },
         "mode": "lines",
         "showlegend": false,
         "type": "scatter3d",
         "x": {
          "bdata": "AAAAALooDiy6KI4sFz3VLLooDi3osjEtFz1VLUbHeC26KI4t0e2fLeiysS0AeMMtFz3VLS4C5y1Gx/gtLkYFLrooDi5GCxcu0e0fLl3QKC7osjEudJU6LgB4Qy6LWkwuFz1VLqMfXi4uAmcuuuRvLkbHeC7p1IAuLkaFLnS3iS66KI4uAJqSLkYLly6LfJsu0e2fLhdfpC5d0Kguo0GtLuiysS4uJLYudJW6LroGvy4AeMMuRunHLotazC7Ry9AuFz3VLl2u2S6hH94u55DiLi0C5y5zc+suuOTvLv5V9C5Ex/guijj9LujUAC+LDQMvLkYFL9B+By90twkvFvALL7ooDi9cYRAv/5kSL6LSFC9FCxcv6EMZL4p8Gy8utR0v0O0fL3QmIi8WXyQvuZcmL1zQKC//CCsvokEtL0V6Ly/osjEvi+szLy4kNi/QXDgvdJU6LxbOPC+5Bj8vXD9BL/93Qy+isEUvRelHL+ghSi+LWkwvLpNOL9DLUC9zBFMvFj1VL7l1Vy9crlkv/+ZbLw==",
          "dtype": "f4"
         },
         "y": {
          "bdata": "PEPiQDxD4kA8Q+JAPEPiQDxD4kA8Q+JAPEPiQDxD4kA8Q+JAPEPiQDxD4kA8Q+JAPEPiQDxD4kA8Q+JAPEPiQDxD4kA8Q+JAPEPiQDxD4kA8Q+JAPEPiQDxD4kA8Q+JAPEPiQDxD4kA8Q+JAPEPiQDxD4kA8Q+JAPEPiQDxD4kA8Q+JAPEPiQDxD4kA8Q+JAPEPiQDxD4kA8Q+JAPEPiQDxD4kA8Q+JAPEPiQDxD4kA8Q+JAPEPiQDxD4kA8Q+JAPEPiQDxD4kA8Q+JAPEPiQDxD4kA8Q+JAPEPiQDxD4kA8Q+JAPEPiQDxD4kA8Q+JAPEPiQDxD4kA8Q+JAPEPiQDxD4kA8Q+JAPEPiQDxD4kA8Q+JAPEPiQDxD4kA8Q+JAPEPiQDxD4kA8Q+JAPEPiQDxD4kA8Q+JAPEPiQDxD4kA8Q+JAPEPiQDxD4kA8Q+JAPEPiQDxD4kA8Q+JAPEPiQDxD4kA8Q+JAPEPiQDxD4kA8Q+JAPEPiQDxD4kA8Q+JAPEPiQDxD4kA8Q+JAPEPiQA==",
          "dtype": "f4"
         },
         "z": {
          "bdata": "jk0B1ytvO92qSqzdStC33bb6Kt0b551dTRWPXsLQEl/tlnZfI3y5XxnSAWC6jixg44JcYCiTiGDo8aRgzg7DYMia4mAUpAFhTGYSYcdxI2HIpjRh8+hFYeMfV2FuNWhhVBd5YcfahGGDAY1hIvqUYcq/nGEaTqRhnKGrYWS2smFliblh+hbAYdlbxmGLVMxhXP3RYcVS12HzUNxhH/TgYYg45WGGGulhgZbsYSup72FXT/JhRYb0YZdL9mEvnfdhl3n4Ydbf+GGOzfhhz0L4YXtB92F3yvVhXd/zYSWC8WFCte5hwHvrYTXZ52H60eNhvmrfYdKo2mHUkdVhtyvQYdd8ymGRi8Rhwl6+YS39t2EEbrFhbbiqYafjo2Hu9pxhbfmVYTryjmE06Idh++GAYbvLc2Gh82Vh6UZYYZvPSmEhlz1hnaUwYUsCJGE6sxdhU70LYX4kAGHr1ulg2ifUYDA9v2BPFqtg8bCXYAIJhWAsMmZgmLRDYDuJImAKngJgzr3HX6xtjF/sMyZfIP6iXg==",
          "dtype": "f4"
         }
        },
        {
         "line": {
          "cmax": 609594438449430000000,
          "cmin": -47443623273325130000,
          "color": {
           "bdata": "pfD61i89M90RJqDd0ZCh3Wpkytz7c9BdzH+gXjdkHl9OxoJfFu3CX5moB2CspTNgu/pkYCGOjWA3uKpgsqnJYNgP6mBYzAVho/oWYQVuKGEwBDphRp5LYW8hXWFNdW5htYV/YZcgiGG2TJBhK0GYYQr5n2EUcKdhOaOuYRePtWFxMbxhfofCYf2OyGGRRc5huqjTYQq22GHfat1hosThYZrA5WEqXOlhsJTsYbdn72Hf0vFhDtTzYXFp9WFykfZh10r3Ye6U92FxcPdhhtz2YfDX9WGQY/Rh6YDyYa4x8GEHeO1hmVbqYXLQ5mFY6eJhTqXeYfwI2mFbGdVhpNvPYY1VymHgjMRh2Ie+YbVMuGEk4rFhyU6rYYyZpGFIyZ1h3uSWYTHzj2Hz+ohhsQKCYV4hdmHmVWhhfK5aYW01TWGg9D9hwPQyYaE9JmH41RlhW8MNYXAKAmFOXe1gyGTXYBYuwmDnua1gJweaYN0Sh2AvsWlgnqRGYIfxJGAJhwRg1aPKX5F7jl+NxyhfAO2lXg==",
           "dtype": "f4"
          },
          "colorscale": [
           [
            0,
            "#440154"
           ],
           [
            0.1111111111111111,
            "#482878"
           ],
           [
            0.2222222222222222,
            "#3e4989"
           ],
           [
            0.3333333333333333,
            "#31688e"
           ],
           [
            0.4444444444444444,
            "#26828e"
           ],
           [
            0.5555555555555556,
            "#1f9e89"
           ],
           [
            0.6666666666666666,
            "#35b779"
           ],
           [
            0.7777777777777778,
            "#6ece58"
           ],
           [
            0.8888888888888888,
            "#b5de2b"
           ],
           [
            1,
            "#fde725"
           ]
          ],
          "showscale": false,
          "width": 4
         },
         "mode": "lines",
         "showlegend": false,
         "type": "scatter3d",
         "x": {
          "bdata": "AAAAALooDiy6KI4sFz3VLLooDi3osjEtFz1VLUbHeC26KI4t0e2fLeiysS0AeMMtFz3VLS4C5y1Gx/gtLkYFLrooDi5GCxcu0e0fLl3QKC7osjEudJU6LgB4Qy6LWkwuFz1VLqMfXi4uAmcuuuRvLkbHeC7p1IAuLkaFLnS3iS66KI4uAJqSLkYLly6LfJsu0e2fLhdfpC5d0Kguo0GtLuiysS4uJLYudJW6LroGvy4AeMMuRunHLotazC7Ry9AuFz3VLl2u2S6hH94u55DiLi0C5y5zc+suuOTvLv5V9C5Ex/guijj9LujUAC+LDQMvLkYFL9B+By90twkvFvALL7ooDi9cYRAv/5kSL6LSFC9FCxcv6EMZL4p8Gy8utR0v0O0fL3QmIi8WXyQvuZcmL1zQKC//CCsvokEtL0V6Ly/osjEvi+szLy4kNi/QXDgvdJU6LxbOPC+5Bj8vXD9BL/93Qy+isEUvRelHL+ghSi+LWkwvLpNOL9DLUC9zBFMvFj1VL7l1Vy9crlkv/+ZbLw==",
          "dtype": "f4"
         },
         "y": {
          "bdata": "LrroQC666EAuuuhALrroQC666EAuuuhALrroQC666EAuuuhALrroQC666EAuuuhALrroQC666EAuuuhALrroQC666EAuuuhALrroQC666EAuuuhALrroQC666EAuuuhALrroQC666EAuuuhALrroQC666EAuuuhALrroQC666EAuuuhALrroQC666EAuuuhALrroQC666EAuuuhALrroQC666EAuuuhALrroQC666EAuuuhALrroQC666EAuuuhALrroQC666EAuuuhALrroQC666EAuuuhALrroQC666EAuuuhALrroQC666EAuuuhALrroQC666EAuuuhALrroQC666EAuuuhALrroQC666EAuuuhALrroQC666EAuuuhALrroQC666EAuuuhALrroQC666EAuuuhALrroQC666EAuuuhALrroQC666EAuuuhALrroQC666EAuuuhALrroQC666EAuuuhALrroQC666EAuuuhALrroQC666EAuuuhALrroQC666EAuuuhALrroQA==",
          "dtype": "f4"
         },
         "z": {
          "bdata": "pfD61i89M90RJqDd0ZCh3Wpkytz7c9BdzH+gXjdkHl9OxoJfFu3CX5moB2CspTNgu/pkYCGOjWA3uKpgsqnJYNgP6mBYzAVho/oWYQVuKGEwBDphRp5LYW8hXWFNdW5htYV/YZcgiGG2TJBhK0GYYQr5n2EUcKdhOaOuYRePtWFxMbxhfofCYf2OyGGRRc5huqjTYQq22GHfat1hosThYZrA5WEqXOlhsJTsYbdn72Hf0vFhDtTzYXFp9WFykfZh10r3Ye6U92FxcPdhhtz2YfDX9WGQY/Rh6YDyYa4x8GEHeO1hmVbqYXLQ5mFY6eJhTqXeYfwI2mFbGdVhpNvPYY1VymHgjMRh2Ie+YbVMuGEk4rFhyU6rYYyZpGFIyZ1h3uSWYTHzj2Hz+ohhsQKCYV4hdmHmVWhhfK5aYW01TWGg9D9hwPQyYaE9JmH41RlhW8MNYXAKAmFOXe1gyGTXYBYuwmDnua1gJweaYN0Sh2AvsWlgnqRGYIfxJGAJhwRg1aPKX5F7jl+NxyhfAO2lXg==",
          "dtype": "f4"
         }
        },
        {
         "line": {
          "cmax": 609594438449430000000,
          "cmin": -47443623273325130000,
          "color": {
           "bdata": "ljrz1sz6Kt2A/pPdD12L3Tjx/duIUAFeZb2xXj3SKV9SJIpfRTTMX2ViDWChljpgA0JtYPlqkmAPWrBgeBnQYPlS8WBF2AlhXW8bYZFHLWEkPD9htCtRYSj5YmHxiXRhCuSCYUJQi2H1gZNhw3KbYacdo2GAfqphmZKxYRpXuGGDyr5h6erEYf+2ymF+LdBh9EzVYSoU2mGZgd5htZPiYeRI5mGAn+lh15XsYVQq72FLW/FhSCfzYQ6N9GF4i/VhqSH2YR9P9mGQF/ZhV3n1YTJw9GH//PJhJyHxYTfe7mEFNuxh1irpYTu/5WFw9uFh0tPdYW9b2WGYkdRh1XrPYUkcymEbe8Rh8Jy+YX6HuGH+QLJhmM+rYcQ5pWENhp5hBruXYU/fkGF1+Ylh7Q+DYd5ReGEZlWphM/VcYdZ8T2FANkJhpCo1YV9iKGHM5BthIrgPYbPhA2E/y/Bg743aYI8PxWD8UbBgVVWcYKsXiWATK21ge5NJYIFbJ2CAcwZgVpLNX4GRkF/UZitfKumoXg==",
           "dtype": "f4"
          },
          "colorscale": [
           [
            0,
            "#440154"
           ],
           [
            0.1111111111111111,
            "#482878"
           ],
           [
            0.2222222222222222,
            "#3e4989"
           ],
           [
            0.3333333333333333,
            "#31688e"
           ],
           [
            0.4444444444444444,
            "#26828e"
           ],
           [
            0.5555555555555556,
            "#1f9e89"
           ],
           [
            0.6666666666666666,
            "#35b779"
           ],
           [
            0.7777777777777778,
            "#6ece58"
           ],
           [
            0.8888888888888888,
            "#b5de2b"
           ],
           [
            1,
            "#fde725"
           ]
          ],
          "showscale": false,
          "width": 4
         },
         "mode": "lines",
         "showlegend": false,
         "type": "scatter3d",
         "x": {
          "bdata": "AAAAALooDiy6KI4sFz3VLLooDi3osjEtFz1VLUbHeC26KI4t0e2fLeiysS0AeMMtFz3VLS4C5y1Gx/gtLkYFLrooDi5GCxcu0e0fLl3QKC7osjEudJU6LgB4Qy6LWkwuFz1VLqMfXi4uAmcuuuRvLkbHeC7p1IAuLkaFLnS3iS66KI4uAJqSLkYLly6LfJsu0e2fLhdfpC5d0Kguo0GtLuiysS4uJLYudJW6LroGvy4AeMMuRunHLotazC7Ry9AuFz3VLl2u2S6hH94u55DiLi0C5y5zc+suuOTvLv5V9C5Ex/guijj9LujUAC+LDQMvLkYFL9B+By90twkvFvALL7ooDi9cYRAv/5kSL6LSFC9FCxcv6EMZL4p8Gy8utR0v0O0fL3QmIi8WXyQvuZcmL1zQKC//CCsvokEtL0V6Ly/osjEvi+szLy4kNi/QXDgvdJU6LxbOPC+5Bj8vXD9BL/93Qy+isEUvRelHL+ghSi+LWkwvLpNOL9DLUC9zBFMvFj1VL7l1Vy9crlkv/+ZbLw==",
          "dtype": "f4"
         },
         "y": {
          "bdata": "IjHvQCIx70AiMe9AIjHvQCIx70AiMe9AIjHvQCIx70AiMe9AIjHvQCIx70AiMe9AIjHvQCIx70AiMe9AIjHvQCIx70AiMe9AIjHvQCIx70AiMe9AIjHvQCIx70AiMe9AIjHvQCIx70AiMe9AIjHvQCIx70AiMe9AIjHvQCIx70AiMe9AIjHvQCIx70AiMe9AIjHvQCIx70AiMe9AIjHvQCIx70AiMe9AIjHvQCIx70AiMe9AIjHvQCIx70AiMe9AIjHvQCIx70AiMe9AIjHvQCIx70AiMe9AIjHvQCIx70AiMe9AIjHvQCIx70AiMe9AIjHvQCIx70AiMe9AIjHvQCIx70AiMe9AIjHvQCIx70AiMe9AIjHvQCIx70AiMe9AIjHvQCIx70AiMe9AIjHvQCIx70AiMe9AIjHvQCIx70AiMe9AIjHvQCIx70AiMe9AIjHvQCIx70AiMe9AIjHvQCIx70AiMe9AIjHvQCIx70AiMe9AIjHvQCIx70AiMe9AIjHvQCIx70AiMe9AIjHvQA==",
          "dtype": "f4"
         },
         "z": {
          "bdata": "ljrz1sz6Kt2A/pPdD12L3Tjx/duIUAFeZb2xXj3SKV9SJIpfRTTMX2ViDWChljpgA0JtYPlqkmAPWrBgeBnQYPlS8WBF2AlhXW8bYZFHLWEkPD9htCtRYSj5YmHxiXRhCuSCYUJQi2H1gZNhw3KbYacdo2GAfqphmZKxYRpXuGGDyr5h6erEYf+2ymF+LdBh9EzVYSoU2mGZgd5htZPiYeRI5mGAn+lh15XsYVQq72FLW/FhSCfzYQ6N9GF4i/VhqSH2YR9P9mGQF/ZhV3n1YTJw9GH//PJhJyHxYTfe7mEFNuxh1irpYTu/5WFw9uFh0tPdYW9b2WGYkdRh1XrPYUkcymEbe8Rh8Jy+YX6HuGH+QLJhmM+rYcQ5pWENhp5hBruXYU/fkGF1+Ylh7Q+DYd5ReGEZlWphM/VcYdZ8T2FANkJhpCo1YV9iKGHM5BthIrgPYbPhA2E/y/Bg743aYI8PxWD8UbBgVVWcYKsXiWATK21ge5NJYIFbJ2CAcwZgVpLNX4GRkF/UZitfKumoXg==",
          "dtype": "f4"
         }
        },
        {
         "line": {
          "cmax": 609594438449430000000,
          "cmin": -47443623273325130000,
          "color": {
           "bdata": "qpDr1rKsIt2C2Yfdjntq3bomFVznLxpeC8rCXqYYNV94ZJFf3lDVXxf/EmBTYUFgl1h1YK4pl2CJ17VgVF7WYHVk+GAFyA1hqMQfYaD+MWHSTkRhipFWYVinaGGxc3phXu+FYf9pjmGAoZZhNY+eYfUtpmHFea1hPXC0YRAPu2FcVcFhFULHYeHUzGF0DdJhduvWYcRu22Hmlt9hYGPjYajT5mEJ5+lhrJzsYdbz7mGY6/BhGoPyYbO582GpjvRhdwH1YdgR9WFZxvRhmRz0YXYN82HUmfFhEcPvYYOK7WHI8ephyfrnYamn5GEU++Bh5vfcYYmh2GGm+9NhNQrPYbXRyWG4VsRhVp6+Yb2tuGGkirJhvDqsYSDEpWH0LJ9he3uYYSO2kWE+44phKQmEYSRcemEOsGxh7BlfYZ6kUWHNWkRhFUY3YV5vKmGT3h1hipoRYTWpBWG5HvRgZaHdYL/fx2DX3LJg5pmeYAUWi2BUnXBg8n5MYETFKWDcYQhgyobQX5Stkl8xDy5fWO+rXg==",
           "dtype": "f4"
          },
          "colorscale": [
           [
            0,
            "#440154"
           ],
           [
            0.1111111111111111,
            "#482878"
           ],
           [
            0.2222222222222222,
            "#3e4989"
           ],
           [
            0.3333333333333333,
            "#31688e"
           ],
           [
            0.4444444444444444,
            "#26828e"
           ],
           [
            0.5555555555555556,
            "#1f9e89"
           ],
           [
            0.6666666666666666,
            "#35b779"
           ],
           [
            0.7777777777777778,
            "#6ece58"
           ],
           [
            0.8888888888888888,
            "#b5de2b"
           ],
           [
            1,
            "#fde725"
           ]
          ],
          "showscale": false,
          "width": 4
         },
         "mode": "lines",
         "showlegend": false,
         "type": "scatter3d",
         "x": {
          "bdata": "AAAAALooDiy6KI4sFz3VLLooDi3osjEtFz1VLUbHeC26KI4t0e2fLeiysS0AeMMtFz3VLS4C5y1Gx/gtLkYFLrooDi5GCxcu0e0fLl3QKC7osjEudJU6LgB4Qy6LWkwuFz1VLqMfXi4uAmcuuuRvLkbHeC7p1IAuLkaFLnS3iS66KI4uAJqSLkYLly6LfJsu0e2fLhdfpC5d0Kguo0GtLuiysS4uJLYudJW6LroGvy4AeMMuRunHLotazC7Ry9AuFz3VLl2u2S6hH94u55DiLi0C5y5zc+suuOTvLv5V9C5Ex/guijj9LujUAC+LDQMvLkYFL9B+By90twkvFvALL7ooDi9cYRAv/5kSL6LSFC9FCxcv6EMZL4p8Gy8utR0v0O0fL3QmIi8WXyQvuZcmL1zQKC//CCsvokEtL0V6Ly/osjEvi+szLy4kNi/QXDgvdJU6LxbOPC+5Bj8vXD9BL/93Qy+isEUvRelHL+ghSi+LWkwvLpNOL9DLUC9zBFMvFj1VL7l1Vy9crlkv/+ZbLw==",
          "dtype": "f4"
         },
         "y": {
          "bdata": "Faj1QBWo9UAVqPVAFaj1QBWo9UAVqPVAFaj1QBWo9UAVqPVAFaj1QBWo9UAVqPVAFaj1QBWo9UAVqPVAFaj1QBWo9UAVqPVAFaj1QBWo9UAVqPVAFaj1QBWo9UAVqPVAFaj1QBWo9UAVqPVAFaj1QBWo9UAVqPVAFaj1QBWo9UAVqPVAFaj1QBWo9UAVqPVAFaj1QBWo9UAVqPVAFaj1QBWo9UAVqPVAFaj1QBWo9UAVqPVAFaj1QBWo9UAVqPVAFaj1QBWo9UAVqPVAFaj1QBWo9UAVqPVAFaj1QBWo9UAVqPVAFaj1QBWo9UAVqPVAFaj1QBWo9UAVqPVAFaj1QBWo9UAVqPVAFaj1QBWo9UAVqPVAFaj1QBWo9UAVqPVAFaj1QBWo9UAVqPVAFaj1QBWo9UAVqPVAFaj1QBWo9UAVqPVAFaj1QBWo9UAVqPVAFaj1QBWo9UAVqPVAFaj1QBWo9UAVqPVAFaj1QBWo9UAVqPVAFaj1QBWo9UAVqPVAFaj1QBWo9UAVqPVAFaj1QA==",
          "dtype": "f4"
         },
         "z": {
          "bdata": "qpDr1rKsIt2C2Yfdjntq3bomFVznLxpeC8rCXqYYNV94ZJFf3lDVXxf/EmBTYUFgl1h1YK4pl2CJ17VgVF7WYHVk+GAFyA1hqMQfYaD+MWHSTkRhipFWYVinaGGxc3phXu+FYf9pjmGAoZZhNY+eYfUtpmHFea1hPXC0YRAPu2FcVcFhFULHYeHUzGF0DdJhduvWYcRu22Hmlt9hYGPjYajT5mEJ5+lhrJzsYdbz7mGY6/BhGoPyYbO582GpjvRhdwH1YdgR9WFZxvRhmRz0YXYN82HUmfFhEcPvYYOK7WHI8ephyfrnYamn5GEU++Bh5vfcYYmh2GGm+9NhNQrPYbXRyWG4VsRhVp6+Yb2tuGGkirJhvDqsYSDEpWH0LJ9he3uYYSO2kWE+44phKQmEYSRcemEOsGxh7BlfYZ6kUWHNWkRhFUY3YV5vKmGT3h1hipoRYTWpBWG5HvRgZaHdYL/fx2DX3LJg5pmeYAUWi2BUnXBg8n5MYETFKWDcYQhgyobQX5Stkl8xDy5fWO+rXg==",
          "dtype": "f4"
         }
        },
        {
         "line": {
          "cmax": 609594438449430000000,
          "cmin": -47443623273325130000,
          "color": {
           "bdata": "CQnk1hNXGt1EeHfdE3Y+3bqf01y10TJeJ6LTXqg1QF/jhZhfCkLeX2B+GGCPBUhgaz59YE3Km2DEMLtge3jcYJlE/2DJmxFhwvojYX2TNmGbPElhGdBbYWQsbmF4GYBhD+WIYQJukWGaq5lhw5ahYUwqqWFBYrBhlDy3YWq3vWGS0sNhvY3JYXnpzmF95tNhaYXYYSDH3GFIrOBhXzXkYdBi52HRNOphc6vsYbbG7mFthvBhUerxYUTy8mH3nfNhRu3zYSHg82HXf/NhUcnyYa2y8WHpPPBhUmnuYSI57GGzrelhpcjmYbSL42Eb+d9hIhPcYaTc12GzWNNhuIrOYZh2yWFSIMRhfIy+YbC/uGEwv7JhPZCsYYA4pmHCvZ9h+SWZYU13kmHkt4th7+2EYSg/fGG1pW5hgBthYaqrU2EhYUZh8EU5YXpjLGEywh9hfGkTYexfB2G8VfdgP53gYNycymDNWLVgTtOgYH0MjWBiBXRgvmRPYNosLGB9UApgm37TX97NlF8OvjBfXvyuXg==",
           "dtype": "f4"
          },
          "colorscale": [
           [
            0,
            "#440154"
           ],
           [
            0.1111111111111111,
            "#482878"
           ],
           [
            0.2222222222222222,
            "#3e4989"
           ],
           [
            0.3333333333333333,
            "#31688e"
           ],
           [
            0.4444444444444444,
            "#26828e"
           ],
           [
            0.5555555555555556,
            "#1f9e89"
           ],
           [
            0.6666666666666666,
            "#35b779"
           ],
           [
            0.7777777777777778,
            "#6ece58"
           ],
           [
            0.8888888888888888,
            "#b5de2b"
           ],
           [
            1,
            "#fde725"
           ]
          ],
          "showscale": false,
          "width": 4
         },
         "mode": "lines",
         "showlegend": false,
         "type": "scatter3d",
         "x": {
          "bdata": "AAAAALooDiy6KI4sFz3VLLooDi3osjEtFz1VLUbHeC26KI4t0e2fLeiysS0AeMMtFz3VLS4C5y1Gx/gtLkYFLrooDi5GCxcu0e0fLl3QKC7osjEudJU6LgB4Qy6LWkwuFz1VLqMfXi4uAmcuuuRvLkbHeC7p1IAuLkaFLnS3iS66KI4uAJqSLkYLly6LfJsu0e2fLhdfpC5d0Kguo0GtLuiysS4uJLYudJW6LroGvy4AeMMuRunHLotazC7Ry9AuFz3VLl2u2S6hH94u55DiLi0C5y5zc+suuOTvLv5V9C5Ex/guijj9LujUAC+LDQMvLkYFL9B+By90twkvFvALL7ooDi9cYRAv/5kSL6LSFC9FCxcv6EMZL4p8Gy8utR0v0O0fL3QmIi8WXyQvuZcmL1zQKC//CCsvokEtL0V6Ly/osjEvi+szLy4kNi/QXDgvdJU6LxbOPC+5Bj8vXD9BL/93Qy+isEUvRelHL+ghSi+LWkwvLpNOL9DLUC9zBFMvFj1VL7l1Vy9crlkv/+ZbLw==",
          "dtype": "f4"
         },
         "y": {
          "bdata": "CB/8QAgf/EAIH/xACB/8QAgf/EAIH/xACB/8QAgf/EAIH/xACB/8QAgf/EAIH/xACB/8QAgf/EAIH/xACB/8QAgf/EAIH/xACB/8QAgf/EAIH/xACB/8QAgf/EAIH/xACB/8QAgf/EAIH/xACB/8QAgf/EAIH/xACB/8QAgf/EAIH/xACB/8QAgf/EAIH/xACB/8QAgf/EAIH/xACB/8QAgf/EAIH/xACB/8QAgf/EAIH/xACB/8QAgf/EAIH/xACB/8QAgf/EAIH/xACB/8QAgf/EAIH/xACB/8QAgf/EAIH/xACB/8QAgf/EAIH/xACB/8QAgf/EAIH/xACB/8QAgf/EAIH/xACB/8QAgf/EAIH/xACB/8QAgf/EAIH/xACB/8QAgf/EAIH/xACB/8QAgf/EAIH/xACB/8QAgf/EAIH/xACB/8QAgf/EAIH/xACB/8QAgf/EAIH/xACB/8QAgf/EAIH/xACB/8QAgf/EAIH/xACB/8QAgf/EAIH/xACB/8QAgf/EAIH/xACB/8QA==",
          "dtype": "f4"
         },
         "z": {
          "bdata": "CQnk1hNXGt1EeHfdE3Y+3bqf01y10TJeJ6LTXqg1QF/jhZhfCkLeX2B+GGCPBUhgaz59YE3Km2DEMLtge3jcYJlE/2DJmxFhwvojYX2TNmGbPElhGdBbYWQsbmF4GYBhD+WIYQJukWGaq5lhw5ahYUwqqWFBYrBhlDy3YWq3vWGS0sNhvY3JYXnpzmF95tNhaYXYYSDH3GFIrOBhXzXkYdBi52HRNOphc6vsYbbG7mFthvBhUerxYUTy8mH3nfNhRu3zYSHg82HXf/NhUcnyYa2y8WHpPPBhUmnuYSI57GGzrelhpcjmYbSL42Eb+d9hIhPcYaTc12GzWNNhuIrOYZh2yWFSIMRhfIy+YbC/uGEwv7JhPZCsYYA4pmHCvZ9h+SWZYU13kmHkt4th7+2EYSg/fGG1pW5hgBthYaqrU2EhYUZh8EU5YXpjLGEywh9hfGkTYexfB2G8VfdgP53gYNycymDNWLVgTtOgYH0MjWBiBXRgvmRPYNosLGB9UApgm37TX97NlF8OvjBfXvyuXg==",
          "dtype": "f4"
         }
        },
        {
         "line": {
          "cmax": 609594438449430000000,
          "cmin": -47443623273325130000,
          "color": {
           "bdata": "SLfc1tz9Ed3rVV/dKLgS3RfBLV0vMEtemkLkXp8nS1/Ph59fNgfnXwzgHWBMg05gynmCYPhMoGD7ZcBgM2jiYOj5AmHRUxVh8REoYXEGO2HFBU5hu+dgYa2Ic2EI5IJhUsWLYYxclGF2oJxhs4mkYecSrGFBOLNh8fe5YZVQwGGbQsZhcM7LYXz10GFYudVhrxvaYV0e3mH7wuFhCQvlYeD352GYiuphEcTsYQml7mH2LfBhNl/xYS858mHzu/JhsefyYaK88mGuRvJhJILxYYFi8GHW6O5hcRbtYXLs6mEEbOhhiJblYVlt4mFG8t5hHifbYSwO12EFqtJhdP3NYdgLyWGm2MNh6We+YcK9uGHx3rJhQtCsYfKWpmFyOKBhXLqZYZoik2EYd4xh572FYRr6fWE2dXBhCvliYf2QVWE4SEhhLik7Yao9LmGdjiFh+CMVYdgECWFPbvpgmH/jYB5FzWAqxLdg/v+iYKL5jmCwYHdgoEJSYFOQLmDFPQxgK3fWX2rwll/XcDNfNw2yXg==",
           "dtype": "f4"
          },
          "colorscale": [
           [
            0,
            "#440154"
           ],
           [
            0.1111111111111111,
            "#482878"
           ],
           [
            0.2222222222222222,
            "#3e4989"
           ],
           [
            0.3333333333333333,
            "#31688e"
           ],
           [
            0.4444444444444444,
            "#26828e"
           ],
           [
            0.5555555555555556,
            "#1f9e89"
           ],
           [
            0.6666666666666666,
            "#35b779"
           ],
           [
            0.7777777777777778,
            "#6ece58"
           ],
           [
            0.8888888888888888,
            "#b5de2b"
           ],
           [
            1,
            "#fde725"
           ]
          ],
          "showscale": false,
          "width": 4
         },
         "mode": "lines",
         "showlegend": false,
         "type": "scatter3d",
         "x": {
          "bdata": "AAAAALooDiy6KI4sFz3VLLooDi3osjEtFz1VLUbHeC26KI4t0e2fLeiysS0AeMMtFz3VLS4C5y1Gx/gtLkYFLrooDi5GCxcu0e0fLl3QKC7osjEudJU6LgB4Qy6LWkwuFz1VLqMfXi4uAmcuuuRvLkbHeC7p1IAuLkaFLnS3iS66KI4uAJqSLkYLly6LfJsu0e2fLhdfpC5d0Kguo0GtLuiysS4uJLYudJW6LroGvy4AeMMuRunHLotazC7Ry9AuFz3VLl2u2S6hH94u55DiLi0C5y5zc+suuOTvLv5V9C5Ex/guijj9LujUAC+LDQMvLkYFL9B+By90twkvFvALL7ooDi9cYRAv/5kSL6LSFC9FCxcv6EMZL4p8Gy8utR0v0O0fL3QmIi8WXyQvuZcmL1zQKC//CCsvokEtL0V6Ly/osjEvi+szLy4kNi/QXDgvdJU6LxbOPC+5Bj8vXD9BL/93Qy+isEUvRelHL+ghSi+LWkwvLpNOL9DLUC9zBFMvFj1VL7l1Vy9crlkv/+ZbLw==",
          "dtype": "f4"
         },
         "y": {
          "bdata": "/koBQf5KAUH+SgFB/koBQf5KAUH+SgFB/koBQf5KAUH+SgFB/koBQf5KAUH+SgFB/koBQf5KAUH+SgFB/koBQf5KAUH+SgFB/koBQf5KAUH+SgFB/koBQf5KAUH+SgFB/koBQf5KAUH+SgFB/koBQf5KAUH+SgFB/koBQf5KAUH+SgFB/koBQf5KAUH+SgFB/koBQf5KAUH+SgFB/koBQf5KAUH+SgFB/koBQf5KAUH+SgFB/koBQf5KAUH+SgFB/koBQf5KAUH+SgFB/koBQf5KAUH+SgFB/koBQf5KAUH+SgFB/koBQf5KAUH+SgFB/koBQf5KAUH+SgFB/koBQf5KAUH+SgFB/koBQf5KAUH+SgFB/koBQf5KAUH+SgFB/koBQf5KAUH+SgFB/koBQf5KAUH+SgFB/koBQf5KAUH+SgFB/koBQf5KAUH+SgFB/koBQf5KAUH+SgFB/koBQf5KAUH+SgFB/koBQf5KAUH+SgFB/koBQf5KAUH+SgFB/koBQf5KAUH+SgFB/koBQQ==",
          "dtype": "f4"
         },
         "z": {
          "bdata": "SLfc1tz9Ed3rVV/dKLgS3RfBLV0vMEtemkLkXp8nS1/Ph59fNgfnXwzgHWBMg05gynmCYPhMoGD7ZcBgM2jiYOj5AmHRUxVh8REoYXEGO2HFBU5hu+dgYa2Ic2EI5IJhUsWLYYxclGF2oJxhs4mkYecSrGFBOLNh8fe5YZVQwGGbQsZhcM7LYXz10GFYudVhrxvaYV0e3mH7wuFhCQvlYeD352GYiuphEcTsYQml7mH2LfBhNl/xYS858mHzu/JhsefyYaK88mGuRvJhJILxYYFi8GHW6O5hcRbtYXLs6mEEbOhhiJblYVlt4mFG8t5hHifbYSwO12EFqtJhdP3NYdgLyWGm2MNh6We+YcK9uGHx3rJhQtCsYfKWpmFyOKBhXLqZYZoik2EYd4xh572FYRr6fWE2dXBhCvliYf2QVWE4SEhhLik7Yao9LmGdjiFh+CMVYdgECWFPbvpgmH/jYB5FzWAqxLdg/v+iYKL5jmCwYHdgoEJSYFOQLmDFPQxgK3fWX2rwll/XcDNfNw2yXg==",
          "dtype": "f4"
         }
        },
        {
         "line": {
          "cmax": 609594438449430000000,
          "cmin": -47443623273325130000,
          "color": {
           "bdata": "GKzV1o+kCd1CVEfdk53O3P8LcV0oRmNepqj0XjvtVV+waaZf8Z/vXwskI2CU2lRgLDyGYOyxpGCHd8Vg/i3oYFE5BmFu8BhhlQosYe5XP2HOqlJh69hlYaS8eGHHmYVhY5COYdI1l2FXgJ9hPminYRLormEQ/LVhsaK8YfbawmHkpchhpATOYWr50mGwhtdhCq/bYUZ132H32+JhguXlYRiU6GG66ephA+jsYWSQ7mEC5O9hwOPwYX6Q8WG56vFh+fLxYaSp8WE9HfFhZUnwYUQf72Hmn+1hsszrYa6m6WHeLudhd2bkYX5O4WFd6N1hfDXaYaU31mHn8NFhlGPNYYCSyGGbgMNhazG+YZaouGFe6rJhIvusYbTfpmEcnaBhrDiaYfi3k2G5II1h2HiGYX6Mf2HaHXJhy7FkYcZTV2E+D0ph7e48YQL9L2HnQiNhB8kWYQSXCmGhZv1gsEbmYNPWz2BZHbpgch6lYBXckGCorHpgURZVYLntMGAIKA5g3G3ZX0cTmV8QJTZf8B61Xg==",
           "dtype": "f4"
          },
          "colorscale": [
           [
            0,
            "#440154"
           ],
           [
            0.1111111111111111,
            "#482878"
           ],
           [
            0.2222222222222222,
            "#3e4989"
           ],
           [
            0.3333333333333333,
            "#31688e"
           ],
           [
            0.4444444444444444,
            "#26828e"
           ],
           [
            0.5555555555555556,
            "#1f9e89"
           ],
           [
            0.6666666666666666,
            "#35b779"
           ],
           [
            0.7777777777777778,
            "#6ece58"
           ],
           [
            0.8888888888888888,
            "#b5de2b"
           ],
           [
            1,
            "#fde725"
           ]
          ],
          "showscale": false,
          "width": 4
         },
         "mode": "lines",
         "showlegend": false,
         "type": "scatter3d",
         "x": {
          "bdata": "AAAAALooDiy6KI4sFz3VLLooDi3osjEtFz1VLUbHeC26KI4t0e2fLeiysS0AeMMtFz3VLS4C5y1Gx/gtLkYFLrooDi5GCxcu0e0fLl3QKC7osjEudJU6LgB4Qy6LWkwuFz1VLqMfXi4uAmcuuuRvLkbHeC7p1IAuLkaFLnS3iS66KI4uAJqSLkYLly6LfJsu0e2fLhdfpC5d0Kguo0GtLuiysS4uJLYudJW6LroGvy4AeMMuRunHLotazC7Ry9AuFz3VLl2u2S6hH94u55DiLi0C5y5zc+suuOTvLv5V9C5Ex/guijj9LujUAC+LDQMvLkYFL9B+By90twkvFvALL7ooDi9cYRAv/5kSL6LSFC9FCxcv6EMZL4p8Gy8utR0v0O0fL3QmIi8WXyQvuZcmL1zQKC//CCsvokEtL0V6Ly/osjEvi+szLy4kNi/QXDgvdJU6LxbOPC+5Bj8vXD9BL/93Qy+isEUvRelHL+ghSi+LWkwvLpNOL9DLUC9zBFMvFj1VL7l1Vy9crlkv/+ZbLw==",
          "dtype": "f4"
         },
         "y": {
          "bdata": "d4YEQXeGBEF3hgRBd4YEQXeGBEF3hgRBd4YEQXeGBEF3hgRBd4YEQXeGBEF3hgRBd4YEQXeGBEF3hgRBd4YEQXeGBEF3hgRBd4YEQXeGBEF3hgRBd4YEQXeGBEF3hgRBd4YEQXeGBEF3hgRBd4YEQXeGBEF3hgRBd4YEQXeGBEF3hgRBd4YEQXeGBEF3hgRBd4YEQXeGBEF3hgRBd4YEQXeGBEF3hgRBd4YEQXeGBEF3hgRBd4YEQXeGBEF3hgRBd4YEQXeGBEF3hgRBd4YEQXeGBEF3hgRBd4YEQXeGBEF3hgRBd4YEQXeGBEF3hgRBd4YEQXeGBEF3hgRBd4YEQXeGBEF3hgRBd4YEQXeGBEF3hgRBd4YEQXeGBEF3hgRBd4YEQXeGBEF3hgRBd4YEQXeGBEF3hgRBd4YEQXeGBEF3hgRBd4YEQXeGBEF3hgRBd4YEQXeGBEF3hgRBd4YEQXeGBEF3hgRBd4YEQXeGBEF3hgRBd4YEQXeGBEF3hgRBd4YEQXeGBEF3hgRBd4YEQQ==",
          "dtype": "f4"
         },
         "z": {
          "bdata": "GKzV1o+kCd1CVEfdk53O3P8LcV0oRmNepqj0XjvtVV+waaZf8Z/vXwskI2CU2lRgLDyGYOyxpGCHd8Vg/i3oYFE5BmFu8BhhlQosYe5XP2HOqlJh69hlYaS8eGHHmYVhY5COYdI1l2FXgJ9hPminYRLormEQ/LVhsaK8YfbawmHkpchhpATOYWr50mGwhtdhCq/bYUZ132H32+JhguXlYRiU6GG66ephA+jsYWSQ7mEC5O9hwOPwYX6Q8WG56vFh+fLxYaSp8WE9HfFhZUnwYUQf72Hmn+1hsszrYa6m6WHeLudhd2bkYX5O4WFd6N1hfDXaYaU31mHn8NFhlGPNYYCSyGGbgMNhazG+YZaouGFe6rJhIvusYbTfpmEcnaBhrDiaYfi3k2G5II1h2HiGYX6Mf2HaHXJhy7FkYcZTV2E+D0ph7e48YQL9L2HnQiNhB8kWYQSXCmGhZv1gsEbmYNPWz2BZHbpgch6lYBXckGCorHpgURZVYLntMGAIKA5g3G3ZX0cTmV8QJTZf8B61Xg==",
          "dtype": "f4"
         }
        },
        {
         "line": {
          "cmax": 609594438449430000000,
          "cmin": -47443623273325130000,
          "color": {
           "bdata": "wfTO1oNOAd0Eey/dORhx3GnQmV0XD3te52gCX2GFYF8KK61f7Qv4X09KKGCMC1tgf+aJYGX5qGDBZcpgTsrtYM9gCWH6cRxhFeUvYViIQ2EfLFdhJ6RqYcjIfWHyOohhgUaRYRX6mWF7S6JhpTKqYQeqsWHrrbhhAj2/YcFWxWGz/MphqzDQYaD11GHlTtlh8D/dYXbM4GHg9+Nhg8XmYWI46WE9U+thcxjtYRyK7mHuqe9hZXnwYcz58GH/K/Fh2RDxYQKp8GFlBfBhICHvYfvq7WEsZOxhGY7qYchp6GE6+OVhVDrjYfMw4GEe3dxh2j/ZYY1a1WHKLtFhaL7MYbYLyGEvGcNh4um9YeqAuGEg4rJhaBGtYSwTp2ET7KBhFKGaYYE3lGHMtI1htR6HYQJ7gGFMn3NhREVmYXHzWGF+tUthaZY+YbugMWE93iRh11cYYZ4VDGGAHgBh1fDoYFZQ0mC7YrxgKi2nYHGykmDQ5n1gk91XYBFDM2CpDRBgDmDcX4M0m18o2DhfuC64Xg==",
           "dtype": "f4"
          },
          "colorscale": [
           [
            0,
            "#440154"
           ],
           [
            0.1111111111111111,
            "#482878"
           ],
           [
            0.2222222222222222,
            "#3e4989"
           ],
           [
            0.3333333333333333,
            "#31688e"
           ],
           [
            0.4444444444444444,
            "#26828e"
           ],
           [
            0.5555555555555556,
            "#1f9e89"
           ],
           [
            0.6666666666666666,
            "#35b779"
           ],
           [
            0.7777777777777778,
            "#6ece58"
           ],
           [
            0.8888888888888888,
            "#b5de2b"
           ],
           [
            1,
            "#fde725"
           ]
          ],
          "showscale": false,
          "width": 4
         },
         "mode": "lines",
         "showlegend": false,
         "type": "scatter3d",
         "x": {
          "bdata": "AAAAALooDiy6KI4sFz3VLLooDi3osjEtFz1VLUbHeC26KI4t0e2fLeiysS0AeMMtFz3VLS4C5y1Gx/gtLkYFLrooDi5GCxcu0e0fLl3QKC7osjEudJU6LgB4Qy6LWkwuFz1VLqMfXi4uAmcuuuRvLkbHeC7p1IAuLkaFLnS3iS66KI4uAJqSLkYLly6LfJsu0e2fLhdfpC5d0Kguo0GtLuiysS4uJLYudJW6LroGvy4AeMMuRunHLotazC7Ry9AuFz3VLl2u2S6hH94u55DiLi0C5y5zc+suuOTvLv5V9C5Ex/guijj9LujUAC+LDQMvLkYFL9B+By90twkvFvALL7ooDi9cYRAv/5kSL6LSFC9FCxcv6EMZL4p8Gy8utR0v0O0fL3QmIi8WXyQvuZcmL1zQKC//CCsvokEtL0V6Ly/osjEvi+szLy4kNi/QXDgvdJU6LxbOPC+5Bj8vXD9BL/93Qy+isEUvRelHL+ghSi+LWkwvLpNOL9DLUC9zBFMvFj1VL7l1Vy9crlkv/+ZbLw==",
          "dtype": "f4"
         },
         "y": {
          "bdata": "8MEHQfDBB0HwwQdB8MEHQfDBB0HwwQdB8MEHQfDBB0HwwQdB8MEHQfDBB0HwwQdB8MEHQfDBB0HwwQdB8MEHQfDBB0HwwQdB8MEHQfDBB0HwwQdB8MEHQfDBB0HwwQdB8MEHQfDBB0HwwQdB8MEHQfDBB0HwwQdB8MEHQfDBB0HwwQdB8MEHQfDBB0HwwQdB8MEHQfDBB0HwwQdB8MEHQfDBB0HwwQdB8MEHQfDBB0HwwQdB8MEHQfDBB0HwwQdB8MEHQfDBB0HwwQdB8MEHQfDBB0HwwQdB8MEHQfDBB0HwwQdB8MEHQfDBB0HwwQdB8MEHQfDBB0HwwQdB8MEHQfDBB0HwwQdB8MEHQfDBB0HwwQdB8MEHQfDBB0HwwQdB8MEHQfDBB0HwwQdB8MEHQfDBB0HwwQdB8MEHQfDBB0HwwQdB8MEHQfDBB0HwwQdB8MEHQfDBB0HwwQdB8MEHQfDBB0HwwQdB8MEHQfDBB0HwwQdB8MEHQfDBB0HwwQdB8MEHQfDBB0HwwQdB8MEHQQ==",
          "dtype": "f4"
         },
         "z": {
          "bdata": "wfTO1oNOAd0Eey/dORhx3GnQmV0XD3te52gCX2GFYF8KK61f7Qv4X09KKGCMC1tgf+aJYGX5qGDBZcpgTsrtYM9gCWH6cRxhFeUvYViIQ2EfLFdhJ6RqYcjIfWHyOohhgUaRYRX6mWF7S6JhpTKqYQeqsWHrrbhhAj2/YcFWxWGz/MphqzDQYaD11GHlTtlh8D/dYXbM4GHg9+Nhg8XmYWI46WE9U+thcxjtYRyK7mHuqe9hZXnwYcz58GH/K/Fh2RDxYQKp8GFlBfBhICHvYfvq7WEsZOxhGY7qYchp6GE6+OVhVDrjYfMw4GEe3dxh2j/ZYY1a1WHKLtFhaL7MYbYLyGEvGcNh4um9YeqAuGEg4rJhaBGtYSwTp2ET7KBhFKGaYYE3lGHMtI1htR6HYQJ7gGFMn3NhREVmYXHzWGF+tUthaZY+YbugMWE93iRh11cYYZ4VDGGAHgBh1fDoYFZQ0mC7YrxgKi2nYHGykmDQ5n1gk91XYBFDM2CpDRBgDmDcX4M0m18o2DhfuC64Xg==",
          "dtype": "f4"
         }
        },
        {
         "line": {
          "cmax": 609594438449430000000,
          "cmin": -47443623273325130000,
          "color": {
           "bdata": "GpvI1nH98dz00BfddUWN2864ul13Q4leB14KXwbval99y7NfhiUAYOxSLWBpFmFg+3iNYL4jrWAfMc9gtD3zYMBwDGHX2B9h3aEzYSqYR2FFilth6klvYdNWgWHTx4ph9OeTYZ6pnGEhAqVhI+msYf5YtGEFTrthJMfBYS3Ex2E6R81htlLSYWLq1mFEEtthuM7eYUIk4mEuF+VhkqvnYUfl6WHEx+thG1btYQKT7mG8gO9hQCHwYUd28GENgfBhuELwYS2872G4AO9h4QruYUfH7GFQN+thYVzpYY8352HHyeRh2hPiYV8W32El0tth1kfYYXF41GEXZdBhPQ/MYbh4x2GOo8JhUZK9YatHuGEAx7JhwROtYe8xp2HOJaFh+fOaYXmhlGF+M45hjq+HYVcbgWFh+XRhKLNnYZdvWmF7Ok1hCx9AYSMoM2HoXyZhns8ZYdJ/DWHmdwFhbXzrYBCw1GDYkr5guSqpYFl7lGBQhoBgI5ZaYGaONWD57BFgEUvfXyVSnV+4hztf2zm7Xg==",
           "dtype": "f4"
          },
          "colorscale": [
           [
            0,
            "#440154"
           ],
           [
            0.1111111111111111,
            "#482878"
           ],
           [
            0.2222222222222222,
            "#3e4989"
           ],
           [
            0.3333333333333333,
            "#31688e"
           ],
           [
            0.4444444444444444,
            "#26828e"
           ],
           [
            0.5555555555555556,
            "#1f9e89"
           ],
           [
            0.6666666666666666,
            "#35b779"
           ],
           [
            0.7777777777777778,
            "#6ece58"
           ],
           [
            0.8888888888888888,
            "#b5de2b"
           ],
           [
            1,
            "#fde725"
           ]
          ],
          "showscale": false,
          "width": 4
         },
         "mode": "lines",
         "showlegend": false,
         "type": "scatter3d",
         "x": {
          "bdata": "AAAAALooDiy6KI4sFz3VLLooDi3osjEtFz1VLUbHeC26KI4t0e2fLeiysS0AeMMtFz3VLS4C5y1Gx/gtLkYFLrooDi5GCxcu0e0fLl3QKC7osjEudJU6LgB4Qy6LWkwuFz1VLqMfXi4uAmcuuuRvLkbHeC7p1IAuLkaFLnS3iS66KI4uAJqSLkYLly6LfJsu0e2fLhdfpC5d0Kguo0GtLuiysS4uJLYudJW6LroGvy4AeMMuRunHLotazC7Ry9AuFz3VLl2u2S6hH94u55DiLi0C5y5zc+suuOTvLv5V9C5Ex/guijj9LujUAC+LDQMvLkYFL9B+By90twkvFvALL7ooDi9cYRAv/5kSL6LSFC9FCxcv6EMZL4p8Gy8utR0v0O0fL3QmIi8WXyQvuZcmL1zQKC//CCsvokEtL0V6Ly/osjEvi+szLy4kNi/QXDgvdJU6LxbOPC+5Bj8vXD9BL/93Qy+isEUvRelHL+ghSi+LWkwvLpNOL9DLUC9zBFMvFj1VL7l1Vy9crlkv/+ZbLw==",
          "dtype": "f4"
         },
         "y": {
          "bdata": "av0KQWr9CkFq/QpBav0KQWr9CkFq/QpBav0KQWr9CkFq/QpBav0KQWr9CkFq/QpBav0KQWr9CkFq/QpBav0KQWr9CkFq/QpBav0KQWr9CkFq/QpBav0KQWr9CkFq/QpBav0KQWr9CkFq/QpBav0KQWr9CkFq/QpBav0KQWr9CkFq/QpBav0KQWr9CkFq/QpBav0KQWr9CkFq/QpBav0KQWr9CkFq/QpBav0KQWr9CkFq/QpBav0KQWr9CkFq/QpBav0KQWr9CkFq/QpBav0KQWr9CkFq/QpBav0KQWr9CkFq/QpBav0KQWr9CkFq/QpBav0KQWr9CkFq/QpBav0KQWr9CkFq/QpBav0KQWr9CkFq/QpBav0KQWr9CkFq/QpBav0KQWr9CkFq/QpBav0KQWr9CkFq/QpBav0KQWr9CkFq/QpBav0KQWr9CkFq/QpBav0KQWr9CkFq/QpBav0KQWr9CkFq/QpBav0KQWr9CkFq/QpBav0KQWr9CkFq/QpBav0KQWr9CkFq/QpBav0KQQ==",
          "dtype": "f4"
         },
         "z": {
          "bdata": "GpvI1nH98dz00BfddUWN2864ul13Q4leB14KXwbval99y7NfhiUAYOxSLWBpFmFg+3iNYL4jrWAfMc9gtD3zYMBwDGHX2B9h3aEzYSqYR2FFilth6klvYdNWgWHTx4ph9OeTYZ6pnGEhAqVhI+msYf5YtGEFTrthJMfBYS3Ex2E6R81htlLSYWLq1mFEEtthuM7eYUIk4mEuF+VhkqvnYUfl6WHEx+thG1btYQKT7mG8gO9hQCHwYUd28GENgfBhuELwYS2872G4AO9h4QruYUfH7GFQN+thYVzpYY8352HHyeRh2hPiYV8W32El0tth1kfYYXF41GEXZdBhPQ/MYbh4x2GOo8JhUZK9YatHuGEAx7JhwROtYe8xp2HOJaFh+fOaYXmhlGF+M45hjq+HYVcbgWFh+XRhKLNnYZdvWmF7Ok1hCx9AYSMoM2HoXyZhns8ZYdJ/DWHmdwFhbXzrYBCw1GDYkr5guSqpYFl7lGBQhoBgI5ZaYGaONWD57BFgEUvfXyVSnV+4hztf2zm7Xg==",
          "dtype": "f4"
         }
        },
        {
         "line": {
          "cmax": 609594438449430000000,
          "cmin": -47443623273325130000,
          "color": {
           "bdata": "saXC1n9v4dwdXADdbALEW24521041ZRe5zISX5QpdV/nSrpfri4EYA4+MmCT+2Zg8POQYF8xsWAm2tNg5oj4YIxpD2GAJSNhdEE3YQCIS2HTxV9h2cpzYfK1g2G6QI1hCXWWYbFEn2GNpKdh+4uvYTX1tmGV3L1hPUHEYWgjymGjhc9h8mrUYcfX2GHu0NxhhVvgYeF842ETOuZh+ZfoYSeb6mHAR+xhgaHtYaqr7mEFae9h/9vvYb0G8GHM6u9hnInvYUvk7mFiEO5h+wftYZW162G4GuphBjnoYYQR5mEgpeNhnPTgYWYA3mERydph+E7XYcqS02FKlc9hgVfLYd/axmH2IMJh4yu9Ye39t2H1mbJhCAOtYbw8p2HuSqFh4DGbYUj2lGEdnY5hpCuIYWSngWE2LHZhcvtoYQbIW2HqnU5hdYhBYcOSNGFQxydhwC8bYfvUDmHOvgJhCOjtYJb01mA3rMBguhWrYHw1lmDTDYJgyT1dYMfNN2BUxBNgSiziX0Bqn19DMT5fsD2+Xg==",
           "dtype": "f4"
          },
          "colorscale": [
           [
            0,
            "#440154"
           ],
           [
            0.1111111111111111,
            "#482878"
           ],
           [
            0.2222222222222222,
            "#3e4989"
           ],
           [
            0.3333333333333333,
            "#31688e"
           ],
           [
            0.4444444444444444,
            "#26828e"
           ],
           [
            0.5555555555555556,
            "#1f9e89"
           ],
           [
            0.6666666666666666,
            "#35b779"
           ],
           [
            0.7777777777777778,
            "#6ece58"
           ],
           [
            0.8888888888888888,
            "#b5de2b"
           ],
           [
            1,
            "#fde725"
           ]
          ],
          "showscale": false,
          "width": 4
         },
         "mode": "lines",
         "showlegend": false,
         "type": "scatter3d",
         "x": {
          "bdata": "AAAAALooDiy6KI4sFz3VLLooDi3osjEtFz1VLUbHeC26KI4t0e2fLeiysS0AeMMtFz3VLS4C5y1Gx/gtLkYFLrooDi5GCxcu0e0fLl3QKC7osjEudJU6LgB4Qy6LWkwuFz1VLqMfXi4uAmcuuuRvLkbHeC7p1IAuLkaFLnS3iS66KI4uAJqSLkYLly6LfJsu0e2fLhdfpC5d0Kguo0GtLuiysS4uJLYudJW6LroGvy4AeMMuRunHLotazC7Ry9AuFz3VLl2u2S6hH94u55DiLi0C5y5zc+suuOTvLv5V9C5Ex/guijj9LujUAC+LDQMvLkYFL9B+By90twkvFvALL7ooDi9cYRAv/5kSL6LSFC9FCxcv6EMZL4p8Gy8utR0v0O0fL3QmIi8WXyQvuZcmL1zQKC//CCsvokEtL0V6Ly/osjEvi+szLy4kNi/QXDgvdJU6LxbOPC+5Bj8vXD9BL/93Qy+isEUvRelHL+ghSi+LWkwvLpNOL9DLUC9zBFMvFj1VL7l1Vy9crlkv/+ZbLw==",
          "dtype": "f4"
         },
         "y": {
          "bdata": "5DgOQeQ4DkHkOA5B5DgOQeQ4DkHkOA5B5DgOQeQ4DkHkOA5B5DgOQeQ4DkHkOA5B5DgOQeQ4DkHkOA5B5DgOQeQ4DkHkOA5B5DgOQeQ4DkHkOA5B5DgOQeQ4DkHkOA5B5DgOQeQ4DkHkOA5B5DgOQeQ4DkHkOA5B5DgOQeQ4DkHkOA5B5DgOQeQ4DkHkOA5B5DgOQeQ4DkHkOA5B5DgOQeQ4DkHkOA5B5DgOQeQ4DkHkOA5B5DgOQeQ4DkHkOA5B5DgOQeQ4DkHkOA5B5DgOQeQ4DkHkOA5B5DgOQeQ4DkHkOA5B5DgOQeQ4DkHkOA5B5DgOQeQ4DkHkOA5B5DgOQeQ4DkHkOA5B5DgOQeQ4DkHkOA5B5DgOQeQ4DkHkOA5B5DgOQeQ4DkHkOA5B5DgOQeQ4DkHkOA5B5DgOQeQ4DkHkOA5B5DgOQeQ4DkHkOA5B5DgOQeQ4DkHkOA5B5DgOQeQ4DkHkOA5B5DgOQeQ4DkHkOA5B5DgOQeQ4DkHkOA5B5DgOQeQ4DkHkOA5B5DgOQQ==",
          "dtype": "f4"
         },
         "z": {
          "bdata": "saXC1n9v4dwdXADdbALEW24521041ZRe5zISX5QpdV/nSrpfri4EYA4+MmCT+2Zg8POQYF8xsWAm2tNg5oj4YIxpD2GAJSNhdEE3YQCIS2HTxV9h2cpzYfK1g2G6QI1hCXWWYbFEn2GNpKdh+4uvYTX1tmGV3L1hPUHEYWgjymGjhc9h8mrUYcfX2GHu0NxhhVvgYeF842ETOuZh+ZfoYSeb6mHAR+xhgaHtYaqr7mEFae9h/9vvYb0G8GHM6u9hnInvYUvk7mFiEO5h+wftYZW162G4GuphBjnoYYQR5mEgpeNhnPTgYWYA3mERydph+E7XYcqS02FKlc9hgVfLYd/axmH2IMJh4yu9Ye39t2H1mbJhCAOtYbw8p2HuSqFh4DGbYUj2lGEdnY5hpCuIYWSngWE2LHZhcvtoYQbIW2HqnU5hdYhBYcOSNGFQxydhwC8bYfvUDmHOvgJhCOjtYJb01mA3rMBguhWrYHw1lmDTDYJgyT1dYMfNN2BUxBNgSiziX0Bqn19DMT5fsD2+Xg==",
          "dtype": "f4"
         }
        },
        {
         "line": {
          "cmax": 609594438449430000000,
          "cmin": -47443623273325130000,
          "color": {
           "bdata": "Fhi91mD40Nx0RNLc+FeEXHJM+10zO6Beu+YZX2A0f18WqcBfbyEIYOILN2Bcu2xgo1eUYK4itWBlYdhggaz9YI9LEmFnWCZhW8Q6YWFYT2Fe32Nhkyd4YQwChmHupY9hBe6YYZbLoWEDM6phZRuyYdZ+uWHAWcBhfavGYYt0zGH9t9FhaXnWYd+92mHtit5hX+bhYU3W5GGWYOdhv4rpYQta62FQ0+xhw/rtYUvU7mEcY+9hEKrvYaur72HRae9hJebuYRAi7mE7Ne1hWBnsYee26mGkD+lhRCXnYfT45GGgi+JhBd7fYXbw3GFSw9lht1bWYROr0mHXwM5hnJjKYX8zxmGpksFh17e8Ycukt2ELXLJhNeCsYW40p2E1XKFhcVubYYU2lWEd8o5hS5OIYWofgmElOHdhSx5qYc78XGGl309hWtJCYT7gNWENFClhtnccYX8UEGGW8gNhUDLwYIQc2WCErcJg1OysYJTfl2DHiINgXtJfYE3/OWAdkhVgIQHlX+N6oV9f0kBfqDfBXg==",
           "dtype": "f4"
          },
          "colorscale": [
           [
            0,
            "#440154"
           ],
           [
            0.1111111111111111,
            "#482878"
           ],
           [
            0.2222222222222222,
            "#3e4989"
           ],
           [
            0.3333333333333333,
            "#31688e"
           ],
           [
            0.4444444444444444,
            "#26828e"
           ],
           [
            0.5555555555555556,
            "#1f9e89"
           ],
           [
            0.6666666666666666,
            "#35b779"
           ],
           [
            0.7777777777777778,
            "#6ece58"
           ],
           [
            0.8888888888888888,
            "#b5de2b"
           ],
           [
            1,
            "#fde725"
           ]
          ],
          "showscale": false,
          "width": 4
         },
         "mode": "lines",
         "showlegend": false,
         "type": "scatter3d",
         "x": {
          "bdata": "AAAAALooDiy6KI4sFz3VLLooDi3osjEtFz1VLUbHeC26KI4t0e2fLeiysS0AeMMtFz3VLS4C5y1Gx/gtLkYFLrooDi5GCxcu0e0fLl3QKC7osjEudJU6LgB4Qy6LWkwuFz1VLqMfXi4uAmcuuuRvLkbHeC7p1IAuLkaFLnS3iS66KI4uAJqSLkYLly6LfJsu0e2fLhdfpC5d0Kguo0GtLuiysS4uJLYudJW6LroGvy4AeMMuRunHLotazC7Ry9AuFz3VLl2u2S6hH94u55DiLi0C5y5zc+suuOTvLv5V9C5Ex/guijj9LujUAC+LDQMvLkYFL9B+By90twkvFvALL7ooDi9cYRAv/5kSL6LSFC9FCxcv6EMZL4p8Gy8utR0v0O0fL3QmIi8WXyQvuZcmL1zQKC//CCsvokEtL0V6Ly/osjEvi+szLy4kNi/QXDgvdJU6LxbOPC+5Bj8vXD9BL/93Qy+isEUvRelHL+ghSi+LWkwvLpNOL9DLUC9zBFMvFj1VL7l1Vy9crlkv/+ZbLw==",
          "dtype": "f4"
         },
         "y": {
          "bdata": "XXQRQV10EUFddBFBXXQRQV10EUFddBFBXXQRQV10EUFddBFBXXQRQV10EUFddBFBXXQRQV10EUFddBFBXXQRQV10EUFddBFBXXQRQV10EUFddBFBXXQRQV10EUFddBFBXXQRQV10EUFddBFBXXQRQV10EUFddBFBXXQRQV10EUFddBFBXXQRQV10EUFddBFBXXQRQV10EUFddBFBXXQRQV10EUFddBFBXXQRQV10EUFddBFBXXQRQV10EUFddBFBXXQRQV10EUFddBFBXXQRQV10EUFddBFBXXQRQV10EUFddBFBXXQRQV10EUFddBFBXXQRQV10EUFddBFBXXQRQV10EUFddBFBXXQRQV10EUFddBFBXXQRQV10EUFddBFBXXQRQV10EUFddBFBXXQRQV10EUFddBFBXXQRQV10EUFddBFBXXQRQV10EUFddBFBXXQRQV10EUFddBFBXXQRQV10EUFddBFBXXQRQV10EUFddBFBXXQRQV10EUFddBFBXXQRQV10EUFddBFBXXQRQQ==",
          "dtype": "f4"
         },
         "z": {
          "bdata": "Fhi91mD40Nx0RNLc+FeEXHJM+10zO6Beu+YZX2A0f18WqcBfbyEIYOILN2Bcu2xgo1eUYK4itWBlYdhggaz9YI9LEmFnWCZhW8Q6YWFYT2Fe32Nhkyd4YQwChmHupY9hBe6YYZbLoWEDM6phZRuyYdZ+uWHAWcBhfavGYYt0zGH9t9FhaXnWYd+92mHtit5hX+bhYU3W5GGWYOdhv4rpYQta62FQ0+xhw/rtYUvU7mEcY+9hEKrvYaur72HRae9hJebuYRAi7mE7Ne1hWBnsYee26mGkD+lhRCXnYfT45GGgi+JhBd7fYXbw3GFSw9lht1bWYROr0mHXwM5hnJjKYX8zxmGpksFh17e8Ycukt2ELXLJhNeCsYW40p2E1XKFhcVubYYU2lWEd8o5hS5OIYWofgmElOHdhSx5qYc78XGGl309hWtJCYT7gNWENFClhtnccYX8UEGGW8gNhUDLwYIQc2WCErcJg1OysYJTfl2DHiINgXtJfYE3/OWAdkhVgIQHlX+N6oV9f0kBfqDfBXg==",
          "dtype": "f4"
         }
        },
        {
         "line": {
          "cmax": 609594438449430000000,
          "cmin": -47443623273325130000,
          "color": {
           "bdata": "EfO31kqcwNzvT6TclabWXMh2DV4+dKteAnkhX5WHhF8P5sZf8f0LYLq8O2BPVnJgeaSXYDL4uGB+x9xgq1QBYUkXFWEScilhKSs+YeQJU2GV12dhxWB8YXo7iGHO95FhSVObYZo+pGHLraxhoZe0YR/2u2G9xcJh8wXJYaa3zmFU3tNhFH7YYaOc3GEjQOBhLW/jYXYw5mGYiuhhxYPqYeEh7GFTau1h5WHuYecM72ERb+9hkYvvYUZl72Fi/u5hwFjuYQJ27WHpb+xhtD/rYQjM6WHpFuhhHCLmYfnu42F3fuFhWdHeYdvn22FJwthhiGDVYcPC0WEi6c1h/tPJYQuExWEV+sBhdze8YY09t2F3DrJhXKysYQgap2GLWqFheHGbYd1ilWEaM49hCeeIYc2DgmHDHXhhHhxrYScOXmHN/1Bhu/xDYWcQN2HKRSphGacdYeg9EWG5EgVhHFryYKom22B+lcRg2K6uYHR4mWAI9oRg3FFiYCAhPGDCVBdgAsfnXzKCo1+7aENfYyXEXg==",
           "dtype": "f4"
          },
          "colorscale": [
           [
            0,
            "#440154"
           ],
           [
            0.1111111111111111,
            "#482878"
           ],
           [
            0.2222222222222222,
            "#3e4989"
           ],
           [
            0.3333333333333333,
            "#31688e"
           ],
           [
            0.4444444444444444,
            "#26828e"
           ],
           [
            0.5555555555555556,
            "#1f9e89"
           ],
           [
            0.6666666666666666,
            "#35b779"
           ],
           [
            0.7777777777777778,
            "#6ece58"
           ],
           [
            0.8888888888888888,
            "#b5de2b"
           ],
           [
            1,
            "#fde725"
           ]
          ],
          "showscale": false,
          "width": 4
         },
         "mode": "lines",
         "showlegend": false,
         "type": "scatter3d",
         "x": {
          "bdata": "AAAAALooDiy6KI4sFz3VLLooDi3osjEtFz1VLUbHeC26KI4t0e2fLeiysS0AeMMtFz3VLS4C5y1Gx/gtLkYFLrooDi5GCxcu0e0fLl3QKC7osjEudJU6LgB4Qy6LWkwuFz1VLqMfXi4uAmcuuuRvLkbHeC7p1IAuLkaFLnS3iS66KI4uAJqSLkYLly6LfJsu0e2fLhdfpC5d0Kguo0GtLuiysS4uJLYudJW6LroGvy4AeMMuRunHLotazC7Ry9AuFz3VLl2u2S6hH94u55DiLi0C5y5zc+suuOTvLv5V9C5Ex/guijj9LujUAC+LDQMvLkYFL9B+By90twkvFvALL7ooDi9cYRAv/5kSL6LSFC9FCxcv6EMZL4p8Gy8utR0v0O0fL3QmIi8WXyQvuZcmL1zQKC//CCsvokEtL0V6Ly/osjEvi+szLy4kNi/QXDgvdJU6LxbOPC+5Bj8vXD9BL/93Qy+isEUvRelHL+ghSi+LWkwvLpNOL9DLUC9zBFMvFj1VL7l1Vy9crlkv/+ZbLw==",
          "dtype": "f4"
         },
         "y": {
          "bdata": "168UQdevFEHXrxRB168UQdevFEHXrxRB168UQdevFEHXrxRB168UQdevFEHXrxRB168UQdevFEHXrxRB168UQdevFEHXrxRB168UQdevFEHXrxRB168UQdevFEHXrxRB168UQdevFEHXrxRB168UQdevFEHXrxRB168UQdevFEHXrxRB168UQdevFEHXrxRB168UQdevFEHXrxRB168UQdevFEHXrxRB168UQdevFEHXrxRB168UQdevFEHXrxRB168UQdevFEHXrxRB168UQdevFEHXrxRB168UQdevFEHXrxRB168UQdevFEHXrxRB168UQdevFEHXrxRB168UQdevFEHXrxRB168UQdevFEHXrxRB168UQdevFEHXrxRB168UQdevFEHXrxRB168UQdevFEHXrxRB168UQdevFEHXrxRB168UQdevFEHXrxRB168UQdevFEHXrxRB168UQdevFEHXrxRB168UQdevFEHXrxRB168UQdevFEHXrxRB168UQdevFEHXrxRB168UQQ==",
          "dtype": "f4"
         },
         "z": {
          "bdata": "EfO31kqcwNzvT6TclabWXMh2DV4+dKteAnkhX5WHhF8P5sZf8f0LYLq8O2BPVnJgeaSXYDL4uGB+x9xgq1QBYUkXFWEScilhKSs+YeQJU2GV12dhxWB8YXo7iGHO95FhSVObYZo+pGHLraxhoZe0YR/2u2G9xcJh8wXJYaa3zmFU3tNhFH7YYaOc3GEjQOBhLW/jYXYw5mGYiuhhxYPqYeEh7GFTau1h5WHuYecM72ERb+9hkYvvYUZl72Fi/u5hwFjuYQJ27WHpb+xhtD/rYQjM6WHpFuhhHCLmYfnu42F3fuFhWdHeYdvn22FJwthhiGDVYcPC0WEi6c1h/tPJYQuExWEV+sBhdze8YY09t2F3DrJhXKysYQgap2GLWqFheHGbYd1ilWEaM49hCeeIYc2DgmHDHXhhHhxrYScOXmHN/1Bhu/xDYWcQN2HKRSphGacdYeg9EWG5EgVhHFryYKom22B+lcRg2K6uYHR4mWAI9oRg3FFiYCAhPGDCVBdgAsfnXzKCo1+7aENfYyXEXg==",
          "dtype": "f4"
         }
        },
        {
         "line": {
          "cmax": 609594438449430000000,
          "cmin": -47443623273325130000,
          "color": {
           "bdata": "JjWz1p9fsNy0yG3c7u4TXRYMHV4cf7ZeK+koX8FciV/HAc1fS8QPYMxQQGDUzHdgv9qaYFCyvGAGDeFgCMADYR3NF2H6cixhYHZBYSudVmERr2thhzuAYZBiimGpNpRhFqWdYQyepmEjFa9h6AC3YUFbvmGfIMVhwVDLYcfs0GGk+NVh6XjaYelz3mFs8OFhrfXkYReL52HSt+lhvoLrYVfy7GGFDO5hjdbuYUBV72GqjO9hXIDvYXoz72F5qO5hfuHtYUng7GGlwOthcHvqYY/16GEuMedhUTDlYXH04mGlfuBhrM/dYc3n2mExx9dhqm3UYSfb0GGVD81hAQvJYdnNxGGNWMBhGKy7YXrJtmFnsrFhpmisYZfupmHtRqFh3XSbYR18lWHIYI9hbyeJYQrVgmHe3XhhjvVrYXz8XmGh/lFhqwdFYTMjOGFhXCthp70eYdhQEmHHHgZheF70YPkR3WARY8ZgoFqwYAT/mmCJVIZgQbpkYH0xPmC9Chlgg3vqX1t+pV8b8kVfiQTHXg==",
           "dtype": "f4"
          },
          "colorscale": [
           [
            0,
            "#440154"
           ],
           [
            0.1111111111111111,
            "#482878"
           ],
           [
            0.2222222222222222,
            "#3e4989"
           ],
           [
            0.3333333333333333,
            "#31688e"
           ],
           [
            0.4444444444444444,
            "#26828e"
           ],
           [
            0.5555555555555556,
            "#1f9e89"
           ],
           [
            0.6666666666666666,
            "#35b779"
           ],
           [
            0.7777777777777778,
            "#6ece58"
           ],
           [
            0.8888888888888888,
            "#b5de2b"
           ],
           [
            1,
            "#fde725"
           ]
          ],
          "showscale": false,
          "width": 4
         },
         "mode": "lines",
         "showlegend": false,
         "type": "scatter3d",
         "x": {
          "bdata": "AAAAALooDiy6KI4sFz3VLLooDi3osjEtFz1VLUbHeC26KI4t0e2fLeiysS0AeMMtFz3VLS4C5y1Gx/gtLkYFLrooDi5GCxcu0e0fLl3QKC7osjEudJU6LgB4Qy6LWkwuFz1VLqMfXi4uAmcuuuRvLkbHeC7p1IAuLkaFLnS3iS66KI4uAJqSLkYLly6LfJsu0e2fLhdfpC5d0Kguo0GtLuiysS4uJLYudJW6LroGvy4AeMMuRunHLotazC7Ry9AuFz3VLl2u2S6hH94u55DiLi0C5y5zc+suuOTvLv5V9C5Ex/guijj9LujUAC+LDQMvLkYFL9B+By90twkvFvALL7ooDi9cYRAv/5kSL6LSFC9FCxcv6EMZL4p8Gy8utR0v0O0fL3QmIi8WXyQvuZcmL1zQKC//CCsvokEtL0V6Ly/osjEvi+szLy4kNi/QXDgvdJU6LxbOPC+5Bj8vXD9BL/93Qy+isEUvRelHL+ghSi+LWkwvLpNOL9DLUC9zBFMvFj1VL7l1Vy9crlkv/+ZbLw==",
          "dtype": "f4"
         },
         "y": {
          "bdata": "UOsXQVDrF0FQ6xdBUOsXQVDrF0FQ6xdBUOsXQVDrF0FQ6xdBUOsXQVDrF0FQ6xdBUOsXQVDrF0FQ6xdBUOsXQVDrF0FQ6xdBUOsXQVDrF0FQ6xdBUOsXQVDrF0FQ6xdBUOsXQVDrF0FQ6xdBUOsXQVDrF0FQ6xdBUOsXQVDrF0FQ6xdBUOsXQVDrF0FQ6xdBUOsXQVDrF0FQ6xdBUOsXQVDrF0FQ6xdBUOsXQVDrF0FQ6xdBUOsXQVDrF0FQ6xdBUOsXQVDrF0FQ6xdBUOsXQVDrF0FQ6xdBUOsXQVDrF0FQ6xdBUOsXQVDrF0FQ6xdBUOsXQVDrF0FQ6xdBUOsXQVDrF0FQ6xdBUOsXQVDrF0FQ6xdBUOsXQVDrF0FQ6xdBUOsXQVDrF0FQ6xdBUOsXQVDrF0FQ6xdBUOsXQVDrF0FQ6xdBUOsXQVDrF0FQ6xdBUOsXQVDrF0FQ6xdBUOsXQVDrF0FQ6xdBUOsXQVDrF0FQ6xdBUOsXQVDrF0FQ6xdBUOsXQVDrF0FQ6xdBUOsXQQ==",
          "dtype": "f4"
         },
         "z": {
          "bdata": "JjWz1p9fsNy0yG3c7u4TXRYMHV4cf7ZeK+koX8FciV/HAc1fS8QPYMxQQGDUzHdgv9qaYFCyvGAGDeFgCMADYR3NF2H6cixhYHZBYSudVmERr2thhzuAYZBiimGpNpRhFqWdYQyepmEjFa9h6AC3YUFbvmGfIMVhwVDLYcfs0GGk+NVh6XjaYelz3mFs8OFhrfXkYReL52HSt+lhvoLrYVfy7GGFDO5hjdbuYUBV72GqjO9hXIDvYXoz72F5qO5hfuHtYUng7GGlwOthcHvqYY/16GEuMedhUTDlYXH04mGlfuBhrM/dYc3n2mExx9dhqm3UYSfb0GGVD81hAQvJYdnNxGGNWMBhGKy7YXrJtmFnsrFhpmisYZfupmHtRqFh3XSbYR18lWHIYI9hbyeJYQrVgmHe3XhhjvVrYXz8XmGh/lFhqwdFYTMjOGFhXCthp70eYdhQEmHHHgZheF70YPkR3WARY8ZgoFqwYAT/mmCJVIZgQbpkYH0xPmC9Chlgg3vqX1t+pV8b8kVfiQTHXg==",
          "dtype": "f4"
         }
        },
        {
         "line": {
          "cmax": 609594438449430000000,
          "cmin": -47443623273325130000,
          "color": {
           "bdata": "3Nqu1plFoNxGERTc2/k7XaNkLF4XW8Fe+zYwX7QZjl9y/NJfunQTYIrIRGCWH31g4/qdYKlRwGCyMuVgzRgGYZNtGmG2Wy9hrKZEYeISWmGSZm9hnDWCYbF3jGHfYpZh0+OfYUHqqGFkabFhhFe5YW6uwGGlasdhAYzNYQIU02HkBthhzGncYZVD4GGXm+NhrXnmYdrl6GHz5+phU4fsYQrL7WF2ue5hZVjvYfSs72GPu+9hHojvYf4V72HrZ+5hP4DtYeBg7GGPJ+thxczpYb8z6GHmXuZhd1DkYRMK4mH2jN9h69ncYUrx2WE109ZhW3/TYY/1z2F+NcxhDT/IYU8SxGFzr79hGhe7YeZJtmEoSbFhSxasYUWzpmFtIqFhmWabYSuDlWHre49hNlWJYcETg2F3eXlhYqtsYXDIX2GW3FJhc/NFYcoYOWHWVyxhPrsfYRhNE2FoFgdhmz72YIzd3mBCFchgL++xYEFynGBSo4dgtwlnYLouQGCishpgQBztX5xtp19YbEhf7tLJXg==",
           "dtype": "f4"
          },
          "colorscale": [
           [
            0,
            "#440154"
           ],
           [
            0.1111111111111111,
            "#482878"
           ],
           [
            0.2222222222222222,
            "#3e4989"
           ],
           [
            0.3333333333333333,
            "#31688e"
           ],
           [
            0.4444444444444444,
            "#26828e"
           ],
           [
            0.5555555555555556,
            "#1f9e89"
           ],
           [
            0.6666666666666666,
            "#35b779"
           ],
           [
            0.7777777777777778,
            "#6ece58"
           ],
           [
            0.8888888888888888,
            "#b5de2b"
           ],
           [
            1,
            "#fde725"
           ]
          ],
          "showscale": false,
          "width": 4
         },
         "mode": "lines",
         "showlegend": false,
         "type": "scatter3d",
         "x": {
          "bdata": "AAAAALooDiy6KI4sFz3VLLooDi3osjEtFz1VLUbHeC26KI4t0e2fLeiysS0AeMMtFz3VLS4C5y1Gx/gtLkYFLrooDi5GCxcu0e0fLl3QKC7osjEudJU6LgB4Qy6LWkwuFz1VLqMfXi4uAmcuuuRvLkbHeC7p1IAuLkaFLnS3iS66KI4uAJqSLkYLly6LfJsu0e2fLhdfpC5d0Kguo0GtLuiysS4uJLYudJW6LroGvy4AeMMuRunHLotazC7Ry9AuFz3VLl2u2S6hH94u55DiLi0C5y5zc+suuOTvLv5V9C5Ex/guijj9LujUAC+LDQMvLkYFL9B+By90twkvFvALL7ooDi9cYRAv/5kSL6LSFC9FCxcv6EMZL4p8Gy8utR0v0O0fL3QmIi8WXyQvuZcmL1zQKC//CCsvokEtL0V6Ly/osjEvi+szLy4kNi/QXDgvdJU6LxbOPC+5Bj8vXD9BL/93Qy+isEUvRelHL+ghSi+LWkwvLpNOL9DLUC9zBFMvFj1VL7l1Vy9crlkv/+ZbLw==",
          "dtype": "f4"
         },
         "y": {
          "bdata": "yiYbQcomG0HKJhtByiYbQcomG0HKJhtByiYbQcomG0HKJhtByiYbQcomG0HKJhtByiYbQcomG0HKJhtByiYbQcomG0HKJhtByiYbQcomG0HKJhtByiYbQcomG0HKJhtByiYbQcomG0HKJhtByiYbQcomG0HKJhtByiYbQcomG0HKJhtByiYbQcomG0HKJhtByiYbQcomG0HKJhtByiYbQcomG0HKJhtByiYbQcomG0HKJhtByiYbQcomG0HKJhtByiYbQcomG0HKJhtByiYbQcomG0HKJhtByiYbQcomG0HKJhtByiYbQcomG0HKJhtByiYbQcomG0HKJhtByiYbQcomG0HKJhtByiYbQcomG0HKJhtByiYbQcomG0HKJhtByiYbQcomG0HKJhtByiYbQcomG0HKJhtByiYbQcomG0HKJhtByiYbQcomG0HKJhtByiYbQcomG0HKJhtByiYbQcomG0HKJhtByiYbQcomG0HKJhtByiYbQcomG0HKJhtByiYbQcomG0HKJhtByiYbQQ==",
          "dtype": "f4"
         },
         "z": {
          "bdata": "3Nqu1plFoNxGERTc2/k7XaNkLF4XW8Fe+zYwX7QZjl9y/NJfunQTYIrIRGCWH31g4/qdYKlRwGCyMuVgzRgGYZNtGmG2Wy9hrKZEYeISWmGSZm9hnDWCYbF3jGHfYpZh0+OfYUHqqGFkabFhhFe5YW6uwGGlasdhAYzNYQIU02HkBthhzGncYZVD4GGXm+NhrXnmYdrl6GHz5+phU4fsYQrL7WF2ue5hZVjvYfSs72GPu+9hHojvYf4V72HrZ+5hP4DtYeBg7GGPJ+thxczpYb8z6GHmXuZhd1DkYRMK4mH2jN9h69ncYUrx2WE109ZhW3/TYY/1z2F+NcxhDT/IYU8SxGFzr79hGhe7YeZJtmEoSbFhSxasYUWzpmFtIqFhmWabYSuDlWHre49hNlWJYcETg2F3eXlhYqtsYXDIX2GW3FJhc/NFYcoYOWHWVyxhPrsfYRhNE2FoFgdhmz72YIzd3mBCFchgL++xYEFynGBSo4dgtwlnYLouQGCishpgQBztX5xtp19YbEhf7tLJXg==",
          "dtype": "f4"
         }
        },
        {
         "line": {
          "cmax": 609594438449430000000,
          "cmin": -47443623273325130000,
          "color": {
           "bdata": "M9+q1qVRkNwPIW7bnW5jXd1+O15eB8xeHmI3X2e+kl811thfbQ8XYEkkSWCHJ4FgTwWhYLjWw2AqOelgV18IYRn5HGHMLDJhn7xHYahrXWG8/nJh9x6EYTR7jmHKfJhh0Q+iYYYjq2HMqrNhrZu7Yd3vwmHjo8lhy7fPYUct1WESCdphrVDeYXQL4mFhQeVh1PrnYWxA6mGAGuxhAJHtYXCr7mGtcO9h2ObvYW0T8GE5++9hUqLvYWMM72FSPO5hrTTtYZP362GApOphrjPpYbyG52FVoOVh8oLjYWMw4WEDqt5h3fDbYToF2WFO59Vhs5bSYRoTz2EgXMthYXHHYb9Sw2EdAL9hz3m6YSDAtWEI1LBhjLarYUVppmEs7qBht0ebYfZ4lWFohY9hIHGJYZxAg2G38XlhlD5tYdJyYGE6mlNhhsBGYWjxOWFBOC1h4Z8gYYUyFGFv+Qdh5vn3YKiI4GBDq8lgpGuzYETRnWB/4Yhglz5pYFEXQmASSxxgBafvX1BOqV9a1UpfgY7MXg==",
           "dtype": "f4"
          },
          "colorscale": [
           [
            0,
            "#440154"
           ],
           [
            0.1111111111111111,
            "#482878"
           ],
           [
            0.2222222222222222,
            "#3e4989"
           ],
           [
            0.3333333333333333,
            "#31688e"
           ],
           [
            0.4444444444444444,
            "#26828e"
           ],
           [
            0.5555555555555556,
            "#1f9e89"
           ],
           [
            0.6666666666666666,
            "#35b779"
           ],
           [
            0.7777777777777778,
            "#6ece58"
           ],
           [
            0.8888888888888888,
            "#b5de2b"
           ],
           [
            1,
            "#fde725"
           ]
          ],
          "showscale": false,
          "width": 4
         },
         "mode": "lines",
         "showlegend": false,
         "type": "scatter3d",
         "x": {
          "bdata": "AAAAALooDiy6KI4sFz3VLLooDi3osjEtFz1VLUbHeC26KI4t0e2fLeiysS0AeMMtFz3VLS4C5y1Gx/gtLkYFLrooDi5GCxcu0e0fLl3QKC7osjEudJU6LgB4Qy6LWkwuFz1VLqMfXi4uAmcuuuRvLkbHeC7p1IAuLkaFLnS3iS66KI4uAJqSLkYLly6LfJsu0e2fLhdfpC5d0Kguo0GtLuiysS4uJLYudJW6LroGvy4AeMMuRunHLotazC7Ry9AuFz3VLl2u2S6hH94u55DiLi0C5y5zc+suuOTvLv5V9C5Ex/guijj9LujUAC+LDQMvLkYFL9B+By90twkvFvALL7ooDi9cYRAv/5kSL6LSFC9FCxcv6EMZL4p8Gy8utR0v0O0fL3QmIi8WXyQvuZcmL1zQKC//CCsvokEtL0V6Ly/osjEvi+szLy4kNi/QXDgvdJU6LxbOPC+5Bj8vXD9BL/93Qy+isEUvRelHL+ghSi+LWkwvLpNOL9DLUC9zBFMvFj1VL7l1Vy9crlkv/+ZbLw==",
          "dtype": "f4"
         },
         "y": {
          "bdata": "Q2IeQUNiHkFDYh5BQ2IeQUNiHkFDYh5BQ2IeQUNiHkFDYh5BQ2IeQUNiHkFDYh5BQ2IeQUNiHkFDYh5BQ2IeQUNiHkFDYh5BQ2IeQUNiHkFDYh5BQ2IeQUNiHkFDYh5BQ2IeQUNiHkFDYh5BQ2IeQUNiHkFDYh5BQ2IeQUNiHkFDYh5BQ2IeQUNiHkFDYh5BQ2IeQUNiHkFDYh5BQ2IeQUNiHkFDYh5BQ2IeQUNiHkFDYh5BQ2IeQUNiHkFDYh5BQ2IeQUNiHkFDYh5BQ2IeQUNiHkFDYh5BQ2IeQUNiHkFDYh5BQ2IeQUNiHkFDYh5BQ2IeQUNiHkFDYh5BQ2IeQUNiHkFDYh5BQ2IeQUNiHkFDYh5BQ2IeQUNiHkFDYh5BQ2IeQUNiHkFDYh5BQ2IeQUNiHkFDYh5BQ2IeQUNiHkFDYh5BQ2IeQUNiHkFDYh5BQ2IeQUNiHkFDYh5BQ2IeQUNiHkFDYh5BQ2IeQUNiHkFDYh5BQ2IeQUNiHkFDYh5BQ2IeQUNiHkFDYh5BQ2IeQQ==",
          "dtype": "f4"
         },
         "z": {
          "bdata": "M9+q1qVRkNwPIW7bnW5jXd1+O15eB8xeHmI3X2e+kl811thfbQ8XYEkkSWCHJ4FgTwWhYLjWw2AqOelgV18IYRn5HGHMLDJhn7xHYahrXWG8/nJh9x6EYTR7jmHKfJhh0Q+iYYYjq2HMqrNhrZu7Yd3vwmHjo8lhy7fPYUct1WESCdphrVDeYXQL4mFhQeVh1PrnYWxA6mGAGuxhAJHtYXCr7mGtcO9h2ObvYW0T8GE5++9hUqLvYWMM72FSPO5hrTTtYZP362GApOphrjPpYbyG52FVoOVh8oLjYWMw4WEDqt5h3fDbYToF2WFO59Vhs5bSYRoTz2EgXMthYXHHYb9Sw2EdAL9hz3m6YSDAtWEI1LBhjLarYUVppmEs7qBht0ebYfZ4lWFohY9hIHGJYZxAg2G38XlhlD5tYdJyYGE6mlNhhsBGYWjxOWFBOC1h4Z8gYYUyFGFv+Qdh5vn3YKiI4GBDq8lgpGuzYETRnWB/4Yhglz5pYFEXQmASSxxgBafvX1BOqV9a1UpfgY7MXg==",
          "dtype": "f4"
         }
        }
       ],
       "layout": {
        "height": 700,
        "scene": {
         "xaxis": {
          "autorange": "reversed",
          "title": {
           "text": "Mass (m)"
          }
         },
         "yaxis": {
          "title": {
           "text": "Time (t)"
          }
         },
         "zaxis": {
          "title": {
           "text": "n(m, t)"
          }
         }
        },
        "template": {
         "data": {
          "bar": [
           {
            "error_x": {
             "color": "#2a3f5f"
            },
            "error_y": {
             "color": "#2a3f5f"
            },
            "marker": {
             "line": {
              "color": "#E5ECF6",
              "width": 0.5
             },
             "pattern": {
              "fillmode": "overlay",
              "size": 10,
              "solidity": 0.2
             }
            },
            "type": "bar"
           }
          ],
          "barpolar": [
           {
            "marker": {
             "line": {
              "color": "#E5ECF6",
              "width": 0.5
             },
             "pattern": {
              "fillmode": "overlay",
              "size": 10,
              "solidity": 0.2
             }
            },
            "type": "barpolar"
           }
          ],
          "carpet": [
           {
            "aaxis": {
             "endlinecolor": "#2a3f5f",
             "gridcolor": "white",
             "linecolor": "white",
             "minorgridcolor": "white",
             "startlinecolor": "#2a3f5f"
            },
            "baxis": {
             "endlinecolor": "#2a3f5f",
             "gridcolor": "white",
             "linecolor": "white",
             "minorgridcolor": "white",
             "startlinecolor": "#2a3f5f"
            },
            "type": "carpet"
           }
          ],
          "choropleth": [
           {
            "colorbar": {
             "outlinewidth": 0,
             "ticks": ""
            },
            "type": "choropleth"
           }
          ],
          "contour": [
           {
            "colorbar": {
             "outlinewidth": 0,
             "ticks": ""
            },
            "colorscale": [
             [
              0,
              "#0d0887"
             ],
             [
              0.1111111111111111,
              "#46039f"
             ],
             [
              0.2222222222222222,
              "#7201a8"
             ],
             [
              0.3333333333333333,
              "#9c179e"
             ],
             [
              0.4444444444444444,
              "#bd3786"
             ],
             [
              0.5555555555555556,
              "#d8576b"
             ],
             [
              0.6666666666666666,
              "#ed7953"
             ],
             [
              0.7777777777777778,
              "#fb9f3a"
             ],
             [
              0.8888888888888888,
              "#fdca26"
             ],
             [
              1,
              "#f0f921"
             ]
            ],
            "type": "contour"
           }
          ],
          "contourcarpet": [
           {
            "colorbar": {
             "outlinewidth": 0,
             "ticks": ""
            },
            "type": "contourcarpet"
           }
          ],
          "heatmap": [
           {
            "colorbar": {
             "outlinewidth": 0,
             "ticks": ""
            },
            "colorscale": [
             [
              0,
              "#0d0887"
             ],
             [
              0.1111111111111111,
              "#46039f"
             ],
             [
              0.2222222222222222,
              "#7201a8"
             ],
             [
              0.3333333333333333,
              "#9c179e"
             ],
             [
              0.4444444444444444,
              "#bd3786"
             ],
             [
              0.5555555555555556,
              "#d8576b"
             ],
             [
              0.6666666666666666,
              "#ed7953"
             ],
             [
              0.7777777777777778,
              "#fb9f3a"
             ],
             [
              0.8888888888888888,
              "#fdca26"
             ],
             [
              1,
              "#f0f921"
             ]
            ],
            "type": "heatmap"
           }
          ],
          "histogram": [
           {
            "marker": {
             "pattern": {
              "fillmode": "overlay",
              "size": 10,
              "solidity": 0.2
             }
            },
            "type": "histogram"
           }
          ],
          "histogram2d": [
           {
            "colorbar": {
             "outlinewidth": 0,
             "ticks": ""
            },
            "colorscale": [
             [
              0,
              "#0d0887"
             ],
             [
              0.1111111111111111,
              "#46039f"
             ],
             [
              0.2222222222222222,
              "#7201a8"
             ],
             [
              0.3333333333333333,
              "#9c179e"
             ],
             [
              0.4444444444444444,
              "#bd3786"
             ],
             [
              0.5555555555555556,
              "#d8576b"
             ],
             [
              0.6666666666666666,
              "#ed7953"
             ],
             [
              0.7777777777777778,
              "#fb9f3a"
             ],
             [
              0.8888888888888888,
              "#fdca26"
             ],
             [
              1,
              "#f0f921"
             ]
            ],
            "type": "histogram2d"
           }
          ],
          "histogram2dcontour": [
           {
            "colorbar": {
             "outlinewidth": 0,
             "ticks": ""
            },
            "colorscale": [
             [
              0,
              "#0d0887"
             ],
             [
              0.1111111111111111,
              "#46039f"
             ],
             [
              0.2222222222222222,
              "#7201a8"
             ],
             [
              0.3333333333333333,
              "#9c179e"
             ],
             [
              0.4444444444444444,
              "#bd3786"
             ],
             [
              0.5555555555555556,
              "#d8576b"
             ],
             [
              0.6666666666666666,
              "#ed7953"
             ],
             [
              0.7777777777777778,
              "#fb9f3a"
             ],
             [
              0.8888888888888888,
              "#fdca26"
             ],
             [
              1,
              "#f0f921"
             ]
            ],
            "type": "histogram2dcontour"
           }
          ],
          "mesh3d": [
           {
            "colorbar": {
             "outlinewidth": 0,
             "ticks": ""
            },
            "type": "mesh3d"
           }
          ],
          "parcoords": [
           {
            "line": {
             "colorbar": {
              "outlinewidth": 0,
              "ticks": ""
             }
            },
            "type": "parcoords"
           }
          ],
          "pie": [
           {
            "automargin": true,
            "type": "pie"
           }
          ],
          "scatter": [
           {
            "fillpattern": {
             "fillmode": "overlay",
             "size": 10,
             "solidity": 0.2
            },
            "type": "scatter"
           }
          ],
          "scatter3d": [
           {
            "line": {
             "colorbar": {
              "outlinewidth": 0,
              "ticks": ""
             }
            },
            "marker": {
             "colorbar": {
              "outlinewidth": 0,
              "ticks": ""
             }
            },
            "type": "scatter3d"
           }
          ],
          "scattercarpet": [
           {
            "marker": {
             "colorbar": {
              "outlinewidth": 0,
              "ticks": ""
             }
            },
            "type": "scattercarpet"
           }
          ],
          "scattergeo": [
           {
            "marker": {
             "colorbar": {
              "outlinewidth": 0,
              "ticks": ""
             }
            },
            "type": "scattergeo"
           }
          ],
          "scattergl": [
           {
            "marker": {
             "colorbar": {
              "outlinewidth": 0,
              "ticks": ""
             }
            },
            "type": "scattergl"
           }
          ],
          "scattermap": [
           {
            "marker": {
             "colorbar": {
              "outlinewidth": 0,
              "ticks": ""
             }
            },
            "type": "scattermap"
           }
          ],
          "scattermapbox": [
           {
            "marker": {
             "colorbar": {
              "outlinewidth": 0,
              "ticks": ""
             }
            },
            "type": "scattermapbox"
           }
          ],
          "scatterpolar": [
           {
            "marker": {
             "colorbar": {
              "outlinewidth": 0,
              "ticks": ""
             }
            },
            "type": "scatterpolar"
           }
          ],
          "scatterpolargl": [
           {
            "marker": {
             "colorbar": {
              "outlinewidth": 0,
              "ticks": ""
             }
            },
            "type": "scatterpolargl"
           }
          ],
          "scatterternary": [
           {
            "marker": {
             "colorbar": {
              "outlinewidth": 0,
              "ticks": ""
             }
            },
            "type": "scatterternary"
           }
          ],
          "surface": [
           {
            "colorbar": {
             "outlinewidth": 0,
             "ticks": ""
            },
            "colorscale": [
             [
              0,
              "#0d0887"
             ],
             [
              0.1111111111111111,
              "#46039f"
             ],
             [
              0.2222222222222222,
              "#7201a8"
             ],
             [
              0.3333333333333333,
              "#9c179e"
             ],
             [
              0.4444444444444444,
              "#bd3786"
             ],
             [
              0.5555555555555556,
              "#d8576b"
             ],
             [
              0.6666666666666666,
              "#ed7953"
             ],
             [
              0.7777777777777778,
              "#fb9f3a"
             ],
             [
              0.8888888888888888,
              "#fdca26"
             ],
             [
              1,
              "#f0f921"
             ]
            ],
            "type": "surface"
           }
          ],
          "table": [
           {
            "cells": {
             "fill": {
              "color": "#EBF0F8"
             },
             "line": {
              "color": "white"
             }
            },
            "header": {
             "fill": {
              "color": "#C8D4E3"
             },
             "line": {
              "color": "white"
             }
            },
            "type": "table"
           }
          ]
         },
         "layout": {
          "annotationdefaults": {
           "arrowcolor": "#2a3f5f",
           "arrowhead": 0,
           "arrowwidth": 1
          },
          "autotypenumbers": "strict",
          "coloraxis": {
           "colorbar": {
            "outlinewidth": 0,
            "ticks": ""
           }
          },
          "colorscale": {
           "diverging": [
            [
             0,
             "#8e0152"
            ],
            [
             0.1,
             "#c51b7d"
            ],
            [
             0.2,
             "#de77ae"
            ],
            [
             0.3,
             "#f1b6da"
            ],
            [
             0.4,
             "#fde0ef"
            ],
            [
             0.5,
             "#f7f7f7"
            ],
            [
             0.6,
             "#e6f5d0"
            ],
            [
             0.7,
             "#b8e186"
            ],
            [
             0.8,
             "#7fbc41"
            ],
            [
             0.9,
             "#4d9221"
            ],
            [
             1,
             "#276419"
            ]
           ],
           "sequential": [
            [
             0,
             "#0d0887"
            ],
            [
             0.1111111111111111,
             "#46039f"
            ],
            [
             0.2222222222222222,
             "#7201a8"
            ],
            [
             0.3333333333333333,
             "#9c179e"
            ],
            [
             0.4444444444444444,
             "#bd3786"
            ],
            [
             0.5555555555555556,
             "#d8576b"
            ],
            [
             0.6666666666666666,
             "#ed7953"
            ],
            [
             0.7777777777777778,
             "#fb9f3a"
            ],
            [
             0.8888888888888888,
             "#fdca26"
            ],
            [
             1,
             "#f0f921"
            ]
           ],
           "sequentialminus": [
            [
             0,
             "#0d0887"
            ],
            [
             0.1111111111111111,
             "#46039f"
            ],
            [
             0.2222222222222222,
             "#7201a8"
            ],
            [
             0.3333333333333333,
             "#9c179e"
            ],
            [
             0.4444444444444444,
             "#bd3786"
            ],
            [
             0.5555555555555556,
             "#d8576b"
            ],
            [
             0.6666666666666666,
             "#ed7953"
            ],
            [
             0.7777777777777778,
             "#fb9f3a"
            ],
            [
             0.8888888888888888,
             "#fdca26"
            ],
            [
             1,
             "#f0f921"
            ]
           ]
          },
          "colorway": [
           "#636efa",
           "#EF553B",
           "#00cc96",
           "#ab63fa",
           "#FFA15A",
           "#19d3f3",
           "#FF6692",
           "#B6E880",
           "#FF97FF",
           "#FECB52"
          ],
          "font": {
           "color": "#2a3f5f"
          },
          "geo": {
           "bgcolor": "white",
           "lakecolor": "white",
           "landcolor": "#E5ECF6",
           "showlakes": true,
           "showland": true,
           "subunitcolor": "white"
          },
          "hoverlabel": {
           "align": "left"
          },
          "hovermode": "closest",
          "mapbox": {
           "style": "light"
          },
          "paper_bgcolor": "white",
          "plot_bgcolor": "#E5ECF6",
          "polar": {
           "angularaxis": {
            "gridcolor": "white",
            "linecolor": "white",
            "ticks": ""
           },
           "bgcolor": "#E5ECF6",
           "radialaxis": {
            "gridcolor": "white",
            "linecolor": "white",
            "ticks": ""
           }
          },
          "scene": {
           "xaxis": {
            "backgroundcolor": "#E5ECF6",
            "gridcolor": "white",
            "gridwidth": 2,
            "linecolor": "white",
            "showbackground": true,
            "ticks": "",
            "zerolinecolor": "white"
           },
           "yaxis": {
            "backgroundcolor": "#E5ECF6",
            "gridcolor": "white",
            "gridwidth": 2,
            "linecolor": "white",
            "showbackground": true,
            "ticks": "",
            "zerolinecolor": "white"
           },
           "zaxis": {
            "backgroundcolor": "#E5ECF6",
            "gridcolor": "white",
            "gridwidth": 2,
            "linecolor": "white",
            "showbackground": true,
            "ticks": "",
            "zerolinecolor": "white"
           }
          },
          "shapedefaults": {
           "line": {
            "color": "#2a3f5f"
           }
          },
          "ternary": {
           "aaxis": {
            "gridcolor": "white",
            "linecolor": "white",
            "ticks": ""
           },
           "baxis": {
            "gridcolor": "white",
            "linecolor": "white",
            "ticks": ""
           },
           "bgcolor": "#E5ECF6",
           "caxis": {
            "gridcolor": "white",
            "linecolor": "white",
            "ticks": ""
           }
          },
          "title": {
           "x": 0.05
          },
          "xaxis": {
           "automargin": true,
           "gridcolor": "white",
           "linecolor": "white",
           "ticks": "",
           "title": {
            "standoff": 15
           },
           "zerolinecolor": "white",
           "zerolinewidth": 2
          },
          "yaxis": {
           "automargin": true,
           "gridcolor": "white",
           "linecolor": "white",
           "ticks": "",
           "title": {
            "standoff": 15
           },
           "zerolinecolor": "white",
           "zerolinewidth": 2
          }
         }
        },
        "title": {
         "text": ""
        },
        "width": 700
       }
      }
     },
     "metadata": {},
     "output_type": "display_data"
    },
    {
     "data": {
      "image/png": "[encoded data removed]",
      "text/plain": [
       "<Figure size 800x1000 with 3 Axes>"
      ]
     },
     "metadata": {},
     "output_type": "display_data"
    },
    {
     "data": {
      "image/png": "[encoded data removed]",
      "text/plain": [
       "<Figure size 1200x400 with 2 Axes>"
      ]
     },
     "metadata": {},
     "output_type": "display_data"
    }
   ],
   "source": [
    "\n",
    "\n",
    "# -----------------------------\n",
    "# 4. Error estimation\n",
    "# -----------------------------\n",
    "n_true = torch.tensor(Dataset_validation[0][\"n\"].T, dtype=torch.float32)   # (T, M)\n",
    "S_true = torch.tensor(Dataset_validation[0][\"S\"], dtype=torch.float32)     # (T,)\n",
    "\n",
    "# -----------------------------\n",
    "# 5. Plot biomass + substrate trajectory\n",
    "# -----------------------------\n",
    "plot_spaghetti(m,t_eval,n_pred.detach().numpy().T)\n",
    "biomass_pred = (n_pred * m) .sum(dim=1) * delta_m   # shape (T,)\n",
    "biomass_true = (n_true * m).sum(dim=1) * delta_m   # shape (T,)\n",
    "# -----------------------------\n",
    "# FIGURE 1: Trajectories + Heatmap\n",
    "# -----------------------------\n",
    "fig, axes = plt.subplots(2, 1, figsize=(8,10))\n",
    "\n",
    "# (1a) Biomass + substrate trajectories\n",
    "ax = axes[0]\n",
    "ax.plot(biomass_pred.numpy(), label=\"Predicted biomass\", linestyle=\"--\")\n",
    "ax.plot(biomass_true.numpy(), label=\"True biomass\", linestyle=\":\")\n",
    "ax.plot(S_pred.numpy(), label=\"Predicted substrate\")\n",
    "ax.plot(S_true.numpy(), label=\"True substrate\", linestyle=\"--\")\n",
    "ax.set_xlabel(\"Time step\")\n",
    "ax.set_ylabel(\"Value\")\n",
    "ax.set_title(\"Biomass and substrate trajectories\")\n",
    "ax.legend()\n",
    "\n",
    "# (1b) Relative error heatmap\n",
    "ax = axes[1]\n",
    "eps = 1e-12\n",
    "rel_err_matrix = ((n_pred - n_true) / (n_true + eps)).detach().cpu().numpy()\n",
    "im = ax.imshow(rel_err_matrix.T, aspect=\"auto\", origin=\"lower\",\n",
    "               extent=[0, T_val, m[0].item(), m[-1].item()],\n",
    "               cmap=\"bwr\", vmin=-0.5, vmax=0.5)\n",
    "fig.colorbar(im, ax=ax, label=\"Relative error\")\n",
    "ax.set_xlabel(\"Time step\")\n",
    "ax.set_ylabel(\"Mass m\")\n",
    "ax.set_title(\"Relative error of biomass distribution\")\n",
    "\n",
    "plt.tight_layout()\n",
    "plt.show()\n",
    "\n",
    "\n",
    "# -----------------------------\n",
    "# FIGURE 2: Singular values + Cumulative energy\n",
    "# -----------------------------\n",
    "fig, axes = plt.subplots(1, 2, figsize=(12, 4))\n",
    "\n",
    "# (2a) Singular values\n",
    "ax = axes[0]\n",
    "ax.semilogy(S.numpy(), 'o-')\n",
    "ax.axvline(r, color=\"red\", linestyle=\"--\", label=f\"r={r}\")\n",
    "ax.set_xlabel(\"Singular value index\")\n",
    "ax.set_ylabel(\"Singular value (log scale)\")\n",
    "ax.set_title(\"Singular values of X\")\n",
    "ax.legend()\n",
    "\n",
    "# (2b) Cumulative singular value energy\n",
    "ax = axes[1]\n",
    "sing_energy = torch.cumsum(S, dim=0) / torch.sum(S)\n",
    "ax.plot(sing_energy.numpy(), 'o-', label=\"Cumulative energy\")\n",
    "ax.axvline(r, color=\"blue\", linestyle=\"--\", label=f\"r={r}\")\n",
    "ax.set_xlabel(\"Number of singular values kept (r)\")\n",
    "ax.set_ylabel(\"Cumulative energy\")\n",
    "ax.set_title(\"Cumulative energy of singular values\")\n",
    "ax.legend()\n",
    "\n",
    "plt.tight_layout()\n",
    "plt.show()\n"
   ]
  },
  {
   "cell_type": "markdown",
   "id": "454203d5",
   "metadata": {},
   "source": [
    "## Error visualization for all validation sets\n",
    "Trying to find model bias by taking the error estimation for all datasets\n"
   ]
  },
  {
   "cell_type": "code",
   "execution_count": 37,
   "id": "3f3652b5",
   "metadata": {},
   "outputs": [
    {
     "name": "stdout",
     "output_type": "stream",
     "text": [
      "      id  initial_biomass  initial_substrate     err_n     err_S\n",
      "0      0            0.425           0.333333  0.716897  0.428030\n",
      "1      1            0.425           0.333333  0.496449  0.512324\n",
      "2      2            0.425           0.333333  0.467389  0.374756\n",
      "3      3            0.425           1.000000  0.614427  0.162095\n",
      "4      4            0.425           1.000000  0.328191  0.284662\n",
      "..   ...              ...                ...       ...       ...\n",
      "103  103            3.675           3.000000  0.272247  0.846001\n",
      "104  104            3.675           3.000000  0.426273  1.295365\n",
      "105  105            3.675           3.666667  0.716178  2.009965\n",
      "106  106            3.675           3.666667  0.249947  0.808090\n",
      "107  107            3.675           3.666667  0.407166  1.167342\n",
      "\n",
      "[108 rows x 5 columns]\n",
      "   id  initial_biomass  initial_substrate     err_n     err_S\n",
      "0   0            0.425           0.333333  0.716897  0.428030\n",
      "1   1            0.425           0.333333  0.496449  0.512324\n",
      "2   2            0.425           0.333333  0.467389  0.374756\n",
      "3   3            0.425           1.000000  0.614427  0.162095\n",
      "4   4            0.425           1.000000  0.328191  0.284662\n",
      "\n",
      "Error statistics:\n",
      "            err_n       err_S\n",
      "count  108.000000  108.000000\n",
      "mean     0.485494    1.606459\n",
      "std      0.215285    2.348083\n",
      "min      0.203300    0.162095\n",
      "25%      0.307497    0.412907\n",
      "50%      0.440226    0.836607\n",
      "75%      0.656073    1.751888\n",
      "max      1.170988   16.479092\n"
     ]
    },
    {
     "data": {
      "image/png": "[encoded data removed]",
      "text/plain": [
       "<Figure size 1800x500 with 6 Axes>"
      ]
     },
     "metadata": {},
     "output_type": "display_data"
    }
   ],
   "source": [
    "def dmd_rollout(entry, A, n_max, S_max, U_r=None):\n",
    "    \"\"\"\n",
    "    Perform a DMD rollout for one dataset entry.\n",
    "\n",
    "    Parameters\n",
    "    ----------\n",
    "    entry : dict\n",
    "        One dataset entry containing fields:\n",
    "        - \"n\": biomass array (M x T)\n",
    "        - \"S\": substrate array (T,)\n",
    "        - \"initial_substrate\": float\n",
    "    A : torch.Tensor\n",
    "        Learned DMD operator (either full or reduced).\n",
    "    n_max : float\n",
    "        Normalization factor for biomass.\n",
    "    S_max : float\n",
    "        Normalization factor for substrate.\n",
    "    U_r : torch.Tensor, optional\n",
    "        Basis for reduced DMD (if using truncated SVD).\n",
    "        If None, assumes full DMD.\n",
    "\n",
    "    Returns\n",
    "    -------\n",
    "    n_pred : torch.Tensor (T, M)\n",
    "        Predicted biomass distribution.\n",
    "    S_pred : torch.Tensor (T,)\n",
    "        Predicted substrate trajectory.\n",
    "    err_n : float\n",
    "        Relative biomass error.\n",
    "    err_S : float\n",
    "        Relative substrate error.\n",
    "    \"\"\"\n",
    "\n",
    "    n_true = torch.tensor(entry[\"n\"].T, dtype=torch.float32)   # (T, M)\n",
    "    S_true = torch.tensor(entry[\"S\"], dtype=torch.float32)     # (T,)\n",
    "    T, M = n_true.shape\n",
    "\n",
    "    # initial condition\n",
    "    n0 = n_true[0]\n",
    "    S0 = S_true[0]\n",
    "\n",
    "    # normalize\n",
    "    x0_norm = torch.cat([n0 / n_max, (S0 / S_max).unsqueeze(0)], dim=0)  # (M+1,)\n",
    "    \n",
    "\n",
    "    if U_r is not None:\n",
    "        # project into reduced space\n",
    "        z0 = U_r.T @ x0_norm\n",
    "        z_pred = torch.zeros((T, len(z0)))\n",
    "        z_pred[0] = z0\n",
    "        for k in range(T-1):\n",
    "            z_pred[k+1] = A @ z_pred[k]\n",
    "        x_pred_norm = (U_r @ z_pred.T).T\n",
    "    else:\n",
    "        # full DMD\n",
    "        x_pred_norm = torch.zeros((T, M+1))\n",
    "        x_pred_norm[0] = x0_norm\n",
    "        for k in range(T-1):\n",
    "            x_pred_norm[k+1] = A @ x_pred_norm[k]\n",
    "\n",
    "    # rescale back\n",
    "    n_pred = x_pred_norm[:, :M] * n_max\n",
    "    S_pred = x_pred_norm[:, -1] * S_max\n",
    "   \n",
    "\n",
    "    n_pred = n_pred.to(torch.float64)\n",
    "    n_true = n_true.to(torch.float64)\n",
    "    # errors\n",
    "    eps = 1e-12\n",
    "    err_n = torch.norm((n_pred - n_true)*m*delta_m) / (torch.norm(n_true*m*delta_m)+eps)\n",
    "    err_S = torch.norm(S_pred - S_true) / (torch.norm(S_true) + eps)\n",
    "\n",
    "    return n_pred, S_pred, err_n.item(), err_S.item()\n",
    "\n",
    "\n",
    "\n",
    "\n",
    "# --- Run rollout over all validation datasets ---\n",
    "results = []\n",
    "\n",
    "for idx, entry in Dataset_error_est.items():\n",
    "    n_pred, S_pred, err_n, err_S = dmd_rollout(entry, A_tilde, n_max, S_max, U_r=U_r)  # or U_r=U_r if reduced\n",
    "\n",
    "    results.append({\n",
    "        \"id\": idx,\n",
    "        \"initial_biomass\": entry[\"initial biomass\"],\n",
    "        \"initial_substrate\": entry[\"initial_substrate\"],\n",
    "        \"err_n\": err_n,\n",
    "        \"err_S\": err_S\n",
    "    })\n",
    "\n",
    "# --- Put into DataFrame ---\n",
    "df_results = pd.DataFrame(results)\n",
    "print(df_results)\n",
    "print(df_results.head())\n",
    "print(\"\\nError statistics:\")\n",
    "print(df_results[[\"err_n\", \"err_S\"]].describe())\n",
    "\n",
    "\n",
    "# --- Aggregate across replicates (mean + std) ---\n",
    "pivot_n_mean = df_results.pivot_table(\n",
    "    index=\"initial_substrate\", columns=\"initial_biomass\",\n",
    "    values=\"err_n\", aggfunc=\"mean\"\n",
    ")\n",
    "pivot_S_mean = df_results.pivot_table(\n",
    "    index=\"initial_substrate\", columns=\"initial_biomass\",\n",
    "    values=\"err_S\", aggfunc=\"mean\"\n",
    ")\n",
    "\n",
    "pivot_n_std = df_results.pivot_table(\n",
    "    index=\"initial_substrate\", columns=\"initial_biomass\",\n",
    "    values=\"err_n\", aggfunc=\"std\"\n",
    ")\n",
    "pivot_S_std = df_results.pivot_table(\n",
    "    index=\"initial_substrate\", columns=\"initial_biomass\",\n",
    "    values=\"err_S\", aggfunc=\"std\"\n",
    ")\n",
    "\n",
    "# --- Aggregate biomass + substrate error together (normalized) ---\n",
    "df_results[\"err_combined\"] = (\n",
    "    df_results[\"err_n\"] / df_results[\"err_n\"].max()\n",
    "    + df_results[\"err_S\"] / df_results[\"err_S\"].max()\n",
    ")\n",
    "\n",
    "pivot_comb_mean_dmd = df_results.pivot_table(\n",
    "    index=\"initial_substrate\", columns=\"initial_biomass\",\n",
    "    values=\"err_combined\", aggfunc=\"mean\"\n",
    ")\n",
    "\n",
    "# --- Plot all three heatmaps ---\n",
    "fig, axes = plt.subplots(1, 3, figsize=(18,5))\n",
    "\n",
    "# (1) Distribution error\n",
    "im1 = axes[0].imshow(pivot_n_mean.values, origin=\"lower\", aspect=\"auto\",\n",
    "                     extent=[pivot_n_mean.columns.min(), pivot_n_mean.columns.max(),\n",
    "                             pivot_n_mean.index.min(), pivot_n_mean.index.max()],\n",
    "                     cmap=\"viridis\")\n",
    "axes[0].set_title(\"Distribution error (mean)\")\n",
    "axes[0].set_xlabel(\"Initial biomass B0\")\n",
    "axes[0].set_ylabel(\"Initial substrate S0\")\n",
    "fig.colorbar(im1, ax=axes[0], label=\"err_dist\")\n",
    "\n",
    "# (2) Substrate error\n",
    "im2 = axes[1].imshow(pivot_S_mean.values, origin=\"lower\", aspect=\"auto\",\n",
    "                     extent=[pivot_S_mean.columns.min(), pivot_S_mean.columns.max(),\n",
    "                             pivot_S_mean.index.min(), pivot_S_mean.index.max()],\n",
    "                     cmap=\"plasma\")\n",
    "axes[1].set_title(\"Substrate error (mean)\")\n",
    "axes[1].set_xlabel(\"Initial biomass B0\")\n",
    "axes[1].set_ylabel(\"Initial substrate S0\")\n",
    "fig.colorbar(im2, ax=axes[1], label=\"err_S\")\n",
    "\n",
    "# (3) Combined biomass + substrate error\n",
    "im3 = axes[2].imshow(pivot_comb_mean_dmd.values, origin=\"lower\", aspect=\"auto\",\n",
    "                     extent=[pivot_comb_mean_dmd.columns.min(), pivot_comb_mean_dmd.columns.max(),\n",
    "                             pivot_comb_mean_dmd.index.min(), pivot_comb_mean_dmd.index.max()],\n",
    "                     cmap=\"inferno\")\n",
    "axes[2].set_title(\"Combined biomass + substrate error\")\n",
    "axes[2].set_xlabel(\"Initial biomass B0\")\n",
    "axes[2].set_ylabel(\"Initial substrate S0\")\n",
    "fig.colorbar(im3, ax=axes[2], label=\"err_combined\")\n",
    "\n",
    "plt.tight_layout()\n",
    "plt.show()\n",
    "\n",
    "\n",
    "# # --- (Optional) Plot std heatmaps for uncertainty ---\n",
    "# fig, axes = plt.subplots(1, 2, figsize=(12,5))\n",
    "\n",
    "# im1 = axes[0].imshow(pivot_n_std.values, origin=\"lower\", aspect=\"auto\",\n",
    "#                      extent=[pivot_n_std.columns.min(), pivot_n_std.columns.max(),\n",
    "#                              pivot_n_std.index.min(), pivot_n_std.index.max()],\n",
    "#                      cmap=\"viridis\")\n",
    "# axes[0].set_title(\"Biomass error (std)\")\n",
    "# axes[0].set_xlabel(\"Initial biomass B0\")\n",
    "# axes[0].set_ylabel(\"Initial substrate S0\")\n",
    "# fig.colorbar(im1, ax=axes[0], label=\"err_n std\")\n",
    "\n",
    "# im2 = axes[1].imshow(pivot_S_std.values, origin=\"lower\", aspect=\"auto\",\n",
    "#                      extent=[pivot_S_std.columns.min(), pivot_S_std.columns.max(),\n",
    "#                              pivot_S_std.index.min(), pivot_S_std.index.max()],\n",
    "#                      cmap=\"plasma\")\n",
    "# axes[1].set_title(\"Substrate error (std)\")\n",
    "# axes[1].set_xlabel(\"Initial biomass B0\")\n",
    "# axes[1].set_ylabel(\"Initial substrate S0\")\n",
    "# fig.colorbar(im2, ax=axes[1], label=\"err_S std\")\n",
    "\n",
    "# plt.tight_layout()\n",
    "# plt.show()\n"
   ]
  },
  {
   "cell_type": "markdown",
   "id": "104700cd",
   "metadata": {},
   "source": [
    "# Extended DMD\n",
    "EDMD does **not** try to approximate a mapping directly in state space. Instead:\n",
    "\n",
    "1. **Feature map (dictionary):**  \n",
    "\n",
    "$$\n",
    "\\phi : \\mathbb{R}^d \\to \\mathbb{R}^D, \n",
    "\\quad \n",
    "\\phi(x) = \\begin{bmatrix}\n",
    "\\phi_1(x) \\\\\n",
    "\\phi_2(x) \\\\\n",
    "\\vdots \\\\\n",
    "\\phi_D(x)\n",
    "\\end{bmatrix},\n",
    "$$  \n",
    "\n",
    "e.g.  \n",
    "\n",
    "$$\n",
    "\\phi(x) = [\\,x_1, \\dots, x_d, x_1^2, \\dots, x_d^2, \\dots ]^\\top.\n",
    "$$  \n",
    "\n",
    "---\n",
    "\n",
    "2. **Linear dynamics in feature space:**  \n",
    "\n",
    "$$\n",
    "\\phi(x_{k+1}) \\;\\approx\\; K \\, \\phi(x_k),\n",
    "$$  \n",
    "\n",
    "where $ K \\in \\mathbb{R}^{D \\times D} $ is the EDMD approximation of the Koopman operator.  \n",
    "\n",
    "---\n",
    "\n",
    "3. **Fitting equation:**  \n",
    "Given lifted data matrices \n",
    "$$ \n",
    "\\Phi_X = \\phi(x_0), \\; \\phi(x_1), \\; \\dots, \\; \\phi(x_{m-1}),\n",
    "$$  \n",
    "\n",
    "$$\n",
    "\\Phi_Y = \\phi(x_1), \\; \\phi(x_2), \\; \\dots, \\; \\phi(x_m).\n",
    "$$  \n",
    "the least-squares solution is  \n",
    "\n",
    "$$\n",
    "K = \\Phi_Y \\, \\Phi_X^{+},\n",
    "$$  \n",
    "\n",
    "where \\( \\Phi_X^{+} \\) is the  pseudoinverse.  \n",
    "\n",
    "---\n",
    "\n",
    "## 🔹 Prediction\n",
    "If the original state \\(x\\) is included as part of \\(\\phi(x)\\) (e.g. in the first \\(d\\) components), then after evolving in feature space  \n",
    "\n",
    "$$\n",
    "\\hat{\\phi}_{k+1} = K \\, \\hat{\\phi}_k,\n",
    "$$  \n",
    "\n",
    "the prediction for the physical state is obtained by projecting onto those components:  \n",
    "\n",
    "$$\n",
    "\\hat{x}_{k+1} \\;\\approx\\; \\big[\\, \\hat{\\phi}_{k+1} \\,\\big]_{1:d}.\n",
    "$$  "
   ]
  },
  {
   "cell_type": "code",
   "execution_count": 38,
   "id": "14212f67",
   "metadata": {},
   "outputs": [],
   "source": [
    "import pickle\n",
    "import torch\n",
    "import matplotlib.pyplot as plt\n",
    "\n",
    "# -----------------------------\n",
    "# 1. Load training data and build X, Y\n",
    "# -----------------------------\n",
    "# -----------------------------\n",
    "# 2. Feature lifting: [n, S, S*n]\n",
    "# ----------------------------\n",
    "\n",
    "degree=5\n",
    "\n",
    "Phi_X = EDMD_feature_space(X_train,degree=degree)  # (N, M + degree*(M+1))\n",
    "Phi_Y = EDMD_feature_space(Y_train,degree=degree)  # (N, M + degree*(M+1))\n",
    "\n",
    "# -----------------------------\n",
    "# 3. Compute EDMD operator\n",
    "# -----------------------------\n",
    "#Transpose so time is the column dimension\n",
    "Phi_XT = Phi_X.T    # (D, N)\n",
    "Phi_YT = Phi_Y.T    # (D, N)\n",
    "\n",
    "U, S, Vh = torch.linalg.svd(Phi_XT, full_matrices=False)\n",
    "\n",
    "# truncation rank\n",
    "r = 20\n",
    "U_r = U[:, :r]\n",
    "S_r = S[:r]\n",
    "Vh_r = Vh[:r, :]\n",
    "\n",
    "Sigma_r_inv = torch.diag(1.0 / S_r)\n",
    "\n",
    "K_tilde = U_r.T @ Phi_YT @ Vh_r.T @ Sigma_r_inv   # (r, r)\n",
    "\n",
    "# -----------------------------\n",
    "# 4. Validation rollout\n",
    "# -----------------------------\n",
    "\n",
    "# normalized initial state\n",
    "x0_norm = torch.cat([n0 / n_max, (S0 / S_max).unsqueeze(0)], dim=0)  # (M+1,)\n",
    "\n",
    "# lifted initial condition\n",
    "phi0 = EDMD_feature_space(x0_norm.unsqueeze(0),degree=degree).squeeze(0)  # (2M+1,)\n",
    "\n",
    "# project to reduced space\n",
    "z0 = U_r.T @ phi0\n",
    "\n",
    "T_val = Dataset_validation[0][\"n\"].shape[1]\n",
    "z_pred = torch.zeros((T_val, r))\n",
    "z_pred[0] = z0\n",
    "\n",
    "for k in range(T_val - 1):\n",
    "    z_pred[k+1] = K_tilde @ z_pred[k]\n",
    "\n",
    "# lift back\n",
    "Phi_pred = (U_r @ z_pred.T).T   # (T, 2M+1)\n",
    "\n",
    "# -----------------------------\n",
    "# 5. Extract predictions\n",
    "# -----------------------------\n",
    "# from features: [n, S, S*n,...]\n",
    "n_pred = Phi_pred[:, :M] * n_max\n",
    "S_pred = Phi_pred[:, M] * S_max\n"
   ]
  },
  {
   "cell_type": "markdown",
   "id": "d0c68d20",
   "metadata": {},
   "source": [
    "## Plotting (+visualization of approximation)"
   ]
  },
  {
   "cell_type": "code",
   "execution_count": 39,
   "id": "2c5f1096",
   "metadata": {},
   "outputs": [
    {
     "name": "stdout",
     "output_type": "stream",
     "text": [
      "Relative error biomass: nan\n",
      "Relative error substrate: 5.094e-02\n"
     ]
    },
    {
     "data": {
      "application/vnd.plotly.v1+json": {
       "config": {
        "plotlyServerURL": "https://plot.ly"
       },
       "data": [
        {
         "line": {
          "cmax": 611586436859611300000,
          "cmin": -941527887222145000,
          "color": {
           "bdata": "AAAAAFzZnVzU46nbSV/G3GRVJN3lbUrdqg9R3cxbNN1UQu7chfrQ2x03u1zQu2pdmgjEXRNMDF425zheH35nXiFVjF4x0KZeN/fDXsgC5V7ZyAVfqoUcXyKxN1+hGFhflot+X3HnlV84TLBfVrDOXwc/8V99FAxg17shYJGUOWDBn1NgTs1vYPAPh2ClPZdgfG2oYL6WumAPsM1gxa/hYBuH9mBDEwZh2jwRYfOxHGFBYihhMTc0YWQZQGHy6kth3oxXYfjbYmF1ZW1hxh53YQsbgGFEQIRhzeqHYUAIi2Gei41hJmqPYRKdkGE1IZFhNvaQYUEfkGHYoY5hO4aMYVXWiWGbnYZh/OeCYRmFfWFEc3RhJLVqYcpiYGHvlVVh5GZKYcjtPmE2RDNh5YEnYe2/G2GqFxBhvqEEYUbr8mA4VN1giqfIYPgItWDklaJgIGSRYIaAgWBA4WVgll5LYORiM2CdxB1g8FAKYGGU8V9a2dFfleK0Xx4lml8RG4Ff/J1SX3TCJF++TPBeDg6nXg==",
           "dtype": "f4"
          },
          "colorbar": {
           "title": {
            "text": "n(m, t)"
           }
          },
          "colorscale": [
           [
            0,
            "#440154"
           ],
           [
            0.1111111111111111,
            "#482878"
           ],
           [
            0.2222222222222222,
            "#3e4989"
           ],
           [
            0.3333333333333333,
            "#31688e"
           ],
           [
            0.4444444444444444,
            "#26828e"
           ],
           [
            0.5555555555555556,
            "#1f9e89"
           ],
           [
            0.6666666666666666,
            "#35b779"
           ],
           [
            0.7777777777777778,
            "#6ece58"
           ],
           [
            0.8888888888888888,
            "#b5de2b"
           ],
           [
            1,
            "#fde725"
           ]
          ],
          "showscale": true,
          "width": 4
         },
         "mode": "lines",
         "showlegend": false,
         "type": "scatter3d",
         "x": {
          "bdata": "AAAAALooDiy6KI4sFz3VLLooDi3osjEtFz1VLUbHeC26KI4t0e2fLeiysS0AeMMtFz3VLS4C5y1Gx/gtLkYFLrooDi5GCxcu0e0fLl3QKC7osjEudJU6LgB4Qy6LWkwuFz1VLqMfXi4uAmcuuuRvLkbHeC7p1IAuLkaFLnS3iS66KI4uAJqSLkYLly6LfJsu0e2fLhdfpC5d0Kguo0GtLuiysS4uJLYudJW6LroGvy4AeMMuRunHLotazC7Ry9AuFz3VLl2u2S6hH94u55DiLi0C5y5zc+suuOTvLv5V9C5Ex/guijj9LujUAC+LDQMvLkYFL9B+By90twkvFvALL7ooDi9cYRAv/5kSL6LSFC9FCxcv6EMZL4p8Gy8utR0v0O0fL3QmIi8WXyQvuZcmL1zQKC//CCsvokEtL0V6Ly/osjEvi+szLy4kNi/QXDgvdJU6LxbOPC+5Bj8vXD9BL/93Qy+isEUvRelHL+ghSi+LWkwvLpNOL9DLUC9zBFMvFj1VL7l1Vy9crlkv/+ZbLw==",
          "dtype": "f4"
         },
         "y": {
          "bdata": "AAAAAAAAAAAAAAAAAAAAAAAAAAAAAAAAAAAAAAAAAAAAAAAAAAAAAAAAAAAAAAAAAAAAAAAAAAAAAAAAAAAAAAAAAAAAAAAAAAAAAAAAAAAAAAAAAAAAAAAAAAAAAAAAAAAAAAAAAAAAAAAAAAAAAAAAAAAAAAAAAAAAAAAAAAAAAAAAAAAAAAAAAAAAAAAAAAAAAAAAAAAAAAAAAAAAAAAAAAAAAAAAAAAAAAAAAAAAAAAAAAAAAAAAAAAAAAAAAAAAAAAAAAAAAAAAAAAAAAAAAAAAAAAAAAAAAAAAAAAAAAAAAAAAAAAAAAAAAAAAAAAAAAAAAAAAAAAAAAAAAAAAAAAAAAAAAAAAAAAAAAAAAAAAAAAAAAAAAAAAAAAAAAAAAAAAAAAAAAAAAAAAAAAAAAAAAAAAAAAAAAAAAAAAAAAAAAAAAAAAAAAAAAAAAAAAAAAAAAAAAAAAAAAAAAAAAAAAAAAAAAAAAAAAAAAAAAAAAAAAAAAAAAAAAAAAAAAAAAAAAAAAAAAAAAAAAA==",
          "dtype": "f4"
         },
         "z": {
          "bdata": "AAAAAFzZnVzU46nbSV/G3GRVJN3lbUrdqg9R3cxbNN1UQu7chfrQ2x03u1zQu2pdmgjEXRNMDF425zheH35nXiFVjF4x0KZeN/fDXsgC5V7ZyAVfqoUcXyKxN1+hGFhflot+X3HnlV84TLBfVrDOXwc/8V99FAxg17shYJGUOWDBn1NgTs1vYPAPh2ClPZdgfG2oYL6WumAPsM1gxa/hYBuH9mBDEwZh2jwRYfOxHGFBYihhMTc0YWQZQGHy6kth3oxXYfjbYmF1ZW1hxh53YQsbgGFEQIRhzeqHYUAIi2Gei41hJmqPYRKdkGE1IZFhNvaQYUEfkGHYoY5hO4aMYVXWiWGbnYZh/OeCYRmFfWFEc3RhJLVqYcpiYGHvlVVh5GZKYcjtPmE2RDNh5YEnYe2/G2GqFxBhvqEEYUbr8mA4VN1giqfIYPgItWDklaJgIGSRYIaAgWBA4WVgll5LYORiM2CdxB1g8FAKYGGU8V9a2dFfleK0Xx4lml8RG4Ff/J1SX3TCJF++TPBeDg6nXg==",
          "dtype": "f4"
         }
        },
        {
         "line": {
          "cmax": 611586436859611300000,
          "cmin": -941527887222145000,
          "color": {
           "bdata": "AAAAAO48nFwVHfxbhMUmXG6f7FyaLo1dHnEIXhQ0ZF4e1axe6frzXrRfI1/VEVJfacyCX73Bnl+zurxfe5DcX5wy/l+DzRBgN2MjYMLfNmAJTUtg9KhgYEv5dmD2GIdgICCTYOiEn2AmNqxgzhm5YCASxmCsA9Ngp8zfYHdM7GBEafhgNwQCYS+PB2HOzgxh+MQRYch2FmHI7Rph/DcfYR1mI2Hkiydh+b0rYcgPMGHVkzRhaVc5Ya9lPmEwwkNhh2xJYS9cT2GRFlVhJ6laYRhuYGEfRGZh2AZsYW+PcWFKu3Zh8mZ7YYVyf2HlYIFhLJ6CYe9ng2GRt4NhmYmDYevcgmEus4FhTw+AYTLte2Eo3XZhRP1wYXBbamFkCGNhhhRbYeSQUmFDkElhniRAYWBhNmEiWyxhSiYiYUzXF2E/gw1hVj4DYTE48mBPXd5gEQ3LYGJjuGC2eKZgZl6VYD4ihWBslWtgkrROYFCcM2AcPxpg1IcCYJu52F81Pq9frFqIX2OOR19ObQJfxBGcXg==",
           "dtype": "f4"
          },
          "colorscale": [
           [
            0,
            "#440154"
           ],
           [
            0.1111111111111111,
            "#482878"
           ],
           [
            0.2222222222222222,
            "#3e4989"
           ],
           [
            0.3333333333333333,
            "#31688e"
           ],
           [
            0.4444444444444444,
            "#26828e"
           ],
           [
            0.5555555555555556,
            "#1f9e89"
           ],
           [
            0.6666666666666666,
            "#35b779"
           ],
           [
            0.7777777777777778,
            "#6ece58"
           ],
           [
            0.8888888888888888,
            "#b5de2b"
           ],
           [
            1,
            "#fde725"
           ]
          ],
          "showscale": false,
          "width": 4
         },
         "mode": "lines",
         "showlegend": false,
         "type": "scatter3d",
         "x": {
          "bdata": "AAAAALooDiy6KI4sFz3VLLooDi3osjEtFz1VLUbHeC26KI4t0e2fLeiysS0AeMMtFz3VLS4C5y1Gx/gtLkYFLrooDi5GCxcu0e0fLl3QKC7osjEudJU6LgB4Qy6LWkwuFz1VLqMfXi4uAmcuuuRvLkbHeC7p1IAuLkaFLnS3iS66KI4uAJqSLkYLly6LfJsu0e2fLhdfpC5d0Kguo0GtLuiysS4uJLYudJW6LroGvy4AeMMuRunHLotazC7Ry9AuFz3VLl2u2S6hH94u55DiLi0C5y5zc+suuOTvLv5V9C5Ex/guijj9LujUAC+LDQMvLkYFL9B+By90twkvFvALL7ooDi9cYRAv/5kSL6LSFC9FCxcv6EMZL4p8Gy8utR0v0O0fL3QmIi8WXyQvuZcmL1zQKC//CCsvokEtL0V6Ly/osjEvi+szLy4kNi/QXDgvdJU6LxbOPC+5Bj8vXD9BL/93Qy+isEUvRelHL+ghSi+LWkwvLpNOL9DLUC9zBFMvFj1VL7l1Vy9crlkv/+ZbLw==",
          "dtype": "f4"
         },
         "y": {
          "bdata": "Yt5OPmLeTj5i3k4+Yt5OPmLeTj5i3k4+Yt5OPmLeTj5i3k4+Yt5OPmLeTj5i3k4+Yt5OPmLeTj5i3k4+Yt5OPmLeTj5i3k4+Yt5OPmLeTj5i3k4+Yt5OPmLeTj5i3k4+Yt5OPmLeTj5i3k4+Yt5OPmLeTj5i3k4+Yt5OPmLeTj5i3k4+Yt5OPmLeTj5i3k4+Yt5OPmLeTj5i3k4+Yt5OPmLeTj5i3k4+Yt5OPmLeTj5i3k4+Yt5OPmLeTj5i3k4+Yt5OPmLeTj5i3k4+Yt5OPmLeTj5i3k4+Yt5OPmLeTj5i3k4+Yt5OPmLeTj5i3k4+Yt5OPmLeTj5i3k4+Yt5OPmLeTj5i3k4+Yt5OPmLeTj5i3k4+Yt5OPmLeTj5i3k4+Yt5OPmLeTj5i3k4+Yt5OPmLeTj5i3k4+Yt5OPmLeTj5i3k4+Yt5OPmLeTj5i3k4+Yt5OPmLeTj5i3k4+Yt5OPmLeTj5i3k4+Yt5OPmLeTj5i3k4+Yt5OPmLeTj5i3k4+Yt5OPmLeTj5i3k4+Yt5OPg==",
          "dtype": "f4"
         },
         "z": {
          "bdata": "AAAAAO48nFwVHfxbhMUmXG6f7FyaLo1dHnEIXhQ0ZF4e1axe6frzXrRfI1/VEVJfacyCX73Bnl+zurxfe5DcX5wy/l+DzRBgN2MjYMLfNmAJTUtg9KhgYEv5dmD2GIdgICCTYOiEn2AmNqxgzhm5YCASxmCsA9Ngp8zfYHdM7GBEafhgNwQCYS+PB2HOzgxh+MQRYch2FmHI7Rph/DcfYR1mI2Hkiydh+b0rYcgPMGHVkzRhaVc5Ya9lPmEwwkNhh2xJYS9cT2GRFlVhJ6laYRhuYGEfRGZh2AZsYW+PcWFKu3Zh8mZ7YYVyf2HlYIFhLJ6CYe9ng2GRt4NhmYmDYevcgmEus4FhTw+AYTLte2Eo3XZhRP1wYXBbamFkCGNhhhRbYeSQUmFDkElhniRAYWBhNmEiWyxhSiYiYUzXF2E/gw1hVj4DYTE48mBPXd5gEQ3LYGJjuGC2eKZgZl6VYD4ihWBslWtgkrROYFCcM2AcPxpg1IcCYJu52F81Pq9frFqIX2OOR19ObQJfxBGcXg==",
          "dtype": "f4"
         }
        },
        {
         "line": {
          "cmax": 611586436859611300000,
          "cmin": -941527887222145000,
          "color": {
           "bdata": "AAAAAIF0flzYJS1cw4faXEd9kl3EqhtewLCLXh3w3l5rziNf8HdiX1BxlV86Jr5f9PjqX2zFDWDowSdgYUpDYNxAYGDGi35gVwmPYOxgn2DJQ7Bg3qLBYPtw02Bdl+VgOPr3YIU8BWH0dg5hwJQXYTB8IGFDFClhdEExYRbpOGFx9D9h5k1GYd/nS2HatlBhoLhUYT/xV2F8a1ph7ThcYfJwXWFBMF5h+ZZeYZHGXmEj4V5hCwZfYZNSX2HK3V9hmbpgYR7zYWG4I2NhZmVkYSYZZmHhK2hht4VqYSUJbWFWmW9hfxVyYf1ddGFbVHZhitx3Ye3eeGFMSHlhCwt5YcodeGHmfHZhQid0YcQgcWHybW1hIhdpYdcjZGE0nl5hnY9YYc8BUmFE/0phoZFDYfbCO2FunjNhpS4rYaR+ImGAmhlhUY4QYbNmB2EBYfxghfHpYPKX12CrbcVgZ4mzYNIBomDg6ZBgIVOAYOKXYGDIv0Fgbi4kYIfuB2BvBtpfddCmX01BbF9vhg9fPv+VXg==",
           "dtype": "f4"
          },
          "colorscale": [
           [
            0,
            "#440154"
           ],
           [
            0.1111111111111111,
            "#482878"
           ],
           [
            0.2222222222222222,
            "#3e4989"
           ],
           [
            0.3333333333333333,
            "#31688e"
           ],
           [
            0.4444444444444444,
            "#26828e"
           ],
           [
            0.5555555555555556,
            "#1f9e89"
           ],
           [
            0.6666666666666666,
            "#35b779"
           ],
           [
            0.7777777777777778,
            "#6ece58"
           ],
           [
            0.8888888888888888,
            "#b5de2b"
           ],
           [
            1,
            "#fde725"
           ]
          ],
          "showscale": false,
          "width": 4
         },
         "mode": "lines",
         "showlegend": false,
         "type": "scatter3d",
         "x": {
          "bdata": "AAAAALooDiy6KI4sFz3VLLooDi3osjEtFz1VLUbHeC26KI4t0e2fLeiysS0AeMMtFz3VLS4C5y1Gx/gtLkYFLrooDi5GCxcu0e0fLl3QKC7osjEudJU6LgB4Qy6LWkwuFz1VLqMfXi4uAmcuuuRvLkbHeC7p1IAuLkaFLnS3iS66KI4uAJqSLkYLly6LfJsu0e2fLhdfpC5d0Kguo0GtLuiysS4uJLYudJW6LroGvy4AeMMuRunHLotazC7Ry9AuFz3VLl2u2S6hH94u55DiLi0C5y5zc+suuOTvLv5V9C5Ex/guijj9LujUAC+LDQMvLkYFL9B+By90twkvFvALL7ooDi9cYRAv/5kSL6LSFC9FCxcv6EMZL4p8Gy8utR0v0O0fL3QmIi8WXyQvuZcmL1zQKC//CCsvokEtL0V6Ly/osjEvi+szLy4kNi/QXDgvdJU6LxbOPC+5Bj8vXD9BL/93Qy+isEUvRelHL+ghSi+LWkwvLpNOL9DLUC9zBFMvFj1VL7l1Vy9crlkv/+ZbLw==",
          "dtype": "f4"
         },
         "y": {
          "bdata": "Yt7OPmLezj5i3s4+Yt7OPmLezj5i3s4+Yt7OPmLezj5i3s4+Yt7OPmLezj5i3s4+Yt7OPmLezj5i3s4+Yt7OPmLezj5i3s4+Yt7OPmLezj5i3s4+Yt7OPmLezj5i3s4+Yt7OPmLezj5i3s4+Yt7OPmLezj5i3s4+Yt7OPmLezj5i3s4+Yt7OPmLezj5i3s4+Yt7OPmLezj5i3s4+Yt7OPmLezj5i3s4+Yt7OPmLezj5i3s4+Yt7OPmLezj5i3s4+Yt7OPmLezj5i3s4+Yt7OPmLezj5i3s4+Yt7OPmLezj5i3s4+Yt7OPmLezj5i3s4+Yt7OPmLezj5i3s4+Yt7OPmLezj5i3s4+Yt7OPmLezj5i3s4+Yt7OPmLezj5i3s4+Yt7OPmLezj5i3s4+Yt7OPmLezj5i3s4+Yt7OPmLezj5i3s4+Yt7OPmLezj5i3s4+Yt7OPmLezj5i3s4+Yt7OPmLezj5i3s4+Yt7OPmLezj5i3s4+Yt7OPmLezj5i3s4+Yt7OPmLezj5i3s4+Yt7OPg==",
          "dtype": "f4"
         },
         "z": {
          "bdata": "AAAAAIF0flzYJS1cw4faXEd9kl3EqhtewLCLXh3w3l5rziNf8HdiX1BxlV86Jr5f9PjqX2zFDWDowSdgYUpDYNxAYGDGi35gVwmPYOxgn2DJQ7Bg3qLBYPtw02Bdl+VgOPr3YIU8BWH0dg5hwJQXYTB8IGFDFClhdEExYRbpOGFx9D9h5k1GYd/nS2HatlBhoLhUYT/xV2F8a1ph7ThcYfJwXWFBMF5h+ZZeYZHGXmEj4V5hCwZfYZNSX2HK3V9hmbpgYR7zYWG4I2NhZmVkYSYZZmHhK2hht4VqYSUJbWFWmW9hfxVyYf1ddGFbVHZhitx3Ye3eeGFMSHlhCwt5YcodeGHmfHZhQid0YcQgcWHybW1hIhdpYdcjZGE0nl5hnY9YYc8BUmFE/0phoZFDYfbCO2FunjNhpS4rYaR+ImGAmhlhUY4QYbNmB2EBYfxghfHpYPKX12CrbcVgZ4mzYNIBomDg6ZBgIVOAYOKXYGDIv0Fgbi4kYIfuB2BvBtpfddCmX01BbF9vhg9fPv+VXg==",
          "dtype": "f4"
         }
        },
        {
         "line": {
          "cmax": 611586436859611300000,
          "cmin": -941527887222145000,
          "color": {
           "bdata": "AAAAAKmkO1zccRxc8RYOXbw0y123EVle1D/CXqaKGl9koGJf+3GcX3pLzl+dLANgmAciYGZvQ2CfHWdgH2iGYLwmmmA4sK5gO+vDYA3B2WBtHPBgmHEDYZj+DmEOpRphZlImYSzyMWFVbT1hb6hIYQSGU2Ef6V1hhrJnYY/DcGEqAXlh5CiAYZFRg2H28oVhzQmIYXuWiWHsnIph4CSLYac5i2G/6YphFEaKYQRhiWHqTYhhsh+HYZzohWGSuIRhvZ2DYTOigmHspYFhz7WAYSHyf2Ht1n5hXAx+YS9+fWFSF31h3b18YfVXfGEkzHthogJ7YTjneWFbaXhhb312YYobdGEjQXFh2O1tYQYmamF57mVhNk9hYR1PXGHY9lZhiE1RYa5ZS2EtIUVhKKg+YdjxN2GFATFhA9kpYQd6ImHc5hph0SETYSQuC2H8DwNhS5n1YIfU5GAA4dNgz87CYBSxsWCOmqBggZ+PYDOnfWDsk1xgQSg8YJuDHGDQfvtfQtu/X1kthl/+0Rxf6ImVXg==",
           "dtype": "f4"
          },
          "colorscale": [
           [
            0,
            "#440154"
           ],
           [
            0.1111111111111111,
            "#482878"
           ],
           [
            0.2222222222222222,
            "#3e4989"
           ],
           [
            0.3333333333333333,
            "#31688e"
           ],
           [
            0.4444444444444444,
            "#26828e"
           ],
           [
            0.5555555555555556,
            "#1f9e89"
           ],
           [
            0.6666666666666666,
            "#35b779"
           ],
           [
            0.7777777777777778,
            "#6ece58"
           ],
           [
            0.8888888888888888,
            "#b5de2b"
           ],
           [
            1,
            "#fde725"
           ]
          ],
          "showscale": false,
          "width": 4
         },
         "mode": "lines",
         "showlegend": false,
         "type": "scatter3d",
         "x": {
          "bdata": "AAAAALooDiy6KI4sFz3VLLooDi3osjEtFz1VLUbHeC26KI4t0e2fLeiysS0AeMMtFz3VLS4C5y1Gx/gtLkYFLrooDi5GCxcu0e0fLl3QKC7osjEudJU6LgB4Qy6LWkwuFz1VLqMfXi4uAmcuuuRvLkbHeC7p1IAuLkaFLnS3iS66KI4uAJqSLkYLly6LfJsu0e2fLhdfpC5d0Kguo0GtLuiysS4uJLYudJW6LroGvy4AeMMuRunHLotazC7Ry9AuFz3VLl2u2S6hH94u55DiLi0C5y5zc+suuOTvLv5V9C5Ex/guijj9LujUAC+LDQMvLkYFL9B+By90twkvFvALL7ooDi9cYRAv/5kSL6LSFC9FCxcv6EMZL4p8Gy8utR0v0O0fL3QmIi8WXyQvuZcmL1zQKC//CCsvokEtL0V6Ly/osjEvi+szLy4kNi/QXDgvdJU6LxbOPC+5Bj8vXD9BL/93Qy+isEUvRelHL+ghSi+LWkwvLpNOL9DLUC9zBFMvFj1VL7l1Vy9crlkv/+ZbLw==",
          "dtype": "f4"
         },
         "y": {
          "bdata": "yiYbP8omGz/KJhs/yiYbP8omGz/KJhs/yiYbP8omGz/KJhs/yiYbP8omGz/KJhs/yiYbP8omGz/KJhs/yiYbP8omGz/KJhs/yiYbP8omGz/KJhs/yiYbP8omGz/KJhs/yiYbP8omGz/KJhs/yiYbP8omGz/KJhs/yiYbP8omGz/KJhs/yiYbP8omGz/KJhs/yiYbP8omGz/KJhs/yiYbP8omGz/KJhs/yiYbP8omGz/KJhs/yiYbP8omGz/KJhs/yiYbP8omGz/KJhs/yiYbP8omGz/KJhs/yiYbP8omGz/KJhs/yiYbP8omGz/KJhs/yiYbP8omGz/KJhs/yiYbP8omGz/KJhs/yiYbP8omGz/KJhs/yiYbP8omGz/KJhs/yiYbP8omGz/KJhs/yiYbP8omGz/KJhs/yiYbP8omGz/KJhs/yiYbP8omGz/KJhs/yiYbP8omGz/KJhs/yiYbP8omGz/KJhs/yiYbP8omGz/KJhs/yiYbP8omGz/KJhs/yiYbP8omGz/KJhs/yiYbPw==",
          "dtype": "f4"
         },
         "z": {
          "bdata": "AAAAAKmkO1zccRxc8RYOXbw0y123EVle1D/CXqaKGl9koGJf+3GcX3pLzl+dLANgmAciYGZvQ2CfHWdgH2iGYLwmmmA4sK5gO+vDYA3B2WBtHPBgmHEDYZj+DmEOpRphZlImYSzyMWFVbT1hb6hIYQSGU2Ef6V1hhrJnYY/DcGEqAXlh5CiAYZFRg2H28oVhzQmIYXuWiWHsnIph4CSLYac5i2G/6YphFEaKYQRhiWHqTYhhsh+HYZzohWGSuIRhvZ2DYTOigmHspYFhz7WAYSHyf2Ht1n5hXAx+YS9+fWFSF31h3b18YfVXfGEkzHthogJ7YTjneWFbaXhhb312YYobdGEjQXFh2O1tYQYmamF57mVhNk9hYR1PXGHY9lZhiE1RYa5ZS2EtIUVhKKg+YdjxN2GFATFhA9kpYQd6ImHc5hph0SETYSQuC2H8DwNhS5n1YIfU5GAA4dNgz87CYBSxsWCOmqBggZ+PYDOnfWDsk1xgQSg8YJuDHGDQfvtfQtu/X1kthl/+0Rxf6ImVXg==",
          "dtype": "f4"
         }
        },
        {
         "line": {
          "cmax": 611586436859611300000,
          "cmin": -941527887222145000,
          "color": {
           "bdata": "AAAAAKPD+VuFF+pblSkeXWDI8V1pN4NefjDsXpN+PF+ug4pfaZa/X0UG/V/qGCFgQDJHYNtvcGAeOI5giWqlYG+jvWCoudZg1IXwYOtxBWES2RJhDmYgYRQILmGGqzth6DpJYdqfVmEOwmNhd4VwYY7MfGEYPYRhsLeJYcPGjmGVXJNhGWyXYYnrmmGT0p1h2hygYbXJoWHQ26JhvlmjYbdNo2FTxaJh7dChYZ+CoGHf7Z5haiadYV0/m2E6Splh51aXYZ5xlWFLi5Nhl66RYU/1j2HtXY5hUOSMYfaAi2G6K4phK9qIYdaBh2FxGIZhlJSEYXvugmEjIIFhu0t+YZH7eWEgUXVhAFBwYVsAa2GaamVhKJpfYfqYWWEOclNhPC5NYbPURmHkakBhWvM5YX5uM2Fp2yxhrDYmYct7H2HipRhhia8RYQaUCmFxTwNhlb73YL+E6GCA89hgmA/JYNTiuGDieKhgPuGXYA8th2AB3mxgenRLYGpDKmAHbglgCCXSX2KQkl+cayhfvuWYXg==",
           "dtype": "f4"
          },
          "colorscale": [
           [
            0,
            "#440154"
           ],
           [
            0.1111111111111111,
            "#482878"
           ],
           [
            0.2222222222222222,
            "#3e4989"
           ],
           [
            0.3333333333333333,
            "#31688e"
           ],
           [
            0.4444444444444444,
            "#26828e"
           ],
           [
            0.5555555555555556,
            "#1f9e89"
           ],
           [
            0.6666666666666666,
            "#35b779"
           ],
           [
            0.7777777777777778,
            "#6ece58"
           ],
           [
            0.8888888888888888,
            "#b5de2b"
           ],
           [
            1,
            "#fde725"
           ]
          ],
          "showscale": false,
          "width": 4
         },
         "mode": "lines",
         "showlegend": false,
         "type": "scatter3d",
         "x": {
          "bdata": "AAAAALooDiy6KI4sFz3VLLooDi3osjEtFz1VLUbHeC26KI4t0e2fLeiysS0AeMMtFz3VLS4C5y1Gx/gtLkYFLrooDi5GCxcu0e0fLl3QKC7osjEudJU6LgB4Qy6LWkwuFz1VLqMfXi4uAmcuuuRvLkbHeC7p1IAuLkaFLnS3iS66KI4uAJqSLkYLly6LfJsu0e2fLhdfpC5d0Kguo0GtLuiysS4uJLYudJW6LroGvy4AeMMuRunHLotazC7Ry9AuFz3VLl2u2S6hH94u55DiLi0C5y5zc+suuOTvLv5V9C5Ex/guijj9LujUAC+LDQMvLkYFL9B+By90twkvFvALL7ooDi9cYRAv/5kSL6LSFC9FCxcv6EMZL4p8Gy8utR0v0O0fL3QmIi8WXyQvuZcmL1zQKC//CCsvokEtL0V6Ly/osjEvi+szLy4kNi/QXDgvdJU6LxbOPC+5Bj8vXD9BL/93Qy+isEUvRelHL+ghSi+LWkwvLpNOL9DLUC9zBFMvFj1VL7l1Vy9crlkv/+ZbLw==",
          "dtype": "f4"
         },
         "y": {
          "bdata": "Yt5OP2LeTj9i3k4/Yt5OP2LeTj9i3k4/Yt5OP2LeTj9i3k4/Yt5OP2LeTj9i3k4/Yt5OP2LeTj9i3k4/Yt5OP2LeTj9i3k4/Yt5OP2LeTj9i3k4/Yt5OP2LeTj9i3k4/Yt5OP2LeTj9i3k4/Yt5OP2LeTj9i3k4/Yt5OP2LeTj9i3k4/Yt5OP2LeTj9i3k4/Yt5OP2LeTj9i3k4/Yt5OP2LeTj9i3k4/Yt5OP2LeTj9i3k4/Yt5OP2LeTj9i3k4/Yt5OP2LeTj9i3k4/Yt5OP2LeTj9i3k4/Yt5OP2LeTj9i3k4/Yt5OP2LeTj9i3k4/Yt5OP2LeTj9i3k4/Yt5OP2LeTj9i3k4/Yt5OP2LeTj9i3k4/Yt5OP2LeTj9i3k4/Yt5OP2LeTj9i3k4/Yt5OP2LeTj9i3k4/Yt5OP2LeTj9i3k4/Yt5OP2LeTj9i3k4/Yt5OP2LeTj9i3k4/Yt5OP2LeTj9i3k4/Yt5OP2LeTj9i3k4/Yt5OP2LeTj9i3k4/Yt5OP2LeTj9i3k4/Yt5OPw==",
          "dtype": "f4"
         },
         "z": {
          "bdata": "AAAAAKPD+VuFF+pblSkeXWDI8V1pN4NefjDsXpN+PF+ug4pfaZa/X0UG/V/qGCFgQDJHYNtvcGAeOI5giWqlYG+jvWCoudZg1IXwYOtxBWES2RJhDmYgYRQILmGGqzth6DpJYdqfVmEOwmNhd4VwYY7MfGEYPYRhsLeJYcPGjmGVXJNhGWyXYYnrmmGT0p1h2hygYbXJoWHQ26JhvlmjYbdNo2FTxaJh7dChYZ+CoGHf7Z5haiadYV0/m2E6Splh51aXYZ5xlWFLi5Nhl66RYU/1j2HtXY5hUOSMYfaAi2G6K4phK9qIYdaBh2FxGIZhlJSEYXvugmEjIIFhu0t+YZH7eWEgUXVhAFBwYVsAa2GaamVhKJpfYfqYWWEOclNhPC5NYbPURmHkakBhWvM5YX5uM2Fp2yxhrDYmYct7H2HipRhhia8RYQaUCmFxTwNhlb73YL+E6GCA89hgmA/JYNTiuGDieKhgPuGXYA8th2AB3mxgenRLYGpDKmAHbglgCCXSX2KQkl+cayhfvuWYXg==",
          "dtype": "f4"
         }
        },
        {
         "line": {
          "cmax": 611586436859611300000,
          "cmin": -941527887222145000,
          "color": {
           "bdata": "AAAAAEPxgVuyw4JboeUjXbkFBl4SF5RezkQGX6E7V19do55fjPDbX0eDEWDclTlgRsRlYOjMimBITqRg9ym/YFwm22BXDPhgldMKYe3iGWGYHSlhNWw4Ya+5R2Ew71Zh1vRlYe6ydGFGiIFh8XiIYTgdj2EVZ5Vh2UebYQ2xoGGelaVhLOmpYUqirWHpuLBhjSizYWHwtGGeErZhV5W2YSmCtmEb5rVhEtG0Yb1Us2FehLFhyHOvYUE2rWG33aphp3qoYQQapmGzuaNhwmGhYf8fn2G485xhrdmaYSLLmGHAwJZhK7GUYQSTkmFbXZBhOAiOYWKNi2Ft6IhhTxeGYd4Zg2Eh5X9hY0p5YYpvcmFJYWthJy9kYT/nXGFymFVh8E5OYdQUR2GD8T9hweg4YTT7MWEJJythDWckYduzHWHgBBdhH1AQYc2LCWForgJhVl/3YBUR6WDFaNpgbGDLYOr3u2BYMqxgwRecYIOzi2DbJ3ZgzZJUYFHLMmBW9RBg02XeX39Fm1+7cjFfM8mdXg==",
           "dtype": "f4"
          },
          "colorscale": [
           [
            0,
            "#440154"
           ],
           [
            0.1111111111111111,
            "#482878"
           ],
           [
            0.2222222222222222,
            "#3e4989"
           ],
           [
            0.3333333333333333,
            "#31688e"
           ],
           [
            0.4444444444444444,
            "#26828e"
           ],
           [
            0.5555555555555556,
            "#1f9e89"
           ],
           [
            0.6666666666666666,
            "#35b779"
           ],
           [
            0.7777777777777778,
            "#6ece58"
           ],
           [
            0.8888888888888888,
            "#b5de2b"
           ],
           [
            1,
            "#fde725"
           ]
          ],
          "showscale": false,
          "width": 4
         },
         "mode": "lines",
         "showlegend": false,
         "type": "scatter3d",
         "x": {
          "bdata": "AAAAALooDiy6KI4sFz3VLLooDi3osjEtFz1VLUbHeC26KI4t0e2fLeiysS0AeMMtFz3VLS4C5y1Gx/gtLkYFLrooDi5GCxcu0e0fLl3QKC7osjEudJU6LgB4Qy6LWkwuFz1VLqMfXi4uAmcuuuRvLkbHeC7p1IAuLkaFLnS3iS66KI4uAJqSLkYLly6LfJsu0e2fLhdfpC5d0Kguo0GtLuiysS4uJLYudJW6LroGvy4AeMMuRunHLotazC7Ry9AuFz3VLl2u2S6hH94u55DiLi0C5y5zc+suuOTvLv5V9C5Ex/guijj9LujUAC+LDQMvLkYFL9B+By90twkvFvALL7ooDi9cYRAv/5kSL6LSFC9FCxcv6EMZL4p8Gy8utR0v0O0fL3QmIi8WXyQvuZcmL1zQKC//CCsvokEtL0V6Ly/osjEvi+szLy4kNi/QXDgvdJU6LxbOPC+5Bj8vXD9BL/93Qy+isEUvRelHL+ghSi+LWkwvLpNOL9DLUC9zBFMvFj1VL7l1Vy9crlkv/+ZbLw==",
          "dtype": "f4"
         },
         "y": {
          "bdata": "/UqBP/1KgT/9SoE//UqBP/1KgT/9SoE//UqBP/1KgT/9SoE//UqBP/1KgT/9SoE//UqBP/1KgT/9SoE//UqBP/1KgT/9SoE//UqBP/1KgT/9SoE//UqBP/1KgT/9SoE//UqBP/1KgT/9SoE//UqBP/1KgT/9SoE//UqBP/1KgT/9SoE//UqBP/1KgT/9SoE//UqBP/1KgT/9SoE//UqBP/1KgT/9SoE//UqBP/1KgT/9SoE//UqBP/1KgT/9SoE//UqBP/1KgT/9SoE//UqBP/1KgT/9SoE//UqBP/1KgT/9SoE//UqBP/1KgT/9SoE//UqBP/1KgT/9SoE//UqBP/1KgT/9SoE//UqBP/1KgT/9SoE//UqBP/1KgT/9SoE//UqBP/1KgT/9SoE//UqBP/1KgT/9SoE//UqBP/1KgT/9SoE//UqBP/1KgT/9SoE//UqBP/1KgT/9SoE//UqBP/1KgT/9SoE//UqBP/1KgT/9SoE//UqBP/1KgT/9SoE//UqBP/1KgT/9SoE//UqBPw==",
          "dtype": "f4"
         },
         "z": {
          "bdata": "AAAAAEPxgVuyw4JboeUjXbkFBl4SF5RezkQGX6E7V19do55fjPDbX0eDEWDclTlgRsRlYOjMimBITqRg9ym/YFwm22BXDPhgldMKYe3iGWGYHSlhNWw4Ya+5R2Ew71Zh1vRlYe6ydGFGiIFh8XiIYTgdj2EVZ5Vh2UebYQ2xoGGelaVhLOmpYUqirWHpuLBhjSizYWHwtGGeErZhV5W2YSmCtmEb5rVhEtG0Yb1Us2FehLFhyHOvYUE2rWG33aphp3qoYQQapmGzuaNhwmGhYf8fn2G485xhrdmaYSLLmGHAwJZhK7GUYQSTkmFbXZBhOAiOYWKNi2Ft6IhhTxeGYd4Zg2Eh5X9hY0p5YYpvcmFJYWthJy9kYT/nXGFymFVh8E5OYdQUR2GD8T9hweg4YTT7MWEJJythDWckYduzHWHgBBdhH1AQYc2LCWForgJhVl/3YBUR6WDFaNpgbGDLYOr3u2BYMqxgwRecYIOzi2DbJ3ZgzZJUYFHLMmBW9RBg02XeX39Fm1+7cjFfM8mdXg==",
          "dtype": "f4"
         }
        },
        {
         "line": {
          "cmax": 611586436859611300000,
          "cmin": -941527887222145000,
          "color": {
           "bdata": "AAAAALMso1ltmXFZoPUhXcWiDl4tpKBejs4SX0ZkbF9wwq5ffNfyX//zIGCAk01gLNB+YL0RmmB6f7Zg0WnUYEaL82BP0AlhtjQaYaTUKmFOlDths1dMYdYFXWHUhG1herp9YdfGhmF0co5hN9KVYVTYnGFPd6NhQ6GpYbhIr2FoYbRh2N+4YV+7vGGU7L9hZG/CYV1DxGHZasVhAezFYWvQxWEHJcVhrfnDYQRgwmE8a8BhWy++YbW/u2GFLrlhd4y2YdXms2FMRLFhCauuYT8grGFTo6lh+jCnYV/CpGEdUKJh9dCfYao7nWGnh5phdq2XYW+nlGHWcZFhYwuOYdt0imG9sYZhFMeCYX54fWFFMnVhQM5sYRJeZGEU9FthzJ9TYYBuS2FuakNhnpk7YYb+M2FNmCxhMWIlYXFUHmFUZRdhH4kQYbKzCWGP2AJhSdj3YITH6WDVbdtghb3MYMSuvWBnPa5grWqeYOc7jmBEdHtgKeNZYHHhN2AgjxVgkRnmX5z1oF+i2zdfNomiXg==",
           "dtype": "f4"
          },
          "colorscale": [
           [
            0,
            "#440154"
           ],
           [
            0.1111111111111111,
            "#482878"
           ],
           [
            0.2222222222222222,
            "#3e4989"
           ],
           [
            0.3333333333333333,
            "#31688e"
           ],
           [
            0.4444444444444444,
            "#26828e"
           ],
           [
            0.5555555555555556,
            "#1f9e89"
           ],
           [
            0.6666666666666666,
            "#35b779"
           ],
           [
            0.7777777777777778,
            "#6ece58"
           ],
           [
            0.8888888888888888,
            "#b5de2b"
           ],
           [
            1,
            "#fde725"
           ]
          ],
          "showscale": false,
          "width": 4
         },
         "mode": "lines",
         "showlegend": false,
         "type": "scatter3d",
         "x": {
          "bdata": "AAAAALooDiy6KI4sFz3VLLooDi3osjEtFz1VLUbHeC26KI4t0e2fLeiysS0AeMMtFz3VLS4C5y1Gx/gtLkYFLrooDi5GCxcu0e0fLl3QKC7osjEudJU6LgB4Qy6LWkwuFz1VLqMfXi4uAmcuuuRvLkbHeC7p1IAuLkaFLnS3iS66KI4uAJqSLkYLly6LfJsu0e2fLhdfpC5d0Kguo0GtLuiysS4uJLYudJW6LroGvy4AeMMuRunHLotazC7Ry9AuFz3VLl2u2S6hH94u55DiLi0C5y5zc+suuOTvLv5V9C5Ex/guijj9LujUAC+LDQMvLkYFL9B+By90twkvFvALL7ooDi9cYRAv/5kSL6LSFC9FCxcv6EMZL4p8Gy8utR0v0O0fL3QmIi8WXyQvuZcmL1zQKC//CCsvokEtL0V6Ly/osjEvi+szLy4kNi/QXDgvdJU6LxbOPC+5Bj8vXD9BL/93Qy+isEUvRelHL+ghSi+LWkwvLpNOL9DLUC9zBFMvFj1VL7l1Vy9crlkv/+ZbLw==",
          "dtype": "f4"
         },
         "y": {
          "bdata": "yiabP8ommz/KJps/yiabP8ommz/KJps/yiabP8ommz/KJps/yiabP8ommz/KJps/yiabP8ommz/KJps/yiabP8ommz/KJps/yiabP8ommz/KJps/yiabP8ommz/KJps/yiabP8ommz/KJps/yiabP8ommz/KJps/yiabP8ommz/KJps/yiabP8ommz/KJps/yiabP8ommz/KJps/yiabP8ommz/KJps/yiabP8ommz/KJps/yiabP8ommz/KJps/yiabP8ommz/KJps/yiabP8ommz/KJps/yiabP8ommz/KJps/yiabP8ommz/KJps/yiabP8ommz/KJps/yiabP8ommz/KJps/yiabP8ommz/KJps/yiabP8ommz/KJps/yiabP8ommz/KJps/yiabP8ommz/KJps/yiabP8ommz/KJps/yiabP8ommz/KJps/yiabP8ommz/KJps/yiabP8ommz/KJps/yiabP8ommz/KJps/yiabP8ommz/KJps/yiabP8ommz/KJps/yiabPw==",
          "dtype": "f4"
         },
         "z": {
          "bdata": "AAAAALMso1ltmXFZoPUhXcWiDl4tpKBejs4SX0ZkbF9wwq5ffNfyX//zIGCAk01gLNB+YL0RmmB6f7Zg0WnUYEaL82BP0AlhtjQaYaTUKmFOlDths1dMYdYFXWHUhG1herp9YdfGhmF0co5hN9KVYVTYnGFPd6NhQ6GpYbhIr2FoYbRh2N+4YV+7vGGU7L9hZG/CYV1DxGHZasVhAezFYWvQxWEHJcVhrfnDYQRgwmE8a8BhWy++YbW/u2GFLrlhd4y2YdXms2FMRLFhCauuYT8grGFTo6lh+jCnYV/CpGEdUKJh9dCfYao7nWGnh5phdq2XYW+nlGHWcZFhYwuOYdt0imG9sYZhFMeCYX54fWFFMnVhQM5sYRJeZGEU9FthzJ9TYYBuS2FuakNhnpk7YYb+M2FNmCxhMWIlYXFUHmFUZRdhH4kQYbKzCWGP2AJhSdj3YITH6WDVbdtghb3MYMSuvWBnPa5grWqeYOc7jmBEdHtgKeNZYHHhN2AgjxVgkRnmX5z1oF+i2zdfNomiXg==",
          "dtype": "f4"
         }
        },
        {
         "line": {
          "cmax": 611586436859611300000,
          "cmin": -941527887222145000,
          "color": {
           "bdata": "AAAAAANzWtswNn7bBQIbXZ4iFF4jGKpeCKocX0xXfV+pzbtf9r0CYFWSLWDA9V1gPrGJYMihpmD0fMVgL/LlYBXZA2HxNxVhifAmYezfOGHh5UphduJcYTi5bmHCJoBhfsGIYYwfkWG1M5lhFfCgYRxHqGGrK69hcJC1Ychou2EkqcBh20bFYQs6yWH7e8xhIgnPYZjh0GEbCNJhFoPSYWhc0mEbodFhN2HQYX6uzmFKnMxhyj7KYY2px2EE78RhFiDCYWdKv2E4erxht7S5YdT5tmHwSLRhop6xYdvzrmH2QKxhkXypYUidpmF1mqNhqWygYUcOnWGqe5lhqbOVYVC3kWFoio1hfTKJYYO3hGEuIoBhgvl2YUSibWE5U2RhXB5bYWoTUmEMP0lhialAYYJXOGHDSTBh+XwoYVfqIGGdiBlhFUwSYS8oC2F3DwRhEer5YPGY62CWFt1gyVDOYNU6v2Cuy69ggP+fYOTWj2CerH5g0wtdYFbhOmCGRxhgIbbqXzl1pF8iFTxfSV+mXg==",
           "dtype": "f4"
          },
          "colorscale": [
           [
            0,
            "#440154"
           ],
           [
            0.1111111111111111,
            "#482878"
           ],
           [
            0.2222222222222222,
            "#3e4989"
           ],
           [
            0.3333333333333333,
            "#31688e"
           ],
           [
            0.4444444444444444,
            "#26828e"
           ],
           [
            0.5555555555555556,
            "#1f9e89"
           ],
           [
            0.6666666666666666,
            "#35b779"
           ],
           [
            0.7777777777777778,
            "#6ece58"
           ],
           [
            0.8888888888888888,
            "#b5de2b"
           ],
           [
            1,
            "#fde725"
           ]
          ],
          "showscale": false,
          "width": 4
         },
         "mode": "lines",
         "showlegend": false,
         "type": "scatter3d",
         "x": {
          "bdata": "AAAAALooDiy6KI4sFz3VLLooDi3osjEtFz1VLUbHeC26KI4t0e2fLeiysS0AeMMtFz3VLS4C5y1Gx/gtLkYFLrooDi5GCxcu0e0fLl3QKC7osjEudJU6LgB4Qy6LWkwuFz1VLqMfXi4uAmcuuuRvLkbHeC7p1IAuLkaFLnS3iS66KI4uAJqSLkYLly6LfJsu0e2fLhdfpC5d0Kguo0GtLuiysS4uJLYudJW6LroGvy4AeMMuRunHLotazC7Ry9AuFz3VLl2u2S6hH94u55DiLi0C5y5zc+suuOTvLv5V9C5Ex/guijj9LujUAC+LDQMvLkYFL9B+By90twkvFvALL7ooDi9cYRAv/5kSL6LSFC9FCxcv6EMZL4p8Gy8utR0v0O0fL3QmIi8WXyQvuZcmL1zQKC//CCsvokEtL0V6Ly/osjEvi+szLy4kNi/QXDgvdJU6LxbOPC+5Bj8vXD9BL/93Qy+isEUvRelHL+ghSi+LWkwvLpNOL9DLUC9zBFMvFj1VL7l1Vy9crlkv/+ZbLw==",
          "dtype": "f4"
         },
         "y": {
          "bdata": "lgK1P5YCtT+WArU/lgK1P5YCtT+WArU/lgK1P5YCtT+WArU/lgK1P5YCtT+WArU/lgK1P5YCtT+WArU/lgK1P5YCtT+WArU/lgK1P5YCtT+WArU/lgK1P5YCtT+WArU/lgK1P5YCtT+WArU/lgK1P5YCtT+WArU/lgK1P5YCtT+WArU/lgK1P5YCtT+WArU/lgK1P5YCtT+WArU/lgK1P5YCtT+WArU/lgK1P5YCtT+WArU/lgK1P5YCtT+WArU/lgK1P5YCtT+WArU/lgK1P5YCtT+WArU/lgK1P5YCtT+WArU/lgK1P5YCtT+WArU/lgK1P5YCtT+WArU/lgK1P5YCtT+WArU/lgK1P5YCtT+WArU/lgK1P5YCtT+WArU/lgK1P5YCtT+WArU/lgK1P5YCtT+WArU/lgK1P5YCtT+WArU/lgK1P5YCtT+WArU/lgK1P5YCtT+WArU/lgK1P5YCtT+WArU/lgK1P5YCtT+WArU/lgK1P5YCtT+WArU/lgK1P5YCtT+WArU/lgK1Pw==",
          "dtype": "f4"
         },
         "z": {
          "bdata": "AAAAAANzWtswNn7bBQIbXZ4iFF4jGKpeCKocX0xXfV+pzbtf9r0CYFWSLWDA9V1gPrGJYMihpmD0fMVgL/LlYBXZA2HxNxVhifAmYezfOGHh5UphduJcYTi5bmHCJoBhfsGIYYwfkWG1M5lhFfCgYRxHqGGrK69hcJC1Ychou2EkqcBh20bFYQs6yWH7e8xhIgnPYZjh0GEbCNJhFoPSYWhc0mEbodFhN2HQYX6uzmFKnMxhyj7KYY2px2EE78RhFiDCYWdKv2E4erxht7S5YdT5tmHwSLRhop6xYdvzrmH2QKxhkXypYUidpmF1mqNhqWygYUcOnWGqe5lhqbOVYVC3kWFoio1hfTKJYYO3hGEuIoBhgvl2YUSibWE5U2RhXB5bYWoTUmEMP0lhialAYYJXOGHDSTBh+XwoYVfqIGGdiBlhFUwSYS8oC2F3DwRhEer5YPGY62CWFt1gyVDOYNU6v2Cuy69ggP+fYOTWj2CerH5g0wtdYFbhOmCGRxhgIbbqXzl1pF8iFTxfSV+mXg==",
          "dtype": "f4"
         }
        },
        {
         "line": {
          "cmax": 611586436859611300000,
          "cmin": -941527887222145000,
          "color": {
           "bdata": "AAAAAMC03tsjWAHcilUSXdDnF17WhbFeZaAkX3WWhV88gMZfoGcKYF31N2DZdGtggCuSYKv9sGC92tFg42r0YIArDGEOpR5hC3kxYaaARGESmFdhCpxqYT1tfWFS9odh/f2QYbG/mWHOLaJhRjqqYarXsWEb+bhhtpG/YXSVxWFn+cphe7PPYYK802FpDtdhBqbZYf6D22FSq9xhwSLdYUv03GERLdxhNN3aYYgW2WFx7NZhOXPUYZC+0WET4c5h9+vLYQ3tyGFG9MVhhwbDYc8gwGHCQr1hDmm6Yb6Mt2EnprRhBKyxYeOUrmEdWKthTO6nYbpRpGGxfqBh3HOcYSwymGFJvZNhuBqPYWlSimE4bYVhp3WAYfnrdmEd8mxh6BBjYZVZWWFl2k9hSp1GYbmoPWEJ/zRhmZ4sYfeBJGEWoRxhJ/EUYUVmDWEx8wVhDxb9YORB7mCGU99gxjbQYHzcwGDAOLFgmEShYFb9kGANZIBgN/teYMmjPGCl1hlgzFftX+V9pl+Ntj5fqjWpXg==",
           "dtype": "f4"
          },
          "colorscale": [
           [
            0,
            "#440154"
           ],
           [
            0.1111111111111111,
            "#482878"
           ],
           [
            0.2222222222222222,
            "#3e4989"
           ],
           [
            0.3333333333333333,
            "#31688e"
           ],
           [
            0.4444444444444444,
            "#26828e"
           ],
           [
            0.5555555555555556,
            "#1f9e89"
           ],
           [
            0.6666666666666666,
            "#35b779"
           ],
           [
            0.7777777777777778,
            "#6ece58"
           ],
           [
            0.8888888888888888,
            "#b5de2b"
           ],
           [
            1,
            "#fde725"
           ]
          ],
          "showscale": false,
          "width": 4
         },
         "mode": "lines",
         "showlegend": false,
         "type": "scatter3d",
         "x": {
          "bdata": "AAAAALooDiy6KI4sFz3VLLooDi3osjEtFz1VLUbHeC26KI4t0e2fLeiysS0AeMMtFz3VLS4C5y1Gx/gtLkYFLrooDi5GCxcu0e0fLl3QKC7osjEudJU6LgB4Qy6LWkwuFz1VLqMfXi4uAmcuuuRvLkbHeC7p1IAuLkaFLnS3iS66KI4uAJqSLkYLly6LfJsu0e2fLhdfpC5d0Kguo0GtLuiysS4uJLYudJW6LroGvy4AeMMuRunHLotazC7Ry9AuFz3VLl2u2S6hH94u55DiLi0C5y5zc+suuOTvLv5V9C5Ex/guijj9LujUAC+LDQMvLkYFL9B+By90twkvFvALL7ooDi9cYRAv/5kSL6LSFC9FCxcv6EMZL4p8Gy8utR0v0O0fL3QmIi8WXyQvuZcmL1zQKC//CCsvokEtL0V6Ly/osjEvi+szLy4kNi/QXDgvdJU6LxbOPC+5Bj8vXD9BL/93Qy+isEUvRelHL+ghSi+LWkwvLpNOL9DLUC9zBFMvFj1VL7l1Vy9crlkv/+ZbLw==",
          "dtype": "f4"
         },
         "y": {
          "bdata": "Yt7OP2Lezj9i3s4/Yt7OP2Lezj9i3s4/Yt7OP2Lezj9i3s4/Yt7OP2Lezj9i3s4/Yt7OP2Lezj9i3s4/Yt7OP2Lezj9i3s4/Yt7OP2Lezj9i3s4/Yt7OP2Lezj9i3s4/Yt7OP2Lezj9i3s4/Yt7OP2Lezj9i3s4/Yt7OP2Lezj9i3s4/Yt7OP2Lezj9i3s4/Yt7OP2Lezj9i3s4/Yt7OP2Lezj9i3s4/Yt7OP2Lezj9i3s4/Yt7OP2Lezj9i3s4/Yt7OP2Lezj9i3s4/Yt7OP2Lezj9i3s4/Yt7OP2Lezj9i3s4/Yt7OP2Lezj9i3s4/Yt7OP2Lezj9i3s4/Yt7OP2Lezj9i3s4/Yt7OP2Lezj9i3s4/Yt7OP2Lezj9i3s4/Yt7OP2Lezj9i3s4/Yt7OP2Lezj9i3s4/Yt7OP2Lezj9i3s4/Yt7OP2Lezj9i3s4/Yt7OP2Lezj9i3s4/Yt7OP2Lezj9i3s4/Yt7OP2Lezj9i3s4/Yt7OP2Lezj9i3s4/Yt7OP2Lezj9i3s4/Yt7OPw==",
          "dtype": "f4"
         },
         "z": {
          "bdata": "AAAAAMC03tsjWAHcilUSXdDnF17WhbFeZaAkX3WWhV88gMZfoGcKYF31N2DZdGtggCuSYKv9sGC92tFg42r0YIArDGEOpR5hC3kxYaaARGESmFdhCpxqYT1tfWFS9odh/f2QYbG/mWHOLaJhRjqqYarXsWEb+bhhtpG/YXSVxWFn+cphe7PPYYK802FpDtdhBqbZYf6D22FSq9xhwSLdYUv03GERLdxhNN3aYYgW2WFx7NZhOXPUYZC+0WET4c5h9+vLYQ3tyGFG9MVhhwbDYc8gwGHCQr1hDmm6Yb6Mt2EnprRhBKyxYeOUrmEdWKthTO6nYbpRpGGxfqBh3HOcYSwymGFJvZNhuBqPYWlSimE4bYVhp3WAYfnrdmEd8mxh6BBjYZVZWWFl2k9hSp1GYbmoPWEJ/zRhmZ4sYfeBJGEWoRxhJ/EUYUVmDWEx8wVhDxb9YORB7mCGU99gxjbQYHzcwGDAOLFgmEShYFb9kGANZIBgN/teYMmjPGCl1hlgzFftX+V9pl+Ntj5fqjWpXg==",
          "dtype": "f4"
         }
        },
        {
         "line": {
          "cmax": 611586436859611300000,
          "cmin": -941527887222145000,
          "color": {
           "bdata": "AAAAAER0IdzatTncxTELXdAsG16azrde600rX+Zbi19oZM9fY8EQYB6MQGDrmHZgniiZYLiFuWBbCNxgeykAYRwEE2F0ZiZhRiQ6YbITTmH1DWJhM+11YeDHhGFBao5h4c2XYTjkoGFPn6lh/fCxYeXLuWFeI8Fh4OrHYe0WzmEUndNh3HPYYY2U3GGh+d9hO6DiYVyJ5GEouOVhcjPmYT0F5mF8OuVhO+PjYRMR4mE6199h2UndYY982mH8gddhbWvUYe9G0WH0Js5hchDLYfH+x2GM8sRhdujBYSXavmFkwLthVZK4YeNGtWGr1bFhgTeuYcVmqmG/X6Zh7iCiYQarnWFkAZlhLymUYQYqj2F8DIph09qEYXc+f2EXyXRh72hqYcAvYGGVLFZhXmpMYcPwQmFlwzlhEuIwYcBIKGG38B9haNAXYRbdD2FUCghh60sAYdkq8WByt+FgHinSYNZvwmBvfrJgEEyiYATUkWAJFYFgByNgYLadPWAnqhpgG7juX0uWp18YS0Bf6FCrXg==",
           "dtype": "f4"
          },
          "colorscale": [
           [
            0,
            "#440154"
           ],
           [
            0.1111111111111111,
            "#482878"
           ],
           [
            0.2222222222222222,
            "#3e4989"
           ],
           [
            0.3333333333333333,
            "#31688e"
           ],
           [
            0.4444444444444444,
            "#26828e"
           ],
           [
            0.5555555555555556,
            "#1f9e89"
           ],
           [
            0.6666666666666666,
            "#35b779"
           ],
           [
            0.7777777777777778,
            "#6ece58"
           ],
           [
            0.8888888888888888,
            "#b5de2b"
           ],
           [
            1,
            "#fde725"
           ]
          ],
          "showscale": false,
          "width": 4
         },
         "mode": "lines",
         "showlegend": false,
         "type": "scatter3d",
         "x": {
          "bdata": "AAAAALooDiy6KI4sFz3VLLooDi3osjEtFz1VLUbHeC26KI4t0e2fLeiysS0AeMMtFz3VLS4C5y1Gx/gtLkYFLrooDi5GCxcu0e0fLl3QKC7osjEudJU6LgB4Qy6LWkwuFz1VLqMfXi4uAmcuuuRvLkbHeC7p1IAuLkaFLnS3iS66KI4uAJqSLkYLly6LfJsu0e2fLhdfpC5d0Kguo0GtLuiysS4uJLYudJW6LroGvy4AeMMuRunHLotazC7Ry9AuFz3VLl2u2S6hH94u55DiLi0C5y5zc+suuOTvLv5V9C5Ex/guijj9LujUAC+LDQMvLkYFL9B+By90twkvFvALL7ooDi9cYRAv/5kSL6LSFC9FCxcv6EMZL4p8Gy8utR0v0O0fL3QmIi8WXyQvuZcmL1zQKC//CCsvokEtL0V6Ly/osjEvi+szLy4kNi/QXDgvdJU6LxbOPC+5Bj8vXD9BL/93Qy+isEUvRelHL+ghSi+LWkwvLpNOL9DLUC9zBFMvFj1VL7l1Vy9crlkv/+ZbLw==",
          "dtype": "f4"
         },
         "y": {
          "bdata": "LrroPy666D8uuug/LrroPy666D8uuug/LrroPy666D8uuug/LrroPy666D8uuug/LrroPy666D8uuug/LrroPy666D8uuug/LrroPy666D8uuug/LrroPy666D8uuug/LrroPy666D8uuug/LrroPy666D8uuug/LrroPy666D8uuug/LrroPy666D8uuug/LrroPy666D8uuug/LrroPy666D8uuug/LrroPy666D8uuug/LrroPy666D8uuug/LrroPy666D8uuug/LrroPy666D8uuug/LrroPy666D8uuug/LrroPy666D8uuug/LrroPy666D8uuug/LrroPy666D8uuug/LrroPy666D8uuug/LrroPy666D8uuug/LrroPy666D8uuug/LrroPy666D8uuug/LrroPy666D8uuug/LrroPy666D8uuug/LrroPy666D8uuug/LrroPy666D8uuug/LrroPy666D8uuug/LrroPy666D8uuug/LrroPy666D8uuug/LrroPw==",
          "dtype": "f4"
         },
         "z": {
          "bdata": "AAAAAER0IdzatTncxTELXdAsG16azrde600rX+Zbi19oZM9fY8EQYB6MQGDrmHZgniiZYLiFuWBbCNxgeykAYRwEE2F0ZiZhRiQ6YbITTmH1DWJhM+11YeDHhGFBao5h4c2XYTjkoGFPn6lh/fCxYeXLuWFeI8Fh4OrHYe0WzmEUndNh3HPYYY2U3GGh+d9hO6DiYVyJ5GEouOVhcjPmYT0F5mF8OuVhO+PjYRMR4mE6199h2UndYY982mH8gddhbWvUYe9G0WH0Js5hchDLYfH+x2GM8sRhdujBYSXavmFkwLthVZK4YeNGtWGr1bFhgTeuYcVmqmG/X6Zh7iCiYQarnWFkAZlhLymUYQYqj2F8DIph09qEYXc+f2EXyXRh72hqYcAvYGGVLFZhXmpMYcPwQmFlwzlhEuIwYcBIKGG38B9haNAXYRbdD2FUCghh60sAYdkq8WByt+FgHinSYNZvwmBvfrJgEEyiYATUkWAJFYFgByNgYLadPWAnqhpgG7juX0uWp18YS0Bf6FCrXg==",
          "dtype": "f4"
         }
        },
        {
         "line": {
          "cmax": 611586436859611300000,
          "cmin": -941527887222145000,
          "color": {
           "bdata": "AAAAAHbsSdwTfWLccBQIXdfaHl4Jlr1eYSIxX8pGkF9M3NZfRwoWYPmlR2Dlw39g0eOeYEGAwGDOV+RgLQQFYeGXGGHwtixhlzJBYYveVWGukWph/yN/Yfi4iWFtrJNh61udYXK4pmHNs69hwD+4YRpPwGFo1cdhdMbOYVoX1WETvtphmbHfYcLr42FmZ+dh7CHqYXkc7GE8Wu1h4uHtYTe97WHN+OxhO6TrYavQ6WHQkOdhZPjkYbga4mEzCt9hC9jbYXCS2GGSTdVhsw7SYZ7QzmEolMthTlfIYVYUxWHDxMFho2C+YX3fumGXObdhSWizYUBmr2HvL6thv8OmYT4iomFdTp1h4UyYYdEkk2FA3o1h6YKIYYgcg2Ema3thEq9wYV8WZmE1sFth5IdRYdOlR2F1Dj5hzcI0YQHAK2GtACNhkXwaYTsqEmFe/glhv+0BYVvZ82BG4eNgRN/TYEzDw2Dcf7NgLgujYFNfkmBjeYFg+7NgYPwIPmDW/RpgiUTvX9QUqF8XO0FfZgmtXg==",
           "dtype": "f4"
          },
          "colorscale": [
           [
            0,
            "#440154"
           ],
           [
            0.1111111111111111,
            "#482878"
           ],
           [
            0.2222222222222222,
            "#3e4989"
           ],
           [
            0.3333333333333333,
            "#31688e"
           ],
           [
            0.4444444444444444,
            "#26828e"
           ],
           [
            0.5555555555555556,
            "#1f9e89"
           ],
           [
            0.6666666666666666,
            "#35b779"
           ],
           [
            0.7777777777777778,
            "#6ece58"
           ],
           [
            0.8888888888888888,
            "#b5de2b"
           ],
           [
            1,
            "#fde725"
           ]
          ],
          "showscale": false,
          "width": 4
         },
         "mode": "lines",
         "showlegend": false,
         "type": "scatter3d",
         "x": {
          "bdata": "AAAAALooDiy6KI4sFz3VLLooDi3osjEtFz1VLUbHeC26KI4t0e2fLeiysS0AeMMtFz3VLS4C5y1Gx/gtLkYFLrooDi5GCxcu0e0fLl3QKC7osjEudJU6LgB4Qy6LWkwuFz1VLqMfXi4uAmcuuuRvLkbHeC7p1IAuLkaFLnS3iS66KI4uAJqSLkYLly6LfJsu0e2fLhdfpC5d0Kguo0GtLuiysS4uJLYudJW6LroGvy4AeMMuRunHLotazC7Ry9AuFz3VLl2u2S6hH94u55DiLi0C5y5zc+suuOTvLv5V9C5Ex/guijj9LujUAC+LDQMvLkYFL9B+By90twkvFvALL7ooDi9cYRAv/5kSL6LSFC9FCxcv6EMZL4p8Gy8utR0v0O0fL3QmIi8WXyQvuZcmL1zQKC//CCsvokEtL0V6Ly/osjEvi+szLy4kNi/QXDgvdJU6LxbOPC+5Bj8vXD9BL/93Qy+isEUvRelHL+ghSi+LWkwvLpNOL9DLUC9zBFMvFj1VL7l1Vy9crlkv/+ZbLw==",
          "dtype": "f4"
         },
         "y": {
          "bdata": "/UoBQP1KAUD9SgFA/UoBQP1KAUD9SgFA/UoBQP1KAUD9SgFA/UoBQP1KAUD9SgFA/UoBQP1KAUD9SgFA/UoBQP1KAUD9SgFA/UoBQP1KAUD9SgFA/UoBQP1KAUD9SgFA/UoBQP1KAUD9SgFA/UoBQP1KAUD9SgFA/UoBQP1KAUD9SgFA/UoBQP1KAUD9SgFA/UoBQP1KAUD9SgFA/UoBQP1KAUD9SgFA/UoBQP1KAUD9SgFA/UoBQP1KAUD9SgFA/UoBQP1KAUD9SgFA/UoBQP1KAUD9SgFA/UoBQP1KAUD9SgFA/UoBQP1KAUD9SgFA/UoBQP1KAUD9SgFA/UoBQP1KAUD9SgFA/UoBQP1KAUD9SgFA/UoBQP1KAUD9SgFA/UoBQP1KAUD9SgFA/UoBQP1KAUD9SgFA/UoBQP1KAUD9SgFA/UoBQP1KAUD9SgFA/UoBQP1KAUD9SgFA/UoBQP1KAUD9SgFA/UoBQP1KAUD9SgFA/UoBQP1KAUD9SgFA/UoBQP1KAUD9SgFA/UoBQA==",
          "dtype": "f4"
         },
         "z": {
          "bdata": "AAAAAHbsSdwTfWLccBQIXdfaHl4Jlr1eYSIxX8pGkF9M3NZfRwoWYPmlR2Dlw39g0eOeYEGAwGDOV+RgLQQFYeGXGGHwtixhlzJBYYveVWGukWph/yN/Yfi4iWFtrJNh61udYXK4pmHNs69hwD+4YRpPwGFo1cdhdMbOYVoX1WETvtphmbHfYcLr42FmZ+dh7CHqYXkc7GE8Wu1h4uHtYTe97WHN+OxhO6TrYavQ6WHQkOdhZPjkYbga4mEzCt9hC9jbYXCS2GGSTdVhsw7SYZ7QzmEolMthTlfIYVYUxWHDxMFho2C+YX3fumGXObdhSWizYUBmr2HvL6thv8OmYT4iomFdTp1h4UyYYdEkk2FA3o1h6YKIYYgcg2Ema3thEq9wYV8WZmE1sFth5IdRYdOlR2F1Dj5hzcI0YQHAK2GtACNhkXwaYTsqEmFe/glhv+0BYVvZ82BG4eNgRN/TYEzDw2Dcf7NgLgujYFNfkmBjeYFg+7NgYPwIPmDW/RpgiUTvX9QUqF8XO0FfZgmtXg==",
          "dtype": "f4"
         }
        },
        {
         "line": {
          "cmax": 611586436859611300000,
          "cmin": -941527887222145000,
          "color": {
           "bdata": "AAAAAOcfZ9xcR3jcWGkKXeJ8I16PQsNeNWc2XzeKlF8bLd1f5G8aYH19TWCWn4NgEoqjYDkjxmB3COtgKeoIYWYQHWEGxTFhONdGYckYXGHOXnFhxz+DYf+qjWEd35dhM8uhYfVfq2EJj7RhOEq9YYOExWG5Mc1hDkbUYSS32mFse+BhYIrlYUje6WFacu1hF0TwYdJU8mGOp/NhtkL0YaQv9GFNevNhqjHyYRhm8GGXKe5hMY/rYZCp6GGxiuVhkEPiYU/i3mFxfNthgRfYYf+t1GGVQdFhRdHNYVZYymF70cZhwjXDYcF9v2GvorthkJ63Yalss2G7Ca9hPnSqYaGspWGAtaBhH5ObYeRLlmE055BhFW6LYZnphWGdY4BhL8p1YQ3tamF9PmBh1MlVYcuXS2FZrUFhaAw4YS2zLmF0nSVhUcQcYawfFGFipQthZEsDYf8N9mDbnOVgdTDVYGW5xGBBKrRg5nijYKmekmB2l4FgBMVgYCgDPmDM8RpgbTrvX2wsqF+qyUFfpKSuXg==",
           "dtype": "f4"
          },
          "colorscale": [
           [
            0,
            "#440154"
           ],
           [
            0.1111111111111111,
            "#482878"
           ],
           [
            0.2222222222222222,
            "#3e4989"
           ],
           [
            0.3333333333333333,
            "#31688e"
           ],
           [
            0.4444444444444444,
            "#26828e"
           ],
           [
            0.5555555555555556,
            "#1f9e89"
           ],
           [
            0.6666666666666666,
            "#35b779"
           ],
           [
            0.7777777777777778,
            "#6ece58"
           ],
           [
            0.8888888888888888,
            "#b5de2b"
           ],
           [
            1,
            "#fde725"
           ]
          ],
          "showscale": false,
          "width": 4
         },
         "mode": "lines",
         "showlegend": false,
         "type": "scatter3d",
         "x": {
          "bdata": "AAAAALooDiy6KI4sFz3VLLooDi3osjEtFz1VLUbHeC26KI4t0e2fLeiysS0AeMMtFz3VLS4C5y1Gx/gtLkYFLrooDi5GCxcu0e0fLl3QKC7osjEudJU6LgB4Qy6LWkwuFz1VLqMfXi4uAmcuuuRvLkbHeC7p1IAuLkaFLnS3iS66KI4uAJqSLkYLly6LfJsu0e2fLhdfpC5d0Kguo0GtLuiysS4uJLYudJW6LroGvy4AeMMuRunHLotazC7Ry9AuFz3VLl2u2S6hH94u55DiLi0C5y5zc+suuOTvLv5V9C5Ex/guijj9LujUAC+LDQMvLkYFL9B+By90twkvFvALL7ooDi9cYRAv/5kSL6LSFC9FCxcv6EMZL4p8Gy8utR0v0O0fL3QmIi8WXyQvuZcmL1zQKC//CCsvokEtL0V6Ly/osjEvi+szLy4kNi/QXDgvdJU6LxbOPC+5Bj8vXD9BL/93Qy+isEUvRelHL+ghSi+LWkwvLpNOL9DLUC9zBFMvFj1VL7l1Vy9crlkv/+ZbLw==",
          "dtype": "f4"
         },
         "y": {
          "bdata": "4zgOQOM4DkDjOA5A4zgOQOM4DkDjOA5A4zgOQOM4DkDjOA5A4zgOQOM4DkDjOA5A4zgOQOM4DkDjOA5A4zgOQOM4DkDjOA5A4zgOQOM4DkDjOA5A4zgOQOM4DkDjOA5A4zgOQOM4DkDjOA5A4zgOQOM4DkDjOA5A4zgOQOM4DkDjOA5A4zgOQOM4DkDjOA5A4zgOQOM4DkDjOA5A4zgOQOM4DkDjOA5A4zgOQOM4DkDjOA5A4zgOQOM4DkDjOA5A4zgOQOM4DkDjOA5A4zgOQOM4DkDjOA5A4zgOQOM4DkDjOA5A4zgOQOM4DkDjOA5A4zgOQOM4DkDjOA5A4zgOQOM4DkDjOA5A4zgOQOM4DkDjOA5A4zgOQOM4DkDjOA5A4zgOQOM4DkDjOA5A4zgOQOM4DkDjOA5A4zgOQOM4DkDjOA5A4zgOQOM4DkDjOA5A4zgOQOM4DkDjOA5A4zgOQOM4DkDjOA5A4zgOQOM4DkDjOA5A4zgOQOM4DkDjOA5A4zgOQOM4DkDjOA5A4zgOQA==",
          "dtype": "f4"
         },
         "z": {
          "bdata": "AAAAAOcfZ9xcR3jcWGkKXeJ8I16PQsNeNWc2XzeKlF8bLd1f5G8aYH19TWCWn4NgEoqjYDkjxmB3COtgKeoIYWYQHWEGxTFhONdGYckYXGHOXnFhxz+DYf+qjWEd35dhM8uhYfVfq2EJj7RhOEq9YYOExWG5Mc1hDkbUYSS32mFse+BhYIrlYUje6WFacu1hF0TwYdJU8mGOp/NhtkL0YaQv9GFNevNhqjHyYRhm8GGXKe5hMY/rYZCp6GGxiuVhkEPiYU/i3mFxfNthgRfYYf+t1GGVQdFhRdHNYVZYymF70cZhwjXDYcF9v2GvorthkJ63Yalss2G7Ca9hPnSqYaGspWGAtaBhH5ObYeRLlmE055BhFW6LYZnphWGdY4BhL8p1YQ3tamF9PmBh1MlVYcuXS2FZrUFhaAw4YS2zLmF0nSVhUcQcYawfFGFipQthZEsDYf8N9mDbnOVgdTDVYGW5xGBBKrRg5nijYKmekmB2l4FgBMVgYCgDPmDM8RpgbTrvX2wsqF+qyUFfpKSuXg==",
          "dtype": "f4"
         }
        },
        {
         "line": {
          "cmax": 611586436859611300000,
          "cmin": -941527887222145000,
          "color": {
           "bdata": "AAAAAHC/eNwATXrctKASXWxMKV5/CcleJEk7X99ImF9fieJfRxUeYEtBUmBRo4ZgtUCnYPGbymA6UPBgyPoLYY2RIGEGuTVh7j5LYX7zYGFdqnZhRByGYd27kGGTIZthIzylYQj8rmHgUrhhgDLBYTeOyWEgWtFh4IrYYasW32Fs9ORhGhzqYXaI7mH4NPJhWh/1YeZI92FqtPhh8mf5YUls+WGazPhhBpf3Yffa9WGGqfNhuhTxYY4u7mFQCOthjLLnYUA75GH3uOBheTHdYTKf2WGwBNZhFWLSYf6zzmFL9sphgiPHYVo1w2EdJr9h1/C6YW+RtmEdBbJhhEqtYQRiqGHgTaNh3hGeYbWzmGH/OZNh76yNYb4UiGGJeoJhPM15Yd7BbmHp4GNhWTVZYebHTmHenURh37k6YQ0bMWFQvidhAJ4eYVqzFWGJ9QxhwlsEYcC492AO3eZg7hLWYONLxWD3erRg+pWjYNGVkmCSdYFglWZgYLWePWD4mBpg47zuX6z5p186HEJfYUmwXg==",
           "dtype": "f4"
          },
          "colorscale": [
           [
            0,
            "#440154"
           ],
           [
            0.1111111111111111,
            "#482878"
           ],
           [
            0.2222222222222222,
            "#3e4989"
           ],
           [
            0.3333333333333333,
            "#31688e"
           ],
           [
            0.4444444444444444,
            "#26828e"
           ],
           [
            0.5555555555555556,
            "#1f9e89"
           ],
           [
            0.6666666666666666,
            "#35b779"
           ],
           [
            0.7777777777777778,
            "#6ece58"
           ],
           [
            0.8888888888888888,
            "#b5de2b"
           ],
           [
            1,
            "#fde725"
           ]
          ],
          "showscale": false,
          "width": 4
         },
         "mode": "lines",
         "showlegend": false,
         "type": "scatter3d",
         "x": {
          "bdata": "AAAAALooDiy6KI4sFz3VLLooDi3osjEtFz1VLUbHeC26KI4t0e2fLeiysS0AeMMtFz3VLS4C5y1Gx/gtLkYFLrooDi5GCxcu0e0fLl3QKC7osjEudJU6LgB4Qy6LWkwuFz1VLqMfXi4uAmcuuuRvLkbHeC7p1IAuLkaFLnS3iS66KI4uAJqSLkYLly6LfJsu0e2fLhdfpC5d0Kguo0GtLuiysS4uJLYudJW6LroGvy4AeMMuRunHLotazC7Ry9AuFz3VLl2u2S6hH94u55DiLi0C5y5zc+suuOTvLv5V9C5Ex/guijj9LujUAC+LDQMvLkYFL9B+By90twkvFvALL7ooDi9cYRAv/5kSL6LSFC9FCxcv6EMZL4p8Gy8utR0v0O0fL3QmIi8WXyQvuZcmL1zQKC//CCsvokEtL0V6Ly/osjEvi+szLy4kNi/QXDgvdJU6LxbOPC+5Bj8vXD9BL/93Qy+isEUvRelHL+ghSi+LWkwvLpNOL9DLUC9zBFMvFj1VL7l1Vy9crlkv/+ZbLw==",
          "dtype": "f4"
         },
         "y": {
          "bdata": "yiYbQMomG0DKJhtAyiYbQMomG0DKJhtAyiYbQMomG0DKJhtAyiYbQMomG0DKJhtAyiYbQMomG0DKJhtAyiYbQMomG0DKJhtAyiYbQMomG0DKJhtAyiYbQMomG0DKJhtAyiYbQMomG0DKJhtAyiYbQMomG0DKJhtAyiYbQMomG0DKJhtAyiYbQMomG0DKJhtAyiYbQMomG0DKJhtAyiYbQMomG0DKJhtAyiYbQMomG0DKJhtAyiYbQMomG0DKJhtAyiYbQMomG0DKJhtAyiYbQMomG0DKJhtAyiYbQMomG0DKJhtAyiYbQMomG0DKJhtAyiYbQMomG0DKJhtAyiYbQMomG0DKJhtAyiYbQMomG0DKJhtAyiYbQMomG0DKJhtAyiYbQMomG0DKJhtAyiYbQMomG0DKJhtAyiYbQMomG0DKJhtAyiYbQMomG0DKJhtAyiYbQMomG0DKJhtAyiYbQMomG0DKJhtAyiYbQMomG0DKJhtAyiYbQMomG0DKJhtAyiYbQMomG0DKJhtAyiYbQA==",
          "dtype": "f4"
         },
         "z": {
          "bdata": "AAAAAHC/eNwATXrctKASXWxMKV5/CcleJEk7X99ImF9fieJfRxUeYEtBUmBRo4ZgtUCnYPGbymA6UPBgyPoLYY2RIGEGuTVh7j5LYX7zYGFdqnZhRByGYd27kGGTIZthIzylYQj8rmHgUrhhgDLBYTeOyWEgWtFh4IrYYasW32Fs9ORhGhzqYXaI7mH4NPJhWh/1YeZI92FqtPhh8mf5YUls+WGazPhhBpf3Yffa9WGGqfNhuhTxYY4u7mFQCOthjLLnYUA75GH3uOBheTHdYTKf2WGwBNZhFWLSYf6zzmFL9sphgiPHYVo1w2EdJr9h1/C6YW+RtmEdBbJhhEqtYQRiqGHgTaNh3hGeYbWzmGH/OZNh76yNYb4UiGGJeoJhPM15Yd7BbmHp4GNhWTVZYebHTmHenURh37k6YQ0bMWFQvidhAJ4eYVqzFWGJ9QxhwlsEYcC492AO3eZg7hLWYONLxWD3erRg+pWjYNGVkmCSdYFglWZgYLWePWD4mBpg47zuX6z5p186HEJfYUmwXg==",
          "dtype": "f4"
         }
        },
        {
         "line": {
          "cmax": 611586436859611300000,
          "cmin": -941527887222145000,
          "color": {
           "bdata": "AAAAAHBxf9yxnmncwXogXSVLMF43/85eZOI/X0ebm1/FGOdfpBchYLEZVmCqB4lgVimqYMITzmClYPRgHFMOYcI8I2HauDhh7ZNOYRudZGHhpnphnkKIYYMIk2Fckp1hrc6nYcqtsWFYIbthahvEYXiPzGEVctRhXLjbYQ5Z4mGSS+hhb4jtYdAK8mF/zvVhUNH4YYUU+2GxmvxhYGn9YbWI/WH8Av1hZOX7YTo++mF4HfhhIJT1YS+z8mE4i+9hMizsYdyj6GGiCeVhiGPhYcKr3WEA5tlhkxPWYXky0mEOQM5hQzjKYTwWxmGA1cFhI3K9YdzouGFlN7RhpVyvYe1YqmEyLqVhsd+fYV9ymmED7JRh3FOPYTmxiWFJDIRhIdl8YaiycWEysmZhC+JbYcdKUWHa8UZhbto8YX4EM2EHbilhpBIgYebsFmFY9Q1hdiQFYZvj+GANq+dgZY/WYEaDxWBverRg22qjYEJNkmAPHIFgv6hfYMHqPGDMABpgLOLtX9yMp1+JREJfQQOyXg==",
           "dtype": "f4"
          },
          "colorscale": [
           [
            0,
            "#440154"
           ],
           [
            0.1111111111111111,
            "#482878"
           ],
           [
            0.2222222222222222,
            "#3e4989"
           ],
           [
            0.3333333333333333,
            "#31688e"
           ],
           [
            0.4444444444444444,
            "#26828e"
           ],
           [
            0.5555555555555556,
            "#1f9e89"
           ],
           [
            0.6666666666666666,
            "#35b779"
           ],
           [
            0.7777777777777778,
            "#6ece58"
           ],
           [
            0.8888888888888888,
            "#b5de2b"
           ],
           [
            1,
            "#fde725"
           ]
          ],
          "showscale": false,
          "width": 4
         },
         "mode": "lines",
         "showlegend": false,
         "type": "scatter3d",
         "x": {
          "bdata": "AAAAALooDiy6KI4sFz3VLLooDi3osjEtFz1VLUbHeC26KI4t0e2fLeiysS0AeMMtFz3VLS4C5y1Gx/gtLkYFLrooDi5GCxcu0e0fLl3QKC7osjEudJU6LgB4Qy6LWkwuFz1VLqMfXi4uAmcuuuRvLkbHeC7p1IAuLkaFLnS3iS66KI4uAJqSLkYLly6LfJsu0e2fLhdfpC5d0Kguo0GtLuiysS4uJLYudJW6LroGvy4AeMMuRunHLotazC7Ry9AuFz3VLl2u2S6hH94u55DiLi0C5y5zc+suuOTvLv5V9C5Ex/guijj9LujUAC+LDQMvLkYFL9B+By90twkvFvALL7ooDi9cYRAv/5kSL6LSFC9FCxcv6EMZL4p8Gy8utR0v0O0fL3QmIi8WXyQvuZcmL1zQKC//CCsvokEtL0V6Ly/osjEvi+szLy4kNi/QXDgvdJU6LxbOPC+5Bj8vXD9BL/93Qy+isEUvRelHL+ghSi+LWkwvLpNOL9DLUC9zBFMvFj1VL7l1Vy9crlkv/+ZbLw==",
          "dtype": "f4"
         },
         "y": {
          "bdata": "sBQoQLAUKECwFChAsBQoQLAUKECwFChAsBQoQLAUKECwFChAsBQoQLAUKECwFChAsBQoQLAUKECwFChAsBQoQLAUKECwFChAsBQoQLAUKECwFChAsBQoQLAUKECwFChAsBQoQLAUKECwFChAsBQoQLAUKECwFChAsBQoQLAUKECwFChAsBQoQLAUKECwFChAsBQoQLAUKECwFChAsBQoQLAUKECwFChAsBQoQLAUKECwFChAsBQoQLAUKECwFChAsBQoQLAUKECwFChAsBQoQLAUKECwFChAsBQoQLAUKECwFChAsBQoQLAUKECwFChAsBQoQLAUKECwFChAsBQoQLAUKECwFChAsBQoQLAUKECwFChAsBQoQLAUKECwFChAsBQoQLAUKECwFChAsBQoQLAUKECwFChAsBQoQLAUKECwFChAsBQoQLAUKECwFChAsBQoQLAUKECwFChAsBQoQLAUKECwFChAsBQoQLAUKECwFChAsBQoQLAUKECwFChAsBQoQLAUKECwFChAsBQoQA==",
          "dtype": "f4"
         },
         "z": {
          "bdata": "AAAAAHBxf9yxnmncwXogXSVLMF43/85eZOI/X0ebm1/FGOdfpBchYLEZVmCqB4lgVimqYMITzmClYPRgHFMOYcI8I2HauDhh7ZNOYRudZGHhpnphnkKIYYMIk2Fckp1hrc6nYcqtsWFYIbthahvEYXiPzGEVctRhXLjbYQ5Z4mGSS+hhb4jtYdAK8mF/zvVhUNH4YYUU+2GxmvxhYGn9YbWI/WH8Av1hZOX7YTo++mF4HfhhIJT1YS+z8mE4i+9hMizsYdyj6GGiCeVhiGPhYcKr3WEA5tlhkxPWYXky0mEOQM5hQzjKYTwWxmGA1cFhI3K9YdzouGFlN7RhpVyvYe1YqmEyLqVhsd+fYV9ymmED7JRh3FOPYTmxiWFJDIRhIdl8YaiycWEysmZhC+JbYcdKUWHa8UZhbto8YX4EM2EHbilhpBIgYebsFmFY9Q1hdiQFYZvj+GANq+dgZY/WYEaDxWBverRg22qjYEJNkmAPHIFgv6hfYMHqPGDMABpgLOLtX9yMp1+JREJfQQOyXg==",
          "dtype": "f4"
         }
        },
        {
         "line": {
          "cmax": 611586436859611300000,
          "cmin": -941527887222145000,
          "color": {
           "bdata": "AAAAAMljfNz/TUjciFgzXWpcOF4zJtVeJ0NEX36Unl8D/epf/pAjYJsrWWBf5YpguGOsYA+y0GAyafdgGg8QYVYyJWE06TphUP9QYf1CZ2HhhX1hm82JYZOtlGHST59htKKpYYqWs2ENHb1hcSjGYaCszmGIntZhv/PdYaej5GEtpuphUvTvYbaJ9GFsYvhhbXz7YerY/WEhev9hlTIAYq5QAGIQHABihTX/YcCm/WGNmvthwCD5YVZJ9mHwI/Nh8b/vYckq7GGhfOhhn7vkYdjh4GEK9NxhzfTYYaHj1GFrv9BhroXMYQ4zyGFixMNh3Ta/YRWIumFWtrVhycCwYbqnq2HMbKZhqxKhYY2dm2FIEpZhHHeQYUvSimEKK4Vh7g9/YSXfc2GMz2hht+pdYdE4U2Fkv0hhA4I+YXuBNGHDvCphwDAhYWDZF2GKsA5hGrAFYcmh+WBNGOhgtrXWYP5txWDINbRgcQOjYKvPkWBxlIBgEZxeYD31O2CDNBlg3brsXzjwpl9qSUJfDcyzXg==",
           "dtype": "f4"
          },
          "colorscale": [
           [
            0,
            "#440154"
           ],
           [
            0.1111111111111111,
            "#482878"
           ],
           [
            0.2222222222222222,
            "#3e4989"
           ],
           [
            0.3333333333333333,
            "#31688e"
           ],
           [
            0.4444444444444444,
            "#26828e"
           ],
           [
            0.5555555555555556,
            "#1f9e89"
           ],
           [
            0.6666666666666666,
            "#35b779"
           ],
           [
            0.7777777777777778,
            "#6ece58"
           ],
           [
            0.8888888888888888,
            "#b5de2b"
           ],
           [
            1,
            "#fde725"
           ]
          ],
          "showscale": false,
          "width": 4
         },
         "mode": "lines",
         "showlegend": false,
         "type": "scatter3d",
         "x": {
          "bdata": "AAAAALooDiy6KI4sFz3VLLooDi3osjEtFz1VLUbHeC26KI4t0e2fLeiysS0AeMMtFz3VLS4C5y1Gx/gtLkYFLrooDi5GCxcu0e0fLl3QKC7osjEudJU6LgB4Qy6LWkwuFz1VLqMfXi4uAmcuuuRvLkbHeC7p1IAuLkaFLnS3iS66KI4uAJqSLkYLly6LfJsu0e2fLhdfpC5d0Kguo0GtLuiysS4uJLYudJW6LroGvy4AeMMuRunHLotazC7Ry9AuFz3VLl2u2S6hH94u55DiLi0C5y5zc+suuOTvLv5V9C5Ex/guijj9LujUAC+LDQMvLkYFL9B+By90twkvFvALL7ooDi9cYRAv/5kSL6LSFC9FCxcv6EMZL4p8Gy8utR0v0O0fL3QmIi8WXyQvuZcmL1zQKC//CCsvokEtL0V6Ly/osjEvi+szLy4kNi/QXDgvdJU6LxbOPC+5Bj8vXD9BL/93Qy+isEUvRelHL+ghSi+LWkwvLpNOL9DLUC9zBFMvFj1VL7l1Vy9crlkv/+ZbLw==",
          "dtype": "f4"
         },
         "y": {
          "bdata": "lgI1QJYCNUCWAjVAlgI1QJYCNUCWAjVAlgI1QJYCNUCWAjVAlgI1QJYCNUCWAjVAlgI1QJYCNUCWAjVAlgI1QJYCNUCWAjVAlgI1QJYCNUCWAjVAlgI1QJYCNUCWAjVAlgI1QJYCNUCWAjVAlgI1QJYCNUCWAjVAlgI1QJYCNUCWAjVAlgI1QJYCNUCWAjVAlgI1QJYCNUCWAjVAlgI1QJYCNUCWAjVAlgI1QJYCNUCWAjVAlgI1QJYCNUCWAjVAlgI1QJYCNUCWAjVAlgI1QJYCNUCWAjVAlgI1QJYCNUCWAjVAlgI1QJYCNUCWAjVAlgI1QJYCNUCWAjVAlgI1QJYCNUCWAjVAlgI1QJYCNUCWAjVAlgI1QJYCNUCWAjVAlgI1QJYCNUCWAjVAlgI1QJYCNUCWAjVAlgI1QJYCNUCWAjVAlgI1QJYCNUCWAjVAlgI1QJYCNUCWAjVAlgI1QJYCNUCWAjVAlgI1QJYCNUCWAjVAlgI1QJYCNUCWAjVAlgI1QJYCNUCWAjVAlgI1QA==",
          "dtype": "f4"
         },
         "z": {
          "bdata": "AAAAAMljfNz/TUjciFgzXWpcOF4zJtVeJ0NEX36Unl8D/epf/pAjYJsrWWBf5YpguGOsYA+y0GAyafdgGg8QYVYyJWE06TphUP9QYf1CZ2HhhX1hm82JYZOtlGHST59htKKpYYqWs2ENHb1hcSjGYaCszmGIntZhv/PdYaej5GEtpuphUvTvYbaJ9GFsYvhhbXz7YerY/WEhev9hlTIAYq5QAGIQHABihTX/YcCm/WGNmvthwCD5YVZJ9mHwI/Nh8b/vYckq7GGhfOhhn7vkYdjh4GEK9NxhzfTYYaHj1GFrv9BhroXMYQ4zyGFixMNh3Ta/YRWIumFWtrVhycCwYbqnq2HMbKZhqxKhYY2dm2FIEpZhHHeQYUvSimEKK4Vh7g9/YSXfc2GMz2hht+pdYdE4U2Fkv0hhA4I+YXuBNGHDvCphwDAhYWDZF2GKsA5hGrAFYcmh+WBNGOhgtrXWYP5txWDINbRgcQOjYKvPkWBxlIBgEZxeYD31O2CDNBlg3brsXzjwpl9qSUJfDcyzXg==",
          "dtype": "f4"
         }
        },
        {
         "line": {
          "cmax": 611586436859611300000,
          "cmin": -941527887222145000,
          "color": {
           "bdata": "AAAAAN36cNy4zBjcv3dKXcRXQV5UedteqXZIX4tEoV8jVO5fLpklYHiZW2C2U4xg5g2uYEac0mA1l/lgjkkRYV2RJmFwbTxhy6hSYSsRaWGQd39hT9eKYQnHlWG3d6BhrdeqYTTXtGEyaL5hDn3HYRQK0GGkBNhh2mLfYaoc5mGMKuxhEYbxYTgr9mFqFvpht0X9YUK6/2H6ugBiqT4BYoFrAWK0RQFivNIAYpYYAGL5O/5hhtT7Ya8J+WEW6vVhi4TyYQDm7mF6J+thEU/nYbNW42EpRN9hbRvbYXrd1mHXitJhrCLOYSGjyWF2CsVhAVfAYT6Hu2EUmrZh6I6xYRFmrGHUIKdhTsGhYeVKnGF/wZZhRiqRYWqKi2EP6IVh00iAYclkdWEJVGphBmhfYYmoVGHqGkphM8M/YdeiNWHQuSthQwYiYXaFGGG4Mg9hVAkGYc0G+mC2NuhgUZbWYA8bxWCsurNgCWyiYAAokWB40H9gz1BdYHzLOmBoPhhgQlXrX3Urpl+RLEJfq5S1Xg==",
           "dtype": "f4"
          },
          "colorscale": [
           [
            0,
            "#440154"
           ],
           [
            0.1111111111111111,
            "#482878"
           ],
           [
            0.2222222222222222,
            "#3e4989"
           ],
           [
            0.3333333333333333,
            "#31688e"
           ],
           [
            0.4444444444444444,
            "#26828e"
           ],
           [
            0.5555555555555556,
            "#1f9e89"
           ],
           [
            0.6666666666666666,
            "#35b779"
           ],
           [
            0.7777777777777778,
            "#6ece58"
           ],
           [
            0.8888888888888888,
            "#b5de2b"
           ],
           [
            1,
            "#fde725"
           ]
          ],
          "showscale": false,
          "width": 4
         },
         "mode": "lines",
         "showlegend": false,
         "type": "scatter3d",
         "x": {
          "bdata": "AAAAALooDiy6KI4sFz3VLLooDi3osjEtFz1VLUbHeC26KI4t0e2fLeiysS0AeMMtFz3VLS4C5y1Gx/gtLkYFLrooDi5GCxcu0e0fLl3QKC7osjEudJU6LgB4Qy6LWkwuFz1VLqMfXi4uAmcuuuRvLkbHeC7p1IAuLkaFLnS3iS66KI4uAJqSLkYLly6LfJsu0e2fLhdfpC5d0Kguo0GtLuiysS4uJLYudJW6LroGvy4AeMMuRunHLotazC7Ry9AuFz3VLl2u2S6hH94u55DiLi0C5y5zc+suuOTvLv5V9C5Ex/guijj9LujUAC+LDQMvLkYFL9B+By90twkvFvALL7ooDi9cYRAv/5kSL6LSFC9FCxcv6EMZL4p8Gy8utR0v0O0fL3QmIi8WXyQvuZcmL1zQKC//CCsvokEtL0V6Ly/osjEvi+szLy4kNi/QXDgvdJU6LxbOPC+5Bj8vXD9BL/93Qy+isEUvRelHL+ghSi+LWkwvLpNOL9DLUC9zBFMvFj1VL7l1Vy9crlkv/+ZbLw==",
          "dtype": "f4"
         },
         "y": {
          "bdata": "fPBBQHzwQUB88EFAfPBBQHzwQUB88EFAfPBBQHzwQUB88EFAfPBBQHzwQUB88EFAfPBBQHzwQUB88EFAfPBBQHzwQUB88EFAfPBBQHzwQUB88EFAfPBBQHzwQUB88EFAfPBBQHzwQUB88EFAfPBBQHzwQUB88EFAfPBBQHzwQUB88EFAfPBBQHzwQUB88EFAfPBBQHzwQUB88EFAfPBBQHzwQUB88EFAfPBBQHzwQUB88EFAfPBBQHzwQUB88EFAfPBBQHzwQUB88EFAfPBBQHzwQUB88EFAfPBBQHzwQUB88EFAfPBBQHzwQUB88EFAfPBBQHzwQUB88EFAfPBBQHzwQUB88EFAfPBBQHzwQUB88EFAfPBBQHzwQUB88EFAfPBBQHzwQUB88EFAfPBBQHzwQUB88EFAfPBBQHzwQUB88EFAfPBBQHzwQUB88EFAfPBBQHzwQUB88EFAfPBBQHzwQUB88EFAfPBBQHzwQUB88EFAfPBBQHzwQUB88EFAfPBBQHzwQUB88EFAfPBBQA==",
          "dtype": "f4"
         },
         "z": {
          "bdata": "AAAAAN36cNy4zBjcv3dKXcRXQV5UedteqXZIX4tEoV8jVO5fLpklYHiZW2C2U4xg5g2uYEac0mA1l/lgjkkRYV2RJmFwbTxhy6hSYSsRaWGQd39hT9eKYQnHlWG3d6BhrdeqYTTXtGEyaL5hDn3HYRQK0GGkBNhh2mLfYaoc5mGMKuxhEYbxYTgr9mFqFvpht0X9YUK6/2H6ugBiqT4BYoFrAWK0RQFivNIAYpYYAGL5O/5hhtT7Ya8J+WEW6vVhi4TyYQDm7mF6J+thEU/nYbNW42EpRN9hbRvbYXrd1mHXitJhrCLOYSGjyWF2CsVhAVfAYT6Hu2EUmrZh6I6xYRFmrGHUIKdhTsGhYeVKnGF/wZZhRiqRYWqKi2EP6IVh00iAYclkdWEJVGphBmhfYYmoVGHqGkphM8M/YdeiNWHQuSthQwYiYXaFGGG4Mg9hVAkGYc0G+mC2NuhgUZbWYA8bxWCsurNgCWyiYAAokWB40H9gz1BdYHzLOmBoPhhgQlXrX3Urpl+RLEJfq5S1Xg==",
          "dtype": "f4"
         }
        },
        {
         "line": {
          "cmax": 611586436859611300000,
          "cmin": -941527887222145000,
          "color": {
           "bdata": "AAAAAPqcXtxAE7vbIBZlXZoTS16B8eFeSoZMX8u5o1+pOfFfNUYnYCKDXWBYaI1g80OvYHf102BBFftguBsSYSZ3J2ESZz1hEbZTYXExamHlVIBhq3iLYblvlmGyJqFh4ourYaOPtWEDJL9huDvIYVvL0GHayNhhySrgYbrp5mG2/uxhyGPyYW0V92FMEPthn1L+YbZuAGInWQFinuoBYgkmAmIjDwJizKoBYmn+AGIOEABizcz9YbIQ+2Fo+fdhCZX0YRnw8GFkJO1h9jfpYWck5WGV8OBh0KHcYaI62GE3vdNhVCrPYbyBymEUw8Vh0O3AYVsBvGE1/bZhEeGxYTqtrGGsYqdh6AKiYYqQnGF4Dpdh0ICRYZvri2HiU4ZhQ76AYQxfdmFzWGthWXBgYemtVWFqFkthFa5AYRR3NmFGcixhEp8iYQX8GGHmhQ9hYDkGYdEj+mA/FuhgA0DWYDWYxGCzFbNgHbChYINgkGAFQX5gbtZbYDF6OWA8KBdgrb7pX35FpV9e7kFfiUu3Xg==",
           "dtype": "f4"
          },
          "colorscale": [
           [
            0,
            "#440154"
           ],
           [
            0.1111111111111111,
            "#482878"
           ],
           [
            0.2222222222222222,
            "#3e4989"
           ],
           [
            0.3333333333333333,
            "#31688e"
           ],
           [
            0.4444444444444444,
            "#26828e"
           ],
           [
            0.5555555555555556,
            "#1f9e89"
           ],
           [
            0.6666666666666666,
            "#35b779"
           ],
           [
            0.7777777777777778,
            "#6ece58"
           ],
           [
            0.8888888888888888,
            "#b5de2b"
           ],
           [
            1,
            "#fde725"
           ]
          ],
          "showscale": false,
          "width": 4
         },
         "mode": "lines",
         "showlegend": false,
         "type": "scatter3d",
         "x": {
          "bdata": "AAAAALooDiy6KI4sFz3VLLooDi3osjEtFz1VLUbHeC26KI4t0e2fLeiysS0AeMMtFz3VLS4C5y1Gx/gtLkYFLrooDi5GCxcu0e0fLl3QKC7osjEudJU6LgB4Qy6LWkwuFz1VLqMfXi4uAmcuuuRvLkbHeC7p1IAuLkaFLnS3iS66KI4uAJqSLkYLly6LfJsu0e2fLhdfpC5d0Kguo0GtLuiysS4uJLYudJW6LroGvy4AeMMuRunHLotazC7Ry9AuFz3VLl2u2S6hH94u55DiLi0C5y5zc+suuOTvLv5V9C5Ex/guijj9LujUAC+LDQMvLkYFL9B+By90twkvFvALL7ooDi9cYRAv/5kSL6LSFC9FCxcv6EMZL4p8Gy8utR0v0O0fL3QmIi8WXyQvuZcmL1zQKC//CCsvokEtL0V6Ly/osjEvi+szLy4kNi/QXDgvdJU6LxbOPC+5Bj8vXD9BL/93Qy+isEUvRelHL+ghSi+LWkwvLpNOL9DLUC9zBFMvFj1VL7l1Vy9crlkv/+ZbLw==",
          "dtype": "f4"
         },
         "y": {
          "bdata": "Yt5OQGLeTkBi3k5AYt5OQGLeTkBi3k5AYt5OQGLeTkBi3k5AYt5OQGLeTkBi3k5AYt5OQGLeTkBi3k5AYt5OQGLeTkBi3k5AYt5OQGLeTkBi3k5AYt5OQGLeTkBi3k5AYt5OQGLeTkBi3k5AYt5OQGLeTkBi3k5AYt5OQGLeTkBi3k5AYt5OQGLeTkBi3k5AYt5OQGLeTkBi3k5AYt5OQGLeTkBi3k5AYt5OQGLeTkBi3k5AYt5OQGLeTkBi3k5AYt5OQGLeTkBi3k5AYt5OQGLeTkBi3k5AYt5OQGLeTkBi3k5AYt5OQGLeTkBi3k5AYt5OQGLeTkBi3k5AYt5OQGLeTkBi3k5AYt5OQGLeTkBi3k5AYt5OQGLeTkBi3k5AYt5OQGLeTkBi3k5AYt5OQGLeTkBi3k5AYt5OQGLeTkBi3k5AYt5OQGLeTkBi3k5AYt5OQGLeTkBi3k5AYt5OQGLeTkBi3k5AYt5OQGLeTkBi3k5AYt5OQGLeTkBi3k5AYt5OQGLeTkBi3k5AYt5OQA==",
          "dtype": "f4"
         },
         "z": {
          "bdata": "AAAAAPqcXtxAE7vbIBZlXZoTS16B8eFeSoZMX8u5o1+pOfFfNUYnYCKDXWBYaI1g80OvYHf102BBFftguBsSYSZ3J2ESZz1hEbZTYXExamHlVIBhq3iLYblvlmGyJqFh4ourYaOPtWEDJL9huDvIYVvL0GHayNhhySrgYbrp5mG2/uxhyGPyYW0V92FMEPthn1L+YbZuAGInWQFinuoBYgkmAmIjDwJizKoBYmn+AGIOEABizcz9YbIQ+2Fo+fdhCZX0YRnw8GFkJO1h9jfpYWck5WGV8OBh0KHcYaI62GE3vdNhVCrPYbyBymEUw8Vh0O3AYVsBvGE1/bZhEeGxYTqtrGGsYqdh6AKiYYqQnGF4Dpdh0ICRYZvri2HiU4ZhQ76AYQxfdmFzWGthWXBgYemtVWFqFkthFa5AYRR3NmFGcixhEp8iYQX8GGHmhQ9hYDkGYdEj+mA/FuhgA0DWYDWYxGCzFbNgHbChYINgkGAFQX5gbtZbYDF6OWA8KBdgrb7pX35FpV9e7kFfiUu3Xg==",
          "dtype": "f4"
         }
        },
        {
         "line": {
          "cmax": 611586436859611300000,
          "cmin": -941527887222145000,
          "color": {
           "bdata": "AAAAAJiaRtxkN8baY0CBXZJpVV44iOhegnpQX0kBpl+hxvNfGqwoYKkFX2ADN45geR+wYLXd1GBDCvxgs5wSYZz+J2Hh9D1h0UlUYYTKamGUo4Bh38iLYanAlmGEd6FhxdurYc7dtWHqb79hDoXIYUES0WHgDdlhFW/gYf8u52EsR+1hRbLyYSlt92HRdPthmsf+YTizAGJTqQFi2kcCYlSRAmL/iAJiMjMCYqmUAWLhsgBiuyf/Yd97/GHWbvlh+A32YUxl8mFzj+5hPpLqYfJm5mFyFeJhV6TdYbQX2WFXc9RhobnPYebrymElC8ZhARjBYcMSvGGG+7ZhQ9KxYU+XrGFLS6dhMO+hYcmEnGENDpdh/I2RYYsHjGGefoZh0/aAYQzodmEW9GthVxhhYVBbVmENwkthCVFBYfEKN2GU8SxhdwUjYXFGGWGusg9hNUgGYaoH+mDOxOdg37/VYKfxw2BDUrJgLNqgYNCCj2CNi3xgpDtaYJQNOGB7+xVgUQToX0hFpF+fj0Ffa+C4Xg==",
           "dtype": "f4"
          },
          "colorscale": [
           [
            0,
            "#440154"
           ],
           [
            0.1111111111111111,
            "#482878"
           ],
           [
            0.2222222222222222,
            "#3e4989"
           ],
           [
            0.3333333333333333,
            "#31688e"
           ],
           [
            0.4444444444444444,
            "#26828e"
           ],
           [
            0.5555555555555556,
            "#1f9e89"
           ],
           [
            0.6666666666666666,
            "#35b779"
           ],
           [
            0.7777777777777778,
            "#6ece58"
           ],
           [
            0.8888888888888888,
            "#b5de2b"
           ],
           [
            1,
            "#fde725"
           ]
          ],
          "showscale": false,
          "width": 4
         },
         "mode": "lines",
         "showlegend": false,
         "type": "scatter3d",
         "x": {
          "bdata": "AAAAALooDiy6KI4sFz3VLLooDi3osjEtFz1VLUbHeC26KI4t0e2fLeiysS0AeMMtFz3VLS4C5y1Gx/gtLkYFLrooDi5GCxcu0e0fLl3QKC7osjEudJU6LgB4Qy6LWkwuFz1VLqMfXi4uAmcuuuRvLkbHeC7p1IAuLkaFLnS3iS66KI4uAJqSLkYLly6LfJsu0e2fLhdfpC5d0Kguo0GtLuiysS4uJLYudJW6LroGvy4AeMMuRunHLotazC7Ry9AuFz3VLl2u2S6hH94u55DiLi0C5y5zc+suuOTvLv5V9C5Ex/guijj9LujUAC+LDQMvLkYFL9B+By90twkvFvALL7ooDi9cYRAv/5kSL6LSFC9FCxcv6EMZL4p8Gy8utR0v0O0fL3QmIi8WXyQvuZcmL1zQKC//CCsvokEtL0V6Ly/osjEvi+szLy4kNi/QXDgvdJU6LxbOPC+5Bj8vXD9BL/93Qy+isEUvRelHL+ghSi+LWkwvLpNOL9DLUC9zBFMvFj1VL7l1Vy9crlkv/+ZbLw==",
          "dtype": "f4"
         },
         "y": {
          "bdata": "SMxbQEjMW0BIzFtASMxbQEjMW0BIzFtASMxbQEjMW0BIzFtASMxbQEjMW0BIzFtASMxbQEjMW0BIzFtASMxbQEjMW0BIzFtASMxbQEjMW0BIzFtASMxbQEjMW0BIzFtASMxbQEjMW0BIzFtASMxbQEjMW0BIzFtASMxbQEjMW0BIzFtASMxbQEjMW0BIzFtASMxbQEjMW0BIzFtASMxbQEjMW0BIzFtASMxbQEjMW0BIzFtASMxbQEjMW0BIzFtASMxbQEjMW0BIzFtASMxbQEjMW0BIzFtASMxbQEjMW0BIzFtASMxbQEjMW0BIzFtASMxbQEjMW0BIzFtASMxbQEjMW0BIzFtASMxbQEjMW0BIzFtASMxbQEjMW0BIzFtASMxbQEjMW0BIzFtASMxbQEjMW0BIzFtASMxbQEjMW0BIzFtASMxbQEjMW0BIzFtASMxbQEjMW0BIzFtASMxbQEjMW0BIzFtASMxbQEjMW0BIzFtASMxbQEjMW0BIzFtASMxbQEjMW0BIzFtASMxbQA==",
          "dtype": "f4"
         },
         "z": {
          "bdata": "AAAAAJiaRtxkN8baY0CBXZJpVV44iOhegnpQX0kBpl+hxvNfGqwoYKkFX2ADN45geR+wYLXd1GBDCvxgs5wSYZz+J2Hh9D1h0UlUYYTKamGUo4Bh38iLYanAlmGEd6FhxdurYc7dtWHqb79hDoXIYUES0WHgDdlhFW/gYf8u52EsR+1hRbLyYSlt92HRdPthmsf+YTizAGJTqQFi2kcCYlSRAmL/iAJiMjMCYqmUAWLhsgBiuyf/Yd97/GHWbvlh+A32YUxl8mFzj+5hPpLqYfJm5mFyFeJhV6TdYbQX2WFXc9RhobnPYebrymElC8ZhARjBYcMSvGGG+7ZhQ9KxYU+XrGFLS6dhMO+hYcmEnGENDpdh/I2RYYsHjGGefoZh0/aAYQzodmEW9GthVxhhYVBbVmENwkthCVFBYfEKN2GU8SxhdwUjYXFGGWGusg9hNUgGYaoH+mDOxOdg37/VYKfxw2BDUrJgLNqgYNCCj2CNi3xgpDtaYJQNOGB7+xVgUQToX0hFpF+fj0Ffa+C4Xg==",
          "dtype": "f4"
         }
        },
        {
         "line": {
          "cmax": 611586436859611300000,
          "cmin": -941527887222145000,
          "color": {
           "bdata": "AAAAAHgkKtzLyU1b1QuRXao3YF7AN+9e7VpUX7cmqF8/EfZfqdwpYO46YGBD0Y5gQLewYHBx1WDtmPxgGuESYcI/KGFlMj5hO4NUYR//amEDu4Bh3dyLYY/QlmGYgqFhUuGrYTrdtWHLaL9hSnfIYRP+0GEI9Nhh2VDgYSwO52E8Ju1hHJTyYS1V92GxZvthLcf+Yca7AGJqvAFi/WYCYqy9AmI/wwJigXsCYp7qAWJnFQFiRgEAYvJn/WGtZvphTAv3YWlh82FIhO9hhHnrYf0552GJzuJh/T7eYeqQ2WGhydRhIe3PYTj+ymEu/8Vh2PHAYUjXu2E8sLZh83yxYcE9rGEG86ZhMZ2hYUo9nGFc1JZhZmSRYTvvi2Gwd4ZhZACBYZEYd2H5PGxhcXNhYdHBVmHoLExhSblBYStqN2EnQi1hzUIjYTJtGWHRwA9hBj0GYdm/+WAUT+dg2iHVYKUyw2DverFgBfSfYNaXjmAmwHpggY5YYGORNmBtwRRgQzPmXxYyo19mEkFfRUa6Xg==",
           "dtype": "f4"
          },
          "colorscale": [
           [
            0,
            "#440154"
           ],
           [
            0.1111111111111111,
            "#482878"
           ],
           [
            0.2222222222222222,
            "#3e4989"
           ],
           [
            0.3333333333333333,
            "#31688e"
           ],
           [
            0.4444444444444444,
            "#26828e"
           ],
           [
            0.5555555555555556,
            "#1f9e89"
           ],
           [
            0.6666666666666666,
            "#35b779"
           ],
           [
            0.7777777777777778,
            "#6ece58"
           ],
           [
            0.8888888888888888,
            "#b5de2b"
           ],
           [
            1,
            "#fde725"
           ]
          ],
          "showscale": false,
          "width": 4
         },
         "mode": "lines",
         "showlegend": false,
         "type": "scatter3d",
         "x": {
          "bdata": "AAAAALooDiy6KI4sFz3VLLooDi3osjEtFz1VLUbHeC26KI4t0e2fLeiysS0AeMMtFz3VLS4C5y1Gx/gtLkYFLrooDi5GCxcu0e0fLl3QKC7osjEudJU6LgB4Qy6LWkwuFz1VLqMfXi4uAmcuuuRvLkbHeC7p1IAuLkaFLnS3iS66KI4uAJqSLkYLly6LfJsu0e2fLhdfpC5d0Kguo0GtLuiysS4uJLYudJW6LroGvy4AeMMuRunHLotazC7Ry9AuFz3VLl2u2S6hH94u55DiLi0C5y5zc+suuOTvLv5V9C5Ex/guijj9LujUAC+LDQMvLkYFL9B+By90twkvFvALL7ooDi9cYRAv/5kSL6LSFC9FCxcv6EMZL4p8Gy8utR0v0O0fL3QmIi8WXyQvuZcmL1zQKC//CCsvokEtL0V6Ly/osjEvi+szLy4kNi/QXDgvdJU6LxbOPC+5Bj8vXD9BL/93Qy+isEUvRelHL+ghSi+LWkwvLpNOL9DLUC9zBFMvFj1VL7l1Vy9crlkv/+ZbLw==",
          "dtype": "f4"
         },
         "y": {
          "bdata": "LrpoQC66aEAuumhALrpoQC66aEAuumhALrpoQC66aEAuumhALrpoQC66aEAuumhALrpoQC66aEAuumhALrpoQC66aEAuumhALrpoQC66aEAuumhALrpoQC66aEAuumhALrpoQC66aEAuumhALrpoQC66aEAuumhALrpoQC66aEAuumhALrpoQC66aEAuumhALrpoQC66aEAuumhALrpoQC66aEAuumhALrpoQC66aEAuumhALrpoQC66aEAuumhALrpoQC66aEAuumhALrpoQC66aEAuumhALrpoQC66aEAuumhALrpoQC66aEAuumhALrpoQC66aEAuumhALrpoQC66aEAuumhALrpoQC66aEAuumhALrpoQC66aEAuumhALrpoQC66aEAuumhALrpoQC66aEAuumhALrpoQC66aEAuumhALrpoQC66aEAuumhALrpoQC66aEAuumhALrpoQC66aEAuumhALrpoQC66aEAuumhALrpoQC66aEAuumhALrpoQC66aEAuumhALrpoQA==",
          "dtype": "f4"
         },
         "z": {
          "bdata": "AAAAAHgkKtzLyU1b1QuRXao3YF7AN+9e7VpUX7cmqF8/EfZfqdwpYO46YGBD0Y5gQLewYHBx1WDtmPxgGuESYcI/KGFlMj5hO4NUYR//amEDu4Bh3dyLYY/QlmGYgqFhUuGrYTrdtWHLaL9hSnfIYRP+0GEI9Nhh2VDgYSwO52E8Ju1hHJTyYS1V92GxZvthLcf+Yca7AGJqvAFi/WYCYqy9AmI/wwJigXsCYp7qAWJnFQFiRgEAYvJn/WGtZvphTAv3YWlh82FIhO9hhHnrYf0552GJzuJh/T7eYeqQ2WGhydRhIe3PYTj+ymEu/8Vh2PHAYUjXu2E8sLZh83yxYcE9rGEG86ZhMZ2hYUo9nGFc1JZhZmSRYTvvi2Gwd4ZhZACBYZEYd2H5PGxhcXNhYdHBVmHoLExhSblBYStqN2EnQi1hzUIjYTJtGWHRwA9hBj0GYdm/+WAUT+dg2iHVYKUyw2DverFgBfSfYNaXjmAmwHpggY5YYGORNmBtwRRgQzPmXxYyo19mEkFfRUa6Xg==",
          "dtype": "f4"
         }
        },
        {
         "line": {
          "cmax": 611586436859611300000,
          "cmin": -941527887222145000,
          "color": {
           "bdata": "AAAAAMxKCtwhTAVcV6WhXdRea15c+vVewi1YXww0ql+5LPhfR+cqYCU5YWA/Ro9g3x6xYEXJ1WAj3/xguPoSYV1PKGGBNz5hU31UYYvtamH3q4BhDceLYWOzlmFvXaFhlLOrYWCmtWGEKL9hey3IYQur0GGOmNhhL+7fYS6m5mE/u+xhEinyYW/t9mH0BfthWXH+YTuYAGIUogFidlcCYkK6AmLKzAJiXZICYo0OAmKbRQFiWDwAYuPv/WGD+/phYqf3YYr+82HTHPBhmQfsYWC352HINeNh3IveYX/A2WF92tRhRt/PYR/TymGNucVhaJXAYZpou2FzNLZhfPmwYQ64q2FPcKZhLiKhYQbOm2EEdJZhNRWRYWKyi2FeTYZhzOeAYZcHd2GCR2xhvJNhYWHxVmH7ZExhMvNBYaqfN2GxbS1hzF8jYTB4GWGOtw9hix4GYehY+WDXwOZgGXHUYMhlwmCembBg5wafYBmojWAo7nhgetxWYAURNWAjgxNgmFjkX4kTol9NekBf6XO7Xg==",
           "dtype": "f4"
          },
          "colorscale": [
           [
            0,
            "#440154"
           ],
           [
            0.1111111111111111,
            "#482878"
           ],
           [
            0.2222222222222222,
            "#3e4989"
           ],
           [
            0.3333333333333333,
            "#31688e"
           ],
           [
            0.4444444444444444,
            "#26828e"
           ],
           [
            0.5555555555555556,
            "#1f9e89"
           ],
           [
            0.6666666666666666,
            "#35b779"
           ],
           [
            0.7777777777777778,
            "#6ece58"
           ],
           [
            0.8888888888888888,
            "#b5de2b"
           ],
           [
            1,
            "#fde725"
           ]
          ],
          "showscale": false,
          "width": 4
         },
         "mode": "lines",
         "showlegend": false,
         "type": "scatter3d",
         "x": {
          "bdata": "AAAAALooDiy6KI4sFz3VLLooDi3osjEtFz1VLUbHeC26KI4t0e2fLeiysS0AeMMtFz3VLS4C5y1Gx/gtLkYFLrooDi5GCxcu0e0fLl3QKC7osjEudJU6LgB4Qy6LWkwuFz1VLqMfXi4uAmcuuuRvLkbHeC7p1IAuLkaFLnS3iS66KI4uAJqSLkYLly6LfJsu0e2fLhdfpC5d0Kguo0GtLuiysS4uJLYudJW6LroGvy4AeMMuRunHLotazC7Ry9AuFz3VLl2u2S6hH94u55DiLi0C5y5zc+suuOTvLv5V9C5Ex/guijj9LujUAC+LDQMvLkYFL9B+By90twkvFvALL7ooDi9cYRAv/5kSL6LSFC9FCxcv6EMZL4p8Gy8utR0v0O0fL3QmIi8WXyQvuZcmL1zQKC//CCsvokEtL0V6Ly/osjEvi+szLy4kNi/QXDgvdJU6LxbOPC+5Bj8vXD9BL/93Qy+isEUvRelHL+ghSi+LWkwvLpNOL9DLUC9zBFMvFj1VL7l1Vy9crlkv/+ZbLw==",
          "dtype": "f4"
         },
         "y": {
          "bdata": "FKh1QBSodUAUqHVAFKh1QBSodUAUqHVAFKh1QBSodUAUqHVAFKh1QBSodUAUqHVAFKh1QBSodUAUqHVAFKh1QBSodUAUqHVAFKh1QBSodUAUqHVAFKh1QBSodUAUqHVAFKh1QBSodUAUqHVAFKh1QBSodUAUqHVAFKh1QBSodUAUqHVAFKh1QBSodUAUqHVAFKh1QBSodUAUqHVAFKh1QBSodUAUqHVAFKh1QBSodUAUqHVAFKh1QBSodUAUqHVAFKh1QBSodUAUqHVAFKh1QBSodUAUqHVAFKh1QBSodUAUqHVAFKh1QBSodUAUqHVAFKh1QBSodUAUqHVAFKh1QBSodUAUqHVAFKh1QBSodUAUqHVAFKh1QBSodUAUqHVAFKh1QBSodUAUqHVAFKh1QBSodUAUqHVAFKh1QBSodUAUqHVAFKh1QBSodUAUqHVAFKh1QBSodUAUqHVAFKh1QBSodUAUqHVAFKh1QBSodUAUqHVAFKh1QBSodUAUqHVAFKh1QBSodUAUqHVAFKh1QA==",
          "dtype": "f4"
         },
         "z": {
          "bdata": "AAAAAMxKCtwhTAVcV6WhXdRea15c+vVewi1YXww0ql+5LPhfR+cqYCU5YWA/Ro9g3x6xYEXJ1WAj3/xguPoSYV1PKGGBNz5hU31UYYvtamH3q4BhDceLYWOzlmFvXaFhlLOrYWCmtWGEKL9hey3IYQur0GGOmNhhL+7fYS6m5mE/u+xhEinyYW/t9mH0BfthWXH+YTuYAGIUogFidlcCYkK6AmLKzAJiXZICYo0OAmKbRQFiWDwAYuPv/WGD+/phYqf3YYr+82HTHPBhmQfsYWC352HINeNh3IveYX/A2WF92tRhRt/PYR/TymGNucVhaJXAYZpou2FzNLZhfPmwYQ64q2FPcKZhLiKhYQbOm2EEdJZhNRWRYWKyi2FeTYZhzOeAYZcHd2GCR2xhvJNhYWHxVmH7ZExhMvNBYaqfN2GxbS1hzF8jYTB4GWGOtw9hix4GYehY+WDXwOZgGXHUYMhlwmCembBg5wafYBmojWAo7nhgetxWYAURNWAjgxNgmFjkX4kTol9NekBf6XO7Xg==",
          "dtype": "f4"
         }
        },
        {
         "line": {
          "cmax": 611586436859611300000,
          "cmin": -941527887222145000,
          "color": {
           "bdata": "AAAAAMD2z9v+IFtcEMyyXYzCdl4VyvxexfdbX2YxrF/4KPpfxtgrYAETYmCgoo9g0GaxYMX51WAB9vxggPgSYeI+KGFOGD5h305UYVGvamGbhIBhBZeLYS16lmF5GqFhVGarYV1OtWFkxb5hNr/HYd4x0GEXFdhhqGHfYT0S5mEfIuxhho3xYaJS9mF4b/ph7eL9YfhWAGKXaAFiZCcCYvSUAmJBswJiGYUCYpENAmJXUAFiq1EAYmos/mGyRfthMfr3YXNU9GGdcPBh0VPsYT7252FVYuNhGaLeYae92WEovdRhY6fPYeCBymFVUcVhihnAYS/dumEdnrVhKl2wYbYaq2G61qVhuZCgYXNIm2FR/ZVhfK+QYdNei2E8DIZhcLiAYYvJdmHsJWxhZIlhYU34VmH2dkxhAQpCYWe1N2EcfS1heGQjYbduGWGgnQ9h/fIFYXje+GAkJeZgALjTYMWUwWCIt69gahueYIG7jGDmI3dgKTJVYCeXM2A6SRJg/YDiX1rxoF82zD9fN2S8Xg==",
           "dtype": "f4"
          },
          "colorscale": [
           [
            0,
            "#440154"
           ],
           [
            0.1111111111111111,
            "#482878"
           ],
           [
            0.2222222222222222,
            "#3e4989"
           ],
           [
            0.3333333333333333,
            "#31688e"
           ],
           [
            0.4444444444444444,
            "#26828e"
           ],
           [
            0.5555555555555556,
            "#1f9e89"
           ],
           [
            0.6666666666666666,
            "#35b779"
           ],
           [
            0.7777777777777778,
            "#6ece58"
           ],
           [
            0.8888888888888888,
            "#b5de2b"
           ],
           [
            1,
            "#fde725"
           ]
          ],
          "showscale": false,
          "width": 4
         },
         "mode": "lines",
         "showlegend": false,
         "type": "scatter3d",
         "x": {
          "bdata": "AAAAALooDiy6KI4sFz3VLLooDi3osjEtFz1VLUbHeC26KI4t0e2fLeiysS0AeMMtFz3VLS4C5y1Gx/gtLkYFLrooDi5GCxcu0e0fLl3QKC7osjEudJU6LgB4Qy6LWkwuFz1VLqMfXi4uAmcuuuRvLkbHeC7p1IAuLkaFLnS3iS66KI4uAJqSLkYLly6LfJsu0e2fLhdfpC5d0Kguo0GtLuiysS4uJLYudJW6LroGvy4AeMMuRunHLotazC7Ry9AuFz3VLl2u2S6hH94u55DiLi0C5y5zc+suuOTvLv5V9C5Ex/guijj9LujUAC+LDQMvLkYFL9B+By90twkvFvALL7ooDi9cYRAv/5kSL6LSFC9FCxcv6EMZL4p8Gy8utR0v0O0fL3QmIi8WXyQvuZcmL1zQKC//CCsvokEtL0V6Ly/osjEvi+szLy4kNi/QXDgvdJU6LxbOPC+5Bj8vXD9BL/93Qy+isEUvRelHL+ghSi+LWkwvLpNOL9DLUC9zBFMvFj1VL7l1Vy9crlkv/+ZbLw==",
          "dtype": "f4"
         },
         "y": {
          "bdata": "/UqBQP1KgUD9SoFA/UqBQP1KgUD9SoFA/UqBQP1KgUD9SoFA/UqBQP1KgUD9SoFA/UqBQP1KgUD9SoFA/UqBQP1KgUD9SoFA/UqBQP1KgUD9SoFA/UqBQP1KgUD9SoFA/UqBQP1KgUD9SoFA/UqBQP1KgUD9SoFA/UqBQP1KgUD9SoFA/UqBQP1KgUD9SoFA/UqBQP1KgUD9SoFA/UqBQP1KgUD9SoFA/UqBQP1KgUD9SoFA/UqBQP1KgUD9SoFA/UqBQP1KgUD9SoFA/UqBQP1KgUD9SoFA/UqBQP1KgUD9SoFA/UqBQP1KgUD9SoFA/UqBQP1KgUD9SoFA/UqBQP1KgUD9SoFA/UqBQP1KgUD9SoFA/UqBQP1KgUD9SoFA/UqBQP1KgUD9SoFA/UqBQP1KgUD9SoFA/UqBQP1KgUD9SoFA/UqBQP1KgUD9SoFA/UqBQP1KgUD9SoFA/UqBQP1KgUD9SoFA/UqBQP1KgUD9SoFA/UqBQP1KgUD9SoFA/UqBQP1KgUD9SoFA/UqBQA==",
          "dtype": "f4"
         },
         "z": {
          "bdata": "AAAAAMD2z9v+IFtcEMyyXYzCdl4VyvxexfdbX2YxrF/4KPpfxtgrYAETYmCgoo9g0GaxYMX51WAB9vxggPgSYeI+KGFOGD5h305UYVGvamGbhIBhBZeLYS16lmF5GqFhVGarYV1OtWFkxb5hNr/HYd4x0GEXFdhhqGHfYT0S5mEfIuxhho3xYaJS9mF4b/ph7eL9YfhWAGKXaAFiZCcCYvSUAmJBswJiGYUCYpENAmJXUAFiq1EAYmos/mGyRfthMfr3YXNU9GGdcPBh0VPsYT7252FVYuNhGaLeYae92WEovdRhY6fPYeCBymFVUcVhihnAYS/dumEdnrVhKl2wYbYaq2G61qVhuZCgYXNIm2FR/ZVhfK+QYdNei2E8DIZhcLiAYYvJdmHsJWxhZIlhYU34VmH2dkxhAQpCYWe1N2EcfS1heGQjYbduGWGgnQ9h/fIFYXje+GAkJeZgALjTYMWUwWCIt69gahueYIG7jGDmI3dgKTJVYCeXM2A6SRJg/YDiX1rxoF82zD9fN2S8Xg==",
          "dtype": "f4"
         }
        },
        {
         "line": {
          "cmax": 611586436859611300000,
          "cmin": -941527887222145000,
          "color": {
           "bdata": "AAAAABsKiNusuplcckTEXckjgV7yzwFfsLtfX+4krl+BEvxfYbssYHvXYmCn8I9gZZyxYKoT1mDB8fxggeYSYXMcKGEK5T1haApUYUJZamGFUIBhiFmLYd8ylmHkyKBh8gmrYbnmtGEsUr5hQUDHYU+nz2F2f9dh3sHeYcBp5WHkcuth+NnwYbKd9WFkvPlhSDX9YagEAGKRHAFiReMBYiZaAmLTggJitl8CYmvzAWIcQQFih0wAYqwz/mHyWvthHhn4YTt49GFqlPBhm3LsYdkK6GFEaONhsJXeYVCc2WF4hdRhJVnPYQYeymHb2cRhTpG/Yb1HumF0/7RhprmvYb12qmGJNqVhQPifYRi7mmHRfZVh1D+QYSoAi2HevoVh6nuAYcBvdmHC52thP2JhYfriVmHebUxhggdCYSq0N2FMeC1h/1cjYU1XGWEIeQ9h978FYRJb+GDPheVg3//SYIXIwGD53K5gTDmdYDXZi2BHbnVgC5tTYKQtMmCyGxFgbrjgXzXTn18uDj9fwxW9Xg==",
           "dtype": "f4"
          },
          "colorscale": [
           [
            0,
            "#440154"
           ],
           [
            0.1111111111111111,
            "#482878"
           ],
           [
            0.2222222222222222,
            "#3e4989"
           ],
           [
            0.3333333333333333,
            "#31688e"
           ],
           [
            0.4444444444444444,
            "#26828e"
           ],
           [
            0.5555555555555556,
            "#1f9e89"
           ],
           [
            0.6666666666666666,
            "#35b779"
           ],
           [
            0.7777777777777778,
            "#6ece58"
           ],
           [
            0.8888888888888888,
            "#b5de2b"
           ],
           [
            1,
            "#fde725"
           ]
          ],
          "showscale": false,
          "width": 4
         },
         "mode": "lines",
         "showlegend": false,
         "type": "scatter3d",
         "x": {
          "bdata": "AAAAALooDiy6KI4sFz3VLLooDi3osjEtFz1VLUbHeC26KI4t0e2fLeiysS0AeMMtFz3VLS4C5y1Gx/gtLkYFLrooDi5GCxcu0e0fLl3QKC7osjEudJU6LgB4Qy6LWkwuFz1VLqMfXi4uAmcuuuRvLkbHeC7p1IAuLkaFLnS3iS66KI4uAJqSLkYLly6LfJsu0e2fLhdfpC5d0Kguo0GtLuiysS4uJLYudJW6LroGvy4AeMMuRunHLotazC7Ry9AuFz3VLl2u2S6hH94u55DiLi0C5y5zc+suuOTvLv5V9C5Ex/guijj9LujUAC+LDQMvLkYFL9B+By90twkvFvALL7ooDi9cYRAv/5kSL6LSFC9FCxcv6EMZL4p8Gy8utR0v0O0fL3QmIi8WXyQvuZcmL1zQKC//CCsvokEtL0V6Ly/osjEvi+szLy4kNi/QXDgvdJU6LxbOPC+5Bj8vXD9BL/93Qy+isEUvRelHL+ghSi+LWkwvLpNOL9DLUC9zBFMvFj1VL7l1Vy9crlkv/+ZbLw==",
          "dtype": "f4"
         },
         "y": {
          "bdata": "8MGHQPDBh0DwwYdA8MGHQPDBh0DwwYdA8MGHQPDBh0DwwYdA8MGHQPDBh0DwwYdA8MGHQPDBh0DwwYdA8MGHQPDBh0DwwYdA8MGHQPDBh0DwwYdA8MGHQPDBh0DwwYdA8MGHQPDBh0DwwYdA8MGHQPDBh0DwwYdA8MGHQPDBh0DwwYdA8MGHQPDBh0DwwYdA8MGHQPDBh0DwwYdA8MGHQPDBh0DwwYdA8MGHQPDBh0DwwYdA8MGHQPDBh0DwwYdA8MGHQPDBh0DwwYdA8MGHQPDBh0DwwYdA8MGHQPDBh0DwwYdA8MGHQPDBh0DwwYdA8MGHQPDBh0DwwYdA8MGHQPDBh0DwwYdA8MGHQPDBh0DwwYdA8MGHQPDBh0DwwYdA8MGHQPDBh0DwwYdA8MGHQPDBh0DwwYdA8MGHQPDBh0DwwYdA8MGHQPDBh0DwwYdA8MGHQPDBh0DwwYdA8MGHQPDBh0DwwYdA8MGHQPDBh0DwwYdA8MGHQPDBh0DwwYdA8MGHQPDBh0DwwYdA8MGHQA==",
          "dtype": "f4"
         },
         "z": {
          "bdata": "AAAAABsKiNusuplcckTEXckjgV7yzwFfsLtfX+4krl+BEvxfYbssYHvXYmCn8I9gZZyxYKoT1mDB8fxggeYSYXMcKGEK5T1haApUYUJZamGFUIBhiFmLYd8ylmHkyKBh8gmrYbnmtGEsUr5hQUDHYU+nz2F2f9dh3sHeYcBp5WHkcuth+NnwYbKd9WFkvPlhSDX9YagEAGKRHAFiReMBYiZaAmLTggJitl8CYmvzAWIcQQFih0wAYqwz/mHyWvthHhn4YTt49GFqlPBhm3LsYdkK6GFEaONhsJXeYVCc2WF4hdRhJVnPYQYeymHb2cRhTpG/Yb1HumF0/7RhprmvYb12qmGJNqVhQPifYRi7mmHRfZVh1D+QYSoAi2HevoVh6nuAYcBvdmHC52thP2JhYfriVmHebUxhggdCYSq0N2FMeC1h/1cjYU1XGWEIeQ9h978FYRJb+GDPheVg3//SYIXIwGD53K5gTDmdYDXZi2BHbnVgC5tTYKQtMmCyGxFgbrjgXzXTn18uDj9fwxW9Xg==",
          "dtype": "f4"
         }
        },
        {
         "line": {
          "cmax": 611586436859611300000,
          "cmin": -941527887222145000,
          "color": {
           "bdata": "AAAAAK27+No5esZc9NfVXcLphl63OQVfO3pjX7gSsF+F8v1f15YtYA6SY2AuOJBg3MmxYL8j1mAz4vxgH84SYQPzJ2FPqj1hOb5TYXn7aWGvGIBhiBiLYWjolWGOdKBhUauqYVt9tGGw3b1hbcDGYRscz2E56dZhQSHeYeK/5GFZweph1yLwYXfj9GH5Aflhz338YSVY/2HJyABi3JUBYn4UAmIMRgJimCwCYlHKAWL1IQFixjYAYvIY/mEfTvthpRb4Yft79GHumfBhRnXsYTIG6GFFWONhEHfeYa5s2WFxQ9RhYQTPYTC3yWF/YsRhvQu/Yei2uWHDZrRhuxyvYWLZqWFtnKRhzGSfYVAxmmErAJVhHtCPYYSfimGvbYVh4DmAYRwIdmGMmWthqSlhYY27VmHGUkxh4fNBYVCjN2HsZS1hZkAjYYM3GWHqTg9hO4oFYZ7X92BB6+Rgs1DSYH4IwGD9EK5gKWecYEwHi2Bz2HNg+SBSYPvcMGCJARBgognfXzPAnl/IRj5faYq9Xg==",
           "dtype": "f4"
          },
          "colorscale": [
           [
            0,
            "#440154"
           ],
           [
            0.1111111111111111,
            "#482878"
           ],
           [
            0.2222222222222222,
            "#3e4989"
           ],
           [
            0.3333333333333333,
            "#31688e"
           ],
           [
            0.4444444444444444,
            "#26828e"
           ],
           [
            0.5555555555555556,
            "#1f9e89"
           ],
           [
            0.6666666666666666,
            "#35b779"
           ],
           [
            0.7777777777777778,
            "#6ece58"
           ],
           [
            0.8888888888888888,
            "#b5de2b"
           ],
           [
            1,
            "#fde725"
           ]
          ],
          "showscale": false,
          "width": 4
         },
         "mode": "lines",
         "showlegend": false,
         "type": "scatter3d",
         "x": {
          "bdata": "AAAAALooDiy6KI4sFz3VLLooDi3osjEtFz1VLUbHeC26KI4t0e2fLeiysS0AeMMtFz3VLS4C5y1Gx/gtLkYFLrooDi5GCxcu0e0fLl3QKC7osjEudJU6LgB4Qy6LWkwuFz1VLqMfXi4uAmcuuuRvLkbHeC7p1IAuLkaFLnS3iS66KI4uAJqSLkYLly6LfJsu0e2fLhdfpC5d0Kguo0GtLuiysS4uJLYudJW6LroGvy4AeMMuRunHLotazC7Ry9AuFz3VLl2u2S6hH94u55DiLi0C5y5zc+suuOTvLv5V9C5Ex/guijj9LujUAC+LDQMvLkYFL9B+By90twkvFvALL7ooDi9cYRAv/5kSL6LSFC9FCxcv6EMZL4p8Gy8utR0v0O0fL3QmIi8WXyQvuZcmL1zQKC//CCsvokEtL0V6Ly/osjEvi+szLy4kNi/QXDgvdJU6LxbOPC+5Bj8vXD9BL/93Qy+isEUvRelHL+ghSi+LWkwvLpNOL9DLUC9zBFMvFj1VL7l1Vy9crlkv/+ZbLw==",
          "dtype": "f4"
         },
         "y": {
          "bdata": "4ziOQOM4jkDjOI5A4ziOQOM4jkDjOI5A4ziOQOM4jkDjOI5A4ziOQOM4jkDjOI5A4ziOQOM4jkDjOI5A4ziOQOM4jkDjOI5A4ziOQOM4jkDjOI5A4ziOQOM4jkDjOI5A4ziOQOM4jkDjOI5A4ziOQOM4jkDjOI5A4ziOQOM4jkDjOI5A4ziOQOM4jkDjOI5A4ziOQOM4jkDjOI5A4ziOQOM4jkDjOI5A4ziOQOM4jkDjOI5A4ziOQOM4jkDjOI5A4ziOQOM4jkDjOI5A4ziOQOM4jkDjOI5A4ziOQOM4jkDjOI5A4ziOQOM4jkDjOI5A4ziOQOM4jkDjOI5A4ziOQOM4jkDjOI5A4ziOQOM4jkDjOI5A4ziOQOM4jkDjOI5A4ziOQOM4jkDjOI5A4ziOQOM4jkDjOI5A4ziOQOM4jkDjOI5A4ziOQOM4jkDjOI5A4ziOQOM4jkDjOI5A4ziOQOM4jkDjOI5A4ziOQOM4jkDjOI5A4ziOQOM4jkDjOI5A4ziOQOM4jkDjOI5A4ziOQA==",
          "dtype": "f4"
         },
         "z": {
          "bdata": "AAAAAK27+No5esZc9NfVXcLphl63OQVfO3pjX7gSsF+F8v1f15YtYA6SY2AuOJBg3MmxYL8j1mAz4vxgH84SYQPzJ2FPqj1hOb5TYXn7aWGvGIBhiBiLYWjolWGOdKBhUauqYVt9tGGw3b1hbcDGYRscz2E56dZhQSHeYeK/5GFZweph1yLwYXfj9GH5Aflhz338YSVY/2HJyABi3JUBYn4UAmIMRgJimCwCYlHKAWL1IQFixjYAYvIY/mEfTvthpRb4Yft79GHumfBhRnXsYTIG6GFFWONhEHfeYa5s2WFxQ9RhYQTPYTC3yWF/YsRhvQu/Yei2uWHDZrRhuxyvYWLZqWFtnKRhzGSfYVAxmmErAJVhHtCPYYSfimGvbYVh4DmAYRwIdmGMmWthqSlhYY27VmHGUkxh4fNBYVCjN2HsZS1hZkAjYYM3GWHqTg9hO4oFYZ7X92BB6+Rgs1DSYH4IwGD9EK5gKWecYEwHi2Bz2HNg+SBSYPvcMGCJARBgognfXzPAnl/IRj5faYq9Xg==",
          "dtype": "f4"
         }
        },
        {
         "line": {
          "cmax": 611586436859611300000,
          "cmin": -941527887222145000,
          "color": {
           "bdata": "AAAAAPxRx1n+NvNciFTnXXOmjF6hnQhfTDJnXxH9sV/+zv9fknAuYPRKZGD1fpBguPaxYIoz1mDG0vxgMLYSYZjKJ2FfcT1h33RTYcuhaWFix39hVduKYc6ilWFHJqBhAlSqYZkctGEac71hr0vGYQWdzmHcX9ZhCY7dYYQj5GEJHephMHjvYYw09GElUfhh4M37YQOs/mEfdgBiDkgBYuLMAWLGBQJifPQBYuiaAWJb+wBitBgAYn7s/WEnL/thTgL4YeJu9GHsj/BhGGrsYRv252HRP+NhWFPeYYs72WGOA9RhRrXOYTlZyWHL9sNhFZS+YZs1uWGJ3rNhkJCuYWNMqWGrEaRhLt+eYW6zmWEujJRhrWePYbJDimHxHoVhO/B/YTiddWH/RGthYehgYfSJVmHjLExhptVBYbyIN2FWSy1hlSIjYdITGWFjIw9holUFYUlb92A9XORgx7DRYKZav2A0Wa1gPaqbYKFKimBJa3Jg8ctQYB2sL2CPAA9gs33dX7O+nV/JfD1f0ca9Xg==",
           "dtype": "f4"
          },
          "colorscale": [
           [
            0,
            "#440154"
           ],
           [
            0.1111111111111111,
            "#482878"
           ],
           [
            0.2222222222222222,
            "#3e4989"
           ],
           [
            0.3333333333333333,
            "#31688e"
           ],
           [
            0.4444444444444444,
            "#26828e"
           ],
           [
            0.5555555555555556,
            "#1f9e89"
           ],
           [
            0.6666666666666666,
            "#35b779"
           ],
           [
            0.7777777777777778,
            "#6ece58"
           ],
           [
            0.8888888888888888,
            "#b5de2b"
           ],
           [
            1,
            "#fde725"
           ]
          ],
          "showscale": false,
          "width": 4
         },
         "mode": "lines",
         "showlegend": false,
         "type": "scatter3d",
         "x": {
          "bdata": "AAAAALooDiy6KI4sFz3VLLooDi3osjEtFz1VLUbHeC26KI4t0e2fLeiysS0AeMMtFz3VLS4C5y1Gx/gtLkYFLrooDi5GCxcu0e0fLl3QKC7osjEudJU6LgB4Qy6LWkwuFz1VLqMfXi4uAmcuuuRvLkbHeC7p1IAuLkaFLnS3iS66KI4uAJqSLkYLly6LfJsu0e2fLhdfpC5d0Kguo0GtLuiysS4uJLYudJW6LroGvy4AeMMuRunHLotazC7Ry9AuFz3VLl2u2S6hH94u55DiLi0C5y5zc+suuOTvLv5V9C5Ex/guijj9LujUAC+LDQMvLkYFL9B+By90twkvFvALL7ooDi9cYRAv/5kSL6LSFC9FCxcv6EMZL4p8Gy8utR0v0O0fL3QmIi8WXyQvuZcmL1zQKC//CCsvokEtL0V6Ly/osjEvi+szLy4kNi/QXDgvdJU6LxbOPC+5Bj8vXD9BL/93Qy+isEUvRelHL+ghSi+LWkwvLpNOL9DLUC9zBFMvFj1VL7l1Vy9crlkv/+ZbLw==",
          "dtype": "f4"
         },
         "y": {
          "bdata": "1q+UQNavlEDWr5RA1q+UQNavlEDWr5RA1q+UQNavlEDWr5RA1q+UQNavlEDWr5RA1q+UQNavlEDWr5RA1q+UQNavlEDWr5RA1q+UQNavlEDWr5RA1q+UQNavlEDWr5RA1q+UQNavlEDWr5RA1q+UQNavlEDWr5RA1q+UQNavlEDWr5RA1q+UQNavlEDWr5RA1q+UQNavlEDWr5RA1q+UQNavlEDWr5RA1q+UQNavlEDWr5RA1q+UQNavlEDWr5RA1q+UQNavlEDWr5RA1q+UQNavlEDWr5RA1q+UQNavlEDWr5RA1q+UQNavlEDWr5RA1q+UQNavlEDWr5RA1q+UQNavlEDWr5RA1q+UQNavlEDWr5RA1q+UQNavlEDWr5RA1q+UQNavlEDWr5RA1q+UQNavlEDWr5RA1q+UQNavlEDWr5RA1q+UQNavlEDWr5RA1q+UQNavlEDWr5RA1q+UQNavlEDWr5RA1q+UQNavlEDWr5RA1q+UQNavlEDWr5RA1q+UQNavlEDWr5RA1q+UQA==",
          "dtype": "f4"
         },
         "z": {
          "bdata": "AAAAAPxRx1n+NvNciFTnXXOmjF6hnQhfTDJnXxH9sV/+zv9fknAuYPRKZGD1fpBguPaxYIoz1mDG0vxgMLYSYZjKJ2FfcT1h33RTYcuhaWFix39hVduKYc6ilWFHJqBhAlSqYZkctGEac71hr0vGYQWdzmHcX9ZhCY7dYYQj5GEJHephMHjvYYw09GElUfhh4M37YQOs/mEfdgBiDkgBYuLMAWLGBQJifPQBYuiaAWJb+wBitBgAYn7s/WEnL/thTgL4YeJu9GHsj/BhGGrsYRv252HRP+NhWFPeYYs72WGOA9RhRrXOYTlZyWHL9sNhFZS+YZs1uWGJ3rNhkJCuYWNMqWGrEaRhLt+eYW6zmWEujJRhrWePYbJDimHxHoVhO/B/YTiddWH/RGthYehgYfSJVmHjLExhptVBYbyIN2FWSy1hlSIjYdITGWFjIw9holUFYUlb92A9XORgx7DRYKZav2A0Wa1gPaqbYKFKimBJa3Jg8ctQYB2sL2CPAA9gs33dX7O+nV/JfD1f0ca9Xg==",
          "dtype": "f4"
         }
        },
        {
         "line": {
          "cmax": 611586436859611300000,
          "cmin": -941527887222145000,
          "color": {
           "bdata": "AAAAAMLoLVsPtg9dPo34XbdNkl6R9gtfG+FqX4/ks1+n1QBg5EsvYIUHZWC/yJBgACiyYF5J1mBNy/xgWaMSYZqoJ2FwQD1hZzVTYTJUaWEDbH9h26aKYYNnlWEK5J9hjQqqYZPLs2EVGr1hTOrFYfUyzmH07NVhXRLdYXKf42FTkelh9+XuYU+d82HVtvdhtzL7YXoS/mF6KwBi2wABYlyKAWILyQFicL4BYihsAWIz1ABiMvL/YYe7/WHmCvthl+j3Yftc9GH6gfBhN1zsYT/l52EhKeNhWjTeYU8S2WHOztNhbnTOYWIMyWGwnsNh7zG+YR/LuGHDbbNh0RuuYR7WqGFanKNhNW2eYfdGmWEYJ5RhcwuPYVfxiWEC14RhXnV/YZA2dWH/8Gph1qRgYQtUVmGWAUxhq7FBYeVoN2GWLC1hPQIjYZnvGGGN+Q5hBCUFYVbr9mCk3eNgtSTRYETDvmCauaxgQgabYLOmiWAmLXFgvqFPYDGgLmAsHQ5gvRvcXwLUnF/BtjxfrdG9Xg==",
           "dtype": "f4"
          },
          "colorscale": [
           [
            0,
            "#440154"
           ],
           [
            0.1111111111111111,
            "#482878"
           ],
           [
            0.2222222222222222,
            "#3e4989"
           ],
           [
            0.3333333333333333,
            "#31688e"
           ],
           [
            0.4444444444444444,
            "#26828e"
           ],
           [
            0.5555555555555556,
            "#1f9e89"
           ],
           [
            0.6666666666666666,
            "#35b779"
           ],
           [
            0.7777777777777778,
            "#6ece58"
           ],
           [
            0.8888888888888888,
            "#b5de2b"
           ],
           [
            1,
            "#fde725"
           ]
          ],
          "showscale": false,
          "width": 4
         },
         "mode": "lines",
         "showlegend": false,
         "type": "scatter3d",
         "x": {
          "bdata": "AAAAALooDiy6KI4sFz3VLLooDi3osjEtFz1VLUbHeC26KI4t0e2fLeiysS0AeMMtFz3VLS4C5y1Gx/gtLkYFLrooDi5GCxcu0e0fLl3QKC7osjEudJU6LgB4Qy6LWkwuFz1VLqMfXi4uAmcuuuRvLkbHeC7p1IAuLkaFLnS3iS66KI4uAJqSLkYLly6LfJsu0e2fLhdfpC5d0Kguo0GtLuiysS4uJLYudJW6LroGvy4AeMMuRunHLotazC7Ry9AuFz3VLl2u2S6hH94u55DiLi0C5y5zc+suuOTvLv5V9C5Ex/guijj9LujUAC+LDQMvLkYFL9B+By90twkvFvALL7ooDi9cYRAv/5kSL6LSFC9FCxcv6EMZL4p8Gy8utR0v0O0fL3QmIi8WXyQvuZcmL1zQKC//CCsvokEtL0V6Ly/osjEvi+szLy4kNi/QXDgvdJU6LxbOPC+5Bj8vXD9BL/93Qy+isEUvRelHL+ghSi+LWkwvLpNOL9DLUC9zBFMvFj1VL7l1Vy9crlkv/+ZbLw==",
          "dtype": "f4"
         },
         "y": {
          "bdata": "yiabQMomm0DKJptAyiabQMomm0DKJptAyiabQMomm0DKJptAyiabQMomm0DKJptAyiabQMomm0DKJptAyiabQMomm0DKJptAyiabQMomm0DKJptAyiabQMomm0DKJptAyiabQMomm0DKJptAyiabQMomm0DKJptAyiabQMomm0DKJptAyiabQMomm0DKJptAyiabQMomm0DKJptAyiabQMomm0DKJptAyiabQMomm0DKJptAyiabQMomm0DKJptAyiabQMomm0DKJptAyiabQMomm0DKJptAyiabQMomm0DKJptAyiabQMomm0DKJptAyiabQMomm0DKJptAyiabQMomm0DKJptAyiabQMomm0DKJptAyiabQMomm0DKJptAyiabQMomm0DKJptAyiabQMomm0DKJptAyiabQMomm0DKJptAyiabQMomm0DKJptAyiabQMomm0DKJptAyiabQMomm0DKJptAyiabQMomm0DKJptAyiabQMomm0DKJptAyiabQMomm0DKJptAyiabQA==",
          "dtype": "f4"
         },
         "z": {
          "bdata": "AAAAAMLoLVsPtg9dPo34XbdNkl6R9gtfG+FqX4/ks1+n1QBg5EsvYIUHZWC/yJBgACiyYF5J1mBNy/xgWaMSYZqoJ2FwQD1hZzVTYTJUaWEDbH9h26aKYYNnlWEK5J9hjQqqYZPLs2EVGr1hTOrFYfUyzmH07NVhXRLdYXKf42FTkelh9+XuYU+d82HVtvdhtzL7YXoS/mF6KwBi2wABYlyKAWILyQFicL4BYihsAWIz1ABiMvL/YYe7/WHmCvthl+j3Yftc9GH6gfBhN1zsYT/l52EhKeNhWjTeYU8S2WHOztNhbnTOYWIMyWGwnsNh7zG+YR/LuGHDbbNh0RuuYR7WqGFanKNhNW2eYfdGmWEYJ5RhcwuPYVfxiWEC14RhXnV/YZA2dWH/8Gph1qRgYQtUVmGWAUxhq7FBYeVoN2GWLC1hPQIjYZnvGGGN+Q5hBCUFYVbr9mCk3eNgtSTRYETDvmCauaxgQgabYLOmiWAmLXFgvqFPYDGgLmAsHQ5gvRvcXwLUnF/BtjxfrdG9Xg==",
          "dtype": "f4"
         }
        },
        {
         "line": {
          "cmax": 611586436859611300000,
          "cmin": -941527887222145000,
          "color": {
           "bdata": "AAAAALSSoFt7UyVd4KwEXhjUl14TPw9foYJuX2TItV8uxAFgYyowYJXKZWC7F5FgnWCyYP5o1mBa0PxgVZgSYTaQJ2EmGz1h5wNTYUIXaWFXJH9h7H2KYag5lWFAsZ9ht9KpYWqOs2E517xhRKHFYVfjzWFoltVhp7TcYZc642GhJelhDnTuYTEm82HnO/dhnrX6YT+V/WHB2/9hZsUAYjBSAWItlQFixo8BYmRDAWLFsQBiSbr/YTKQ/WE16/ph/tL3YXZP9GHRePBh6VPsYWnb52GAG+Nh4SDeYU732GEaq9NhWEfOYcnVyGHqXsNhtum9YZR7uGFWGLNhK8KtYRJ6qGHSP6NhEhKeYf/umGHf05NhRL6OYTKriWGHmIRhNAh/YQjZdGE2omphU2NgYe4dVmGi1EthdotBYfxGN2GaDC1hAOIiYTvNGGGL0w5hUPoEYUiL9mCfcuNgS6/QYPdEvmChNKxgf32aYJcdiWD5IXBg8aVOYHe8LWBFWg1gwujaXyQEnF+o+jtfIbO9Xg==",
           "dtype": "f4"
          },
          "colorscale": [
           [
            0,
            "#440154"
           ],
           [
            0.1111111111111111,
            "#482878"
           ],
           [
            0.2222222222222222,
            "#3e4989"
           ],
           [
            0.3333333333333333,
            "#31688e"
           ],
           [
            0.4444444444444444,
            "#26828e"
           ],
           [
            0.5555555555555556,
            "#1f9e89"
           ],
           [
            0.6666666666666666,
            "#35b779"
           ],
           [
            0.7777777777777778,
            "#6ece58"
           ],
           [
            0.8888888888888888,
            "#b5de2b"
           ],
           [
            1,
            "#fde725"
           ]
          ],
          "showscale": false,
          "width": 4
         },
         "mode": "lines",
         "showlegend": false,
         "type": "scatter3d",
         "x": {
          "bdata": "AAAAALooDiy6KI4sFz3VLLooDi3osjEtFz1VLUbHeC26KI4t0e2fLeiysS0AeMMtFz3VLS4C5y1Gx/gtLkYFLrooDi5GCxcu0e0fLl3QKC7osjEudJU6LgB4Qy6LWkwuFz1VLqMfXi4uAmcuuuRvLkbHeC7p1IAuLkaFLnS3iS66KI4uAJqSLkYLly6LfJsu0e2fLhdfpC5d0Kguo0GtLuiysS4uJLYudJW6LroGvy4AeMMuRunHLotazC7Ry9AuFz3VLl2u2S6hH94u55DiLi0C5y5zc+suuOTvLv5V9C5Ex/guijj9LujUAC+LDQMvLkYFL9B+By90twkvFvALL7ooDi9cYRAv/5kSL6LSFC9FCxcv6EMZL4p8Gy8utR0v0O0fL3QmIi8WXyQvuZcmL1zQKC//CCsvokEtL0V6Ly/osjEvi+szLy4kNi/QXDgvdJU6LxbOPC+5Bj8vXD9BL/93Qy+isEUvRelHL+ghSi+LWkwvLpNOL9DLUC9zBFMvFj1VL7l1Vy9crlkv/+ZbLw==",
          "dtype": "f4"
         },
         "y": {
          "bdata": "vZ2hQL2doUC9naFAvZ2hQL2doUC9naFAvZ2hQL2doUC9naFAvZ2hQL2doUC9naFAvZ2hQL2doUC9naFAvZ2hQL2doUC9naFAvZ2hQL2doUC9naFAvZ2hQL2doUC9naFAvZ2hQL2doUC9naFAvZ2hQL2doUC9naFAvZ2hQL2doUC9naFAvZ2hQL2doUC9naFAvZ2hQL2doUC9naFAvZ2hQL2doUC9naFAvZ2hQL2doUC9naFAvZ2hQL2doUC9naFAvZ2hQL2doUC9naFAvZ2hQL2doUC9naFAvZ2hQL2doUC9naFAvZ2hQL2doUC9naFAvZ2hQL2doUC9naFAvZ2hQL2doUC9naFAvZ2hQL2doUC9naFAvZ2hQL2doUC9naFAvZ2hQL2doUC9naFAvZ2hQL2doUC9naFAvZ2hQL2doUC9naFAvZ2hQL2doUC9naFAvZ2hQL2doUC9naFAvZ2hQL2doUC9naFAvZ2hQL2doUC9naFAvZ2hQL2doUC9naFAvZ2hQL2doUC9naFAvZ2hQA==",
          "dtype": "f4"
         },
         "z": {
          "bdata": "AAAAALSSoFt7UyVd4KwEXhjUl14TPw9foYJuX2TItV8uxAFgYyowYJXKZWC7F5FgnWCyYP5o1mBa0PxgVZgSYTaQJ2EmGz1h5wNTYUIXaWFXJH9h7H2KYag5lWFAsZ9ht9KpYWqOs2E517xhRKHFYVfjzWFoltVhp7TcYZc642GhJelhDnTuYTEm82HnO/dhnrX6YT+V/WHB2/9hZsUAYjBSAWItlQFixo8BYmRDAWLFsQBiSbr/YTKQ/WE16/ph/tL3YXZP9GHRePBh6VPsYWnb52GAG+Nh4SDeYU732GEaq9NhWEfOYcnVyGHqXsNhtum9YZR7uGFWGLNhK8KtYRJ6qGHSP6NhEhKeYf/umGHf05NhRL6OYTKriWGHmIRhNAh/YQjZdGE2omphU2NgYe4dVmGi1EthdotBYfxGN2GaDC1hAOIiYTvNGGGL0w5hUPoEYUiL9mCfcuNgS6/QYPdEvmChNKxgf32aYJcdiWD5IXBg8aVOYHe8LWBFWg1gwujaXyQEnF+o+jtfIbO9Xg==",
          "dtype": "f4"
         }
        },
        {
         "line": {
          "cmax": 611586436859611300000,
          "cmin": -941527887222145000,
          "color": {
           "bdata": "AAAAANq/6Ft+QzpdhssMXhEvnV6zcRJf5BFyX7Omt1+fsgJgKgwxYPWUZmClbJFgwKGyYO+T1mDa4/xgRZYSYbeCJ2H4Aj1hBeJSYcfsaGFQ8n5hnmGKYWcalWE/j59h+a2pYcZms2FarLxhvXLFYZqwzWHvXtVh/XfcYWr44mHV3ehh0CbuYfvT8mGG5fZhRVz6YV46/WEPgf9hGJkAYt8nAWLPbQFiOWwBYlwkAWLPlwBiEJH/Ycdx/WEj1/phRsj3YZpM9GFeevBholbsYZ/d52F5G+Nh9xzeYSLu2GGOm9NhtTDOYba3yGFfOcNhD729YWFIuGFz37JhsoStYT45qGEG/aJhuc6dYYKsmGGJk5NhQYGOYW9yiWG2ZIRhUqt+YS+HdGEuW2phaCZgYQ3qVWFjqEthPmVBYQ8lN2E57SxhhcMiYSeuGGGfsg5hjdYEYdE89mCVHONgzVHQYMHgvWAby6tgsBCaYP6viGAbS29g7dlNYFACLWA9uQxgfufZX8FRm19yTTtfB3S9Xg==",
           "dtype": "f4"
          },
          "colorscale": [
           [
            0,
            "#440154"
           ],
           [
            0.1111111111111111,
            "#482878"
           ],
           [
            0.2222222222222222,
            "#3e4989"
           ],
           [
            0.3333333333333333,
            "#31688e"
           ],
           [
            0.4444444444444444,
            "#26828e"
           ],
           [
            0.5555555555555556,
            "#1f9e89"
           ],
           [
            0.6666666666666666,
            "#35b779"
           ],
           [
            0.7777777777777778,
            "#6ece58"
           ],
           [
            0.8888888888888888,
            "#b5de2b"
           ],
           [
            1,
            "#fde725"
           ]
          ],
          "showscale": false,
          "width": 4
         },
         "mode": "lines",
         "showlegend": false,
         "type": "scatter3d",
         "x": {
          "bdata": "AAAAALooDiy6KI4sFz3VLLooDi3osjEtFz1VLUbHeC26KI4t0e2fLeiysS0AeMMtFz3VLS4C5y1Gx/gtLkYFLrooDi5GCxcu0e0fLl3QKC7osjEudJU6LgB4Qy6LWkwuFz1VLqMfXi4uAmcuuuRvLkbHeC7p1IAuLkaFLnS3iS66KI4uAJqSLkYLly6LfJsu0e2fLhdfpC5d0Kguo0GtLuiysS4uJLYudJW6LroGvy4AeMMuRunHLotazC7Ry9AuFz3VLl2u2S6hH94u55DiLi0C5y5zc+suuOTvLv5V9C5Ex/guijj9LujUAC+LDQMvLkYFL9B+By90twkvFvALL7ooDi9cYRAv/5kSL6LSFC9FCxcv6EMZL4p8Gy8utR0v0O0fL3QmIi8WXyQvuZcmL1zQKC//CCsvokEtL0V6Ly/osjEvi+szLy4kNi/QXDgvdJU6LxbOPC+5Bj8vXD9BL/93Qy+isEUvRelHL+ghSi+LWkwvLpNOL9DLUC9zBFMvFj1VL7l1Vy9crlkv/+ZbLw==",
          "dtype": "f4"
         },
         "y": {
          "bdata": "sBSoQLAUqECwFKhAsBSoQLAUqECwFKhAsBSoQLAUqECwFKhAsBSoQLAUqECwFKhAsBSoQLAUqECwFKhAsBSoQLAUqECwFKhAsBSoQLAUqECwFKhAsBSoQLAUqECwFKhAsBSoQLAUqECwFKhAsBSoQLAUqECwFKhAsBSoQLAUqECwFKhAsBSoQLAUqECwFKhAsBSoQLAUqECwFKhAsBSoQLAUqECwFKhAsBSoQLAUqECwFKhAsBSoQLAUqECwFKhAsBSoQLAUqECwFKhAsBSoQLAUqECwFKhAsBSoQLAUqECwFKhAsBSoQLAUqECwFKhAsBSoQLAUqECwFKhAsBSoQLAUqECwFKhAsBSoQLAUqECwFKhAsBSoQLAUqECwFKhAsBSoQLAUqECwFKhAsBSoQLAUqECwFKhAsBSoQLAUqECwFKhAsBSoQLAUqECwFKhAsBSoQLAUqECwFKhAsBSoQLAUqECwFKhAsBSoQLAUqECwFKhAsBSoQLAUqECwFKhAsBSoQLAUqECwFKhAsBSoQA==",
          "dtype": "f4"
         },
         "z": {
          "bdata": "AAAAANq/6Ft+QzpdhssMXhEvnV6zcRJf5BFyX7Omt1+fsgJgKgwxYPWUZmClbJFgwKGyYO+T1mDa4/xgRZYSYbeCJ2H4Aj1hBeJSYcfsaGFQ8n5hnmGKYWcalWE/j59h+a2pYcZms2FarLxhvXLFYZqwzWHvXtVh/XfcYWr44mHV3ehh0CbuYfvT8mGG5fZhRVz6YV46/WEPgf9hGJkAYt8nAWLPbQFiOWwBYlwkAWLPlwBiEJH/Ycdx/WEj1/phRsj3YZpM9GFeevBholbsYZ/d52F5G+Nh9xzeYSLu2GGOm9NhtTDOYba3yGFfOcNhD729YWFIuGFz37JhsoStYT45qGEG/aJhuc6dYYKsmGGJk5NhQYGOYW9yiWG2ZIRhUqt+YS+HdGEuW2phaCZgYQ3qVWFjqEthPmVBYQ8lN2E57SxhhcMiYSeuGGGfsg5hjdYEYdE89mCVHONgzVHQYMHgvWAby6tgsBCaYP6viGAbS29g7dlNYFACLWA9uQxgfufZX8FRm19yTTtfB3S9Xg==",
          "dtype": "f4"
         }
        },
        {
         "line": {
          "cmax": 611586436859611300000,
          "cmin": -941527887222145000,
          "color": {
           "bdata": "AAAAAGKJF1yqXk5d0ZMUXj9Vol4uiRVfaol1X+R8uV/JnwNgRPAxYN1lZ2A7x5FgLuuyYBXK1mCuBf1gGp0SYQWAJ2G29zxhe89SYVHUaGFu1X5hnlGKYWcJlWGjfZ9h6pupYUNUs2Ekmbxhcl7FYZyazWGeRtVhqlzcYYHZ4mHYuuhhfP/tYUyo8mHNtfZhIin6Yb8E/WEwSv9hwX0AYnENAWIYVQFiB1YBYmwRAWKviABiSnv/Yehk/WEk0/phoMz3YVhY9GE3ivBhj2fsYZ7u52FUK+NhaSreYQz42GH9oNNh6jDOYS6yyGHOLcNhYKu9Yb8wuGE6wrJhbWKtYbESqGEU06JhaKKdYeF+mGGrZZNhJlSOYf1GiWGvO4RhO19+Yd1BdGH/HGphWu9fYcG5VWE6fkthT0BBYVEEN2GKzyxhtqciYRqTGGFOlw5hGroEYUwA9mCb2+Jg+QvQYEGWvWCWfKtgVr+ZYG9diGCxp25gET1NYGNxLGAMOgxgkRjZXyq+ml8bszpfbR29Xg==",
           "dtype": "f4"
          },
          "colorscale": [
           [
            0,
            "#440154"
           ],
           [
            0.1111111111111111,
            "#482878"
           ],
           [
            0.2222222222222222,
            "#3e4989"
           ],
           [
            0.3333333333333333,
            "#31688e"
           ],
           [
            0.4444444444444444,
            "#26828e"
           ],
           [
            0.5555555555555556,
            "#1f9e89"
           ],
           [
            0.6666666666666666,
            "#35b779"
           ],
           [
            0.7777777777777778,
            "#6ece58"
           ],
           [
            0.8888888888888888,
            "#b5de2b"
           ],
           [
            1,
            "#fde725"
           ]
          ],
          "showscale": false,
          "width": 4
         },
         "mode": "lines",
         "showlegend": false,
         "type": "scatter3d",
         "x": {
          "bdata": "AAAAALooDiy6KI4sFz3VLLooDi3osjEtFz1VLUbHeC26KI4t0e2fLeiysS0AeMMtFz3VLS4C5y1Gx/gtLkYFLrooDi5GCxcu0e0fLl3QKC7osjEudJU6LgB4Qy6LWkwuFz1VLqMfXi4uAmcuuuRvLkbHeC7p1IAuLkaFLnS3iS66KI4uAJqSLkYLly6LfJsu0e2fLhdfpC5d0Kguo0GtLuiysS4uJLYudJW6LroGvy4AeMMuRunHLotazC7Ry9AuFz3VLl2u2S6hH94u55DiLi0C5y5zc+suuOTvLv5V9C5Ex/guijj9LujUAC+LDQMvLkYFL9B+By90twkvFvALL7ooDi9cYRAv/5kSL6LSFC9FCxcv6EMZL4p8Gy8utR0v0O0fL3QmIi8WXyQvuZcmL1zQKC//CCsvokEtL0V6Ly/osjEvi+szLy4kNi/QXDgvdJU6LxbOPC+5Bj8vXD9BL/93Qy+isEUvRelHL+ghSi+LWkwvLpNOL9DLUC9zBFMvFj1VL7l1Vy9crlkv/+ZbLw==",
          "dtype": "f4"
         },
         "y": {
          "bdata": "o4uuQKOLrkCji65Ao4uuQKOLrkCji65Ao4uuQKOLrkCji65Ao4uuQKOLrkCji65Ao4uuQKOLrkCji65Ao4uuQKOLrkCji65Ao4uuQKOLrkCji65Ao4uuQKOLrkCji65Ao4uuQKOLrkCji65Ao4uuQKOLrkCji65Ao4uuQKOLrkCji65Ao4uuQKOLrkCji65Ao4uuQKOLrkCji65Ao4uuQKOLrkCji65Ao4uuQKOLrkCji65Ao4uuQKOLrkCji65Ao4uuQKOLrkCji65Ao4uuQKOLrkCji65Ao4uuQKOLrkCji65Ao4uuQKOLrkCji65Ao4uuQKOLrkCji65Ao4uuQKOLrkCji65Ao4uuQKOLrkCji65Ao4uuQKOLrkCji65Ao4uuQKOLrkCji65Ao4uuQKOLrkCji65Ao4uuQKOLrkCji65Ao4uuQKOLrkCji65Ao4uuQKOLrkCji65Ao4uuQKOLrkCji65Ao4uuQKOLrkCji65Ao4uuQKOLrkCji65Ao4uuQKOLrkCji65Ao4uuQA==",
          "dtype": "f4"
         },
         "z": {
          "bdata": "AAAAAGKJF1yqXk5d0ZMUXj9Vol4uiRVfaol1X+R8uV/JnwNgRPAxYN1lZ2A7x5FgLuuyYBXK1mCuBf1gGp0SYQWAJ2G29zxhe89SYVHUaGFu1X5hnlGKYWcJlWGjfZ9h6pupYUNUs2Ekmbxhcl7FYZyazWGeRtVhqlzcYYHZ4mHYuuhhfP/tYUyo8mHNtfZhIin6Yb8E/WEwSv9hwX0AYnENAWIYVQFiB1YBYmwRAWKviABiSnv/Yehk/WEk0/phoMz3YVhY9GE3ivBhj2fsYZ7u52FUK+NhaSreYQz42GH9oNNh6jDOYS6yyGHOLcNhYKu9Yb8wuGE6wrJhbWKtYbESqGEU06JhaKKdYeF+mGGrZZNhJlSOYf1GiWGvO4RhO19+Yd1BdGH/HGphWu9fYcG5VWE6fkthT0BBYVEEN2GKzyxhtqciYRqTGGFOlw5hGroEYUwA9mCb2+Jg+QvQYEGWvWCWfKtgVr+ZYG9diGCxp25gET1NYGNxLGAMOgxgkRjZXyq+ml8bszpfbR29Xg==",
          "dtype": "f4"
         }
        },
        {
         "line": {
          "cmax": 611586436859611300000,
          "cmin": -941527887222145000,
          "color": {
           "bdata": "AAAAALehOVyUhmFd1fkbXqk+p16pgBhfvON4X+5Hu18JigRg39QyYG47aGBtJpJgvDuzYAUK12AxNP1g0qsSYeiGJ2Hw9zxhiMpSYe3LaGFYy35hlUyKYSEFlWG1ep9hupqpYe5Us2GPm7xhQWLFYUWfzWFmS9VhxWDcYQrc4mEPu+hhuvztYR+i8mENrPZh6Rv6YYD0/GGpN/9h3nMAYokDAWLeSwFiLE4BYp0LAWKJhQBiUHv/YeZr/WFZ4fphBeL3YWV09GG6qfBhzofsYRgP6GFIS+NhDUneYXUU2WFYutNhfEbOYVjDyGENOsNhU7K9YSsyuGEMvrJhyVitYecDqGGlv6Jh+IqdYThkmGGiSJNhnTWOYdMniWGtHIRh/yJ+YYYIdGF352lhQL5fYWGNVWGQVkthLB1BYTvlNmHnsyxh0I4iYSJ8GGF7gQ5hqaQEYdzU9WB+ruJgatzPYOJjvWBnR6tgwYeZYFEkiGDhNG5g6MxMYMIHLGBe2wtgnXrYX1dJml9HLjpf9Le8Xg==",
           "dtype": "f4"
          },
          "colorscale": [
           [
            0,
            "#440154"
           ],
           [
            0.1111111111111111,
            "#482878"
           ],
           [
            0.2222222222222222,
            "#3e4989"
           ],
           [
            0.3333333333333333,
            "#31688e"
           ],
           [
            0.4444444444444444,
            "#26828e"
           ],
           [
            0.5555555555555556,
            "#1f9e89"
           ],
           [
            0.6666666666666666,
            "#35b779"
           ],
           [
            0.7777777777777778,
            "#6ece58"
           ],
           [
            0.8888888888888888,
            "#b5de2b"
           ],
           [
            1,
            "#fde725"
           ]
          ],
          "showscale": false,
          "width": 4
         },
         "mode": "lines",
         "showlegend": false,
         "type": "scatter3d",
         "x": {
          "bdata": "AAAAALooDiy6KI4sFz3VLLooDi3osjEtFz1VLUbHeC26KI4t0e2fLeiysS0AeMMtFz3VLS4C5y1Gx/gtLkYFLrooDi5GCxcu0e0fLl3QKC7osjEudJU6LgB4Qy6LWkwuFz1VLqMfXi4uAmcuuuRvLkbHeC7p1IAuLkaFLnS3iS66KI4uAJqSLkYLly6LfJsu0e2fLhdfpC5d0Kguo0GtLuiysS4uJLYudJW6LroGvy4AeMMuRunHLotazC7Ry9AuFz3VLl2u2S6hH94u55DiLi0C5y5zc+suuOTvLv5V9C5Ex/guijj9LujUAC+LDQMvLkYFL9B+By90twkvFvALL7ooDi9cYRAv/5kSL6LSFC9FCxcv6EMZL4p8Gy8utR0v0O0fL3QmIi8WXyQvuZcmL1zQKC//CCsvokEtL0V6Ly/osjEvi+szLy4kNi/QXDgvdJU6LxbOPC+5Bj8vXD9BL/93Qy+isEUvRelHL+ghSi+LWkwvLpNOL9DLUC9zBFMvFj1VL7l1Vy9crlkv/+ZbLw==",
          "dtype": "f4"
         },
         "y": {
          "bdata": "lgK1QJYCtUCWArVAlgK1QJYCtUCWArVAlgK1QJYCtUCWArVAlgK1QJYCtUCWArVAlgK1QJYCtUCWArVAlgK1QJYCtUCWArVAlgK1QJYCtUCWArVAlgK1QJYCtUCWArVAlgK1QJYCtUCWArVAlgK1QJYCtUCWArVAlgK1QJYCtUCWArVAlgK1QJYCtUCWArVAlgK1QJYCtUCWArVAlgK1QJYCtUCWArVAlgK1QJYCtUCWArVAlgK1QJYCtUCWArVAlgK1QJYCtUCWArVAlgK1QJYCtUCWArVAlgK1QJYCtUCWArVAlgK1QJYCtUCWArVAlgK1QJYCtUCWArVAlgK1QJYCtUCWArVAlgK1QJYCtUCWArVAlgK1QJYCtUCWArVAlgK1QJYCtUCWArVAlgK1QJYCtUCWArVAlgK1QJYCtUCWArVAlgK1QJYCtUCWArVAlgK1QJYCtUCWArVAlgK1QJYCtUCWArVAlgK1QJYCtUCWArVAlgK1QJYCtUCWArVAlgK1QJYCtUCWArVAlgK1QA==",
          "dtype": "f4"
         },
         "z": {
          "bdata": "AAAAALehOVyUhmFd1fkbXqk+p16pgBhfvON4X+5Hu18JigRg39QyYG47aGBtJpJgvDuzYAUK12AxNP1g0qsSYeiGJ2Hw9zxhiMpSYe3LaGFYy35hlUyKYSEFlWG1ep9hupqpYe5Us2GPm7xhQWLFYUWfzWFmS9VhxWDcYQrc4mEPu+hhuvztYR+i8mENrPZh6Rv6YYD0/GGpN/9h3nMAYokDAWLeSwFiLE4BYp0LAWKJhQBiUHv/YeZr/WFZ4fphBeL3YWV09GG6qfBhzofsYRgP6GFIS+NhDUneYXUU2WFYutNhfEbOYVjDyGENOsNhU7K9YSsyuGEMvrJhyVitYecDqGGlv6Jh+IqdYThkmGGiSJNhnTWOYdMniWGtHIRh/yJ+YYYIdGF352lhQL5fYWGNVWGQVkthLB1BYTvlNmHnsyxh0I4iYSJ8GGF7gQ5hqaQEYdzU9WB+ruJgatzPYOJjvWBnR6tgwYeZYFEkiGDhNG5g6MxMYMIHLGBe2wtgnXrYX1dJml9HLjpf9Le8Xg==",
          "dtype": "f4"
         }
        },
        {
         "line": {
          "cmax": 611586436859611300000,
          "cmin": -941527887222145000,
          "color": {
           "bdata": "AAAAAL+SWlzCpHNdcvQiXsfkq17vUxtfhxt8X6oEvV+CbwVg2bczYP0SaWC2iJJgkZGzYI5R12DAbP1g2MASYYGVJ2FiAT1hiNBSYXDQaGF20H5heVCKYUkLlWHtg59hjqepYblls2FVsLxhxnrFYQW7zWGjadVhmoDcYXT84mEL2+hhRxvuYXO+8mGHxfZhNzL6YZ8H/WHeR/9hzHoAYrwJAWLaUQFiilQBYvwSAWKCjgBieZH/YSKH/WEwAvthrAj4Ybmg9GGw2PBh27bsYTo+6GE3euNhRXfeYVVB2WE25dNho27OYRLoyGG2WsNhUM69YfNIuGE7z7JhIWStYV8JqGFnv6JhXoWdYclZmGEJOpNhnyOOYUMTiWFhBoRhjvR9Yb3Zc2GpuWlhhZJfYZlkVWFPMUthxvtAYczHNmFCmixhnXgiYedoGGGccA5hgZUEYaW49WAhk+Jg0cDPYCRHvWD7KKtgbGeZYDoCiGA47m1glIVMYELCK2DVmgtgkwrYXxTymV9wwDlfeUu8Xg==",
           "dtype": "f4"
          },
          "colorscale": [
           [
            0,
            "#440154"
           ],
           [
            0.1111111111111111,
            "#482878"
           ],
           [
            0.2222222222222222,
            "#3e4989"
           ],
           [
            0.3333333333333333,
            "#31688e"
           ],
           [
            0.4444444444444444,
            "#26828e"
           ],
           [
            0.5555555555555556,
            "#1f9e89"
           ],
           [
            0.6666666666666666,
            "#35b779"
           ],
           [
            0.7777777777777778,
            "#6ece58"
           ],
           [
            0.8888888888888888,
            "#b5de2b"
           ],
           [
            1,
            "#fde725"
           ]
          ],
          "showscale": false,
          "width": 4
         },
         "mode": "lines",
         "showlegend": false,
         "type": "scatter3d",
         "x": {
          "bdata": "AAAAALooDiy6KI4sFz3VLLooDi3osjEtFz1VLUbHeC26KI4t0e2fLeiysS0AeMMtFz3VLS4C5y1Gx/gtLkYFLrooDi5GCxcu0e0fLl3QKC7osjEudJU6LgB4Qy6LWkwuFz1VLqMfXi4uAmcuuuRvLkbHeC7p1IAuLkaFLnS3iS66KI4uAJqSLkYLly6LfJsu0e2fLhdfpC5d0Kguo0GtLuiysS4uJLYudJW6LroGvy4AeMMuRunHLotazC7Ry9AuFz3VLl2u2S6hH94u55DiLi0C5y5zc+suuOTvLv5V9C5Ex/guijj9LujUAC+LDQMvLkYFL9B+By90twkvFvALL7ooDi9cYRAv/5kSL6LSFC9FCxcv6EMZL4p8Gy8utR0v0O0fL3QmIi8WXyQvuZcmL1zQKC//CCsvokEtL0V6Ly/osjEvi+szLy4kNi/QXDgvdJU6LxbOPC+5Bj8vXD9BL/93Qy+isEUvRelHL+ghSi+LWkwvLpNOL9DLUC9zBFMvFj1VL7l1Vy9crlkv/+ZbLw==",
          "dtype": "f4"
         },
         "y": {
          "bdata": "iXm7QIl5u0CJebtAiXm7QIl5u0CJebtAiXm7QIl5u0CJebtAiXm7QIl5u0CJebtAiXm7QIl5u0CJebtAiXm7QIl5u0CJebtAiXm7QIl5u0CJebtAiXm7QIl5u0CJebtAiXm7QIl5u0CJebtAiXm7QIl5u0CJebtAiXm7QIl5u0CJebtAiXm7QIl5u0CJebtAiXm7QIl5u0CJebtAiXm7QIl5u0CJebtAiXm7QIl5u0CJebtAiXm7QIl5u0CJebtAiXm7QIl5u0CJebtAiXm7QIl5u0CJebtAiXm7QIl5u0CJebtAiXm7QIl5u0CJebtAiXm7QIl5u0CJebtAiXm7QIl5u0CJebtAiXm7QIl5u0CJebtAiXm7QIl5u0CJebtAiXm7QIl5u0CJebtAiXm7QIl5u0CJebtAiXm7QIl5u0CJebtAiXm7QIl5u0CJebtAiXm7QIl5u0CJebtAiXm7QIl5u0CJebtAiXm7QIl5u0CJebtAiXm7QIl5u0CJebtAiXm7QIl5u0CJebtAiXm7QA==",
          "dtype": "f4"
         },
         "z": {
          "bdata": "AAAAAL+SWlzCpHNdcvQiXsfkq17vUxtfhxt8X6oEvV+CbwVg2bczYP0SaWC2iJJgkZGzYI5R12DAbP1g2MASYYGVJ2FiAT1hiNBSYXDQaGF20H5heVCKYUkLlWHtg59hjqepYblls2FVsLxhxnrFYQW7zWGjadVhmoDcYXT84mEL2+hhRxvuYXO+8mGHxfZhNzL6YZ8H/WHeR/9hzHoAYrwJAWLaUQFiilQBYvwSAWKCjgBieZH/YSKH/WEwAvthrAj4Ybmg9GGw2PBh27bsYTo+6GE3euNhRXfeYVVB2WE25dNho27OYRLoyGG2WsNhUM69YfNIuGE7z7JhIWStYV8JqGFnv6JhXoWdYclZmGEJOpNhnyOOYUMTiWFhBoRhjvR9Yb3Zc2GpuWlhhZJfYZlkVWFPMUthxvtAYczHNmFCmixhnXgiYedoGGGccA5hgZUEYaW49WAhk+Jg0cDPYCRHvWD7KKtgbGeZYDoCiGA47m1glIVMYELCK2DVmgtgkwrYXxTymV9wwDlfeUu8Xg==",
          "dtype": "f4"
         }
        },
        {
         "line": {
          "cmax": 611586436859611300000,
          "cmin": -941527887222145000,
          "color": {
           "bdata": "AAAAAHdRelxcVYJdZ30pXsdCsF6I/x1fLCx/XxCwvl9HTgZgwpY0YK7paWBE7JJghOqzYA2e12AirP1gR9oSYYGpJ2FdET1hTd5SYTPeaGGG4H5h1lqKYRwZlWEvlp9hCb+pYeyCs2F307xhuqPFYWTpzWG1nNVhb7fcYfE142H5FelhdVbuYbj48mH6/fZhFGj6YWw6/WFzd/9hFpEAYr0eAWL2ZQFiNmgBYr4mAWLmogBikbz/YXO1/WF5NPthXz/4YQHc9GGSFfFhAfPsYQ966GHSteNhcrLeYbV72WE6HtRhrKXOYXEcyWGei8NhAfu9Ya9wuGFY8bJhJICtYfUeqGF2zqJhBY6dYVlcmGEFN5NhthuOYTkHiWEW94NhN9F9YXSzc2EJkmlhGmtfYac+VWHuDUthvNtAYZirNmElgixhk2QiYbVYGGHUYw5hlYsEYTSp9WC8huJgFLbPYN08vWAYHqtgJ1uZYBv0h2AXzm1gHGJMYLicK2ArdQtgFMTXXzW2mV/XaTlfy967Xg==",
           "dtype": "f4"
          },
          "colorscale": [
           [
            0,
            "#440154"
           ],
           [
            0.1111111111111111,
            "#482878"
           ],
           [
            0.2222222222222222,
            "#3e4989"
           ],
           [
            0.3333333333333333,
            "#31688e"
           ],
           [
            0.4444444444444444,
            "#26828e"
           ],
           [
            0.5555555555555556,
            "#1f9e89"
           ],
           [
            0.6666666666666666,
            "#35b779"
           ],
           [
            0.7777777777777778,
            "#6ece58"
           ],
           [
            0.8888888888888888,
            "#b5de2b"
           ],
           [
            1,
            "#fde725"
           ]
          ],
          "showscale": false,
          "width": 4
         },
         "mode": "lines",
         "showlegend": false,
         "type": "scatter3d",
         "x": {
          "bdata": "AAAAALooDiy6KI4sFz3VLLooDi3osjEtFz1VLUbHeC26KI4t0e2fLeiysS0AeMMtFz3VLS4C5y1Gx/gtLkYFLrooDi5GCxcu0e0fLl3QKC7osjEudJU6LgB4Qy6LWkwuFz1VLqMfXi4uAmcuuuRvLkbHeC7p1IAuLkaFLnS3iS66KI4uAJqSLkYLly6LfJsu0e2fLhdfpC5d0Kguo0GtLuiysS4uJLYudJW6LroGvy4AeMMuRunHLotazC7Ry9AuFz3VLl2u2S6hH94u55DiLi0C5y5zc+suuOTvLv5V9C5Ex/guijj9LujUAC+LDQMvLkYFL9B+By90twkvFvALL7ooDi9cYRAv/5kSL6LSFC9FCxcv6EMZL4p8Gy8utR0v0O0fL3QmIi8WXyQvuZcmL1zQKC//CCsvokEtL0V6Ly/osjEvi+szLy4kNi/QXDgvdJU6LxbOPC+5Bj8vXD9BL/93Qy+isEUvRelHL+ghSi+LWkwvLpNOL9DLUC9zBFMvFj1VL7l1Vy9crlkv/+ZbLw==",
          "dtype": "f4"
         },
         "y": {
          "bdata": "fPDBQHzwwUB88MFAfPDBQHzwwUB88MFAfPDBQHzwwUB88MFAfPDBQHzwwUB88MFAfPDBQHzwwUB88MFAfPDBQHzwwUB88MFAfPDBQHzwwUB88MFAfPDBQHzwwUB88MFAfPDBQHzwwUB88MFAfPDBQHzwwUB88MFAfPDBQHzwwUB88MFAfPDBQHzwwUB88MFAfPDBQHzwwUB88MFAfPDBQHzwwUB88MFAfPDBQHzwwUB88MFAfPDBQHzwwUB88MFAfPDBQHzwwUB88MFAfPDBQHzwwUB88MFAfPDBQHzwwUB88MFAfPDBQHzwwUB88MFAfPDBQHzwwUB88MFAfPDBQHzwwUB88MFAfPDBQHzwwUB88MFAfPDBQHzwwUB88MFAfPDBQHzwwUB88MFAfPDBQHzwwUB88MFAfPDBQHzwwUB88MFAfPDBQHzwwUB88MFAfPDBQHzwwUB88MFAfPDBQHzwwUB88MFAfPDBQHzwwUB88MFAfPDBQHzwwUB88MFAfPDBQHzwwUB88MFAfPDBQA==",
          "dtype": "f4"
         },
         "z": {
          "bdata": "AAAAAHdRelxcVYJdZ30pXsdCsF6I/x1fLCx/XxCwvl9HTgZgwpY0YK7paWBE7JJghOqzYA2e12AirP1gR9oSYYGpJ2FdET1hTd5SYTPeaGGG4H5h1lqKYRwZlWEvlp9hCb+pYeyCs2F307xhuqPFYWTpzWG1nNVhb7fcYfE142H5FelhdVbuYbj48mH6/fZhFGj6YWw6/WFzd/9hFpEAYr0eAWL2ZQFiNmgBYr4mAWLmogBikbz/YXO1/WF5NPthXz/4YQHc9GGSFfFhAfPsYQ966GHSteNhcrLeYbV72WE6HtRhrKXOYXEcyWGei8NhAfu9Ya9wuGFY8bJhJICtYfUeqGF2zqJhBY6dYVlcmGEFN5NhthuOYTkHiWEW94NhN9F9YXSzc2EJkmlhGmtfYac+VWHuDUthvNtAYZirNmElgixhk2QiYbVYGGHUYw5hlYsEYTSp9WC8huJgFLbPYN08vWAYHqtgJ1uZYBv0h2AXzm1gHGJMYLicK2ArdQtgFMTXXzW2mV/XaTlfy967Xg==",
          "dtype": "f4"
         }
        },
        {
         "line": {
          "cmax": 611586436859611300000,
          "cmin": -941527887222145000,
          "color": {
           "bdata": "AAAAANdtjFy6SIpdQpEvXn1VtF7vgCBf8wiBX3dHwF+TJAdgT281YIK8amBAT5NgRUS0YMLs12AO7/1gFvYSYYzAJ2EJJT1hjvBSYUzxaGEM935hH2mKYbErlWE6rp9hgt2pYYaos2GbAL1hdNjFYWUlzmFo39Vh4P/cYfyC42FIZulhtKjuYYVL82EIUPdhWbj6YROI/WHzwf9hpbQAYq5AAWJ3hgFinocBYnlFAWJuwQBiQfr/Ya/0/WEQdvth74P4YeMj9WH1XfFhujntYeO/6GEi++NhVPfeYfu/2WGQYdRhfefOYQVcyWEzyMNhtDO+YaGkuGG3H7NhQKitYUlAqGG16KJhHKGdYXhomGGNPJNhOxuOYX4BiWH27INhDrZ9YUmTc2HbbmlhpUZfYZgaVWGt60phZ7xAYQ2QNmHyaixh91EiYaVKGGESWg5hpYUEYbaj9WAkhuJg37jPYHhBvWAYI6tgUl+ZYH/2h2AQzm1gwVxMYESSK2CNZgtgrqHXX7qSmV+8KTlfdHe7Xg==",
           "dtype": "f4"
          },
          "colorscale": [
           [
            0,
            "#440154"
           ],
           [
            0.1111111111111111,
            "#482878"
           ],
           [
            0.2222222222222222,
            "#3e4989"
           ],
           [
            0.3333333333333333,
            "#31688e"
           ],
           [
            0.4444444444444444,
            "#26828e"
           ],
           [
            0.5555555555555556,
            "#1f9e89"
           ],
           [
            0.6666666666666666,
            "#35b779"
           ],
           [
            0.7777777777777778,
            "#6ece58"
           ],
           [
            0.8888888888888888,
            "#b5de2b"
           ],
           [
            1,
            "#fde725"
           ]
          ],
          "showscale": false,
          "width": 4
         },
         "mode": "lines",
         "showlegend": false,
         "type": "scatter3d",
         "x": {
          "bdata": "AAAAALooDiy6KI4sFz3VLLooDi3osjEtFz1VLUbHeC26KI4t0e2fLeiysS0AeMMtFz3VLS4C5y1Gx/gtLkYFLrooDi5GCxcu0e0fLl3QKC7osjEudJU6LgB4Qy6LWkwuFz1VLqMfXi4uAmcuuuRvLkbHeC7p1IAuLkaFLnS3iS66KI4uAJqSLkYLly6LfJsu0e2fLhdfpC5d0Kguo0GtLuiysS4uJLYudJW6LroGvy4AeMMuRunHLotazC7Ry9AuFz3VLl2u2S6hH94u55DiLi0C5y5zc+suuOTvLv5V9C5Ex/guijj9LujUAC+LDQMvLkYFL9B+By90twkvFvALL7ooDi9cYRAv/5kSL6LSFC9FCxcv6EMZL4p8Gy8utR0v0O0fL3QmIi8WXyQvuZcmL1zQKC//CCsvokEtL0V6Ly/osjEvi+szLy4kNi/QXDgvdJU6LxbOPC+5Bj8vXD9BL/93Qy+isEUvRelHL+ghSi+LWkwvLpNOL9DLUC9zBFMvFj1VL7l1Vy9crlkv/+ZbLw==",
          "dtype": "f4"
         },
         "y": {
          "bdata": "cGfIQHBnyEBwZ8hAcGfIQHBnyEBwZ8hAcGfIQHBnyEBwZ8hAcGfIQHBnyEBwZ8hAcGfIQHBnyEBwZ8hAcGfIQHBnyEBwZ8hAcGfIQHBnyEBwZ8hAcGfIQHBnyEBwZ8hAcGfIQHBnyEBwZ8hAcGfIQHBnyEBwZ8hAcGfIQHBnyEBwZ8hAcGfIQHBnyEBwZ8hAcGfIQHBnyEBwZ8hAcGfIQHBnyEBwZ8hAcGfIQHBnyEBwZ8hAcGfIQHBnyEBwZ8hAcGfIQHBnyEBwZ8hAcGfIQHBnyEBwZ8hAcGfIQHBnyEBwZ8hAcGfIQHBnyEBwZ8hAcGfIQHBnyEBwZ8hAcGfIQHBnyEBwZ8hAcGfIQHBnyEBwZ8hAcGfIQHBnyEBwZ8hAcGfIQHBnyEBwZ8hAcGfIQHBnyEBwZ8hAcGfIQHBnyEBwZ8hAcGfIQHBnyEBwZ8hAcGfIQHBnyEBwZ8hAcGfIQHBnyEBwZ8hAcGfIQHBnyEBwZ8hAcGfIQHBnyEBwZ8hAcGfIQHBnyEBwZ8hAcGfIQA==",
          "dtype": "f4"
         },
         "z": {
          "bdata": "AAAAANdtjFy6SIpdQpEvXn1VtF7vgCBf8wiBX3dHwF+TJAdgT281YIK8amBAT5NgRUS0YMLs12AO7/1gFvYSYYzAJ2EJJT1hjvBSYUzxaGEM935hH2mKYbErlWE6rp9hgt2pYYaos2GbAL1hdNjFYWUlzmFo39Vh4P/cYfyC42FIZulhtKjuYYVL82EIUPdhWbj6YROI/WHzwf9hpbQAYq5AAWJ3hgFinocBYnlFAWJuwQBiQfr/Ya/0/WEQdvth74P4YeMj9WH1XfFhujntYeO/6GEi++NhVPfeYfu/2WGQYdRhfefOYQVcyWEzyMNhtDO+YaGkuGG3H7NhQKitYUlAqGG16KJhHKGdYXhomGGNPJNhOxuOYX4BiWH27INhDrZ9YUmTc2HbbmlhpUZfYZgaVWGt60phZ7xAYQ2QNmHyaixh91EiYaVKGGESWg5hpYUEYbaj9WAkhuJg37jPYHhBvWAYI6tgUl+ZYH/2h2AQzm1gwVxMYESSK2CNZgtgrqHXX7qSmV+8KTlfdHe7Xg==",
          "dtype": "f4"
         }
        },
        {
         "line": {
          "cmax": 611586436859611300000,
          "cmin": -941527887222145000,
          "color": {
           "bdata": "AAAAADMbm1wlrJFdGy81XnQbuF6J1iJf9WSCX8DIwV/Y8AdgaD82YMCIa2Dyr5Ngu5y0YAU72GBNMv5gYhITYVPYJ2G7OT1hEQRTYQgGaWGvD39h0niKYTFAlWHYyJ9hZf+pYZPSs2FlM71hORTGYQJqzmFdLNZhVVTdYdDd42EmxulhEgzvYeSw82HstfdhYh37YRzr/WEUEQBiCOMAYkBtAWJAsQFizrABYmFtAWJx6ABirSMAYspB/mEDxPthbdP4YX519WHlrvFhBojtYY0M6WHZRuRhZULfYW4K2mEhq9RhzC/PYWqiyWHgC8RhvnO+YRbguGG0VbNh8NetYQlpqGEVCqNh6rqdYcB6mGGcR5NhlR+OYdT/iGEl5oNhCqB9YfR2c2E4TmlhwyNfYVL3VGGryUphDZ1AYXx0NmHqUyxh7j8iYcQ9GGErUg5hVYIEYROl9WD+jeJgh8XPYClRvWAeNKtgH3CZYLsFiGBW521gam9MYKydK2DJagtgSp3XXxyEmV9u/jhfrRm7Xg==",
           "dtype": "f4"
          },
          "colorscale": [
           [
            0,
            "#440154"
           ],
           [
            0.1111111111111111,
            "#482878"
           ],
           [
            0.2222222222222222,
            "#3e4989"
           ],
           [
            0.3333333333333333,
            "#31688e"
           ],
           [
            0.4444444444444444,
            "#26828e"
           ],
           [
            0.5555555555555556,
            "#1f9e89"
           ],
           [
            0.6666666666666666,
            "#35b779"
           ],
           [
            0.7777777777777778,
            "#6ece58"
           ],
           [
            0.8888888888888888,
            "#b5de2b"
           ],
           [
            1,
            "#fde725"
           ]
          ],
          "showscale": false,
          "width": 4
         },
         "mode": "lines",
         "showlegend": false,
         "type": "scatter3d",
         "x": {
          "bdata": "AAAAALooDiy6KI4sFz3VLLooDi3osjEtFz1VLUbHeC26KI4t0e2fLeiysS0AeMMtFz3VLS4C5y1Gx/gtLkYFLrooDi5GCxcu0e0fLl3QKC7osjEudJU6LgB4Qy6LWkwuFz1VLqMfXi4uAmcuuuRvLkbHeC7p1IAuLkaFLnS3iS66KI4uAJqSLkYLly6LfJsu0e2fLhdfpC5d0Kguo0GtLuiysS4uJLYudJW6LroGvy4AeMMuRunHLotazC7Ry9AuFz3VLl2u2S6hH94u55DiLi0C5y5zc+suuOTvLv5V9C5Ex/guijj9LujUAC+LDQMvLkYFL9B+By90twkvFvALL7ooDi9cYRAv/5kSL6LSFC9FCxcv6EMZL4p8Gy8utR0v0O0fL3QmIi8WXyQvuZcmL1zQKC//CCsvokEtL0V6Ly/osjEvi+szLy4kNi/QXDgvdJU6LxbOPC+5Bj8vXD9BL/93Qy+isEUvRelHL+ghSi+LWkwvLpNOL9DLUC9zBFMvFj1VL7l1Vy9crlkv/+ZbLw==",
          "dtype": "f4"
         },
         "y": {
          "bdata": "Yt7OQGLezkBi3s5AYt7OQGLezkBi3s5AYt7OQGLezkBi3s5AYt7OQGLezkBi3s5AYt7OQGLezkBi3s5AYt7OQGLezkBi3s5AYt7OQGLezkBi3s5AYt7OQGLezkBi3s5AYt7OQGLezkBi3s5AYt7OQGLezkBi3s5AYt7OQGLezkBi3s5AYt7OQGLezkBi3s5AYt7OQGLezkBi3s5AYt7OQGLezkBi3s5AYt7OQGLezkBi3s5AYt7OQGLezkBi3s5AYt7OQGLezkBi3s5AYt7OQGLezkBi3s5AYt7OQGLezkBi3s5AYt7OQGLezkBi3s5AYt7OQGLezkBi3s5AYt7OQGLezkBi3s5AYt7OQGLezkBi3s5AYt7OQGLezkBi3s5AYt7OQGLezkBi3s5AYt7OQGLezkBi3s5AYt7OQGLezkBi3s5AYt7OQGLezkBi3s5AYt7OQGLezkBi3s5AYt7OQGLezkBi3s5AYt7OQGLezkBi3s5AYt7OQGLezkBi3s5AYt7OQGLezkBi3s5AYt7OQA==",
          "dtype": "f4"
         },
         "z": {
          "bdata": "AAAAADMbm1wlrJFdGy81XnQbuF6J1iJf9WSCX8DIwV/Y8AdgaD82YMCIa2Dyr5Ngu5y0YAU72GBNMv5gYhITYVPYJ2G7OT1hEQRTYQgGaWGvD39h0niKYTFAlWHYyJ9hZf+pYZPSs2FlM71hORTGYQJqzmFdLNZhVVTdYdDd42EmxulhEgzvYeSw82HstfdhYh37YRzr/WEUEQBiCOMAYkBtAWJAsQFizrABYmFtAWJx6ABirSMAYspB/mEDxPthbdP4YX519WHlrvFhBojtYY0M6WHZRuRhZULfYW4K2mEhq9RhzC/PYWqiyWHgC8RhvnO+YRbguGG0VbNh8NetYQlpqGEVCqNh6rqdYcB6mGGcR5NhlR+OYdT/iGEl5oNhCqB9YfR2c2E4TmlhwyNfYVL3VGGryUphDZ1AYXx0NmHqUyxh7j8iYcQ9GGErUg5hVYIEYROl9WD+jeJgh8XPYClRvWAeNKtgH3CZYLsFiGBW521gam9MYKydK2DJagtgSp3XXxyEmV9u/jhfrRm7Xg==",
          "dtype": "f4"
         }
        },
        {
         "line": {
          "cmax": 611586436859611300000,
          "cmin": -941527887222145000,
          "color": {
           "bdata": "AAAAAI01qVwxgphdZFg6XsOUu17A/yRfRqmDX1cyw1/asQhgRgU3YARMbGDTDJRg6vG0YHiG2GD1cv5gbS0TYcruJ2HuTD1h9RVTYQEZaWGIJn9hrYeKYf9TlWER459hWCGqYVX9s2G8Z71hllLGYWuyzmF1ftZhZq/dYcVA5GGoL+phn3rvYdgi9GGiKfhhSZH7YdJd/mFCSQBinBkBYvGhAWL04wFikuEBYmOcAWL9FQFiJFAAYlqZ/mEKG/xhrir5YZDN9WExBfJhttrtYddc6WGUleRhE5DfYUhX2mEY99RhhXrPYVfryWE/UsRhsba+YaYeuWHyjrNh/gquYS+VqGHPLqNh8tedYQyQmGFlVZNhTyaOYSgAiWHt4INhXIx9YSFcc2FtLmlhFgFfYcrTVGERp0ph+HxAYStYNmFSPCxhpC0iYQgxGGH1Sg5hUIAEYUSq9WDpmuJga9jPYCpovWBUTatguomZYCEeiGD4Em5g25NMYI65K2B+fQtgirDXX3eGmV+S5ThfR8i6Xg==",
           "dtype": "f4"
          },
          "colorscale": [
           [
            0,
            "#440154"
           ],
           [
            0.1111111111111111,
            "#482878"
           ],
           [
            0.2222222222222222,
            "#3e4989"
           ],
           [
            0.3333333333333333,
            "#31688e"
           ],
           [
            0.4444444444444444,
            "#26828e"
           ],
           [
            0.5555555555555556,
            "#1f9e89"
           ],
           [
            0.6666666666666666,
            "#35b779"
           ],
           [
            0.7777777777777778,
            "#6ece58"
           ],
           [
            0.8888888888888888,
            "#b5de2b"
           ],
           [
            1,
            "#fde725"
           ]
          ],
          "showscale": false,
          "width": 4
         },
         "mode": "lines",
         "showlegend": false,
         "type": "scatter3d",
         "x": {
          "bdata": "AAAAALooDiy6KI4sFz3VLLooDi3osjEtFz1VLUbHeC26KI4t0e2fLeiysS0AeMMtFz3VLS4C5y1Gx/gtLkYFLrooDi5GCxcu0e0fLl3QKC7osjEudJU6LgB4Qy6LWkwuFz1VLqMfXi4uAmcuuuRvLkbHeC7p1IAuLkaFLnS3iS66KI4uAJqSLkYLly6LfJsu0e2fLhdfpC5d0Kguo0GtLuiysS4uJLYudJW6LroGvy4AeMMuRunHLotazC7Ry9AuFz3VLl2u2S6hH94u55DiLi0C5y5zc+suuOTvLv5V9C5Ex/guijj9LujUAC+LDQMvLkYFL9B+By90twkvFvALL7ooDi9cYRAv/5kSL6LSFC9FCxcv6EMZL4p8Gy8utR0v0O0fL3QmIi8WXyQvuZcmL1zQKC//CCsvokEtL0V6Ly/osjEvi+szLy4kNi/QXDgvdJU6LxbOPC+5Bj8vXD9BL/93Qy+isEUvRelHL+ghSi+LWkwvLpNOL9DLUC9zBFMvFj1VL7l1Vy9crlkv/+ZbLw==",
          "dtype": "f4"
         },
         "y": {
          "bdata": "VlXVQFZV1UBWVdVAVlXVQFZV1UBWVdVAVlXVQFZV1UBWVdVAVlXVQFZV1UBWVdVAVlXVQFZV1UBWVdVAVlXVQFZV1UBWVdVAVlXVQFZV1UBWVdVAVlXVQFZV1UBWVdVAVlXVQFZV1UBWVdVAVlXVQFZV1UBWVdVAVlXVQFZV1UBWVdVAVlXVQFZV1UBWVdVAVlXVQFZV1UBWVdVAVlXVQFZV1UBWVdVAVlXVQFZV1UBWVdVAVlXVQFZV1UBWVdVAVlXVQFZV1UBWVdVAVlXVQFZV1UBWVdVAVlXVQFZV1UBWVdVAVlXVQFZV1UBWVdVAVlXVQFZV1UBWVdVAVlXVQFZV1UBWVdVAVlXVQFZV1UBWVdVAVlXVQFZV1UBWVdVAVlXVQFZV1UBWVdVAVlXVQFZV1UBWVdVAVlXVQFZV1UBWVdVAVlXVQFZV1UBWVdVAVlXVQFZV1UBWVdVAVlXVQFZV1UBWVdVAVlXVQFZV1UBWVdVAVlXVQFZV1UBWVdVAVlXVQFZV1UBWVdVAVlXVQA==",
          "dtype": "f4"
         },
         "z": {
          "bdata": "AAAAAI01qVwxgphdZFg6XsOUu17A/yRfRqmDX1cyw1/asQhgRgU3YARMbGDTDJRg6vG0YHiG2GD1cv5gbS0TYcruJ2HuTD1h9RVTYQEZaWGIJn9hrYeKYf9TlWER459hWCGqYVX9s2G8Z71hllLGYWuyzmF1ftZhZq/dYcVA5GGoL+phn3rvYdgi9GGiKfhhSZH7YdJd/mFCSQBinBkBYvGhAWL04wFikuEBYmOcAWL9FQFiJFAAYlqZ/mEKG/xhrir5YZDN9WExBfJhttrtYddc6WGUleRhE5DfYUhX2mEY99RhhXrPYVfryWE/UsRhsba+YaYeuWHyjrNh/gquYS+VqGHPLqNh8tedYQyQmGFlVZNhTyaOYSgAiWHt4INhXIx9YSFcc2FtLmlhFgFfYcrTVGERp0ph+HxAYStYNmFSPCxhpC0iYQgxGGH1Sg5hUIAEYUSq9WDpmuJga9jPYCpovWBUTatguomZYCEeiGD4Em5g25NMYI65K2B+fQtgirDXX3eGmV+S5ThfR8i6Xg==",
          "dtype": "f4"
         }
        },
        {
         "line": {
          "cmax": 611586436859611300000,
          "cmin": -941527887222145000,
          "color": {
           "bdata": "AAAAAKbDtlzXz55dqBA/Xv/Cvl7d/CZfndWEX1+DxF/HZglgo783YIkEbWCsZJRgVUK1YDnN2GDIrv5g0EUTYT8CKGG2XD1h4iNTYXcnaWFPOH9hyJOKYetklWFj+p9hgkCqYZgltGELmr1hjI/GYUb6zmEE0dZhFQzeYZqm5GFpnephw+7vYbKb9GF2pfhhYg78YZ/a/mHPhgBiwVUBYkjcAWI9HAJisxcCYmzQAWIgSAFiq4AAYtz3/mHKd/xhZ4b5Ye8o9mG4XfJhsi7uYaSt6WEt5ORhJd3fYS6j2mHfQdVh+cPPYQozymGFl8Rhqvi+YXVcuWGlx7Nhtz2uYTPBqGGVU6NhJ/WdYZmlmGF3Y5NhSy2OYbAAiWHG24NhmXh9YfBAc2H2DWlheN1eYRSvVGEkg0phgVtAYX46NmF3IyxhTBoiYY4jGGFcQw5hUH4EYXGw9WDIqeJgM+7PYOuCvWAVa6tghaiZYCg8iGBiSm5gFsRMYLXgK2Bqmgtg99TXX8mVmV8/3Dhf5YS6Xg==",
           "dtype": "f4"
          },
          "colorscale": [
           [
            0,
            "#440154"
           ],
           [
            0.1111111111111111,
            "#482878"
           ],
           [
            0.2222222222222222,
            "#3e4989"
           ],
           [
            0.3333333333333333,
            "#31688e"
           ],
           [
            0.4444444444444444,
            "#26828e"
           ],
           [
            0.5555555555555556,
            "#1f9e89"
           ],
           [
            0.6666666666666666,
            "#35b779"
           ],
           [
            0.7777777777777778,
            "#6ece58"
           ],
           [
            0.8888888888888888,
            "#b5de2b"
           ],
           [
            1,
            "#fde725"
           ]
          ],
          "showscale": false,
          "width": 4
         },
         "mode": "lines",
         "showlegend": false,
         "type": "scatter3d",
         "x": {
          "bdata": "AAAAALooDiy6KI4sFz3VLLooDi3osjEtFz1VLUbHeC26KI4t0e2fLeiysS0AeMMtFz3VLS4C5y1Gx/gtLkYFLrooDi5GCxcu0e0fLl3QKC7osjEudJU6LgB4Qy6LWkwuFz1VLqMfXi4uAmcuuuRvLkbHeC7p1IAuLkaFLnS3iS66KI4uAJqSLkYLly6LfJsu0e2fLhdfpC5d0Kguo0GtLuiysS4uJLYudJW6LroGvy4AeMMuRunHLotazC7Ry9AuFz3VLl2u2S6hH94u55DiLi0C5y5zc+suuOTvLv5V9C5Ex/guijj9LujUAC+LDQMvLkYFL9B+By90twkvFvALL7ooDi9cYRAv/5kSL6LSFC9FCxcv6EMZL4p8Gy8utR0v0O0fL3QmIi8WXyQvuZcmL1zQKC//CCsvokEtL0V6Ly/osjEvi+szLy4kNi/QXDgvdJU6LxbOPC+5Bj8vXD9BL/93Qy+isEUvRelHL+ghSi+LWkwvLpNOL9DLUC9zBFMvFj1VL7l1Vy9crlkv/+ZbLw==",
          "dtype": "f4"
         },
         "y": {
          "bdata": "SMzbQEjM20BIzNtASMzbQEjM20BIzNtASMzbQEjM20BIzNtASMzbQEjM20BIzNtASMzbQEjM20BIzNtASMzbQEjM20BIzNtASMzbQEjM20BIzNtASMzbQEjM20BIzNtASMzbQEjM20BIzNtASMzbQEjM20BIzNtASMzbQEjM20BIzNtASMzbQEjM20BIzNtASMzbQEjM20BIzNtASMzbQEjM20BIzNtASMzbQEjM20BIzNtASMzbQEjM20BIzNtASMzbQEjM20BIzNtASMzbQEjM20BIzNtASMzbQEjM20BIzNtASMzbQEjM20BIzNtASMzbQEjM20BIzNtASMzbQEjM20BIzNtASMzbQEjM20BIzNtASMzbQEjM20BIzNtASMzbQEjM20BIzNtASMzbQEjM20BIzNtASMzbQEjM20BIzNtASMzbQEjM20BIzNtASMzbQEjM20BIzNtASMzbQEjM20BIzNtASMzbQEjM20BIzNtASMzbQEjM20BIzNtASMzbQEjM20BIzNtASMzbQA==",
          "dtype": "f4"
         },
         "z": {
          "bdata": "AAAAAKbDtlzXz55dqBA/Xv/Cvl7d/CZfndWEX1+DxF/HZglgo783YIkEbWCsZJRgVUK1YDnN2GDIrv5g0EUTYT8CKGG2XD1h4iNTYXcnaWFPOH9hyJOKYetklWFj+p9hgkCqYZgltGELmr1hjI/GYUb6zmEE0dZhFQzeYZqm5GFpnephw+7vYbKb9GF2pfhhYg78YZ/a/mHPhgBiwVUBYkjcAWI9HAJisxcCYmzQAWIgSAFiq4AAYtz3/mHKd/xhZ4b5Ye8o9mG4XfJhsi7uYaSt6WEt5ORhJd3fYS6j2mHfQdVh+cPPYQozymGFl8Rhqvi+YXVcuWGlx7Nhtz2uYTPBqGGVU6NhJ/WdYZmlmGF3Y5NhSy2OYbAAiWHG24NhmXh9YfBAc2H2DWlheN1eYRSvVGEkg0phgVtAYX46NmF3IyxhTBoiYY4jGGFcQw5hUH4EYXGw9WDIqeJgM+7PYOuCvWAVa6tghaiZYCg8iGBiSm5gFsRMYLXgK2Bqmgtg99TXX8mVmV8/3Dhf5YS6Xg==",
          "dtype": "f4"
         }
        },
        {
         "line": {
          "cmax": 611586436859611300000,
          "cmin": -941527887222145000,
          "color": {
           "bdata": "AAAAAPzMw1wEnKRdJ11DXgKpwV4HzyhfO+qFX4O7xV8qDwpgpW04YAexbWCdtpRg24y1YNoN2WDz4/5gf1oTYXERKGGCZz1hAyxTYTYvaWGAQn9hpJuKYTdxlWHEDKBhjVqqYa5ItGFRx71hycfGYeU9z2EIINdhC2beYbkK5WGFCuthbmPwYUMW9WEnJPlhbY/8YU1c/2EyxwBiAZUBYuAZAmLMVwJiBlECYnQHAmLwfAFicLMAYupZ/2EI1/xhheP5YZOE9mGJtfJhI4HuYST86WHTL+VhuybgYS/r2mF+iNVhHQnQYVd2ymFl2MRhcDa/YUOWuWGh/LNhC22uYS/qqGGpdaNhAxCeYSO5mGHOb5NhyzKOYer/iGF31YNhumJ9YcQjc2GR62hh9bdeYXeIVGFYXUphIDhAYewaNmHICCxhOgUiYYEUGGFmOg5hOHsEYQG19WCwt+JgwgPQYDCevWAIiqtgKcmZYJZciGB1h25ggPpMYD4OLGCAvQtgfQTYXx+umV9E3zhfCFC6Xg==",
           "dtype": "f4"
          },
          "colorscale": [
           [
            0,
            "#440154"
           ],
           [
            0.1111111111111111,
            "#482878"
           ],
           [
            0.2222222222222222,
            "#3e4989"
           ],
           [
            0.3333333333333333,
            "#31688e"
           ],
           [
            0.4444444444444444,
            "#26828e"
           ],
           [
            0.5555555555555556,
            "#1f9e89"
           ],
           [
            0.6666666666666666,
            "#35b779"
           ],
           [
            0.7777777777777778,
            "#6ece58"
           ],
           [
            0.8888888888888888,
            "#b5de2b"
           ],
           [
            1,
            "#fde725"
           ]
          ],
          "showscale": false,
          "width": 4
         },
         "mode": "lines",
         "showlegend": false,
         "type": "scatter3d",
         "x": {
          "bdata": "AAAAALooDiy6KI4sFz3VLLooDi3osjEtFz1VLUbHeC26KI4t0e2fLeiysS0AeMMtFz3VLS4C5y1Gx/gtLkYFLrooDi5GCxcu0e0fLl3QKC7osjEudJU6LgB4Qy6LWkwuFz1VLqMfXi4uAmcuuuRvLkbHeC7p1IAuLkaFLnS3iS66KI4uAJqSLkYLly6LfJsu0e2fLhdfpC5d0Kguo0GtLuiysS4uJLYudJW6LroGvy4AeMMuRunHLotazC7Ry9AuFz3VLl2u2S6hH94u55DiLi0C5y5zc+suuOTvLv5V9C5Ex/guijj9LujUAC+LDQMvLkYFL9B+By90twkvFvALL7ooDi9cYRAv/5kSL6LSFC9FCxcv6EMZL4p8Gy8utR0v0O0fL3QmIi8WXyQvuZcmL1zQKC//CCsvokEtL0V6Ly/osjEvi+szLy4kNi/QXDgvdJU6LxbOPC+5Bj8vXD9BL/93Qy+isEUvRelHL+ghSi+LWkwvLpNOL9DLUC9zBFMvFj1VL7l1Vy9crlkv/+ZbLw==",
          "dtype": "f4"
         },
         "y": {
          "bdata": "PEPiQDxD4kA8Q+JAPEPiQDxD4kA8Q+JAPEPiQDxD4kA8Q+JAPEPiQDxD4kA8Q+JAPEPiQDxD4kA8Q+JAPEPiQDxD4kA8Q+JAPEPiQDxD4kA8Q+JAPEPiQDxD4kA8Q+JAPEPiQDxD4kA8Q+JAPEPiQDxD4kA8Q+JAPEPiQDxD4kA8Q+JAPEPiQDxD4kA8Q+JAPEPiQDxD4kA8Q+JAPEPiQDxD4kA8Q+JAPEPiQDxD4kA8Q+JAPEPiQDxD4kA8Q+JAPEPiQDxD4kA8Q+JAPEPiQDxD4kA8Q+JAPEPiQDxD4kA8Q+JAPEPiQDxD4kA8Q+JAPEPiQDxD4kA8Q+JAPEPiQDxD4kA8Q+JAPEPiQDxD4kA8Q+JAPEPiQDxD4kA8Q+JAPEPiQDxD4kA8Q+JAPEPiQDxD4kA8Q+JAPEPiQDxD4kA8Q+JAPEPiQDxD4kA8Q+JAPEPiQDxD4kA8Q+JAPEPiQDxD4kA8Q+JAPEPiQDxD4kA8Q+JAPEPiQDxD4kA8Q+JAPEPiQDxD4kA8Q+JAPEPiQA==",
          "dtype": "f4"
         },
         "z": {
          "bdata": "AAAAAPzMw1wEnKRdJ11DXgKpwV4HzyhfO+qFX4O7xV8qDwpgpW04YAexbWCdtpRg24y1YNoN2WDz4/5gf1oTYXERKGGCZz1hAyxTYTYvaWGAQn9hpJuKYTdxlWHEDKBhjVqqYa5ItGFRx71hycfGYeU9z2EIINdhC2beYbkK5WGFCuthbmPwYUMW9WEnJPlhbY/8YU1c/2EyxwBiAZUBYuAZAmLMVwJiBlECYnQHAmLwfAFicLMAYupZ/2EI1/xhheP5YZOE9mGJtfJhI4HuYST86WHTL+VhuybgYS/r2mF+iNVhHQnQYVd2ymFl2MRhcDa/YUOWuWGh/LNhC22uYS/qqGGpdaNhAxCeYSO5mGHOb5NhyzKOYer/iGF31YNhumJ9YcQjc2GR62hh9bdeYXeIVGFYXUphIDhAYewaNmHICCxhOgUiYYEUGGFmOg5hOHsEYQG19WCwt+JgwgPQYDCevWAIiqtgKcmZYJZciGB1h25ggPpMYD4OLGCAvQtgfQTYXx+umV9E3zhfCFC6Xg==",
          "dtype": "f4"
         }
        },
        {
         "line": {
          "cmax": 611586436859611300000,
          "cmin": -941527887222145000,
          "color": {
           "bdata": "AAAAAPhZ0Fxw76ldvkRHXuVKxF5AeCpf6ueGX1Hbxl8DqwpgBg85YNlQbmAwApVgzdC1YHpH2WB2Ef9g02oTYZobKGFobD1hNS1TYeQuaWFiQ39hPJ6KYaR3lWHBGKBhwm2qYZ5ktGE/7b1htPjGYV56z2FAaNdhy7neYVdp5WEAc+tha9TwYSaO9WE7oflh3w/9YUve/2EiCAFiJNUBYpdYAmKZlAJil4sCYp4/AmKqsgFi1uYAYni8/2HeNf1hPj/6Ydrd9mElCvNhr8/uYQZG6mE+duVhh2rgYfEs22GIyNVhcEfQYcCyymFuEsVhc22/YZLJuWFsK7Rhm5auYd0NqWH0kqNhmSaeYefImGHceJNhdTWOYbX8iGEYzYNhREl9YXYDc2Fgxmhh6I9eYX1fVGE1NUpheRJAYRn5NWHV6yth6+0hYTwDGGFLLw5hF3YEYdS19WBGwuJgdhbQYC63vWBOp6tgvOiZYJJ8iGC6xG5gGTJNYLw9LGAW4wtgdDnYX7zLmV9a6zhfLim6Xg==",
           "dtype": "f4"
          },
          "colorscale": [
           [
            0,
            "#440154"
           ],
           [
            0.1111111111111111,
            "#482878"
           ],
           [
            0.2222222222222222,
            "#3e4989"
           ],
           [
            0.3333333333333333,
            "#31688e"
           ],
           [
            0.4444444444444444,
            "#26828e"
           ],
           [
            0.5555555555555556,
            "#1f9e89"
           ],
           [
            0.6666666666666666,
            "#35b779"
           ],
           [
            0.7777777777777778,
            "#6ece58"
           ],
           [
            0.8888888888888888,
            "#b5de2b"
           ],
           [
            1,
            "#fde725"
           ]
          ],
          "showscale": false,
          "width": 4
         },
         "mode": "lines",
         "showlegend": false,
         "type": "scatter3d",
         "x": {
          "bdata": "AAAAALooDiy6KI4sFz3VLLooDi3osjEtFz1VLUbHeC26KI4t0e2fLeiysS0AeMMtFz3VLS4C5y1Gx/gtLkYFLrooDi5GCxcu0e0fLl3QKC7osjEudJU6LgB4Qy6LWkwuFz1VLqMfXi4uAmcuuuRvLkbHeC7p1IAuLkaFLnS3iS66KI4uAJqSLkYLly6LfJsu0e2fLhdfpC5d0Kguo0GtLuiysS4uJLYudJW6LroGvy4AeMMuRunHLotazC7Ry9AuFz3VLl2u2S6hH94u55DiLi0C5y5zc+suuOTvLv5V9C5Ex/guijj9LujUAC+LDQMvLkYFL9B+By90twkvFvALL7ooDi9cYRAv/5kSL6LSFC9FCxcv6EMZL4p8Gy8utR0v0O0fL3QmIi8WXyQvuZcmL1zQKC//CCsvokEtL0V6Ly/osjEvi+szLy4kNi/QXDgvdJU6LxbOPC+5Bj8vXD9BL/93Qy+isEUvRelHL+ghSi+LWkwvLpNOL9DLUC9zBFMvFj1VL7l1Vy9crlkv/+ZbLw==",
          "dtype": "f4"
         },
         "y": {
          "bdata": "LrroQC666EAuuuhALrroQC666EAuuuhALrroQC666EAuuuhALrroQC666EAuuuhALrroQC666EAuuuhALrroQC666EAuuuhALrroQC666EAuuuhALrroQC666EAuuuhALrroQC666EAuuuhALrroQC666EAuuuhALrroQC666EAuuuhALrroQC666EAuuuhALrroQC666EAuuuhALrroQC666EAuuuhALrroQC666EAuuuhALrroQC666EAuuuhALrroQC666EAuuuhALrroQC666EAuuuhALrroQC666EAuuuhALrroQC666EAuuuhALrroQC666EAuuuhALrroQC666EAuuuhALrroQC666EAuuuhALrroQC666EAuuuhALrroQC666EAuuuhALrroQC666EAuuuhALrroQC666EAuuuhALrroQC666EAuuuhALrroQC666EAuuuhALrroQC666EAuuuhALrroQC666EAuuuhALrroQC666EAuuuhALrroQC666EAuuuhALrroQA==",
          "dtype": "f4"
         },
         "z": {
          "bdata": "AAAAAPhZ0Fxw76ldvkRHXuVKxF5AeCpf6ueGX1Hbxl8DqwpgBg85YNlQbmAwApVgzdC1YHpH2WB2Ef9g02oTYZobKGFobD1hNS1TYeQuaWFiQ39hPJ6KYaR3lWHBGKBhwm2qYZ5ktGE/7b1htPjGYV56z2FAaNdhy7neYVdp5WEAc+tha9TwYSaO9WE7oflh3w/9YUve/2EiCAFiJNUBYpdYAmKZlAJil4sCYp4/AmKqsgFi1uYAYni8/2HeNf1hPj/6Ydrd9mElCvNhr8/uYQZG6mE+duVhh2rgYfEs22GIyNVhcEfQYcCyymFuEsVhc22/YZLJuWFsK7Rhm5auYd0NqWH0kqNhmSaeYefImGHceJNhdTWOYbX8iGEYzYNhREl9YXYDc2Fgxmhh6I9eYX1fVGE1NUpheRJAYRn5NWHV6yth6+0hYTwDGGFLLw5hF3YEYdS19WBGwuJgdhbQYC63vWBOp6tgvOiZYJJ8iGC6xG5gGTJNYLw9LGAW4wtgdDnYX7zLmV9a6zhfLim6Xg==",
          "dtype": "f4"
         }
        },
        {
         "line": {
          "cmax": 611586436859611300000,
          "cmin": -941527887222145000,
          "color": {
           "bdata": "AAAAAO5y3Fyo065dK89KXmytxl4M+ytf4c+HX7Djx1+iOgtg36M5YPHjbmA5R5Vg7g22YMN52WDLNv9gfHYTYU0gKGHlaj1h3yZTYcQlaWEGOn9h+pqKYX53lWFwHaBhA3mqYQ14tGFHCr5hbCDHYZGtz2FIp9dhowTfYX+/5WGf0+thSD7xYc7/9WH5GPph44v9YWUuAGK4RwFiRhQCYo2WAmLb0AJis8UCYlB3AmLQ5wFidRkBYmwOAGLRkf1hTZf6YZMy92GEWfNhZBjvYYeJ6mGwteVh26bgYctm22FJANZhQH3QYX7mymHLQ8Vh+5u/YZn0uWFTUrRhv7iuYaoqqWH8qaNhjDeeYbDTmGGUfZNhYzSOYVL2iGEDwoNhQSt9YU3fcmHenWhh62ReYdQzVGGPCkphWeo/YcjUNWFbzCth+tMhYUbvF2FwIQ5hNG4EYSmx9WCKx+JgMCTQYI7LvWB9wKtgzwSaYLCZiGCk/W5gqGZNYGxrLGD2Bwxg4m7YX0HrmV9A/ThfJQ+6Xg==",
           "dtype": "f4"
          },
          "colorscale": [
           [
            0,
            "#440154"
           ],
           [
            0.1111111111111111,
            "#482878"
           ],
           [
            0.2222222222222222,
            "#3e4989"
           ],
           [
            0.3333333333333333,
            "#31688e"
           ],
           [
            0.4444444444444444,
            "#26828e"
           ],
           [
            0.5555555555555556,
            "#1f9e89"
           ],
           [
            0.6666666666666666,
            "#35b779"
           ],
           [
            0.7777777777777778,
            "#6ece58"
           ],
           [
            0.8888888888888888,
            "#b5de2b"
           ],
           [
            1,
            "#fde725"
           ]
          ],
          "showscale": false,
          "width": 4
         },
         "mode": "lines",
         "showlegend": false,
         "type": "scatter3d",
         "x": {
          "bdata": "AAAAALooDiy6KI4sFz3VLLooDi3osjEtFz1VLUbHeC26KI4t0e2fLeiysS0AeMMtFz3VLS4C5y1Gx/gtLkYFLrooDi5GCxcu0e0fLl3QKC7osjEudJU6LgB4Qy6LWkwuFz1VLqMfXi4uAmcuuuRvLkbHeC7p1IAuLkaFLnS3iS66KI4uAJqSLkYLly6LfJsu0e2fLhdfpC5d0Kguo0GtLuiysS4uJLYudJW6LroGvy4AeMMuRunHLotazC7Ry9AuFz3VLl2u2S6hH94u55DiLi0C5y5zc+suuOTvLv5V9C5Ex/guijj9LujUAC+LDQMvLkYFL9B+By90twkvFvALL7ooDi9cYRAv/5kSL6LSFC9FCxcv6EMZL4p8Gy8utR0v0O0fL3QmIi8WXyQvuZcmL1zQKC//CCsvokEtL0V6Ly/osjEvi+szLy4kNi/QXDgvdJU6LxbOPC+5Bj8vXD9BL/93Qy+isEUvRelHL+ghSi+LWkwvLpNOL9DLUC9zBFMvFj1VL7l1Vy9crlkv/+ZbLw==",
          "dtype": "f4"
         },
         "y": {
          "bdata": "IjHvQCIx70AiMe9AIjHvQCIx70AiMe9AIjHvQCIx70AiMe9AIjHvQCIx70AiMe9AIjHvQCIx70AiMe9AIjHvQCIx70AiMe9AIjHvQCIx70AiMe9AIjHvQCIx70AiMe9AIjHvQCIx70AiMe9AIjHvQCIx70AiMe9AIjHvQCIx70AiMe9AIjHvQCIx70AiMe9AIjHvQCIx70AiMe9AIjHvQCIx70AiMe9AIjHvQCIx70AiMe9AIjHvQCIx70AiMe9AIjHvQCIx70AiMe9AIjHvQCIx70AiMe9AIjHvQCIx70AiMe9AIjHvQCIx70AiMe9AIjHvQCIx70AiMe9AIjHvQCIx70AiMe9AIjHvQCIx70AiMe9AIjHvQCIx70AiMe9AIjHvQCIx70AiMe9AIjHvQCIx70AiMe9AIjHvQCIx70AiMe9AIjHvQCIx70AiMe9AIjHvQCIx70AiMe9AIjHvQCIx70AiMe9AIjHvQCIx70AiMe9AIjHvQCIx70AiMe9AIjHvQCIx70AiMe9AIjHvQA==",
          "dtype": "f4"
         },
         "z": {
          "bdata": "AAAAAO5y3Fyo065dK89KXmytxl4M+ytf4c+HX7Djx1+iOgtg36M5YPHjbmA5R5Vg7g22YMN52WDLNv9gfHYTYU0gKGHlaj1h3yZTYcQlaWEGOn9h+pqKYX53lWFwHaBhA3mqYQ14tGFHCr5hbCDHYZGtz2FIp9dhowTfYX+/5WGf0+thSD7xYc7/9WH5GPph44v9YWUuAGK4RwFiRhQCYo2WAmLb0AJis8UCYlB3AmLQ5wFidRkBYmwOAGLRkf1hTZf6YZMy92GEWfNhZBjvYYeJ6mGwteVh26bgYctm22FJANZhQH3QYX7mymHLQ8Vh+5u/YZn0uWFTUrRhv7iuYaoqqWH8qaNhjDeeYbDTmGGUfZNhYzSOYVL2iGEDwoNhQSt9YU3fcmHenWhh62ReYdQzVGGPCkphWeo/YcjUNWFbzCth+tMhYUbvF2FwIQ5hNG4EYSmx9WCKx+JgMCTQYI7LvWB9wKtgzwSaYLCZiGCk/W5gqGZNYGxrLGD2Bwxg4m7YX0HrmV9A/ThfJQ+6Xg==",
          "dtype": "f4"
         }
        },
        {
         "line": {
          "cmax": 611586436859611300000,
          "cmin": -941527887222145000,
          "color": {
           "bdata": "AAAAABwg6Fz2UrNd+QROXhLWyF58Wi1foaOIXxHWyF+nvgtgvCw6YLNqb2DfhZVgTUS2YMak2WAEVP9gfH0TYZYfKGH1Yj1h8RhTYawTaWE0Jn9hsJGKYXZwlWFtGqBhxnuqYUaCtGF4Hb5h0j3HYSHWz2GH29dhsUTfYRsL5mEXKuxhjJ7xYX9o9mF+iPphgQD+YVdqAGJphAFi31ACYk/SAmIcCwNi8/0CYjKtAmIfGwJiHEoBYnU8AGLv6P1h3+n6YSKB92ElovNh81nvYV3F6mH+7OVhjtrgYZ6X22GzLtZheanQYYgQy2F3a8Vh68C/YVEWumFQcLRhetKuYaY/qWHcuaNhFEKeYcfYmGFRfZNhCi+OYVDsiGHjs4NhJwh9Yei2cmHQcWhh2zZeYWgFVGFY3Ulhtb8/YemtNWEuqithMrchYUrYF2FkEA5h/GIEYb2l9WAKxuJgNSvQYIbZvWCv06tgcBuaYAOyiGBsLm9gqZRNYCmULGB2KQxgjKDYX7gJml/iETlfJQC6Xg==",
           "dtype": "f4"
          },
          "colorscale": [
           [
            0,
            "#440154"
           ],
           [
            0.1111111111111111,
            "#482878"
           ],
           [
            0.2222222222222222,
            "#3e4989"
           ],
           [
            0.3333333333333333,
            "#31688e"
           ],
           [
            0.4444444444444444,
            "#26828e"
           ],
           [
            0.5555555555555556,
            "#1f9e89"
           ],
           [
            0.6666666666666666,
            "#35b779"
           ],
           [
            0.7777777777777778,
            "#6ece58"
           ],
           [
            0.8888888888888888,
            "#b5de2b"
           ],
           [
            1,
            "#fde725"
           ]
          ],
          "showscale": false,
          "width": 4
         },
         "mode": "lines",
         "showlegend": false,
         "type": "scatter3d",
         "x": {
          "bdata": "AAAAALooDiy6KI4sFz3VLLooDi3osjEtFz1VLUbHeC26KI4t0e2fLeiysS0AeMMtFz3VLS4C5y1Gx/gtLkYFLrooDi5GCxcu0e0fLl3QKC7osjEudJU6LgB4Qy6LWkwuFz1VLqMfXi4uAmcuuuRvLkbHeC7p1IAuLkaFLnS3iS66KI4uAJqSLkYLly6LfJsu0e2fLhdfpC5d0Kguo0GtLuiysS4uJLYudJW6LroGvy4AeMMuRunHLotazC7Ry9AuFz3VLl2u2S6hH94u55DiLi0C5y5zc+suuOTvLv5V9C5Ex/guijj9LujUAC+LDQMvLkYFL9B+By90twkvFvALL7ooDi9cYRAv/5kSL6LSFC9FCxcv6EMZL4p8Gy8utR0v0O0fL3QmIi8WXyQvuZcmL1zQKC//CCsvokEtL0V6Ly/osjEvi+szLy4kNi/QXDgvdJU6LxbOPC+5Bj8vXD9BL/93Qy+isEUvRelHL+ghSi+LWkwvLpNOL9DLUC9zBFMvFj1VL7l1Vy9crlkv/+ZbLw==",
          "dtype": "f4"
         },
         "y": {
          "bdata": "Faj1QBWo9UAVqPVAFaj1QBWo9UAVqPVAFaj1QBWo9UAVqPVAFaj1QBWo9UAVqPVAFaj1QBWo9UAVqPVAFaj1QBWo9UAVqPVAFaj1QBWo9UAVqPVAFaj1QBWo9UAVqPVAFaj1QBWo9UAVqPVAFaj1QBWo9UAVqPVAFaj1QBWo9UAVqPVAFaj1QBWo9UAVqPVAFaj1QBWo9UAVqPVAFaj1QBWo9UAVqPVAFaj1QBWo9UAVqPVAFaj1QBWo9UAVqPVAFaj1QBWo9UAVqPVAFaj1QBWo9UAVqPVAFaj1QBWo9UAVqPVAFaj1QBWo9UAVqPVAFaj1QBWo9UAVqPVAFaj1QBWo9UAVqPVAFaj1QBWo9UAVqPVAFaj1QBWo9UAVqPVAFaj1QBWo9UAVqPVAFaj1QBWo9UAVqPVAFaj1QBWo9UAVqPVAFaj1QBWo9UAVqPVAFaj1QBWo9UAVqPVAFaj1QBWo9UAVqPVAFaj1QBWo9UAVqPVAFaj1QBWo9UAVqPVAFaj1QBWo9UAVqPVAFaj1QA==",
          "dtype": "f4"
         },
         "z": {
          "bdata": "AAAAABwg6Fz2UrNd+QROXhLWyF58Wi1foaOIXxHWyF+nvgtgvCw6YLNqb2DfhZVgTUS2YMak2WAEVP9gfH0TYZYfKGH1Yj1h8RhTYawTaWE0Jn9hsJGKYXZwlWFtGqBhxnuqYUaCtGF4Hb5h0j3HYSHWz2GH29dhsUTfYRsL5mEXKuxhjJ7xYX9o9mF+iPphgQD+YVdqAGJphAFi31ACYk/SAmIcCwNi8/0CYjKtAmIfGwJiHEoBYnU8AGLv6P1h3+n6YSKB92ElovNh81nvYV3F6mH+7OVhjtrgYZ6X22GzLtZheanQYYgQy2F3a8Vh68C/YVEWumFQcLRhetKuYaY/qWHcuaNhFEKeYcfYmGFRfZNhCi+OYVDsiGHjs4NhJwh9Yei2cmHQcWhh2zZeYWgFVGFY3Ulhtb8/YemtNWEuqithMrchYUrYF2FkEA5h/GIEYb2l9WAKxuJgNSvQYIbZvWCv06tgcBuaYAOyiGBsLm9gqZRNYCmULGB2KQxgjKDYX7gJml/iETlfJQC6Xg==",
          "dtype": "f4"
         }
        },
        {
         "line": {
          "cmax": 611586436859611300000,
          "cmin": -941527887222145000,
          "color": {
           "bdata": "AAAAAFxp81z2d7ddHe9QXr7Kyl4Ami5fBGWJX0i0yV/1NwxgdKo6YPblb2CRvpVgZnS2YPPI2WCoaf9gKIATYcsZKGEFVT1h2QNTYRD5aGFZCH9hi4KKYbRilWHKD6BhCXaqYSmDtGGQJr5hgFDHYW3zz2EoBNhh+njfYetK5mHsdOxhgfPxYWTG9mHQ7fphoGv+YeahAGIXvQFiy4kCYq0KA2JAQgNiSzMDYkjgAmKrSwJi83cBYpJnAGLOOf5hvjX7YWXI92ES4/NhgpPvYdz46mGLG+ZhHgXhYfK+22FLU9Zhr8vQYXUwy2EFicVh39u/YVguumEDhbRhbOOuYXpMqWFBwqNh3EWeYenXmGHfd5NhQiWOYYneiGGrooNh8998YUaKcmE/Qmhh0wVeYWLUU2GwrUlhq5I/YYqENWFZhSthg5chYSm+F2H0+w1hJ1QEYbWS9WDAvOJgbSrQYNffvWCH36tgNyuaYCDEiGBJVG9gdrlNYIu1LGB/RQxgCsvYX6wkml+GJjlfA/q5Xg==",
           "dtype": "f4"
          },
          "colorscale": [
           [
            0,
            "#440154"
           ],
           [
            0.1111111111111111,
            "#482878"
           ],
           [
            0.2222222222222222,
            "#3e4989"
           ],
           [
            0.3333333333333333,
            "#31688e"
           ],
           [
            0.4444444444444444,
            "#26828e"
           ],
           [
            0.5555555555555556,
            "#1f9e89"
           ],
           [
            0.6666666666666666,
            "#35b779"
           ],
           [
            0.7777777777777778,
            "#6ece58"
           ],
           [
            0.8888888888888888,
            "#b5de2b"
           ],
           [
            1,
            "#fde725"
           ]
          ],
          "showscale": false,
          "width": 4
         },
         "mode": "lines",
         "showlegend": false,
         "type": "scatter3d",
         "x": {
          "bdata": "AAAAALooDiy6KI4sFz3VLLooDi3osjEtFz1VLUbHeC26KI4t0e2fLeiysS0AeMMtFz3VLS4C5y1Gx/gtLkYFLrooDi5GCxcu0e0fLl3QKC7osjEudJU6LgB4Qy6LWkwuFz1VLqMfXi4uAmcuuuRvLkbHeC7p1IAuLkaFLnS3iS66KI4uAJqSLkYLly6LfJsu0e2fLhdfpC5d0Kguo0GtLuiysS4uJLYudJW6LroGvy4AeMMuRunHLotazC7Ry9AuFz3VLl2u2S6hH94u55DiLi0C5y5zc+suuOTvLv5V9C5Ex/guijj9LujUAC+LDQMvLkYFL9B+By90twkvFvALL7ooDi9cYRAv/5kSL6LSFC9FCxcv6EMZL4p8Gy8utR0v0O0fL3QmIi8WXyQvuZcmL1zQKC//CCsvokEtL0V6Ly/osjEvi+szLy4kNi/QXDgvdJU6LxbOPC+5Bj8vXD9BL/93Qy+isEUvRelHL+ghSi+LWkwvLpNOL9DLUC9zBFMvFj1VL7l1Vy9crlkv/+ZbLw==",
          "dtype": "f4"
         },
         "y": {
          "bdata": "CB/8QAgf/EAIH/xACB/8QAgf/EAIH/xACB/8QAgf/EAIH/xACB/8QAgf/EAIH/xACB/8QAgf/EAIH/xACB/8QAgf/EAIH/xACB/8QAgf/EAIH/xACB/8QAgf/EAIH/xACB/8QAgf/EAIH/xACB/8QAgf/EAIH/xACB/8QAgf/EAIH/xACB/8QAgf/EAIH/xACB/8QAgf/EAIH/xACB/8QAgf/EAIH/xACB/8QAgf/EAIH/xACB/8QAgf/EAIH/xACB/8QAgf/EAIH/xACB/8QAgf/EAIH/xACB/8QAgf/EAIH/xACB/8QAgf/EAIH/xACB/8QAgf/EAIH/xACB/8QAgf/EAIH/xACB/8QAgf/EAIH/xACB/8QAgf/EAIH/xACB/8QAgf/EAIH/xACB/8QAgf/EAIH/xACB/8QAgf/EAIH/xACB/8QAgf/EAIH/xACB/8QAgf/EAIH/xACB/8QAgf/EAIH/xACB/8QAgf/EAIH/xACB/8QAgf/EAIH/xACB/8QAgf/EAIH/xACB/8QA==",
          "dtype": "f4"
         },
         "z": {
          "bdata": "AAAAAFxp81z2d7ddHe9QXr7Kyl4Ami5fBGWJX0i0yV/1NwxgdKo6YPblb2CRvpVgZnS2YPPI2WCoaf9gKIATYcsZKGEFVT1h2QNTYRD5aGFZCH9hi4KKYbRilWHKD6BhCXaqYSmDtGGQJr5hgFDHYW3zz2EoBNhh+njfYetK5mHsdOxhgfPxYWTG9mHQ7fphoGv+YeahAGIXvQFiy4kCYq0KA2JAQgNiSzMDYkjgAmKrSwJi83cBYpJnAGLOOf5hvjX7YWXI92ES4/NhgpPvYdz46mGLG+ZhHgXhYfK+22FLU9Zhr8vQYXUwy2EFicVh39u/YVguumEDhbRhbOOuYXpMqWFBwqNh3EWeYenXmGHfd5NhQiWOYYneiGGrooNh8998YUaKcmE/Qmhh0wVeYWLUU2GwrUlhq5I/YYqENWFZhSthg5chYSm+F2H0+w1hJ1QEYbWS9WDAvOJgbSrQYNffvWCH36tgNyuaYCDEiGBJVG9gdrlNYIu1LGB/RQxgCsvYX6wkml+GJjlfA/q5Xg==",
          "dtype": "f4"
         }
        },
        {
         "line": {
          "cmax": 611586436859611300000,
          "cmin": -941527887222145000,
          "color": {
           "bdata": "AAAAAERW/lxVTbtdpJZTXpeRzF4pvS9fBRaKX3+Ayl+rpwxgKB47YOpWcGDx8ZVg7J62YDHn2WCseP9gCH8TYYoPKGHCQT1hW+hSYc3WaGFo4X5hCG6KYbROlWH+/Z9hOGiqYRB7tGHUJb5hk1jHYXsF0GEPIdhhJKHfYXR+5mF0s+xhVzzyYXUY92HJR/th6cv+YVrUAGL58AFiQr4CYuw+A2KCdQNi9mQDYt8PA2LLeAJiYqIBYjiPAGKRg/5hHHr7YcUH+GHUG/RhxMTvYc4j62FBQeZhiSbhYdHc22E2btZhA+TQYWZGy2GinMVhBO2/Ydc8umGJkLRhteuuYUJRqWFNw6NhD0OeYTLRmGFcbZNhIxeOYSnNiGFxjoNh3LJ8YbpZcmFyD2hhG9JdYfqgU2HUe0lhZ2M/YddYNWH1XSthAnUhYd2gF2EJ5A1hj0EEYbF39WAiq+JgKiHQYLPdvWAr46tgNDOaYAzPiGBUbW9gMNNNYM7NLGCDWgxgxuvYXzE6ml/DODlfcvq5Xg==",
           "dtype": "f4"
          },
          "colorscale": [
           [
            0,
            "#440154"
           ],
           [
            0.1111111111111111,
            "#482878"
           ],
           [
            0.2222222222222222,
            "#3e4989"
           ],
           [
            0.3333333333333333,
            "#31688e"
           ],
           [
            0.4444444444444444,
            "#26828e"
           ],
           [
            0.5555555555555556,
            "#1f9e89"
           ],
           [
            0.6666666666666666,
            "#35b779"
           ],
           [
            0.7777777777777778,
            "#6ece58"
           ],
           [
            0.8888888888888888,
            "#b5de2b"
           ],
           [
            1,
            "#fde725"
           ]
          ],
          "showscale": false,
          "width": 4
         },
         "mode": "lines",
         "showlegend": false,
         "type": "scatter3d",
         "x": {
          "bdata": "AAAAALooDiy6KI4sFz3VLLooDi3osjEtFz1VLUbHeC26KI4t0e2fLeiysS0AeMMtFz3VLS4C5y1Gx/gtLkYFLrooDi5GCxcu0e0fLl3QKC7osjEudJU6LgB4Qy6LWkwuFz1VLqMfXi4uAmcuuuRvLkbHeC7p1IAuLkaFLnS3iS66KI4uAJqSLkYLly6LfJsu0e2fLhdfpC5d0Kguo0GtLuiysS4uJLYudJW6LroGvy4AeMMuRunHLotazC7Ry9AuFz3VLl2u2S6hH94u55DiLi0C5y5zc+suuOTvLv5V9C5Ex/guijj9LujUAC+LDQMvLkYFL9B+By90twkvFvALL7ooDi9cYRAv/5kSL6LSFC9FCxcv6EMZL4p8Gy8utR0v0O0fL3QmIi8WXyQvuZcmL1zQKC//CCsvokEtL0V6Ly/osjEvi+szLy4kNi/QXDgvdJU6LxbOPC+5Bj8vXD9BL/93Qy+isEUvRelHL+ghSi+LWkwvLpNOL9DLUC9zBFMvFj1VL7l1Vy9crlkv/+ZbLw==",
          "dtype": "f4"
         },
         "y": {
          "bdata": "/koBQf5KAUH+SgFB/koBQf5KAUH+SgFB/koBQf5KAUH+SgFB/koBQf5KAUH+SgFB/koBQf5KAUH+SgFB/koBQf5KAUH+SgFB/koBQf5KAUH+SgFB/koBQf5KAUH+SgFB/koBQf5KAUH+SgFB/koBQf5KAUH+SgFB/koBQf5KAUH+SgFB/koBQf5KAUH+SgFB/koBQf5KAUH+SgFB/koBQf5KAUH+SgFB/koBQf5KAUH+SgFB/koBQf5KAUH+SgFB/koBQf5KAUH+SgFB/koBQf5KAUH+SgFB/koBQf5KAUH+SgFB/koBQf5KAUH+SgFB/koBQf5KAUH+SgFB/koBQf5KAUH+SgFB/koBQf5KAUH+SgFB/koBQf5KAUH+SgFB/koBQf5KAUH+SgFB/koBQf5KAUH+SgFB/koBQf5KAUH+SgFB/koBQf5KAUH+SgFB/koBQf5KAUH+SgFB/koBQf5KAUH+SgFB/koBQf5KAUH+SgFB/koBQf5KAUH+SgFB/koBQf5KAUH+SgFB/koBQQ==",
          "dtype": "f4"
         },
         "z": {
          "bdata": "AAAAAERW/lxVTbtdpJZTXpeRzF4pvS9fBRaKX3+Ayl+rpwxgKB47YOpWcGDx8ZVg7J62YDHn2WCseP9gCH8TYYoPKGHCQT1hW+hSYc3WaGFo4X5hCG6KYbROlWH+/Z9hOGiqYRB7tGHUJb5hk1jHYXsF0GEPIdhhJKHfYXR+5mF0s+xhVzzyYXUY92HJR/th6cv+YVrUAGL58AFiQr4CYuw+A2KCdQNi9mQDYt8PA2LLeAJiYqIBYjiPAGKRg/5hHHr7YcUH+GHUG/RhxMTvYc4j62FBQeZhiSbhYdHc22E2btZhA+TQYWZGy2GinMVhBO2/Ydc8umGJkLRhteuuYUJRqWFNw6NhD0OeYTLRmGFcbZNhIxeOYSnNiGFxjoNh3LJ8YbpZcmFyD2hhG9JdYfqgU2HUe0lhZ2M/YddYNWH1XSthAnUhYd2gF2EJ5A1hj0EEYbF39WAiq+JgKiHQYLPdvWAr46tgNDOaYAzPiGBUbW9gMNNNYM7NLGCDWgxgxuvYXzE6ml/DODlfcvq5Xg==",
          "dtype": "f4"
         }
        },
        {
         "line": {
          "cmax": 611586436859611300000,
          "cmin": -941527887222145000,
          "color": {
           "bdata": "AAAAAK52BF1K3b5dewRWXqEwzl6oxzBftbiKX+Y8y1/4Dg1gKIk7YO2+cGDCIJZgwcS2YGkA2mAwgv9gzXoTYakBKGEnKj1hmMdSYRuuaGGvsn5h4VSKYTg1lWHT5Z9hGlOqYcBqtGH5G75htVbHYdwM0GGeMthhhL3fYd+l5mG15exh53jyYWhe92HqlfthwCD/YVoBAWKyHwJi1+0CYoxuA2JypANiiJIDYoo7A2IkogJiH8kBYimzAGLHxf5hxrb7YSY/+GF8TPRh2e3vYXZG62GCXuZhQz/hYcLx22EBgNZhFPPQYQdTy2HupsVh/fS/YWRCumGIk7Rh8uuuYYxOqWGEvaNhGjqeYRXFmGEsXpNhEwWOYX+4iGGGd4NhcYF8YbMlcmHp2WdhHJxdYZ5rU2EbSElhRTI/YRYrNWFANCth1E8hYY+AF2G5yA1hOSsEYZ5U9WAEkeJgLQ/QYMfSvWAs3qtg7DKaYELSiGBkeG9gs+BNYN7bLGB6ZwxgAAHZX9xIml+0RjlfE/+5Xg==",
           "dtype": "f4"
          },
          "colorscale": [
           [
            0,
            "#440154"
           ],
           [
            0.1111111111111111,
            "#482878"
           ],
           [
            0.2222222222222222,
            "#3e4989"
           ],
           [
            0.3333333333333333,
            "#31688e"
           ],
           [
            0.4444444444444444,
            "#26828e"
           ],
           [
            0.5555555555555556,
            "#1f9e89"
           ],
           [
            0.6666666666666666,
            "#35b779"
           ],
           [
            0.7777777777777778,
            "#6ece58"
           ],
           [
            0.8888888888888888,
            "#b5de2b"
           ],
           [
            1,
            "#fde725"
           ]
          ],
          "showscale": false,
          "width": 4
         },
         "mode": "lines",
         "showlegend": false,
         "type": "scatter3d",
         "x": {
          "bdata": "AAAAALooDiy6KI4sFz3VLLooDi3osjEtFz1VLUbHeC26KI4t0e2fLeiysS0AeMMtFz3VLS4C5y1Gx/gtLkYFLrooDi5GCxcu0e0fLl3QKC7osjEudJU6LgB4Qy6LWkwuFz1VLqMfXi4uAmcuuuRvLkbHeC7p1IAuLkaFLnS3iS66KI4uAJqSLkYLly6LfJsu0e2fLhdfpC5d0Kguo0GtLuiysS4uJLYudJW6LroGvy4AeMMuRunHLotazC7Ry9AuFz3VLl2u2S6hH94u55DiLi0C5y5zc+suuOTvLv5V9C5Ex/guijj9LujUAC+LDQMvLkYFL9B+By90twkvFvALL7ooDi9cYRAv/5kSL6LSFC9FCxcv6EMZL4p8Gy8utR0v0O0fL3QmIi8WXyQvuZcmL1zQKC//CCsvokEtL0V6Ly/osjEvi+szLy4kNi/QXDgvdJU6LxbOPC+5Bj8vXD9BL/93Qy+isEUvRelHL+ghSi+LWkwvLpNOL9DLUC9zBFMvFj1VL7l1Vy9crlkv/+ZbLw==",
          "dtype": "f4"
         },
         "y": {
          "bdata": "d4YEQXeGBEF3hgRBd4YEQXeGBEF3hgRBd4YEQXeGBEF3hgRBd4YEQXeGBEF3hgRBd4YEQXeGBEF3hgRBd4YEQXeGBEF3hgRBd4YEQXeGBEF3hgRBd4YEQXeGBEF3hgRBd4YEQXeGBEF3hgRBd4YEQXeGBEF3hgRBd4YEQXeGBEF3hgRBd4YEQXeGBEF3hgRBd4YEQXeGBEF3hgRBd4YEQXeGBEF3hgRBd4YEQXeGBEF3hgRBd4YEQXeGBEF3hgRBd4YEQXeGBEF3hgRBd4YEQXeGBEF3hgRBd4YEQXeGBEF3hgRBd4YEQXeGBEF3hgRBd4YEQXeGBEF3hgRBd4YEQXeGBEF3hgRBd4YEQXeGBEF3hgRBd4YEQXeGBEF3hgRBd4YEQXeGBEF3hgRBd4YEQXeGBEF3hgRBd4YEQXeGBEF3hgRBd4YEQXeGBEF3hgRBd4YEQXeGBEF3hgRBd4YEQXeGBEF3hgRBd4YEQXeGBEF3hgRBd4YEQXeGBEF3hgRBd4YEQXeGBEF3hgRBd4YEQQ==",
          "dtype": "f4"
         },
         "z": {
          "bdata": "AAAAAK52BF1K3b5dewRWXqEwzl6oxzBftbiKX+Y8y1/4Dg1gKIk7YO2+cGDCIJZgwcS2YGkA2mAwgv9gzXoTYakBKGEnKj1hmMdSYRuuaGGvsn5h4VSKYTg1lWHT5Z9hGlOqYcBqtGH5G75htVbHYdwM0GGeMthhhL3fYd+l5mG15exh53jyYWhe92HqlfthwCD/YVoBAWKyHwJi1+0CYoxuA2JypANiiJIDYoo7A2IkogJiH8kBYimzAGLHxf5hxrb7YSY/+GF8TPRh2e3vYXZG62GCXuZhQz/hYcLx22EBgNZhFPPQYQdTy2HupsVh/fS/YWRCumGIk7Rh8uuuYYxOqWGEvaNhGjqeYRXFmGEsXpNhEwWOYX+4iGGGd4NhcYF8YbMlcmHp2WdhHJxdYZ5rU2EbSElhRTI/YRYrNWFANCth1E8hYY+AF2G5yA1hOSsEYZ5U9WAEkeJgLQ/QYMfSvWAs3qtg7DKaYELSiGBkeG9gs+BNYN7bLGB6ZwxgAAHZX9xIml+0RjlfE/+5Xg==",
          "dtype": "f4"
         }
        },
        {
         "line": {
          "cmax": 611586436859611300000,
          "cmin": -941527887222145000,
          "color": {
           "bdata": "AAAAAH6aCV2aMcJdIEFYXsWtz14evTFfNE+LX9zry18lbw1g1+w7YJgfcWDlS5Zg3+a2YNUV2mCnh/9gQnQTYRDxJ2E/Dz1hx6JSYWSAaGHFfX5h8TeKYTIXlWFFyJ9htzeqYUJTtGEPCr5h6EvHYYMK0GHMOdhh6s7fYdfB5mFDDO1hnKnyYYaY92Fl2PthRGr/Yd4oAWIoSQJicBgDYnSZA2LnzgNi3LsDYipjA2KYxwJiEOwBYmLTAGKQAP9h7Ov7YdZu+GFvdfRhVA/wYXlh62H6c+ZhF1DhYa/+22GfidZh3fnQYVFXy2HxqMVh1/S/YQpAumHvjrRhBuWuYTZFqWGvsaNhwCueYT20mGHsSpNhl++NYQKhiGFeXoNhekx8Ye7ucWEuomdhW2RdYbw0U2HwEklhnv8+YZz7NGGFCCthSCghYXZdF2E5qg1hVREEYcop9WCjbuJgk/TPYCe/vWCJ0KtgSyqaYJ/NiGAVdW9gjeFNYDLfLGDhawxgrgnZX8ZPml/PTjlfpgW6Xg==",
           "dtype": "f4"
          },
          "colorscale": [
           [
            0,
            "#440154"
           ],
           [
            0.1111111111111111,
            "#482878"
           ],
           [
            0.2222222222222222,
            "#3e4989"
           ],
           [
            0.3333333333333333,
            "#31688e"
           ],
           [
            0.4444444444444444,
            "#26828e"
           ],
           [
            0.5555555555555556,
            "#1f9e89"
           ],
           [
            0.6666666666666666,
            "#35b779"
           ],
           [
            0.7777777777777778,
            "#6ece58"
           ],
           [
            0.8888888888888888,
            "#b5de2b"
           ],
           [
            1,
            "#fde725"
           ]
          ],
          "showscale": false,
          "width": 4
         },
         "mode": "lines",
         "showlegend": false,
         "type": "scatter3d",
         "x": {
          "bdata": "AAAAALooDiy6KI4sFz3VLLooDi3osjEtFz1VLUbHeC26KI4t0e2fLeiysS0AeMMtFz3VLS4C5y1Gx/gtLkYFLrooDi5GCxcu0e0fLl3QKC7osjEudJU6LgB4Qy6LWkwuFz1VLqMfXi4uAmcuuuRvLkbHeC7p1IAuLkaFLnS3iS66KI4uAJqSLkYLly6LfJsu0e2fLhdfpC5d0Kguo0GtLuiysS4uJLYudJW6LroGvy4AeMMuRunHLotazC7Ry9AuFz3VLl2u2S6hH94u55DiLi0C5y5zc+suuOTvLv5V9C5Ex/guijj9LujUAC+LDQMvLkYFL9B+By90twkvFvALL7ooDi9cYRAv/5kSL6LSFC9FCxcv6EMZL4p8Gy8utR0v0O0fL3QmIi8WXyQvuZcmL1zQKC//CCsvokEtL0V6Ly/osjEvi+szLy4kNi/QXDgvdJU6LxbOPC+5Bj8vXD9BL/93Qy+isEUvRelHL+ghSi+LWkwvLpNOL9DLUC9zBFMvFj1VL7l1Vy9crlkv/+ZbLw==",
          "dtype": "f4"
         },
         "y": {
          "bdata": "8MEHQfDBB0HwwQdB8MEHQfDBB0HwwQdB8MEHQfDBB0HwwQdB8MEHQfDBB0HwwQdB8MEHQfDBB0HwwQdB8MEHQfDBB0HwwQdB8MEHQfDBB0HwwQdB8MEHQfDBB0HwwQdB8MEHQfDBB0HwwQdB8MEHQfDBB0HwwQdB8MEHQfDBB0HwwQdB8MEHQfDBB0HwwQdB8MEHQfDBB0HwwQdB8MEHQfDBB0HwwQdB8MEHQfDBB0HwwQdB8MEHQfDBB0HwwQdB8MEHQfDBB0HwwQdB8MEHQfDBB0HwwQdB8MEHQfDBB0HwwQdB8MEHQfDBB0HwwQdB8MEHQfDBB0HwwQdB8MEHQfDBB0HwwQdB8MEHQfDBB0HwwQdB8MEHQfDBB0HwwQdB8MEHQfDBB0HwwQdB8MEHQfDBB0HwwQdB8MEHQfDBB0HwwQdB8MEHQfDBB0HwwQdB8MEHQfDBB0HwwQdB8MEHQfDBB0HwwQdB8MEHQfDBB0HwwQdB8MEHQfDBB0HwwQdB8MEHQfDBB0HwwQdB8MEHQQ==",
          "dtype": "f4"
         },
         "z": {
          "bdata": "AAAAAH6aCV2aMcJdIEFYXsWtz14evTFfNE+LX9zry18lbw1g1+w7YJgfcWDlS5Zg3+a2YNUV2mCnh/9gQnQTYRDxJ2E/Dz1hx6JSYWSAaGHFfX5h8TeKYTIXlWFFyJ9htzeqYUJTtGEPCr5h6EvHYYMK0GHMOdhh6s7fYdfB5mFDDO1hnKnyYYaY92Fl2PthRGr/Yd4oAWIoSQJicBgDYnSZA2LnzgNi3LsDYipjA2KYxwJiEOwBYmLTAGKQAP9h7Ov7YdZu+GFvdfRhVA/wYXlh62H6c+ZhF1DhYa/+22GfidZh3fnQYVFXy2HxqMVh1/S/YQpAumHvjrRhBuWuYTZFqWGvsaNhwCueYT20mGHsSpNhl++NYQKhiGFeXoNhekx8Ye7ucWEuomdhW2RdYbw0U2HwEklhnv8+YZz7NGGFCCthSCghYXZdF2E5qg1hVREEYcop9WCjbuJgk/TPYCe/vWCJ0KtgSyqaYJ/NiGAVdW9gjeFNYDLfLGDhawxgrgnZX8ZPml/PTjlfpgW6Xg==",
          "dtype": "f4"
         }
        },
        {
         "line": {
          "cmax": 611586436859611300000,
          "cmin": -941527887222145000,
          "color": {
           "bdata": "AAAAAGWZDl1WU8VdilRaXpoO0V4DoTJfhduLX6qPzF93yQ1gmUo8YHh6cWBCdJZgTga3YJ8o2mBviv9gRGwTYb3eJ2E38jxhOXtSYTJPaGFaRH5hKhiKYaf1lGF0pp9hPxeqYdU1tGFX8b1hdznHYbr/z2HIN9hhgNbfYYDT5mEZKO1hXs/yYZ3H92HfD/xh76j/YRtLAWKIbQJiJj4DYra/A2Lz9ANiBeEDYtKGA2JB6QJiWQsCYgvwAGJRNP9hExr8YXeX+GFll/RhACrwYb9162G4guZhG1rhYa8E3GE8jNZhlvnQYYlUy2Hno8VhvO2/Yfg2umHug7RhEtiuYUw2qWHKoKNh5RieYXefmGFUNJNhVNeNYUqHiGFuQ4NhzhR8YRq2cWHxaGdhaCtdYdX8UmHE3Ehh08s+YcfKNGEb2yphqP4gYeI3F2HXiA1hJfQDYbH39GB9ROJg0dHPYCWjvWCSuqtgkRmaYE7BiGCwY29g1dVNYMvXLGCZZwxgdQXZX3BOml8MUDlfIQy6Xg==",
           "dtype": "f4"
          },
          "colorscale": [
           [
            0,
            "#440154"
           ],
           [
            0.1111111111111111,
            "#482878"
           ],
           [
            0.2222222222222222,
            "#3e4989"
           ],
           [
            0.3333333333333333,
            "#31688e"
           ],
           [
            0.4444444444444444,
            "#26828e"
           ],
           [
            0.5555555555555556,
            "#1f9e89"
           ],
           [
            0.6666666666666666,
            "#35b779"
           ],
           [
            0.7777777777777778,
            "#6ece58"
           ],
           [
            0.8888888888888888,
            "#b5de2b"
           ],
           [
            1,
            "#fde725"
           ]
          ],
          "showscale": false,
          "width": 4
         },
         "mode": "lines",
         "showlegend": false,
         "type": "scatter3d",
         "x": {
          "bdata": "AAAAALooDiy6KI4sFz3VLLooDi3osjEtFz1VLUbHeC26KI4t0e2fLeiysS0AeMMtFz3VLS4C5y1Gx/gtLkYFLrooDi5GCxcu0e0fLl3QKC7osjEudJU6LgB4Qy6LWkwuFz1VLqMfXi4uAmcuuuRvLkbHeC7p1IAuLkaFLnS3iS66KI4uAJqSLkYLly6LfJsu0e2fLhdfpC5d0Kguo0GtLuiysS4uJLYudJW6LroGvy4AeMMuRunHLotazC7Ry9AuFz3VLl2u2S6hH94u55DiLi0C5y5zc+suuOTvLv5V9C5Ex/guijj9LujUAC+LDQMvLkYFL9B+By90twkvFvALL7ooDi9cYRAv/5kSL6LSFC9FCxcv6EMZL4p8Gy8utR0v0O0fL3QmIi8WXyQvuZcmL1zQKC//CCsvokEtL0V6Ly/osjEvi+szLy4kNi/QXDgvdJU6LxbOPC+5Bj8vXD9BL/93Qy+isEUvRelHL+ghSi+LWkwvLpNOL9DLUC9zBFMvFj1VL7l1Vy9crlkv/+ZbLw==",
          "dtype": "f4"
         },
         "y": {
          "bdata": "av0KQWr9CkFq/QpBav0KQWr9CkFq/QpBav0KQWr9CkFq/QpBav0KQWr9CkFq/QpBav0KQWr9CkFq/QpBav0KQWr9CkFq/QpBav0KQWr9CkFq/QpBav0KQWr9CkFq/QpBav0KQWr9CkFq/QpBav0KQWr9CkFq/QpBav0KQWr9CkFq/QpBav0KQWr9CkFq/QpBav0KQWr9CkFq/QpBav0KQWr9CkFq/QpBav0KQWr9CkFq/QpBav0KQWr9CkFq/QpBav0KQWr9CkFq/QpBav0KQWr9CkFq/QpBav0KQWr9CkFq/QpBav0KQWr9CkFq/QpBav0KQWr9CkFq/QpBav0KQWr9CkFq/QpBav0KQWr9CkFq/QpBav0KQWr9CkFq/QpBav0KQWr9CkFq/QpBav0KQWr9CkFq/QpBav0KQWr9CkFq/QpBav0KQWr9CkFq/QpBav0KQWr9CkFq/QpBav0KQWr9CkFq/QpBav0KQWr9CkFq/QpBav0KQWr9CkFq/QpBav0KQWr9CkFq/QpBav0KQQ==",
          "dtype": "f4"
         },
         "z": {
          "bdata": "AAAAAGWZDl1WU8VdilRaXpoO0V4DoTJfhduLX6qPzF93yQ1gmUo8YHh6cWBCdJZgTga3YJ8o2mBviv9gRGwTYb3eJ2E38jxhOXtSYTJPaGFaRH5hKhiKYaf1lGF0pp9hPxeqYdU1tGFX8b1hdznHYbr/z2HIN9hhgNbfYYDT5mEZKO1hXs/yYZ3H92HfD/xh76j/YRtLAWKIbQJiJj4DYra/A2Lz9ANiBeEDYtKGA2JB6QJiWQsCYgvwAGJRNP9hExr8YXeX+GFll/RhACrwYb9162G4guZhG1rhYa8E3GE8jNZhlvnQYYlUy2Hno8VhvO2/Yfg2umHug7RhEtiuYUw2qWHKoKNh5RieYXefmGFUNJNhVNeNYUqHiGFuQ4NhzhR8YRq2cWHxaGdhaCtdYdX8UmHE3Ehh08s+YcfKNGEb2yphqP4gYeI3F2HXiA1hJfQDYbH39GB9ROJg0dHPYCWjvWCSuqtgkRmaYE7BiGCwY29g1dVNYMvXLGCZZwxgdQXZX3BOml8MUDlfIQy6Xg==",
          "dtype": "f4"
         }
        },
        {
         "line": {
          "cmax": 611586436859611300000,
          "cmin": -941527887222145000,
          "color": {
           "bdata": "AAAAANN1E12hSshdDUZcXkZY0l6XdjNfmV+MX4kqzV8wHw5g5aM8YCXRcWC9mpZgJCS3YAY62mD0i/9gpWMTYbbLJ2E+1DxhVlJSYREcaGFBCH5hlPaJYbTRlGGRgZ9h/PKpYdMTtGE7071h0iDHYfDtz2ELLthhuNXfYTrc5mGUOu1hdOvyYc7s92FoPfxhvd3/YX9oAWI1jQJiV18DYqfhA2LmFgRiRQIEYsemA2JlBwNiRicCYnUJAWLKYf9hBEL8YfG5+GFes/Rh5j7wYWaE62Hni+Zhil7hYSAF3GE5idZho/PQYRRMy2FCmcVhG+G/YY8oumHSc7RhVcauYfsiqWHui6NhiQKeYayHmGE2G5NhAr2NYfJriGFGJ4NhWNt7YQZ8cWHWLmdh3PFcYWrEUmEQpkhhV5c+YfyYNGFkrCphWdMgYTUQF2HsZA1hD9QDYRi/9GA7E+Jgk6fPYHZ/vWDfnKtgPwGaYMGtiGDhRG9gH75NYBHGLGDoWgxgjvTYX9BEml/SSTlfyBC6Xg==",
           "dtype": "f4"
          },
          "colorscale": [
           [
            0,
            "#440154"
           ],
           [
            0.1111111111111111,
            "#482878"
           ],
           [
            0.2222222222222222,
            "#3e4989"
           ],
           [
            0.3333333333333333,
            "#31688e"
           ],
           [
            0.4444444444444444,
            "#26828e"
           ],
           [
            0.5555555555555556,
            "#1f9e89"
           ],
           [
            0.6666666666666666,
            "#35b779"
           ],
           [
            0.7777777777777778,
            "#6ece58"
           ],
           [
            0.8888888888888888,
            "#b5de2b"
           ],
           [
            1,
            "#fde725"
           ]
          ],
          "showscale": false,
          "width": 4
         },
         "mode": "lines",
         "showlegend": false,
         "type": "scatter3d",
         "x": {
          "bdata": "AAAAALooDiy6KI4sFz3VLLooDi3osjEtFz1VLUbHeC26KI4t0e2fLeiysS0AeMMtFz3VLS4C5y1Gx/gtLkYFLrooDi5GCxcu0e0fLl3QKC7osjEudJU6LgB4Qy6LWkwuFz1VLqMfXi4uAmcuuuRvLkbHeC7p1IAuLkaFLnS3iS66KI4uAJqSLkYLly6LfJsu0e2fLhdfpC5d0Kguo0GtLuiysS4uJLYudJW6LroGvy4AeMMuRunHLotazC7Ry9AuFz3VLl2u2S6hH94u55DiLi0C5y5zc+suuOTvLv5V9C5Ex/guijj9LujUAC+LDQMvLkYFL9B+By90twkvFvALL7ooDi9cYRAv/5kSL6LSFC9FCxcv6EMZL4p8Gy8utR0v0O0fL3QmIi8WXyQvuZcmL1zQKC//CCsvokEtL0V6Ly/osjEvi+szLy4kNi/QXDgvdJU6LxbOPC+5Bj8vXD9BL/93Qy+isEUvRelHL+ghSi+LWkwvLpNOL9DLUC9zBFMvFj1VL7l1Vy9crlkv/+ZbLw==",
          "dtype": "f4"
         },
         "y": {
          "bdata": "5DgOQeQ4DkHkOA5B5DgOQeQ4DkHkOA5B5DgOQeQ4DkHkOA5B5DgOQeQ4DkHkOA5B5DgOQeQ4DkHkOA5B5DgOQeQ4DkHkOA5B5DgOQeQ4DkHkOA5B5DgOQeQ4DkHkOA5B5DgOQeQ4DkHkOA5B5DgOQeQ4DkHkOA5B5DgOQeQ4DkHkOA5B5DgOQeQ4DkHkOA5B5DgOQeQ4DkHkOA5B5DgOQeQ4DkHkOA5B5DgOQeQ4DkHkOA5B5DgOQeQ4DkHkOA5B5DgOQeQ4DkHkOA5B5DgOQeQ4DkHkOA5B5DgOQeQ4DkHkOA5B5DgOQeQ4DkHkOA5B5DgOQeQ4DkHkOA5B5DgOQeQ4DkHkOA5B5DgOQeQ4DkHkOA5B5DgOQeQ4DkHkOA5B5DgOQeQ4DkHkOA5B5DgOQeQ4DkHkOA5B5DgOQeQ4DkHkOA5B5DgOQeQ4DkHkOA5B5DgOQeQ4DkHkOA5B5DgOQeQ4DkHkOA5B5DgOQeQ4DkHkOA5B5DgOQeQ4DkHkOA5B5DgOQeQ4DkHkOA5B5DgOQQ==",
          "dtype": "f4"
         },
         "z": {
          "bdata": "AAAAANN1E12hSshdDUZcXkZY0l6XdjNfmV+MX4kqzV8wHw5g5aM8YCXRcWC9mpZgJCS3YAY62mD0i/9gpWMTYbbLJ2E+1DxhVlJSYREcaGFBCH5hlPaJYbTRlGGRgZ9h/PKpYdMTtGE7071h0iDHYfDtz2ELLthhuNXfYTrc5mGUOu1hdOvyYc7s92FoPfxhvd3/YX9oAWI1jQJiV18DYqfhA2LmFgRiRQIEYsemA2JlBwNiRicCYnUJAWLKYf9hBEL8YfG5+GFes/Rh5j7wYWaE62Hni+Zhil7hYSAF3GE5idZho/PQYRRMy2FCmcVhG+G/YY8oumHSc7RhVcauYfsiqWHui6NhiQKeYayHmGE2G5NhAr2NYfJriGFGJ4NhWNt7YQZ8cWHWLmdh3PFcYWrEUmEQpkhhV5c+YfyYNGFkrCphWdMgYTUQF2HsZA1hD9QDYRi/9GA7E+Jgk6fPYHZ/vWDfnKtgPwGaYMGtiGDhRG9gH75NYBHGLGDoWgxgjvTYX9BEml/SSTlfyBC6Xg==",
          "dtype": "f4"
         }
        },
        {
         "line": {
          "cmax": 611586436859611300000,
          "cmin": -941527887222145000,
          "color": {
           "bdata": "AAAAACgyGF3eHstdJhxeXnOP017TQDRfL92MX3y+zV92cQ5g8fk8YBIlcmApwJZgTUG3YCJL2mCNjf9gMFsTYeC4J2FitjxhXClSYXfoZ2EZy31hFdSJYWeslGHCWp9hMMypYZnus2Essb1heQPHYbXWz2EhHthhHM7fYY7d5mEnRe1hP//yYXsJ+GFBYvxh7gQAYpmBAWKtqAJidXwDYrD/A2IiNQRiBCAEYmrDA2JqIgNiPUACYg8gAWLXif9huGT8YUrX+GF0yvRhNE/wYaGO62HMkOZhxl7hYVMB3GH6gdZheunQYWg/y2FuisVhadC/YTAWumHzX7RhFbGuYXAMqWExdKNhqOmdYcNtmGFZAJNhVKGNYZdPiGFoCoNh9qB7YXJBcWF+9GZhNrhcYfCLUmE0b0hhiGI+YZRmNGG9fCphtqYgYcnmFmHhPg1hcrEDYciA9GC32+FgpHbPYNNUvWAqeKtgEOKZYJ6TiGDJGW9gUJtNYLyqLGBNRgxgk9fYXyMzml/ZOzlfLBK6Xg==",
           "dtype": "f4"
          },
          "colorscale": [
           [
            0,
            "#440154"
           ],
           [
            0.1111111111111111,
            "#482878"
           ],
           [
            0.2222222222222222,
            "#3e4989"
           ],
           [
            0.3333333333333333,
            "#31688e"
           ],
           [
            0.4444444444444444,
            "#26828e"
           ],
           [
            0.5555555555555556,
            "#1f9e89"
           ],
           [
            0.6666666666666666,
            "#35b779"
           ],
           [
            0.7777777777777778,
            "#6ece58"
           ],
           [
            0.8888888888888888,
            "#b5de2b"
           ],
           [
            1,
            "#fde725"
           ]
          ],
          "showscale": false,
          "width": 4
         },
         "mode": "lines",
         "showlegend": false,
         "type": "scatter3d",
         "x": {
          "bdata": "AAAAALooDiy6KI4sFz3VLLooDi3osjEtFz1VLUbHeC26KI4t0e2fLeiysS0AeMMtFz3VLS4C5y1Gx/gtLkYFLrooDi5GCxcu0e0fLl3QKC7osjEudJU6LgB4Qy6LWkwuFz1VLqMfXi4uAmcuuuRvLkbHeC7p1IAuLkaFLnS3iS66KI4uAJqSLkYLly6LfJsu0e2fLhdfpC5d0Kguo0GtLuiysS4uJLYudJW6LroGvy4AeMMuRunHLotazC7Ry9AuFz3VLl2u2S6hH94u55DiLi0C5y5zc+suuOTvLv5V9C5Ex/guijj9LujUAC+LDQMvLkYFL9B+By90twkvFvALL7ooDi9cYRAv/5kSL6LSFC9FCxcv6EMZL4p8Gy8utR0v0O0fL3QmIi8WXyQvuZcmL1zQKC//CCsvokEtL0V6Ly/osjEvi+szLy4kNi/QXDgvdJU6LxbOPC+5Bj8vXD9BL/93Qy+isEUvRelHL+ghSi+LWkwvLpNOL9DLUC9zBFMvFj1VL7l1Vy9crlkv/+ZbLw==",
          "dtype": "f4"
         },
         "y": {
          "bdata": "XXQRQV10EUFddBFBXXQRQV10EUFddBFBXXQRQV10EUFddBFBXXQRQV10EUFddBFBXXQRQV10EUFddBFBXXQRQV10EUFddBFBXXQRQV10EUFddBFBXXQRQV10EUFddBFBXXQRQV10EUFddBFBXXQRQV10EUFddBFBXXQRQV10EUFddBFBXXQRQV10EUFddBFBXXQRQV10EUFddBFBXXQRQV10EUFddBFBXXQRQV10EUFddBFBXXQRQV10EUFddBFBXXQRQV10EUFddBFBXXQRQV10EUFddBFBXXQRQV10EUFddBFBXXQRQV10EUFddBFBXXQRQV10EUFddBFBXXQRQV10EUFddBFBXXQRQV10EUFddBFBXXQRQV10EUFddBFBXXQRQV10EUFddBFBXXQRQV10EUFddBFBXXQRQV10EUFddBFBXXQRQV10EUFddBFBXXQRQV10EUFddBFBXXQRQV10EUFddBFBXXQRQV10EUFddBFBXXQRQV10EUFddBFBXXQRQV10EUFddBFBXXQRQQ==",
          "dtype": "f4"
         },
         "z": {
          "bdata": "AAAAACgyGF3eHstdJhxeXnOP017TQDRfL92MX3y+zV92cQ5g8fk8YBIlcmApwJZgTUG3YCJL2mCNjf9gMFsTYeC4J2FitjxhXClSYXfoZ2EZy31hFdSJYWeslGHCWp9hMMypYZnus2Essb1heQPHYbXWz2EhHthhHM7fYY7d5mEnRe1hP//yYXsJ+GFBYvxh7gQAYpmBAWKtqAJidXwDYrD/A2IiNQRiBCAEYmrDA2JqIgNiPUACYg8gAWLXif9huGT8YUrX+GF0yvRhNE/wYaGO62HMkOZhxl7hYVMB3GH6gdZheunQYWg/y2FuisVhadC/YTAWumHzX7RhFbGuYXAMqWExdKNhqOmdYcNtmGFZAJNhVKGNYZdPiGFoCoNh9qB7YXJBcWF+9GZhNrhcYfCLUmE0b0hhiGI+YZRmNGG9fCphtqYgYcnmFmHhPg1hcrEDYciA9GC32+FgpHbPYNNUvWAqeKtgEOKZYJ6TiGDJGW9gUJtNYLyqLGBNRgxgk9fYXyMzml/ZOzlfLBK6Xg==",
          "dtype": "f4"
         }
        },
        {
         "line": {
          "cmax": 611586436859611300000,
          "cmin": -941527887222145000,
          "color": {
           "bdata": "AAAAAIvQHF1y1s1dqdxfXj241F5XAjVf51WNX2JNzl9WwQ5g+k09YJN3cmBN5ZZgqF63YAhd2mBvkP9gnlMTYRanJ2GlmTxhdgFSYb21Z2GDjn1hmrGJYcCGlGEtM59hDqSpYXXHs2GMjL1h5OLGYZa7z2GpCdhhRcHfYRTZ5mFqSe1hVQzzYSEf+GHpf/xhWBcAYg6XAWKRwAJiHJYDYmIaBGItUARiwDoEYjzdA2LIOgNiu1YCYlY0AWKFrf9hSoP8Ya3w+GHS3fRhHlzwYbmV62GtkuZhFVzhYa7622Hwd9ZhhdzQYfIvy2HfeMVhBr2/YUABumGgSbRhkZmuYdzzqGGmWqNhQs+dYZhSmGGG5JJh9YSNYckyiGFR7YJhgGZ7YQwHcWGAumZh/n5cYdhTUmGYOEhhuS0+Ye0zNGF9TCphG3kgYQa8FmEYFw1hwIwDYaU99GDZnuFg9z/PYDAkvWBcTatg0LyZYKVziGDE425goW5NYMOGLGCGKgxgia/YX/EZml9CJjlfPw+6Xg==",
           "dtype": "f4"
          },
          "colorscale": [
           [
            0,
            "#440154"
           ],
           [
            0.1111111111111111,
            "#482878"
           ],
           [
            0.2222222222222222,
            "#3e4989"
           ],
           [
            0.3333333333333333,
            "#31688e"
           ],
           [
            0.4444444444444444,
            "#26828e"
           ],
           [
            0.5555555555555556,
            "#1f9e89"
           ],
           [
            0.6666666666666666,
            "#35b779"
           ],
           [
            0.7777777777777778,
            "#6ece58"
           ],
           [
            0.8888888888888888,
            "#b5de2b"
           ],
           [
            1,
            "#fde725"
           ]
          ],
          "showscale": false,
          "width": 4
         },
         "mode": "lines",
         "showlegend": false,
         "type": "scatter3d",
         "x": {
          "bdata": "AAAAALooDiy6KI4sFz3VLLooDi3osjEtFz1VLUbHeC26KI4t0e2fLeiysS0AeMMtFz3VLS4C5y1Gx/gtLkYFLrooDi5GCxcu0e0fLl3QKC7osjEudJU6LgB4Qy6LWkwuFz1VLqMfXi4uAmcuuuRvLkbHeC7p1IAuLkaFLnS3iS66KI4uAJqSLkYLly6LfJsu0e2fLhdfpC5d0Kguo0GtLuiysS4uJLYudJW6LroGvy4AeMMuRunHLotazC7Ry9AuFz3VLl2u2S6hH94u55DiLi0C5y5zc+suuOTvLv5V9C5Ex/guijj9LujUAC+LDQMvLkYFL9B+By90twkvFvALL7ooDi9cYRAv/5kSL6LSFC9FCxcv6EMZL4p8Gy8utR0v0O0fL3QmIi8WXyQvuZcmL1zQKC//CCsvokEtL0V6Ly/osjEvi+szLy4kNi/QXDgvdJU6LxbOPC+5Bj8vXD9BL/93Qy+isEUvRelHL+ghSi+LWkwvLpNOL9DLUC9zBFMvFj1VL7l1Vy9crlkv/+ZbLw==",
          "dtype": "f4"
         },
         "y": {
          "bdata": "168UQdevFEHXrxRB168UQdevFEHXrxRB168UQdevFEHXrxRB168UQdevFEHXrxRB168UQdevFEHXrxRB168UQdevFEHXrxRB168UQdevFEHXrxRB168UQdevFEHXrxRB168UQdevFEHXrxRB168UQdevFEHXrxRB168UQdevFEHXrxRB168UQdevFEHXrxRB168UQdevFEHXrxRB168UQdevFEHXrxRB168UQdevFEHXrxRB168UQdevFEHXrxRB168UQdevFEHXrxRB168UQdevFEHXrxRB168UQdevFEHXrxRB168UQdevFEHXrxRB168UQdevFEHXrxRB168UQdevFEHXrxRB168UQdevFEHXrxRB168UQdevFEHXrxRB168UQdevFEHXrxRB168UQdevFEHXrxRB168UQdevFEHXrxRB168UQdevFEHXrxRB168UQdevFEHXrxRB168UQdevFEHXrxRB168UQdevFEHXrxRB168UQdevFEHXrxRB168UQdevFEHXrxRB168UQQ==",
          "dtype": "f4"
         },
         "z": {
          "bdata": "AAAAAIvQHF1y1s1dqdxfXj241F5XAjVf51WNX2JNzl9WwQ5g+k09YJN3cmBN5ZZgqF63YAhd2mBvkP9gnlMTYRanJ2GlmTxhdgFSYb21Z2GDjn1hmrGJYcCGlGEtM59hDqSpYXXHs2GMjL1h5OLGYZa7z2GpCdhhRcHfYRTZ5mFqSe1hVQzzYSEf+GHpf/xhWBcAYg6XAWKRwAJiHJYDYmIaBGItUARiwDoEYjzdA2LIOgNiu1YCYlY0AWKFrf9hSoP8Ya3w+GHS3fRhHlzwYbmV62GtkuZhFVzhYa7622Hwd9ZhhdzQYfIvy2HfeMVhBr2/YUABumGgSbRhkZmuYdzzqGGmWqNhQs+dYZhSmGGG5JJh9YSNYckyiGFR7YJhgGZ7YQwHcWGAumZh/n5cYdhTUmGYOEhhuS0+Ye0zNGF9TCphG3kgYQa8FmEYFw1hwIwDYaU99GDZnuFg9z/PYDAkvWBcTatg0LyZYKVziGDE425goW5NYMOGLGCGKgxgia/YX/EZml9CJjlfPw+6Xg==",
          "dtype": "f4"
         }
        },
        {
         "line": {
          "cmax": 611586436859611300000,
          "cmin": -941527887222145000,
          "color": {
           "bdata": "AAAAAIlSIV26dtBdVYxhXiTW1V5TvTVfCcuNX7rYzl+qDw9g8qA9YMXJcmDFCpdg8ny3YHdw2mCSlf9gfE0TYQeXJ2HXfjxhm9tRYQ2FZ2HGU31h4I+JYZhhlGG/C59hr3upYZSfs2GtZr1hdMDGYfOdz2ES8tdhu7DfYVHQ5mHtSO1hPBTzYUMv+GHPl/xhzSYAYo6pAWKF1QJi4qwDYlEyBGKbaARiAlMEYsD0A2IGUQNiQmsCYtBGAWLizf9hxZ78YTcH+WGn7vRh3WbwYdya62HTkuZhylfhYX3y22FkbNZhFM7QYQwfy2HcZcVhQKi/YfLquWEUMrRh7ICuYUnaqGFJQKNhNrSdYfs2mGFuyJJhfWiNYQ4WiGFv0IJhrix7YWrNcGFTgWZhl0ZcYXocUmGLAkhhRPk9YU8BNGH2Gyph30ogYUeQFmH97QxhZWYDYZj282CVXeFggATPYIPuvGBfHatgbJKZYK9OiGBXpG5gVjlNYD1bLGBxCAxgp33YX+n5mV9cCTlfSge6Xg==",
           "dtype": "f4"
          },
          "colorscale": [
           [
            0,
            "#440154"
           ],
           [
            0.1111111111111111,
            "#482878"
           ],
           [
            0.2222222222222222,
            "#3e4989"
           ],
           [
            0.3333333333333333,
            "#31688e"
           ],
           [
            0.4444444444444444,
            "#26828e"
           ],
           [
            0.5555555555555556,
            "#1f9e89"
           ],
           [
            0.6666666666666666,
            "#35b779"
           ],
           [
            0.7777777777777778,
            "#6ece58"
           ],
           [
            0.8888888888888888,
            "#b5de2b"
           ],
           [
            1,
            "#fde725"
           ]
          ],
          "showscale": false,
          "width": 4
         },
         "mode": "lines",
         "showlegend": false,
         "type": "scatter3d",
         "x": {
          "bdata": "AAAAALooDiy6KI4sFz3VLLooDi3osjEtFz1VLUbHeC26KI4t0e2fLeiysS0AeMMtFz3VLS4C5y1Gx/gtLkYFLrooDi5GCxcu0e0fLl3QKC7osjEudJU6LgB4Qy6LWkwuFz1VLqMfXi4uAmcuuuRvLkbHeC7p1IAuLkaFLnS3iS66KI4uAJqSLkYLly6LfJsu0e2fLhdfpC5d0Kguo0GtLuiysS4uJLYudJW6LroGvy4AeMMuRunHLotazC7Ry9AuFz3VLl2u2S6hH94u55DiLi0C5y5zc+suuOTvLv5V9C5Ex/guijj9LujUAC+LDQMvLkYFL9B+By90twkvFvALL7ooDi9cYRAv/5kSL6LSFC9FCxcv6EMZL4p8Gy8utR0v0O0fL3QmIi8WXyQvuZcmL1zQKC//CCsvokEtL0V6Ly/osjEvi+szLy4kNi/QXDgvdJU6LxbOPC+5Bj8vXD9BL/93Qy+isEUvRelHL+ghSi+LWkwvLpNOL9DLUC9zBFMvFj1VL7l1Vy9crlkv/+ZbLw==",
          "dtype": "f4"
         },
         "y": {
          "bdata": "UOsXQVDrF0FQ6xdBUOsXQVDrF0FQ6xdBUOsXQVDrF0FQ6xdBUOsXQVDrF0FQ6xdBUOsXQVDrF0FQ6xdBUOsXQVDrF0FQ6xdBUOsXQVDrF0FQ6xdBUOsXQVDrF0FQ6xdBUOsXQVDrF0FQ6xdBUOsXQVDrF0FQ6xdBUOsXQVDrF0FQ6xdBUOsXQVDrF0FQ6xdBUOsXQVDrF0FQ6xdBUOsXQVDrF0FQ6xdBUOsXQVDrF0FQ6xdBUOsXQVDrF0FQ6xdBUOsXQVDrF0FQ6xdBUOsXQVDrF0FQ6xdBUOsXQVDrF0FQ6xdBUOsXQVDrF0FQ6xdBUOsXQVDrF0FQ6xdBUOsXQVDrF0FQ6xdBUOsXQVDrF0FQ6xdBUOsXQVDrF0FQ6xdBUOsXQVDrF0FQ6xdBUOsXQVDrF0FQ6xdBUOsXQVDrF0FQ6xdBUOsXQVDrF0FQ6xdBUOsXQVDrF0FQ6xdBUOsXQVDrF0FQ6xdBUOsXQVDrF0FQ6xdBUOsXQVDrF0FQ6xdBUOsXQVDrF0FQ6xdBUOsXQQ==",
          "dtype": "f4"
         },
         "z": {
          "bdata": "AAAAAIlSIV26dtBdVYxhXiTW1V5TvTVfCcuNX7rYzl+qDw9g8qA9YMXJcmDFCpdg8ny3YHdw2mCSlf9gfE0TYQeXJ2HXfjxhm9tRYQ2FZ2HGU31h4I+JYZhhlGG/C59hr3upYZSfs2GtZr1hdMDGYfOdz2ES8tdhu7DfYVHQ5mHtSO1hPBTzYUMv+GHPl/xhzSYAYo6pAWKF1QJi4qwDYlEyBGKbaARiAlMEYsD0A2IGUQNiQmsCYtBGAWLizf9hxZ78YTcH+WGn7vRh3WbwYdya62HTkuZhylfhYX3y22FkbNZhFM7QYQwfy2HcZcVhQKi/YfLquWEUMrRh7ICuYUnaqGFJQKNhNrSdYfs2mGFuyJJhfWiNYQ4WiGFv0IJhrix7YWrNcGFTgWZhl0ZcYXocUmGLAkhhRPk9YU8BNGH2Gyph30ogYUeQFmH97QxhZWYDYZj282CVXeFggATPYIPuvGBfHatgbJKZYK9OiGBXpG5gVjlNYD1bLGBxCAxgp33YX+n5mV9cCTlfSge6Xg==",
          "dtype": "f4"
         }
        },
        {
         "line": {
          "cmax": 611586436859611300000,
          "cmin": -941527887222145000,
          "color": {
           "bdata": "AAAAAD+6JV2FBNNdeS9jXirs1l7OczZf0T2OX+1hz19CXQ9gw/M9YKYcc2AhMZdgzpy3YD2G2mDTnf9gT0kTYU+JJ2GzZjxhp7hRYWRXZ2ERHH1hmG+JYbo9lGFh5Z5hDVSpYQt4s2GoQL1hYZ3GYSd/z2HF2Ndh6p3fYc3E5mEpRe1hchjzYVU7+GFhq/xhBDQAYsG5AWIw6AJiacEDYhZIBGL6fgRiXmkEYoEKBGKrZQNiXH4CYgVYAWIH7P9hUrj8YQYc+WEQ/vRhf3DwYTaf62FakuZhDlPhYfXp22GPYNZhZr/QYesNy2GgUsVhP5O/YXXUuWFaGrRhKWiuYarAqGHzJaNhSZmdYZYbmGGsrJJhckyNYdT5h2EetIJhEvR6YQaVcGFkSWZhUg9cYRfmUWFLzUdhX8U9YfzOM2Fs6ylhUhwgYeBjFmHpwwxhxz4DYYOs82DRGOFgMcXOYLy0vGAs6apgymOZYJIliGAUXW5g1vxMYFgpLGD74AtgS0PYX+PTmV/D5Thf5fm5Xg==",
           "dtype": "f4"
          },
          "colorscale": [
           [
            0,
            "#440154"
           ],
           [
            0.1111111111111111,
            "#482878"
           ],
           [
            0.2222222222222222,
            "#3e4989"
           ],
           [
            0.3333333333333333,
            "#31688e"
           ],
           [
            0.4444444444444444,
            "#26828e"
           ],
           [
            0.5555555555555556,
            "#1f9e89"
           ],
           [
            0.6666666666666666,
            "#35b779"
           ],
           [
            0.7777777777777778,
            "#6ece58"
           ],
           [
            0.8888888888888888,
            "#b5de2b"
           ],
           [
            1,
            "#fde725"
           ]
          ],
          "showscale": false,
          "width": 4
         },
         "mode": "lines",
         "showlegend": false,
         "type": "scatter3d",
         "x": {
          "bdata": "AAAAALooDiy6KI4sFz3VLLooDi3osjEtFz1VLUbHeC26KI4t0e2fLeiysS0AeMMtFz3VLS4C5y1Gx/gtLkYFLrooDi5GCxcu0e0fLl3QKC7osjEudJU6LgB4Qy6LWkwuFz1VLqMfXi4uAmcuuuRvLkbHeC7p1IAuLkaFLnS3iS66KI4uAJqSLkYLly6LfJsu0e2fLhdfpC5d0Kguo0GtLuiysS4uJLYudJW6LroGvy4AeMMuRunHLotazC7Ry9AuFz3VLl2u2S6hH94u55DiLi0C5y5zc+suuOTvLv5V9C5Ex/guijj9LujUAC+LDQMvLkYFL9B+By90twkvFvALL7ooDi9cYRAv/5kSL6LSFC9FCxcv6EMZL4p8Gy8utR0v0O0fL3QmIi8WXyQvuZcmL1zQKC//CCsvokEtL0V6Ly/osjEvi+szLy4kNi/QXDgvdJU6LxbOPC+5Bj8vXD9BL/93Qy+isEUvRelHL+ghSi+LWkwvLpNOL9DLUC9zBFMvFj1VL7l1Vy9crlkv/+ZbLw==",
          "dtype": "f4"
         },
         "y": {
          "bdata": "yiYbQcomG0HKJhtByiYbQcomG0HKJhtByiYbQcomG0HKJhtByiYbQcomG0HKJhtByiYbQcomG0HKJhtByiYbQcomG0HKJhtByiYbQcomG0HKJhtByiYbQcomG0HKJhtByiYbQcomG0HKJhtByiYbQcomG0HKJhtByiYbQcomG0HKJhtByiYbQcomG0HKJhtByiYbQcomG0HKJhtByiYbQcomG0HKJhtByiYbQcomG0HKJhtByiYbQcomG0HKJhtByiYbQcomG0HKJhtByiYbQcomG0HKJhtByiYbQcomG0HKJhtByiYbQcomG0HKJhtByiYbQcomG0HKJhtByiYbQcomG0HKJhtByiYbQcomG0HKJhtByiYbQcomG0HKJhtByiYbQcomG0HKJhtByiYbQcomG0HKJhtByiYbQcomG0HKJhtByiYbQcomG0HKJhtByiYbQcomG0HKJhtByiYbQcomG0HKJhtByiYbQcomG0HKJhtByiYbQcomG0HKJhtByiYbQcomG0HKJhtByiYbQQ==",
          "dtype": "f4"
         },
         "z": {
          "bdata": "AAAAAD+6JV2FBNNdeS9jXirs1l7OczZf0T2OX+1hz19CXQ9gw/M9YKYcc2AhMZdgzpy3YD2G2mDTnf9gT0kTYU+JJ2GzZjxhp7hRYWRXZ2ERHH1hmG+JYbo9lGFh5Z5hDVSpYQt4s2GoQL1hYZ3GYSd/z2HF2Ndh6p3fYc3E5mEpRe1hchjzYVU7+GFhq/xhBDQAYsG5AWIw6AJiacEDYhZIBGL6fgRiXmkEYoEKBGKrZQNiXH4CYgVYAWIH7P9hUrj8YQYc+WEQ/vRhf3DwYTaf62FakuZhDlPhYfXp22GPYNZhZr/QYesNy2GgUsVhP5O/YXXUuWFaGrRhKWiuYarAqGHzJaNhSZmdYZYbmGGsrJJhckyNYdT5h2EetIJhEvR6YQaVcGFkSWZhUg9cYRfmUWFLzUdhX8U9YfzOM2Fs6ylhUhwgYeBjFmHpwwxhxz4DYYOs82DRGOFgMcXOYLy0vGAs6apgymOZYJIliGAUXW5g1vxMYFgpLGD74AtgS0PYX+PTmV/D5Thf5fm5Xg==",
          "dtype": "f4"
         }
        },
        {
         "line": {
          "cmax": 611586436859611300000,
          "cmin": -941527887222145000,
          "color": {
           "bdata": "AAAAAPkIKl1zg9VdUMlkXqj81148JzdfHa+OXwTqz1+sqg9gB0c+YN1wc2DBWJdgnr63YMme2mC5qf9ga0cTYU5+J2GyUTxhK5lRYXItZ2E06HxhPVGJYboblGG2wJ5h5y2pYa9Rs2F2G71hs3rGYU5gz2HqvtdhEIrfYbm35mFpP+1hPhrzYbBE+GH1u/xhoD8AYkzIAWIs+QJiTNQDYkdcBGLZkwRiVX4EYgUfBGI4eQNihpACYnRoAWJ1BABi6ND8YSgw+WEVDfVhGHrwYcWj62FXkuZh6E7hYSLi22F8VdZhfrHQYY39ymEsQMVhAH+/Ybe+uWFZA7RhH1CuYcOnqGFbDKNhI3+dYfsAmGG0kZJhOjGNYXDeh2GimIJhGb16YT1ecGHvEmZhZdlbYeewUWEGmUdhNpI9YSadM2EXuylhr+0fYR83FmEzmQxhRhYDYS1g82Bo0eBg8ILOYMd3vGCosapgzTGZYCz5h2B9D25ghbpMYEPyK2AXtQtg2QHYX8ComV8ivDhf9Oa5Xg==",
           "dtype": "f4"
          },
          "colorscale": [
           [
            0,
            "#440154"
           ],
           [
            0.1111111111111111,
            "#482878"
           ],
           [
            0.2222222222222222,
            "#3e4989"
           ],
           [
            0.3333333333333333,
            "#31688e"
           ],
           [
            0.4444444444444444,
            "#26828e"
           ],
           [
            0.5555555555555556,
            "#1f9e89"
           ],
           [
            0.6666666666666666,
            "#35b779"
           ],
           [
            0.7777777777777778,
            "#6ece58"
           ],
           [
            0.8888888888888888,
            "#b5de2b"
           ],
           [
            1,
            "#fde725"
           ]
          ],
          "showscale": false,
          "width": 4
         },
         "mode": "lines",
         "showlegend": false,
         "type": "scatter3d",
         "x": {
          "bdata": "AAAAALooDiy6KI4sFz3VLLooDi3osjEtFz1VLUbHeC26KI4t0e2fLeiysS0AeMMtFz3VLS4C5y1Gx/gtLkYFLrooDi5GCxcu0e0fLl3QKC7osjEudJU6LgB4Qy6LWkwuFz1VLqMfXi4uAmcuuuRvLkbHeC7p1IAuLkaFLnS3iS66KI4uAJqSLkYLly6LfJsu0e2fLhdfpC5d0Kguo0GtLuiysS4uJLYudJW6LroGvy4AeMMuRunHLotazC7Ry9AuFz3VLl2u2S6hH94u55DiLi0C5y5zc+suuOTvLv5V9C5Ex/guijj9LujUAC+LDQMvLkYFL9B+By90twkvFvALL7ooDi9cYRAv/5kSL6LSFC9FCxcv6EMZL4p8Gy8utR0v0O0fL3QmIi8WXyQvuZcmL1zQKC//CCsvokEtL0V6Ly/osjEvi+szLy4kNi/QXDgvdJU6LxbOPC+5Bj8vXD9BL/93Qy+isEUvRelHL+ghSi+LWkwvLpNOL9DLUC9zBFMvFj1VL7l1Vy9crlkv/+ZbLw==",
          "dtype": "f4"
         },
         "y": {
          "bdata": "Q2IeQUNiHkFDYh5BQ2IeQUNiHkFDYh5BQ2IeQUNiHkFDYh5BQ2IeQUNiHkFDYh5BQ2IeQUNiHkFDYh5BQ2IeQUNiHkFDYh5BQ2IeQUNiHkFDYh5BQ2IeQUNiHkFDYh5BQ2IeQUNiHkFDYh5BQ2IeQUNiHkFDYh5BQ2IeQUNiHkFDYh5BQ2IeQUNiHkFDYh5BQ2IeQUNiHkFDYh5BQ2IeQUNiHkFDYh5BQ2IeQUNiHkFDYh5BQ2IeQUNiHkFDYh5BQ2IeQUNiHkFDYh5BQ2IeQUNiHkFDYh5BQ2IeQUNiHkFDYh5BQ2IeQUNiHkFDYh5BQ2IeQUNiHkFDYh5BQ2IeQUNiHkFDYh5BQ2IeQUNiHkFDYh5BQ2IeQUNiHkFDYh5BQ2IeQUNiHkFDYh5BQ2IeQUNiHkFDYh5BQ2IeQUNiHkFDYh5BQ2IeQUNiHkFDYh5BQ2IeQUNiHkFDYh5BQ2IeQUNiHkFDYh5BQ2IeQUNiHkFDYh5BQ2IeQUNiHkFDYh5BQ2IeQUNiHkFDYh5BQ2IeQQ==",
          "dtype": "f4"
         },
         "z": {
          "bdata": "AAAAAPkIKl1zg9VdUMlkXqj81148JzdfHa+OXwTqz1+sqg9gB0c+YN1wc2DBWJdgnr63YMme2mC5qf9ga0cTYU5+J2GyUTxhK5lRYXItZ2E06HxhPVGJYboblGG2wJ5h5y2pYa9Rs2F2G71hs3rGYU5gz2HqvtdhEIrfYbm35mFpP+1hPhrzYbBE+GH1u/xhoD8AYkzIAWIs+QJiTNQDYkdcBGLZkwRiVX4EYgUfBGI4eQNihpACYnRoAWJ1BABi6ND8YSgw+WEVDfVhGHrwYcWj62FXkuZh6E7hYSLi22F8VdZhfrHQYY39ymEsQMVhAH+/Ybe+uWFZA7RhH1CuYcOnqGFbDKNhI3+dYfsAmGG0kZJhOjGNYXDeh2GimIJhGb16YT1ecGHvEmZhZdlbYeewUWEGmUdhNpI9YSadM2EXuylhr+0fYR83FmEzmQxhRhYDYS1g82Bo0eBg8ILOYMd3vGCosapgzTGZYCz5h2B9D25ghbpMYEPyK2AXtQtg2QHYX8ComV8ivDhf9Oa5Xg==",
          "dtype": "f4"
         }
        }
       ],
       "layout": {
        "height": 700,
        "scene": {
         "xaxis": {
          "autorange": "reversed",
          "title": {
           "text": "Mass (m)"
          }
         },
         "yaxis": {
          "title": {
           "text": "Time (t)"
          }
         },
         "zaxis": {
          "title": {
           "text": "n(m, t)"
          }
         }
        },
        "template": {
         "data": {
          "bar": [
           {
            "error_x": {
             "color": "#2a3f5f"
            },
            "error_y": {
             "color": "#2a3f5f"
            },
            "marker": {
             "line": {
              "color": "#E5ECF6",
              "width": 0.5
             },
             "pattern": {
              "fillmode": "overlay",
              "size": 10,
              "solidity": 0.2
             }
            },
            "type": "bar"
           }
          ],
          "barpolar": [
           {
            "marker": {
             "line": {
              "color": "#E5ECF6",
              "width": 0.5
             },
             "pattern": {
              "fillmode": "overlay",
              "size": 10,
              "solidity": 0.2
             }
            },
            "type": "barpolar"
           }
          ],
          "carpet": [
           {
            "aaxis": {
             "endlinecolor": "#2a3f5f",
             "gridcolor": "white",
             "linecolor": "white",
             "minorgridcolor": "white",
             "startlinecolor": "#2a3f5f"
            },
            "baxis": {
             "endlinecolor": "#2a3f5f",
             "gridcolor": "white",
             "linecolor": "white",
             "minorgridcolor": "white",
             "startlinecolor": "#2a3f5f"
            },
            "type": "carpet"
           }
          ],
          "choropleth": [
           {
            "colorbar": {
             "outlinewidth": 0,
             "ticks": ""
            },
            "type": "choropleth"
           }
          ],
          "contour": [
           {
            "colorbar": {
             "outlinewidth": 0,
             "ticks": ""
            },
            "colorscale": [
             [
              0,
              "#0d0887"
             ],
             [
              0.1111111111111111,
              "#46039f"
             ],
             [
              0.2222222222222222,
              "#7201a8"
             ],
             [
              0.3333333333333333,
              "#9c179e"
             ],
             [
              0.4444444444444444,
              "#bd3786"
             ],
             [
              0.5555555555555556,
              "#d8576b"
             ],
             [
              0.6666666666666666,
              "#ed7953"
             ],
             [
              0.7777777777777778,
              "#fb9f3a"
             ],
             [
              0.8888888888888888,
              "#fdca26"
             ],
             [
              1,
              "#f0f921"
             ]
            ],
            "type": "contour"
           }
          ],
          "contourcarpet": [
           {
            "colorbar": {
             "outlinewidth": 0,
             "ticks": ""
            },
            "type": "contourcarpet"
           }
          ],
          "heatmap": [
           {
            "colorbar": {
             "outlinewidth": 0,
             "ticks": ""
            },
            "colorscale": [
             [
              0,
              "#0d0887"
             ],
             [
              0.1111111111111111,
              "#46039f"
             ],
             [
              0.2222222222222222,
              "#7201a8"
             ],
             [
              0.3333333333333333,
              "#9c179e"
             ],
             [
              0.4444444444444444,
              "#bd3786"
             ],
             [
              0.5555555555555556,
              "#d8576b"
             ],
             [
              0.6666666666666666,
              "#ed7953"
             ],
             [
              0.7777777777777778,
              "#fb9f3a"
             ],
             [
              0.8888888888888888,
              "#fdca26"
             ],
             [
              1,
              "#f0f921"
             ]
            ],
            "type": "heatmap"
           }
          ],
          "histogram": [
           {
            "marker": {
             "pattern": {
              "fillmode": "overlay",
              "size": 10,
              "solidity": 0.2
             }
            },
            "type": "histogram"
           }
          ],
          "histogram2d": [
           {
            "colorbar": {
             "outlinewidth": 0,
             "ticks": ""
            },
            "colorscale": [
             [
              0,
              "#0d0887"
             ],
             [
              0.1111111111111111,
              "#46039f"
             ],
             [
              0.2222222222222222,
              "#7201a8"
             ],
             [
              0.3333333333333333,
              "#9c179e"
             ],
             [
              0.4444444444444444,
              "#bd3786"
             ],
             [
              0.5555555555555556,
              "#d8576b"
             ],
             [
              0.6666666666666666,
              "#ed7953"
             ],
             [
              0.7777777777777778,
              "#fb9f3a"
             ],
             [
              0.8888888888888888,
              "#fdca26"
             ],
             [
              1,
              "#f0f921"
             ]
            ],
            "type": "histogram2d"
           }
          ],
          "histogram2dcontour": [
           {
            "colorbar": {
             "outlinewidth": 0,
             "ticks": ""
            },
            "colorscale": [
             [
              0,
              "#0d0887"
             ],
             [
              0.1111111111111111,
              "#46039f"
             ],
             [
              0.2222222222222222,
              "#7201a8"
             ],
             [
              0.3333333333333333,
              "#9c179e"
             ],
             [
              0.4444444444444444,
              "#bd3786"
             ],
             [
              0.5555555555555556,
              "#d8576b"
             ],
             [
              0.6666666666666666,
              "#ed7953"
             ],
             [
              0.7777777777777778,
              "#fb9f3a"
             ],
             [
              0.8888888888888888,
              "#fdca26"
             ],
             [
              1,
              "#f0f921"
             ]
            ],
            "type": "histogram2dcontour"
           }
          ],
          "mesh3d": [
           {
            "colorbar": {
             "outlinewidth": 0,
             "ticks": ""
            },
            "type": "mesh3d"
           }
          ],
          "parcoords": [
           {
            "line": {
             "colorbar": {
              "outlinewidth": 0,
              "ticks": ""
             }
            },
            "type": "parcoords"
           }
          ],
          "pie": [
           {
            "automargin": true,
            "type": "pie"
           }
          ],
          "scatter": [
           {
            "fillpattern": {
             "fillmode": "overlay",
             "size": 10,
             "solidity": 0.2
            },
            "type": "scatter"
           }
          ],
          "scatter3d": [
           {
            "line": {
             "colorbar": {
              "outlinewidth": 0,
              "ticks": ""
             }
            },
            "marker": {
             "colorbar": {
              "outlinewidth": 0,
              "ticks": ""
             }
            },
            "type": "scatter3d"
           }
          ],
          "scattercarpet": [
           {
            "marker": {
             "colorbar": {
              "outlinewidth": 0,
              "ticks": ""
             }
            },
            "type": "scattercarpet"
           }
          ],
          "scattergeo": [
           {
            "marker": {
             "colorbar": {
              "outlinewidth": 0,
              "ticks": ""
             }
            },
            "type": "scattergeo"
           }
          ],
          "scattergl": [
           {
            "marker": {
             "colorbar": {
              "outlinewidth": 0,
              "ticks": ""
             }
            },
            "type": "scattergl"
           }
          ],
          "scattermap": [
           {
            "marker": {
             "colorbar": {
              "outlinewidth": 0,
              "ticks": ""
             }
            },
            "type": "scattermap"
           }
          ],
          "scattermapbox": [
           {
            "marker": {
             "colorbar": {
              "outlinewidth": 0,
              "ticks": ""
             }
            },
            "type": "scattermapbox"
           }
          ],
          "scatterpolar": [
           {
            "marker": {
             "colorbar": {
              "outlinewidth": 0,
              "ticks": ""
             }
            },
            "type": "scatterpolar"
           }
          ],
          "scatterpolargl": [
           {
            "marker": {
             "colorbar": {
              "outlinewidth": 0,
              "ticks": ""
             }
            },
            "type": "scatterpolargl"
           }
          ],
          "scatterternary": [
           {
            "marker": {
             "colorbar": {
              "outlinewidth": 0,
              "ticks": ""
             }
            },
            "type": "scatterternary"
           }
          ],
          "surface": [
           {
            "colorbar": {
             "outlinewidth": 0,
             "ticks": ""
            },
            "colorscale": [
             [
              0,
              "#0d0887"
             ],
             [
              0.1111111111111111,
              "#46039f"
             ],
             [
              0.2222222222222222,
              "#7201a8"
             ],
             [
              0.3333333333333333,
              "#9c179e"
             ],
             [
              0.4444444444444444,
              "#bd3786"
             ],
             [
              0.5555555555555556,
              "#d8576b"
             ],
             [
              0.6666666666666666,
              "#ed7953"
             ],
             [
              0.7777777777777778,
              "#fb9f3a"
             ],
             [
              0.8888888888888888,
              "#fdca26"
             ],
             [
              1,
              "#f0f921"
             ]
            ],
            "type": "surface"
           }
          ],
          "table": [
           {
            "cells": {
             "fill": {
              "color": "#EBF0F8"
             },
             "line": {
              "color": "white"
             }
            },
            "header": {
             "fill": {
              "color": "#C8D4E3"
             },
             "line": {
              "color": "white"
             }
            },
            "type": "table"
           }
          ]
         },
         "layout": {
          "annotationdefaults": {
           "arrowcolor": "#2a3f5f",
           "arrowhead": 0,
           "arrowwidth": 1
          },
          "autotypenumbers": "strict",
          "coloraxis": {
           "colorbar": {
            "outlinewidth": 0,
            "ticks": ""
           }
          },
          "colorscale": {
           "diverging": [
            [
             0,
             "#8e0152"
            ],
            [
             0.1,
             "#c51b7d"
            ],
            [
             0.2,
             "#de77ae"
            ],
            [
             0.3,
             "#f1b6da"
            ],
            [
             0.4,
             "#fde0ef"
            ],
            [
             0.5,
             "#f7f7f7"
            ],
            [
             0.6,
             "#e6f5d0"
            ],
            [
             0.7,
             "#b8e186"
            ],
            [
             0.8,
             "#7fbc41"
            ],
            [
             0.9,
             "#4d9221"
            ],
            [
             1,
             "#276419"
            ]
           ],
           "sequential": [
            [
             0,
             "#0d0887"
            ],
            [
             0.1111111111111111,
             "#46039f"
            ],
            [
             0.2222222222222222,
             "#7201a8"
            ],
            [
             0.3333333333333333,
             "#9c179e"
            ],
            [
             0.4444444444444444,
             "#bd3786"
            ],
            [
             0.5555555555555556,
             "#d8576b"
            ],
            [
             0.6666666666666666,
             "#ed7953"
            ],
            [
             0.7777777777777778,
             "#fb9f3a"
            ],
            [
             0.8888888888888888,
             "#fdca26"
            ],
            [
             1,
             "#f0f921"
            ]
           ],
           "sequentialminus": [
            [
             0,
             "#0d0887"
            ],
            [
             0.1111111111111111,
             "#46039f"
            ],
            [
             0.2222222222222222,
             "#7201a8"
            ],
            [
             0.3333333333333333,
             "#9c179e"
            ],
            [
             0.4444444444444444,
             "#bd3786"
            ],
            [
             0.5555555555555556,
             "#d8576b"
            ],
            [
             0.6666666666666666,
             "#ed7953"
            ],
            [
             0.7777777777777778,
             "#fb9f3a"
            ],
            [
             0.8888888888888888,
             "#fdca26"
            ],
            [
             1,
             "#f0f921"
            ]
           ]
          },
          "colorway": [
           "#636efa",
           "#EF553B",
           "#00cc96",
           "#ab63fa",
           "#FFA15A",
           "#19d3f3",
           "#FF6692",
           "#B6E880",
           "#FF97FF",
           "#FECB52"
          ],
          "font": {
           "color": "#2a3f5f"
          },
          "geo": {
           "bgcolor": "white",
           "lakecolor": "white",
           "landcolor": "#E5ECF6",
           "showlakes": true,
           "showland": true,
           "subunitcolor": "white"
          },
          "hoverlabel": {
           "align": "left"
          },
          "hovermode": "closest",
          "mapbox": {
           "style": "light"
          },
          "paper_bgcolor": "white",
          "plot_bgcolor": "#E5ECF6",
          "polar": {
           "angularaxis": {
            "gridcolor": "white",
            "linecolor": "white",
            "ticks": ""
           },
           "bgcolor": "#E5ECF6",
           "radialaxis": {
            "gridcolor": "white",
            "linecolor": "white",
            "ticks": ""
           }
          },
          "scene": {
           "xaxis": {
            "backgroundcolor": "#E5ECF6",
            "gridcolor": "white",
            "gridwidth": 2,
            "linecolor": "white",
            "showbackground": true,
            "ticks": "",
            "zerolinecolor": "white"
           },
           "yaxis": {
            "backgroundcolor": "#E5ECF6",
            "gridcolor": "white",
            "gridwidth": 2,
            "linecolor": "white",
            "showbackground": true,
            "ticks": "",
            "zerolinecolor": "white"
           },
           "zaxis": {
            "backgroundcolor": "#E5ECF6",
            "gridcolor": "white",
            "gridwidth": 2,
            "linecolor": "white",
            "showbackground": true,
            "ticks": "",
            "zerolinecolor": "white"
           }
          },
          "shapedefaults": {
           "line": {
            "color": "#2a3f5f"
           }
          },
          "ternary": {
           "aaxis": {
            "gridcolor": "white",
            "linecolor": "white",
            "ticks": ""
           },
           "baxis": {
            "gridcolor": "white",
            "linecolor": "white",
            "ticks": ""
           },
           "bgcolor": "#E5ECF6",
           "caxis": {
            "gridcolor": "white",
            "linecolor": "white",
            "ticks": ""
           }
          },
          "title": {
           "x": 0.05
          },
          "xaxis": {
           "automargin": true,
           "gridcolor": "white",
           "linecolor": "white",
           "ticks": "",
           "title": {
            "standoff": 15
           },
           "zerolinecolor": "white",
           "zerolinewidth": 2
          },
          "yaxis": {
           "automargin": true,
           "gridcolor": "white",
           "linecolor": "white",
           "ticks": "",
           "title": {
            "standoff": 15
           },
           "zerolinecolor": "white",
           "zerolinewidth": 2
          }
         }
        },
        "title": {
         "text": ""
        },
        "width": 700
       }
      }
     },
     "metadata": {},
     "output_type": "display_data"
    },
    {
     "data": {
      "image/png": "[encoded data removed]",
      "text/plain": [
       "<Figure size 1000x600 with 3 Axes>"
      ]
     },
     "metadata": {},
     "output_type": "display_data"
    },
    {
     "data": {
      "image/png": "[encoded data removed]",
      "text/plain": [
       "<Figure size 1200x400 with 2 Axes>"
      ]
     },
     "metadata": {},
     "output_type": "display_data"
    }
   ],
   "source": [
    "#plotting\n",
    "n_true = torch.tensor(Dataset_validation[0][\"n\"].T, dtype=torch.float32)   # (T, M)\n",
    "S_true = torch.tensor(Dataset_validation[0][\"S\"], dtype=torch.float32)     # (T,)\n",
    "\n",
    "err_n = torch.norm(n_pred - n_true) / torch.norm(n_true)\n",
    "err_S = torch.norm(S_pred - S_true) / torch.norm(S_true)\n",
    "\n",
    "print(f\"Relative error biomass: {err_n:.3e}\")\n",
    "print(f\"Relative error substrate: {err_S:.3e}\")\n",
    "\n",
    "# -----------------------------\n",
    "# 6. Plot results\n",
    "# -----------------------------\n",
    "plot_spaghetti(m,t_eval, n_pred.detach().numpy().T)\n",
    "fig, axes = plt.subplots(1, 2, figsize=(10,6))\n",
    "\n",
    "# (1a) Biomass + substrate trajectories\n",
    "biomass_pred = (n_pred * m) .sum(dim=1) * delta_m   # shape (T,)\n",
    "biomass_true = (n_true * m).sum(dim=1) * delta_m   # shape (T,)\n",
    "ax = axes[0]\n",
    "ax.plot(biomass_pred.numpy(), label=\"Predicted biomass\", linestyle=\"--\")\n",
    "ax.plot(biomass_true.numpy(), label=\"True biomass\", linestyle=\":\")\n",
    "ax.plot(S_pred.numpy(), label=\"Predicted substrate\")\n",
    "ax.plot(S_true.numpy(), label=\"True substrate\", linestyle=\"--\")\n",
    "ax.set_xlabel(\"Time step\")\n",
    "ax.set_ylabel(\"Value\")\n",
    "ax.set_title(\"Biomass and substrate trajectories\")\n",
    "ax.legend()\n",
    "\n",
    "# (1b) Relative error heatmap\n",
    "ax = axes[1]\n",
    "eps = 1e-12\n",
    "rel_err_matrix = ((n_pred - n_true) / (n_true + eps)).detach().cpu().numpy()\n",
    "im = ax.imshow(rel_err_matrix.T, aspect=\"auto\", origin=\"lower\",\n",
    "               extent=[0, T_val, m[0].item(), m[-1].item()],\n",
    "               cmap=\"bwr\", vmin=-0.5, vmax=0.5)\n",
    "fig.colorbar(im, ax=ax, label=\"Relative error\")\n",
    "ax.set_xlabel(\"Time step\")\n",
    "ax.set_ylabel(\"Mass m\")\n",
    "ax.set_title(\"Relative error of biomass distribution\")\n",
    "\n",
    "plt.tight_layout()\n",
    "plt.show()\n",
    "\n",
    "\n",
    "# -----------------------------\n",
    "# FIGURE 2: Singular values + Cumulative energy\n",
    "# -----------------------------\n",
    "fig, axes = plt.subplots(1, 2, figsize=(12, 4))\n",
    "\n",
    "# (2a) Singular values\n",
    "ax = axes[0]\n",
    "ax.semilogy(S.numpy(), 'o-')\n",
    "ax.axvline(r, color=\"red\", linestyle=\"--\", label=f\"r={r}\")\n",
    "ax.set_xlabel(\"Singular value index\")\n",
    "ax.set_ylabel(\"Singular value (log scale)\")\n",
    "ax.set_title(\"Singular values of X\")\n",
    "ax.legend()\n",
    "\n",
    "# (2b) Cumulative singular value energy\n",
    "ax = axes[1]\n",
    "sing_energy = torch.cumsum(S, dim=0) / torch.sum(S)\n",
    "ax.plot(sing_energy.numpy(), 'o-', label=\"Cumulative energy\")\n",
    "ax.axvline(r, color=\"blue\", linestyle=\"--\", label=f\"r={r}\")\n",
    "ax.set_xlabel(\"Number of singular values kept (r)\")\n",
    "ax.set_ylabel(\"Cumulative energy\")\n",
    "ax.set_title(\"Cumulative energy of singular values\")\n",
    "ax.legend()\n",
    "\n",
    "plt.tight_layout()\n",
    "plt.show()\n",
    "\n"
   ]
  },
  {
   "cell_type": "markdown",
   "id": "8d8750fa",
   "metadata": {},
   "source": [
    "## Error evaluation Extended DMD\n",
    "in this part we will perform the same evaluation, as for DMD, but use the EDMD instead\n"
   ]
  },
  {
   "cell_type": "code",
   "execution_count": 40,
   "id": "7f9a8193",
   "metadata": {},
   "outputs": [
    {
     "name": "stdout",
     "output_type": "stream",
     "text": [
      "initial_biomass       0.425     1.075     1.725     2.375     3.025     3.675\n",
      "initial_substrate                                                            \n",
      "0.333333           0.481117  0.187502  0.298762  0.389752  0.437920  0.494803\n",
      "1.000000           0.255267  0.148700  0.307770  0.345323  0.301607  0.213255\n",
      "1.666667           0.130388  0.246675  0.359196  0.354962  0.274044  0.161801\n",
      "2.333333           0.121322  0.316081  0.376542  0.321357  0.191834  0.115251\n",
      "3.000000           0.177430  0.368563  0.371135  0.252989  0.084889  0.270792\n",
      "3.666667           0.271344  0.438627  0.373339  0.176896  0.182213  0.527035\n"
     ]
    },
    {
     "data": {
      "image/png": "[encoded data removed]",
      "text/plain": [
       "<Figure size 1800x500 with 6 Axes>"
      ]
     },
     "metadata": {},
     "output_type": "display_data"
    }
   ],
   "source": [
    "def edmd_rollout(entry, K_tilde, n_max, S_max, U_r, feature_fn, degree=3, delta_m=None, m=None):\n",
    "    \"\"\"\n",
    "    Perform an EDMD rollout for one dataset entry.\n",
    "\n",
    "    Parameters\n",
    "    ----------\n",
    "    entry : dict\n",
    "        One dataset entry containing:\n",
    "        - \"n\": biomass array (M x T)\n",
    "        - \"S\": substrate array (T,)\n",
    "    K_tilde : torch.Tensor\n",
    "        Reduced EDMD operator (r x r).\n",
    "    n_max : float\n",
    "        Normalization factor for biomass.\n",
    "    S_max : float\n",
    "        Normalization factor for substrate.\n",
    "    U_r : torch.Tensor\n",
    "        Reduced basis (columns are singular vectors).\n",
    "    feature_fn : function\n",
    "        Function mapping X -> Phi(X) (the feature map).\n",
    "    degree : int\n",
    "        Polynomial degree (if applicable for feature_fn).\n",
    "    delta_m : float, optional\n",
    "        Mass grid spacing (needed if biomass error is requested).\n",
    "    m : torch.Tensor, optional\n",
    "        Mass grid vector (needed if biomass error is requested).\n",
    "\n",
    "    Returns\n",
    "    -------\n",
    "    n_pred : torch.Tensor (T, M)\n",
    "        Predicted biomass distribution.\n",
    "    S_pred : torch.Tensor (T,)\n",
    "        Predicted substrate trajectory.\n",
    "    err_dist : float\n",
    "        Relative distribution error.\n",
    "    err_biomass : float\n",
    "        Relative biomass error.\n",
    "    err_S : float\n",
    "        Relative substrate error.\n",
    "    \"\"\"\n",
    "\n",
    "    n_true = torch.tensor(entry[\"n\"].T, dtype=torch.float32)   # (T, M)\n",
    "    S_true = torch.tensor(entry[\"S\"], dtype=torch.float32)     # (T,)\n",
    "    T, M = n_true.shape\n",
    "\n",
    "    # initial condition\n",
    "    n0 = n_true[0]\n",
    "    S0 = S_true[0]\n",
    "\n",
    "    # normalize\n",
    "    x0_norm = torch.cat([n0 / n_max, (S0 / S_max).unsqueeze(0)], dim=0)  # (M+1,)\n",
    "\n",
    "    # lift initial condition\n",
    "    phi0 = feature_fn(x0_norm.unsqueeze(0), degree=degree).squeeze(0)  # (feature_dim,)\n",
    "\n",
    "    # project into reduced space\n",
    "    z0 = U_r.T @ phi0\n",
    "    z_pred = torch.zeros((T, len(z0)))\n",
    "    z_pred[0] = z0\n",
    "\n",
    "    # rollout\n",
    "    for k in range(T - 1):\n",
    "        z_pred[k+1] = K_tilde @ z_pred[k]\n",
    "\n",
    "    # lift back\n",
    "    Phi_pred = (U_r @ z_pred.T).T   # (T, feature_dim)\n",
    "\n",
    "    # extract predictions from features (assuming [n, S, interactions...])\n",
    "    n_pred = Phi_pred[:, :M] * n_max\n",
    "    S_pred = Phi_pred[:, M] * S_max\n",
    "\n",
    "    # --- Error metrics ---\n",
    "    eps = 1e-12\n",
    "    n_pred = n_pred.to(torch.float64)\n",
    "    n_true = n_true.to(torch.float64)\n",
    "\n",
    "    # distribution error\n",
    "    err_dist = torch.norm(n_pred - n_true) / (torch.norm(n_true) + eps)\n",
    "\n",
    "    # biomass error (requires m, delta_m)\n",
    "    if (m is not None) and (delta_m is not None):\n",
    "        err_biomass = torch.norm((n_pred - n_true) * m * delta_m) / \\\n",
    "                      (torch.norm(n_true * m * delta_m) + eps)\n",
    "    else:\n",
    "        err_biomass = float(\"nan\")\n",
    "\n",
    "    # substrate error\n",
    "    err_S = torch.norm(S_pred - S_true) / (torch.norm(S_true) + eps)\n",
    "\n",
    "    return n_pred, S_pred, err_dist.item(), err_biomass.item(), err_S.item()\n",
    "\n",
    "# --- Run EDMD rollout over all validation datasets ---\n",
    "results_edmd = []\n",
    "\n",
    "for idx, entry in Dataset_error_est.items():\n",
    "    n_pred, S_pred, err_dist, err_biomass, err_S = edmd_rollout(\n",
    "        entry,\n",
    "        K_tilde,           # reduced EDMD operator\n",
    "        n_max, S_max,\n",
    "        U_r,               # reduced basis\n",
    "        feature_fn=EDMD_feature_space,  # <-- your feature function\n",
    "        degree=degree,  # polynomial degree for the feature space used in training\n",
    "        delta_m=delta_m,\n",
    "        m=m\n",
    "    )\n",
    "\n",
    "    results_edmd.append({\n",
    "        \"id\": idx,\n",
    "        \"initial_biomass\": entry[\"initial biomass\"],\n",
    "        \"initial_substrate\": entry[\"initial_substrate\"],\n",
    "        \"err_dist\": err_dist,\n",
    "        \"err_biomass\": err_biomass,\n",
    "        \"err_S\": err_S\n",
    "    })\n",
    "\n",
    "# --- Put into DataFrame ---\n",
    "df_edmd = pd.DataFrame(results_edmd)\n",
    "# print(df_edmd.head())\n",
    "# print(\"\\nError statistics:\")\n",
    "# print(df_edmd[[\"err_dist\", \"err_biomass\", \"err_S\"]].describe())\n",
    "\n",
    "# --- Aggregate across replicates (mean + std) ---\n",
    "pivot_dist_mean = df_edmd.pivot_table(\n",
    "    index=\"initial_substrate\", columns=\"initial_biomass\",\n",
    "    values=\"err_dist\", aggfunc=\"mean\"\n",
    ")\n",
    "pivot_S_mean = df_edmd.pivot_table(\n",
    "    index=\"initial_substrate\", columns=\"initial_biomass\",\n",
    "    values=\"err_S\", aggfunc=\"mean\"\n",
    ")\n",
    "print(pivot_S_mean)\n",
    "\n",
    "pivot_dist_std = df_edmd.pivot_table(\n",
    "    index=\"initial_substrate\", columns=\"initial_biomass\",\n",
    "    values=\"err_dist\", aggfunc=\"std\"\n",
    ")\n",
    "pivot_S_std = df_edmd.pivot_table(\n",
    "    index=\"initial_substrate\", columns=\"initial_biomass\",\n",
    "    values=\"err_S\", aggfunc=\"std\"\n",
    ")\n",
    "\n",
    "# --- Aggregate biomass + substrate error together (normalized) ---\n",
    "df_edmd[\"err_combined\"] = (\n",
    "    df_edmd[\"err_biomass\"] / df_edmd[\"err_biomass\"].max()\n",
    "    + df_edmd[\"err_S\"] / df_edmd[\"err_S\"].max()\n",
    ")\n",
    "\n",
    "pivot_comb_mean = df_edmd.pivot_table(\n",
    "    index=\"initial_substrate\", columns=\"initial_biomass\",\n",
    "    values=\"err_combined\", aggfunc=\"mean\"\n",
    ")\n",
    "\n",
    "# --- Plot all three heatmaps ---\n",
    "fig, axes = plt.subplots(1, 3, figsize=(18,5))\n",
    "\n",
    "# (1) Distribution error\n",
    "im1 = axes[0].imshow(pivot_dist_mean.values, origin=\"lower\", aspect=\"auto\",\n",
    "                     extent=[pivot_dist_mean.columns.min(), pivot_dist_mean.columns.max(),\n",
    "                             pivot_dist_mean.index.min(), pivot_dist_mean.index.max()],\n",
    "                     cmap=\"viridis\")\n",
    "axes[0].set_title(\"Distribution error (mean)\")\n",
    "axes[0].set_xlabel(\"Initial biomass B0\")\n",
    "axes[0].set_ylabel(\"Initial substrate S0\")\n",
    "fig.colorbar(im1, ax=axes[0], label=\"err_dist\")\n",
    "\n",
    "# (2) Substrate error\n",
    "im2 = axes[1].imshow(pivot_S_mean.values, origin=\"lower\", aspect=\"auto\",\n",
    "                     extent=[pivot_S_mean.columns.min(), pivot_S_mean.columns.max(),\n",
    "                             pivot_S_mean.index.min(), pivot_S_mean.index.max()],\n",
    "                     cmap=\"plasma\")\n",
    "axes[1].set_title(\"Substrate error (mean)\")\n",
    "axes[1].set_xlabel(\"Initial biomass B0\")\n",
    "axes[1].set_ylabel(\"Initial substrate S0\")\n",
    "fig.colorbar(im2, ax=axes[1], label=\"err_S\")\n",
    "\n",
    "# (3) Combined biomass + substrate error\n",
    "im3 = axes[2].imshow(pivot_comb_mean.values, origin=\"lower\", aspect=\"auto\",\n",
    "                     extent=[pivot_comb_mean.columns.min(), pivot_comb_mean.columns.max(),\n",
    "                             pivot_comb_mean.index.min(), pivot_comb_mean.index.max()],\n",
    "                     cmap=\"inferno\")\n",
    "axes[2].set_title(\"Combined biomass + substrate error\")\n",
    "axes[2].set_xlabel(\"Initial biomass B0\")\n",
    "axes[2].set_ylabel(\"Initial substrate S0\")\n",
    "fig.colorbar(im3, ax=axes[2], label=\"err_combined\")\n",
    "\n",
    "plt.tight_layout()\n",
    "plt.show()\n",
    "\n",
    "\n"
   ]
  }
 ],
 "metadata": {
  "kernelspec": {
   "display_name": ".venv",
   "language": "python",
   "name": "python3"
  },
  "language_info": {
   "codemirror_mode": {
    "name": "ipython",
    "version": 3
   },
   "file_extension": ".py",
   "mimetype": "text/x-python",
   "name": "python",
   "nbconvert_exporter": "python",
   "pygments_lexer": "ipython3",
   "version": "3.10.5"
  }
 },
 "nbformat": 4,
 "nbformat_minor": 5
}
